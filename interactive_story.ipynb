{
 "cells": [
  {
   "cell_type": "markdown",
   "id": "fddd22fe",
   "metadata": {},
   "source": [
    "# Interactive Story"
   ]
  },
  {
   "cell_type": "code",
   "execution_count": null,
   "id": "99c8bf09",
   "metadata": {},
   "outputs": [],
   "source": [
    "story = [{'character': 'Alice', 'text': 'import os\\nimport argparse\\nfrom difflib import SequenceMatcher\\nfrom itertools import cycle\\nimport nbformat\\nfrom nbformat.v4 import new_notebook, new_markdown_cell, new_code_cell\\nimport subprocess', 'image': 'https://placehold.co/600x400?text=Image+0', 'audio': 'https://example.com/audio0.mp3'}, {'character': 'Bob', 'text': 'def collect_blocks(root, limit=None):\\n    \"\"\"Traverse directory and collect text blocks, removing duplicates and similar blocks.\"\"\"\\n    blocks = []\\n    for dirpath, _, filenames in os.walk(root):\\n        for name in filenames:\\n            if name.lower().endswith((\".md\", \".txt\", \".py\")):\\n                path = os.path.join(dirpath, name)\\n                try:\\n                    with open(path, \"r\", encoding=\"utf-8\", errors=\"ignore\") as f:\\n                        content = f.read()\\n                except Exception:\\n                    continue\\n                paragraphs = [p.strip() for p in content.split(\"\\\\n\\\\n\") if p.strip()]\\n                blocks.extend(paragraphs)\\n                if limit and len(blocks) >= limit:\\n                    blocks = blocks[:limit]\\n                    break\\n        if limit and len(blocks) >= limit:\\n            break\\n    return simplify_blocks(blocks)', 'image': 'https://placehold.co/600x400?text=Image+1', 'audio': 'https://example.com/audio1.mp3'}, {'character': 'Charlie', 'text': 'def simplify_blocks(blocks, threshold=0.9):\\n    \"\"\"Remove duplicate or highly similar blocks.\"\"\"\\n    unique = []\\n    for block in blocks:\\n        if not any(SequenceMatcher(None, block, u).ratio() >= threshold for u in unique):\\n            unique.append(block)\\n    return unique', 'image': 'https://placehold.co/600x400?text=Image+2', 'audio': 'https://example.com/audio2.mp3'}, {'character': 'Dana', 'text': 'def create_story(blocks):\\n    characters = [\"Alice\", \"Bob\", \"Charlie\", \"Dana\"]\\n    images = [f\"https://placehold.co/600x400?text=Image+{i}\" for i in range(len(blocks))]\\n    audios = [f\"https://example.com/audio{i}.mp3\" for i in range(len(blocks))]\\n    story = []\\n    char_cycle = cycle(characters)\\n    for i, block in enumerate(blocks):\\n        story.append(\\n            {\\n                \"character\": next(char_cycle),\\n                \"text\": block,\\n                \"image\": images[i],\\n                \"audio\": audios[i],\\n            }\\n        )\\n    return story', 'image': 'https://placehold.co/600x400?text=Image+3', 'audio': 'https://example.com/audio3.mp3'}, {'character': 'Alice', 'text': 'def build_notebook(story, out_path):\\n    nb = new_notebook()\\n    nb.cells.append(new_markdown_cell(\"# Interactive Story\"))\\n    nb.cells.append(new_code_cell(\"story = {}\".format(repr(story))))\\n    navigation_code = \"\"\"\\nimport ipywidgets as widgets\\nfrom IPython.display import display, Markdown\\nindex = 0\\nout = widgets.Output()', 'image': 'https://placehold.co/600x400?text=Image+4', 'audio': 'https://example.com/audio4.mp3'}]"
   ]
  },
  {
   "cell_type": "code",
   "execution_count": null,
   "id": "442b7822",
   "metadata": {},
   "outputs": [],
   "source": [
    "\n",
    "import ipywidgets as widgets\n",
    "from IPython.display import display, Markdown\n",
    "index = 0\n",
    "out = widgets.Output()\n",
    "\n",
    "def show(i):\n",
    "    block = story[i]\n",
    "    md = f\"### {block['character']}\\n![]({block['image']})\\n[Audio]({block['audio']})\\n\\n{block['text']}\"\n",
    "    with out:\n",
    "        out.clear_output()\n",
    "        display(Markdown(md))\n",
    "\n",
    "show(index)\n",
    "\n",
    "def next_block(_):\n",
    "    global index\n",
    "    if index < len(story) - 1:\n",
    "        index += 1\n",
    "        show(index)\n",
    "\n",
    "def prev_block(_):\n",
    "    global index\n",
    "    if index > 0:\n",
    "        index -= 1\n",
    "        show(index)\n",
    "\n",
    "next_btn = widgets.Button(description='Next')\n",
    "prev_btn = widgets.Button(description='Previous')\n",
    "next_btn.on_click(next_block)\n",
    "prev_btn.on_click(prev_block)\n",
    "display(widgets.HBox([prev_btn, next_btn]), out)\n"
   ]
  }
 ],
 "metadata": {},
 "nbformat": 4,
 "nbformat_minor": 5
}
