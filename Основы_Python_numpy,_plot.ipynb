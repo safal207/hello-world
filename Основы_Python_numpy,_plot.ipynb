{
  "nbformat": 4,
  "nbformat_minor": 0,
  "metadata": {
    "colab": {
      "name": "Основы Python: numpy, plot",
      "provenance": [],
      "collapsed_sections": [],
      "include_colab_link": true
    },
    "kernelspec": {
      "name": "python3",
      "display_name": "Python 3"
    }
  },
  "cells": [
    {
      "cell_type": "markdown",
      "metadata": {
        "id": "view-in-github",
        "colab_type": "text"
      },
      "source": [
        "<a href=\"https://colab.research.google.com/github/safal207/hello-world/blob/master/%D0%9E%D1%81%D0%BD%D0%BE%D0%B2%D1%8B_Python_numpy%2C_plot.ipynb\" target=\"_parent\"><img src=\"https://colab.research.google.com/assets/colab-badge.svg\" alt=\"Open In Colab\"/></a>"
      ]
    },
    {
      "cell_type": "markdown",
      "metadata": {
        "id": "UfmBTgfeXsw8"
      },
      "source": [
        "### Задание №1"
      ]
    },
    {
      "cell_type": "markdown",
      "metadata": {
        "id": "DQKi5R2iYphJ"
      },
      "source": [
        "1. Попросите пользователя ввести его имя и сохраните введенные данные в переменной name (используйте функцию input())\n",
        "\n",
        "2. Попросите пользователя ввести его фамилию и сохраните введенные данные в переменной surname (используйте функцию input())\n",
        "\n",
        "3. Попросите пользователя ввести его возраст и сохраните введенные данные в переменной age (используйте функцию input())\n",
        "\n",
        "4. Выведите на экран следующую строку: \"Новый пользователь: Иванов Иван Возраст: 32\" (используйте функцию print() для вывода информации)\n",
        "\n",
        "Вместо Иванов Иван и 32 должна быть информация, введенная пользователем.\n"
      ]
    },
    {
      "cell_type": "code",
      "metadata": {
        "id": "gCnBiBvGSgkz",
        "colab": {
          "base_uri": "https://localhost:8080/"
        },
        "outputId": "8f13583a-2887-4be4-8294-1a99496559d5"
      },
      "source": [
        "# Ваше рещение\n",
        "name = input('Введите имя: ')\n",
        "surname = input('Введите фамилию: ')\n",
        "age = input('Введите возраст: ')\n",
        "print('Новый пользователь: '+surname+' '+ name +' ' + 'Возраст: ' + age )"
      ],
      "execution_count": 3,
      "outputs": [
        {
          "output_type": "stream",
          "text": [
            "Введите имя: sdad\n",
            "Введите фамилию: asd\n",
            "Введите возраст: 22\n",
            "Новый пользователь: asd sdad Возраст: 22\n"
          ],
          "name": "stdout"
        }
      ]
    },
    {
      "cell_type": "markdown",
      "metadata": {
        "id": "4jHn1JeOVdws"
      },
      "source": [
        "### Задание №2"
      ]
    },
    {
      "cell_type": "markdown",
      "metadata": {
        "id": "w6EE03IAZsCz"
      },
      "source": [
        "\n",
        "1. Создайте список, состоящий из последовательности календарных месяцев (Январь, Февраль, Март и т.д.)\n",
        "\n",
        "2. Попросите пользователя ввести число от 1 до 12 и сохраните введенные данные в переменной с именем value  (используйте функцию input(), а также функцию преобразования типа данных к целому числу int())\n",
        "\n",
        "3. Выведите на экран сообщение: \"Месяц с порядковым номером 3 - Март\" (Здесь вместо цифры 3 должна быть цифра, введенная пользователем, а вместо Март - соответствующий месяц)"
      ]
    },
    {
      "cell_type": "code",
      "metadata": {
        "colab": {
          "base_uri": "https://localhost:8080/"
        },
        "id": "YonrqyeEhkok",
        "outputId": "9a7006a2-e6fa-4948-945d-24a00ee03161"
      },
      "source": [
        "myList = ['яНВАРЬ', '2', '3', '4', '5', '6','7','8','9','10','11','12']\n",
        "myList.index('яНВАРЬ')"
      ],
      "execution_count": 27,
      "outputs": [
        {
          "output_type": "execute_result",
          "data": {
            "text/plain": [
              "0"
            ]
          },
          "metadata": {
            "tags": []
          },
          "execution_count": 27
        }
      ]
    },
    {
      "cell_type": "code",
      "metadata": {
        "id": "Z6KAOGExZk20",
        "colab": {
          "base_uri": "https://localhost:8080/"
        },
        "outputId": "dce162fe-0c7b-492e-f768-2f78ba08b9cb"
      },
      "source": [
        "# Ваше решение\n",
        "import numpy as np\n",
        "list = ['Январь', 'Февраль', 'Март', 'Апрель', 'Май', 'Июнь', 'Июль', 'Август', 'Сентябрь', 'Октябрь', 'Ноябрь', 'Декабрь' ]\n",
        "value = int(input('Введите число от 1 до 12 '))\n",
        "print('Месяц с порядковым номером ' +str(value) +'-'+list[value-1])\n",
        "\n",
        "\n"
      ],
      "execution_count": 1,
      "outputs": [
        {
          "output_type": "stream",
          "text": [
            "Введите число от 1 до 12 4\n",
            "Месяц с порядковым номером 4-Апрель\n"
          ],
          "name": "stdout"
        }
      ]
    },
    {
      "cell_type": "markdown",
      "metadata": {
        "id": "AR_Ifp7kdzVM"
      },
      "source": [
        "### Задание 3"
      ]
    },
    {
      "cell_type": "markdown",
      "metadata": {
        "id": "0WM_bnb_gQ1l"
      },
      "source": [
        "1. Создайте список, который содержит следующие значения: [1, 5, 23, 63, 2, 108, 54, 7, 6, 1, 56].\n",
        "\n",
        "2. Напишите программу, которая с помощью цикла for найдет и выведет на экран все значения меньше 54 (используйте конструкцию цикла for in, а также функцию print() для вывода информации на экран)"
      ]
    },
    {
      "cell_type": "code",
      "metadata": {
        "id": "ydDXuW2za-sO",
        "colab": {
          "base_uri": "https://localhost:8080/"
        },
        "outputId": "ae3f4a75-56c3-4680-8b66-8ef64823638a"
      },
      "source": [
        "# Ваше решение\n",
        "list_1 = [1, 5, 23, 63, 2, 108, 54, 7, 6, 1, 56]\n",
        "list_2 = []     \n",
        "\n",
        "for i in list_1:\n",
        "  if i < 54:\n",
        "    #print (i)\n",
        "    list_2.append(i)     \n",
        "list_2\n"
      ],
      "execution_count": 41,
      "outputs": [
        {
          "output_type": "execute_result",
          "data": {
            "text/plain": [
              "[1, 5, 23, 2, 7, 6, 1]"
            ]
          },
          "metadata": {
            "tags": []
          },
          "execution_count": 41
        }
      ]
    },
    {
      "cell_type": "markdown",
      "metadata": {
        "id": "fta7u-v0hUp8"
      },
      "source": [
        "### Задание 4"
      ]
    },
    {
      "cell_type": "markdown",
      "metadata": {
        "id": "ec-SpIV8hXsa"
      },
      "source": [
        "1. Используя список, который вы получили на предыдущем шаге, сформируйте из него numpy-массив (воспользуйтесь способом создания numpy-массивов из списка)\n",
        "\n",
        "2. Выведите на экран произведение первого и последнего элементов массива (воспользуйтесь индексацией элементов списка)\n",
        "\n",
        "3. Выведите на экран сумму максимального и минимального элементов списка (используйте функции .min() и .max() для поиска соответствующих значений)"
      ]
    },
    {
      "cell_type": "code",
      "metadata": {
        "id": "vrvTcsQGhUAg",
        "colab": {
          "base_uri": "https://localhost:8080/"
        },
        "outputId": "f18ebfdd-5781-4481-fe1c-faf9bd3a2a37"
      },
      "source": [
        "# Ваше решение\n",
        "#Используя список, который вы получили на предыдущем шаге, сформируйте из него numpy-массив (воспользуйтесь способом создания numpy-массивов из списка)\n",
        "\n",
        "import numpy as np # Подключаем библиотеку numpy\n",
        "list_2 = np.array(list_2)\n",
        "list_2\n"
      ],
      "execution_count": 42,
      "outputs": [
        {
          "output_type": "execute_result",
          "data": {
            "text/plain": [
              "array([ 1,  5, 23,  2,  7,  6,  1])"
            ]
          },
          "metadata": {
            "tags": []
          },
          "execution_count": 42
        }
      ]
    },
    {
      "cell_type": "code",
      "metadata": {
        "colab": {
          "base_uri": "https://localhost:8080/"
        },
        "id": "oWNbxFQgSsXf",
        "outputId": "e0237b5e-a1bc-442c-a26f-ef6c1b6b9412"
      },
      "source": [
        "list_2[0] # первый элемент списка"
      ],
      "execution_count": 47,
      "outputs": [
        {
          "output_type": "execute_result",
          "data": {
            "text/plain": [
              "1"
            ]
          },
          "metadata": {
            "tags": []
          },
          "execution_count": 47
        }
      ]
    },
    {
      "cell_type": "code",
      "metadata": {
        "colab": {
          "base_uri": "https://localhost:8080/"
        },
        "id": "8brtHU54R9Mn",
        "outputId": "fad706c0-7c38-4428-86c2-e6882ab9bbdc"
      },
      "source": [
        "#Индекс последнего элемента списка -1 . так как начинаем считать с 0\n",
        "(len(list_2) - 1)  "
      ],
      "execution_count": 53,
      "outputs": [
        {
          "output_type": "execute_result",
          "data": {
            "text/plain": [
              "6"
            ]
          },
          "metadata": {
            "tags": []
          },
          "execution_count": 53
        }
      ]
    },
    {
      "cell_type": "code",
      "metadata": {
        "colab": {
          "base_uri": "https://localhost:8080/"
        },
        "id": "ehMue81KSZdN",
        "outputId": "fb183467-6433-449c-ca5f-8153ca8b8144"
      },
      "source": [
        "list_2[6]"
      ],
      "execution_count": 51,
      "outputs": [
        {
          "output_type": "execute_result",
          "data": {
            "text/plain": [
              "1"
            ]
          },
          "metadata": {
            "tags": []
          },
          "execution_count": 51
        }
      ]
    },
    {
      "cell_type": "code",
      "metadata": {
        "colab": {
          "base_uri": "https://localhost:8080/"
        },
        "id": "JjRpdDamTLb3",
        "outputId": "dd56755d-2625-4049-91c2-7f5186a66946"
      },
      "source": [
        "#2.Выведите на экран произведение первого и последнего элементов массива (воспользуйтесь индексацией элементов списка)\n",
        "list_2[0]* list_2[(len(list_2) -1)]"
      ],
      "execution_count": 55,
      "outputs": [
        {
          "output_type": "execute_result",
          "data": {
            "text/plain": [
              "1"
            ]
          },
          "metadata": {
            "tags": []
          },
          "execution_count": 55
        }
      ]
    },
    {
      "cell_type": "code",
      "metadata": {
        "colab": {
          "base_uri": "https://localhost:8080/"
        },
        "id": "vb-jifB7TrnW",
        "outputId": "7b2fb36e-97a0-49cc-9291-d45bc3ba6cc2"
      },
      "source": [
        "#3. Выведите на экран сумму максимального и минимального элементов списка\n",
        "# (используйте функции .min() и .max() для поиска соответствующих значений)\n",
        "list_2.min() + list_2.max()"
      ],
      "execution_count": 59,
      "outputs": [
        {
          "output_type": "execute_result",
          "data": {
            "text/plain": [
              "24"
            ]
          },
          "metadata": {
            "tags": []
          },
          "execution_count": 59
        }
      ]
    },
    {
      "cell_type": "markdown",
      "metadata": {
        "id": "BcE7E_79iUk2"
      },
      "source": [
        "### Задание 5 * (для желающих проверить свои силы :)"
      ]
    },
    {
      "cell_type": "markdown",
      "metadata": {
        "id": "VnCyYyFsiirw"
      },
      "source": [
        "Задание со звездочкой.\n",
        "\n",
        "В данном задании нужно приложить чуть больше усилий, так как для решения потребуется объединить все полученные знания в рамках одной задачи\n",
        "\n",
        "1. Найдите в интернете температурные показатели за любой месяц (например, январь 2020 года)\n",
        "\n",
        "2. Создайте numpy-массив из показаний найденных температур (пример: [-13, -17, -18 ... ]\n",
        "\n",
        "3. Выведите на экран среднюю температуру за январь 2020 года\n",
        "\n",
        "4. Выведите на экран значения максимальной и минимальной температур за январь 2020 года\n",
        "\n",
        "5. Постройте график изменения температур\n",
        "\n",
        "6. Постройте гистограмму изменения температур"
      ]
    },
    {
      "cell_type": "code",
      "metadata": {
        "id": "EGZcoc9jiT6B"
      },
      "source": [
        "# Ваше решение\n",
        "import matplotlib.pyplot as plt # Подключаем модуль pyplot библиотеки matplotlib и задаем псевдоним plt\n",
        "from seaborn import set_style # Подключаем стили графиков\n",
        "import numpy as np # Подключаем библиотеку numpy\n",
        "# Команда для отрисовки графика непосредственно в ячейке\n",
        "%matplotlib inline  \n",
        "set_style('darkgrid') # Задаем стиль \n"
      ],
      "execution_count": null,
      "outputs": []
    },
    {
      "cell_type": "code",
      "metadata": {
        "id": "5DLK0YjfBvdE",
        "colab": {
          "base_uri": "https://localhost:8080/"
        },
        "outputId": "47bc9bac-e2a7-4d99-c328-91e02316bae9"
      },
      "source": [
        "tem_arr = [-2,3,-5,6,8,3,3,10,2,-4,2,0,2,2,4,6,7,8,4,6,3,-3,3,4,1,-1,2,3,4,-4,2]\n",
        "len(tem_arr) # кодичество дней"
      ],
      "execution_count": 71,
      "outputs": [
        {
          "output_type": "execute_result",
          "data": {
            "text/plain": [
              "31"
            ]
          },
          "metadata": {
            "tags": []
          },
          "execution_count": 71
        }
      ]
    },
    {
      "cell_type": "code",
      "metadata": {
        "colab": {
          "base_uri": "https://localhost:8080/"
        },
        "id": "cOiPVChMVuUW",
        "outputId": "a4b90055-540c-4bb4-9197-1869b54d7695"
      },
      "source": [
        "#средняя температура\n",
        "np.mean(tem_arr)"
      ],
      "execution_count": 74,
      "outputs": [
        {
          "output_type": "execute_result",
          "data": {
            "text/plain": [
              "2.5483870967741935"
            ]
          },
          "metadata": {
            "tags": []
          },
          "execution_count": 74
        }
      ]
    },
    {
      "cell_type": "code",
      "metadata": {
        "colab": {
          "base_uri": "https://localhost:8080/"
        },
        "id": "tNZanVB2VsIA",
        "outputId": "c48c04bc-aacd-4041-c2ec-29c1994cc86c"
      },
      "source": [
        "#макс. температура\n",
        "np.max(tem_arr)"
      ],
      "execution_count": 75,
      "outputs": [
        {
          "output_type": "execute_result",
          "data": {
            "text/plain": [
              "10"
            ]
          },
          "metadata": {
            "tags": []
          },
          "execution_count": 75
        }
      ]
    },
    {
      "cell_type": "code",
      "metadata": {
        "colab": {
          "base_uri": "https://localhost:8080/"
        },
        "id": "QWydIOwEXScz",
        "outputId": "fcb3087d-f125-40b4-d048-b12aaf3996a2"
      },
      "source": [
        "#min. температура\n",
        "np.min(tem_arr)"
      ],
      "execution_count": 76,
      "outputs": [
        {
          "output_type": "execute_result",
          "data": {
            "text/plain": [
              "-5"
            ]
          },
          "metadata": {
            "tags": []
          },
          "execution_count": 76
        }
      ]
    },
    {
      "cell_type": "code",
      "metadata": {
        "colab": {
          "base_uri": "https://localhost:8080/",
          "height": 283
        },
        "id": "Jk7RBRLcfN_X",
        "outputId": "dcbf23b2-5bd5-42b4-d57c-b5a2908165cc"
      },
      "source": [
        "x = np.arange(3)\n",
        "plt.bar(x, height= [1,2,3])\n"
      ],
      "execution_count": 86,
      "outputs": [
        {
          "output_type": "execute_result",
          "data": {
            "text/plain": [
              "<BarContainer object of 3 artists>"
            ]
          },
          "metadata": {
            "tags": []
          },
          "execution_count": 86
        },
        {
          "output_type": "display_data",
          "data": {
            "image/png": "[encoded data removed]",
            "text/plain": [
              "<Figure size 432x288 with 1 Axes>"
            ]
          },
          "metadata": {
            "tags": [],
            "needs_background": "light"
          }
        }
      ]
    },
    {
      "cell_type": "code",
      "metadata": {
        "id": "Kbc7z9GjZUqh"
      },
      "source": [
        "import matplotlib.pyplot as plt\n",
        "%matplotlib inline"
      ],
      "execution_count": 78,
      "outputs": []
    },
    {
      "cell_type": "code",
      "metadata": {
        "colab": {
          "base_uri": "https://localhost:8080/",
          "height": 295
        },
        "id": "9UufRd18ZE6j",
        "outputId": "9de3d100-b7c1-4b4f-93a3-f3aed3abe31f"
      },
      "source": [
        "plt.xlabel('Дни')\n",
        "plt.ylabel('Температура')\n",
        "plt.title('График температуры - за январь')\n",
        "\n",
        "plt.plot(tem_arr)\n",
        "\n",
        "\n",
        "plt.show()"
      ],
      "execution_count": 89,
      "outputs": [
        {
          "output_type": "display_data",
          "data": {
            "image/png": "[encoded data removed]",
            "text/plain": [
              "<Figure size 432x288 with 1 Axes>"
            ]
          },
          "metadata": {
            "tags": [],
            "needs_background": "light"
          }
        }
      ]
    },
    {
      "cell_type": "code",
      "metadata": {
        "colab": {
          "base_uri": "https://localhost:8080/",
          "height": 281
        },
        "id": "InnOsE3zdUFw",
        "outputId": "b6d2996c-75d8-4e46-b080-b9efa6ccf824"
      },
      "source": [
        "x = np.arange(31)\n",
        "\n",
        "plt.bar(x, tem_arr, align='center', color='c', linewidth = 100)\n",
        "\n",
        "plt.title('Температура за январь')\n",
        "\n",
        "\n",
        "plt.show()"
      ],
      "execution_count": 94,
      "outputs": [
        {
          "output_type": "display_data",
          "data": {
            "image/png": "[encoded data removed]",
            "text/plain": [
              "<Figure size 432x288 with 1 Axes>"
            ]
          },
          "metadata": {
            "tags": [],
            "needs_background": "light"
          }
        }
      ]
    }
  ]
}