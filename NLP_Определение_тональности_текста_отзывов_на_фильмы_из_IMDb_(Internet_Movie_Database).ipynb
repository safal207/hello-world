{
  "nbformat": 4,
  "nbformat_minor": 0,
  "metadata": {
    "colab": {
      "name": "NLP Определение тональности текста отзывов на фильмы из IMDb (Internet Movie Database) ",
      "provenance": [],
      "include_colab_link": true
    },
    "kernelspec": {
      "name": "python3",
      "display_name": "Python 3"
    },
    "accelerator": "GPU"
  },
  "cells": [
    {
      "cell_type": "markdown",
      "metadata": {
        "id": "view-in-github",
        "colab_type": "text"
      },
      "source": [
        "<a href=\"https://colab.research.google.com/github/safal207/hello-world/blob/master/NLP_%D0%9E%D0%BF%D1%80%D0%B5%D0%B4%D0%B5%D0%BB%D0%B5%D0%BD%D0%B8%D0%B5_%D1%82%D0%BE%D0%BD%D0%B0%D0%BB%D1%8C%D0%BD%D0%BE%D1%81%D1%82%D0%B8_%D1%82%D0%B5%D0%BA%D1%81%D1%82%D0%B0_%D0%BE%D1%82%D0%B7%D1%8B%D0%B2%D0%BE%D0%B2_%D0%BD%D0%B0_%D1%84%D0%B8%D0%BB%D1%8C%D0%BC%D1%8B_%D0%B8%D0%B7_IMDb_(Internet_Movie_Database).ipynb\" target=\"_parent\"><img src=\"https://colab.research.google.com/assets/colab-badge.svg\" alt=\"Open In Colab\"/></a>"
      ]
    },
    {
      "cell_type": "markdown",
      "metadata": {
        "id": "Lv1nORvnYVQn"
      },
      "source": [
        "# Определение тональности текста отзывов на фильмы из IMDb (Internet Movie Database) \n",
        "\n",
        "\n",
        "Чтобы запускать и редактировать код, сохраните копию этого ноутбука себе (File->Save a copy in Drive...). Свою копию вы сможете изменять и запускать.\n",
        "\n",
        "Не забудьте подключить GPU, чтобы сеть обучалась быстрее (Runtime -> Change Runtime Type -> Hardware Accelerator -> GPU)."
      ]
    },
    {
      "cell_type": "markdown",
      "metadata": {
        "id": "sU_nuqLaTHYg"
      },
      "source": [
        "## Набор данных IMDb movie review\n",
        "\n",
        "[Набор данных IMDb movie review](https://ai.stanford.edu/~amaas/data/sentiment/) создан для задач определения тональности текста. Набор включает отзывы на фильмы с сайта [IMDb](https://www.imdb.com). Отзывы только явно положительные (оценка >= 7) или отрицательные (оценка <= 4), нейтральные отзывы в набор данных не включались.\n",
        "\n",
        "Размер набора данных 50 тыс. отзывов:\n",
        "- Набор данных для обучения - 25 тыс. отзывов\n",
        "- Набор данных для тестирования - 25 тыс. отзывов\n",
        "\n",
        "Количество положительных и отрицательных отзывов одинаковое.\n",
        "\n",
        "Разметка набора данных:\n",
        "- 0 - отзыв отрицательный\n",
        "- 1 - отзыв положительный\n",
        "\n",
        "С точки зрения машинного обучения это задача бинарной классификации.\n",
        "\n",
        "Набор данных описан в статье: [Andrew L. Maas, Raymond E. Daly, Peter T. Pham, Dan Huang, Andrew Y. Ng, and Christopher Potts. (2011). Learning Word Vectors for Sentiment Analysis. The 49th Annual Meeting of the Association for Computational Linguistics (ACL 2011)](https://ai.stanford.edu/~amaas/papers/wvSent_acl2011.pdf)."
      ]
    },
    {
      "cell_type": "markdown",
      "metadata": {
        "id": "YbtGv1ePW6SF"
      },
      "source": [
        "<img src=\"https://www.dropbox.com/s/grd17bkapocb92o/imdb_movie_reviews.png?dl=1\" width=\"600\">\n"
      ]
    },
    {
      "cell_type": "code",
      "metadata": {
        "id": "lpsyhVlJX5XH"
      },
      "source": [
        "from tensorflow.keras.datasets import imdb\n",
        "from tensorflow.keras.models import Sequential\n",
        "from tensorflow.keras.layers import Dense, Embedding, Flatten, Dropout\n",
        "from tensorflow.keras import utils\n",
        "from tensorflow.keras.preprocessing.sequence import pad_sequences\n",
        "import numpy as np\n",
        "import matplotlib.pyplot as plt\n",
        "%matplotlib inline "
      ],
      "execution_count": null,
      "outputs": []
    },
    {
      "cell_type": "markdown",
      "metadata": {
        "id": "xGDJkdINNWVh"
      },
      "source": [
        "## Загружаем данные"
      ]
    },
    {
      "cell_type": "code",
      "metadata": {
        "id": "kBUUyZ4cbxoM"
      },
      "source": [
        "max_words=10000"
      ],
      "execution_count": null,
      "outputs": []
    },
    {
      "cell_type": "code",
      "metadata": {
        "id": "toRj2Xs1NZgB"
      },
      "source": [
        "(x_train, y_train), (x_test, y_test) = imdb.load_data(num_words=max_words)"
      ],
      "execution_count": null,
      "outputs": []
    },
    {
      "cell_type": "markdown",
      "metadata": {
        "id": "cLwFe4_aaXWP"
      },
      "source": [
        "## Просмотр данных"
      ]
    },
    {
      "cell_type": "markdown",
      "metadata": {
        "id": "0bE25agXLwCp"
      },
      "source": [
        "Рецензия"
      ]
    },
    {
      "cell_type": "code",
      "metadata": {
        "id": "_XeruR8UaZRm",
        "outputId": "f12d7ed7-e96d-4c84-8ed2-c08a6252b8fd",
        "colab": {
          "base_uri": "https://localhost:8080/"
        }
      },
      "source": [
        "x_train[3]"
      ],
      "execution_count": null,
      "outputs": [
        {
          "output_type": "execute_result",
          "data": {
            "text/plain": [
              "[1,\n",
              " 4,\n",
              " 2,\n",
              " 2,\n",
              " 33,\n",
              " 2804,\n",
              " 4,\n",
              " 2040,\n",
              " 432,\n",
              " 111,\n",
              " 153,\n",
              " 103,\n",
              " 4,\n",
              " 1494,\n",
              " 13,\n",
              " 70,\n",
              " 131,\n",
              " 67,\n",
              " 11,\n",
              " 61,\n",
              " 2,\n",
              " 744,\n",
              " 35,\n",
              " 3715,\n",
              " 761,\n",
              " 61,\n",
              " 5766,\n",
              " 452,\n",
              " 9214,\n",
              " 4,\n",
              " 985,\n",
              " 7,\n",
              " 2,\n",
              " 59,\n",
              " 166,\n",
              " 4,\n",
              " 105,\n",
              " 216,\n",
              " 1239,\n",
              " 41,\n",
              " 1797,\n",
              " 9,\n",
              " 15,\n",
              " 7,\n",
              " 35,\n",
              " 744,\n",
              " 2413,\n",
              " 31,\n",
              " 8,\n",
              " 4,\n",
              " 687,\n",
              " 23,\n",
              " 4,\n",
              " 2,\n",
              " 7339,\n",
              " 6,\n",
              " 3693,\n",
              " 42,\n",
              " 38,\n",
              " 39,\n",
              " 121,\n",
              " 59,\n",
              " 456,\n",
              " 10,\n",
              " 10,\n",
              " 7,\n",
              " 265,\n",
              " 12,\n",
              " 575,\n",
              " 111,\n",
              " 153,\n",
              " 159,\n",
              " 59,\n",
              " 16,\n",
              " 1447,\n",
              " 21,\n",
              " 25,\n",
              " 586,\n",
              " 482,\n",
              " 39,\n",
              " 4,\n",
              " 96,\n",
              " 59,\n",
              " 716,\n",
              " 12,\n",
              " 4,\n",
              " 172,\n",
              " 65,\n",
              " 9,\n",
              " 579,\n",
              " 11,\n",
              " 6004,\n",
              " 4,\n",
              " 1615,\n",
              " 5,\n",
              " 2,\n",
              " 7,\n",
              " 5168,\n",
              " 17,\n",
              " 13,\n",
              " 7064,\n",
              " 12,\n",
              " 19,\n",
              " 6,\n",
              " 464,\n",
              " 31,\n",
              " 314,\n",
              " 11,\n",
              " 2,\n",
              " 6,\n",
              " 719,\n",
              " 605,\n",
              " 11,\n",
              " 8,\n",
              " 202,\n",
              " 27,\n",
              " 310,\n",
              " 4,\n",
              " 3772,\n",
              " 3501,\n",
              " 8,\n",
              " 2722,\n",
              " 58,\n",
              " 10,\n",
              " 10,\n",
              " 537,\n",
              " 2116,\n",
              " 180,\n",
              " 40,\n",
              " 14,\n",
              " 413,\n",
              " 173,\n",
              " 7,\n",
              " 263,\n",
              " 112,\n",
              " 37,\n",
              " 152,\n",
              " 377,\n",
              " 4,\n",
              " 537,\n",
              " 263,\n",
              " 846,\n",
              " 579,\n",
              " 178,\n",
              " 54,\n",
              " 75,\n",
              " 71,\n",
              " 476,\n",
              " 36,\n",
              " 413,\n",
              " 263,\n",
              " 2504,\n",
              " 182,\n",
              " 5,\n",
              " 17,\n",
              " 75,\n",
              " 2306,\n",
              " 922,\n",
              " 36,\n",
              " 279,\n",
              " 131,\n",
              " 2895,\n",
              " 17,\n",
              " 2867,\n",
              " 42,\n",
              " 17,\n",
              " 35,\n",
              " 921,\n",
              " 2,\n",
              " 192,\n",
              " 5,\n",
              " 1219,\n",
              " 3890,\n",
              " 19,\n",
              " 2,\n",
              " 217,\n",
              " 4122,\n",
              " 1710,\n",
              " 537,\n",
              " 2,\n",
              " 1236,\n",
              " 5,\n",
              " 736,\n",
              " 10,\n",
              " 10,\n",
              " 61,\n",
              " 403,\n",
              " 9,\n",
              " 2,\n",
              " 40,\n",
              " 61,\n",
              " 4494,\n",
              " 5,\n",
              " 27,\n",
              " 4494,\n",
              " 159,\n",
              " 90,\n",
              " 263,\n",
              " 2311,\n",
              " 4319,\n",
              " 309,\n",
              " 8,\n",
              " 178,\n",
              " 5,\n",
              " 82,\n",
              " 4319,\n",
              " 4,\n",
              " 65,\n",
              " 15,\n",
              " 9225,\n",
              " 145,\n",
              " 143,\n",
              " 5122,\n",
              " 12,\n",
              " 7039,\n",
              " 537,\n",
              " 746,\n",
              " 537,\n",
              " 537,\n",
              " 15,\n",
              " 7979,\n",
              " 4,\n",
              " 2,\n",
              " 594,\n",
              " 7,\n",
              " 5168,\n",
              " 94,\n",
              " 9096,\n",
              " 3987,\n",
              " 2,\n",
              " 11,\n",
              " 2,\n",
              " 4,\n",
              " 538,\n",
              " 7,\n",
              " 1795,\n",
              " 246,\n",
              " 2,\n",
              " 9,\n",
              " 2,\n",
              " 11,\n",
              " 635,\n",
              " 14,\n",
              " 9,\n",
              " 51,\n",
              " 408,\n",
              " 12,\n",
              " 94,\n",
              " 318,\n",
              " 1382,\n",
              " 12,\n",
              " 47,\n",
              " 6,\n",
              " 2683,\n",
              " 936,\n",
              " 5,\n",
              " 6307,\n",
              " 2,\n",
              " 19,\n",
              " 49,\n",
              " 7,\n",
              " 4,\n",
              " 1885,\n",
              " 2,\n",
              " 1118,\n",
              " 25,\n",
              " 80,\n",
              " 126,\n",
              " 842,\n",
              " 10,\n",
              " 10,\n",
              " 2,\n",
              " 2,\n",
              " 4726,\n",
              " 27,\n",
              " 4494,\n",
              " 11,\n",
              " 1550,\n",
              " 3633,\n",
              " 159,\n",
              " 27,\n",
              " 341,\n",
              " 29,\n",
              " 2733,\n",
              " 19,\n",
              " 4185,\n",
              " 173,\n",
              " 7,\n",
              " 90,\n",
              " 2,\n",
              " 8,\n",
              " 30,\n",
              " 11,\n",
              " 4,\n",
              " 1784,\n",
              " 86,\n",
              " 1117,\n",
              " 8,\n",
              " 3261,\n",
              " 46,\n",
              " 11,\n",
              " 2,\n",
              " 21,\n",
              " 29,\n",
              " 9,\n",
              " 2841,\n",
              " 23,\n",
              " 4,\n",
              " 1010,\n",
              " 2,\n",
              " 793,\n",
              " 6,\n",
              " 2,\n",
              " 1386,\n",
              " 1830,\n",
              " 10,\n",
              " 10,\n",
              " 246,\n",
              " 50,\n",
              " 9,\n",
              " 6,\n",
              " 2750,\n",
              " 1944,\n",
              " 746,\n",
              " 90,\n",
              " 29,\n",
              " 2,\n",
              " 8,\n",
              " 124,\n",
              " 4,\n",
              " 882,\n",
              " 4,\n",
              " 882,\n",
              " 496,\n",
              " 27,\n",
              " 2,\n",
              " 2213,\n",
              " 537,\n",
              " 121,\n",
              " 127,\n",
              " 1219,\n",
              " 130,\n",
              " 5,\n",
              " 29,\n",
              " 494,\n",
              " 8,\n",
              " 124,\n",
              " 4,\n",
              " 882,\n",
              " 496,\n",
              " 4,\n",
              " 341,\n",
              " 7,\n",
              " 27,\n",
              " 846,\n",
              " 10,\n",
              " 10,\n",
              " 29,\n",
              " 9,\n",
              " 1906,\n",
              " 8,\n",
              " 97,\n",
              " 6,\n",
              " 236,\n",
              " 2,\n",
              " 1311,\n",
              " 8,\n",
              " 4,\n",
              " 2,\n",
              " 7,\n",
              " 31,\n",
              " 7,\n",
              " 2,\n",
              " 91,\n",
              " 2,\n",
              " 3987,\n",
              " 70,\n",
              " 4,\n",
              " 882,\n",
              " 30,\n",
              " 579,\n",
              " 42,\n",
              " 9,\n",
              " 12,\n",
              " 32,\n",
              " 11,\n",
              " 537,\n",
              " 10,\n",
              " 10,\n",
              " 11,\n",
              " 14,\n",
              " 65,\n",
              " 44,\n",
              " 537,\n",
              " 75,\n",
              " 2,\n",
              " 1775,\n",
              " 3353,\n",
              " 2,\n",
              " 1846,\n",
              " 4,\n",
              " 2,\n",
              " 7,\n",
              " 154,\n",
              " 5,\n",
              " 4,\n",
              " 518,\n",
              " 53,\n",
              " 2,\n",
              " 2,\n",
              " 7,\n",
              " 3211,\n",
              " 882,\n",
              " 11,\n",
              " 399,\n",
              " 38,\n",
              " 75,\n",
              " 257,\n",
              " 3807,\n",
              " 19,\n",
              " 2,\n",
              " 17,\n",
              " 29,\n",
              " 456,\n",
              " 4,\n",
              " 65,\n",
              " 7,\n",
              " 27,\n",
              " 205,\n",
              " 113,\n",
              " 10,\n",
              " 10,\n",
              " 2,\n",
              " 4,\n",
              " 2,\n",
              " 2,\n",
              " 9,\n",
              " 242,\n",
              " 4,\n",
              " 91,\n",
              " 1202,\n",
              " 2,\n",
              " 5,\n",
              " 2070,\n",
              " 307,\n",
              " 22,\n",
              " 7,\n",
              " 5168,\n",
              " 126,\n",
              " 93,\n",
              " 40,\n",
              " 2,\n",
              " 13,\n",
              " 188,\n",
              " 1076,\n",
              " 3222,\n",
              " 19,\n",
              " 4,\n",
              " 2,\n",
              " 7,\n",
              " 2348,\n",
              " 537,\n",
              " 23,\n",
              " 53,\n",
              " 537,\n",
              " 21,\n",
              " 82,\n",
              " 40,\n",
              " 2,\n",
              " 13,\n",
              " 2,\n",
              " 14,\n",
              " 280,\n",
              " 13,\n",
              " 219,\n",
              " 4,\n",
              " 2,\n",
              " 431,\n",
              " 758,\n",
              " 859,\n",
              " 4,\n",
              " 953,\n",
              " 1052,\n",
              " 2,\n",
              " 7,\n",
              " 5991,\n",
              " 5,\n",
              " 94,\n",
              " 40,\n",
              " 25,\n",
              " 238,\n",
              " 60,\n",
              " 2,\n",
              " 4,\n",
              " 2,\n",
              " 804,\n",
              " 2,\n",
              " 7,\n",
              " 4,\n",
              " 9941,\n",
              " 132,\n",
              " 8,\n",
              " 67,\n",
              " 6,\n",
              " 22,\n",
              " 15,\n",
              " 9,\n",
              " 283,\n",
              " 8,\n",
              " 5168,\n",
              " 14,\n",
              " 31,\n",
              " 9,\n",
              " 242,\n",
              " 955,\n",
              " 48,\n",
              " 25,\n",
              " 279,\n",
              " 2,\n",
              " 23,\n",
              " 12,\n",
              " 1685,\n",
              " 195,\n",
              " 25,\n",
              " 238,\n",
              " 60,\n",
              " 796,\n",
              " 2,\n",
              " 4,\n",
              " 671,\n",
              " 7,\n",
              " 2804,\n",
              " 5,\n",
              " 4,\n",
              " 559,\n",
              " 154,\n",
              " 888,\n",
              " 7,\n",
              " 726,\n",
              " 50,\n",
              " 26,\n",
              " 49,\n",
              " 7008,\n",
              " 15,\n",
              " 566,\n",
              " 30,\n",
              " 579,\n",
              " 21,\n",
              " 64,\n",
              " 2574]"
            ]
          },
          "metadata": {
            "tags": []
          },
          "execution_count": 9
        }
      ]
    },
    {
      "cell_type": "markdown",
      "metadata": {
        "id": "Xdj6uFFaLzOx"
      },
      "source": [
        "Правильный ответ"
      ]
    },
    {
      "cell_type": "code",
      "metadata": {
        "id": "1tUhNPuRL1Kc",
        "outputId": "39dacd3b-a75a-4ee1-f53f-a215f557b118",
        "colab": {
          "base_uri": "https://localhost:8080/"
        }
      },
      "source": [
        "y_train[3]"
      ],
      "execution_count": null,
      "outputs": [
        {
          "output_type": "execute_result",
          "data": {
            "text/plain": [
              "1"
            ]
          },
          "metadata": {
            "tags": []
          },
          "execution_count": 10
        }
      ]
    },
    {
      "cell_type": "markdown",
      "metadata": {
        "id": "gouAhubOL986"
      },
      "source": [
        "## Раскодируем текст рецензии"
      ]
    },
    {
      "cell_type": "markdown",
      "metadata": {
        "id": "qqfrkzxpbMiv"
      },
      "source": [
        "В наборе данных IMDB используется частотное кодирование слов. Загрузим словарь, который использовался для кодирования."
      ]
    },
    {
      "cell_type": "code",
      "metadata": {
        "id": "yrFecqo1bTFH"
      },
      "source": [
        "word_index = imdb.get_word_index()"
      ],
      "execution_count": null,
      "outputs": []
    },
    {
      "cell_type": "code",
      "metadata": {
        "id": "Qk9NMqABbXCo",
        "outputId": "bbdcfc58-69dd-4104-dc66-d91e6f7b9fc3",
        "colab": {
          "base_uri": "https://localhost:8080/"
        }
      },
      "source": [
        "word_index"
      ],
      "execution_count": null,
      "outputs": [
        {
          "output_type": "execute_result",
          "data": {
            "text/plain": [
              "{'fawn': 34701,\n",
              " 'tsukino': 52006,\n",
              " 'nunnery': 52007,\n",
              " 'sonja': 16816,\n",
              " 'vani': 63951,\n",
              " 'woods': 1408,\n",
              " 'spiders': 16115,\n",
              " 'hanging': 2345,\n",
              " 'woody': 2289,\n",
              " 'trawling': 52008,\n",
              " \"hold's\": 52009,\n",
              " 'comically': 11307,\n",
              " 'localized': 40830,\n",
              " 'disobeying': 30568,\n",
              " \"'royale\": 52010,\n",
              " \"harpo's\": 40831,\n",
              " 'canet': 52011,\n",
              " 'aileen': 19313,\n",
              " 'acurately': 52012,\n",
              " \"diplomat's\": 52013,\n",
              " 'rickman': 25242,\n",
              " 'arranged': 6746,\n",
              " 'rumbustious': 52014,\n",
              " 'familiarness': 52015,\n",
              " \"spider'\": 52016,\n",
              " 'hahahah': 68804,\n",
              " \"wood'\": 52017,\n",
              " 'transvestism': 40833,\n",
              " \"hangin'\": 34702,\n",
              " 'bringing': 2338,\n",
              " 'seamier': 40834,\n",
              " 'wooded': 34703,\n",
              " 'bravora': 52018,\n",
              " 'grueling': 16817,\n",
              " 'wooden': 1636,\n",
              " 'wednesday': 16818,\n",
              " \"'prix\": 52019,\n",
              " 'altagracia': 34704,\n",
              " 'circuitry': 52020,\n",
              " 'crotch': 11585,\n",
              " 'busybody': 57766,\n",
              " \"tart'n'tangy\": 52021,\n",
              " 'burgade': 14129,\n",
              " 'thrace': 52023,\n",
              " \"tom's\": 11038,\n",
              " 'snuggles': 52025,\n",
              " 'francesco': 29114,\n",
              " 'complainers': 52027,\n",
              " 'templarios': 52125,\n",
              " '272': 40835,\n",
              " '273': 52028,\n",
              " 'zaniacs': 52130,\n",
              " '275': 34706,\n",
              " 'consenting': 27631,\n",
              " 'snuggled': 40836,\n",
              " 'inanimate': 15492,\n",
              " 'uality': 52030,\n",
              " 'bronte': 11926,\n",
              " 'errors': 4010,\n",
              " 'dialogs': 3230,\n",
              " \"yomada's\": 52031,\n",
              " \"madman's\": 34707,\n",
              " 'dialoge': 30585,\n",
              " 'usenet': 52033,\n",
              " 'videodrome': 40837,\n",
              " \"kid'\": 26338,\n",
              " 'pawed': 52034,\n",
              " \"'girlfriend'\": 30569,\n",
              " \"'pleasure\": 52035,\n",
              " \"'reloaded'\": 52036,\n",
              " \"kazakos'\": 40839,\n",
              " 'rocque': 52037,\n",
              " 'mailings': 52038,\n",
              " 'brainwashed': 11927,\n",
              " 'mcanally': 16819,\n",
              " \"tom''\": 52039,\n",
              " 'kurupt': 25243,\n",
              " 'affiliated': 21905,\n",
              " 'babaganoosh': 52040,\n",
              " \"noe's\": 40840,\n",
              " 'quart': 40841,\n",
              " 'kids': 359,\n",
              " 'uplifting': 5034,\n",
              " 'controversy': 7093,\n",
              " 'kida': 21906,\n",
              " 'kidd': 23379,\n",
              " \"error'\": 52041,\n",
              " 'neurologist': 52042,\n",
              " 'spotty': 18510,\n",
              " 'cobblers': 30570,\n",
              " 'projection': 9878,\n",
              " 'fastforwarding': 40842,\n",
              " 'sters': 52043,\n",
              " \"eggar's\": 52044,\n",
              " 'etherything': 52045,\n",
              " 'gateshead': 40843,\n",
              " 'airball': 34708,\n",
              " 'unsinkable': 25244,\n",
              " 'stern': 7180,\n",
              " \"cervi's\": 52046,\n",
              " 'dnd': 40844,\n",
              " 'dna': 11586,\n",
              " 'insecurity': 20598,\n",
              " \"'reboot'\": 52047,\n",
              " 'trelkovsky': 11037,\n",
              " 'jaekel': 52048,\n",
              " 'sidebars': 52049,\n",
              " \"sforza's\": 52050,\n",
              " 'distortions': 17633,\n",
              " 'mutinies': 52051,\n",
              " 'sermons': 30602,\n",
              " '7ft': 40846,\n",
              " 'boobage': 52052,\n",
              " \"o'bannon's\": 52053,\n",
              " 'populations': 23380,\n",
              " 'chulak': 52054,\n",
              " 'mesmerize': 27633,\n",
              " 'quinnell': 52055,\n",
              " 'yahoo': 10307,\n",
              " 'meteorologist': 52057,\n",
              " 'beswick': 42577,\n",
              " 'boorman': 15493,\n",
              " 'voicework': 40847,\n",
              " \"ster'\": 52058,\n",
              " 'blustering': 22922,\n",
              " 'hj': 52059,\n",
              " 'intake': 27634,\n",
              " 'morally': 5621,\n",
              " 'jumbling': 40849,\n",
              " 'bowersock': 52060,\n",
              " \"'porky's'\": 52061,\n",
              " 'gershon': 16821,\n",
              " 'ludicrosity': 40850,\n",
              " 'coprophilia': 52062,\n",
              " 'expressively': 40851,\n",
              " \"india's\": 19500,\n",
              " \"post's\": 34710,\n",
              " 'wana': 52063,\n",
              " 'wang': 5283,\n",
              " 'wand': 30571,\n",
              " 'wane': 25245,\n",
              " 'edgeways': 52321,\n",
              " 'titanium': 34711,\n",
              " 'pinta': 40852,\n",
              " 'want': 178,\n",
              " 'pinto': 30572,\n",
              " 'whoopdedoodles': 52065,\n",
              " 'tchaikovsky': 21908,\n",
              " 'travel': 2103,\n",
              " \"'victory'\": 52066,\n",
              " 'copious': 11928,\n",
              " 'gouge': 22433,\n",
              " \"chapters'\": 52067,\n",
              " 'barbra': 6702,\n",
              " 'uselessness': 30573,\n",
              " \"wan'\": 52068,\n",
              " 'assimilated': 27635,\n",
              " 'petiot': 16116,\n",
              " 'most\\x85and': 52069,\n",
              " 'dinosaurs': 3930,\n",
              " 'wrong': 352,\n",
              " 'seda': 52070,\n",
              " 'stollen': 52071,\n",
              " 'sentencing': 34712,\n",
              " 'ouroboros': 40853,\n",
              " 'assimilates': 40854,\n",
              " 'colorfully': 40855,\n",
              " 'glenne': 27636,\n",
              " 'dongen': 52072,\n",
              " 'subplots': 4760,\n",
              " 'kiloton': 52073,\n",
              " 'chandon': 23381,\n",
              " \"effect'\": 34713,\n",
              " 'snugly': 27637,\n",
              " 'kuei': 40856,\n",
              " 'welcomed': 9092,\n",
              " 'dishonor': 30071,\n",
              " 'concurrence': 52075,\n",
              " 'stoicism': 23382,\n",
              " \"guys'\": 14896,\n",
              " \"beroemd'\": 52077,\n",
              " 'butcher': 6703,\n",
              " \"melfi's\": 40857,\n",
              " 'aargh': 30623,\n",
              " 'playhouse': 20599,\n",
              " 'wickedly': 11308,\n",
              " 'fit': 1180,\n",
              " 'labratory': 52078,\n",
              " 'lifeline': 40859,\n",
              " 'screaming': 1927,\n",
              " 'fix': 4287,\n",
              " 'cineliterate': 52079,\n",
              " 'fic': 52080,\n",
              " 'fia': 52081,\n",
              " 'fig': 34714,\n",
              " 'fmvs': 52082,\n",
              " 'fie': 52083,\n",
              " 'reentered': 52084,\n",
              " 'fin': 30574,\n",
              " 'doctresses': 52085,\n",
              " 'fil': 52086,\n",
              " 'zucker': 12606,\n",
              " 'ached': 31931,\n",
              " 'counsil': 52088,\n",
              " 'paterfamilias': 52089,\n",
              " 'songwriter': 13885,\n",
              " 'shivam': 34715,\n",
              " 'hurting': 9654,\n",
              " 'effects': 299,\n",
              " 'slauther': 52090,\n",
              " \"'flame'\": 52091,\n",
              " 'sommerset': 52092,\n",
              " 'interwhined': 52093,\n",
              " 'whacking': 27638,\n",
              " 'bartok': 52094,\n",
              " 'barton': 8775,\n",
              " 'frewer': 21909,\n",
              " \"fi'\": 52095,\n",
              " 'ingrid': 6192,\n",
              " 'stribor': 30575,\n",
              " 'approporiately': 52096,\n",
              " 'wobblyhand': 52097,\n",
              " 'tantalisingly': 52098,\n",
              " 'ankylosaurus': 52099,\n",
              " 'parasites': 17634,\n",
              " 'childen': 52100,\n",
              " \"jenkins'\": 52101,\n",
              " 'metafiction': 52102,\n",
              " 'golem': 17635,\n",
              " 'indiscretion': 40860,\n",
              " \"reeves'\": 23383,\n",
              " \"inamorata's\": 57781,\n",
              " 'brittannica': 52104,\n",
              " 'adapt': 7916,\n",
              " \"russo's\": 30576,\n",
              " 'guitarists': 48246,\n",
              " 'abbott': 10553,\n",
              " 'abbots': 40861,\n",
              " 'lanisha': 17649,\n",
              " 'magickal': 40863,\n",
              " 'mattter': 52105,\n",
              " \"'willy\": 52106,\n",
              " 'pumpkins': 34716,\n",
              " 'stuntpeople': 52107,\n",
              " 'estimate': 30577,\n",
              " 'ugghhh': 40864,\n",
              " 'gameplay': 11309,\n",
              " \"wern't\": 52108,\n",
              " \"n'sync\": 40865,\n",
              " 'sickeningly': 16117,\n",
              " 'chiara': 40866,\n",
              " 'disturbed': 4011,\n",
              " 'portmanteau': 40867,\n",
              " 'ineffectively': 52109,\n",
              " \"duchonvey's\": 82143,\n",
              " \"nasty'\": 37519,\n",
              " 'purpose': 1285,\n",
              " 'lazers': 52112,\n",
              " 'lightened': 28105,\n",
              " 'kaliganj': 52113,\n",
              " 'popularism': 52114,\n",
              " \"damme's\": 18511,\n",
              " 'stylistics': 30578,\n",
              " 'mindgaming': 52115,\n",
              " 'spoilerish': 46449,\n",
              " \"'corny'\": 52117,\n",
              " 'boerner': 34718,\n",
              " 'olds': 6792,\n",
              " 'bakelite': 52118,\n",
              " 'renovated': 27639,\n",
              " 'forrester': 27640,\n",
              " \"lumiere's\": 52119,\n",
              " 'gaskets': 52024,\n",
              " 'needed': 884,\n",
              " 'smight': 34719,\n",
              " 'master': 1297,\n",
              " \"edie's\": 25905,\n",
              " 'seeber': 40868,\n",
              " 'hiya': 52120,\n",
              " 'fuzziness': 52121,\n",
              " 'genesis': 14897,\n",
              " 'rewards': 12607,\n",
              " 'enthrall': 30579,\n",
              " \"'about\": 40869,\n",
              " \"recollection's\": 52122,\n",
              " 'mutilated': 11039,\n",
              " 'fatherlands': 52123,\n",
              " \"fischer's\": 52124,\n",
              " 'positively': 5399,\n",
              " '270': 34705,\n",
              " 'ahmed': 34720,\n",
              " 'zatoichi': 9836,\n",
              " 'bannister': 13886,\n",
              " 'anniversaries': 52127,\n",
              " \"helm's\": 30580,\n",
              " \"'work'\": 52128,\n",
              " 'exclaimed': 34721,\n",
              " \"'unfunny'\": 52129,\n",
              " '274': 52029,\n",
              " 'feeling': 544,\n",
              " \"wanda's\": 52131,\n",
              " 'dolan': 33266,\n",
              " '278': 52133,\n",
              " 'peacoat': 52134,\n",
              " 'brawny': 40870,\n",
              " 'mishra': 40871,\n",
              " 'worlders': 40872,\n",
              " 'protags': 52135,\n",
              " 'skullcap': 52136,\n",
              " 'dastagir': 57596,\n",
              " 'affairs': 5622,\n",
              " 'wholesome': 7799,\n",
              " 'hymen': 52137,\n",
              " 'paramedics': 25246,\n",
              " 'unpersons': 52138,\n",
              " 'heavyarms': 52139,\n",
              " 'affaire': 52140,\n",
              " 'coulisses': 52141,\n",
              " 'hymer': 40873,\n",
              " 'kremlin': 52142,\n",
              " 'shipments': 30581,\n",
              " 'pixilated': 52143,\n",
              " \"'00s\": 30582,\n",
              " 'diminishing': 18512,\n",
              " 'cinematic': 1357,\n",
              " 'resonates': 14898,\n",
              " 'simplify': 40874,\n",
              " \"nature'\": 40875,\n",
              " 'temptresses': 40876,\n",
              " 'reverence': 16822,\n",
              " 'resonated': 19502,\n",
              " 'dailey': 34722,\n",
              " '2\\x85': 52144,\n",
              " 'treize': 27641,\n",
              " 'majo': 52145,\n",
              " 'kiya': 21910,\n",
              " 'woolnough': 52146,\n",
              " 'thanatos': 39797,\n",
              " 'sandoval': 35731,\n",
              " 'dorama': 40879,\n",
              " \"o'shaughnessy\": 52147,\n",
              " 'tech': 4988,\n",
              " 'fugitives': 32018,\n",
              " 'teck': 30583,\n",
              " \"'e'\": 76125,\n",
              " 'doesn’t': 40881,\n",
              " 'purged': 52149,\n",
              " 'saying': 657,\n",
              " \"martians'\": 41095,\n",
              " 'norliss': 23418,\n",
              " 'dickey': 27642,\n",
              " 'dicker': 52152,\n",
              " \"'sependipity\": 52153,\n",
              " 'padded': 8422,\n",
              " 'ordell': 57792,\n",
              " \"sturges'\": 40882,\n",
              " 'independentcritics': 52154,\n",
              " 'tempted': 5745,\n",
              " \"atkinson's\": 34724,\n",
              " 'hounded': 25247,\n",
              " 'apace': 52155,\n",
              " 'clicked': 15494,\n",
              " \"'humor'\": 30584,\n",
              " \"martino's\": 17177,\n",
              " \"'supporting\": 52156,\n",
              " 'warmongering': 52032,\n",
              " \"zemeckis's\": 34725,\n",
              " 'lube': 21911,\n",
              " 'shocky': 52157,\n",
              " 'plate': 7476,\n",
              " 'plata': 40883,\n",
              " 'sturgess': 40884,\n",
              " \"nerds'\": 40885,\n",
              " 'plato': 20600,\n",
              " 'plath': 34726,\n",
              " 'platt': 40886,\n",
              " 'mcnab': 52159,\n",
              " 'clumsiness': 27643,\n",
              " 'altogether': 3899,\n",
              " 'massacring': 42584,\n",
              " 'bicenntinial': 52160,\n",
              " 'skaal': 40887,\n",
              " 'droning': 14360,\n",
              " 'lds': 8776,\n",
              " 'jaguar': 21912,\n",
              " \"cale's\": 34727,\n",
              " 'nicely': 1777,\n",
              " 'mummy': 4588,\n",
              " \"lot's\": 18513,\n",
              " 'patch': 10086,\n",
              " 'kerkhof': 50202,\n",
              " \"leader's\": 52161,\n",
              " \"'movie\": 27644,\n",
              " 'uncomfirmed': 52162,\n",
              " 'heirloom': 40888,\n",
              " 'wrangle': 47360,\n",
              " 'emotion\\x85': 52163,\n",
              " \"'stargate'\": 52164,\n",
              " 'pinoy': 40889,\n",
              " 'conchatta': 40890,\n",
              " 'broeke': 41128,\n",
              " 'advisedly': 40891,\n",
              " \"barker's\": 17636,\n",
              " 'descours': 52166,\n",
              " 'lots': 772,\n",
              " 'lotr': 9259,\n",
              " 'irs': 9879,\n",
              " 'lott': 52167,\n",
              " 'xvi': 40892,\n",
              " 'irk': 34728,\n",
              " 'irl': 52168,\n",
              " 'ira': 6887,\n",
              " 'belzer': 21913,\n",
              " 'irc': 52169,\n",
              " 'ire': 27645,\n",
              " 'requisites': 40893,\n",
              " 'discipline': 7693,\n",
              " 'lyoko': 52961,\n",
              " 'extend': 11310,\n",
              " 'nature': 873,\n",
              " \"'dickie'\": 52170,\n",
              " 'optimist': 40894,\n",
              " 'lapping': 30586,\n",
              " 'superficial': 3900,\n",
              " 'vestment': 52171,\n",
              " 'extent': 2823,\n",
              " 'tendons': 52172,\n",
              " \"heller's\": 52173,\n",
              " 'quagmires': 52174,\n",
              " 'miyako': 52175,\n",
              " 'moocow': 20601,\n",
              " \"coles'\": 52176,\n",
              " 'lookit': 40895,\n",
              " 'ravenously': 52177,\n",
              " 'levitating': 40896,\n",
              " 'perfunctorily': 52178,\n",
              " 'lookin': 30587,\n",
              " \"lot'\": 40898,\n",
              " 'lookie': 52179,\n",
              " 'fearlessly': 34870,\n",
              " 'libyan': 52181,\n",
              " 'fondles': 40899,\n",
              " 'gopher': 35714,\n",
              " 'wearying': 40901,\n",
              " \"nz's\": 52182,\n",
              " 'minuses': 27646,\n",
              " 'puposelessly': 52183,\n",
              " 'shandling': 52184,\n",
              " 'decapitates': 31268,\n",
              " 'humming': 11929,\n",
              " \"'nother\": 40902,\n",
              " 'smackdown': 21914,\n",
              " 'underdone': 30588,\n",
              " 'frf': 40903,\n",
              " 'triviality': 52185,\n",
              " 'fro': 25248,\n",
              " 'bothers': 8777,\n",
              " \"'kensington\": 52186,\n",
              " 'much': 73,\n",
              " 'muco': 34730,\n",
              " 'wiseguy': 22615,\n",
              " \"richie's\": 27648,\n",
              " 'tonino': 40904,\n",
              " 'unleavened': 52187,\n",
              " 'fry': 11587,\n",
              " \"'tv'\": 40905,\n",
              " 'toning': 40906,\n",
              " 'obese': 14361,\n",
              " 'sensationalized': 30589,\n",
              " 'spiv': 40907,\n",
              " 'spit': 6259,\n",
              " 'arkin': 7364,\n",
              " 'charleton': 21915,\n",
              " 'jeon': 16823,\n",
              " 'boardroom': 21916,\n",
              " 'doubts': 4989,\n",
              " 'spin': 3084,\n",
              " 'hepo': 53083,\n",
              " 'wildcat': 27649,\n",
              " 'venoms': 10584,\n",
              " 'misconstrues': 52191,\n",
              " 'mesmerising': 18514,\n",
              " 'misconstrued': 40908,\n",
              " 'rescinds': 52192,\n",
              " 'prostrate': 52193,\n",
              " 'majid': 40909,\n",
              " 'climbed': 16479,\n",
              " 'canoeing': 34731,\n",
              " 'majin': 52195,\n",
              " 'animie': 57804,\n",
              " 'sylke': 40910,\n",
              " 'conditioned': 14899,\n",
              " 'waddell': 40911,\n",
              " '3\\x85': 52196,\n",
              " 'hyperdrive': 41188,\n",
              " 'conditioner': 34732,\n",
              " 'bricklayer': 53153,\n",
              " 'hong': 2576,\n",
              " 'memoriam': 52198,\n",
              " 'inventively': 30592,\n",
              " \"levant's\": 25249,\n",
              " 'portobello': 20638,\n",
              " 'remand': 52200,\n",
              " 'mummified': 19504,\n",
              " 'honk': 27650,\n",
              " 'spews': 19505,\n",
              " 'visitations': 40912,\n",
              " 'mummifies': 52201,\n",
              " 'cavanaugh': 25250,\n",
              " 'zeon': 23385,\n",
              " \"jungle's\": 40913,\n",
              " 'viertel': 34733,\n",
              " 'frenchmen': 27651,\n",
              " 'torpedoes': 52202,\n",
              " 'schlessinger': 52203,\n",
              " 'torpedoed': 34734,\n",
              " 'blister': 69876,\n",
              " 'cinefest': 52204,\n",
              " 'furlough': 34735,\n",
              " 'mainsequence': 52205,\n",
              " 'mentors': 40914,\n",
              " 'academic': 9094,\n",
              " 'stillness': 20602,\n",
              " 'academia': 40915,\n",
              " 'lonelier': 52206,\n",
              " 'nibby': 52207,\n",
              " \"losers'\": 52208,\n",
              " 'cineastes': 40916,\n",
              " 'corporate': 4449,\n",
              " 'massaging': 40917,\n",
              " 'bellow': 30593,\n",
              " 'absurdities': 19506,\n",
              " 'expetations': 53241,\n",
              " 'nyfiken': 40918,\n",
              " 'mehras': 75638,\n",
              " 'lasse': 52209,\n",
              " 'visability': 52210,\n",
              " 'militarily': 33946,\n",
              " \"elder'\": 52211,\n",
              " 'gainsbourg': 19023,\n",
              " 'hah': 20603,\n",
              " 'hai': 13420,\n",
              " 'haj': 34736,\n",
              " 'hak': 25251,\n",
              " 'hal': 4311,\n",
              " 'ham': 4892,\n",
              " 'duffer': 53259,\n",
              " 'haa': 52213,\n",
              " 'had': 66,\n",
              " 'advancement': 11930,\n",
              " 'hag': 16825,\n",
              " \"hand'\": 25252,\n",
              " 'hay': 13421,\n",
              " 'mcnamara': 20604,\n",
              " \"mozart's\": 52214,\n",
              " 'duffel': 30731,\n",
              " 'haq': 30594,\n",
              " 'har': 13887,\n",
              " 'has': 44,\n",
              " 'hat': 2401,\n",
              " 'hav': 40919,\n",
              " 'haw': 30595,\n",
              " 'figtings': 52215,\n",
              " 'elders': 15495,\n",
              " 'underpanted': 52216,\n",
              " 'pninson': 52217,\n",
              " 'unequivocally': 27652,\n",
              " \"barbara's\": 23673,\n",
              " \"bello'\": 52219,\n",
              " 'indicative': 12997,\n",
              " 'yawnfest': 40920,\n",
              " 'hexploitation': 52220,\n",
              " \"loder's\": 52221,\n",
              " 'sleuthing': 27653,\n",
              " \"justin's\": 32622,\n",
              " \"'ball\": 52222,\n",
              " \"'summer\": 52223,\n",
              " \"'demons'\": 34935,\n",
              " \"mormon's\": 52225,\n",
              " \"laughton's\": 34737,\n",
              " 'debell': 52226,\n",
              " 'shipyard': 39724,\n",
              " 'unabashedly': 30597,\n",
              " 'disks': 40401,\n",
              " 'crowd': 2290,\n",
              " 'crowe': 10087,\n",
              " \"vancouver's\": 56434,\n",
              " 'mosques': 34738,\n",
              " 'crown': 6627,\n",
              " 'culpas': 52227,\n",
              " 'crows': 27654,\n",
              " 'surrell': 53344,\n",
              " 'flowless': 52229,\n",
              " 'sheirk': 52230,\n",
              " \"'three\": 40923,\n",
              " \"peterson'\": 52231,\n",
              " 'ooverall': 52232,\n",
              " 'perchance': 40924,\n",
              " 'bottom': 1321,\n",
              " 'chabert': 53363,\n",
              " 'sneha': 52233,\n",
              " 'inhuman': 13888,\n",
              " 'ichii': 52234,\n",
              " 'ursla': 52235,\n",
              " 'completly': 30598,\n",
              " 'moviedom': 40925,\n",
              " 'raddick': 52236,\n",
              " 'brundage': 51995,\n",
              " 'brigades': 40926,\n",
              " 'starring': 1181,\n",
              " \"'goal'\": 52237,\n",
              " 'caskets': 52238,\n",
              " 'willcock': 52239,\n",
              " \"threesome's\": 52240,\n",
              " \"mosque'\": 52241,\n",
              " \"cover's\": 52242,\n",
              " 'spaceships': 17637,\n",
              " 'anomalous': 40927,\n",
              " 'ptsd': 27655,\n",
              " 'shirdan': 52243,\n",
              " 'obscenity': 21962,\n",
              " 'lemmings': 30599,\n",
              " 'duccio': 30600,\n",
              " \"levene's\": 52244,\n",
              " \"'gorby'\": 52245,\n",
              " \"teenager's\": 25255,\n",
              " 'marshall': 5340,\n",
              " 'honeymoon': 9095,\n",
              " 'shoots': 3231,\n",
              " 'despised': 12258,\n",
              " 'okabasho': 52246,\n",
              " 'fabric': 8289,\n",
              " 'cannavale': 18515,\n",
              " 'raped': 3537,\n",
              " \"tutt's\": 52247,\n",
              " 'grasping': 17638,\n",
              " 'despises': 18516,\n",
              " \"thief's\": 40928,\n",
              " 'rapes': 8926,\n",
              " 'raper': 52248,\n",
              " \"eyre'\": 27656,\n",
              " 'walchek': 52249,\n",
              " \"elmo's\": 23386,\n",
              " 'perfumes': 40929,\n",
              " 'spurting': 21918,\n",
              " \"exposition'\\x85\": 52250,\n",
              " 'denoting': 52251,\n",
              " 'thesaurus': 34740,\n",
              " \"shoot'\": 40930,\n",
              " 'bonejack': 49759,\n",
              " 'simpsonian': 52253,\n",
              " 'hebetude': 30601,\n",
              " \"hallow's\": 34741,\n",
              " 'desperation\\x85': 52254,\n",
              " 'incinerator': 34742,\n",
              " 'congratulations': 10308,\n",
              " 'humbled': 52255,\n",
              " \"else's\": 5924,\n",
              " 'trelkovski': 40845,\n",
              " \"rape'\": 52256,\n",
              " \"'chapters'\": 59386,\n",
              " '1600s': 52257,\n",
              " 'martian': 7253,\n",
              " 'nicest': 25256,\n",
              " 'eyred': 52259,\n",
              " 'passenger': 9457,\n",
              " 'disgrace': 6041,\n",
              " 'moderne': 52260,\n",
              " 'barrymore': 5120,\n",
              " 'yankovich': 52261,\n",
              " 'moderns': 40931,\n",
              " 'studliest': 52262,\n",
              " 'bedsheet': 52263,\n",
              " 'decapitation': 14900,\n",
              " 'slurring': 52264,\n",
              " \"'nunsploitation'\": 52265,\n",
              " \"'character'\": 34743,\n",
              " 'cambodia': 9880,\n",
              " 'rebelious': 52266,\n",
              " 'pasadena': 27657,\n",
              " 'crowne': 40932,\n",
              " \"'bedchamber\": 52267,\n",
              " 'conjectural': 52268,\n",
              " 'appologize': 52269,\n",
              " 'halfassing': 52270,\n",
              " 'paycheque': 57816,\n",
              " 'palms': 20606,\n",
              " \"'islands\": 52271,\n",
              " 'hawked': 40933,\n",
              " 'palme': 21919,\n",
              " 'conservatively': 40934,\n",
              " 'larp': 64007,\n",
              " 'palma': 5558,\n",
              " 'smelling': 21920,\n",
              " 'aragorn': 12998,\n",
              " 'hawker': 52272,\n",
              " 'hawkes': 52273,\n",
              " 'explosions': 3975,\n",
              " 'loren': 8059,\n",
              " \"pyle's\": 52274,\n",
              " 'shootout': 6704,\n",
              " \"mike's\": 18517,\n",
              " \"driscoll's\": 52275,\n",
              " 'cogsworth': 40935,\n",
              " \"britian's\": 52276,\n",
              " 'childs': 34744,\n",
              " \"portrait's\": 52277,\n",
              " 'chain': 3626,\n",
              " 'whoever': 2497,\n",
              " 'puttered': 52278,\n",
              " 'childe': 52279,\n",
              " 'maywether': 52280,\n",
              " 'chair': 3036,\n",
              " \"rance's\": 52281,\n",
              " 'machu': 34745,\n",
              " 'ballet': 4517,\n",
              " 'grapples': 34746,\n",
              " 'summerize': 76152,\n",
              " 'freelance': 30603,\n",
              " \"andrea's\": 52283,\n",
              " '\\x91very': 52284,\n",
              " 'coolidge': 45879,\n",
              " 'mache': 18518,\n",
              " 'balled': 52285,\n",
              " 'grappled': 40937,\n",
              " 'macha': 18519,\n",
              " 'underlining': 21921,\n",
              " 'macho': 5623,\n",
              " 'oversight': 19507,\n",
              " 'machi': 25257,\n",
              " 'verbally': 11311,\n",
              " 'tenacious': 21922,\n",
              " 'windshields': 40938,\n",
              " 'paychecks': 18557,\n",
              " 'jerk': 3396,\n",
              " \"good'\": 11931,\n",
              " 'prancer': 34748,\n",
              " 'prances': 21923,\n",
              " 'olympus': 52286,\n",
              " 'lark': 21924,\n",
              " 'embark': 10785,\n",
              " 'gloomy': 7365,\n",
              " 'jehaan': 52287,\n",
              " 'turaqui': 52288,\n",
              " \"child'\": 20607,\n",
              " 'locked': 2894,\n",
              " 'pranced': 52289,\n",
              " 'exact': 2588,\n",
              " 'unattuned': 52290,\n",
              " 'minute': 783,\n",
              " 'skewed': 16118,\n",
              " 'hodgins': 40940,\n",
              " 'skewer': 34749,\n",
              " 'think\\x85': 52291,\n",
              " 'rosenstein': 38765,\n",
              " 'helmit': 52292,\n",
              " 'wrestlemanias': 34750,\n",
              " 'hindered': 16826,\n",
              " \"martha's\": 30604,\n",
              " 'cheree': 52293,\n",
              " \"pluckin'\": 52294,\n",
              " 'ogles': 40941,\n",
              " 'heavyweight': 11932,\n",
              " 'aada': 82190,\n",
              " 'chopping': 11312,\n",
              " 'strongboy': 61534,\n",
              " 'hegemonic': 41342,\n",
              " 'adorns': 40942,\n",
              " 'xxth': 41346,\n",
              " 'nobuhiro': 34751,\n",
              " 'capitães': 52298,\n",
              " 'kavogianni': 52299,\n",
              " 'antwerp': 13422,\n",
              " 'celebrated': 6538,\n",
              " 'roarke': 52300,\n",
              " 'baggins': 40943,\n",
              " 'cheeseburgers': 31270,\n",
              " 'matras': 52301,\n",
              " \"nineties'\": 52302,\n",
              " \"'craig'\": 52303,\n",
              " 'celebrates': 12999,\n",
              " 'unintentionally': 3383,\n",
              " 'drafted': 14362,\n",
              " 'climby': 52304,\n",
              " '303': 52305,\n",
              " 'oldies': 18520,\n",
              " 'climbs': 9096,\n",
              " 'honour': 9655,\n",
              " 'plucking': 34752,\n",
              " '305': 30074,\n",
              " 'address': 5514,\n",
              " 'menjou': 40944,\n",
              " \"'freak'\": 42592,\n",
              " 'dwindling': 19508,\n",
              " 'benson': 9458,\n",
              " 'white’s': 52307,\n",
              " 'shamelessness': 40945,\n",
              " 'impacted': 21925,\n",
              " 'upatz': 52308,\n",
              " 'cusack': 3840,\n",
              " \"flavia's\": 37567,\n",
              " 'effette': 52309,\n",
              " 'influx': 34753,\n",
              " 'boooooooo': 52310,\n",
              " 'dimitrova': 52311,\n",
              " 'houseman': 13423,\n",
              " 'bigas': 25259,\n",
              " 'boylen': 52312,\n",
              " 'phillipenes': 52313,\n",
              " 'fakery': 40946,\n",
              " \"grandpa's\": 27658,\n",
              " 'darnell': 27659,\n",
              " 'undergone': 19509,\n",
              " 'handbags': 52315,\n",
              " 'perished': 21926,\n",
              " 'pooped': 37778,\n",
              " 'vigour': 27660,\n",
              " 'opposed': 3627,\n",
              " 'etude': 52316,\n",
              " \"caine's\": 11799,\n",
              " 'doozers': 52317,\n",
              " 'photojournals': 34754,\n",
              " 'perishes': 52318,\n",
              " 'constrains': 34755,\n",
              " 'migenes': 40948,\n",
              " 'consoled': 30605,\n",
              " 'alastair': 16827,\n",
              " 'wvs': 52319,\n",
              " 'ooooooh': 52320,\n",
              " 'approving': 34756,\n",
              " 'consoles': 40949,\n",
              " 'disparagement': 52064,\n",
              " 'futureistic': 52322,\n",
              " 'rebounding': 52323,\n",
              " \"'date\": 52324,\n",
              " 'gregoire': 52325,\n",
              " 'rutherford': 21927,\n",
              " 'americanised': 34757,\n",
              " 'novikov': 82196,\n",
              " 'following': 1042,\n",
              " 'munroe': 34758,\n",
              " \"morita'\": 52326,\n",
              " 'christenssen': 52327,\n",
              " 'oatmeal': 23106,\n",
              " 'fossey': 25260,\n",
              " 'livered': 40950,\n",
              " 'listens': 13000,\n",
              " \"'marci\": 76164,\n",
              " \"otis's\": 52330,\n",
              " 'thanking': 23387,\n",
              " 'maude': 16019,\n",
              " 'extensions': 34759,\n",
              " 'ameteurish': 52332,\n",
              " \"commender's\": 52333,\n",
              " 'agricultural': 27661,\n",
              " 'convincingly': 4518,\n",
              " 'fueled': 17639,\n",
              " 'mahattan': 54014,\n",
              " \"paris's\": 40952,\n",
              " 'vulkan': 52336,\n",
              " 'stapes': 52337,\n",
              " 'odysessy': 52338,\n",
              " 'harmon': 12259,\n",
              " 'surfing': 4252,\n",
              " 'halloran': 23494,\n",
              " 'unbelieveably': 49580,\n",
              " \"'offed'\": 52339,\n",
              " 'quadrant': 30607,\n",
              " 'inhabiting': 19510,\n",
              " 'nebbish': 34760,\n",
              " 'forebears': 40953,\n",
              " 'skirmish': 34761,\n",
              " 'ocassionally': 52340,\n",
              " \"'resist\": 52341,\n",
              " 'impactful': 21928,\n",
              " 'spicier': 52342,\n",
              " 'touristy': 40954,\n",
              " \"'football'\": 52343,\n",
              " 'webpage': 40955,\n",
              " 'exurbia': 52345,\n",
              " 'jucier': 52346,\n",
              " 'professors': 14901,\n",
              " 'structuring': 34762,\n",
              " 'jig': 30608,\n",
              " 'overlord': 40956,\n",
              " 'disconnect': 25261,\n",
              " 'sniffle': 82201,\n",
              " 'slimeball': 40957,\n",
              " 'jia': 40958,\n",
              " 'milked': 16828,\n",
              " 'banjoes': 40959,\n",
              " 'jim': 1237,\n",
              " 'workforces': 52348,\n",
              " 'jip': 52349,\n",
              " 'rotweiller': 52350,\n",
              " 'mundaneness': 34763,\n",
              " \"'ninja'\": 52351,\n",
              " \"dead'\": 11040,\n",
              " \"cipriani's\": 40960,\n",
              " 'modestly': 20608,\n",
              " \"professor'\": 52352,\n",
              " 'shacked': 40961,\n",
              " 'bashful': 34764,\n",
              " 'sorter': 23388,\n",
              " 'overpowering': 16120,\n",
              " 'workmanlike': 18521,\n",
              " 'henpecked': 27662,\n",
              " 'sorted': 18522,\n",
              " \"jōb's\": 52354,\n",
              " \"'always\": 52355,\n",
              " \"'baptists\": 34765,\n",
              " 'dreamcatchers': 52356,\n",
              " \"'silence'\": 52357,\n",
              " 'hickory': 21929,\n",
              " 'fun\\x97yet': 52358,\n",
              " 'breakumentary': 52359,\n",
              " 'didn': 15496,\n",
              " 'didi': 52360,\n",
              " 'pealing': 52361,\n",
              " 'dispite': 40962,\n",
              " \"italy's\": 25262,\n",
              " 'instability': 21930,\n",
              " 'quarter': 6539,\n",
              " 'quartet': 12608,\n",
              " 'padmé': 52362,\n",
              " \"'bleedmedry\": 52363,\n",
              " 'pahalniuk': 52364,\n",
              " 'honduras': 52365,\n",
              " 'bursting': 10786,\n",
              " \"pablo's\": 41465,\n",
              " 'irremediably': 52367,\n",
              " 'presages': 40963,\n",
              " 'bowlegged': 57832,\n",
              " 'dalip': 65183,\n",
              " 'entering': 6260,\n",
              " 'newsradio': 76172,\n",
              " 'presaged': 54150,\n",
              " \"giallo's\": 27663,\n",
              " 'bouyant': 40964,\n",
              " 'amerterish': 52368,\n",
              " 'rajni': 18523,\n",
              " 'leeves': 30610,\n",
              " 'macauley': 34767,\n",
              " 'seriously': 612,\n",
              " 'sugercoma': 52369,\n",
              " 'grimstead': 52370,\n",
              " \"'fairy'\": 52371,\n",
              " 'zenda': 30611,\n",
              " \"'twins'\": 52372,\n",
              " 'realisation': 17640,\n",
              " 'highsmith': 27664,\n",
              " 'raunchy': 7817,\n",
              " 'incentives': 40965,\n",
              " 'flatson': 52374,\n",
              " 'snooker': 35097,\n",
              " 'crazies': 16829,\n",
              " 'crazier': 14902,\n",
              " 'grandma': 7094,\n",
              " 'napunsaktha': 52375,\n",
              " 'workmanship': 30612,\n",
              " 'reisner': 52376,\n",
              " \"sanford's\": 61306,\n",
              " '\\x91doña': 52377,\n",
              " 'modest': 6108,\n",
              " \"everything's\": 19153,\n",
              " 'hamer': 40966,\n",
              " \"couldn't'\": 52379,\n",
              " 'quibble': 13001,\n",
              " 'socking': 52380,\n",
              " 'tingler': 21931,\n",
              " 'gutman': 52381,\n",
              " 'lachlan': 40967,\n",
              " 'tableaus': 52382,\n",
              " 'headbanger': 52383,\n",
              " 'spoken': 2847,\n",
              " 'cerebrally': 34768,\n",
              " \"'road\": 23490,\n",
              " 'tableaux': 21932,\n",
              " \"proust's\": 40968,\n",
              " 'periodical': 40969,\n",
              " \"shoveller's\": 52385,\n",
              " 'tamara': 25263,\n",
              " 'affords': 17641,\n",
              " 'concert': 3249,\n",
              " \"yara's\": 87955,\n",
              " 'someome': 52386,\n",
              " 'lingering': 8424,\n",
              " \"abraham's\": 41511,\n",
              " 'beesley': 34769,\n",
              " 'cherbourg': 34770,\n",
              " 'kagan': 28624,\n",
              " 'snatch': 9097,\n",
              " \"miyazaki's\": 9260,\n",
              " 'absorbs': 25264,\n",
              " \"koltai's\": 40970,\n",
              " 'tingled': 64027,\n",
              " 'crossroads': 19511,\n",
              " 'rehab': 16121,\n",
              " 'falworth': 52389,\n",
              " 'sequals': 52390,\n",
              " ...}"
            ]
          },
          "metadata": {
            "tags": []
          },
          "execution_count": 12
        }
      ]
    },
    {
      "cell_type": "markdown",
      "metadata": {
        "id": "zYeEcLwlOjVK"
      },
      "source": [
        "Преобразуем словарь, чтобы по номеру получать слово"
      ]
    },
    {
      "cell_type": "code",
      "metadata": {
        "id": "AwqwYoPXOXfR"
      },
      "source": [
        "reverse_word_index = dict()\n",
        "for key, value in word_index.items():\n",
        "    reverse_word_index[value] = key"
      ],
      "execution_count": null,
      "outputs": []
    },
    {
      "cell_type": "markdown",
      "metadata": {
        "id": "fOvfw95aNDX3"
      },
      "source": [
        "Печатаем 20 самых частых слов"
      ]
    },
    {
      "cell_type": "code",
      "metadata": {
        "id": "8raHnOxeO5z6",
        "outputId": "e4da2c2d-8f38-417e-90f9-62bd0a750a84",
        "colab": {
          "base_uri": "https://localhost:8080/"
        }
      },
      "source": [
        "for i in range(1, 21):\n",
        "    print(i, '->', reverse_word_index[i])\n"
      ],
      "execution_count": null,
      "outputs": [
        {
          "output_type": "stream",
          "text": [
            "1 -> the\n",
            "2 -> and\n",
            "3 -> a\n",
            "4 -> of\n",
            "5 -> to\n",
            "6 -> is\n",
            "7 -> br\n",
            "8 -> in\n",
            "9 -> it\n",
            "10 -> i\n",
            "11 -> this\n",
            "12 -> that\n",
            "13 -> was\n",
            "14 -> as\n",
            "15 -> for\n",
            "16 -> with\n",
            "17 -> movie\n",
            "18 -> but\n",
            "19 -> film\n",
            "20 -> on\n"
          ],
          "name": "stdout"
        }
      ]
    },
    {
      "cell_type": "markdown",
      "metadata": {
        "id": "wymVK833PN2i"
      },
      "source": [
        "Раскодируем сообщения\n",
        "\n",
        "Служебные коды:  \n",
        "0 - символ заполнитель  \n",
        "1 - начало последовательности  \n",
        "2 - неизвестное слово  "
      ]
    },
    {
      "cell_type": "code",
      "metadata": {
        "id": "dTA_4y_YPRKC",
        "outputId": "c4928da3-8022-4d9e-829b-028cba3baad2",
        "colab": {
          "base_uri": "https://localhost:8080/",
          "height": 145
        }
      },
      "source": [
        "index = 3\n",
        "message = ''\n",
        "for code in x_train[index]:\n",
        "    word = reverse_word_index.get(code - 3, '?')\n",
        "    message += word + ' '\n",
        "message"
      ],
      "execution_count": null,
      "outputs": [
        {
          "output_type": "execute_result",
          "data": {
            "application/vnd.google.colaboratory.intrinsic+json": {
              "type": "string"
            },
            "text/plain": [
              "\"? the ? ? at storytelling the traditional sort many years after the event i can still see in my ? eye an elderly lady my friend's mother retelling the battle of ? she makes the characters come alive her passion is that of an eye witness one to the events on the ? heath a mile or so from where she lives br br of course it happened many years before she was born but you wouldn't guess from the way she tells it the same story is told in bars the length and ? of scotland as i discussed it with a friend one night in ? a local cut in to give his version the discussion continued to closing time br br stories passed down like this become part of our being who doesn't remember the stories our parents told us when we were children they become our invisible world and as we grow older they maybe still serve as inspiration or as an emotional ? fact and fiction blend with ? role models warning stories ? magic and mystery br br my name is ? like my grandfather and his grandfather before him our protagonist introduces himself to us and also introduces the story that stretches back through generations it produces stories within stories stories that evoke the ? wonder of scotland its rugged mountains ? in ? the stuff of legend yet ? is ? in reality this is what gives it its special charm it has a rough beauty and authenticity ? with some of the finest ? singing you will ever hear br br ? ? visits his grandfather in hospital shortly before his death he burns with frustration part of him ? to be in the twenty first century to hang out in ? but he is raised on the western ? among a ? speaking community br br yet there is a deeper conflict within him he ? to know the truth the truth behind his ? ancient stories where does fiction end and he wants to know the truth behind the death of his parents br br he is pulled to make a last ? journey to the ? of one of ? most ? mountains can the truth be told or is it all in stories br br in this story about stories we ? bloody battles ? lovers the ? of old and the sometimes more ? ? of accepted truth in doing so we each connect with ? as he lives the story of his own life br br ? the ? ? is probably the most honest ? and genuinely beautiful film of scotland ever made like ? i got slightly annoyed with the ? of hanging stories on more stories but also like ? i ? this once i saw the ? picture ' forget the box office ? of braveheart and its like you might even ? the ? famous ? of the wicker man to see a film that is true to scotland this one is probably unique if you maybe ? on it deeply enough you might even re ? the power of storytelling and the age old question of whether there are some truths that cannot be told but only experienced \""
            ]
          },
          "metadata": {
            "tags": []
          },
          "execution_count": 15
        }
      ]
    },
    {
      "cell_type": "code",
      "metadata": {
        "id": "ViFfx177br64",
        "outputId": "e26c69b6-a00f-45b3-ee03-3dcfe9d47b10",
        "colab": {
          "base_uri": "https://localhost:8080/"
        }
      },
      "source": [
        "y_train[index]"
      ],
      "execution_count": null,
      "outputs": [
        {
          "output_type": "execute_result",
          "data": {
            "text/plain": [
              "1"
            ]
          },
          "metadata": {
            "tags": []
          },
          "execution_count": 16
        }
      ]
    },
    {
      "cell_type": "markdown",
      "metadata": {
        "id": "pRVnkbM1PWQX"
      },
      "source": [
        "<img src=\"https://www.dropbox.com/s/esnt4eu5u7y57oh/seachd.png?dl=1\" width=\"500\">"
      ]
    },
    {
      "cell_type": "markdown",
      "metadata": {
        "id": "kiA7X0oWaS9Z"
      },
      "source": [
        "## Подготовка данных для обучения"
      ]
    },
    {
      "cell_type": "code",
      "metadata": {
        "id": "PiZZxRZhMVWv"
      },
      "source": [
        "maxlen = 200"
      ],
      "execution_count": null,
      "outputs": []
    },
    {
      "cell_type": "code",
      "metadata": {
        "id": "0YrjnapvMVwf"
      },
      "source": [
        "x_train = pad_sequences(x_train, maxlen=maxlen, padding='post')\n",
        "x_test = pad_sequences(x_test, maxlen=maxlen, padding='post')"
      ],
      "execution_count": null,
      "outputs": []
    },
    {
      "cell_type": "code",
      "metadata": {
        "id": "SnANlxwYMcNX",
        "outputId": "cc4d9b45-effc-4dc2-9c39-914f6a5d4c77",
        "colab": {
          "base_uri": "https://localhost:8080/"
        }
      },
      "source": [
        "x_train[3]"
      ],
      "execution_count": null,
      "outputs": [
        {
          "output_type": "execute_result",
          "data": {
            "text/plain": [
              "array([   4,  341,    7,   27,  846,   10,   10,   29,    9, 1906,    8,\n",
              "         97,    6,  236,    2, 1311,    8,    4,    2,    7,   31,    7,\n",
              "          2,   91,    2, 3987,   70,    4,  882,   30,  579,   42,    9,\n",
              "         12,   32,   11,  537,   10,   10,   11,   14,   65,   44,  537,\n",
              "         75,    2, 1775, 3353,    2, 1846,    4,    2,    7,  154,    5,\n",
              "          4,  518,   53,    2,    2,    7, 3211,  882,   11,  399,   38,\n",
              "         75,  257, 3807,   19,    2,   17,   29,  456,    4,   65,    7,\n",
              "         27,  205,  113,   10,   10,    2,    4,    2,    2,    9,  242,\n",
              "          4,   91, 1202,    2,    5, 2070,  307,   22,    7, 5168,  126,\n",
              "         93,   40,    2,   13,  188, 1076, 3222,   19,    4,    2,    7,\n",
              "       2348,  537,   23,   53,  537,   21,   82,   40,    2,   13,    2,\n",
              "         14,  280,   13,  219,    4,    2,  431,  758,  859,    4,  953,\n",
              "       1052,    2,    7, 5991,    5,   94,   40,   25,  238,   60,    2,\n",
              "          4,    2,  804,    2,    7,    4, 9941,  132,    8,   67,    6,\n",
              "         22,   15,    9,  283,    8, 5168,   14,   31,    9,  242,  955,\n",
              "         48,   25,  279,    2,   23,   12, 1685,  195,   25,  238,   60,\n",
              "        796,    2,    4,  671,    7, 2804,    5,    4,  559,  154,  888,\n",
              "          7,  726,   50,   26,   49, 7008,   15,  566,   30,  579,   21,\n",
              "         64, 2574], dtype=int32)"
            ]
          },
          "metadata": {
            "tags": []
          },
          "execution_count": 19
        }
      ]
    },
    {
      "cell_type": "code",
      "metadata": {
        "id": "Q-lsDYCcafBy",
        "outputId": "3d526e0b-143f-405c-e87b-da937751aab4",
        "colab": {
          "base_uri": "https://localhost:8080/"
        }
      },
      "source": [
        "y_train[3]"
      ],
      "execution_count": null,
      "outputs": [
        {
          "output_type": "execute_result",
          "data": {
            "text/plain": [
              "1"
            ]
          },
          "metadata": {
            "tags": []
          },
          "execution_count": 20
        }
      ]
    },
    {
      "cell_type": "markdown",
      "metadata": {
        "id": "rhSLT9WjTeMk"
      },
      "source": [
        "## Создание нейронной сети"
      ]
    },
    {
      "cell_type": "code",
      "metadata": {
        "id": "Lrzx1e4xTgzL"
      },
      "source": [
        "model = Sequential()\n",
        "model.add(Dense(128, activation='relu', input_shape=(maxlen,)))\n",
        "model.add(Dense(64, activation='relu'))\n",
        "model.add(Dense(1, activation='sigmoid'))"
      ],
      "execution_count": null,
      "outputs": []
    },
    {
      "cell_type": "code",
      "metadata": {
        "id": "u1yNam-uSunE"
      },
      "source": [
        "model.compile(optimizer='adam', \n",
        "              loss='binary_crossentropy', \n",
        "              metrics=['accuracy'])"
      ],
      "execution_count": null,
      "outputs": []
    },
    {
      "cell_type": "markdown",
      "metadata": {
        "id": "9CHZwMttYMTb"
      },
      "source": [
        "## Обучаем нейронную сеть"
      ]
    },
    {
      "cell_type": "code",
      "metadata": {
        "id": "AkmNH7ahYLyc",
        "outputId": "ed5b0169-a41e-4d2f-8605-4956065609b3",
        "colab": {
          "base_uri": "https://localhost:8080/"
        }
      },
      "source": [
        "history = model.fit(x_train, \n",
        "                    y_train, \n",
        "                    epochs=25,\n",
        "                    batch_size=128,\n",
        "                    validation_split=0.1)"
      ],
      "execution_count": null,
      "outputs": [
        {
          "output_type": "stream",
          "text": [
            "Epoch 1/25\n",
            "176/176 [==============================] - 1s 3ms/step - loss: 102.0741 - accuracy: 0.5054 - val_loss: 40.1177 - val_accuracy: 0.5156\n",
            "Epoch 2/25\n",
            "176/176 [==============================] - 0s 3ms/step - loss: 19.8336 - accuracy: 0.5286 - val_loss: 9.7510 - val_accuracy: 0.4952\n",
            "Epoch 3/25\n",
            "176/176 [==============================] - 0s 3ms/step - loss: 4.8520 - accuracy: 0.5337 - val_loss: 2.8694 - val_accuracy: 0.5024\n",
            "Epoch 4/25\n",
            "176/176 [==============================] - 0s 3ms/step - loss: 2.5458 - accuracy: 0.5205 - val_loss: 2.5676 - val_accuracy: 0.4792\n",
            "Epoch 5/25\n",
            "176/176 [==============================] - 0s 3ms/step - loss: 2.0622 - accuracy: 0.5156 - val_loss: 2.3249 - val_accuracy: 0.4864\n",
            "Epoch 6/25\n",
            "176/176 [==============================] - 0s 3ms/step - loss: 1.7850 - accuracy: 0.5217 - val_loss: 1.6847 - val_accuracy: 0.5072\n",
            "Epoch 7/25\n",
            "176/176 [==============================] - 0s 3ms/step - loss: 1.3951 - accuracy: 0.5248 - val_loss: 2.2133 - val_accuracy: 0.4900\n",
            "Epoch 8/25\n",
            "176/176 [==============================] - 0s 3ms/step - loss: 1.4237 - accuracy: 0.5234 - val_loss: 2.1741 - val_accuracy: 0.5108\n",
            "Epoch 9/25\n",
            "176/176 [==============================] - 0s 3ms/step - loss: 1.4827 - accuracy: 0.5289 - val_loss: 1.6475 - val_accuracy: 0.4952\n",
            "Epoch 10/25\n",
            "176/176 [==============================] - 0s 3ms/step - loss: 1.1837 - accuracy: 0.5268 - val_loss: 2.2138 - val_accuracy: 0.4892\n",
            "Epoch 11/25\n",
            "176/176 [==============================] - 0s 3ms/step - loss: 1.0909 - accuracy: 0.5339 - val_loss: 1.5541 - val_accuracy: 0.5044\n",
            "Epoch 12/25\n",
            "176/176 [==============================] - 0s 3ms/step - loss: 1.1410 - accuracy: 0.5356 - val_loss: 1.7133 - val_accuracy: 0.5092\n",
            "Epoch 13/25\n",
            "176/176 [==============================] - 0s 3ms/step - loss: 1.0109 - accuracy: 0.5366 - val_loss: 1.9303 - val_accuracy: 0.5052\n",
            "Epoch 14/25\n",
            "176/176 [==============================] - 0s 3ms/step - loss: 1.1190 - accuracy: 0.5355 - val_loss: 1.8423 - val_accuracy: 0.4772\n",
            "Epoch 15/25\n",
            "176/176 [==============================] - 0s 3ms/step - loss: 1.0695 - accuracy: 0.5296 - val_loss: 1.9236 - val_accuracy: 0.4920\n",
            "Epoch 16/25\n",
            "176/176 [==============================] - 0s 3ms/step - loss: 1.0407 - accuracy: 0.5431 - val_loss: 1.6291 - val_accuracy: 0.5080\n",
            "Epoch 17/25\n",
            "176/176 [==============================] - 0s 3ms/step - loss: 0.9047 - accuracy: 0.5449 - val_loss: 1.5557 - val_accuracy: 0.5256\n",
            "Epoch 18/25\n",
            "176/176 [==============================] - 0s 3ms/step - loss: 0.9907 - accuracy: 0.5364 - val_loss: 2.0181 - val_accuracy: 0.5128\n",
            "Epoch 19/25\n",
            "176/176 [==============================] - 0s 3ms/step - loss: 1.0111 - accuracy: 0.5443 - val_loss: 1.9014 - val_accuracy: 0.4992\n",
            "Epoch 20/25\n",
            "176/176 [==============================] - 0s 3ms/step - loss: 0.9498 - accuracy: 0.5398 - val_loss: 1.4343 - val_accuracy: 0.5020\n",
            "Epoch 21/25\n",
            "176/176 [==============================] - 0s 3ms/step - loss: 0.8964 - accuracy: 0.5428 - val_loss: 1.3619 - val_accuracy: 0.4884\n",
            "Epoch 22/25\n",
            "176/176 [==============================] - 0s 3ms/step - loss: 0.8845 - accuracy: 0.5557 - val_loss: 1.4597 - val_accuracy: 0.4984\n",
            "Epoch 23/25\n",
            "176/176 [==============================] - 0s 3ms/step - loss: 0.9534 - accuracy: 0.5536 - val_loss: 1.8891 - val_accuracy: 0.4984\n",
            "Epoch 24/25\n",
            "176/176 [==============================] - 0s 3ms/step - loss: 0.8332 - accuracy: 0.5540 - val_loss: 1.3483 - val_accuracy: 0.4960\n",
            "Epoch 25/25\n",
            "176/176 [==============================] - 0s 3ms/step - loss: 0.8364 - accuracy: 0.5622 - val_loss: 1.3039 - val_accuracy: 0.5032\n"
          ],
          "name": "stdout"
        }
      ]
    },
    {
      "cell_type": "code",
      "metadata": {
        "id": "bYsG9bOZSeOu",
        "outputId": "3faa783a-7b68-49de-903b-f8411f4e7eb8",
        "colab": {
          "base_uri": "https://localhost:8080/",
          "height": 279
        }
      },
      "source": [
        "plt.plot(history.history['accuracy'], \n",
        "         label='Доля верных ответов на обучающем наборе')\n",
        "plt.plot(history.history['val_accuracy'], \n",
        "         label='Доля верных ответов на проверочном наборе')\n",
        "plt.xlabel('Эпоха обучения')\n",
        "plt.ylabel('Доля верных ответов')\n",
        "plt.legend()\n",
        "plt.show()"
      ],
      "execution_count": null,
      "outputs": [
        {
          "output_type": "display_data",
          "data": {
            "image/png": "[encoded data removed]",
            "text/plain": [
              "<Figure size 432x288 with 1 Axes>"
            ]
          },
          "metadata": {
            "tags": [],
            "needs_background": "light"
          }
        }
      ]
    },
    {
      "cell_type": "markdown",
      "metadata": {
        "id": "HnnIy3JlEGqW"
      },
      "source": [
        "## Проверяем работу сети на тестовом наборе данных"
      ]
    },
    {
      "cell_type": "code",
      "metadata": {
        "id": "J1_ilV14EKBO",
        "outputId": "01587c19-8a97-4fb9-a83e-eb4fdfc1869f",
        "colab": {
          "base_uri": "https://localhost:8080/"
        }
      },
      "source": [
        "scores = model.evaluate(x_test, y_test, verbose=1)"
      ],
      "execution_count": null,
      "outputs": [
        {
          "output_type": "stream",
          "text": [
            "782/782 [==============================] - 1s 2ms/step - loss: 1.2180 - accuracy: 0.5015\n"
          ],
          "name": "stdout"
        }
      ]
    },
    {
      "cell_type": "code",
      "metadata": {
        "id": "l2ZOXG6-EYBW",
        "outputId": "b058721b-18cb-4b3c-987d-48c0f9dc63ad",
        "colab": {
          "base_uri": "https://localhost:8080/"
        }
      },
      "source": [
        "print(\"Доля верных ответов на тестовых данных, в процентах:\", round(scores[1] * 100, 4))"
      ],
      "execution_count": null,
      "outputs": [
        {
          "output_type": "stream",
          "text": [
            "Доля верных ответов на тестовых данных, в процентах: 50.152\n"
          ],
          "name": "stdout"
        }
      ]
    },
    {
      "cell_type": "markdown",
      "metadata": {
        "id": "EgjfPFLxuoaj"
      },
      "source": [
        "## Подготовка данных для обучения Embedding\n"
      ]
    },
    {
      "cell_type": "code",
      "metadata": {
        "id": "e3L-RpTbu5KM"
      },
      "source": [
        "max_words=10000\n",
        "(x_train, y_train), (x_test, y_test) = imdb.load_data(num_words=max_words)"
      ],
      "execution_count": null,
      "outputs": []
    },
    {
      "cell_type": "code",
      "metadata": {
        "id": "3n79Yt85u-eO",
        "outputId": "d47be673-165e-42c3-a84b-ca045be3136c",
        "colab": {
          "base_uri": "https://localhost:8080/"
        }
      },
      "source": [
        "#**Рецензия**\n",
        "x_train[3]"
      ],
      "execution_count": null,
      "outputs": [
        {
          "output_type": "execute_result",
          "data": {
            "text/plain": [
              "[1,\n",
              " 4,\n",
              " 2,\n",
              " 2,\n",
              " 33,\n",
              " 2804,\n",
              " 4,\n",
              " 2040,\n",
              " 432,\n",
              " 111,\n",
              " 153,\n",
              " 103,\n",
              " 4,\n",
              " 1494,\n",
              " 13,\n",
              " 70,\n",
              " 131,\n",
              " 67,\n",
              " 11,\n",
              " 61,\n",
              " 2,\n",
              " 744,\n",
              " 35,\n",
              " 3715,\n",
              " 761,\n",
              " 61,\n",
              " 5766,\n",
              " 452,\n",
              " 9214,\n",
              " 4,\n",
              " 985,\n",
              " 7,\n",
              " 2,\n",
              " 59,\n",
              " 166,\n",
              " 4,\n",
              " 105,\n",
              " 216,\n",
              " 1239,\n",
              " 41,\n",
              " 1797,\n",
              " 9,\n",
              " 15,\n",
              " 7,\n",
              " 35,\n",
              " 744,\n",
              " 2413,\n",
              " 31,\n",
              " 8,\n",
              " 4,\n",
              " 687,\n",
              " 23,\n",
              " 4,\n",
              " 2,\n",
              " 7339,\n",
              " 6,\n",
              " 3693,\n",
              " 42,\n",
              " 38,\n",
              " 39,\n",
              " 121,\n",
              " 59,\n",
              " 456,\n",
              " 10,\n",
              " 10,\n",
              " 7,\n",
              " 265,\n",
              " 12,\n",
              " 575,\n",
              " 111,\n",
              " 153,\n",
              " 159,\n",
              " 59,\n",
              " 16,\n",
              " 1447,\n",
              " 21,\n",
              " 25,\n",
              " 586,\n",
              " 482,\n",
              " 39,\n",
              " 4,\n",
              " 96,\n",
              " 59,\n",
              " 716,\n",
              " 12,\n",
              " 4,\n",
              " 172,\n",
              " 65,\n",
              " 9,\n",
              " 579,\n",
              " 11,\n",
              " 6004,\n",
              " 4,\n",
              " 1615,\n",
              " 5,\n",
              " 2,\n",
              " 7,\n",
              " 5168,\n",
              " 17,\n",
              " 13,\n",
              " 7064,\n",
              " 12,\n",
              " 19,\n",
              " 6,\n",
              " 464,\n",
              " 31,\n",
              " 314,\n",
              " 11,\n",
              " 2,\n",
              " 6,\n",
              " 719,\n",
              " 605,\n",
              " 11,\n",
              " 8,\n",
              " 202,\n",
              " 27,\n",
              " 310,\n",
              " 4,\n",
              " 3772,\n",
              " 3501,\n",
              " 8,\n",
              " 2722,\n",
              " 58,\n",
              " 10,\n",
              " 10,\n",
              " 537,\n",
              " 2116,\n",
              " 180,\n",
              " 40,\n",
              " 14,\n",
              " 413,\n",
              " 173,\n",
              " 7,\n",
              " 263,\n",
              " 112,\n",
              " 37,\n",
              " 152,\n",
              " 377,\n",
              " 4,\n",
              " 537,\n",
              " 263,\n",
              " 846,\n",
              " 579,\n",
              " 178,\n",
              " 54,\n",
              " 75,\n",
              " 71,\n",
              " 476,\n",
              " 36,\n",
              " 413,\n",
              " 263,\n",
              " 2504,\n",
              " 182,\n",
              " 5,\n",
              " 17,\n",
              " 75,\n",
              " 2306,\n",
              " 922,\n",
              " 36,\n",
              " 279,\n",
              " 131,\n",
              " 2895,\n",
              " 17,\n",
              " 2867,\n",
              " 42,\n",
              " 17,\n",
              " 35,\n",
              " 921,\n",
              " 2,\n",
              " 192,\n",
              " 5,\n",
              " 1219,\n",
              " 3890,\n",
              " 19,\n",
              " 2,\n",
              " 217,\n",
              " 4122,\n",
              " 1710,\n",
              " 537,\n",
              " 2,\n",
              " 1236,\n",
              " 5,\n",
              " 736,\n",
              " 10,\n",
              " 10,\n",
              " 61,\n",
              " 403,\n",
              " 9,\n",
              " 2,\n",
              " 40,\n",
              " 61,\n",
              " 4494,\n",
              " 5,\n",
              " 27,\n",
              " 4494,\n",
              " 159,\n",
              " 90,\n",
              " 263,\n",
              " 2311,\n",
              " 4319,\n",
              " 309,\n",
              " 8,\n",
              " 178,\n",
              " 5,\n",
              " 82,\n",
              " 4319,\n",
              " 4,\n",
              " 65,\n",
              " 15,\n",
              " 9225,\n",
              " 145,\n",
              " 143,\n",
              " 5122,\n",
              " 12,\n",
              " 7039,\n",
              " 537,\n",
              " 746,\n",
              " 537,\n",
              " 537,\n",
              " 15,\n",
              " 7979,\n",
              " 4,\n",
              " 2,\n",
              " 594,\n",
              " 7,\n",
              " 5168,\n",
              " 94,\n",
              " 9096,\n",
              " 3987,\n",
              " 2,\n",
              " 11,\n",
              " 2,\n",
              " 4,\n",
              " 538,\n",
              " 7,\n",
              " 1795,\n",
              " 246,\n",
              " 2,\n",
              " 9,\n",
              " 2,\n",
              " 11,\n",
              " 635,\n",
              " 14,\n",
              " 9,\n",
              " 51,\n",
              " 408,\n",
              " 12,\n",
              " 94,\n",
              " 318,\n",
              " 1382,\n",
              " 12,\n",
              " 47,\n",
              " 6,\n",
              " 2683,\n",
              " 936,\n",
              " 5,\n",
              " 6307,\n",
              " 2,\n",
              " 19,\n",
              " 49,\n",
              " 7,\n",
              " 4,\n",
              " 1885,\n",
              " 2,\n",
              " 1118,\n",
              " 25,\n",
              " 80,\n",
              " 126,\n",
              " 842,\n",
              " 10,\n",
              " 10,\n",
              " 2,\n",
              " 2,\n",
              " 4726,\n",
              " 27,\n",
              " 4494,\n",
              " 11,\n",
              " 1550,\n",
              " 3633,\n",
              " 159,\n",
              " 27,\n",
              " 341,\n",
              " 29,\n",
              " 2733,\n",
              " 19,\n",
              " 4185,\n",
              " 173,\n",
              " 7,\n",
              " 90,\n",
              " 2,\n",
              " 8,\n",
              " 30,\n",
              " 11,\n",
              " 4,\n",
              " 1784,\n",
              " 86,\n",
              " 1117,\n",
              " 8,\n",
              " 3261,\n",
              " 46,\n",
              " 11,\n",
              " 2,\n",
              " 21,\n",
              " 29,\n",
              " 9,\n",
              " 2841,\n",
              " 23,\n",
              " 4,\n",
              " 1010,\n",
              " 2,\n",
              " 793,\n",
              " 6,\n",
              " 2,\n",
              " 1386,\n",
              " 1830,\n",
              " 10,\n",
              " 10,\n",
              " 246,\n",
              " 50,\n",
              " 9,\n",
              " 6,\n",
              " 2750,\n",
              " 1944,\n",
              " 746,\n",
              " 90,\n",
              " 29,\n",
              " 2,\n",
              " 8,\n",
              " 124,\n",
              " 4,\n",
              " 882,\n",
              " 4,\n",
              " 882,\n",
              " 496,\n",
              " 27,\n",
              " 2,\n",
              " 2213,\n",
              " 537,\n",
              " 121,\n",
              " 127,\n",
              " 1219,\n",
              " 130,\n",
              " 5,\n",
              " 29,\n",
              " 494,\n",
              " 8,\n",
              " 124,\n",
              " 4,\n",
              " 882,\n",
              " 496,\n",
              " 4,\n",
              " 341,\n",
              " 7,\n",
              " 27,\n",
              " 846,\n",
              " 10,\n",
              " 10,\n",
              " 29,\n",
              " 9,\n",
              " 1906,\n",
              " 8,\n",
              " 97,\n",
              " 6,\n",
              " 236,\n",
              " 2,\n",
              " 1311,\n",
              " 8,\n",
              " 4,\n",
              " 2,\n",
              " 7,\n",
              " 31,\n",
              " 7,\n",
              " 2,\n",
              " 91,\n",
              " 2,\n",
              " 3987,\n",
              " 70,\n",
              " 4,\n",
              " 882,\n",
              " 30,\n",
              " 579,\n",
              " 42,\n",
              " 9,\n",
              " 12,\n",
              " 32,\n",
              " 11,\n",
              " 537,\n",
              " 10,\n",
              " 10,\n",
              " 11,\n",
              " 14,\n",
              " 65,\n",
              " 44,\n",
              " 537,\n",
              " 75,\n",
              " 2,\n",
              " 1775,\n",
              " 3353,\n",
              " 2,\n",
              " 1846,\n",
              " 4,\n",
              " 2,\n",
              " 7,\n",
              " 154,\n",
              " 5,\n",
              " 4,\n",
              " 518,\n",
              " 53,\n",
              " 2,\n",
              " 2,\n",
              " 7,\n",
              " 3211,\n",
              " 882,\n",
              " 11,\n",
              " 399,\n",
              " 38,\n",
              " 75,\n",
              " 257,\n",
              " 3807,\n",
              " 19,\n",
              " 2,\n",
              " 17,\n",
              " 29,\n",
              " 456,\n",
              " 4,\n",
              " 65,\n",
              " 7,\n",
              " 27,\n",
              " 205,\n",
              " 113,\n",
              " 10,\n",
              " 10,\n",
              " 2,\n",
              " 4,\n",
              " 2,\n",
              " 2,\n",
              " 9,\n",
              " 242,\n",
              " 4,\n",
              " 91,\n",
              " 1202,\n",
              " 2,\n",
              " 5,\n",
              " 2070,\n",
              " 307,\n",
              " 22,\n",
              " 7,\n",
              " 5168,\n",
              " 126,\n",
              " 93,\n",
              " 40,\n",
              " 2,\n",
              " 13,\n",
              " 188,\n",
              " 1076,\n",
              " 3222,\n",
              " 19,\n",
              " 4,\n",
              " 2,\n",
              " 7,\n",
              " 2348,\n",
              " 537,\n",
              " 23,\n",
              " 53,\n",
              " 537,\n",
              " 21,\n",
              " 82,\n",
              " 40,\n",
              " 2,\n",
              " 13,\n",
              " 2,\n",
              " 14,\n",
              " 280,\n",
              " 13,\n",
              " 219,\n",
              " 4,\n",
              " 2,\n",
              " 431,\n",
              " 758,\n",
              " 859,\n",
              " 4,\n",
              " 953,\n",
              " 1052,\n",
              " 2,\n",
              " 7,\n",
              " 5991,\n",
              " 5,\n",
              " 94,\n",
              " 40,\n",
              " 25,\n",
              " 238,\n",
              " 60,\n",
              " 2,\n",
              " 4,\n",
              " 2,\n",
              " 804,\n",
              " 2,\n",
              " 7,\n",
              " 4,\n",
              " 9941,\n",
              " 132,\n",
              " 8,\n",
              " 67,\n",
              " 6,\n",
              " 22,\n",
              " 15,\n",
              " 9,\n",
              " 283,\n",
              " 8,\n",
              " 5168,\n",
              " 14,\n",
              " 31,\n",
              " 9,\n",
              " 242,\n",
              " 955,\n",
              " 48,\n",
              " 25,\n",
              " 279,\n",
              " 2,\n",
              " 23,\n",
              " 12,\n",
              " 1685,\n",
              " 195,\n",
              " 25,\n",
              " 238,\n",
              " 60,\n",
              " 796,\n",
              " 2,\n",
              " 4,\n",
              " 671,\n",
              " 7,\n",
              " 2804,\n",
              " 5,\n",
              " 4,\n",
              " 559,\n",
              " 154,\n",
              " 888,\n",
              " 7,\n",
              " 726,\n",
              " 50,\n",
              " 26,\n",
              " 49,\n",
              " 7008,\n",
              " 15,\n",
              " 566,\n",
              " 30,\n",
              " 579,\n",
              " 21,\n",
              " 64,\n",
              " 2574]"
            ]
          },
          "metadata": {
            "tags": []
          },
          "execution_count": 28
        }
      ]
    },
    {
      "cell_type": "code",
      "metadata": {
        "id": "t6aehRxCvTUK",
        "outputId": "bb4bac8b-40dc-47e9-d3e8-82e9a0c04818",
        "colab": {
          "base_uri": "https://localhost:8080/"
        }
      },
      "source": [
        "#Правильный ответ\n",
        "y_train[3]"
      ],
      "execution_count": null,
      "outputs": [
        {
          "output_type": "execute_result",
          "data": {
            "text/plain": [
              "1"
            ]
          },
          "metadata": {
            "tags": []
          },
          "execution_count": 29
        }
      ]
    },
    {
      "cell_type": "code",
      "metadata": {
        "id": "eXSFjSYIvDZL"
      },
      "source": [
        "\n",
        "\n",
        "maxlen = 200\n",
        "\n",
        "x_train = pad_sequences(x_train, maxlen=maxlen, padding='post')\n",
        "x_test = pad_sequences(x_test, maxlen=maxlen, padding='post')"
      ],
      "execution_count": null,
      "outputs": []
    },
    {
      "cell_type": "code",
      "metadata": {
        "id": "GzaTyMjivW5y",
        "outputId": "d1155f22-051c-42e4-aadd-03f415e40b75",
        "colab": {
          "base_uri": "https://localhost:8080/"
        }
      },
      "source": [
        "x_train[3]"
      ],
      "execution_count": null,
      "outputs": [
        {
          "output_type": "execute_result",
          "data": {
            "text/plain": [
              "array([   4,  341,    7,   27,  846,   10,   10,   29,    9, 1906,    8,\n",
              "         97,    6,  236,    2, 1311,    8,    4,    2,    7,   31,    7,\n",
              "          2,   91,    2, 3987,   70,    4,  882,   30,  579,   42,    9,\n",
              "         12,   32,   11,  537,   10,   10,   11,   14,   65,   44,  537,\n",
              "         75,    2, 1775, 3353,    2, 1846,    4,    2,    7,  154,    5,\n",
              "          4,  518,   53,    2,    2,    7, 3211,  882,   11,  399,   38,\n",
              "         75,  257, 3807,   19,    2,   17,   29,  456,    4,   65,    7,\n",
              "         27,  205,  113,   10,   10,    2,    4,    2,    2,    9,  242,\n",
              "          4,   91, 1202,    2,    5, 2070,  307,   22,    7, 5168,  126,\n",
              "         93,   40,    2,   13,  188, 1076, 3222,   19,    4,    2,    7,\n",
              "       2348,  537,   23,   53,  537,   21,   82,   40,    2,   13,    2,\n",
              "         14,  280,   13,  219,    4,    2,  431,  758,  859,    4,  953,\n",
              "       1052,    2,    7, 5991,    5,   94,   40,   25,  238,   60,    2,\n",
              "          4,    2,  804,    2,    7,    4, 9941,  132,    8,   67,    6,\n",
              "         22,   15,    9,  283,    8, 5168,   14,   31,    9,  242,  955,\n",
              "         48,   25,  279,    2,   23,   12, 1685,  195,   25,  238,   60,\n",
              "        796,    2,    4,  671,    7, 2804,    5,    4,  559,  154,  888,\n",
              "          7,  726,   50,   26,   49, 7008,   15,  566,   30,  579,   21,\n",
              "         64, 2574], dtype=int32)"
            ]
          },
          "metadata": {
            "tags": []
          },
          "execution_count": 31
        }
      ]
    },
    {
      "cell_type": "code",
      "metadata": {
        "id": "rdLKnWpUveZB",
        "outputId": "ee06378b-e551-4cd7-a174-847975a8996a",
        "colab": {
          "base_uri": "https://localhost:8080/"
        }
      },
      "source": [
        "y_train[3]"
      ],
      "execution_count": null,
      "outputs": [
        {
          "output_type": "execute_result",
          "data": {
            "text/plain": [
              "1"
            ]
          },
          "metadata": {
            "tags": []
          },
          "execution_count": 32
        }
      ]
    },
    {
      "cell_type": "markdown",
      "metadata": {
        "id": "IwrFgYiivhie"
      },
      "source": [
        "# Создание Нейронной сети Embedding\n",
        "\n",
        "---\n",
        "\n"
      ]
    },
    {
      "cell_type": "code",
      "metadata": {
        "id": "heA51Z0Uv0kt"
      },
      "source": [
        "from tensorflow.keras.layers import Dense, Embedding, Flatten, Dropout\n"
      ],
      "execution_count": null,
      "outputs": []
    },
    {
      "cell_type": "code",
      "metadata": {
        "id": "Myhqxenqvlsl"
      },
      "source": [
        "model = Sequential()\n",
        "model.add(Embedding(max_words, 2, input_length=maxlen))\n",
        "model.add(Dropout(0.25))\n",
        "model.add(Flatten())\n",
        "model.add(Dense(1, activation='sigmoid'))"
      ],
      "execution_count": null,
      "outputs": []
    },
    {
      "cell_type": "code",
      "metadata": {
        "id": "cyh7uqbev_8y"
      },
      "source": [
        "model.compile(optimizer='adam', \n",
        "              loss='binary_crossentropy', \n",
        "              metrics=['accuracy'])"
      ],
      "execution_count": null,
      "outputs": []
    },
    {
      "cell_type": "markdown",
      "metadata": {
        "id": "cUwzmRuKwDj6"
      },
      "source": [
        "#Обучаем НС"
      ]
    },
    {
      "cell_type": "code",
      "metadata": {
        "id": "HyC1d5B-wHdL",
        "outputId": "f2501b56-5d56-4c6a-8b57-aab60adb75de",
        "colab": {
          "base_uri": "https://localhost:8080/"
        }
      },
      "source": [
        "history = model.fit(x_train, \n",
        "                    y_train, \n",
        "                    epochs=15,\n",
        "                    batch_size=128,\n",
        "                    validation_split=0.1)"
      ],
      "execution_count": null,
      "outputs": [
        {
          "output_type": "stream",
          "text": [
            "Epoch 1/15\n",
            "176/176 [==============================] - 1s 5ms/step - loss: 0.6898 - accuracy: 0.5422 - val_loss: 0.6775 - val_accuracy: 0.6512\n",
            "Epoch 2/15\n",
            "176/176 [==============================] - 1s 4ms/step - loss: 0.6021 - accuracy: 0.7387 - val_loss: 0.5079 - val_accuracy: 0.8084\n",
            "Epoch 3/15\n",
            "176/176 [==============================] - 1s 4ms/step - loss: 0.4269 - accuracy: 0.8389 - val_loss: 0.3850 - val_accuracy: 0.8536\n",
            "Epoch 4/15\n",
            "176/176 [==============================] - 1s 4ms/step - loss: 0.3339 - accuracy: 0.8747 - val_loss: 0.3366 - val_accuracy: 0.8696\n",
            "Epoch 5/15\n",
            "176/176 [==============================] - 1s 4ms/step - loss: 0.2885 - accuracy: 0.8901 - val_loss: 0.3133 - val_accuracy: 0.8748\n",
            "Epoch 6/15\n",
            "176/176 [==============================] - 1s 4ms/step - loss: 0.2586 - accuracy: 0.9058 - val_loss: 0.3018 - val_accuracy: 0.8804\n",
            "Epoch 7/15\n",
            "176/176 [==============================] - 1s 4ms/step - loss: 0.2365 - accuracy: 0.9129 - val_loss: 0.2926 - val_accuracy: 0.8856\n",
            "Epoch 8/15\n",
            "176/176 [==============================] - 1s 4ms/step - loss: 0.2195 - accuracy: 0.9165 - val_loss: 0.2880 - val_accuracy: 0.8852\n",
            "Epoch 9/15\n",
            "176/176 [==============================] - 1s 4ms/step - loss: 0.2077 - accuracy: 0.9239 - val_loss: 0.2848 - val_accuracy: 0.8884\n",
            "Epoch 10/15\n",
            "176/176 [==============================] - 1s 4ms/step - loss: 0.1955 - accuracy: 0.9295 - val_loss: 0.2835 - val_accuracy: 0.8844\n",
            "Epoch 11/15\n",
            "176/176 [==============================] - 1s 4ms/step - loss: 0.1859 - accuracy: 0.9321 - val_loss: 0.2840 - val_accuracy: 0.8832\n",
            "Epoch 12/15\n",
            "176/176 [==============================] - 1s 4ms/step - loss: 0.1793 - accuracy: 0.9342 - val_loss: 0.2834 - val_accuracy: 0.8848\n",
            "Epoch 13/15\n",
            "176/176 [==============================] - 1s 4ms/step - loss: 0.1699 - accuracy: 0.9398 - val_loss: 0.2825 - val_accuracy: 0.8848\n",
            "Epoch 14/15\n",
            "176/176 [==============================] - 1s 4ms/step - loss: 0.1631 - accuracy: 0.9423 - val_loss: 0.2840 - val_accuracy: 0.8852\n",
            "Epoch 15/15\n",
            "176/176 [==============================] - 1s 4ms/step - loss: 0.1545 - accuracy: 0.9461 - val_loss: 0.2843 - val_accuracy: 0.8860\n"
          ],
          "name": "stdout"
        }
      ]
    },
    {
      "cell_type": "code",
      "metadata": {
        "id": "JfmShM9ZwNe_",
        "outputId": "eb14be3f-1322-4e9e-a02e-0eba9f5e5102",
        "colab": {
          "base_uri": "https://localhost:8080/",
          "height": 279
        }
      },
      "source": [
        "plt.plot(history.history['accuracy'], \n",
        "         label='Доля верных ответов на обучающем наборе')\n",
        "plt.plot(history.history['val_accuracy'], \n",
        "         label='Доля верных ответов на проверочном наборе')\n",
        "plt.xlabel('Эпоха обучения')\n",
        "plt.ylabel('Доля верных ответов')\n",
        "plt.legend()\n",
        "plt.show()"
      ],
      "execution_count": null,
      "outputs": [
        {
          "output_type": "display_data",
          "data": {
            "image/png": "[encoded data removed]",
            "text/plain": [
              "<Figure size 432x288 with 1 Axes>"
            ]
          },
          "metadata": {
            "tags": [],
            "needs_background": "light"
          }
        }
      ]
    },
    {
      "cell_type": "code",
      "metadata": {
        "id": "uquDZ0Htwoy_",
        "outputId": "98eac6b4-f64b-4c1d-c450-8ef14c64e723",
        "colab": {
          "base_uri": "https://localhost:8080/"
        }
      },
      "source": [
        "### Проверяем работу сети на тестовом наборе данных\n",
        "scores = model.evaluate(x_test, y_test, verbose=1)\n"
      ],
      "execution_count": null,
      "outputs": [
        {
          "output_type": "stream",
          "text": [
            "782/782 [==============================] - 1s 2ms/step - loss: 0.3019 - accuracy: 0.8734\n"
          ],
          "name": "stdout"
        }
      ]
    },
    {
      "cell_type": "markdown",
      "metadata": {
        "id": "YlEWY3cywvID"
      },
      "source": [
        "Точность составила 87%"
      ]
    },
    {
      "cell_type": "code",
      "metadata": {
        "id": "d9WnG5A4w2fm"
      },
      "source": [
        "## Исследуем обученное плотное векторное представление слов\n",
        "#**Получаем матрицу плотных векторных представлений слов**\n",
        "embedding_matrix = model.layers[0].get_weights()[0]\n",
        "embedding_matrix[:5]\n",
        "\n",
        "\n",
        "#**Загружаем словарь с номерами слов**\n",
        "word_index_org = imdb.get_word_index()"
      ],
      "execution_count": null,
      "outputs": []
    },
    {
      "cell_type": "markdown",
      "metadata": {
        "id": "LmFiCBbdxVPW"
      },
      "source": [
        "Дополняем словарь служебными символами\n"
      ]
    },
    {
      "cell_type": "code",
      "metadata": {
        "id": "WfIFaZ-zxWUc"
      },
      "source": [
        "word_index = dict()\n",
        "for word,number in word_index_org.items():\n",
        "    word_index[word] = number + 3\n",
        "word_index[\"<Заполнитель>\"] = 0\n",
        "word_index[\"<Начало последовательности>\"] = 1\n",
        "word_index[\"<Неизвестное слово>\"] = 2  \n",
        "word_index[\"<Не используется>\"] = 3"
      ],
      "execution_count": null,
      "outputs": []
    },
    {
      "cell_type": "markdown",
      "metadata": {
        "id": "178v2o3LxfFF"
      },
      "source": [
        "**Ищем векторы для слов**"
      ]
    },
    {
      "cell_type": "code",
      "metadata": {
        "id": "uuJV07o7xgGl",
        "outputId": "d0984fb1-c016-40b5-ee7f-9d659d5e2b1f",
        "colab": {
          "base_uri": "https://localhost:8080/"
        }
      },
      "source": [
        "word = 'good'\n",
        "word_number = word_index[word]\n",
        "print('Номер слова', word_number)\n",
        "print('Вектор для слова', embedding_matrix[word_number])"
      ],
      "execution_count": null,
      "outputs": [
        {
          "output_type": "stream",
          "text": [
            "Номер слова 52\n",
            "Вектор для слова [-0.15903033 -0.1569495 ]\n"
          ],
          "name": "stdout"
        }
      ]
    },
    {
      "cell_type": "markdown",
      "metadata": {
        "id": "636ai0hsxoDx"
      },
      "source": [
        "## Сохраняем обученные плотные векторные представления в файл\n"
      ]
    },
    {
      "cell_type": "markdown",
      "metadata": {
        "id": "-7KJ51rfxtnd"
      },
      "source": [
        "**Составляем реверсивный словарь токенов (слов)**\n"
      ]
    },
    {
      "cell_type": "code",
      "metadata": {
        "id": "iIQf66fQxphL"
      },
      "source": [
        "reverse_word_index = dict()\n",
        "for key, value in word_index.items():\n",
        "    reverse_word_index[value] = key"
      ],
      "execution_count": null,
      "outputs": []
    },
    {
      "cell_type": "markdown",
      "metadata": {
        "id": "bFZ-maxJx10J"
      },
      "source": [
        "Записываем плотные векторные представления в файл\n"
      ]
    },
    {
      "cell_type": "code",
      "metadata": {
        "id": "PCR3uWv1x1T2"
      },
      "source": [
        "filename = 'imdb_embeddings.csv'"
      ],
      "execution_count": null,
      "outputs": []
    },
    {
      "cell_type": "code",
      "metadata": {
        "id": "kxn34_ITyF-D"
      },
      "source": [
        "with open(filename, 'w') as f:\n",
        "    for word_num in range(max_words):\n",
        "      word = reverse_word_index[word_num]\n",
        "      vec = embedding_matrix[word_num]\n",
        "      f.write(word + \",\")\n",
        "      f.write(','.join([str(x) for x in vec]) + \"\\n\")"
      ],
      "execution_count": null,
      "outputs": []
    },
    {
      "cell_type": "code",
      "metadata": {
        "id": "LkGCQyBiyLss",
        "outputId": "f5d34317-3781-4854-daa2-cc0e45ede7f7",
        "colab": {
          "base_uri": "https://localhost:8080/"
        }
      },
      "source": [
        "!head -n 20 $filename"
      ],
      "execution_count": null,
      "outputs": [
        {
          "output_type": "stream",
          "text": [
            "<Заполнитель>,-0.016811058,0.013367372\n",
            "<Начало последовательности>,0.1097743,0.116271816\n",
            "<Неизвестное слово>,0.037610132,0.01668866\n",
            "<Не используется>,0.00078488514,-0.027517617\n",
            "the,-0.024077024,-0.035351958\n",
            "and,-0.08876018,-0.040504538\n",
            "a,-0.0141621055,0.0008033097\n",
            "of,0.015001034,0.014801426\n",
            "to,0.0045481375,-0.008341472\n",
            "is,-0.06415439,-0.038430057\n",
            "br,0.041057415,-0.0062467526\n",
            "in,-0.029638084,-0.012409633\n",
            "it,-0.03762376,-0.077604204\n",
            "i,-0.02118366,0.0032353885\n",
            "this,-0.0005114212,0.03564617\n",
            "that,-0.0075916336,-0.0009934852\n",
            "was,0.023813233,0.051122207\n",
            "as,-0.045547895,0.014432383\n",
            "for,-0.005541032,0.038816705\n",
            "with,-0.0025535058,-0.0048452183\n"
          ],
          "name": "stdout"
        }
      ]
    },
    {
      "cell_type": "markdown",
      "metadata": {
        "id": "9VE7w91-ySq0"
      },
      "source": [
        "**Сохраняем файл на локальный компьютер**\n"
      ]
    },
    {
      "cell_type": "code",
      "metadata": {
        "id": "8LGBgRqhyc35"
      },
      "source": [
        "from google.colab import files\n",
        "%matplotlib inline "
      ],
      "execution_count": null,
      "outputs": []
    },
    {
      "cell_type": "code",
      "metadata": {
        "id": "1xtbASwEyTzl",
        "outputId": "caa0ff06-4cab-4601-d4ab-a673b1658ae9",
        "colab": {
          "base_uri": "https://localhost:8080/",
          "height": 17
        }
      },
      "source": [
        "files.download('imdb_embeddings.csv')"
      ],
      "execution_count": null,
      "outputs": [
        {
          "output_type": "display_data",
          "data": {
            "application/javascript": [
              "\n",
              "    async function download(id, filename, size) {\n",
              "      if (!google.colab.kernel.accessAllowed) {\n",
              "        return;\n",
              "      }\n",
              "      const div = document.createElement('div');\n",
              "      const label = document.createElement('label');\n",
              "      label.textContent = `Downloading \"${filename}\": `;\n",
              "      div.appendChild(label);\n",
              "      const progress = document.createElement('progress');\n",
              "      progress.max = size;\n",
              "      div.appendChild(progress);\n",
              "      document.body.appendChild(div);\n",
              "\n",
              "      const buffers = [];\n",
              "      let downloaded = 0;\n",
              "\n",
              "      const channel = await google.colab.kernel.comms.open(id);\n",
              "      // Send a message to notify the kernel that we're ready.\n",
              "      channel.send({})\n",
              "\n",
              "      for await (const message of channel.messages) {\n",
              "        // Send a message to notify the kernel that we're ready.\n",
              "        channel.send({})\n",
              "        if (message.buffers) {\n",
              "          for (const buffer of message.buffers) {\n",
              "            buffers.push(buffer);\n",
              "            downloaded += buffer.byteLength;\n",
              "            progress.value = downloaded;\n",
              "          }\n",
              "        }\n",
              "      }\n",
              "      const blob = new Blob(buffers, {type: 'application/binary'});\n",
              "      const a = document.createElement('a');\n",
              "      a.href = window.URL.createObjectURL(blob);\n",
              "      a.download = filename;\n",
              "      div.appendChild(a);\n",
              "      a.click();\n",
              "      div.remove();\n",
              "    }\n",
              "  "
            ],
            "text/plain": [
              "<IPython.core.display.Javascript object>"
            ]
          },
          "metadata": {
            "tags": []
          }
        },
        {
          "output_type": "display_data",
          "data": {
            "application/javascript": [
              "download(\"download_dbb1d710-16c0-40f8-884c-4ce331919cbc\", \"imdb_embeddings.csv\", 309413)"
            ],
            "text/plain": [
              "<IPython.core.display.Javascript object>"
            ]
          },
          "metadata": {
            "tags": []
          }
        }
      ]
    },
    {
      "cell_type": "markdown",
      "metadata": {
        "id": "oel2wpO5yna-"
      },
      "source": [
        "## Визуализация плотных векторных представлений слов"
      ]
    },
    {
      "cell_type": "code",
      "metadata": {
        "id": "nMl5TwnPypg_",
        "outputId": "af581e7f-d615-49f5-ccbf-a8702359a585",
        "colab": {
          "base_uri": "https://localhost:8080/",
          "height": 283
        }
      },
      "source": [
        "plt.scatter(embedding_matrix[:,0], embedding_matrix[:,1])"
      ],
      "execution_count": null,
      "outputs": [
        {
          "output_type": "execute_result",
          "data": {
            "text/plain": [
              "<matplotlib.collections.PathCollection at 0x7f7c93cbf5f8>"
            ]
          },
          "metadata": {
            "tags": []
          },
          "execution_count": 48
        },
        {
          "output_type": "display_data",
          "data": {
            "image/png": "[encoded data removed]",
            "text/plain": [
              "<Figure size 432x288 with 1 Axes>"
            ]
          },
          "metadata": {
            "tags": [],
            "needs_background": "light"
          }
        }
      ]
    },
    {
      "cell_type": "markdown",
      "metadata": {
        "id": "v3WAzPDKywsh"
      },
      "source": [
        "**Выбираем коды слов, по которым можно определить тональность отзыва**"
      ]
    },
    {
      "cell_type": "code",
      "metadata": {
        "id": "rkH9N_ulyyqu",
        "outputId": "f02c24c9-f9ab-44c7-fad5-9fe0ab04746d",
        "colab": {
          "base_uri": "https://localhost:8080/"
        }
      },
      "source": [
        "review = ['brilliant', 'fantastic', 'amazing', 'good',\n",
        "          'bad', 'awful','crap', 'terrible', 'trash']\n",
        "enc_review = []\n",
        "for word in review:\n",
        "    enc_review.append(word_index[word])\n",
        "enc_review"
      ],
      "execution_count": null,
      "outputs": [
        {
          "output_type": "execute_result",
          "data": {
            "text/plain": [
              "[530, 777, 480, 52, 78, 373, 595, 394, 1157]"
            ]
          },
          "metadata": {
            "tags": []
          },
          "execution_count": 49
        }
      ]
    },
    {
      "cell_type": "code",
      "metadata": {
        "id": "hwwDVn3gy53m"
      },
      "source": [
        "#Получаем векторное представление интересующих нас слов"
      ],
      "execution_count": null,
      "outputs": []
    },
    {
      "cell_type": "code",
      "metadata": {
        "id": "vNgDAPFDy9h3",
        "outputId": "bc1669fd-5b3a-4833-c546-e2dd4e32ccda",
        "colab": {
          "base_uri": "https://localhost:8080/"
        }
      },
      "source": [
        "review_vectors = embedding_matrix[enc_review]\n",
        "review_vectors"
      ],
      "execution_count": null,
      "outputs": [
        {
          "output_type": "execute_result",
          "data": {
            "text/plain": [
              "array([[-0.52133644, -0.4790809 ],\n",
              "       [-0.5515863 , -0.43264905],\n",
              "       [-0.6037977 , -0.5355316 ],\n",
              "       [-0.15903033, -0.1569495 ],\n",
              "       [ 0.46438783,  0.445389  ],\n",
              "       [ 1.1181571 ,  1.0401738 ],\n",
              "       [ 0.51261026,  0.50404197],\n",
              "       [ 0.7189229 ,  0.6947241 ],\n",
              "       [ 0.22840212,  0.2401237 ]], dtype=float32)"
            ]
          },
          "metadata": {
            "tags": []
          },
          "execution_count": 51
        }
      ]
    },
    {
      "cell_type": "code",
      "metadata": {
        "id": "439pRLC-zDNa"
      },
      "source": [
        "#Визуализация обученного плотного векторного представления слов, по которым можно определить эмоциональную окраску текста"
      ],
      "execution_count": null,
      "outputs": []
    },
    {
      "cell_type": "code",
      "metadata": {
        "id": "pkDTaqVkzJta",
        "outputId": "c2063e75-a2f4-451b-d7e6-7ebf871522fc",
        "colab": {
          "base_uri": "https://localhost:8080/",
          "height": 265
        }
      },
      "source": [
        "plt.scatter(review_vectors[:,0], review_vectors[:,1])\n",
        "for i, txt in enumerate(review):\n",
        "    plt.annotate(txt, (review_vectors[i,0], review_vectors[i,1]))"
      ],
      "execution_count": null,
      "outputs": [
        {
          "output_type": "display_data",
          "data": {
            "image/png": "[encoded data removed]",
            "text/plain": [
              "<Figure size 432x288 with 1 Axes>"
            ]
          },
          "metadata": {
            "tags": [],
            "needs_background": "light"
          }
        }
      ]
    },
    {
      "cell_type": "markdown",
      "metadata": {
        "id": "S3jKAn7qznex"
      },
      "source": [
        "# Функция для кодирования one hot encoding"
      ]
    },
    {
      "cell_type": "code",
      "metadata": {
        "id": "aXuYqqoszxGF"
      },
      "source": [
        "max_words=10000"
      ],
      "execution_count": null,
      "outputs": []
    },
    {
      "cell_type": "code",
      "metadata": {
        "id": "PQWBYjhAzzqT"
      },
      "source": [
        "(x_train, y_train), (x_test, y_test) = imdb.load_data(num_words=max_words)"
      ],
      "execution_count": null,
      "outputs": []
    },
    {
      "cell_type": "code",
      "metadata": {
        "id": "vLXJIFdfz3yv",
        "outputId": "02565bb9-af94-47e3-f0c4-20bd59666cce",
        "colab": {
          "base_uri": "https://localhost:8080/"
        }
      },
      "source": [
        "x_train[0]"
      ],
      "execution_count": null,
      "outputs": [
        {
          "output_type": "execute_result",
          "data": {
            "text/plain": [
              "[1,\n",
              " 14,\n",
              " 22,\n",
              " 16,\n",
              " 43,\n",
              " 530,\n",
              " 973,\n",
              " 1622,\n",
              " 1385,\n",
              " 65,\n",
              " 458,\n",
              " 4468,\n",
              " 66,\n",
              " 3941,\n",
              " 4,\n",
              " 173,\n",
              " 36,\n",
              " 256,\n",
              " 5,\n",
              " 25,\n",
              " 100,\n",
              " 43,\n",
              " 838,\n",
              " 112,\n",
              " 50,\n",
              " 670,\n",
              " 2,\n",
              " 9,\n",
              " 35,\n",
              " 480,\n",
              " 284,\n",
              " 5,\n",
              " 150,\n",
              " 4,\n",
              " 172,\n",
              " 112,\n",
              " 167,\n",
              " 2,\n",
              " 336,\n",
              " 385,\n",
              " 39,\n",
              " 4,\n",
              " 172,\n",
              " 4536,\n",
              " 1111,\n",
              " 17,\n",
              " 546,\n",
              " 38,\n",
              " 13,\n",
              " 447,\n",
              " 4,\n",
              " 192,\n",
              " 50,\n",
              " 16,\n",
              " 6,\n",
              " 147,\n",
              " 2025,\n",
              " 19,\n",
              " 14,\n",
              " 22,\n",
              " 4,\n",
              " 1920,\n",
              " 4613,\n",
              " 469,\n",
              " 4,\n",
              " 22,\n",
              " 71,\n",
              " 87,\n",
              " 12,\n",
              " 16,\n",
              " 43,\n",
              " 530,\n",
              " 38,\n",
              " 76,\n",
              " 15,\n",
              " 13,\n",
              " 1247,\n",
              " 4,\n",
              " 22,\n",
              " 17,\n",
              " 515,\n",
              " 17,\n",
              " 12,\n",
              " 16,\n",
              " 626,\n",
              " 18,\n",
              " 2,\n",
              " 5,\n",
              " 62,\n",
              " 386,\n",
              " 12,\n",
              " 8,\n",
              " 316,\n",
              " 8,\n",
              " 106,\n",
              " 5,\n",
              " 4,\n",
              " 2223,\n",
              " 5244,\n",
              " 16,\n",
              " 480,\n",
              " 66,\n",
              " 3785,\n",
              " 33,\n",
              " 4,\n",
              " 130,\n",
              " 12,\n",
              " 16,\n",
              " 38,\n",
              " 619,\n",
              " 5,\n",
              " 25,\n",
              " 124,\n",
              " 51,\n",
              " 36,\n",
              " 135,\n",
              " 48,\n",
              " 25,\n",
              " 1415,\n",
              " 33,\n",
              " 6,\n",
              " 22,\n",
              " 12,\n",
              " 215,\n",
              " 28,\n",
              " 77,\n",
              " 52,\n",
              " 5,\n",
              " 14,\n",
              " 407,\n",
              " 16,\n",
              " 82,\n",
              " 2,\n",
              " 8,\n",
              " 4,\n",
              " 107,\n",
              " 117,\n",
              " 5952,\n",
              " 15,\n",
              " 256,\n",
              " 4,\n",
              " 2,\n",
              " 7,\n",
              " 3766,\n",
              " 5,\n",
              " 723,\n",
              " 36,\n",
              " 71,\n",
              " 43,\n",
              " 530,\n",
              " 476,\n",
              " 26,\n",
              " 400,\n",
              " 317,\n",
              " 46,\n",
              " 7,\n",
              " 4,\n",
              " 2,\n",
              " 1029,\n",
              " 13,\n",
              " 104,\n",
              " 88,\n",
              " 4,\n",
              " 381,\n",
              " 15,\n",
              " 297,\n",
              " 98,\n",
              " 32,\n",
              " 2071,\n",
              " 56,\n",
              " 26,\n",
              " 141,\n",
              " 6,\n",
              " 194,\n",
              " 7486,\n",
              " 18,\n",
              " 4,\n",
              " 226,\n",
              " 22,\n",
              " 21,\n",
              " 134,\n",
              " 476,\n",
              " 26,\n",
              " 480,\n",
              " 5,\n",
              " 144,\n",
              " 30,\n",
              " 5535,\n",
              " 18,\n",
              " 51,\n",
              " 36,\n",
              " 28,\n",
              " 224,\n",
              " 92,\n",
              " 25,\n",
              " 104,\n",
              " 4,\n",
              " 226,\n",
              " 65,\n",
              " 16,\n",
              " 38,\n",
              " 1334,\n",
              " 88,\n",
              " 12,\n",
              " 16,\n",
              " 283,\n",
              " 5,\n",
              " 16,\n",
              " 4472,\n",
              " 113,\n",
              " 103,\n",
              " 32,\n",
              " 15,\n",
              " 16,\n",
              " 5345,\n",
              " 19,\n",
              " 178,\n",
              " 32]"
            ]
          },
          "metadata": {
            "tags": []
          },
          "execution_count": 56
        }
      ]
    },
    {
      "cell_type": "code",
      "metadata": {
        "id": "PkvtFFbwz956"
      },
      "source": [
        "def vectorize_sequences(sequences, dimension=10000):\n",
        "    results = np.zeros((len(sequences), dimension))\n",
        "    for i, sequence in enumerate(sequences):\n",
        "        results[i, sequence] = 1.\n",
        "    return results"
      ],
      "execution_count": null,
      "outputs": []
    },
    {
      "cell_type": "code",
      "metadata": {
        "id": "IYwJwE0L0AKP"
      },
      "source": [
        "x_train = vectorize_sequences(x_train, max_words)\n",
        "x_test = vectorize_sequences(x_test, max_words)"
      ],
      "execution_count": null,
      "outputs": []
    },
    {
      "cell_type": "code",
      "metadata": {
        "id": "lf99MTN10DiF",
        "outputId": "f641e7c3-0037-44fe-dd63-b85a167f89ff",
        "colab": {
          "base_uri": "https://localhost:8080/"
        }
      },
      "source": [
        "x_train[0][:50]"
      ],
      "execution_count": null,
      "outputs": [
        {
          "output_type": "execute_result",
          "data": {
            "text/plain": [
              "array([0., 1., 1., 0., 1., 1., 1., 1., 1., 1., 0., 0., 1., 1., 1., 1., 1.,\n",
              "       1., 1., 1., 0., 1., 1., 0., 0., 1., 1., 0., 1., 0., 1., 0., 1., 1.,\n",
              "       0., 1., 1., 0., 1., 1., 0., 0., 0., 1., 0., 0., 1., 0., 1., 0.])"
            ]
          },
          "metadata": {
            "tags": []
          },
          "execution_count": 59
        }
      ]
    },
    {
      "cell_type": "code",
      "metadata": {
        "id": "KWgEwXzw0Vni",
        "outputId": "c4eac6bb-b39c-4dc8-b461-23e3b8708979",
        "colab": {
          "base_uri": "https://localhost:8080/"
        }
      },
      "source": [
        "len(x_train[0])"
      ],
      "execution_count": null,
      "outputs": [
        {
          "output_type": "execute_result",
          "data": {
            "text/plain": [
              "10000"
            ]
          },
          "metadata": {
            "tags": []
          },
          "execution_count": 60
        }
      ]
    },
    {
      "cell_type": "code",
      "metadata": {
        "id": "Ilk7ZW_00sKk"
      },
      "source": [
        "model = Sequential()\n",
        "model.add(Dense(128, activation='relu', input_shape=(max_words,)))\n",
        "model.add(Dense(64, activation='relu'))\n",
        "model.add(Dense(1, activation='sigmoid'))"
      ],
      "execution_count": null,
      "outputs": []
    },
    {
      "cell_type": "code",
      "metadata": {
        "id": "jO4sBP4N0wBx"
      },
      "source": [
        "model.compile(optimizer='adam', \n",
        "              loss='binary_crossentropy', \n",
        "              metrics=['accuracy'])"
      ],
      "execution_count": null,
      "outputs": []
    },
    {
      "cell_type": "code",
      "metadata": {
        "id": "pBLEjguv0yjK",
        "outputId": "5c6b85bf-c5a8-4b42-a48a-15b4737d5e55",
        "colab": {
          "base_uri": "https://localhost:8080/"
        }
      },
      "source": [
        "history = model.fit(x_train, \n",
        "                    y_train, \n",
        "                    epochs=10,\n",
        "                    batch_size=128,\n",
        "                    validation_split=0.1)"
      ],
      "execution_count": null,
      "outputs": [
        {
          "output_type": "stream",
          "text": [
            "Epoch 1/10\n",
            "176/176 [==============================] - 1s 6ms/step - loss: 0.3349 - accuracy: 0.8570 - val_loss: 0.2760 - val_accuracy: 0.8904\n",
            "Epoch 2/10\n",
            "176/176 [==============================] - 1s 5ms/step - loss: 0.1695 - accuracy: 0.9353 - val_loss: 0.3049 - val_accuracy: 0.8896\n",
            "Epoch 3/10\n",
            "176/176 [==============================] - 1s 5ms/step - loss: 0.0992 - accuracy: 0.9641 - val_loss: 0.3789 - val_accuracy: 0.8808\n",
            "Epoch 4/10\n",
            "176/176 [==============================] - 1s 5ms/step - loss: 0.0385 - accuracy: 0.9882 - val_loss: 0.4917 - val_accuracy: 0.8856\n",
            "Epoch 5/10\n",
            "176/176 [==============================] - 1s 5ms/step - loss: 0.0092 - accuracy: 0.9979 - val_loss: 0.6207 - val_accuracy: 0.8800\n",
            "Epoch 6/10\n",
            "176/176 [==============================] - 1s 5ms/step - loss: 0.0015 - accuracy: 1.0000 - val_loss: 0.7380 - val_accuracy: 0.8852\n",
            "Epoch 7/10\n",
            "176/176 [==============================] - 1s 5ms/step - loss: 3.7696e-04 - accuracy: 1.0000 - val_loss: 0.7983 - val_accuracy: 0.8848\n",
            "Epoch 8/10\n",
            "176/176 [==============================] - 1s 5ms/step - loss: 2.0912e-04 - accuracy: 1.0000 - val_loss: 0.8339 - val_accuracy: 0.8844\n",
            "Epoch 9/10\n",
            "176/176 [==============================] - 1s 5ms/step - loss: 1.4305e-04 - accuracy: 1.0000 - val_loss: 0.8615 - val_accuracy: 0.8848\n",
            "Epoch 10/10\n",
            "176/176 [==============================] - 1s 5ms/step - loss: 1.0369e-04 - accuracy: 1.0000 - val_loss: 0.8892 - val_accuracy: 0.8844\n"
          ],
          "name": "stdout"
        }
      ]
    },
    {
      "cell_type": "code",
      "metadata": {
        "id": "7L-xdv7-03Ah",
        "outputId": "55ec89a2-8934-423e-ade5-be8f13fe967a",
        "colab": {
          "base_uri": "https://localhost:8080/",
          "height": 279
        }
      },
      "source": [
        "plt.plot(history.history['accuracy'], \n",
        "         label='Доля верных ответов на обучающем наборе')\n",
        "plt.plot(history.history['val_accuracy'], \n",
        "         label='Доля верных ответов на проверочном наборе')\n",
        "plt.xlabel('Эпоха обучения')\n",
        "plt.ylabel('Доля верных ответов')\n",
        "plt.legend()\n",
        "plt.show()"
      ],
      "execution_count": null,
      "outputs": [
        {
          "output_type": "display_data",
          "data": {
            "image/png": "[encoded data removed]",
            "text/plain": [
              "<Figure size 432x288 with 1 Axes>"
            ]
          },
          "metadata": {
            "tags": [],
            "needs_background": "light"
          }
        }
      ]
    },
    {
      "cell_type": "code",
      "metadata": {
        "id": "84IlqBEz1B_X",
        "outputId": "a19aca5d-f084-49fa-be29-1ad100405de9",
        "colab": {
          "base_uri": "https://localhost:8080/"
        }
      },
      "source": [
        "## Проверяем работу сети на тестовом наборе данных\n",
        "scores = model.evaluate(x_test, y_test, verbose=1)"
      ],
      "execution_count": null,
      "outputs": [
        {
          "output_type": "stream",
          "text": [
            "782/782 [==============================] - 2s 2ms/step - loss: 0.9523 - accuracy: 0.8648\n"
          ],
          "name": "stdout"
        }
      ]
    },
    {
      "cell_type": "markdown",
      "metadata": {
        "id": "mWhxAVsbkRh5"
      },
      "source": [
        "# Результ one hot encoding: 86%"
      ]
    },
    {
      "cell_type": "code",
      "metadata": {
        "id": "Wn6WR3hn1ISb",
        "outputId": "b7998c45-5b04-49b9-e40e-549172397dd5",
        "colab": {
          "base_uri": "https://localhost:8080/"
        }
      },
      "source": [
        "print(\"Доля верных ответов на тестовых данных, в процентах:\", round(scores[1] * 100, 4))"
      ],
      "execution_count": null,
      "outputs": [
        {
          "output_type": "stream",
          "text": [
            "Доля верных ответов на тестовых данных, в процентах: 86.476\n"
          ],
          "name": "stdout"
        }
      ]
    },
    {
      "cell_type": "markdown",
      "metadata": {
        "id": "PbUejXq-1mjY"
      },
      "source": [
        "# Вывод: Эмбедингом точность модели дала лучший результа около 87%"
      ]
    }
  ]
}