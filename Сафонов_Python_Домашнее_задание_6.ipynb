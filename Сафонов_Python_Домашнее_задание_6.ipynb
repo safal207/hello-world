{
  "nbformat": 4,
  "nbformat_minor": 0,
  "metadata": {
    "colab": {
      "name": "Сафонов  Python. Домашнее задание 6",
      "provenance": [],
      "collapsed_sections": [],
      "include_colab_link": true
    },
    "kernelspec": {
      "name": "python3",
      "display_name": "Python 3"
    }
  },
  "cells": [
    {
      "cell_type": "markdown",
      "metadata": {
        "id": "view-in-github",
        "colab_type": "text"
      },
      "source": [
        "<a href=\"https://colab.research.google.com/github/safal207/hello-world/blob/master/%D0%A1%D0%B0%D1%84%D0%BE%D0%BD%D0%BE%D0%B2_Python_%D0%94%D0%BE%D0%BC%D0%B0%D1%88%D0%BD%D0%B5%D0%B5_%D0%B7%D0%B0%D0%B4%D0%B0%D0%BD%D0%B8%D0%B5_6.ipynb\" target=\"_parent\"><img src=\"https://colab.research.google.com/assets/colab-badge.svg\" alt=\"Open In Colab\"/></a>"
      ]
    },
    {
      "cell_type": "markdown",
      "metadata": {
        "id": "NRUICBBzlLh2"
      },
      "source": [
        "# Light"
      ]
    },
    {
      "cell_type": "markdown",
      "metadata": {
        "id": "J_3EMvI2E3fG"
      },
      "source": [
        "**Задача 1**\n",
        "\n",
        "Определите функцию ```shut_down```, которая на вход принимает некоторый аргумент. Так что, если на вход было подано \"ДА\", то функция возвращает \"Выключение\", если \"НЕТ\", то должна вернуть \"Выключение отклонено\". Если же ни одно из условий не соблюдено (на вход подали что-то другое), то функция возвращает \"Ошибка!\""
      ]
    },
    {
      "cell_type": "code",
      "metadata": {
        "id": "Hn8T4IUgFrce"
      },
      "source": [
        "\n",
        "def shit_down(sim):\n",
        " \n",
        "  if sim == 'ДА':\n",
        "    print('Выключение')\n",
        "  elif sim == 'НЕТ':\n",
        "    print('Выключение отклонено')\n",
        "  else:\n",
        "    print('Ошибка!')  \n",
        "  "
      ],
      "execution_count": null,
      "outputs": []
    },
    {
      "cell_type": "code",
      "metadata": {
        "id": "jRoOOFN5DfZm",
        "outputId": "d8e79dcc-6168-4f10-f5cf-3339afb590ad",
        "colab": {
          "base_uri": "https://localhost:8080/",
          "height": 35
        }
      },
      "source": [
        "shit_down('ДА')"
      ],
      "execution_count": null,
      "outputs": [
        {
          "output_type": "stream",
          "text": [
            "Выключение\n"
          ],
          "name": "stdout"
        }
      ]
    },
    {
      "cell_type": "code",
      "metadata": {
        "id": "Rt_MzovwDRtX",
        "outputId": "9e85d780-e15b-4622-9146-5fcc6f0bbaee",
        "colab": {
          "base_uri": "https://localhost:8080/",
          "height": 35
        }
      },
      "source": [
        "shit_down('НЕТ')"
      ],
      "execution_count": null,
      "outputs": [
        {
          "output_type": "stream",
          "text": [
            "Выключение отклонено\n"
          ],
          "name": "stdout"
        }
      ]
    },
    {
      "cell_type": "code",
      "metadata": {
        "id": "UNQgef8BDjGZ",
        "outputId": "767fff4a-c611-4dd5-a118-ae158bb6e06c",
        "colab": {
          "base_uri": "https://localhost:8080/",
          "height": 35
        }
      },
      "source": [
        "shit_down('Привет')"
      ],
      "execution_count": null,
      "outputs": [
        {
          "output_type": "stream",
          "text": [
            "Ошибка!\n"
          ],
          "name": "stdout"
        }
      ]
    },
    {
      "cell_type": "markdown",
      "metadata": {
        "id": "y9HKW0zfFrx5"
      },
      "source": [
        "**Задача 2**\n",
        "\n",
        "Напишите функцию, которая возвращает сумму всех четных элементов списка. "
      ]
    },
    {
      "cell_type": "code",
      "metadata": {
        "id": "4EarzKMgF-3S"
      },
      "source": [
        "def special_sum(lst):\n",
        "\n",
        "  s = 0\n",
        "  for i in lst:\n",
        "    if i % 2 == 0:\n",
        "      s += i\n",
        "\n",
        "  return s"
      ],
      "execution_count": null,
      "outputs": []
    },
    {
      "cell_type": "code",
      "metadata": {
        "id": "036c3jbwIgD1",
        "outputId": "547b8be7-6c83-4bfd-8087-057d4517b435",
        "colab": {
          "base_uri": "https://localhost:8080/",
          "height": 35
        }
      },
      "source": [
        "lst = [611, 70, 222, 73, 16, 788]\n",
        "print(special_sum(lst))"
      ],
      "execution_count": null,
      "outputs": [
        {
          "output_type": "stream",
          "text": [
            "1096\n"
          ],
          "name": "stdout"
        }
      ]
    },
    {
      "cell_type": "markdown",
      "metadata": {
        "id": "wmWxT1ibGfpN"
      },
      "source": [
        "**Задача 3**\n",
        "\n",
        "Импортируйте модуль ```math``` и воспользуйтесь оттуда функцией ```sqrt``` для нахождения квадратного корня каждого числа из списка (из задачи № 2).\n"
      ]
    },
    {
      "cell_type": "code",
      "metadata": {
        "id": "J8h1eUc7HwIM"
      },
      "source": [
        "import math\n",
        "lst = [3, 3, 4]\n",
        "results = [math.sqrt(x) for x in lst]"
      ],
      "execution_count": null,
      "outputs": []
    },
    {
      "cell_type": "code",
      "metadata": {
        "id": "Mjr0yMwcIF6L",
        "outputId": "7484bd55-5e40-4c4a-dc8b-184913e86c91",
        "colab": {
          "base_uri": "https://localhost:8080/",
          "height": 54
        }
      },
      "source": [
        "print(lst)\n",
        "print(results)"
      ],
      "execution_count": null,
      "outputs": [
        {
          "output_type": "stream",
          "text": [
            "[3, 3, 4]\n",
            "[1.7320508075688772, 1.7320508075688772, 2.0]\n"
          ],
          "name": "stdout"
        }
      ]
    },
    {
      "cell_type": "markdown",
      "metadata": {
        "id": "JQvwHuGsG9Of"
      },
      "source": [
        "**Задача 4**\n",
        "\n",
        "Напишите функцию, которая рассчитает примерное время выполнения этого домашнего задания. На вход она принимает количество минут, потраченное на каждое задание, и количество заданий. Выведите посчитанное время на экран."
      ]
    },
    {
      "cell_type": "code",
      "metadata": {
        "id": "TkXShZbQu0mr"
      },
      "source": [
        "def minutes_counter(lst, n):\n",
        "  return sum(lst)"
      ],
      "execution_count": null,
      "outputs": []
    },
    {
      "cell_type": "code",
      "metadata": {
        "id": "5LRi8Qo-u6EJ"
      },
      "source": [
        "minutes = [40, 16, 11, 4, 38, 24, 29]"
      ],
      "execution_count": null,
      "outputs": []
    },
    {
      "cell_type": "code",
      "metadata": {
        "id": "H6ElslbvvR6T",
        "outputId": "cead9e42-1c2d-40a1-de26-4516879dcc5c",
        "colab": {
          "base_uri": "https://localhost:8080/",
          "height": 35
        }
      },
      "source": [
        "minutes_counter(minutes, len(minutes))"
      ],
      "execution_count": null,
      "outputs": [
        {
          "output_type": "execute_result",
          "data": {
            "text/plain": [
              "162"
            ]
          },
          "metadata": {
            "tags": []
          },
          "execution_count": 26
        }
      ]
    },
    {
      "cell_type": "markdown",
      "metadata": {
        "id": "uG25f7M3HZbU"
      },
      "source": [
        "**Задача 5**\n",
        "\n",
        "Напишите функцию, которая возвращает перевернутую строку наоборот.\n",
        "Пример: \"начальная строка11\" -> \"11акортс яаньлачан\""
      ]
    },
    {
      "cell_type": "code",
      "metadata": {
        "id": "gP4TQuZJILE_"
      },
      "source": [
        "stroka = 'пароль от Wi-Fi: bOTOt0s@ni123'"
      ],
      "execution_count": null,
      "outputs": []
    },
    {
      "cell_type": "code",
      "metadata": {
        "id": "5YFomPPDwRHY"
      },
      "source": [
        "def string_nazad(string):\n",
        "  string = string[::-1]\n",
        "  return string"
      ],
      "execution_count": null,
      "outputs": []
    },
    {
      "cell_type": "code",
      "metadata": {
        "id": "QngQMKbEwX9N",
        "outputId": "d240cd21-c8d4-4df6-f62b-2d0f42e9b5ef",
        "colab": {
          "base_uri": "https://localhost:8080/",
          "height": 35
        }
      },
      "source": [
        "print(string_nazad(stroka))"
      ],
      "execution_count": null,
      "outputs": [
        {
          "output_type": "stream",
          "text": [
            "321in@s0tOTOb :iF-iW то ьлорап\n"
          ],
          "name": "stdout"
        }
      ]
    },
    {
      "cell_type": "markdown",
      "metadata": {
        "id": "Bscwp2zsILai"
      },
      "source": [
        "**Задача 6**\n",
        "\n",
        "Напишите функцию  ```mult_str()```, которая в качестве параметров принимает строковую переменную ```input_str``` и число ```n```, а возвращает строку, в которой повторяется  ```input_str``` ровно ```n``` раз через пробел ```' '```. Найти значение ```mult_str()``` для ```input_str = 'KuKu'``` и ```n = 10```."
      ]
    },
    {
      "cell_type": "code",
      "metadata": {
        "id": "ShUWX7f4IP17"
      },
      "source": [
        "def mult_str(input_str, n):\n",
        "  res_str = (input_str + ' ') * n\n",
        "  return res_str[:-1]"
      ],
      "execution_count": null,
      "outputs": []
    },
    {
      "cell_type": "code",
      "metadata": {
        "id": "7gILz7DSw1IW"
      },
      "source": [
        "n =10"
      ],
      "execution_count": null,
      "outputs": []
    },
    {
      "cell_type": "code",
      "metadata": {
        "id": "Jpob87xxwvD1",
        "outputId": "21ce0291-386d-4dde-908b-64409cc26293",
        "colab": {
          "base_uri": "https://localhost:8080/",
          "height": 35
        }
      },
      "source": [
        "print(mult_str('KuKu', n))"
      ],
      "execution_count": null,
      "outputs": [
        {
          "output_type": "stream",
          "text": [
            "KuKu KuKu KuKu KuKu KuKu KuKu KuKu KuKu KuKu KuKu\n"
          ],
          "name": "stdout"
        }
      ]
    },
    {
      "cell_type": "markdown",
      "metadata": {
        "id": "sYt2kAdAJE3B"
      },
      "source": [
        "**Задача 7**\n",
        "\n",
        "Создайте функцию-генератор, возвращающую случайное равновероятное значение из множества ```{0,1}```. Сгенерируйте с ее помощью ```1000``` значений. Найдите среднее арифметическое этих значений."
      ]
    },
    {
      "cell_type": "code",
      "metadata": {
        "id": "zhyMuBGTJJpB"
      },
      "source": [
        "import random \n",
        "\n",
        "def gen():\n",
        "    for i in range(1000):\n",
        "        yield random.randint(0, 1)"
      ],
      "execution_count": null,
      "outputs": []
    },
    {
      "cell_type": "code",
      "metadata": {
        "id": "54hTeolDxUti",
        "outputId": "e67e9493-4bb0-4052-af82-d05505790a9f",
        "colab": {
          "base_uri": "https://localhost:8080/",
          "height": 35
        }
      },
      "source": [
        "avg = 0\n",
        "for i in gen():\n",
        "   avg += i\n",
        "print (avg/1000)"
      ],
      "execution_count": null,
      "outputs": [
        {
          "output_type": "stream",
          "text": [
            "0.498\n"
          ],
          "name": "stdout"
        }
      ]
    },
    {
      "cell_type": "markdown",
      "metadata": {
        "id": "vAn4RcjL14om"
      },
      "source": [
        "# Pro\n",
        "\n",
        "**Задача 1**\n",
        "\n",
        "Уже весна, скоро в отпуск. Давайте напишем функцию расчета стоимости вашего путешествия. \n",
        "\n",
        "Определите функцию с названием ```hotel_cost``` и с аргументом - количество ночей - в качестве входных данных. Цена отеля будет 140 у.е. за ночь. Выходит, функция должна вернуть стоимость всех ночей. \n",
        "\n",
        "Определите функцию под названием ```plane_ride_cost```, которая на вход принимает строку - город. Такая функция должна вернуть цену перелета в зависимости от места: если это Крым, то перелет обойдется в 120 у.е., \n",
        "       если Шри-Ланка - 800 у.е.,\n",
        "       если Каир - 400 у.е.,\n",
        "       если Сочи - 120 у.е.\n",
        "\n",
        "Напишите функцию ```rental_car_cost``` с аргументом - количество дней. Эта функция должна рассчитать стоимость аренды авто, если за сутки вы должны оплачивать саму ренту (40 у.е.) + стоимость услуг страхового агентства (+1% от суммарной стоимости услуг каждый следующий день. Т. е. первый день 1% от стоимости, второй - берется 1% от стоимости предыдущего дня (включая 1% за предыдущий день)  и т. д. Если вы арендуете на 7 и более дней, то скидка - 50 у.е., если от 3 до 6 дней включительно - 20 у.е. Обе скидки получить сразу нельзя. \n",
        "Задача состоит в том, чтобы эти функции (```hotel_cost, plane_ride_cost, rental_ride_cost```) были локальными в составе одной глобальной функции trip_cost, которая бы вовзращала сумму этих локальных функций. "
      ]
    },
    {
      "cell_type": "code",
      "metadata": {
        "id": "EtZmdKB_xoR2"
      },
      "source": [
        "def trip_cost(nNights, city, nDays):\n",
        "\n",
        "  def hotel_cost(nNights):\n",
        "    return nNights*140\n",
        "\n",
        "  def plane_ride_cost(city):\n",
        "\n",
        "    if city.lower()=='крым':\n",
        "      cost = 120\n",
        "    elif city.lower()=='шри-ланка':\n",
        "      cost = 800\n",
        "    elif city.lower()=='каир':\n",
        "      cost = 400\n",
        "    elif city.lower()=='сочи':\n",
        "      cost = 120\n",
        "    else:\n",
        "      print('Неизвестный город')\n",
        "      cost = 0\n",
        "\n",
        "    return cost\n",
        "\n",
        "  def rental_car_cost(nDays):\n",
        "    if nDays>=7:\n",
        "      discount=50\n",
        "    elif (nDays>=3 and nDays<=6):\n",
        "      discount=20\n",
        "    else:\n",
        "      discount=0\n",
        "\n",
        "    cost = 40 * nDays * (1+0.01)**nDays - discount\n",
        "\n",
        "    return cost\n",
        "\n",
        "  return hotel_cost(nNights)+plane_ride_cost(city)+rental_car_cost(nDays)"
      ],
      "execution_count": null,
      "outputs": []
    },
    {
      "cell_type": "code",
      "metadata": {
        "id": "2khNMDHMx1Lf",
        "outputId": "6adae73d-bf6b-4abb-bc8e-0b0526a3fc72",
        "colab": {
          "base_uri": "https://localhost:8080/",
          "height": 90
        }
      },
      "source": [
        "nN = int(input('Количество ночей '))\n",
        "st = input('Город? ')\n",
        "nD = int(input('Количество дней аренды автомобиля '))\n",
        "\n",
        "print(round(trip_cost(nN, st, nD), 2), '$')"
      ],
      "execution_count": null,
      "outputs": [
        {
          "output_type": "stream",
          "text": [
            "Количество ночей 10\n",
            "Город? Сочи\n",
            "Количество дней аренды автомобиля 3\n",
            "1623.64 $\n"
          ],
          "name": "stdout"
        }
      ]
    },
    {
      "cell_type": "markdown",
      "metadata": {
        "id": "wzRJhpQbDpLa"
      },
      "source": [
        "**Задача 2**\n",
        "\n",
        "Напишите функцию, которая принимает на вход строку и считает количество букв в  верхнем и в нижнем регистрах. \n",
        "Пример: 'На берегу Амазонки сидел Фернандо'.\n",
        "Что должно быть на выходе?\n",
        "\n",
        "Количество букв в верхнем регистре: 3\n",
        "\n",
        "Количество букв в нижнем регистре: 26"
      ]
    },
    {
      "cell_type": "code",
      "metadata": {
        "id": "4CxCMCvUDolu"
      },
      "source": [
        "stroka = \" 'Тихий Дон' Шолохова - великий роман-эпопея, который можно поставить в один ряд с 'Войной и миром' Толстого\""
      ],
      "execution_count": null,
      "outputs": []
    },
    {
      "cell_type": "code",
      "metadata": {
        "id": "K6WMbELTyjbW"
      },
      "source": [
        "def registr_count(s):\n",
        "    nums = {\"Верхний регистр\": 0, \"Нижний регистр\": 0}\n",
        "    for c in s:\n",
        "        if c.isupper():\n",
        "           nums[\"Верхний регистр\"]+= 1\n",
        "        elif c.islower():\n",
        "           nums[\"Нижний регистр\"]+= 1\n",
        "        else:\n",
        "           pass\n",
        "    print (\"Оригинальная строка : \", s)\n",
        "    print (\"Количество букв верхнего регистра : \", nums[\"Верхний регистр\"])\n",
        "    print (\"Количество букв нижнего регистра : \", nums[\"Нижний регистр\"])\n",
        "\n",
        "    return nums"
      ],
      "execution_count": null,
      "outputs": []
    },
    {
      "cell_type": "code",
      "metadata": {
        "id": "37NrR1dDyq8M",
        "outputId": "802c1962-24f6-44fc-e2d2-a53d90c17325",
        "colab": {
          "base_uri": "https://localhost:8080/",
          "height": 90
        }
      },
      "source": [
        "registr_count(stroka)"
      ],
      "execution_count": null,
      "outputs": [
        {
          "output_type": "stream",
          "text": [
            "Оригинальная строка :   'Тихий Дон' Шолохова - великий роман-эпопея, который можно поставить в один ряд с 'Войной и миром' Толстого\n",
            "Количество букв верхнего регистра :  5\n",
            "Количество букв нижнего регистра :  79\n"
          ],
          "name": "stdout"
        },
        {
          "output_type": "execute_result",
          "data": {
            "text/plain": [
              "{'Верхний регистр': 5, 'Нижний регистр': 79}"
            ]
          },
          "metadata": {
            "tags": []
          },
          "execution_count": 69
        }
      ]
    },
    {
      "cell_type": "markdown",
      "metadata": {
        "id": "bRHvuTc3DwuM"
      },
      "source": [
        "**Задача 3**\n",
        "\n",
        "Напишите функцию, которая принимает на вход число и проверяет, если оно простое.\n",
        "\n",
        "Простые числа - такие числа, которые делятся только на себя либо на единицу. \n",
        "Пример: 3 - это простое число, т. к. нацело 3 делится только на 3 и на 1."
      ]
    },
    {
      "cell_type": "code",
      "metadata": {
        "id": "J8XE56wLDyWm"
      },
      "source": [
        "def kakoe_chiclo(n):\n",
        "    if (n == 1):\n",
        "        return False\n",
        "    elif (n == 2):\n",
        "        return True;\n",
        "    else:\n",
        "        for x in range(2,n):\n",
        "            if(n % x == 0):\n",
        "                return False\n",
        "        return True"
      ],
      "execution_count": null,
      "outputs": []
    },
    {
      "cell_type": "code",
      "metadata": {
        "id": "RiC_VV4RzUhG",
        "outputId": "7e3e4f01-b8aa-471c-d35e-c7d76dcb010c",
        "colab": {
          "base_uri": "https://localhost:8080/",
          "height": 54
        }
      },
      "source": [
        "number = int(input('Введите число '))   \n",
        "if kakoe_chiclo(number):\n",
        "  print(number, ' - простое число')\n",
        "else:\n",
        "  print(number, ' - не простое число')"
      ],
      "execution_count": null,
      "outputs": [
        {
          "output_type": "stream",
          "text": [
            "Введите число 8\n",
            "8  - не простое число\n"
          ],
          "name": "stdout"
        }
      ]
    },
    {
      "cell_type": "markdown",
      "metadata": {
        "id": "CM2pCeFYD1Wv"
      },
      "source": [
        "**Задача 4**\n",
        "\n",
        "Напишите функцию, которая проверяет, если число совершенное.\n",
        "Совершенным числом является положительное число, такое, что оно является суммой собственных положительных делителей (все, кроме самого числа). \n",
        "Пример: первым в числовом ряду совершенным числом является 6: 1+2+3=6\n",
        "Найдите такие числа в промежутке, который вы будете вводить с клавиатуры (два числа: начало и конец промежутка), например, промежуток от 5 до 150."
      ]
    },
    {
      "cell_type": "code",
      "metadata": {
        "id": "GkoKGabEz9ty"
      },
      "source": [
        "def perfectNum(n):\n",
        "    summa = 0\n",
        "    for x in range(1, n):\n",
        "        if n % x == 0:\n",
        "            summa += x\n",
        "    return summa == n"
      ],
      "execution_count": null,
      "outputs": []
    },
    {
      "cell_type": "code",
      "metadata": {
        "id": "XctWtVMX0JpX",
        "outputId": "e7bcb66f-52cd-415a-d064-9d68aafaea3b",
        "colab": {
          "base_uri": "https://localhost:8080/",
          "height": 72
        }
      },
      "source": [
        "n1 = int(input('Введите нижнюю границу: '))\n",
        "n2 = int(input('Введите верхнюю границу: '))\n",
        "\n",
        "for i in range(n1,n2+1):\n",
        "  if perfectNum(i):\n",
        "    print('Число: ',i)"
      ],
      "execution_count": null,
      "outputs": [
        {
          "output_type": "stream",
          "text": [
            "Введите нижнюю границу: 4\n",
            "Введите верхнюю границу: 8\n",
            "Число:  6\n"
          ],
          "name": "stdout"
        }
      ]
    },
    {
      "cell_type": "markdown",
      "metadata": {
        "id": "D7wZxIc2aB5H"
      },
      "source": [
        "**Задача 5**\n",
        "\n",
        "Напишите функцию, которая проверяет, если фраза является палиндромом. Пример такой фразы:\n",
        "\n",
        "А роза упала на лапу Азора. "
      ]
    },
    {
      "cell_type": "code",
      "metadata": {
        "id": "xbvWc4GiD1ey"
      },
      "source": [
        "palindrom = 'А муза рада музе без ума да разума'"
      ],
      "execution_count": null,
      "outputs": []
    },
    {
      "cell_type": "code",
      "metadata": {
        "id": "vHToxLEY0mym"
      },
      "source": [
        "def isPalindrom(string):\n",
        "  string = string.lower()\n",
        "  string = string.replace(' ','')\n",
        "  string = string.replace(',','')\n",
        "\n",
        "  new_str = string[::-1]\n",
        "  return new_str == string"
      ],
      "execution_count": null,
      "outputs": []
    },
    {
      "cell_type": "code",
      "metadata": {
        "id": "6iOqHsPl0ptE",
        "outputId": "b5729629-9720-44d3-d399-c44bcf2d3cd3",
        "colab": {
          "base_uri": "https://localhost:8080/",
          "height": 35
        }
      },
      "source": [
        "isPalindrom(palindrom)"
      ],
      "execution_count": null,
      "outputs": [
        {
          "output_type": "execute_result",
          "data": {
            "text/plain": [
              "True"
            ]
          },
          "metadata": {
            "tags": []
          },
          "execution_count": 62
        }
      ]
    },
    {
      "cell_type": "markdown",
      "metadata": {
        "id": "GUNzOWQuJWp3"
      },
      "source": [
        "**Задача 6**\n",
        " \n",
        "Посчитать значение $\\cos^2(\\pi/7)$ и $\\sin^2(\\pi/7)$, используя указанные функции из библиотеки ```math```, применив для этого **каждую** из конструкций импорта:\n",
        "```\n",
        "# 1. Импорт модуля или модулей целиком\n",
        "import имя_модуля\n",
        "import имя_модуля1, имя_модуля2\n",
        " \n",
        "# 2. Импорт модуля с присвоением псевдонима модулю\n",
        "import имя_модуля as новое_имя\n",
        " \n",
        "# 3. Импорт конкретного объекта из модуля\n",
        "from имя_модуля import имя_объекта\n",
        "from имя_модуля import имя_объекта1, имя_объекта2\n",
        " \n",
        "# 4. Импорт конкретного объекта из модуля с присвоением псевдонима объекту\n",
        "from имя_модуля import имя_объекта as псевдоним_объекта\n",
        " \n",
        "# 5. Импорт всех объектов из модуля\n",
        "from имя_модуля import *\n",
        "```\n",
        "Найдите сумму $\\cos^2(\\pi/7)$ и $\\sin^2(\\pi/7)$.\n"
      ]
    },
    {
      "cell_type": "code",
      "metadata": {
        "id": "ZXHudsD2JfP2",
        "outputId": "58a44f6f-c8d1-4526-a02a-5e9da7c00c3c",
        "colab": {
          "base_uri": "https://localhost:8080/",
          "height": 35
        }
      },
      "source": [
        "#1\n",
        "import math\n",
        "print(math.cos(math.pi/7)**2+math.sin(math.pi/7)**2)"
      ],
      "execution_count": null,
      "outputs": [
        {
          "output_type": "stream",
          "text": [
            "1.0\n"
          ],
          "name": "stdout"
        }
      ]
    },
    {
      "cell_type": "code",
      "metadata": {
        "id": "Bv48r-Jf0-tm",
        "outputId": "71bf1c8b-7360-4b9c-d941-817e1472d86f",
        "colab": {
          "base_uri": "https://localhost:8080/",
          "height": 35
        }
      },
      "source": [
        "#2\n",
        "import math as m\n",
        "print(m.cos(math.pi/7)**2+m.sin(math.pi/7)**2)"
      ],
      "execution_count": null,
      "outputs": [
        {
          "output_type": "stream",
          "text": [
            "1.0\n"
          ],
          "name": "stdout"
        }
      ]
    },
    {
      "cell_type": "code",
      "metadata": {
        "id": "MfV-yLES1FoP",
        "outputId": "3a688610-98f0-4538-e577-8f434d4ff87f",
        "colab": {
          "base_uri": "https://localhost:8080/",
          "height": 35
        }
      },
      "source": [
        "#3\n",
        "from math import cos\n",
        "from math import sin\n",
        "from math import pi\n",
        "print(cos(pi/7)**2+sin(pi/7)**2)"
      ],
      "execution_count": null,
      "outputs": [
        {
          "output_type": "stream",
          "text": [
            "1.0\n"
          ],
          "name": "stdout"
        }
      ]
    },
    {
      "cell_type": "code",
      "metadata": {
        "id": "Ynujxvvc1JRU",
        "outputId": "2aadacbe-755a-4c7c-b489-bd1fab93dbc4",
        "colab": {
          "base_uri": "https://localhost:8080/",
          "height": 35
        }
      },
      "source": [
        "#4\n",
        "from math import cos as c\n",
        "from math import sin as s\n",
        "from math import pi as p\n",
        "print(c(p/7)**2+s(p/7)**2)"
      ],
      "execution_count": null,
      "outputs": [
        {
          "output_type": "stream",
          "text": [
            "1.0\n"
          ],
          "name": "stdout"
        }
      ]
    },
    {
      "cell_type": "code",
      "metadata": {
        "id": "a_X54oIX1Mgf",
        "outputId": "e0f9b97b-3ea3-400e-bd65-8e3b03520359",
        "colab": {
          "base_uri": "https://localhost:8080/",
          "height": 35
        }
      },
      "source": [
        "#5\n",
        "from math import *\n",
        "print(cos(pi/7)**2+sin(pi/7)**2)"
      ],
      "execution_count": null,
      "outputs": [
        {
          "output_type": "stream",
          "text": [
            "1.0\n"
          ],
          "name": "stdout"
        }
      ]
    }
  ]
}