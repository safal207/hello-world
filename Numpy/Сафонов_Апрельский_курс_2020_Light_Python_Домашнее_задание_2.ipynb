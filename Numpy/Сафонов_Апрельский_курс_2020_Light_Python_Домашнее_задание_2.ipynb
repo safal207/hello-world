{
  "nbformat": 4,
  "nbformat_minor": 0,
  "metadata": {
    "kernelspec": {
      "display_name": "Python 3",
      "language": "python",
      "name": "python3"
    },
    "language_info": {
      "codemirror_mode": {
        "name": "ipython",
        "version": 3
      },
      "file_extension": ".py",
      "mimetype": "text/x-python",
      "name": "python",
      "nbconvert_exporter": "python",
      "pygments_lexer": "ipython3",
      "version": "3.6.8"
    },
    "colab": {
      "name": "Сафонов Апрельский курс-2020 Light. Python. Домашнее задание 2",
      "provenance": [],
      "collapsed_sections": [],
      "include_colab_link": true
    }
  },
  "cells": [
    {
      "cell_type": "markdown",
      "metadata": {
        "id": "view-in-github",
        "colab_type": "text"
      },
      "source": [
        "<a href=\"https://colab.research.google.com/github/safal207/hello-world/blob/master/%D0%A1%D0%B0%D1%84%D0%BE%D0%BD%D0%BE%D0%B2_%D0%90%D0%BF%D1%80%D0%B5%D0%BB%D1%8C%D1%81%D0%BA%D0%B8%D0%B9_%D0%BA%D1%83%D1%80%D1%81_2020_Light_Python_%D0%94%D0%BE%D0%BC%D0%B0%D1%88%D0%BD%D0%B5%D0%B5_%D0%B7%D0%B0%D0%B4%D0%B0%D0%BD%D0%B8%D0%B5_2.ipynb\" target=\"_parent\"><img src=\"https://colab.research.google.com/assets/colab-badge.svg\" alt=\"Open In Colab\"/></a>"
      ]
    },
    {
      "cell_type": "markdown",
      "metadata": {
        "id": "rt7rnNMZ8SYb"
      },
      "source": [
        "# Нейронные сети\n",
        "\n",
        "## Домашнее задание 2. Numpy и функции\n",
        "\n",
        "# Light"
      ]
    },
    {
      "cell_type": "markdown",
      "metadata": {
        "id": "x3viGq298SYv"
      },
      "source": [
        "### Задача 1\n",
        "\n",
        "1. Подгрузите файл **train_vector_1.csv** с помощью функции **np.loadtxt**. \n",
        "\n",
        "2. Назовите подгруженный массив my_array.\n",
        "\n",
        "3. Убедитесь, что подгруженный массив имеет тип np.ndarray (выведите тип переменной my_array).\n",
        "\n",
        "Ссылка на файл: https://drive.google.com/open?id=1ngnrhmoMInequrA6JyAe90lEPhcbi0iH"
      ]
    },
    {
      "cell_type": "code",
      "metadata": {
        "id": "YE_uaQPVmSas"
      },
      "source": [
        "import numpy as np # Подключаем библиотеку numpy и задаем ей псевдоним np\n",
        "from google.colab import drive\n"
      ],
      "execution_count": null,
      "outputs": []
    },
    {
      "cell_type": "code",
      "metadata": {
        "id": "3mLLUdd_iHf7"
      },
      "source": [
        "# грузим массив из файла .csv\n",
        "my_array = np.loadtxt('train_vector_1.csv',delimiter=',', skiprows=1) # skiprows=1 - пропускаем первую строку, поскольку в ней названия колонок базы "
      ],
      "execution_count": null,
      "outputs": []
    },
    {
      "cell_type": "code",
      "metadata": {
        "id": "x4STm4xfrcZs",
        "outputId": "3e6ac4a5-919f-4b04-8ed4-8e34c7055d4c",
        "colab": {
          "base_uri": "https://localhost:8080/",
          "height": 34
        }
      },
      "source": [
        "print(type(my_array)) \n",
        "\n"
      ],
      "execution_count": null,
      "outputs": [
        {
          "output_type": "stream",
          "text": [
            "<class 'numpy.ndarray'>\n"
          ],
          "name": "stdout"
        }
      ]
    },
    {
      "cell_type": "markdown",
      "metadata": {
        "id": "Sa06XNJq8SY4"
      },
      "source": [
        "### Задача 2\n",
        "\n",
        "Напишите код, который считает среднее значение всех элементов массива (без использования встроенных функций np.mean и т.д.). Для решения задачи воспользуйтесь циклом.\n",
        "* С помощью команды %%timeit отобразите время выполнения написанного кода.\n",
        "* Преобразуйте массив my_array в список (с помощью метода list()), сохраните его в переменной my_list.\n",
        "* В новой ячейке посчитайте среднее значение всех элементов списка (воспользуйтесь тем же самым кодом, что и для массива).\n",
        "* Командой %%timeit отобразите время выполнения и этой ячейки."
      ]
    },
    {
      "cell_type": "code",
      "metadata": {
        "id": "6PHjn8Kxr2g5",
        "outputId": "1db0493e-42be-49cf-9430-8b9ddd45f2fe",
        "colab": {
          "base_uri": "https://localhost:8080/",
          "height": 544
        }
      },
      "source": [
        "\n",
        "# среднее значение всех эллементов массива\n",
        " %%timeit -n 10\n",
        "summa = 0\n",
        "for idx, el in enumerate(my_array):\n",
        "   summa +=el #  сумма всех элементов массива\n",
        "v_mean = summa / (idx+1)   # среднее значение \n",
        "print(v_mean)\n",
        "\n"
      ],
      "execution_count": null,
      "outputs": [
        {
          "output_type": "stream",
          "text": [
            "3.0543624161073835\n",
            "3.0543624161073835\n",
            "3.0543624161073835\n",
            "3.0543624161073835\n",
            "3.0543624161073835\n",
            "3.0543624161073835\n",
            "3.0543624161073835\n",
            "3.0543624161073835\n",
            "3.0543624161073835\n",
            "3.0543624161073835\n",
            "3.0543624161073835\n",
            "3.0543624161073835\n",
            "3.0543624161073835\n",
            "3.0543624161073835\n",
            "3.0543624161073835\n",
            "3.0543624161073835\n",
            "3.0543624161073835\n",
            "3.0543624161073835\n",
            "3.0543624161073835\n",
            "3.0543624161073835\n",
            "3.0543624161073835\n",
            "3.0543624161073835\n",
            "3.0543624161073835\n",
            "3.0543624161073835\n",
            "3.0543624161073835\n",
            "3.0543624161073835\n",
            "3.0543624161073835\n",
            "3.0543624161073835\n",
            "3.0543624161073835\n",
            "3.0543624161073835\n",
            "10 loops, best of 3: 83.4 µs per loop\n"
          ],
          "name": "stdout"
        }
      ]
    },
    {
      "cell_type": "code",
      "metadata": {
        "id": "bBRL-j8PK_59"
      },
      "source": [
        "my_list = list(my_array) # преобразование в список\n"
      ],
      "execution_count": null,
      "outputs": []
    },
    {
      "cell_type": "code",
      "metadata": {
        "id": "IPPIEnWsKDM3",
        "outputId": "9c0c1c7c-f4ba-4b3f-e750-23014dcdf87b",
        "colab": {
          "base_uri": "https://localhost:8080/",
          "height": 544
        }
      },
      "source": [
        " %%timeit -n 10\n",
        "\n",
        "summa = 0\n",
        "for idx, el in enumerate(my_list):\n",
        "   summa +=el #  сумма всех элементов массива\n",
        "v_mean = summa / (idx+1)   # среднее значение \n",
        "print(v_mean)\n"
      ],
      "execution_count": null,
      "outputs": [
        {
          "output_type": "stream",
          "text": [
            "3.0543624161073835\n",
            "3.0543624161073835\n",
            "3.0543624161073835\n",
            "3.0543624161073835\n",
            "3.0543624161073835\n",
            "3.0543624161073835\n",
            "3.0543624161073835\n",
            "3.0543624161073835\n",
            "3.0543624161073835\n",
            "3.0543624161073835\n",
            "3.0543624161073835\n",
            "3.0543624161073835\n",
            "3.0543624161073835\n",
            "3.0543624161073835\n",
            "3.0543624161073835\n",
            "3.0543624161073835\n",
            "3.0543624161073835\n",
            "3.0543624161073835\n",
            "3.0543624161073835\n",
            "3.0543624161073835\n",
            "3.0543624161073835\n",
            "3.0543624161073835\n",
            "3.0543624161073835\n",
            "3.0543624161073835\n",
            "3.0543624161073835\n",
            "3.0543624161073835\n",
            "3.0543624161073835\n",
            "3.0543624161073835\n",
            "3.0543624161073835\n",
            "3.0543624161073835\n",
            "10 loops, best of 3: 52.5 µs per loop\n"
          ],
          "name": "stdout"
        }
      ]
    },
    {
      "cell_type": "markdown",
      "metadata": {
        "id": "Z7JZ-m918SZA"
      },
      "source": [
        "### Задача 3\n",
        "\n",
        "Подгрузите файл **iris.csv** с помощью встроенной функции **np.loadtxt**. Назовите его my_2d_array. Напиишите код, который считает сумму элементов массива по столбцам (для решения данной задачи воспользуйтесь разделом ноутбук \"Операции с двумерными массивами и встроенные методы\")."
      ]
    },
    {
      "cell_type": "code",
      "metadata": {
        "id": "8_qSM2sbME9I"
      },
      "source": [
        " my_2d_array = np.loadtxt('iris.csv',delimiter=',',skiprows=1)"
      ],
      "execution_count": null,
      "outputs": []
    },
    {
      "cell_type": "code",
      "metadata": {
        "id": "dVt6_SlAOGM9",
        "outputId": "a709ee66-5812-4b1a-8733-a19a51fe79cf",
        "colab": {
          "base_uri": "https://localhost:8080/",
          "height": 34
        }
      },
      "source": [
        " my_2d_array.sum(axis=0) #сумму элементов массива по столбцам"
      ],
      "execution_count": null,
      "outputs": [
        {
          "output_type": "execute_result",
          "data": {
            "text/plain": [
              "array([11175. ,   876.5,   458.6,   563.7,   179.9])"
            ]
          },
          "metadata": {
            "tags": []
          },
          "execution_count": 24
        }
      ]
    },
    {
      "cell_type": "markdown",
      "metadata": {
        "id": "5lm0wgbRzVSA"
      },
      "source": [
        "### Задача 4 \n",
        "\n",
        "* Используя библиотеку numpy, создайте массив 3x3, значения которого находятся в диапазоне от 11 до 40 (раздел \"Семплирование из распределений\"). \n",
        "\n",
        "* Не используя цикл for,  выведите на экран список элементов, которые меньше 20 (раздел \"Индексация\").\n",
        "\n",
        "* Просуммируйте все элементы, не используя цикл for (раздел \"Встроенные методы\").\n"
      ]
    },
    {
      "cell_type": "code",
      "metadata": {
        "id": "ogpzIoNvPC1m",
        "outputId": "0678faa0-294e-4003-d4aa-b1f1517fc23f",
        "colab": {
          "base_uri": "https://localhost:8080/",
          "height": 68
        }
      },
      "source": [
        "my_array = np.random.randint(11,41,(3,3)) #от 11 до 40 // масссив 3 на 3\n",
        "my_array # результат"
      ],
      "execution_count": null,
      "outputs": [
        {
          "output_type": "execute_result",
          "data": {
            "text/plain": [
              "array([[38, 19, 33],\n",
              "       [38, 28, 37],\n",
              "       [12, 38, 16]])"
            ]
          },
          "metadata": {
            "tags": []
          },
          "execution_count": 29
        }
      ]
    },
    {
      "cell_type": "code",
      "metadata": {
        "id": "LHsT6RSSP9up",
        "outputId": "a072776d-b4f4-4a90-ccef-9418a61347be",
        "colab": {
          "base_uri": "https://localhost:8080/",
          "height": 34
        }
      },
      "source": [
        "my_array[my_array < 20] #список элементов меньше 20"
      ],
      "execution_count": null,
      "outputs": [
        {
          "output_type": "execute_result",
          "data": {
            "text/plain": [
              "array([19, 12, 16])"
            ]
          },
          "metadata": {
            "tags": []
          },
          "execution_count": 31
        }
      ]
    },
    {
      "cell_type": "code",
      "metadata": {
        "id": "cWrJBPS0QUKK",
        "outputId": "98f257f9-434a-4ebc-b146-2c2c19985e8c",
        "colab": {
          "base_uri": "https://localhost:8080/",
          "height": 34
        }
      },
      "source": [
        "my_array.sum() #сумма все элементов"
      ],
      "execution_count": null,
      "outputs": [
        {
          "output_type": "execute_result",
          "data": {
            "text/plain": [
              "259"
            ]
          },
          "metadata": {
            "tags": []
          },
          "execution_count": 32
        }
      ]
    },
    {
      "cell_type": "markdown",
      "metadata": {
        "id": "4t6Yrs7Vj80p"
      },
      "source": [
        "### Задача 5\n",
        "\n",
        "* Создайте массив, который будет содержать списки с именем студента(str), его возрастом(int) и средней оценкой(float) (обратите внимание на пример с занятия со списком автомобильных регионов).\n",
        "* Отсортируйте такой массив (обратите внимание на параметр order метода sort()).\n",
        "* Замените значение, отвечающее за возраст, у всех студентов на одно и то же, например, 10. Отсортируйте такой массив. "
      ]
    },
    {
      "cell_type": "code",
      "metadata": {
        "id": "VL2tpuOHRJ7S",
        "outputId": "2d1b27c2-a260-4cd5-93bb-a61bfbe26571",
        "colab": {
          "base_uri": "https://localhost:8080/",
          "height": 34
        }
      },
      "source": [
        "dtype1 = [('Имя','<U8'),('Возраст', np.int32),('Сред.оценка',np.float32)]\n",
        "values =[('Иван',34,4.2),('Ден',15,2.2),('Лев',54,3.2),('Сеня',44,4.3)]\n",
        "array_5 = np.array(values, dtype=dtype1)\n",
        "print(array_5)"
      ],
      "execution_count": null,
      "outputs": [
        {
          "output_type": "stream",
          "text": [
            "[('Иван', 34, 4.2) ('Ден', 15, 2.2) ('Лев', 54, 3.2) ('Сеня', 44, 4.3)]\n"
          ],
          "name": "stdout"
        }
      ]
    },
    {
      "cell_type": "code",
      "metadata": {
        "id": "KuBuOtgeUfsC",
        "outputId": "fca37627-0481-4647-aba7-c731281f8b93",
        "colab": {
          "base_uri": "https://localhost:8080/",
          "height": 68
        }
      },
      "source": [
        "array_5.sort(order='Возраст')\n",
        "array_5"
      ],
      "execution_count": null,
      "outputs": [
        {
          "output_type": "execute_result",
          "data": {
            "text/plain": [
              "array([('Ден', 15, 2.2), ('Иван', 34, 4.2), ('Сеня', 44, 4.3),\n",
              "       ('Лев', 54, 3.2)],\n",
              "      dtype=[('Имя', '<U8'), ('Возраст', '<i4'), ('Сред.оценка', '<f4')])"
            ]
          },
          "metadata": {
            "tags": []
          },
          "execution_count": 37
        }
      ]
    },
    {
      "cell_type": "code",
      "metadata": {
        "id": "J7YkmXWCU0hx",
        "outputId": "20a97d73-34b1-4d0e-8679-93fc1b429a9b",
        "colab": {
          "base_uri": "https://localhost:8080/",
          "height": 68
        }
      },
      "source": [
        "array_5['Возраст'] = 10\n",
        "array_5.sort(order='Возраст')\n",
        "array_5"
      ],
      "execution_count": null,
      "outputs": [
        {
          "output_type": "execute_result",
          "data": {
            "text/plain": [
              "array([('Ден', 10, 2.2), ('Иван', 10, 4.2), ('Лев', 10, 3.2),\n",
              "       ('Сеня', 10, 4.3)],\n",
              "      dtype=[('Имя', '<U8'), ('Возраст', '<i4'), ('Сред.оценка', '<f4')])"
            ]
          },
          "metadata": {
            "tags": []
          },
          "execution_count": 39
        }
      ]
    },
    {
      "cell_type": "markdown",
      "metadata": {
        "id": "vl0mM1mc8SZc"
      },
      "source": [
        "## Pro версия"
      ]
    },
    {
      "cell_type": "markdown",
      "metadata": {
        "id": "iQhtbx8Z8SZj"
      },
      "source": [
        "### Задача 1\n",
        "\n",
        "* Подгрузите массив **iris.csv** и назовите его my_array. \n",
        "\n",
        "* Создайте двумерный массив из случайных чисел той же размерности, что и my_array (раздел \"Семплирование из распределений\", потребуется использовать размерность массива my_array).\n",
        "\n",
        "* Назовите его my_generated_array."
      ]
    },
    {
      "cell_type": "code",
      "metadata": {
        "id": "GYO-5BbYbl03"
      },
      "source": [
        "import numpy as np"
      ],
      "execution_count": null,
      "outputs": []
    },
    {
      "cell_type": "code",
      "metadata": {
        "id": "ntue4AFKap-a",
        "outputId": "6040dd73-10e7-4d24-9542-f47ecf19e488",
        "colab": {
          "base_uri": "https://localhost:8080/",
          "height": 51
        }
      },
      "source": [
        "#подгрузите массив iris.csv и назовите его my_array.\n",
        "my_array = np.loadtxt('iris.csv',delimiter = ',', skiprows=1)\n",
        "\n",
        "my_array.shape # узначем размерность который составляет (150, 5)\n",
        "\n",
        "my_generated_array = np.random.random((150,5)) # Назовите его my_generated_array\n",
        "\n",
        "print(my_array.shape)\n",
        "print(my_generated_array.shape)\n"
      ],
      "execution_count": null,
      "outputs": [
        {
          "output_type": "stream",
          "text": [
            "(150, 5)\n",
            "(150, 5)\n"
          ],
          "name": "stdout"
        }
      ]
    },
    {
      "cell_type": "markdown",
      "metadata": {
        "id": "hzR46ceA8SZp"
      },
      "source": [
        "### Задача 2\n",
        "\n",
        "* Выполните поэлементное умножение my_array на my_generated_array (раздел \"векторные операции\").\n",
        "\n",
        "* Склейте массивы my_array, my_generated_array в один (могут помочь методы np.concatenate, np.vstack, np.hstack).\n",
        "\n",
        "* Возьмите склеенный массив и разделите его на равные части (больше двух). Можно сделать вручную через циклы либо воспользоваться методом vsplit."
      ]
    },
    {
      "cell_type": "code",
      "metadata": {
        "id": "Jb3rqp6jczef",
        "outputId": "5d504420-5431-40f6-8924-91931bded5dd",
        "colab": {
          "base_uri": "https://localhost:8080/",
          "height": 34
        }
      },
      "source": [
        "# Выполните поэлементное умножение my_array на my_generated_array (раздел \"векторные операции\").\n",
        "prod_array = my_array*my_generated_array\n",
        "prod_array.shape"
      ],
      "execution_count": null,
      "outputs": [
        {
          "output_type": "execute_result",
          "data": {
            "text/plain": [
              "(150, 5)"
            ]
          },
          "metadata": {
            "tags": []
          },
          "execution_count": 19
        }
      ]
    },
    {
      "cell_type": "code",
      "metadata": {
        "id": "4yeARG4Vedkt",
        "outputId": "5a437274-45cf-4f0a-9618-fba32a292681",
        "colab": {
          "base_uri": "https://localhost:8080/",
          "height": 68
        }
      },
      "source": [
        "#Склейте массивы my_array, my_generated_array в один\n",
        "\n",
        "# np.concatenate\n",
        "a1_array = np.concatenate((my_array, my_generated_array))\n",
        "print(a1_array.shape) # размерность полученного массива\n",
        "\n",
        "# np.vstack\n",
        "a2_array = np.vstack((my_array, my_generated_array))\n",
        "print(a2_array.shape) # размерность полученного массива\n",
        "\n",
        "# np.np.hstack\n",
        "a3_array = np.hstack((my_array, my_generated_array))\n",
        "print(a3_array.shape)\n"
      ],
      "execution_count": null,
      "outputs": [
        {
          "output_type": "stream",
          "text": [
            "(300, 5)\n",
            "(300, 5)\n",
            "(150, 10)\n"
          ],
          "name": "stdout"
        }
      ]
    },
    {
      "cell_type": "code",
      "metadata": {
        "id": "_xFR40VHg7P8"
      },
      "source": [
        "#Возьмите склеенный массив и разделите его на равные части (больше двух).\n",
        "# Можно сделать вручную через циклы либо воспользоваться методом vsplit."
      ],
      "execution_count": null,
      "outputs": []
    },
    {
      "cell_type": "code",
      "metadata": {
        "id": "pL3uOQgNhTX6",
        "outputId": "38709933-cf11-48e9-b698-5b629e8c2fdc",
        "colab": {
          "base_uri": "https://localhost:8080/",
          "height": 51
        }
      },
      "source": [
        "list_array = np.vsplit(a1_array,4) # на 4 равные части\n",
        "print(len(list_array)) # длина равна 4\n",
        "print(list_array[0].shape) # размерность первого элемента"
      ],
      "execution_count": null,
      "outputs": [
        {
          "output_type": "stream",
          "text": [
            "4\n",
            "(75, 5)\n"
          ],
          "name": "stdout"
        }
      ]
    },
    {
      "cell_type": "markdown",
      "metadata": {
        "id": "z08ODJt78SZw"
      },
      "source": [
        "### Задача 3\n",
        "\n",
        "* Найдите все элементы массива my_array, которые больше трех и меньше 5 одновременно. Используйте методологию подвыборки массива с условием (раздел \"Индексация\")."
      ]
    },
    {
      "cell_type": "code",
      "metadata": {
        "id": "CL-TNozLiYKs",
        "outputId": "4906cdff-8ce2-4b5d-f635-6beffee42a8e",
        "colab": {
          "base_uri": "https://localhost:8080/",
          "height": 204
        }
      },
      "source": [
        "my_array[(my_array > 3) & (my_array <5)]"
      ],
      "execution_count": null,
      "outputs": [
        {
          "output_type": "execute_result",
          "data": {
            "text/plain": [
              "array([3.5, 4.9, 4.7, 3.2, 4.6, 3.1, 4. , 3.6, 3.9, 4.6, 3.4, 3.4, 4.4,\n",
              "       4.9, 3.1, 3.7, 4.8, 3.4, 4.8, 4.3, 4. , 4.4, 3.9, 3.5, 3.8, 3.8,\n",
              "       3.4, 3.7, 4.6, 3.6, 3.3, 4.8, 3.4, 3.4, 3.5, 3.4, 4.7, 3.2, 4.8,\n",
              "       3.1, 3.4, 4.1, 4.2, 4.9, 3.1, 3.2, 3.5, 4.9, 3.6, 4.4, 3.4, 3.5,\n",
              "       4.5, 4.4, 3.2, 3.5, 3.8, 4.8, 3.8, 4.6, 3.2, 3.7, 3.3, 3.2, 4.7,\n",
              "       3.2, 4.5, 3.1, 4.9, 4. , 4.6, 4.5, 3.3, 4.7, 4.9, 3.3, 4.6, 3.9,\n",
              "       3.5, 4.2, 4. , 4.7, 3.6, 3.1, 4.4, 4.5, 4.1, 4.5, 3.9, 3.2, 4.8,\n",
              "       4. , 4.9, 4.7, 4.3, 4.4, 4.8, 4.5, 3.5, 3.8, 3.7, 3.9, 4.5, 3.4,\n",
              "       4.5, 3.1, 4.7, 4.4, 4.1, 4. , 4.4, 4.6, 4. , 3.3, 4.2, 4.2, 4.2,\n",
              "       4.3, 4.1, 3.3, 4.9, 4.5, 3.6, 3.2, 3.2, 3.8, 3.2, 4.9, 4.9, 3.3,\n",
              "       3.2, 4.8, 4.9, 3.8, 3.4, 3.1, 4.8, 3.1, 3.1, 3.1, 3.2, 3.3, 3.4])"
            ]
          },
          "metadata": {
            "tags": []
          },
          "execution_count": 38
        }
      ]
    },
    {
      "cell_type": "markdown",
      "metadata": {
        "id": "P_O3RZUR8SZ6"
      },
      "source": [
        "### Задача 4\n",
        "\n",
        "Создайте трехмерный массив размера 2 на 3 на 4, состоящий из случайных ВЕЩЕСТВЕННЫХ чисел от 15 до 37. Используйте встроенные методы библиотеки  np.random."
      ]
    },
    {
      "cell_type": "code",
      "metadata": {
        "id": "1wWMwNuRjRbF",
        "outputId": "5a3d4a5f-3476-4724-b987-38f1756bb6d1",
        "colab": {
          "base_uri": "https://localhost:8080/",
          "height": 136
        }
      },
      "source": [
        "s_array_3d = np.random.uniform(15,38,(2,3,4)) \n",
        "print(s_array_3d)"
      ],
      "execution_count": null,
      "outputs": [
        {
          "output_type": "stream",
          "text": [
            "[[[20.16748518 29.11812462 17.55207794 24.84075111]\n",
            "  [30.47792784 27.55350146 19.10635458 25.68457986]\n",
            "  [22.79154063 34.05534602 19.9002084  37.20903502]]\n",
            "\n",
            " [[33.67971931 27.25959081 29.01860758 29.57095423]\n",
            "  [19.6160723  36.27445783 31.70054271 25.3800442 ]\n",
            "  [16.77392999 21.97838579 16.28027701 32.03735636]]]\n"
          ],
          "name": "stdout"
        }
      ]
    },
    {
      "cell_type": "markdown",
      "metadata": {
        "id": "_8q3NF_k8SaA"
      },
      "source": [
        "### Задача 5\n",
        "\n",
        "Используя массив из предыдущей задачи, преобразуйте его в новый массив со следующими значениями:\n",
        "\n",
        "    * \"small\", если значения меньше 20\n",
        "    * \"medium\", если значения в промежутке [20, 30]\n",
        "    * \"large\", если значения больше 30"
      ]
    },
    {
      "cell_type": "code",
      "metadata": {
        "id": "OcsNlIuWlZ_Y",
        "outputId": "7a2f5672-924d-4b86-d1ca-94083934f7b3",
        "colab": {
          "base_uri": "https://localhost:8080/",
          "height": 136
        }
      },
      "source": [
        "n_array = np.full((2,3,4),'medium',dtype='<U32') # создадим массив размерности 2,3,4 з аполним словом 'medium'\n",
        "\n",
        "#  \"small\", если значения меньше 20\n",
        "n_array[s_array_3d < 20] = 'small'\n",
        "\n",
        "\n",
        "# \"medium\", если значения в промежутке [20, 30] для наглядности напишу но можно не писать -- так как n_array = np.full((2,3,4),'medium',dtype='<U32') уже задал\n",
        "n_array[(s_array_3d >= 20) & (s_array_3d <=30) ] = 'medium'\n",
        "\n",
        "\n",
        "#\"large\", если значения больше 30\n",
        "n_array[(s_array_3d > 30)] = 'large'\n",
        "n_array"
      ],
      "execution_count": null,
      "outputs": [
        {
          "output_type": "execute_result",
          "data": {
            "text/plain": [
              "array([[['medium', 'medium', 'small', 'medium'],\n",
              "        ['large', 'medium', 'small', 'medium'],\n",
              "        ['medium', 'large', 'small', 'large']],\n",
              "\n",
              "       [['large', 'medium', 'medium', 'medium'],\n",
              "        ['small', 'large', 'large', 'medium'],\n",
              "        ['small', 'medium', 'small', 'large']]], dtype='<U32')"
            ]
          },
          "metadata": {
            "tags": []
          },
          "execution_count": 52
        }
      ]
    },
    {
      "cell_type": "markdown",
      "metadata": {
        "id": "hOhMOcs18SaF"
      },
      "source": [
        "### Задача 6\n",
        "\n",
        "Создайте одномерный массив из случайных 10 значений. \n",
        "\n",
        "* Не используя цикл for, найдите сумму значений с 3 по 7 элемент.\n",
        "* Найдите сумму квадратов последних двух элементов."
      ]
    },
    {
      "cell_type": "code",
      "metadata": {
        "id": "aYang46JoPNI",
        "outputId": "492a1de5-e9f2-4b2d-a6d5-90399267110d",
        "colab": {
          "base_uri": "https://localhost:8080/",
          "height": 34
        }
      },
      "source": [
        "#Создайте одномерный массив из случайных 10 значений.\n",
        "array_10 = np.random.randint(0,9,10)\n",
        "array_10"
      ],
      "execution_count": null,
      "outputs": [
        {
          "output_type": "execute_result",
          "data": {
            "text/plain": [
              "array([8, 0, 5, 4, 8, 3, 4, 2, 4, 4])"
            ]
          },
          "metadata": {
            "tags": []
          },
          "execution_count": 61
        }
      ]
    },
    {
      "cell_type": "code",
      "metadata": {
        "id": "KLNZVQSrou3h",
        "outputId": "e5cbcd40-ce32-40a8-9828-6754d6842f88",
        "colab": {
          "base_uri": "https://localhost:8080/",
          "height": 34
        }
      },
      "source": [
        "#найдите сумму значений с 3 по 7 элемент.\n",
        "array_10[1:5].sum()\n"
      ],
      "execution_count": null,
      "outputs": [
        {
          "output_type": "execute_result",
          "data": {
            "text/plain": [
              "17"
            ]
          },
          "metadata": {
            "tags": []
          },
          "execution_count": 63
        }
      ]
    },
    {
      "cell_type": "code",
      "metadata": {
        "id": "9ieSiXhTqf9t",
        "outputId": "6cbba776-e710-445f-bf16-66bb1c0971a9",
        "colab": {
          "base_uri": "https://localhost:8080/",
          "height": 34
        }
      },
      "source": [
        "#Найдите сумму квадратов последних двух элементов.\n",
        "(array_10[-2:] **2).sum()"
      ],
      "execution_count": null,
      "outputs": [
        {
          "output_type": "execute_result",
          "data": {
            "text/plain": [
              "32"
            ]
          },
          "metadata": {
            "tags": []
          },
          "execution_count": 67
        }
      ]
    }
  ]
}