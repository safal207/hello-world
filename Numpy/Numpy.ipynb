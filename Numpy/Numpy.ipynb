{
  "nbformat": 4,
  "nbformat_minor": 0,
  "metadata": {
    "colab": {
      "name": "NumPy: Основы для начинающих",
      "provenance": [],
      "authorship_tag": "ABX9TyOAWvX3pTh3/m8Xco06g0CG",
      "include_colab_link": true
    },
    "kernelspec": {
      "name": "python3",
      "display_name": "Python 3"
    },
    "language_info": {
      "name": "python"
    }
  },
  "cells": [
    {
      "cell_type": "markdown",
      "metadata": {
        "id": "intro"
      },
      "source": [
        "## NumPy: Основы для начинающих\n",
        "---\n",
        "### NumPy: The Basics for Beginners"
      ]
    },
    {
      "cell_type": "markdown",
      "metadata": {
        "id": "what_is_numpy"
      },
      "source": [
        "**Что такое NumPy?**\n",
        "NumPy — это фундаментальная библиотека для научных вычислений в Python. Она предоставляет мощный объект для работы с многомерными массивами (n-dimensional array) и инструменты для работы с ними.\n",
        "\n",
        "Массив NumPy похож на список в Python, но имеет несколько ключевых отличий:\n",
        "- **Скорость:** Операции с NumPy выполняются быстрее, так как они реализованы на C.\n",
        "- **Память:** Массивы NumPy занимают меньше места в памяти.\n",
        "- **Удобство:** NumPy предоставляет множество встроенных функций для математических операций.\n",
        "\n",
        "---\n",
        "\n",
        "**What is NumPy?**\n",
        "NumPy is the fundamental library for scientific computing in Python. It provides a powerful n-dimensional array object and tools for working with these arrays.\n",
        "\n",
        "A NumPy array is similar to a Python list, but with a few key differences:\n",
        "- **Speed:** NumPy operations are faster because they are implemented in C.\n",
        "- **Memory:** NumPy arrays take up less space in memory.\n",
        "- **Convenience:** NumPy provides many built-in functions for mathematical operations."
      ]
    },
    {
      "cell_type": "markdown",
      "metadata": {
        "id": "creating_arrays_title"
      },
      "source": [
        "### Создание Массивов\n",
        "Давайте начнем с создания простого массива NumPy из списка Python.\n",
        "\n",
        "---\n",
        "\n",
        "### Creating Arrays\n",
        "Let's start by creating a simple NumPy array from a Python list."
      ]
    },
    {
      "cell_type": "code",
      "metadata": {
        "id": "creating_arrays_code"
      },
      "source": [
        "import numpy as np\n",
        "\n",
        "# Создаем массив из списка\n",
        "# Create an array from a list\n",
        "my_list = [1, 2, 3, 4, 5]\n",
        "my_array = np.array(my_list)\n",
        "\n",
        "print(\"Python список:\", my_list)\n",
        "print(\"NumPy массив:\", my_array)"
      ],
      "execution_count": null,
      "outputs": []
    },
    {
      "cell_type": "markdown",
      "metadata": {
        "id": "special_arrays_title"
      },
      "source": [
        "### Специальные Массивы\n",
        "NumPy также позволяет легко создавать специальные массивы, такие как массивы из нулей, единиц или с заданным диапазоном значений.\n",
        "\n",
        "---\n",
        "\n",
        "### Special Arrays\n",
        "NumPy also makes it easy to create special arrays, such as arrays of zeros, ones, or a range of values."
      ]
    },
    {
      "cell_type": "code",
      "metadata": {
        "id": "special_arrays_code"
      },
      "source": [
        "# Массив из нулей\n",
        "# Array of zeros\n",
        "zeros_array = np.zeros(5)\n",
        "print(\"Массив из нулей:\", zeros_array)\n",
        "\n",
        "# Массив из единиц\n",
        "# Array of ones\n",
        "ones_array = np.ones(5)\n",
        "print(\"Массив из единиц:\", ones_array)\n",
        "\n",
        "# Массив с диапазоном значений от 0 до 4\n",
        "# Array with a range of values from 0 to 4\n",
        "range_array = np.arange(5)\n",
        "print(\"Массив с диапазоном:\", range_array)"
      ],
      "execution_count": null,
      "outputs": []
    },
    {
      "cell_type": "markdown",
      "metadata": {
        "id": "data_types_title"
      },
      "source": [
        "### Типы Данных (Data Types)\n",
        "Каждый массив NumPy имеет тип данных (`dtype`). Это позволяет NumPy оптимизировать хранение и операции. Вы можете указать тип данных при создании массива или изменить его позже.\n",
        "\n",
        "---\n",
        "\n",
        "### Data Types\n",
        "Every NumPy array has a data type (`dtype`). This allows NumPy to optimize storage and operations. You can specify the data type when creating an array or change it later."
      ]
    },
    {
      "cell_type": "code",
      "metadata": {
        "id": "data_types_code"
      },
      "source": [
        "# Создаем массив с определенным типом данных (float)\n",
        "# Create an array with a specific data type (float)\n",
        "float_array = np.array([1, 2, 3], dtype=np.float32)\n",
        "print(\"Массив float32:\", float_array)\n",
        "print(\"Тип данных:\", float_array.dtype)\n",
        "\n",
        "# Изменяем тип данных существующего массива\n",
        "# Change the data type of an existing array\n",
        "int_array = float_array.astype(np.int32)\n",
        "print(\"Массив после конвертации в int32:\", int_array)\n",
        "print(\"Новый тип данных:\", int_array.dtype)"
      ],
      "execution_count": null,
      "outputs": []
    },
    {
      "cell_type": "markdown",
      "metadata": {
        "id": "array_operations_title"
      },
      "source": [
        "### Арифметические Операции\n",
        "Одно из главных преимуществ NumPy — это возможность выполнять поэлементные математические операции.\n",
        "\n",
        "---\n",
        "\n",
        "### Arithmetic Operations\n",
        "One of the main advantages of NumPy is the ability to perform element-wise mathematical operations."
      ]
    },
    {
      "cell_type": "code",
      "metadata": {
        "id": "array_operations_code"
      },
      "source": [
        "a = np.array([1, 2, 3])\n",
        "b = np.array([4, 5, 6])\n",
        "\n",
        "# Сложение\n",
        "# Addition\n",
        "print(\"a + b =\", a + b)\n",
        "\n",
        "# Умножение\n",
        "# Multiplication\n",
        "print(\"a * 2 =\", a * 2)"
      ],
      "execution_count": null,
      "outputs": []
    },
    {
      "cell_type": "markdown",
      "metadata": {
        "id": "indexing_slicing_title"
      },
      "source": [
        "### Индексация и Срезы\n",
        "Доступ к элементам массива работает так же, как и в списках Python, но с дополнительными возможностями для многомерных массивов.\n",
        "\n",
        "---\n",
        "\n",
        "### Indexing and Slicing\n",
        "Accessing array elements works just like in Python lists, but with additional capabilities for multi-dimensional arrays."
      ]
    },
    {
      "cell_type": "code",
      "metadata": {
        "id": "indexing_slicing_code"
      },
      "source": [
        "data = np.array([10, 20, 30, 40, 50])\n",
        "\n",
        "# Получить первый элемент (индекс 0)\n",
        "# Get the first element (index 0)\n",
        "print(\"Первый элемент:\", data[0])\n",
        "\n",
        "# Получить элементы с 1 по 3\n",
        "# Get elements from index 1 to 3\n",
        "print(\"Срез [1:4]:\", data[1:4])\n",
        "\n",
        "# Условная индексация: получить элементы больше 30\n",
        "# Boolean indexing: get elements greater than 30\n",
        "print(\"Элементы > 30:\", data[data > 30])"
      ],
      "execution_count": null,
      "outputs": []
    },
    {
      "cell_type": "markdown",
      "metadata": {
        "id": "conclusion"
      },
      "source": [
        "### Заключение\n",
        "Это был краткий обзор основ NumPy. Эта библиотека гораздо мощнее и содержит функции для линейной алгебры, преобразований Фурье и многого другого. Экспериментируйте с кодом и изучайте дальше!\n",
        "\n",
        "---\n",
        "\n",
        "### Conclusion\n",
        "This was a brief overview of the basics of NumPy. The library is much more powerful and includes functions for linear algebra, Fourier transforms, and much more. Experiment with the code and keep exploring!"
      ]
    }
  ]
}