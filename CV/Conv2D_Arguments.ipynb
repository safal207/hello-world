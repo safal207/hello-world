{
  "nbformat": 4,
  "nbformat_minor": 0,
  "metadata": {
    "colab": {
      "name": "Conv2D - Arguments.ipynb",
      "provenance": [],
      "collapsed_sections": [],
      "include_colab_link": true
    },
    "kernelspec": {
      "name": "python3",
      "display_name": "Python 3"
    },
    "accelerator": "GPU"
  },
  "cells": [
    {
      "cell_type": "markdown",
      "metadata": {
        "id": "view-in-github",
        "colab_type": "text"
      },
      "source": [
        "<a href=\"https://colab.research.google.com/github/safal207/hello-world/blob/master/Conv2D_Arguments.ipynb\" target=\"_parent\"><img src=\"https://colab.research.google.com/assets/colab-badge.svg\" alt=\"Open In Colab\"/></a>"
      ]
    },
    {
      "cell_type": "code",
      "metadata": {
        "id": "rrnexbCtt_q9"
      },
      "source": [
        "from tensorflow.keras.models import Sequential\n",
        "from tensorflow.keras.layers import Conv2D, Conv1D\n",
        "import numpy as np\n",
        "import tensorflow as tf"
      ],
      "execution_count": null,
      "outputs": []
    },
    {
      "cell_type": "code",
      "metadata": {
        "id": "4OQIMFrduMde",
        "outputId": "9838956d-f49b-4b86-fcd7-502e88a88189",
        "colab": {
          "base_uri": "https://localhost:8080/"
        }
      },
      "source": [
        "inp = np.arange(1, 26)\n",
        "inp = inp.reshape((5,5,1))\n",
        "print(inp.squeeze())"
      ],
      "execution_count": null,
      "outputs": [
        {
          "output_type": "stream",
          "text": [
            "[[ 1  2  3  4  5]\n",
            " [ 6  7  8  9 10]\n",
            " [11 12 13 14 15]\n",
            " [16 17 18 19 20]\n",
            " [21 22 23 24 25]]\n"
          ],
          "name": "stdout"
        }
      ]
    },
    {
      "cell_type": "markdown",
      "metadata": {
        "id": "YU-i4INpxMih"
      },
      "source": [
        "# filters and kernel_size"
      ]
    },
    {
      "cell_type": "code",
      "metadata": {
        "id": "c8AaP_dauZGf",
        "outputId": "a90b4cdb-3d01-4918-e17c-eb7af7663c7f",
        "colab": {
          "base_uri": "https://localhost:8080/"
        }
      },
      "source": [
        "model = Sequential()\n",
        "model.add(Conv2D(filters = 1,\n",
        "                kernel_size=(2,2),\n",
        "                strides=(1, 1),\n",
        "                padding=\"valid\",\n",
        "                data_format=None,\n",
        "                dilation_rate=(1, 1),\n",
        "                groups=1,\n",
        "                activation=None,\n",
        "                use_bias=False,\n",
        "                kernel_initializer=\"glorot_uniform\",\n",
        "                bias_initializer=\"zeros\",\n",
        "                kernel_regularizer=None,\n",
        "                bias_regularizer=None,\n",
        "                activity_regularizer=None,\n",
        "                kernel_constraint=None,\n",
        "                bias_constraint=None,\n",
        "                input_shape=(inp.shape)))\n",
        "                # **kwargs   \n",
        "\n",
        "model.compile()\n",
        "model.summary()"
      ],
      "execution_count": null,
      "outputs": [
        {
          "output_type": "stream",
          "text": [
            "Model: \"sequential_44\"\n",
            "_________________________________________________________________\n",
            "Layer (type)                 Output Shape              Param #   \n",
            "=================================================================\n",
            "conv2d_27 (Conv2D)           (None, 4, 4, 1)           4         \n",
            "=================================================================\n",
            "Total params: 4\n",
            "Trainable params: 4\n",
            "Non-trainable params: 0\n",
            "_________________________________________________________________\n"
          ],
          "name": "stdout"
        }
      ]
    },
    {
      "cell_type": "code",
      "metadata": {
        "id": "ZhjziufrvDNg",
        "outputId": "004381d2-2b49-48d2-fced-d2bb580b2f1f",
        "colab": {
          "base_uri": "https://localhost:8080/"
        }
      },
      "source": [
        "custom_weights = np.array([[[[0]],[[1]]],[[[2]],[[3]]]])\n",
        "model.set_weights([custom_weights])\n",
        "model.get_weights()"
      ],
      "execution_count": null,
      "outputs": [
        {
          "output_type": "execute_result",
          "data": {
            "text/plain": [
              "[array([[[[0.]],\n",
              " \n",
              "         [[1.]]],\n",
              " \n",
              " \n",
              "        [[[2.]],\n",
              " \n",
              "         [[3.]]]], dtype=float32)]"
            ]
          },
          "metadata": {
            "tags": []
          },
          "execution_count": 135
        }
      ]
    },
    {
      "cell_type": "code",
      "metadata": {
        "id": "JIaw4-YjuZ2n",
        "outputId": "310a0c8b-62db-4252-960e-764824bcac52",
        "colab": {
          "base_uri": "https://localhost:8080/"
        }
      },
      "source": [
        "res = model.predict(inp.reshape(1,5,5,-1))\n",
        "print(res.shape, '\\n')\n",
        "print(res[0].squeeze())"
      ],
      "execution_count": null,
      "outputs": [
        {
          "output_type": "stream",
          "text": [
            "WARNING:tensorflow:10 out of the last 11 calls to <function Model.make_predict_function.<locals>.predict_function at 0x7f4236ee8510> triggered tf.function retracing. Tracing is expensive and the excessive number of tracings could be due to (1) creating @tf.function repeatedly in a loop, (2) passing tensors with different shapes, (3) passing Python objects instead of tensors. For (1), please define your @tf.function outside of the loop. For (2), @tf.function has experimental_relax_shapes=True option that relaxes argument shapes that can avoid unnecessary retracing. For (3), please refer to https://www.tensorflow.org/tutorials/customization/performance#python_or_tensor_args and https://www.tensorflow.org/api_docs/python/tf/function for  more details.\n",
            "(1, 4, 4, 1) \n",
            "\n",
            "[[ 35.  41.  47.  53.]\n",
            " [ 65.  71.  77.  83.]\n",
            " [ 95. 101. 107. 113.]\n",
            " [125. 131. 137. 143.]]\n"
          ],
          "name": "stdout"
        }
      ]
    },
    {
      "cell_type": "code",
      "metadata": {
        "id": "VndEfHQsIq1g",
        "outputId": "ecf81913-80cb-436f-f544-ae9677bd48f5",
        "colab": {
          "base_uri": "https://localhost:8080/"
        }
      },
      "source": [
        "2 + 6 *2 + 7*3"
      ],
      "execution_count": null,
      "outputs": [
        {
          "output_type": "execute_result",
          "data": {
            "text/plain": [
              "35"
            ]
          },
          "metadata": {
            "tags": []
          },
          "execution_count": 137
        }
      ]
    },
    {
      "cell_type": "code",
      "metadata": {
        "id": "hxsdW2PSJ-YS",
        "outputId": "ecb57316-7818-4a00-b42e-f3a6328e1a82",
        "colab": {
          "base_uri": "https://localhost:8080/"
        }
      },
      "source": [
        "7*0+8*1+12*2+13*3"
      ],
      "execution_count": null,
      "outputs": [
        {
          "output_type": "execute_result",
          "data": {
            "text/plain": [
              "71"
            ]
          },
          "metadata": {
            "tags": []
          },
          "execution_count": 94
        }
      ]
    },
    {
      "cell_type": "markdown",
      "metadata": {
        "id": "t2YwJxuur2m6"
      },
      "source": [
        "## 3x3"
      ]
    },
    {
      "cell_type": "code",
      "metadata": {
        "id": "A_CE9oc3r2m-"
      },
      "source": [
        "model = Sequential()\n",
        "model.add(Conv2D(1, (3,3), use_bias=False, input_shape=inp.shape))\n",
        "model.compile()"
      ],
      "execution_count": null,
      "outputs": []
    },
    {
      "cell_type": "code",
      "metadata": {
        "id": "PqlNIwIsr2nF"
      },
      "source": [
        "custom_weights = np.array([[[[0]],[[1]],[[2]]],[[[3]],[[4]],[[5]]],[[[6]],[[7]],[[8]]]])\n",
        "model.set_weights([custom_weights])"
      ],
      "execution_count": null,
      "outputs": []
    },
    {
      "cell_type": "code",
      "metadata": {
        "id": "aYRkmFsGr2nJ",
        "outputId": "e2c2a717-c99d-44cb-be3d-3937d3b9711d",
        "colab": {
          "base_uri": "https://localhost:8080/"
        }
      },
      "source": [
        "model.get_weights()"
      ],
      "execution_count": null,
      "outputs": [
        {
          "output_type": "execute_result",
          "data": {
            "text/plain": [
              "[array([[[[0.]],\n",
              " \n",
              "         [[1.]],\n",
              " \n",
              "         [[2.]]],\n",
              " \n",
              " \n",
              "        [[[3.]],\n",
              " \n",
              "         [[4.]],\n",
              " \n",
              "         [[5.]]],\n",
              " \n",
              " \n",
              "        [[[6.]],\n",
              " \n",
              "         [[7.]],\n",
              " \n",
              "         [[8.]]]], dtype=float32)]"
            ]
          },
          "metadata": {
            "tags": []
          },
          "execution_count": 134
        }
      ]
    },
    {
      "cell_type": "code",
      "metadata": {
        "id": "j3Xhnn55r2nP",
        "outputId": "f97fc4fe-1a98-46e6-f1d0-4e0f710141f9",
        "colab": {
          "base_uri": "https://localhost:8080/"
        }
      },
      "source": [
        "res = model.predict(inp.reshape(1,5,5,1))\n",
        "print(res.shape)"
      ],
      "execution_count": null,
      "outputs": [
        {
          "output_type": "stream",
          "text": [
            "WARNING:tensorflow:11 out of the last 11 calls to <function Model.make_predict_function.<locals>.predict_function at 0x7fa569e892f0> triggered tf.function retracing. Tracing is expensive and the excessive number of tracings could be due to (1) creating @tf.function repeatedly in a loop, (2) passing tensors with different shapes, (3) passing Python objects instead of tensors. For (1), please define your @tf.function outside of the loop. For (2), @tf.function has experimental_relax_shapes=True option that relaxes argument shapes that can avoid unnecessary retracing. For (3), please refer to https://www.tensorflow.org/tutorials/customization/performance#python_or_tensor_args and https://www.tensorflow.org/api_docs/python/tf/function for  more details.\n",
            "(1, 3, 3, 1)\n"
          ],
          "name": "stdout"
        }
      ]
    },
    {
      "cell_type": "code",
      "metadata": {
        "id": "CADSdvhzr2nU",
        "outputId": "314c727d-00df-43ec-cfbd-dab0c01beba1",
        "colab": {
          "base_uri": "https://localhost:8080/"
        }
      },
      "source": [
        "print(res[0].squeeze())"
      ],
      "execution_count": null,
      "outputs": [
        {
          "output_type": "stream",
          "text": [
            "[[348. 384. 420.]\n",
            " [528. 564. 600.]\n",
            " [708. 744. 780.]]\n"
          ],
          "name": "stdout"
        }
      ]
    },
    {
      "cell_type": "markdown",
      "metadata": {
        "id": "A7cuWJQRr2nY"
      },
      "source": [
        "## 4x4"
      ]
    },
    {
      "cell_type": "code",
      "metadata": {
        "id": "zbZCihqIr2nZ"
      },
      "source": [
        "model = Sequential()\n",
        "model.add(Conv2D(1, (4,4), use_bias=False, input_shape=inp.shape, padding='same'))\n",
        "model.compile()"
      ],
      "execution_count": null,
      "outputs": []
    },
    {
      "cell_type": "code",
      "metadata": {
        "id": "lN_inv8Pr2ne"
      },
      "source": [
        "custom_weights = np.array([[[[0]],[[1]],[[2]],[[3]]],[[[4]],[[5]],[[6]],[[7]]],[[[8]],[[9]],[[10]],[[11]]],[[[12]],[[13]],[[14]],[[15]]]])\n",
        "model.set_weights([custom_weights])"
      ],
      "execution_count": null,
      "outputs": []
    },
    {
      "cell_type": "code",
      "metadata": {
        "id": "VLQkzMcdr2ni",
        "outputId": "9da5f43b-9830-4e09-93d7-101d3fcbe269",
        "colab": {
          "base_uri": "https://localhost:8080/"
        }
      },
      "source": [
        "model.get_weights()"
      ],
      "execution_count": null,
      "outputs": [
        {
          "output_type": "execute_result",
          "data": {
            "text/plain": [
              "[array([[[[ 0.]],\n",
              " \n",
              "         [[ 1.]],\n",
              " \n",
              "         [[ 2.]],\n",
              " \n",
              "         [[ 3.]]],\n",
              " \n",
              " \n",
              "        [[[ 4.]],\n",
              " \n",
              "         [[ 5.]],\n",
              " \n",
              "         [[ 6.]],\n",
              " \n",
              "         [[ 7.]]],\n",
              " \n",
              " \n",
              "        [[[ 8.]],\n",
              " \n",
              "         [[ 9.]],\n",
              " \n",
              "         [[10.]],\n",
              " \n",
              "         [[11.]]],\n",
              " \n",
              " \n",
              "        [[[12.]],\n",
              " \n",
              "         [[13.]],\n",
              " \n",
              "         [[14.]],\n",
              " \n",
              "         [[15.]]]], dtype=float32)]"
            ]
          },
          "metadata": {
            "tags": []
          },
          "execution_count": 86
        }
      ]
    },
    {
      "cell_type": "code",
      "metadata": {
        "id": "CbAdc-c2r2nn",
        "outputId": "7d180a89-70d8-402e-b942-cf9b5bbd7451",
        "colab": {
          "base_uri": "https://localhost:8080/"
        }
      },
      "source": [
        "res = model.predict(inp.reshape(1,5,5,1))\n",
        "print(res.shape)"
      ],
      "execution_count": null,
      "outputs": [
        {
          "output_type": "stream",
          "text": [
            "WARNING:tensorflow:10 out of the last 12 calls to <function Model.make_predict_function.<locals>.predict_function at 0x7fa56a7747b8> triggered tf.function retracing. Tracing is expensive and the excessive number of tracings could be due to (1) creating @tf.function repeatedly in a loop, (2) passing tensors with different shapes, (3) passing Python objects instead of tensors. For (1), please define your @tf.function outside of the loop. For (2), @tf.function has experimental_relax_shapes=True option that relaxes argument shapes that can avoid unnecessary retracing. For (3), please refer to https://www.tensorflow.org/tutorials/customization/performance#python_or_tensor_args and https://www.tensorflow.org/api_docs/python/tf/function for  more details.\n",
            "(1, 5, 5, 1)\n"
          ],
          "name": "stdout"
        }
      ]
    },
    {
      "cell_type": "code",
      "metadata": {
        "id": "9ywMU5lAr2nr",
        "outputId": "09cbdd5a-f9fa-4aff-d959-494b06ed84ef",
        "colab": {
          "base_uri": "https://localhost:8080/"
        }
      },
      "source": [
        "print(res[0].squeeze())"
      ],
      "execution_count": null,
      "outputs": [
        {
          "output_type": "stream",
          "text": [
            "[[ 756. 1030. 1144.  855.  566.]\n",
            " [1220. 1620. 1740. 1274.  826.]\n",
            " [1700. 2220. 2340. 1694. 1086.]\n",
            " [1044. 1330. 1396.  981.  608.]\n",
            " [ 502.  610.  638.  421.  241.]]\n"
          ],
          "name": "stdout"
        }
      ]
    },
    {
      "cell_type": "code",
      "metadata": {
        "id": "CDjoE7aar2nv"
      },
      "source": [
        ""
      ],
      "execution_count": null,
      "outputs": []
    },
    {
      "cell_type": "markdown",
      "metadata": {
        "id": "NNpiAV7ZDh2u"
      },
      "source": [
        "# strides and padding"
      ]
    },
    {
      "cell_type": "code",
      "metadata": {
        "id": "d611zzi2Dh2w",
        "outputId": "462beb2a-7035-4ae4-defa-db8743d34da0",
        "colab": {
          "base_uri": "https://localhost:8080/"
        }
      },
      "source": [
        "model = Sequential()\n",
        "model.add(Conv2D(filters = 1,\n",
        "    kernel_size=(2,2),\n",
        "    strides=(2,2),\n",
        "    padding=\"same\",\n",
        "    data_format=None,\n",
        "    dilation_rate=(1, 1),\n",
        "    groups=1,\n",
        "    activation=None,\n",
        "    use_bias=False,\n",
        "    kernel_initializer=\"glorot_uniform\",\n",
        "    bias_initializer=\"zeros\",\n",
        "    kernel_regularizer=None,\n",
        "    bias_regularizer=None,\n",
        "    activity_regularizer=None,\n",
        "    kernel_constraint=None,\n",
        "    bias_constraint=None,\n",
        "    input_shape=(inp.shape)))\n",
        "    # **kwargs   \n",
        "\n",
        "model.compile()\n",
        "model.summary()"
      ],
      "execution_count": null,
      "outputs": [
        {
          "output_type": "stream",
          "text": [
            "Model: \"sequential_50\"\n",
            "_________________________________________________________________\n",
            "Layer (type)                 Output Shape              Param #   \n",
            "=================================================================\n",
            "conv2d_33 (Conv2D)           (None, 3, 3, 1)           4         \n",
            "=================================================================\n",
            "Total params: 4\n",
            "Trainable params: 4\n",
            "Non-trainable params: 0\n",
            "_________________________________________________________________\n"
          ],
          "name": "stdout"
        }
      ]
    },
    {
      "cell_type": "code",
      "metadata": {
        "id": "8Jsd1phrDh25",
        "outputId": "bad4fea6-c145-4d06-cc42-656e2170776a",
        "colab": {
          "base_uri": "https://localhost:8080/"
        }
      },
      "source": [
        "custom_weights = np.array([[[[0]],[[1]]],[[[2]],[[3]]]])\n",
        "model.set_weights([custom_weights])\n",
        "model.get_weights()"
      ],
      "execution_count": null,
      "outputs": [
        {
          "output_type": "execute_result",
          "data": {
            "text/plain": [
              "[array([[[[0.]],\n",
              " \n",
              "         [[1.]]],\n",
              " \n",
              " \n",
              "        [[[2.]],\n",
              " \n",
              "         [[3.]]]], dtype=float32)]"
            ]
          },
          "metadata": {
            "tags": []
          },
          "execution_count": 146
        }
      ]
    },
    {
      "cell_type": "code",
      "metadata": {
        "id": "VTuzTE1NDh29",
        "outputId": "358bf86b-1dee-41b6-bc0d-0419282169c4",
        "colab": {
          "base_uri": "https://localhost:8080/"
        }
      },
      "source": [
        "res = model.predict(inp.reshape(1,5,5,-1))\n",
        "print(res.shape, '\\n')\n",
        "print(res[0].squeeze())"
      ],
      "execution_count": null,
      "outputs": [
        {
          "output_type": "stream",
          "text": [
            "WARNING:tensorflow:11 out of the last 12 calls to <function Model.make_predict_function.<locals>.predict_function at 0x7f4237f7a598> triggered tf.function retracing. Tracing is expensive and the excessive number of tracings could be due to (1) creating @tf.function repeatedly in a loop, (2) passing tensors with different shapes, (3) passing Python objects instead of tensors. For (1), please define your @tf.function outside of the loop. For (2), @tf.function has experimental_relax_shapes=True option that relaxes argument shapes that can avoid unnecessary retracing. For (3), please refer to https://www.tensorflow.org/tutorials/customization/performance#python_or_tensor_args and https://www.tensorflow.org/api_docs/python/tf/function for  more details.\n",
            "(1, 3, 3, 1) \n",
            "\n",
            "[[ 35.  47.  20.]\n",
            " [ 95. 107.  40.]\n",
            " [ 22.  24.   0.]]\n"
          ],
          "name": "stdout"
        }
      ]
    },
    {
      "cell_type": "code",
      "metadata": {
        "id": "3--DKksH1AGd",
        "outputId": "c4e577fd-ab39-468e-be81-199cfb00932c",
        "colab": {
          "base_uri": "https://localhost:8080/"
        }
      },
      "source": [
        "2 + 6*2+ 7*3"
      ],
      "execution_count": null,
      "outputs": [
        {
          "output_type": "execute_result",
          "data": {
            "text/plain": [
              "35"
            ]
          },
          "metadata": {
            "tags": []
          },
          "execution_count": 100
        }
      ]
    },
    {
      "cell_type": "code",
      "metadata": {
        "id": "VwrfjvljLHFs",
        "outputId": "0b3b248a-a055-4e96-e6fd-bff17b38c186",
        "colab": {
          "base_uri": "https://localhost:8080/"
        }
      },
      "source": [
        "3*0+4*1+8*2+9*3"
      ],
      "execution_count": null,
      "outputs": [
        {
          "output_type": "execute_result",
          "data": {
            "text/plain": [
              "47"
            ]
          },
          "metadata": {
            "tags": []
          },
          "execution_count": 92
        }
      ]
    },
    {
      "cell_type": "markdown",
      "metadata": {
        "id": "29nitFaQMoDK"
      },
      "source": [
        "## 3x3"
      ]
    },
    {
      "cell_type": "code",
      "metadata": {
        "id": "IU7AAldMMoDQ"
      },
      "source": [
        "model = Sequential()\n",
        "model.add(Conv2D(1, (3,3), use_bias=False, padding=\"valid\", input_shape=inp.shape))\n",
        "model.compile()"
      ],
      "execution_count": null,
      "outputs": []
    },
    {
      "cell_type": "code",
      "metadata": {
        "id": "-vejiXiJMoDb",
        "outputId": "4aebe91d-35a1-41f6-91a6-d81c67c5318d",
        "colab": {
          "base_uri": "https://localhost:8080/"
        }
      },
      "source": [
        "custom_weights = np.array([[[[0]],[[1]],[[2]]],[[[3]],[[4]],[[5]]],[[[6]],[[7]],[[8]]]])\n",
        "model.set_weights([custom_weights])\n",
        "model.get_weights()"
      ],
      "execution_count": null,
      "outputs": [
        {
          "output_type": "execute_result",
          "data": {
            "text/plain": [
              "[array([[[[0.]],\n",
              " \n",
              "         [[1.]],\n",
              " \n",
              "         [[2.]]],\n",
              " \n",
              " \n",
              "        [[[3.]],\n",
              " \n",
              "         [[4.]],\n",
              " \n",
              "         [[5.]]],\n",
              " \n",
              " \n",
              "        [[[6.]],\n",
              " \n",
              "         [[7.]],\n",
              " \n",
              "         [[8.]]]], dtype=float32)]"
            ]
          },
          "metadata": {
            "tags": []
          },
          "execution_count": 148
        }
      ]
    },
    {
      "cell_type": "code",
      "metadata": {
        "id": "D4znPjKUMoDv",
        "outputId": "16b19920-755c-4a7e-ad23-d912f7d5eb11",
        "colab": {
          "base_uri": "https://localhost:8080/"
        }
      },
      "source": [
        "res = model.predict(inp.reshape(1,5,5,1))\n",
        "print(res.shape, '\\n')\n",
        "print(res[0].squeeze())"
      ],
      "execution_count": null,
      "outputs": [
        {
          "output_type": "stream",
          "text": [
            "WARNING:tensorflow:11 out of the last 11 calls to <function Model.make_predict_function.<locals>.predict_function at 0x7f4236e72730> triggered tf.function retracing. Tracing is expensive and the excessive number of tracings could be due to (1) creating @tf.function repeatedly in a loop, (2) passing tensors with different shapes, (3) passing Python objects instead of tensors. For (1), please define your @tf.function outside of the loop. For (2), @tf.function has experimental_relax_shapes=True option that relaxes argument shapes that can avoid unnecessary retracing. For (3), please refer to https://www.tensorflow.org/tutorials/customization/performance#python_or_tensor_args and https://www.tensorflow.org/api_docs/python/tf/function for  more details.\n",
            "(1, 3, 3, 1) \n",
            "\n",
            "[[348. 384. 420.]\n",
            " [528. 564. 600.]\n",
            " [708. 744. 780.]]\n"
          ],
          "name": "stdout"
        }
      ]
    },
    {
      "cell_type": "code",
      "metadata": {
        "id": "0GMYG3hvNXwi",
        "outputId": "4c9fe17a-3448-4a36-b283-e5a8acd9454a",
        "colab": {
          "base_uri": "https://localhost:8080/"
        }
      },
      "source": [
        "0*0 + 0*1 + 0*2 + 0*3 + 1*4 + 2*5 + 0*6 + 6*7 + 7*8"
      ],
      "execution_count": null,
      "outputs": [
        {
          "output_type": "execute_result",
          "data": {
            "text/plain": [
              "112"
            ]
          },
          "metadata": {
            "tags": []
          },
          "execution_count": 157
        }
      ]
    },
    {
      "cell_type": "code",
      "metadata": {
        "id": "oxY1q1qFOQeW",
        "outputId": "4010f641-19d9-4352-944f-6aa0593ee37e",
        "colab": {
          "base_uri": "https://localhost:8080/"
        }
      },
      "source": [
        "19*0 + 20*1 + 24*3 +25*4"
      ],
      "execution_count": null,
      "outputs": [
        {
          "output_type": "execute_result",
          "data": {
            "text/plain": [
              "192"
            ]
          },
          "metadata": {
            "tags": []
          },
          "execution_count": 158
        }
      ]
    },
    {
      "cell_type": "markdown",
      "metadata": {
        "id": "nHTcqaCWDi2Q"
      },
      "source": [
        "# dilation_rate"
      ]
    },
    {
      "cell_type": "code",
      "metadata": {
        "id": "D42jGzUFDi2U",
        "outputId": "44aa2eda-5de3-4ab2-c3ff-08e3d423f5bd",
        "colab": {
          "base_uri": "https://localhost:8080/"
        }
      },
      "source": [
        "model = Sequential()\n",
        "model.add(Conv2D(filters = 1,\n",
        "    kernel_size=(2,2),\n",
        "    strides=(1, 1),\n",
        "    padding=\"valid\",\n",
        "    data_format=None, # channels_last (default) or channels_first\n",
        "    dilation_rate=(2, 2),\n",
        "    groups=1,\n",
        "    activation=None,\n",
        "    use_bias=False,\n",
        "    kernel_initializer=\"glorot_uniform\",\n",
        "    bias_initializer=\"zeros\",\n",
        "    kernel_regularizer=None,\n",
        "    bias_regularizer=None,\n",
        "    activity_regularizer=None,\n",
        "    kernel_constraint=None,\n",
        "    bias_constraint=None,\n",
        "    input_shape=(inp.shape)))\n",
        "    # **kwargs   \n",
        "\n",
        "model.compile()\n",
        "model.summary()"
      ],
      "execution_count": null,
      "outputs": [
        {
          "output_type": "stream",
          "text": [
            "Model: \"sequential_51\"\n",
            "_________________________________________________________________\n",
            "Layer (type)                 Output Shape              Param #   \n",
            "=================================================================\n",
            "conv2d_34 (Conv2D)           (None, 3, 3, 1)           4         \n",
            "=================================================================\n",
            "Total params: 4\n",
            "Trainable params: 4\n",
            "Non-trainable params: 0\n",
            "_________________________________________________________________\n"
          ],
          "name": "stdout"
        }
      ]
    },
    {
      "cell_type": "code",
      "metadata": {
        "id": "SlNFFpy2Di2Y",
        "outputId": "5dd9ae54-2b15-4b33-902a-d89ca944aa6d",
        "colab": {
          "base_uri": "https://localhost:8080/"
        }
      },
      "source": [
        "custom_weights = np.array([[[[0]],[[1]]],[[[2]],[[3]]]])\n",
        "model.set_weights([custom_weights])\n",
        "model.get_weights()"
      ],
      "execution_count": null,
      "outputs": [
        {
          "output_type": "execute_result",
          "data": {
            "text/plain": [
              "[array([[[[0.]],\n",
              " \n",
              "         [[1.]]],\n",
              " \n",
              " \n",
              "        [[[2.]],\n",
              " \n",
              "         [[3.]]]], dtype=float32)]"
            ]
          },
          "metadata": {
            "tags": []
          },
          "execution_count": 102
        }
      ]
    },
    {
      "cell_type": "code",
      "metadata": {
        "id": "UioULGgLDi2d",
        "outputId": "e4035618-8c45-4a18-b959-2c77787adf82",
        "colab": {
          "base_uri": "https://localhost:8080/"
        }
      },
      "source": [
        "res = model.predict(inp.reshape(1,5,5,-1))\n",
        "print(res.shape, '\\n')\n",
        "print(res[0].squeeze())"
      ],
      "execution_count": null,
      "outputs": [
        {
          "output_type": "stream",
          "text": [
            "WARNING:tensorflow:7 out of the last 11 calls to <function Model.make_predict_function.<locals>.predict_function at 0x7f4236e72510> triggered tf.function retracing. Tracing is expensive and the excessive number of tracings could be due to (1) creating @tf.function repeatedly in a loop, (2) passing tensors with different shapes, (3) passing Python objects instead of tensors. For (1), please define your @tf.function outside of the loop. For (2), @tf.function has experimental_relax_shapes=True option that relaxes argument shapes that can avoid unnecessary retracing. For (3), please refer to https://www.tensorflow.org/tutorials/customization/performance#python_or_tensor_args and https://www.tensorflow.org/api_docs/python/tf/function for  more details.\n",
            "(1, 3, 3, 1) \n",
            "\n",
            "[[ 64.  70.  76.]\n",
            " [ 94. 100. 106.]\n",
            " [124. 130. 136.]]\n"
          ],
          "name": "stdout"
        }
      ]
    },
    {
      "cell_type": "code",
      "metadata": {
        "id": "swKY-KsdSMf3",
        "outputId": "67b65d74-4f79-405a-ee61-115207b6aad6",
        "colab": {
          "base_uri": "https://localhost:8080/"
        }
      },
      "source": [
        "1*0 + 3*1 + 11*2 + 13*3"
      ],
      "execution_count": null,
      "outputs": [
        {
          "output_type": "execute_result",
          "data": {
            "text/plain": [
              "64"
            ]
          },
          "metadata": {
            "tags": []
          },
          "execution_count": 174
        }
      ]
    },
    {
      "cell_type": "markdown",
      "metadata": {
        "id": "1S6gkE5LDkjb"
      },
      "source": [
        "# groups"
      ]
    },
    {
      "cell_type": "code",
      "metadata": {
        "id": "4Adg0lxkO64T",
        "outputId": "1ed91b45-16ac-4aa8-e534-6b58687a70be",
        "colab": {
          "base_uri": "https://localhost:8080/"
        }
      },
      "source": [
        "inp2 = np.concatenate([inp.squeeze(),inp.squeeze()],axis=0)\n",
        "inp2 = inp2.reshape(2,5,5)\n",
        "print(inp2.squeeze())"
      ],
      "execution_count": null,
      "outputs": [
        {
          "output_type": "stream",
          "text": [
            "[[[ 1  2  3  4  5]\n",
            "  [ 6  7  8  9 10]\n",
            "  [11 12 13 14 15]\n",
            "  [16 17 18 19 20]\n",
            "  [21 22 23 24 25]]\n",
            "\n",
            " [[ 1  2  3  4  5]\n",
            "  [ 6  7  8  9 10]\n",
            "  [11 12 13 14 15]\n",
            "  [16 17 18 19 20]\n",
            "  [21 22 23 24 25]]]\n"
          ],
          "name": "stdout"
        }
      ]
    },
    {
      "cell_type": "code",
      "metadata": {
        "id": "cjXfVlQjDkjd",
        "outputId": "2ef2ce53-1b2f-4dc8-9c66-a6bdcb0411dc",
        "colab": {
          "base_uri": "https://localhost:8080/"
        }
      },
      "source": [
        "model = Sequential()\n",
        "model.add(Conv2D(filters = 2,\n",
        "    kernel_size=(2,2),\n",
        "    strides=(1, 1),\n",
        "    padding=\"valid\",\n",
        "    data_format='channels_first',\n",
        "    dilation_rate=(1, 1),\n",
        "    groups=2,\n",
        "    activation=None,\n",
        "    use_bias=False,\n",
        "    kernel_initializer=\"glorot_uniform\",\n",
        "    bias_initializer=\"zeros\",\n",
        "    kernel_regularizer=None,\n",
        "    bias_regularizer=None,\n",
        "    activity_regularizer=None,\n",
        "    kernel_constraint=None,\n",
        "    bias_constraint=None,\n",
        "    input_shape=(inp2.shape)))\n",
        "    # **kwargs   \n",
        "\n",
        "model.compile()\n",
        "model.summary()"
      ],
      "execution_count": null,
      "outputs": [
        {
          "output_type": "stream",
          "text": [
            "Model: \"sequential_55\"\n",
            "_________________________________________________________________\n",
            "Layer (type)                 Output Shape              Param #   \n",
            "=================================================================\n",
            "conv2d_38 (Conv2D)           (None, 2, 4, 4)           8         \n",
            "=================================================================\n",
            "Total params: 8\n",
            "Trainable params: 8\n",
            "Non-trainable params: 0\n",
            "_________________________________________________________________\n"
          ],
          "name": "stdout"
        }
      ]
    },
    {
      "cell_type": "code",
      "metadata": {
        "id": "BrVxm9LPDkjj",
        "outputId": "f53fdaee-497e-4933-d474-83946d211559",
        "colab": {
          "base_uri": "https://localhost:8080/"
        }
      },
      "source": [
        "custom_weights = np.array([[[[0,0]],[[1,1]]],[[[2,2]],[[3,3]]]])\n",
        "model.set_weights([custom_weights])\n",
        "model.get_weights()"
      ],
      "execution_count": null,
      "outputs": [
        {
          "output_type": "execute_result",
          "data": {
            "text/plain": [
              "[array([[[[0., 0.]],\n",
              " \n",
              "         [[1., 1.]]],\n",
              " \n",
              " \n",
              "        [[[2., 2.]],\n",
              " \n",
              "         [[3., 3.]]]], dtype=float32)]"
            ]
          },
          "metadata": {
            "tags": []
          },
          "execution_count": 163
        }
      ]
    },
    {
      "cell_type": "code",
      "metadata": {
        "id": "CAqdasV6Dkjo",
        "outputId": "9cd10a3f-a0a8-487d-c320-7655fa6c3f4b",
        "colab": {
          "base_uri": "https://localhost:8080/"
        }
      },
      "source": [
        "res = model.predict(inp2.reshape(1,2,5,5))\n",
        "print(res.shape, '\\n')\n",
        "print(res[0].squeeze())"
      ],
      "execution_count": null,
      "outputs": [
        {
          "output_type": "stream",
          "text": [
            "WARNING:tensorflow:11 out of the last 11 calls to <function Model.make_predict_function.<locals>.predict_function at 0x7f4236d43ea0> triggered tf.function retracing. Tracing is expensive and the excessive number of tracings could be due to (1) creating @tf.function repeatedly in a loop, (2) passing tensors with different shapes, (3) passing Python objects instead of tensors. For (1), please define your @tf.function outside of the loop. For (2), @tf.function has experimental_relax_shapes=True option that relaxes argument shapes that can avoid unnecessary retracing. For (3), please refer to https://www.tensorflow.org/tutorials/customization/performance#python_or_tensor_args and https://www.tensorflow.org/api_docs/python/tf/function for  more details.\n",
            "(1, 2, 4, 4) \n",
            "\n",
            "[[[ 34.999996  40.999996  47.        52.999996]\n",
            "  [ 65.        71.        76.99999   83.      ]\n",
            "  [ 94.99999  101.       106.999985 112.99999 ]\n",
            "  [124.999985 131.       137.       143.      ]]\n",
            "\n",
            " [[ 34.999996  40.999996  47.        52.999996]\n",
            "  [ 65.        71.        76.99999   83.      ]\n",
            "  [ 94.99999  101.       106.999985 112.99999 ]\n",
            "  [124.999985 131.       137.       143.      ]]]\n"
          ],
          "name": "stdout"
        }
      ]
    },
    {
      "cell_type": "markdown",
      "metadata": {
        "id": "vtoRPdXIDlsS"
      },
      "source": [
        "# activation"
      ]
    },
    {
      "cell_type": "code",
      "metadata": {
        "id": "lXUZyQVAkCef",
        "outputId": "f9765cdf-9242-44a1-db35-b77612a7cc93",
        "colab": {
          "base_uri": "https://localhost:8080/"
        }
      },
      "source": [
        "inp_ = np.arange(-9, 16)\n",
        "inp_ = inp_.reshape((5,5,1))\n",
        "print(inp_.squeeze())"
      ],
      "execution_count": null,
      "outputs": [
        {
          "output_type": "stream",
          "text": [
            "[[-9 -8 -7 -6 -5]\n",
            " [-4 -3 -2 -1  0]\n",
            " [ 1  2  3  4  5]\n",
            " [ 6  7  8  9 10]\n",
            " [11 12 13 14 15]]\n"
          ],
          "name": "stdout"
        }
      ]
    },
    {
      "cell_type": "code",
      "metadata": {
        "id": "JCJSEIAVDlsT",
        "outputId": "e3d28587-0e57-4e7b-e0fc-887b1e0906ca",
        "colab": {
          "base_uri": "https://localhost:8080/"
        }
      },
      "source": [
        "model = Sequential()\n",
        "model.add(Conv2D(filters = 1,\n",
        "    kernel_size=(2,2),\n",
        "    strides=(1, 1),\n",
        "    padding=\"valid\",\n",
        "    data_format=None,\n",
        "    dilation_rate=(1, 1),\n",
        "    groups=1,\n",
        "    activation='relu',\n",
        "    use_bias=False,\n",
        "    kernel_initializer=\"glorot_uniform\",\n",
        "    bias_initializer=\"zeros\",\n",
        "    kernel_regularizer=None,\n",
        "    bias_regularizer=None,\n",
        "    activity_regularizer=None,\n",
        "    kernel_constraint=None,\n",
        "    bias_constraint=None,\n",
        "    input_shape=(inp_.shape)))\n",
        "    # **kwargs   \n",
        "\n",
        "model.compile()\n",
        "model.summary()"
      ],
      "execution_count": null,
      "outputs": [
        {
          "output_type": "stream",
          "text": [
            "Model: \"sequential_56\"\n",
            "_________________________________________________________________\n",
            "Layer (type)                 Output Shape              Param #   \n",
            "=================================================================\n",
            "conv2d_39 (Conv2D)           (None, 4, 4, 1)           4         \n",
            "=================================================================\n",
            "Total params: 4\n",
            "Trainable params: 4\n",
            "Non-trainable params: 0\n",
            "_________________________________________________________________\n"
          ],
          "name": "stdout"
        }
      ]
    },
    {
      "cell_type": "code",
      "metadata": {
        "id": "v2HqhNUFDlsZ",
        "outputId": "dd2bbcdf-8a02-4c3b-d9a9-3753136bb72f",
        "colab": {
          "base_uri": "https://localhost:8080/"
        }
      },
      "source": [
        "custom_weights = np.array([[[[0]],[[1]]],[[[2]],[[3]]]])\n",
        "model.set_weights([custom_weights])\n",
        "model.get_weights()"
      ],
      "execution_count": null,
      "outputs": [
        {
          "output_type": "execute_result",
          "data": {
            "text/plain": [
              "[array([[[[0.]],\n",
              " \n",
              "         [[1.]]],\n",
              " \n",
              " \n",
              "        [[[2.]],\n",
              " \n",
              "         [[3.]]]], dtype=float32)]"
            ]
          },
          "metadata": {
            "tags": []
          },
          "execution_count": 167
        }
      ]
    },
    {
      "cell_type": "code",
      "metadata": {
        "id": "L2XAkqsGDlse",
        "outputId": "6c3f3667-24b6-4e70-cf4a-61c46ec632c9",
        "colab": {
          "base_uri": "https://localhost:8080/"
        }
      },
      "source": [
        "res = model.predict(inp_.reshape(1,5,5,-1))\n",
        "print(res.shape, '\\n')\n",
        "print(res[0].squeeze())"
      ],
      "execution_count": null,
      "outputs": [
        {
          "output_type": "stream",
          "text": [
            "WARNING:tensorflow:11 out of the last 11 calls to <function Model.make_predict_function.<locals>.predict_function at 0x7f4237f7a620> triggered tf.function retracing. Tracing is expensive and the excessive number of tracings could be due to (1) creating @tf.function repeatedly in a loop, (2) passing tensors with different shapes, (3) passing Python objects instead of tensors. For (1), please define your @tf.function outside of the loop. For (2), @tf.function has experimental_relax_shapes=True option that relaxes argument shapes that can avoid unnecessary retracing. For (3), please refer to https://www.tensorflow.org/tutorials/customization/performance#python_or_tensor_args and https://www.tensorflow.org/api_docs/python/tf/function for  more details.\n",
            "(1, 4, 4, 1) \n",
            "\n",
            "[[ 0.  0.  0.  0.]\n",
            " [ 5. 11. 17. 23.]\n",
            " [35. 41. 47. 53.]\n",
            " [65. 71. 77. 83.]]\n"
          ],
          "name": "stdout"
        }
      ]
    },
    {
      "cell_type": "code",
      "metadata": {
        "id": "1S-HqrAfkQNa",
        "outputId": "bf89b72d-49e4-4818-aefe-e04d35f82a5a",
        "colab": {
          "base_uri": "https://localhost:8080/"
        }
      },
      "source": [
        "-9*0+-8*1+-4*2+-3*3"
      ],
      "execution_count": null,
      "outputs": [
        {
          "output_type": "execute_result",
          "data": {
            "text/plain": [
              "-25"
            ]
          },
          "metadata": {
            "tags": []
          },
          "execution_count": 181
        }
      ]
    },
    {
      "cell_type": "code",
      "metadata": {
        "id": "d8WjVZ_vk5Sm",
        "outputId": "0d862fda-bfc2-4399-9e9c-37c1d6c84454",
        "colab": {
          "base_uri": "https://localhost:8080/"
        }
      },
      "source": [
        "9*0+10*1+14*2+15*3"
      ],
      "execution_count": null,
      "outputs": [
        {
          "output_type": "execute_result",
          "data": {
            "text/plain": [
              "83"
            ]
          },
          "metadata": {
            "tags": []
          },
          "execution_count": 105
        }
      ]
    },
    {
      "cell_type": "markdown",
      "metadata": {
        "id": "nkkO36jKDmrx"
      },
      "source": [
        "# use_bias"
      ]
    },
    {
      "cell_type": "code",
      "metadata": {
        "id": "zrX1d2cRDmry",
        "outputId": "17cb1b3e-b733-4fa6-cb27-841c7df92345",
        "colab": {
          "base_uri": "https://localhost:8080/"
        }
      },
      "source": [
        "model = Sequential()\n",
        "model.add(Conv2D(filters = 1,\n",
        "    kernel_size=(2,2),\n",
        "    strides=(1, 1),\n",
        "    padding=\"valid\",\n",
        "    data_format=None,\n",
        "    dilation_rate=(1, 1),\n",
        "    groups=1,\n",
        "    activation=None,\n",
        "    use_bias=True,\n",
        "    kernel_initializer=\"glorot_uniform\",\n",
        "    bias_initializer=\"zeros\",\n",
        "    kernel_regularizer=None,\n",
        "    bias_regularizer=None,\n",
        "    activity_regularizer=None,\n",
        "    kernel_constraint=None,\n",
        "    bias_constraint=None,\n",
        "    input_shape=(inp.shape)))\n",
        "    # **kwargs   \n",
        "\n",
        "model.compile()\n",
        "model.summary()"
      ],
      "execution_count": null,
      "outputs": [
        {
          "output_type": "stream",
          "text": [
            "Model: \"sequential_57\"\n",
            "_________________________________________________________________\n",
            "Layer (type)                 Output Shape              Param #   \n",
            "=================================================================\n",
            "conv2d_40 (Conv2D)           (None, 4, 4, 1)           5         \n",
            "=================================================================\n",
            "Total params: 5\n",
            "Trainable params: 5\n",
            "Non-trainable params: 0\n",
            "_________________________________________________________________\n"
          ],
          "name": "stdout"
        }
      ]
    },
    {
      "cell_type": "code",
      "metadata": {
        "id": "fh81ha9eDmr2",
        "outputId": "7f5846b0-0afe-4ccd-e559-c765f14e54da",
        "colab": {
          "base_uri": "https://localhost:8080/"
        }
      },
      "source": [
        "# custom_weights = np.array([[[[0]],[[1]]],[[[2]],[[3]]]])\n",
        "# model.set_weights([custom_weights])\n",
        "model.get_weights()"
      ],
      "execution_count": null,
      "outputs": [
        {
          "output_type": "execute_result",
          "data": {
            "text/plain": [
              "[array([[[[-0.5695899 ]],\n",
              " \n",
              "         [[ 0.61981446]]],\n",
              " \n",
              " \n",
              "        [[[ 0.02200526]],\n",
              " \n",
              "         [[ 0.562964  ]]]], dtype=float32), array([0.], dtype=float32)]"
            ]
          },
          "metadata": {
            "tags": []
          },
          "execution_count": 170
        }
      ]
    },
    {
      "cell_type": "code",
      "metadata": {
        "id": "nHe-dEdXDmr6",
        "outputId": "cd63e935-21a6-40ab-da06-f6002d8922e4",
        "colab": {
          "base_uri": "https://localhost:8080/"
        }
      },
      "source": [
        "res = model.predict(inp.reshape(1,5,5,-1))\n",
        "print(res.shape, '\\n')\n",
        "print(res[0].squeeze())"
      ],
      "execution_count": null,
      "outputs": [
        {
          "output_type": "stream",
          "text": [
            "WARNING:tensorflow:9 out of the last 13 calls to <function Model.make_predict_function.<locals>.predict_function at 0x7f4236e72e18> triggered tf.function retracing. Tracing is expensive and the excessive number of tracings could be due to (1) creating @tf.function repeatedly in a loop, (2) passing tensors with different shapes, (3) passing Python objects instead of tensors. For (1), please define your @tf.function outside of the loop. For (2), @tf.function has experimental_relax_shapes=True option that relaxes argument shapes that can avoid unnecessary retracing. For (3), please refer to https://www.tensorflow.org/tutorials/customization/performance#python_or_tensor_args and https://www.tensorflow.org/api_docs/python/tf/function for  more details.\n",
            "(1, 4, 4, 1) \n",
            "\n",
            "[[1.8111485 2.1593623 2.5075762 2.8557901]\n",
            " [3.5522177 3.9004316 4.2486453 4.5968595]\n",
            " [5.293287  5.641501  5.9897146 6.337929 ]\n",
            " [7.034356  7.3825703 7.730784  8.078998 ]]\n"
          ],
          "name": "stdout"
        }
      ]
    },
    {
      "cell_type": "markdown",
      "metadata": {
        "id": "DgXdLbreDn2k"
      },
      "source": [
        "# kernel_initializer and bias_initializer"
      ]
    },
    {
      "cell_type": "code",
      "metadata": {
        "id": "ErQs4jbQDn2l",
        "outputId": "e9637bc5-8e5c-419e-bd0a-187c9cc188bd",
        "colab": {
          "base_uri": "https://localhost:8080/"
        }
      },
      "source": [
        "model = Sequential()\n",
        "model.add(Conv2D(filters = 1,\n",
        "    kernel_size=(2,2),\n",
        "    strides=(1, 1),\n",
        "    padding=\"valid\",\n",
        "    data_format=None,\n",
        "    dilation_rate=(1, 1),\n",
        "    groups=1,\n",
        "    activation=None,\n",
        "    use_bias=True,\n",
        "    kernel_initializer=\"Ones\", # RandomNormal, RandomUniform, TruncatedNormal, Glorot_uniform\n",
        "                                         # Zeros, Ones, GlorotNormal, Identity, Orthogonal, \n",
        "                                         # Constant, VarianceScaling, custom\n",
        "    bias_initializer=\"Ones\",            \n",
        "    kernel_regularizer=None,\n",
        "    bias_regularizer=None,\n",
        "    activity_regularizer=None,\n",
        "    kernel_constraint=None,\n",
        "    bias_constraint=None,\n",
        "    input_shape=(inp.shape)))\n",
        "    # **kwargs   \n",
        "\n",
        "model.compile()\n",
        "model.summary()"
      ],
      "execution_count": null,
      "outputs": [
        {
          "output_type": "stream",
          "text": [
            "Model: \"sequential_60\"\n",
            "_________________________________________________________________\n",
            "Layer (type)                 Output Shape              Param #   \n",
            "=================================================================\n",
            "conv2d_43 (Conv2D)           (None, 4, 4, 1)           5         \n",
            "=================================================================\n",
            "Total params: 5\n",
            "Trainable params: 5\n",
            "Non-trainable params: 0\n",
            "_________________________________________________________________\n"
          ],
          "name": "stdout"
        }
      ]
    },
    {
      "cell_type": "code",
      "metadata": {
        "id": "HsRTDCg4Dn2p",
        "outputId": "48189b3f-e25b-4bb7-9a40-2ed229de8600",
        "colab": {
          "base_uri": "https://localhost:8080/"
        }
      },
      "source": [
        "# custom_weights = np.array([[[[0]],[[1]]],[[[2]],[[3]]]])\n",
        "# model.set_weights([custom_weights])\n",
        "model.get_weights()"
      ],
      "execution_count": null,
      "outputs": [
        {
          "output_type": "execute_result",
          "data": {
            "text/plain": [
              "[array([[[[1.]],\n",
              " \n",
              "         [[1.]]],\n",
              " \n",
              " \n",
              "        [[[1.]],\n",
              " \n",
              "         [[1.]]]], dtype=float32), array([1.], dtype=float32)]"
            ]
          },
          "metadata": {
            "tags": []
          },
          "execution_count": 174
        }
      ]
    },
    {
      "cell_type": "code",
      "metadata": {
        "id": "0JBhNrWkDn2v",
        "outputId": "41b5b65f-e08f-4b8f-e38d-2abac7a084a2",
        "colab": {
          "base_uri": "https://localhost:8080/"
        }
      },
      "source": [
        "res = model.predict(inp.reshape(1,5,5,-1))\n",
        "print(res.shape, '\\n')\n",
        "print(res[0].squeeze())"
      ],
      "execution_count": null,
      "outputs": [
        {
          "output_type": "stream",
          "text": [
            "WARNING:tensorflow:11 out of the last 11 calls to <function Model.make_predict_function.<locals>.predict_function at 0x7f4236e721e0> triggered tf.function retracing. Tracing is expensive and the excessive number of tracings could be due to (1) creating @tf.function repeatedly in a loop, (2) passing tensors with different shapes, (3) passing Python objects instead of tensors. For (1), please define your @tf.function outside of the loop. For (2), @tf.function has experimental_relax_shapes=True option that relaxes argument shapes that can avoid unnecessary retracing. For (3), please refer to https://www.tensorflow.org/tutorials/customization/performance#python_or_tensor_args and https://www.tensorflow.org/api_docs/python/tf/function for  more details.\n",
            "(1, 4, 4, 1) \n",
            "\n",
            "[[17. 21. 25. 29.]\n",
            " [37. 41. 45. 49.]\n",
            " [57. 61. 65. 69.]\n",
            " [77. 81. 85. 89.]]\n"
          ],
          "name": "stdout"
        }
      ]
    },
    {
      "cell_type": "code",
      "metadata": {
        "id": "8duxdXEWqI-1",
        "outputId": "32b82937-9878-4825-b168-7323d79625d8",
        "colab": {
          "base_uri": "https://localhost:8080/"
        }
      },
      "source": [
        "1 + 2 +6 + 7\n"
      ],
      "execution_count": null,
      "outputs": [
        {
          "output_type": "execute_result",
          "data": {
            "text/plain": [
              "16"
            ]
          },
          "metadata": {
            "tags": []
          },
          "execution_count": 176
        }
      ]
    },
    {
      "cell_type": "markdown",
      "metadata": {
        "id": "mIPAttx6qgrv"
      },
      "source": [
        "# kernel_regularizer and bias_regularizer and activity_regularizer"
      ]
    },
    {
      "cell_type": "code",
      "metadata": {
        "id": "AYW4ulJAqgrx",
        "outputId": "1e731d1f-fd0c-4f6b-e865-c2314cdebd23",
        "colab": {
          "base_uri": "https://localhost:8080/"
        }
      },
      "source": [
        "model = Sequential()\n",
        "model.add(Conv2D(filters = 1,\n",
        "                kernel_size=(2,2),\n",
        "                strides=(1, 1),\n",
        "                padding=\"valid\",\n",
        "                data_format=None,\n",
        "                dilation_rate=(1, 1),\n",
        "                groups=1,\n",
        "                activation=None,\n",
        "                use_bias=False,\n",
        "                kernel_initializer=\"glorot_uniform\",\n",
        "                bias_initializer=\"zeros\",\n",
        "                kernel_regularizer=None,  # loss + среднее значение модулей весов ядра свертки * коэф\n",
        "                bias_regularizer=None,    # loss\n",
        "                activity_regularizer=None,# loss\n",
        "                kernel_constraint=None,\n",
        "                bias_constraint=None,\n",
        "                input_shape=(inp.shape)))\n",
        "                # **kwargs   \n",
        "\n",
        "model.compile()\n",
        "model.summary()"
      ],
      "execution_count": null,
      "outputs": [
        {
          "output_type": "stream",
          "text": [
            "Model: \"sequential_28\"\n",
            "_________________________________________________________________\n",
            "Layer (type)                 Output Shape              Param #   \n",
            "=================================================================\n",
            "conv2d_28 (Conv2D)           (None, 4, 4, 1)           4         \n",
            "=================================================================\n",
            "Total params: 4\n",
            "Trainable params: 4\n",
            "Non-trainable params: 0\n",
            "_________________________________________________________________\n"
          ],
          "name": "stdout"
        }
      ]
    },
    {
      "cell_type": "code",
      "metadata": {
        "id": "UakT1e5UqgsC",
        "outputId": "7a8578e3-7ffa-41a5-aa9a-189e8f7ed810",
        "colab": {
          "base_uri": "https://localhost:8080/"
        }
      },
      "source": [
        "custom_weights = np.array([[[[0]],[[1]]],[[[2]],[[3]]]])\n",
        "model.set_weights([custom_weights])\n",
        "model.get_weights()"
      ],
      "execution_count": null,
      "outputs": [
        {
          "output_type": "execute_result",
          "data": {
            "text/plain": [
              "[array([[[[0.]],\n",
              " \n",
              "         [[1.]]],\n",
              " \n",
              " \n",
              "        [[[2.]],\n",
              " \n",
              "         [[3.]]]], dtype=float32)]"
            ]
          },
          "metadata": {
            "tags": []
          },
          "execution_count": 114
        }
      ]
    },
    {
      "cell_type": "code",
      "metadata": {
        "id": "iENUpmnOqgsZ",
        "outputId": "6f79e8a7-1066-47e3-f170-ec6c1b134a6f",
        "colab": {
          "base_uri": "https://localhost:8080/"
        }
      },
      "source": [
        "res = model.predict(inp.reshape(1,5,5,-1))\n",
        "print(res.shape, '\\n')\n",
        "print(res[0].squeeze())"
      ],
      "execution_count": null,
      "outputs": [
        {
          "output_type": "stream",
          "text": [
            "WARNING:tensorflow:11 out of the last 11 calls to <function Model.make_predict_function.<locals>.predict_function at 0x7fa569e897b8> triggered tf.function retracing. Tracing is expensive and the excessive number of tracings could be due to (1) creating @tf.function repeatedly in a loop, (2) passing tensors with different shapes, (3) passing Python objects instead of tensors. For (1), please define your @tf.function outside of the loop. For (2), @tf.function has experimental_relax_shapes=True option that relaxes argument shapes that can avoid unnecessary retracing. For (3), please refer to https://www.tensorflow.org/tutorials/customization/performance#python_or_tensor_args and https://www.tensorflow.org/api_docs/python/tf/function for  more details.\n",
            "(1, 4, 4, 1) \n",
            "\n",
            "[[ 35.  41.  47.  53.]\n",
            " [ 65.  71.  77.  83.]\n",
            " [ 95. 101. 107. 113.]\n",
            " [125. 131. 137. 143.]]\n"
          ],
          "name": "stdout"
        }
      ]
    },
    {
      "cell_type": "markdown",
      "metadata": {
        "id": "k87T21Mvr-A1"
      },
      "source": [
        "# bias_constraint"
      ]
    },
    {
      "cell_type": "code",
      "metadata": {
        "id": "zPQjR7vFr-A4",
        "outputId": "3b5b2a92-4303-4f0c-8d69-9568fe6c44a1",
        "colab": {
          "base_uri": "https://localhost:8080/"
        }
      },
      "source": [
        "model = Sequential()\n",
        "model.add(Conv2D(filters = 1,\n",
        "    kernel_size=(2,2),\n",
        "    strides=1,\n",
        "    padding=\"valid\",\n",
        "    data_format=None,\n",
        "    dilation_rate=(1, 1),\n",
        "    groups=1,\n",
        "    activation=None,\n",
        "    use_bias=True,\n",
        "    kernel_initializer=\"ones\",\n",
        "    bias_initializer=\"ones\",\n",
        "    kernel_regularizer=None,\n",
        "    bias_regularizer=None,\n",
        "    activity_regularizer=None,\n",
        "    kernel_constraint=None,\n",
        "    bias_constraint='maxnorm',   # MaxNorm, MinMaxNorm, NonNeg, UnitNorm, RadialConstraint, custom\n",
        "    input_shape=(inp.shape)))\n",
        "    # **kwargs   \n",
        "\n",
        "model.compile()\n",
        "model.summary()"
      ],
      "execution_count": null,
      "outputs": [
        {
          "output_type": "stream",
          "text": [
            "Model: \"sequential_29\"\n",
            "_________________________________________________________________\n",
            "Layer (type)                 Output Shape              Param #   \n",
            "=================================================================\n",
            "conv2d_29 (Conv2D)           (None, 4, 4, 1)           5         \n",
            "=================================================================\n",
            "Total params: 5\n",
            "Trainable params: 5\n",
            "Non-trainable params: 0\n",
            "_________________________________________________________________\n"
          ],
          "name": "stdout"
        }
      ]
    },
    {
      "cell_type": "code",
      "metadata": {
        "id": "GXu2fb__r-BF",
        "outputId": "c922fd82-b23d-41ce-8f15-a264b14b7fbe",
        "colab": {
          "base_uri": "https://localhost:8080/"
        }
      },
      "source": [
        "# custom_weights = np.array([[[[0]],[[1]]],[[[2]],[[3]]]])\n",
        "# model.set_weights([custom_weights])\n",
        "model.get_weights()"
      ],
      "execution_count": null,
      "outputs": [
        {
          "output_type": "execute_result",
          "data": {
            "text/plain": [
              "[array([[[[1.]],\n",
              " \n",
              "         [[1.]]],\n",
              " \n",
              " \n",
              "        [[[1.]],\n",
              " \n",
              "         [[1.]]]], dtype=float32), array([1.], dtype=float32)]"
            ]
          },
          "metadata": {
            "tags": []
          },
          "execution_count": 117
        }
      ]
    },
    {
      "cell_type": "code",
      "metadata": {
        "id": "IixGHEDar-BN",
        "outputId": "135fe164-a5e0-402b-88dc-112044986c97",
        "colab": {
          "base_uri": "https://localhost:8080/"
        }
      },
      "source": [
        "res = model.predict(inp.reshape(1,5,5,-1))\n",
        "print(res.shape, '\\n')\n",
        "print(res[0].squeeze())"
      ],
      "execution_count": null,
      "outputs": [
        {
          "output_type": "stream",
          "text": [
            "WARNING:tensorflow:11 out of the last 11 calls to <function Model.make_predict_function.<locals>.predict_function at 0x7fa569ea36a8> triggered tf.function retracing. Tracing is expensive and the excessive number of tracings could be due to (1) creating @tf.function repeatedly in a loop, (2) passing tensors with different shapes, (3) passing Python objects instead of tensors. For (1), please define your @tf.function outside of the loop. For (2), @tf.function has experimental_relax_shapes=True option that relaxes argument shapes that can avoid unnecessary retracing. For (3), please refer to https://www.tensorflow.org/tutorials/customization/performance#python_or_tensor_args and https://www.tensorflow.org/api_docs/python/tf/function for  more details.\n",
            "(1, 4, 4, 1) \n",
            "\n",
            "[[17. 21. 25. 29.]\n",
            " [37. 41. 45. 49.]\n",
            " [57. 61. 65. 69.]\n",
            " [77. 81. 85. 89.]]\n"
          ],
          "name": "stdout"
        }
      ]
    },
    {
      "cell_type": "code",
      "metadata": {
        "id": "TauU8mgKswDj"
      },
      "source": [
        ""
      ],
      "execution_count": null,
      "outputs": []
    },
    {
      "cell_type": "markdown",
      "metadata": {
        "id": "XbJp9r84rBk2"
      },
      "source": [
        "# Сonv1D\n"
      ]
    },
    {
      "cell_type": "code",
      "metadata": {
        "id": "oXq5QCYYrTjR",
        "outputId": "431204f5-a719-4219-8b7e-b302a9ead465",
        "colab": {
          "base_uri": "https://localhost:8080/"
        }
      },
      "source": [
        "inp_1 = np.arange(1, 26)\n",
        "inp_1 = inp_1.reshape((5,5))\n",
        "print(inp_1.squeeze())"
      ],
      "execution_count": null,
      "outputs": [
        {
          "output_type": "stream",
          "text": [
            "[[ 1  2  3  4  5]\n",
            " [ 6  7  8  9 10]\n",
            " [11 12 13 14 15]\n",
            " [16 17 18 19 20]\n",
            " [21 22 23 24 25]]\n"
          ],
          "name": "stdout"
        }
      ]
    },
    {
      "cell_type": "code",
      "metadata": {
        "id": "bhXICXXfrEI1",
        "outputId": "ad7555ef-b482-4aa3-a9e7-ca9a15f28403",
        "colab": {
          "base_uri": "https://localhost:8080/"
        }
      },
      "source": [
        "model = Sequential()\n",
        "model.add(Conv1D(filters = 1,\n",
        "    kernel_size=2,\n",
        "    strides=1,\n",
        "    padding=\"same\",\n",
        "    data_format=None,\n",
        "    dilation_rate=1,\n",
        "    groups=1,\n",
        "    activation=None,\n",
        "    use_bias=False,\n",
        "    kernel_initializer=\"ones\",\n",
        "    bias_initializer=\"ones\",\n",
        "    kernel_regularizer=None,\n",
        "    bias_regularizer=None,\n",
        "    activity_regularizer=None,\n",
        "    input_shape=(inp_1.shape)))\n",
        "    # **kwargs   \n",
        "\n",
        "model.compile()\n",
        "model.summary()"
      ],
      "execution_count": null,
      "outputs": [
        {
          "output_type": "stream",
          "text": [
            "Model: \"sequential_61\"\n",
            "_________________________________________________________________\n",
            "Layer (type)                 Output Shape              Param #   \n",
            "=================================================================\n",
            "conv1d_15 (Conv1D)           (None, 5, 1)              10        \n",
            "=================================================================\n",
            "Total params: 10\n",
            "Trainable params: 10\n",
            "Non-trainable params: 0\n",
            "_________________________________________________________________\n"
          ],
          "name": "stdout"
        }
      ]
    },
    {
      "cell_type": "code",
      "metadata": {
        "id": "EHa5zv0wsHvf",
        "outputId": "a197f3ca-068a-4f6c-a2bf-d9cea888fe11",
        "colab": {
          "base_uri": "https://localhost:8080/"
        }
      },
      "source": [
        "res = model.predict(inp_1[None,])\n",
        "print(res.shape, '\\n')\n",
        "print(res[0])"
      ],
      "execution_count": null,
      "outputs": [
        {
          "output_type": "stream",
          "text": [
            "WARNING:tensorflow:11 out of the last 11 calls to <function Model.make_predict_function.<locals>.predict_function at 0x7f4237f7a510> triggered tf.function retracing. Tracing is expensive and the excessive number of tracings could be due to (1) creating @tf.function repeatedly in a loop, (2) passing tensors with different shapes, (3) passing Python objects instead of tensors. For (1), please define your @tf.function outside of the loop. For (2), @tf.function has experimental_relax_shapes=True option that relaxes argument shapes that can avoid unnecessary retracing. For (3), please refer to https://www.tensorflow.org/tutorials/customization/performance#python_or_tensor_args and https://www.tensorflow.org/api_docs/python/tf/function for  more details.\n",
            "(1, 5, 1) \n",
            "\n",
            "[[ 55.]\n",
            " [105.]\n",
            " [155.]\n",
            " [205.]\n",
            " [115.]]\n"
          ],
          "name": "stdout"
        }
      ]
    },
    {
      "cell_type": "code",
      "metadata": {
        "id": "g1mHb1dFrpLO",
        "outputId": "99f2d8cb-2969-4d60-ae07-23c5627a2fd0",
        "colab": {
          "base_uri": "https://localhost:8080/"
        }
      },
      "source": [
        "1 + 2 + 3 +4 +5 +6 +7 + 8 + 9 + 10"
      ],
      "execution_count": null,
      "outputs": [
        {
          "output_type": "execute_result",
          "data": {
            "text/plain": [
              "55"
            ]
          },
          "metadata": {
            "tags": []
          },
          "execution_count": 80
        }
      ]
    },
    {
      "cell_type": "code",
      "metadata": {
        "id": "dndNweeYtWCy",
        "outputId": "14104ca7-3131-4de1-ff3a-2dd63816983b",
        "colab": {
          "base_uri": "https://localhost:8080/"
        }
      },
      "source": [
        "6 + 7 + 8 + 9 + 10 + 11 + 12 + 13 + 14 + 15"
      ],
      "execution_count": null,
      "outputs": [
        {
          "output_type": "execute_result",
          "data": {
            "text/plain": [
              "105"
            ]
          },
          "metadata": {
            "tags": []
          },
          "execution_count": 81
        }
      ]
    },
    {
      "cell_type": "code",
      "metadata": {
        "id": "Fz2qT2p3s6qO",
        "outputId": "db31e697-5171-48ab-fb8e-7527a3008472",
        "colab": {
          "base_uri": "https://localhost:8080/"
        }
      },
      "source": [
        "11 + 12 + 13 + 14 + 15 + 16 + 17 + 18 + 19 + 20"
      ],
      "execution_count": null,
      "outputs": [
        {
          "output_type": "execute_result",
          "data": {
            "text/plain": [
              "155"
            ]
          },
          "metadata": {
            "tags": []
          },
          "execution_count": 82
        }
      ]
    },
    {
      "cell_type": "code",
      "metadata": {
        "id": "Krh9xJwftkT_",
        "outputId": "abf5a791-905b-4111-bd93-d6e9d50a5542",
        "colab": {
          "base_uri": "https://localhost:8080/"
        }
      },
      "source": [
        "model = Sequential()\n",
        "model.add(Conv1D(filters = 2,\n",
        "    kernel_size=2,\n",
        "    strides=1,\n",
        "    padding=\"same\",\n",
        "    data_format=None,\n",
        "    dilation_rate=1,\n",
        "    groups=1,\n",
        "    activation=None,\n",
        "    use_bias=False,\n",
        "    kernel_initializer=\"ones\",\n",
        "    bias_initializer=\"ones\",\n",
        "    kernel_regularizer=None,\n",
        "    bias_regularizer=None,\n",
        "    activity_regularizer=None,\n",
        "    input_shape=(inp_1.shape)))\n",
        "    # **kwargs   \n",
        "\n",
        "model.compile()\n",
        "model.summary()"
      ],
      "execution_count": null,
      "outputs": [
        {
          "output_type": "stream",
          "text": [
            "Model: \"sequential_62\"\n",
            "_________________________________________________________________\n",
            "Layer (type)                 Output Shape              Param #   \n",
            "=================================================================\n",
            "conv1d_16 (Conv1D)           (None, 5, 2)              20        \n",
            "=================================================================\n",
            "Total params: 20\n",
            "Trainable params: 20\n",
            "Non-trainable params: 0\n",
            "_________________________________________________________________\n"
          ],
          "name": "stdout"
        }
      ]
    },
    {
      "cell_type": "code",
      "metadata": {
        "id": "AwS5r8E9tkUG",
        "outputId": "91c6692f-8776-44a7-a0e5-79ce66c31e81",
        "colab": {
          "base_uri": "https://localhost:8080/"
        }
      },
      "source": [
        "res = model.predict(inp_1[None,])\n",
        "print(res.shape, '\\n')\n",
        "print(res[0])"
      ],
      "execution_count": null,
      "outputs": [
        {
          "output_type": "stream",
          "text": [
            "WARNING:tensorflow:11 out of the last 11 calls to <function Model.make_predict_function.<locals>.predict_function at 0x7f4236ee8730> triggered tf.function retracing. Tracing is expensive and the excessive number of tracings could be due to (1) creating @tf.function repeatedly in a loop, (2) passing tensors with different shapes, (3) passing Python objects instead of tensors. For (1), please define your @tf.function outside of the loop. For (2), @tf.function has experimental_relax_shapes=True option that relaxes argument shapes that can avoid unnecessary retracing. For (3), please refer to https://www.tensorflow.org/tutorials/customization/performance#python_or_tensor_args and https://www.tensorflow.org/api_docs/python/tf/function for  more details.\n",
            "(1, 5, 2) \n",
            "\n",
            "[[ 55.000008  55.000008]\n",
            " [104.999985 104.999985]\n",
            " [154.99997  154.99997 ]\n",
            " [204.99998  204.99998 ]\n",
            " [114.99998  114.99998 ]]\n"
          ],
          "name": "stdout"
        }
      ]
    },
    {
      "cell_type": "code",
      "metadata": {
        "id": "nfp9FsVbtvh6"
      },
      "source": [
        ""
      ],
      "execution_count": null,
      "outputs": []
    }
  ]
}