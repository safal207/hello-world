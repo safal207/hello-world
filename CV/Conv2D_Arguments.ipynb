{
  "nbformat": 4,
  "nbformat_minor": 0,
  "metadata": {
    "colab": {
      "name": "Conv2D - Arguments (Interactive).ipynb",
      "provenance": [],
      "collapsed_sections": [],
      "include_colab_link": true
    },
    "kernelspec": {
      "name": "python3",
      "display_name": "Python 3"
    },
    "accelerator": "GPU"
  },
  "cells": [
    {
      "cell_type": "markdown",
      "source": [
        "## Conv2D: Исследование аргументов (с интерактивным Playground)\n",
        "**🇷🇺 (RU)**: В этом ноутбуке мы исследуем, как различные аргументы слоя `Conv2D` в TensorFlow/Keras влияют на результат свертки. Сначала мы рассмотрим каждый важный параметр шаг за шагом, а в конце вы найдете интерактивную песочницу, где сможете поэкспериментировать самостоятельно.\n",
        "\n",
        "---\n",
        "\n",
        "**🇬🇧 (EN)**: In this notebook, we'll explore how different arguments of the `Conv2D` layer in TensorFlow/Keras affect the convolution output. First, we will look at each important parameter step-by-step, and at the end, you will find an interactive sandbox where you can experiment on your own."
      ]
    },
    {
      "cell_type": "code",
      "metadata": {},
      "source": [
        "import numpy as np\n",
        "import matplotlib.pyplot as plt\n",
        "import tensorflow as tf\n",
        "from tensorflow.keras.models import Sequential\n",
        "from tensorflow.keras.layers import Conv2D\n",
        "from typing import Tuple, Optional\n",
        "import ipywidgets as widgets\n",
        "from ipywidgets import interact"
      ],
      "execution_count": null,
      "outputs": []
    },
    {
      "cell_type": "code",
      "metadata": {},
      "source": [
        "input_image = np.arange(1, 26).reshape((5, 5))\n",
        "print(\"Наша 'картинка' (входные данные):\\n\")\n",
        "print(input_image)"
      ],
      "execution_count": null,
      "outputs": []
    },
    {
      "cell_type": "markdown",
      "source": [
        "#### Вспомогательная функция для визуализации\n",
        "\n",
        "**🇷🇺 (RU)**: Чтобы не повторять код, мы создадим одну функцию, которая будет проводить эксперимент: создавать модель, применять свертку и рисовать три картинки: **входное изображение**, **ядро свертки** и **результат (карту признаков)**.\n",
        "\n",
        "---\n",
        "\n",
        "**🇬🇧 (EN)**: To avoid repeating code, we will create a single function to run the experiment: it will create a model, apply the convolution, and draw three images: the **input image**, the **convolution kernel**, and the **result (feature map)**."
      ]
    },
    {
      "cell_type": "code",
      "source": [
        "def run_convolution_experiment(\n",
        "    input_data: np.ndarray,\n",
        "    kernel_size: Tuple[int, int] = (3, 3),\n",
        "    strides: Tuple[int, int] = (1, 1),\n",
        "    padding: str = \"valid\",\n",
        "    dilation_rate: Tuple[int, int] = (1, 1),\n",
        "    custom_kernel: Optional[np.ndarray] = None,\n",
        "):\n",
        "    \"\"\"Проводит один эксперимент со сверткой и визуализирует результат.\"\"\"\n",
        "    tf.keras.backend.clear_session()\n",
        "    input_shape = input_data.shape\n",
        "\n",
        "    if len(input_shape) == 2:\n",
        "        input_data_ch = np.expand_dims(input_data, axis=-1)\n",
        "    else:\n",
        "        input_data_ch = input_data\n",
        "    \n",
        "    input_data_batch = np.expand_dims(input_data_ch, axis=0)\n",
        "\n",
        "    model = Sequential()\n",
        "    conv_layer = Conv2D(\n",
        "        filters=1,\n",
        "        kernel_size=kernel_size,\n",
        "        strides=strides,\n",
        "        padding=padding,\n",
        "        dilation_rate=dilation_rate,\n",
        "        use_bias=False,\n",
        "        input_shape=input_data_ch.shape,\n",
        "    )\n",
        "    model.add(conv_layer)\n",
        "\n",
        "    if custom_kernel is not None:\n",
        "        keras_kernel = np.reshape(custom_kernel, (*kernel_size, 1, 1))\n",
        "        model.set_weights([keras_kernel])\n",
        "\n",
        "    output_data = model.predict(input_data_batch, verbose=0)\n",
        "\n",
        "    fig, axs = plt.subplots(1, 3, figsize=(12, 4))\n",
        "    fig.suptitle(f'Kernel: {kernel_size}, Strides: {strides}, Padding: \"{padding}\", Dilation: {dilation_rate}', fontsize=14)\n",
        "\n",
        "    ax1 = axs[0]\n",
        "    im1 = ax1.imshow(input_data, cmap=\"viridis\", interpolation=\"nearest\")\n",
        "    ax1.set_title(f\"Input\\nShape: {input_data.shape}\")\n",
        "    fig.colorbar(im1, ax=ax1)\n",
        "\n",
        "    kernel_weights = model.get_weights()[0]\n",
        "    if len(kernel_weights.shape) == 4 and kernel_weights.shape[2] == 1 and kernel_weights.shape[3] == 1:\n",
        "        kernel_to_show = kernel_weights[:, :, 0, 0]\n",
        "    else:\n",
        "        kernel_to_show = kernel_weights.squeeze()\n",
        "\n",
        "    ax2 = axs[1]\n",
        "    im2 = ax2.imshow(kernel_to_show, cmap=\"inferno\", interpolation=\"nearest\")\n",
        "    ax2.set_title(f\"Kernel\\nShape: {kernel_to_show.shape}\")\n",
        "    fig.colorbar(im2, ax=ax2)\n",
        "\n",
        "    output_squeezed = output_data.squeeze()\n",
        "    ax3 = axs[2]\n",
        "    if output_squeezed.shape == ():\n",
        "        output_to_show = np.array([[output_squeezed]])\n",
        "    else:\n",
        "        output_to_show = output_squeezed\n",
        "    im3 = ax3.imshow(output_to_show, cmap=\"viridis\", interpolation=\"nearest\")\n",
        "    ax3.set_title(f\"Output\\nShape: {output_squeezed.shape}\")\n",
        "    fig.colorbar(im3, ax=ax3)\n",
        "\n",
        "    for ax in axs:\n",
        "        ax.grid(which='both', color='white', linestyle='-', linewidth=0.5)\n",
        "\n",
        "    plt.tight_layout(rect=[0, 0, 1, 0.95])\n",
        "    plt.show()"
      ]
    },
    {
      "cell_type": "markdown",
      "source": [
        "### Часть 1: Пошаговое исследование\n",
        "---"
      ]
    },
    {
      "cell_type": "markdown",
      "source": [
        "#### `kernel_size`\n",
        "**🇷🇺 (RU)**: `kernel_size` — это размер «окна», которое скользит по изображению. Давайте используем ядро 3x3, заполненное единицами. Каждое значение в итоговой карте будет суммой всех значений в окне 3x3.\n",
        "\n",
        "**🇬🇧 (EN)**: `kernel_size` is the size of the \"window\" that slides over the image. Let's use a 3x3 kernel filled with ones. Each value in the resulting feature map will be the sum of all values in the 3x3 window."
      ]
    },
    {
      "cell_type": "code",
      "source": [
        "kernel_3x3 = np.ones((3, 3))\n",
        "run_convolution_experiment(input_image, kernel_size=(3, 3), custom_kernel=kernel_3x3)"
      ]
    },
    {
      "cell_type": "markdown",
      "source": [
        "#### `strides`\n",
        "**🇷🇺 (RU)**: `strides` — это шаг, с которым ядро двигается по изображению. Шаг (2, 2) означает, что ядро будет перепрыгивать через один пиксель. Посмотрите, как это уменьшает размер итоговой карты признаков.\n",
        "\n",
        "**🇬🇧 (EN)**: `strides` is the step size with which the kernel moves across the image. A stride of (2, 2) means the kernel will skip over one pixel at a time. Notice how this reduces the size of the final feature map."
      ]
    },
    {
      "cell_type": "code",
      "source": [
        "run_convolution_experiment(input_image, kernel_size=(3, 3), strides=(2, 2), custom_kernel=kernel_3x3)"
      ]
    },
    {
      "cell_type": "markdown",
      "source": [
        "#### `padding`\n",
        "**🇷🇺 (RU)**: `padding` добавляет «рамку» из нулей вокруг изображения. Если `padding='same'`, рамка будет такого размера, чтобы итоговая карта признаков была того же размера, что и входная (при шаге 1). Это полезно, чтобы не терять информацию по краям.\n",
        "\n",
        "**🇬🇧 (EN)**: `padding` adds a \"border\" of zeros around the image. If `padding='same'`, the border will be sized so that the output feature map is the same size as the input (with a stride of 1). This is useful for not losing information at the edges."
      ]
    },
    {
      "cell_type": "code",
      "source": [
        "run_convolution_experiment(input_image, kernel_size=(3, 3), padding='same', custom_kernel=kernel_3x3)"
      ]
    },
    {
      "cell_type": "markdown",
      "source": [
        "#### `dilation_rate`\n",
        "**🇷🇺 (RU)**: `dilation_rate` — это «разрежение» ядра. Значение (2, 2) означает, что между элементами ядра будет один пустой пиксель. Это позволяет ядру «видеть» большую область, не увеличивая количество параметров.\n",
        "\n",
        "**🇬🇧 (EN)**: `dilation_rate` refers to the \"sparseness\" of the kernel. A value of (2, 2) means there will be one empty pixel between the elements of the kernel. This allows the kernel to \"see\" a larger area without increasing the number of parameters."
      ]
    },
    {
      "cell_type": "code",
      "source": [
        "run_convolution_experiment(input_image, kernel_size=(3, 3), dilation_rate=(2, 2), custom_kernel=kernel_3x3)"
      ]
    },
    {
      "cell_type": "markdown",
      "source": [
        "### Часть 2: Интерактивный Playground\n",
        "---\n",
        "**🇷🇺 (RU)**: Теперь ваша очередь! Двигайте ползунки и выбирайте значения из списков, чтобы увидеть, как меняется результат свертки.\n",
        "\n",
        "**🇬🇧 (EN)**: Now it's your turn! Move the sliders and select values from the dropdowns to see how the convolution output changes."
      ]
    },
    {
      "cell_type": "code",
      "source": [
        "@interact(\n",
        "    kernel_size_h=widgets.IntSlider(min=1, max=5, step=2, value=3, description='Kernel Height:'),\n",
        "    kernel_size_w=widgets.IntSlider(min=1, max=5, step=2, value=3, description='Kernel Width:'),\n",
        "    stride_h=widgets.IntSlider(min=1, max=5, step=1, value=1, description='Stride Height:'),\n",
        "    stride_w=widgets.IntSlider(min=1, max=5, step=1, value=1, description='Stride Width:'),\n",
        "    padding=widgets.Dropdown(options=['valid', 'same'], value='valid', description='Padding:'),\n",
        "    dilation_h=widgets.IntSlider(min=1, max=3, step=1, value=1, description='Dilation Height:'),\n",
        "    dilation_w=widgets.IntSlider(min=1, max=3, step=1, value=1, description='Dilation Width:')\n",
        ")\n",
        "def interactive_convolution_visualizer(kernel_size_h, kernel_size_w, stride_h, stride_w, padding, dilation_h, dilation_w):\n",
        "    \"\"\"A wrapper function to connect widgets to our experiment function.\"\"\"\n",
        "    if padding == 'valid':\n",
        "        if kernel_size_h > input_image.shape[0] or kernel_size_w > input_image.shape[1]:\n",
        "            print(\"Error: Kernel size cannot be larger than the input image with 'valid' padding.\")\n",
        "            return\n",
        "            \n",
        "    custom_kernel = np.ones((kernel_size_h, kernel_size_w))\n",
        "    \n",
        "    run_convolution_experiment(\n",
        "        input_image,\n",
        "        kernel_size=(kernel_size_h, kernel_size_w),\n",
        "        strides=(stride_h, stride_w),\n",
        "        padding=padding,\n",
        "        dilation_rate=(dilation_h, dilation_w),\n",
        "        custom_kernel=custom_kernel\n",
        "    )"
      ]
    }
  ]
}
