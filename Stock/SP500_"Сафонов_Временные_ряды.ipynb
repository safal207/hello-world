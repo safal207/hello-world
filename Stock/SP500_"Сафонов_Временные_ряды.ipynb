{
  "nbformat": 4,
  "nbformat_minor": 0,
  "metadata": {
    "colab": {
      "name": "SP500 \"Сафонов Временные ряды ",
      "provenance": [],
      "authorship_tag": "ABX9TyO96XKggUitQS0lzMaH4wUc",
      "include_colab_link": true
    },
    "kernelspec": {
      "name": "python3",
      "display_name": "Python 3"
    },
    "accelerator": "GPU"
  },
  "cells": [
    {
      "cell_type": "markdown",
      "metadata": {
        "id": "view-in-github",
        "colab_type": "text"
      },
      "source": [
        "<a href=\"https://colab.research.google.com/github/safal207/hello-world/blob/master/SP500_%22%D0%A1%D0%B0%D1%84%D0%BE%D0%BD%D0%BE%D0%B2_%D0%92%D1%80%D0%B5%D0%BC%D0%B5%D0%BD%D0%BD%D1%8B%D0%B5_%D1%80%D1%8F%D0%B4%D1%8B.ipynb\" target=\"_parent\"><img src=\"https://colab.research.google.com/assets/colab-badge.svg\" alt=\"Open In Colab\"/></a>"
      ]
    },
    {
      "cell_type": "code",
      "metadata": {
        "id": "MprAk-rqXuhT"
      },
      "source": [
        "#Загружаем библиотеки\n",
        "# Задача на временные ряды\n",
        "import pandas as pd #Пандас\n",
        "import matplotlib.pyplot as plt #Отрисовка графиков\n",
        "from tensorflow.keras import utils #Для to_categorical\n",
        "import numpy as np #Numpy\n",
        "from tensorflow.keras.optimizers import Adam #Оптимизатор\n",
        "from tensorflow.keras.models import Sequential, Model #Два варианты моделей\n",
        "from tensorflow.keras.layers import concatenate, Input, Dense, Dropout, BatchNormalization, Flatten, Conv1D, Conv2D, LSTM #Стандартные слои\n",
        "from sklearn.preprocessing import StandardScaler, MinMaxScaler #Нормировщики\n",
        "from tensorflow.keras.preprocessing.sequence import TimeseriesGenerator # для генерации выборки временных рядов\n",
        "\n",
        "# Рисовать графики сразу же\n",
        "%matplotlib inline"
      ],
      "execution_count": null,
      "outputs": []
    },
    {
      "cell_type": "code",
      "metadata": {
        "id": "I0pMs8NHAbop",
        "outputId": "e8c1e275-1308-4dbe-cc29-04f86bf1e526",
        "colab": {
          "resources": {
            "http://localhost:8080/nbextensions/google.colab/files.js": {
              "data": "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",
              "ok": true,
              "headers": [
                [
                  "content-type",
                  "application/javascript"
                ]
              ],
              "status": 200,
              "status_text": ""
            }
          },
          "base_uri": "https://localhost:8080/",
          "height": 89
        }
      },
      "source": [
        "from google.colab import files #Загрузка файлов\n",
        "#Загружаем файл базы\n",
        "files.upload()\n",
        "!ls"
      ],
      "execution_count": null,
      "outputs": [
        {
          "output_type": "display_data",
          "data": {
            "text/html": [
              "\n",
              "     <input type=\"file\" id=\"files-740f704a-7a81-4303-9ddb-48c7589532fd\" name=\"files[]\" multiple disabled\n",
              "        style=\"border:none\" />\n",
              "     <output id=\"result-740f704a-7a81-4303-9ddb-48c7589532fd\">\n",
              "      Upload widget is only available when the cell has been executed in the\n",
              "      current browser session. Please rerun this cell to enable.\n",
              "      </output>\n",
              "      <script src=\"/nbextensions/google.colab/files.js\"></script> "
            ],
            "text/plain": [
              "<IPython.core.display.HTML object>"
            ]
          },
          "metadata": {
            "tags": []
          }
        },
        {
          "output_type": "stream",
          "text": [
            "Saving SP500_w_10-x19.csv to SP500_w_10-x19.csv\n",
            "sample_data  SP500_w_10-x19.csv\n"
          ],
          "name": "stdout"
        }
      ]
    },
    {
      "cell_type": "code",
      "metadata": {
        "id": "zgfCIpQGArJ9",
        "outputId": "7a85b817-6b67-4691-f26f-1c179bc09b16",
        "colab": {
          "base_uri": "https://localhost:8080/",
          "height": 34
        }
      },
      "source": [
        "base_data = pd.read_csv('SP500_w_10-x19.csv',  sep=';' , encoding='latin-1')\n",
        "print(base_data.shape)"
      ],
      "execution_count": null,
      "outputs": [
        {
          "output_type": "stream",
          "text": [
            "(3719, 9)\n"
          ],
          "name": "stdout"
        }
      ]
    },
    {
      "cell_type": "code",
      "metadata": {
        "id": "Cl_X1W-TpORA",
        "outputId": "0b289fe5-283d-490b-9fa6-ce4ba81cd2bd",
        "colab": {
          "base_uri": "https://localhost:8080/",
          "height": 289
        }
      },
      "source": [
        "# Выводим параметры одного файла\n",
        "d = base_data\n",
        "print('Сколько есть записей = ',len(d),'\\n') # Сколько есть записей\n",
        "print('Длина одной строки данных =',len(d.iloc[0]), '\\n') # Длина одной строки данных\n",
        "print('Пример первой строки данных','\\n',d.iloc[0],'\\n') # Пример первой строки данных"
      ],
      "execution_count": null,
      "outputs": [
        {
          "output_type": "stream",
          "text": [
            "Сколько есть записей =  3719 \n",
            "\n",
            "Длина одной строки данных = 9 \n",
            "\n",
            "Пример первой строки данных \n",
            " PRICE          3523\n",
            "OPEN           3532\n",
            "MAX            3533\n",
            "MIN            3501\n",
            "PRICE-OPEN        9\n",
            "OPEN-MAX          1\n",
            "MAX-MIN          32\n",
            "PRICE - MAX      10\n",
            "OPEN-MIN         31\n",
            "Name: 0, dtype: int64 \n",
            "\n"
          ],
          "name": "stdout"
        }
      ]
    },
    {
      "cell_type": "code",
      "metadata": {
        "id": "-aLAdPbvs1OB",
        "outputId": "28785d13-f64b-4b18-aa7e-2827a63ddd3d",
        "colab": {
          "base_uri": "https://localhost:8080/",
          "height": 51
        }
      },
      "source": [
        "print('Отображаем исходные от точки start и длинной step,','\\n')"
      ],
      "execution_count": null,
      "outputs": [
        {
          "output_type": "stream",
          "text": [
            "Отображаем исходные от точки start и длинной step, \n",
            "\n"
          ],
          "name": "stdout"
        }
      ]
    },
    {
      "cell_type": "code",
      "metadata": {
        "id": "5ypnOI3fpf8u",
        "outputId": "c84cdacb-de70-4666-a622-e6159eaeb68d",
        "colab": {
          "base_uri": "https://localhost:8080/",
          "height": 299
        }
      },
      "source": [
        "start = 0\n",
        "step = base_data.shape[0] #Сколько точек отрисуем\n",
        "print('Сколько точек (шагов - минут) отрисуем = ',step)\n",
        "\"Plotim  4 канал\"\n",
        "plt.plot(base_data[start:start+step])\n",
        "plt.legend()\n",
        "plt.show()"
      ],
      "execution_count": null,
      "outputs": [
        {
          "output_type": "stream",
          "text": [
            "No handles with labels found to put in legend.\n"
          ],
          "name": "stderr"
        },
        {
          "output_type": "stream",
          "text": [
            "Сколько точек (шагов - минут) отрисуем =  3719\n"
          ],
          "name": "stdout"
        },
        {
          "output_type": "display_data",
          "data": {
            "image/png": "[encoded data removed]",
            "text/plain": [
              "<Figure size 432x288 with 1 Axes>"
            ]
          },
          "metadata": {
            "tags": [],
            "needs_background": "light"
          }
        }
      ]
    },
    {
      "cell_type": "code",
      "metadata": {
        "id": "vuu7eRzDzY8U",
        "outputId": "438b3187-030f-4e24-f01c-750d59dcd1c3",
        "colab": {
          "base_uri": "https://localhost:8080/",
          "height": 119
        }
      },
      "source": [
        "#Канал volume\n",
        "print('Интревал рисуем , start + step', '\\n' )\n",
        "print('srart =', start, '\\n')\n",
        "print('step = ', step, '\\n' )\n"
      ],
      "execution_count": null,
      "outputs": [
        {
          "output_type": "stream",
          "text": [
            "Интревал рисуем , start + step \n",
            "\n",
            "srart = 0 \n",
            "\n",
            "step =  3719 \n",
            "\n"
          ],
          "name": "stdout"
        }
      ]
    },
    {
      "cell_type": "code",
      "metadata": {
        "id": "sCl_Lz2O4S6H",
        "outputId": "ae0de4e6-6e81-438b-d186-4930964891b0",
        "colab": {
          "base_uri": "https://localhost:8080/",
          "height": 34
        }
      },
      "source": [
        "print('Формируем параметры загрузки данных')"
      ],
      "execution_count": null,
      "outputs": [
        {
          "output_type": "stream",
          "text": [
            "Формируем параметры загрузки данных\n"
          ],
          "name": "stdout"
        }
      ]
    },
    {
      "cell_type": "code",
      "metadata": {
        "id": "WrBVT3C-8E7y",
        "outputId": "861adeac-5325-40e8-99a8-7676bca9860c",
        "colab": {
          "base_uri": "https://localhost:8080/",
          "height": 204
        }
      },
      "source": [
        "xLen = 24                     #Анализируем по 30 прошедшим точкам \n",
        "valLen = 2400                  #Используем 2000 записей для проверки\n",
        "\n",
        "print('Делим данные на тренировочную и тестовую выборки')\n",
        "\n",
        "trainLen = base_data.shape[0]-valLen\n",
        "print('Размер тренировочной выборки =',trainLen )\n",
        "\n",
        "xTrain,xTest = base_data[:trainLen], base_data[trainLen+xLen+2:]\n",
        "print('Размер тестовой выборки =', trainLen+xLen+2 )\n",
        "\n",
        "print('Для нормализации используем функцию MinMaxScaler()')\n",
        "xScaler = MinMaxScaler()\n",
        "\n",
        "\n",
        "print('Масштабируем данные (отдельно для X и Y), чтобы их легче было скормить сетке')\n",
        "\n",
        "xScaler.fit(xTrain)\n",
        "xTrain = xScaler.transform(xTrain)\n",
        "xTest = xScaler.transform(xTest)\n",
        "\n",
        "yTrain =np.array(base_data.iloc[:trainLen, 1]).reshape(-1, 1)\n",
        "yTest  =np.array(base_data.iloc[trainLen+xLen+2:, 1]).reshape(-1, 1)\n",
        "\n",
        "print('Делаем reshape,т.к. у нас только один столбец по одному значению')\n",
        "print('Делаем reshape для тренировочной и тестовой выборки')\n",
        "yScaler = MinMaxScaler()\n",
        "yScaler.fit(yTrain)\n",
        "yTrain = yScaler.transform(yTrain)\n",
        "yTest = yScaler.transform(yTest)\n",
        "\n",
        "print('Создаем генератор для обучения на xTrain (тренировочной выборке)  TimeseriesGenerator')\n",
        "batch_size_my = int(input('Размер batch для xTrain = '))\n",
        "trainDataGen = TimeseriesGenerator(xTrain, yTrain,                #В качестве параметров наши выборки\n",
        "                                    length=xLen, stride=1,        #Для каждой точки (из промежутка длины xLen)\n",
        "                                    batch_size=batch_size_my)     #Размер batch, который будем скармливать модели\n",
        "\n",
        "batch_size_my = int(input('Размер batch для xTest = '))\n",
        "print('Создаем аналогичный генератор для тестовой XTest выборке при обучении')\n",
        "testDataGen = TimeseriesGenerator(xTest, yTest,\n",
        "                               length=xLen, stride=1,\n",
        "                               batch_size=batch_size_my)\n",
        "\n"
      ],
      "execution_count": null,
      "outputs": [
        {
          "output_type": "stream",
          "text": [
            "Делим данные на тренировочную и тестовую выборки\n",
            "Размер тренировочной выборки = 1319\n",
            "Размер тестовой выборки = 1345\n",
            "Для нормализации используем функцию MinMaxScaler()\n",
            "Масштабируем данные (отдельно для X и Y), чтобы их легче было скормить сетке\n",
            "Делаем reshape,т.к. у нас только один столбец по одному значению\n",
            "Делаем reshape для тренировочной и тестовой выборки\n",
            "Создаем генератор для обучения на xTrain (тренировочной выборке)  TimeseriesGenerator\n",
            "Размер batch для xTrain = 20\n",
            "Размер batch для xTest = 20\n",
            "Создаем аналогичный генератор для тестовой XTest выборке при обучении\n"
          ],
          "name": "stdout"
        }
      ]
    },
    {
      "cell_type": "code",
      "metadata": {
        "id": "jvJ4KZ6lUdMi",
        "outputId": "4ca8a4ac-7d05-4904-db85-efb5ea8a427b",
        "colab": {
          "base_uri": "https://localhost:8080/",
          "height": 34
        }
      },
      "source": [
        "testDataGen.data.shape"
      ],
      "execution_count": null,
      "outputs": [
        {
          "output_type": "execute_result",
          "data": {
            "text/plain": [
              "(2374, 9)"
            ]
          },
          "metadata": {
            "tags": []
          },
          "execution_count": 14
        }
      ]
    },
    {
      "cell_type": "code",
      "metadata": {
        "id": "XgvsOR1PUjC2",
        "outputId": "e4cfb7f7-cf8b-46fc-8fe1-31d516e1c9fb",
        "colab": {
          "base_uri": "https://localhost:8080/",
          "height": 34
        }
      },
      "source": [
        "trainDataGen.data.shape"
      ],
      "execution_count": null,
      "outputs": [
        {
          "output_type": "execute_result",
          "data": {
            "text/plain": [
              "(1319, 9)"
            ]
          },
          "metadata": {
            "tags": []
          },
          "execution_count": 15
        }
      ]
    },
    {
      "cell_type": "code",
      "metadata": {
        "id": "5dXyyOGoguo8",
        "outputId": "1e938d70-ed36-4b80-bf52-76febbd7b421",
        "colab": {
          "base_uri": "https://localhost:8080/",
          "height": 1000
        }
      },
      "source": [
        "print('Создаем нейронную сеть на 5000 нейронов  доп слой Dense, activation=linear')\n",
        "modelD = Sequential()\n",
        "modelD.add(LSTM(1500, input_shape = (xLen,9), activation=\"linear\",return_sequences = True))\n",
        "#modelD.add(Conv1D(1050,4, input_shape = (xLen,9), activation=\"linear\"))\n",
        "\n",
        "modelD.add(Flatten())\n",
        "\n",
        "modelD.add(Dense(10, activation='linear')) \n",
        "#modelD.add(Dropout(0.9))\n",
        "modelD.add(Flatten())\n",
        "modelD.add(Dense(1, activation = \"linear\"))\n",
        "print('Компилируем, loss = mse, optimizer =1e-4')\n",
        "modelD.compile(loss=\"mae\", optimizer=Adam(lr=1e-4))\n",
        "modelD.summary()\n",
        "\n",
        "print('Запускаем обучение')\n",
        "#epochs = int(input('Введите количество эпох:'))\n",
        "history = modelD.fit_generator(\n",
        "                    trainDataGen, \n",
        "                    epochs=50, \n",
        "                    verbose=1, \n",
        "                    validation_data = testDataGen \n",
        "                    )\n",
        "\n",
        "#Выводим графики Ждем.........................\n",
        "plt.plot(history.history['loss'], \n",
        "         label='Средняя абсолютная ошибка на обучающем наборе')\n",
        "plt.plot(history.history['val_loss'], \n",
        "         label='Средняя абсолютная ошибка на проверочном наборе')\n",
        "plt.ylabel('Средняя ошибка')\n",
        "plt.legend()\n",
        "plt.show()"
      ],
      "execution_count": null,
      "outputs": [
        {
          "output_type": "stream",
          "text": [
            "Создаем нейронную сеть на 5000 нейронов  доп слой Dense, activation=linear\n",
            "WARNING:tensorflow:Layer lstm_10 will not use cuDNN kernel since it doesn't meet the cuDNN kernel criteria. It will use generic GPU kernel as fallback when running on GPU\n",
            "Компилируем, loss = mse, optimizer =1e-4\n",
            "Model: \"sequential_11\"\n",
            "_________________________________________________________________\n",
            "Layer (type)                 Output Shape              Param #   \n",
            "=================================================================\n",
            "lstm_10 (LSTM)               (None, 24, 1500)          9060000   \n",
            "_________________________________________________________________\n",
            "flatten_22 (Flatten)         (None, 36000)             0         \n",
            "_________________________________________________________________\n",
            "dense_42 (Dense)             (None, 10)                360010    \n",
            "_________________________________________________________________\n",
            "flatten_23 (Flatten)         (None, 10)                0         \n",
            "_________________________________________________________________\n",
            "dense_43 (Dense)             (None, 1)                 11        \n",
            "=================================================================\n",
            "Total params: 9,420,021\n",
            "Trainable params: 9,420,021\n",
            "Non-trainable params: 0\n",
            "_________________________________________________________________\n",
            "Запускаем обучение\n",
            "Epoch 1/50\n",
            "65/65 [==============================] - 5s 72ms/step - loss: 0.0840 - val_loss: 0.0856\n",
            "Epoch 2/50\n",
            "65/65 [==============================] - 5s 71ms/step - loss: 0.0528 - val_loss: 0.0122\n",
            "Epoch 3/50\n",
            "65/65 [==============================] - 5s 73ms/step - loss: 0.0331 - val_loss: 0.0130\n",
            "Epoch 4/50\n",
            "65/65 [==============================] - 5s 70ms/step - loss: 0.0257 - val_loss: 0.0104\n",
            "Epoch 5/50\n",
            "65/65 [==============================] - 5s 69ms/step - loss: 0.0275 - val_loss: 0.0175\n",
            "Epoch 6/50\n",
            "65/65 [==============================] - 5s 70ms/step - loss: 0.0261 - val_loss: 0.0248\n",
            "Epoch 7/50\n",
            "65/65 [==============================] - 5s 70ms/step - loss: 0.0286 - val_loss: 0.0320\n",
            "Epoch 8/50\n",
            "65/65 [==============================] - 5s 71ms/step - loss: 0.0222 - val_loss: 0.0098\n",
            "Epoch 9/50\n",
            "65/65 [==============================] - 5s 72ms/step - loss: 0.0277 - val_loss: 0.0133\n",
            "Epoch 10/50\n",
            "65/65 [==============================] - 4s 68ms/step - loss: 0.0203 - val_loss: 0.0128\n",
            "Epoch 11/50\n",
            "65/65 [==============================] - 5s 74ms/step - loss: 0.0330 - val_loss: 0.0111\n",
            "Epoch 12/50\n",
            "65/65 [==============================] - 5s 74ms/step - loss: 0.0199 - val_loss: 0.0077\n",
            "Epoch 13/50\n",
            "65/65 [==============================] - 4s 68ms/step - loss: 0.0187 - val_loss: 0.0220\n",
            "Epoch 14/50\n",
            "65/65 [==============================] - 4s 69ms/step - loss: 0.0185 - val_loss: 0.0084\n",
            "Epoch 15/50\n",
            "65/65 [==============================] - 4s 68ms/step - loss: 0.0271 - val_loss: 0.0281\n",
            "Epoch 16/50\n",
            "65/65 [==============================] - 4s 69ms/step - loss: 0.0194 - val_loss: 0.0091\n",
            "Epoch 17/50\n",
            "65/65 [==============================] - 4s 68ms/step - loss: 0.0151 - val_loss: 0.0098\n",
            "Epoch 18/50\n",
            "65/65 [==============================] - 5s 73ms/step - loss: 0.0169 - val_loss: 0.0098\n",
            "Epoch 19/50\n",
            "65/65 [==============================] - 4s 69ms/step - loss: 0.0257 - val_loss: 0.0095\n",
            "Epoch 20/50\n",
            "65/65 [==============================] - 4s 69ms/step - loss: 0.0202 - val_loss: 0.0408\n",
            "Epoch 21/50\n",
            "65/65 [==============================] - 5s 70ms/step - loss: 0.0155 - val_loss: 0.0076\n",
            "Epoch 22/50\n",
            "65/65 [==============================] - 5s 70ms/step - loss: 0.0195 - val_loss: 0.0398\n",
            "Epoch 23/50\n",
            "65/65 [==============================] - 5s 70ms/step - loss: 0.0171 - val_loss: 0.0138\n",
            "Epoch 24/50\n",
            "65/65 [==============================] - 5s 69ms/step - loss: 0.0174 - val_loss: 0.0118\n",
            "Epoch 25/50\n",
            "65/65 [==============================] - 4s 68ms/step - loss: 0.0136 - val_loss: 0.0131\n",
            "Epoch 26/50\n",
            "65/65 [==============================] - 4s 69ms/step - loss: 0.0187 - val_loss: 0.0098\n",
            "Epoch 27/50\n",
            "65/65 [==============================] - 5s 70ms/step - loss: 0.0150 - val_loss: 0.0251\n",
            "Epoch 28/50\n",
            "65/65 [==============================] - 5s 71ms/step - loss: 0.0140 - val_loss: 0.0305\n",
            "Epoch 29/50\n",
            "65/65 [==============================] - 4s 69ms/step - loss: 0.0137 - val_loss: 0.0217\n",
            "Epoch 30/50\n",
            "65/65 [==============================] - 5s 70ms/step - loss: 0.0157 - val_loss: 0.0236\n",
            "Epoch 31/50\n",
            "65/65 [==============================] - 5s 69ms/step - loss: 0.0183 - val_loss: 0.0202\n",
            "Epoch 32/50\n",
            "65/65 [==============================] - 4s 67ms/step - loss: 0.0137 - val_loss: 0.0156\n",
            "Epoch 33/50\n",
            "65/65 [==============================] - 4s 68ms/step - loss: 0.0147 - val_loss: 0.0130\n",
            "Epoch 34/50\n",
            "65/65 [==============================] - 5s 70ms/step - loss: 0.0157 - val_loss: 0.0182\n",
            "Epoch 35/50\n",
            "65/65 [==============================] - 4s 68ms/step - loss: 0.0143 - val_loss: 0.0071\n",
            "Epoch 36/50\n",
            "65/65 [==============================] - 4s 68ms/step - loss: 0.0215 - val_loss: 0.0068\n",
            "Epoch 37/50\n",
            "65/65 [==============================] - 5s 70ms/step - loss: 0.0150 - val_loss: 0.0252\n",
            "Epoch 38/50\n",
            "65/65 [==============================] - 4s 68ms/step - loss: 0.0152 - val_loss: 0.0128\n",
            "Epoch 39/50\n",
            "65/65 [==============================] - 4s 68ms/step - loss: 0.0131 - val_loss: 0.0226\n",
            "Epoch 40/50\n",
            "65/65 [==============================] - 5s 70ms/step - loss: 0.0179 - val_loss: 0.0166\n",
            "Epoch 41/50\n",
            "65/65 [==============================] - 4s 67ms/step - loss: 0.0131 - val_loss: 0.0195\n",
            "Epoch 42/50\n",
            "65/65 [==============================] - 5s 69ms/step - loss: 0.0135 - val_loss: 0.0276\n",
            "Epoch 43/50\n",
            "65/65 [==============================] - 4s 69ms/step - loss: 0.0152 - val_loss: 0.0147\n",
            "Epoch 44/50\n",
            "65/65 [==============================] - 5s 70ms/step - loss: 0.0134 - val_loss: 0.0303\n",
            "Epoch 45/50\n",
            "65/65 [==============================] - 5s 70ms/step - loss: 0.0212 - val_loss: 0.0167\n",
            "Epoch 46/50\n",
            "65/65 [==============================] - 5s 69ms/step - loss: 0.0147 - val_loss: 0.0074\n",
            "Epoch 47/50\n",
            "65/65 [==============================] - 5s 70ms/step - loss: 0.0122 - val_loss: 0.0123\n",
            "Epoch 48/50\n",
            "65/65 [==============================] - 5s 73ms/step - loss: 0.0128 - val_loss: 0.0149\n",
            "Epoch 49/50\n",
            "65/65 [==============================] - 4s 67ms/step - loss: 0.0160 - val_loss: 0.0173\n",
            "Epoch 50/50\n",
            "65/65 [==============================] - 4s 68ms/step - loss: 0.0132 - val_loss: 0.0089\n"
          ],
          "name": "stdout"
        },
        {
          "output_type": "display_data",
          "data": {
            "image/png": "[encoded data removed]",
            "text/plain": [
              "<Figure size 432x288 with 1 Axes>"
            ]
          },
          "metadata": {
            "tags": [],
            "needs_background": "light"
          }
        }
      ]
    },
    {
      "cell_type": "code",
      "metadata": {
        "id": "ROmB5uv3x9dV",
        "outputId": "05c25169-2e31-439f-b028-d405830f9a4b",
        "colab": {
          "base_uri": "https://localhost:8080/",
          "height": 153
        }
      },
      "source": [
        "print('Визуализация результатов')\n",
        "print('Функция рассчитываем результаты прогнозирования сети')\n",
        "print('Выдаёт результаты предсказания predVal')\n",
        "print('И правильные ответы в исходной размерности yValUnscaled (какими они были до нормирования)')\n",
        "def getPred(currModel, xVal, yVal, yScaler):\n",
        " \n",
        " \n",
        "  predVal = yScaler.inverse_transform(currModel.predict(xVal))  # Предсказываем ответ сети по проверочной выборке\n",
        "  yValUnscaled = yScaler.inverse_transform(yVal)                # И возвращаем исходны масштаб данных, до нормализации\n",
        "  \n",
        "  return (predVal, yValUnscaled)\n",
        "\n",
        "print('Функция визуализирует графики, что предсказала сеть и какие были правильные ответы')\n",
        "print('start - точка с которой начинаем отрисовку графика')\n",
        "print('step - длина графика, которую отрисовываем')\n",
        "print('channel - какой канал отрисовываем')\n",
        "def showPredict(start, step, channel, predVal, yValUnscaled):\n",
        "  plt.plot(predVal[start:start+step, 0],\n",
        "           label='Прогноз')\n",
        "  plt.plot(yValUnscaled[start:start+step, channel], \n",
        "           label='Базовый ряд')\n",
        "  plt.xlabel('Время')\n",
        "  plt.ylabel('Значение Close')\n",
        "  plt.legend()\n",
        "  plt.show() \n",
        "\n",
        "\n",
        "  # Функция расёта корреляции дух одномерных векторов\n",
        "def correlate(a, b):\n",
        "  # Рассчитываем основные показатели\n",
        "  ma = a.mean() # Среднее значение первого вектора\n",
        "  mb = b.mean() # Среднее значение второго вектора\n",
        "  mab = (a*b).mean() # Среднее значение произведения векторов\n",
        "  sa = a.std() # Среднеквадратичное отклонение первого вектора\n",
        "  sb = b.std() # Среднеквадратичное отклонение второго вектора\n",
        "  \n",
        "  #Рассчитываем корреляцию\n",
        "  val = 1\n",
        "  if ((sa>0) & (sb>0)):\n",
        "    val = (mab-ma*mb)/(sa*sb)\n",
        "  return val\n",
        "\n",
        "  # Функция рисуем корреляцию прогнозированного сигнала с правильным\n",
        "# Смещая на различное количество шагов назад\n",
        "# Для проверки появления эффекта автокорреляции\n",
        "# channels - по каким каналам отображать корреляцию\n",
        "# corrSteps - на какое количество шагов смещать сигнал назад для рассчёта корреляции\n",
        "def showCorr(channels, corrSteps, predVal, yValUnscaled):\n",
        "  # Проходим по всем каналам\n",
        "  for ch in channels:\n",
        "    corr = [] # Создаём пустой лист, в нём будут корреляции при смезении на i рагов обратно\n",
        "    yLen = yValUnscaled.shape[0] # Запоминаем размер проверочной выборки\n",
        "\n",
        "      # Постепенно увеличикаем шаг, насколько смещаем сигнал для проверки автокорреляции\n",
        "    for i in range(corrSteps):\n",
        "      # Получаем сигнал, смещённый на i шагов назад\n",
        "      # predVal[i:, ch]\n",
        "      # Сравниваем его с верными ответами, без смещения назад\n",
        "      # yValUnscaled[:yLen-i,ch]\n",
        "      # Рассчитываем их корреляцию и добавляем в лист\n",
        "      corr.append(correlate(yValUnscaled[:yLen-i,ch], predVal[i:, 0]))\n",
        "\n",
        "    own_corr = [] # Создаём пустой лист, в нём будут корреляции при смезении на i рагов обратно\n",
        "\n",
        "      # Постепенно увеличикаем шаг, насколько смещаем сигнал для проверки автокорреляции\n",
        "    for i in range(corrSteps):\n",
        "      # Получаем сигнал, смещённый на i шагов назад\n",
        "      # predVal[i:, ch]\n",
        "      # Сравниваем его с верными ответами, без смещения назад\n",
        "      # yValUnscaled[:yLen-i,ch]\n",
        "      # Рассчитываем их корреляцию и добавляем в лист\n",
        "      own_corr.append(correlate(yValUnscaled[:yLen-i,ch], yValUnscaled[i:, ch]))\n",
        "\n",
        "    # Отображаем график коррелций для данного шага\n",
        "    plt.plot(corr, label='Предсказание на ' + str(ch+1) + ' шаг')\n",
        "    plt.plot(own_corr, label='Эталон')\n",
        "\n",
        "  plt.xlabel('Время')\n",
        "  plt.ylabel('Значение')\n",
        "  plt.legend()\n",
        "  plt.show()\n",
        "\n",
        "  #Создадим генератор проверочной выборки, из которой потом вытащим xVal, yVal для проверки\n",
        "DataGen = TimeseriesGenerator(xTest, yTest,\n",
        "                               length=24, stride=1,\n",
        "                               batch_size=len(xTest)) #размер batch будет равен длине нашей выборки\n",
        "xVal = []\n",
        "yVal = []\n",
        "for i in DataGen:\n",
        "  xVal.append(i[0])\n",
        "  yVal.append(i[1])\n",
        "\n",
        "xVal = np.array(xVal)\n",
        "yVal = np.array(yVal)"
      ],
      "execution_count": null,
      "outputs": [
        {
          "output_type": "stream",
          "text": [
            "Визуализация результатов\n",
            "Функция рассчитываем результаты прогнозирования сети\n",
            "Выдаёт результаты предсказания predVal\n",
            "И правильные ответы в исходной размерности yValUnscaled (какими они были до нормирования)\n",
            "Функция визуализирует графики, что предсказала сеть и какие были правильные ответы\n",
            "start - точка с которой начинаем отрисовку графика\n",
            "step - длина графика, которую отрисовываем\n",
            "channel - какой канал отрисовываем\n"
          ],
          "name": "stdout"
        }
      ]
    },
    {
      "cell_type": "markdown",
      "metadata": {
        "id": "DMXdKc7hgHiu"
      },
      "source": [
        "# #Прогнозируем данные \n"
      ]
    },
    {
      "cell_type": "code",
      "metadata": {
        "id": "0l5-ScK8hWim",
        "outputId": "5e33ebf3-d981-4b95-b276-943b215c143e",
        "colab": {
          "base_uri": "https://localhost:8080/",
          "height": 1000
        }
      },
      "source": [
        "#Прогнозируем данные текущей сетью Это то что сейчас. Стало хуже\n",
        "currModel = modelD #Выбираем текущую модель\n",
        "(predVal, yValUnscaled) = getPred(currModel, xVal[0], yVal[0], yScaler) #Прогнозируем данные\n",
        "\n",
        "#Отображаем графики\n",
        "showPredict(0, 240, 0, predVal, yValUnscaled)\n",
        "for i in range(240):\n",
        "  y1 = yScaler.inverse_transform(yVal[0][i].reshape(-1,1))\n",
        "  y2 = yScaler.inverse_transform(modelD.predict(xVal[0][i].reshape(1,24,9)))\n",
        "  print( 'Реальный', int(y1[0][0]),'    Прогноз ', int(y2[0][0]))\n",
        "\n",
        "\n",
        "#Отображаем корреляцию хотим улучшить 0.999 пока 0.997. стало 0.9992 \n",
        "#Используем выходной канал - только open\n",
        "#Проверяем корреляцию на глубину 60 шагов\n",
        "showCorr([0],2     \n",
        "         \n",
        "         \n",
        "         , predVal, yValUnscaled)"
      ],
      "execution_count": null,
      "outputs": [
        {
          "output_type": "display_data",
          "data": {
            "image/png": "[encoded data removed]",
            "text/plain": [
              "<Figure size 432x288 with 1 Axes>"
            ]
          },
          "metadata": {
            "tags": [],
            "needs_background": "light"
          }
        },
        {
          "output_type": "stream",
          "text": [
            "Реальный 2080     Прогноз  2105\n",
            "Реальный 2091     Прогноз  2096\n",
            "Реальный 2113     Прогноз  2105\n",
            "Реальный 2110     Прогноз  2122\n",
            "Реальный 2087     Прогноз  2117\n",
            "Реальный 2106     Прогноз  2105\n",
            "Реальный 2112     Прогноз  2121\n",
            "Реальный 2108     Прогноз  2120\n",
            "Реальный 2119     Прогноз  2127\n",
            "Реальный 2113     Прогноз  2132\n",
            "Реальный 2107     Прогноз  2118\n",
            "Реальный 2098     Прогноз  2108\n",
            "Реальный 2103     Прогноз  2104\n",
            "Реальный 2084     Прогноз  2109\n",
            "Реальный 2103     Прогноз  2091\n",
            "Реальный 2106     Прогноз  2119\n",
            "Реальный 2098     Прогноз  2111\n",
            "Реальный 2092     Прогноз  2105\n",
            "Реальный 2102     Прогноз  2105\n",
            "Реальный 2092     Прогноз  2111\n",
            "Реальный 2081     Прогноз  2091\n",
            "Реальный 2077     Прогноз  2091\n",
            "Реальный 2081     Прогноз  2090\n",
            "Реальный 2065     Прогноз  2088\n",
            "Реальный 2060     Прогноз  2070\n",
            "Реальный 2068     Прогноз  2074\n",
            "Реальный 2084     Прогноз  2085\n",
            "Реальный 2064     Прогноз  2096\n",
            "Реальный 2056     Прогноз  2073\n",
            "Реальный 2060     Прогноз  2072\n",
            "Реальный 2093     Прогноз  2068\n",
            "Реальный 2104     Прогноз  2105\n",
            "Реальный 2108     Прогноз  2109\n",
            "Реальный 2090     Прогноз  2110\n",
            "Реальный 2099     Прогноз  2090\n",
            "Реальный 2073     Прогноз  2109\n",
            "Реальный 2081     Прогноз  2075\n",
            "Реальный 2055     Прогноз  2099\n",
            "Реальный 2065     Прогноз  2068\n",
            "Реальный 2041     Прогноз  2091\n",
            "Реальный 2045     Прогноз  2054\n",
            "Реальный 2076     Прогноз  2064\n",
            "Реальный 2072     Прогноз  2089\n",
            "Реальный 2101     Прогноз  2092\n",
            "Реальный 2099     Прогноз  2111\n",
            "Реальный 2108     Прогноз  2116\n",
            "Реальный 2116     Прогноз  2121\n",
            "Реальный 2105     Прогноз  2145\n",
            "Реальный 2111     Прогноз  2121\n",
            "Реальный 2114     Прогноз  2117\n",
            "Реальный 2115     Прогноз  2131\n",
            "Реальный 2109     Прогноз  2127\n",
            "Реальный 2110     Прогноз  2116\n",
            "Реальный 2098     Прогноз  2122\n",
            "Реальный 2099     Прогноз  2104\n",
            "Реальный 2099     Прогноз  2108\n",
            "Реальный 2096     Прогноз  2105\n",
            "Реальный 2089     Прогноз  2101\n",
            "Реальный 2070     Прогноз  2095\n",
            "Реальный 2069     Прогноз  2078\n",
            "Реальный 2049     Прогноз  2076\n",
            "Реальный 2053     Прогноз  2062\n",
            "Реальный 2062     Прогноз  2072\n",
            "Реальный 2043     Прогноз  2066\n",
            "Реальный 2049     Прогноз  2057\n",
            "Реальный 2023     Прогноз  2053\n",
            "Реальный 1997     Прогноз  2036\n",
            "Реальный 2018     Прогноз  2018\n",
            "Реальный 2002     Прогноз  2039\n",
            "Реальный 2031     Прогноз  2024\n",
            "Реальный 2048     Прогноз  2047\n",
            "Реальный 2050     Прогноз  2069\n",
            "Реальный 2063     Прогноз  2060\n",
            "Реальный 2034     Прогноз  2074\n",
            "Реальный 2019     Прогноз  2046\n",
            "Реальный 2021     Прогноз  2036\n",
            "Реальный 1992     Прогноз  2037\n",
            "Реальный 2014     Прогноз  2012\n",
            "Реальный 2018     Прогноз  2035\n",
            "Реальный 2031     Прогноз  2040\n",
            "Реальный 2046     Прогноз  2043\n",
            "Реальный 2063     Прогноз  2056\n",
            "Реальный 2031     Прогноз  2077\n",
            "Реальный 2006     Прогноз  2043\n",
            "Реальный 2022     Прогноз  2021\n",
            "Реальный 2054     Прогноз  2034\n",
            "Реальный 2059     Прогноз  2070\n",
            "Реальный 2082     Прогноз  2070\n",
            "Реальный 2088     Прогноз  2091\n",
            "Реальный 2088     Прогноз  2095\n",
            "Реальный 2084     Прогноз  2100\n",
            "Реальный 2083     Прогноз  2090\n",
            "Реальный 2081     Прогноз  2084\n",
            "Реальный 2069     Прогноз  2078\n",
            "Реальный 2061     Прогноз  2075\n",
            "Реальный 2018     Прогноз  2063\n",
            "Реальный 1974     Прогноз  2031\n",
            "Реальный 1987     Прогноз  2005\n",
            "Реальный 2005     Прогноз  1997\n",
            "Реальный 2030     Прогноз  2012\n",
            "Реальный 2028     Прогноз  2053\n",
            "Реальный 2059     Прогноз  2025\n",
            "Реальный 2057     Прогноз  2072\n",
            "Реальный 2075     Прогноз  2068\n",
            "Реальный 2073     Прогноз  2083\n",
            "Реальный 2074     Прогноз  2099\n",
            "Реальный 2067     Прогноз  2094\n",
            "Реальный 2054     Прогноз  2079\n",
            "Реальный 2066     Прогноз  2077\n",
            "Реальный 2075     Прогноз  2081\n",
            "Реальный 2067     Прогноз  2097\n",
            "Реальный 2070     Прогноз  2080\n",
            "Реальный 2065     Прогноз  2080\n",
            "Реальный 2057     Прогноз  2076\n",
            "Реальный 2046     Прогноз  2062\n",
            "Реальный 2051     Прогноз  2052\n",
            "Реальный 2041     Прогноз  2062\n",
            "Реальный 2037     Прогноз  2042\n",
            "Реальный 2040     Прогноз  2059\n",
            "Реальный 2039     Прогноз  2060\n",
            "Реальный 2037     Прогноз  2058\n",
            "Реальный 2037     Прогноз  2059\n",
            "Реальный 2031     Прогноз  2056\n",
            "Реальный 2031     Прогноз  2038\n",
            "Реальный 2023     Прогноз  2047\n",
            "Реальный 2015     Прогноз  2031\n",
            "Реальный 2016     Прогноз  2029\n",
            "Реальный 2018     Прогноз  2027\n",
            "Реальный 2000     Прогноз  2025\n",
            "Реальный 1979     Прогноз  2012\n",
            "Реальный 1982     Прогноз  1991\n",
            "Реальный 1963     Прогноз  1991\n",
            "Реальный 1963     Прогноз  1971\n",
            "Реальный 1951     Прогноз  1979\n",
            "Реальный 1931     Прогноз  1966\n",
            "Реальный 1941     Прогноз  1940\n",
            "Реальный 1909     Прогноз  1950\n",
            "Реальный 1886     Прогноз  1923\n",
            "Реальный 1864     Прогноз  1912\n",
            "Реальный 1856     Прогноз  1886\n",
            "Реальный 1874     Прогноз  1880\n",
            "Реальный 1876     Прогноз  1909\n",
            "Реальный 1906     Прогноз  1895\n",
            "Реальный 1926     Прогноз  1920\n",
            "Реальный 1968     Прогноз  1932\n",
            "Реальный 1936     Прогноз  1964\n",
            "Реальный 1962     Прогноз  1950\n",
            "Реальный 1969     Прогноз  1972\n",
            "Реальный 1948     Прогноз  1973\n",
            "Реальный 1946     Прогноз  1955\n",
            "Реальный 1971     Прогноз  1956\n",
            "Реальный 1978     Прогноз  1987\n",
            "Реальный 1979     Прогноз  1979\n",
            "Реальный 1966     Прогноз  1988\n",
            "Реальный 1997     Прогноз  1971\n",
            "Реальный 1982     Прогноз  2002\n",
            "Реальный 1993     Прогноз  1993\n",
            "Реальный 2009     Прогноз  2004\n",
            "Реальный 2012     Прогноз  2015\n",
            "Реальный 2003     Прогноз  2024\n",
            "Реальный 1999     Прогноз  2016\n",
            "Реальный 1981     Прогноз  2016\n",
            "Реальный 1986     Прогноз  1991\n",
            "Реальный 1997     Прогноз  2017\n",
            "Реальный 1993     Прогноз  2014\n",
            "Реальный 1987     Прогноз  2014\n",
            "Реальный 2000     Прогноз  1993\n",
            "Реальный 2006     Прогноз  2021\n",
            "Реальный 1998     Прогноз  2019\n",
            "Реальный 2002     Прогноз  2009\n",
            "Реальный 2004     Прогноз  2010\n",
            "Реальный 2004     Прогноз  2018\n",
            "Реальный 1998     Прогноз  2011\n",
            "Реальный 1997     Прогноз  2008\n",
            "Реальный 2000     Прогноз  2009\n",
            "Реальный 1999     Прогноз  2010\n",
            "Реальный 1992     Прогноз  2000\n",
            "Реальный 1993     Прогноз  1995\n",
            "Реальный 1987     Прогноз  2002\n",
            "Реальный 1980     Прогноз  1990\n",
            "Реальный 1973     Прогноз  1982\n",
            "Реальный 1957     Прогноз  1975\n",
            "Реальный 1959     Прогноз  1960\n",
            "Реальный 1947     Прогноз  1972\n",
            "Реальный 1936     Прогноз  1964\n",
            "Реальный 1936     Прогноз  1948\n",
            "Реальный 1932     Прогноз  1953\n",
            "Реальный 1910     Прогноз  1942\n",
            "Реальный 1923     Прогноз  1921\n",
            "Реальный 1917     Прогноз  1935\n",
            "Реальный 1936     Прогноз  1927\n",
            "Реальный 1926     Прогноз  1953\n",
            "Реальный 1930     Прогноз  1939\n",
            "Реальный 1965     Прогноз  1940\n",
            "Реальный 1973     Прогноз  1970\n",
            "Реальный 1980     Прогноз  1973\n",
            "Реальный 1978     Прогноз  1975\n",
            "Реальный 1985     Прогноз  1981\n",
            "Реальный 1987     Прогноз  1984\n",
            "Реальный 1985     Прогноз  1982\n",
            "Реальный 1975     Прогноз  1981\n",
            "Реальный 1977     Прогноз  1973\n",
            "Реальный 1962     Прогноз  1979\n",
            "Реальный 1980     Прогноз  1962\n",
            "Реальный 1975     Прогноз  1986\n",
            "Реальный 1977     Прогноз  1983\n",
            "Реальный 1969     Прогноз  1987\n",
            "Реальный 1966     Прогноз  1970\n",
            "Реальный 1967     Прогноз  1975\n",
            "Реальный 1965     Прогноз  1973\n",
            "Реальный 1975     Прогноз  1979\n",
            "Реальный 1984     Прогноз  1989\n",
            "Реальный 1975     Прогноз  1988\n",
            "Реальный 1973     Прогноз  1986\n",
            "Реальный 1962     Прогноз  1986\n",
            "Реальный 1961     Прогноз  1966\n",
            "Реальный 1957     Прогноз  1971\n",
            "Реальный 1960     Прогноз  1965\n",
            "Реальный 1949     Прогноз  1973\n",
            "Реальный 1962     Прогноз  1955\n",
            "Реальный 1963     Прогноз  1970\n",
            "Реальный 1960     Прогноз  1965\n",
            "Реальный 1957     Прогноз  1964\n",
            "Реальный 1943     Прогноз  1965\n",
            "Реальный 1937     Прогноз  1954\n",
            "Реальный 1935     Прогноз  1940\n",
            "Реальный 1931     Прогноз  1946\n",
            "Реальный 1943     Прогноз  1940\n",
            "Реальный 1949     Прогноз  1954\n",
            "Реальный 1950     Прогноз  1958\n",
            "Реальный 1949     Прогноз  1954\n",
            "Реальный 1942     Прогноз  1955\n",
            "Реальный 1929     Прогноз  1945\n",
            "Реальный 1923     Прогноз  1931\n",
            "Реальный 1923     Прогноз  1929\n",
            "Реальный 1924     Прогноз  1929\n",
            "Реальный 1919     Прогноз  1934\n",
            "Реальный 1911     Прогноз  1929\n",
            "Реальный 1912     Прогноз  1918\n",
            "Реальный 1901     Прогноз  1919\n"
          ],
          "name": "stdout"
        },
        {
          "output_type": "display_data",
          "data": {
            "image/png": "[encoded data removed]",
            "text/plain": [
              "<Figure size 432x288 with 1 Axes>"
            ]
          },
          "metadata": {
            "tags": [],
            "needs_background": "light"
          }
        }
      ]
    },
    {
      "cell_type": "markdown",
      "metadata": {
        "id": "zCc09jE3a3rC"
      },
      "source": [
        "# Нейронка 2"
      ]
    },
    {
      "cell_type": "code",
      "metadata": {
        "id": "l8ODatSkazhB",
        "outputId": "2fca6466-a023-46a7-c74d-ff6f5c0a84a6",
        "colab": {
          "base_uri": "https://localhost:8080/",
          "height": 401
        }
      },
      "source": [
        "dataInput = Input(shape=(xLen,9))\n",
        "\n",
        "lstmWay = LSTM(40, return_sequences=\"True\")(dataInput)\n",
        "lstmWay = Dropout(0.3)(lstmWay)\n",
        "\n",
        "convWay = Conv1D(100, 5, activation=\"relu\")(dataInput)\n",
        "\n",
        "lstmWay = LSTM(40, return_sequences=\"True\")(lstmWay)\n",
        "lstmWay = Dropout(0.3)(lstmWay)\n",
        "\n",
        "convWay = Conv1D(100, 5, activation=\"relu\")(convWay)\n",
        "\n",
        "denseWay = Dense(10, activation=\"linear\")(dataInput)\n",
        "denseWay = Dense(10, activation=\"linear\")(denseWay)\n",
        "\n",
        "lstmWay = Flatten()(lstmWay)\n",
        "convWay = Flatten()(convWay)\n",
        "denseWay = Flatten()(denseWay)\n",
        "\n",
        "finWay = concatenate([lstmWay, convWay, denseWay])\n",
        "finWay = Dense(10, activation=\"linear\")(finWay)\n",
        "finWay = Dense(yTrain.shape[1], activation=\"linear\")(finWay)\n",
        "\n",
        "modelX3 = Model(dataInput, finWay)\n",
        "\n",
        "modelX3.compile(loss=\"mse\", optimizer=Adam(lr=1e-4))\n",
        "\n",
        "history = modelX3.fit_generator(\n",
        "                    trainDataGen, \n",
        "                    epochs=4, \n",
        "                    verbose=1, \n",
        "                    validation_data = testDataGen \n",
        "                    )\n",
        "\n",
        "plt.plot(history.history['loss'][10:], \n",
        "         label='Точность на обучающем наборе')\n",
        "plt.plot(history.history['val_loss'][10:], \n",
        "         label='Точность на проверочном наборе')\n",
        "plt.ylabel('Средняя ошибка')\n",
        "plt.legend()\n",
        "plt.show()"
      ],
      "execution_count": null,
      "outputs": [
        {
          "output_type": "stream",
          "text": [
            "Epoch 1/4\n",
            "65/65 [==============================] - 2s 25ms/step - loss: 0.0119 - val_loss: 0.0241\n",
            "Epoch 2/4\n",
            "65/65 [==============================] - 1s 16ms/step - loss: 0.0060 - val_loss: 0.0122\n",
            "Epoch 3/4\n",
            "65/65 [==============================] - 1s 16ms/step - loss: 0.0038 - val_loss: 0.0130\n",
            "Epoch 4/4\n",
            "65/65 [==============================] - 1s 16ms/step - loss: 0.0026 - val_loss: 0.0075\n"
          ],
          "name": "stdout"
        },
        {
          "output_type": "display_data",
          "data": {
            "image/png": "[encoded data removed]",
            "text/plain": [
              "<Figure size 432x288 with 1 Axes>"
            ]
          },
          "metadata": {
            "tags": [],
            "needs_background": "light"
          }
        }
      ]
    },
    {
      "cell_type": "code",
      "metadata": {
        "id": "33Phjc0rbLP3",
        "outputId": "0615ad36-2803-4aaf-bf97-2d244eb47214",
        "colab": {
          "base_uri": "https://localhost:8080/",
          "height": 229
        }
      },
      "source": [
        "#Прогнозируем данные текущей сетью\n",
        "currModel = modelX\n",
        "(predVal, yValUnscaled) = getPred(currModel, xVal[0], yVal[0], yScaler)\n",
        "#Отображаем графики\n",
        "showPredict(0, 100, 0, predVal, yValUnscaled)"
      ],
      "execution_count": null,
      "outputs": [
        {
          "output_type": "error",
          "ename": "NameError",
          "evalue": "ignored",
          "traceback": [
            "\u001b[0;31m---------------------------------------------------------------------------\u001b[0m",
            "\u001b[0;31mNameError\u001b[0m                                 Traceback (most recent call last)",
            "\u001b[0;32m<ipython-input-13-4b4110b78e2d>\u001b[0m in \u001b[0;36m<module>\u001b[0;34m()\u001b[0m\n\u001b[1;32m      1\u001b[0m \u001b[0;31m#Прогнозируем данные текущей сетью\u001b[0m\u001b[0;34m\u001b[0m\u001b[0;34m\u001b[0m\u001b[0;34m\u001b[0m\u001b[0m\n\u001b[0;32m----> 2\u001b[0;31m \u001b[0mcurrModel\u001b[0m \u001b[0;34m=\u001b[0m \u001b[0mmodelX\u001b[0m\u001b[0;34m\u001b[0m\u001b[0;34m\u001b[0m\u001b[0m\n\u001b[0m\u001b[1;32m      3\u001b[0m \u001b[0;34m(\u001b[0m\u001b[0mpredVal\u001b[0m\u001b[0;34m,\u001b[0m \u001b[0myValUnscaled\u001b[0m\u001b[0;34m)\u001b[0m \u001b[0;34m=\u001b[0m \u001b[0mgetPred\u001b[0m\u001b[0;34m(\u001b[0m\u001b[0mcurrModel\u001b[0m\u001b[0;34m,\u001b[0m \u001b[0mxVal\u001b[0m\u001b[0;34m[\u001b[0m\u001b[0;36m0\u001b[0m\u001b[0;34m]\u001b[0m\u001b[0;34m,\u001b[0m \u001b[0myVal\u001b[0m\u001b[0;34m[\u001b[0m\u001b[0;36m0\u001b[0m\u001b[0;34m]\u001b[0m\u001b[0;34m,\u001b[0m \u001b[0myScaler\u001b[0m\u001b[0;34m)\u001b[0m\u001b[0;34m\u001b[0m\u001b[0;34m\u001b[0m\u001b[0m\n\u001b[1;32m      4\u001b[0m \u001b[0;31m#Отображаем графики\u001b[0m\u001b[0;34m\u001b[0m\u001b[0;34m\u001b[0m\u001b[0;34m\u001b[0m\u001b[0m\n\u001b[1;32m      5\u001b[0m \u001b[0mshowPredict\u001b[0m\u001b[0;34m(\u001b[0m\u001b[0;36m0\u001b[0m\u001b[0;34m,\u001b[0m \u001b[0;36m100\u001b[0m\u001b[0;34m,\u001b[0m \u001b[0;36m0\u001b[0m\u001b[0;34m,\u001b[0m \u001b[0mpredVal\u001b[0m\u001b[0;34m,\u001b[0m \u001b[0myValUnscaled\u001b[0m\u001b[0;34m)\u001b[0m\u001b[0;34m\u001b[0m\u001b[0;34m\u001b[0m\u001b[0m\n",
            "\u001b[0;31mNameError\u001b[0m: name 'modelX' is not defined"
          ]
        }
      ]
    },
    {
      "cell_type": "code",
      "metadata": {
        "id": "SsLHYdlhbPsR",
        "outputId": "c5c70e03-0eb0-438d-e7ad-e736cc94db89",
        "colab": {
          "base_uri": "https://localhost:8080/",
          "height": 279
        }
      },
      "source": [
        "#Отображаем корреляцию\n",
        "showCorr([0], 100, predVal, yValUnscaled)"
      ],
      "execution_count": null,
      "outputs": [
        {
          "output_type": "display_data",
          "data": {
            "image/png": "[encoded data removed]",
            "text/plain": [
              "<Figure size 432x288 with 1 Axes>"
            ]
          },
          "metadata": {
            "tags": [],
            "needs_background": "light"
          }
        }
      ]
    }
  ]
}