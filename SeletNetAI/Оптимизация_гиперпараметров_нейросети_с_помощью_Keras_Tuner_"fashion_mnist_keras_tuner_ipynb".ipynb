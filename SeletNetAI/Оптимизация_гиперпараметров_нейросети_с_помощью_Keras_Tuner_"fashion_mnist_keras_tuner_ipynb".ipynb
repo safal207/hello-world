{
  "nbformat": 4,
  "nbformat_minor": 0,
  "metadata": {
    "colab": {
      "name": "Оптимизация гиперпараметров нейросети с помощью Keras Tuner \"fashion_mnist_keras_tuner.ipynb\"",
      "provenance": [],
      "include_colab_link": true
    },
    "kernelspec": {
      "name": "python3",
      "display_name": "Python 3"
    },
    "accelerator": "GPU"
  },
  "cells": [
    {
      "cell_type": "markdown",
      "metadata": {
        "id": "view-in-github",
        "colab_type": "text"
      },
      "source": [
        "<a href=\"https://colab.research.google.com/github/safal207/hello-world/blob/master/%D0%9E%D0%BF%D1%82%D0%B8%D0%BC%D0%B8%D0%B7%D0%B0%D1%86%D0%B8%D1%8F_%D0%B3%D0%B8%D0%BF%D0%B5%D1%80%D0%BF%D0%B0%D1%80%D0%B0%D0%BC%D0%B5%D1%82%D1%80%D0%BE%D0%B2_%D0%BD%D0%B5%D0%B9%D1%80%D0%BE%D1%81%D0%B5%D1%82%D0%B8_%D1%81_%D0%BF%D0%BE%D0%BC%D0%BE%D1%89%D1%8C%D1%8E_Keras_Tuner_%22fashion_mnist_keras_tuner_ipynb%22.ipynb\" target=\"_parent\"><img src=\"https://colab.research.google.com/assets/colab-badge.svg\" alt=\"Open In Colab\"/></a>"
      ]
    },
    {
      "cell_type": "markdown",
      "metadata": {
        "id": "Ah7dy1kFL2H9"
      },
      "source": [
        "# Оптимизация гиперпараметров нейросети с помощью [Keras Tuner](https://github.com/keras-team/keras-tuner)\n",
        "\n",
        "\n",
        "\n",
        "Чтобы запускать и редактировать код, сохраните копию этого ноутбука себе (File->Save a copy in Drive...). Свою копию вы сможете изменять и запускать.\n",
        "\n",
        "Не забудьте подключить GPU, чтобы сеть обучалась быстрее (Runtime -> Change Runtime Type -> Hardware Accelerator -> GPU).\n",
        "\n"
      ]
    },
    {
      "cell_type": "markdown",
      "metadata": {
        "id": "Om0LL5DEZfEo"
      },
      "source": [
        "## Гиперпараметры обучения нейронной сети\n",
        "\n",
        "- Количество слоев нейронной сети\n",
        "- Количество нейронов в каждом слое\n",
        "- Функции активации, которые используются в слоях\n",
        "- Тип оптимизатора при обучении нейронной сети\n",
        "- Количество эпох обучения"
      ]
    },
    {
      "cell_type": "markdown",
      "metadata": {
        "id": "eVmxmhjuia9a"
      },
      "source": [
        "## Установка Keras Tuner"
      ]
    },
    {
      "cell_type": "code",
      "metadata": {
        "id": "ftLg2Tt0Rejk",
        "outputId": "da4475e4-93ea-4cd3-e1c4-f9b65c16a577",
        "colab": {
          "base_uri": "https://localhost:8080/"
        }
      },
      "source": [
        "pip install -U keras-tuner"
      ],
      "execution_count": null,
      "outputs": [
        {
          "output_type": "stream",
          "text": [
            "Collecting keras-tuner\n",
            "\u001b[?25l  Downloading https://files.pythonhosted.org/packages/a7/f7/4b41b6832abf4c9bef71a664dc563adb25afc5812831667c6db572b1a261/keras-tuner-1.0.1.tar.gz (54kB)\n",
            "\r\u001b[K     |██████                          | 10kB 18.8MB/s eta 0:00:01\r\u001b[K     |████████████                    | 20kB 3.8MB/s eta 0:00:01\r\u001b[K     |██████████████████              | 30kB 4.3MB/s eta 0:00:01\r\u001b[K     |████████████████████████        | 40kB 4.8MB/s eta 0:00:01\r\u001b[K     |██████████████████████████████  | 51kB 4.8MB/s eta 0:00:01\r\u001b[K     |████████████████████████████████| 61kB 3.6MB/s \n",
            "\u001b[?25hRequirement already satisfied, skipping upgrade: future in /usr/local/lib/python3.6/dist-packages (from keras-tuner) (0.16.0)\n",
            "Requirement already satisfied, skipping upgrade: numpy in /usr/local/lib/python3.6/dist-packages (from keras-tuner) (1.18.5)\n",
            "Requirement already satisfied, skipping upgrade: tabulate in /usr/local/lib/python3.6/dist-packages (from keras-tuner) (0.8.7)\n",
            "Collecting terminaltables\n",
            "  Downloading https://files.pythonhosted.org/packages/9b/c4/4a21174f32f8a7e1104798c445dacdc1d4df86f2f26722767034e4de4bff/terminaltables-3.1.0.tar.gz\n",
            "Collecting colorama\n",
            "  Downloading https://files.pythonhosted.org/packages/44/98/5b86278fbbf250d239ae0ecb724f8572af1c91f4a11edf4d36a206189440/colorama-0.4.4-py2.py3-none-any.whl\n",
            "Requirement already satisfied, skipping upgrade: tqdm in /usr/local/lib/python3.6/dist-packages (from keras-tuner) (4.41.1)\n",
            "Requirement already satisfied, skipping upgrade: requests in /usr/local/lib/python3.6/dist-packages (from keras-tuner) (2.23.0)\n",
            "Requirement already satisfied, skipping upgrade: scipy in /usr/local/lib/python3.6/dist-packages (from keras-tuner) (1.4.1)\n",
            "Requirement already satisfied, skipping upgrade: scikit-learn in /usr/local/lib/python3.6/dist-packages (from keras-tuner) (0.22.2.post1)\n",
            "Requirement already satisfied, skipping upgrade: certifi>=2017.4.17 in /usr/local/lib/python3.6/dist-packages (from requests->keras-tuner) (2020.6.20)\n",
            "Requirement already satisfied, skipping upgrade: chardet<4,>=3.0.2 in /usr/local/lib/python3.6/dist-packages (from requests->keras-tuner) (3.0.4)\n",
            "Requirement already satisfied, skipping upgrade: idna<3,>=2.5 in /usr/local/lib/python3.6/dist-packages (from requests->keras-tuner) (2.10)\n",
            "Requirement already satisfied, skipping upgrade: urllib3!=1.25.0,!=1.25.1,<1.26,>=1.21.1 in /usr/local/lib/python3.6/dist-packages (from requests->keras-tuner) (1.24.3)\n",
            "Requirement already satisfied, skipping upgrade: joblib>=0.11 in /usr/local/lib/python3.6/dist-packages (from scikit-learn->keras-tuner) (0.17.0)\n",
            "Building wheels for collected packages: keras-tuner, terminaltables\n",
            "  Building wheel for keras-tuner (setup.py) ... \u001b[?25l\u001b[?25hdone\n",
            "  Created wheel for keras-tuner: filename=keras_tuner-1.0.1-cp36-none-any.whl size=73200 sha256=4aa4417dbceeff4f2e2f2c874ae8f5361e6a14cd7ce55c297ba2a6852330247d\n",
            "  Stored in directory: /root/.cache/pip/wheels/b9/cc/62/52716b70dd90f3db12519233c3a93a5360bc672da1a10ded43\n",
            "  Building wheel for terminaltables (setup.py) ... \u001b[?25l\u001b[?25hdone\n",
            "  Created wheel for terminaltables: filename=terminaltables-3.1.0-cp36-none-any.whl size=15356 sha256=f579b2ad146aa2b9c2074bc21e40a41f36f4040c3efc1aebd25903934b16765c\n",
            "  Stored in directory: /root/.cache/pip/wheels/30/6b/50/6c75775b681fb36cdfac7f19799888ef9d8813aff9e379663e\n",
            "Successfully built keras-tuner terminaltables\n",
            "Installing collected packages: terminaltables, colorama, keras-tuner\n",
            "Successfully installed colorama-0.4.4 keras-tuner-1.0.1 terminaltables-3.1.0\n"
          ],
          "name": "stdout"
        }
      ]
    },
    {
      "cell_type": "markdown",
      "metadata": {
        "id": "TRs9p254BLSu"
      },
      "source": [
        "## Подключаем нужные пакеты"
      ]
    },
    {
      "cell_type": "code",
      "metadata": {
        "id": "qrfd6FzSLrE2"
      },
      "source": [
        "%tensorflow_version 2.x\n",
        "from tensorflow.keras.datasets import fashion_mnist\n",
        "from tensorflow.keras.models import Sequential\n",
        "from tensorflow.keras.layers import Dense\n",
        "from tensorflow.keras import utils\n",
        "from google.colab import files\n",
        "from kerastuner.tuners import RandomSearch, Hyperband, BayesianOptimization\n",
        "import numpy as np"
      ],
      "execution_count": null,
      "outputs": []
    },
    {
      "cell_type": "markdown",
      "metadata": {
        "id": "xiurjCBVMDTG"
      },
      "source": [
        "## Подготовка данных для обучения сети"
      ]
    },
    {
      "cell_type": "code",
      "metadata": {
        "id": "E5L3LUIi8PDV",
        "outputId": "01199641-7a66-4445-f828-5aec81737adf",
        "colab": {
          "base_uri": "https://localhost:8080/"
        }
      },
      "source": [
        "(x_train, y_train), (x_test, y_test) = fashion_mnist.load_data()"
      ],
      "execution_count": null,
      "outputs": [
        {
          "output_type": "stream",
          "text": [
            "Downloading data from https://storage.googleapis.com/tensorflow/tf-keras-datasets/train-labels-idx1-ubyte.gz\n",
            "32768/29515 [=================================] - 0s 0us/step\n",
            "Downloading data from https://storage.googleapis.com/tensorflow/tf-keras-datasets/train-images-idx3-ubyte.gz\n",
            "26427392/26421880 [==============================] - 1s 0us/step\n",
            "Downloading data from https://storage.googleapis.com/tensorflow/tf-keras-datasets/t10k-labels-idx1-ubyte.gz\n",
            "8192/5148 [===============================================] - 0s 0us/step\n",
            "Downloading data from https://storage.googleapis.com/tensorflow/tf-keras-datasets/t10k-images-idx3-ubyte.gz\n",
            "4423680/4422102 [==============================] - 0s 0us/step\n"
          ],
          "name": "stdout"
        }
      ]
    },
    {
      "cell_type": "code",
      "metadata": {
        "id": "6Z52YG_1kXbi"
      },
      "source": [
        "x_train = x_train.reshape(60000, 784)\n",
        "x_test = x_test.reshape(10000, 784)\n",
        "x_train = x_train / 255 \n",
        "x_test = x_test / 255 \n",
        "y_train = utils.to_categorical(y_train, 10)\n",
        "y_test = utils.to_categorical(y_test, 10)"
      ],
      "execution_count": null,
      "outputs": []
    },
    {
      "cell_type": "markdown",
      "metadata": {
        "id": "rpEltSGUkJAG"
      },
      "source": [
        "## Задаем функцию создания нейронной сети"
      ]
    },
    {
      "cell_type": "code",
      "metadata": {
        "id": "Sd62W3GOQtKU"
      },
      "source": [
        "def build_model(hp):\n",
        "    model = Sequential()\n",
        "    activation_choice = hp.Choice('activation', values=['relu', 'sigmoid', 'tanh', 'elu', 'selu'])    \n",
        "    model.add(Dense(units=hp.Int('units_input',    # Полносвязный слой с разным количеством нейронов\n",
        "                                   min_value=512,    # минимальное количество нейронов - 128\n",
        "                                   max_value=1024,   # максимальное количество - 1024\n",
        "                                   step=32),\n",
        "                    input_dim=784,\n",
        "                    activation=activation_choice))\n",
        "    model.add(Dense(units=hp.Int('units_hidden',        \n",
        "                                   min_value=128,   \n",
        "                                   max_value=600,   \n",
        "                                   step=32),\n",
        "                    activation=activation_choice))   \n",
        "    \n",
        "    model.add(Dense(units=hp.Int('units_hidden',        \n",
        "                                   min_value=48,   \n",
        "                                   max_value=300,   \n",
        "                                   step=32),\n",
        "                    activation=activation_choice))   \n",
        "    \n",
        "    model.add(Dense(10, activation='softmax'))\n",
        "    model.compile(\n",
        "        optimizer=hp.Choice('optimizer', values=['adam','rmsprop','SGD']),\n",
        "        loss='categorical_crossentropy',\n",
        "        metrics=['accuracy'])\n",
        "    return model"
      ],
      "execution_count": null,
      "outputs": []
    },
    {
      "cell_type": "markdown",
      "metadata": {
        "id": "lFw-0sZsmFOJ"
      },
      "source": [
        "## Создаем tuner\n",
        "\n",
        "Доступные типы тюнеров: \n",
        "- RandomSearch - случайный поиск.\n",
        "- Hyperband - алгоритм оптимизации на основе многорукого бандита, Li, Lisha, and Kevin Jamieson. [\"Hyperband: A Novel Bandit-Based Approach to Hyperparameter Optimization.\"Journal of Machine Learning Research 18 (2018): 1-52](http://jmlr.org/papers/v18/16-558.html).\n",
        "- BayesianOptimization - [байесовская оптимизация](https://en.wikipedia.org/wiki/Bayesian_optimization)."
      ]
    },
    {
      "cell_type": "code",
      "metadata": {
        "id": "OZwA47cOQz4b"
      },
      "source": [
        "tuner = RandomSearch(\n",
        "    build_model,                 # функция создания модели\n",
        "    objective='val_accuracy',    # метрика, которую нужно оптимизировать - \n",
        "                                 # доля правильных ответов на проверочном наборе данных\n",
        "    max_trials=120,               # максимальное количество запусков обучения \n",
        "    directory='test_directory'   # каталог, куда сохраняются обученные сети  \n",
        "    )"
      ],
      "execution_count": null,
      "outputs": []
    },
    {
      "cell_type": "markdown",
      "metadata": {
        "id": "-znOiwDZB1C5"
      },
      "source": [
        "## Запускаем подбор гиперпараметров"
      ]
    },
    {
      "cell_type": "markdown",
      "metadata": {
        "id": "63MVEBFYmdpB"
      },
      "source": [
        "Пространство поиска"
      ]
    },
    {
      "cell_type": "code",
      "metadata": {
        "id": "JeJ87qoVB4PV",
        "outputId": "844f9327-88ef-4ab2-a849-9f080cfac6d1",
        "colab": {
          "base_uri": "https://localhost:8080/",
          "height": 494
        }
      },
      "source": [
        "tuner.search_space_summary()"
      ],
      "execution_count": null,
      "outputs": [
        {
          "output_type": "display_data",
          "data": {
            "text/html": [
              "<span style=\"color:#4527A0\"><h1 style=\"font-size:18px\">Search space summary</h1></span>"
            ],
            "text/plain": [
              "<IPython.core.display.HTML object>"
            ]
          },
          "metadata": {
            "tags": []
          }
        },
        {
          "output_type": "display_data",
          "data": {
            "text/html": [
              "<span style=\"color:cyan\"> |-Default search space size: 4</span>"
            ],
            "text/plain": [
              "<IPython.core.display.HTML object>"
            ]
          },
          "metadata": {
            "tags": []
          }
        },
        {
          "output_type": "display_data",
          "data": {
            "text/html": [
              "<span style=\"color:#7E57C2\"><h2 style=\"font-size:16px\">activation (Choice)</h2></span>"
            ],
            "text/plain": [
              "<IPython.core.display.HTML object>"
            ]
          },
          "metadata": {
            "tags": []
          }
        },
        {
          "output_type": "display_data",
          "data": {
            "text/html": [
              "<span style=\"color:cyan\"> |-default: relu</span>"
            ],
            "text/plain": [
              "<IPython.core.display.HTML object>"
            ]
          },
          "metadata": {
            "tags": []
          }
        },
        {
          "output_type": "display_data",
          "data": {
            "text/html": [
              "<span style=\"color:blue\"> |-ordered: False</span>"
            ],
            "text/plain": [
              "<IPython.core.display.HTML object>"
            ]
          },
          "metadata": {
            "tags": []
          }
        },
        {
          "output_type": "display_data",
          "data": {
            "text/html": [
              "<span style=\"color:cyan\"> |-values: ['relu', 'sigmoid', 'tanh', 'elu', 'selu']</span>"
            ],
            "text/plain": [
              "<IPython.core.display.HTML object>"
            ]
          },
          "metadata": {
            "tags": []
          }
        },
        {
          "output_type": "display_data",
          "data": {
            "text/html": [
              "<span style=\"color:#7E57C2\"><h2 style=\"font-size:16px\">units_input (Int)</h2></span>"
            ],
            "text/plain": [
              "<IPython.core.display.HTML object>"
            ]
          },
          "metadata": {
            "tags": []
          }
        },
        {
          "output_type": "display_data",
          "data": {
            "text/html": [
              "<span style=\"color:cyan\"> |-default: None</span>"
            ],
            "text/plain": [
              "<IPython.core.display.HTML object>"
            ]
          },
          "metadata": {
            "tags": []
          }
        },
        {
          "output_type": "display_data",
          "data": {
            "text/html": [
              "<span style=\"color:blue\"> |-max_value: 1024</span>"
            ],
            "text/plain": [
              "<IPython.core.display.HTML object>"
            ]
          },
          "metadata": {
            "tags": []
          }
        },
        {
          "output_type": "display_data",
          "data": {
            "text/html": [
              "<span style=\"color:cyan\"> |-min_value: 512</span>"
            ],
            "text/plain": [
              "<IPython.core.display.HTML object>"
            ]
          },
          "metadata": {
            "tags": []
          }
        },
        {
          "output_type": "display_data",
          "data": {
            "text/html": [
              "<span style=\"color:blue\"> |-sampling: None</span>"
            ],
            "text/plain": [
              "<IPython.core.display.HTML object>"
            ]
          },
          "metadata": {
            "tags": []
          }
        },
        {
          "output_type": "display_data",
          "data": {
            "text/html": [
              "<span style=\"color:cyan\"> |-step: 32</span>"
            ],
            "text/plain": [
              "<IPython.core.display.HTML object>"
            ]
          },
          "metadata": {
            "tags": []
          }
        },
        {
          "output_type": "display_data",
          "data": {
            "text/html": [
              "<span style=\"color:#7E57C2\"><h2 style=\"font-size:16px\">units_hidden (Int)</h2></span>"
            ],
            "text/plain": [
              "<IPython.core.display.HTML object>"
            ]
          },
          "metadata": {
            "tags": []
          }
        },
        {
          "output_type": "display_data",
          "data": {
            "text/html": [
              "<span style=\"color:cyan\"> |-default: None</span>"
            ],
            "text/plain": [
              "<IPython.core.display.HTML object>"
            ]
          },
          "metadata": {
            "tags": []
          }
        },
        {
          "output_type": "display_data",
          "data": {
            "text/html": [
              "<span style=\"color:blue\"> |-max_value: 600</span>"
            ],
            "text/plain": [
              "<IPython.core.display.HTML object>"
            ]
          },
          "metadata": {
            "tags": []
          }
        },
        {
          "output_type": "display_data",
          "data": {
            "text/html": [
              "<span style=\"color:cyan\"> |-min_value: 128</span>"
            ],
            "text/plain": [
              "<IPython.core.display.HTML object>"
            ]
          },
          "metadata": {
            "tags": []
          }
        },
        {
          "output_type": "display_data",
          "data": {
            "text/html": [
              "<span style=\"color:blue\"> |-sampling: None</span>"
            ],
            "text/plain": [
              "<IPython.core.display.HTML object>"
            ]
          },
          "metadata": {
            "tags": []
          }
        },
        {
          "output_type": "display_data",
          "data": {
            "text/html": [
              "<span style=\"color:cyan\"> |-step: 32</span>"
            ],
            "text/plain": [
              "<IPython.core.display.HTML object>"
            ]
          },
          "metadata": {
            "tags": []
          }
        },
        {
          "output_type": "display_data",
          "data": {
            "text/html": [
              "<span style=\"color:#7E57C2\"><h2 style=\"font-size:16px\">optimizer (Choice)</h2></span>"
            ],
            "text/plain": [
              "<IPython.core.display.HTML object>"
            ]
          },
          "metadata": {
            "tags": []
          }
        },
        {
          "output_type": "display_data",
          "data": {
            "text/html": [
              "<span style=\"color:cyan\"> |-default: adam</span>"
            ],
            "text/plain": [
              "<IPython.core.display.HTML object>"
            ]
          },
          "metadata": {
            "tags": []
          }
        },
        {
          "output_type": "display_data",
          "data": {
            "text/html": [
              "<span style=\"color:blue\"> |-ordered: False</span>"
            ],
            "text/plain": [
              "<IPython.core.display.HTML object>"
            ]
          },
          "metadata": {
            "tags": []
          }
        },
        {
          "output_type": "display_data",
          "data": {
            "text/html": [
              "<span style=\"color:cyan\"> |-values: ['adam', 'rmsprop', 'SGD']</span>"
            ],
            "text/plain": [
              "<IPython.core.display.HTML object>"
            ]
          },
          "metadata": {
            "tags": []
          }
        }
      ]
    },
    {
      "cell_type": "markdown",
      "metadata": {
        "id": "EfT4ecI8n5Ga"
      },
      "source": [
        "Подбор гиперпараметров"
      ]
    },
    {
      "cell_type": "code",
      "metadata": {
        "id": "NEFHVKDBB-Z9",
        "outputId": "b36d4cd5-91a0-4b87-f75d-a6382681e98a",
        "colab": {
          "base_uri": "https://localhost:8080/",
          "height": 1000
        }
      },
      "source": [
        "tuner.search(x_train,                  # Данные для обучения\n",
        "             y_train,                  # Правильные ответы\n",
        "             batch_size=256,           # Размер мини-выборки\n",
        "             epochs=20,                # Количество эпох обучения \n",
        "             validation_split=0.2,     # Часть данных, которая будет использоваться для проверки\n",
        "             )"
      ],
      "execution_count": null,
      "outputs": [
        {
          "output_type": "stream",
          "text": [
            "Epoch 1/20\n",
            "188/188 [==============================] - 2s 11ms/step - loss: 0.9324 - accuracy: 0.6966 - val_loss: 0.5372 - val_accuracy: 0.7947\n",
            "Epoch 2/20\n",
            "188/188 [==============================] - 2s 10ms/step - loss: 0.5233 - accuracy: 0.8044 - val_loss: 0.4433 - val_accuracy: 0.8311\n",
            "Epoch 3/20\n",
            "188/188 [==============================] - 2s 10ms/step - loss: 0.4383 - accuracy: 0.8357 - val_loss: 0.4592 - val_accuracy: 0.8382\n",
            "Epoch 4/20\n",
            "188/188 [==============================] - 2s 10ms/step - loss: 0.3896 - accuracy: 0.8543 - val_loss: 0.4779 - val_accuracy: 0.8131\n",
            "Epoch 5/20\n",
            "188/188 [==============================] - 2s 9ms/step - loss: 0.3542 - accuracy: 0.8665 - val_loss: 0.4208 - val_accuracy: 0.8448\n",
            "Epoch 6/20\n",
            "188/188 [==============================] - 2s 9ms/step - loss: 0.3300 - accuracy: 0.8741 - val_loss: 0.3723 - val_accuracy: 0.8685\n",
            "Epoch 7/20\n",
            "188/188 [==============================] - 2s 10ms/step - loss: 0.3095 - accuracy: 0.8818 - val_loss: 0.3600 - val_accuracy: 0.8751\n",
            "Epoch 8/20\n",
            "188/188 [==============================] - 2s 9ms/step - loss: 0.2911 - accuracy: 0.8899 - val_loss: 0.3662 - val_accuracy: 0.8626\n",
            "Epoch 9/20\n",
            "188/188 [==============================] - 2s 9ms/step - loss: 0.2754 - accuracy: 0.8945 - val_loss: 0.4299 - val_accuracy: 0.8339\n",
            "Epoch 10/20\n",
            "188/188 [==============================] - 2s 10ms/step - loss: 0.2597 - accuracy: 0.9013 - val_loss: 0.3505 - val_accuracy: 0.8761\n",
            "Epoch 11/20\n",
            "188/188 [==============================] - 2s 9ms/step - loss: 0.2485 - accuracy: 0.9050 - val_loss: 0.3593 - val_accuracy: 0.8766\n",
            "Epoch 12/20\n",
            "188/188 [==============================] - 2s 9ms/step - loss: 0.2371 - accuracy: 0.9099 - val_loss: 0.3570 - val_accuracy: 0.8702\n",
            "Epoch 13/20\n",
            "188/188 [==============================] - 2s 9ms/step - loss: 0.2246 - accuracy: 0.9143 - val_loss: 0.3378 - val_accuracy: 0.8822\n",
            "Epoch 14/20\n",
            "188/188 [==============================] - 2s 10ms/step - loss: 0.2153 - accuracy: 0.9171 - val_loss: 0.3331 - val_accuracy: 0.8899\n",
            "Epoch 15/20\n",
            "188/188 [==============================] - 2s 10ms/step - loss: 0.2019 - accuracy: 0.9224 - val_loss: 0.3964 - val_accuracy: 0.8660\n",
            "Epoch 16/20\n",
            "188/188 [==============================] - 2s 9ms/step - loss: 0.1928 - accuracy: 0.9257 - val_loss: 0.3692 - val_accuracy: 0.8796\n",
            "Epoch 17/20\n",
            "188/188 [==============================] - 2s 9ms/step - loss: 0.1854 - accuracy: 0.9284 - val_loss: 0.3669 - val_accuracy: 0.8788\n",
            "Epoch 18/20\n",
            "188/188 [==============================] - 2s 9ms/step - loss: 0.1762 - accuracy: 0.9332 - val_loss: 0.3509 - val_accuracy: 0.8814\n",
            "Epoch 19/20\n",
            "188/188 [==============================] - 2s 9ms/step - loss: 0.1659 - accuracy: 0.9366 - val_loss: 0.3773 - val_accuracy: 0.8773\n",
            "Epoch 20/20\n",
            "188/188 [==============================] - 2s 9ms/step - loss: 0.1601 - accuracy: 0.9396 - val_loss: 0.3712 - val_accuracy: 0.8811\n"
          ],
          "name": "stdout"
        },
        {
          "output_type": "display_data",
          "data": {
            "text/html": [
              "<span style=\"color:#4527A0\"><h1 style=\"font-size:18px\">Trial complete</h1></span>"
            ],
            "text/plain": [
              "<IPython.core.display.HTML object>"
            ]
          },
          "metadata": {
            "tags": []
          }
        },
        {
          "output_type": "display_data",
          "data": {
            "text/html": [
              "<span style=\"color:#4527A0\"><h1 style=\"font-size:18px\">Trial summary</h1></span>"
            ],
            "text/plain": [
              "<IPython.core.display.HTML object>"
            ]
          },
          "metadata": {
            "tags": []
          }
        },
        {
          "output_type": "display_data",
          "data": {
            "text/html": [
              "<span style=\"color:cyan\"> |-Trial ID: f05926693c83103f9704f6a786d09eb9</span>"
            ],
            "text/plain": [
              "<IPython.core.display.HTML object>"
            ]
          },
          "metadata": {
            "tags": []
          }
        },
        {
          "output_type": "display_data",
          "data": {
            "text/html": [
              "<span style=\"color:cyan\"> |-Score: 0.8899166584014893</span>"
            ],
            "text/plain": [
              "<IPython.core.display.HTML object>"
            ]
          },
          "metadata": {
            "tags": []
          }
        },
        {
          "output_type": "display_data",
          "data": {
            "text/html": [
              "<span style=\"color:cyan\"> |-Best step: 0</span>"
            ],
            "text/plain": [
              "<IPython.core.display.HTML object>"
            ]
          },
          "metadata": {
            "tags": []
          }
        },
        {
          "output_type": "display_data",
          "data": {
            "text/html": [
              "<span style=\"color:#7E57C2\"><h2 style=\"font-size:16px\">Hyperparameters:</h2></span>"
            ],
            "text/plain": [
              "<IPython.core.display.HTML object>"
            ]
          },
          "metadata": {
            "tags": []
          }
        },
        {
          "output_type": "display_data",
          "data": {
            "text/html": [
              "<span style=\"color:cyan\"> |-activation: tanh</span>"
            ],
            "text/plain": [
              "<IPython.core.display.HTML object>"
            ]
          },
          "metadata": {
            "tags": []
          }
        },
        {
          "output_type": "display_data",
          "data": {
            "text/html": [
              "<span style=\"color:blue\"> |-optimizer: rmsprop</span>"
            ],
            "text/plain": [
              "<IPython.core.display.HTML object>"
            ]
          },
          "metadata": {
            "tags": []
          }
        },
        {
          "output_type": "display_data",
          "data": {
            "text/html": [
              "<span style=\"color:cyan\"> |-units_hidden: 576</span>"
            ],
            "text/plain": [
              "<IPython.core.display.HTML object>"
            ]
          },
          "metadata": {
            "tags": []
          }
        },
        {
          "output_type": "display_data",
          "data": {
            "text/html": [
              "<span style=\"color:blue\"> |-units_input: 800</span>"
            ],
            "text/plain": [
              "<IPython.core.display.HTML object>"
            ]
          },
          "metadata": {
            "tags": []
          }
        },
        {
          "output_type": "stream",
          "text": [
            "Epoch 1/20\n",
            "188/188 [==============================] - 2s 9ms/step - loss: 0.6818 - accuracy: 0.7447 - val_loss: 0.6983 - val_accuracy: 0.7731\n",
            "Epoch 2/20\n",
            "188/188 [==============================] - 2s 9ms/step - loss: 0.4352 - accuracy: 0.8373 - val_loss: 0.4228 - val_accuracy: 0.8457\n",
            "Epoch 3/20\n",
            "188/188 [==============================] - 2s 9ms/step - loss: 0.3769 - accuracy: 0.8605 - val_loss: 0.3874 - val_accuracy: 0.8637\n",
            "Epoch 4/20\n",
            "188/188 [==============================] - 2s 8ms/step - loss: 0.3414 - accuracy: 0.8722 - val_loss: 0.3858 - val_accuracy: 0.8552\n",
            "Epoch 5/20\n",
            "188/188 [==============================] - 2s 9ms/step - loss: 0.3168 - accuracy: 0.8814 - val_loss: 0.3339 - val_accuracy: 0.8849\n",
            "Epoch 6/20\n",
            "188/188 [==============================] - 2s 9ms/step - loss: 0.2948 - accuracy: 0.8894 - val_loss: 0.3515 - val_accuracy: 0.8795\n",
            "Epoch 7/20\n",
            "188/188 [==============================] - 2s 9ms/step - loss: 0.2840 - accuracy: 0.8934 - val_loss: 0.3454 - val_accuracy: 0.8802\n",
            "Epoch 8/20\n",
            "188/188 [==============================] - 2s 8ms/step - loss: 0.2688 - accuracy: 0.8985 - val_loss: 0.3759 - val_accuracy: 0.8788\n",
            "Epoch 9/20\n",
            "188/188 [==============================] - 2s 9ms/step - loss: 0.2588 - accuracy: 0.9021 - val_loss: 0.3573 - val_accuracy: 0.8823\n",
            "Epoch 10/20\n",
            "188/188 [==============================] - 2s 9ms/step - loss: 0.2471 - accuracy: 0.9066 - val_loss: 0.3693 - val_accuracy: 0.8814\n",
            "Epoch 11/20\n",
            "188/188 [==============================] - 2s 9ms/step - loss: 0.2359 - accuracy: 0.9115 - val_loss: 0.3799 - val_accuracy: 0.8858\n",
            "Epoch 12/20\n",
            "188/188 [==============================] - 2s 9ms/step - loss: 0.2316 - accuracy: 0.9124 - val_loss: 0.4019 - val_accuracy: 0.8765\n",
            "Epoch 13/20\n",
            "188/188 [==============================] - 2s 9ms/step - loss: 0.2223 - accuracy: 0.9144 - val_loss: 0.4063 - val_accuracy: 0.8853\n",
            "Epoch 14/20\n",
            "188/188 [==============================] - 2s 9ms/step - loss: 0.2183 - accuracy: 0.9186 - val_loss: 0.4254 - val_accuracy: 0.8840\n",
            "Epoch 15/20\n",
            "188/188 [==============================] - 2s 8ms/step - loss: 0.2093 - accuracy: 0.9204 - val_loss: 0.5494 - val_accuracy: 0.8630\n",
            "Epoch 16/20\n",
            "188/188 [==============================] - 2s 9ms/step - loss: 0.2045 - accuracy: 0.9223 - val_loss: 0.3850 - val_accuracy: 0.8927\n",
            "Epoch 17/20\n",
            "188/188 [==============================] - 2s 8ms/step - loss: 0.2012 - accuracy: 0.9259 - val_loss: 0.4027 - val_accuracy: 0.8914\n",
            "Epoch 18/20\n",
            "188/188 [==============================] - 2s 9ms/step - loss: 0.1941 - accuracy: 0.9279 - val_loss: 0.4629 - val_accuracy: 0.8826\n",
            "Epoch 19/20\n",
            "188/188 [==============================] - 2s 9ms/step - loss: 0.1962 - accuracy: 0.9274 - val_loss: 0.4775 - val_accuracy: 0.8832\n",
            "Epoch 20/20\n",
            "188/188 [==============================] - 2s 9ms/step - loss: 0.1887 - accuracy: 0.9299 - val_loss: 0.4770 - val_accuracy: 0.8902\n"
          ],
          "name": "stdout"
        },
        {
          "output_type": "display_data",
          "data": {
            "text/html": [
              "<span style=\"color:#4527A0\"><h1 style=\"font-size:18px\">Trial complete</h1></span>"
            ],
            "text/plain": [
              "<IPython.core.display.HTML object>"
            ]
          },
          "metadata": {
            "tags": []
          }
        },
        {
          "output_type": "display_data",
          "data": {
            "text/html": [
              "<span style=\"color:#4527A0\"><h1 style=\"font-size:18px\">Trial summary</h1></span>"
            ],
            "text/plain": [
              "<IPython.core.display.HTML object>"
            ]
          },
          "metadata": {
            "tags": []
          }
        },
        {
          "output_type": "display_data",
          "data": {
            "text/html": [
              "<span style=\"color:cyan\"> |-Trial ID: 4cf18eb525f90a558e6ca4672319504a</span>"
            ],
            "text/plain": [
              "<IPython.core.display.HTML object>"
            ]
          },
          "metadata": {
            "tags": []
          }
        },
        {
          "output_type": "display_data",
          "data": {
            "text/html": [
              "<span style=\"color:cyan\"> |-Score: 0.8926666378974915</span>"
            ],
            "text/plain": [
              "<IPython.core.display.HTML object>"
            ]
          },
          "metadata": {
            "tags": []
          }
        },
        {
          "output_type": "display_data",
          "data": {
            "text/html": [
              "<span style=\"color:cyan\"> |-Best step: 0</span>"
            ],
            "text/plain": [
              "<IPython.core.display.HTML object>"
            ]
          },
          "metadata": {
            "tags": []
          }
        },
        {
          "output_type": "display_data",
          "data": {
            "text/html": [
              "<span style=\"color:#7E57C2\"><h2 style=\"font-size:16px\">Hyperparameters:</h2></span>"
            ],
            "text/plain": [
              "<IPython.core.display.HTML object>"
            ]
          },
          "metadata": {
            "tags": []
          }
        },
        {
          "output_type": "display_data",
          "data": {
            "text/html": [
              "<span style=\"color:cyan\"> |-activation: relu</span>"
            ],
            "text/plain": [
              "<IPython.core.display.HTML object>"
            ]
          },
          "metadata": {
            "tags": []
          }
        },
        {
          "output_type": "display_data",
          "data": {
            "text/html": [
              "<span style=\"color:blue\"> |-optimizer: rmsprop</span>"
            ],
            "text/plain": [
              "<IPython.core.display.HTML object>"
            ]
          },
          "metadata": {
            "tags": []
          }
        },
        {
          "output_type": "display_data",
          "data": {
            "text/html": [
              "<span style=\"color:cyan\"> |-units_hidden: 416</span>"
            ],
            "text/plain": [
              "<IPython.core.display.HTML object>"
            ]
          },
          "metadata": {
            "tags": []
          }
        },
        {
          "output_type": "display_data",
          "data": {
            "text/html": [
              "<span style=\"color:blue\"> |-units_input: 672</span>"
            ],
            "text/plain": [
              "<IPython.core.display.HTML object>"
            ]
          },
          "metadata": {
            "tags": []
          }
        },
        {
          "output_type": "stream",
          "text": [
            "Epoch 1/20\n",
            "188/188 [==============================] - 2s 9ms/step - loss: 0.6872 - accuracy: 0.7478 - val_loss: 0.5381 - val_accuracy: 0.8091\n",
            "Epoch 2/20\n",
            "188/188 [==============================] - 2s 9ms/step - loss: 0.4372 - accuracy: 0.8375 - val_loss: 0.4321 - val_accuracy: 0.8357\n",
            "Epoch 3/20\n",
            "188/188 [==============================] - 2s 8ms/step - loss: 0.3763 - accuracy: 0.8589 - val_loss: 0.5453 - val_accuracy: 0.8190\n",
            "Epoch 4/20\n",
            "188/188 [==============================] - 2s 9ms/step - loss: 0.3470 - accuracy: 0.8713 - val_loss: 0.4257 - val_accuracy: 0.8438\n",
            "Epoch 5/20\n",
            "188/188 [==============================] - 2s 9ms/step - loss: 0.3190 - accuracy: 0.8810 - val_loss: 0.3896 - val_accuracy: 0.8681\n",
            "Epoch 6/20\n",
            "188/188 [==============================] - 2s 9ms/step - loss: 0.2978 - accuracy: 0.8872 - val_loss: 0.3448 - val_accuracy: 0.8808\n",
            "Epoch 7/20\n",
            "188/188 [==============================] - 2s 8ms/step - loss: 0.2804 - accuracy: 0.8948 - val_loss: 0.3559 - val_accuracy: 0.8808\n",
            "Epoch 8/20\n",
            "188/188 [==============================] - 2s 8ms/step - loss: 0.2662 - accuracy: 0.9004 - val_loss: 0.4472 - val_accuracy: 0.8636\n",
            "Epoch 9/20\n",
            "188/188 [==============================] - 2s 8ms/step - loss: 0.2522 - accuracy: 0.9049 - val_loss: 0.3553 - val_accuracy: 0.8808\n",
            "Epoch 10/20\n",
            "188/188 [==============================] - 2s 9ms/step - loss: 0.2443 - accuracy: 0.9086 - val_loss: 0.3929 - val_accuracy: 0.8748\n",
            "Epoch 11/20\n",
            "188/188 [==============================] - 2s 8ms/step - loss: 0.2333 - accuracy: 0.9117 - val_loss: 0.4801 - val_accuracy: 0.8572\n",
            "Epoch 12/20\n",
            "188/188 [==============================] - 2s 8ms/step - loss: 0.2242 - accuracy: 0.9148 - val_loss: 0.3836 - val_accuracy: 0.8793\n",
            "Epoch 13/20\n",
            "188/188 [==============================] - 2s 8ms/step - loss: 0.2177 - accuracy: 0.9182 - val_loss: 0.4531 - val_accuracy: 0.8580\n",
            "Epoch 14/20\n",
            "188/188 [==============================] - 2s 8ms/step - loss: 0.2063 - accuracy: 0.9206 - val_loss: 0.4053 - val_accuracy: 0.8892\n",
            "Epoch 15/20\n",
            "188/188 [==============================] - 2s 8ms/step - loss: 0.2045 - accuracy: 0.9229 - val_loss: 0.3902 - val_accuracy: 0.8938\n",
            "Epoch 16/20\n",
            "188/188 [==============================] - 2s 8ms/step - loss: 0.1968 - accuracy: 0.9251 - val_loss: 0.4525 - val_accuracy: 0.8859\n",
            "Epoch 17/20\n",
            "188/188 [==============================] - 2s 8ms/step - loss: 0.1928 - accuracy: 0.9257 - val_loss: 0.4101 - val_accuracy: 0.8877\n",
            "Epoch 18/20\n",
            "188/188 [==============================] - 2s 9ms/step - loss: 0.1870 - accuracy: 0.9284 - val_loss: 0.3894 - val_accuracy: 0.8949\n",
            "Epoch 19/20\n",
            "188/188 [==============================] - 2s 8ms/step - loss: 0.1824 - accuracy: 0.9309 - val_loss: 0.4248 - val_accuracy: 0.8904\n",
            "Epoch 20/20\n",
            "188/188 [==============================] - 2s 8ms/step - loss: 0.1808 - accuracy: 0.9320 - val_loss: 0.4379 - val_accuracy: 0.8888\n"
          ],
          "name": "stdout"
        },
        {
          "output_type": "display_data",
          "data": {
            "text/html": [
              "<span style=\"color:#4527A0\"><h1 style=\"font-size:18px\">Trial complete</h1></span>"
            ],
            "text/plain": [
              "<IPython.core.display.HTML object>"
            ]
          },
          "metadata": {
            "tags": []
          }
        },
        {
          "output_type": "display_data",
          "data": {
            "text/html": [
              "<span style=\"color:#4527A0\"><h1 style=\"font-size:18px\">Trial summary</h1></span>"
            ],
            "text/plain": [
              "<IPython.core.display.HTML object>"
            ]
          },
          "metadata": {
            "tags": []
          }
        },
        {
          "output_type": "display_data",
          "data": {
            "text/html": [
              "<span style=\"color:cyan\"> |-Trial ID: 980afd2b5297012b3266d48ad946325b</span>"
            ],
            "text/plain": [
              "<IPython.core.display.HTML object>"
            ]
          },
          "metadata": {
            "tags": []
          }
        },
        {
          "output_type": "display_data",
          "data": {
            "text/html": [
              "<span style=\"color:cyan\"> |-Score: 0.8949166536331177</span>"
            ],
            "text/plain": [
              "<IPython.core.display.HTML object>"
            ]
          },
          "metadata": {
            "tags": []
          }
        },
        {
          "output_type": "display_data",
          "data": {
            "text/html": [
              "<span style=\"color:cyan\"> |-Best step: 0</span>"
            ],
            "text/plain": [
              "<IPython.core.display.HTML object>"
            ]
          },
          "metadata": {
            "tags": []
          }
        },
        {
          "output_type": "display_data",
          "data": {
            "text/html": [
              "<span style=\"color:#7E57C2\"><h2 style=\"font-size:16px\">Hyperparameters:</h2></span>"
            ],
            "text/plain": [
              "<IPython.core.display.HTML object>"
            ]
          },
          "metadata": {
            "tags": []
          }
        },
        {
          "output_type": "display_data",
          "data": {
            "text/html": [
              "<span style=\"color:cyan\"> |-activation: relu</span>"
            ],
            "text/plain": [
              "<IPython.core.display.HTML object>"
            ]
          },
          "metadata": {
            "tags": []
          }
        },
        {
          "output_type": "display_data",
          "data": {
            "text/html": [
              "<span style=\"color:blue\"> |-optimizer: rmsprop</span>"
            ],
            "text/plain": [
              "<IPython.core.display.HTML object>"
            ]
          },
          "metadata": {
            "tags": []
          }
        },
        {
          "output_type": "display_data",
          "data": {
            "text/html": [
              "<span style=\"color:cyan\"> |-units_hidden: 288</span>"
            ],
            "text/plain": [
              "<IPython.core.display.HTML object>"
            ]
          },
          "metadata": {
            "tags": []
          }
        },
        {
          "output_type": "display_data",
          "data": {
            "text/html": [
              "<span style=\"color:blue\"> |-units_input: 800</span>"
            ],
            "text/plain": [
              "<IPython.core.display.HTML object>"
            ]
          },
          "metadata": {
            "tags": []
          }
        },
        {
          "output_type": "stream",
          "text": [
            "Epoch 1/20\n",
            "188/188 [==============================] - 1s 8ms/step - loss: 1.0648 - accuracy: 0.6693 - val_loss: 0.7356 - val_accuracy: 0.7569\n",
            "Epoch 2/20\n",
            "188/188 [==============================] - 1s 7ms/step - loss: 0.6688 - accuracy: 0.7794 - val_loss: 0.6127 - val_accuracy: 0.7919\n",
            "Epoch 3/20\n",
            "188/188 [==============================] - 1s 7ms/step - loss: 0.5821 - accuracy: 0.8038 - val_loss: 0.5591 - val_accuracy: 0.8062\n",
            "Epoch 4/20\n",
            "188/188 [==============================] - 1s 7ms/step - loss: 0.5371 - accuracy: 0.8173 - val_loss: 0.5304 - val_accuracy: 0.8109\n",
            "Epoch 5/20\n",
            "188/188 [==============================] - 1s 7ms/step - loss: 0.5086 - accuracy: 0.8250 - val_loss: 0.5026 - val_accuracy: 0.8233\n",
            "Epoch 6/20\n",
            "188/188 [==============================] - 1s 7ms/step - loss: 0.4887 - accuracy: 0.8314 - val_loss: 0.4859 - val_accuracy: 0.8272\n",
            "Epoch 7/20\n",
            "188/188 [==============================] - 1s 7ms/step - loss: 0.4736 - accuracy: 0.8355 - val_loss: 0.4748 - val_accuracy: 0.8292\n",
            "Epoch 8/20\n",
            "188/188 [==============================] - 1s 7ms/step - loss: 0.4622 - accuracy: 0.8388 - val_loss: 0.4643 - val_accuracy: 0.8328\n",
            "Epoch 9/20\n",
            "188/188 [==============================] - 1s 7ms/step - loss: 0.4523 - accuracy: 0.8414 - val_loss: 0.4560 - val_accuracy: 0.8353\n",
            "Epoch 10/20\n",
            "188/188 [==============================] - 1s 7ms/step - loss: 0.4431 - accuracy: 0.8452 - val_loss: 0.4496 - val_accuracy: 0.8376\n",
            "Epoch 11/20\n",
            "188/188 [==============================] - 1s 7ms/step - loss: 0.4361 - accuracy: 0.8472 - val_loss: 0.4427 - val_accuracy: 0.8390\n",
            "Epoch 12/20\n",
            "188/188 [==============================] - 1s 7ms/step - loss: 0.4300 - accuracy: 0.8500 - val_loss: 0.4367 - val_accuracy: 0.8422\n",
            "Epoch 13/20\n",
            "188/188 [==============================] - 1s 7ms/step - loss: 0.4241 - accuracy: 0.8510 - val_loss: 0.4332 - val_accuracy: 0.8432\n",
            "Epoch 14/20\n",
            "188/188 [==============================] - 1s 7ms/step - loss: 0.4195 - accuracy: 0.8530 - val_loss: 0.4382 - val_accuracy: 0.8421\n",
            "Epoch 15/20\n",
            "188/188 [==============================] - 1s 7ms/step - loss: 0.4142 - accuracy: 0.8544 - val_loss: 0.4235 - val_accuracy: 0.8473\n",
            "Epoch 16/20\n",
            "188/188 [==============================] - 1s 7ms/step - loss: 0.4099 - accuracy: 0.8556 - val_loss: 0.4198 - val_accuracy: 0.8495\n",
            "Epoch 17/20\n",
            "188/188 [==============================] - 1s 7ms/step - loss: 0.4060 - accuracy: 0.8571 - val_loss: 0.4166 - val_accuracy: 0.8525\n",
            "Epoch 18/20\n",
            "188/188 [==============================] - 1s 7ms/step - loss: 0.4019 - accuracy: 0.8582 - val_loss: 0.4142 - val_accuracy: 0.8530\n",
            "Epoch 19/20\n",
            "188/188 [==============================] - 1s 7ms/step - loss: 0.3987 - accuracy: 0.8595 - val_loss: 0.4150 - val_accuracy: 0.8497\n",
            "Epoch 20/20\n",
            "188/188 [==============================] - 1s 7ms/step - loss: 0.3956 - accuracy: 0.8607 - val_loss: 0.4079 - val_accuracy: 0.8552\n"
          ],
          "name": "stdout"
        },
        {
          "output_type": "display_data",
          "data": {
            "text/html": [
              "<span style=\"color:#4527A0\"><h1 style=\"font-size:18px\">Trial complete</h1></span>"
            ],
            "text/plain": [
              "<IPython.core.display.HTML object>"
            ]
          },
          "metadata": {
            "tags": []
          }
        },
        {
          "output_type": "display_data",
          "data": {
            "text/html": [
              "<span style=\"color:#4527A0\"><h1 style=\"font-size:18px\">Trial summary</h1></span>"
            ],
            "text/plain": [
              "<IPython.core.display.HTML object>"
            ]
          },
          "metadata": {
            "tags": []
          }
        },
        {
          "output_type": "display_data",
          "data": {
            "text/html": [
              "<span style=\"color:cyan\"> |-Trial ID: 61de939e5bab8291052b60580c79b765</span>"
            ],
            "text/plain": [
              "<IPython.core.display.HTML object>"
            ]
          },
          "metadata": {
            "tags": []
          }
        },
        {
          "output_type": "display_data",
          "data": {
            "text/html": [
              "<span style=\"color:cyan\"> |-Score: 0.8551666736602783</span>"
            ],
            "text/plain": [
              "<IPython.core.display.HTML object>"
            ]
          },
          "metadata": {
            "tags": []
          }
        },
        {
          "output_type": "display_data",
          "data": {
            "text/html": [
              "<span style=\"color:cyan\"> |-Best step: 0</span>"
            ],
            "text/plain": [
              "<IPython.core.display.HTML object>"
            ]
          },
          "metadata": {
            "tags": []
          }
        },
        {
          "output_type": "display_data",
          "data": {
            "text/html": [
              "<span style=\"color:#7E57C2\"><h2 style=\"font-size:16px\">Hyperparameters:</h2></span>"
            ],
            "text/plain": [
              "<IPython.core.display.HTML object>"
            ]
          },
          "metadata": {
            "tags": []
          }
        },
        {
          "output_type": "display_data",
          "data": {
            "text/html": [
              "<span style=\"color:cyan\"> |-activation: tanh</span>"
            ],
            "text/plain": [
              "<IPython.core.display.HTML object>"
            ]
          },
          "metadata": {
            "tags": []
          }
        },
        {
          "output_type": "display_data",
          "data": {
            "text/html": [
              "<span style=\"color:blue\"> |-optimizer: SGD</span>"
            ],
            "text/plain": [
              "<IPython.core.display.HTML object>"
            ]
          },
          "metadata": {
            "tags": []
          }
        },
        {
          "output_type": "display_data",
          "data": {
            "text/html": [
              "<span style=\"color:cyan\"> |-units_hidden: 320</span>"
            ],
            "text/plain": [
              "<IPython.core.display.HTML object>"
            ]
          },
          "metadata": {
            "tags": []
          }
        },
        {
          "output_type": "display_data",
          "data": {
            "text/html": [
              "<span style=\"color:blue\"> |-units_input: 832</span>"
            ],
            "text/plain": [
              "<IPython.core.display.HTML object>"
            ]
          },
          "metadata": {
            "tags": []
          }
        },
        {
          "output_type": "stream",
          "text": [
            "Epoch 1/20\n",
            "188/188 [==============================] - 2s 10ms/step - loss: 0.5464 - accuracy: 0.8018 - val_loss: 0.3998 - val_accuracy: 0.8555\n",
            "Epoch 2/20\n",
            "188/188 [==============================] - 2s 9ms/step - loss: 0.3778 - accuracy: 0.8616 - val_loss: 0.3892 - val_accuracy: 0.8602\n",
            "Epoch 3/20\n",
            "188/188 [==============================] - 2s 9ms/step - loss: 0.3442 - accuracy: 0.8730 - val_loss: 0.3714 - val_accuracy: 0.8602\n",
            "Epoch 4/20\n",
            "188/188 [==============================] - 2s 10ms/step - loss: 0.3159 - accuracy: 0.8819 - val_loss: 0.3480 - val_accuracy: 0.8745\n",
            "Epoch 5/20\n",
            "188/188 [==============================] - 2s 10ms/step - loss: 0.2912 - accuracy: 0.8924 - val_loss: 0.3399 - val_accuracy: 0.8753\n",
            "Epoch 6/20\n",
            "188/188 [==============================] - 2s 9ms/step - loss: 0.2748 - accuracy: 0.8961 - val_loss: 0.3226 - val_accuracy: 0.8791\n",
            "Epoch 7/20\n",
            "188/188 [==============================] - 2s 9ms/step - loss: 0.2590 - accuracy: 0.9020 - val_loss: 0.3206 - val_accuracy: 0.8878\n",
            "Epoch 8/20\n",
            "188/188 [==============================] - 2s 9ms/step - loss: 0.2430 - accuracy: 0.9080 - val_loss: 0.3247 - val_accuracy: 0.8822\n",
            "Epoch 9/20\n",
            "188/188 [==============================] - 2s 9ms/step - loss: 0.2364 - accuracy: 0.9116 - val_loss: 0.3232 - val_accuracy: 0.8822\n",
            "Epoch 10/20\n",
            "188/188 [==============================] - 2s 9ms/step - loss: 0.2176 - accuracy: 0.9171 - val_loss: 0.3008 - val_accuracy: 0.8926\n",
            "Epoch 11/20\n",
            "188/188 [==============================] - 2s 9ms/step - loss: 0.2063 - accuracy: 0.9217 - val_loss: 0.3360 - val_accuracy: 0.8851\n",
            "Epoch 12/20\n",
            "188/188 [==============================] - 2s 8ms/step - loss: 0.1971 - accuracy: 0.9248 - val_loss: 0.3222 - val_accuracy: 0.8893\n",
            "Epoch 13/20\n",
            "188/188 [==============================] - 2s 9ms/step - loss: 0.1891 - accuracy: 0.9279 - val_loss: 0.3080 - val_accuracy: 0.8934\n",
            "Epoch 14/20\n",
            "188/188 [==============================] - 2s 8ms/step - loss: 0.1786 - accuracy: 0.9320 - val_loss: 0.3231 - val_accuracy: 0.8913\n",
            "Epoch 15/20\n",
            "188/188 [==============================] - 2s 9ms/step - loss: 0.1676 - accuracy: 0.9371 - val_loss: 0.3369 - val_accuracy: 0.8828\n",
            "Epoch 16/20\n",
            "188/188 [==============================] - 2s 8ms/step - loss: 0.1597 - accuracy: 0.9391 - val_loss: 0.3273 - val_accuracy: 0.8917\n",
            "Epoch 17/20\n",
            "188/188 [==============================] - 2s 9ms/step - loss: 0.1503 - accuracy: 0.9420 - val_loss: 0.3218 - val_accuracy: 0.8917\n",
            "Epoch 18/20\n",
            "188/188 [==============================] - 2s 9ms/step - loss: 0.1421 - accuracy: 0.9460 - val_loss: 0.3545 - val_accuracy: 0.8854\n",
            "Epoch 19/20\n",
            "188/188 [==============================] - 2s 9ms/step - loss: 0.1407 - accuracy: 0.9468 - val_loss: 0.3344 - val_accuracy: 0.8938\n",
            "Epoch 20/20\n",
            "188/188 [==============================] - 2s 9ms/step - loss: 0.1217 - accuracy: 0.9540 - val_loss: 0.3372 - val_accuracy: 0.8955\n"
          ],
          "name": "stdout"
        },
        {
          "output_type": "display_data",
          "data": {
            "text/html": [
              "<span style=\"color:#4527A0\"><h1 style=\"font-size:18px\">Trial complete</h1></span>"
            ],
            "text/plain": [
              "<IPython.core.display.HTML object>"
            ]
          },
          "metadata": {
            "tags": []
          }
        },
        {
          "output_type": "display_data",
          "data": {
            "text/html": [
              "<span style=\"color:#4527A0\"><h1 style=\"font-size:18px\">Trial summary</h1></span>"
            ],
            "text/plain": [
              "<IPython.core.display.HTML object>"
            ]
          },
          "metadata": {
            "tags": []
          }
        },
        {
          "output_type": "display_data",
          "data": {
            "text/html": [
              "<span style=\"color:cyan\"> |-Trial ID: c2f7fb790b277969dbb27348456f3f48</span>"
            ],
            "text/plain": [
              "<IPython.core.display.HTML object>"
            ]
          },
          "metadata": {
            "tags": []
          }
        },
        {
          "output_type": "display_data",
          "data": {
            "text/html": [
              "<span style=\"color:cyan\"> |-Score: 0.8955000042915344</span>"
            ],
            "text/plain": [
              "<IPython.core.display.HTML object>"
            ]
          },
          "metadata": {
            "tags": []
          }
        },
        {
          "output_type": "display_data",
          "data": {
            "text/html": [
              "<span style=\"color:cyan\"> |-Best step: 0</span>"
            ],
            "text/plain": [
              "<IPython.core.display.HTML object>"
            ]
          },
          "metadata": {
            "tags": []
          }
        },
        {
          "output_type": "display_data",
          "data": {
            "text/html": [
              "<span style=\"color:#7E57C2\"><h2 style=\"font-size:16px\">Hyperparameters:</h2></span>"
            ],
            "text/plain": [
              "<IPython.core.display.HTML object>"
            ]
          },
          "metadata": {
            "tags": []
          }
        },
        {
          "output_type": "display_data",
          "data": {
            "text/html": [
              "<span style=\"color:cyan\"> |-activation: tanh</span>"
            ],
            "text/plain": [
              "<IPython.core.display.HTML object>"
            ]
          },
          "metadata": {
            "tags": []
          }
        },
        {
          "output_type": "display_data",
          "data": {
            "text/html": [
              "<span style=\"color:blue\"> |-optimizer: adam</span>"
            ],
            "text/plain": [
              "<IPython.core.display.HTML object>"
            ]
          },
          "metadata": {
            "tags": []
          }
        },
        {
          "output_type": "display_data",
          "data": {
            "text/html": [
              "<span style=\"color:cyan\"> |-units_hidden: 544</span>"
            ],
            "text/plain": [
              "<IPython.core.display.HTML object>"
            ]
          },
          "metadata": {
            "tags": []
          }
        },
        {
          "output_type": "display_data",
          "data": {
            "text/html": [
              "<span style=\"color:blue\"> |-units_input: 960</span>"
            ],
            "text/plain": [
              "<IPython.core.display.HTML object>"
            ]
          },
          "metadata": {
            "tags": []
          }
        },
        {
          "output_type": "stream",
          "text": [
            "Epoch 1/20\n",
            "188/188 [==============================] - 2s 8ms/step - loss: 1.0680 - accuracy: 0.6503 - val_loss: 0.5438 - val_accuracy: 0.8127\n",
            "Epoch 2/20\n",
            "188/188 [==============================] - 1s 7ms/step - loss: 0.4751 - accuracy: 0.8327 - val_loss: 0.4250 - val_accuracy: 0.8457\n",
            "Epoch 3/20\n",
            "188/188 [==============================] - 1s 7ms/step - loss: 0.4049 - accuracy: 0.8551 - val_loss: 0.3913 - val_accuracy: 0.8578\n",
            "Epoch 4/20\n",
            "188/188 [==============================] - 1s 7ms/step - loss: 0.3750 - accuracy: 0.8631 - val_loss: 0.3746 - val_accuracy: 0.8651\n",
            "Epoch 5/20\n",
            "188/188 [==============================] - 1s 7ms/step - loss: 0.3538 - accuracy: 0.8727 - val_loss: 0.3585 - val_accuracy: 0.8687\n",
            "Epoch 6/20\n",
            "188/188 [==============================] - 1s 8ms/step - loss: 0.3346 - accuracy: 0.8790 - val_loss: 0.3597 - val_accuracy: 0.8705\n",
            "Epoch 7/20\n",
            "188/188 [==============================] - 1s 7ms/step - loss: 0.3226 - accuracy: 0.8832 - val_loss: 0.3372 - val_accuracy: 0.8790\n",
            "Epoch 8/20\n",
            "188/188 [==============================] - 1s 7ms/step - loss: 0.3117 - accuracy: 0.8867 - val_loss: 0.3386 - val_accuracy: 0.8779\n",
            "Epoch 9/20\n",
            "188/188 [==============================] - 1s 7ms/step - loss: 0.2960 - accuracy: 0.8931 - val_loss: 0.3228 - val_accuracy: 0.8825\n",
            "Epoch 10/20\n",
            "188/188 [==============================] - 1s 7ms/step - loss: 0.2911 - accuracy: 0.8939 - val_loss: 0.3230 - val_accuracy: 0.8851\n",
            "Epoch 11/20\n",
            "188/188 [==============================] - 1s 8ms/step - loss: 0.2812 - accuracy: 0.8975 - val_loss: 0.3238 - val_accuracy: 0.8819\n",
            "Epoch 12/20\n",
            "188/188 [==============================] - 1s 7ms/step - loss: 0.2695 - accuracy: 0.9007 - val_loss: 0.3149 - val_accuracy: 0.8873\n",
            "Epoch 13/20\n",
            "188/188 [==============================] - 1s 7ms/step - loss: 0.2633 - accuracy: 0.9038 - val_loss: 0.3075 - val_accuracy: 0.8919\n",
            "Epoch 14/20\n",
            "188/188 [==============================] - 1s 7ms/step - loss: 0.2539 - accuracy: 0.9071 - val_loss: 0.3152 - val_accuracy: 0.8866\n",
            "Epoch 15/20\n",
            "188/188 [==============================] - 1s 7ms/step - loss: 0.2447 - accuracy: 0.9104 - val_loss: 0.3073 - val_accuracy: 0.8877\n",
            "Epoch 16/20\n",
            "188/188 [==============================] - 1s 7ms/step - loss: 0.2388 - accuracy: 0.9119 - val_loss: 0.3120 - val_accuracy: 0.8883\n",
            "Epoch 17/20\n",
            "188/188 [==============================] - 1s 7ms/step - loss: 0.2324 - accuracy: 0.9140 - val_loss: 0.3001 - val_accuracy: 0.8922\n",
            "Epoch 18/20\n",
            "188/188 [==============================] - 1s 8ms/step - loss: 0.2245 - accuracy: 0.9175 - val_loss: 0.2995 - val_accuracy: 0.8927\n",
            "Epoch 19/20\n",
            "188/188 [==============================] - 1s 7ms/step - loss: 0.2216 - accuracy: 0.9190 - val_loss: 0.3220 - val_accuracy: 0.8907\n",
            "Epoch 20/20\n",
            "188/188 [==============================] - 1s 7ms/step - loss: 0.2117 - accuracy: 0.9233 - val_loss: 0.3149 - val_accuracy: 0.8887\n"
          ],
          "name": "stdout"
        },
        {
          "output_type": "display_data",
          "data": {
            "text/html": [
              "<span style=\"color:#4527A0\"><h1 style=\"font-size:18px\">Trial complete</h1></span>"
            ],
            "text/plain": [
              "<IPython.core.display.HTML object>"
            ]
          },
          "metadata": {
            "tags": []
          }
        },
        {
          "output_type": "display_data",
          "data": {
            "text/html": [
              "<span style=\"color:#4527A0\"><h1 style=\"font-size:18px\">Trial summary</h1></span>"
            ],
            "text/plain": [
              "<IPython.core.display.HTML object>"
            ]
          },
          "metadata": {
            "tags": []
          }
        },
        {
          "output_type": "display_data",
          "data": {
            "text/html": [
              "<span style=\"color:cyan\"> |-Trial ID: 6adca21e4fe724e0bc8d6a4fab1caa3e</span>"
            ],
            "text/plain": [
              "<IPython.core.display.HTML object>"
            ]
          },
          "metadata": {
            "tags": []
          }
        },
        {
          "output_type": "display_data",
          "data": {
            "text/html": [
              "<span style=\"color:cyan\"> |-Score: 0.8926666378974915</span>"
            ],
            "text/plain": [
              "<IPython.core.display.HTML object>"
            ]
          },
          "metadata": {
            "tags": []
          }
        },
        {
          "output_type": "display_data",
          "data": {
            "text/html": [
              "<span style=\"color:cyan\"> |-Best step: 0</span>"
            ],
            "text/plain": [
              "<IPython.core.display.HTML object>"
            ]
          },
          "metadata": {
            "tags": []
          }
        },
        {
          "output_type": "display_data",
          "data": {
            "text/html": [
              "<span style=\"color:#7E57C2\"><h2 style=\"font-size:16px\">Hyperparameters:</h2></span>"
            ],
            "text/plain": [
              "<IPython.core.display.HTML object>"
            ]
          },
          "metadata": {
            "tags": []
          }
        },
        {
          "output_type": "display_data",
          "data": {
            "text/html": [
              "<span style=\"color:cyan\"> |-activation: sigmoid</span>"
            ],
            "text/plain": [
              "<IPython.core.display.HTML object>"
            ]
          },
          "metadata": {
            "tags": []
          }
        },
        {
          "output_type": "display_data",
          "data": {
            "text/html": [
              "<span style=\"color:blue\"> |-optimizer: adam</span>"
            ],
            "text/plain": [
              "<IPython.core.display.HTML object>"
            ]
          },
          "metadata": {
            "tags": []
          }
        },
        {
          "output_type": "display_data",
          "data": {
            "text/html": [
              "<span style=\"color:cyan\"> |-units_hidden: 128</span>"
            ],
            "text/plain": [
              "<IPython.core.display.HTML object>"
            ]
          },
          "metadata": {
            "tags": []
          }
        },
        {
          "output_type": "display_data",
          "data": {
            "text/html": [
              "<span style=\"color:blue\"> |-units_input: 992</span>"
            ],
            "text/plain": [
              "<IPython.core.display.HTML object>"
            ]
          },
          "metadata": {
            "tags": []
          }
        },
        {
          "output_type": "stream",
          "text": [
            "Epoch 1/20\n",
            "188/188 [==============================] - 2s 9ms/step - loss: 0.7846 - accuracy: 0.7214 - val_loss: 0.5166 - val_accuracy: 0.8202\n",
            "Epoch 2/20\n",
            "188/188 [==============================] - 2s 8ms/step - loss: 0.4777 - accuracy: 0.8199 - val_loss: 0.4980 - val_accuracy: 0.8206\n",
            "Epoch 3/20\n",
            "188/188 [==============================] - 2s 8ms/step - loss: 0.4057 - accuracy: 0.8480 - val_loss: 0.3813 - val_accuracy: 0.8592\n",
            "Epoch 4/20\n",
            "188/188 [==============================] - 1s 8ms/step - loss: 0.3625 - accuracy: 0.8632 - val_loss: 0.4018 - val_accuracy: 0.8508\n",
            "Epoch 5/20\n",
            "188/188 [==============================] - 2s 8ms/step - loss: 0.3327 - accuracy: 0.8748 - val_loss: 0.3438 - val_accuracy: 0.8748\n",
            "Epoch 6/20\n",
            "188/188 [==============================] - 2s 8ms/step - loss: 0.3113 - accuracy: 0.8837 - val_loss: 0.3505 - val_accuracy: 0.8723\n",
            "Epoch 7/20\n",
            "188/188 [==============================] - 2s 8ms/step - loss: 0.2921 - accuracy: 0.8891 - val_loss: 0.3477 - val_accuracy: 0.8732\n",
            "Epoch 8/20\n",
            "188/188 [==============================] - 2s 8ms/step - loss: 0.2754 - accuracy: 0.8935 - val_loss: 0.3653 - val_accuracy: 0.8634\n",
            "Epoch 9/20\n",
            "188/188 [==============================] - 2s 8ms/step - loss: 0.2629 - accuracy: 0.8993 - val_loss: 0.3571 - val_accuracy: 0.8677\n",
            "Epoch 10/20\n",
            "188/188 [==============================] - 1s 8ms/step - loss: 0.2487 - accuracy: 0.9057 - val_loss: 0.4744 - val_accuracy: 0.8303\n",
            "Epoch 11/20\n",
            "188/188 [==============================] - 2s 8ms/step - loss: 0.2363 - accuracy: 0.9113 - val_loss: 0.3170 - val_accuracy: 0.8882\n",
            "Epoch 12/20\n",
            "188/188 [==============================] - 2s 8ms/step - loss: 0.2238 - accuracy: 0.9149 - val_loss: 0.3310 - val_accuracy: 0.8803\n",
            "Epoch 13/20\n",
            "188/188 [==============================] - 2s 8ms/step - loss: 0.2134 - accuracy: 0.9184 - val_loss: 0.3080 - val_accuracy: 0.8887\n",
            "Epoch 14/20\n",
            "188/188 [==============================] - 2s 8ms/step - loss: 0.2046 - accuracy: 0.9220 - val_loss: 0.3337 - val_accuracy: 0.8864\n",
            "Epoch 15/20\n",
            "188/188 [==============================] - 2s 9ms/step - loss: 0.1956 - accuracy: 0.9249 - val_loss: 0.3466 - val_accuracy: 0.8763\n",
            "Epoch 16/20\n",
            "188/188 [==============================] - 2s 8ms/step - loss: 0.1852 - accuracy: 0.9291 - val_loss: 0.3633 - val_accuracy: 0.8738\n",
            "Epoch 17/20\n",
            "188/188 [==============================] - 2s 8ms/step - loss: 0.1772 - accuracy: 0.9330 - val_loss: 0.3193 - val_accuracy: 0.8898\n",
            "Epoch 18/20\n",
            "188/188 [==============================] - 2s 8ms/step - loss: 0.1680 - accuracy: 0.9352 - val_loss: 0.3260 - val_accuracy: 0.8898\n",
            "Epoch 19/20\n",
            "188/188 [==============================] - 2s 8ms/step - loss: 0.1594 - accuracy: 0.9389 - val_loss: 0.3228 - val_accuracy: 0.8970\n",
            "Epoch 20/20\n",
            "188/188 [==============================] - 1s 8ms/step - loss: 0.1519 - accuracy: 0.9426 - val_loss: 0.3456 - val_accuracy: 0.8882\n"
          ],
          "name": "stdout"
        },
        {
          "output_type": "display_data",
          "data": {
            "text/html": [
              "<span style=\"color:#4527A0\"><h1 style=\"font-size:18px\">Trial complete</h1></span>"
            ],
            "text/plain": [
              "<IPython.core.display.HTML object>"
            ]
          },
          "metadata": {
            "tags": []
          }
        },
        {
          "output_type": "display_data",
          "data": {
            "text/html": [
              "<span style=\"color:#4527A0\"><h1 style=\"font-size:18px\">Trial summary</h1></span>"
            ],
            "text/plain": [
              "<IPython.core.display.HTML object>"
            ]
          },
          "metadata": {
            "tags": []
          }
        },
        {
          "output_type": "display_data",
          "data": {
            "text/html": [
              "<span style=\"color:cyan\"> |-Trial ID: 8dd31aabfa0caed9f9492db53da85c15</span>"
            ],
            "text/plain": [
              "<IPython.core.display.HTML object>"
            ]
          },
          "metadata": {
            "tags": []
          }
        },
        {
          "output_type": "display_data",
          "data": {
            "text/html": [
              "<span style=\"color:cyan\"> |-Score: 0.8970000147819519</span>"
            ],
            "text/plain": [
              "<IPython.core.display.HTML object>"
            ]
          },
          "metadata": {
            "tags": []
          }
        },
        {
          "output_type": "display_data",
          "data": {
            "text/html": [
              "<span style=\"color:cyan\"> |-Best step: 0</span>"
            ],
            "text/plain": [
              "<IPython.core.display.HTML object>"
            ]
          },
          "metadata": {
            "tags": []
          }
        },
        {
          "output_type": "display_data",
          "data": {
            "text/html": [
              "<span style=\"color:#7E57C2\"><h2 style=\"font-size:16px\">Hyperparameters:</h2></span>"
            ],
            "text/plain": [
              "<IPython.core.display.HTML object>"
            ]
          },
          "metadata": {
            "tags": []
          }
        },
        {
          "output_type": "display_data",
          "data": {
            "text/html": [
              "<span style=\"color:cyan\"> |-activation: tanh</span>"
            ],
            "text/plain": [
              "<IPython.core.display.HTML object>"
            ]
          },
          "metadata": {
            "tags": []
          }
        },
        {
          "output_type": "display_data",
          "data": {
            "text/html": [
              "<span style=\"color:blue\"> |-optimizer: rmsprop</span>"
            ],
            "text/plain": [
              "<IPython.core.display.HTML object>"
            ]
          },
          "metadata": {
            "tags": []
          }
        },
        {
          "output_type": "display_data",
          "data": {
            "text/html": [
              "<span style=\"color:cyan\"> |-units_hidden: 320</span>"
            ],
            "text/plain": [
              "<IPython.core.display.HTML object>"
            ]
          },
          "metadata": {
            "tags": []
          }
        },
        {
          "output_type": "display_data",
          "data": {
            "text/html": [
              "<span style=\"color:blue\"> |-units_input: 672</span>"
            ],
            "text/plain": [
              "<IPython.core.display.HTML object>"
            ]
          },
          "metadata": {
            "tags": []
          }
        },
        {
          "output_type": "stream",
          "text": [
            "Epoch 1/20\n",
            "188/188 [==============================] - 2s 11ms/step - loss: 0.9590 - accuracy: 0.6885 - val_loss: 0.7727 - val_accuracy: 0.7031\n",
            "Epoch 2/20\n",
            "188/188 [==============================] - 2s 10ms/step - loss: 0.5297 - accuracy: 0.8030 - val_loss: 0.4497 - val_accuracy: 0.8342\n",
            "Epoch 3/20\n",
            "188/188 [==============================] - 2s 10ms/step - loss: 0.4447 - accuracy: 0.8320 - val_loss: 0.4462 - val_accuracy: 0.8364\n",
            "Epoch 4/20\n",
            "188/188 [==============================] - 2s 10ms/step - loss: 0.3945 - accuracy: 0.8498 - val_loss: 0.5283 - val_accuracy: 0.8040\n",
            "Epoch 5/20\n",
            "188/188 [==============================] - 2s 10ms/step - loss: 0.3594 - accuracy: 0.8661 - val_loss: 0.4520 - val_accuracy: 0.8353\n",
            "Epoch 6/20\n",
            "188/188 [==============================] - 2s 10ms/step - loss: 0.3389 - accuracy: 0.8718 - val_loss: 0.3624 - val_accuracy: 0.8700\n",
            "Epoch 7/20\n",
            "188/188 [==============================] - 2s 11ms/step - loss: 0.3179 - accuracy: 0.8793 - val_loss: 0.3353 - val_accuracy: 0.8757\n",
            "Epoch 8/20\n",
            "188/188 [==============================] - 2s 10ms/step - loss: 0.2972 - accuracy: 0.8873 - val_loss: 0.4797 - val_accuracy: 0.8183\n",
            "Epoch 9/20\n",
            "188/188 [==============================] - 2s 10ms/step - loss: 0.2841 - accuracy: 0.8912 - val_loss: 0.3868 - val_accuracy: 0.8606\n",
            "Epoch 10/20\n",
            "188/188 [==============================] - 2s 10ms/step - loss: 0.2687 - accuracy: 0.8969 - val_loss: 0.3534 - val_accuracy: 0.8792\n",
            "Epoch 11/20\n",
            "188/188 [==============================] - 2s 10ms/step - loss: 0.2585 - accuracy: 0.9018 - val_loss: 0.4050 - val_accuracy: 0.8530\n",
            "Epoch 12/20\n",
            "188/188 [==============================] - 2s 11ms/step - loss: 0.2438 - accuracy: 0.9069 - val_loss: 0.4096 - val_accuracy: 0.8516\n",
            "Epoch 13/20\n",
            "188/188 [==============================] - 2s 11ms/step - loss: 0.2360 - accuracy: 0.9109 - val_loss: 0.3791 - val_accuracy: 0.8658\n",
            "Epoch 14/20\n",
            "188/188 [==============================] - 2s 11ms/step - loss: 0.2201 - accuracy: 0.9152 - val_loss: 0.3588 - val_accuracy: 0.8787\n",
            "Epoch 15/20\n",
            "188/188 [==============================] - 2s 11ms/step - loss: 0.2136 - accuracy: 0.9179 - val_loss: 0.3244 - val_accuracy: 0.8879\n",
            "Epoch 16/20\n",
            "188/188 [==============================] - 2s 11ms/step - loss: 0.2013 - accuracy: 0.9225 - val_loss: 0.3589 - val_accuracy: 0.8766\n",
            "Epoch 17/20\n",
            "188/188 [==============================] - 2s 10ms/step - loss: 0.1946 - accuracy: 0.9244 - val_loss: 0.3521 - val_accuracy: 0.8857\n",
            "Epoch 18/20\n",
            "188/188 [==============================] - 2s 10ms/step - loss: 0.1859 - accuracy: 0.9276 - val_loss: 0.3564 - val_accuracy: 0.8798\n",
            "Epoch 19/20\n",
            "188/188 [==============================] - 2s 10ms/step - loss: 0.1778 - accuracy: 0.9318 - val_loss: 0.3575 - val_accuracy: 0.8832\n",
            "Epoch 20/20\n",
            "188/188 [==============================] - 2s 10ms/step - loss: 0.1698 - accuracy: 0.9347 - val_loss: 0.3408 - val_accuracy: 0.8901\n"
          ],
          "name": "stdout"
        },
        {
          "output_type": "display_data",
          "data": {
            "text/html": [
              "<span style=\"color:#4527A0\"><h1 style=\"font-size:18px\">Trial complete</h1></span>"
            ],
            "text/plain": [
              "<IPython.core.display.HTML object>"
            ]
          },
          "metadata": {
            "tags": []
          }
        },
        {
          "output_type": "display_data",
          "data": {
            "text/html": [
              "<span style=\"color:#4527A0\"><h1 style=\"font-size:18px\">Trial summary</h1></span>"
            ],
            "text/plain": [
              "<IPython.core.display.HTML object>"
            ]
          },
          "metadata": {
            "tags": []
          }
        },
        {
          "output_type": "display_data",
          "data": {
            "text/html": [
              "<span style=\"color:cyan\"> |-Trial ID: 3d008e8d682249acf4da9223da7d0861</span>"
            ],
            "text/plain": [
              "<IPython.core.display.HTML object>"
            ]
          },
          "metadata": {
            "tags": []
          }
        },
        {
          "output_type": "display_data",
          "data": {
            "text/html": [
              "<span style=\"color:cyan\"> |-Score: 0.8900833129882812</span>"
            ],
            "text/plain": [
              "<IPython.core.display.HTML object>"
            ]
          },
          "metadata": {
            "tags": []
          }
        },
        {
          "output_type": "display_data",
          "data": {
            "text/html": [
              "<span style=\"color:cyan\"> |-Best step: 0</span>"
            ],
            "text/plain": [
              "<IPython.core.display.HTML object>"
            ]
          },
          "metadata": {
            "tags": []
          }
        },
        {
          "output_type": "display_data",
          "data": {
            "text/html": [
              "<span style=\"color:#7E57C2\"><h2 style=\"font-size:16px\">Hyperparameters:</h2></span>"
            ],
            "text/plain": [
              "<IPython.core.display.HTML object>"
            ]
          },
          "metadata": {
            "tags": []
          }
        },
        {
          "output_type": "display_data",
          "data": {
            "text/html": [
              "<span style=\"color:cyan\"> |-activation: tanh</span>"
            ],
            "text/plain": [
              "<IPython.core.display.HTML object>"
            ]
          },
          "metadata": {
            "tags": []
          }
        },
        {
          "output_type": "display_data",
          "data": {
            "text/html": [
              "<span style=\"color:blue\"> |-optimizer: rmsprop</span>"
            ],
            "text/plain": [
              "<IPython.core.display.HTML object>"
            ]
          },
          "metadata": {
            "tags": []
          }
        },
        {
          "output_type": "display_data",
          "data": {
            "text/html": [
              "<span style=\"color:cyan\"> |-units_hidden: 576</span>"
            ],
            "text/plain": [
              "<IPython.core.display.HTML object>"
            ]
          },
          "metadata": {
            "tags": []
          }
        },
        {
          "output_type": "display_data",
          "data": {
            "text/html": [
              "<span style=\"color:blue\"> |-units_input: 1024</span>"
            ],
            "text/plain": [
              "<IPython.core.display.HTML object>"
            ]
          },
          "metadata": {
            "tags": []
          }
        },
        {
          "output_type": "stream",
          "text": [
            "Epoch 1/20\n",
            "188/188 [==============================] - 2s 8ms/step - loss: 2.3053 - accuracy: 0.1117 - val_loss: 2.2970 - val_accuracy: 0.1574\n",
            "Epoch 2/20\n",
            "188/188 [==============================] - 1s 7ms/step - loss: 2.2945 - accuracy: 0.1348 - val_loss: 2.2922 - val_accuracy: 0.1005\n",
            "Epoch 3/20\n",
            "188/188 [==============================] - 1s 8ms/step - loss: 2.2886 - accuracy: 0.1484 - val_loss: 2.2865 - val_accuracy: 0.1814\n",
            "Epoch 4/20\n",
            "188/188 [==============================] - 1s 7ms/step - loss: 2.2822 - accuracy: 0.1754 - val_loss: 2.2781 - val_accuracy: 0.1013\n",
            "Epoch 5/20\n",
            "188/188 [==============================] - 1s 7ms/step - loss: 2.2752 - accuracy: 0.2071 - val_loss: 2.2715 - val_accuracy: 0.0989\n",
            "Epoch 6/20\n",
            "188/188 [==============================] - 1s 7ms/step - loss: 2.2673 - accuracy: 0.2455 - val_loss: 2.2629 - val_accuracy: 0.2604\n",
            "Epoch 7/20\n",
            "188/188 [==============================] - 1s 8ms/step - loss: 2.2583 - accuracy: 0.2534 - val_loss: 2.2545 - val_accuracy: 0.2537\n",
            "Epoch 8/20\n",
            "188/188 [==============================] - 1s 7ms/step - loss: 2.2475 - accuracy: 0.2862 - val_loss: 2.2418 - val_accuracy: 0.2332\n",
            "Epoch 9/20\n",
            "188/188 [==============================] - 1s 7ms/step - loss: 2.2346 - accuracy: 0.3195 - val_loss: 2.2272 - val_accuracy: 0.3058\n",
            "Epoch 10/20\n",
            "188/188 [==============================] - 1s 7ms/step - loss: 2.2186 - accuracy: 0.3695 - val_loss: 2.2081 - val_accuracy: 0.3262\n",
            "Epoch 11/20\n",
            "188/188 [==============================] - 1s 7ms/step - loss: 2.1980 - accuracy: 0.3557 - val_loss: 2.1864 - val_accuracy: 0.3657\n",
            "Epoch 12/20\n",
            "188/188 [==============================] - 1s 8ms/step - loss: 2.1720 - accuracy: 0.3952 - val_loss: 2.1561 - val_accuracy: 0.2800\n",
            "Epoch 13/20\n",
            "188/188 [==============================] - 1s 7ms/step - loss: 2.1377 - accuracy: 0.4161 - val_loss: 2.1172 - val_accuracy: 0.4903\n",
            "Epoch 14/20\n",
            "188/188 [==============================] - 1s 8ms/step - loss: 2.0920 - accuracy: 0.4481 - val_loss: 2.0638 - val_accuracy: 0.4627\n",
            "Epoch 15/20\n",
            "188/188 [==============================] - 1s 8ms/step - loss: 2.0331 - accuracy: 0.4588 - val_loss: 1.9970 - val_accuracy: 0.4475\n",
            "Epoch 16/20\n",
            "188/188 [==============================] - 1s 8ms/step - loss: 1.9602 - accuracy: 0.4593 - val_loss: 1.9175 - val_accuracy: 0.4369\n",
            "Epoch 17/20\n",
            "188/188 [==============================] - 1s 7ms/step - loss: 1.8771 - accuracy: 0.4732 - val_loss: 1.8324 - val_accuracy: 0.4415\n",
            "Epoch 18/20\n",
            "188/188 [==============================] - 1s 7ms/step - loss: 1.7921 - accuracy: 0.4828 - val_loss: 1.7472 - val_accuracy: 0.5128\n",
            "Epoch 19/20\n",
            "188/188 [==============================] - 1s 7ms/step - loss: 1.7115 - accuracy: 0.4951 - val_loss: 1.6735 - val_accuracy: 0.4320\n",
            "Epoch 20/20\n",
            "188/188 [==============================] - 1s 7ms/step - loss: 1.6388 - accuracy: 0.5019 - val_loss: 1.6001 - val_accuracy: 0.5398\n"
          ],
          "name": "stdout"
        },
        {
          "output_type": "display_data",
          "data": {
            "text/html": [
              "<span style=\"color:#4527A0\"><h1 style=\"font-size:18px\">Trial complete</h1></span>"
            ],
            "text/plain": [
              "<IPython.core.display.HTML object>"
            ]
          },
          "metadata": {
            "tags": []
          }
        },
        {
          "output_type": "display_data",
          "data": {
            "text/html": [
              "<span style=\"color:#4527A0\"><h1 style=\"font-size:18px\">Trial summary</h1></span>"
            ],
            "text/plain": [
              "<IPython.core.display.HTML object>"
            ]
          },
          "metadata": {
            "tags": []
          }
        },
        {
          "output_type": "display_data",
          "data": {
            "text/html": [
              "<span style=\"color:cyan\"> |-Trial ID: 08e7647f6995d4749ebc89cf81b5aea8</span>"
            ],
            "text/plain": [
              "<IPython.core.display.HTML object>"
            ]
          },
          "metadata": {
            "tags": []
          }
        },
        {
          "output_type": "display_data",
          "data": {
            "text/html": [
              "<span style=\"color:cyan\"> |-Score: 0.5398333072662354</span>"
            ],
            "text/plain": [
              "<IPython.core.display.HTML object>"
            ]
          },
          "metadata": {
            "tags": []
          }
        },
        {
          "output_type": "display_data",
          "data": {
            "text/html": [
              "<span style=\"color:cyan\"> |-Best step: 0</span>"
            ],
            "text/plain": [
              "<IPython.core.display.HTML object>"
            ]
          },
          "metadata": {
            "tags": []
          }
        },
        {
          "output_type": "display_data",
          "data": {
            "text/html": [
              "<span style=\"color:#7E57C2\"><h2 style=\"font-size:16px\">Hyperparameters:</h2></span>"
            ],
            "text/plain": [
              "<IPython.core.display.HTML object>"
            ]
          },
          "metadata": {
            "tags": []
          }
        },
        {
          "output_type": "display_data",
          "data": {
            "text/html": [
              "<span style=\"color:cyan\"> |-activation: sigmoid</span>"
            ],
            "text/plain": [
              "<IPython.core.display.HTML object>"
            ]
          },
          "metadata": {
            "tags": []
          }
        },
        {
          "output_type": "display_data",
          "data": {
            "text/html": [
              "<span style=\"color:blue\"> |-optimizer: SGD</span>"
            ],
            "text/plain": [
              "<IPython.core.display.HTML object>"
            ]
          },
          "metadata": {
            "tags": []
          }
        },
        {
          "output_type": "display_data",
          "data": {
            "text/html": [
              "<span style=\"color:cyan\"> |-units_hidden: 576</span>"
            ],
            "text/plain": [
              "<IPython.core.display.HTML object>"
            ]
          },
          "metadata": {
            "tags": []
          }
        },
        {
          "output_type": "display_data",
          "data": {
            "text/html": [
              "<span style=\"color:blue\"> |-units_input: 640</span>"
            ],
            "text/plain": [
              "<IPython.core.display.HTML object>"
            ]
          },
          "metadata": {
            "tags": []
          }
        },
        {
          "output_type": "stream",
          "text": [
            "Epoch 1/20\n",
            "188/188 [==============================] - 2s 8ms/step - loss: 0.5416 - accuracy: 0.8063 - val_loss: 0.4399 - val_accuracy: 0.8380\n",
            "Epoch 2/20\n",
            "188/188 [==============================] - 1s 8ms/step - loss: 0.3676 - accuracy: 0.8638 - val_loss: 0.3790 - val_accuracy: 0.8659\n",
            "Epoch 3/20\n",
            "188/188 [==============================] - 1s 8ms/step - loss: 0.3254 - accuracy: 0.8801 - val_loss: 0.3914 - val_accuracy: 0.8602\n",
            "Epoch 4/20\n",
            "188/188 [==============================] - 1s 8ms/step - loss: 0.3024 - accuracy: 0.8874 - val_loss: 0.3291 - val_accuracy: 0.8777\n",
            "Epoch 5/20\n",
            "188/188 [==============================] - 1s 8ms/step - loss: 0.2814 - accuracy: 0.8939 - val_loss: 0.3153 - val_accuracy: 0.8844\n",
            "Epoch 6/20\n",
            "188/188 [==============================] - 1s 8ms/step - loss: 0.2667 - accuracy: 0.8994 - val_loss: 0.3460 - val_accuracy: 0.8712\n",
            "Epoch 7/20\n",
            "188/188 [==============================] - 1s 8ms/step - loss: 0.2507 - accuracy: 0.9051 - val_loss: 0.3137 - val_accuracy: 0.8881\n",
            "Epoch 8/20\n",
            "188/188 [==============================] - 1s 8ms/step - loss: 0.2401 - accuracy: 0.9102 - val_loss: 0.2988 - val_accuracy: 0.8921\n",
            "Epoch 9/20\n",
            "188/188 [==============================] - 1s 8ms/step - loss: 0.2294 - accuracy: 0.9136 - val_loss: 0.3090 - val_accuracy: 0.8921\n",
            "Epoch 10/20\n",
            "188/188 [==============================] - 1s 8ms/step - loss: 0.2183 - accuracy: 0.9157 - val_loss: 0.3052 - val_accuracy: 0.8948\n",
            "Epoch 11/20\n",
            "188/188 [==============================] - 1s 7ms/step - loss: 0.2107 - accuracy: 0.9201 - val_loss: 0.3318 - val_accuracy: 0.8867\n",
            "Epoch 12/20\n",
            "188/188 [==============================] - 1s 8ms/step - loss: 0.2005 - accuracy: 0.9236 - val_loss: 0.3080 - val_accuracy: 0.8928\n",
            "Epoch 13/20\n",
            "188/188 [==============================] - 1s 8ms/step - loss: 0.1923 - accuracy: 0.9264 - val_loss: 0.3432 - val_accuracy: 0.8882\n",
            "Epoch 14/20\n",
            "188/188 [==============================] - 1s 8ms/step - loss: 0.1923 - accuracy: 0.9280 - val_loss: 0.3150 - val_accuracy: 0.8952\n",
            "Epoch 15/20\n",
            "188/188 [==============================] - 2s 8ms/step - loss: 0.1780 - accuracy: 0.9316 - val_loss: 0.3303 - val_accuracy: 0.8963\n",
            "Epoch 16/20\n",
            "188/188 [==============================] - 1s 8ms/step - loss: 0.1683 - accuracy: 0.9356 - val_loss: 0.3258 - val_accuracy: 0.8934\n",
            "Epoch 17/20\n",
            "188/188 [==============================] - 1s 8ms/step - loss: 0.1612 - accuracy: 0.9377 - val_loss: 0.3330 - val_accuracy: 0.8982\n",
            "Epoch 18/20\n",
            "188/188 [==============================] - 1s 8ms/step - loss: 0.1611 - accuracy: 0.9382 - val_loss: 0.3377 - val_accuracy: 0.8986\n",
            "Epoch 19/20\n",
            "188/188 [==============================] - 1s 8ms/step - loss: 0.1580 - accuracy: 0.9395 - val_loss: 0.3387 - val_accuracy: 0.8931\n",
            "Epoch 20/20\n",
            "188/188 [==============================] - 1s 8ms/step - loss: 0.1531 - accuracy: 0.9418 - val_loss: 0.3300 - val_accuracy: 0.8978\n"
          ],
          "name": "stdout"
        },
        {
          "output_type": "display_data",
          "data": {
            "text/html": [
              "<span style=\"color:#4527A0\"><h1 style=\"font-size:18px\">Trial complete</h1></span>"
            ],
            "text/plain": [
              "<IPython.core.display.HTML object>"
            ]
          },
          "metadata": {
            "tags": []
          }
        },
        {
          "output_type": "display_data",
          "data": {
            "text/html": [
              "<span style=\"color:#4527A0\"><h1 style=\"font-size:18px\">Trial summary</h1></span>"
            ],
            "text/plain": [
              "<IPython.core.display.HTML object>"
            ]
          },
          "metadata": {
            "tags": []
          }
        },
        {
          "output_type": "display_data",
          "data": {
            "text/html": [
              "<span style=\"color:cyan\"> |-Trial ID: d8d3b203290527fdd438b7fe8f2e887f</span>"
            ],
            "text/plain": [
              "<IPython.core.display.HTML object>"
            ]
          },
          "metadata": {
            "tags": []
          }
        },
        {
          "output_type": "display_data",
          "data": {
            "text/html": [
              "<span style=\"color:cyan\"> |-Score: 0.8985833525657654</span>"
            ],
            "text/plain": [
              "<IPython.core.display.HTML object>"
            ]
          },
          "metadata": {
            "tags": []
          }
        },
        {
          "output_type": "display_data",
          "data": {
            "text/html": [
              "<span style=\"color:cyan\"> |-Best step: 0</span>"
            ],
            "text/plain": [
              "<IPython.core.display.HTML object>"
            ]
          },
          "metadata": {
            "tags": []
          }
        },
        {
          "output_type": "display_data",
          "data": {
            "text/html": [
              "<span style=\"color:#7E57C2\"><h2 style=\"font-size:16px\">Hyperparameters:</h2></span>"
            ],
            "text/plain": [
              "<IPython.core.display.HTML object>"
            ]
          },
          "metadata": {
            "tags": []
          }
        },
        {
          "output_type": "display_data",
          "data": {
            "text/html": [
              "<span style=\"color:cyan\"> |-activation: relu</span>"
            ],
            "text/plain": [
              "<IPython.core.display.HTML object>"
            ]
          },
          "metadata": {
            "tags": []
          }
        },
        {
          "output_type": "display_data",
          "data": {
            "text/html": [
              "<span style=\"color:blue\"> |-optimizer: adam</span>"
            ],
            "text/plain": [
              "<IPython.core.display.HTML object>"
            ]
          },
          "metadata": {
            "tags": []
          }
        },
        {
          "output_type": "display_data",
          "data": {
            "text/html": [
              "<span style=\"color:cyan\"> |-units_hidden: 288</span>"
            ],
            "text/plain": [
              "<IPython.core.display.HTML object>"
            ]
          },
          "metadata": {
            "tags": []
          }
        },
        {
          "output_type": "display_data",
          "data": {
            "text/html": [
              "<span style=\"color:blue\"> |-units_input: 960</span>"
            ],
            "text/plain": [
              "<IPython.core.display.HTML object>"
            ]
          },
          "metadata": {
            "tags": []
          }
        },
        {
          "output_type": "stream",
          "text": [
            "Epoch 1/20\n",
            "188/188 [==============================] - 2s 8ms/step - loss: 1.0659 - accuracy: 0.6738 - val_loss: 0.7350 - val_accuracy: 0.7656\n",
            "Epoch 2/20\n",
            "188/188 [==============================] - 1s 7ms/step - loss: 0.6682 - accuracy: 0.7804 - val_loss: 0.6124 - val_accuracy: 0.7893\n",
            "Epoch 3/20\n",
            "188/188 [==============================] - 1s 7ms/step - loss: 0.5817 - accuracy: 0.8049 - val_loss: 0.5559 - val_accuracy: 0.8083\n",
            "Epoch 4/20\n",
            "188/188 [==============================] - 1s 7ms/step - loss: 0.5360 - accuracy: 0.8179 - val_loss: 0.5218 - val_accuracy: 0.8185\n",
            "Epoch 5/20\n",
            "188/188 [==============================] - 1s 7ms/step - loss: 0.5075 - accuracy: 0.8250 - val_loss: 0.5019 - val_accuracy: 0.8205\n",
            "Epoch 6/20\n",
            "188/188 [==============================] - 1s 7ms/step - loss: 0.4876 - accuracy: 0.8321 - val_loss: 0.4889 - val_accuracy: 0.8256\n",
            "Epoch 7/20\n",
            "188/188 [==============================] - 1s 7ms/step - loss: 0.4727 - accuracy: 0.8358 - val_loss: 0.4797 - val_accuracy: 0.8287\n",
            "Epoch 8/20\n",
            "188/188 [==============================] - 1s 7ms/step - loss: 0.4609 - accuracy: 0.8387 - val_loss: 0.4706 - val_accuracy: 0.8318\n",
            "Epoch 9/20\n",
            "188/188 [==============================] - 1s 7ms/step - loss: 0.4517 - accuracy: 0.8420 - val_loss: 0.4572 - val_accuracy: 0.8377\n",
            "Epoch 10/20\n",
            "188/188 [==============================] - 1s 7ms/step - loss: 0.4431 - accuracy: 0.8447 - val_loss: 0.4537 - val_accuracy: 0.8361\n",
            "Epoch 11/20\n",
            "188/188 [==============================] - 1s 7ms/step - loss: 0.4366 - accuracy: 0.8465 - val_loss: 0.4471 - val_accuracy: 0.8373\n",
            "Epoch 12/20\n",
            "188/188 [==============================] - 1s 7ms/step - loss: 0.4300 - accuracy: 0.8487 - val_loss: 0.4374 - val_accuracy: 0.8419\n",
            "Epoch 13/20\n",
            "188/188 [==============================] - 1s 7ms/step - loss: 0.4244 - accuracy: 0.8506 - val_loss: 0.4328 - val_accuracy: 0.8457\n",
            "Epoch 14/20\n",
            "188/188 [==============================] - 1s 7ms/step - loss: 0.4199 - accuracy: 0.8513 - val_loss: 0.4279 - val_accuracy: 0.8467\n",
            "Epoch 15/20\n",
            "188/188 [==============================] - 1s 8ms/step - loss: 0.4154 - accuracy: 0.8534 - val_loss: 0.4231 - val_accuracy: 0.8478\n",
            "Epoch 16/20\n",
            "188/188 [==============================] - 1s 7ms/step - loss: 0.4108 - accuracy: 0.8558 - val_loss: 0.4229 - val_accuracy: 0.8478\n",
            "Epoch 17/20\n",
            "188/188 [==============================] - 1s 7ms/step - loss: 0.4070 - accuracy: 0.8569 - val_loss: 0.4189 - val_accuracy: 0.8505\n",
            "Epoch 18/20\n",
            "188/188 [==============================] - 1s 7ms/step - loss: 0.4036 - accuracy: 0.8574 - val_loss: 0.4196 - val_accuracy: 0.8493\n",
            "Epoch 19/20\n",
            "188/188 [==============================] - 1s 7ms/step - loss: 0.4001 - accuracy: 0.8589 - val_loss: 0.4178 - val_accuracy: 0.8499\n",
            "Epoch 20/20\n",
            "188/188 [==============================] - 1s 7ms/step - loss: 0.3970 - accuracy: 0.8607 - val_loss: 0.4250 - val_accuracy: 0.8445\n"
          ],
          "name": "stdout"
        },
        {
          "output_type": "display_data",
          "data": {
            "text/html": [
              "<span style=\"color:#4527A0\"><h1 style=\"font-size:18px\">Trial complete</h1></span>"
            ],
            "text/plain": [
              "<IPython.core.display.HTML object>"
            ]
          },
          "metadata": {
            "tags": []
          }
        },
        {
          "output_type": "display_data",
          "data": {
            "text/html": [
              "<span style=\"color:#4527A0\"><h1 style=\"font-size:18px\">Trial summary</h1></span>"
            ],
            "text/plain": [
              "<IPython.core.display.HTML object>"
            ]
          },
          "metadata": {
            "tags": []
          }
        },
        {
          "output_type": "display_data",
          "data": {
            "text/html": [
              "<span style=\"color:cyan\"> |-Trial ID: f581248a9f9f66b1c57fb4cae4753b26</span>"
            ],
            "text/plain": [
              "<IPython.core.display.HTML object>"
            ]
          },
          "metadata": {
            "tags": []
          }
        },
        {
          "output_type": "display_data",
          "data": {
            "text/html": [
              "<span style=\"color:cyan\"> |-Score: 0.8504999876022339</span>"
            ],
            "text/plain": [
              "<IPython.core.display.HTML object>"
            ]
          },
          "metadata": {
            "tags": []
          }
        },
        {
          "output_type": "display_data",
          "data": {
            "text/html": [
              "<span style=\"color:cyan\"> |-Best step: 0</span>"
            ],
            "text/plain": [
              "<IPython.core.display.HTML object>"
            ]
          },
          "metadata": {
            "tags": []
          }
        },
        {
          "output_type": "display_data",
          "data": {
            "text/html": [
              "<span style=\"color:#7E57C2\"><h2 style=\"font-size:16px\">Hyperparameters:</h2></span>"
            ],
            "text/plain": [
              "<IPython.core.display.HTML object>"
            ]
          },
          "metadata": {
            "tags": []
          }
        },
        {
          "output_type": "display_data",
          "data": {
            "text/html": [
              "<span style=\"color:cyan\"> |-activation: tanh</span>"
            ],
            "text/plain": [
              "<IPython.core.display.HTML object>"
            ]
          },
          "metadata": {
            "tags": []
          }
        },
        {
          "output_type": "display_data",
          "data": {
            "text/html": [
              "<span style=\"color:blue\"> |-optimizer: SGD</span>"
            ],
            "text/plain": [
              "<IPython.core.display.HTML object>"
            ]
          },
          "metadata": {
            "tags": []
          }
        },
        {
          "output_type": "display_data",
          "data": {
            "text/html": [
              "<span style=\"color:cyan\"> |-units_hidden: 448</span>"
            ],
            "text/plain": [
              "<IPython.core.display.HTML object>"
            ]
          },
          "metadata": {
            "tags": []
          }
        },
        {
          "output_type": "display_data",
          "data": {
            "text/html": [
              "<span style=\"color:blue\"> |-units_input: 640</span>"
            ],
            "text/plain": [
              "<IPython.core.display.HTML object>"
            ]
          },
          "metadata": {
            "tags": []
          }
        },
        {
          "output_type": "stream",
          "text": [
            "Epoch 1/20\n",
            "188/188 [==============================] - 2s 8ms/step - loss: 0.7550 - accuracy: 0.7487 - val_loss: 0.5840 - val_accuracy: 0.7899\n",
            "Epoch 2/20\n",
            "188/188 [==============================] - 1s 7ms/step - loss: 0.5314 - accuracy: 0.8170 - val_loss: 0.5069 - val_accuracy: 0.8163\n",
            "Epoch 3/20\n",
            "188/188 [==============================] - 1s 7ms/step - loss: 0.4828 - accuracy: 0.8319 - val_loss: 0.4748 - val_accuracy: 0.8286\n",
            "Epoch 4/20\n",
            "188/188 [==============================] - 1s 7ms/step - loss: 0.4577 - accuracy: 0.8402 - val_loss: 0.4599 - val_accuracy: 0.8348\n",
            "Epoch 5/20\n",
            "188/188 [==============================] - 1s 7ms/step - loss: 0.4399 - accuracy: 0.8464 - val_loss: 0.4485 - val_accuracy: 0.8368\n",
            "Epoch 6/20\n",
            "188/188 [==============================] - 1s 6ms/step - loss: 0.4278 - accuracy: 0.8497 - val_loss: 0.4363 - val_accuracy: 0.8460\n",
            "Epoch 7/20\n",
            "188/188 [==============================] - 1s 6ms/step - loss: 0.4177 - accuracy: 0.8541 - val_loss: 0.4417 - val_accuracy: 0.8421\n",
            "Epoch 8/20\n",
            "188/188 [==============================] - 1s 7ms/step - loss: 0.4092 - accuracy: 0.8564 - val_loss: 0.4183 - val_accuracy: 0.8500\n",
            "Epoch 9/20\n",
            "188/188 [==============================] - 1s 7ms/step - loss: 0.4012 - accuracy: 0.8582 - val_loss: 0.4116 - val_accuracy: 0.8518\n",
            "Epoch 10/20\n",
            "188/188 [==============================] - 1s 7ms/step - loss: 0.3955 - accuracy: 0.8596 - val_loss: 0.4262 - val_accuracy: 0.8460\n",
            "Epoch 11/20\n",
            "188/188 [==============================] - 1s 7ms/step - loss: 0.3901 - accuracy: 0.8629 - val_loss: 0.4151 - val_accuracy: 0.8506\n",
            "Epoch 12/20\n",
            "188/188 [==============================] - 1s 7ms/step - loss: 0.3832 - accuracy: 0.8644 - val_loss: 0.3984 - val_accuracy: 0.8595\n",
            "Epoch 13/20\n",
            "188/188 [==============================] - 1s 6ms/step - loss: 0.3798 - accuracy: 0.8668 - val_loss: 0.4079 - val_accuracy: 0.8558\n",
            "Epoch 14/20\n",
            "188/188 [==============================] - 1s 7ms/step - loss: 0.3762 - accuracy: 0.8677 - val_loss: 0.4056 - val_accuracy: 0.8559\n",
            "Epoch 15/20\n",
            "188/188 [==============================] - 1s 7ms/step - loss: 0.3702 - accuracy: 0.8693 - val_loss: 0.3978 - val_accuracy: 0.8574\n",
            "Epoch 16/20\n",
            "188/188 [==============================] - 1s 7ms/step - loss: 0.3665 - accuracy: 0.8697 - val_loss: 0.3917 - val_accuracy: 0.8612\n",
            "Epoch 17/20\n",
            "188/188 [==============================] - 1s 7ms/step - loss: 0.3622 - accuracy: 0.8724 - val_loss: 0.4330 - val_accuracy: 0.8497\n",
            "Epoch 18/20\n",
            "188/188 [==============================] - 1s 7ms/step - loss: 0.3589 - accuracy: 0.8737 - val_loss: 0.4241 - val_accuracy: 0.8407\n",
            "Epoch 19/20\n",
            "188/188 [==============================] - 1s 7ms/step - loss: 0.3573 - accuracy: 0.8727 - val_loss: 0.3803 - val_accuracy: 0.8652\n",
            "Epoch 20/20\n",
            "188/188 [==============================] - 1s 7ms/step - loss: 0.3530 - accuracy: 0.8742 - val_loss: 0.3876 - val_accuracy: 0.8597\n"
          ],
          "name": "stdout"
        },
        {
          "output_type": "display_data",
          "data": {
            "text/html": [
              "<span style=\"color:#4527A0\"><h1 style=\"font-size:18px\">Trial complete</h1></span>"
            ],
            "text/plain": [
              "<IPython.core.display.HTML object>"
            ]
          },
          "metadata": {
            "tags": []
          }
        },
        {
          "output_type": "display_data",
          "data": {
            "text/html": [
              "<span style=\"color:#4527A0\"><h1 style=\"font-size:18px\">Trial summary</h1></span>"
            ],
            "text/plain": [
              "<IPython.core.display.HTML object>"
            ]
          },
          "metadata": {
            "tags": []
          }
        },
        {
          "output_type": "display_data",
          "data": {
            "text/html": [
              "<span style=\"color:cyan\"> |-Trial ID: 6344a78dcd26dabfd4939ecbe9bd2655</span>"
            ],
            "text/plain": [
              "<IPython.core.display.HTML object>"
            ]
          },
          "metadata": {
            "tags": []
          }
        },
        {
          "output_type": "display_data",
          "data": {
            "text/html": [
              "<span style=\"color:cyan\"> |-Score: 0.8651666641235352</span>"
            ],
            "text/plain": [
              "<IPython.core.display.HTML object>"
            ]
          },
          "metadata": {
            "tags": []
          }
        },
        {
          "output_type": "display_data",
          "data": {
            "text/html": [
              "<span style=\"color:cyan\"> |-Best step: 0</span>"
            ],
            "text/plain": [
              "<IPython.core.display.HTML object>"
            ]
          },
          "metadata": {
            "tags": []
          }
        },
        {
          "output_type": "display_data",
          "data": {
            "text/html": [
              "<span style=\"color:#7E57C2\"><h2 style=\"font-size:16px\">Hyperparameters:</h2></span>"
            ],
            "text/plain": [
              "<IPython.core.display.HTML object>"
            ]
          },
          "metadata": {
            "tags": []
          }
        },
        {
          "output_type": "display_data",
          "data": {
            "text/html": [
              "<span style=\"color:cyan\"> |-activation: selu</span>"
            ],
            "text/plain": [
              "<IPython.core.display.HTML object>"
            ]
          },
          "metadata": {
            "tags": []
          }
        },
        {
          "output_type": "display_data",
          "data": {
            "text/html": [
              "<span style=\"color:blue\"> |-optimizer: SGD</span>"
            ],
            "text/plain": [
              "<IPython.core.display.HTML object>"
            ]
          },
          "metadata": {
            "tags": []
          }
        },
        {
          "output_type": "display_data",
          "data": {
            "text/html": [
              "<span style=\"color:cyan\"> |-units_hidden: 256</span>"
            ],
            "text/plain": [
              "<IPython.core.display.HTML object>"
            ]
          },
          "metadata": {
            "tags": []
          }
        },
        {
          "output_type": "display_data",
          "data": {
            "text/html": [
              "<span style=\"color:blue\"> |-units_input: 768</span>"
            ],
            "text/plain": [
              "<IPython.core.display.HTML object>"
            ]
          },
          "metadata": {
            "tags": []
          }
        },
        {
          "output_type": "stream",
          "text": [
            "Epoch 1/20\n",
            "188/188 [==============================] - 2s 9ms/step - loss: 0.7337 - accuracy: 0.7352 - val_loss: 0.4609 - val_accuracy: 0.8267\n",
            "Epoch 2/20\n",
            "188/188 [==============================] - 1s 7ms/step - loss: 0.4691 - accuracy: 0.8246 - val_loss: 0.4350 - val_accuracy: 0.8389\n",
            "Epoch 3/20\n",
            "188/188 [==============================] - 1s 7ms/step - loss: 0.4070 - accuracy: 0.8475 - val_loss: 0.4225 - val_accuracy: 0.8425\n",
            "Epoch 4/20\n",
            "188/188 [==============================] - 1s 7ms/step - loss: 0.3712 - accuracy: 0.8596 - val_loss: 0.4260 - val_accuracy: 0.8421\n",
            "Epoch 5/20\n",
            "188/188 [==============================] - 1s 8ms/step - loss: 0.3411 - accuracy: 0.8710 - val_loss: 0.3715 - val_accuracy: 0.8620\n",
            "Epoch 6/20\n",
            "188/188 [==============================] - 1s 7ms/step - loss: 0.3213 - accuracy: 0.8791 - val_loss: 0.4195 - val_accuracy: 0.8508\n",
            "Epoch 7/20\n",
            "188/188 [==============================] - 1s 7ms/step - loss: 0.2994 - accuracy: 0.8864 - val_loss: 0.3503 - val_accuracy: 0.8726\n",
            "Epoch 8/20\n",
            "188/188 [==============================] - 1s 7ms/step - loss: 0.2869 - accuracy: 0.8930 - val_loss: 0.3766 - val_accuracy: 0.8604\n",
            "Epoch 9/20\n",
            "188/188 [==============================] - 1s 8ms/step - loss: 0.2734 - accuracy: 0.8964 - val_loss: 0.3880 - val_accuracy: 0.8651\n",
            "Epoch 10/20\n",
            "188/188 [==============================] - 1s 7ms/step - loss: 0.2615 - accuracy: 0.9011 - val_loss: 0.3829 - val_accuracy: 0.8602\n",
            "Epoch 11/20\n",
            "188/188 [==============================] - 1s 7ms/step - loss: 0.2485 - accuracy: 0.9053 - val_loss: 0.3353 - val_accuracy: 0.8847\n",
            "Epoch 12/20\n",
            "188/188 [==============================] - 1s 7ms/step - loss: 0.2396 - accuracy: 0.9077 - val_loss: 0.3355 - val_accuracy: 0.8798\n",
            "Epoch 13/20\n",
            "188/188 [==============================] - 1s 7ms/step - loss: 0.2295 - accuracy: 0.9122 - val_loss: 0.3509 - val_accuracy: 0.8788\n",
            "Epoch 14/20\n",
            "188/188 [==============================] - 2s 8ms/step - loss: 0.2217 - accuracy: 0.9162 - val_loss: 0.3378 - val_accuracy: 0.8852\n",
            "Epoch 15/20\n",
            "188/188 [==============================] - 1s 7ms/step - loss: 0.2097 - accuracy: 0.9186 - val_loss: 0.3729 - val_accuracy: 0.8760\n",
            "Epoch 16/20\n",
            "188/188 [==============================] - 1s 8ms/step - loss: 0.2036 - accuracy: 0.9217 - val_loss: 0.3476 - val_accuracy: 0.8827\n",
            "Epoch 17/20\n",
            "188/188 [==============================] - 1s 7ms/step - loss: 0.1978 - accuracy: 0.9237 - val_loss: 0.3731 - val_accuracy: 0.8784\n",
            "Epoch 18/20\n",
            "188/188 [==============================] - 1s 7ms/step - loss: 0.1881 - accuracy: 0.9277 - val_loss: 0.3579 - val_accuracy: 0.8850\n",
            "Epoch 19/20\n",
            "188/188 [==============================] - 1s 7ms/step - loss: 0.1811 - accuracy: 0.9310 - val_loss: 0.3461 - val_accuracy: 0.8834\n",
            "Epoch 20/20\n",
            "188/188 [==============================] - 1s 7ms/step - loss: 0.1762 - accuracy: 0.9319 - val_loss: 0.3665 - val_accuracy: 0.8867\n"
          ],
          "name": "stdout"
        },
        {
          "output_type": "display_data",
          "data": {
            "text/html": [
              "<span style=\"color:#4527A0\"><h1 style=\"font-size:18px\">Trial complete</h1></span>"
            ],
            "text/plain": [
              "<IPython.core.display.HTML object>"
            ]
          },
          "metadata": {
            "tags": []
          }
        },
        {
          "output_type": "display_data",
          "data": {
            "text/html": [
              "<span style=\"color:#4527A0\"><h1 style=\"font-size:18px\">Trial summary</h1></span>"
            ],
            "text/plain": [
              "<IPython.core.display.HTML object>"
            ]
          },
          "metadata": {
            "tags": []
          }
        },
        {
          "output_type": "display_data",
          "data": {
            "text/html": [
              "<span style=\"color:cyan\"> |-Trial ID: cc9a7d78838bf2881f1f9e6c75dc2f23</span>"
            ],
            "text/plain": [
              "<IPython.core.display.HTML object>"
            ]
          },
          "metadata": {
            "tags": []
          }
        },
        {
          "output_type": "display_data",
          "data": {
            "text/html": [
              "<span style=\"color:cyan\"> |-Score: 0.8866666555404663</span>"
            ],
            "text/plain": [
              "<IPython.core.display.HTML object>"
            ]
          },
          "metadata": {
            "tags": []
          }
        },
        {
          "output_type": "display_data",
          "data": {
            "text/html": [
              "<span style=\"color:cyan\"> |-Best step: 0</span>"
            ],
            "text/plain": [
              "<IPython.core.display.HTML object>"
            ]
          },
          "metadata": {
            "tags": []
          }
        },
        {
          "output_type": "display_data",
          "data": {
            "text/html": [
              "<span style=\"color:#7E57C2\"><h2 style=\"font-size:16px\">Hyperparameters:</h2></span>"
            ],
            "text/plain": [
              "<IPython.core.display.HTML object>"
            ]
          },
          "metadata": {
            "tags": []
          }
        },
        {
          "output_type": "display_data",
          "data": {
            "text/html": [
              "<span style=\"color:cyan\"> |-activation: elu</span>"
            ],
            "text/plain": [
              "<IPython.core.display.HTML object>"
            ]
          },
          "metadata": {
            "tags": []
          }
        },
        {
          "output_type": "display_data",
          "data": {
            "text/html": [
              "<span style=\"color:blue\"> |-optimizer: rmsprop</span>"
            ],
            "text/plain": [
              "<IPython.core.display.HTML object>"
            ]
          },
          "metadata": {
            "tags": []
          }
        },
        {
          "output_type": "display_data",
          "data": {
            "text/html": [
              "<span style=\"color:cyan\"> |-units_hidden: 128</span>"
            ],
            "text/plain": [
              "<IPython.core.display.HTML object>"
            ]
          },
          "metadata": {
            "tags": []
          }
        },
        {
          "output_type": "display_data",
          "data": {
            "text/html": [
              "<span style=\"color:blue\"> |-units_input: 608</span>"
            ],
            "text/plain": [
              "<IPython.core.display.HTML object>"
            ]
          },
          "metadata": {
            "tags": []
          }
        },
        {
          "output_type": "stream",
          "text": [
            "Epoch 1/20\n",
            "188/188 [==============================] - 2s 8ms/step - loss: 0.5420 - accuracy: 0.8026 - val_loss: 0.4257 - val_accuracy: 0.8478\n",
            "Epoch 2/20\n",
            "188/188 [==============================] - 1s 8ms/step - loss: 0.3921 - accuracy: 0.8581 - val_loss: 0.4021 - val_accuracy: 0.8495\n",
            "Epoch 3/20\n",
            "188/188 [==============================] - 1s 8ms/step - loss: 0.3476 - accuracy: 0.8711 - val_loss: 0.3505 - val_accuracy: 0.8715\n",
            "Epoch 4/20\n",
            "188/188 [==============================] - 1s 7ms/step - loss: 0.3282 - accuracy: 0.8767 - val_loss: 0.3419 - val_accuracy: 0.8743\n",
            "Epoch 5/20\n",
            "188/188 [==============================] - 1s 7ms/step - loss: 0.2995 - accuracy: 0.8880 - val_loss: 0.3257 - val_accuracy: 0.8827\n",
            "Epoch 6/20\n",
            "188/188 [==============================] - 1s 7ms/step - loss: 0.2881 - accuracy: 0.8927 - val_loss: 0.3399 - val_accuracy: 0.8735\n",
            "Epoch 7/20\n",
            "188/188 [==============================] - 1s 7ms/step - loss: 0.2722 - accuracy: 0.8991 - val_loss: 0.3236 - val_accuracy: 0.8808\n",
            "Epoch 8/20\n",
            "188/188 [==============================] - 1s 8ms/step - loss: 0.2623 - accuracy: 0.9024 - val_loss: 0.3307 - val_accuracy: 0.8821\n",
            "Epoch 9/20\n",
            "188/188 [==============================] - 1s 7ms/step - loss: 0.2464 - accuracy: 0.9070 - val_loss: 0.3273 - val_accuracy: 0.8819\n",
            "Epoch 10/20\n",
            "188/188 [==============================] - 1s 7ms/step - loss: 0.2336 - accuracy: 0.9116 - val_loss: 0.3238 - val_accuracy: 0.8848\n",
            "Epoch 11/20\n",
            "188/188 [==============================] - 1s 7ms/step - loss: 0.2297 - accuracy: 0.9128 - val_loss: 0.3561 - val_accuracy: 0.8729\n",
            "Epoch 12/20\n",
            "188/188 [==============================] - 2s 8ms/step - loss: 0.2181 - accuracy: 0.9180 - val_loss: 0.3244 - val_accuracy: 0.8854\n",
            "Epoch 13/20\n",
            "188/188 [==============================] - 1s 8ms/step - loss: 0.2130 - accuracy: 0.9186 - val_loss: 0.3035 - val_accuracy: 0.8952\n",
            "Epoch 14/20\n",
            "188/188 [==============================] - 1s 8ms/step - loss: 0.2047 - accuracy: 0.9220 - val_loss: 0.3217 - val_accuracy: 0.8945\n",
            "Epoch 15/20\n",
            "188/188 [==============================] - 1s 7ms/step - loss: 0.1885 - accuracy: 0.9276 - val_loss: 0.3253 - val_accuracy: 0.8928\n",
            "Epoch 16/20\n",
            "188/188 [==============================] - 1s 8ms/step - loss: 0.1816 - accuracy: 0.9303 - val_loss: 0.3259 - val_accuracy: 0.8930\n",
            "Epoch 17/20\n",
            "188/188 [==============================] - 1s 7ms/step - loss: 0.1799 - accuracy: 0.9308 - val_loss: 0.3598 - val_accuracy: 0.8873\n",
            "Epoch 18/20\n",
            "188/188 [==============================] - 1s 7ms/step - loss: 0.1703 - accuracy: 0.9349 - val_loss: 0.3447 - val_accuracy: 0.8878\n",
            "Epoch 19/20\n",
            "188/188 [==============================] - 1s 7ms/step - loss: 0.1592 - accuracy: 0.9380 - val_loss: 0.3556 - val_accuracy: 0.8896\n",
            "Epoch 20/20\n",
            "188/188 [==============================] - 1s 7ms/step - loss: 0.1643 - accuracy: 0.9372 - val_loss: 0.3569 - val_accuracy: 0.8907\n"
          ],
          "name": "stdout"
        },
        {
          "output_type": "display_data",
          "data": {
            "text/html": [
              "<span style=\"color:#4527A0\"><h1 style=\"font-size:18px\">Trial complete</h1></span>"
            ],
            "text/plain": [
              "<IPython.core.display.HTML object>"
            ]
          },
          "metadata": {
            "tags": []
          }
        },
        {
          "output_type": "display_data",
          "data": {
            "text/html": [
              "<span style=\"color:#4527A0\"><h1 style=\"font-size:18px\">Trial summary</h1></span>"
            ],
            "text/plain": [
              "<IPython.core.display.HTML object>"
            ]
          },
          "metadata": {
            "tags": []
          }
        },
        {
          "output_type": "display_data",
          "data": {
            "text/html": [
              "<span style=\"color:cyan\"> |-Trial ID: 0b293d517f50fd7b1fdd3c131eb0303a</span>"
            ],
            "text/plain": [
              "<IPython.core.display.HTML object>"
            ]
          },
          "metadata": {
            "tags": []
          }
        },
        {
          "output_type": "display_data",
          "data": {
            "text/html": [
              "<span style=\"color:cyan\"> |-Score: 0.8951666951179504</span>"
            ],
            "text/plain": [
              "<IPython.core.display.HTML object>"
            ]
          },
          "metadata": {
            "tags": []
          }
        },
        {
          "output_type": "display_data",
          "data": {
            "text/html": [
              "<span style=\"color:cyan\"> |-Best step: 0</span>"
            ],
            "text/plain": [
              "<IPython.core.display.HTML object>"
            ]
          },
          "metadata": {
            "tags": []
          }
        },
        {
          "output_type": "display_data",
          "data": {
            "text/html": [
              "<span style=\"color:#7E57C2\"><h2 style=\"font-size:16px\">Hyperparameters:</h2></span>"
            ],
            "text/plain": [
              "<IPython.core.display.HTML object>"
            ]
          },
          "metadata": {
            "tags": []
          }
        },
        {
          "output_type": "display_data",
          "data": {
            "text/html": [
              "<span style=\"color:cyan\"> |-activation: elu</span>"
            ],
            "text/plain": [
              "<IPython.core.display.HTML object>"
            ]
          },
          "metadata": {
            "tags": []
          }
        },
        {
          "output_type": "display_data",
          "data": {
            "text/html": [
              "<span style=\"color:blue\"> |-optimizer: adam</span>"
            ],
            "text/plain": [
              "<IPython.core.display.HTML object>"
            ]
          },
          "metadata": {
            "tags": []
          }
        },
        {
          "output_type": "display_data",
          "data": {
            "text/html": [
              "<span style=\"color:cyan\"> |-units_hidden: 224</span>"
            ],
            "text/plain": [
              "<IPython.core.display.HTML object>"
            ]
          },
          "metadata": {
            "tags": []
          }
        },
        {
          "output_type": "display_data",
          "data": {
            "text/html": [
              "<span style=\"color:blue\"> |-units_input: 960</span>"
            ],
            "text/plain": [
              "<IPython.core.display.HTML object>"
            ]
          },
          "metadata": {
            "tags": []
          }
        },
        {
          "output_type": "stream",
          "text": [
            "Epoch 1/20\n",
            "188/188 [==============================] - 2s 9ms/step - loss: 0.7560 - accuracy: 0.7425 - val_loss: 0.5682 - val_accuracy: 0.8035\n",
            "Epoch 2/20\n",
            "188/188 [==============================] - 1s 7ms/step - loss: 0.5266 - accuracy: 0.8175 - val_loss: 0.4952 - val_accuracy: 0.8240\n",
            "Epoch 3/20\n",
            "188/188 [==============================] - 1s 8ms/step - loss: 0.4834 - accuracy: 0.8313 - val_loss: 0.4955 - val_accuracy: 0.8152\n",
            "Epoch 4/20\n",
            "188/188 [==============================] - 1s 8ms/step - loss: 0.4566 - accuracy: 0.8410 - val_loss: 0.4666 - val_accuracy: 0.8317\n",
            "Epoch 5/20\n",
            "188/188 [==============================] - 1s 7ms/step - loss: 0.4414 - accuracy: 0.8455 - val_loss: 0.4892 - val_accuracy: 0.8255\n",
            "Epoch 6/20\n",
            "188/188 [==============================] - 1s 7ms/step - loss: 0.4290 - accuracy: 0.8486 - val_loss: 0.4341 - val_accuracy: 0.8453\n",
            "Epoch 7/20\n",
            "188/188 [==============================] - 1s 7ms/step - loss: 0.4184 - accuracy: 0.8532 - val_loss: 0.4261 - val_accuracy: 0.8467\n",
            "Epoch 8/20\n",
            "188/188 [==============================] - 1s 7ms/step - loss: 0.4143 - accuracy: 0.8542 - val_loss: 0.4507 - val_accuracy: 0.8389\n",
            "Epoch 9/20\n",
            "188/188 [==============================] - 1s 7ms/step - loss: 0.4011 - accuracy: 0.8591 - val_loss: 0.4168 - val_accuracy: 0.8502\n",
            "Epoch 10/20\n",
            "188/188 [==============================] - 1s 7ms/step - loss: 0.3950 - accuracy: 0.8615 - val_loss: 0.4093 - val_accuracy: 0.8563\n",
            "Epoch 11/20\n",
            "188/188 [==============================] - 1s 7ms/step - loss: 0.3904 - accuracy: 0.8625 - val_loss: 0.4091 - val_accuracy: 0.8550\n",
            "Epoch 12/20\n",
            "188/188 [==============================] - 1s 7ms/step - loss: 0.3838 - accuracy: 0.8651 - val_loss: 0.4031 - val_accuracy: 0.8553\n",
            "Epoch 13/20\n",
            "188/188 [==============================] - 1s 7ms/step - loss: 0.3780 - accuracy: 0.8664 - val_loss: 0.3929 - val_accuracy: 0.8595\n",
            "Epoch 14/20\n",
            "188/188 [==============================] - 1s 8ms/step - loss: 0.3765 - accuracy: 0.8672 - val_loss: 0.3944 - val_accuracy: 0.8591\n",
            "Epoch 15/20\n",
            "188/188 [==============================] - 1s 7ms/step - loss: 0.3693 - accuracy: 0.8697 - val_loss: 0.3896 - val_accuracy: 0.8614\n",
            "Epoch 16/20\n",
            "188/188 [==============================] - 1s 7ms/step - loss: 0.3677 - accuracy: 0.8706 - val_loss: 0.4092 - val_accuracy: 0.8516\n",
            "Epoch 17/20\n",
            "188/188 [==============================] - 1s 7ms/step - loss: 0.3632 - accuracy: 0.8712 - val_loss: 0.3920 - val_accuracy: 0.8597\n",
            "Epoch 18/20\n",
            "188/188 [==============================] - 1s 7ms/step - loss: 0.3581 - accuracy: 0.8724 - val_loss: 0.3915 - val_accuracy: 0.8582\n",
            "Epoch 19/20\n",
            "188/188 [==============================] - 1s 7ms/step - loss: 0.3561 - accuracy: 0.8744 - val_loss: 0.4027 - val_accuracy: 0.8561\n",
            "Epoch 20/20\n",
            "188/188 [==============================] - 1s 7ms/step - loss: 0.3536 - accuracy: 0.8748 - val_loss: 0.3873 - val_accuracy: 0.8614\n"
          ],
          "name": "stdout"
        },
        {
          "output_type": "display_data",
          "data": {
            "text/html": [
              "<span style=\"color:#4527A0\"><h1 style=\"font-size:18px\">Trial complete</h1></span>"
            ],
            "text/plain": [
              "<IPython.core.display.HTML object>"
            ]
          },
          "metadata": {
            "tags": []
          }
        },
        {
          "output_type": "display_data",
          "data": {
            "text/html": [
              "<span style=\"color:#4527A0\"><h1 style=\"font-size:18px\">Trial summary</h1></span>"
            ],
            "text/plain": [
              "<IPython.core.display.HTML object>"
            ]
          },
          "metadata": {
            "tags": []
          }
        },
        {
          "output_type": "display_data",
          "data": {
            "text/html": [
              "<span style=\"color:cyan\"> |-Trial ID: 4f210b5d4f66e929a80e36d788ebf167</span>"
            ],
            "text/plain": [
              "<IPython.core.display.HTML object>"
            ]
          },
          "metadata": {
            "tags": []
          }
        },
        {
          "output_type": "display_data",
          "data": {
            "text/html": [
              "<span style=\"color:cyan\"> |-Score: 0.8614166378974915</span>"
            ],
            "text/plain": [
              "<IPython.core.display.HTML object>"
            ]
          },
          "metadata": {
            "tags": []
          }
        },
        {
          "output_type": "display_data",
          "data": {
            "text/html": [
              "<span style=\"color:cyan\"> |-Best step: 0</span>"
            ],
            "text/plain": [
              "<IPython.core.display.HTML object>"
            ]
          },
          "metadata": {
            "tags": []
          }
        },
        {
          "output_type": "display_data",
          "data": {
            "text/html": [
              "<span style=\"color:#7E57C2\"><h2 style=\"font-size:16px\">Hyperparameters:</h2></span>"
            ],
            "text/plain": [
              "<IPython.core.display.HTML object>"
            ]
          },
          "metadata": {
            "tags": []
          }
        },
        {
          "output_type": "display_data",
          "data": {
            "text/html": [
              "<span style=\"color:cyan\"> |-activation: selu</span>"
            ],
            "text/plain": [
              "<IPython.core.display.HTML object>"
            ]
          },
          "metadata": {
            "tags": []
          }
        },
        {
          "output_type": "display_data",
          "data": {
            "text/html": [
              "<span style=\"color:blue\"> |-optimizer: SGD</span>"
            ],
            "text/plain": [
              "<IPython.core.display.HTML object>"
            ]
          },
          "metadata": {
            "tags": []
          }
        },
        {
          "output_type": "display_data",
          "data": {
            "text/html": [
              "<span style=\"color:cyan\"> |-units_hidden: 352</span>"
            ],
            "text/plain": [
              "<IPython.core.display.HTML object>"
            ]
          },
          "metadata": {
            "tags": []
          }
        },
        {
          "output_type": "display_data",
          "data": {
            "text/html": [
              "<span style=\"color:blue\"> |-units_input: 832</span>"
            ],
            "text/plain": [
              "<IPython.core.display.HTML object>"
            ]
          },
          "metadata": {
            "tags": []
          }
        },
        {
          "output_type": "stream",
          "text": [
            "Epoch 1/20\n",
            "188/188 [==============================] - 1s 8ms/step - loss: 0.7561 - accuracy: 0.7484 - val_loss: 0.5766 - val_accuracy: 0.7910\n",
            "Epoch 2/20\n",
            "188/188 [==============================] - 1s 7ms/step - loss: 0.5244 - accuracy: 0.8192 - val_loss: 0.4937 - val_accuracy: 0.8250\n",
            "Epoch 3/20\n",
            "188/188 [==============================] - 1s 7ms/step - loss: 0.4819 - accuracy: 0.8308 - val_loss: 0.4843 - val_accuracy: 0.8280\n",
            "Epoch 4/20\n",
            "188/188 [==============================] - 1s 7ms/step - loss: 0.4576 - accuracy: 0.8384 - val_loss: 0.4535 - val_accuracy: 0.8361\n",
            "Epoch 5/20\n",
            "188/188 [==============================] - 1s 7ms/step - loss: 0.4421 - accuracy: 0.8445 - val_loss: 0.4450 - val_accuracy: 0.8407\n",
            "Epoch 6/20\n",
            "188/188 [==============================] - 1s 7ms/step - loss: 0.4276 - accuracy: 0.8504 - val_loss: 0.4416 - val_accuracy: 0.8400\n",
            "Epoch 7/20\n",
            "188/188 [==============================] - 1s 7ms/step - loss: 0.4186 - accuracy: 0.8519 - val_loss: 0.4287 - val_accuracy: 0.8443\n",
            "Epoch 8/20\n",
            "188/188 [==============================] - 1s 7ms/step - loss: 0.4112 - accuracy: 0.8546 - val_loss: 0.4200 - val_accuracy: 0.8473\n",
            "Epoch 9/20\n",
            "188/188 [==============================] - 1s 7ms/step - loss: 0.4045 - accuracy: 0.8566 - val_loss: 0.4459 - val_accuracy: 0.8392\n",
            "Epoch 10/20\n",
            "188/188 [==============================] - 1s 7ms/step - loss: 0.3991 - accuracy: 0.8588 - val_loss: 0.4412 - val_accuracy: 0.8438\n",
            "Epoch 11/20\n",
            "188/188 [==============================] - 1s 7ms/step - loss: 0.3927 - accuracy: 0.8616 - val_loss: 0.4345 - val_accuracy: 0.8401\n",
            "Epoch 12/20\n",
            "188/188 [==============================] - 1s 7ms/step - loss: 0.3873 - accuracy: 0.8638 - val_loss: 0.3983 - val_accuracy: 0.8587\n",
            "Epoch 13/20\n",
            "188/188 [==============================] - 1s 7ms/step - loss: 0.3853 - accuracy: 0.8629 - val_loss: 0.4598 - val_accuracy: 0.8381\n",
            "Epoch 14/20\n",
            "188/188 [==============================] - 1s 7ms/step - loss: 0.3796 - accuracy: 0.8658 - val_loss: 0.4147 - val_accuracy: 0.8530\n",
            "Epoch 15/20\n",
            "188/188 [==============================] - 1s 7ms/step - loss: 0.3731 - accuracy: 0.8689 - val_loss: 0.4058 - val_accuracy: 0.8539\n",
            "Epoch 16/20\n",
            "188/188 [==============================] - 1s 7ms/step - loss: 0.3688 - accuracy: 0.8700 - val_loss: 0.4041 - val_accuracy: 0.8544\n",
            "Epoch 17/20\n",
            "188/188 [==============================] - 1s 7ms/step - loss: 0.3658 - accuracy: 0.8696 - val_loss: 0.4096 - val_accuracy: 0.8537\n",
            "Epoch 18/20\n",
            "188/188 [==============================] - 1s 7ms/step - loss: 0.3646 - accuracy: 0.8699 - val_loss: 0.4007 - val_accuracy: 0.8568\n",
            "Epoch 19/20\n",
            "188/188 [==============================] - 1s 7ms/step - loss: 0.3608 - accuracy: 0.8726 - val_loss: 0.3941 - val_accuracy: 0.8599\n",
            "Epoch 20/20\n",
            "188/188 [==============================] - 1s 7ms/step - loss: 0.3557 - accuracy: 0.8741 - val_loss: 0.3959 - val_accuracy: 0.8615\n"
          ],
          "name": "stdout"
        },
        {
          "output_type": "display_data",
          "data": {
            "text/html": [
              "<span style=\"color:#4527A0\"><h1 style=\"font-size:18px\">Trial complete</h1></span>"
            ],
            "text/plain": [
              "<IPython.core.display.HTML object>"
            ]
          },
          "metadata": {
            "tags": []
          }
        },
        {
          "output_type": "display_data",
          "data": {
            "text/html": [
              "<span style=\"color:#4527A0\"><h1 style=\"font-size:18px\">Trial summary</h1></span>"
            ],
            "text/plain": [
              "<IPython.core.display.HTML object>"
            ]
          },
          "metadata": {
            "tags": []
          }
        },
        {
          "output_type": "display_data",
          "data": {
            "text/html": [
              "<span style=\"color:cyan\"> |-Trial ID: a9e91674fc3661e54b9675d99321db9e</span>"
            ],
            "text/plain": [
              "<IPython.core.display.HTML object>"
            ]
          },
          "metadata": {
            "tags": []
          }
        },
        {
          "output_type": "display_data",
          "data": {
            "text/html": [
              "<span style=\"color:cyan\"> |-Score: 0.8615000247955322</span>"
            ],
            "text/plain": [
              "<IPython.core.display.HTML object>"
            ]
          },
          "metadata": {
            "tags": []
          }
        },
        {
          "output_type": "display_data",
          "data": {
            "text/html": [
              "<span style=\"color:cyan\"> |-Best step: 0</span>"
            ],
            "text/plain": [
              "<IPython.core.display.HTML object>"
            ]
          },
          "metadata": {
            "tags": []
          }
        },
        {
          "output_type": "display_data",
          "data": {
            "text/html": [
              "<span style=\"color:#7E57C2\"><h2 style=\"font-size:16px\">Hyperparameters:</h2></span>"
            ],
            "text/plain": [
              "<IPython.core.display.HTML object>"
            ]
          },
          "metadata": {
            "tags": []
          }
        },
        {
          "output_type": "display_data",
          "data": {
            "text/html": [
              "<span style=\"color:cyan\"> |-activation: selu</span>"
            ],
            "text/plain": [
              "<IPython.core.display.HTML object>"
            ]
          },
          "metadata": {
            "tags": []
          }
        },
        {
          "output_type": "display_data",
          "data": {
            "text/html": [
              "<span style=\"color:blue\"> |-optimizer: SGD</span>"
            ],
            "text/plain": [
              "<IPython.core.display.HTML object>"
            ]
          },
          "metadata": {
            "tags": []
          }
        },
        {
          "output_type": "display_data",
          "data": {
            "text/html": [
              "<span style=\"color:cyan\"> |-units_hidden: 352</span>"
            ],
            "text/plain": [
              "<IPython.core.display.HTML object>"
            ]
          },
          "metadata": {
            "tags": []
          }
        },
        {
          "output_type": "display_data",
          "data": {
            "text/html": [
              "<span style=\"color:blue\"> |-units_input: 704</span>"
            ],
            "text/plain": [
              "<IPython.core.display.HTML object>"
            ]
          },
          "metadata": {
            "tags": []
          }
        },
        {
          "output_type": "stream",
          "text": [
            "Epoch 1/20\n",
            "188/188 [==============================] - 1s 7ms/step - loss: 0.5435 - accuracy: 0.8021 - val_loss: 0.4121 - val_accuracy: 0.8526\n",
            "Epoch 2/20\n",
            "188/188 [==============================] - 1s 7ms/step - loss: 0.3900 - accuracy: 0.8585 - val_loss: 0.3704 - val_accuracy: 0.8610\n",
            "Epoch 3/20\n",
            "188/188 [==============================] - 1s 7ms/step - loss: 0.3488 - accuracy: 0.8722 - val_loss: 0.3601 - val_accuracy: 0.8664\n",
            "Epoch 4/20\n",
            "188/188 [==============================] - 1s 7ms/step - loss: 0.3257 - accuracy: 0.8801 - val_loss: 0.3557 - val_accuracy: 0.8729\n",
            "Epoch 5/20\n",
            "188/188 [==============================] - 1s 7ms/step - loss: 0.3126 - accuracy: 0.8845 - val_loss: 0.3581 - val_accuracy: 0.8695\n",
            "Epoch 6/20\n",
            "188/188 [==============================] - 1s 7ms/step - loss: 0.2917 - accuracy: 0.8915 - val_loss: 0.3380 - val_accuracy: 0.8767\n",
            "Epoch 7/20\n",
            "188/188 [==============================] - 1s 6ms/step - loss: 0.2795 - accuracy: 0.8946 - val_loss: 0.3350 - val_accuracy: 0.8739\n",
            "Epoch 8/20\n",
            "188/188 [==============================] - 1s 7ms/step - loss: 0.2665 - accuracy: 0.9004 - val_loss: 0.3285 - val_accuracy: 0.8793\n",
            "Epoch 9/20\n",
            "188/188 [==============================] - 1s 7ms/step - loss: 0.2524 - accuracy: 0.9063 - val_loss: 0.3288 - val_accuracy: 0.8806\n",
            "Epoch 10/20\n",
            "188/188 [==============================] - 1s 7ms/step - loss: 0.2425 - accuracy: 0.9092 - val_loss: 0.3176 - val_accuracy: 0.8863\n",
            "Epoch 11/20\n",
            "188/188 [==============================] - 1s 7ms/step - loss: 0.2294 - accuracy: 0.9136 - val_loss: 0.3365 - val_accuracy: 0.8808\n",
            "Epoch 12/20\n",
            "188/188 [==============================] - 1s 7ms/step - loss: 0.2241 - accuracy: 0.9159 - val_loss: 0.3176 - val_accuracy: 0.8910\n",
            "Epoch 13/20\n",
            "188/188 [==============================] - 1s 6ms/step - loss: 0.2163 - accuracy: 0.9179 - val_loss: 0.3227 - val_accuracy: 0.8892\n",
            "Epoch 14/20\n",
            "188/188 [==============================] - 1s 7ms/step - loss: 0.2098 - accuracy: 0.9210 - val_loss: 0.3279 - val_accuracy: 0.8882\n",
            "Epoch 15/20\n",
            "188/188 [==============================] - 1s 7ms/step - loss: 0.2009 - accuracy: 0.9239 - val_loss: 0.3313 - val_accuracy: 0.8873\n",
            "Epoch 16/20\n",
            "188/188 [==============================] - 1s 7ms/step - loss: 0.1923 - accuracy: 0.9268 - val_loss: 0.3256 - val_accuracy: 0.8923\n",
            "Epoch 17/20\n",
            "188/188 [==============================] - 1s 7ms/step - loss: 0.1818 - accuracy: 0.9303 - val_loss: 0.3155 - val_accuracy: 0.8934\n",
            "Epoch 18/20\n",
            "188/188 [==============================] - 1s 7ms/step - loss: 0.1805 - accuracy: 0.9309 - val_loss: 0.3275 - val_accuracy: 0.8922\n",
            "Epoch 19/20\n",
            "188/188 [==============================] - 1s 7ms/step - loss: 0.1773 - accuracy: 0.9321 - val_loss: 0.3708 - val_accuracy: 0.8808\n",
            "Epoch 20/20\n",
            "188/188 [==============================] - 1s 7ms/step - loss: 0.1675 - accuracy: 0.9364 - val_loss: 0.3586 - val_accuracy: 0.8865\n"
          ],
          "name": "stdout"
        },
        {
          "output_type": "display_data",
          "data": {
            "text/html": [
              "<span style=\"color:#4527A0\"><h1 style=\"font-size:18px\">Trial complete</h1></span>"
            ],
            "text/plain": [
              "<IPython.core.display.HTML object>"
            ]
          },
          "metadata": {
            "tags": []
          }
        },
        {
          "output_type": "display_data",
          "data": {
            "text/html": [
              "<span style=\"color:#4527A0\"><h1 style=\"font-size:18px\">Trial summary</h1></span>"
            ],
            "text/plain": [
              "<IPython.core.display.HTML object>"
            ]
          },
          "metadata": {
            "tags": []
          }
        },
        {
          "output_type": "display_data",
          "data": {
            "text/html": [
              "<span style=\"color:cyan\"> |-Trial ID: 8ab9b0b1d4a4244a9336af4964fa8d84</span>"
            ],
            "text/plain": [
              "<IPython.core.display.HTML object>"
            ]
          },
          "metadata": {
            "tags": []
          }
        },
        {
          "output_type": "display_data",
          "data": {
            "text/html": [
              "<span style=\"color:cyan\"> |-Score: 0.8934166431427002</span>"
            ],
            "text/plain": [
              "<IPython.core.display.HTML object>"
            ]
          },
          "metadata": {
            "tags": []
          }
        },
        {
          "output_type": "display_data",
          "data": {
            "text/html": [
              "<span style=\"color:cyan\"> |-Best step: 0</span>"
            ],
            "text/plain": [
              "<IPython.core.display.HTML object>"
            ]
          },
          "metadata": {
            "tags": []
          }
        },
        {
          "output_type": "display_data",
          "data": {
            "text/html": [
              "<span style=\"color:#7E57C2\"><h2 style=\"font-size:16px\">Hyperparameters:</h2></span>"
            ],
            "text/plain": [
              "<IPython.core.display.HTML object>"
            ]
          },
          "metadata": {
            "tags": []
          }
        },
        {
          "output_type": "display_data",
          "data": {
            "text/html": [
              "<span style=\"color:cyan\"> |-activation: elu</span>"
            ],
            "text/plain": [
              "<IPython.core.display.HTML object>"
            ]
          },
          "metadata": {
            "tags": []
          }
        },
        {
          "output_type": "display_data",
          "data": {
            "text/html": [
              "<span style=\"color:blue\"> |-optimizer: adam</span>"
            ],
            "text/plain": [
              "<IPython.core.display.HTML object>"
            ]
          },
          "metadata": {
            "tags": []
          }
        },
        {
          "output_type": "display_data",
          "data": {
            "text/html": [
              "<span style=\"color:cyan\"> |-units_hidden: 160</span>"
            ],
            "text/plain": [
              "<IPython.core.display.HTML object>"
            ]
          },
          "metadata": {
            "tags": []
          }
        },
        {
          "output_type": "display_data",
          "data": {
            "text/html": [
              "<span style=\"color:blue\"> |-units_input: 608</span>"
            ],
            "text/plain": [
              "<IPython.core.display.HTML object>"
            ]
          },
          "metadata": {
            "tags": []
          }
        },
        {
          "output_type": "stream",
          "text": [
            "Epoch 1/20\n",
            "188/188 [==============================] - 1s 7ms/step - loss: 1.0076 - accuracy: 0.6847 - val_loss: 0.7123 - val_accuracy: 0.7635\n",
            "Epoch 2/20\n",
            "188/188 [==============================] - 1s 7ms/step - loss: 0.6504 - accuracy: 0.7857 - val_loss: 0.5958 - val_accuracy: 0.7983\n",
            "Epoch 3/20\n",
            "188/188 [==============================] - 1s 7ms/step - loss: 0.5683 - accuracy: 0.8106 - val_loss: 0.5436 - val_accuracy: 0.8158\n",
            "Epoch 4/20\n",
            "188/188 [==============================] - 1s 7ms/step - loss: 0.5262 - accuracy: 0.8216 - val_loss: 0.5183 - val_accuracy: 0.8164\n",
            "Epoch 5/20\n",
            "188/188 [==============================] - 1s 7ms/step - loss: 0.4999 - accuracy: 0.8293 - val_loss: 0.5172 - val_accuracy: 0.8135\n",
            "Epoch 6/20\n",
            "188/188 [==============================] - 1s 7ms/step - loss: 0.4823 - accuracy: 0.8352 - val_loss: 0.4861 - val_accuracy: 0.8267\n",
            "Epoch 7/20\n",
            "188/188 [==============================] - 1s 7ms/step - loss: 0.4685 - accuracy: 0.8389 - val_loss: 0.4708 - val_accuracy: 0.8329\n",
            "Epoch 8/20\n",
            "188/188 [==============================] - 1s 7ms/step - loss: 0.4577 - accuracy: 0.8407 - val_loss: 0.4633 - val_accuracy: 0.8350\n",
            "Epoch 9/20\n",
            "188/188 [==============================] - 1s 7ms/step - loss: 0.4494 - accuracy: 0.8446 - val_loss: 0.4553 - val_accuracy: 0.8372\n",
            "Epoch 10/20\n",
            "188/188 [==============================] - 1s 7ms/step - loss: 0.4420 - accuracy: 0.8463 - val_loss: 0.4652 - val_accuracy: 0.8303\n",
            "Epoch 11/20\n",
            "188/188 [==============================] - 1s 7ms/step - loss: 0.4350 - accuracy: 0.8487 - val_loss: 0.4437 - val_accuracy: 0.8422\n",
            "Epoch 12/20\n",
            "188/188 [==============================] - 1s 7ms/step - loss: 0.4300 - accuracy: 0.8500 - val_loss: 0.4546 - val_accuracy: 0.8367\n",
            "Epoch 13/20\n",
            "188/188 [==============================] - 1s 7ms/step - loss: 0.4239 - accuracy: 0.8523 - val_loss: 0.4446 - val_accuracy: 0.8435\n",
            "Epoch 14/20\n",
            "188/188 [==============================] - 1s 7ms/step - loss: 0.4194 - accuracy: 0.8543 - val_loss: 0.4321 - val_accuracy: 0.8435\n",
            "Epoch 15/20\n",
            "188/188 [==============================] - 1s 7ms/step - loss: 0.4150 - accuracy: 0.8550 - val_loss: 0.4276 - val_accuracy: 0.8495\n",
            "Epoch 16/20\n",
            "188/188 [==============================] - 1s 7ms/step - loss: 0.4111 - accuracy: 0.8573 - val_loss: 0.4366 - val_accuracy: 0.8422\n",
            "Epoch 17/20\n",
            "188/188 [==============================] - 1s 7ms/step - loss: 0.4084 - accuracy: 0.8575 - val_loss: 0.4305 - val_accuracy: 0.8489\n",
            "Epoch 18/20\n",
            "188/188 [==============================] - 1s 7ms/step - loss: 0.4051 - accuracy: 0.8583 - val_loss: 0.4181 - val_accuracy: 0.8522\n",
            "Epoch 19/20\n",
            "188/188 [==============================] - 1s 7ms/step - loss: 0.4013 - accuracy: 0.8600 - val_loss: 0.4190 - val_accuracy: 0.8503\n",
            "Epoch 20/20\n",
            "188/188 [==============================] - 1s 7ms/step - loss: 0.3990 - accuracy: 0.8610 - val_loss: 0.4322 - val_accuracy: 0.8441\n"
          ],
          "name": "stdout"
        },
        {
          "output_type": "display_data",
          "data": {
            "text/html": [
              "<span style=\"color:#4527A0\"><h1 style=\"font-size:18px\">Trial complete</h1></span>"
            ],
            "text/plain": [
              "<IPython.core.display.HTML object>"
            ]
          },
          "metadata": {
            "tags": []
          }
        },
        {
          "output_type": "display_data",
          "data": {
            "text/html": [
              "<span style=\"color:#4527A0\"><h1 style=\"font-size:18px\">Trial summary</h1></span>"
            ],
            "text/plain": [
              "<IPython.core.display.HTML object>"
            ]
          },
          "metadata": {
            "tags": []
          }
        },
        {
          "output_type": "display_data",
          "data": {
            "text/html": [
              "<span style=\"color:cyan\"> |-Trial ID: 1a1dbf69391bf7b01074ba97f9317d3c</span>"
            ],
            "text/plain": [
              "<IPython.core.display.HTML object>"
            ]
          },
          "metadata": {
            "tags": []
          }
        },
        {
          "output_type": "display_data",
          "data": {
            "text/html": [
              "<span style=\"color:cyan\"> |-Score: 0.8522499799728394</span>"
            ],
            "text/plain": [
              "<IPython.core.display.HTML object>"
            ]
          },
          "metadata": {
            "tags": []
          }
        },
        {
          "output_type": "display_data",
          "data": {
            "text/html": [
              "<span style=\"color:cyan\"> |-Best step: 0</span>"
            ],
            "text/plain": [
              "<IPython.core.display.HTML object>"
            ]
          },
          "metadata": {
            "tags": []
          }
        },
        {
          "output_type": "display_data",
          "data": {
            "text/html": [
              "<span style=\"color:#7E57C2\"><h2 style=\"font-size:16px\">Hyperparameters:</h2></span>"
            ],
            "text/plain": [
              "<IPython.core.display.HTML object>"
            ]
          },
          "metadata": {
            "tags": []
          }
        },
        {
          "output_type": "display_data",
          "data": {
            "text/html": [
              "<span style=\"color:cyan\"> |-activation: elu</span>"
            ],
            "text/plain": [
              "<IPython.core.display.HTML object>"
            ]
          },
          "metadata": {
            "tags": []
          }
        },
        {
          "output_type": "display_data",
          "data": {
            "text/html": [
              "<span style=\"color:blue\"> |-optimizer: SGD</span>"
            ],
            "text/plain": [
              "<IPython.core.display.HTML object>"
            ]
          },
          "metadata": {
            "tags": []
          }
        },
        {
          "output_type": "display_data",
          "data": {
            "text/html": [
              "<span style=\"color:cyan\"> |-units_hidden: 192</span>"
            ],
            "text/plain": [
              "<IPython.core.display.HTML object>"
            ]
          },
          "metadata": {
            "tags": []
          }
        },
        {
          "output_type": "display_data",
          "data": {
            "text/html": [
              "<span style=\"color:blue\"> |-units_input: 1024</span>"
            ],
            "text/plain": [
              "<IPython.core.display.HTML object>"
            ]
          },
          "metadata": {
            "tags": []
          }
        },
        {
          "output_type": "stream",
          "text": [
            "Epoch 1/20\n",
            "188/188 [==============================] - 2s 9ms/step - loss: 0.8711 - accuracy: 0.6889 - val_loss: 0.5371 - val_accuracy: 0.7996\n",
            "Epoch 2/20\n",
            "188/188 [==============================] - 1s 8ms/step - loss: 0.4649 - accuracy: 0.8314 - val_loss: 0.4362 - val_accuracy: 0.8436\n",
            "Epoch 3/20\n",
            "188/188 [==============================] - 2s 8ms/step - loss: 0.4085 - accuracy: 0.8535 - val_loss: 0.4025 - val_accuracy: 0.8552\n",
            "Epoch 4/20\n",
            "188/188 [==============================] - 2s 8ms/step - loss: 0.3860 - accuracy: 0.8594 - val_loss: 0.3783 - val_accuracy: 0.8638\n",
            "Epoch 5/20\n",
            "188/188 [==============================] - 2s 8ms/step - loss: 0.3603 - accuracy: 0.8700 - val_loss: 0.3699 - val_accuracy: 0.8652\n",
            "Epoch 6/20\n",
            "188/188 [==============================] - 2s 8ms/step - loss: 0.3412 - accuracy: 0.8768 - val_loss: 0.3528 - val_accuracy: 0.8720\n",
            "Epoch 7/20\n",
            "188/188 [==============================] - 2s 9ms/step - loss: 0.3300 - accuracy: 0.8799 - val_loss: 0.3374 - val_accuracy: 0.8767\n",
            "Epoch 8/20\n",
            "188/188 [==============================] - 2s 9ms/step - loss: 0.3139 - accuracy: 0.8858 - val_loss: 0.3557 - val_accuracy: 0.8719\n",
            "Epoch 9/20\n",
            "188/188 [==============================] - 2s 9ms/step - loss: 0.3091 - accuracy: 0.8859 - val_loss: 0.3323 - val_accuracy: 0.8802\n",
            "Epoch 10/20\n",
            "188/188 [==============================] - 2s 9ms/step - loss: 0.2956 - accuracy: 0.8909 - val_loss: 0.3452 - val_accuracy: 0.8749\n",
            "Epoch 11/20\n",
            "188/188 [==============================] - 2s 9ms/step - loss: 0.2847 - accuracy: 0.8953 - val_loss: 0.3226 - val_accuracy: 0.8863\n",
            "Epoch 12/20\n",
            "188/188 [==============================] - 2s 9ms/step - loss: 0.2775 - accuracy: 0.8971 - val_loss: 0.3195 - val_accuracy: 0.8826\n",
            "Epoch 13/20\n",
            "188/188 [==============================] - 1s 8ms/step - loss: 0.2696 - accuracy: 0.8996 - val_loss: 0.3402 - val_accuracy: 0.8815\n",
            "Epoch 14/20\n",
            "188/188 [==============================] - 1s 8ms/step - loss: 0.2614 - accuracy: 0.9028 - val_loss: 0.3118 - val_accuracy: 0.8867\n",
            "Epoch 15/20\n",
            "188/188 [==============================] - 2s 8ms/step - loss: 0.2513 - accuracy: 0.9074 - val_loss: 0.3146 - val_accuracy: 0.8897\n",
            "Epoch 16/20\n",
            "188/188 [==============================] - 2s 8ms/step - loss: 0.2482 - accuracy: 0.9071 - val_loss: 0.3234 - val_accuracy: 0.8852\n",
            "Epoch 17/20\n",
            "188/188 [==============================] - 1s 8ms/step - loss: 0.2396 - accuracy: 0.9107 - val_loss: 0.3240 - val_accuracy: 0.8873\n",
            "Epoch 18/20\n",
            "188/188 [==============================] - 2s 8ms/step - loss: 0.2280 - accuracy: 0.9151 - val_loss: 0.3028 - val_accuracy: 0.8928\n",
            "Epoch 19/20\n",
            "188/188 [==============================] - 2s 8ms/step - loss: 0.2219 - accuracy: 0.9177 - val_loss: 0.3165 - val_accuracy: 0.8909\n",
            "Epoch 20/20\n",
            "188/188 [==============================] - 1s 8ms/step - loss: 0.2208 - accuracy: 0.9171 - val_loss: 0.3279 - val_accuracy: 0.8879\n"
          ],
          "name": "stdout"
        },
        {
          "output_type": "display_data",
          "data": {
            "text/html": [
              "<span style=\"color:#4527A0\"><h1 style=\"font-size:18px\">Trial complete</h1></span>"
            ],
            "text/plain": [
              "<IPython.core.display.HTML object>"
            ]
          },
          "metadata": {
            "tags": []
          }
        },
        {
          "output_type": "display_data",
          "data": {
            "text/html": [
              "<span style=\"color:#4527A0\"><h1 style=\"font-size:18px\">Trial summary</h1></span>"
            ],
            "text/plain": [
              "<IPython.core.display.HTML object>"
            ]
          },
          "metadata": {
            "tags": []
          }
        },
        {
          "output_type": "display_data",
          "data": {
            "text/html": [
              "<span style=\"color:cyan\"> |-Trial ID: 53a190c2545566cdb5a168eee2a2b17c</span>"
            ],
            "text/plain": [
              "<IPython.core.display.HTML object>"
            ]
          },
          "metadata": {
            "tags": []
          }
        },
        {
          "output_type": "display_data",
          "data": {
            "text/html": [
              "<span style=\"color:cyan\"> |-Score: 0.8928333520889282</span>"
            ],
            "text/plain": [
              "<IPython.core.display.HTML object>"
            ]
          },
          "metadata": {
            "tags": []
          }
        },
        {
          "output_type": "display_data",
          "data": {
            "text/html": [
              "<span style=\"color:cyan\"> |-Best step: 0</span>"
            ],
            "text/plain": [
              "<IPython.core.display.HTML object>"
            ]
          },
          "metadata": {
            "tags": []
          }
        },
        {
          "output_type": "display_data",
          "data": {
            "text/html": [
              "<span style=\"color:#7E57C2\"><h2 style=\"font-size:16px\">Hyperparameters:</h2></span>"
            ],
            "text/plain": [
              "<IPython.core.display.HTML object>"
            ]
          },
          "metadata": {
            "tags": []
          }
        },
        {
          "output_type": "display_data",
          "data": {
            "text/html": [
              "<span style=\"color:cyan\"> |-activation: sigmoid</span>"
            ],
            "text/plain": [
              "<IPython.core.display.HTML object>"
            ]
          },
          "metadata": {
            "tags": []
          }
        },
        {
          "output_type": "display_data",
          "data": {
            "text/html": [
              "<span style=\"color:blue\"> |-optimizer: adam</span>"
            ],
            "text/plain": [
              "<IPython.core.display.HTML object>"
            ]
          },
          "metadata": {
            "tags": []
          }
        },
        {
          "output_type": "display_data",
          "data": {
            "text/html": [
              "<span style=\"color:cyan\"> |-units_hidden: 480</span>"
            ],
            "text/plain": [
              "<IPython.core.display.HTML object>"
            ]
          },
          "metadata": {
            "tags": []
          }
        },
        {
          "output_type": "display_data",
          "data": {
            "text/html": [
              "<span style=\"color:blue\"> |-units_input: 768</span>"
            ],
            "text/plain": [
              "<IPython.core.display.HTML object>"
            ]
          },
          "metadata": {
            "tags": []
          }
        },
        {
          "output_type": "stream",
          "text": [
            "Epoch 1/20\n",
            "188/188 [==============================] - 2s 9ms/step - loss: 0.7706 - accuracy: 0.7265 - val_loss: 0.6673 - val_accuracy: 0.7886\n",
            "Epoch 2/20\n",
            "188/188 [==============================] - 2s 8ms/step - loss: 0.4809 - accuracy: 0.8191 - val_loss: 0.4661 - val_accuracy: 0.8167\n",
            "Epoch 3/20\n",
            "188/188 [==============================] - 2s 9ms/step - loss: 0.4059 - accuracy: 0.8480 - val_loss: 0.4042 - val_accuracy: 0.8499\n",
            "Epoch 4/20\n",
            "188/188 [==============================] - 1s 8ms/step - loss: 0.3634 - accuracy: 0.8638 - val_loss: 0.5109 - val_accuracy: 0.8088\n",
            "Epoch 5/20\n",
            "188/188 [==============================] - 2s 8ms/step - loss: 0.3343 - accuracy: 0.8735 - val_loss: 0.3705 - val_accuracy: 0.8610\n",
            "Epoch 6/20\n",
            "188/188 [==============================] - 2s 8ms/step - loss: 0.3112 - accuracy: 0.8826 - val_loss: 0.3752 - val_accuracy: 0.8593\n",
            "Epoch 7/20\n",
            "188/188 [==============================] - 1s 8ms/step - loss: 0.2929 - accuracy: 0.8892 - val_loss: 0.4075 - val_accuracy: 0.8524\n",
            "Epoch 8/20\n",
            "188/188 [==============================] - 1s 8ms/step - loss: 0.2754 - accuracy: 0.8957 - val_loss: 0.3584 - val_accuracy: 0.8653\n",
            "Epoch 9/20\n",
            "188/188 [==============================] - 2s 8ms/step - loss: 0.2612 - accuracy: 0.9001 - val_loss: 0.4844 - val_accuracy: 0.8246\n",
            "Epoch 10/20\n",
            "188/188 [==============================] - 2s 8ms/step - loss: 0.2473 - accuracy: 0.9062 - val_loss: 0.3313 - val_accuracy: 0.8798\n",
            "Epoch 11/20\n",
            "188/188 [==============================] - 1s 8ms/step - loss: 0.2326 - accuracy: 0.9111 - val_loss: 0.3179 - val_accuracy: 0.8852\n",
            "Epoch 12/20\n",
            "188/188 [==============================] - 1s 8ms/step - loss: 0.2213 - accuracy: 0.9149 - val_loss: 0.3462 - val_accuracy: 0.8739\n",
            "Epoch 13/20\n",
            "188/188 [==============================] - 1s 8ms/step - loss: 0.2113 - accuracy: 0.9193 - val_loss: 0.3292 - val_accuracy: 0.8831\n",
            "Epoch 14/20\n",
            "188/188 [==============================] - 1s 8ms/step - loss: 0.2011 - accuracy: 0.9221 - val_loss: 0.3251 - val_accuracy: 0.8833\n",
            "Epoch 15/20\n",
            "188/188 [==============================] - 1s 8ms/step - loss: 0.1901 - accuracy: 0.9279 - val_loss: 0.3309 - val_accuracy: 0.8849\n",
            "Epoch 16/20\n",
            "188/188 [==============================] - 1s 8ms/step - loss: 0.1803 - accuracy: 0.9309 - val_loss: 0.3853 - val_accuracy: 0.8746\n",
            "Epoch 17/20\n",
            "188/188 [==============================] - 2s 8ms/step - loss: 0.1708 - accuracy: 0.9349 - val_loss: 0.3361 - val_accuracy: 0.8878\n",
            "Epoch 18/20\n",
            "188/188 [==============================] - 2s 8ms/step - loss: 0.1617 - accuracy: 0.9375 - val_loss: 0.3534 - val_accuracy: 0.8824\n",
            "Epoch 19/20\n",
            "188/188 [==============================] - 1s 8ms/step - loss: 0.1554 - accuracy: 0.9407 - val_loss: 0.4089 - val_accuracy: 0.8677\n",
            "Epoch 20/20\n",
            "188/188 [==============================] - 2s 8ms/step - loss: 0.1450 - accuracy: 0.9449 - val_loss: 0.3381 - val_accuracy: 0.8903\n"
          ],
          "name": "stdout"
        },
        {
          "output_type": "display_data",
          "data": {
            "text/html": [
              "<span style=\"color:#4527A0\"><h1 style=\"font-size:18px\">Trial complete</h1></span>"
            ],
            "text/plain": [
              "<IPython.core.display.HTML object>"
            ]
          },
          "metadata": {
            "tags": []
          }
        },
        {
          "output_type": "display_data",
          "data": {
            "text/html": [
              "<span style=\"color:#4527A0\"><h1 style=\"font-size:18px\">Trial summary</h1></span>"
            ],
            "text/plain": [
              "<IPython.core.display.HTML object>"
            ]
          },
          "metadata": {
            "tags": []
          }
        },
        {
          "output_type": "display_data",
          "data": {
            "text/html": [
              "<span style=\"color:cyan\"> |-Trial ID: 737de8c253963093e65aceaf4455ce2b</span>"
            ],
            "text/plain": [
              "<IPython.core.display.HTML object>"
            ]
          },
          "metadata": {
            "tags": []
          }
        },
        {
          "output_type": "display_data",
          "data": {
            "text/html": [
              "<span style=\"color:cyan\"> |-Score: 0.890333354473114</span>"
            ],
            "text/plain": [
              "<IPython.core.display.HTML object>"
            ]
          },
          "metadata": {
            "tags": []
          }
        },
        {
          "output_type": "display_data",
          "data": {
            "text/html": [
              "<span style=\"color:cyan\"> |-Best step: 0</span>"
            ],
            "text/plain": [
              "<IPython.core.display.HTML object>"
            ]
          },
          "metadata": {
            "tags": []
          }
        },
        {
          "output_type": "display_data",
          "data": {
            "text/html": [
              "<span style=\"color:#7E57C2\"><h2 style=\"font-size:16px\">Hyperparameters:</h2></span>"
            ],
            "text/plain": [
              "<IPython.core.display.HTML object>"
            ]
          },
          "metadata": {
            "tags": []
          }
        },
        {
          "output_type": "display_data",
          "data": {
            "text/html": [
              "<span style=\"color:cyan\"> |-activation: tanh</span>"
            ],
            "text/plain": [
              "<IPython.core.display.HTML object>"
            ]
          },
          "metadata": {
            "tags": []
          }
        },
        {
          "output_type": "display_data",
          "data": {
            "text/html": [
              "<span style=\"color:blue\"> |-optimizer: rmsprop</span>"
            ],
            "text/plain": [
              "<IPython.core.display.HTML object>"
            ]
          },
          "metadata": {
            "tags": []
          }
        },
        {
          "output_type": "display_data",
          "data": {
            "text/html": [
              "<span style=\"color:cyan\"> |-units_hidden: 352</span>"
            ],
            "text/plain": [
              "<IPython.core.display.HTML object>"
            ]
          },
          "metadata": {
            "tags": []
          }
        },
        {
          "output_type": "display_data",
          "data": {
            "text/html": [
              "<span style=\"color:blue\"> |-units_input: 576</span>"
            ],
            "text/plain": [
              "<IPython.core.display.HTML object>"
            ]
          },
          "metadata": {
            "tags": []
          }
        },
        {
          "output_type": "stream",
          "text": [
            "Epoch 1/20\n",
            "188/188 [==============================] - 2s 11ms/step - loss: 1.7538 - accuracy: 0.6517 - val_loss: 1.4294 - val_accuracy: 0.6502\n",
            "Epoch 2/20\n",
            "188/188 [==============================] - 2s 10ms/step - loss: 0.7539 - accuracy: 0.7561 - val_loss: 0.5242 - val_accuracy: 0.8242\n",
            "Epoch 3/20\n",
            "188/188 [==============================] - 2s 9ms/step - loss: 0.5791 - accuracy: 0.7956 - val_loss: 0.5766 - val_accuracy: 0.7937\n",
            "Epoch 4/20\n",
            "188/188 [==============================] - 2s 9ms/step - loss: 0.5025 - accuracy: 0.8207 - val_loss: 0.6135 - val_accuracy: 0.7936\n",
            "Epoch 5/20\n",
            "188/188 [==============================] - 2s 9ms/step - loss: 0.4464 - accuracy: 0.8378 - val_loss: 0.5441 - val_accuracy: 0.7958\n",
            "Epoch 6/20\n",
            "188/188 [==============================] - 2s 9ms/step - loss: 0.4097 - accuracy: 0.8479 - val_loss: 0.6168 - val_accuracy: 0.7875\n",
            "Epoch 7/20\n",
            "188/188 [==============================] - 2s 10ms/step - loss: 0.3832 - accuracy: 0.8581 - val_loss: 0.5652 - val_accuracy: 0.8012\n",
            "Epoch 8/20\n",
            "188/188 [==============================] - 2s 9ms/step - loss: 0.3577 - accuracy: 0.8665 - val_loss: 0.4393 - val_accuracy: 0.8508\n",
            "Epoch 9/20\n",
            "188/188 [==============================] - 2s 9ms/step - loss: 0.3405 - accuracy: 0.8723 - val_loss: 0.4733 - val_accuracy: 0.8345\n",
            "Epoch 10/20\n",
            "188/188 [==============================] - 2s 9ms/step - loss: 0.3224 - accuracy: 0.8788 - val_loss: 0.4648 - val_accuracy: 0.8454\n",
            "Epoch 11/20\n",
            "188/188 [==============================] - 2s 9ms/step - loss: 0.3063 - accuracy: 0.8842 - val_loss: 0.5161 - val_accuracy: 0.8328\n",
            "Epoch 12/20\n",
            "188/188 [==============================] - 2s 10ms/step - loss: 0.2953 - accuracy: 0.8882 - val_loss: 0.4866 - val_accuracy: 0.8599\n",
            "Epoch 13/20\n",
            "188/188 [==============================] - 2s 9ms/step - loss: 0.2883 - accuracy: 0.8918 - val_loss: 0.4227 - val_accuracy: 0.8622\n",
            "Epoch 14/20\n",
            "188/188 [==============================] - 2s 9ms/step - loss: 0.2765 - accuracy: 0.8957 - val_loss: 0.4288 - val_accuracy: 0.8607\n",
            "Epoch 15/20\n",
            "188/188 [==============================] - 2s 10ms/step - loss: 0.2628 - accuracy: 0.9017 - val_loss: 0.5239 - val_accuracy: 0.8537\n",
            "Epoch 16/20\n",
            "188/188 [==============================] - 2s 9ms/step - loss: 0.2536 - accuracy: 0.9037 - val_loss: 0.5408 - val_accuracy: 0.8386\n",
            "Epoch 17/20\n",
            "188/188 [==============================] - 2s 9ms/step - loss: 0.2414 - accuracy: 0.9085 - val_loss: 0.5814 - val_accuracy: 0.8465\n",
            "Epoch 18/20\n",
            "188/188 [==============================] - 2s 9ms/step - loss: 0.2373 - accuracy: 0.9117 - val_loss: 0.4451 - val_accuracy: 0.8754\n",
            "Epoch 19/20\n",
            "188/188 [==============================] - 2s 9ms/step - loss: 0.2259 - accuracy: 0.9139 - val_loss: 0.4006 - val_accuracy: 0.8861\n",
            "Epoch 20/20\n",
            "188/188 [==============================] - 2s 9ms/step - loss: 0.2194 - accuracy: 0.9173 - val_loss: 0.5245 - val_accuracy: 0.8487\n"
          ],
          "name": "stdout"
        },
        {
          "output_type": "display_data",
          "data": {
            "text/html": [
              "<span style=\"color:#4527A0\"><h1 style=\"font-size:18px\">Trial complete</h1></span>"
            ],
            "text/plain": [
              "<IPython.core.display.HTML object>"
            ]
          },
          "metadata": {
            "tags": []
          }
        },
        {
          "output_type": "display_data",
          "data": {
            "text/html": [
              "<span style=\"color:#4527A0\"><h1 style=\"font-size:18px\">Trial summary</h1></span>"
            ],
            "text/plain": [
              "<IPython.core.display.HTML object>"
            ]
          },
          "metadata": {
            "tags": []
          }
        },
        {
          "output_type": "display_data",
          "data": {
            "text/html": [
              "<span style=\"color:cyan\"> |-Trial ID: e7eec2f6a22d8923305b18afd63afe3c</span>"
            ],
            "text/plain": [
              "<IPython.core.display.HTML object>"
            ]
          },
          "metadata": {
            "tags": []
          }
        },
        {
          "output_type": "display_data",
          "data": {
            "text/html": [
              "<span style=\"color:cyan\"> |-Score: 0.8860833048820496</span>"
            ],
            "text/plain": [
              "<IPython.core.display.HTML object>"
            ]
          },
          "metadata": {
            "tags": []
          }
        },
        {
          "output_type": "display_data",
          "data": {
            "text/html": [
              "<span style=\"color:cyan\"> |-Best step: 0</span>"
            ],
            "text/plain": [
              "<IPython.core.display.HTML object>"
            ]
          },
          "metadata": {
            "tags": []
          }
        },
        {
          "output_type": "display_data",
          "data": {
            "text/html": [
              "<span style=\"color:#7E57C2\"><h2 style=\"font-size:16px\">Hyperparameters:</h2></span>"
            ],
            "text/plain": [
              "<IPython.core.display.HTML object>"
            ]
          },
          "metadata": {
            "tags": []
          }
        },
        {
          "output_type": "display_data",
          "data": {
            "text/html": [
              "<span style=\"color:cyan\"> |-activation: selu</span>"
            ],
            "text/plain": [
              "<IPython.core.display.HTML object>"
            ]
          },
          "metadata": {
            "tags": []
          }
        },
        {
          "output_type": "display_data",
          "data": {
            "text/html": [
              "<span style=\"color:blue\"> |-optimizer: rmsprop</span>"
            ],
            "text/plain": [
              "<IPython.core.display.HTML object>"
            ]
          },
          "metadata": {
            "tags": []
          }
        },
        {
          "output_type": "display_data",
          "data": {
            "text/html": [
              "<span style=\"color:cyan\"> |-units_hidden: 576</span>"
            ],
            "text/plain": [
              "<IPython.core.display.HTML object>"
            ]
          },
          "metadata": {
            "tags": []
          }
        },
        {
          "output_type": "display_data",
          "data": {
            "text/html": [
              "<span style=\"color:blue\"> |-units_input: 704</span>"
            ],
            "text/plain": [
              "<IPython.core.display.HTML object>"
            ]
          },
          "metadata": {
            "tags": []
          }
        },
        {
          "output_type": "stream",
          "text": [
            "Epoch 1/20\n",
            "188/188 [==============================] - 2s 10ms/step - loss: 0.9300 - accuracy: 0.6495 - val_loss: 0.5770 - val_accuracy: 0.7830\n",
            "Epoch 2/20\n",
            "188/188 [==============================] - 2s 9ms/step - loss: 0.5431 - accuracy: 0.7974 - val_loss: 0.4707 - val_accuracy: 0.8297\n",
            "Epoch 3/20\n",
            "188/188 [==============================] - 2s 9ms/step - loss: 0.4746 - accuracy: 0.8254 - val_loss: 0.4936 - val_accuracy: 0.8153\n",
            "Epoch 4/20\n",
            "188/188 [==============================] - 2s 9ms/step - loss: 0.4307 - accuracy: 0.8415 - val_loss: 0.4159 - val_accuracy: 0.8500\n",
            "Epoch 5/20\n",
            "188/188 [==============================] - 2s 9ms/step - loss: 0.4041 - accuracy: 0.8509 - val_loss: 0.4467 - val_accuracy: 0.8399\n",
            "Epoch 6/20\n",
            "188/188 [==============================] - 2s 9ms/step - loss: 0.3816 - accuracy: 0.8596 - val_loss: 0.3976 - val_accuracy: 0.8546\n",
            "Epoch 7/20\n",
            "188/188 [==============================] - 2s 9ms/step - loss: 0.3615 - accuracy: 0.8665 - val_loss: 0.3945 - val_accuracy: 0.8538\n",
            "Epoch 8/20\n",
            "188/188 [==============================] - 2s 9ms/step - loss: 0.3459 - accuracy: 0.8716 - val_loss: 0.3552 - val_accuracy: 0.8678\n",
            "Epoch 9/20\n",
            "188/188 [==============================] - 2s 9ms/step - loss: 0.3324 - accuracy: 0.8762 - val_loss: 0.3649 - val_accuracy: 0.8631\n",
            "Epoch 10/20\n",
            "188/188 [==============================] - 2s 9ms/step - loss: 0.3208 - accuracy: 0.8815 - val_loss: 0.3929 - val_accuracy: 0.8515\n",
            "Epoch 11/20\n",
            "188/188 [==============================] - 2s 9ms/step - loss: 0.3113 - accuracy: 0.8836 - val_loss: 0.3488 - val_accuracy: 0.8727\n",
            "Epoch 12/20\n",
            "188/188 [==============================] - 2s 9ms/step - loss: 0.3030 - accuracy: 0.8876 - val_loss: 0.3418 - val_accuracy: 0.8742\n",
            "Epoch 13/20\n",
            "188/188 [==============================] - 2s 9ms/step - loss: 0.2931 - accuracy: 0.8901 - val_loss: 0.3416 - val_accuracy: 0.8749\n",
            "Epoch 14/20\n",
            "188/188 [==============================] - 2s 9ms/step - loss: 0.2848 - accuracy: 0.8923 - val_loss: 0.3715 - val_accuracy: 0.8624\n",
            "Epoch 15/20\n",
            "188/188 [==============================] - 2s 9ms/step - loss: 0.2775 - accuracy: 0.8953 - val_loss: 0.3335 - val_accuracy: 0.8824\n",
            "Epoch 16/20\n",
            "188/188 [==============================] - 2s 9ms/step - loss: 0.2705 - accuracy: 0.8966 - val_loss: 0.3426 - val_accuracy: 0.8766\n",
            "Epoch 17/20\n",
            "188/188 [==============================] - 2s 9ms/step - loss: 0.2628 - accuracy: 0.9001 - val_loss: 0.3552 - val_accuracy: 0.8740\n",
            "Epoch 18/20\n",
            "188/188 [==============================] - 2s 9ms/step - loss: 0.2555 - accuracy: 0.9032 - val_loss: 0.3296 - val_accuracy: 0.8832\n",
            "Epoch 19/20\n",
            "188/188 [==============================] - 2s 8ms/step - loss: 0.2488 - accuracy: 0.9053 - val_loss: 0.3420 - val_accuracy: 0.8724\n",
            "Epoch 20/20\n",
            "188/188 [==============================] - 2s 9ms/step - loss: 0.2428 - accuracy: 0.9083 - val_loss: 0.3818 - val_accuracy: 0.8636\n"
          ],
          "name": "stdout"
        },
        {
          "output_type": "display_data",
          "data": {
            "text/html": [
              "<span style=\"color:#4527A0\"><h1 style=\"font-size:18px\">Trial complete</h1></span>"
            ],
            "text/plain": [
              "<IPython.core.display.HTML object>"
            ]
          },
          "metadata": {
            "tags": []
          }
        },
        {
          "output_type": "display_data",
          "data": {
            "text/html": [
              "<span style=\"color:#4527A0\"><h1 style=\"font-size:18px\">Trial summary</h1></span>"
            ],
            "text/plain": [
              "<IPython.core.display.HTML object>"
            ]
          },
          "metadata": {
            "tags": []
          }
        },
        {
          "output_type": "display_data",
          "data": {
            "text/html": [
              "<span style=\"color:cyan\"> |-Trial ID: 71ddd9fdd034cccbb13dd76acd20d0e3</span>"
            ],
            "text/plain": [
              "<IPython.core.display.HTML object>"
            ]
          },
          "metadata": {
            "tags": []
          }
        },
        {
          "output_type": "display_data",
          "data": {
            "text/html": [
              "<span style=\"color:cyan\"> |-Score: 0.8832499980926514</span>"
            ],
            "text/plain": [
              "<IPython.core.display.HTML object>"
            ]
          },
          "metadata": {
            "tags": []
          }
        },
        {
          "output_type": "display_data",
          "data": {
            "text/html": [
              "<span style=\"color:cyan\"> |-Best step: 0</span>"
            ],
            "text/plain": [
              "<IPython.core.display.HTML object>"
            ]
          },
          "metadata": {
            "tags": []
          }
        },
        {
          "output_type": "display_data",
          "data": {
            "text/html": [
              "<span style=\"color:#7E57C2\"><h2 style=\"font-size:16px\">Hyperparameters:</h2></span>"
            ],
            "text/plain": [
              "<IPython.core.display.HTML object>"
            ]
          },
          "metadata": {
            "tags": []
          }
        },
        {
          "output_type": "display_data",
          "data": {
            "text/html": [
              "<span style=\"color:cyan\"> |-activation: sigmoid</span>"
            ],
            "text/plain": [
              "<IPython.core.display.HTML object>"
            ]
          },
          "metadata": {
            "tags": []
          }
        },
        {
          "output_type": "display_data",
          "data": {
            "text/html": [
              "<span style=\"color:blue\"> |-optimizer: rmsprop</span>"
            ],
            "text/plain": [
              "<IPython.core.display.HTML object>"
            ]
          },
          "metadata": {
            "tags": []
          }
        },
        {
          "output_type": "display_data",
          "data": {
            "text/html": [
              "<span style=\"color:cyan\"> |-units_hidden: 416</span>"
            ],
            "text/plain": [
              "<IPython.core.display.HTML object>"
            ]
          },
          "metadata": {
            "tags": []
          }
        },
        {
          "output_type": "display_data",
          "data": {
            "text/html": [
              "<span style=\"color:blue\"> |-units_input: 800</span>"
            ],
            "text/plain": [
              "<IPython.core.display.HTML object>"
            ]
          },
          "metadata": {
            "tags": []
          }
        },
        {
          "output_type": "stream",
          "text": [
            "Epoch 1/20\n",
            "188/188 [==============================] - 1s 8ms/step - loss: 1.0890 - accuracy: 0.6701 - val_loss: 0.7660 - val_accuracy: 0.7577\n",
            "Epoch 2/20\n",
            "188/188 [==============================] - 1s 7ms/step - loss: 0.6957 - accuracy: 0.7741 - val_loss: 0.6377 - val_accuracy: 0.7877\n",
            "Epoch 3/20\n",
            "188/188 [==============================] - 1s 7ms/step - loss: 0.6045 - accuracy: 0.8000 - val_loss: 0.5765 - val_accuracy: 0.8051\n",
            "Epoch 4/20\n",
            "188/188 [==============================] - 1s 7ms/step - loss: 0.5543 - accuracy: 0.8149 - val_loss: 0.5381 - val_accuracy: 0.8169\n",
            "Epoch 5/20\n",
            "188/188 [==============================] - 1s 7ms/step - loss: 0.5223 - accuracy: 0.8232 - val_loss: 0.5160 - val_accuracy: 0.8211\n",
            "Epoch 6/20\n",
            "188/188 [==============================] - 1s 7ms/step - loss: 0.4988 - accuracy: 0.8298 - val_loss: 0.4966 - val_accuracy: 0.8277\n",
            "Epoch 7/20\n",
            "188/188 [==============================] - 1s 7ms/step - loss: 0.4816 - accuracy: 0.8339 - val_loss: 0.4817 - val_accuracy: 0.8293\n",
            "Epoch 8/20\n",
            "188/188 [==============================] - 1s 7ms/step - loss: 0.4680 - accuracy: 0.8374 - val_loss: 0.4698 - val_accuracy: 0.8336\n",
            "Epoch 9/20\n",
            "188/188 [==============================] - 1s 7ms/step - loss: 0.4569 - accuracy: 0.8414 - val_loss: 0.4594 - val_accuracy: 0.8380\n",
            "Epoch 10/20\n",
            "188/188 [==============================] - 1s 7ms/step - loss: 0.4476 - accuracy: 0.8444 - val_loss: 0.4545 - val_accuracy: 0.8379\n",
            "Epoch 11/20\n",
            "188/188 [==============================] - 1s 7ms/step - loss: 0.4394 - accuracy: 0.8461 - val_loss: 0.4465 - val_accuracy: 0.8413\n",
            "Epoch 12/20\n",
            "188/188 [==============================] - 1s 7ms/step - loss: 0.4328 - accuracy: 0.8494 - val_loss: 0.4386 - val_accuracy: 0.8443\n",
            "Epoch 13/20\n",
            "188/188 [==============================] - 1s 7ms/step - loss: 0.4259 - accuracy: 0.8510 - val_loss: 0.4355 - val_accuracy: 0.8445\n",
            "Epoch 14/20\n",
            "188/188 [==============================] - 1s 7ms/step - loss: 0.4209 - accuracy: 0.8527 - val_loss: 0.4336 - val_accuracy: 0.8461\n",
            "Epoch 15/20\n",
            "188/188 [==============================] - 1s 7ms/step - loss: 0.4156 - accuracy: 0.8536 - val_loss: 0.4238 - val_accuracy: 0.8513\n",
            "Epoch 16/20\n",
            "188/188 [==============================] - 1s 7ms/step - loss: 0.4110 - accuracy: 0.8557 - val_loss: 0.4212 - val_accuracy: 0.8497\n",
            "Epoch 17/20\n",
            "188/188 [==============================] - 1s 7ms/step - loss: 0.4068 - accuracy: 0.8572 - val_loss: 0.4181 - val_accuracy: 0.8505\n",
            "Epoch 18/20\n",
            "188/188 [==============================] - 1s 7ms/step - loss: 0.4024 - accuracy: 0.8591 - val_loss: 0.4144 - val_accuracy: 0.8517\n",
            "Epoch 19/20\n",
            "188/188 [==============================] - 1s 7ms/step - loss: 0.3988 - accuracy: 0.8600 - val_loss: 0.4107 - val_accuracy: 0.8558\n",
            "Epoch 20/20\n",
            "188/188 [==============================] - 1s 7ms/step - loss: 0.3955 - accuracy: 0.8615 - val_loss: 0.4121 - val_accuracy: 0.8542\n"
          ],
          "name": "stdout"
        },
        {
          "output_type": "display_data",
          "data": {
            "text/html": [
              "<span style=\"color:#4527A0\"><h1 style=\"font-size:18px\">Trial complete</h1></span>"
            ],
            "text/plain": [
              "<IPython.core.display.HTML object>"
            ]
          },
          "metadata": {
            "tags": []
          }
        },
        {
          "output_type": "display_data",
          "data": {
            "text/html": [
              "<span style=\"color:#4527A0\"><h1 style=\"font-size:18px\">Trial summary</h1></span>"
            ],
            "text/plain": [
              "<IPython.core.display.HTML object>"
            ]
          },
          "metadata": {
            "tags": []
          }
        },
        {
          "output_type": "display_data",
          "data": {
            "text/html": [
              "<span style=\"color:cyan\"> |-Trial ID: ac0ee749c0ddf8e70b7484aeac1d5471</span>"
            ],
            "text/plain": [
              "<IPython.core.display.HTML object>"
            ]
          },
          "metadata": {
            "tags": []
          }
        },
        {
          "output_type": "display_data",
          "data": {
            "text/html": [
              "<span style=\"color:cyan\"> |-Score: 0.8557500243186951</span>"
            ],
            "text/plain": [
              "<IPython.core.display.HTML object>"
            ]
          },
          "metadata": {
            "tags": []
          }
        },
        {
          "output_type": "display_data",
          "data": {
            "text/html": [
              "<span style=\"color:cyan\"> |-Best step: 0</span>"
            ],
            "text/plain": [
              "<IPython.core.display.HTML object>"
            ]
          },
          "metadata": {
            "tags": []
          }
        },
        {
          "output_type": "display_data",
          "data": {
            "text/html": [
              "<span style=\"color:#7E57C2\"><h2 style=\"font-size:16px\">Hyperparameters:</h2></span>"
            ],
            "text/plain": [
              "<IPython.core.display.HTML object>"
            ]
          },
          "metadata": {
            "tags": []
          }
        },
        {
          "output_type": "display_data",
          "data": {
            "text/html": [
              "<span style=\"color:cyan\"> |-activation: tanh</span>"
            ],
            "text/plain": [
              "<IPython.core.display.HTML object>"
            ]
          },
          "metadata": {
            "tags": []
          }
        },
        {
          "output_type": "display_data",
          "data": {
            "text/html": [
              "<span style=\"color:blue\"> |-optimizer: SGD</span>"
            ],
            "text/plain": [
              "<IPython.core.display.HTML object>"
            ]
          },
          "metadata": {
            "tags": []
          }
        },
        {
          "output_type": "display_data",
          "data": {
            "text/html": [
              "<span style=\"color:cyan\"> |-units_hidden: 160</span>"
            ],
            "text/plain": [
              "<IPython.core.display.HTML object>"
            ]
          },
          "metadata": {
            "tags": []
          }
        },
        {
          "output_type": "display_data",
          "data": {
            "text/html": [
              "<span style=\"color:blue\"> |-units_input: 864</span>"
            ],
            "text/plain": [
              "<IPython.core.display.HTML object>"
            ]
          },
          "metadata": {
            "tags": []
          }
        },
        {
          "output_type": "stream",
          "text": [
            "Epoch 1/20\n",
            "188/188 [==============================] - 2s 9ms/step - loss: 0.9607 - accuracy: 0.7059 - val_loss: 0.5374 - val_accuracy: 0.7831\n",
            "Epoch 2/20\n",
            "188/188 [==============================] - 1s 8ms/step - loss: 0.5312 - accuracy: 0.8035 - val_loss: 0.5810 - val_accuracy: 0.7782\n",
            "Epoch 3/20\n",
            "188/188 [==============================] - 1s 8ms/step - loss: 0.4433 - accuracy: 0.8338 - val_loss: 0.6380 - val_accuracy: 0.7812\n",
            "Epoch 4/20\n",
            "188/188 [==============================] - 1s 8ms/step - loss: 0.4023 - accuracy: 0.8510 - val_loss: 0.4104 - val_accuracy: 0.8440\n",
            "Epoch 5/20\n",
            "188/188 [==============================] - 1s 7ms/step - loss: 0.3647 - accuracy: 0.8615 - val_loss: 0.4632 - val_accuracy: 0.8361\n",
            "Epoch 6/20\n",
            "188/188 [==============================] - 1s 7ms/step - loss: 0.3429 - accuracy: 0.8704 - val_loss: 0.4279 - val_accuracy: 0.8339\n",
            "Epoch 7/20\n",
            "188/188 [==============================] - 1s 7ms/step - loss: 0.3182 - accuracy: 0.8791 - val_loss: 0.3619 - val_accuracy: 0.8660\n",
            "Epoch 8/20\n",
            "188/188 [==============================] - 1s 7ms/step - loss: 0.3028 - accuracy: 0.8846 - val_loss: 0.3375 - val_accuracy: 0.8793\n",
            "Epoch 9/20\n",
            "188/188 [==============================] - 1s 8ms/step - loss: 0.2824 - accuracy: 0.8924 - val_loss: 0.4050 - val_accuracy: 0.8575\n",
            "Epoch 10/20\n",
            "188/188 [==============================] - 1s 7ms/step - loss: 0.2747 - accuracy: 0.8949 - val_loss: 0.3376 - val_accuracy: 0.8797\n",
            "Epoch 11/20\n",
            "188/188 [==============================] - 1s 7ms/step - loss: 0.2602 - accuracy: 0.9000 - val_loss: 0.4580 - val_accuracy: 0.8422\n",
            "Epoch 12/20\n",
            "188/188 [==============================] - 1s 8ms/step - loss: 0.2503 - accuracy: 0.9040 - val_loss: 0.3443 - val_accuracy: 0.8863\n",
            "Epoch 13/20\n",
            "188/188 [==============================] - 1s 8ms/step - loss: 0.2396 - accuracy: 0.9083 - val_loss: 0.3793 - val_accuracy: 0.8649\n",
            "Epoch 14/20\n",
            "188/188 [==============================] - 1s 7ms/step - loss: 0.2311 - accuracy: 0.9113 - val_loss: 0.3749 - val_accuracy: 0.8805\n",
            "Epoch 15/20\n",
            "188/188 [==============================] - 1s 7ms/step - loss: 0.2222 - accuracy: 0.9135 - val_loss: 0.3329 - val_accuracy: 0.8886\n",
            "Epoch 16/20\n",
            "188/188 [==============================] - 1s 7ms/step - loss: 0.2174 - accuracy: 0.9158 - val_loss: 0.4340 - val_accuracy: 0.8755\n",
            "Epoch 17/20\n",
            "188/188 [==============================] - 1s 7ms/step - loss: 0.2073 - accuracy: 0.9200 - val_loss: 0.3794 - val_accuracy: 0.8780\n",
            "Epoch 18/20\n",
            "188/188 [==============================] - 1s 8ms/step - loss: 0.2006 - accuracy: 0.9212 - val_loss: 0.3330 - val_accuracy: 0.8923\n",
            "Epoch 19/20\n",
            "188/188 [==============================] - 1s 7ms/step - loss: 0.1942 - accuracy: 0.9237 - val_loss: 0.4313 - val_accuracy: 0.8723\n",
            "Epoch 20/20\n",
            "188/188 [==============================] - 1s 7ms/step - loss: 0.1848 - accuracy: 0.9283 - val_loss: 0.4423 - val_accuracy: 0.8723\n"
          ],
          "name": "stdout"
        },
        {
          "output_type": "display_data",
          "data": {
            "text/html": [
              "<span style=\"color:#4527A0\"><h1 style=\"font-size:18px\">Trial complete</h1></span>"
            ],
            "text/plain": [
              "<IPython.core.display.HTML object>"
            ]
          },
          "metadata": {
            "tags": []
          }
        },
        {
          "output_type": "display_data",
          "data": {
            "text/html": [
              "<span style=\"color:#4527A0\"><h1 style=\"font-size:18px\">Trial summary</h1></span>"
            ],
            "text/plain": [
              "<IPython.core.display.HTML object>"
            ]
          },
          "metadata": {
            "tags": []
          }
        },
        {
          "output_type": "display_data",
          "data": {
            "text/html": [
              "<span style=\"color:cyan\"> |-Trial ID: edf09208763e4be4ae2f659d02737a7c</span>"
            ],
            "text/plain": [
              "<IPython.core.display.HTML object>"
            ]
          },
          "metadata": {
            "tags": []
          }
        },
        {
          "output_type": "display_data",
          "data": {
            "text/html": [
              "<span style=\"color:cyan\"> |-Score: 0.8922500014305115</span>"
            ],
            "text/plain": [
              "<IPython.core.display.HTML object>"
            ]
          },
          "metadata": {
            "tags": []
          }
        },
        {
          "output_type": "display_data",
          "data": {
            "text/html": [
              "<span style=\"color:cyan\"> |-Best step: 0</span>"
            ],
            "text/plain": [
              "<IPython.core.display.HTML object>"
            ]
          },
          "metadata": {
            "tags": []
          }
        },
        {
          "output_type": "display_data",
          "data": {
            "text/html": [
              "<span style=\"color:#7E57C2\"><h2 style=\"font-size:16px\">Hyperparameters:</h2></span>"
            ],
            "text/plain": [
              "<IPython.core.display.HTML object>"
            ]
          },
          "metadata": {
            "tags": []
          }
        },
        {
          "output_type": "display_data",
          "data": {
            "text/html": [
              "<span style=\"color:cyan\"> |-activation: selu</span>"
            ],
            "text/plain": [
              "<IPython.core.display.HTML object>"
            ]
          },
          "metadata": {
            "tags": []
          }
        },
        {
          "output_type": "display_data",
          "data": {
            "text/html": [
              "<span style=\"color:blue\"> |-optimizer: rmsprop</span>"
            ],
            "text/plain": [
              "<IPython.core.display.HTML object>"
            ]
          },
          "metadata": {
            "tags": []
          }
        },
        {
          "output_type": "display_data",
          "data": {
            "text/html": [
              "<span style=\"color:cyan\"> |-units_hidden: 160</span>"
            ],
            "text/plain": [
              "<IPython.core.display.HTML object>"
            ]
          },
          "metadata": {
            "tags": []
          }
        },
        {
          "output_type": "display_data",
          "data": {
            "text/html": [
              "<span style=\"color:blue\"> |-units_input: 704</span>"
            ],
            "text/plain": [
              "<IPython.core.display.HTML object>"
            ]
          },
          "metadata": {
            "tags": []
          }
        },
        {
          "output_type": "stream",
          "text": [
            "Epoch 1/20\n",
            "188/188 [==============================] - 1s 6ms/step - loss: 2.3137 - accuracy: 0.1139 - val_loss: 2.2952 - val_accuracy: 0.1005\n",
            "Epoch 2/20\n",
            "188/188 [==============================] - 1s 6ms/step - loss: 2.2932 - accuracy: 0.1567 - val_loss: 2.2905 - val_accuracy: 0.2632\n",
            "Epoch 3/20\n",
            "188/188 [==============================] - 1s 6ms/step - loss: 2.2881 - accuracy: 0.2035 - val_loss: 2.2849 - val_accuracy: 0.2380\n",
            "Epoch 4/20\n",
            "188/188 [==============================] - 1s 6ms/step - loss: 2.2824 - accuracy: 0.2368 - val_loss: 2.2791 - val_accuracy: 0.2313\n",
            "Epoch 5/20\n",
            "188/188 [==============================] - 1s 6ms/step - loss: 2.2761 - accuracy: 0.2471 - val_loss: 2.2726 - val_accuracy: 0.2023\n",
            "Epoch 6/20\n",
            "188/188 [==============================] - 1s 6ms/step - loss: 2.2687 - accuracy: 0.3012 - val_loss: 2.2647 - val_accuracy: 0.2511\n",
            "Epoch 7/20\n",
            "188/188 [==============================] - 1s 6ms/step - loss: 2.2599 - accuracy: 0.3233 - val_loss: 2.2546 - val_accuracy: 0.3998\n",
            "Epoch 8/20\n",
            "188/188 [==============================] - 1s 6ms/step - loss: 2.2492 - accuracy: 0.3522 - val_loss: 2.2426 - val_accuracy: 0.2562\n",
            "Epoch 9/20\n",
            "188/188 [==============================] - 1s 6ms/step - loss: 2.2358 - accuracy: 0.3513 - val_loss: 2.2278 - val_accuracy: 0.3399\n",
            "Epoch 10/20\n",
            "188/188 [==============================] - 1s 6ms/step - loss: 2.2187 - accuracy: 0.3741 - val_loss: 2.2082 - val_accuracy: 0.4805\n",
            "Epoch 11/20\n",
            "188/188 [==============================] - 1s 6ms/step - loss: 2.1964 - accuracy: 0.3740 - val_loss: 2.1826 - val_accuracy: 0.2387\n",
            "Epoch 12/20\n",
            "188/188 [==============================] - 1s 6ms/step - loss: 2.1671 - accuracy: 0.3838 - val_loss: 2.1487 - val_accuracy: 0.3034\n",
            "Epoch 13/20\n",
            "188/188 [==============================] - 1s 6ms/step - loss: 2.1287 - accuracy: 0.3772 - val_loss: 2.1052 - val_accuracy: 0.3361\n",
            "Epoch 14/20\n",
            "188/188 [==============================] - 1s 6ms/step - loss: 2.0790 - accuracy: 0.3900 - val_loss: 2.0489 - val_accuracy: 0.3939\n",
            "Epoch 15/20\n",
            "188/188 [==============================] - 1s 6ms/step - loss: 2.0175 - accuracy: 0.3856 - val_loss: 1.9822 - val_accuracy: 0.4478\n",
            "Epoch 16/20\n",
            "188/188 [==============================] - 1s 6ms/step - loss: 1.9471 - accuracy: 0.3964 - val_loss: 1.9093 - val_accuracy: 0.3803\n",
            "Epoch 17/20\n",
            "188/188 [==============================] - 1s 6ms/step - loss: 1.8739 - accuracy: 0.4052 - val_loss: 1.8368 - val_accuracy: 0.4249\n",
            "Epoch 18/20\n",
            "188/188 [==============================] - 1s 6ms/step - loss: 1.8048 - accuracy: 0.4193 - val_loss: 1.7707 - val_accuracy: 0.4214\n",
            "Epoch 19/20\n",
            "188/188 [==============================] - 1s 6ms/step - loss: 1.7433 - accuracy: 0.4420 - val_loss: 1.7137 - val_accuracy: 0.4987\n",
            "Epoch 20/20\n",
            "188/188 [==============================] - 1s 6ms/step - loss: 1.6900 - accuracy: 0.4575 - val_loss: 1.6629 - val_accuracy: 0.5236\n"
          ],
          "name": "stdout"
        },
        {
          "output_type": "display_data",
          "data": {
            "text/html": [
              "<span style=\"color:#4527A0\"><h1 style=\"font-size:18px\">Trial complete</h1></span>"
            ],
            "text/plain": [
              "<IPython.core.display.HTML object>"
            ]
          },
          "metadata": {
            "tags": []
          }
        },
        {
          "output_type": "display_data",
          "data": {
            "text/html": [
              "<span style=\"color:#4527A0\"><h1 style=\"font-size:18px\">Trial summary</h1></span>"
            ],
            "text/plain": [
              "<IPython.core.display.HTML object>"
            ]
          },
          "metadata": {
            "tags": []
          }
        },
        {
          "output_type": "display_data",
          "data": {
            "text/html": [
              "<span style=\"color:cyan\"> |-Trial ID: 274e36deaf24af62ea52446f1d5df040</span>"
            ],
            "text/plain": [
              "<IPython.core.display.HTML object>"
            ]
          },
          "metadata": {
            "tags": []
          }
        },
        {
          "output_type": "display_data",
          "data": {
            "text/html": [
              "<span style=\"color:cyan\"> |-Score: 0.5235833525657654</span>"
            ],
            "text/plain": [
              "<IPython.core.display.HTML object>"
            ]
          },
          "metadata": {
            "tags": []
          }
        },
        {
          "output_type": "display_data",
          "data": {
            "text/html": [
              "<span style=\"color:cyan\"> |-Best step: 0</span>"
            ],
            "text/plain": [
              "<IPython.core.display.HTML object>"
            ]
          },
          "metadata": {
            "tags": []
          }
        },
        {
          "output_type": "display_data",
          "data": {
            "text/html": [
              "<span style=\"color:#7E57C2\"><h2 style=\"font-size:16px\">Hyperparameters:</h2></span>"
            ],
            "text/plain": [
              "<IPython.core.display.HTML object>"
            ]
          },
          "metadata": {
            "tags": []
          }
        },
        {
          "output_type": "display_data",
          "data": {
            "text/html": [
              "<span style=\"color:cyan\"> |-activation: sigmoid</span>"
            ],
            "text/plain": [
              "<IPython.core.display.HTML object>"
            ]
          },
          "metadata": {
            "tags": []
          }
        },
        {
          "output_type": "display_data",
          "data": {
            "text/html": [
              "<span style=\"color:blue\"> |-optimizer: SGD</span>"
            ],
            "text/plain": [
              "<IPython.core.display.HTML object>"
            ]
          },
          "metadata": {
            "tags": []
          }
        },
        {
          "output_type": "display_data",
          "data": {
            "text/html": [
              "<span style=\"color:cyan\"> |-units_hidden: 160</span>"
            ],
            "text/plain": [
              "<IPython.core.display.HTML object>"
            ]
          },
          "metadata": {
            "tags": []
          }
        },
        {
          "output_type": "display_data",
          "data": {
            "text/html": [
              "<span style=\"color:blue\"> |-units_input: 512</span>"
            ],
            "text/plain": [
              "<IPython.core.display.HTML object>"
            ]
          },
          "metadata": {
            "tags": []
          }
        },
        {
          "output_type": "stream",
          "text": [
            "Epoch 1/20\n",
            "188/188 [==============================] - 2s 8ms/step - loss: 0.5370 - accuracy: 0.8085 - val_loss: 0.4159 - val_accuracy: 0.8481\n",
            "Epoch 2/20\n",
            "188/188 [==============================] - 1s 8ms/step - loss: 0.3785 - accuracy: 0.8604 - val_loss: 0.4031 - val_accuracy: 0.8507\n",
            "Epoch 3/20\n",
            "188/188 [==============================] - 1s 8ms/step - loss: 0.3402 - accuracy: 0.8755 - val_loss: 0.3431 - val_accuracy: 0.8738\n",
            "Epoch 4/20\n",
            "188/188 [==============================] - 1s 8ms/step - loss: 0.3145 - accuracy: 0.8836 - val_loss: 0.3380 - val_accuracy: 0.8783\n",
            "Epoch 5/20\n",
            "188/188 [==============================] - 1s 8ms/step - loss: 0.2977 - accuracy: 0.8884 - val_loss: 0.3337 - val_accuracy: 0.8783\n",
            "Epoch 6/20\n",
            "188/188 [==============================] - 1s 8ms/step - loss: 0.2717 - accuracy: 0.8993 - val_loss: 0.3188 - val_accuracy: 0.8829\n",
            "Epoch 7/20\n",
            "188/188 [==============================] - 1s 8ms/step - loss: 0.2567 - accuracy: 0.9043 - val_loss: 0.3283 - val_accuracy: 0.8810\n",
            "Epoch 8/20\n",
            "188/188 [==============================] - 1s 8ms/step - loss: 0.2508 - accuracy: 0.9046 - val_loss: 0.3211 - val_accuracy: 0.8843\n",
            "Epoch 9/20\n",
            "188/188 [==============================] - 1s 7ms/step - loss: 0.2356 - accuracy: 0.9122 - val_loss: 0.3399 - val_accuracy: 0.8776\n",
            "Epoch 10/20\n",
            "188/188 [==============================] - 1s 8ms/step - loss: 0.2275 - accuracy: 0.9137 - val_loss: 0.3465 - val_accuracy: 0.8748\n",
            "Epoch 11/20\n",
            "188/188 [==============================] - 1s 8ms/step - loss: 0.2109 - accuracy: 0.9209 - val_loss: 0.3026 - val_accuracy: 0.8930\n",
            "Epoch 12/20\n",
            "188/188 [==============================] - 1s 8ms/step - loss: 0.2059 - accuracy: 0.9228 - val_loss: 0.3272 - val_accuracy: 0.8812\n",
            "Epoch 13/20\n",
            "188/188 [==============================] - 1s 8ms/step - loss: 0.1940 - accuracy: 0.9256 - val_loss: 0.3491 - val_accuracy: 0.8779\n",
            "Epoch 14/20\n",
            "188/188 [==============================] - 1s 7ms/step - loss: 0.1856 - accuracy: 0.9295 - val_loss: 0.3305 - val_accuracy: 0.8875\n",
            "Epoch 15/20\n",
            "188/188 [==============================] - 1s 8ms/step - loss: 0.1788 - accuracy: 0.9329 - val_loss: 0.3145 - val_accuracy: 0.8958\n",
            "Epoch 16/20\n",
            "188/188 [==============================] - 1s 7ms/step - loss: 0.1695 - accuracy: 0.9362 - val_loss: 0.3193 - val_accuracy: 0.8917\n",
            "Epoch 17/20\n",
            "188/188 [==============================] - 1s 7ms/step - loss: 0.1615 - accuracy: 0.9384 - val_loss: 0.3261 - val_accuracy: 0.8883\n",
            "Epoch 18/20\n",
            "188/188 [==============================] - 1s 8ms/step - loss: 0.1509 - accuracy: 0.9441 - val_loss: 0.3307 - val_accuracy: 0.8912\n",
            "Epoch 19/20\n",
            "188/188 [==============================] - 1s 7ms/step - loss: 0.1449 - accuracy: 0.9455 - val_loss: 0.3404 - val_accuracy: 0.8872\n",
            "Epoch 20/20\n",
            "188/188 [==============================] - 1s 7ms/step - loss: 0.1411 - accuracy: 0.9462 - val_loss: 0.3282 - val_accuracy: 0.8909\n"
          ],
          "name": "stdout"
        },
        {
          "output_type": "display_data",
          "data": {
            "text/html": [
              "<span style=\"color:#4527A0\"><h1 style=\"font-size:18px\">Trial complete</h1></span>"
            ],
            "text/plain": [
              "<IPython.core.display.HTML object>"
            ]
          },
          "metadata": {
            "tags": []
          }
        },
        {
          "output_type": "display_data",
          "data": {
            "text/html": [
              "<span style=\"color:#4527A0\"><h1 style=\"font-size:18px\">Trial summary</h1></span>"
            ],
            "text/plain": [
              "<IPython.core.display.HTML object>"
            ]
          },
          "metadata": {
            "tags": []
          }
        },
        {
          "output_type": "display_data",
          "data": {
            "text/html": [
              "<span style=\"color:cyan\"> |-Trial ID: fd9dfbdf50e33df154dbe02e96e2ee00</span>"
            ],
            "text/plain": [
              "<IPython.core.display.HTML object>"
            ]
          },
          "metadata": {
            "tags": []
          }
        },
        {
          "output_type": "display_data",
          "data": {
            "text/html": [
              "<span style=\"color:cyan\"> |-Score: 0.8958333134651184</span>"
            ],
            "text/plain": [
              "<IPython.core.display.HTML object>"
            ]
          },
          "metadata": {
            "tags": []
          }
        },
        {
          "output_type": "display_data",
          "data": {
            "text/html": [
              "<span style=\"color:cyan\"> |-Best step: 0</span>"
            ],
            "text/plain": [
              "<IPython.core.display.HTML object>"
            ]
          },
          "metadata": {
            "tags": []
          }
        },
        {
          "output_type": "display_data",
          "data": {
            "text/html": [
              "<span style=\"color:#7E57C2\"><h2 style=\"font-size:16px\">Hyperparameters:</h2></span>"
            ],
            "text/plain": [
              "<IPython.core.display.HTML object>"
            ]
          },
          "metadata": {
            "tags": []
          }
        },
        {
          "output_type": "display_data",
          "data": {
            "text/html": [
              "<span style=\"color:cyan\"> |-activation: tanh</span>"
            ],
            "text/plain": [
              "<IPython.core.display.HTML object>"
            ]
          },
          "metadata": {
            "tags": []
          }
        },
        {
          "output_type": "display_data",
          "data": {
            "text/html": [
              "<span style=\"color:blue\"> |-optimizer: adam</span>"
            ],
            "text/plain": [
              "<IPython.core.display.HTML object>"
            ]
          },
          "metadata": {
            "tags": []
          }
        },
        {
          "output_type": "display_data",
          "data": {
            "text/html": [
              "<span style=\"color:cyan\"> |-units_hidden: 384</span>"
            ],
            "text/plain": [
              "<IPython.core.display.HTML object>"
            ]
          },
          "metadata": {
            "tags": []
          }
        },
        {
          "output_type": "display_data",
          "data": {
            "text/html": [
              "<span style=\"color:blue\"> |-units_input: 960</span>"
            ],
            "text/plain": [
              "<IPython.core.display.HTML object>"
            ]
          },
          "metadata": {
            "tags": []
          }
        },
        {
          "output_type": "stream",
          "text": [
            "Epoch 1/20\n",
            "188/188 [==============================] - 2s 8ms/step - loss: 0.6233 - accuracy: 0.7950 - val_loss: 0.4116 - val_accuracy: 0.8523\n",
            "Epoch 2/20\n",
            "188/188 [==============================] - 1s 8ms/step - loss: 0.4005 - accuracy: 0.8541 - val_loss: 0.4247 - val_accuracy: 0.8483\n",
            "Epoch 3/20\n",
            "188/188 [==============================] - 2s 8ms/step - loss: 0.3711 - accuracy: 0.8639 - val_loss: 0.3717 - val_accuracy: 0.8626\n",
            "Epoch 4/20\n",
            "188/188 [==============================] - 1s 8ms/step - loss: 0.3318 - accuracy: 0.8782 - val_loss: 0.3816 - val_accuracy: 0.8654\n",
            "Epoch 5/20\n",
            "188/188 [==============================] - 1s 7ms/step - loss: 0.3207 - accuracy: 0.8819 - val_loss: 0.3832 - val_accuracy: 0.8631\n",
            "Epoch 6/20\n",
            "188/188 [==============================] - 1s 8ms/step - loss: 0.2943 - accuracy: 0.8912 - val_loss: 0.3407 - val_accuracy: 0.8773\n",
            "Epoch 7/20\n",
            "188/188 [==============================] - 1s 8ms/step - loss: 0.2888 - accuracy: 0.8922 - val_loss: 0.3610 - val_accuracy: 0.8757\n",
            "Epoch 8/20\n",
            "188/188 [==============================] - 1s 8ms/step - loss: 0.2751 - accuracy: 0.8980 - val_loss: 0.3740 - val_accuracy: 0.8737\n",
            "Epoch 9/20\n",
            "188/188 [==============================] - 2s 8ms/step - loss: 0.2693 - accuracy: 0.8991 - val_loss: 0.3345 - val_accuracy: 0.8820\n",
            "Epoch 10/20\n",
            "188/188 [==============================] - 1s 8ms/step - loss: 0.2463 - accuracy: 0.9065 - val_loss: 0.3373 - val_accuracy: 0.8832\n",
            "Epoch 11/20\n",
            "188/188 [==============================] - 1s 8ms/step - loss: 0.2461 - accuracy: 0.9074 - val_loss: 0.3592 - val_accuracy: 0.8757\n",
            "Epoch 12/20\n",
            "188/188 [==============================] - 1s 8ms/step - loss: 0.2330 - accuracy: 0.9120 - val_loss: 0.3386 - val_accuracy: 0.8842\n",
            "Epoch 13/20\n",
            "188/188 [==============================] - 1s 8ms/step - loss: 0.2220 - accuracy: 0.9167 - val_loss: 0.3411 - val_accuracy: 0.8903\n",
            "Epoch 14/20\n",
            "188/188 [==============================] - 1s 8ms/step - loss: 0.2160 - accuracy: 0.9185 - val_loss: 0.3534 - val_accuracy: 0.8817\n",
            "Epoch 15/20\n",
            "188/188 [==============================] - 1s 7ms/step - loss: 0.2186 - accuracy: 0.9168 - val_loss: 0.3629 - val_accuracy: 0.8753\n",
            "Epoch 16/20\n",
            "188/188 [==============================] - 1s 8ms/step - loss: 0.2017 - accuracy: 0.9236 - val_loss: 0.4078 - val_accuracy: 0.8763\n",
            "Epoch 17/20\n",
            "188/188 [==============================] - 1s 8ms/step - loss: 0.1988 - accuracy: 0.9236 - val_loss: 0.3853 - val_accuracy: 0.8737\n",
            "Epoch 18/20\n",
            "188/188 [==============================] - 1s 8ms/step - loss: 0.1830 - accuracy: 0.9308 - val_loss: 0.3627 - val_accuracy: 0.8854\n",
            "Epoch 19/20\n",
            "188/188 [==============================] - 1s 8ms/step - loss: 0.1863 - accuracy: 0.9290 - val_loss: 0.3663 - val_accuracy: 0.8831\n",
            "Epoch 20/20\n",
            "188/188 [==============================] - 1s 8ms/step - loss: 0.1865 - accuracy: 0.9304 - val_loss: 0.3853 - val_accuracy: 0.8828\n"
          ],
          "name": "stdout"
        },
        {
          "output_type": "display_data",
          "data": {
            "text/html": [
              "<span style=\"color:#4527A0\"><h1 style=\"font-size:18px\">Trial complete</h1></span>"
            ],
            "text/plain": [
              "<IPython.core.display.HTML object>"
            ]
          },
          "metadata": {
            "tags": []
          }
        },
        {
          "output_type": "display_data",
          "data": {
            "text/html": [
              "<span style=\"color:#4527A0\"><h1 style=\"font-size:18px\">Trial summary</h1></span>"
            ],
            "text/plain": [
              "<IPython.core.display.HTML object>"
            ]
          },
          "metadata": {
            "tags": []
          }
        },
        {
          "output_type": "display_data",
          "data": {
            "text/html": [
              "<span style=\"color:cyan\"> |-Trial ID: 193b4d43a671e6eb1abf464d9c351170</span>"
            ],
            "text/plain": [
              "<IPython.core.display.HTML object>"
            ]
          },
          "metadata": {
            "tags": []
          }
        },
        {
          "output_type": "display_data",
          "data": {
            "text/html": [
              "<span style=\"color:cyan\"> |-Score: 0.890333354473114</span>"
            ],
            "text/plain": [
              "<IPython.core.display.HTML object>"
            ]
          },
          "metadata": {
            "tags": []
          }
        },
        {
          "output_type": "display_data",
          "data": {
            "text/html": [
              "<span style=\"color:cyan\"> |-Best step: 0</span>"
            ],
            "text/plain": [
              "<IPython.core.display.HTML object>"
            ]
          },
          "metadata": {
            "tags": []
          }
        },
        {
          "output_type": "display_data",
          "data": {
            "text/html": [
              "<span style=\"color:#7E57C2\"><h2 style=\"font-size:16px\">Hyperparameters:</h2></span>"
            ],
            "text/plain": [
              "<IPython.core.display.HTML object>"
            ]
          },
          "metadata": {
            "tags": []
          }
        },
        {
          "output_type": "display_data",
          "data": {
            "text/html": [
              "<span style=\"color:cyan\"> |-activation: selu</span>"
            ],
            "text/plain": [
              "<IPython.core.display.HTML object>"
            ]
          },
          "metadata": {
            "tags": []
          }
        },
        {
          "output_type": "display_data",
          "data": {
            "text/html": [
              "<span style=\"color:blue\"> |-optimizer: adam</span>"
            ],
            "text/plain": [
              "<IPython.core.display.HTML object>"
            ]
          },
          "metadata": {
            "tags": []
          }
        },
        {
          "output_type": "display_data",
          "data": {
            "text/html": [
              "<span style=\"color:cyan\"> |-units_hidden: 448</span>"
            ],
            "text/plain": [
              "<IPython.core.display.HTML object>"
            ]
          },
          "metadata": {
            "tags": []
          }
        },
        {
          "output_type": "display_data",
          "data": {
            "text/html": [
              "<span style=\"color:blue\"> |-units_input: 832</span>"
            ],
            "text/plain": [
              "<IPython.core.display.HTML object>"
            ]
          },
          "metadata": {
            "tags": []
          }
        },
        {
          "output_type": "stream",
          "text": [
            "Epoch 1/20\n",
            "188/188 [==============================] - 1s 7ms/step - loss: 0.7676 - accuracy: 0.7410 - val_loss: 0.5636 - val_accuracy: 0.8058\n",
            "Epoch 2/20\n",
            "188/188 [==============================] - 1s 6ms/step - loss: 0.5294 - accuracy: 0.8169 - val_loss: 0.5011 - val_accuracy: 0.8233\n",
            "Epoch 3/20\n",
            "188/188 [==============================] - 1s 7ms/step - loss: 0.4805 - accuracy: 0.8318 - val_loss: 0.4747 - val_accuracy: 0.8271\n",
            "Epoch 4/20\n",
            "188/188 [==============================] - 1s 6ms/step - loss: 0.4552 - accuracy: 0.8403 - val_loss: 0.4627 - val_accuracy: 0.8341\n",
            "Epoch 5/20\n",
            "188/188 [==============================] - 1s 6ms/step - loss: 0.4401 - accuracy: 0.8445 - val_loss: 0.4848 - val_accuracy: 0.8276\n",
            "Epoch 6/20\n",
            "188/188 [==============================] - 1s 7ms/step - loss: 0.4267 - accuracy: 0.8496 - val_loss: 0.4382 - val_accuracy: 0.8424\n",
            "Epoch 7/20\n",
            "188/188 [==============================] - 1s 7ms/step - loss: 0.4173 - accuracy: 0.8531 - val_loss: 0.4232 - val_accuracy: 0.8497\n",
            "Epoch 8/20\n",
            "188/188 [==============================] - 1s 6ms/step - loss: 0.4082 - accuracy: 0.8564 - val_loss: 0.4230 - val_accuracy: 0.8481\n",
            "Epoch 9/20\n",
            "188/188 [==============================] - 1s 7ms/step - loss: 0.4024 - accuracy: 0.8584 - val_loss: 0.4110 - val_accuracy: 0.8528\n",
            "Epoch 10/20\n",
            "188/188 [==============================] - 1s 7ms/step - loss: 0.3963 - accuracy: 0.8597 - val_loss: 0.4099 - val_accuracy: 0.8528\n",
            "Epoch 11/20\n",
            "188/188 [==============================] - 1s 7ms/step - loss: 0.3884 - accuracy: 0.8624 - val_loss: 0.4002 - val_accuracy: 0.8582\n",
            "Epoch 12/20\n",
            "188/188 [==============================] - 1s 6ms/step - loss: 0.3849 - accuracy: 0.8637 - val_loss: 0.4179 - val_accuracy: 0.8503\n",
            "Epoch 13/20\n",
            "188/188 [==============================] - 1s 6ms/step - loss: 0.3782 - accuracy: 0.8671 - val_loss: 0.4210 - val_accuracy: 0.8487\n",
            "Epoch 14/20\n",
            "188/188 [==============================] - 1s 7ms/step - loss: 0.3753 - accuracy: 0.8673 - val_loss: 0.3987 - val_accuracy: 0.8586\n",
            "Epoch 15/20\n",
            "188/188 [==============================] - 1s 7ms/step - loss: 0.3704 - accuracy: 0.8687 - val_loss: 0.3926 - val_accuracy: 0.8593\n",
            "Epoch 16/20\n",
            "188/188 [==============================] - 1s 7ms/step - loss: 0.3694 - accuracy: 0.8693 - val_loss: 0.3937 - val_accuracy: 0.8593\n",
            "Epoch 17/20\n",
            "188/188 [==============================] - 1s 6ms/step - loss: 0.3621 - accuracy: 0.8715 - val_loss: 0.3835 - val_accuracy: 0.8625\n",
            "Epoch 18/20\n",
            "188/188 [==============================] - 1s 6ms/step - loss: 0.3595 - accuracy: 0.8734 - val_loss: 0.4072 - val_accuracy: 0.8498\n",
            "Epoch 19/20\n",
            "188/188 [==============================] - 1s 6ms/step - loss: 0.3580 - accuracy: 0.8735 - val_loss: 0.3987 - val_accuracy: 0.8568\n",
            "Epoch 20/20\n",
            "188/188 [==============================] - 1s 6ms/step - loss: 0.3529 - accuracy: 0.8741 - val_loss: 0.3743 - val_accuracy: 0.8652\n"
          ],
          "name": "stdout"
        },
        {
          "output_type": "display_data",
          "data": {
            "text/html": [
              "<span style=\"color:#4527A0\"><h1 style=\"font-size:18px\">Trial complete</h1></span>"
            ],
            "text/plain": [
              "<IPython.core.display.HTML object>"
            ]
          },
          "metadata": {
            "tags": []
          }
        },
        {
          "output_type": "display_data",
          "data": {
            "text/html": [
              "<span style=\"color:#4527A0\"><h1 style=\"font-size:18px\">Trial summary</h1></span>"
            ],
            "text/plain": [
              "<IPython.core.display.HTML object>"
            ]
          },
          "metadata": {
            "tags": []
          }
        },
        {
          "output_type": "display_data",
          "data": {
            "text/html": [
              "<span style=\"color:cyan\"> |-Trial ID: c72b7853ea7fcb15bc12f6d40613b20f</span>"
            ],
            "text/plain": [
              "<IPython.core.display.HTML object>"
            ]
          },
          "metadata": {
            "tags": []
          }
        },
        {
          "output_type": "display_data",
          "data": {
            "text/html": [
              "<span style=\"color:cyan\"> |-Score: 0.8651666641235352</span>"
            ],
            "text/plain": [
              "<IPython.core.display.HTML object>"
            ]
          },
          "metadata": {
            "tags": []
          }
        },
        {
          "output_type": "display_data",
          "data": {
            "text/html": [
              "<span style=\"color:cyan\"> |-Best step: 0</span>"
            ],
            "text/plain": [
              "<IPython.core.display.HTML object>"
            ]
          },
          "metadata": {
            "tags": []
          }
        },
        {
          "output_type": "display_data",
          "data": {
            "text/html": [
              "<span style=\"color:#7E57C2\"><h2 style=\"font-size:16px\">Hyperparameters:</h2></span>"
            ],
            "text/plain": [
              "<IPython.core.display.HTML object>"
            ]
          },
          "metadata": {
            "tags": []
          }
        },
        {
          "output_type": "display_data",
          "data": {
            "text/html": [
              "<span style=\"color:cyan\"> |-activation: selu</span>"
            ],
            "text/plain": [
              "<IPython.core.display.HTML object>"
            ]
          },
          "metadata": {
            "tags": []
          }
        },
        {
          "output_type": "display_data",
          "data": {
            "text/html": [
              "<span style=\"color:blue\"> |-optimizer: SGD</span>"
            ],
            "text/plain": [
              "<IPython.core.display.HTML object>"
            ]
          },
          "metadata": {
            "tags": []
          }
        },
        {
          "output_type": "display_data",
          "data": {
            "text/html": [
              "<span style=\"color:cyan\"> |-units_hidden: 192</span>"
            ],
            "text/plain": [
              "<IPython.core.display.HTML object>"
            ]
          },
          "metadata": {
            "tags": []
          }
        },
        {
          "output_type": "display_data",
          "data": {
            "text/html": [
              "<span style=\"color:blue\"> |-units_input: 864</span>"
            ],
            "text/plain": [
              "<IPython.core.display.HTML object>"
            ]
          },
          "metadata": {
            "tags": []
          }
        },
        {
          "output_type": "stream",
          "text": [
            "Epoch 1/20\n",
            "188/188 [==============================] - 2s 8ms/step - loss: 1.0955 - accuracy: 0.6891 - val_loss: 0.7327 - val_accuracy: 0.7495\n",
            "Epoch 2/20\n",
            "188/188 [==============================] - 1s 8ms/step - loss: 0.5740 - accuracy: 0.7929 - val_loss: 0.5417 - val_accuracy: 0.7793\n",
            "Epoch 3/20\n",
            "188/188 [==============================] - 1s 7ms/step - loss: 0.4778 - accuracy: 0.8254 - val_loss: 0.4677 - val_accuracy: 0.8247\n",
            "Epoch 4/20\n",
            "188/188 [==============================] - 1s 7ms/step - loss: 0.4162 - accuracy: 0.8458 - val_loss: 0.4934 - val_accuracy: 0.8159\n",
            "Epoch 5/20\n",
            "188/188 [==============================] - 1s 7ms/step - loss: 0.3777 - accuracy: 0.8594 - val_loss: 0.4666 - val_accuracy: 0.8201\n",
            "Epoch 6/20\n",
            "188/188 [==============================] - 1s 8ms/step - loss: 0.3513 - accuracy: 0.8663 - val_loss: 0.3708 - val_accuracy: 0.8664\n",
            "Epoch 7/20\n",
            "188/188 [==============================] - 1s 7ms/step - loss: 0.3254 - accuracy: 0.8768 - val_loss: 0.4185 - val_accuracy: 0.8421\n",
            "Epoch 8/20\n",
            "188/188 [==============================] - 1s 7ms/step - loss: 0.3120 - accuracy: 0.8822 - val_loss: 0.4168 - val_accuracy: 0.8488\n",
            "Epoch 9/20\n",
            "188/188 [==============================] - 1s 7ms/step - loss: 0.2923 - accuracy: 0.8894 - val_loss: 0.4145 - val_accuracy: 0.8547\n",
            "Epoch 10/20\n",
            "188/188 [==============================] - 1s 8ms/step - loss: 0.2797 - accuracy: 0.8931 - val_loss: 0.3564 - val_accuracy: 0.8670\n",
            "Epoch 11/20\n",
            "188/188 [==============================] - 1s 7ms/step - loss: 0.2673 - accuracy: 0.8982 - val_loss: 0.3613 - val_accuracy: 0.8778\n",
            "Epoch 12/20\n",
            "188/188 [==============================] - 1s 7ms/step - loss: 0.2565 - accuracy: 0.9027 - val_loss: 0.3769 - val_accuracy: 0.8712\n",
            "Epoch 13/20\n",
            "188/188 [==============================] - 1s 7ms/step - loss: 0.2450 - accuracy: 0.9064 - val_loss: 0.4352 - val_accuracy: 0.8518\n",
            "Epoch 14/20\n",
            "188/188 [==============================] - 1s 7ms/step - loss: 0.2356 - accuracy: 0.9094 - val_loss: 0.3440 - val_accuracy: 0.8852\n",
            "Epoch 15/20\n",
            "188/188 [==============================] - 1s 8ms/step - loss: 0.2268 - accuracy: 0.9131 - val_loss: 0.4078 - val_accuracy: 0.8672\n",
            "Epoch 16/20\n",
            "188/188 [==============================] - 2s 8ms/step - loss: 0.2165 - accuracy: 0.9169 - val_loss: 0.4086 - val_accuracy: 0.8658\n",
            "Epoch 17/20\n",
            "188/188 [==============================] - 1s 8ms/step - loss: 0.2090 - accuracy: 0.9203 - val_loss: 0.3882 - val_accuracy: 0.8776\n",
            "Epoch 18/20\n",
            "188/188 [==============================] - 2s 8ms/step - loss: 0.1981 - accuracy: 0.9230 - val_loss: 0.3832 - val_accuracy: 0.8835\n",
            "Epoch 19/20\n",
            "188/188 [==============================] - 2s 8ms/step - loss: 0.1925 - accuracy: 0.9259 - val_loss: 0.4016 - val_accuracy: 0.8811\n",
            "Epoch 20/20\n",
            "188/188 [==============================] - 2s 8ms/step - loss: 0.1844 - accuracy: 0.9279 - val_loss: 0.4860 - val_accuracy: 0.8597\n"
          ],
          "name": "stdout"
        },
        {
          "output_type": "display_data",
          "data": {
            "text/html": [
              "<span style=\"color:#4527A0\"><h1 style=\"font-size:18px\">Trial complete</h1></span>"
            ],
            "text/plain": [
              "<IPython.core.display.HTML object>"
            ]
          },
          "metadata": {
            "tags": []
          }
        },
        {
          "output_type": "display_data",
          "data": {
            "text/html": [
              "<span style=\"color:#4527A0\"><h1 style=\"font-size:18px\">Trial summary</h1></span>"
            ],
            "text/plain": [
              "<IPython.core.display.HTML object>"
            ]
          },
          "metadata": {
            "tags": []
          }
        },
        {
          "output_type": "display_data",
          "data": {
            "text/html": [
              "<span style=\"color:cyan\"> |-Trial ID: 8df4fcb7c6cb37bc8a2ba3504989b2f3</span>"
            ],
            "text/plain": [
              "<IPython.core.display.HTML object>"
            ]
          },
          "metadata": {
            "tags": []
          }
        },
        {
          "output_type": "display_data",
          "data": {
            "text/html": [
              "<span style=\"color:cyan\"> |-Score: 0.8851666450500488</span>"
            ],
            "text/plain": [
              "<IPython.core.display.HTML object>"
            ]
          },
          "metadata": {
            "tags": []
          }
        },
        {
          "output_type": "display_data",
          "data": {
            "text/html": [
              "<span style=\"color:cyan\"> |-Best step: 0</span>"
            ],
            "text/plain": [
              "<IPython.core.display.HTML object>"
            ]
          },
          "metadata": {
            "tags": []
          }
        },
        {
          "output_type": "display_data",
          "data": {
            "text/html": [
              "<span style=\"color:#7E57C2\"><h2 style=\"font-size:16px\">Hyperparameters:</h2></span>"
            ],
            "text/plain": [
              "<IPython.core.display.HTML object>"
            ]
          },
          "metadata": {
            "tags": []
          }
        },
        {
          "output_type": "display_data",
          "data": {
            "text/html": [
              "<span style=\"color:cyan\"> |-activation: selu</span>"
            ],
            "text/plain": [
              "<IPython.core.display.HTML object>"
            ]
          },
          "metadata": {
            "tags": []
          }
        },
        {
          "output_type": "display_data",
          "data": {
            "text/html": [
              "<span style=\"color:blue\"> |-optimizer: rmsprop</span>"
            ],
            "text/plain": [
              "<IPython.core.display.HTML object>"
            ]
          },
          "metadata": {
            "tags": []
          }
        },
        {
          "output_type": "display_data",
          "data": {
            "text/html": [
              "<span style=\"color:cyan\"> |-units_hidden: 256</span>"
            ],
            "text/plain": [
              "<IPython.core.display.HTML object>"
            ]
          },
          "metadata": {
            "tags": []
          }
        },
        {
          "output_type": "display_data",
          "data": {
            "text/html": [
              "<span style=\"color:blue\"> |-units_input: 576</span>"
            ],
            "text/plain": [
              "<IPython.core.display.HTML object>"
            ]
          },
          "metadata": {
            "tags": []
          }
        },
        {
          "output_type": "stream",
          "text": [
            "Epoch 1/20\n",
            "188/188 [==============================] - 2s 9ms/step - loss: 0.5680 - accuracy: 0.7974 - val_loss: 0.4173 - val_accuracy: 0.8509\n",
            "Epoch 2/20\n",
            "188/188 [==============================] - 1s 8ms/step - loss: 0.4075 - accuracy: 0.8525 - val_loss: 0.4541 - val_accuracy: 0.8382\n",
            "Epoch 3/20\n",
            "188/188 [==============================] - 1s 8ms/step - loss: 0.3648 - accuracy: 0.8661 - val_loss: 0.4066 - val_accuracy: 0.8553\n",
            "Epoch 4/20\n",
            "188/188 [==============================] - 2s 8ms/step - loss: 0.3375 - accuracy: 0.8756 - val_loss: 0.4050 - val_accuracy: 0.8576\n",
            "Epoch 5/20\n",
            "188/188 [==============================] - 2s 8ms/step - loss: 0.3082 - accuracy: 0.8844 - val_loss: 0.3206 - val_accuracy: 0.8846\n",
            "Epoch 6/20\n",
            "188/188 [==============================] - 1s 8ms/step - loss: 0.2988 - accuracy: 0.8879 - val_loss: 0.3507 - val_accuracy: 0.8677\n",
            "Epoch 7/20\n",
            "188/188 [==============================] - 1s 8ms/step - loss: 0.2840 - accuracy: 0.8939 - val_loss: 0.3271 - val_accuracy: 0.8836\n",
            "Epoch 8/20\n",
            "188/188 [==============================] - 1s 8ms/step - loss: 0.2767 - accuracy: 0.8935 - val_loss: 0.3163 - val_accuracy: 0.8868\n",
            "Epoch 9/20\n",
            "188/188 [==============================] - 1s 8ms/step - loss: 0.2647 - accuracy: 0.9017 - val_loss: 0.3307 - val_accuracy: 0.8813\n",
            "Epoch 10/20\n",
            "188/188 [==============================] - 1s 8ms/step - loss: 0.2502 - accuracy: 0.9053 - val_loss: 0.3380 - val_accuracy: 0.8849\n",
            "Epoch 11/20\n",
            "188/188 [==============================] - 1s 8ms/step - loss: 0.2396 - accuracy: 0.9095 - val_loss: 0.3368 - val_accuracy: 0.8819\n",
            "Epoch 12/20\n",
            "188/188 [==============================] - 1s 8ms/step - loss: 0.2263 - accuracy: 0.9143 - val_loss: 0.3689 - val_accuracy: 0.8754\n",
            "Epoch 13/20\n",
            "188/188 [==============================] - 1s 8ms/step - loss: 0.2247 - accuracy: 0.9140 - val_loss: 0.3396 - val_accuracy: 0.8882\n",
            "Epoch 14/20\n",
            "188/188 [==============================] - 2s 8ms/step - loss: 0.2190 - accuracy: 0.9160 - val_loss: 0.3523 - val_accuracy: 0.8842\n",
            "Epoch 15/20\n",
            "188/188 [==============================] - 2s 8ms/step - loss: 0.2089 - accuracy: 0.9212 - val_loss: 0.3477 - val_accuracy: 0.8899\n",
            "Epoch 16/20\n",
            "188/188 [==============================] - 2s 8ms/step - loss: 0.1923 - accuracy: 0.9262 - val_loss: 0.3685 - val_accuracy: 0.8817\n",
            "Epoch 17/20\n",
            "188/188 [==============================] - 1s 8ms/step - loss: 0.1861 - accuracy: 0.9296 - val_loss: 0.3598 - val_accuracy: 0.8892\n",
            "Epoch 18/20\n",
            "188/188 [==============================] - 2s 8ms/step - loss: 0.1783 - accuracy: 0.9316 - val_loss: 0.3558 - val_accuracy: 0.8928\n",
            "Epoch 19/20\n",
            "188/188 [==============================] - 2s 8ms/step - loss: 0.1700 - accuracy: 0.9344 - val_loss: 0.3606 - val_accuracy: 0.8945\n",
            "Epoch 20/20\n",
            "188/188 [==============================] - 1s 8ms/step - loss: 0.1650 - accuracy: 0.9369 - val_loss: 0.3601 - val_accuracy: 0.8874\n"
          ],
          "name": "stdout"
        },
        {
          "output_type": "display_data",
          "data": {
            "text/html": [
              "<span style=\"color:#4527A0\"><h1 style=\"font-size:18px\">Trial complete</h1></span>"
            ],
            "text/plain": [
              "<IPython.core.display.HTML object>"
            ]
          },
          "metadata": {
            "tags": []
          }
        },
        {
          "output_type": "display_data",
          "data": {
            "text/html": [
              "<span style=\"color:#4527A0\"><h1 style=\"font-size:18px\">Trial summary</h1></span>"
            ],
            "text/plain": [
              "<IPython.core.display.HTML object>"
            ]
          },
          "metadata": {
            "tags": []
          }
        },
        {
          "output_type": "display_data",
          "data": {
            "text/html": [
              "<span style=\"color:cyan\"> |-Trial ID: 6fb2fa28b89e835cc9799507413fd70e</span>"
            ],
            "text/plain": [
              "<IPython.core.display.HTML object>"
            ]
          },
          "metadata": {
            "tags": []
          }
        },
        {
          "output_type": "display_data",
          "data": {
            "text/html": [
              "<span style=\"color:cyan\"> |-Score: 0.8945000171661377</span>"
            ],
            "text/plain": [
              "<IPython.core.display.HTML object>"
            ]
          },
          "metadata": {
            "tags": []
          }
        },
        {
          "output_type": "display_data",
          "data": {
            "text/html": [
              "<span style=\"color:cyan\"> |-Best step: 0</span>"
            ],
            "text/plain": [
              "<IPython.core.display.HTML object>"
            ]
          },
          "metadata": {
            "tags": []
          }
        },
        {
          "output_type": "display_data",
          "data": {
            "text/html": [
              "<span style=\"color:#7E57C2\"><h2 style=\"font-size:16px\">Hyperparameters:</h2></span>"
            ],
            "text/plain": [
              "<IPython.core.display.HTML object>"
            ]
          },
          "metadata": {
            "tags": []
          }
        },
        {
          "output_type": "display_data",
          "data": {
            "text/html": [
              "<span style=\"color:cyan\"> |-activation: elu</span>"
            ],
            "text/plain": [
              "<IPython.core.display.HTML object>"
            ]
          },
          "metadata": {
            "tags": []
          }
        },
        {
          "output_type": "display_data",
          "data": {
            "text/html": [
              "<span style=\"color:blue\"> |-optimizer: adam</span>"
            ],
            "text/plain": [
              "<IPython.core.display.HTML object>"
            ]
          },
          "metadata": {
            "tags": []
          }
        },
        {
          "output_type": "display_data",
          "data": {
            "text/html": [
              "<span style=\"color:cyan\"> |-units_hidden: 576</span>"
            ],
            "text/plain": [
              "<IPython.core.display.HTML object>"
            ]
          },
          "metadata": {
            "tags": []
          }
        },
        {
          "output_type": "display_data",
          "data": {
            "text/html": [
              "<span style=\"color:blue\"> |-units_input: 736</span>"
            ],
            "text/plain": [
              "<IPython.core.display.HTML object>"
            ]
          },
          "metadata": {
            "tags": []
          }
        },
        {
          "output_type": "stream",
          "text": [
            "Epoch 1/20\n",
            "188/188 [==============================] - 1s 7ms/step - loss: 1.4848 - accuracy: 0.5853 - val_loss: 0.9751 - val_accuracy: 0.6868\n",
            "Epoch 2/20\n",
            "188/188 [==============================] - 1s 6ms/step - loss: 0.8312 - accuracy: 0.7299 - val_loss: 0.7248 - val_accuracy: 0.7648\n",
            "Epoch 3/20\n",
            "188/188 [==============================] - 1s 6ms/step - loss: 0.6748 - accuracy: 0.7805 - val_loss: 0.6272 - val_accuracy: 0.7936\n",
            "Epoch 4/20\n",
            "188/188 [==============================] - 1s 6ms/step - loss: 0.5988 - accuracy: 0.8026 - val_loss: 0.5966 - val_accuracy: 0.7986\n",
            "Epoch 5/20\n",
            "188/188 [==============================] - 1s 6ms/step - loss: 0.5539 - accuracy: 0.8154 - val_loss: 0.5446 - val_accuracy: 0.8152\n",
            "Epoch 6/20\n",
            "188/188 [==============================] - 1s 6ms/step - loss: 0.5228 - accuracy: 0.8231 - val_loss: 0.5204 - val_accuracy: 0.8204\n",
            "Epoch 7/20\n",
            "188/188 [==============================] - 1s 6ms/step - loss: 0.5011 - accuracy: 0.8299 - val_loss: 0.4954 - val_accuracy: 0.8289\n",
            "Epoch 8/20\n",
            "188/188 [==============================] - 1s 6ms/step - loss: 0.4851 - accuracy: 0.8339 - val_loss: 0.4770 - val_accuracy: 0.8363\n",
            "Epoch 9/20\n",
            "188/188 [==============================] - 1s 6ms/step - loss: 0.4724 - accuracy: 0.8384 - val_loss: 0.4745 - val_accuracy: 0.8378\n",
            "Epoch 10/20\n",
            "188/188 [==============================] - 1s 6ms/step - loss: 0.4615 - accuracy: 0.8415 - val_loss: 0.4702 - val_accuracy: 0.8384\n",
            "Epoch 11/20\n",
            "188/188 [==============================] - 1s 6ms/step - loss: 0.4529 - accuracy: 0.8436 - val_loss: 0.4589 - val_accuracy: 0.8407\n",
            "Epoch 12/20\n",
            "188/188 [==============================] - 1s 6ms/step - loss: 0.4431 - accuracy: 0.8475 - val_loss: 0.4766 - val_accuracy: 0.8297\n",
            "Epoch 13/20\n",
            "188/188 [==============================] - 1s 6ms/step - loss: 0.4368 - accuracy: 0.8480 - val_loss: 0.4510 - val_accuracy: 0.8438\n",
            "Epoch 14/20\n",
            "188/188 [==============================] - 1s 6ms/step - loss: 0.4343 - accuracy: 0.8489 - val_loss: 0.4645 - val_accuracy: 0.8422\n",
            "Epoch 15/20\n",
            "188/188 [==============================] - 1s 6ms/step - loss: 0.4257 - accuracy: 0.8520 - val_loss: 0.4301 - val_accuracy: 0.8521\n",
            "Epoch 16/20\n",
            "188/188 [==============================] - 1s 6ms/step - loss: 0.4193 - accuracy: 0.8551 - val_loss: 0.4837 - val_accuracy: 0.8228\n",
            "Epoch 17/20\n",
            "188/188 [==============================] - 1s 6ms/step - loss: 0.4152 - accuracy: 0.8553 - val_loss: 0.4225 - val_accuracy: 0.8524\n",
            "Epoch 18/20\n",
            "188/188 [==============================] - 1s 6ms/step - loss: 0.4085 - accuracy: 0.8570 - val_loss: 0.4218 - val_accuracy: 0.8510\n",
            "Epoch 19/20\n",
            "188/188 [==============================] - 1s 6ms/step - loss: 0.4049 - accuracy: 0.8594 - val_loss: 0.4164 - val_accuracy: 0.8548\n",
            "Epoch 20/20\n",
            "188/188 [==============================] - 1s 6ms/step - loss: 0.3985 - accuracy: 0.8611 - val_loss: 0.4440 - val_accuracy: 0.8462\n"
          ],
          "name": "stdout"
        },
        {
          "output_type": "display_data",
          "data": {
            "text/html": [
              "<span style=\"color:#4527A0\"><h1 style=\"font-size:18px\">Trial complete</h1></span>"
            ],
            "text/plain": [
              "<IPython.core.display.HTML object>"
            ]
          },
          "metadata": {
            "tags": []
          }
        },
        {
          "output_type": "display_data",
          "data": {
            "text/html": [
              "<span style=\"color:#4527A0\"><h1 style=\"font-size:18px\">Trial summary</h1></span>"
            ],
            "text/plain": [
              "<IPython.core.display.HTML object>"
            ]
          },
          "metadata": {
            "tags": []
          }
        },
        {
          "output_type": "display_data",
          "data": {
            "text/html": [
              "<span style=\"color:cyan\"> |-Trial ID: eed7a57f3736aaab1fd4aa2c7f668a59</span>"
            ],
            "text/plain": [
              "<IPython.core.display.HTML object>"
            ]
          },
          "metadata": {
            "tags": []
          }
        },
        {
          "output_type": "display_data",
          "data": {
            "text/html": [
              "<span style=\"color:cyan\"> |-Score: 0.8548333048820496</span>"
            ],
            "text/plain": [
              "<IPython.core.display.HTML object>"
            ]
          },
          "metadata": {
            "tags": []
          }
        },
        {
          "output_type": "display_data",
          "data": {
            "text/html": [
              "<span style=\"color:cyan\"> |-Best step: 0</span>"
            ],
            "text/plain": [
              "<IPython.core.display.HTML object>"
            ]
          },
          "metadata": {
            "tags": []
          }
        },
        {
          "output_type": "display_data",
          "data": {
            "text/html": [
              "<span style=\"color:#7E57C2\"><h2 style=\"font-size:16px\">Hyperparameters:</h2></span>"
            ],
            "text/plain": [
              "<IPython.core.display.HTML object>"
            ]
          },
          "metadata": {
            "tags": []
          }
        },
        {
          "output_type": "display_data",
          "data": {
            "text/html": [
              "<span style=\"color:cyan\"> |-activation: relu</span>"
            ],
            "text/plain": [
              "<IPython.core.display.HTML object>"
            ]
          },
          "metadata": {
            "tags": []
          }
        },
        {
          "output_type": "display_data",
          "data": {
            "text/html": [
              "<span style=\"color:blue\"> |-optimizer: SGD</span>"
            ],
            "text/plain": [
              "<IPython.core.display.HTML object>"
            ]
          },
          "metadata": {
            "tags": []
          }
        },
        {
          "output_type": "display_data",
          "data": {
            "text/html": [
              "<span style=\"color:cyan\"> |-units_hidden: 160</span>"
            ],
            "text/plain": [
              "<IPython.core.display.HTML object>"
            ]
          },
          "metadata": {
            "tags": []
          }
        },
        {
          "output_type": "display_data",
          "data": {
            "text/html": [
              "<span style=\"color:blue\"> |-units_input: 800</span>"
            ],
            "text/plain": [
              "<IPython.core.display.HTML object>"
            ]
          },
          "metadata": {
            "tags": []
          }
        },
        {
          "output_type": "stream",
          "text": [
            "Epoch 1/20\n",
            "188/188 [==============================] - 1s 7ms/step - loss: 1.3755 - accuracy: 0.5979 - val_loss: 0.8841 - val_accuracy: 0.7125\n",
            "Epoch 2/20\n",
            "188/188 [==============================] - 1s 7ms/step - loss: 0.7606 - accuracy: 0.7569 - val_loss: 0.6720 - val_accuracy: 0.7863\n",
            "Epoch 3/20\n",
            "188/188 [==============================] - 1s 7ms/step - loss: 0.6349 - accuracy: 0.7926 - val_loss: 0.5983 - val_accuracy: 0.8025\n",
            "Epoch 4/20\n",
            "188/188 [==============================] - 1s 7ms/step - loss: 0.5740 - accuracy: 0.8086 - val_loss: 0.5689 - val_accuracy: 0.8026\n",
            "Epoch 5/20\n",
            "188/188 [==============================] - 1s 7ms/step - loss: 0.5373 - accuracy: 0.8186 - val_loss: 0.5473 - val_accuracy: 0.8083\n",
            "Epoch 6/20\n",
            "188/188 [==============================] - 1s 7ms/step - loss: 0.5112 - accuracy: 0.8256 - val_loss: 0.5026 - val_accuracy: 0.8277\n",
            "Epoch 7/20\n",
            "188/188 [==============================] - 1s 7ms/step - loss: 0.4934 - accuracy: 0.8309 - val_loss: 0.4864 - val_accuracy: 0.8318\n",
            "Epoch 8/20\n",
            "188/188 [==============================] - 1s 7ms/step - loss: 0.4786 - accuracy: 0.8345 - val_loss: 0.4954 - val_accuracy: 0.8258\n",
            "Epoch 9/20\n",
            "188/188 [==============================] - 1s 7ms/step - loss: 0.4676 - accuracy: 0.8380 - val_loss: 0.4713 - val_accuracy: 0.8344\n",
            "Epoch 10/20\n",
            "188/188 [==============================] - 1s 7ms/step - loss: 0.4572 - accuracy: 0.8408 - val_loss: 0.4566 - val_accuracy: 0.8429\n",
            "Epoch 11/20\n",
            "188/188 [==============================] - 1s 7ms/step - loss: 0.4488 - accuracy: 0.8437 - val_loss: 0.4733 - val_accuracy: 0.8290\n",
            "Epoch 12/20\n",
            "188/188 [==============================] - 1s 7ms/step - loss: 0.4396 - accuracy: 0.8455 - val_loss: 0.4752 - val_accuracy: 0.8293\n",
            "Epoch 13/20\n",
            "188/188 [==============================] - 1s 7ms/step - loss: 0.4335 - accuracy: 0.8486 - val_loss: 0.4373 - val_accuracy: 0.8473\n",
            "Epoch 14/20\n",
            "188/188 [==============================] - 1s 6ms/step - loss: 0.4257 - accuracy: 0.8522 - val_loss: 0.4355 - val_accuracy: 0.8453\n",
            "Epoch 15/20\n",
            "188/188 [==============================] - 1s 7ms/step - loss: 0.4193 - accuracy: 0.8535 - val_loss: 0.4275 - val_accuracy: 0.8512\n",
            "Epoch 16/20\n",
            "188/188 [==============================] - 1s 7ms/step - loss: 0.4156 - accuracy: 0.8546 - val_loss: 0.4226 - val_accuracy: 0.8537\n",
            "Epoch 17/20\n",
            "188/188 [==============================] - 1s 7ms/step - loss: 0.4107 - accuracy: 0.8566 - val_loss: 0.4593 - val_accuracy: 0.8350\n",
            "Epoch 18/20\n",
            "188/188 [==============================] - 1s 7ms/step - loss: 0.4054 - accuracy: 0.8584 - val_loss: 0.4108 - val_accuracy: 0.8567\n",
            "Epoch 19/20\n",
            "188/188 [==============================] - 1s 7ms/step - loss: 0.4012 - accuracy: 0.8591 - val_loss: 0.4238 - val_accuracy: 0.8463\n",
            "Epoch 20/20\n",
            "188/188 [==============================] - 1s 6ms/step - loss: 0.3955 - accuracy: 0.8621 - val_loss: 0.4118 - val_accuracy: 0.8556\n"
          ],
          "name": "stdout"
        },
        {
          "output_type": "display_data",
          "data": {
            "text/html": [
              "<span style=\"color:#4527A0\"><h1 style=\"font-size:18px\">Trial complete</h1></span>"
            ],
            "text/plain": [
              "<IPython.core.display.HTML object>"
            ]
          },
          "metadata": {
            "tags": []
          }
        },
        {
          "output_type": "display_data",
          "data": {
            "text/html": [
              "<span style=\"color:#4527A0\"><h1 style=\"font-size:18px\">Trial summary</h1></span>"
            ],
            "text/plain": [
              "<IPython.core.display.HTML object>"
            ]
          },
          "metadata": {
            "tags": []
          }
        },
        {
          "output_type": "display_data",
          "data": {
            "text/html": [
              "<span style=\"color:cyan\"> |-Trial ID: df243c17da802b60e15ad6f81bdd831a</span>"
            ],
            "text/plain": [
              "<IPython.core.display.HTML object>"
            ]
          },
          "metadata": {
            "tags": []
          }
        },
        {
          "output_type": "display_data",
          "data": {
            "text/html": [
              "<span style=\"color:cyan\"> |-Score: 0.8566666841506958</span>"
            ],
            "text/plain": [
              "<IPython.core.display.HTML object>"
            ]
          },
          "metadata": {
            "tags": []
          }
        },
        {
          "output_type": "display_data",
          "data": {
            "text/html": [
              "<span style=\"color:cyan\"> |-Best step: 0</span>"
            ],
            "text/plain": [
              "<IPython.core.display.HTML object>"
            ]
          },
          "metadata": {
            "tags": []
          }
        },
        {
          "output_type": "display_data",
          "data": {
            "text/html": [
              "<span style=\"color:#7E57C2\"><h2 style=\"font-size:16px\">Hyperparameters:</h2></span>"
            ],
            "text/plain": [
              "<IPython.core.display.HTML object>"
            ]
          },
          "metadata": {
            "tags": []
          }
        },
        {
          "output_type": "display_data",
          "data": {
            "text/html": [
              "<span style=\"color:cyan\"> |-activation: relu</span>"
            ],
            "text/plain": [
              "<IPython.core.display.HTML object>"
            ]
          },
          "metadata": {
            "tags": []
          }
        },
        {
          "output_type": "display_data",
          "data": {
            "text/html": [
              "<span style=\"color:blue\"> |-optimizer: SGD</span>"
            ],
            "text/plain": [
              "<IPython.core.display.HTML object>"
            ]
          },
          "metadata": {
            "tags": []
          }
        },
        {
          "output_type": "display_data",
          "data": {
            "text/html": [
              "<span style=\"color:cyan\"> |-units_hidden: 224</span>"
            ],
            "text/plain": [
              "<IPython.core.display.HTML object>"
            ]
          },
          "metadata": {
            "tags": []
          }
        },
        {
          "output_type": "display_data",
          "data": {
            "text/html": [
              "<span style=\"color:blue\"> |-units_input: 928</span>"
            ],
            "text/plain": [
              "<IPython.core.display.HTML object>"
            ]
          },
          "metadata": {
            "tags": []
          }
        },
        {
          "output_type": "stream",
          "text": [
            "Epoch 1/20\n",
            "188/188 [==============================] - 2s 10ms/step - loss: 1.0082 - accuracy: 0.6879 - val_loss: 0.7629 - val_accuracy: 0.7081\n",
            "Epoch 2/20\n",
            "188/188 [==============================] - 2s 9ms/step - loss: 0.5654 - accuracy: 0.7889 - val_loss: 0.4241 - val_accuracy: 0.8467\n",
            "Epoch 3/20\n",
            "188/188 [==============================] - 2s 9ms/step - loss: 0.4605 - accuracy: 0.8267 - val_loss: 0.5616 - val_accuracy: 0.8147\n",
            "Epoch 4/20\n",
            "188/188 [==============================] - 2s 9ms/step - loss: 0.4068 - accuracy: 0.8485 - val_loss: 0.4482 - val_accuracy: 0.8267\n",
            "Epoch 5/20\n",
            "188/188 [==============================] - 2s 9ms/step - loss: 0.3695 - accuracy: 0.8598 - val_loss: 0.4997 - val_accuracy: 0.8160\n",
            "Epoch 6/20\n",
            "188/188 [==============================] - 2s 9ms/step - loss: 0.3459 - accuracy: 0.8689 - val_loss: 0.3886 - val_accuracy: 0.8605\n",
            "Epoch 7/20\n",
            "188/188 [==============================] - 2s 9ms/step - loss: 0.3208 - accuracy: 0.8778 - val_loss: 0.6401 - val_accuracy: 0.7907\n",
            "Epoch 8/20\n",
            "188/188 [==============================] - 2s 9ms/step - loss: 0.3069 - accuracy: 0.8831 - val_loss: 0.4789 - val_accuracy: 0.8386\n",
            "Epoch 9/20\n",
            "188/188 [==============================] - 2s 9ms/step - loss: 0.2874 - accuracy: 0.8905 - val_loss: 0.3585 - val_accuracy: 0.8724\n",
            "Epoch 10/20\n",
            "188/188 [==============================] - 2s 9ms/step - loss: 0.2720 - accuracy: 0.8958 - val_loss: 0.3736 - val_accuracy: 0.8687\n",
            "Epoch 11/20\n",
            "188/188 [==============================] - 2s 9ms/step - loss: 0.2597 - accuracy: 0.9002 - val_loss: 0.3663 - val_accuracy: 0.8744\n",
            "Epoch 12/20\n",
            "188/188 [==============================] - 2s 9ms/step - loss: 0.2491 - accuracy: 0.9039 - val_loss: 0.3894 - val_accuracy: 0.8749\n",
            "Epoch 13/20\n",
            "188/188 [==============================] - 2s 9ms/step - loss: 0.2378 - accuracy: 0.9091 - val_loss: 0.3886 - val_accuracy: 0.8720\n",
            "Epoch 14/20\n",
            "188/188 [==============================] - 2s 9ms/step - loss: 0.2289 - accuracy: 0.9112 - val_loss: 0.3919 - val_accuracy: 0.8774\n",
            "Epoch 15/20\n",
            "188/188 [==============================] - 2s 9ms/step - loss: 0.2187 - accuracy: 0.9162 - val_loss: 0.4290 - val_accuracy: 0.8728\n",
            "Epoch 16/20\n",
            "188/188 [==============================] - 2s 9ms/step - loss: 0.2134 - accuracy: 0.9172 - val_loss: 0.3892 - val_accuracy: 0.8884\n",
            "Epoch 17/20\n",
            "188/188 [==============================] - 2s 9ms/step - loss: 0.2011 - accuracy: 0.9228 - val_loss: 0.4315 - val_accuracy: 0.8812\n",
            "Epoch 18/20\n",
            "188/188 [==============================] - 2s 10ms/step - loss: 0.1943 - accuracy: 0.9256 - val_loss: 0.3950 - val_accuracy: 0.8830\n",
            "Epoch 19/20\n",
            "188/188 [==============================] - 2s 9ms/step - loss: 0.1869 - accuracy: 0.9273 - val_loss: 0.4660 - val_accuracy: 0.8717\n",
            "Epoch 20/20\n",
            "188/188 [==============================] - 2s 9ms/step - loss: 0.1794 - accuracy: 0.9310 - val_loss: 0.4884 - val_accuracy: 0.8772\n"
          ],
          "name": "stdout"
        },
        {
          "output_type": "display_data",
          "data": {
            "text/html": [
              "<span style=\"color:#4527A0\"><h1 style=\"font-size:18px\">Trial complete</h1></span>"
            ],
            "text/plain": [
              "<IPython.core.display.HTML object>"
            ]
          },
          "metadata": {
            "tags": []
          }
        },
        {
          "output_type": "display_data",
          "data": {
            "text/html": [
              "<span style=\"color:#4527A0\"><h1 style=\"font-size:18px\">Trial summary</h1></span>"
            ],
            "text/plain": [
              "<IPython.core.display.HTML object>"
            ]
          },
          "metadata": {
            "tags": []
          }
        },
        {
          "output_type": "display_data",
          "data": {
            "text/html": [
              "<span style=\"color:cyan\"> |-Trial ID: 4baef67ad1c3cd9decb6410e55fc9942</span>"
            ],
            "text/plain": [
              "<IPython.core.display.HTML object>"
            ]
          },
          "metadata": {
            "tags": []
          }
        },
        {
          "output_type": "display_data",
          "data": {
            "text/html": [
              "<span style=\"color:cyan\"> |-Score: 0.8884166479110718</span>"
            ],
            "text/plain": [
              "<IPython.core.display.HTML object>"
            ]
          },
          "metadata": {
            "tags": []
          }
        },
        {
          "output_type": "display_data",
          "data": {
            "text/html": [
              "<span style=\"color:cyan\"> |-Best step: 0</span>"
            ],
            "text/plain": [
              "<IPython.core.display.HTML object>"
            ]
          },
          "metadata": {
            "tags": []
          }
        },
        {
          "output_type": "display_data",
          "data": {
            "text/html": [
              "<span style=\"color:#7E57C2\"><h2 style=\"font-size:16px\">Hyperparameters:</h2></span>"
            ],
            "text/plain": [
              "<IPython.core.display.HTML object>"
            ]
          },
          "metadata": {
            "tags": []
          }
        },
        {
          "output_type": "display_data",
          "data": {
            "text/html": [
              "<span style=\"color:cyan\"> |-activation: elu</span>"
            ],
            "text/plain": [
              "<IPython.core.display.HTML object>"
            ]
          },
          "metadata": {
            "tags": []
          }
        },
        {
          "output_type": "display_data",
          "data": {
            "text/html": [
              "<span style=\"color:blue\"> |-optimizer: rmsprop</span>"
            ],
            "text/plain": [
              "<IPython.core.display.HTML object>"
            ]
          },
          "metadata": {
            "tags": []
          }
        },
        {
          "output_type": "display_data",
          "data": {
            "text/html": [
              "<span style=\"color:cyan\"> |-units_hidden: 448</span>"
            ],
            "text/plain": [
              "<IPython.core.display.HTML object>"
            ]
          },
          "metadata": {
            "tags": []
          }
        },
        {
          "output_type": "display_data",
          "data": {
            "text/html": [
              "<span style=\"color:blue\"> |-units_input: 928</span>"
            ],
            "text/plain": [
              "<IPython.core.display.HTML object>"
            ]
          },
          "metadata": {
            "tags": []
          }
        },
        {
          "output_type": "stream",
          "text": [
            "Epoch 1/20\n",
            "188/188 [==============================] - 2s 9ms/step - loss: 0.9423 - accuracy: 0.7008 - val_loss: 0.6158 - val_accuracy: 0.7588\n",
            "Epoch 2/20\n",
            "188/188 [==============================] - 2s 8ms/step - loss: 0.5569 - accuracy: 0.7974 - val_loss: 0.5453 - val_accuracy: 0.7969\n",
            "Epoch 3/20\n",
            "188/188 [==============================] - 2s 9ms/step - loss: 0.4555 - accuracy: 0.8300 - val_loss: 0.4608 - val_accuracy: 0.8279\n",
            "Epoch 4/20\n",
            "188/188 [==============================] - 2s 8ms/step - loss: 0.4071 - accuracy: 0.8476 - val_loss: 0.4359 - val_accuracy: 0.8418\n",
            "Epoch 5/20\n",
            "188/188 [==============================] - 2s 8ms/step - loss: 0.3665 - accuracy: 0.8616 - val_loss: 0.5212 - val_accuracy: 0.8275\n",
            "Epoch 6/20\n",
            "188/188 [==============================] - 2s 8ms/step - loss: 0.3448 - accuracy: 0.8701 - val_loss: 0.3263 - val_accuracy: 0.8775\n",
            "Epoch 7/20\n",
            "188/188 [==============================] - 2s 8ms/step - loss: 0.3191 - accuracy: 0.8795 - val_loss: 0.4398 - val_accuracy: 0.8385\n",
            "Epoch 8/20\n",
            "188/188 [==============================] - 2s 8ms/step - loss: 0.3007 - accuracy: 0.8857 - val_loss: 0.4423 - val_accuracy: 0.8432\n",
            "Epoch 9/20\n",
            "188/188 [==============================] - 2s 8ms/step - loss: 0.2827 - accuracy: 0.8929 - val_loss: 0.4149 - val_accuracy: 0.8519\n",
            "Epoch 10/20\n",
            "188/188 [==============================] - 2s 8ms/step - loss: 0.2692 - accuracy: 0.8976 - val_loss: 0.4199 - val_accuracy: 0.8587\n",
            "Epoch 11/20\n",
            "188/188 [==============================] - 2s 8ms/step - loss: 0.2589 - accuracy: 0.9017 - val_loss: 0.3586 - val_accuracy: 0.8843\n",
            "Epoch 12/20\n",
            "188/188 [==============================] - 2s 8ms/step - loss: 0.2473 - accuracy: 0.9047 - val_loss: 0.3457 - val_accuracy: 0.8851\n",
            "Epoch 13/20\n",
            "188/188 [==============================] - 2s 8ms/step - loss: 0.2345 - accuracy: 0.9094 - val_loss: 0.4170 - val_accuracy: 0.8640\n",
            "Epoch 14/20\n",
            "188/188 [==============================] - 2s 8ms/step - loss: 0.2243 - accuracy: 0.9135 - val_loss: 0.3561 - val_accuracy: 0.8812\n",
            "Epoch 15/20\n",
            "188/188 [==============================] - 2s 8ms/step - loss: 0.2132 - accuracy: 0.9176 - val_loss: 0.3942 - val_accuracy: 0.8788\n",
            "Epoch 16/20\n",
            "188/188 [==============================] - 2s 8ms/step - loss: 0.2074 - accuracy: 0.9200 - val_loss: 0.3658 - val_accuracy: 0.8863\n",
            "Epoch 17/20\n",
            "188/188 [==============================] - 2s 8ms/step - loss: 0.1980 - accuracy: 0.9234 - val_loss: 0.4168 - val_accuracy: 0.8743\n",
            "Epoch 18/20\n",
            "188/188 [==============================] - 2s 8ms/step - loss: 0.1882 - accuracy: 0.9275 - val_loss: 0.4530 - val_accuracy: 0.8729\n",
            "Epoch 19/20\n",
            "188/188 [==============================] - 2s 8ms/step - loss: 0.1806 - accuracy: 0.9293 - val_loss: 0.3949 - val_accuracy: 0.8873\n",
            "Epoch 20/20\n",
            "188/188 [==============================] - 1s 8ms/step - loss: 0.1754 - accuracy: 0.9318 - val_loss: 0.4144 - val_accuracy: 0.8798\n"
          ],
          "name": "stdout"
        },
        {
          "output_type": "display_data",
          "data": {
            "text/html": [
              "<span style=\"color:#4527A0\"><h1 style=\"font-size:18px\">Trial complete</h1></span>"
            ],
            "text/plain": [
              "<IPython.core.display.HTML object>"
            ]
          },
          "metadata": {
            "tags": []
          }
        },
        {
          "output_type": "display_data",
          "data": {
            "text/html": [
              "<span style=\"color:#4527A0\"><h1 style=\"font-size:18px\">Trial summary</h1></span>"
            ],
            "text/plain": [
              "<IPython.core.display.HTML object>"
            ]
          },
          "metadata": {
            "tags": []
          }
        },
        {
          "output_type": "display_data",
          "data": {
            "text/html": [
              "<span style=\"color:cyan\"> |-Trial ID: e2292a72ba91fe322304d56328ce0201</span>"
            ],
            "text/plain": [
              "<IPython.core.display.HTML object>"
            ]
          },
          "metadata": {
            "tags": []
          }
        },
        {
          "output_type": "display_data",
          "data": {
            "text/html": [
              "<span style=\"color:cyan\"> |-Score: 0.887333333492279</span>"
            ],
            "text/plain": [
              "<IPython.core.display.HTML object>"
            ]
          },
          "metadata": {
            "tags": []
          }
        },
        {
          "output_type": "display_data",
          "data": {
            "text/html": [
              "<span style=\"color:cyan\"> |-Best step: 0</span>"
            ],
            "text/plain": [
              "<IPython.core.display.HTML object>"
            ]
          },
          "metadata": {
            "tags": []
          }
        },
        {
          "output_type": "display_data",
          "data": {
            "text/html": [
              "<span style=\"color:#7E57C2\"><h2 style=\"font-size:16px\">Hyperparameters:</h2></span>"
            ],
            "text/plain": [
              "<IPython.core.display.HTML object>"
            ]
          },
          "metadata": {
            "tags": []
          }
        },
        {
          "output_type": "display_data",
          "data": {
            "text/html": [
              "<span style=\"color:cyan\"> |-activation: elu</span>"
            ],
            "text/plain": [
              "<IPython.core.display.HTML object>"
            ]
          },
          "metadata": {
            "tags": []
          }
        },
        {
          "output_type": "display_data",
          "data": {
            "text/html": [
              "<span style=\"color:blue\"> |-optimizer: rmsprop</span>"
            ],
            "text/plain": [
              "<IPython.core.display.HTML object>"
            ]
          },
          "metadata": {
            "tags": []
          }
        },
        {
          "output_type": "display_data",
          "data": {
            "text/html": [
              "<span style=\"color:cyan\"> |-units_hidden: 416</span>"
            ],
            "text/plain": [
              "<IPython.core.display.HTML object>"
            ]
          },
          "metadata": {
            "tags": []
          }
        },
        {
          "output_type": "display_data",
          "data": {
            "text/html": [
              "<span style=\"color:blue\"> |-units_input: 704</span>"
            ],
            "text/plain": [
              "<IPython.core.display.HTML object>"
            ]
          },
          "metadata": {
            "tags": []
          }
        },
        {
          "output_type": "stream",
          "text": [
            "Epoch 1/20\n",
            "188/188 [==============================] - 2s 8ms/step - loss: 0.5216 - accuracy: 0.8135 - val_loss: 0.4219 - val_accuracy: 0.8477\n",
            "Epoch 2/20\n",
            "188/188 [==============================] - 1s 8ms/step - loss: 0.3631 - accuracy: 0.8668 - val_loss: 0.3635 - val_accuracy: 0.8690\n",
            "Epoch 3/20\n",
            "188/188 [==============================] - 1s 8ms/step - loss: 0.3267 - accuracy: 0.8811 - val_loss: 0.3426 - val_accuracy: 0.8748\n",
            "Epoch 4/20\n",
            "188/188 [==============================] - 1s 8ms/step - loss: 0.2899 - accuracy: 0.8913 - val_loss: 0.3213 - val_accuracy: 0.8817\n",
            "Epoch 5/20\n",
            "188/188 [==============================] - 1s 8ms/step - loss: 0.2791 - accuracy: 0.8954 - val_loss: 0.3300 - val_accuracy: 0.8810\n",
            "Epoch 6/20\n",
            "188/188 [==============================] - 1s 8ms/step - loss: 0.2616 - accuracy: 0.9014 - val_loss: 0.3103 - val_accuracy: 0.8896\n",
            "Epoch 7/20\n",
            "188/188 [==============================] - 2s 8ms/step - loss: 0.2498 - accuracy: 0.9062 - val_loss: 0.3019 - val_accuracy: 0.8921\n",
            "Epoch 8/20\n",
            "188/188 [==============================] - 1s 8ms/step - loss: 0.2359 - accuracy: 0.9116 - val_loss: 0.3169 - val_accuracy: 0.8882\n",
            "Epoch 9/20\n",
            "188/188 [==============================] - 1s 8ms/step - loss: 0.2240 - accuracy: 0.9154 - val_loss: 0.3272 - val_accuracy: 0.8898\n",
            "Epoch 10/20\n",
            "188/188 [==============================] - 1s 8ms/step - loss: 0.2146 - accuracy: 0.9173 - val_loss: 0.3217 - val_accuracy: 0.8882\n",
            "Epoch 11/20\n",
            "188/188 [==============================] - 1s 8ms/step - loss: 0.2061 - accuracy: 0.9212 - val_loss: 0.3197 - val_accuracy: 0.8903\n",
            "Epoch 12/20\n",
            "188/188 [==============================] - 1s 8ms/step - loss: 0.1996 - accuracy: 0.9234 - val_loss: 0.3121 - val_accuracy: 0.8963\n",
            "Epoch 13/20\n",
            "188/188 [==============================] - 1s 8ms/step - loss: 0.1900 - accuracy: 0.9272 - val_loss: 0.3091 - val_accuracy: 0.8978\n",
            "Epoch 14/20\n",
            "188/188 [==============================] - 1s 8ms/step - loss: 0.1834 - accuracy: 0.9298 - val_loss: 0.3257 - val_accuracy: 0.8921\n",
            "Epoch 15/20\n",
            "188/188 [==============================] - 1s 8ms/step - loss: 0.1755 - accuracy: 0.9322 - val_loss: 0.3693 - val_accuracy: 0.8784\n",
            "Epoch 16/20\n",
            "188/188 [==============================] - 1s 8ms/step - loss: 0.1692 - accuracy: 0.9340 - val_loss: 0.3475 - val_accuracy: 0.8928\n",
            "Epoch 17/20\n",
            "188/188 [==============================] - 2s 8ms/step - loss: 0.1600 - accuracy: 0.9374 - val_loss: 0.3533 - val_accuracy: 0.8903\n",
            "Epoch 18/20\n",
            "188/188 [==============================] - 2s 9ms/step - loss: 0.1531 - accuracy: 0.9403 - val_loss: 0.3448 - val_accuracy: 0.8966\n",
            "Epoch 19/20\n",
            "188/188 [==============================] - 2s 8ms/step - loss: 0.1494 - accuracy: 0.9422 - val_loss: 0.3469 - val_accuracy: 0.8959\n",
            "Epoch 20/20\n",
            "188/188 [==============================] - 1s 8ms/step - loss: 0.1447 - accuracy: 0.9449 - val_loss: 0.3523 - val_accuracy: 0.8955\n"
          ],
          "name": "stdout"
        },
        {
          "output_type": "display_data",
          "data": {
            "text/html": [
              "<span style=\"color:#4527A0\"><h1 style=\"font-size:18px\">Trial complete</h1></span>"
            ],
            "text/plain": [
              "<IPython.core.display.HTML object>"
            ]
          },
          "metadata": {
            "tags": []
          }
        },
        {
          "output_type": "display_data",
          "data": {
            "text/html": [
              "<span style=\"color:#4527A0\"><h1 style=\"font-size:18px\">Trial summary</h1></span>"
            ],
            "text/plain": [
              "<IPython.core.display.HTML object>"
            ]
          },
          "metadata": {
            "tags": []
          }
        },
        {
          "output_type": "display_data",
          "data": {
            "text/html": [
              "<span style=\"color:cyan\"> |-Trial ID: 8ccb81fd3558a1b71d66ff54a55ce5e8</span>"
            ],
            "text/plain": [
              "<IPython.core.display.HTML object>"
            ]
          },
          "metadata": {
            "tags": []
          }
        },
        {
          "output_type": "display_data",
          "data": {
            "text/html": [
              "<span style=\"color:cyan\"> |-Score: 0.8978333473205566</span>"
            ],
            "text/plain": [
              "<IPython.core.display.HTML object>"
            ]
          },
          "metadata": {
            "tags": []
          }
        },
        {
          "output_type": "display_data",
          "data": {
            "text/html": [
              "<span style=\"color:cyan\"> |-Best step: 0</span>"
            ],
            "text/plain": [
              "<IPython.core.display.HTML object>"
            ]
          },
          "metadata": {
            "tags": []
          }
        },
        {
          "output_type": "display_data",
          "data": {
            "text/html": [
              "<span style=\"color:#7E57C2\"><h2 style=\"font-size:16px\">Hyperparameters:</h2></span>"
            ],
            "text/plain": [
              "<IPython.core.display.HTML object>"
            ]
          },
          "metadata": {
            "tags": []
          }
        },
        {
          "output_type": "display_data",
          "data": {
            "text/html": [
              "<span style=\"color:cyan\"> |-activation: relu</span>"
            ],
            "text/plain": [
              "<IPython.core.display.HTML object>"
            ]
          },
          "metadata": {
            "tags": []
          }
        },
        {
          "output_type": "display_data",
          "data": {
            "text/html": [
              "<span style=\"color:blue\"> |-optimizer: adam</span>"
            ],
            "text/plain": [
              "<IPython.core.display.HTML object>"
            ]
          },
          "metadata": {
            "tags": []
          }
        },
        {
          "output_type": "display_data",
          "data": {
            "text/html": [
              "<span style=\"color:cyan\"> |-units_hidden: 480</span>"
            ],
            "text/plain": [
              "<IPython.core.display.HTML object>"
            ]
          },
          "metadata": {
            "tags": []
          }
        },
        {
          "output_type": "display_data",
          "data": {
            "text/html": [
              "<span style=\"color:blue\"> |-units_input: 800</span>"
            ],
            "text/plain": [
              "<IPython.core.display.HTML object>"
            ]
          },
          "metadata": {
            "tags": []
          }
        },
        {
          "output_type": "stream",
          "text": [
            "Epoch 1/20\n",
            "188/188 [==============================] - 1s 8ms/step - loss: 0.5223 - accuracy: 0.8108 - val_loss: 0.4464 - val_accuracy: 0.8428\n",
            "Epoch 2/20\n",
            "188/188 [==============================] - 1s 8ms/step - loss: 0.3888 - accuracy: 0.8576 - val_loss: 0.3574 - val_accuracy: 0.8717\n",
            "Epoch 3/20\n",
            "188/188 [==============================] - 1s 8ms/step - loss: 0.3445 - accuracy: 0.8749 - val_loss: 0.3547 - val_accuracy: 0.8718\n",
            "Epoch 4/20\n",
            "188/188 [==============================] - 1s 7ms/step - loss: 0.3185 - accuracy: 0.8810 - val_loss: 0.3673 - val_accuracy: 0.8698\n",
            "Epoch 5/20\n",
            "188/188 [==============================] - 1s 7ms/step - loss: 0.2949 - accuracy: 0.8905 - val_loss: 0.3326 - val_accuracy: 0.8813\n",
            "Epoch 6/20\n",
            "188/188 [==============================] - 1s 7ms/step - loss: 0.2766 - accuracy: 0.8970 - val_loss: 0.3221 - val_accuracy: 0.8819\n",
            "Epoch 7/20\n",
            "188/188 [==============================] - 1s 7ms/step - loss: 0.2607 - accuracy: 0.9018 - val_loss: 0.3202 - val_accuracy: 0.8857\n",
            "Epoch 8/20\n",
            "188/188 [==============================] - 1s 7ms/step - loss: 0.2467 - accuracy: 0.9067 - val_loss: 0.3153 - val_accuracy: 0.8875\n",
            "Epoch 9/20\n",
            "188/188 [==============================] - 1s 8ms/step - loss: 0.2323 - accuracy: 0.9116 - val_loss: 0.3039 - val_accuracy: 0.8907\n",
            "Epoch 10/20\n",
            "188/188 [==============================] - 1s 7ms/step - loss: 0.2244 - accuracy: 0.9151 - val_loss: 0.3069 - val_accuracy: 0.8907\n",
            "Epoch 11/20\n",
            "188/188 [==============================] - 1s 7ms/step - loss: 0.2153 - accuracy: 0.9185 - val_loss: 0.3130 - val_accuracy: 0.8900\n",
            "Epoch 12/20\n",
            "188/188 [==============================] - 1s 7ms/step - loss: 0.2055 - accuracy: 0.9220 - val_loss: 0.3094 - val_accuracy: 0.8905\n",
            "Epoch 13/20\n",
            "188/188 [==============================] - 1s 7ms/step - loss: 0.1916 - accuracy: 0.9272 - val_loss: 0.3268 - val_accuracy: 0.8854\n",
            "Epoch 14/20\n",
            "188/188 [==============================] - 1s 7ms/step - loss: 0.1850 - accuracy: 0.9303 - val_loss: 0.3370 - val_accuracy: 0.8862\n",
            "Epoch 15/20\n",
            "188/188 [==============================] - 1s 7ms/step - loss: 0.1755 - accuracy: 0.9324 - val_loss: 0.3189 - val_accuracy: 0.8888\n",
            "Epoch 16/20\n",
            "188/188 [==============================] - 1s 7ms/step - loss: 0.1632 - accuracy: 0.9392 - val_loss: 0.3266 - val_accuracy: 0.8910\n",
            "Epoch 17/20\n",
            "188/188 [==============================] - 1s 7ms/step - loss: 0.1535 - accuracy: 0.9432 - val_loss: 0.3181 - val_accuracy: 0.8968\n",
            "Epoch 18/20\n",
            "188/188 [==============================] - 1s 7ms/step - loss: 0.1407 - accuracy: 0.9477 - val_loss: 0.3079 - val_accuracy: 0.8967\n",
            "Epoch 19/20\n",
            "188/188 [==============================] - 1s 7ms/step - loss: 0.1406 - accuracy: 0.9477 - val_loss: 0.3581 - val_accuracy: 0.8857\n",
            "Epoch 20/20\n",
            "188/188 [==============================] - 1s 7ms/step - loss: 0.1359 - accuracy: 0.9485 - val_loss: 0.3305 - val_accuracy: 0.8944\n"
          ],
          "name": "stdout"
        },
        {
          "output_type": "display_data",
          "data": {
            "text/html": [
              "<span style=\"color:#4527A0\"><h1 style=\"font-size:18px\">Trial complete</h1></span>"
            ],
            "text/plain": [
              "<IPython.core.display.HTML object>"
            ]
          },
          "metadata": {
            "tags": []
          }
        },
        {
          "output_type": "display_data",
          "data": {
            "text/html": [
              "<span style=\"color:#4527A0\"><h1 style=\"font-size:18px\">Trial summary</h1></span>"
            ],
            "text/plain": [
              "<IPython.core.display.HTML object>"
            ]
          },
          "metadata": {
            "tags": []
          }
        },
        {
          "output_type": "display_data",
          "data": {
            "text/html": [
              "<span style=\"color:cyan\"> |-Trial ID: 5fb923ac60148c1c72f71c73b17e446d</span>"
            ],
            "text/plain": [
              "<IPython.core.display.HTML object>"
            ]
          },
          "metadata": {
            "tags": []
          }
        },
        {
          "output_type": "display_data",
          "data": {
            "text/html": [
              "<span style=\"color:cyan\"> |-Score: 0.8968333601951599</span>"
            ],
            "text/plain": [
              "<IPython.core.display.HTML object>"
            ]
          },
          "metadata": {
            "tags": []
          }
        },
        {
          "output_type": "display_data",
          "data": {
            "text/html": [
              "<span style=\"color:cyan\"> |-Best step: 0</span>"
            ],
            "text/plain": [
              "<IPython.core.display.HTML object>"
            ]
          },
          "metadata": {
            "tags": []
          }
        },
        {
          "output_type": "display_data",
          "data": {
            "text/html": [
              "<span style=\"color:#7E57C2\"><h2 style=\"font-size:16px\">Hyperparameters:</h2></span>"
            ],
            "text/plain": [
              "<IPython.core.display.HTML object>"
            ]
          },
          "metadata": {
            "tags": []
          }
        },
        {
          "output_type": "display_data",
          "data": {
            "text/html": [
              "<span style=\"color:cyan\"> |-activation: tanh</span>"
            ],
            "text/plain": [
              "<IPython.core.display.HTML object>"
            ]
          },
          "metadata": {
            "tags": []
          }
        },
        {
          "output_type": "display_data",
          "data": {
            "text/html": [
              "<span style=\"color:blue\"> |-optimizer: adam</span>"
            ],
            "text/plain": [
              "<IPython.core.display.HTML object>"
            ]
          },
          "metadata": {
            "tags": []
          }
        },
        {
          "output_type": "display_data",
          "data": {
            "text/html": [
              "<span style=\"color:cyan\"> |-units_hidden: 416</span>"
            ],
            "text/plain": [
              "<IPython.core.display.HTML object>"
            ]
          },
          "metadata": {
            "tags": []
          }
        },
        {
          "output_type": "display_data",
          "data": {
            "text/html": [
              "<span style=\"color:blue\"> |-units_input: 640</span>"
            ],
            "text/plain": [
              "<IPython.core.display.HTML object>"
            ]
          },
          "metadata": {
            "tags": []
          }
        },
        {
          "output_type": "stream",
          "text": [
            "Epoch 1/20\n",
            "188/188 [==============================] - 1s 8ms/step - loss: 1.0253 - accuracy: 0.6769 - val_loss: 0.7257 - val_accuracy: 0.7558\n",
            "Epoch 2/20\n",
            "188/188 [==============================] - 1s 7ms/step - loss: 0.6611 - accuracy: 0.7806 - val_loss: 0.6079 - val_accuracy: 0.7923\n",
            "Epoch 3/20\n",
            "188/188 [==============================] - 1s 7ms/step - loss: 0.5790 - accuracy: 0.8060 - val_loss: 0.5530 - val_accuracy: 0.8092\n",
            "Epoch 4/20\n",
            "188/188 [==============================] - 1s 7ms/step - loss: 0.5356 - accuracy: 0.8177 - val_loss: 0.5279 - val_accuracy: 0.8098\n",
            "Epoch 5/20\n",
            "188/188 [==============================] - 1s 7ms/step - loss: 0.5089 - accuracy: 0.8249 - val_loss: 0.5014 - val_accuracy: 0.8232\n",
            "Epoch 6/20\n",
            "188/188 [==============================] - 1s 7ms/step - loss: 0.4902 - accuracy: 0.8298 - val_loss: 0.4934 - val_accuracy: 0.8215\n",
            "Epoch 7/20\n",
            "188/188 [==============================] - 1s 7ms/step - loss: 0.4756 - accuracy: 0.8349 - val_loss: 0.4847 - val_accuracy: 0.8257\n",
            "Epoch 8/20\n",
            "188/188 [==============================] - 1s 7ms/step - loss: 0.4658 - accuracy: 0.8368 - val_loss: 0.4654 - val_accuracy: 0.8332\n",
            "Epoch 9/20\n",
            "188/188 [==============================] - 1s 7ms/step - loss: 0.4561 - accuracy: 0.8411 - val_loss: 0.4652 - val_accuracy: 0.8324\n",
            "Epoch 10/20\n",
            "188/188 [==============================] - 1s 7ms/step - loss: 0.4491 - accuracy: 0.8436 - val_loss: 0.4538 - val_accuracy: 0.8403\n",
            "Epoch 11/20\n",
            "188/188 [==============================] - 1s 7ms/step - loss: 0.4427 - accuracy: 0.8458 - val_loss: 0.4520 - val_accuracy: 0.8370\n",
            "Epoch 12/20\n",
            "188/188 [==============================] - 1s 7ms/step - loss: 0.4372 - accuracy: 0.8476 - val_loss: 0.4510 - val_accuracy: 0.8397\n",
            "Epoch 13/20\n",
            "188/188 [==============================] - 1s 7ms/step - loss: 0.4317 - accuracy: 0.8500 - val_loss: 0.4515 - val_accuracy: 0.8382\n",
            "Epoch 14/20\n",
            "188/188 [==============================] - 1s 7ms/step - loss: 0.4280 - accuracy: 0.8507 - val_loss: 0.4338 - val_accuracy: 0.8460\n",
            "Epoch 15/20\n",
            "188/188 [==============================] - 1s 7ms/step - loss: 0.4229 - accuracy: 0.8509 - val_loss: 0.4362 - val_accuracy: 0.8462\n",
            "Epoch 16/20\n",
            "188/188 [==============================] - 1s 7ms/step - loss: 0.4194 - accuracy: 0.8534 - val_loss: 0.4294 - val_accuracy: 0.8464\n",
            "Epoch 17/20\n",
            "188/188 [==============================] - 1s 7ms/step - loss: 0.4153 - accuracy: 0.8555 - val_loss: 0.4276 - val_accuracy: 0.8495\n",
            "Epoch 18/20\n",
            "188/188 [==============================] - 1s 7ms/step - loss: 0.4132 - accuracy: 0.8549 - val_loss: 0.4279 - val_accuracy: 0.8467\n",
            "Epoch 19/20\n",
            "188/188 [==============================] - 1s 7ms/step - loss: 0.4094 - accuracy: 0.8571 - val_loss: 0.4203 - val_accuracy: 0.8509\n",
            "Epoch 20/20\n",
            "188/188 [==============================] - 1s 7ms/step - loss: 0.4054 - accuracy: 0.8589 - val_loss: 0.4216 - val_accuracy: 0.8495\n"
          ],
          "name": "stdout"
        },
        {
          "output_type": "display_data",
          "data": {
            "text/html": [
              "<span style=\"color:#4527A0\"><h1 style=\"font-size:18px\">Trial complete</h1></span>"
            ],
            "text/plain": [
              "<IPython.core.display.HTML object>"
            ]
          },
          "metadata": {
            "tags": []
          }
        },
        {
          "output_type": "display_data",
          "data": {
            "text/html": [
              "<span style=\"color:#4527A0\"><h1 style=\"font-size:18px\">Trial summary</h1></span>"
            ],
            "text/plain": [
              "<IPython.core.display.HTML object>"
            ]
          },
          "metadata": {
            "tags": []
          }
        },
        {
          "output_type": "display_data",
          "data": {
            "text/html": [
              "<span style=\"color:cyan\"> |-Trial ID: 1ed8cf3ccb511cc1e1b16112c5027ae5</span>"
            ],
            "text/plain": [
              "<IPython.core.display.HTML object>"
            ]
          },
          "metadata": {
            "tags": []
          }
        },
        {
          "output_type": "display_data",
          "data": {
            "text/html": [
              "<span style=\"color:cyan\"> |-Score: 0.8509166836738586</span>"
            ],
            "text/plain": [
              "<IPython.core.display.HTML object>"
            ]
          },
          "metadata": {
            "tags": []
          }
        },
        {
          "output_type": "display_data",
          "data": {
            "text/html": [
              "<span style=\"color:cyan\"> |-Best step: 0</span>"
            ],
            "text/plain": [
              "<IPython.core.display.HTML object>"
            ]
          },
          "metadata": {
            "tags": []
          }
        },
        {
          "output_type": "display_data",
          "data": {
            "text/html": [
              "<span style=\"color:#7E57C2\"><h2 style=\"font-size:16px\">Hyperparameters:</h2></span>"
            ],
            "text/plain": [
              "<IPython.core.display.HTML object>"
            ]
          },
          "metadata": {
            "tags": []
          }
        },
        {
          "output_type": "display_data",
          "data": {
            "text/html": [
              "<span style=\"color:cyan\"> |-activation: elu</span>"
            ],
            "text/plain": [
              "<IPython.core.display.HTML object>"
            ]
          },
          "metadata": {
            "tags": []
          }
        },
        {
          "output_type": "display_data",
          "data": {
            "text/html": [
              "<span style=\"color:blue\"> |-optimizer: SGD</span>"
            ],
            "text/plain": [
              "<IPython.core.display.HTML object>"
            ]
          },
          "metadata": {
            "tags": []
          }
        },
        {
          "output_type": "display_data",
          "data": {
            "text/html": [
              "<span style=\"color:cyan\"> |-units_hidden: 544</span>"
            ],
            "text/plain": [
              "<IPython.core.display.HTML object>"
            ]
          },
          "metadata": {
            "tags": []
          }
        },
        {
          "output_type": "display_data",
          "data": {
            "text/html": [
              "<span style=\"color:blue\"> |-units_input: 512</span>"
            ],
            "text/plain": [
              "<IPython.core.display.HTML object>"
            ]
          },
          "metadata": {
            "tags": []
          }
        },
        {
          "output_type": "stream",
          "text": [
            "Epoch 1/20\n",
            "188/188 [==============================] - 1s 7ms/step - loss: 1.4314 - accuracy: 0.6150 - val_loss: 0.9209 - val_accuracy: 0.7205\n",
            "Epoch 2/20\n",
            "188/188 [==============================] - 1s 6ms/step - loss: 0.7933 - accuracy: 0.7442 - val_loss: 0.6961 - val_accuracy: 0.7740\n",
            "Epoch 3/20\n",
            "188/188 [==============================] - 1s 7ms/step - loss: 0.6592 - accuracy: 0.7819 - val_loss: 0.6286 - val_accuracy: 0.7866\n",
            "Epoch 4/20\n",
            "188/188 [==============================] - 1s 6ms/step - loss: 0.5933 - accuracy: 0.8026 - val_loss: 0.5756 - val_accuracy: 0.8029\n",
            "Epoch 5/20\n",
            "188/188 [==============================] - 1s 6ms/step - loss: 0.5530 - accuracy: 0.8138 - val_loss: 0.5493 - val_accuracy: 0.8128\n",
            "Epoch 6/20\n",
            "188/188 [==============================] - 1s 7ms/step - loss: 0.5272 - accuracy: 0.8202 - val_loss: 0.5192 - val_accuracy: 0.8208\n",
            "Epoch 7/20\n",
            "188/188 [==============================] - 1s 7ms/step - loss: 0.5059 - accuracy: 0.8272 - val_loss: 0.5131 - val_accuracy: 0.8225\n",
            "Epoch 8/20\n",
            "188/188 [==============================] - 1s 7ms/step - loss: 0.4916 - accuracy: 0.8308 - val_loss: 0.5007 - val_accuracy: 0.8267\n",
            "Epoch 9/20\n",
            "188/188 [==============================] - 1s 7ms/step - loss: 0.4794 - accuracy: 0.8345 - val_loss: 0.4819 - val_accuracy: 0.8316\n",
            "Epoch 10/20\n",
            "188/188 [==============================] - 1s 7ms/step - loss: 0.4673 - accuracy: 0.8386 - val_loss: 0.4776 - val_accuracy: 0.8336\n",
            "Epoch 11/20\n",
            "188/188 [==============================] - 1s 7ms/step - loss: 0.4567 - accuracy: 0.8429 - val_loss: 0.4841 - val_accuracy: 0.8303\n",
            "Epoch 12/20\n",
            "188/188 [==============================] - 1s 7ms/step - loss: 0.4510 - accuracy: 0.8444 - val_loss: 0.4459 - val_accuracy: 0.8460\n",
            "Epoch 13/20\n",
            "188/188 [==============================] - 1s 7ms/step - loss: 0.4431 - accuracy: 0.8474 - val_loss: 0.4416 - val_accuracy: 0.8435\n",
            "Epoch 14/20\n",
            "188/188 [==============================] - 1s 7ms/step - loss: 0.4347 - accuracy: 0.8489 - val_loss: 0.5408 - val_accuracy: 0.7942\n",
            "Epoch 15/20\n",
            "188/188 [==============================] - 1s 7ms/step - loss: 0.4289 - accuracy: 0.8512 - val_loss: 0.4562 - val_accuracy: 0.8356\n",
            "Epoch 16/20\n",
            "188/188 [==============================] - 1s 7ms/step - loss: 0.4225 - accuracy: 0.8532 - val_loss: 0.4350 - val_accuracy: 0.8479\n",
            "Epoch 17/20\n",
            "188/188 [==============================] - 1s 7ms/step - loss: 0.4181 - accuracy: 0.8550 - val_loss: 0.4505 - val_accuracy: 0.8389\n",
            "Epoch 18/20\n",
            "188/188 [==============================] - 1s 7ms/step - loss: 0.4122 - accuracy: 0.8575 - val_loss: 0.4231 - val_accuracy: 0.8509\n",
            "Epoch 19/20\n",
            "188/188 [==============================] - 1s 7ms/step - loss: 0.4072 - accuracy: 0.8592 - val_loss: 0.4155 - val_accuracy: 0.8544\n",
            "Epoch 20/20\n",
            "188/188 [==============================] - 1s 7ms/step - loss: 0.4045 - accuracy: 0.8585 - val_loss: 0.4334 - val_accuracy: 0.8451\n"
          ],
          "name": "stdout"
        },
        {
          "output_type": "display_data",
          "data": {
            "text/html": [
              "<span style=\"color:#4527A0\"><h1 style=\"font-size:18px\">Trial complete</h1></span>"
            ],
            "text/plain": [
              "<IPython.core.display.HTML object>"
            ]
          },
          "metadata": {
            "tags": []
          }
        },
        {
          "output_type": "display_data",
          "data": {
            "text/html": [
              "<span style=\"color:#4527A0\"><h1 style=\"font-size:18px\">Trial summary</h1></span>"
            ],
            "text/plain": [
              "<IPython.core.display.HTML object>"
            ]
          },
          "metadata": {
            "tags": []
          }
        },
        {
          "output_type": "display_data",
          "data": {
            "text/html": [
              "<span style=\"color:cyan\"> |-Trial ID: 1a41d359b4a66cb575670b7cda623354</span>"
            ],
            "text/plain": [
              "<IPython.core.display.HTML object>"
            ]
          },
          "metadata": {
            "tags": []
          }
        },
        {
          "output_type": "display_data",
          "data": {
            "text/html": [
              "<span style=\"color:cyan\"> |-Score: 0.8544166684150696</span>"
            ],
            "text/plain": [
              "<IPython.core.display.HTML object>"
            ]
          },
          "metadata": {
            "tags": []
          }
        },
        {
          "output_type": "display_data",
          "data": {
            "text/html": [
              "<span style=\"color:cyan\"> |-Best step: 0</span>"
            ],
            "text/plain": [
              "<IPython.core.display.HTML object>"
            ]
          },
          "metadata": {
            "tags": []
          }
        },
        {
          "output_type": "display_data",
          "data": {
            "text/html": [
              "<span style=\"color:#7E57C2\"><h2 style=\"font-size:16px\">Hyperparameters:</h2></span>"
            ],
            "text/plain": [
              "<IPython.core.display.HTML object>"
            ]
          },
          "metadata": {
            "tags": []
          }
        },
        {
          "output_type": "display_data",
          "data": {
            "text/html": [
              "<span style=\"color:cyan\"> |-activation: relu</span>"
            ],
            "text/plain": [
              "<IPython.core.display.HTML object>"
            ]
          },
          "metadata": {
            "tags": []
          }
        },
        {
          "output_type": "display_data",
          "data": {
            "text/html": [
              "<span style=\"color:blue\"> |-optimizer: SGD</span>"
            ],
            "text/plain": [
              "<IPython.core.display.HTML object>"
            ]
          },
          "metadata": {
            "tags": []
          }
        },
        {
          "output_type": "display_data",
          "data": {
            "text/html": [
              "<span style=\"color:cyan\"> |-units_hidden: 320</span>"
            ],
            "text/plain": [
              "<IPython.core.display.HTML object>"
            ]
          },
          "metadata": {
            "tags": []
          }
        },
        {
          "output_type": "display_data",
          "data": {
            "text/html": [
              "<span style=\"color:blue\"> |-units_input: 608</span>"
            ],
            "text/plain": [
              "<IPython.core.display.HTML object>"
            ]
          },
          "metadata": {
            "tags": []
          }
        },
        {
          "output_type": "stream",
          "text": [
            "Epoch 1/20\n",
            "188/188 [==============================] - 1s 8ms/step - loss: 0.9558 - accuracy: 0.6575 - val_loss: 0.5395 - val_accuracy: 0.7996\n",
            "Epoch 2/20\n",
            "188/188 [==============================] - 1s 7ms/step - loss: 0.4720 - accuracy: 0.8309 - val_loss: 0.4261 - val_accuracy: 0.8458\n",
            "Epoch 3/20\n",
            "188/188 [==============================] - 1s 7ms/step - loss: 0.4085 - accuracy: 0.8536 - val_loss: 0.4221 - val_accuracy: 0.8503\n",
            "Epoch 4/20\n",
            "188/188 [==============================] - 1s 7ms/step - loss: 0.3823 - accuracy: 0.8618 - val_loss: 0.3760 - val_accuracy: 0.8631\n",
            "Epoch 5/20\n",
            "188/188 [==============================] - 1s 7ms/step - loss: 0.3593 - accuracy: 0.8700 - val_loss: 0.3866 - val_accuracy: 0.8559\n",
            "Epoch 6/20\n",
            "188/188 [==============================] - 1s 7ms/step - loss: 0.3433 - accuracy: 0.8748 - val_loss: 0.3817 - val_accuracy: 0.8585\n",
            "Epoch 7/20\n",
            "188/188 [==============================] - 1s 7ms/step - loss: 0.3314 - accuracy: 0.8801 - val_loss: 0.3587 - val_accuracy: 0.8695\n",
            "Epoch 8/20\n",
            "188/188 [==============================] - 1s 7ms/step - loss: 0.3199 - accuracy: 0.8834 - val_loss: 0.3438 - val_accuracy: 0.8748\n",
            "Epoch 9/20\n",
            "188/188 [==============================] - 1s 7ms/step - loss: 0.3063 - accuracy: 0.8877 - val_loss: 0.3710 - val_accuracy: 0.8692\n",
            "Epoch 10/20\n",
            "188/188 [==============================] - 1s 7ms/step - loss: 0.2985 - accuracy: 0.8903 - val_loss: 0.3286 - val_accuracy: 0.8808\n",
            "Epoch 11/20\n",
            "188/188 [==============================] - 1s 7ms/step - loss: 0.2871 - accuracy: 0.8948 - val_loss: 0.3495 - val_accuracy: 0.8740\n",
            "Epoch 12/20\n",
            "188/188 [==============================] - 1s 7ms/step - loss: 0.2823 - accuracy: 0.8963 - val_loss: 0.3320 - val_accuracy: 0.8785\n",
            "Epoch 13/20\n",
            "188/188 [==============================] - 1s 7ms/step - loss: 0.2734 - accuracy: 0.8988 - val_loss: 0.3130 - val_accuracy: 0.8872\n",
            "Epoch 14/20\n",
            "188/188 [==============================] - 1s 7ms/step - loss: 0.2625 - accuracy: 0.9032 - val_loss: 0.3176 - val_accuracy: 0.8856\n",
            "Epoch 15/20\n",
            "188/188 [==============================] - 1s 7ms/step - loss: 0.2576 - accuracy: 0.9041 - val_loss: 0.3395 - val_accuracy: 0.8798\n",
            "Epoch 16/20\n",
            "188/188 [==============================] - 1s 7ms/step - loss: 0.2496 - accuracy: 0.9078 - val_loss: 0.3074 - val_accuracy: 0.8896\n",
            "Epoch 17/20\n",
            "188/188 [==============================] - 1s 7ms/step - loss: 0.2433 - accuracy: 0.9091 - val_loss: 0.3118 - val_accuracy: 0.8893\n",
            "Epoch 18/20\n",
            "188/188 [==============================] - 1s 7ms/step - loss: 0.2356 - accuracy: 0.9122 - val_loss: 0.3233 - val_accuracy: 0.8852\n",
            "Epoch 19/20\n",
            "188/188 [==============================] - 1s 7ms/step - loss: 0.2296 - accuracy: 0.9139 - val_loss: 0.3028 - val_accuracy: 0.8913\n",
            "Epoch 20/20\n",
            "188/188 [==============================] - 1s 6ms/step - loss: 0.2252 - accuracy: 0.9154 - val_loss: 0.3261 - val_accuracy: 0.8851\n"
          ],
          "name": "stdout"
        },
        {
          "output_type": "display_data",
          "data": {
            "text/html": [
              "<span style=\"color:#4527A0\"><h1 style=\"font-size:18px\">Trial complete</h1></span>"
            ],
            "text/plain": [
              "<IPython.core.display.HTML object>"
            ]
          },
          "metadata": {
            "tags": []
          }
        },
        {
          "output_type": "display_data",
          "data": {
            "text/html": [
              "<span style=\"color:#4527A0\"><h1 style=\"font-size:18px\">Trial summary</h1></span>"
            ],
            "text/plain": [
              "<IPython.core.display.HTML object>"
            ]
          },
          "metadata": {
            "tags": []
          }
        },
        {
          "output_type": "display_data",
          "data": {
            "text/html": [
              "<span style=\"color:cyan\"> |-Trial ID: 67e29f9e7a8b7dc7fc3216410a4a4b03</span>"
            ],
            "text/plain": [
              "<IPython.core.display.HTML object>"
            ]
          },
          "metadata": {
            "tags": []
          }
        },
        {
          "output_type": "display_data",
          "data": {
            "text/html": [
              "<span style=\"color:cyan\"> |-Score: 0.8913333415985107</span>"
            ],
            "text/plain": [
              "<IPython.core.display.HTML object>"
            ]
          },
          "metadata": {
            "tags": []
          }
        },
        {
          "output_type": "display_data",
          "data": {
            "text/html": [
              "<span style=\"color:cyan\"> |-Best step: 0</span>"
            ],
            "text/plain": [
              "<IPython.core.display.HTML object>"
            ]
          },
          "metadata": {
            "tags": []
          }
        },
        {
          "output_type": "display_data",
          "data": {
            "text/html": [
              "<span style=\"color:#7E57C2\"><h2 style=\"font-size:16px\">Hyperparameters:</h2></span>"
            ],
            "text/plain": [
              "<IPython.core.display.HTML object>"
            ]
          },
          "metadata": {
            "tags": []
          }
        },
        {
          "output_type": "display_data",
          "data": {
            "text/html": [
              "<span style=\"color:cyan\"> |-activation: sigmoid</span>"
            ],
            "text/plain": [
              "<IPython.core.display.HTML object>"
            ]
          },
          "metadata": {
            "tags": []
          }
        },
        {
          "output_type": "display_data",
          "data": {
            "text/html": [
              "<span style=\"color:blue\"> |-optimizer: adam</span>"
            ],
            "text/plain": [
              "<IPython.core.display.HTML object>"
            ]
          },
          "metadata": {
            "tags": []
          }
        },
        {
          "output_type": "display_data",
          "data": {
            "text/html": [
              "<span style=\"color:cyan\"> |-units_hidden: 288</span>"
            ],
            "text/plain": [
              "<IPython.core.display.HTML object>"
            ]
          },
          "metadata": {
            "tags": []
          }
        },
        {
          "output_type": "display_data",
          "data": {
            "text/html": [
              "<span style=\"color:blue\"> |-units_input: 512</span>"
            ],
            "text/plain": [
              "<IPython.core.display.HTML object>"
            ]
          },
          "metadata": {
            "tags": []
          }
        },
        {
          "output_type": "stream",
          "text": [
            "Epoch 1/20\n",
            "188/188 [==============================] - 2s 9ms/step - loss: 0.6718 - accuracy: 0.7558 - val_loss: 0.4773 - val_accuracy: 0.8201\n",
            "Epoch 2/20\n",
            "188/188 [==============================] - 2s 8ms/step - loss: 0.4361 - accuracy: 0.8371 - val_loss: 0.5153 - val_accuracy: 0.8082\n",
            "Epoch 3/20\n",
            "188/188 [==============================] - 2s 8ms/step - loss: 0.3691 - accuracy: 0.8625 - val_loss: 0.3885 - val_accuracy: 0.8658\n",
            "Epoch 4/20\n",
            "188/188 [==============================] - 2s 8ms/step - loss: 0.3375 - accuracy: 0.8755 - val_loss: 0.3710 - val_accuracy: 0.8701\n",
            "Epoch 5/20\n",
            "188/188 [==============================] - 2s 8ms/step - loss: 0.3135 - accuracy: 0.8825 - val_loss: 0.3870 - val_accuracy: 0.8678\n",
            "Epoch 6/20\n",
            "188/188 [==============================] - 2s 8ms/step - loss: 0.2914 - accuracy: 0.8900 - val_loss: 0.3794 - val_accuracy: 0.8597\n",
            "Epoch 7/20\n",
            "188/188 [==============================] - 2s 9ms/step - loss: 0.2773 - accuracy: 0.8964 - val_loss: 0.3526 - val_accuracy: 0.8790\n",
            "Epoch 8/20\n",
            "188/188 [==============================] - 2s 9ms/step - loss: 0.2659 - accuracy: 0.8991 - val_loss: 0.3500 - val_accuracy: 0.8802\n",
            "Epoch 9/20\n",
            "188/188 [==============================] - 2s 9ms/step - loss: 0.2527 - accuracy: 0.9046 - val_loss: 0.3896 - val_accuracy: 0.8803\n",
            "Epoch 10/20\n",
            "188/188 [==============================] - 2s 9ms/step - loss: 0.2411 - accuracy: 0.9077 - val_loss: 0.3391 - val_accuracy: 0.8840\n",
            "Epoch 11/20\n",
            "188/188 [==============================] - 2s 9ms/step - loss: 0.2358 - accuracy: 0.9097 - val_loss: 0.4362 - val_accuracy: 0.8704\n",
            "Epoch 12/20\n",
            "188/188 [==============================] - 2s 9ms/step - loss: 0.2253 - accuracy: 0.9163 - val_loss: 0.4063 - val_accuracy: 0.8758\n",
            "Epoch 13/20\n",
            "188/188 [==============================] - 2s 9ms/step - loss: 0.2171 - accuracy: 0.9178 - val_loss: 0.3733 - val_accuracy: 0.8898\n",
            "Epoch 14/20\n",
            "188/188 [==============================] - 2s 9ms/step - loss: 0.2136 - accuracy: 0.9203 - val_loss: 0.4004 - val_accuracy: 0.8765\n",
            "Epoch 15/20\n",
            "188/188 [==============================] - 2s 8ms/step - loss: 0.2054 - accuracy: 0.9234 - val_loss: 0.3996 - val_accuracy: 0.8904\n",
            "Epoch 16/20\n",
            "188/188 [==============================] - 2s 8ms/step - loss: 0.1993 - accuracy: 0.9252 - val_loss: 0.3938 - val_accuracy: 0.8963\n",
            "Epoch 17/20\n",
            "188/188 [==============================] - 1s 8ms/step - loss: 0.1959 - accuracy: 0.9258 - val_loss: 0.4625 - val_accuracy: 0.8909\n",
            "Epoch 18/20\n",
            "188/188 [==============================] - 2s 8ms/step - loss: 0.1899 - accuracy: 0.9283 - val_loss: 0.4546 - val_accuracy: 0.8816\n",
            "Epoch 19/20\n",
            "188/188 [==============================] - 2s 8ms/step - loss: 0.1885 - accuracy: 0.9294 - val_loss: 0.5642 - val_accuracy: 0.8887\n",
            "Epoch 20/20\n",
            "188/188 [==============================] - 2s 8ms/step - loss: 0.1904 - accuracy: 0.9314 - val_loss: 0.4938 - val_accuracy: 0.8802\n"
          ],
          "name": "stdout"
        },
        {
          "output_type": "display_data",
          "data": {
            "text/html": [
              "<span style=\"color:#4527A0\"><h1 style=\"font-size:18px\">Trial complete</h1></span>"
            ],
            "text/plain": [
              "<IPython.core.display.HTML object>"
            ]
          },
          "metadata": {
            "tags": []
          }
        },
        {
          "output_type": "display_data",
          "data": {
            "text/html": [
              "<span style=\"color:#4527A0\"><h1 style=\"font-size:18px\">Trial summary</h1></span>"
            ],
            "text/plain": [
              "<IPython.core.display.HTML object>"
            ]
          },
          "metadata": {
            "tags": []
          }
        },
        {
          "output_type": "display_data",
          "data": {
            "text/html": [
              "<span style=\"color:cyan\"> |-Trial ID: e0a9943f527e183b329871205864d1ea</span>"
            ],
            "text/plain": [
              "<IPython.core.display.HTML object>"
            ]
          },
          "metadata": {
            "tags": []
          }
        },
        {
          "output_type": "display_data",
          "data": {
            "text/html": [
              "<span style=\"color:cyan\"> |-Score: 0.8962500095367432</span>"
            ],
            "text/plain": [
              "<IPython.core.display.HTML object>"
            ]
          },
          "metadata": {
            "tags": []
          }
        },
        {
          "output_type": "display_data",
          "data": {
            "text/html": [
              "<span style=\"color:cyan\"> |-Best step: 0</span>"
            ],
            "text/plain": [
              "<IPython.core.display.HTML object>"
            ]
          },
          "metadata": {
            "tags": []
          }
        },
        {
          "output_type": "display_data",
          "data": {
            "text/html": [
              "<span style=\"color:#7E57C2\"><h2 style=\"font-size:16px\">Hyperparameters:</h2></span>"
            ],
            "text/plain": [
              "<IPython.core.display.HTML object>"
            ]
          },
          "metadata": {
            "tags": []
          }
        },
        {
          "output_type": "display_data",
          "data": {
            "text/html": [
              "<span style=\"color:cyan\"> |-activation: relu</span>"
            ],
            "text/plain": [
              "<IPython.core.display.HTML object>"
            ]
          },
          "metadata": {
            "tags": []
          }
        },
        {
          "output_type": "display_data",
          "data": {
            "text/html": [
              "<span style=\"color:blue\"> |-optimizer: rmsprop</span>"
            ],
            "text/plain": [
              "<IPython.core.display.HTML object>"
            ]
          },
          "metadata": {
            "tags": []
          }
        },
        {
          "output_type": "display_data",
          "data": {
            "text/html": [
              "<span style=\"color:cyan\"> |-units_hidden: 416</span>"
            ],
            "text/plain": [
              "<IPython.core.display.HTML object>"
            ]
          },
          "metadata": {
            "tags": []
          }
        },
        {
          "output_type": "display_data",
          "data": {
            "text/html": [
              "<span style=\"color:blue\"> |-units_input: 544</span>"
            ],
            "text/plain": [
              "<IPython.core.display.HTML object>"
            ]
          },
          "metadata": {
            "tags": []
          }
        },
        {
          "output_type": "stream",
          "text": [
            "Epoch 1/20\n",
            "188/188 [==============================] - 2s 8ms/step - loss: 0.6786 - accuracy: 0.7496 - val_loss: 0.5008 - val_accuracy: 0.8119\n",
            "Epoch 2/20\n",
            "188/188 [==============================] - 1s 8ms/step - loss: 0.4363 - accuracy: 0.8361 - val_loss: 0.4768 - val_accuracy: 0.8277\n",
            "Epoch 3/20\n",
            "188/188 [==============================] - 1s 8ms/step - loss: 0.3749 - accuracy: 0.8606 - val_loss: 0.4059 - val_accuracy: 0.8603\n",
            "Epoch 4/20\n",
            "188/188 [==============================] - 1s 8ms/step - loss: 0.3410 - accuracy: 0.8720 - val_loss: 0.5378 - val_accuracy: 0.8250\n",
            "Epoch 5/20\n",
            "188/188 [==============================] - 1s 7ms/step - loss: 0.3144 - accuracy: 0.8834 - val_loss: 0.4689 - val_accuracy: 0.8286\n",
            "Epoch 6/20\n",
            "188/188 [==============================] - 1s 8ms/step - loss: 0.2956 - accuracy: 0.8887 - val_loss: 0.3366 - val_accuracy: 0.8827\n",
            "Epoch 7/20\n",
            "188/188 [==============================] - 1s 8ms/step - loss: 0.2796 - accuracy: 0.8930 - val_loss: 0.3290 - val_accuracy: 0.8813\n",
            "Epoch 8/20\n",
            "188/188 [==============================] - 1s 8ms/step - loss: 0.2670 - accuracy: 0.9010 - val_loss: 0.3845 - val_accuracy: 0.8693\n",
            "Epoch 9/20\n",
            "188/188 [==============================] - 1s 7ms/step - loss: 0.2554 - accuracy: 0.9038 - val_loss: 0.3234 - val_accuracy: 0.8857\n",
            "Epoch 10/20\n",
            "188/188 [==============================] - 1s 8ms/step - loss: 0.2421 - accuracy: 0.9072 - val_loss: 0.3830 - val_accuracy: 0.8681\n",
            "Epoch 11/20\n",
            "188/188 [==============================] - 1s 8ms/step - loss: 0.2308 - accuracy: 0.9111 - val_loss: 0.3259 - val_accuracy: 0.8928\n",
            "Epoch 12/20\n",
            "188/188 [==============================] - 1s 7ms/step - loss: 0.2233 - accuracy: 0.9155 - val_loss: 0.3872 - val_accuracy: 0.8893\n",
            "Epoch 13/20\n",
            "188/188 [==============================] - 1s 7ms/step - loss: 0.2151 - accuracy: 0.9184 - val_loss: 0.4140 - val_accuracy: 0.8792\n",
            "Epoch 14/20\n",
            "188/188 [==============================] - 1s 7ms/step - loss: 0.2080 - accuracy: 0.9205 - val_loss: 0.3851 - val_accuracy: 0.8849\n",
            "Epoch 15/20\n",
            "188/188 [==============================] - 1s 7ms/step - loss: 0.2017 - accuracy: 0.9227 - val_loss: 0.3721 - val_accuracy: 0.8884\n",
            "Epoch 16/20\n",
            "188/188 [==============================] - 1s 7ms/step - loss: 0.1940 - accuracy: 0.9259 - val_loss: 0.3589 - val_accuracy: 0.8897\n",
            "Epoch 17/20\n",
            "188/188 [==============================] - 1s 7ms/step - loss: 0.1893 - accuracy: 0.9283 - val_loss: 0.3626 - val_accuracy: 0.8970\n",
            "Epoch 18/20\n",
            "188/188 [==============================] - 1s 8ms/step - loss: 0.1826 - accuracy: 0.9304 - val_loss: 0.3586 - val_accuracy: 0.8933\n",
            "Epoch 19/20\n",
            "188/188 [==============================] - 1s 8ms/step - loss: 0.1769 - accuracy: 0.9320 - val_loss: 0.4036 - val_accuracy: 0.8920\n",
            "Epoch 20/20\n",
            "188/188 [==============================] - 1s 7ms/step - loss: 0.1727 - accuracy: 0.9336 - val_loss: 0.4330 - val_accuracy: 0.8884\n"
          ],
          "name": "stdout"
        },
        {
          "output_type": "display_data",
          "data": {
            "text/html": [
              "<span style=\"color:#4527A0\"><h1 style=\"font-size:18px\">Trial complete</h1></span>"
            ],
            "text/plain": [
              "<IPython.core.display.HTML object>"
            ]
          },
          "metadata": {
            "tags": []
          }
        },
        {
          "output_type": "display_data",
          "data": {
            "text/html": [
              "<span style=\"color:#4527A0\"><h1 style=\"font-size:18px\">Trial summary</h1></span>"
            ],
            "text/plain": [
              "<IPython.core.display.HTML object>"
            ]
          },
          "metadata": {
            "tags": []
          }
        },
        {
          "output_type": "display_data",
          "data": {
            "text/html": [
              "<span style=\"color:cyan\"> |-Trial ID: 2219fad9cc10177bd3dc29149909354b</span>"
            ],
            "text/plain": [
              "<IPython.core.display.HTML object>"
            ]
          },
          "metadata": {
            "tags": []
          }
        },
        {
          "output_type": "display_data",
          "data": {
            "text/html": [
              "<span style=\"color:cyan\"> |-Score: 0.8970000147819519</span>"
            ],
            "text/plain": [
              "<IPython.core.display.HTML object>"
            ]
          },
          "metadata": {
            "tags": []
          }
        },
        {
          "output_type": "display_data",
          "data": {
            "text/html": [
              "<span style=\"color:cyan\"> |-Best step: 0</span>"
            ],
            "text/plain": [
              "<IPython.core.display.HTML object>"
            ]
          },
          "metadata": {
            "tags": []
          }
        },
        {
          "output_type": "display_data",
          "data": {
            "text/html": [
              "<span style=\"color:#7E57C2\"><h2 style=\"font-size:16px\">Hyperparameters:</h2></span>"
            ],
            "text/plain": [
              "<IPython.core.display.HTML object>"
            ]
          },
          "metadata": {
            "tags": []
          }
        },
        {
          "output_type": "display_data",
          "data": {
            "text/html": [
              "<span style=\"color:cyan\"> |-activation: relu</span>"
            ],
            "text/plain": [
              "<IPython.core.display.HTML object>"
            ]
          },
          "metadata": {
            "tags": []
          }
        },
        {
          "output_type": "display_data",
          "data": {
            "text/html": [
              "<span style=\"color:blue\"> |-optimizer: rmsprop</span>"
            ],
            "text/plain": [
              "<IPython.core.display.HTML object>"
            ]
          },
          "metadata": {
            "tags": []
          }
        },
        {
          "output_type": "display_data",
          "data": {
            "text/html": [
              "<span style=\"color:cyan\"> |-units_hidden: 192</span>"
            ],
            "text/plain": [
              "<IPython.core.display.HTML object>"
            ]
          },
          "metadata": {
            "tags": []
          }
        },
        {
          "output_type": "display_data",
          "data": {
            "text/html": [
              "<span style=\"color:blue\"> |-units_input: 576</span>"
            ],
            "text/plain": [
              "<IPython.core.display.HTML object>"
            ]
          },
          "metadata": {
            "tags": []
          }
        },
        {
          "output_type": "stream",
          "text": [
            "Epoch 1/20\n",
            "188/188 [==============================] - 2s 9ms/step - loss: 1.0253 - accuracy: 0.6787 - val_loss: 0.7166 - val_accuracy: 0.7611\n",
            "Epoch 2/20\n",
            "188/188 [==============================] - 1s 7ms/step - loss: 0.6533 - accuracy: 0.7842 - val_loss: 0.5988 - val_accuracy: 0.7948\n",
            "Epoch 3/20\n",
            "188/188 [==============================] - 1s 8ms/step - loss: 0.5724 - accuracy: 0.8076 - val_loss: 0.5483 - val_accuracy: 0.8141\n",
            "Epoch 4/20\n",
            "188/188 [==============================] - 1s 8ms/step - loss: 0.5298 - accuracy: 0.8204 - val_loss: 0.5264 - val_accuracy: 0.8156\n",
            "Epoch 5/20\n",
            "188/188 [==============================] - 1s 7ms/step - loss: 0.5046 - accuracy: 0.8275 - val_loss: 0.5123 - val_accuracy: 0.8198\n",
            "Epoch 6/20\n",
            "188/188 [==============================] - 1s 8ms/step - loss: 0.4866 - accuracy: 0.8320 - val_loss: 0.4958 - val_accuracy: 0.8239\n",
            "Epoch 7/20\n",
            "188/188 [==============================] - 1s 7ms/step - loss: 0.4730 - accuracy: 0.8361 - val_loss: 0.4751 - val_accuracy: 0.8346\n",
            "Epoch 8/20\n",
            "188/188 [==============================] - 1s 7ms/step - loss: 0.4623 - accuracy: 0.8398 - val_loss: 0.4660 - val_accuracy: 0.8355\n",
            "Epoch 9/20\n",
            "188/188 [==============================] - 1s 7ms/step - loss: 0.4534 - accuracy: 0.8432 - val_loss: 0.4799 - val_accuracy: 0.8260\n",
            "Epoch 10/20\n",
            "188/188 [==============================] - 1s 7ms/step - loss: 0.4464 - accuracy: 0.8446 - val_loss: 0.4511 - val_accuracy: 0.8423\n",
            "Epoch 11/20\n",
            "188/188 [==============================] - 1s 7ms/step - loss: 0.4394 - accuracy: 0.8467 - val_loss: 0.4494 - val_accuracy: 0.8386\n",
            "Epoch 12/20\n",
            "188/188 [==============================] - 1s 7ms/step - loss: 0.4343 - accuracy: 0.8484 - val_loss: 0.4395 - val_accuracy: 0.8439\n",
            "Epoch 13/20\n",
            "188/188 [==============================] - 1s 8ms/step - loss: 0.4291 - accuracy: 0.8494 - val_loss: 0.4452 - val_accuracy: 0.8409\n",
            "Epoch 14/20\n",
            "188/188 [==============================] - 1s 8ms/step - loss: 0.4258 - accuracy: 0.8511 - val_loss: 0.4403 - val_accuracy: 0.8436\n",
            "Epoch 15/20\n",
            "188/188 [==============================] - 1s 8ms/step - loss: 0.4209 - accuracy: 0.8522 - val_loss: 0.4369 - val_accuracy: 0.8458\n",
            "Epoch 16/20\n",
            "188/188 [==============================] - 1s 7ms/step - loss: 0.4177 - accuracy: 0.8545 - val_loss: 0.4313 - val_accuracy: 0.8462\n",
            "Epoch 17/20\n",
            "188/188 [==============================] - 1s 7ms/step - loss: 0.4130 - accuracy: 0.8565 - val_loss: 0.4357 - val_accuracy: 0.8444\n",
            "Epoch 18/20\n",
            "188/188 [==============================] - 1s 7ms/step - loss: 0.4098 - accuracy: 0.8565 - val_loss: 0.4282 - val_accuracy: 0.8500\n",
            "Epoch 19/20\n",
            "188/188 [==============================] - 1s 7ms/step - loss: 0.4061 - accuracy: 0.8586 - val_loss: 0.4192 - val_accuracy: 0.8517\n",
            "Epoch 20/20\n",
            "188/188 [==============================] - 1s 7ms/step - loss: 0.4042 - accuracy: 0.8576 - val_loss: 0.4181 - val_accuracy: 0.8532\n"
          ],
          "name": "stdout"
        },
        {
          "output_type": "display_data",
          "data": {
            "text/html": [
              "<span style=\"color:#4527A0\"><h1 style=\"font-size:18px\">Trial complete</h1></span>"
            ],
            "text/plain": [
              "<IPython.core.display.HTML object>"
            ]
          },
          "metadata": {
            "tags": []
          }
        },
        {
          "output_type": "display_data",
          "data": {
            "text/html": [
              "<span style=\"color:#4527A0\"><h1 style=\"font-size:18px\">Trial summary</h1></span>"
            ],
            "text/plain": [
              "<IPython.core.display.HTML object>"
            ]
          },
          "metadata": {
            "tags": []
          }
        },
        {
          "output_type": "display_data",
          "data": {
            "text/html": [
              "<span style=\"color:cyan\"> |-Trial ID: b37d3e3a1ed7943d82f85b83794d7b8e</span>"
            ],
            "text/plain": [
              "<IPython.core.display.HTML object>"
            ]
          },
          "metadata": {
            "tags": []
          }
        },
        {
          "output_type": "display_data",
          "data": {
            "text/html": [
              "<span style=\"color:cyan\"> |-Score: 0.8531666398048401</span>"
            ],
            "text/plain": [
              "<IPython.core.display.HTML object>"
            ]
          },
          "metadata": {
            "tags": []
          }
        },
        {
          "output_type": "display_data",
          "data": {
            "text/html": [
              "<span style=\"color:cyan\"> |-Best step: 0</span>"
            ],
            "text/plain": [
              "<IPython.core.display.HTML object>"
            ]
          },
          "metadata": {
            "tags": []
          }
        },
        {
          "output_type": "display_data",
          "data": {
            "text/html": [
              "<span style=\"color:#7E57C2\"><h2 style=\"font-size:16px\">Hyperparameters:</h2></span>"
            ],
            "text/plain": [
              "<IPython.core.display.HTML object>"
            ]
          },
          "metadata": {
            "tags": []
          }
        },
        {
          "output_type": "display_data",
          "data": {
            "text/html": [
              "<span style=\"color:cyan\"> |-activation: elu</span>"
            ],
            "text/plain": [
              "<IPython.core.display.HTML object>"
            ]
          },
          "metadata": {
            "tags": []
          }
        },
        {
          "output_type": "display_data",
          "data": {
            "text/html": [
              "<span style=\"color:blue\"> |-optimizer: SGD</span>"
            ],
            "text/plain": [
              "<IPython.core.display.HTML object>"
            ]
          },
          "metadata": {
            "tags": []
          }
        },
        {
          "output_type": "display_data",
          "data": {
            "text/html": [
              "<span style=\"color:cyan\"> |-units_hidden: 576</span>"
            ],
            "text/plain": [
              "<IPython.core.display.HTML object>"
            ]
          },
          "metadata": {
            "tags": []
          }
        },
        {
          "output_type": "display_data",
          "data": {
            "text/html": [
              "<span style=\"color:blue\"> |-units_input: 608</span>"
            ],
            "text/plain": [
              "<IPython.core.display.HTML object>"
            ]
          },
          "metadata": {
            "tags": []
          }
        },
        {
          "output_type": "stream",
          "text": [
            "Epoch 1/20\n",
            "188/188 [==============================] - 2s 9ms/step - loss: 0.5213 - accuracy: 0.8124 - val_loss: 0.3868 - val_accuracy: 0.8584\n",
            "Epoch 2/20\n",
            "188/188 [==============================] - 1s 8ms/step - loss: 0.3602 - accuracy: 0.8690 - val_loss: 0.3497 - val_accuracy: 0.8708\n",
            "Epoch 3/20\n",
            "188/188 [==============================] - 1s 8ms/step - loss: 0.3179 - accuracy: 0.8808 - val_loss: 0.3349 - val_accuracy: 0.8768\n",
            "Epoch 4/20\n",
            "188/188 [==============================] - 2s 8ms/step - loss: 0.2943 - accuracy: 0.8900 - val_loss: 0.3235 - val_accuracy: 0.8815\n",
            "Epoch 5/20\n",
            "188/188 [==============================] - 2s 8ms/step - loss: 0.2734 - accuracy: 0.8982 - val_loss: 0.3137 - val_accuracy: 0.8879\n",
            "Epoch 6/20\n",
            "188/188 [==============================] - 1s 8ms/step - loss: 0.2625 - accuracy: 0.9004 - val_loss: 0.3133 - val_accuracy: 0.8867\n",
            "Epoch 7/20\n",
            "188/188 [==============================] - 1s 8ms/step - loss: 0.2520 - accuracy: 0.9044 - val_loss: 0.3155 - val_accuracy: 0.8878\n",
            "Epoch 8/20\n",
            "188/188 [==============================] - 2s 8ms/step - loss: 0.2356 - accuracy: 0.9111 - val_loss: 0.3154 - val_accuracy: 0.8871\n",
            "Epoch 9/20\n",
            "188/188 [==============================] - 2s 8ms/step - loss: 0.2215 - accuracy: 0.9165 - val_loss: 0.3068 - val_accuracy: 0.8955\n",
            "Epoch 10/20\n",
            "188/188 [==============================] - 2s 9ms/step - loss: 0.2133 - accuracy: 0.9190 - val_loss: 0.3144 - val_accuracy: 0.8932\n",
            "Epoch 11/20\n",
            "188/188 [==============================] - 2s 8ms/step - loss: 0.2079 - accuracy: 0.9215 - val_loss: 0.3152 - val_accuracy: 0.8917\n",
            "Epoch 12/20\n",
            "188/188 [==============================] - 1s 8ms/step - loss: 0.1989 - accuracy: 0.9242 - val_loss: 0.3435 - val_accuracy: 0.8842\n",
            "Epoch 13/20\n",
            "188/188 [==============================] - 1s 8ms/step - loss: 0.1945 - accuracy: 0.9253 - val_loss: 0.3504 - val_accuracy: 0.8856\n",
            "Epoch 14/20\n",
            "188/188 [==============================] - 2s 9ms/step - loss: 0.1883 - accuracy: 0.9275 - val_loss: 0.3134 - val_accuracy: 0.8960\n",
            "Epoch 15/20\n",
            "188/188 [==============================] - 2s 8ms/step - loss: 0.1720 - accuracy: 0.9347 - val_loss: 0.3281 - val_accuracy: 0.8980\n",
            "Epoch 16/20\n",
            "188/188 [==============================] - 1s 8ms/step - loss: 0.1705 - accuracy: 0.9337 - val_loss: 0.3281 - val_accuracy: 0.8957\n",
            "Epoch 17/20\n",
            "188/188 [==============================] - 1s 8ms/step - loss: 0.1646 - accuracy: 0.9366 - val_loss: 0.3297 - val_accuracy: 0.8935\n",
            "Epoch 18/20\n",
            "188/188 [==============================] - 1s 8ms/step - loss: 0.1531 - accuracy: 0.9401 - val_loss: 0.3588 - val_accuracy: 0.8916\n",
            "Epoch 19/20\n",
            "188/188 [==============================] - 1s 8ms/step - loss: 0.1513 - accuracy: 0.9425 - val_loss: 0.3519 - val_accuracy: 0.8938\n",
            "Epoch 20/20\n",
            "188/188 [==============================] - 2s 8ms/step - loss: 0.1429 - accuracy: 0.9457 - val_loss: 0.3674 - val_accuracy: 0.8941\n"
          ],
          "name": "stdout"
        },
        {
          "output_type": "display_data",
          "data": {
            "text/html": [
              "<span style=\"color:#4527A0\"><h1 style=\"font-size:18px\">Trial complete</h1></span>"
            ],
            "text/plain": [
              "<IPython.core.display.HTML object>"
            ]
          },
          "metadata": {
            "tags": []
          }
        },
        {
          "output_type": "display_data",
          "data": {
            "text/html": [
              "<span style=\"color:#4527A0\"><h1 style=\"font-size:18px\">Trial summary</h1></span>"
            ],
            "text/plain": [
              "<IPython.core.display.HTML object>"
            ]
          },
          "metadata": {
            "tags": []
          }
        },
        {
          "output_type": "display_data",
          "data": {
            "text/html": [
              "<span style=\"color:cyan\"> |-Trial ID: 1718d810d453141a2fc08fe4a8e55e2a</span>"
            ],
            "text/plain": [
              "<IPython.core.display.HTML object>"
            ]
          },
          "metadata": {
            "tags": []
          }
        },
        {
          "output_type": "display_data",
          "data": {
            "text/html": [
              "<span style=\"color:cyan\"> |-Score: 0.8980000019073486</span>"
            ],
            "text/plain": [
              "<IPython.core.display.HTML object>"
            ]
          },
          "metadata": {
            "tags": []
          }
        },
        {
          "output_type": "display_data",
          "data": {
            "text/html": [
              "<span style=\"color:cyan\"> |-Best step: 0</span>"
            ],
            "text/plain": [
              "<IPython.core.display.HTML object>"
            ]
          },
          "metadata": {
            "tags": []
          }
        },
        {
          "output_type": "display_data",
          "data": {
            "text/html": [
              "<span style=\"color:#7E57C2\"><h2 style=\"font-size:16px\">Hyperparameters:</h2></span>"
            ],
            "text/plain": [
              "<IPython.core.display.HTML object>"
            ]
          },
          "metadata": {
            "tags": []
          }
        },
        {
          "output_type": "display_data",
          "data": {
            "text/html": [
              "<span style=\"color:cyan\"> |-activation: relu</span>"
            ],
            "text/plain": [
              "<IPython.core.display.HTML object>"
            ]
          },
          "metadata": {
            "tags": []
          }
        },
        {
          "output_type": "display_data",
          "data": {
            "text/html": [
              "<span style=\"color:blue\"> |-optimizer: adam</span>"
            ],
            "text/plain": [
              "<IPython.core.display.HTML object>"
            ]
          },
          "metadata": {
            "tags": []
          }
        },
        {
          "output_type": "display_data",
          "data": {
            "text/html": [
              "<span style=\"color:cyan\"> |-units_hidden: 480</span>"
            ],
            "text/plain": [
              "<IPython.core.display.HTML object>"
            ]
          },
          "metadata": {
            "tags": []
          }
        },
        {
          "output_type": "display_data",
          "data": {
            "text/html": [
              "<span style=\"color:blue\"> |-units_input: 832</span>"
            ],
            "text/plain": [
              "<IPython.core.display.HTML object>"
            ]
          },
          "metadata": {
            "tags": []
          }
        },
        {
          "output_type": "stream",
          "text": [
            "Epoch 1/20\n",
            "188/188 [==============================] - 2s 9ms/step - loss: 0.6738 - accuracy: 0.7853 - val_loss: 0.4630 - val_accuracy: 0.8271\n",
            "Epoch 2/20\n",
            "188/188 [==============================] - 2s 8ms/step - loss: 0.4090 - accuracy: 0.8513 - val_loss: 0.3799 - val_accuracy: 0.8654\n",
            "Epoch 3/20\n",
            "188/188 [==============================] - 1s 8ms/step - loss: 0.3704 - accuracy: 0.8655 - val_loss: 0.4087 - val_accuracy: 0.8535\n",
            "Epoch 4/20\n",
            "188/188 [==============================] - 1s 8ms/step - loss: 0.3379 - accuracy: 0.8754 - val_loss: 0.3864 - val_accuracy: 0.8523\n",
            "Epoch 5/20\n",
            "188/188 [==============================] - 1s 8ms/step - loss: 0.3179 - accuracy: 0.8835 - val_loss: 0.3502 - val_accuracy: 0.8750\n",
            "Epoch 6/20\n",
            "188/188 [==============================] - 1s 8ms/step - loss: 0.3091 - accuracy: 0.8860 - val_loss: 0.4112 - val_accuracy: 0.8508\n",
            "Epoch 7/20\n",
            "188/188 [==============================] - 1s 8ms/step - loss: 0.2953 - accuracy: 0.8908 - val_loss: 0.3494 - val_accuracy: 0.8739\n",
            "Epoch 8/20\n",
            "188/188 [==============================] - 2s 8ms/step - loss: 0.2807 - accuracy: 0.8955 - val_loss: 0.3551 - val_accuracy: 0.8784\n",
            "Epoch 9/20\n",
            "188/188 [==============================] - 1s 8ms/step - loss: 0.2663 - accuracy: 0.9011 - val_loss: 0.3704 - val_accuracy: 0.8687\n",
            "Epoch 10/20\n",
            "188/188 [==============================] - 2s 8ms/step - loss: 0.2569 - accuracy: 0.9037 - val_loss: 0.3530 - val_accuracy: 0.8817\n",
            "Epoch 11/20\n",
            "188/188 [==============================] - 1s 8ms/step - loss: 0.2518 - accuracy: 0.9050 - val_loss: 0.3721 - val_accuracy: 0.8766\n",
            "Epoch 12/20\n",
            "188/188 [==============================] - 2s 8ms/step - loss: 0.2383 - accuracy: 0.9097 - val_loss: 0.3275 - val_accuracy: 0.8882\n",
            "Epoch 13/20\n",
            "188/188 [==============================] - 2s 8ms/step - loss: 0.2354 - accuracy: 0.9108 - val_loss: 0.3419 - val_accuracy: 0.8813\n",
            "Epoch 14/20\n",
            "188/188 [==============================] - 1s 8ms/step - loss: 0.2205 - accuracy: 0.9162 - val_loss: 0.3418 - val_accuracy: 0.8848\n",
            "Epoch 15/20\n",
            "188/188 [==============================] - 1s 8ms/step - loss: 0.2194 - accuracy: 0.9174 - val_loss: 0.3629 - val_accuracy: 0.8745\n",
            "Epoch 16/20\n",
            "188/188 [==============================] - 1s 8ms/step - loss: 0.2107 - accuracy: 0.9212 - val_loss: 0.3234 - val_accuracy: 0.8915\n",
            "Epoch 17/20\n",
            "188/188 [==============================] - 2s 8ms/step - loss: 0.2002 - accuracy: 0.9243 - val_loss: 0.3678 - val_accuracy: 0.8827\n",
            "Epoch 18/20\n",
            "188/188 [==============================] - 1s 8ms/step - loss: 0.1991 - accuracy: 0.9244 - val_loss: 0.3709 - val_accuracy: 0.8767\n",
            "Epoch 19/20\n",
            "188/188 [==============================] - 1s 8ms/step - loss: 0.1909 - accuracy: 0.9287 - val_loss: 0.3887 - val_accuracy: 0.8872\n",
            "Epoch 20/20\n",
            "188/188 [==============================] - 1s 8ms/step - loss: 0.1783 - accuracy: 0.9330 - val_loss: 0.3957 - val_accuracy: 0.8840\n"
          ],
          "name": "stdout"
        },
        {
          "output_type": "display_data",
          "data": {
            "text/html": [
              "<span style=\"color:#4527A0\"><h1 style=\"font-size:18px\">Trial complete</h1></span>"
            ],
            "text/plain": [
              "<IPython.core.display.HTML object>"
            ]
          },
          "metadata": {
            "tags": []
          }
        },
        {
          "output_type": "display_data",
          "data": {
            "text/html": [
              "<span style=\"color:#4527A0\"><h1 style=\"font-size:18px\">Trial summary</h1></span>"
            ],
            "text/plain": [
              "<IPython.core.display.HTML object>"
            ]
          },
          "metadata": {
            "tags": []
          }
        },
        {
          "output_type": "display_data",
          "data": {
            "text/html": [
              "<span style=\"color:cyan\"> |-Trial ID: e7dc6d848f67f1224acdca21ffbe8887</span>"
            ],
            "text/plain": [
              "<IPython.core.display.HTML object>"
            ]
          },
          "metadata": {
            "tags": []
          }
        },
        {
          "output_type": "display_data",
          "data": {
            "text/html": [
              "<span style=\"color:cyan\"> |-Score: 0.8914999961853027</span>"
            ],
            "text/plain": [
              "<IPython.core.display.HTML object>"
            ]
          },
          "metadata": {
            "tags": []
          }
        },
        {
          "output_type": "display_data",
          "data": {
            "text/html": [
              "<span style=\"color:cyan\"> |-Best step: 0</span>"
            ],
            "text/plain": [
              "<IPython.core.display.HTML object>"
            ]
          },
          "metadata": {
            "tags": []
          }
        },
        {
          "output_type": "display_data",
          "data": {
            "text/html": [
              "<span style=\"color:#7E57C2\"><h2 style=\"font-size:16px\">Hyperparameters:</h2></span>"
            ],
            "text/plain": [
              "<IPython.core.display.HTML object>"
            ]
          },
          "metadata": {
            "tags": []
          }
        },
        {
          "output_type": "display_data",
          "data": {
            "text/html": [
              "<span style=\"color:cyan\"> |-activation: selu</span>"
            ],
            "text/plain": [
              "<IPython.core.display.HTML object>"
            ]
          },
          "metadata": {
            "tags": []
          }
        },
        {
          "output_type": "display_data",
          "data": {
            "text/html": [
              "<span style=\"color:blue\"> |-optimizer: adam</span>"
            ],
            "text/plain": [
              "<IPython.core.display.HTML object>"
            ]
          },
          "metadata": {
            "tags": []
          }
        },
        {
          "output_type": "display_data",
          "data": {
            "text/html": [
              "<span style=\"color:cyan\"> |-units_hidden: 512</span>"
            ],
            "text/plain": [
              "<IPython.core.display.HTML object>"
            ]
          },
          "metadata": {
            "tags": []
          }
        },
        {
          "output_type": "display_data",
          "data": {
            "text/html": [
              "<span style=\"color:blue\"> |-units_input: 736</span>"
            ],
            "text/plain": [
              "<IPython.core.display.HTML object>"
            ]
          },
          "metadata": {
            "tags": []
          }
        },
        {
          "output_type": "stream",
          "text": [
            "Epoch 1/20\n",
            "188/188 [==============================] - 2s 10ms/step - loss: 0.6951 - accuracy: 0.7484 - val_loss: 0.6022 - val_accuracy: 0.7788\n",
            "Epoch 2/20\n",
            "188/188 [==============================] - 2s 9ms/step - loss: 0.4434 - accuracy: 0.8336 - val_loss: 0.6607 - val_accuracy: 0.7682\n",
            "Epoch 3/20\n",
            "188/188 [==============================] - 2s 9ms/step - loss: 0.3824 - accuracy: 0.8569 - val_loss: 0.4209 - val_accuracy: 0.8452\n",
            "Epoch 4/20\n",
            "188/188 [==============================] - 2s 9ms/step - loss: 0.3436 - accuracy: 0.8711 - val_loss: 0.3455 - val_accuracy: 0.8746\n",
            "Epoch 5/20\n",
            "188/188 [==============================] - 2s 9ms/step - loss: 0.3183 - accuracy: 0.8806 - val_loss: 0.3845 - val_accuracy: 0.8673\n",
            "Epoch 6/20\n",
            "188/188 [==============================] - 2s 9ms/step - loss: 0.2981 - accuracy: 0.8881 - val_loss: 0.3570 - val_accuracy: 0.8777\n",
            "Epoch 7/20\n",
            "188/188 [==============================] - 2s 9ms/step - loss: 0.2819 - accuracy: 0.8937 - val_loss: 0.4339 - val_accuracy: 0.8537\n",
            "Epoch 8/20\n",
            "188/188 [==============================] - 2s 9ms/step - loss: 0.2647 - accuracy: 0.8998 - val_loss: 0.3502 - val_accuracy: 0.8848\n",
            "Epoch 9/20\n",
            "188/188 [==============================] - 2s 9ms/step - loss: 0.2546 - accuracy: 0.9022 - val_loss: 0.3920 - val_accuracy: 0.8757\n",
            "Epoch 10/20\n",
            "188/188 [==============================] - 2s 9ms/step - loss: 0.2450 - accuracy: 0.9055 - val_loss: 0.3331 - val_accuracy: 0.8904\n",
            "Epoch 11/20\n",
            "188/188 [==============================] - 2s 9ms/step - loss: 0.2377 - accuracy: 0.9094 - val_loss: 0.3994 - val_accuracy: 0.8672\n",
            "Epoch 12/20\n",
            "188/188 [==============================] - 2s 9ms/step - loss: 0.2280 - accuracy: 0.9146 - val_loss: 0.4769 - val_accuracy: 0.8603\n",
            "Epoch 13/20\n",
            "188/188 [==============================] - 2s 9ms/step - loss: 0.2208 - accuracy: 0.9164 - val_loss: 0.4056 - val_accuracy: 0.8846\n",
            "Epoch 14/20\n",
            "188/188 [==============================] - 2s 9ms/step - loss: 0.2157 - accuracy: 0.9188 - val_loss: 0.4452 - val_accuracy: 0.8852\n",
            "Epoch 15/20\n",
            "188/188 [==============================] - 2s 9ms/step - loss: 0.2074 - accuracy: 0.9207 - val_loss: 0.4091 - val_accuracy: 0.8938\n",
            "Epoch 16/20\n",
            "188/188 [==============================] - 2s 9ms/step - loss: 0.2002 - accuracy: 0.9240 - val_loss: 0.4314 - val_accuracy: 0.8946\n",
            "Epoch 17/20\n",
            "188/188 [==============================] - 2s 9ms/step - loss: 0.2026 - accuracy: 0.9256 - val_loss: 0.4269 - val_accuracy: 0.8820\n",
            "Epoch 18/20\n",
            "188/188 [==============================] - 2s 9ms/step - loss: 0.1964 - accuracy: 0.9254 - val_loss: 0.4602 - val_accuracy: 0.8796\n",
            "Epoch 19/20\n",
            "188/188 [==============================] - 2s 8ms/step - loss: 0.1910 - accuracy: 0.9280 - val_loss: 0.4903 - val_accuracy: 0.8914\n",
            "Epoch 20/20\n",
            "188/188 [==============================] - 2s 9ms/step - loss: 0.1889 - accuracy: 0.9295 - val_loss: 0.4372 - val_accuracy: 0.8910\n"
          ],
          "name": "stdout"
        },
        {
          "output_type": "display_data",
          "data": {
            "text/html": [
              "<span style=\"color:#4527A0\"><h1 style=\"font-size:18px\">Trial complete</h1></span>"
            ],
            "text/plain": [
              "<IPython.core.display.HTML object>"
            ]
          },
          "metadata": {
            "tags": []
          }
        },
        {
          "output_type": "display_data",
          "data": {
            "text/html": [
              "<span style=\"color:#4527A0\"><h1 style=\"font-size:18px\">Trial summary</h1></span>"
            ],
            "text/plain": [
              "<IPython.core.display.HTML object>"
            ]
          },
          "metadata": {
            "tags": []
          }
        },
        {
          "output_type": "display_data",
          "data": {
            "text/html": [
              "<span style=\"color:cyan\"> |-Trial ID: f4cb503c18853320798e2f54f00aa256</span>"
            ],
            "text/plain": [
              "<IPython.core.display.HTML object>"
            ]
          },
          "metadata": {
            "tags": []
          }
        },
        {
          "output_type": "display_data",
          "data": {
            "text/html": [
              "<span style=\"color:cyan\"> |-Score: 0.8945833444595337</span>"
            ],
            "text/plain": [
              "<IPython.core.display.HTML object>"
            ]
          },
          "metadata": {
            "tags": []
          }
        },
        {
          "output_type": "display_data",
          "data": {
            "text/html": [
              "<span style=\"color:cyan\"> |-Best step: 0</span>"
            ],
            "text/plain": [
              "<IPython.core.display.HTML object>"
            ]
          },
          "metadata": {
            "tags": []
          }
        },
        {
          "output_type": "display_data",
          "data": {
            "text/html": [
              "<span style=\"color:#7E57C2\"><h2 style=\"font-size:16px\">Hyperparameters:</h2></span>"
            ],
            "text/plain": [
              "<IPython.core.display.HTML object>"
            ]
          },
          "metadata": {
            "tags": []
          }
        },
        {
          "output_type": "display_data",
          "data": {
            "text/html": [
              "<span style=\"color:cyan\"> |-activation: relu</span>"
            ],
            "text/plain": [
              "<IPython.core.display.HTML object>"
            ]
          },
          "metadata": {
            "tags": []
          }
        },
        {
          "output_type": "display_data",
          "data": {
            "text/html": [
              "<span style=\"color:blue\"> |-optimizer: rmsprop</span>"
            ],
            "text/plain": [
              "<IPython.core.display.HTML object>"
            ]
          },
          "metadata": {
            "tags": []
          }
        },
        {
          "output_type": "display_data",
          "data": {
            "text/html": [
              "<span style=\"color:cyan\"> |-units_hidden: 352</span>"
            ],
            "text/plain": [
              "<IPython.core.display.HTML object>"
            ]
          },
          "metadata": {
            "tags": []
          }
        },
        {
          "output_type": "display_data",
          "data": {
            "text/html": [
              "<span style=\"color:blue\"> |-units_input: 960</span>"
            ],
            "text/plain": [
              "<IPython.core.display.HTML object>"
            ]
          },
          "metadata": {
            "tags": []
          }
        },
        {
          "output_type": "stream",
          "text": [
            "Epoch 1/20\n",
            "188/188 [==============================] - 2s 9ms/step - loss: 0.5231 - accuracy: 0.8129 - val_loss: 0.4321 - val_accuracy: 0.8395\n",
            "Epoch 2/20\n",
            "188/188 [==============================] - 2s 8ms/step - loss: 0.3574 - accuracy: 0.8703 - val_loss: 0.3479 - val_accuracy: 0.8729\n",
            "Epoch 3/20\n",
            "188/188 [==============================] - 2s 8ms/step - loss: 0.3186 - accuracy: 0.8826 - val_loss: 0.3342 - val_accuracy: 0.8800\n",
            "Epoch 4/20\n",
            "188/188 [==============================] - 1s 7ms/step - loss: 0.2994 - accuracy: 0.8889 - val_loss: 0.3379 - val_accuracy: 0.8788\n",
            "Epoch 5/20\n",
            "188/188 [==============================] - 1s 8ms/step - loss: 0.2818 - accuracy: 0.8950 - val_loss: 0.3325 - val_accuracy: 0.8808\n",
            "Epoch 6/20\n",
            "188/188 [==============================] - 2s 8ms/step - loss: 0.2608 - accuracy: 0.9019 - val_loss: 0.3165 - val_accuracy: 0.8841\n",
            "Epoch 7/20\n",
            "188/188 [==============================] - 1s 8ms/step - loss: 0.2444 - accuracy: 0.9093 - val_loss: 0.3062 - val_accuracy: 0.8869\n",
            "Epoch 8/20\n",
            "188/188 [==============================] - 1s 8ms/step - loss: 0.2396 - accuracy: 0.9091 - val_loss: 0.3559 - val_accuracy: 0.8758\n",
            "Epoch 9/20\n",
            "188/188 [==============================] - 1s 8ms/step - loss: 0.2250 - accuracy: 0.9156 - val_loss: 0.3300 - val_accuracy: 0.8867\n",
            "Epoch 10/20\n",
            "188/188 [==============================] - 2s 8ms/step - loss: 0.2141 - accuracy: 0.9178 - val_loss: 0.2947 - val_accuracy: 0.8951\n",
            "Epoch 11/20\n",
            "188/188 [==============================] - 1s 8ms/step - loss: 0.2114 - accuracy: 0.9199 - val_loss: 0.3149 - val_accuracy: 0.8910\n",
            "Epoch 12/20\n",
            "188/188 [==============================] - 1s 8ms/step - loss: 0.1968 - accuracy: 0.9241 - val_loss: 0.3253 - val_accuracy: 0.8940\n",
            "Epoch 13/20\n",
            "188/188 [==============================] - 1s 8ms/step - loss: 0.1875 - accuracy: 0.9283 - val_loss: 0.3146 - val_accuracy: 0.8941\n",
            "Epoch 14/20\n",
            "188/188 [==============================] - 1s 7ms/step - loss: 0.1798 - accuracy: 0.9319 - val_loss: 0.3340 - val_accuracy: 0.8935\n",
            "Epoch 15/20\n",
            "188/188 [==============================] - 1s 8ms/step - loss: 0.1750 - accuracy: 0.9336 - val_loss: 0.3239 - val_accuracy: 0.8985\n",
            "Epoch 16/20\n",
            "188/188 [==============================] - 1s 8ms/step - loss: 0.1708 - accuracy: 0.9343 - val_loss: 0.3185 - val_accuracy: 0.8984\n",
            "Epoch 17/20\n",
            "188/188 [==============================] - 1s 8ms/step - loss: 0.1560 - accuracy: 0.9390 - val_loss: 0.3330 - val_accuracy: 0.8953\n",
            "Epoch 18/20\n",
            "188/188 [==============================] - 1s 7ms/step - loss: 0.1534 - accuracy: 0.9413 - val_loss: 0.3654 - val_accuracy: 0.8900\n",
            "Epoch 19/20\n",
            "188/188 [==============================] - 2s 8ms/step - loss: 0.1502 - accuracy: 0.9426 - val_loss: 0.3425 - val_accuracy: 0.8995\n",
            "Epoch 20/20\n",
            "188/188 [==============================] - 1s 8ms/step - loss: 0.1395 - accuracy: 0.9451 - val_loss: 0.3643 - val_accuracy: 0.8953\n"
          ],
          "name": "stdout"
        },
        {
          "output_type": "display_data",
          "data": {
            "text/html": [
              "<span style=\"color:#4527A0\"><h1 style=\"font-size:18px\">Trial complete</h1></span>"
            ],
            "text/plain": [
              "<IPython.core.display.HTML object>"
            ]
          },
          "metadata": {
            "tags": []
          }
        },
        {
          "output_type": "display_data",
          "data": {
            "text/html": [
              "<span style=\"color:#4527A0\"><h1 style=\"font-size:18px\">Trial summary</h1></span>"
            ],
            "text/plain": [
              "<IPython.core.display.HTML object>"
            ]
          },
          "metadata": {
            "tags": []
          }
        },
        {
          "output_type": "display_data",
          "data": {
            "text/html": [
              "<span style=\"color:cyan\"> |-Trial ID: 879c828424fc212aa531150c0be0dcc7</span>"
            ],
            "text/plain": [
              "<IPython.core.display.HTML object>"
            ]
          },
          "metadata": {
            "tags": []
          }
        },
        {
          "output_type": "display_data",
          "data": {
            "text/html": [
              "<span style=\"color:cyan\"> |-Score: 0.8995000123977661</span>"
            ],
            "text/plain": [
              "<IPython.core.display.HTML object>"
            ]
          },
          "metadata": {
            "tags": []
          }
        },
        {
          "output_type": "display_data",
          "data": {
            "text/html": [
              "<span style=\"color:cyan\"> |-Best step: 0</span>"
            ],
            "text/plain": [
              "<IPython.core.display.HTML object>"
            ]
          },
          "metadata": {
            "tags": []
          }
        },
        {
          "output_type": "display_data",
          "data": {
            "text/html": [
              "<span style=\"color:#7E57C2\"><h2 style=\"font-size:16px\">Hyperparameters:</h2></span>"
            ],
            "text/plain": [
              "<IPython.core.display.HTML object>"
            ]
          },
          "metadata": {
            "tags": []
          }
        },
        {
          "output_type": "display_data",
          "data": {
            "text/html": [
              "<span style=\"color:cyan\"> |-activation: relu</span>"
            ],
            "text/plain": [
              "<IPython.core.display.HTML object>"
            ]
          },
          "metadata": {
            "tags": []
          }
        },
        {
          "output_type": "display_data",
          "data": {
            "text/html": [
              "<span style=\"color:blue\"> |-optimizer: adam</span>"
            ],
            "text/plain": [
              "<IPython.core.display.HTML object>"
            ]
          },
          "metadata": {
            "tags": []
          }
        },
        {
          "output_type": "display_data",
          "data": {
            "text/html": [
              "<span style=\"color:cyan\"> |-units_hidden: 544</span>"
            ],
            "text/plain": [
              "<IPython.core.display.HTML object>"
            ]
          },
          "metadata": {
            "tags": []
          }
        },
        {
          "output_type": "display_data",
          "data": {
            "text/html": [
              "<span style=\"color:blue\"> |-units_input: 704</span>"
            ],
            "text/plain": [
              "<IPython.core.display.HTML object>"
            ]
          },
          "metadata": {
            "tags": []
          }
        },
        {
          "output_type": "stream",
          "text": [
            "Epoch 1/20\n",
            "188/188 [==============================] - 2s 9ms/step - loss: 0.6318 - accuracy: 0.7966 - val_loss: 0.4691 - val_accuracy: 0.8326\n",
            "Epoch 2/20\n",
            "188/188 [==============================] - 2s 8ms/step - loss: 0.4126 - accuracy: 0.8509 - val_loss: 0.4093 - val_accuracy: 0.8519\n",
            "Epoch 3/20\n",
            "188/188 [==============================] - 1s 8ms/step - loss: 0.3670 - accuracy: 0.8663 - val_loss: 0.3588 - val_accuracy: 0.8684\n",
            "Epoch 4/20\n",
            "188/188 [==============================] - 1s 8ms/step - loss: 0.3356 - accuracy: 0.8776 - val_loss: 0.4254 - val_accuracy: 0.8572\n",
            "Epoch 5/20\n",
            "188/188 [==============================] - 2s 8ms/step - loss: 0.3207 - accuracy: 0.8824 - val_loss: 0.4092 - val_accuracy: 0.8543\n",
            "Epoch 6/20\n",
            "188/188 [==============================] - 2s 8ms/step - loss: 0.3043 - accuracy: 0.8879 - val_loss: 0.3948 - val_accuracy: 0.8717\n",
            "Epoch 7/20\n",
            "188/188 [==============================] - 2s 8ms/step - loss: 0.2892 - accuracy: 0.8929 - val_loss: 0.3420 - val_accuracy: 0.8775\n",
            "Epoch 8/20\n",
            "188/188 [==============================] - 2s 8ms/step - loss: 0.2736 - accuracy: 0.8977 - val_loss: 0.3388 - val_accuracy: 0.8793\n",
            "Epoch 9/20\n",
            "188/188 [==============================] - 2s 9ms/step - loss: 0.2602 - accuracy: 0.9022 - val_loss: 0.3362 - val_accuracy: 0.8824\n",
            "Epoch 10/20\n",
            "188/188 [==============================] - 1s 8ms/step - loss: 0.2582 - accuracy: 0.9030 - val_loss: 0.3854 - val_accuracy: 0.8714\n",
            "Epoch 11/20\n",
            "188/188 [==============================] - 1s 8ms/step - loss: 0.2503 - accuracy: 0.9059 - val_loss: 0.3394 - val_accuracy: 0.8816\n",
            "Epoch 12/20\n",
            "188/188 [==============================] - 1s 8ms/step - loss: 0.2317 - accuracy: 0.9124 - val_loss: 0.3674 - val_accuracy: 0.8789\n",
            "Epoch 13/20\n",
            "188/188 [==============================] - 2s 8ms/step - loss: 0.2344 - accuracy: 0.9120 - val_loss: 0.3626 - val_accuracy: 0.8873\n",
            "Epoch 14/20\n",
            "188/188 [==============================] - 1s 8ms/step - loss: 0.2267 - accuracy: 0.9145 - val_loss: 0.3762 - val_accuracy: 0.8709\n",
            "Epoch 15/20\n",
            "188/188 [==============================] - 1s 8ms/step - loss: 0.2195 - accuracy: 0.9170 - val_loss: 0.3436 - val_accuracy: 0.8843\n",
            "Epoch 16/20\n",
            "188/188 [==============================] - 1s 8ms/step - loss: 0.2149 - accuracy: 0.9182 - val_loss: 0.4230 - val_accuracy: 0.8687\n",
            "Epoch 17/20\n",
            "188/188 [==============================] - 2s 8ms/step - loss: 0.2010 - accuracy: 0.9228 - val_loss: 0.3414 - val_accuracy: 0.8903\n",
            "Epoch 18/20\n",
            "188/188 [==============================] - 2s 8ms/step - loss: 0.1972 - accuracy: 0.9258 - val_loss: 0.4192 - val_accuracy: 0.8769\n",
            "Epoch 19/20\n",
            "188/188 [==============================] - 1s 8ms/step - loss: 0.1982 - accuracy: 0.9245 - val_loss: 0.3800 - val_accuracy: 0.8840\n",
            "Epoch 20/20\n",
            "188/188 [==============================] - 1s 7ms/step - loss: 0.1798 - accuracy: 0.9317 - val_loss: 0.3746 - val_accuracy: 0.8869\n"
          ],
          "name": "stdout"
        },
        {
          "output_type": "display_data",
          "data": {
            "text/html": [
              "<span style=\"color:#4527A0\"><h1 style=\"font-size:18px\">Trial complete</h1></span>"
            ],
            "text/plain": [
              "<IPython.core.display.HTML object>"
            ]
          },
          "metadata": {
            "tags": []
          }
        },
        {
          "output_type": "display_data",
          "data": {
            "text/html": [
              "<span style=\"color:#4527A0\"><h1 style=\"font-size:18px\">Trial summary</h1></span>"
            ],
            "text/plain": [
              "<IPython.core.display.HTML object>"
            ]
          },
          "metadata": {
            "tags": []
          }
        },
        {
          "output_type": "display_data",
          "data": {
            "text/html": [
              "<span style=\"color:cyan\"> |-Trial ID: 4eef72469454274db8b1c856da65eaaa</span>"
            ],
            "text/plain": [
              "<IPython.core.display.HTML object>"
            ]
          },
          "metadata": {
            "tags": []
          }
        },
        {
          "output_type": "display_data",
          "data": {
            "text/html": [
              "<span style=\"color:cyan\"> |-Score: 0.890250027179718</span>"
            ],
            "text/plain": [
              "<IPython.core.display.HTML object>"
            ]
          },
          "metadata": {
            "tags": []
          }
        },
        {
          "output_type": "display_data",
          "data": {
            "text/html": [
              "<span style=\"color:cyan\"> |-Best step: 0</span>"
            ],
            "text/plain": [
              "<IPython.core.display.HTML object>"
            ]
          },
          "metadata": {
            "tags": []
          }
        },
        {
          "output_type": "display_data",
          "data": {
            "text/html": [
              "<span style=\"color:#7E57C2\"><h2 style=\"font-size:16px\">Hyperparameters:</h2></span>"
            ],
            "text/plain": [
              "<IPython.core.display.HTML object>"
            ]
          },
          "metadata": {
            "tags": []
          }
        },
        {
          "output_type": "display_data",
          "data": {
            "text/html": [
              "<span style=\"color:cyan\"> |-activation: selu</span>"
            ],
            "text/plain": [
              "<IPython.core.display.HTML object>"
            ]
          },
          "metadata": {
            "tags": []
          }
        },
        {
          "output_type": "display_data",
          "data": {
            "text/html": [
              "<span style=\"color:blue\"> |-optimizer: adam</span>"
            ],
            "text/plain": [
              "<IPython.core.display.HTML object>"
            ]
          },
          "metadata": {
            "tags": []
          }
        },
        {
          "output_type": "display_data",
          "data": {
            "text/html": [
              "<span style=\"color:cyan\"> |-units_hidden: 544</span>"
            ],
            "text/plain": [
              "<IPython.core.display.HTML object>"
            ]
          },
          "metadata": {
            "tags": []
          }
        },
        {
          "output_type": "display_data",
          "data": {
            "text/html": [
              "<span style=\"color:blue\"> |-units_input: 832</span>"
            ],
            "text/plain": [
              "<IPython.core.display.HTML object>"
            ]
          },
          "metadata": {
            "tags": []
          }
        },
        {
          "output_type": "stream",
          "text": [
            "Epoch 1/20\n",
            "188/188 [==============================] - 1s 8ms/step - loss: 1.5090 - accuracy: 0.5749 - val_loss: 0.9622 - val_accuracy: 0.6864\n",
            "Epoch 2/20\n",
            "188/188 [==============================] - 1s 7ms/step - loss: 0.8290 - accuracy: 0.7251 - val_loss: 0.7314 - val_accuracy: 0.7522\n",
            "Epoch 3/20\n",
            "188/188 [==============================] - 1s 7ms/step - loss: 0.6843 - accuracy: 0.7734 - val_loss: 0.6349 - val_accuracy: 0.7917\n",
            "Epoch 4/20\n",
            "188/188 [==============================] - 1s 7ms/step - loss: 0.6130 - accuracy: 0.7957 - val_loss: 0.5837 - val_accuracy: 0.8035\n",
            "Epoch 5/20\n",
            "188/188 [==============================] - 1s 7ms/step - loss: 0.5687 - accuracy: 0.8092 - val_loss: 0.5546 - val_accuracy: 0.8090\n",
            "Epoch 6/20\n",
            "188/188 [==============================] - 1s 7ms/step - loss: 0.5373 - accuracy: 0.8183 - val_loss: 0.5224 - val_accuracy: 0.8188\n",
            "Epoch 7/20\n",
            "188/188 [==============================] - 1s 7ms/step - loss: 0.5166 - accuracy: 0.8241 - val_loss: 0.5176 - val_accuracy: 0.8166\n",
            "Epoch 8/20\n",
            "188/188 [==============================] - 1s 7ms/step - loss: 0.4971 - accuracy: 0.8296 - val_loss: 0.4902 - val_accuracy: 0.8272\n",
            "Epoch 9/20\n",
            "188/188 [==============================] - 1s 6ms/step - loss: 0.4837 - accuracy: 0.8328 - val_loss: 0.4983 - val_accuracy: 0.8251\n",
            "Epoch 10/20\n",
            "188/188 [==============================] - 1s 7ms/step - loss: 0.4749 - accuracy: 0.8358 - val_loss: 0.4690 - val_accuracy: 0.8378\n",
            "Epoch 11/20\n",
            "188/188 [==============================] - 1s 7ms/step - loss: 0.4617 - accuracy: 0.8397 - val_loss: 0.4727 - val_accuracy: 0.8329\n",
            "Epoch 12/20\n",
            "188/188 [==============================] - 1s 7ms/step - loss: 0.4563 - accuracy: 0.8409 - val_loss: 0.5206 - val_accuracy: 0.8078\n",
            "Epoch 13/20\n",
            "188/188 [==============================] - 1s 7ms/step - loss: 0.4479 - accuracy: 0.8441 - val_loss: 0.4506 - val_accuracy: 0.8412\n",
            "Epoch 14/20\n",
            "188/188 [==============================] - 1s 7ms/step - loss: 0.4397 - accuracy: 0.8462 - val_loss: 0.4440 - val_accuracy: 0.8447\n",
            "Epoch 15/20\n",
            "188/188 [==============================] - 1s 7ms/step - loss: 0.4341 - accuracy: 0.8485 - val_loss: 0.4482 - val_accuracy: 0.8407\n",
            "Epoch 16/20\n",
            "188/188 [==============================] - 1s 7ms/step - loss: 0.4261 - accuracy: 0.8511 - val_loss: 0.4314 - val_accuracy: 0.8497\n",
            "Epoch 17/20\n",
            "188/188 [==============================] - 1s 7ms/step - loss: 0.4232 - accuracy: 0.8521 - val_loss: 0.4365 - val_accuracy: 0.8445\n",
            "Epoch 18/20\n",
            "188/188 [==============================] - 1s 7ms/step - loss: 0.4195 - accuracy: 0.8542 - val_loss: 0.4260 - val_accuracy: 0.8503\n",
            "Epoch 19/20\n",
            "188/188 [==============================] - 1s 7ms/step - loss: 0.4118 - accuracy: 0.8564 - val_loss: 0.4226 - val_accuracy: 0.8528\n",
            "Epoch 20/20\n",
            "188/188 [==============================] - 1s 7ms/step - loss: 0.4067 - accuracy: 0.8587 - val_loss: 0.4527 - val_accuracy: 0.8397\n"
          ],
          "name": "stdout"
        },
        {
          "output_type": "display_data",
          "data": {
            "text/html": [
              "<span style=\"color:#4527A0\"><h1 style=\"font-size:18px\">Trial complete</h1></span>"
            ],
            "text/plain": [
              "<IPython.core.display.HTML object>"
            ]
          },
          "metadata": {
            "tags": []
          }
        },
        {
          "output_type": "display_data",
          "data": {
            "text/html": [
              "<span style=\"color:#4527A0\"><h1 style=\"font-size:18px\">Trial summary</h1></span>"
            ],
            "text/plain": [
              "<IPython.core.display.HTML object>"
            ]
          },
          "metadata": {
            "tags": []
          }
        },
        {
          "output_type": "display_data",
          "data": {
            "text/html": [
              "<span style=\"color:cyan\"> |-Trial ID: 951fcce5a9ba0ba1b413e7ddde476b98</span>"
            ],
            "text/plain": [
              "<IPython.core.display.HTML object>"
            ]
          },
          "metadata": {
            "tags": []
          }
        },
        {
          "output_type": "display_data",
          "data": {
            "text/html": [
              "<span style=\"color:cyan\"> |-Score: 0.8527500033378601</span>"
            ],
            "text/plain": [
              "<IPython.core.display.HTML object>"
            ]
          },
          "metadata": {
            "tags": []
          }
        },
        {
          "output_type": "display_data",
          "data": {
            "text/html": [
              "<span style=\"color:cyan\"> |-Best step: 0</span>"
            ],
            "text/plain": [
              "<IPython.core.display.HTML object>"
            ]
          },
          "metadata": {
            "tags": []
          }
        },
        {
          "output_type": "display_data",
          "data": {
            "text/html": [
              "<span style=\"color:#7E57C2\"><h2 style=\"font-size:16px\">Hyperparameters:</h2></span>"
            ],
            "text/plain": [
              "<IPython.core.display.HTML object>"
            ]
          },
          "metadata": {
            "tags": []
          }
        },
        {
          "output_type": "display_data",
          "data": {
            "text/html": [
              "<span style=\"color:cyan\"> |-activation: relu</span>"
            ],
            "text/plain": [
              "<IPython.core.display.HTML object>"
            ]
          },
          "metadata": {
            "tags": []
          }
        },
        {
          "output_type": "display_data",
          "data": {
            "text/html": [
              "<span style=\"color:blue\"> |-optimizer: SGD</span>"
            ],
            "text/plain": [
              "<IPython.core.display.HTML object>"
            ]
          },
          "metadata": {
            "tags": []
          }
        },
        {
          "output_type": "display_data",
          "data": {
            "text/html": [
              "<span style=\"color:cyan\"> |-units_hidden: 480</span>"
            ],
            "text/plain": [
              "<IPython.core.display.HTML object>"
            ]
          },
          "metadata": {
            "tags": []
          }
        },
        {
          "output_type": "display_data",
          "data": {
            "text/html": [
              "<span style=\"color:blue\"> |-units_input: 512</span>"
            ],
            "text/plain": [
              "<IPython.core.display.HTML object>"
            ]
          },
          "metadata": {
            "tags": []
          }
        },
        {
          "output_type": "stream",
          "text": [
            "Epoch 1/20\n",
            "188/188 [==============================] - 2s 9ms/step - loss: 0.7884 - accuracy: 0.7147 - val_loss: 0.5214 - val_accuracy: 0.8012\n",
            "Epoch 2/20\n",
            "188/188 [==============================] - 2s 8ms/step - loss: 0.4869 - accuracy: 0.8170 - val_loss: 0.5305 - val_accuracy: 0.8050\n",
            "Epoch 3/20\n",
            "188/188 [==============================] - 2s 8ms/step - loss: 0.4125 - accuracy: 0.8445 - val_loss: 0.4404 - val_accuracy: 0.8368\n",
            "Epoch 4/20\n",
            "188/188 [==============================] - 2s 8ms/step - loss: 0.3668 - accuracy: 0.8619 - val_loss: 0.4557 - val_accuracy: 0.8341\n",
            "Epoch 5/20\n",
            "188/188 [==============================] - 2s 8ms/step - loss: 0.3389 - accuracy: 0.8717 - val_loss: 0.3851 - val_accuracy: 0.8616\n",
            "Epoch 6/20\n",
            "188/188 [==============================] - 2s 8ms/step - loss: 0.3183 - accuracy: 0.8799 - val_loss: 0.3422 - val_accuracy: 0.8748\n",
            "Epoch 7/20\n",
            "188/188 [==============================] - 1s 8ms/step - loss: 0.2973 - accuracy: 0.8864 - val_loss: 0.4229 - val_accuracy: 0.8362\n",
            "Epoch 8/20\n",
            "188/188 [==============================] - 2s 8ms/step - loss: 0.2795 - accuracy: 0.8940 - val_loss: 0.3592 - val_accuracy: 0.8640\n",
            "Epoch 9/20\n",
            "188/188 [==============================] - 2s 8ms/step - loss: 0.2641 - accuracy: 0.9001 - val_loss: 0.4100 - val_accuracy: 0.8523\n",
            "Epoch 10/20\n",
            "188/188 [==============================] - 2s 8ms/step - loss: 0.2525 - accuracy: 0.9028 - val_loss: 0.4049 - val_accuracy: 0.8478\n",
            "Epoch 11/20\n",
            "188/188 [==============================] - 2s 8ms/step - loss: 0.2425 - accuracy: 0.9070 - val_loss: 0.3360 - val_accuracy: 0.8807\n",
            "Epoch 12/20\n",
            "188/188 [==============================] - 2s 8ms/step - loss: 0.2286 - accuracy: 0.9125 - val_loss: 0.3548 - val_accuracy: 0.8751\n",
            "Epoch 13/20\n",
            "188/188 [==============================] - 1s 8ms/step - loss: 0.2172 - accuracy: 0.9166 - val_loss: 0.3980 - val_accuracy: 0.8637\n",
            "Epoch 14/20\n",
            "188/188 [==============================] - 2s 8ms/step - loss: 0.2105 - accuracy: 0.9179 - val_loss: 0.3495 - val_accuracy: 0.8798\n",
            "Epoch 15/20\n",
            "188/188 [==============================] - 2s 8ms/step - loss: 0.1989 - accuracy: 0.9238 - val_loss: 0.3334 - val_accuracy: 0.8867\n",
            "Epoch 16/20\n",
            "188/188 [==============================] - 2s 8ms/step - loss: 0.1890 - accuracy: 0.9280 - val_loss: 0.3455 - val_accuracy: 0.8794\n",
            "Epoch 17/20\n",
            "188/188 [==============================] - 2s 8ms/step - loss: 0.1804 - accuracy: 0.9309 - val_loss: 0.3226 - val_accuracy: 0.8903\n",
            "Epoch 18/20\n",
            "188/188 [==============================] - 2s 8ms/step - loss: 0.1718 - accuracy: 0.9354 - val_loss: 0.3473 - val_accuracy: 0.8835\n",
            "Epoch 19/20\n",
            "188/188 [==============================] - 2s 8ms/step - loss: 0.1630 - accuracy: 0.9367 - val_loss: 0.3258 - val_accuracy: 0.8932\n",
            "Epoch 20/20\n",
            "188/188 [==============================] - 2s 8ms/step - loss: 0.1558 - accuracy: 0.9398 - val_loss: 0.3374 - val_accuracy: 0.8881\n"
          ],
          "name": "stdout"
        },
        {
          "output_type": "display_data",
          "data": {
            "text/html": [
              "<span style=\"color:#4527A0\"><h1 style=\"font-size:18px\">Trial complete</h1></span>"
            ],
            "text/plain": [
              "<IPython.core.display.HTML object>"
            ]
          },
          "metadata": {
            "tags": []
          }
        },
        {
          "output_type": "display_data",
          "data": {
            "text/html": [
              "<span style=\"color:#4527A0\"><h1 style=\"font-size:18px\">Trial summary</h1></span>"
            ],
            "text/plain": [
              "<IPython.core.display.HTML object>"
            ]
          },
          "metadata": {
            "tags": []
          }
        },
        {
          "output_type": "display_data",
          "data": {
            "text/html": [
              "<span style=\"color:cyan\"> |-Trial ID: 7c1fb04bfe1465e68f1ffba2603fa885</span>"
            ],
            "text/plain": [
              "<IPython.core.display.HTML object>"
            ]
          },
          "metadata": {
            "tags": []
          }
        },
        {
          "output_type": "display_data",
          "data": {
            "text/html": [
              "<span style=\"color:cyan\"> |-Score: 0.8932499885559082</span>"
            ],
            "text/plain": [
              "<IPython.core.display.HTML object>"
            ]
          },
          "metadata": {
            "tags": []
          }
        },
        {
          "output_type": "display_data",
          "data": {
            "text/html": [
              "<span style=\"color:cyan\"> |-Best step: 0</span>"
            ],
            "text/plain": [
              "<IPython.core.display.HTML object>"
            ]
          },
          "metadata": {
            "tags": []
          }
        },
        {
          "output_type": "display_data",
          "data": {
            "text/html": [
              "<span style=\"color:#7E57C2\"><h2 style=\"font-size:16px\">Hyperparameters:</h2></span>"
            ],
            "text/plain": [
              "<IPython.core.display.HTML object>"
            ]
          },
          "metadata": {
            "tags": []
          }
        },
        {
          "output_type": "display_data",
          "data": {
            "text/html": [
              "<span style=\"color:cyan\"> |-activation: tanh</span>"
            ],
            "text/plain": [
              "<IPython.core.display.HTML object>"
            ]
          },
          "metadata": {
            "tags": []
          }
        },
        {
          "output_type": "display_data",
          "data": {
            "text/html": [
              "<span style=\"color:blue\"> |-optimizer: rmsprop</span>"
            ],
            "text/plain": [
              "<IPython.core.display.HTML object>"
            ]
          },
          "metadata": {
            "tags": []
          }
        },
        {
          "output_type": "display_data",
          "data": {
            "text/html": [
              "<span style=\"color:cyan\"> |-units_hidden: 352</span>"
            ],
            "text/plain": [
              "<IPython.core.display.HTML object>"
            ]
          },
          "metadata": {
            "tags": []
          }
        },
        {
          "output_type": "display_data",
          "data": {
            "text/html": [
              "<span style=\"color:blue\"> |-units_input: 800</span>"
            ],
            "text/plain": [
              "<IPython.core.display.HTML object>"
            ]
          },
          "metadata": {
            "tags": []
          }
        },
        {
          "output_type": "stream",
          "text": [
            "Epoch 1/20\n",
            "188/188 [==============================] - 2s 8ms/step - loss: 0.9601 - accuracy: 0.6699 - val_loss: 0.5824 - val_accuracy: 0.7949\n",
            "Epoch 2/20\n",
            "188/188 [==============================] - 1s 7ms/step - loss: 0.5190 - accuracy: 0.8110 - val_loss: 0.5266 - val_accuracy: 0.8049\n",
            "Epoch 3/20\n",
            "188/188 [==============================] - 1s 7ms/step - loss: 0.4564 - accuracy: 0.8343 - val_loss: 0.4515 - val_accuracy: 0.8328\n",
            "Epoch 4/20\n",
            "188/188 [==============================] - 1s 7ms/step - loss: 0.4207 - accuracy: 0.8486 - val_loss: 0.4563 - val_accuracy: 0.8303\n",
            "Epoch 5/20\n",
            "188/188 [==============================] - 1s 7ms/step - loss: 0.4012 - accuracy: 0.8545 - val_loss: 0.4049 - val_accuracy: 0.8501\n",
            "Epoch 6/20\n",
            "188/188 [==============================] - 1s 7ms/step - loss: 0.3827 - accuracy: 0.8613 - val_loss: 0.5118 - val_accuracy: 0.8064\n",
            "Epoch 7/20\n",
            "188/188 [==============================] - 1s 7ms/step - loss: 0.3677 - accuracy: 0.8660 - val_loss: 0.3822 - val_accuracy: 0.8608\n",
            "Epoch 8/20\n",
            "188/188 [==============================] - 1s 7ms/step - loss: 0.3527 - accuracy: 0.8721 - val_loss: 0.3625 - val_accuracy: 0.8658\n",
            "Epoch 9/20\n",
            "188/188 [==============================] - 1s 7ms/step - loss: 0.3431 - accuracy: 0.8753 - val_loss: 0.3670 - val_accuracy: 0.8696\n",
            "Epoch 10/20\n",
            "188/188 [==============================] - 1s 8ms/step - loss: 0.3319 - accuracy: 0.8785 - val_loss: 0.3533 - val_accuracy: 0.8700\n",
            "Epoch 11/20\n",
            "188/188 [==============================] - 2s 8ms/step - loss: 0.3229 - accuracy: 0.8826 - val_loss: 0.3637 - val_accuracy: 0.8626\n",
            "Epoch 12/20\n",
            "188/188 [==============================] - 2s 8ms/step - loss: 0.3124 - accuracy: 0.8861 - val_loss: 0.3503 - val_accuracy: 0.8711\n",
            "Epoch 13/20\n",
            "188/188 [==============================] - 2s 8ms/step - loss: 0.3031 - accuracy: 0.8881 - val_loss: 0.3646 - val_accuracy: 0.8656\n",
            "Epoch 14/20\n",
            "188/188 [==============================] - 1s 8ms/step - loss: 0.2974 - accuracy: 0.8904 - val_loss: 0.4106 - val_accuracy: 0.8448\n",
            "Epoch 15/20\n",
            "188/188 [==============================] - 1s 8ms/step - loss: 0.2890 - accuracy: 0.8929 - val_loss: 0.3272 - val_accuracy: 0.8793\n",
            "Epoch 16/20\n",
            "188/188 [==============================] - 1s 8ms/step - loss: 0.2820 - accuracy: 0.8949 - val_loss: 0.3181 - val_accuracy: 0.8843\n",
            "Epoch 17/20\n",
            "188/188 [==============================] - 1s 7ms/step - loss: 0.2753 - accuracy: 0.8983 - val_loss: 0.3399 - val_accuracy: 0.8769\n",
            "Epoch 18/20\n",
            "188/188 [==============================] - 1s 7ms/step - loss: 0.2693 - accuracy: 0.9006 - val_loss: 0.3250 - val_accuracy: 0.8807\n",
            "Epoch 19/20\n",
            "188/188 [==============================] - 1s 7ms/step - loss: 0.2618 - accuracy: 0.9026 - val_loss: 0.3108 - val_accuracy: 0.8877\n",
            "Epoch 20/20\n",
            "188/188 [==============================] - 1s 7ms/step - loss: 0.2573 - accuracy: 0.9041 - val_loss: 0.3029 - val_accuracy: 0.8908\n"
          ],
          "name": "stdout"
        },
        {
          "output_type": "display_data",
          "data": {
            "text/html": [
              "<span style=\"color:#4527A0\"><h1 style=\"font-size:18px\">Trial complete</h1></span>"
            ],
            "text/plain": [
              "<IPython.core.display.HTML object>"
            ]
          },
          "metadata": {
            "tags": []
          }
        },
        {
          "output_type": "display_data",
          "data": {
            "text/html": [
              "<span style=\"color:#4527A0\"><h1 style=\"font-size:18px\">Trial summary</h1></span>"
            ],
            "text/plain": [
              "<IPython.core.display.HTML object>"
            ]
          },
          "metadata": {
            "tags": []
          }
        },
        {
          "output_type": "display_data",
          "data": {
            "text/html": [
              "<span style=\"color:cyan\"> |-Trial ID: f6e937472a6f046d3dd624386c00090f</span>"
            ],
            "text/plain": [
              "<IPython.core.display.HTML object>"
            ]
          },
          "metadata": {
            "tags": []
          }
        },
        {
          "output_type": "display_data",
          "data": {
            "text/html": [
              "<span style=\"color:cyan\"> |-Score: 0.89083331823349</span>"
            ],
            "text/plain": [
              "<IPython.core.display.HTML object>"
            ]
          },
          "metadata": {
            "tags": []
          }
        },
        {
          "output_type": "display_data",
          "data": {
            "text/html": [
              "<span style=\"color:cyan\"> |-Best step: 0</span>"
            ],
            "text/plain": [
              "<IPython.core.display.HTML object>"
            ]
          },
          "metadata": {
            "tags": []
          }
        },
        {
          "output_type": "display_data",
          "data": {
            "text/html": [
              "<span style=\"color:#7E57C2\"><h2 style=\"font-size:16px\">Hyperparameters:</h2></span>"
            ],
            "text/plain": [
              "<IPython.core.display.HTML object>"
            ]
          },
          "metadata": {
            "tags": []
          }
        },
        {
          "output_type": "display_data",
          "data": {
            "text/html": [
              "<span style=\"color:cyan\"> |-activation: sigmoid</span>"
            ],
            "text/plain": [
              "<IPython.core.display.HTML object>"
            ]
          },
          "metadata": {
            "tags": []
          }
        },
        {
          "output_type": "display_data",
          "data": {
            "text/html": [
              "<span style=\"color:blue\"> |-optimizer: rmsprop</span>"
            ],
            "text/plain": [
              "<IPython.core.display.HTML object>"
            ]
          },
          "metadata": {
            "tags": []
          }
        },
        {
          "output_type": "display_data",
          "data": {
            "text/html": [
              "<span style=\"color:cyan\"> |-units_hidden: 160</span>"
            ],
            "text/plain": [
              "<IPython.core.display.HTML object>"
            ]
          },
          "metadata": {
            "tags": []
          }
        },
        {
          "output_type": "display_data",
          "data": {
            "text/html": [
              "<span style=\"color:blue\"> |-units_input: 576</span>"
            ],
            "text/plain": [
              "<IPython.core.display.HTML object>"
            ]
          },
          "metadata": {
            "tags": []
          }
        },
        {
          "output_type": "stream",
          "text": [
            "Epoch 1/20\n",
            "188/188 [==============================] - 2s 8ms/step - loss: 0.7339 - accuracy: 0.7540 - val_loss: 0.5566 - val_accuracy: 0.8033\n",
            "Epoch 2/20\n",
            "188/188 [==============================] - 1s 7ms/step - loss: 0.5223 - accuracy: 0.8180 - val_loss: 0.5064 - val_accuracy: 0.8211\n",
            "Epoch 3/20\n",
            "188/188 [==============================] - 1s 7ms/step - loss: 0.4806 - accuracy: 0.8302 - val_loss: 0.4688 - val_accuracy: 0.8321\n",
            "Epoch 4/20\n",
            "188/188 [==============================] - 1s 7ms/step - loss: 0.4553 - accuracy: 0.8403 - val_loss: 0.4737 - val_accuracy: 0.8315\n",
            "Epoch 5/20\n",
            "188/188 [==============================] - 1s 7ms/step - loss: 0.4404 - accuracy: 0.8451 - val_loss: 0.5999 - val_accuracy: 0.7656\n",
            "Epoch 6/20\n",
            "188/188 [==============================] - 1s 7ms/step - loss: 0.4287 - accuracy: 0.8480 - val_loss: 0.4869 - val_accuracy: 0.8188\n",
            "Epoch 7/20\n",
            "188/188 [==============================] - 1s 8ms/step - loss: 0.4168 - accuracy: 0.8538 - val_loss: 0.4329 - val_accuracy: 0.8450\n",
            "Epoch 8/20\n",
            "188/188 [==============================] - 1s 7ms/step - loss: 0.4088 - accuracy: 0.8554 - val_loss: 0.4251 - val_accuracy: 0.8500\n",
            "Epoch 9/20\n",
            "188/188 [==============================] - 1s 7ms/step - loss: 0.4025 - accuracy: 0.8579 - val_loss: 0.4232 - val_accuracy: 0.8486\n",
            "Epoch 10/20\n",
            "188/188 [==============================] - 2s 8ms/step - loss: 0.3978 - accuracy: 0.8593 - val_loss: 0.4203 - val_accuracy: 0.8504\n",
            "Epoch 11/20\n",
            "188/188 [==============================] - 1s 7ms/step - loss: 0.3917 - accuracy: 0.8611 - val_loss: 0.4043 - val_accuracy: 0.8564\n",
            "Epoch 12/20\n",
            "188/188 [==============================] - 1s 8ms/step - loss: 0.3857 - accuracy: 0.8636 - val_loss: 0.4061 - val_accuracy: 0.8533\n",
            "Epoch 13/20\n",
            "188/188 [==============================] - 1s 7ms/step - loss: 0.3826 - accuracy: 0.8651 - val_loss: 0.4207 - val_accuracy: 0.8480\n",
            "Epoch 14/20\n",
            "188/188 [==============================] - 1s 8ms/step - loss: 0.3779 - accuracy: 0.8653 - val_loss: 0.3948 - val_accuracy: 0.8597\n",
            "Epoch 15/20\n",
            "188/188 [==============================] - 1s 8ms/step - loss: 0.3714 - accuracy: 0.8681 - val_loss: 0.3999 - val_accuracy: 0.8575\n",
            "Epoch 16/20\n",
            "188/188 [==============================] - 1s 7ms/step - loss: 0.3696 - accuracy: 0.8699 - val_loss: 0.4162 - val_accuracy: 0.8531\n",
            "Epoch 17/20\n",
            "188/188 [==============================] - 1s 7ms/step - loss: 0.3655 - accuracy: 0.8707 - val_loss: 0.3908 - val_accuracy: 0.8636\n",
            "Epoch 18/20\n",
            "188/188 [==============================] - 1s 7ms/step - loss: 0.3625 - accuracy: 0.8708 - val_loss: 0.3842 - val_accuracy: 0.8637\n",
            "Epoch 19/20\n",
            "188/188 [==============================] - 1s 7ms/step - loss: 0.3579 - accuracy: 0.8752 - val_loss: 0.3889 - val_accuracy: 0.8617\n",
            "Epoch 20/20\n",
            "188/188 [==============================] - 1s 7ms/step - loss: 0.3567 - accuracy: 0.8739 - val_loss: 0.3949 - val_accuracy: 0.8573\n"
          ],
          "name": "stdout"
        },
        {
          "output_type": "display_data",
          "data": {
            "text/html": [
              "<span style=\"color:#4527A0\"><h1 style=\"font-size:18px\">Trial complete</h1></span>"
            ],
            "text/plain": [
              "<IPython.core.display.HTML object>"
            ]
          },
          "metadata": {
            "tags": []
          }
        },
        {
          "output_type": "display_data",
          "data": {
            "text/html": [
              "<span style=\"color:#4527A0\"><h1 style=\"font-size:18px\">Trial summary</h1></span>"
            ],
            "text/plain": [
              "<IPython.core.display.HTML object>"
            ]
          },
          "metadata": {
            "tags": []
          }
        },
        {
          "output_type": "display_data",
          "data": {
            "text/html": [
              "<span style=\"color:cyan\"> |-Trial ID: b1983bb21b38d75a41fe2445291410ba</span>"
            ],
            "text/plain": [
              "<IPython.core.display.HTML object>"
            ]
          },
          "metadata": {
            "tags": []
          }
        },
        {
          "output_type": "display_data",
          "data": {
            "text/html": [
              "<span style=\"color:cyan\"> |-Score: 0.8637499809265137</span>"
            ],
            "text/plain": [
              "<IPython.core.display.HTML object>"
            ]
          },
          "metadata": {
            "tags": []
          }
        },
        {
          "output_type": "display_data",
          "data": {
            "text/html": [
              "<span style=\"color:cyan\"> |-Best step: 0</span>"
            ],
            "text/plain": [
              "<IPython.core.display.HTML object>"
            ]
          },
          "metadata": {
            "tags": []
          }
        },
        {
          "output_type": "display_data",
          "data": {
            "text/html": [
              "<span style=\"color:#7E57C2\"><h2 style=\"font-size:16px\">Hyperparameters:</h2></span>"
            ],
            "text/plain": [
              "<IPython.core.display.HTML object>"
            ]
          },
          "metadata": {
            "tags": []
          }
        },
        {
          "output_type": "display_data",
          "data": {
            "text/html": [
              "<span style=\"color:cyan\"> |-activation: selu</span>"
            ],
            "text/plain": [
              "<IPython.core.display.HTML object>"
            ]
          },
          "metadata": {
            "tags": []
          }
        },
        {
          "output_type": "display_data",
          "data": {
            "text/html": [
              "<span style=\"color:blue\"> |-optimizer: SGD</span>"
            ],
            "text/plain": [
              "<IPython.core.display.HTML object>"
            ]
          },
          "metadata": {
            "tags": []
          }
        },
        {
          "output_type": "display_data",
          "data": {
            "text/html": [
              "<span style=\"color:cyan\"> |-units_hidden: 544</span>"
            ],
            "text/plain": [
              "<IPython.core.display.HTML object>"
            ]
          },
          "metadata": {
            "tags": []
          }
        },
        {
          "output_type": "display_data",
          "data": {
            "text/html": [
              "<span style=\"color:blue\"> |-units_input: 704</span>"
            ],
            "text/plain": [
              "<IPython.core.display.HTML object>"
            ]
          },
          "metadata": {
            "tags": []
          }
        },
        {
          "output_type": "stream",
          "text": [
            "Epoch 1/20\n",
            "188/188 [==============================] - 2s 9ms/step - loss: 0.5268 - accuracy: 0.8103 - val_loss: 0.4106 - val_accuracy: 0.8473\n",
            "Epoch 2/20\n",
            "188/188 [==============================] - 2s 8ms/step - loss: 0.3902 - accuracy: 0.8581 - val_loss: 0.3672 - val_accuracy: 0.8637\n",
            "Epoch 3/20\n",
            "188/188 [==============================] - 1s 8ms/step - loss: 0.3398 - accuracy: 0.8746 - val_loss: 0.3703 - val_accuracy: 0.8642\n",
            "Epoch 4/20\n",
            "188/188 [==============================] - 1s 7ms/step - loss: 0.3130 - accuracy: 0.8826 - val_loss: 0.3458 - val_accuracy: 0.8733\n",
            "Epoch 5/20\n",
            "188/188 [==============================] - 1s 8ms/step - loss: 0.2937 - accuracy: 0.8901 - val_loss: 0.3506 - val_accuracy: 0.8683\n",
            "Epoch 6/20\n",
            "188/188 [==============================] - 1s 8ms/step - loss: 0.2737 - accuracy: 0.8964 - val_loss: 0.3299 - val_accuracy: 0.8826\n",
            "Epoch 7/20\n",
            "188/188 [==============================] - 1s 7ms/step - loss: 0.2593 - accuracy: 0.9038 - val_loss: 0.3182 - val_accuracy: 0.8818\n",
            "Epoch 8/20\n",
            "188/188 [==============================] - 1s 8ms/step - loss: 0.2459 - accuracy: 0.9084 - val_loss: 0.3237 - val_accuracy: 0.8839\n",
            "Epoch 9/20\n",
            "188/188 [==============================] - 1s 8ms/step - loss: 0.2351 - accuracy: 0.9116 - val_loss: 0.3239 - val_accuracy: 0.8841\n",
            "Epoch 10/20\n",
            "188/188 [==============================] - 1s 8ms/step - loss: 0.2243 - accuracy: 0.9151 - val_loss: 0.3066 - val_accuracy: 0.8886\n",
            "Epoch 11/20\n",
            "188/188 [==============================] - 2s 8ms/step - loss: 0.2097 - accuracy: 0.9202 - val_loss: 0.3103 - val_accuracy: 0.8890\n",
            "Epoch 12/20\n",
            "188/188 [==============================] - 1s 8ms/step - loss: 0.1991 - accuracy: 0.9253 - val_loss: 0.3054 - val_accuracy: 0.8921\n",
            "Epoch 13/20\n",
            "188/188 [==============================] - 1s 8ms/step - loss: 0.1865 - accuracy: 0.9290 - val_loss: 0.3120 - val_accuracy: 0.8936\n",
            "Epoch 14/20\n",
            "188/188 [==============================] - 1s 7ms/step - loss: 0.1802 - accuracy: 0.9320 - val_loss: 0.3160 - val_accuracy: 0.8917\n",
            "Epoch 15/20\n",
            "188/188 [==============================] - 1s 8ms/step - loss: 0.1677 - accuracy: 0.9366 - val_loss: 0.3099 - val_accuracy: 0.8949\n",
            "Epoch 16/20\n",
            "188/188 [==============================] - 1s 8ms/step - loss: 0.1628 - accuracy: 0.9377 - val_loss: 0.3102 - val_accuracy: 0.8960\n",
            "Epoch 17/20\n",
            "188/188 [==============================] - 1s 8ms/step - loss: 0.1516 - accuracy: 0.9441 - val_loss: 0.3387 - val_accuracy: 0.8928\n",
            "Epoch 18/20\n",
            "188/188 [==============================] - 1s 8ms/step - loss: 0.1475 - accuracy: 0.9439 - val_loss: 0.3267 - val_accuracy: 0.8932\n",
            "Epoch 19/20\n",
            "188/188 [==============================] - 1s 7ms/step - loss: 0.1400 - accuracy: 0.9472 - val_loss: 0.3372 - val_accuracy: 0.8916\n",
            "Epoch 20/20\n",
            "188/188 [==============================] - 1s 8ms/step - loss: 0.1270 - accuracy: 0.9525 - val_loss: 0.3211 - val_accuracy: 0.8970\n"
          ],
          "name": "stdout"
        },
        {
          "output_type": "display_data",
          "data": {
            "text/html": [
              "<span style=\"color:#4527A0\"><h1 style=\"font-size:18px\">Trial complete</h1></span>"
            ],
            "text/plain": [
              "<IPython.core.display.HTML object>"
            ]
          },
          "metadata": {
            "tags": []
          }
        },
        {
          "output_type": "display_data",
          "data": {
            "text/html": [
              "<span style=\"color:#4527A0\"><h1 style=\"font-size:18px\">Trial summary</h1></span>"
            ],
            "text/plain": [
              "<IPython.core.display.HTML object>"
            ]
          },
          "metadata": {
            "tags": []
          }
        },
        {
          "output_type": "display_data",
          "data": {
            "text/html": [
              "<span style=\"color:cyan\"> |-Trial ID: d0916b4abc5926f6522b93c2e40f00f2</span>"
            ],
            "text/plain": [
              "<IPython.core.display.HTML object>"
            ]
          },
          "metadata": {
            "tags": []
          }
        },
        {
          "output_type": "display_data",
          "data": {
            "text/html": [
              "<span style=\"color:cyan\"> |-Score: 0.8970000147819519</span>"
            ],
            "text/plain": [
              "<IPython.core.display.HTML object>"
            ]
          },
          "metadata": {
            "tags": []
          }
        },
        {
          "output_type": "display_data",
          "data": {
            "text/html": [
              "<span style=\"color:cyan\"> |-Best step: 0</span>"
            ],
            "text/plain": [
              "<IPython.core.display.HTML object>"
            ]
          },
          "metadata": {
            "tags": []
          }
        },
        {
          "output_type": "display_data",
          "data": {
            "text/html": [
              "<span style=\"color:#7E57C2\"><h2 style=\"font-size:16px\">Hyperparameters:</h2></span>"
            ],
            "text/plain": [
              "<IPython.core.display.HTML object>"
            ]
          },
          "metadata": {
            "tags": []
          }
        },
        {
          "output_type": "display_data",
          "data": {
            "text/html": [
              "<span style=\"color:cyan\"> |-activation: tanh</span>"
            ],
            "text/plain": [
              "<IPython.core.display.HTML object>"
            ]
          },
          "metadata": {
            "tags": []
          }
        },
        {
          "output_type": "display_data",
          "data": {
            "text/html": [
              "<span style=\"color:blue\"> |-optimizer: adam</span>"
            ],
            "text/plain": [
              "<IPython.core.display.HTML object>"
            ]
          },
          "metadata": {
            "tags": []
          }
        },
        {
          "output_type": "display_data",
          "data": {
            "text/html": [
              "<span style=\"color:cyan\"> |-units_hidden: 448</span>"
            ],
            "text/plain": [
              "<IPython.core.display.HTML object>"
            ]
          },
          "metadata": {
            "tags": []
          }
        },
        {
          "output_type": "display_data",
          "data": {
            "text/html": [
              "<span style=\"color:blue\"> |-units_input: 832</span>"
            ],
            "text/plain": [
              "<IPython.core.display.HTML object>"
            ]
          },
          "metadata": {
            "tags": []
          }
        },
        {
          "output_type": "stream",
          "text": [
            "Epoch 1/20\n",
            "188/188 [==============================] - 1s 8ms/step - loss: 0.5558 - accuracy: 0.7999 - val_loss: 0.4155 - val_accuracy: 0.8468\n",
            "Epoch 2/20\n",
            "188/188 [==============================] - 1s 7ms/step - loss: 0.3951 - accuracy: 0.8567 - val_loss: 0.3786 - val_accuracy: 0.8615\n",
            "Epoch 3/20\n",
            "188/188 [==============================] - 1s 7ms/step - loss: 0.3560 - accuracy: 0.8673 - val_loss: 0.4271 - val_accuracy: 0.8417\n",
            "Epoch 4/20\n",
            "188/188 [==============================] - 1s 7ms/step - loss: 0.3338 - accuracy: 0.8759 - val_loss: 0.3247 - val_accuracy: 0.8838\n",
            "Epoch 5/20\n",
            "188/188 [==============================] - 1s 7ms/step - loss: 0.3096 - accuracy: 0.8849 - val_loss: 0.3438 - val_accuracy: 0.8771\n",
            "Epoch 6/20\n",
            "188/188 [==============================] - 1s 7ms/step - loss: 0.2921 - accuracy: 0.8901 - val_loss: 0.3356 - val_accuracy: 0.8801\n",
            "Epoch 7/20\n",
            "188/188 [==============================] - 1s 7ms/step - loss: 0.2727 - accuracy: 0.8981 - val_loss: 0.3204 - val_accuracy: 0.8838\n",
            "Epoch 8/20\n",
            "188/188 [==============================] - 1s 7ms/step - loss: 0.2633 - accuracy: 0.9011 - val_loss: 0.3253 - val_accuracy: 0.8854\n",
            "Epoch 9/20\n",
            "188/188 [==============================] - 1s 6ms/step - loss: 0.2514 - accuracy: 0.9047 - val_loss: 0.3244 - val_accuracy: 0.8835\n",
            "Epoch 10/20\n",
            "188/188 [==============================] - 1s 7ms/step - loss: 0.2500 - accuracy: 0.9053 - val_loss: 0.3226 - val_accuracy: 0.8892\n",
            "Epoch 11/20\n",
            "188/188 [==============================] - 1s 7ms/step - loss: 0.2292 - accuracy: 0.9131 - val_loss: 0.3188 - val_accuracy: 0.8885\n",
            "Epoch 12/20\n",
            "188/188 [==============================] - 1s 7ms/step - loss: 0.2210 - accuracy: 0.9154 - val_loss: 0.3123 - val_accuracy: 0.8886\n",
            "Epoch 13/20\n",
            "188/188 [==============================] - 1s 6ms/step - loss: 0.2103 - accuracy: 0.9197 - val_loss: 0.3268 - val_accuracy: 0.8877\n",
            "Epoch 14/20\n",
            "188/188 [==============================] - 1s 6ms/step - loss: 0.2004 - accuracy: 0.9232 - val_loss: 0.3289 - val_accuracy: 0.8856\n",
            "Epoch 15/20\n",
            "188/188 [==============================] - 1s 7ms/step - loss: 0.1929 - accuracy: 0.9264 - val_loss: 0.3255 - val_accuracy: 0.8892\n",
            "Epoch 16/20\n",
            "188/188 [==============================] - 1s 6ms/step - loss: 0.1875 - accuracy: 0.9276 - val_loss: 0.3549 - val_accuracy: 0.8792\n",
            "Epoch 17/20\n",
            "188/188 [==============================] - 1s 7ms/step - loss: 0.1831 - accuracy: 0.9300 - val_loss: 0.3377 - val_accuracy: 0.8895\n",
            "Epoch 18/20\n",
            "188/188 [==============================] - 1s 7ms/step - loss: 0.1739 - accuracy: 0.9338 - val_loss: 0.3370 - val_accuracy: 0.8913\n",
            "Epoch 19/20\n",
            "188/188 [==============================] - 1s 7ms/step - loss: 0.1672 - accuracy: 0.9364 - val_loss: 0.3381 - val_accuracy: 0.8893\n",
            "Epoch 20/20\n",
            "188/188 [==============================] - 1s 7ms/step - loss: 0.1628 - accuracy: 0.9380 - val_loss: 0.3617 - val_accuracy: 0.8891\n"
          ],
          "name": "stdout"
        },
        {
          "output_type": "display_data",
          "data": {
            "text/html": [
              "<span style=\"color:#4527A0\"><h1 style=\"font-size:18px\">Trial complete</h1></span>"
            ],
            "text/plain": [
              "<IPython.core.display.HTML object>"
            ]
          },
          "metadata": {
            "tags": []
          }
        },
        {
          "output_type": "display_data",
          "data": {
            "text/html": [
              "<span style=\"color:#4527A0\"><h1 style=\"font-size:18px\">Trial summary</h1></span>"
            ],
            "text/plain": [
              "<IPython.core.display.HTML object>"
            ]
          },
          "metadata": {
            "tags": []
          }
        },
        {
          "output_type": "display_data",
          "data": {
            "text/html": [
              "<span style=\"color:cyan\"> |-Trial ID: 3812feb7b0785f04947b9d400d549c95</span>"
            ],
            "text/plain": [
              "<IPython.core.display.HTML object>"
            ]
          },
          "metadata": {
            "tags": []
          }
        },
        {
          "output_type": "display_data",
          "data": {
            "text/html": [
              "<span style=\"color:cyan\"> |-Score: 0.8913333415985107</span>"
            ],
            "text/plain": [
              "<IPython.core.display.HTML object>"
            ]
          },
          "metadata": {
            "tags": []
          }
        },
        {
          "output_type": "display_data",
          "data": {
            "text/html": [
              "<span style=\"color:cyan\"> |-Best step: 0</span>"
            ],
            "text/plain": [
              "<IPython.core.display.HTML object>"
            ]
          },
          "metadata": {
            "tags": []
          }
        },
        {
          "output_type": "display_data",
          "data": {
            "text/html": [
              "<span style=\"color:#7E57C2\"><h2 style=\"font-size:16px\">Hyperparameters:</h2></span>"
            ],
            "text/plain": [
              "<IPython.core.display.HTML object>"
            ]
          },
          "metadata": {
            "tags": []
          }
        },
        {
          "output_type": "display_data",
          "data": {
            "text/html": [
              "<span style=\"color:cyan\"> |-activation: elu</span>"
            ],
            "text/plain": [
              "<IPython.core.display.HTML object>"
            ]
          },
          "metadata": {
            "tags": []
          }
        },
        {
          "output_type": "display_data",
          "data": {
            "text/html": [
              "<span style=\"color:blue\"> |-optimizer: adam</span>"
            ],
            "text/plain": [
              "<IPython.core.display.HTML object>"
            ]
          },
          "metadata": {
            "tags": []
          }
        },
        {
          "output_type": "display_data",
          "data": {
            "text/html": [
              "<span style=\"color:cyan\"> |-units_hidden: 192</span>"
            ],
            "text/plain": [
              "<IPython.core.display.HTML object>"
            ]
          },
          "metadata": {
            "tags": []
          }
        },
        {
          "output_type": "display_data",
          "data": {
            "text/html": [
              "<span style=\"color:blue\"> |-units_input: 800</span>"
            ],
            "text/plain": [
              "<IPython.core.display.HTML object>"
            ]
          },
          "metadata": {
            "tags": []
          }
        },
        {
          "output_type": "stream",
          "text": [
            "Epoch 1/20\n",
            "188/188 [==============================] - 2s 9ms/step - loss: 0.9060 - accuracy: 0.6588 - val_loss: 0.6379 - val_accuracy: 0.7620\n",
            "Epoch 2/20\n",
            "188/188 [==============================] - 2s 9ms/step - loss: 0.5367 - accuracy: 0.8005 - val_loss: 0.5289 - val_accuracy: 0.8029\n",
            "Epoch 3/20\n",
            "188/188 [==============================] - 2s 9ms/step - loss: 0.4695 - accuracy: 0.8262 - val_loss: 0.4716 - val_accuracy: 0.8248\n",
            "Epoch 4/20\n",
            "188/188 [==============================] - 2s 8ms/step - loss: 0.4301 - accuracy: 0.8417 - val_loss: 0.4163 - val_accuracy: 0.8500\n",
            "Epoch 5/20\n",
            "188/188 [==============================] - 2s 8ms/step - loss: 0.4019 - accuracy: 0.8518 - val_loss: 0.3903 - val_accuracy: 0.8551\n",
            "Epoch 6/20\n",
            "188/188 [==============================] - 2s 9ms/step - loss: 0.3780 - accuracy: 0.8600 - val_loss: 0.3790 - val_accuracy: 0.8592\n",
            "Epoch 7/20\n",
            "188/188 [==============================] - 2s 8ms/step - loss: 0.3602 - accuracy: 0.8680 - val_loss: 0.4520 - val_accuracy: 0.8232\n",
            "Epoch 8/20\n",
            "188/188 [==============================] - 2s 8ms/step - loss: 0.3453 - accuracy: 0.8718 - val_loss: 0.4325 - val_accuracy: 0.8397\n",
            "Epoch 9/20\n",
            "188/188 [==============================] - 2s 8ms/step - loss: 0.3310 - accuracy: 0.8773 - val_loss: 0.3662 - val_accuracy: 0.8654\n",
            "Epoch 10/20\n",
            "188/188 [==============================] - 2s 9ms/step - loss: 0.3215 - accuracy: 0.8799 - val_loss: 0.3353 - val_accuracy: 0.8749\n",
            "Epoch 11/20\n",
            "188/188 [==============================] - 2s 9ms/step - loss: 0.3096 - accuracy: 0.8852 - val_loss: 0.3287 - val_accuracy: 0.8823\n",
            "Epoch 12/20\n",
            "188/188 [==============================] - 2s 8ms/step - loss: 0.3026 - accuracy: 0.8871 - val_loss: 0.3206 - val_accuracy: 0.8847\n",
            "Epoch 13/20\n",
            "188/188 [==============================] - 2s 9ms/step - loss: 0.2920 - accuracy: 0.8915 - val_loss: 0.3251 - val_accuracy: 0.8825\n",
            "Epoch 14/20\n",
            "188/188 [==============================] - 2s 8ms/step - loss: 0.2859 - accuracy: 0.8943 - val_loss: 0.3242 - val_accuracy: 0.8809\n",
            "Epoch 15/20\n",
            "188/188 [==============================] - 2s 9ms/step - loss: 0.2750 - accuracy: 0.8971 - val_loss: 0.3505 - val_accuracy: 0.8764\n",
            "Epoch 16/20\n",
            "188/188 [==============================] - 2s 8ms/step - loss: 0.2675 - accuracy: 0.8992 - val_loss: 0.3218 - val_accuracy: 0.8820\n",
            "Epoch 17/20\n",
            "188/188 [==============================] - 2s 9ms/step - loss: 0.2610 - accuracy: 0.9021 - val_loss: 0.3105 - val_accuracy: 0.8879\n",
            "Epoch 18/20\n",
            "188/188 [==============================] - 2s 9ms/step - loss: 0.2539 - accuracy: 0.9038 - val_loss: 0.3518 - val_accuracy: 0.8718\n",
            "Epoch 19/20\n",
            "188/188 [==============================] - 2s 8ms/step - loss: 0.2480 - accuracy: 0.9057 - val_loss: 0.3144 - val_accuracy: 0.8867\n",
            "Epoch 20/20\n",
            "188/188 [==============================] - 2s 8ms/step - loss: 0.2406 - accuracy: 0.9088 - val_loss: 0.3512 - val_accuracy: 0.8772\n"
          ],
          "name": "stdout"
        },
        {
          "output_type": "display_data",
          "data": {
            "text/html": [
              "<span style=\"color:#4527A0\"><h1 style=\"font-size:18px\">Trial complete</h1></span>"
            ],
            "text/plain": [
              "<IPython.core.display.HTML object>"
            ]
          },
          "metadata": {
            "tags": []
          }
        },
        {
          "output_type": "display_data",
          "data": {
            "text/html": [
              "<span style=\"color:#4527A0\"><h1 style=\"font-size:18px\">Trial summary</h1></span>"
            ],
            "text/plain": [
              "<IPython.core.display.HTML object>"
            ]
          },
          "metadata": {
            "tags": []
          }
        },
        {
          "output_type": "display_data",
          "data": {
            "text/html": [
              "<span style=\"color:cyan\"> |-Trial ID: a80e3d4a69722157f77b82921e249c8e</span>"
            ],
            "text/plain": [
              "<IPython.core.display.HTML object>"
            ]
          },
          "metadata": {
            "tags": []
          }
        },
        {
          "output_type": "display_data",
          "data": {
            "text/html": [
              "<span style=\"color:cyan\"> |-Score: 0.8879166841506958</span>"
            ],
            "text/plain": [
              "<IPython.core.display.HTML object>"
            ]
          },
          "metadata": {
            "tags": []
          }
        },
        {
          "output_type": "display_data",
          "data": {
            "text/html": [
              "<span style=\"color:cyan\"> |-Best step: 0</span>"
            ],
            "text/plain": [
              "<IPython.core.display.HTML object>"
            ]
          },
          "metadata": {
            "tags": []
          }
        },
        {
          "output_type": "display_data",
          "data": {
            "text/html": [
              "<span style=\"color:#7E57C2\"><h2 style=\"font-size:16px\">Hyperparameters:</h2></span>"
            ],
            "text/plain": [
              "<IPython.core.display.HTML object>"
            ]
          },
          "metadata": {
            "tags": []
          }
        },
        {
          "output_type": "display_data",
          "data": {
            "text/html": [
              "<span style=\"color:cyan\"> |-activation: sigmoid</span>"
            ],
            "text/plain": [
              "<IPython.core.display.HTML object>"
            ]
          },
          "metadata": {
            "tags": []
          }
        },
        {
          "output_type": "display_data",
          "data": {
            "text/html": [
              "<span style=\"color:blue\"> |-optimizer: rmsprop</span>"
            ],
            "text/plain": [
              "<IPython.core.display.HTML object>"
            ]
          },
          "metadata": {
            "tags": []
          }
        },
        {
          "output_type": "display_data",
          "data": {
            "text/html": [
              "<span style=\"color:cyan\"> |-units_hidden: 384</span>"
            ],
            "text/plain": [
              "<IPython.core.display.HTML object>"
            ]
          },
          "metadata": {
            "tags": []
          }
        },
        {
          "output_type": "display_data",
          "data": {
            "text/html": [
              "<span style=\"color:blue\"> |-units_input: 864</span>"
            ],
            "text/plain": [
              "<IPython.core.display.HTML object>"
            ]
          },
          "metadata": {
            "tags": []
          }
        },
        {
          "output_type": "stream",
          "text": [
            "Epoch 1/20\n",
            "188/188 [==============================] - 2s 8ms/step - loss: 0.6523 - accuracy: 0.7935 - val_loss: 0.4535 - val_accuracy: 0.8403\n",
            "Epoch 2/20\n",
            "188/188 [==============================] - 1s 8ms/step - loss: 0.4070 - accuracy: 0.8511 - val_loss: 0.4048 - val_accuracy: 0.8521\n",
            "Epoch 3/20\n",
            "188/188 [==============================] - 1s 8ms/step - loss: 0.3642 - accuracy: 0.8659 - val_loss: 0.3642 - val_accuracy: 0.8695\n",
            "Epoch 4/20\n",
            "188/188 [==============================] - 1s 8ms/step - loss: 0.3434 - accuracy: 0.8751 - val_loss: 0.3628 - val_accuracy: 0.8696\n",
            "Epoch 5/20\n",
            "188/188 [==============================] - 1s 7ms/step - loss: 0.3222 - accuracy: 0.8799 - val_loss: 0.3620 - val_accuracy: 0.8692\n",
            "Epoch 6/20\n",
            "188/188 [==============================] - 1s 7ms/step - loss: 0.3014 - accuracy: 0.8868 - val_loss: 0.3653 - val_accuracy: 0.8692\n",
            "Epoch 7/20\n",
            "188/188 [==============================] - 1s 8ms/step - loss: 0.2825 - accuracy: 0.8941 - val_loss: 0.3261 - val_accuracy: 0.8817\n",
            "Epoch 8/20\n",
            "188/188 [==============================] - 1s 8ms/step - loss: 0.2692 - accuracy: 0.9000 - val_loss: 0.3374 - val_accuracy: 0.8789\n",
            "Epoch 9/20\n",
            "188/188 [==============================] - 1s 7ms/step - loss: 0.2672 - accuracy: 0.8998 - val_loss: 0.3813 - val_accuracy: 0.8680\n",
            "Epoch 10/20\n",
            "188/188 [==============================] - 2s 8ms/step - loss: 0.2567 - accuracy: 0.9039 - val_loss: 0.3280 - val_accuracy: 0.8829\n",
            "Epoch 11/20\n",
            "188/188 [==============================] - 1s 7ms/step - loss: 0.2415 - accuracy: 0.9095 - val_loss: 0.3506 - val_accuracy: 0.8794\n",
            "Epoch 12/20\n",
            "188/188 [==============================] - 1s 8ms/step - loss: 0.2405 - accuracy: 0.9090 - val_loss: 0.3483 - val_accuracy: 0.8819\n",
            "Epoch 13/20\n",
            "188/188 [==============================] - 1s 8ms/step - loss: 0.2376 - accuracy: 0.9096 - val_loss: 0.3435 - val_accuracy: 0.8781\n",
            "Epoch 14/20\n",
            "188/188 [==============================] - 1s 8ms/step - loss: 0.2215 - accuracy: 0.9166 - val_loss: 0.3853 - val_accuracy: 0.8757\n",
            "Epoch 15/20\n",
            "188/188 [==============================] - 1s 7ms/step - loss: 0.2198 - accuracy: 0.9184 - val_loss: 0.3696 - val_accuracy: 0.8755\n",
            "Epoch 16/20\n",
            "188/188 [==============================] - 1s 7ms/step - loss: 0.2073 - accuracy: 0.9224 - val_loss: 0.3418 - val_accuracy: 0.8883\n",
            "Epoch 17/20\n",
            "188/188 [==============================] - 1s 8ms/step - loss: 0.2045 - accuracy: 0.9212 - val_loss: 0.3436 - val_accuracy: 0.8918\n",
            "Epoch 18/20\n",
            "188/188 [==============================] - 1s 7ms/step - loss: 0.1917 - accuracy: 0.9262 - val_loss: 0.3777 - val_accuracy: 0.8842\n",
            "Epoch 19/20\n",
            "188/188 [==============================] - 1s 8ms/step - loss: 0.1956 - accuracy: 0.9256 - val_loss: 0.3860 - val_accuracy: 0.8764\n",
            "Epoch 20/20\n",
            "188/188 [==============================] - 1s 7ms/step - loss: 0.1824 - accuracy: 0.9310 - val_loss: 0.3831 - val_accuracy: 0.8905\n"
          ],
          "name": "stdout"
        },
        {
          "output_type": "display_data",
          "data": {
            "text/html": [
              "<span style=\"color:#4527A0\"><h1 style=\"font-size:18px\">Trial complete</h1></span>"
            ],
            "text/plain": [
              "<IPython.core.display.HTML object>"
            ]
          },
          "metadata": {
            "tags": []
          }
        },
        {
          "output_type": "display_data",
          "data": {
            "text/html": [
              "<span style=\"color:#4527A0\"><h1 style=\"font-size:18px\">Trial summary</h1></span>"
            ],
            "text/plain": [
              "<IPython.core.display.HTML object>"
            ]
          },
          "metadata": {
            "tags": []
          }
        },
        {
          "output_type": "display_data",
          "data": {
            "text/html": [
              "<span style=\"color:cyan\"> |-Trial ID: 7c79c6a9d7891c0cf38e65919672c401</span>"
            ],
            "text/plain": [
              "<IPython.core.display.HTML object>"
            ]
          },
          "metadata": {
            "tags": []
          }
        },
        {
          "output_type": "display_data",
          "data": {
            "text/html": [
              "<span style=\"color:cyan\"> |-Score: 0.8918333053588867</span>"
            ],
            "text/plain": [
              "<IPython.core.display.HTML object>"
            ]
          },
          "metadata": {
            "tags": []
          }
        },
        {
          "output_type": "display_data",
          "data": {
            "text/html": [
              "<span style=\"color:cyan\"> |-Best step: 0</span>"
            ],
            "text/plain": [
              "<IPython.core.display.HTML object>"
            ]
          },
          "metadata": {
            "tags": []
          }
        },
        {
          "output_type": "display_data",
          "data": {
            "text/html": [
              "<span style=\"color:#7E57C2\"><h2 style=\"font-size:16px\">Hyperparameters:</h2></span>"
            ],
            "text/plain": [
              "<IPython.core.display.HTML object>"
            ]
          },
          "metadata": {
            "tags": []
          }
        },
        {
          "output_type": "display_data",
          "data": {
            "text/html": [
              "<span style=\"color:cyan\"> |-activation: selu</span>"
            ],
            "text/plain": [
              "<IPython.core.display.HTML object>"
            ]
          },
          "metadata": {
            "tags": []
          }
        },
        {
          "output_type": "display_data",
          "data": {
            "text/html": [
              "<span style=\"color:blue\"> |-optimizer: adam</span>"
            ],
            "text/plain": [
              "<IPython.core.display.HTML object>"
            ]
          },
          "metadata": {
            "tags": []
          }
        },
        {
          "output_type": "display_data",
          "data": {
            "text/html": [
              "<span style=\"color:cyan\"> |-units_hidden: 512</span>"
            ],
            "text/plain": [
              "<IPython.core.display.HTML object>"
            ]
          },
          "metadata": {
            "tags": []
          }
        },
        {
          "output_type": "display_data",
          "data": {
            "text/html": [
              "<span style=\"color:blue\"> |-units_input: 640</span>"
            ],
            "text/plain": [
              "<IPython.core.display.HTML object>"
            ]
          },
          "metadata": {
            "tags": []
          }
        },
        {
          "output_type": "stream",
          "text": [
            "Epoch 1/20\n",
            "188/188 [==============================] - 2s 9ms/step - loss: 0.6940 - accuracy: 0.7421 - val_loss: 0.4536 - val_accuracy: 0.8324\n",
            "Epoch 2/20\n",
            "188/188 [==============================] - 2s 8ms/step - loss: 0.4382 - accuracy: 0.8350 - val_loss: 0.5162 - val_accuracy: 0.8141\n",
            "Epoch 3/20\n",
            "188/188 [==============================] - 1s 8ms/step - loss: 0.3793 - accuracy: 0.8605 - val_loss: 0.5536 - val_accuracy: 0.7998\n",
            "Epoch 4/20\n",
            "188/188 [==============================] - 2s 9ms/step - loss: 0.3405 - accuracy: 0.8719 - val_loss: 0.3538 - val_accuracy: 0.8710\n",
            "Epoch 5/20\n",
            "188/188 [==============================] - 2s 9ms/step - loss: 0.3167 - accuracy: 0.8814 - val_loss: 0.4083 - val_accuracy: 0.8522\n",
            "Epoch 6/20\n",
            "188/188 [==============================] - 2s 9ms/step - loss: 0.2978 - accuracy: 0.8881 - val_loss: 0.3785 - val_accuracy: 0.8671\n",
            "Epoch 7/20\n",
            "188/188 [==============================] - 2s 8ms/step - loss: 0.2811 - accuracy: 0.8930 - val_loss: 0.3455 - val_accuracy: 0.8817\n",
            "Epoch 8/20\n",
            "188/188 [==============================] - 2s 8ms/step - loss: 0.2688 - accuracy: 0.8990 - val_loss: 0.3288 - val_accuracy: 0.8818\n",
            "Epoch 9/20\n",
            "188/188 [==============================] - 1s 8ms/step - loss: 0.2554 - accuracy: 0.9018 - val_loss: 0.3545 - val_accuracy: 0.8823\n",
            "Epoch 10/20\n",
            "188/188 [==============================] - 1s 8ms/step - loss: 0.2441 - accuracy: 0.9071 - val_loss: 0.3663 - val_accuracy: 0.8779\n",
            "Epoch 11/20\n",
            "188/188 [==============================] - 1s 8ms/step - loss: 0.2366 - accuracy: 0.9098 - val_loss: 0.4217 - val_accuracy: 0.8577\n",
            "Epoch 12/20\n",
            "188/188 [==============================] - 1s 8ms/step - loss: 0.2259 - accuracy: 0.9144 - val_loss: 0.3682 - val_accuracy: 0.8827\n",
            "Epoch 13/20\n",
            "188/188 [==============================] - 1s 8ms/step - loss: 0.2195 - accuracy: 0.9166 - val_loss: 0.3466 - val_accuracy: 0.8879\n",
            "Epoch 14/20\n",
            "188/188 [==============================] - 2s 9ms/step - loss: 0.2130 - accuracy: 0.9192 - val_loss: 0.4030 - val_accuracy: 0.8926\n",
            "Epoch 15/20\n",
            "188/188 [==============================] - 2s 8ms/step - loss: 0.2058 - accuracy: 0.9208 - val_loss: 0.4120 - val_accuracy: 0.8904\n",
            "Epoch 16/20\n",
            "188/188 [==============================] - 1s 8ms/step - loss: 0.1983 - accuracy: 0.9240 - val_loss: 0.5012 - val_accuracy: 0.8721\n",
            "Epoch 17/20\n",
            "188/188 [==============================] - 2s 8ms/step - loss: 0.1958 - accuracy: 0.9262 - val_loss: 0.3918 - val_accuracy: 0.8924\n",
            "Epoch 18/20\n",
            "188/188 [==============================] - 2s 8ms/step - loss: 0.1907 - accuracy: 0.9280 - val_loss: 0.4300 - val_accuracy: 0.8882\n",
            "Epoch 19/20\n",
            "188/188 [==============================] - 1s 8ms/step - loss: 0.1860 - accuracy: 0.9301 - val_loss: 0.4402 - val_accuracy: 0.8920\n",
            "Epoch 20/20\n",
            "188/188 [==============================] - 2s 8ms/step - loss: 0.1809 - accuracy: 0.9305 - val_loss: 0.4824 - val_accuracy: 0.8942\n"
          ],
          "name": "stdout"
        },
        {
          "output_type": "display_data",
          "data": {
            "text/html": [
              "<span style=\"color:#4527A0\"><h1 style=\"font-size:18px\">Trial complete</h1></span>"
            ],
            "text/plain": [
              "<IPython.core.display.HTML object>"
            ]
          },
          "metadata": {
            "tags": []
          }
        },
        {
          "output_type": "display_data",
          "data": {
            "text/html": [
              "<span style=\"color:#4527A0\"><h1 style=\"font-size:18px\">Trial summary</h1></span>"
            ],
            "text/plain": [
              "<IPython.core.display.HTML object>"
            ]
          },
          "metadata": {
            "tags": []
          }
        },
        {
          "output_type": "display_data",
          "data": {
            "text/html": [
              "<span style=\"color:cyan\"> |-Trial ID: 4162f88bca685025608ac0d270289b94</span>"
            ],
            "text/plain": [
              "<IPython.core.display.HTML object>"
            ]
          },
          "metadata": {
            "tags": []
          }
        },
        {
          "output_type": "display_data",
          "data": {
            "text/html": [
              "<span style=\"color:cyan\"> |-Score: 0.8942499756813049</span>"
            ],
            "text/plain": [
              "<IPython.core.display.HTML object>"
            ]
          },
          "metadata": {
            "tags": []
          }
        },
        {
          "output_type": "display_data",
          "data": {
            "text/html": [
              "<span style=\"color:cyan\"> |-Best step: 0</span>"
            ],
            "text/plain": [
              "<IPython.core.display.HTML object>"
            ]
          },
          "metadata": {
            "tags": []
          }
        },
        {
          "output_type": "display_data",
          "data": {
            "text/html": [
              "<span style=\"color:#7E57C2\"><h2 style=\"font-size:16px\">Hyperparameters:</h2></span>"
            ],
            "text/plain": [
              "<IPython.core.display.HTML object>"
            ]
          },
          "metadata": {
            "tags": []
          }
        },
        {
          "output_type": "display_data",
          "data": {
            "text/html": [
              "<span style=\"color:cyan\"> |-activation: relu</span>"
            ],
            "text/plain": [
              "<IPython.core.display.HTML object>"
            ]
          },
          "metadata": {
            "tags": []
          }
        },
        {
          "output_type": "display_data",
          "data": {
            "text/html": [
              "<span style=\"color:blue\"> |-optimizer: rmsprop</span>"
            ],
            "text/plain": [
              "<IPython.core.display.HTML object>"
            ]
          },
          "metadata": {
            "tags": []
          }
        },
        {
          "output_type": "display_data",
          "data": {
            "text/html": [
              "<span style=\"color:cyan\"> |-units_hidden: 288</span>"
            ],
            "text/plain": [
              "<IPython.core.display.HTML object>"
            ]
          },
          "metadata": {
            "tags": []
          }
        },
        {
          "output_type": "display_data",
          "data": {
            "text/html": [
              "<span style=\"color:blue\"> |-units_input: 736</span>"
            ],
            "text/plain": [
              "<IPython.core.display.HTML object>"
            ]
          },
          "metadata": {
            "tags": []
          }
        },
        {
          "output_type": "stream",
          "text": [
            "Epoch 1/20\n",
            "188/188 [==============================] - 2s 9ms/step - loss: 0.9659 - accuracy: 0.6977 - val_loss: 0.5815 - val_accuracy: 0.7969\n",
            "Epoch 2/20\n",
            "188/188 [==============================] - 2s 8ms/step - loss: 0.5711 - accuracy: 0.7927 - val_loss: 0.5973 - val_accuracy: 0.7753\n",
            "Epoch 3/20\n",
            "188/188 [==============================] - 2s 9ms/step - loss: 0.4779 - accuracy: 0.8229 - val_loss: 0.5025 - val_accuracy: 0.8222\n",
            "Epoch 4/20\n",
            "188/188 [==============================] - 2s 9ms/step - loss: 0.4160 - accuracy: 0.8433 - val_loss: 0.3975 - val_accuracy: 0.8566\n",
            "Epoch 5/20\n",
            "188/188 [==============================] - 2s 8ms/step - loss: 0.3782 - accuracy: 0.8573 - val_loss: 0.4787 - val_accuracy: 0.8152\n",
            "Epoch 6/20\n",
            "188/188 [==============================] - 2s 8ms/step - loss: 0.3486 - accuracy: 0.8682 - val_loss: 0.3914 - val_accuracy: 0.8554\n",
            "Epoch 7/20\n",
            "188/188 [==============================] - 2s 8ms/step - loss: 0.3260 - accuracy: 0.8758 - val_loss: 0.4645 - val_accuracy: 0.8440\n",
            "Epoch 8/20\n",
            "188/188 [==============================] - 2s 8ms/step - loss: 0.3089 - accuracy: 0.8822 - val_loss: 0.4307 - val_accuracy: 0.8456\n",
            "Epoch 9/20\n",
            "188/188 [==============================] - 2s 8ms/step - loss: 0.2922 - accuracy: 0.8878 - val_loss: 0.4285 - val_accuracy: 0.8549\n",
            "Epoch 10/20\n",
            "188/188 [==============================] - 2s 8ms/step - loss: 0.2792 - accuracy: 0.8928 - val_loss: 0.3744 - val_accuracy: 0.8752\n",
            "Epoch 11/20\n",
            "188/188 [==============================] - 2s 8ms/step - loss: 0.2666 - accuracy: 0.8980 - val_loss: 0.3758 - val_accuracy: 0.8693\n",
            "Epoch 12/20\n",
            "188/188 [==============================] - 2s 8ms/step - loss: 0.2524 - accuracy: 0.9019 - val_loss: 0.3740 - val_accuracy: 0.8657\n",
            "Epoch 13/20\n",
            "188/188 [==============================] - 2s 9ms/step - loss: 0.2424 - accuracy: 0.9054 - val_loss: 0.3815 - val_accuracy: 0.8737\n",
            "Epoch 14/20\n",
            "188/188 [==============================] - 2s 8ms/step - loss: 0.2314 - accuracy: 0.9115 - val_loss: 0.3971 - val_accuracy: 0.8736\n",
            "Epoch 15/20\n",
            "188/188 [==============================] - 2s 8ms/step - loss: 0.2220 - accuracy: 0.9149 - val_loss: 0.5411 - val_accuracy: 0.8524\n",
            "Epoch 16/20\n",
            "188/188 [==============================] - 2s 8ms/step - loss: 0.2115 - accuracy: 0.9195 - val_loss: 0.3982 - val_accuracy: 0.8823\n",
            "Epoch 17/20\n",
            "188/188 [==============================] - 2s 8ms/step - loss: 0.2022 - accuracy: 0.9214 - val_loss: 0.4283 - val_accuracy: 0.8808\n",
            "Epoch 18/20\n",
            "188/188 [==============================] - 2s 8ms/step - loss: 0.1928 - accuracy: 0.9253 - val_loss: 0.5032 - val_accuracy: 0.8489\n",
            "Epoch 19/20\n",
            "188/188 [==============================] - 2s 9ms/step - loss: 0.1870 - accuracy: 0.9279 - val_loss: 0.3495 - val_accuracy: 0.8913\n",
            "Epoch 20/20\n",
            "188/188 [==============================] - 2s 9ms/step - loss: 0.1772 - accuracy: 0.9316 - val_loss: 0.4065 - val_accuracy: 0.8759\n"
          ],
          "name": "stdout"
        },
        {
          "output_type": "display_data",
          "data": {
            "text/html": [
              "<span style=\"color:#4527A0\"><h1 style=\"font-size:18px\">Trial complete</h1></span>"
            ],
            "text/plain": [
              "<IPython.core.display.HTML object>"
            ]
          },
          "metadata": {
            "tags": []
          }
        },
        {
          "output_type": "display_data",
          "data": {
            "text/html": [
              "<span style=\"color:#4527A0\"><h1 style=\"font-size:18px\">Trial summary</h1></span>"
            ],
            "text/plain": [
              "<IPython.core.display.HTML object>"
            ]
          },
          "metadata": {
            "tags": []
          }
        },
        {
          "output_type": "display_data",
          "data": {
            "text/html": [
              "<span style=\"color:cyan\"> |-Trial ID: 9557908a0878b369e6b3ed44796d2e15</span>"
            ],
            "text/plain": [
              "<IPython.core.display.HTML object>"
            ]
          },
          "metadata": {
            "tags": []
          }
        },
        {
          "output_type": "display_data",
          "data": {
            "text/html": [
              "<span style=\"color:cyan\"> |-Score: 0.8912500143051147</span>"
            ],
            "text/plain": [
              "<IPython.core.display.HTML object>"
            ]
          },
          "metadata": {
            "tags": []
          }
        },
        {
          "output_type": "display_data",
          "data": {
            "text/html": [
              "<span style=\"color:cyan\"> |-Best step: 0</span>"
            ],
            "text/plain": [
              "<IPython.core.display.HTML object>"
            ]
          },
          "metadata": {
            "tags": []
          }
        },
        {
          "output_type": "display_data",
          "data": {
            "text/html": [
              "<span style=\"color:#7E57C2\"><h2 style=\"font-size:16px\">Hyperparameters:</h2></span>"
            ],
            "text/plain": [
              "<IPython.core.display.HTML object>"
            ]
          },
          "metadata": {
            "tags": []
          }
        },
        {
          "output_type": "display_data",
          "data": {
            "text/html": [
              "<span style=\"color:cyan\"> |-activation: elu</span>"
            ],
            "text/plain": [
              "<IPython.core.display.HTML object>"
            ]
          },
          "metadata": {
            "tags": []
          }
        },
        {
          "output_type": "display_data",
          "data": {
            "text/html": [
              "<span style=\"color:blue\"> |-optimizer: rmsprop</span>"
            ],
            "text/plain": [
              "<IPython.core.display.HTML object>"
            ]
          },
          "metadata": {
            "tags": []
          }
        },
        {
          "output_type": "display_data",
          "data": {
            "text/html": [
              "<span style=\"color:cyan\"> |-units_hidden: 512</span>"
            ],
            "text/plain": [
              "<IPython.core.display.HTML object>"
            ]
          },
          "metadata": {
            "tags": []
          }
        },
        {
          "output_type": "display_data",
          "data": {
            "text/html": [
              "<span style=\"color:blue\"> |-units_input: 544</span>"
            ],
            "text/plain": [
              "<IPython.core.display.HTML object>"
            ]
          },
          "metadata": {
            "tags": []
          }
        },
        {
          "output_type": "stream",
          "text": [
            "Epoch 1/20\n",
            "188/188 [==============================] - 2s 9ms/step - loss: 0.5534 - accuracy: 0.8006 - val_loss: 0.4146 - val_accuracy: 0.8450\n",
            "Epoch 2/20\n",
            "188/188 [==============================] - 1s 7ms/step - loss: 0.3817 - accuracy: 0.8609 - val_loss: 0.3721 - val_accuracy: 0.8652\n",
            "Epoch 3/20\n",
            "188/188 [==============================] - 1s 7ms/step - loss: 0.3438 - accuracy: 0.8733 - val_loss: 0.3461 - val_accuracy: 0.8731\n",
            "Epoch 4/20\n",
            "188/188 [==============================] - 1s 7ms/step - loss: 0.3176 - accuracy: 0.8823 - val_loss: 0.3848 - val_accuracy: 0.8591\n",
            "Epoch 5/20\n",
            "188/188 [==============================] - 1s 8ms/step - loss: 0.3015 - accuracy: 0.8880 - val_loss: 0.3454 - val_accuracy: 0.8715\n",
            "Epoch 6/20\n",
            "188/188 [==============================] - 1s 8ms/step - loss: 0.2771 - accuracy: 0.8960 - val_loss: 0.3260 - val_accuracy: 0.8783\n",
            "Epoch 7/20\n",
            "188/188 [==============================] - 1s 7ms/step - loss: 0.2645 - accuracy: 0.9009 - val_loss: 0.3306 - val_accuracy: 0.8801\n",
            "Epoch 8/20\n",
            "188/188 [==============================] - 1s 7ms/step - loss: 0.2439 - accuracy: 0.9082 - val_loss: 0.3363 - val_accuracy: 0.8787\n",
            "Epoch 9/20\n",
            "188/188 [==============================] - 1s 7ms/step - loss: 0.2350 - accuracy: 0.9129 - val_loss: 0.3134 - val_accuracy: 0.8852\n",
            "Epoch 10/20\n",
            "188/188 [==============================] - 1s 8ms/step - loss: 0.2227 - accuracy: 0.9164 - val_loss: 0.3292 - val_accuracy: 0.8883\n",
            "Epoch 11/20\n",
            "188/188 [==============================] - 1s 7ms/step - loss: 0.2132 - accuracy: 0.9206 - val_loss: 0.3081 - val_accuracy: 0.8887\n",
            "Epoch 12/20\n",
            "188/188 [==============================] - 1s 7ms/step - loss: 0.1997 - accuracy: 0.9254 - val_loss: 0.3255 - val_accuracy: 0.8897\n",
            "Epoch 13/20\n",
            "188/188 [==============================] - 1s 7ms/step - loss: 0.1972 - accuracy: 0.9250 - val_loss: 0.3228 - val_accuracy: 0.8857\n",
            "Epoch 14/20\n",
            "188/188 [==============================] - 1s 7ms/step - loss: 0.1821 - accuracy: 0.9315 - val_loss: 0.3151 - val_accuracy: 0.8955\n",
            "Epoch 15/20\n",
            "188/188 [==============================] - 1s 7ms/step - loss: 0.1735 - accuracy: 0.9340 - val_loss: 0.3222 - val_accuracy: 0.8907\n",
            "Epoch 16/20\n",
            "188/188 [==============================] - 1s 7ms/step - loss: 0.1683 - accuracy: 0.9363 - val_loss: 0.3247 - val_accuracy: 0.8926\n",
            "Epoch 17/20\n",
            "188/188 [==============================] - 1s 7ms/step - loss: 0.1604 - accuracy: 0.9393 - val_loss: 0.3205 - val_accuracy: 0.8961\n",
            "Epoch 18/20\n",
            "188/188 [==============================] - 1s 7ms/step - loss: 0.1543 - accuracy: 0.9428 - val_loss: 0.3525 - val_accuracy: 0.8858\n",
            "Epoch 19/20\n",
            "188/188 [==============================] - 1s 7ms/step - loss: 0.1450 - accuracy: 0.9455 - val_loss: 0.3248 - val_accuracy: 0.8912\n",
            "Epoch 20/20\n",
            "188/188 [==============================] - 1s 7ms/step - loss: 0.1354 - accuracy: 0.9493 - val_loss: 0.3276 - val_accuracy: 0.8924\n"
          ],
          "name": "stdout"
        },
        {
          "output_type": "display_data",
          "data": {
            "text/html": [
              "<span style=\"color:#4527A0\"><h1 style=\"font-size:18px\">Trial complete</h1></span>"
            ],
            "text/plain": [
              "<IPython.core.display.HTML object>"
            ]
          },
          "metadata": {
            "tags": []
          }
        },
        {
          "output_type": "display_data",
          "data": {
            "text/html": [
              "<span style=\"color:#4527A0\"><h1 style=\"font-size:18px\">Trial summary</h1></span>"
            ],
            "text/plain": [
              "<IPython.core.display.HTML object>"
            ]
          },
          "metadata": {
            "tags": []
          }
        },
        {
          "output_type": "display_data",
          "data": {
            "text/html": [
              "<span style=\"color:cyan\"> |-Trial ID: 660000f115cf892fa2d0c4d905134ff0</span>"
            ],
            "text/plain": [
              "<IPython.core.display.HTML object>"
            ]
          },
          "metadata": {
            "tags": []
          }
        },
        {
          "output_type": "display_data",
          "data": {
            "text/html": [
              "<span style=\"color:cyan\"> |-Score: 0.8960833549499512</span>"
            ],
            "text/plain": [
              "<IPython.core.display.HTML object>"
            ]
          },
          "metadata": {
            "tags": []
          }
        },
        {
          "output_type": "display_data",
          "data": {
            "text/html": [
              "<span style=\"color:cyan\"> |-Best step: 0</span>"
            ],
            "text/plain": [
              "<IPython.core.display.HTML object>"
            ]
          },
          "metadata": {
            "tags": []
          }
        },
        {
          "output_type": "display_data",
          "data": {
            "text/html": [
              "<span style=\"color:#7E57C2\"><h2 style=\"font-size:16px\">Hyperparameters:</h2></span>"
            ],
            "text/plain": [
              "<IPython.core.display.HTML object>"
            ]
          },
          "metadata": {
            "tags": []
          }
        },
        {
          "output_type": "display_data",
          "data": {
            "text/html": [
              "<span style=\"color:cyan\"> |-activation: tanh</span>"
            ],
            "text/plain": [
              "<IPython.core.display.HTML object>"
            ]
          },
          "metadata": {
            "tags": []
          }
        },
        {
          "output_type": "display_data",
          "data": {
            "text/html": [
              "<span style=\"color:blue\"> |-optimizer: adam</span>"
            ],
            "text/plain": [
              "<IPython.core.display.HTML object>"
            ]
          },
          "metadata": {
            "tags": []
          }
        },
        {
          "output_type": "display_data",
          "data": {
            "text/html": [
              "<span style=\"color:cyan\"> |-units_hidden: 384</span>"
            ],
            "text/plain": [
              "<IPython.core.display.HTML object>"
            ]
          },
          "metadata": {
            "tags": []
          }
        },
        {
          "output_type": "display_data",
          "data": {
            "text/html": [
              "<span style=\"color:blue\"> |-units_input: 832</span>"
            ],
            "text/plain": [
              "<IPython.core.display.HTML object>"
            ]
          },
          "metadata": {
            "tags": []
          }
        },
        {
          "output_type": "stream",
          "text": [
            "Epoch 1/20\n",
            "188/188 [==============================] - 2s 8ms/step - loss: 0.8988 - accuracy: 0.7124 - val_loss: 0.9035 - val_accuracy: 0.7179\n",
            "Epoch 2/20\n",
            "188/188 [==============================] - 1s 7ms/step - loss: 0.5121 - accuracy: 0.8088 - val_loss: 0.6160 - val_accuracy: 0.7895\n",
            "Epoch 3/20\n",
            "188/188 [==============================] - 1s 8ms/step - loss: 0.4321 - accuracy: 0.8374 - val_loss: 0.4955 - val_accuracy: 0.8257\n",
            "Epoch 4/20\n",
            "188/188 [==============================] - 1s 8ms/step - loss: 0.3835 - accuracy: 0.8566 - val_loss: 0.4147 - val_accuracy: 0.8487\n",
            "Epoch 5/20\n",
            "188/188 [==============================] - 1s 8ms/step - loss: 0.3607 - accuracy: 0.8657 - val_loss: 0.4241 - val_accuracy: 0.8491\n",
            "Epoch 6/20\n",
            "188/188 [==============================] - 1s 8ms/step - loss: 0.3333 - accuracy: 0.8746 - val_loss: 0.3988 - val_accuracy: 0.8589\n",
            "Epoch 7/20\n",
            "188/188 [==============================] - 1s 8ms/step - loss: 0.3134 - accuracy: 0.8805 - val_loss: 0.4617 - val_accuracy: 0.8276\n",
            "Epoch 8/20\n",
            "188/188 [==============================] - 2s 8ms/step - loss: 0.3013 - accuracy: 0.8871 - val_loss: 0.4072 - val_accuracy: 0.8530\n",
            "Epoch 9/20\n",
            "188/188 [==============================] - 1s 8ms/step - loss: 0.2835 - accuracy: 0.8918 - val_loss: 0.3573 - val_accuracy: 0.8744\n",
            "Epoch 10/20\n",
            "188/188 [==============================] - 1s 8ms/step - loss: 0.2728 - accuracy: 0.8971 - val_loss: 0.3475 - val_accuracy: 0.8801\n",
            "Epoch 11/20\n",
            "188/188 [==============================] - 1s 8ms/step - loss: 0.2601 - accuracy: 0.9004 - val_loss: 0.3813 - val_accuracy: 0.8678\n",
            "Epoch 12/20\n",
            "188/188 [==============================] - 1s 7ms/step - loss: 0.2540 - accuracy: 0.9042 - val_loss: 0.3706 - val_accuracy: 0.8753\n",
            "Epoch 13/20\n",
            "188/188 [==============================] - 1s 8ms/step - loss: 0.2396 - accuracy: 0.9084 - val_loss: 0.3520 - val_accuracy: 0.8822\n",
            "Epoch 14/20\n",
            "188/188 [==============================] - 1s 8ms/step - loss: 0.2308 - accuracy: 0.9114 - val_loss: 0.4541 - val_accuracy: 0.8579\n",
            "Epoch 15/20\n",
            "188/188 [==============================] - 1s 8ms/step - loss: 0.2277 - accuracy: 0.9135 - val_loss: 0.3886 - val_accuracy: 0.8781\n",
            "Epoch 16/20\n",
            "188/188 [==============================] - 1s 8ms/step - loss: 0.2145 - accuracy: 0.9190 - val_loss: 0.4069 - val_accuracy: 0.8642\n",
            "Epoch 17/20\n",
            "188/188 [==============================] - 1s 8ms/step - loss: 0.2089 - accuracy: 0.9194 - val_loss: 0.3476 - val_accuracy: 0.8873\n",
            "Epoch 18/20\n",
            "188/188 [==============================] - 1s 7ms/step - loss: 0.2025 - accuracy: 0.9239 - val_loss: 0.3985 - val_accuracy: 0.8720\n",
            "Epoch 19/20\n",
            "188/188 [==============================] - 2s 8ms/step - loss: 0.1976 - accuracy: 0.9234 - val_loss: 0.3585 - val_accuracy: 0.8877\n",
            "Epoch 20/20\n",
            "188/188 [==============================] - 1s 8ms/step - loss: 0.1888 - accuracy: 0.9282 - val_loss: 0.4964 - val_accuracy: 0.8404\n"
          ],
          "name": "stdout"
        },
        {
          "output_type": "display_data",
          "data": {
            "text/html": [
              "<span style=\"color:#4527A0\"><h1 style=\"font-size:18px\">Trial complete</h1></span>"
            ],
            "text/plain": [
              "<IPython.core.display.HTML object>"
            ]
          },
          "metadata": {
            "tags": []
          }
        },
        {
          "output_type": "display_data",
          "data": {
            "text/html": [
              "<span style=\"color:#4527A0\"><h1 style=\"font-size:18px\">Trial summary</h1></span>"
            ],
            "text/plain": [
              "<IPython.core.display.HTML object>"
            ]
          },
          "metadata": {
            "tags": []
          }
        },
        {
          "output_type": "display_data",
          "data": {
            "text/html": [
              "<span style=\"color:cyan\"> |-Trial ID: 9acad696d8947b31834bda67620cc0fb</span>"
            ],
            "text/plain": [
              "<IPython.core.display.HTML object>"
            ]
          },
          "metadata": {
            "tags": []
          }
        },
        {
          "output_type": "display_data",
          "data": {
            "text/html": [
              "<span style=\"color:cyan\"> |-Score: 0.887666642665863</span>"
            ],
            "text/plain": [
              "<IPython.core.display.HTML object>"
            ]
          },
          "metadata": {
            "tags": []
          }
        },
        {
          "output_type": "display_data",
          "data": {
            "text/html": [
              "<span style=\"color:cyan\"> |-Best step: 0</span>"
            ],
            "text/plain": [
              "<IPython.core.display.HTML object>"
            ]
          },
          "metadata": {
            "tags": []
          }
        },
        {
          "output_type": "display_data",
          "data": {
            "text/html": [
              "<span style=\"color:#7E57C2\"><h2 style=\"font-size:16px\">Hyperparameters:</h2></span>"
            ],
            "text/plain": [
              "<IPython.core.display.HTML object>"
            ]
          },
          "metadata": {
            "tags": []
          }
        },
        {
          "output_type": "display_data",
          "data": {
            "text/html": [
              "<span style=\"color:cyan\"> |-activation: selu</span>"
            ],
            "text/plain": [
              "<IPython.core.display.HTML object>"
            ]
          },
          "metadata": {
            "tags": []
          }
        },
        {
          "output_type": "display_data",
          "data": {
            "text/html": [
              "<span style=\"color:blue\"> |-optimizer: rmsprop</span>"
            ],
            "text/plain": [
              "<IPython.core.display.HTML object>"
            ]
          },
          "metadata": {
            "tags": []
          }
        },
        {
          "output_type": "display_data",
          "data": {
            "text/html": [
              "<span style=\"color:cyan\"> |-units_hidden: 128</span>"
            ],
            "text/plain": [
              "<IPython.core.display.HTML object>"
            ]
          },
          "metadata": {
            "tags": []
          }
        },
        {
          "output_type": "display_data",
          "data": {
            "text/html": [
              "<span style=\"color:blue\"> |-units_input: 704</span>"
            ],
            "text/plain": [
              "<IPython.core.display.HTML object>"
            ]
          },
          "metadata": {
            "tags": []
          }
        },
        {
          "output_type": "stream",
          "text": [
            "Epoch 1/20\n",
            "188/188 [==============================] - 2s 9ms/step - loss: 1.3383 - accuracy: 0.6248 - val_loss: 0.8585 - val_accuracy: 0.7170\n",
            "Epoch 2/20\n",
            "188/188 [==============================] - 1s 7ms/step - loss: 0.7622 - accuracy: 0.7474 - val_loss: 0.6823 - val_accuracy: 0.7721\n",
            "Epoch 3/20\n",
            "188/188 [==============================] - 1s 8ms/step - loss: 0.6434 - accuracy: 0.7862 - val_loss: 0.6049 - val_accuracy: 0.7921\n",
            "Epoch 4/20\n",
            "188/188 [==============================] - 1s 8ms/step - loss: 0.5824 - accuracy: 0.8048 - val_loss: 0.5622 - val_accuracy: 0.8077\n",
            "Epoch 5/20\n",
            "188/188 [==============================] - 1s 7ms/step - loss: 0.5429 - accuracy: 0.8158 - val_loss: 0.5651 - val_accuracy: 0.8012\n",
            "Epoch 6/20\n",
            "188/188 [==============================] - 1s 7ms/step - loss: 0.5169 - accuracy: 0.8231 - val_loss: 0.5421 - val_accuracy: 0.7993\n",
            "Epoch 7/20\n",
            "188/188 [==============================] - 1s 7ms/step - loss: 0.4944 - accuracy: 0.8311 - val_loss: 0.4943 - val_accuracy: 0.8270\n",
            "Epoch 8/20\n",
            "188/188 [==============================] - 1s 8ms/step - loss: 0.4827 - accuracy: 0.8332 - val_loss: 0.4923 - val_accuracy: 0.8301\n",
            "Epoch 9/20\n",
            "188/188 [==============================] - 1s 7ms/step - loss: 0.4687 - accuracy: 0.8384 - val_loss: 0.4635 - val_accuracy: 0.8394\n",
            "Epoch 10/20\n",
            "188/188 [==============================] - 1s 7ms/step - loss: 0.4579 - accuracy: 0.8407 - val_loss: 0.4574 - val_accuracy: 0.8406\n",
            "Epoch 11/20\n",
            "188/188 [==============================] - 1s 7ms/step - loss: 0.4492 - accuracy: 0.8429 - val_loss: 0.4899 - val_accuracy: 0.8206\n",
            "Epoch 12/20\n",
            "188/188 [==============================] - 1s 8ms/step - loss: 0.4400 - accuracy: 0.8482 - val_loss: 0.4497 - val_accuracy: 0.8402\n",
            "Epoch 13/20\n",
            "188/188 [==============================] - 1s 7ms/step - loss: 0.4327 - accuracy: 0.8504 - val_loss: 0.4482 - val_accuracy: 0.8434\n",
            "Epoch 14/20\n",
            "188/188 [==============================] - 1s 8ms/step - loss: 0.4264 - accuracy: 0.8524 - val_loss: 0.4294 - val_accuracy: 0.8487\n",
            "Epoch 15/20\n",
            "188/188 [==============================] - 1s 8ms/step - loss: 0.4225 - accuracy: 0.8524 - val_loss: 0.4643 - val_accuracy: 0.8381\n",
            "Epoch 16/20\n",
            "188/188 [==============================] - 2s 8ms/step - loss: 0.4143 - accuracy: 0.8560 - val_loss: 0.4186 - val_accuracy: 0.8562\n",
            "Epoch 17/20\n",
            "188/188 [==============================] - 2s 8ms/step - loss: 0.4098 - accuracy: 0.8575 - val_loss: 0.4150 - val_accuracy: 0.8562\n",
            "Epoch 18/20\n",
            "188/188 [==============================] - 2s 8ms/step - loss: 0.4039 - accuracy: 0.8607 - val_loss: 0.4541 - val_accuracy: 0.8343\n",
            "Epoch 19/20\n",
            "188/188 [==============================] - 2s 8ms/step - loss: 0.4009 - accuracy: 0.8595 - val_loss: 0.4219 - val_accuracy: 0.8496\n",
            "Epoch 20/20\n",
            "188/188 [==============================] - 2s 8ms/step - loss: 0.3955 - accuracy: 0.8625 - val_loss: 0.4308 - val_accuracy: 0.8447\n"
          ],
          "name": "stdout"
        },
        {
          "output_type": "display_data",
          "data": {
            "text/html": [
              "<span style=\"color:#4527A0\"><h1 style=\"font-size:18px\">Trial complete</h1></span>"
            ],
            "text/plain": [
              "<IPython.core.display.HTML object>"
            ]
          },
          "metadata": {
            "tags": []
          }
        },
        {
          "output_type": "display_data",
          "data": {
            "text/html": [
              "<span style=\"color:#4527A0\"><h1 style=\"font-size:18px\">Trial summary</h1></span>"
            ],
            "text/plain": [
              "<IPython.core.display.HTML object>"
            ]
          },
          "metadata": {
            "tags": []
          }
        },
        {
          "output_type": "display_data",
          "data": {
            "text/html": [
              "<span style=\"color:cyan\"> |-Trial ID: d4b785785498b3c1e23a01f12128ff39</span>"
            ],
            "text/plain": [
              "<IPython.core.display.HTML object>"
            ]
          },
          "metadata": {
            "tags": []
          }
        },
        {
          "output_type": "display_data",
          "data": {
            "text/html": [
              "<span style=\"color:cyan\"> |-Score: 0.856166660785675</span>"
            ],
            "text/plain": [
              "<IPython.core.display.HTML object>"
            ]
          },
          "metadata": {
            "tags": []
          }
        },
        {
          "output_type": "display_data",
          "data": {
            "text/html": [
              "<span style=\"color:cyan\"> |-Best step: 0</span>"
            ],
            "text/plain": [
              "<IPython.core.display.HTML object>"
            ]
          },
          "metadata": {
            "tags": []
          }
        },
        {
          "output_type": "display_data",
          "data": {
            "text/html": [
              "<span style=\"color:#7E57C2\"><h2 style=\"font-size:16px\">Hyperparameters:</h2></span>"
            ],
            "text/plain": [
              "<IPython.core.display.HTML object>"
            ]
          },
          "metadata": {
            "tags": []
          }
        },
        {
          "output_type": "display_data",
          "data": {
            "text/html": [
              "<span style=\"color:cyan\"> |-activation: relu</span>"
            ],
            "text/plain": [
              "<IPython.core.display.HTML object>"
            ]
          },
          "metadata": {
            "tags": []
          }
        },
        {
          "output_type": "display_data",
          "data": {
            "text/html": [
              "<span style=\"color:blue\"> |-optimizer: SGD</span>"
            ],
            "text/plain": [
              "<IPython.core.display.HTML object>"
            ]
          },
          "metadata": {
            "tags": []
          }
        },
        {
          "output_type": "display_data",
          "data": {
            "text/html": [
              "<span style=\"color:cyan\"> |-units_hidden: 384</span>"
            ],
            "text/plain": [
              "<IPython.core.display.HTML object>"
            ]
          },
          "metadata": {
            "tags": []
          }
        },
        {
          "output_type": "display_data",
          "data": {
            "text/html": [
              "<span style=\"color:blue\"> |-units_input: 928</span>"
            ],
            "text/plain": [
              "<IPython.core.display.HTML object>"
            ]
          },
          "metadata": {
            "tags": []
          }
        },
        {
          "output_type": "stream",
          "text": [
            "Epoch 1/20\n",
            "188/188 [==============================] - 2s 8ms/step - loss: 2.3056 - accuracy: 0.1181 - val_loss: 2.2973 - val_accuracy: 0.1003\n",
            "Epoch 2/20\n",
            "188/188 [==============================] - 1s 7ms/step - loss: 2.2941 - accuracy: 0.1430 - val_loss: 2.2911 - val_accuracy: 0.0995\n",
            "Epoch 3/20\n",
            "188/188 [==============================] - 1s 7ms/step - loss: 2.2875 - accuracy: 0.1676 - val_loss: 2.2843 - val_accuracy: 0.1896\n",
            "Epoch 4/20\n",
            "188/188 [==============================] - 1s 7ms/step - loss: 2.2808 - accuracy: 0.1974 - val_loss: 2.2785 - val_accuracy: 0.1832\n",
            "Epoch 5/20\n",
            "188/188 [==============================] - 1s 7ms/step - loss: 2.2733 - accuracy: 0.2438 - val_loss: 2.2687 - val_accuracy: 0.1003\n",
            "Epoch 6/20\n",
            "188/188 [==============================] - 1s 7ms/step - loss: 2.2645 - accuracy: 0.2979 - val_loss: 2.2588 - val_accuracy: 0.3783\n",
            "Epoch 7/20\n",
            "188/188 [==============================] - 1s 7ms/step - loss: 2.2542 - accuracy: 0.3354 - val_loss: 2.2491 - val_accuracy: 0.2337\n",
            "Epoch 8/20\n",
            "188/188 [==============================] - 1s 7ms/step - loss: 2.2417 - accuracy: 0.3619 - val_loss: 2.2344 - val_accuracy: 0.2779\n",
            "Epoch 9/20\n",
            "188/188 [==============================] - 1s 7ms/step - loss: 2.2260 - accuracy: 0.3571 - val_loss: 2.2166 - val_accuracy: 0.3756\n",
            "Epoch 10/20\n",
            "188/188 [==============================] - 1s 7ms/step - loss: 2.2068 - accuracy: 0.4044 - val_loss: 2.1944 - val_accuracy: 0.4877\n",
            "Epoch 11/20\n",
            "188/188 [==============================] - 1s 7ms/step - loss: 2.1815 - accuracy: 0.4238 - val_loss: 2.1656 - val_accuracy: 0.5299\n",
            "Epoch 12/20\n",
            "188/188 [==============================] - 1s 7ms/step - loss: 2.1487 - accuracy: 0.4319 - val_loss: 2.1270 - val_accuracy: 0.4544\n",
            "Epoch 13/20\n",
            "188/188 [==============================] - 1s 7ms/step - loss: 2.1051 - accuracy: 0.4464 - val_loss: 2.0781 - val_accuracy: 0.4996\n",
            "Epoch 14/20\n",
            "188/188 [==============================] - 1s 7ms/step - loss: 2.0489 - accuracy: 0.4667 - val_loss: 2.0144 - val_accuracy: 0.5123\n",
            "Epoch 15/20\n",
            "188/188 [==============================] - 1s 7ms/step - loss: 1.9784 - accuracy: 0.4801 - val_loss: 1.9370 - val_accuracy: 0.5631\n",
            "Epoch 16/20\n",
            "188/188 [==============================] - 1s 7ms/step - loss: 1.8968 - accuracy: 0.4894 - val_loss: 1.8520 - val_accuracy: 0.5459\n",
            "Epoch 17/20\n",
            "188/188 [==============================] - 1s 7ms/step - loss: 1.8115 - accuracy: 0.5006 - val_loss: 1.7674 - val_accuracy: 0.5589\n",
            "Epoch 18/20\n",
            "188/188 [==============================] - 1s 7ms/step - loss: 1.7296 - accuracy: 0.5146 - val_loss: 1.6877 - val_accuracy: 0.5132\n",
            "Epoch 19/20\n",
            "188/188 [==============================] - 1s 7ms/step - loss: 1.6550 - accuracy: 0.5256 - val_loss: 1.6173 - val_accuracy: 0.5359\n",
            "Epoch 20/20\n",
            "188/188 [==============================] - 1s 7ms/step - loss: 1.5875 - accuracy: 0.5281 - val_loss: 1.5509 - val_accuracy: 0.5411\n"
          ],
          "name": "stdout"
        },
        {
          "output_type": "display_data",
          "data": {
            "text/html": [
              "<span style=\"color:#4527A0\"><h1 style=\"font-size:18px\">Trial complete</h1></span>"
            ],
            "text/plain": [
              "<IPython.core.display.HTML object>"
            ]
          },
          "metadata": {
            "tags": []
          }
        },
        {
          "output_type": "display_data",
          "data": {
            "text/html": [
              "<span style=\"color:#4527A0\"><h1 style=\"font-size:18px\">Trial summary</h1></span>"
            ],
            "text/plain": [
              "<IPython.core.display.HTML object>"
            ]
          },
          "metadata": {
            "tags": []
          }
        },
        {
          "output_type": "display_data",
          "data": {
            "text/html": [
              "<span style=\"color:cyan\"> |-Trial ID: 0e674459d9202976897a7a656b025f6c</span>"
            ],
            "text/plain": [
              "<IPython.core.display.HTML object>"
            ]
          },
          "metadata": {
            "tags": []
          }
        },
        {
          "output_type": "display_data",
          "data": {
            "text/html": [
              "<span style=\"color:cyan\"> |-Score: 0.5630833506584167</span>"
            ],
            "text/plain": [
              "<IPython.core.display.HTML object>"
            ]
          },
          "metadata": {
            "tags": []
          }
        },
        {
          "output_type": "display_data",
          "data": {
            "text/html": [
              "<span style=\"color:cyan\"> |-Best step: 0</span>"
            ],
            "text/plain": [
              "<IPython.core.display.HTML object>"
            ]
          },
          "metadata": {
            "tags": []
          }
        },
        {
          "output_type": "display_data",
          "data": {
            "text/html": [
              "<span style=\"color:#7E57C2\"><h2 style=\"font-size:16px\">Hyperparameters:</h2></span>"
            ],
            "text/plain": [
              "<IPython.core.display.HTML object>"
            ]
          },
          "metadata": {
            "tags": []
          }
        },
        {
          "output_type": "display_data",
          "data": {
            "text/html": [
              "<span style=\"color:cyan\"> |-activation: sigmoid</span>"
            ],
            "text/plain": [
              "<IPython.core.display.HTML object>"
            ]
          },
          "metadata": {
            "tags": []
          }
        },
        {
          "output_type": "display_data",
          "data": {
            "text/html": [
              "<span style=\"color:blue\"> |-optimizer: SGD</span>"
            ],
            "text/plain": [
              "<IPython.core.display.HTML object>"
            ]
          },
          "metadata": {
            "tags": []
          }
        },
        {
          "output_type": "display_data",
          "data": {
            "text/html": [
              "<span style=\"color:cyan\"> |-units_hidden: 320</span>"
            ],
            "text/plain": [
              "<IPython.core.display.HTML object>"
            ]
          },
          "metadata": {
            "tags": []
          }
        },
        {
          "output_type": "display_data",
          "data": {
            "text/html": [
              "<span style=\"color:blue\"> |-units_input: 896</span>"
            ],
            "text/plain": [
              "<IPython.core.display.HTML object>"
            ]
          },
          "metadata": {
            "tags": []
          }
        },
        {
          "output_type": "stream",
          "text": [
            "Epoch 1/20\n",
            "188/188 [==============================] - 2s 8ms/step - loss: 1.0380 - accuracy: 0.6821 - val_loss: 0.7261 - val_accuracy: 0.7557\n",
            "Epoch 2/20\n",
            "188/188 [==============================] - 1s 8ms/step - loss: 0.6617 - accuracy: 0.7799 - val_loss: 0.6046 - val_accuracy: 0.7962\n",
            "Epoch 3/20\n",
            "188/188 [==============================] - 1s 7ms/step - loss: 0.5774 - accuracy: 0.8052 - val_loss: 0.5542 - val_accuracy: 0.8110\n",
            "Epoch 4/20\n",
            "188/188 [==============================] - 1s 7ms/step - loss: 0.5336 - accuracy: 0.8182 - val_loss: 0.5206 - val_accuracy: 0.8200\n",
            "Epoch 5/20\n",
            "188/188 [==============================] - 1s 7ms/step - loss: 0.5069 - accuracy: 0.8261 - val_loss: 0.4988 - val_accuracy: 0.8248\n",
            "Epoch 6/20\n",
            "188/188 [==============================] - 1s 7ms/step - loss: 0.4885 - accuracy: 0.8311 - val_loss: 0.4884 - val_accuracy: 0.8287\n",
            "Epoch 7/20\n",
            "188/188 [==============================] - 1s 7ms/step - loss: 0.4751 - accuracy: 0.8364 - val_loss: 0.4741 - val_accuracy: 0.8317\n",
            "Epoch 8/20\n",
            "188/188 [==============================] - 1s 7ms/step - loss: 0.4646 - accuracy: 0.8394 - val_loss: 0.4697 - val_accuracy: 0.8322\n",
            "Epoch 9/20\n",
            "188/188 [==============================] - 1s 7ms/step - loss: 0.4556 - accuracy: 0.8420 - val_loss: 0.4715 - val_accuracy: 0.8328\n",
            "Epoch 10/20\n",
            "188/188 [==============================] - 1s 7ms/step - loss: 0.4478 - accuracy: 0.8443 - val_loss: 0.4522 - val_accuracy: 0.8383\n",
            "Epoch 11/20\n",
            "188/188 [==============================] - 1s 7ms/step - loss: 0.4416 - accuracy: 0.8470 - val_loss: 0.4491 - val_accuracy: 0.8426\n",
            "Epoch 12/20\n",
            "188/188 [==============================] - 1s 7ms/step - loss: 0.4361 - accuracy: 0.8491 - val_loss: 0.4460 - val_accuracy: 0.8443\n",
            "Epoch 13/20\n",
            "188/188 [==============================] - 1s 8ms/step - loss: 0.4310 - accuracy: 0.8490 - val_loss: 0.4415 - val_accuracy: 0.8446\n",
            "Epoch 14/20\n",
            "188/188 [==============================] - 1s 7ms/step - loss: 0.4259 - accuracy: 0.8521 - val_loss: 0.4367 - val_accuracy: 0.8466\n",
            "Epoch 15/20\n",
            "188/188 [==============================] - 1s 7ms/step - loss: 0.4219 - accuracy: 0.8523 - val_loss: 0.4483 - val_accuracy: 0.8418\n",
            "Epoch 16/20\n",
            "188/188 [==============================] - 1s 7ms/step - loss: 0.4188 - accuracy: 0.8537 - val_loss: 0.4334 - val_accuracy: 0.8451\n",
            "Epoch 17/20\n",
            "188/188 [==============================] - 1s 7ms/step - loss: 0.4149 - accuracy: 0.8544 - val_loss: 0.4244 - val_accuracy: 0.8492\n",
            "Epoch 18/20\n",
            "188/188 [==============================] - 1s 7ms/step - loss: 0.4112 - accuracy: 0.8561 - val_loss: 0.4227 - val_accuracy: 0.8512\n",
            "Epoch 19/20\n",
            "188/188 [==============================] - 1s 7ms/step - loss: 0.4082 - accuracy: 0.8575 - val_loss: 0.4189 - val_accuracy: 0.8523\n",
            "Epoch 20/20\n",
            "188/188 [==============================] - 1s 7ms/step - loss: 0.4048 - accuracy: 0.8586 - val_loss: 0.4170 - val_accuracy: 0.8522\n"
          ],
          "name": "stdout"
        },
        {
          "output_type": "display_data",
          "data": {
            "text/html": [
              "<span style=\"color:#4527A0\"><h1 style=\"font-size:18px\">Trial complete</h1></span>"
            ],
            "text/plain": [
              "<IPython.core.display.HTML object>"
            ]
          },
          "metadata": {
            "tags": []
          }
        },
        {
          "output_type": "display_data",
          "data": {
            "text/html": [
              "<span style=\"color:#4527A0\"><h1 style=\"font-size:18px\">Trial summary</h1></span>"
            ],
            "text/plain": [
              "<IPython.core.display.HTML object>"
            ]
          },
          "metadata": {
            "tags": []
          }
        },
        {
          "output_type": "display_data",
          "data": {
            "text/html": [
              "<span style=\"color:cyan\"> |-Trial ID: df56b314421f78d07fc9e3c5b4c21f1d</span>"
            ],
            "text/plain": [
              "<IPython.core.display.HTML object>"
            ]
          },
          "metadata": {
            "tags": []
          }
        },
        {
          "output_type": "display_data",
          "data": {
            "text/html": [
              "<span style=\"color:cyan\"> |-Score: 0.8523333072662354</span>"
            ],
            "text/plain": [
              "<IPython.core.display.HTML object>"
            ]
          },
          "metadata": {
            "tags": []
          }
        },
        {
          "output_type": "display_data",
          "data": {
            "text/html": [
              "<span style=\"color:cyan\"> |-Best step: 0</span>"
            ],
            "text/plain": [
              "<IPython.core.display.HTML object>"
            ]
          },
          "metadata": {
            "tags": []
          }
        },
        {
          "output_type": "display_data",
          "data": {
            "text/html": [
              "<span style=\"color:#7E57C2\"><h2 style=\"font-size:16px\">Hyperparameters:</h2></span>"
            ],
            "text/plain": [
              "<IPython.core.display.HTML object>"
            ]
          },
          "metadata": {
            "tags": []
          }
        },
        {
          "output_type": "display_data",
          "data": {
            "text/html": [
              "<span style=\"color:cyan\"> |-activation: elu</span>"
            ],
            "text/plain": [
              "<IPython.core.display.HTML object>"
            ]
          },
          "metadata": {
            "tags": []
          }
        },
        {
          "output_type": "display_data",
          "data": {
            "text/html": [
              "<span style=\"color:blue\"> |-optimizer: SGD</span>"
            ],
            "text/plain": [
              "<IPython.core.display.HTML object>"
            ]
          },
          "metadata": {
            "tags": []
          }
        },
        {
          "output_type": "display_data",
          "data": {
            "text/html": [
              "<span style=\"color:cyan\"> |-units_hidden: 544</span>"
            ],
            "text/plain": [
              "<IPython.core.display.HTML object>"
            ]
          },
          "metadata": {
            "tags": []
          }
        },
        {
          "output_type": "display_data",
          "data": {
            "text/html": [
              "<span style=\"color:blue\"> |-units_input: 576</span>"
            ],
            "text/plain": [
              "<IPython.core.display.HTML object>"
            ]
          },
          "metadata": {
            "tags": []
          }
        },
        {
          "output_type": "stream",
          "text": [
            "Epoch 1/20\n",
            "188/188 [==============================] - 2s 9ms/step - loss: 0.7894 - accuracy: 0.7240 - val_loss: 0.5900 - val_accuracy: 0.7824\n",
            "Epoch 2/20\n",
            "188/188 [==============================] - 2s 9ms/step - loss: 0.4909 - accuracy: 0.8177 - val_loss: 0.4937 - val_accuracy: 0.8100\n",
            "Epoch 3/20\n",
            "188/188 [==============================] - 2s 9ms/step - loss: 0.4185 - accuracy: 0.8427 - val_loss: 0.5642 - val_accuracy: 0.8127\n",
            "Epoch 4/20\n",
            "188/188 [==============================] - 2s 8ms/step - loss: 0.3777 - accuracy: 0.8582 - val_loss: 0.3678 - val_accuracy: 0.8651\n",
            "Epoch 5/20\n",
            "188/188 [==============================] - 2s 8ms/step - loss: 0.3444 - accuracy: 0.8689 - val_loss: 0.3893 - val_accuracy: 0.8596\n",
            "Epoch 6/20\n",
            "188/188 [==============================] - 2s 9ms/step - loss: 0.3192 - accuracy: 0.8777 - val_loss: 0.3331 - val_accuracy: 0.8785\n",
            "Epoch 7/20\n",
            "188/188 [==============================] - 2s 8ms/step - loss: 0.3045 - accuracy: 0.8852 - val_loss: 0.4655 - val_accuracy: 0.8395\n",
            "Epoch 8/20\n",
            "188/188 [==============================] - 2s 9ms/step - loss: 0.2894 - accuracy: 0.8889 - val_loss: 0.5766 - val_accuracy: 0.8081\n",
            "Epoch 9/20\n",
            "188/188 [==============================] - 2s 8ms/step - loss: 0.2711 - accuracy: 0.8972 - val_loss: 0.3464 - val_accuracy: 0.8767\n",
            "Epoch 10/20\n",
            "188/188 [==============================] - 2s 8ms/step - loss: 0.2619 - accuracy: 0.9008 - val_loss: 0.3641 - val_accuracy: 0.8750\n",
            "Epoch 11/20\n",
            "188/188 [==============================] - 2s 8ms/step - loss: 0.2503 - accuracy: 0.9052 - val_loss: 0.3777 - val_accuracy: 0.8598\n",
            "Epoch 12/20\n",
            "188/188 [==============================] - 2s 8ms/step - loss: 0.2397 - accuracy: 0.9073 - val_loss: 0.3563 - val_accuracy: 0.8804\n",
            "Epoch 13/20\n",
            "188/188 [==============================] - 2s 9ms/step - loss: 0.2313 - accuracy: 0.9118 - val_loss: 0.4174 - val_accuracy: 0.8658\n",
            "Epoch 14/20\n",
            "188/188 [==============================] - 2s 8ms/step - loss: 0.2199 - accuracy: 0.9166 - val_loss: 0.3846 - val_accuracy: 0.8795\n",
            "Epoch 15/20\n",
            "188/188 [==============================] - 2s 9ms/step - loss: 0.2126 - accuracy: 0.9182 - val_loss: 0.3518 - val_accuracy: 0.8813\n",
            "Epoch 16/20\n",
            "188/188 [==============================] - 2s 8ms/step - loss: 0.2034 - accuracy: 0.9212 - val_loss: 0.3333 - val_accuracy: 0.8888\n",
            "Epoch 17/20\n",
            "188/188 [==============================] - 2s 8ms/step - loss: 0.1942 - accuracy: 0.9246 - val_loss: 0.3662 - val_accuracy: 0.8842\n",
            "Epoch 18/20\n",
            "188/188 [==============================] - 2s 8ms/step - loss: 0.1889 - accuracy: 0.9275 - val_loss: 0.3932 - val_accuracy: 0.8777\n",
            "Epoch 19/20\n",
            "188/188 [==============================] - 2s 8ms/step - loss: 0.1822 - accuracy: 0.9301 - val_loss: 0.4004 - val_accuracy: 0.8807\n",
            "Epoch 20/20\n",
            "188/188 [==============================] - 2s 9ms/step - loss: 0.1768 - accuracy: 0.9325 - val_loss: 0.3853 - val_accuracy: 0.8820\n"
          ],
          "name": "stdout"
        },
        {
          "output_type": "display_data",
          "data": {
            "text/html": [
              "<span style=\"color:#4527A0\"><h1 style=\"font-size:18px\">Trial complete</h1></span>"
            ],
            "text/plain": [
              "<IPython.core.display.HTML object>"
            ]
          },
          "metadata": {
            "tags": []
          }
        },
        {
          "output_type": "display_data",
          "data": {
            "text/html": [
              "<span style=\"color:#4527A0\"><h1 style=\"font-size:18px\">Trial summary</h1></span>"
            ],
            "text/plain": [
              "<IPython.core.display.HTML object>"
            ]
          },
          "metadata": {
            "tags": []
          }
        },
        {
          "output_type": "display_data",
          "data": {
            "text/html": [
              "<span style=\"color:cyan\"> |-Trial ID: 1bea211ffeb17239ceb949eca843cc67</span>"
            ],
            "text/plain": [
              "<IPython.core.display.HTML object>"
            ]
          },
          "metadata": {
            "tags": []
          }
        },
        {
          "output_type": "display_data",
          "data": {
            "text/html": [
              "<span style=\"color:cyan\"> |-Score: 0.8888333439826965</span>"
            ],
            "text/plain": [
              "<IPython.core.display.HTML object>"
            ]
          },
          "metadata": {
            "tags": []
          }
        },
        {
          "output_type": "display_data",
          "data": {
            "text/html": [
              "<span style=\"color:cyan\"> |-Best step: 0</span>"
            ],
            "text/plain": [
              "<IPython.core.display.HTML object>"
            ]
          },
          "metadata": {
            "tags": []
          }
        },
        {
          "output_type": "display_data",
          "data": {
            "text/html": [
              "<span style=\"color:#7E57C2\"><h2 style=\"font-size:16px\">Hyperparameters:</h2></span>"
            ],
            "text/plain": [
              "<IPython.core.display.HTML object>"
            ]
          },
          "metadata": {
            "tags": []
          }
        },
        {
          "output_type": "display_data",
          "data": {
            "text/html": [
              "<span style=\"color:cyan\"> |-activation: elu</span>"
            ],
            "text/plain": [
              "<IPython.core.display.HTML object>"
            ]
          },
          "metadata": {
            "tags": []
          }
        },
        {
          "output_type": "display_data",
          "data": {
            "text/html": [
              "<span style=\"color:blue\"> |-optimizer: rmsprop</span>"
            ],
            "text/plain": [
              "<IPython.core.display.HTML object>"
            ]
          },
          "metadata": {
            "tags": []
          }
        },
        {
          "output_type": "display_data",
          "data": {
            "text/html": [
              "<span style=\"color:cyan\"> |-units_hidden: 160</span>"
            ],
            "text/plain": [
              "<IPython.core.display.HTML object>"
            ]
          },
          "metadata": {
            "tags": []
          }
        },
        {
          "output_type": "display_data",
          "data": {
            "text/html": [
              "<span style=\"color:blue\"> |-units_input: 992</span>"
            ],
            "text/plain": [
              "<IPython.core.display.HTML object>"
            ]
          },
          "metadata": {
            "tags": []
          }
        },
        {
          "output_type": "stream",
          "text": [
            "Epoch 1/20\n",
            "188/188 [==============================] - 2s 8ms/step - loss: 0.5390 - accuracy: 0.8052 - val_loss: 0.4280 - val_accuracy: 0.8368\n",
            "Epoch 2/20\n",
            "188/188 [==============================] - 1s 7ms/step - loss: 0.3828 - accuracy: 0.8596 - val_loss: 0.3994 - val_accuracy: 0.8593\n",
            "Epoch 3/20\n",
            "188/188 [==============================] - 1s 7ms/step - loss: 0.3453 - accuracy: 0.8725 - val_loss: 0.3519 - val_accuracy: 0.8706\n",
            "Epoch 4/20\n",
            "188/188 [==============================] - 1s 7ms/step - loss: 0.3207 - accuracy: 0.8807 - val_loss: 0.3240 - val_accuracy: 0.8823\n",
            "Epoch 5/20\n",
            "188/188 [==============================] - 1s 8ms/step - loss: 0.2921 - accuracy: 0.8918 - val_loss: 0.3106 - val_accuracy: 0.8877\n",
            "Epoch 6/20\n",
            "188/188 [==============================] - 1s 7ms/step - loss: 0.2816 - accuracy: 0.8948 - val_loss: 0.3272 - val_accuracy: 0.8824\n",
            "Epoch 7/20\n",
            "188/188 [==============================] - 1s 7ms/step - loss: 0.2662 - accuracy: 0.9007 - val_loss: 0.3095 - val_accuracy: 0.8856\n",
            "Epoch 8/20\n",
            "188/188 [==============================] - 1s 7ms/step - loss: 0.2566 - accuracy: 0.9039 - val_loss: 0.3089 - val_accuracy: 0.8884\n",
            "Epoch 9/20\n",
            "188/188 [==============================] - 1s 7ms/step - loss: 0.2445 - accuracy: 0.9086 - val_loss: 0.3211 - val_accuracy: 0.8814\n",
            "Epoch 10/20\n",
            "188/188 [==============================] - 1s 7ms/step - loss: 0.2342 - accuracy: 0.9114 - val_loss: 0.3356 - val_accuracy: 0.8821\n",
            "Epoch 11/20\n",
            "188/188 [==============================] - 1s 7ms/step - loss: 0.2328 - accuracy: 0.9134 - val_loss: 0.3392 - val_accuracy: 0.8792\n",
            "Epoch 12/20\n",
            "188/188 [==============================] - 1s 7ms/step - loss: 0.2212 - accuracy: 0.9168 - val_loss: 0.3160 - val_accuracy: 0.8891\n",
            "Epoch 13/20\n",
            "188/188 [==============================] - 1s 8ms/step - loss: 0.2098 - accuracy: 0.9206 - val_loss: 0.3058 - val_accuracy: 0.8917\n",
            "Epoch 14/20\n",
            "188/188 [==============================] - 1s 7ms/step - loss: 0.2030 - accuracy: 0.9218 - val_loss: 0.3156 - val_accuracy: 0.8899\n",
            "Epoch 15/20\n",
            "188/188 [==============================] - 1s 7ms/step - loss: 0.1986 - accuracy: 0.9255 - val_loss: 0.3158 - val_accuracy: 0.8867\n",
            "Epoch 16/20\n",
            "188/188 [==============================] - 1s 7ms/step - loss: 0.1919 - accuracy: 0.9275 - val_loss: 0.3234 - val_accuracy: 0.8899\n",
            "Epoch 17/20\n",
            "188/188 [==============================] - 1s 7ms/step - loss: 0.1850 - accuracy: 0.9300 - val_loss: 0.3205 - val_accuracy: 0.8932\n",
            "Epoch 18/20\n",
            "188/188 [==============================] - 1s 7ms/step - loss: 0.1831 - accuracy: 0.9303 - val_loss: 0.3231 - val_accuracy: 0.8897\n",
            "Epoch 19/20\n",
            "188/188 [==============================] - 1s 7ms/step - loss: 0.1770 - accuracy: 0.9331 - val_loss: 0.3148 - val_accuracy: 0.8925\n",
            "Epoch 20/20\n",
            "188/188 [==============================] - 1s 7ms/step - loss: 0.1655 - accuracy: 0.9379 - val_loss: 0.3196 - val_accuracy: 0.8936\n"
          ],
          "name": "stdout"
        },
        {
          "output_type": "display_data",
          "data": {
            "text/html": [
              "<span style=\"color:#4527A0\"><h1 style=\"font-size:18px\">Trial complete</h1></span>"
            ],
            "text/plain": [
              "<IPython.core.display.HTML object>"
            ]
          },
          "metadata": {
            "tags": []
          }
        },
        {
          "output_type": "display_data",
          "data": {
            "text/html": [
              "<span style=\"color:#4527A0\"><h1 style=\"font-size:18px\">Trial summary</h1></span>"
            ],
            "text/plain": [
              "<IPython.core.display.HTML object>"
            ]
          },
          "metadata": {
            "tags": []
          }
        },
        {
          "output_type": "display_data",
          "data": {
            "text/html": [
              "<span style=\"color:cyan\"> |-Trial ID: 3753e6fd1e2aad28e373c51397dcf99c</span>"
            ],
            "text/plain": [
              "<IPython.core.display.HTML object>"
            ]
          },
          "metadata": {
            "tags": []
          }
        },
        {
          "output_type": "display_data",
          "data": {
            "text/html": [
              "<span style=\"color:cyan\"> |-Score: 0.893583357334137</span>"
            ],
            "text/plain": [
              "<IPython.core.display.HTML object>"
            ]
          },
          "metadata": {
            "tags": []
          }
        },
        {
          "output_type": "display_data",
          "data": {
            "text/html": [
              "<span style=\"color:cyan\"> |-Best step: 0</span>"
            ],
            "text/plain": [
              "<IPython.core.display.HTML object>"
            ]
          },
          "metadata": {
            "tags": []
          }
        },
        {
          "output_type": "display_data",
          "data": {
            "text/html": [
              "<span style=\"color:#7E57C2\"><h2 style=\"font-size:16px\">Hyperparameters:</h2></span>"
            ],
            "text/plain": [
              "<IPython.core.display.HTML object>"
            ]
          },
          "metadata": {
            "tags": []
          }
        },
        {
          "output_type": "display_data",
          "data": {
            "text/html": [
              "<span style=\"color:cyan\"> |-activation: tanh</span>"
            ],
            "text/plain": [
              "<IPython.core.display.HTML object>"
            ]
          },
          "metadata": {
            "tags": []
          }
        },
        {
          "output_type": "display_data",
          "data": {
            "text/html": [
              "<span style=\"color:blue\"> |-optimizer: adam</span>"
            ],
            "text/plain": [
              "<IPython.core.display.HTML object>"
            ]
          },
          "metadata": {
            "tags": []
          }
        },
        {
          "output_type": "display_data",
          "data": {
            "text/html": [
              "<span style=\"color:cyan\"> |-units_hidden: 192</span>"
            ],
            "text/plain": [
              "<IPython.core.display.HTML object>"
            ]
          },
          "metadata": {
            "tags": []
          }
        },
        {
          "output_type": "display_data",
          "data": {
            "text/html": [
              "<span style=\"color:blue\"> |-units_input: 896</span>"
            ],
            "text/plain": [
              "<IPython.core.display.HTML object>"
            ]
          },
          "metadata": {
            "tags": []
          }
        },
        {
          "output_type": "stream",
          "text": [
            "Epoch 1/20\n",
            "188/188 [==============================] - 2s 10ms/step - loss: 0.5116 - accuracy: 0.8169 - val_loss: 0.4829 - val_accuracy: 0.8173\n",
            "Epoch 2/20\n",
            "188/188 [==============================] - 2s 9ms/step - loss: 0.3653 - accuracy: 0.8669 - val_loss: 0.3618 - val_accuracy: 0.8687\n",
            "Epoch 3/20\n",
            "188/188 [==============================] - 2s 9ms/step - loss: 0.3193 - accuracy: 0.8809 - val_loss: 0.3429 - val_accuracy: 0.8788\n",
            "Epoch 4/20\n",
            "188/188 [==============================] - 2s 9ms/step - loss: 0.2984 - accuracy: 0.8890 - val_loss: 0.3408 - val_accuracy: 0.8783\n",
            "Epoch 5/20\n",
            "188/188 [==============================] - 2s 9ms/step - loss: 0.2760 - accuracy: 0.8970 - val_loss: 0.3207 - val_accuracy: 0.8887\n",
            "Epoch 6/20\n",
            "188/188 [==============================] - 2s 9ms/step - loss: 0.2619 - accuracy: 0.9024 - val_loss: 0.3269 - val_accuracy: 0.8872\n",
            "Epoch 7/20\n",
            "188/188 [==============================] - 2s 9ms/step - loss: 0.2465 - accuracy: 0.9072 - val_loss: 0.3162 - val_accuracy: 0.8882\n",
            "Epoch 8/20\n",
            "188/188 [==============================] - 2s 9ms/step - loss: 0.2331 - accuracy: 0.9115 - val_loss: 0.3079 - val_accuracy: 0.8917\n",
            "Epoch 9/20\n",
            "188/188 [==============================] - 2s 9ms/step - loss: 0.2243 - accuracy: 0.9145 - val_loss: 0.3085 - val_accuracy: 0.8923\n",
            "Epoch 10/20\n",
            "188/188 [==============================] - 2s 9ms/step - loss: 0.2151 - accuracy: 0.9172 - val_loss: 0.3127 - val_accuracy: 0.8918\n",
            "Epoch 11/20\n",
            "188/188 [==============================] - 2s 9ms/step - loss: 0.2041 - accuracy: 0.9223 - val_loss: 0.3197 - val_accuracy: 0.8912\n",
            "Epoch 12/20\n",
            "188/188 [==============================] - 2s 9ms/step - loss: 0.2012 - accuracy: 0.9233 - val_loss: 0.3145 - val_accuracy: 0.8988\n",
            "Epoch 13/20\n",
            "188/188 [==============================] - 2s 9ms/step - loss: 0.1930 - accuracy: 0.9257 - val_loss: 0.3219 - val_accuracy: 0.8974\n",
            "Epoch 14/20\n",
            "188/188 [==============================] - 2s 9ms/step - loss: 0.1855 - accuracy: 0.9284 - val_loss: 0.3248 - val_accuracy: 0.8910\n",
            "Epoch 15/20\n",
            "188/188 [==============================] - 2s 9ms/step - loss: 0.1738 - accuracy: 0.9346 - val_loss: 0.3559 - val_accuracy: 0.8883\n",
            "Epoch 16/20\n",
            "188/188 [==============================] - 2s 9ms/step - loss: 0.1643 - accuracy: 0.9367 - val_loss: 0.3392 - val_accuracy: 0.8916\n",
            "Epoch 17/20\n",
            "188/188 [==============================] - 2s 9ms/step - loss: 0.1633 - accuracy: 0.9367 - val_loss: 0.3489 - val_accuracy: 0.8949\n",
            "Epoch 18/20\n",
            "188/188 [==============================] - 2s 9ms/step - loss: 0.1549 - accuracy: 0.9409 - val_loss: 0.3398 - val_accuracy: 0.8960\n",
            "Epoch 19/20\n",
            "188/188 [==============================] - 2s 9ms/step - loss: 0.1432 - accuracy: 0.9454 - val_loss: 0.3569 - val_accuracy: 0.8948\n",
            "Epoch 20/20\n",
            "188/188 [==============================] - 2s 9ms/step - loss: 0.1414 - accuracy: 0.9441 - val_loss: 0.3929 - val_accuracy: 0.8950\n"
          ],
          "name": "stdout"
        },
        {
          "output_type": "display_data",
          "data": {
            "text/html": [
              "<span style=\"color:#4527A0\"><h1 style=\"font-size:18px\">Trial complete</h1></span>"
            ],
            "text/plain": [
              "<IPython.core.display.HTML object>"
            ]
          },
          "metadata": {
            "tags": []
          }
        },
        {
          "output_type": "display_data",
          "data": {
            "text/html": [
              "<span style=\"color:#4527A0\"><h1 style=\"font-size:18px\">Trial summary</h1></span>"
            ],
            "text/plain": [
              "<IPython.core.display.HTML object>"
            ]
          },
          "metadata": {
            "tags": []
          }
        },
        {
          "output_type": "display_data",
          "data": {
            "text/html": [
              "<span style=\"color:cyan\"> |-Trial ID: 65194b799162169c2c3014c845a6b1b5</span>"
            ],
            "text/plain": [
              "<IPython.core.display.HTML object>"
            ]
          },
          "metadata": {
            "tags": []
          }
        },
        {
          "output_type": "display_data",
          "data": {
            "text/html": [
              "<span style=\"color:cyan\"> |-Score: 0.8988333344459534</span>"
            ],
            "text/plain": [
              "<IPython.core.display.HTML object>"
            ]
          },
          "metadata": {
            "tags": []
          }
        },
        {
          "output_type": "display_data",
          "data": {
            "text/html": [
              "<span style=\"color:cyan\"> |-Best step: 0</span>"
            ],
            "text/plain": [
              "<IPython.core.display.HTML object>"
            ]
          },
          "metadata": {
            "tags": []
          }
        },
        {
          "output_type": "display_data",
          "data": {
            "text/html": [
              "<span style=\"color:#7E57C2\"><h2 style=\"font-size:16px\">Hyperparameters:</h2></span>"
            ],
            "text/plain": [
              "<IPython.core.display.HTML object>"
            ]
          },
          "metadata": {
            "tags": []
          }
        },
        {
          "output_type": "display_data",
          "data": {
            "text/html": [
              "<span style=\"color:cyan\"> |-activation: relu</span>"
            ],
            "text/plain": [
              "<IPython.core.display.HTML object>"
            ]
          },
          "metadata": {
            "tags": []
          }
        },
        {
          "output_type": "display_data",
          "data": {
            "text/html": [
              "<span style=\"color:blue\"> |-optimizer: adam</span>"
            ],
            "text/plain": [
              "<IPython.core.display.HTML object>"
            ]
          },
          "metadata": {
            "tags": []
          }
        },
        {
          "output_type": "display_data",
          "data": {
            "text/html": [
              "<span style=\"color:cyan\"> |-units_hidden: 576</span>"
            ],
            "text/plain": [
              "<IPython.core.display.HTML object>"
            ]
          },
          "metadata": {
            "tags": []
          }
        },
        {
          "output_type": "display_data",
          "data": {
            "text/html": [
              "<span style=\"color:blue\"> |-units_input: 960</span>"
            ],
            "text/plain": [
              "<IPython.core.display.HTML object>"
            ]
          },
          "metadata": {
            "tags": []
          }
        },
        {
          "output_type": "stream",
          "text": [
            "Epoch 1/20\n",
            "188/188 [==============================] - 2s 8ms/step - loss: 0.6119 - accuracy: 0.7950 - val_loss: 0.4525 - val_accuracy: 0.8294\n",
            "Epoch 2/20\n",
            "188/188 [==============================] - 2s 8ms/step - loss: 0.3973 - accuracy: 0.8562 - val_loss: 0.3753 - val_accuracy: 0.8641\n",
            "Epoch 3/20\n",
            "188/188 [==============================] - 2s 8ms/step - loss: 0.3670 - accuracy: 0.8664 - val_loss: 0.4073 - val_accuracy: 0.8551\n",
            "Epoch 4/20\n",
            "188/188 [==============================] - 2s 8ms/step - loss: 0.3364 - accuracy: 0.8759 - val_loss: 0.4171 - val_accuracy: 0.8548\n",
            "Epoch 5/20\n",
            "188/188 [==============================] - 2s 8ms/step - loss: 0.3123 - accuracy: 0.8859 - val_loss: 0.3532 - val_accuracy: 0.8730\n",
            "Epoch 6/20\n",
            "188/188 [==============================] - 1s 8ms/step - loss: 0.2910 - accuracy: 0.8909 - val_loss: 0.3484 - val_accuracy: 0.8738\n",
            "Epoch 7/20\n",
            "188/188 [==============================] - 1s 8ms/step - loss: 0.2886 - accuracy: 0.8939 - val_loss: 0.3736 - val_accuracy: 0.8714\n",
            "Epoch 8/20\n",
            "188/188 [==============================] - 1s 8ms/step - loss: 0.2723 - accuracy: 0.8971 - val_loss: 0.3652 - val_accuracy: 0.8770\n",
            "Epoch 9/20\n",
            "188/188 [==============================] - 1s 8ms/step - loss: 0.2545 - accuracy: 0.9047 - val_loss: 0.3334 - val_accuracy: 0.8813\n",
            "Epoch 10/20\n",
            "188/188 [==============================] - 1s 8ms/step - loss: 0.2517 - accuracy: 0.9057 - val_loss: 0.3694 - val_accuracy: 0.8733\n",
            "Epoch 11/20\n",
            "188/188 [==============================] - 1s 8ms/step - loss: 0.2478 - accuracy: 0.9068 - val_loss: 0.3490 - val_accuracy: 0.8813\n",
            "Epoch 12/20\n",
            "188/188 [==============================] - 1s 7ms/step - loss: 0.2325 - accuracy: 0.9121 - val_loss: 0.3291 - val_accuracy: 0.8857\n",
            "Epoch 13/20\n",
            "188/188 [==============================] - 1s 7ms/step - loss: 0.2241 - accuracy: 0.9159 - val_loss: 0.3309 - val_accuracy: 0.8892\n",
            "Epoch 14/20\n",
            "188/188 [==============================] - 1s 8ms/step - loss: 0.2192 - accuracy: 0.9158 - val_loss: 0.3570 - val_accuracy: 0.8823\n",
            "Epoch 15/20\n",
            "188/188 [==============================] - 1s 8ms/step - loss: 0.2047 - accuracy: 0.9222 - val_loss: 0.3807 - val_accuracy: 0.8793\n",
            "Epoch 16/20\n",
            "188/188 [==============================] - 1s 7ms/step - loss: 0.2046 - accuracy: 0.9226 - val_loss: 0.3632 - val_accuracy: 0.8799\n",
            "Epoch 17/20\n",
            "188/188 [==============================] - 1s 8ms/step - loss: 0.1917 - accuracy: 0.9269 - val_loss: 0.3575 - val_accuracy: 0.8869\n",
            "Epoch 18/20\n",
            "188/188 [==============================] - 1s 8ms/step - loss: 0.1919 - accuracy: 0.9270 - val_loss: 0.3366 - val_accuracy: 0.8882\n",
            "Epoch 19/20\n",
            "188/188 [==============================] - 1s 7ms/step - loss: 0.1837 - accuracy: 0.9294 - val_loss: 0.4212 - val_accuracy: 0.8750\n",
            "Epoch 20/20\n",
            "188/188 [==============================] - 1s 7ms/step - loss: 0.1779 - accuracy: 0.9319 - val_loss: 0.3688 - val_accuracy: 0.8888\n"
          ],
          "name": "stdout"
        },
        {
          "output_type": "display_data",
          "data": {
            "text/html": [
              "<span style=\"color:#4527A0\"><h1 style=\"font-size:18px\">Trial complete</h1></span>"
            ],
            "text/plain": [
              "<IPython.core.display.HTML object>"
            ]
          },
          "metadata": {
            "tags": []
          }
        },
        {
          "output_type": "display_data",
          "data": {
            "text/html": [
              "<span style=\"color:#4527A0\"><h1 style=\"font-size:18px\">Trial summary</h1></span>"
            ],
            "text/plain": [
              "<IPython.core.display.HTML object>"
            ]
          },
          "metadata": {
            "tags": []
          }
        },
        {
          "output_type": "display_data",
          "data": {
            "text/html": [
              "<span style=\"color:cyan\"> |-Trial ID: 2505a5ee28c592627c70d4ca496df835</span>"
            ],
            "text/plain": [
              "<IPython.core.display.HTML object>"
            ]
          },
          "metadata": {
            "tags": []
          }
        },
        {
          "output_type": "display_data",
          "data": {
            "text/html": [
              "<span style=\"color:cyan\"> |-Score: 0.8891666531562805</span>"
            ],
            "text/plain": [
              "<IPython.core.display.HTML object>"
            ]
          },
          "metadata": {
            "tags": []
          }
        },
        {
          "output_type": "display_data",
          "data": {
            "text/html": [
              "<span style=\"color:cyan\"> |-Best step: 0</span>"
            ],
            "text/plain": [
              "<IPython.core.display.HTML object>"
            ]
          },
          "metadata": {
            "tags": []
          }
        },
        {
          "output_type": "display_data",
          "data": {
            "text/html": [
              "<span style=\"color:#7E57C2\"><h2 style=\"font-size:16px\">Hyperparameters:</h2></span>"
            ],
            "text/plain": [
              "<IPython.core.display.HTML object>"
            ]
          },
          "metadata": {
            "tags": []
          }
        },
        {
          "output_type": "display_data",
          "data": {
            "text/html": [
              "<span style=\"color:cyan\"> |-activation: selu</span>"
            ],
            "text/plain": [
              "<IPython.core.display.HTML object>"
            ]
          },
          "metadata": {
            "tags": []
          }
        },
        {
          "output_type": "display_data",
          "data": {
            "text/html": [
              "<span style=\"color:blue\"> |-optimizer: adam</span>"
            ],
            "text/plain": [
              "<IPython.core.display.HTML object>"
            ]
          },
          "metadata": {
            "tags": []
          }
        },
        {
          "output_type": "display_data",
          "data": {
            "text/html": [
              "<span style=\"color:cyan\"> |-units_hidden: 384</span>"
            ],
            "text/plain": [
              "<IPython.core.display.HTML object>"
            ]
          },
          "metadata": {
            "tags": []
          }
        },
        {
          "output_type": "display_data",
          "data": {
            "text/html": [
              "<span style=\"color:blue\"> |-units_input: 864</span>"
            ],
            "text/plain": [
              "<IPython.core.display.HTML object>"
            ]
          },
          "metadata": {
            "tags": []
          }
        },
        {
          "output_type": "stream",
          "text": [
            "Epoch 1/20\n",
            "188/188 [==============================] - 2s 9ms/step - loss: 0.5271 - accuracy: 0.8121 - val_loss: 0.4130 - val_accuracy: 0.8460\n",
            "Epoch 2/20\n",
            "188/188 [==============================] - 1s 7ms/step - loss: 0.3633 - accuracy: 0.8681 - val_loss: 0.3798 - val_accuracy: 0.8595\n",
            "Epoch 3/20\n",
            "188/188 [==============================] - 1s 7ms/step - loss: 0.3254 - accuracy: 0.8798 - val_loss: 0.4181 - val_accuracy: 0.8443\n",
            "Epoch 4/20\n",
            "188/188 [==============================] - 1s 7ms/step - loss: 0.3008 - accuracy: 0.8879 - val_loss: 0.3467 - val_accuracy: 0.8744\n",
            "Epoch 5/20\n",
            "188/188 [==============================] - 1s 7ms/step - loss: 0.2785 - accuracy: 0.8951 - val_loss: 0.3064 - val_accuracy: 0.8891\n",
            "Epoch 6/20\n",
            "188/188 [==============================] - 1s 7ms/step - loss: 0.2635 - accuracy: 0.9015 - val_loss: 0.3371 - val_accuracy: 0.8772\n",
            "Epoch 7/20\n",
            "188/188 [==============================] - 1s 7ms/step - loss: 0.2486 - accuracy: 0.9059 - val_loss: 0.3217 - val_accuracy: 0.8855\n",
            "Epoch 8/20\n",
            "188/188 [==============================] - 1s 7ms/step - loss: 0.2381 - accuracy: 0.9098 - val_loss: 0.3106 - val_accuracy: 0.8894\n",
            "Epoch 9/20\n",
            "188/188 [==============================] - 1s 7ms/step - loss: 0.2252 - accuracy: 0.9152 - val_loss: 0.3190 - val_accuracy: 0.8913\n",
            "Epoch 10/20\n",
            "188/188 [==============================] - 1s 7ms/step - loss: 0.2163 - accuracy: 0.9182 - val_loss: 0.3357 - val_accuracy: 0.8881\n",
            "Epoch 11/20\n",
            "188/188 [==============================] - 1s 7ms/step - loss: 0.2039 - accuracy: 0.9222 - val_loss: 0.3154 - val_accuracy: 0.8891\n",
            "Epoch 12/20\n",
            "188/188 [==============================] - 1s 7ms/step - loss: 0.2031 - accuracy: 0.9234 - val_loss: 0.3314 - val_accuracy: 0.8927\n",
            "Epoch 13/20\n",
            "188/188 [==============================] - 1s 7ms/step - loss: 0.1917 - accuracy: 0.9270 - val_loss: 0.3206 - val_accuracy: 0.8903\n",
            "Epoch 14/20\n",
            "188/188 [==============================] - 1s 7ms/step - loss: 0.1824 - accuracy: 0.9305 - val_loss: 0.3681 - val_accuracy: 0.8869\n",
            "Epoch 15/20\n",
            "188/188 [==============================] - 1s 7ms/step - loss: 0.1704 - accuracy: 0.9356 - val_loss: 0.3471 - val_accuracy: 0.8885\n",
            "Epoch 16/20\n",
            "188/188 [==============================] - 1s 7ms/step - loss: 0.1693 - accuracy: 0.9348 - val_loss: 0.3368 - val_accuracy: 0.8912\n",
            "Epoch 17/20\n",
            "188/188 [==============================] - 1s 7ms/step - loss: 0.1672 - accuracy: 0.9363 - val_loss: 0.3180 - val_accuracy: 0.8972\n",
            "Epoch 18/20\n",
            "188/188 [==============================] - 1s 7ms/step - loss: 0.1540 - accuracy: 0.9402 - val_loss: 0.3369 - val_accuracy: 0.8921\n",
            "Epoch 19/20\n",
            "188/188 [==============================] - 1s 7ms/step - loss: 0.1504 - accuracy: 0.9416 - val_loss: 0.3511 - val_accuracy: 0.8928\n",
            "Epoch 20/20\n",
            "188/188 [==============================] - 1s 7ms/step - loss: 0.1494 - accuracy: 0.9426 - val_loss: 0.3400 - val_accuracy: 0.8964\n"
          ],
          "name": "stdout"
        },
        {
          "output_type": "display_data",
          "data": {
            "text/html": [
              "<span style=\"color:#4527A0\"><h1 style=\"font-size:18px\">Trial complete</h1></span>"
            ],
            "text/plain": [
              "<IPython.core.display.HTML object>"
            ]
          },
          "metadata": {
            "tags": []
          }
        },
        {
          "output_type": "display_data",
          "data": {
            "text/html": [
              "<span style=\"color:#4527A0\"><h1 style=\"font-size:18px\">Trial summary</h1></span>"
            ],
            "text/plain": [
              "<IPython.core.display.HTML object>"
            ]
          },
          "metadata": {
            "tags": []
          }
        },
        {
          "output_type": "display_data",
          "data": {
            "text/html": [
              "<span style=\"color:cyan\"> |-Trial ID: 4a689948b041a4a7e2b1d8f440ec3e0b</span>"
            ],
            "text/plain": [
              "<IPython.core.display.HTML object>"
            ]
          },
          "metadata": {
            "tags": []
          }
        },
        {
          "output_type": "display_data",
          "data": {
            "text/html": [
              "<span style=\"color:cyan\"> |-Score: 0.8971666693687439</span>"
            ],
            "text/plain": [
              "<IPython.core.display.HTML object>"
            ]
          },
          "metadata": {
            "tags": []
          }
        },
        {
          "output_type": "display_data",
          "data": {
            "text/html": [
              "<span style=\"color:cyan\"> |-Best step: 0</span>"
            ],
            "text/plain": [
              "<IPython.core.display.HTML object>"
            ]
          },
          "metadata": {
            "tags": []
          }
        },
        {
          "output_type": "display_data",
          "data": {
            "text/html": [
              "<span style=\"color:#7E57C2\"><h2 style=\"font-size:16px\">Hyperparameters:</h2></span>"
            ],
            "text/plain": [
              "<IPython.core.display.HTML object>"
            ]
          },
          "metadata": {
            "tags": []
          }
        },
        {
          "output_type": "display_data",
          "data": {
            "text/html": [
              "<span style=\"color:cyan\"> |-activation: relu</span>"
            ],
            "text/plain": [
              "<IPython.core.display.HTML object>"
            ]
          },
          "metadata": {
            "tags": []
          }
        },
        {
          "output_type": "display_data",
          "data": {
            "text/html": [
              "<span style=\"color:blue\"> |-optimizer: adam</span>"
            ],
            "text/plain": [
              "<IPython.core.display.HTML object>"
            ]
          },
          "metadata": {
            "tags": []
          }
        },
        {
          "output_type": "display_data",
          "data": {
            "text/html": [
              "<span style=\"color:cyan\"> |-units_hidden: 448</span>"
            ],
            "text/plain": [
              "<IPython.core.display.HTML object>"
            ]
          },
          "metadata": {
            "tags": []
          }
        },
        {
          "output_type": "display_data",
          "data": {
            "text/html": [
              "<span style=\"color:blue\"> |-units_input: 576</span>"
            ],
            "text/plain": [
              "<IPython.core.display.HTML object>"
            ]
          },
          "metadata": {
            "tags": []
          }
        },
        {
          "output_type": "stream",
          "text": [
            "Epoch 1/20\n",
            "188/188 [==============================] - 2s 8ms/step - loss: 0.5382 - accuracy: 0.8072 - val_loss: 0.4016 - val_accuracy: 0.8562\n",
            "Epoch 2/20\n",
            "188/188 [==============================] - 1s 7ms/step - loss: 0.3701 - accuracy: 0.8662 - val_loss: 0.3452 - val_accuracy: 0.8762\n",
            "Epoch 3/20\n",
            "188/188 [==============================] - 1s 7ms/step - loss: 0.3248 - accuracy: 0.8786 - val_loss: 0.3478 - val_accuracy: 0.8737\n",
            "Epoch 4/20\n",
            "188/188 [==============================] - 1s 8ms/step - loss: 0.3002 - accuracy: 0.8856 - val_loss: 0.3249 - val_accuracy: 0.8817\n",
            "Epoch 5/20\n",
            "188/188 [==============================] - 1s 7ms/step - loss: 0.2825 - accuracy: 0.8942 - val_loss: 0.3770 - val_accuracy: 0.8715\n",
            "Epoch 6/20\n",
            "188/188 [==============================] - 1s 8ms/step - loss: 0.2648 - accuracy: 0.9009 - val_loss: 0.3212 - val_accuracy: 0.8830\n",
            "Epoch 7/20\n",
            "188/188 [==============================] - 1s 7ms/step - loss: 0.2522 - accuracy: 0.9032 - val_loss: 0.3172 - val_accuracy: 0.8848\n",
            "Epoch 8/20\n",
            "188/188 [==============================] - 1s 7ms/step - loss: 0.2365 - accuracy: 0.9115 - val_loss: 0.3308 - val_accuracy: 0.8869\n",
            "Epoch 9/20\n",
            "188/188 [==============================] - 1s 8ms/step - loss: 0.2308 - accuracy: 0.9126 - val_loss: 0.3082 - val_accuracy: 0.8900\n",
            "Epoch 10/20\n",
            "188/188 [==============================] - 1s 8ms/step - loss: 0.2162 - accuracy: 0.9173 - val_loss: 0.3320 - val_accuracy: 0.8899\n",
            "Epoch 11/20\n",
            "188/188 [==============================] - 1s 8ms/step - loss: 0.2081 - accuracy: 0.9196 - val_loss: 0.3337 - val_accuracy: 0.8853\n",
            "Epoch 12/20\n",
            "188/188 [==============================] - 1s 7ms/step - loss: 0.1973 - accuracy: 0.9251 - val_loss: 0.3160 - val_accuracy: 0.8947\n",
            "Epoch 13/20\n",
            "188/188 [==============================] - 1s 7ms/step - loss: 0.1953 - accuracy: 0.9259 - val_loss: 0.3069 - val_accuracy: 0.8934\n",
            "Epoch 14/20\n",
            "188/188 [==============================] - 1s 7ms/step - loss: 0.1815 - accuracy: 0.9303 - val_loss: 0.3254 - val_accuracy: 0.8938\n",
            "Epoch 15/20\n",
            "188/188 [==============================] - 1s 7ms/step - loss: 0.1761 - accuracy: 0.9326 - val_loss: 0.3444 - val_accuracy: 0.8899\n",
            "Epoch 16/20\n",
            "188/188 [==============================] - 1s 7ms/step - loss: 0.1692 - accuracy: 0.9343 - val_loss: 0.3419 - val_accuracy: 0.8945\n",
            "Epoch 17/20\n",
            "188/188 [==============================] - 1s 7ms/step - loss: 0.1648 - accuracy: 0.9376 - val_loss: 0.3337 - val_accuracy: 0.8940\n",
            "Epoch 18/20\n",
            "188/188 [==============================] - 1s 7ms/step - loss: 0.1527 - accuracy: 0.9415 - val_loss: 0.3616 - val_accuracy: 0.8868\n",
            "Epoch 19/20\n",
            "188/188 [==============================] - 1s 7ms/step - loss: 0.1520 - accuracy: 0.9403 - val_loss: 0.3877 - val_accuracy: 0.8904\n",
            "Epoch 20/20\n",
            "188/188 [==============================] - 1s 7ms/step - loss: 0.1491 - accuracy: 0.9427 - val_loss: 0.3903 - val_accuracy: 0.8857\n"
          ],
          "name": "stdout"
        },
        {
          "output_type": "display_data",
          "data": {
            "text/html": [
              "<span style=\"color:#4527A0\"><h1 style=\"font-size:18px\">Trial complete</h1></span>"
            ],
            "text/plain": [
              "<IPython.core.display.HTML object>"
            ]
          },
          "metadata": {
            "tags": []
          }
        },
        {
          "output_type": "display_data",
          "data": {
            "text/html": [
              "<span style=\"color:#4527A0\"><h1 style=\"font-size:18px\">Trial summary</h1></span>"
            ],
            "text/plain": [
              "<IPython.core.display.HTML object>"
            ]
          },
          "metadata": {
            "tags": []
          }
        },
        {
          "output_type": "display_data",
          "data": {
            "text/html": [
              "<span style=\"color:cyan\"> |-Trial ID: a2a3d4343ed36f622c79f559c09ecd2d</span>"
            ],
            "text/plain": [
              "<IPython.core.display.HTML object>"
            ]
          },
          "metadata": {
            "tags": []
          }
        },
        {
          "output_type": "display_data",
          "data": {
            "text/html": [
              "<span style=\"color:cyan\"> |-Score: 0.8947499990463257</span>"
            ],
            "text/plain": [
              "<IPython.core.display.HTML object>"
            ]
          },
          "metadata": {
            "tags": []
          }
        },
        {
          "output_type": "display_data",
          "data": {
            "text/html": [
              "<span style=\"color:cyan\"> |-Best step: 0</span>"
            ],
            "text/plain": [
              "<IPython.core.display.HTML object>"
            ]
          },
          "metadata": {
            "tags": []
          }
        },
        {
          "output_type": "display_data",
          "data": {
            "text/html": [
              "<span style=\"color:#7E57C2\"><h2 style=\"font-size:16px\">Hyperparameters:</h2></span>"
            ],
            "text/plain": [
              "<IPython.core.display.HTML object>"
            ]
          },
          "metadata": {
            "tags": []
          }
        },
        {
          "output_type": "display_data",
          "data": {
            "text/html": [
              "<span style=\"color:cyan\"> |-activation: relu</span>"
            ],
            "text/plain": [
              "<IPython.core.display.HTML object>"
            ]
          },
          "metadata": {
            "tags": []
          }
        },
        {
          "output_type": "display_data",
          "data": {
            "text/html": [
              "<span style=\"color:blue\"> |-optimizer: adam</span>"
            ],
            "text/plain": [
              "<IPython.core.display.HTML object>"
            ]
          },
          "metadata": {
            "tags": []
          }
        },
        {
          "output_type": "display_data",
          "data": {
            "text/html": [
              "<span style=\"color:cyan\"> |-units_hidden: 384</span>"
            ],
            "text/plain": [
              "<IPython.core.display.HTML object>"
            ]
          },
          "metadata": {
            "tags": []
          }
        },
        {
          "output_type": "display_data",
          "data": {
            "text/html": [
              "<span style=\"color:blue\"> |-units_input: 800</span>"
            ],
            "text/plain": [
              "<IPython.core.display.HTML object>"
            ]
          },
          "metadata": {
            "tags": []
          }
        },
        {
          "output_type": "stream",
          "text": [
            "Epoch 1/20\n",
            "188/188 [==============================] - 2s 8ms/step - loss: 0.8965 - accuracy: 0.6711 - val_loss: 0.5128 - val_accuracy: 0.8115\n",
            "Epoch 2/20\n",
            "188/188 [==============================] - 1s 8ms/step - loss: 0.4719 - accuracy: 0.8298 - val_loss: 0.4648 - val_accuracy: 0.8321\n",
            "Epoch 3/20\n",
            "188/188 [==============================] - 1s 8ms/step - loss: 0.4134 - accuracy: 0.8526 - val_loss: 0.3964 - val_accuracy: 0.8563\n",
            "Epoch 4/20\n",
            "188/188 [==============================] - 1s 8ms/step - loss: 0.3768 - accuracy: 0.8635 - val_loss: 0.3897 - val_accuracy: 0.8612\n",
            "Epoch 5/20\n",
            "188/188 [==============================] - 1s 8ms/step - loss: 0.3613 - accuracy: 0.8692 - val_loss: 0.3640 - val_accuracy: 0.8672\n",
            "Epoch 6/20\n",
            "188/188 [==============================] - 1s 7ms/step - loss: 0.3408 - accuracy: 0.8754 - val_loss: 0.3490 - val_accuracy: 0.8764\n",
            "Epoch 7/20\n",
            "188/188 [==============================] - 1s 8ms/step - loss: 0.3324 - accuracy: 0.8799 - val_loss: 0.3507 - val_accuracy: 0.8749\n",
            "Epoch 8/20\n",
            "188/188 [==============================] - 1s 7ms/step - loss: 0.3161 - accuracy: 0.8842 - val_loss: 0.3304 - val_accuracy: 0.8798\n",
            "Epoch 9/20\n",
            "188/188 [==============================] - 1s 7ms/step - loss: 0.3075 - accuracy: 0.8876 - val_loss: 0.3298 - val_accuracy: 0.8777\n",
            "Epoch 10/20\n",
            "188/188 [==============================] - 1s 7ms/step - loss: 0.2974 - accuracy: 0.8893 - val_loss: 0.3309 - val_accuracy: 0.8813\n",
            "Epoch 11/20\n",
            "188/188 [==============================] - 1s 8ms/step - loss: 0.2861 - accuracy: 0.8946 - val_loss: 0.3317 - val_accuracy: 0.8843\n",
            "Epoch 12/20\n",
            "188/188 [==============================] - 1s 8ms/step - loss: 0.2788 - accuracy: 0.8972 - val_loss: 0.3182 - val_accuracy: 0.8845\n",
            "Epoch 13/20\n",
            "188/188 [==============================] - 1s 7ms/step - loss: 0.2687 - accuracy: 0.9010 - val_loss: 0.3314 - val_accuracy: 0.8806\n",
            "Epoch 14/20\n",
            "188/188 [==============================] - 1s 7ms/step - loss: 0.2608 - accuracy: 0.9036 - val_loss: 0.3215 - val_accuracy: 0.8852\n",
            "Epoch 15/20\n",
            "188/188 [==============================] - 1s 8ms/step - loss: 0.2527 - accuracy: 0.9066 - val_loss: 0.3291 - val_accuracy: 0.8821\n",
            "Epoch 16/20\n",
            "188/188 [==============================] - 1s 8ms/step - loss: 0.2466 - accuracy: 0.9080 - val_loss: 0.3054 - val_accuracy: 0.8913\n",
            "Epoch 17/20\n",
            "188/188 [==============================] - 1s 7ms/step - loss: 0.2409 - accuracy: 0.9112 - val_loss: 0.3273 - val_accuracy: 0.8829\n",
            "Epoch 18/20\n",
            "188/188 [==============================] - 1s 8ms/step - loss: 0.2344 - accuracy: 0.9131 - val_loss: 0.3334 - val_accuracy: 0.8781\n",
            "Epoch 19/20\n",
            "188/188 [==============================] - 1s 8ms/step - loss: 0.2274 - accuracy: 0.9153 - val_loss: 0.3064 - val_accuracy: 0.8913\n",
            "Epoch 20/20\n",
            "188/188 [==============================] - 1s 7ms/step - loss: 0.2173 - accuracy: 0.9185 - val_loss: 0.3149 - val_accuracy: 0.8909\n"
          ],
          "name": "stdout"
        },
        {
          "output_type": "display_data",
          "data": {
            "text/html": [
              "<span style=\"color:#4527A0\"><h1 style=\"font-size:18px\">Trial complete</h1></span>"
            ],
            "text/plain": [
              "<IPython.core.display.HTML object>"
            ]
          },
          "metadata": {
            "tags": []
          }
        },
        {
          "output_type": "display_data",
          "data": {
            "text/html": [
              "<span style=\"color:#4527A0\"><h1 style=\"font-size:18px\">Trial summary</h1></span>"
            ],
            "text/plain": [
              "<IPython.core.display.HTML object>"
            ]
          },
          "metadata": {
            "tags": []
          }
        },
        {
          "output_type": "display_data",
          "data": {
            "text/html": [
              "<span style=\"color:cyan\"> |-Trial ID: 996b6047f5d089c920bb60374dcaf4ec</span>"
            ],
            "text/plain": [
              "<IPython.core.display.HTML object>"
            ]
          },
          "metadata": {
            "tags": []
          }
        },
        {
          "output_type": "display_data",
          "data": {
            "text/html": [
              "<span style=\"color:cyan\"> |-Score: 0.8913333415985107</span>"
            ],
            "text/plain": [
              "<IPython.core.display.HTML object>"
            ]
          },
          "metadata": {
            "tags": []
          }
        },
        {
          "output_type": "display_data",
          "data": {
            "text/html": [
              "<span style=\"color:cyan\"> |-Best step: 0</span>"
            ],
            "text/plain": [
              "<IPython.core.display.HTML object>"
            ]
          },
          "metadata": {
            "tags": []
          }
        },
        {
          "output_type": "display_data",
          "data": {
            "text/html": [
              "<span style=\"color:#7E57C2\"><h2 style=\"font-size:16px\">Hyperparameters:</h2></span>"
            ],
            "text/plain": [
              "<IPython.core.display.HTML object>"
            ]
          },
          "metadata": {
            "tags": []
          }
        },
        {
          "output_type": "display_data",
          "data": {
            "text/html": [
              "<span style=\"color:cyan\"> |-activation: sigmoid</span>"
            ],
            "text/plain": [
              "<IPython.core.display.HTML object>"
            ]
          },
          "metadata": {
            "tags": []
          }
        },
        {
          "output_type": "display_data",
          "data": {
            "text/html": [
              "<span style=\"color:blue\"> |-optimizer: adam</span>"
            ],
            "text/plain": [
              "<IPython.core.display.HTML object>"
            ]
          },
          "metadata": {
            "tags": []
          }
        },
        {
          "output_type": "display_data",
          "data": {
            "text/html": [
              "<span style=\"color:cyan\"> |-units_hidden: 512</span>"
            ],
            "text/plain": [
              "<IPython.core.display.HTML object>"
            ]
          },
          "metadata": {
            "tags": []
          }
        },
        {
          "output_type": "display_data",
          "data": {
            "text/html": [
              "<span style=\"color:blue\"> |-units_input: 640</span>"
            ],
            "text/plain": [
              "<IPython.core.display.HTML object>"
            ]
          },
          "metadata": {
            "tags": []
          }
        },
        {
          "output_type": "stream",
          "text": [
            "Epoch 1/20\n",
            "188/188 [==============================] - 2s 8ms/step - loss: 0.5431 - accuracy: 0.8010 - val_loss: 0.4123 - val_accuracy: 0.8502\n",
            "Epoch 2/20\n",
            "188/188 [==============================] - 1s 7ms/step - loss: 0.3878 - accuracy: 0.8597 - val_loss: 0.3768 - val_accuracy: 0.8627\n",
            "Epoch 3/20\n",
            "188/188 [==============================] - 1s 7ms/step - loss: 0.3500 - accuracy: 0.8701 - val_loss: 0.3685 - val_accuracy: 0.8598\n",
            "Epoch 4/20\n",
            "188/188 [==============================] - 1s 7ms/step - loss: 0.3158 - accuracy: 0.8822 - val_loss: 0.3418 - val_accuracy: 0.8699\n",
            "Epoch 5/20\n",
            "188/188 [==============================] - 1s 7ms/step - loss: 0.2934 - accuracy: 0.8900 - val_loss: 0.3381 - val_accuracy: 0.8742\n",
            "Epoch 6/20\n",
            "188/188 [==============================] - 1s 7ms/step - loss: 0.2804 - accuracy: 0.8948 - val_loss: 0.3159 - val_accuracy: 0.8878\n",
            "Epoch 7/20\n",
            "188/188 [==============================] - 1s 7ms/step - loss: 0.2674 - accuracy: 0.8989 - val_loss: 0.3270 - val_accuracy: 0.8813\n",
            "Epoch 8/20\n",
            "188/188 [==============================] - 1s 7ms/step - loss: 0.2497 - accuracy: 0.9062 - val_loss: 0.3248 - val_accuracy: 0.8834\n",
            "Epoch 9/20\n",
            "188/188 [==============================] - 1s 7ms/step - loss: 0.2429 - accuracy: 0.9081 - val_loss: 0.3169 - val_accuracy: 0.8856\n",
            "Epoch 10/20\n",
            "188/188 [==============================] - 1s 7ms/step - loss: 0.2257 - accuracy: 0.9150 - val_loss: 0.3127 - val_accuracy: 0.8907\n",
            "Epoch 11/20\n",
            "188/188 [==============================] - 1s 7ms/step - loss: 0.2131 - accuracy: 0.9202 - val_loss: 0.3267 - val_accuracy: 0.8842\n",
            "Epoch 12/20\n",
            "188/188 [==============================] - 1s 7ms/step - loss: 0.2031 - accuracy: 0.9244 - val_loss: 0.3006 - val_accuracy: 0.8928\n",
            "Epoch 13/20\n",
            "188/188 [==============================] - 1s 7ms/step - loss: 0.1933 - accuracy: 0.9276 - val_loss: 0.3181 - val_accuracy: 0.8888\n",
            "Epoch 14/20\n",
            "188/188 [==============================] - 1s 7ms/step - loss: 0.1860 - accuracy: 0.9289 - val_loss: 0.3350 - val_accuracy: 0.8880\n",
            "Epoch 15/20\n",
            "188/188 [==============================] - 1s 7ms/step - loss: 0.1745 - accuracy: 0.9334 - val_loss: 0.3168 - val_accuracy: 0.8933\n",
            "Epoch 16/20\n",
            "188/188 [==============================] - 1s 7ms/step - loss: 0.1720 - accuracy: 0.9350 - val_loss: 0.3183 - val_accuracy: 0.8882\n",
            "Epoch 17/20\n",
            "188/188 [==============================] - 1s 7ms/step - loss: 0.1586 - accuracy: 0.9401 - val_loss: 0.3383 - val_accuracy: 0.8873\n",
            "Epoch 18/20\n",
            "188/188 [==============================] - 1s 7ms/step - loss: 0.1537 - accuracy: 0.9419 - val_loss: 0.3197 - val_accuracy: 0.8919\n",
            "Epoch 19/20\n",
            "188/188 [==============================] - 1s 7ms/step - loss: 0.1421 - accuracy: 0.9473 - val_loss: 0.3374 - val_accuracy: 0.8891\n",
            "Epoch 20/20\n",
            "188/188 [==============================] - 1s 7ms/step - loss: 0.1339 - accuracy: 0.9488 - val_loss: 0.3279 - val_accuracy: 0.8969\n"
          ],
          "name": "stdout"
        },
        {
          "output_type": "display_data",
          "data": {
            "text/html": [
              "<span style=\"color:#4527A0\"><h1 style=\"font-size:18px\">Trial complete</h1></span>"
            ],
            "text/plain": [
              "<IPython.core.display.HTML object>"
            ]
          },
          "metadata": {
            "tags": []
          }
        },
        {
          "output_type": "display_data",
          "data": {
            "text/html": [
              "<span style=\"color:#4527A0\"><h1 style=\"font-size:18px\">Trial summary</h1></span>"
            ],
            "text/plain": [
              "<IPython.core.display.HTML object>"
            ]
          },
          "metadata": {
            "tags": []
          }
        },
        {
          "output_type": "display_data",
          "data": {
            "text/html": [
              "<span style=\"color:cyan\"> |-Trial ID: ba9085b6b9f26b0b634c6f81d86c81a8</span>"
            ],
            "text/plain": [
              "<IPython.core.display.HTML object>"
            ]
          },
          "metadata": {
            "tags": []
          }
        },
        {
          "output_type": "display_data",
          "data": {
            "text/html": [
              "<span style=\"color:cyan\"> |-Score: 0.8969166874885559</span>"
            ],
            "text/plain": [
              "<IPython.core.display.HTML object>"
            ]
          },
          "metadata": {
            "tags": []
          }
        },
        {
          "output_type": "display_data",
          "data": {
            "text/html": [
              "<span style=\"color:cyan\"> |-Best step: 0</span>"
            ],
            "text/plain": [
              "<IPython.core.display.HTML object>"
            ]
          },
          "metadata": {
            "tags": []
          }
        },
        {
          "output_type": "display_data",
          "data": {
            "text/html": [
              "<span style=\"color:#7E57C2\"><h2 style=\"font-size:16px\">Hyperparameters:</h2></span>"
            ],
            "text/plain": [
              "<IPython.core.display.HTML object>"
            ]
          },
          "metadata": {
            "tags": []
          }
        },
        {
          "output_type": "display_data",
          "data": {
            "text/html": [
              "<span style=\"color:cyan\"> |-activation: tanh</span>"
            ],
            "text/plain": [
              "<IPython.core.display.HTML object>"
            ]
          },
          "metadata": {
            "tags": []
          }
        },
        {
          "output_type": "display_data",
          "data": {
            "text/html": [
              "<span style=\"color:blue\"> |-optimizer: adam</span>"
            ],
            "text/plain": [
              "<IPython.core.display.HTML object>"
            ]
          },
          "metadata": {
            "tags": []
          }
        },
        {
          "output_type": "display_data",
          "data": {
            "text/html": [
              "<span style=\"color:cyan\"> |-units_hidden: 352</span>"
            ],
            "text/plain": [
              "<IPython.core.display.HTML object>"
            ]
          },
          "metadata": {
            "tags": []
          }
        },
        {
          "output_type": "display_data",
          "data": {
            "text/html": [
              "<span style=\"color:blue\"> |-units_input: 704</span>"
            ],
            "text/plain": [
              "<IPython.core.display.HTML object>"
            ]
          },
          "metadata": {
            "tags": []
          }
        },
        {
          "output_type": "stream",
          "text": [
            "Epoch 1/20\n",
            "188/188 [==============================] - 1s 7ms/step - loss: 0.5582 - accuracy: 0.8053 - val_loss: 0.4521 - val_accuracy: 0.8314\n",
            "Epoch 2/20\n",
            "188/188 [==============================] - 1s 7ms/step - loss: 0.3779 - accuracy: 0.8631 - val_loss: 0.3562 - val_accuracy: 0.8694\n",
            "Epoch 3/20\n",
            "188/188 [==============================] - 1s 8ms/step - loss: 0.3377 - accuracy: 0.8766 - val_loss: 0.3311 - val_accuracy: 0.8782\n",
            "Epoch 4/20\n",
            "188/188 [==============================] - 1s 7ms/step - loss: 0.3092 - accuracy: 0.8861 - val_loss: 0.3342 - val_accuracy: 0.8781\n",
            "Epoch 5/20\n",
            "188/188 [==============================] - 1s 7ms/step - loss: 0.2874 - accuracy: 0.8936 - val_loss: 0.3414 - val_accuracy: 0.8762\n",
            "Epoch 6/20\n",
            "188/188 [==============================] - 1s 7ms/step - loss: 0.2731 - accuracy: 0.8989 - val_loss: 0.3288 - val_accuracy: 0.8838\n",
            "Epoch 7/20\n",
            "188/188 [==============================] - 1s 7ms/step - loss: 0.2546 - accuracy: 0.9044 - val_loss: 0.3384 - val_accuracy: 0.8793\n",
            "Epoch 8/20\n",
            "188/188 [==============================] - 1s 7ms/step - loss: 0.2435 - accuracy: 0.9092 - val_loss: 0.3120 - val_accuracy: 0.8903\n",
            "Epoch 9/20\n",
            "188/188 [==============================] - 1s 7ms/step - loss: 0.2368 - accuracy: 0.9110 - val_loss: 0.3079 - val_accuracy: 0.8899\n",
            "Epoch 10/20\n",
            "188/188 [==============================] - 1s 7ms/step - loss: 0.2230 - accuracy: 0.9156 - val_loss: 0.3270 - val_accuracy: 0.8885\n",
            "Epoch 11/20\n",
            "188/188 [==============================] - 1s 6ms/step - loss: 0.2139 - accuracy: 0.9208 - val_loss: 0.3142 - val_accuracy: 0.8893\n",
            "Epoch 12/20\n",
            "188/188 [==============================] - 1s 6ms/step - loss: 0.2097 - accuracy: 0.9210 - val_loss: 0.3250 - val_accuracy: 0.8921\n",
            "Epoch 13/20\n",
            "188/188 [==============================] - 1s 6ms/step - loss: 0.1994 - accuracy: 0.9239 - val_loss: 0.3430 - val_accuracy: 0.8826\n",
            "Epoch 14/20\n",
            "188/188 [==============================] - 1s 6ms/step - loss: 0.1912 - accuracy: 0.9266 - val_loss: 0.3278 - val_accuracy: 0.8930\n",
            "Epoch 15/20\n",
            "188/188 [==============================] - 1s 6ms/step - loss: 0.1790 - accuracy: 0.9322 - val_loss: 0.3365 - val_accuracy: 0.8939\n",
            "Epoch 16/20\n",
            "188/188 [==============================] - 1s 6ms/step - loss: 0.1776 - accuracy: 0.9319 - val_loss: 0.3201 - val_accuracy: 0.8928\n",
            "Epoch 17/20\n",
            "188/188 [==============================] - 1s 6ms/step - loss: 0.1685 - accuracy: 0.9356 - val_loss: 0.3426 - val_accuracy: 0.8922\n",
            "Epoch 18/20\n",
            "188/188 [==============================] - 1s 6ms/step - loss: 0.1623 - accuracy: 0.9379 - val_loss: 0.3435 - val_accuracy: 0.8920\n",
            "Epoch 19/20\n",
            "188/188 [==============================] - 1s 7ms/step - loss: 0.1597 - accuracy: 0.9389 - val_loss: 0.3549 - val_accuracy: 0.8893\n",
            "Epoch 20/20\n",
            "188/188 [==============================] - 1s 6ms/step - loss: 0.1482 - accuracy: 0.9433 - val_loss: 0.3792 - val_accuracy: 0.8872\n"
          ],
          "name": "stdout"
        },
        {
          "output_type": "display_data",
          "data": {
            "text/html": [
              "<span style=\"color:#4527A0\"><h1 style=\"font-size:18px\">Trial complete</h1></span>"
            ],
            "text/plain": [
              "<IPython.core.display.HTML object>"
            ]
          },
          "metadata": {
            "tags": []
          }
        },
        {
          "output_type": "display_data",
          "data": {
            "text/html": [
              "<span style=\"color:#4527A0\"><h1 style=\"font-size:18px\">Trial summary</h1></span>"
            ],
            "text/plain": [
              "<IPython.core.display.HTML object>"
            ]
          },
          "metadata": {
            "tags": []
          }
        },
        {
          "output_type": "display_data",
          "data": {
            "text/html": [
              "<span style=\"color:cyan\"> |-Trial ID: b2c5782032491ae00d4d17e9500a9f88</span>"
            ],
            "text/plain": [
              "<IPython.core.display.HTML object>"
            ]
          },
          "metadata": {
            "tags": []
          }
        },
        {
          "output_type": "display_data",
          "data": {
            "text/html": [
              "<span style=\"color:cyan\"> |-Score: 0.893916666507721</span>"
            ],
            "text/plain": [
              "<IPython.core.display.HTML object>"
            ]
          },
          "metadata": {
            "tags": []
          }
        },
        {
          "output_type": "display_data",
          "data": {
            "text/html": [
              "<span style=\"color:cyan\"> |-Best step: 0</span>"
            ],
            "text/plain": [
              "<IPython.core.display.HTML object>"
            ]
          },
          "metadata": {
            "tags": []
          }
        },
        {
          "output_type": "display_data",
          "data": {
            "text/html": [
              "<span style=\"color:#7E57C2\"><h2 style=\"font-size:16px\">Hyperparameters:</h2></span>"
            ],
            "text/plain": [
              "<IPython.core.display.HTML object>"
            ]
          },
          "metadata": {
            "tags": []
          }
        },
        {
          "output_type": "display_data",
          "data": {
            "text/html": [
              "<span style=\"color:cyan\"> |-activation: relu</span>"
            ],
            "text/plain": [
              "<IPython.core.display.HTML object>"
            ]
          },
          "metadata": {
            "tags": []
          }
        },
        {
          "output_type": "display_data",
          "data": {
            "text/html": [
              "<span style=\"color:blue\"> |-optimizer: adam</span>"
            ],
            "text/plain": [
              "<IPython.core.display.HTML object>"
            ]
          },
          "metadata": {
            "tags": []
          }
        },
        {
          "output_type": "display_data",
          "data": {
            "text/html": [
              "<span style=\"color:cyan\"> |-units_hidden: 224</span>"
            ],
            "text/plain": [
              "<IPython.core.display.HTML object>"
            ]
          },
          "metadata": {
            "tags": []
          }
        },
        {
          "output_type": "display_data",
          "data": {
            "text/html": [
              "<span style=\"color:blue\"> |-units_input: 544</span>"
            ],
            "text/plain": [
              "<IPython.core.display.HTML object>"
            ]
          },
          "metadata": {
            "tags": []
          }
        },
        {
          "output_type": "stream",
          "text": [
            "Epoch 1/20\n",
            "188/188 [==============================] - 2s 8ms/step - loss: 0.8848 - accuracy: 0.6729 - val_loss: 0.5125 - val_accuracy: 0.8148\n",
            "Epoch 2/20\n",
            "188/188 [==============================] - 1s 7ms/step - loss: 0.4713 - accuracy: 0.8301 - val_loss: 0.4432 - val_accuracy: 0.8369\n",
            "Epoch 3/20\n",
            "188/188 [==============================] - 1s 8ms/step - loss: 0.4120 - accuracy: 0.8508 - val_loss: 0.4259 - val_accuracy: 0.8415\n",
            "Epoch 4/20\n",
            "188/188 [==============================] - 1s 7ms/step - loss: 0.3847 - accuracy: 0.8600 - val_loss: 0.3803 - val_accuracy: 0.8620\n",
            "Epoch 5/20\n",
            "188/188 [==============================] - 1s 8ms/step - loss: 0.3591 - accuracy: 0.8701 - val_loss: 0.3676 - val_accuracy: 0.8674\n",
            "Epoch 6/20\n",
            "188/188 [==============================] - 1s 7ms/step - loss: 0.3413 - accuracy: 0.8758 - val_loss: 0.3956 - val_accuracy: 0.8593\n",
            "Epoch 7/20\n",
            "188/188 [==============================] - 1s 8ms/step - loss: 0.3269 - accuracy: 0.8808 - val_loss: 0.3492 - val_accuracy: 0.8744\n",
            "Epoch 8/20\n",
            "188/188 [==============================] - 1s 8ms/step - loss: 0.3157 - accuracy: 0.8853 - val_loss: 0.3406 - val_accuracy: 0.8783\n",
            "Epoch 9/20\n",
            "188/188 [==============================] - 1s 7ms/step - loss: 0.3083 - accuracy: 0.8873 - val_loss: 0.3474 - val_accuracy: 0.8763\n",
            "Epoch 10/20\n",
            "188/188 [==============================] - 1s 7ms/step - loss: 0.2937 - accuracy: 0.8913 - val_loss: 0.3353 - val_accuracy: 0.8780\n",
            "Epoch 11/20\n",
            "188/188 [==============================] - 1s 8ms/step - loss: 0.2848 - accuracy: 0.8951 - val_loss: 0.3257 - val_accuracy: 0.8807\n",
            "Epoch 12/20\n",
            "188/188 [==============================] - 1s 8ms/step - loss: 0.2796 - accuracy: 0.8967 - val_loss: 0.3187 - val_accuracy: 0.8836\n",
            "Epoch 13/20\n",
            "188/188 [==============================] - 1s 7ms/step - loss: 0.2687 - accuracy: 0.9016 - val_loss: 0.3275 - val_accuracy: 0.8831\n",
            "Epoch 14/20\n",
            "188/188 [==============================] - 1s 8ms/step - loss: 0.2628 - accuracy: 0.9025 - val_loss: 0.3105 - val_accuracy: 0.8875\n",
            "Epoch 15/20\n",
            "188/188 [==============================] - 1s 7ms/step - loss: 0.2523 - accuracy: 0.9064 - val_loss: 0.3246 - val_accuracy: 0.8825\n",
            "Epoch 16/20\n",
            "188/188 [==============================] - 1s 8ms/step - loss: 0.2500 - accuracy: 0.9071 - val_loss: 0.3213 - val_accuracy: 0.8852\n",
            "Epoch 17/20\n",
            "188/188 [==============================] - 1s 8ms/step - loss: 0.2372 - accuracy: 0.9120 - val_loss: 0.3057 - val_accuracy: 0.8904\n",
            "Epoch 18/20\n",
            "188/188 [==============================] - 1s 8ms/step - loss: 0.2353 - accuracy: 0.9121 - val_loss: 0.3056 - val_accuracy: 0.8923\n",
            "Epoch 19/20\n",
            "188/188 [==============================] - 1s 8ms/step - loss: 0.2277 - accuracy: 0.9153 - val_loss: 0.3163 - val_accuracy: 0.8875\n",
            "Epoch 20/20\n",
            "188/188 [==============================] - 1s 7ms/step - loss: 0.2251 - accuracy: 0.9161 - val_loss: 0.3300 - val_accuracy: 0.8817\n"
          ],
          "name": "stdout"
        },
        {
          "output_type": "display_data",
          "data": {
            "text/html": [
              "<span style=\"color:#4527A0\"><h1 style=\"font-size:18px\">Trial complete</h1></span>"
            ],
            "text/plain": [
              "<IPython.core.display.HTML object>"
            ]
          },
          "metadata": {
            "tags": []
          }
        },
        {
          "output_type": "display_data",
          "data": {
            "text/html": [
              "<span style=\"color:#4527A0\"><h1 style=\"font-size:18px\">Trial summary</h1></span>"
            ],
            "text/plain": [
              "<IPython.core.display.HTML object>"
            ]
          },
          "metadata": {
            "tags": []
          }
        },
        {
          "output_type": "display_data",
          "data": {
            "text/html": [
              "<span style=\"color:cyan\"> |-Trial ID: 4a55a382059d6ff1e0e78466c8fa1fb7</span>"
            ],
            "text/plain": [
              "<IPython.core.display.HTML object>"
            ]
          },
          "metadata": {
            "tags": []
          }
        },
        {
          "output_type": "display_data",
          "data": {
            "text/html": [
              "<span style=\"color:cyan\"> |-Score: 0.8922500014305115</span>"
            ],
            "text/plain": [
              "<IPython.core.display.HTML object>"
            ]
          },
          "metadata": {
            "tags": []
          }
        },
        {
          "output_type": "display_data",
          "data": {
            "text/html": [
              "<span style=\"color:cyan\"> |-Best step: 0</span>"
            ],
            "text/plain": [
              "<IPython.core.display.HTML object>"
            ]
          },
          "metadata": {
            "tags": []
          }
        },
        {
          "output_type": "display_data",
          "data": {
            "text/html": [
              "<span style=\"color:#7E57C2\"><h2 style=\"font-size:16px\">Hyperparameters:</h2></span>"
            ],
            "text/plain": [
              "<IPython.core.display.HTML object>"
            ]
          },
          "metadata": {
            "tags": []
          }
        },
        {
          "output_type": "display_data",
          "data": {
            "text/html": [
              "<span style=\"color:cyan\"> |-activation: sigmoid</span>"
            ],
            "text/plain": [
              "<IPython.core.display.HTML object>"
            ]
          },
          "metadata": {
            "tags": []
          }
        },
        {
          "output_type": "display_data",
          "data": {
            "text/html": [
              "<span style=\"color:blue\"> |-optimizer: adam</span>"
            ],
            "text/plain": [
              "<IPython.core.display.HTML object>"
            ]
          },
          "metadata": {
            "tags": []
          }
        },
        {
          "output_type": "display_data",
          "data": {
            "text/html": [
              "<span style=\"color:cyan\"> |-units_hidden: 512</span>"
            ],
            "text/plain": [
              "<IPython.core.display.HTML object>"
            ]
          },
          "metadata": {
            "tags": []
          }
        },
        {
          "output_type": "display_data",
          "data": {
            "text/html": [
              "<span style=\"color:blue\"> |-units_input: 704</span>"
            ],
            "text/plain": [
              "<IPython.core.display.HTML object>"
            ]
          },
          "metadata": {
            "tags": []
          }
        },
        {
          "output_type": "stream",
          "text": [
            "Epoch 1/20\n",
            "188/188 [==============================] - 2s 8ms/step - loss: 0.6351 - accuracy: 0.7930 - val_loss: 0.4449 - val_accuracy: 0.8403\n",
            "Epoch 2/20\n",
            "188/188 [==============================] - 1s 8ms/step - loss: 0.4065 - accuracy: 0.8517 - val_loss: 0.3829 - val_accuracy: 0.8606\n",
            "Epoch 3/20\n",
            "188/188 [==============================] - 1s 8ms/step - loss: 0.3719 - accuracy: 0.8644 - val_loss: 0.3946 - val_accuracy: 0.8547\n",
            "Epoch 4/20\n",
            "188/188 [==============================] - 1s 8ms/step - loss: 0.3418 - accuracy: 0.8745 - val_loss: 0.3800 - val_accuracy: 0.8633\n",
            "Epoch 5/20\n",
            "188/188 [==============================] - 1s 8ms/step - loss: 0.3247 - accuracy: 0.8796 - val_loss: 0.3780 - val_accuracy: 0.8648\n",
            "Epoch 6/20\n",
            "188/188 [==============================] - 1s 8ms/step - loss: 0.3000 - accuracy: 0.8889 - val_loss: 0.4043 - val_accuracy: 0.8573\n",
            "Epoch 7/20\n",
            "188/188 [==============================] - 1s 8ms/step - loss: 0.2939 - accuracy: 0.8915 - val_loss: 0.3556 - val_accuracy: 0.8711\n",
            "Epoch 8/20\n",
            "188/188 [==============================] - 1s 8ms/step - loss: 0.2694 - accuracy: 0.9001 - val_loss: 0.3373 - val_accuracy: 0.8832\n",
            "Epoch 9/20\n",
            "188/188 [==============================] - 1s 8ms/step - loss: 0.2684 - accuracy: 0.8980 - val_loss: 0.3332 - val_accuracy: 0.8797\n",
            "Epoch 10/20\n",
            "188/188 [==============================] - 1s 8ms/step - loss: 0.2449 - accuracy: 0.9077 - val_loss: 0.3222 - val_accuracy: 0.8882\n",
            "Epoch 11/20\n",
            "188/188 [==============================] - 1s 7ms/step - loss: 0.2405 - accuracy: 0.9084 - val_loss: 0.3796 - val_accuracy: 0.8715\n",
            "Epoch 12/20\n",
            "188/188 [==============================] - 1s 8ms/step - loss: 0.2426 - accuracy: 0.9080 - val_loss: 0.3412 - val_accuracy: 0.8838\n",
            "Epoch 13/20\n",
            "188/188 [==============================] - 1s 8ms/step - loss: 0.2286 - accuracy: 0.9131 - val_loss: 0.3363 - val_accuracy: 0.8807\n",
            "Epoch 14/20\n",
            "188/188 [==============================] - 1s 7ms/step - loss: 0.2231 - accuracy: 0.9150 - val_loss: 0.3816 - val_accuracy: 0.8728\n",
            "Epoch 15/20\n",
            "188/188 [==============================] - 1s 7ms/step - loss: 0.2194 - accuracy: 0.9171 - val_loss: 0.3358 - val_accuracy: 0.8848\n",
            "Epoch 16/20\n",
            "188/188 [==============================] - 1s 7ms/step - loss: 0.2006 - accuracy: 0.9230 - val_loss: 0.3601 - val_accuracy: 0.8810\n",
            "Epoch 17/20\n",
            "188/188 [==============================] - 1s 7ms/step - loss: 0.2010 - accuracy: 0.9240 - val_loss: 0.3667 - val_accuracy: 0.8851\n",
            "Epoch 18/20\n",
            "188/188 [==============================] - 1s 7ms/step - loss: 0.1971 - accuracy: 0.9258 - val_loss: 0.3402 - val_accuracy: 0.8888\n",
            "Epoch 19/20\n",
            "188/188 [==============================] - 1s 7ms/step - loss: 0.1860 - accuracy: 0.9298 - val_loss: 0.3611 - val_accuracy: 0.8823\n",
            "Epoch 20/20\n",
            "188/188 [==============================] - 1s 8ms/step - loss: 0.1737 - accuracy: 0.9334 - val_loss: 0.3563 - val_accuracy: 0.8903\n"
          ],
          "name": "stdout"
        },
        {
          "output_type": "display_data",
          "data": {
            "text/html": [
              "<span style=\"color:#4527A0\"><h1 style=\"font-size:18px\">Trial complete</h1></span>"
            ],
            "text/plain": [
              "<IPython.core.display.HTML object>"
            ]
          },
          "metadata": {
            "tags": []
          }
        },
        {
          "output_type": "display_data",
          "data": {
            "text/html": [
              "<span style=\"color:#4527A0\"><h1 style=\"font-size:18px\">Trial summary</h1></span>"
            ],
            "text/plain": [
              "<IPython.core.display.HTML object>"
            ]
          },
          "metadata": {
            "tags": []
          }
        },
        {
          "output_type": "display_data",
          "data": {
            "text/html": [
              "<span style=\"color:cyan\"> |-Trial ID: 567090d229d73e3121bee8a70a52eb61</span>"
            ],
            "text/plain": [
              "<IPython.core.display.HTML object>"
            ]
          },
          "metadata": {
            "tags": []
          }
        },
        {
          "output_type": "display_data",
          "data": {
            "text/html": [
              "<span style=\"color:cyan\"> |-Score: 0.890333354473114</span>"
            ],
            "text/plain": [
              "<IPython.core.display.HTML object>"
            ]
          },
          "metadata": {
            "tags": []
          }
        },
        {
          "output_type": "display_data",
          "data": {
            "text/html": [
              "<span style=\"color:cyan\"> |-Best step: 0</span>"
            ],
            "text/plain": [
              "<IPython.core.display.HTML object>"
            ]
          },
          "metadata": {
            "tags": []
          }
        },
        {
          "output_type": "display_data",
          "data": {
            "text/html": [
              "<span style=\"color:#7E57C2\"><h2 style=\"font-size:16px\">Hyperparameters:</h2></span>"
            ],
            "text/plain": [
              "<IPython.core.display.HTML object>"
            ]
          },
          "metadata": {
            "tags": []
          }
        },
        {
          "output_type": "display_data",
          "data": {
            "text/html": [
              "<span style=\"color:cyan\"> |-activation: selu</span>"
            ],
            "text/plain": [
              "<IPython.core.display.HTML object>"
            ]
          },
          "metadata": {
            "tags": []
          }
        },
        {
          "output_type": "display_data",
          "data": {
            "text/html": [
              "<span style=\"color:blue\"> |-optimizer: adam</span>"
            ],
            "text/plain": [
              "<IPython.core.display.HTML object>"
            ]
          },
          "metadata": {
            "tags": []
          }
        },
        {
          "output_type": "display_data",
          "data": {
            "text/html": [
              "<span style=\"color:cyan\"> |-units_hidden: 416</span>"
            ],
            "text/plain": [
              "<IPython.core.display.HTML object>"
            ]
          },
          "metadata": {
            "tags": []
          }
        },
        {
          "output_type": "display_data",
          "data": {
            "text/html": [
              "<span style=\"color:blue\"> |-units_input: 832</span>"
            ],
            "text/plain": [
              "<IPython.core.display.HTML object>"
            ]
          },
          "metadata": {
            "tags": []
          }
        },
        {
          "output_type": "stream",
          "text": [
            "Epoch 1/20\n",
            "188/188 [==============================] - 2s 9ms/step - loss: 0.9889 - accuracy: 0.6933 - val_loss: 0.6195 - val_accuracy: 0.7761\n",
            "Epoch 2/20\n",
            "188/188 [==============================] - 2s 8ms/step - loss: 0.5869 - accuracy: 0.7848 - val_loss: 0.5993 - val_accuracy: 0.7782\n",
            "Epoch 3/20\n",
            "188/188 [==============================] - 2s 9ms/step - loss: 0.4752 - accuracy: 0.8218 - val_loss: 0.4790 - val_accuracy: 0.8227\n",
            "Epoch 4/20\n",
            "188/188 [==============================] - 2s 8ms/step - loss: 0.4176 - accuracy: 0.8443 - val_loss: 0.4758 - val_accuracy: 0.8316\n",
            "Epoch 5/20\n",
            "188/188 [==============================] - 2s 9ms/step - loss: 0.3785 - accuracy: 0.8580 - val_loss: 0.4546 - val_accuracy: 0.8379\n",
            "Epoch 6/20\n",
            "188/188 [==============================] - 2s 8ms/step - loss: 0.3500 - accuracy: 0.8675 - val_loss: 0.4865 - val_accuracy: 0.8292\n",
            "Epoch 7/20\n",
            "188/188 [==============================] - 2s 8ms/step - loss: 0.3247 - accuracy: 0.8770 - val_loss: 0.3772 - val_accuracy: 0.8648\n",
            "Epoch 8/20\n",
            "188/188 [==============================] - 2s 9ms/step - loss: 0.3080 - accuracy: 0.8830 - val_loss: 0.3381 - val_accuracy: 0.8780\n",
            "Epoch 9/20\n",
            "188/188 [==============================] - 2s 9ms/step - loss: 0.2946 - accuracy: 0.8876 - val_loss: 0.4711 - val_accuracy: 0.8441\n",
            "Epoch 10/20\n",
            "188/188 [==============================] - 2s 8ms/step - loss: 0.2760 - accuracy: 0.8939 - val_loss: 0.3510 - val_accuracy: 0.8763\n",
            "Epoch 11/20\n",
            "188/188 [==============================] - 2s 9ms/step - loss: 0.2638 - accuracy: 0.8992 - val_loss: 0.4326 - val_accuracy: 0.8579\n",
            "Epoch 12/20\n",
            "188/188 [==============================] - 2s 8ms/step - loss: 0.2542 - accuracy: 0.9023 - val_loss: 0.3993 - val_accuracy: 0.8633\n",
            "Epoch 13/20\n",
            "188/188 [==============================] - 2s 9ms/step - loss: 0.2426 - accuracy: 0.9072 - val_loss: 0.3537 - val_accuracy: 0.8792\n",
            "Epoch 14/20\n",
            "188/188 [==============================] - 2s 8ms/step - loss: 0.2312 - accuracy: 0.9115 - val_loss: 0.3932 - val_accuracy: 0.8755\n",
            "Epoch 15/20\n",
            "188/188 [==============================] - 2s 9ms/step - loss: 0.2206 - accuracy: 0.9146 - val_loss: 0.3748 - val_accuracy: 0.8821\n",
            "Epoch 16/20\n",
            "188/188 [==============================] - 2s 8ms/step - loss: 0.2127 - accuracy: 0.9187 - val_loss: 0.3893 - val_accuracy: 0.8737\n",
            "Epoch 17/20\n",
            "188/188 [==============================] - 2s 9ms/step - loss: 0.2002 - accuracy: 0.9229 - val_loss: 0.3585 - val_accuracy: 0.8819\n",
            "Epoch 18/20\n",
            "188/188 [==============================] - 2s 8ms/step - loss: 0.1930 - accuracy: 0.9263 - val_loss: 0.3627 - val_accuracy: 0.8918\n",
            "Epoch 19/20\n",
            "188/188 [==============================] - 2s 9ms/step - loss: 0.1833 - accuracy: 0.9299 - val_loss: 0.4156 - val_accuracy: 0.8775\n",
            "Epoch 20/20\n",
            "188/188 [==============================] - 2s 9ms/step - loss: 0.1781 - accuracy: 0.9314 - val_loss: 0.4105 - val_accuracy: 0.8792\n"
          ],
          "name": "stdout"
        },
        {
          "output_type": "display_data",
          "data": {
            "text/html": [
              "<span style=\"color:#4527A0\"><h1 style=\"font-size:18px\">Trial complete</h1></span>"
            ],
            "text/plain": [
              "<IPython.core.display.HTML object>"
            ]
          },
          "metadata": {
            "tags": []
          }
        },
        {
          "output_type": "display_data",
          "data": {
            "text/html": [
              "<span style=\"color:#4527A0\"><h1 style=\"font-size:18px\">Trial summary</h1></span>"
            ],
            "text/plain": [
              "<IPython.core.display.HTML object>"
            ]
          },
          "metadata": {
            "tags": []
          }
        },
        {
          "output_type": "display_data",
          "data": {
            "text/html": [
              "<span style=\"color:cyan\"> |-Trial ID: 8fa180443e12a71be83b9d7999d1fe8f</span>"
            ],
            "text/plain": [
              "<IPython.core.display.HTML object>"
            ]
          },
          "metadata": {
            "tags": []
          }
        },
        {
          "output_type": "display_data",
          "data": {
            "text/html": [
              "<span style=\"color:cyan\"> |-Score: 0.8918333053588867</span>"
            ],
            "text/plain": [
              "<IPython.core.display.HTML object>"
            ]
          },
          "metadata": {
            "tags": []
          }
        },
        {
          "output_type": "display_data",
          "data": {
            "text/html": [
              "<span style=\"color:cyan\"> |-Best step: 0</span>"
            ],
            "text/plain": [
              "<IPython.core.display.HTML object>"
            ]
          },
          "metadata": {
            "tags": []
          }
        },
        {
          "output_type": "display_data",
          "data": {
            "text/html": [
              "<span style=\"color:#7E57C2\"><h2 style=\"font-size:16px\">Hyperparameters:</h2></span>"
            ],
            "text/plain": [
              "<IPython.core.display.HTML object>"
            ]
          },
          "metadata": {
            "tags": []
          }
        },
        {
          "output_type": "display_data",
          "data": {
            "text/html": [
              "<span style=\"color:cyan\"> |-activation: elu</span>"
            ],
            "text/plain": [
              "<IPython.core.display.HTML object>"
            ]
          },
          "metadata": {
            "tags": []
          }
        },
        {
          "output_type": "display_data",
          "data": {
            "text/html": [
              "<span style=\"color:blue\"> |-optimizer: rmsprop</span>"
            ],
            "text/plain": [
              "<IPython.core.display.HTML object>"
            ]
          },
          "metadata": {
            "tags": []
          }
        },
        {
          "output_type": "display_data",
          "data": {
            "text/html": [
              "<span style=\"color:cyan\"> |-units_hidden: 544</span>"
            ],
            "text/plain": [
              "<IPython.core.display.HTML object>"
            ]
          },
          "metadata": {
            "tags": []
          }
        },
        {
          "output_type": "display_data",
          "data": {
            "text/html": [
              "<span style=\"color:blue\"> |-units_input: 576</span>"
            ],
            "text/plain": [
              "<IPython.core.display.HTML object>"
            ]
          },
          "metadata": {
            "tags": []
          }
        },
        {
          "output_type": "stream",
          "text": [
            "Epoch 1/20\n",
            "188/188 [==============================] - 2s 8ms/step - loss: 0.5361 - accuracy: 0.8056 - val_loss: 0.4023 - val_accuracy: 0.8498\n",
            "Epoch 2/20\n",
            "188/188 [==============================] - 1s 7ms/step - loss: 0.3863 - accuracy: 0.8586 - val_loss: 0.3973 - val_accuracy: 0.8475\n",
            "Epoch 3/20\n",
            "188/188 [==============================] - 1s 7ms/step - loss: 0.3419 - accuracy: 0.8731 - val_loss: 0.3424 - val_accuracy: 0.8713\n",
            "Epoch 4/20\n",
            "188/188 [==============================] - 1s 7ms/step - loss: 0.3104 - accuracy: 0.8842 - val_loss: 0.3343 - val_accuracy: 0.8793\n",
            "Epoch 5/20\n",
            "188/188 [==============================] - 1s 7ms/step - loss: 0.2971 - accuracy: 0.8886 - val_loss: 0.3474 - val_accuracy: 0.8734\n",
            "Epoch 6/20\n",
            "188/188 [==============================] - 1s 7ms/step - loss: 0.2768 - accuracy: 0.8965 - val_loss: 0.3305 - val_accuracy: 0.8759\n",
            "Epoch 7/20\n",
            "188/188 [==============================] - 1s 8ms/step - loss: 0.2662 - accuracy: 0.9007 - val_loss: 0.3244 - val_accuracy: 0.8847\n",
            "Epoch 8/20\n",
            "188/188 [==============================] - 1s 7ms/step - loss: 0.2576 - accuracy: 0.9033 - val_loss: 0.3332 - val_accuracy: 0.8767\n",
            "Epoch 9/20\n",
            "188/188 [==============================] - 1s 8ms/step - loss: 0.2376 - accuracy: 0.9100 - val_loss: 0.3254 - val_accuracy: 0.8806\n",
            "Epoch 10/20\n",
            "188/188 [==============================] - 1s 7ms/step - loss: 0.2360 - accuracy: 0.9125 - val_loss: 0.3320 - val_accuracy: 0.8817\n",
            "Epoch 11/20\n",
            "188/188 [==============================] - 1s 7ms/step - loss: 0.2181 - accuracy: 0.9173 - val_loss: 0.3577 - val_accuracy: 0.8746\n",
            "Epoch 12/20\n",
            "188/188 [==============================] - 1s 7ms/step - loss: 0.2107 - accuracy: 0.9197 - val_loss: 0.3089 - val_accuracy: 0.8894\n",
            "Epoch 13/20\n",
            "188/188 [==============================] - 1s 7ms/step - loss: 0.1982 - accuracy: 0.9260 - val_loss: 0.3130 - val_accuracy: 0.8903\n",
            "Epoch 14/20\n",
            "188/188 [==============================] - 1s 8ms/step - loss: 0.1941 - accuracy: 0.9266 - val_loss: 0.3022 - val_accuracy: 0.8947\n",
            "Epoch 15/20\n",
            "188/188 [==============================] - 1s 7ms/step - loss: 0.1854 - accuracy: 0.9299 - val_loss: 0.3369 - val_accuracy: 0.8846\n",
            "Epoch 16/20\n",
            "188/188 [==============================] - 1s 7ms/step - loss: 0.1783 - accuracy: 0.9326 - val_loss: 0.3278 - val_accuracy: 0.8905\n",
            "Epoch 17/20\n",
            "188/188 [==============================] - 1s 7ms/step - loss: 0.1692 - accuracy: 0.9358 - val_loss: 0.3273 - val_accuracy: 0.8901\n",
            "Epoch 18/20\n",
            "188/188 [==============================] - 1s 7ms/step - loss: 0.1675 - accuracy: 0.9361 - val_loss: 0.3441 - val_accuracy: 0.8906\n",
            "Epoch 19/20\n",
            "188/188 [==============================] - 1s 7ms/step - loss: 0.1617 - accuracy: 0.9391 - val_loss: 0.3293 - val_accuracy: 0.8903\n",
            "Epoch 20/20\n",
            "188/188 [==============================] - 1s 7ms/step - loss: 0.1522 - accuracy: 0.9423 - val_loss: 0.3457 - val_accuracy: 0.8874\n"
          ],
          "name": "stdout"
        },
        {
          "output_type": "display_data",
          "data": {
            "text/html": [
              "<span style=\"color:#4527A0\"><h1 style=\"font-size:18px\">Trial complete</h1></span>"
            ],
            "text/plain": [
              "<IPython.core.display.HTML object>"
            ]
          },
          "metadata": {
            "tags": []
          }
        },
        {
          "output_type": "display_data",
          "data": {
            "text/html": [
              "<span style=\"color:#4527A0\"><h1 style=\"font-size:18px\">Trial summary</h1></span>"
            ],
            "text/plain": [
              "<IPython.core.display.HTML object>"
            ]
          },
          "metadata": {
            "tags": []
          }
        },
        {
          "output_type": "display_data",
          "data": {
            "text/html": [
              "<span style=\"color:cyan\"> |-Trial ID: 19e4eafd90266e38d2a571e9d6681042</span>"
            ],
            "text/plain": [
              "<IPython.core.display.HTML object>"
            ]
          },
          "metadata": {
            "tags": []
          }
        },
        {
          "output_type": "display_data",
          "data": {
            "text/html": [
              "<span style=\"color:cyan\"> |-Score: 0.8947499990463257</span>"
            ],
            "text/plain": [
              "<IPython.core.display.HTML object>"
            ]
          },
          "metadata": {
            "tags": []
          }
        },
        {
          "output_type": "display_data",
          "data": {
            "text/html": [
              "<span style=\"color:cyan\"> |-Best step: 0</span>"
            ],
            "text/plain": [
              "<IPython.core.display.HTML object>"
            ]
          },
          "metadata": {
            "tags": []
          }
        },
        {
          "output_type": "display_data",
          "data": {
            "text/html": [
              "<span style=\"color:#7E57C2\"><h2 style=\"font-size:16px\">Hyperparameters:</h2></span>"
            ],
            "text/plain": [
              "<IPython.core.display.HTML object>"
            ]
          },
          "metadata": {
            "tags": []
          }
        },
        {
          "output_type": "display_data",
          "data": {
            "text/html": [
              "<span style=\"color:cyan\"> |-activation: tanh</span>"
            ],
            "text/plain": [
              "<IPython.core.display.HTML object>"
            ]
          },
          "metadata": {
            "tags": []
          }
        },
        {
          "output_type": "display_data",
          "data": {
            "text/html": [
              "<span style=\"color:blue\"> |-optimizer: adam</span>"
            ],
            "text/plain": [
              "<IPython.core.display.HTML object>"
            ]
          },
          "metadata": {
            "tags": []
          }
        },
        {
          "output_type": "display_data",
          "data": {
            "text/html": [
              "<span style=\"color:cyan\"> |-units_hidden: 288</span>"
            ],
            "text/plain": [
              "<IPython.core.display.HTML object>"
            ]
          },
          "metadata": {
            "tags": []
          }
        },
        {
          "output_type": "display_data",
          "data": {
            "text/html": [
              "<span style=\"color:blue\"> |-units_input: 928</span>"
            ],
            "text/plain": [
              "<IPython.core.display.HTML object>"
            ]
          },
          "metadata": {
            "tags": []
          }
        },
        {
          "output_type": "stream",
          "text": [
            "Epoch 1/20\n",
            "188/188 [==============================] - 2s 8ms/step - loss: 0.9255 - accuracy: 0.6802 - val_loss: 0.6612 - val_accuracy: 0.7618\n",
            "Epoch 2/20\n",
            "188/188 [==============================] - 1s 8ms/step - loss: 0.5210 - accuracy: 0.8096 - val_loss: 0.4718 - val_accuracy: 0.8289\n",
            "Epoch 3/20\n",
            "188/188 [==============================] - 1s 8ms/step - loss: 0.4543 - accuracy: 0.8339 - val_loss: 0.4315 - val_accuracy: 0.8452\n",
            "Epoch 4/20\n",
            "188/188 [==============================] - 1s 8ms/step - loss: 0.4198 - accuracy: 0.8468 - val_loss: 0.4032 - val_accuracy: 0.8546\n",
            "Epoch 5/20\n",
            "188/188 [==============================] - 1s 8ms/step - loss: 0.3970 - accuracy: 0.8551 - val_loss: 0.4290 - val_accuracy: 0.8413\n",
            "Epoch 6/20\n",
            "188/188 [==============================] - 1s 7ms/step - loss: 0.3786 - accuracy: 0.8611 - val_loss: 0.4524 - val_accuracy: 0.8254\n",
            "Epoch 7/20\n",
            "188/188 [==============================] - 1s 8ms/step - loss: 0.3622 - accuracy: 0.8674 - val_loss: 0.3835 - val_accuracy: 0.8587\n",
            "Epoch 8/20\n",
            "188/188 [==============================] - 1s 8ms/step - loss: 0.3498 - accuracy: 0.8717 - val_loss: 0.3581 - val_accuracy: 0.8666\n",
            "Epoch 9/20\n",
            "188/188 [==============================] - 1s 7ms/step - loss: 0.3380 - accuracy: 0.8757 - val_loss: 0.4083 - val_accuracy: 0.8544\n",
            "Epoch 10/20\n",
            "188/188 [==============================] - 1s 8ms/step - loss: 0.3281 - accuracy: 0.8788 - val_loss: 0.3520 - val_accuracy: 0.8740\n",
            "Epoch 11/20\n",
            "188/188 [==============================] - 2s 8ms/step - loss: 0.3168 - accuracy: 0.8836 - val_loss: 0.3362 - val_accuracy: 0.8777\n",
            "Epoch 12/20\n",
            "188/188 [==============================] - 2s 8ms/step - loss: 0.3075 - accuracy: 0.8851 - val_loss: 0.4201 - val_accuracy: 0.8536\n",
            "Epoch 13/20\n",
            "188/188 [==============================] - 1s 8ms/step - loss: 0.3014 - accuracy: 0.8873 - val_loss: 0.3304 - val_accuracy: 0.8791\n",
            "Epoch 14/20\n",
            "188/188 [==============================] - 1s 7ms/step - loss: 0.2920 - accuracy: 0.8915 - val_loss: 0.3391 - val_accuracy: 0.8743\n",
            "Epoch 15/20\n",
            "188/188 [==============================] - 1s 8ms/step - loss: 0.2860 - accuracy: 0.8950 - val_loss: 0.3308 - val_accuracy: 0.8824\n",
            "Epoch 16/20\n",
            "188/188 [==============================] - 1s 7ms/step - loss: 0.2786 - accuracy: 0.8969 - val_loss: 0.3443 - val_accuracy: 0.8737\n",
            "Epoch 17/20\n",
            "188/188 [==============================] - 1s 8ms/step - loss: 0.2713 - accuracy: 0.8982 - val_loss: 0.3123 - val_accuracy: 0.8839\n",
            "Epoch 18/20\n",
            "188/188 [==============================] - 1s 8ms/step - loss: 0.2637 - accuracy: 0.9015 - val_loss: 0.3550 - val_accuracy: 0.8710\n",
            "Epoch 19/20\n",
            "188/188 [==============================] - 1s 8ms/step - loss: 0.2600 - accuracy: 0.9040 - val_loss: 0.3807 - val_accuracy: 0.8607\n",
            "Epoch 20/20\n",
            "188/188 [==============================] - 1s 8ms/step - loss: 0.2543 - accuracy: 0.9050 - val_loss: 0.3251 - val_accuracy: 0.8852\n"
          ],
          "name": "stdout"
        },
        {
          "output_type": "display_data",
          "data": {
            "text/html": [
              "<span style=\"color:#4527A0\"><h1 style=\"font-size:18px\">Trial complete</h1></span>"
            ],
            "text/plain": [
              "<IPython.core.display.HTML object>"
            ]
          },
          "metadata": {
            "tags": []
          }
        },
        {
          "output_type": "display_data",
          "data": {
            "text/html": [
              "<span style=\"color:#4527A0\"><h1 style=\"font-size:18px\">Trial summary</h1></span>"
            ],
            "text/plain": [
              "<IPython.core.display.HTML object>"
            ]
          },
          "metadata": {
            "tags": []
          }
        },
        {
          "output_type": "display_data",
          "data": {
            "text/html": [
              "<span style=\"color:cyan\"> |-Trial ID: 48e5517464761470562ad0a507f48308</span>"
            ],
            "text/plain": [
              "<IPython.core.display.HTML object>"
            ]
          },
          "metadata": {
            "tags": []
          }
        },
        {
          "output_type": "display_data",
          "data": {
            "text/html": [
              "<span style=\"color:cyan\"> |-Score: 0.8851666450500488</span>"
            ],
            "text/plain": [
              "<IPython.core.display.HTML object>"
            ]
          },
          "metadata": {
            "tags": []
          }
        },
        {
          "output_type": "display_data",
          "data": {
            "text/html": [
              "<span style=\"color:cyan\"> |-Best step: 0</span>"
            ],
            "text/plain": [
              "<IPython.core.display.HTML object>"
            ]
          },
          "metadata": {
            "tags": []
          }
        },
        {
          "output_type": "display_data",
          "data": {
            "text/html": [
              "<span style=\"color:#7E57C2\"><h2 style=\"font-size:16px\">Hyperparameters:</h2></span>"
            ],
            "text/plain": [
              "<IPython.core.display.HTML object>"
            ]
          },
          "metadata": {
            "tags": []
          }
        },
        {
          "output_type": "display_data",
          "data": {
            "text/html": [
              "<span style=\"color:cyan\"> |-activation: sigmoid</span>"
            ],
            "text/plain": [
              "<IPython.core.display.HTML object>"
            ]
          },
          "metadata": {
            "tags": []
          }
        },
        {
          "output_type": "display_data",
          "data": {
            "text/html": [
              "<span style=\"color:blue\"> |-optimizer: rmsprop</span>"
            ],
            "text/plain": [
              "<IPython.core.display.HTML object>"
            ]
          },
          "metadata": {
            "tags": []
          }
        },
        {
          "output_type": "display_data",
          "data": {
            "text/html": [
              "<span style=\"color:cyan\"> |-units_hidden: 160</span>"
            ],
            "text/plain": [
              "<IPython.core.display.HTML object>"
            ]
          },
          "metadata": {
            "tags": []
          }
        },
        {
          "output_type": "display_data",
          "data": {
            "text/html": [
              "<span style=\"color:blue\"> |-units_input: 736</span>"
            ],
            "text/plain": [
              "<IPython.core.display.HTML object>"
            ]
          },
          "metadata": {
            "tags": []
          }
        },
        {
          "output_type": "stream",
          "text": [
            "Epoch 1/20\n",
            "188/188 [==============================] - 1s 7ms/step - loss: 0.5387 - accuracy: 0.8080 - val_loss: 0.3986 - val_accuracy: 0.8541\n",
            "Epoch 2/20\n",
            "188/188 [==============================] - 1s 7ms/step - loss: 0.3640 - accuracy: 0.8692 - val_loss: 0.3612 - val_accuracy: 0.8712\n",
            "Epoch 3/20\n",
            "188/188 [==============================] - 1s 7ms/step - loss: 0.3245 - accuracy: 0.8806 - val_loss: 0.3334 - val_accuracy: 0.8785\n",
            "Epoch 4/20\n",
            "188/188 [==============================] - 1s 6ms/step - loss: 0.2965 - accuracy: 0.8903 - val_loss: 0.3387 - val_accuracy: 0.8777\n",
            "Epoch 5/20\n",
            "188/188 [==============================] - 1s 7ms/step - loss: 0.2793 - accuracy: 0.8955 - val_loss: 0.3105 - val_accuracy: 0.8879\n",
            "Epoch 6/20\n",
            "188/188 [==============================] - 1s 7ms/step - loss: 0.2677 - accuracy: 0.8997 - val_loss: 0.3104 - val_accuracy: 0.8895\n",
            "Epoch 7/20\n",
            "188/188 [==============================] - 1s 6ms/step - loss: 0.2499 - accuracy: 0.9071 - val_loss: 0.3547 - val_accuracy: 0.8759\n",
            "Epoch 8/20\n",
            "188/188 [==============================] - 1s 6ms/step - loss: 0.2424 - accuracy: 0.9087 - val_loss: 0.3220 - val_accuracy: 0.8832\n",
            "Epoch 9/20\n",
            "188/188 [==============================] - 1s 7ms/step - loss: 0.2324 - accuracy: 0.9130 - val_loss: 0.3223 - val_accuracy: 0.8868\n",
            "Epoch 10/20\n",
            "188/188 [==============================] - 1s 7ms/step - loss: 0.2179 - accuracy: 0.9181 - val_loss: 0.3482 - val_accuracy: 0.8803\n",
            "Epoch 11/20\n",
            "188/188 [==============================] - 1s 7ms/step - loss: 0.2068 - accuracy: 0.9216 - val_loss: 0.3102 - val_accuracy: 0.8932\n",
            "Epoch 12/20\n",
            "188/188 [==============================] - 1s 7ms/step - loss: 0.1989 - accuracy: 0.9247 - val_loss: 0.3295 - val_accuracy: 0.8895\n",
            "Epoch 13/20\n",
            "188/188 [==============================] - 1s 6ms/step - loss: 0.1898 - accuracy: 0.9283 - val_loss: 0.3649 - val_accuracy: 0.8891\n",
            "Epoch 14/20\n",
            "188/188 [==============================] - 1s 7ms/step - loss: 0.1801 - accuracy: 0.9317 - val_loss: 0.3327 - val_accuracy: 0.8911\n",
            "Epoch 15/20\n",
            "188/188 [==============================] - 1s 6ms/step - loss: 0.1745 - accuracy: 0.9339 - val_loss: 0.3357 - val_accuracy: 0.8909\n",
            "Epoch 16/20\n",
            "188/188 [==============================] - 1s 7ms/step - loss: 0.1727 - accuracy: 0.9346 - val_loss: 0.3397 - val_accuracy: 0.8942\n",
            "Epoch 17/20\n",
            "188/188 [==============================] - 1s 7ms/step - loss: 0.1670 - accuracy: 0.9367 - val_loss: 0.3317 - val_accuracy: 0.8974\n",
            "Epoch 18/20\n",
            "188/188 [==============================] - 1s 7ms/step - loss: 0.1589 - accuracy: 0.9387 - val_loss: 0.3398 - val_accuracy: 0.8928\n",
            "Epoch 19/20\n",
            "188/188 [==============================] - 1s 7ms/step - loss: 0.1504 - accuracy: 0.9428 - val_loss: 0.3584 - val_accuracy: 0.8948\n",
            "Epoch 20/20\n",
            "188/188 [==============================] - 1s 7ms/step - loss: 0.1420 - accuracy: 0.9446 - val_loss: 0.3463 - val_accuracy: 0.8971\n"
          ],
          "name": "stdout"
        },
        {
          "output_type": "display_data",
          "data": {
            "text/html": [
              "<span style=\"color:#4527A0\"><h1 style=\"font-size:18px\">Trial complete</h1></span>"
            ],
            "text/plain": [
              "<IPython.core.display.HTML object>"
            ]
          },
          "metadata": {
            "tags": []
          }
        },
        {
          "output_type": "display_data",
          "data": {
            "text/html": [
              "<span style=\"color:#4527A0\"><h1 style=\"font-size:18px\">Trial summary</h1></span>"
            ],
            "text/plain": [
              "<IPython.core.display.HTML object>"
            ]
          },
          "metadata": {
            "tags": []
          }
        },
        {
          "output_type": "display_data",
          "data": {
            "text/html": [
              "<span style=\"color:cyan\"> |-Trial ID: d35c7ea61737fc56f88bc7f6a6f15692</span>"
            ],
            "text/plain": [
              "<IPython.core.display.HTML object>"
            ]
          },
          "metadata": {
            "tags": []
          }
        },
        {
          "output_type": "display_data",
          "data": {
            "text/html": [
              "<span style=\"color:cyan\"> |-Score: 0.8974166512489319</span>"
            ],
            "text/plain": [
              "<IPython.core.display.HTML object>"
            ]
          },
          "metadata": {
            "tags": []
          }
        },
        {
          "output_type": "display_data",
          "data": {
            "text/html": [
              "<span style=\"color:cyan\"> |-Best step: 0</span>"
            ],
            "text/plain": [
              "<IPython.core.display.HTML object>"
            ]
          },
          "metadata": {
            "tags": []
          }
        },
        {
          "output_type": "display_data",
          "data": {
            "text/html": [
              "<span style=\"color:#7E57C2\"><h2 style=\"font-size:16px\">Hyperparameters:</h2></span>"
            ],
            "text/plain": [
              "<IPython.core.display.HTML object>"
            ]
          },
          "metadata": {
            "tags": []
          }
        },
        {
          "output_type": "display_data",
          "data": {
            "text/html": [
              "<span style=\"color:cyan\"> |-activation: relu</span>"
            ],
            "text/plain": [
              "<IPython.core.display.HTML object>"
            ]
          },
          "metadata": {
            "tags": []
          }
        },
        {
          "output_type": "display_data",
          "data": {
            "text/html": [
              "<span style=\"color:blue\"> |-optimizer: adam</span>"
            ],
            "text/plain": [
              "<IPython.core.display.HTML object>"
            ]
          },
          "metadata": {
            "tags": []
          }
        },
        {
          "output_type": "display_data",
          "data": {
            "text/html": [
              "<span style=\"color:cyan\"> |-units_hidden: 352</span>"
            ],
            "text/plain": [
              "<IPython.core.display.HTML object>"
            ]
          },
          "metadata": {
            "tags": []
          }
        },
        {
          "output_type": "display_data",
          "data": {
            "text/html": [
              "<span style=\"color:blue\"> |-units_input: 512</span>"
            ],
            "text/plain": [
              "<IPython.core.display.HTML object>"
            ]
          },
          "metadata": {
            "tags": []
          }
        },
        {
          "output_type": "stream",
          "text": [
            "Epoch 1/20\n",
            "188/188 [==============================] - 2s 8ms/step - loss: 0.5475 - accuracy: 0.8037 - val_loss: 0.4081 - val_accuracy: 0.8484\n",
            "Epoch 2/20\n",
            "188/188 [==============================] - 1s 7ms/step - loss: 0.3992 - accuracy: 0.8541 - val_loss: 0.3674 - val_accuracy: 0.8664\n",
            "Epoch 3/20\n",
            "188/188 [==============================] - 1s 7ms/step - loss: 0.3551 - accuracy: 0.8697 - val_loss: 0.3836 - val_accuracy: 0.8587\n",
            "Epoch 4/20\n",
            "188/188 [==============================] - 1s 8ms/step - loss: 0.3302 - accuracy: 0.8800 - val_loss: 0.3560 - val_accuracy: 0.8692\n",
            "Epoch 5/20\n",
            "188/188 [==============================] - 1s 8ms/step - loss: 0.3132 - accuracy: 0.8838 - val_loss: 0.3724 - val_accuracy: 0.8656\n",
            "Epoch 6/20\n",
            "188/188 [==============================] - 1s 8ms/step - loss: 0.2907 - accuracy: 0.8917 - val_loss: 0.3379 - val_accuracy: 0.8735\n",
            "Epoch 7/20\n",
            "188/188 [==============================] - 1s 7ms/step - loss: 0.2781 - accuracy: 0.8944 - val_loss: 0.3205 - val_accuracy: 0.8832\n",
            "Epoch 8/20\n",
            "188/188 [==============================] - 1s 7ms/step - loss: 0.2700 - accuracy: 0.8990 - val_loss: 0.3247 - val_accuracy: 0.8864\n",
            "Epoch 9/20\n",
            "188/188 [==============================] - 1s 7ms/step - loss: 0.2531 - accuracy: 0.9046 - val_loss: 0.3370 - val_accuracy: 0.8806\n",
            "Epoch 10/20\n",
            "188/188 [==============================] - 1s 7ms/step - loss: 0.2412 - accuracy: 0.9083 - val_loss: 0.3279 - val_accuracy: 0.8818\n",
            "Epoch 11/20\n",
            "188/188 [==============================] - 1s 7ms/step - loss: 0.2329 - accuracy: 0.9119 - val_loss: 0.3193 - val_accuracy: 0.8869\n",
            "Epoch 12/20\n",
            "188/188 [==============================] - 1s 8ms/step - loss: 0.2178 - accuracy: 0.9173 - val_loss: 0.3265 - val_accuracy: 0.8860\n",
            "Epoch 13/20\n",
            "188/188 [==============================] - 1s 8ms/step - loss: 0.2071 - accuracy: 0.9208 - val_loss: 0.3257 - val_accuracy: 0.8943\n",
            "Epoch 14/20\n",
            "188/188 [==============================] - 1s 7ms/step - loss: 0.2079 - accuracy: 0.9208 - val_loss: 0.3250 - val_accuracy: 0.8882\n",
            "Epoch 15/20\n",
            "188/188 [==============================] - 1s 7ms/step - loss: 0.1999 - accuracy: 0.9231 - val_loss: 0.3184 - val_accuracy: 0.8927\n",
            "Epoch 16/20\n",
            "188/188 [==============================] - 1s 8ms/step - loss: 0.1907 - accuracy: 0.9267 - val_loss: 0.3272 - val_accuracy: 0.8915\n",
            "Epoch 17/20\n",
            "188/188 [==============================] - 1s 7ms/step - loss: 0.1750 - accuracy: 0.9321 - val_loss: 0.3753 - val_accuracy: 0.8843\n",
            "Epoch 18/20\n",
            "188/188 [==============================] - 1s 7ms/step - loss: 0.1753 - accuracy: 0.9328 - val_loss: 0.3547 - val_accuracy: 0.8837\n",
            "Epoch 19/20\n",
            "188/188 [==============================] - 1s 7ms/step - loss: 0.1660 - accuracy: 0.9368 - val_loss: 0.3699 - val_accuracy: 0.8892\n",
            "Epoch 20/20\n",
            "188/188 [==============================] - 1s 7ms/step - loss: 0.1612 - accuracy: 0.9380 - val_loss: 0.3819 - val_accuracy: 0.8888\n"
          ],
          "name": "stdout"
        },
        {
          "output_type": "display_data",
          "data": {
            "text/html": [
              "<span style=\"color:#4527A0\"><h1 style=\"font-size:18px\">Trial complete</h1></span>"
            ],
            "text/plain": [
              "<IPython.core.display.HTML object>"
            ]
          },
          "metadata": {
            "tags": []
          }
        },
        {
          "output_type": "display_data",
          "data": {
            "text/html": [
              "<span style=\"color:#4527A0\"><h1 style=\"font-size:18px\">Trial summary</h1></span>"
            ],
            "text/plain": [
              "<IPython.core.display.HTML object>"
            ]
          },
          "metadata": {
            "tags": []
          }
        },
        {
          "output_type": "display_data",
          "data": {
            "text/html": [
              "<span style=\"color:cyan\"> |-Trial ID: 33b25d37c0e5c9934081ddff01777c04</span>"
            ],
            "text/plain": [
              "<IPython.core.display.HTML object>"
            ]
          },
          "metadata": {
            "tags": []
          }
        },
        {
          "output_type": "display_data",
          "data": {
            "text/html": [
              "<span style=\"color:cyan\"> |-Score: 0.8943333625793457</span>"
            ],
            "text/plain": [
              "<IPython.core.display.HTML object>"
            ]
          },
          "metadata": {
            "tags": []
          }
        },
        {
          "output_type": "display_data",
          "data": {
            "text/html": [
              "<span style=\"color:cyan\"> |-Best step: 0</span>"
            ],
            "text/plain": [
              "<IPython.core.display.HTML object>"
            ]
          },
          "metadata": {
            "tags": []
          }
        },
        {
          "output_type": "display_data",
          "data": {
            "text/html": [
              "<span style=\"color:#7E57C2\"><h2 style=\"font-size:16px\">Hyperparameters:</h2></span>"
            ],
            "text/plain": [
              "<IPython.core.display.HTML object>"
            ]
          },
          "metadata": {
            "tags": []
          }
        },
        {
          "output_type": "display_data",
          "data": {
            "text/html": [
              "<span style=\"color:cyan\"> |-activation: elu</span>"
            ],
            "text/plain": [
              "<IPython.core.display.HTML object>"
            ]
          },
          "metadata": {
            "tags": []
          }
        },
        {
          "output_type": "display_data",
          "data": {
            "text/html": [
              "<span style=\"color:blue\"> |-optimizer: adam</span>"
            ],
            "text/plain": [
              "<IPython.core.display.HTML object>"
            ]
          },
          "metadata": {
            "tags": []
          }
        },
        {
          "output_type": "display_data",
          "data": {
            "text/html": [
              "<span style=\"color:cyan\"> |-units_hidden: 320</span>"
            ],
            "text/plain": [
              "<IPython.core.display.HTML object>"
            ]
          },
          "metadata": {
            "tags": []
          }
        },
        {
          "output_type": "display_data",
          "data": {
            "text/html": [
              "<span style=\"color:blue\"> |-units_input: 864</span>"
            ],
            "text/plain": [
              "<IPython.core.display.HTML object>"
            ]
          },
          "metadata": {
            "tags": []
          }
        },
        {
          "output_type": "stream",
          "text": [
            "Epoch 1/20\n",
            "188/188 [==============================] - 1s 8ms/step - loss: 0.7618 - accuracy: 0.7428 - val_loss: 0.5501 - val_accuracy: 0.8112\n",
            "Epoch 2/20\n",
            "188/188 [==============================] - 1s 7ms/step - loss: 0.5153 - accuracy: 0.8215 - val_loss: 0.5027 - val_accuracy: 0.8198\n",
            "Epoch 3/20\n",
            "188/188 [==============================] - 1s 7ms/step - loss: 0.4749 - accuracy: 0.8329 - val_loss: 0.4735 - val_accuracy: 0.8313\n",
            "Epoch 4/20\n",
            "188/188 [==============================] - 1s 7ms/step - loss: 0.4525 - accuracy: 0.8404 - val_loss: 0.4677 - val_accuracy: 0.8299\n",
            "Epoch 5/20\n",
            "188/188 [==============================] - 1s 7ms/step - loss: 0.4352 - accuracy: 0.8469 - val_loss: 0.4961 - val_accuracy: 0.8148\n",
            "Epoch 6/20\n",
            "188/188 [==============================] - 1s 7ms/step - loss: 0.4242 - accuracy: 0.8500 - val_loss: 0.4301 - val_accuracy: 0.8475\n",
            "Epoch 7/20\n",
            "188/188 [==============================] - 1s 7ms/step - loss: 0.4158 - accuracy: 0.8521 - val_loss: 0.4251 - val_accuracy: 0.8459\n",
            "Epoch 8/20\n",
            "188/188 [==============================] - 1s 7ms/step - loss: 0.4084 - accuracy: 0.8554 - val_loss: 0.4196 - val_accuracy: 0.8491\n",
            "Epoch 9/20\n",
            "188/188 [==============================] - 1s 7ms/step - loss: 0.3985 - accuracy: 0.8601 - val_loss: 0.4077 - val_accuracy: 0.8537\n",
            "Epoch 10/20\n",
            "188/188 [==============================] - 1s 7ms/step - loss: 0.3942 - accuracy: 0.8607 - val_loss: 0.4171 - val_accuracy: 0.8505\n",
            "Epoch 11/20\n",
            "188/188 [==============================] - 1s 7ms/step - loss: 0.3892 - accuracy: 0.8619 - val_loss: 0.3996 - val_accuracy: 0.8568\n",
            "Epoch 12/20\n",
            "188/188 [==============================] - 1s 7ms/step - loss: 0.3823 - accuracy: 0.8652 - val_loss: 0.3984 - val_accuracy: 0.8587\n",
            "Epoch 13/20\n",
            "188/188 [==============================] - 1s 8ms/step - loss: 0.3785 - accuracy: 0.8664 - val_loss: 0.3927 - val_accuracy: 0.8590\n",
            "Epoch 14/20\n",
            "188/188 [==============================] - 1s 7ms/step - loss: 0.3743 - accuracy: 0.8678 - val_loss: 0.3892 - val_accuracy: 0.8606\n",
            "Epoch 15/20\n",
            "188/188 [==============================] - 1s 7ms/step - loss: 0.3722 - accuracy: 0.8675 - val_loss: 0.4283 - val_accuracy: 0.8476\n",
            "Epoch 16/20\n",
            "188/188 [==============================] - 1s 7ms/step - loss: 0.3661 - accuracy: 0.8705 - val_loss: 0.4051 - val_accuracy: 0.8557\n",
            "Epoch 17/20\n",
            "188/188 [==============================] - 1s 7ms/step - loss: 0.3625 - accuracy: 0.8709 - val_loss: 0.3884 - val_accuracy: 0.8617\n",
            "Epoch 18/20\n",
            "188/188 [==============================] - 1s 7ms/step - loss: 0.3566 - accuracy: 0.8734 - val_loss: 0.4222 - val_accuracy: 0.8457\n",
            "Epoch 19/20\n",
            "188/188 [==============================] - 1s 7ms/step - loss: 0.3552 - accuracy: 0.8736 - val_loss: 0.4343 - val_accuracy: 0.8347\n",
            "Epoch 20/20\n",
            "188/188 [==============================] - 1s 7ms/step - loss: 0.3530 - accuracy: 0.8741 - val_loss: 0.4149 - val_accuracy: 0.8511\n"
          ],
          "name": "stdout"
        },
        {
          "output_type": "display_data",
          "data": {
            "text/html": [
              "<span style=\"color:#4527A0\"><h1 style=\"font-size:18px\">Trial complete</h1></span>"
            ],
            "text/plain": [
              "<IPython.core.display.HTML object>"
            ]
          },
          "metadata": {
            "tags": []
          }
        },
        {
          "output_type": "display_data",
          "data": {
            "text/html": [
              "<span style=\"color:#4527A0\"><h1 style=\"font-size:18px\">Trial summary</h1></span>"
            ],
            "text/plain": [
              "<IPython.core.display.HTML object>"
            ]
          },
          "metadata": {
            "tags": []
          }
        },
        {
          "output_type": "display_data",
          "data": {
            "text/html": [
              "<span style=\"color:cyan\"> |-Trial ID: f32077f1ee97a4de3b865febd31ba8e8</span>"
            ],
            "text/plain": [
              "<IPython.core.display.HTML object>"
            ]
          },
          "metadata": {
            "tags": []
          }
        },
        {
          "output_type": "display_data",
          "data": {
            "text/html": [
              "<span style=\"color:cyan\"> |-Score: 0.8616666793823242</span>"
            ],
            "text/plain": [
              "<IPython.core.display.HTML object>"
            ]
          },
          "metadata": {
            "tags": []
          }
        },
        {
          "output_type": "display_data",
          "data": {
            "text/html": [
              "<span style=\"color:cyan\"> |-Best step: 0</span>"
            ],
            "text/plain": [
              "<IPython.core.display.HTML object>"
            ]
          },
          "metadata": {
            "tags": []
          }
        },
        {
          "output_type": "display_data",
          "data": {
            "text/html": [
              "<span style=\"color:#7E57C2\"><h2 style=\"font-size:16px\">Hyperparameters:</h2></span>"
            ],
            "text/plain": [
              "<IPython.core.display.HTML object>"
            ]
          },
          "metadata": {
            "tags": []
          }
        },
        {
          "output_type": "display_data",
          "data": {
            "text/html": [
              "<span style=\"color:cyan\"> |-activation: selu</span>"
            ],
            "text/plain": [
              "<IPython.core.display.HTML object>"
            ]
          },
          "metadata": {
            "tags": []
          }
        },
        {
          "output_type": "display_data",
          "data": {
            "text/html": [
              "<span style=\"color:blue\"> |-optimizer: SGD</span>"
            ],
            "text/plain": [
              "<IPython.core.display.HTML object>"
            ]
          },
          "metadata": {
            "tags": []
          }
        },
        {
          "output_type": "display_data",
          "data": {
            "text/html": [
              "<span style=\"color:cyan\"> |-units_hidden: 416</span>"
            ],
            "text/plain": [
              "<IPython.core.display.HTML object>"
            ]
          },
          "metadata": {
            "tags": []
          }
        },
        {
          "output_type": "display_data",
          "data": {
            "text/html": [
              "<span style=\"color:blue\"> |-units_input: 832</span>"
            ],
            "text/plain": [
              "<IPython.core.display.HTML object>"
            ]
          },
          "metadata": {
            "tags": []
          }
        },
        {
          "output_type": "stream",
          "text": [
            "Epoch 1/20\n",
            "188/188 [==============================] - 1s 8ms/step - loss: 0.5464 - accuracy: 0.8095 - val_loss: 0.4394 - val_accuracy: 0.8353\n",
            "Epoch 2/20\n",
            "188/188 [==============================] - 1s 6ms/step - loss: 0.3783 - accuracy: 0.8624 - val_loss: 0.3869 - val_accuracy: 0.8598\n",
            "Epoch 3/20\n",
            "188/188 [==============================] - 1s 7ms/step - loss: 0.3321 - accuracy: 0.8785 - val_loss: 0.3356 - val_accuracy: 0.8773\n",
            "Epoch 4/20\n",
            "188/188 [==============================] - 1s 6ms/step - loss: 0.3071 - accuracy: 0.8869 - val_loss: 0.3500 - val_accuracy: 0.8669\n",
            "Epoch 5/20\n",
            "188/188 [==============================] - 1s 7ms/step - loss: 0.2878 - accuracy: 0.8932 - val_loss: 0.3302 - val_accuracy: 0.8817\n",
            "Epoch 6/20\n",
            "188/188 [==============================] - 1s 7ms/step - loss: 0.2692 - accuracy: 0.8995 - val_loss: 0.3128 - val_accuracy: 0.8869\n",
            "Epoch 7/20\n",
            "188/188 [==============================] - 1s 6ms/step - loss: 0.2552 - accuracy: 0.9044 - val_loss: 0.3131 - val_accuracy: 0.8856\n",
            "Epoch 8/20\n",
            "188/188 [==============================] - 1s 7ms/step - loss: 0.2416 - accuracy: 0.9089 - val_loss: 0.3220 - val_accuracy: 0.8897\n",
            "Epoch 9/20\n",
            "188/188 [==============================] - 1s 7ms/step - loss: 0.2362 - accuracy: 0.9101 - val_loss: 0.3007 - val_accuracy: 0.8932\n",
            "Epoch 10/20\n",
            "188/188 [==============================] - 1s 7ms/step - loss: 0.2212 - accuracy: 0.9163 - val_loss: 0.3064 - val_accuracy: 0.8880\n",
            "Epoch 11/20\n",
            "188/188 [==============================] - 1s 7ms/step - loss: 0.2097 - accuracy: 0.9218 - val_loss: 0.3063 - val_accuracy: 0.8941\n",
            "Epoch 12/20\n",
            "188/188 [==============================] - 1s 7ms/step - loss: 0.2058 - accuracy: 0.9221 - val_loss: 0.3178 - val_accuracy: 0.8904\n",
            "Epoch 13/20\n",
            "188/188 [==============================] - 1s 7ms/step - loss: 0.1944 - accuracy: 0.9266 - val_loss: 0.3124 - val_accuracy: 0.8942\n",
            "Epoch 14/20\n",
            "188/188 [==============================] - 1s 7ms/step - loss: 0.1853 - accuracy: 0.9296 - val_loss: 0.3315 - val_accuracy: 0.8898\n",
            "Epoch 15/20\n",
            "188/188 [==============================] - 1s 7ms/step - loss: 0.1860 - accuracy: 0.9292 - val_loss: 0.3022 - val_accuracy: 0.8931\n",
            "Epoch 16/20\n",
            "188/188 [==============================] - 1s 7ms/step - loss: 0.1806 - accuracy: 0.9316 - val_loss: 0.3313 - val_accuracy: 0.8912\n",
            "Epoch 17/20\n",
            "188/188 [==============================] - 1s 7ms/step - loss: 0.1698 - accuracy: 0.9363 - val_loss: 0.3146 - val_accuracy: 0.8967\n",
            "Epoch 18/20\n",
            "188/188 [==============================] - 1s 7ms/step - loss: 0.1622 - accuracy: 0.9398 - val_loss: 0.3214 - val_accuracy: 0.8971\n",
            "Epoch 19/20\n",
            "188/188 [==============================] - 1s 7ms/step - loss: 0.1619 - accuracy: 0.9387 - val_loss: 0.3248 - val_accuracy: 0.8960\n",
            "Epoch 20/20\n",
            "188/188 [==============================] - 1s 7ms/step - loss: 0.1517 - accuracy: 0.9424 - val_loss: 0.3570 - val_accuracy: 0.8923\n"
          ],
          "name": "stdout"
        },
        {
          "output_type": "display_data",
          "data": {
            "text/html": [
              "<span style=\"color:#4527A0\"><h1 style=\"font-size:18px\">Trial complete</h1></span>"
            ],
            "text/plain": [
              "<IPython.core.display.HTML object>"
            ]
          },
          "metadata": {
            "tags": []
          }
        },
        {
          "output_type": "display_data",
          "data": {
            "text/html": [
              "<span style=\"color:#4527A0\"><h1 style=\"font-size:18px\">Trial summary</h1></span>"
            ],
            "text/plain": [
              "<IPython.core.display.HTML object>"
            ]
          },
          "metadata": {
            "tags": []
          }
        },
        {
          "output_type": "display_data",
          "data": {
            "text/html": [
              "<span style=\"color:cyan\"> |-Trial ID: e5b0bf6b98bf41396333191731efc5ca</span>"
            ],
            "text/plain": [
              "<IPython.core.display.HTML object>"
            ]
          },
          "metadata": {
            "tags": []
          }
        },
        {
          "output_type": "display_data",
          "data": {
            "text/html": [
              "<span style=\"color:cyan\"> |-Score: 0.8970833420753479</span>"
            ],
            "text/plain": [
              "<IPython.core.display.HTML object>"
            ]
          },
          "metadata": {
            "tags": []
          }
        },
        {
          "output_type": "display_data",
          "data": {
            "text/html": [
              "<span style=\"color:cyan\"> |-Best step: 0</span>"
            ],
            "text/plain": [
              "<IPython.core.display.HTML object>"
            ]
          },
          "metadata": {
            "tags": []
          }
        },
        {
          "output_type": "display_data",
          "data": {
            "text/html": [
              "<span style=\"color:#7E57C2\"><h2 style=\"font-size:16px\">Hyperparameters:</h2></span>"
            ],
            "text/plain": [
              "<IPython.core.display.HTML object>"
            ]
          },
          "metadata": {
            "tags": []
          }
        },
        {
          "output_type": "display_data",
          "data": {
            "text/html": [
              "<span style=\"color:cyan\"> |-activation: relu</span>"
            ],
            "text/plain": [
              "<IPython.core.display.HTML object>"
            ]
          },
          "metadata": {
            "tags": []
          }
        },
        {
          "output_type": "display_data",
          "data": {
            "text/html": [
              "<span style=\"color:blue\"> |-optimizer: adam</span>"
            ],
            "text/plain": [
              "<IPython.core.display.HTML object>"
            ]
          },
          "metadata": {
            "tags": []
          }
        },
        {
          "output_type": "display_data",
          "data": {
            "text/html": [
              "<span style=\"color:cyan\"> |-units_hidden: 160</span>"
            ],
            "text/plain": [
              "<IPython.core.display.HTML object>"
            ]
          },
          "metadata": {
            "tags": []
          }
        },
        {
          "output_type": "display_data",
          "data": {
            "text/html": [
              "<span style=\"color:blue\"> |-units_input: 832</span>"
            ],
            "text/plain": [
              "<IPython.core.display.HTML object>"
            ]
          },
          "metadata": {
            "tags": []
          }
        },
        {
          "output_type": "stream",
          "text": [
            "Epoch 1/20\n",
            "188/188 [==============================] - 1s 8ms/step - loss: 0.5357 - accuracy: 0.8082 - val_loss: 0.3831 - val_accuracy: 0.8607\n",
            "Epoch 2/20\n",
            "188/188 [==============================] - 1s 7ms/step - loss: 0.3607 - accuracy: 0.8690 - val_loss: 0.3925 - val_accuracy: 0.8541\n",
            "Epoch 3/20\n",
            "188/188 [==============================] - 1s 8ms/step - loss: 0.3243 - accuracy: 0.8816 - val_loss: 0.3330 - val_accuracy: 0.8795\n",
            "Epoch 4/20\n",
            "188/188 [==============================] - 1s 7ms/step - loss: 0.3015 - accuracy: 0.8881 - val_loss: 0.3210 - val_accuracy: 0.8803\n",
            "Epoch 5/20\n",
            "188/188 [==============================] - 1s 7ms/step - loss: 0.2826 - accuracy: 0.8941 - val_loss: 0.3315 - val_accuracy: 0.8832\n",
            "Epoch 6/20\n",
            "188/188 [==============================] - 1s 7ms/step - loss: 0.2623 - accuracy: 0.9017 - val_loss: 0.3189 - val_accuracy: 0.8861\n",
            "Epoch 7/20\n",
            "188/188 [==============================] - 1s 7ms/step - loss: 0.2487 - accuracy: 0.9068 - val_loss: 0.3016 - val_accuracy: 0.8912\n",
            "Epoch 8/20\n",
            "188/188 [==============================] - 1s 7ms/step - loss: 0.2407 - accuracy: 0.9091 - val_loss: 0.3012 - val_accuracy: 0.8878\n",
            "Epoch 9/20\n",
            "188/188 [==============================] - 1s 7ms/step - loss: 0.2275 - accuracy: 0.9142 - val_loss: 0.3115 - val_accuracy: 0.8894\n",
            "Epoch 10/20\n",
            "188/188 [==============================] - 1s 7ms/step - loss: 0.2166 - accuracy: 0.9177 - val_loss: 0.3254 - val_accuracy: 0.8869\n",
            "Epoch 11/20\n",
            "188/188 [==============================] - 1s 7ms/step - loss: 0.2055 - accuracy: 0.9219 - val_loss: 0.3115 - val_accuracy: 0.8928\n",
            "Epoch 12/20\n",
            "188/188 [==============================] - 1s 8ms/step - loss: 0.1972 - accuracy: 0.9257 - val_loss: 0.3124 - val_accuracy: 0.8947\n",
            "Epoch 13/20\n",
            "188/188 [==============================] - 1s 7ms/step - loss: 0.1922 - accuracy: 0.9266 - val_loss: 0.3235 - val_accuracy: 0.8904\n",
            "Epoch 14/20\n",
            "188/188 [==============================] - 1s 7ms/step - loss: 0.1780 - accuracy: 0.9317 - val_loss: 0.3197 - val_accuracy: 0.8945\n",
            "Epoch 15/20\n",
            "188/188 [==============================] - 1s 7ms/step - loss: 0.1748 - accuracy: 0.9328 - val_loss: 0.3391 - val_accuracy: 0.8933\n",
            "Epoch 16/20\n",
            "188/188 [==============================] - 1s 7ms/step - loss: 0.1710 - accuracy: 0.9351 - val_loss: 0.3220 - val_accuracy: 0.8967\n",
            "Epoch 17/20\n",
            "188/188 [==============================] - 1s 7ms/step - loss: 0.1595 - accuracy: 0.9400 - val_loss: 0.3357 - val_accuracy: 0.8958\n",
            "Epoch 18/20\n",
            "188/188 [==============================] - 1s 8ms/step - loss: 0.1584 - accuracy: 0.9400 - val_loss: 0.3558 - val_accuracy: 0.8905\n",
            "Epoch 19/20\n",
            "188/188 [==============================] - 1s 8ms/step - loss: 0.1524 - accuracy: 0.9406 - val_loss: 0.3378 - val_accuracy: 0.8961\n",
            "Epoch 20/20\n",
            "188/188 [==============================] - 1s 8ms/step - loss: 0.1395 - accuracy: 0.9465 - val_loss: 0.3520 - val_accuracy: 0.8924\n"
          ],
          "name": "stdout"
        },
        {
          "output_type": "display_data",
          "data": {
            "text/html": [
              "<span style=\"color:#4527A0\"><h1 style=\"font-size:18px\">Trial complete</h1></span>"
            ],
            "text/plain": [
              "<IPython.core.display.HTML object>"
            ]
          },
          "metadata": {
            "tags": []
          }
        },
        {
          "output_type": "display_data",
          "data": {
            "text/html": [
              "<span style=\"color:#4527A0\"><h1 style=\"font-size:18px\">Trial summary</h1></span>"
            ],
            "text/plain": [
              "<IPython.core.display.HTML object>"
            ]
          },
          "metadata": {
            "tags": []
          }
        },
        {
          "output_type": "display_data",
          "data": {
            "text/html": [
              "<span style=\"color:cyan\"> |-Trial ID: cebd7cf18415fe9c37aac33624ee2596</span>"
            ],
            "text/plain": [
              "<IPython.core.display.HTML object>"
            ]
          },
          "metadata": {
            "tags": []
          }
        },
        {
          "output_type": "display_data",
          "data": {
            "text/html": [
              "<span style=\"color:cyan\"> |-Score: 0.8966666460037231</span>"
            ],
            "text/plain": [
              "<IPython.core.display.HTML object>"
            ]
          },
          "metadata": {
            "tags": []
          }
        },
        {
          "output_type": "display_data",
          "data": {
            "text/html": [
              "<span style=\"color:cyan\"> |-Best step: 0</span>"
            ],
            "text/plain": [
              "<IPython.core.display.HTML object>"
            ]
          },
          "metadata": {
            "tags": []
          }
        },
        {
          "output_type": "display_data",
          "data": {
            "text/html": [
              "<span style=\"color:#7E57C2\"><h2 style=\"font-size:16px\">Hyperparameters:</h2></span>"
            ],
            "text/plain": [
              "<IPython.core.display.HTML object>"
            ]
          },
          "metadata": {
            "tags": []
          }
        },
        {
          "output_type": "display_data",
          "data": {
            "text/html": [
              "<span style=\"color:cyan\"> |-activation: relu</span>"
            ],
            "text/plain": [
              "<IPython.core.display.HTML object>"
            ]
          },
          "metadata": {
            "tags": []
          }
        },
        {
          "output_type": "display_data",
          "data": {
            "text/html": [
              "<span style=\"color:blue\"> |-optimizer: adam</span>"
            ],
            "text/plain": [
              "<IPython.core.display.HTML object>"
            ]
          },
          "metadata": {
            "tags": []
          }
        },
        {
          "output_type": "display_data",
          "data": {
            "text/html": [
              "<span style=\"color:cyan\"> |-units_hidden: 480</span>"
            ],
            "text/plain": [
              "<IPython.core.display.HTML object>"
            ]
          },
          "metadata": {
            "tags": []
          }
        },
        {
          "output_type": "display_data",
          "data": {
            "text/html": [
              "<span style=\"color:blue\"> |-units_input: 512</span>"
            ],
            "text/plain": [
              "<IPython.core.display.HTML object>"
            ]
          },
          "metadata": {
            "tags": []
          }
        },
        {
          "output_type": "stream",
          "text": [
            "Epoch 1/20\n",
            "188/188 [==============================] - 2s 9ms/step - loss: 1.3937 - accuracy: 0.6079 - val_loss: 0.8822 - val_accuracy: 0.7280\n",
            "Epoch 2/20\n",
            "188/188 [==============================] - 2s 8ms/step - loss: 0.7758 - accuracy: 0.7482 - val_loss: 0.6838 - val_accuracy: 0.7774\n",
            "Epoch 3/20\n",
            "188/188 [==============================] - 2s 8ms/step - loss: 0.6486 - accuracy: 0.7859 - val_loss: 0.6208 - val_accuracy: 0.7918\n",
            "Epoch 4/20\n",
            "188/188 [==============================] - 1s 8ms/step - loss: 0.5851 - accuracy: 0.8067 - val_loss: 0.5572 - val_accuracy: 0.8153\n",
            "Epoch 5/20\n",
            "188/188 [==============================] - 1s 7ms/step - loss: 0.5441 - accuracy: 0.8181 - val_loss: 0.5275 - val_accuracy: 0.8245\n",
            "Epoch 6/20\n",
            "188/188 [==============================] - 1s 7ms/step - loss: 0.5163 - accuracy: 0.8257 - val_loss: 0.5123 - val_accuracy: 0.8233\n",
            "Epoch 7/20\n",
            "188/188 [==============================] - 1s 7ms/step - loss: 0.4953 - accuracy: 0.8323 - val_loss: 0.4844 - val_accuracy: 0.8345\n",
            "Epoch 8/20\n",
            "188/188 [==============================] - 1s 7ms/step - loss: 0.4811 - accuracy: 0.8349 - val_loss: 0.5548 - val_accuracy: 0.7977\n",
            "Epoch 9/20\n",
            "188/188 [==============================] - 1s 8ms/step - loss: 0.4677 - accuracy: 0.8385 - val_loss: 0.4751 - val_accuracy: 0.8353\n",
            "Epoch 10/20\n",
            "188/188 [==============================] - 1s 7ms/step - loss: 0.4574 - accuracy: 0.8418 - val_loss: 0.5021 - val_accuracy: 0.8257\n",
            "Epoch 11/20\n",
            "188/188 [==============================] - 1s 7ms/step - loss: 0.4481 - accuracy: 0.8442 - val_loss: 0.4575 - val_accuracy: 0.8428\n",
            "Epoch 12/20\n",
            "188/188 [==============================] - 1s 7ms/step - loss: 0.4419 - accuracy: 0.8472 - val_loss: 0.4459 - val_accuracy: 0.8433\n",
            "Epoch 13/20\n",
            "188/188 [==============================] - 1s 7ms/step - loss: 0.4343 - accuracy: 0.8497 - val_loss: 0.4671 - val_accuracy: 0.8314\n",
            "Epoch 14/20\n",
            "188/188 [==============================] - 1s 7ms/step - loss: 0.4256 - accuracy: 0.8515 - val_loss: 0.4279 - val_accuracy: 0.8526\n",
            "Epoch 15/20\n",
            "188/188 [==============================] - 1s 7ms/step - loss: 0.4172 - accuracy: 0.8568 - val_loss: 0.4340 - val_accuracy: 0.8480\n",
            "Epoch 16/20\n",
            "188/188 [==============================] - 1s 7ms/step - loss: 0.4137 - accuracy: 0.8568 - val_loss: 0.4447 - val_accuracy: 0.8457\n",
            "Epoch 17/20\n",
            "188/188 [==============================] - 1s 7ms/step - loss: 0.4088 - accuracy: 0.8580 - val_loss: 0.4137 - val_accuracy: 0.8572\n",
            "Epoch 18/20\n",
            "188/188 [==============================] - 1s 7ms/step - loss: 0.4027 - accuracy: 0.8610 - val_loss: 0.4272 - val_accuracy: 0.8489\n",
            "Epoch 19/20\n",
            "188/188 [==============================] - 1s 7ms/step - loss: 0.3983 - accuracy: 0.8616 - val_loss: 0.4042 - val_accuracy: 0.8604\n",
            "Epoch 20/20\n",
            "188/188 [==============================] - 1s 7ms/step - loss: 0.3950 - accuracy: 0.8617 - val_loss: 0.4059 - val_accuracy: 0.8591\n"
          ],
          "name": "stdout"
        },
        {
          "output_type": "display_data",
          "data": {
            "text/html": [
              "<span style=\"color:#4527A0\"><h1 style=\"font-size:18px\">Trial complete</h1></span>"
            ],
            "text/plain": [
              "<IPython.core.display.HTML object>"
            ]
          },
          "metadata": {
            "tags": []
          }
        },
        {
          "output_type": "display_data",
          "data": {
            "text/html": [
              "<span style=\"color:#4527A0\"><h1 style=\"font-size:18px\">Trial summary</h1></span>"
            ],
            "text/plain": [
              "<IPython.core.display.HTML object>"
            ]
          },
          "metadata": {
            "tags": []
          }
        },
        {
          "output_type": "display_data",
          "data": {
            "text/html": [
              "<span style=\"color:cyan\"> |-Trial ID: cb74e114075691d17e37587d3f45890f</span>"
            ],
            "text/plain": [
              "<IPython.core.display.HTML object>"
            ]
          },
          "metadata": {
            "tags": []
          }
        },
        {
          "output_type": "display_data",
          "data": {
            "text/html": [
              "<span style=\"color:cyan\"> |-Score: 0.8604166507720947</span>"
            ],
            "text/plain": [
              "<IPython.core.display.HTML object>"
            ]
          },
          "metadata": {
            "tags": []
          }
        },
        {
          "output_type": "display_data",
          "data": {
            "text/html": [
              "<span style=\"color:cyan\"> |-Best step: 0</span>"
            ],
            "text/plain": [
              "<IPython.core.display.HTML object>"
            ]
          },
          "metadata": {
            "tags": []
          }
        },
        {
          "output_type": "display_data",
          "data": {
            "text/html": [
              "<span style=\"color:#7E57C2\"><h2 style=\"font-size:16px\">Hyperparameters:</h2></span>"
            ],
            "text/plain": [
              "<IPython.core.display.HTML object>"
            ]
          },
          "metadata": {
            "tags": []
          }
        },
        {
          "output_type": "display_data",
          "data": {
            "text/html": [
              "<span style=\"color:cyan\"> |-activation: relu</span>"
            ],
            "text/plain": [
              "<IPython.core.display.HTML object>"
            ]
          },
          "metadata": {
            "tags": []
          }
        },
        {
          "output_type": "display_data",
          "data": {
            "text/html": [
              "<span style=\"color:blue\"> |-optimizer: SGD</span>"
            ],
            "text/plain": [
              "<IPython.core.display.HTML object>"
            ]
          },
          "metadata": {
            "tags": []
          }
        },
        {
          "output_type": "display_data",
          "data": {
            "text/html": [
              "<span style=\"color:cyan\"> |-units_hidden: 352</span>"
            ],
            "text/plain": [
              "<IPython.core.display.HTML object>"
            ]
          },
          "metadata": {
            "tags": []
          }
        },
        {
          "output_type": "display_data",
          "data": {
            "text/html": [
              "<span style=\"color:blue\"> |-units_input: 1024</span>"
            ],
            "text/plain": [
              "<IPython.core.display.HTML object>"
            ]
          },
          "metadata": {
            "tags": []
          }
        },
        {
          "output_type": "stream",
          "text": [
            "Epoch 1/20\n",
            "188/188 [==============================] - 2s 10ms/step - loss: 0.9176 - accuracy: 0.6959 - val_loss: 0.6474 - val_accuracy: 0.7801\n",
            "Epoch 2/20\n",
            "188/188 [==============================] - 2s 9ms/step - loss: 0.5148 - accuracy: 0.8058 - val_loss: 0.4728 - val_accuracy: 0.8292\n",
            "Epoch 3/20\n",
            "188/188 [==============================] - 2s 9ms/step - loss: 0.4302 - accuracy: 0.8365 - val_loss: 0.5113 - val_accuracy: 0.8170\n",
            "Epoch 4/20\n",
            "188/188 [==============================] - 2s 9ms/step - loss: 0.3835 - accuracy: 0.8551 - val_loss: 0.4943 - val_accuracy: 0.8244\n",
            "Epoch 5/20\n",
            "188/188 [==============================] - 2s 9ms/step - loss: 0.3449 - accuracy: 0.8701 - val_loss: 0.4536 - val_accuracy: 0.8384\n",
            "Epoch 6/20\n",
            "188/188 [==============================] - 2s 9ms/step - loss: 0.3246 - accuracy: 0.8759 - val_loss: 0.3480 - val_accuracy: 0.8746\n",
            "Epoch 7/20\n",
            "188/188 [==============================] - 2s 9ms/step - loss: 0.3038 - accuracy: 0.8840 - val_loss: 0.3383 - val_accuracy: 0.8761\n",
            "Epoch 8/20\n",
            "188/188 [==============================] - 2s 9ms/step - loss: 0.2834 - accuracy: 0.8927 - val_loss: 0.3559 - val_accuracy: 0.8712\n",
            "Epoch 9/20\n",
            "188/188 [==============================] - 2s 9ms/step - loss: 0.2710 - accuracy: 0.8960 - val_loss: 0.3839 - val_accuracy: 0.8542\n",
            "Epoch 10/20\n",
            "188/188 [==============================] - 2s 9ms/step - loss: 0.2560 - accuracy: 0.9031 - val_loss: 0.3791 - val_accuracy: 0.8603\n",
            "Epoch 11/20\n",
            "188/188 [==============================] - 2s 9ms/step - loss: 0.2420 - accuracy: 0.9067 - val_loss: 0.3393 - val_accuracy: 0.8790\n",
            "Epoch 12/20\n",
            "188/188 [==============================] - 2s 9ms/step - loss: 0.2312 - accuracy: 0.9113 - val_loss: 0.3492 - val_accuracy: 0.8749\n",
            "Epoch 13/20\n",
            "188/188 [==============================] - 2s 9ms/step - loss: 0.2207 - accuracy: 0.9155 - val_loss: 0.3512 - val_accuracy: 0.8808\n",
            "Epoch 14/20\n",
            "188/188 [==============================] - 2s 9ms/step - loss: 0.2084 - accuracy: 0.9197 - val_loss: 0.3317 - val_accuracy: 0.8888\n",
            "Epoch 15/20\n",
            "188/188 [==============================] - 2s 10ms/step - loss: 0.1988 - accuracy: 0.9241 - val_loss: 0.3438 - val_accuracy: 0.8820\n",
            "Epoch 16/20\n",
            "188/188 [==============================] - 2s 9ms/step - loss: 0.1890 - accuracy: 0.9280 - val_loss: 0.3402 - val_accuracy: 0.8832\n",
            "Epoch 17/20\n",
            "188/188 [==============================] - 2s 9ms/step - loss: 0.1809 - accuracy: 0.9299 - val_loss: 0.3756 - val_accuracy: 0.8706\n",
            "Epoch 18/20\n",
            "188/188 [==============================] - 2s 9ms/step - loss: 0.1696 - accuracy: 0.9344 - val_loss: 0.3644 - val_accuracy: 0.8827\n",
            "Epoch 19/20\n",
            "188/188 [==============================] - 2s 9ms/step - loss: 0.1606 - accuracy: 0.9383 - val_loss: 0.3472 - val_accuracy: 0.8828\n",
            "Epoch 20/20\n",
            "188/188 [==============================] - 2s 9ms/step - loss: 0.1524 - accuracy: 0.9414 - val_loss: 0.3839 - val_accuracy: 0.8723\n"
          ],
          "name": "stdout"
        },
        {
          "output_type": "display_data",
          "data": {
            "text/html": [
              "<span style=\"color:#4527A0\"><h1 style=\"font-size:18px\">Trial complete</h1></span>"
            ],
            "text/plain": [
              "<IPython.core.display.HTML object>"
            ]
          },
          "metadata": {
            "tags": []
          }
        },
        {
          "output_type": "display_data",
          "data": {
            "text/html": [
              "<span style=\"color:#4527A0\"><h1 style=\"font-size:18px\">Trial summary</h1></span>"
            ],
            "text/plain": [
              "<IPython.core.display.HTML object>"
            ]
          },
          "metadata": {
            "tags": []
          }
        },
        {
          "output_type": "display_data",
          "data": {
            "text/html": [
              "<span style=\"color:cyan\"> |-Trial ID: 5eb80e2608d163d0a1b409a1081980f9</span>"
            ],
            "text/plain": [
              "<IPython.core.display.HTML object>"
            ]
          },
          "metadata": {
            "tags": []
          }
        },
        {
          "output_type": "display_data",
          "data": {
            "text/html": [
              "<span style=\"color:cyan\"> |-Score: 0.8888333439826965</span>"
            ],
            "text/plain": [
              "<IPython.core.display.HTML object>"
            ]
          },
          "metadata": {
            "tags": []
          }
        },
        {
          "output_type": "display_data",
          "data": {
            "text/html": [
              "<span style=\"color:cyan\"> |-Best step: 0</span>"
            ],
            "text/plain": [
              "<IPython.core.display.HTML object>"
            ]
          },
          "metadata": {
            "tags": []
          }
        },
        {
          "output_type": "display_data",
          "data": {
            "text/html": [
              "<span style=\"color:#7E57C2\"><h2 style=\"font-size:16px\">Hyperparameters:</h2></span>"
            ],
            "text/plain": [
              "<IPython.core.display.HTML object>"
            ]
          },
          "metadata": {
            "tags": []
          }
        },
        {
          "output_type": "display_data",
          "data": {
            "text/html": [
              "<span style=\"color:cyan\"> |-activation: tanh</span>"
            ],
            "text/plain": [
              "<IPython.core.display.HTML object>"
            ]
          },
          "metadata": {
            "tags": []
          }
        },
        {
          "output_type": "display_data",
          "data": {
            "text/html": [
              "<span style=\"color:blue\"> |-optimizer: rmsprop</span>"
            ],
            "text/plain": [
              "<IPython.core.display.HTML object>"
            ]
          },
          "metadata": {
            "tags": []
          }
        },
        {
          "output_type": "display_data",
          "data": {
            "text/html": [
              "<span style=\"color:cyan\"> |-units_hidden: 544</span>"
            ],
            "text/plain": [
              "<IPython.core.display.HTML object>"
            ]
          },
          "metadata": {
            "tags": []
          }
        },
        {
          "output_type": "display_data",
          "data": {
            "text/html": [
              "<span style=\"color:blue\"> |-units_input: 704</span>"
            ],
            "text/plain": [
              "<IPython.core.display.HTML object>"
            ]
          },
          "metadata": {
            "tags": []
          }
        },
        {
          "output_type": "stream",
          "text": [
            "Epoch 1/20\n",
            "188/188 [==============================] - 2s 9ms/step - loss: 0.5536 - accuracy: 0.8013 - val_loss: 0.4591 - val_accuracy: 0.8243\n",
            "Epoch 2/20\n",
            "188/188 [==============================] - 2s 8ms/step - loss: 0.3889 - accuracy: 0.8596 - val_loss: 0.3794 - val_accuracy: 0.8597\n",
            "Epoch 3/20\n",
            "188/188 [==============================] - 2s 8ms/step - loss: 0.3534 - accuracy: 0.8705 - val_loss: 0.3652 - val_accuracy: 0.8672\n",
            "Epoch 4/20\n",
            "188/188 [==============================] - 1s 8ms/step - loss: 0.3282 - accuracy: 0.8777 - val_loss: 0.3617 - val_accuracy: 0.8671\n",
            "Epoch 5/20\n",
            "188/188 [==============================] - 1s 8ms/step - loss: 0.3113 - accuracy: 0.8834 - val_loss: 0.3515 - val_accuracy: 0.8709\n",
            "Epoch 6/20\n",
            "188/188 [==============================] - 1s 8ms/step - loss: 0.2879 - accuracy: 0.8931 - val_loss: 0.3276 - val_accuracy: 0.8852\n",
            "Epoch 7/20\n",
            "188/188 [==============================] - 1s 8ms/step - loss: 0.2720 - accuracy: 0.8968 - val_loss: 0.3414 - val_accuracy: 0.8802\n",
            "Epoch 8/20\n",
            "188/188 [==============================] - 1s 8ms/step - loss: 0.2671 - accuracy: 0.9005 - val_loss: 0.3322 - val_accuracy: 0.8821\n",
            "Epoch 9/20\n",
            "188/188 [==============================] - 1s 8ms/step - loss: 0.2505 - accuracy: 0.9041 - val_loss: 0.3296 - val_accuracy: 0.8857\n",
            "Epoch 10/20\n",
            "188/188 [==============================] - 1s 8ms/step - loss: 0.2410 - accuracy: 0.9082 - val_loss: 0.3615 - val_accuracy: 0.8777\n",
            "Epoch 11/20\n",
            "188/188 [==============================] - 1s 8ms/step - loss: 0.2295 - accuracy: 0.9135 - val_loss: 0.3242 - val_accuracy: 0.8867\n",
            "Epoch 12/20\n",
            "188/188 [==============================] - 1s 8ms/step - loss: 0.2236 - accuracy: 0.9160 - val_loss: 0.3493 - val_accuracy: 0.8852\n",
            "Epoch 13/20\n",
            "188/188 [==============================] - 2s 8ms/step - loss: 0.2147 - accuracy: 0.9184 - val_loss: 0.3214 - val_accuracy: 0.8914\n",
            "Epoch 14/20\n",
            "188/188 [==============================] - 1s 8ms/step - loss: 0.2019 - accuracy: 0.9224 - val_loss: 0.3299 - val_accuracy: 0.8906\n",
            "Epoch 15/20\n",
            "188/188 [==============================] - 1s 8ms/step - loss: 0.1937 - accuracy: 0.9255 - val_loss: 0.3279 - val_accuracy: 0.8966\n",
            "Epoch 16/20\n",
            "188/188 [==============================] - 1s 8ms/step - loss: 0.1875 - accuracy: 0.9286 - val_loss: 0.3482 - val_accuracy: 0.8905\n",
            "Epoch 17/20\n",
            "188/188 [==============================] - 1s 8ms/step - loss: 0.1817 - accuracy: 0.9306 - val_loss: 0.3306 - val_accuracy: 0.8941\n",
            "Epoch 18/20\n",
            "188/188 [==============================] - 1s 8ms/step - loss: 0.1686 - accuracy: 0.9352 - val_loss: 0.3378 - val_accuracy: 0.8956\n",
            "Epoch 19/20\n",
            "188/188 [==============================] - 1s 8ms/step - loss: 0.1558 - accuracy: 0.9403 - val_loss: 0.3599 - val_accuracy: 0.8870\n",
            "Epoch 20/20\n",
            "188/188 [==============================] - 1s 8ms/step - loss: 0.1543 - accuracy: 0.9409 - val_loss: 0.3777 - val_accuracy: 0.8838\n"
          ],
          "name": "stdout"
        },
        {
          "output_type": "display_data",
          "data": {
            "text/html": [
              "<span style=\"color:#4527A0\"><h1 style=\"font-size:18px\">Trial complete</h1></span>"
            ],
            "text/plain": [
              "<IPython.core.display.HTML object>"
            ]
          },
          "metadata": {
            "tags": []
          }
        },
        {
          "output_type": "display_data",
          "data": {
            "text/html": [
              "<span style=\"color:#4527A0\"><h1 style=\"font-size:18px\">Trial summary</h1></span>"
            ],
            "text/plain": [
              "<IPython.core.display.HTML object>"
            ]
          },
          "metadata": {
            "tags": []
          }
        },
        {
          "output_type": "display_data",
          "data": {
            "text/html": [
              "<span style=\"color:cyan\"> |-Trial ID: 0ebf8b6aaf4bdfbaa8a30cb8f357ca46</span>"
            ],
            "text/plain": [
              "<IPython.core.display.HTML object>"
            ]
          },
          "metadata": {
            "tags": []
          }
        },
        {
          "output_type": "display_data",
          "data": {
            "text/html": [
              "<span style=\"color:cyan\"> |-Score: 0.8965833187103271</span>"
            ],
            "text/plain": [
              "<IPython.core.display.HTML object>"
            ]
          },
          "metadata": {
            "tags": []
          }
        },
        {
          "output_type": "display_data",
          "data": {
            "text/html": [
              "<span style=\"color:cyan\"> |-Best step: 0</span>"
            ],
            "text/plain": [
              "<IPython.core.display.HTML object>"
            ]
          },
          "metadata": {
            "tags": []
          }
        },
        {
          "output_type": "display_data",
          "data": {
            "text/html": [
              "<span style=\"color:#7E57C2\"><h2 style=\"font-size:16px\">Hyperparameters:</h2></span>"
            ],
            "text/plain": [
              "<IPython.core.display.HTML object>"
            ]
          },
          "metadata": {
            "tags": []
          }
        },
        {
          "output_type": "display_data",
          "data": {
            "text/html": [
              "<span style=\"color:cyan\"> |-activation: elu</span>"
            ],
            "text/plain": [
              "<IPython.core.display.HTML object>"
            ]
          },
          "metadata": {
            "tags": []
          }
        },
        {
          "output_type": "display_data",
          "data": {
            "text/html": [
              "<span style=\"color:blue\"> |-optimizer: adam</span>"
            ],
            "text/plain": [
              "<IPython.core.display.HTML object>"
            ]
          },
          "metadata": {
            "tags": []
          }
        },
        {
          "output_type": "display_data",
          "data": {
            "text/html": [
              "<span style=\"color:cyan\"> |-units_hidden: 416</span>"
            ],
            "text/plain": [
              "<IPython.core.display.HTML object>"
            ]
          },
          "metadata": {
            "tags": []
          }
        },
        {
          "output_type": "display_data",
          "data": {
            "text/html": [
              "<span style=\"color:blue\"> |-units_input: 864</span>"
            ],
            "text/plain": [
              "<IPython.core.display.HTML object>"
            ]
          },
          "metadata": {
            "tags": []
          }
        },
        {
          "output_type": "stream",
          "text": [
            "Epoch 1/20\n",
            "188/188 [==============================] - 2s 8ms/step - loss: 0.8413 - accuracy: 0.7145 - val_loss: 0.8255 - val_accuracy: 0.7105\n",
            "Epoch 2/20\n",
            "188/188 [==============================] - 2s 8ms/step - loss: 0.5275 - accuracy: 0.8020 - val_loss: 0.4844 - val_accuracy: 0.8115\n",
            "Epoch 3/20\n",
            "188/188 [==============================] - 1s 8ms/step - loss: 0.4404 - accuracy: 0.8330 - val_loss: 0.5150 - val_accuracy: 0.8241\n",
            "Epoch 4/20\n",
            "188/188 [==============================] - 1s 8ms/step - loss: 0.3910 - accuracy: 0.8535 - val_loss: 0.4428 - val_accuracy: 0.8347\n",
            "Epoch 5/20\n",
            "188/188 [==============================] - 1s 8ms/step - loss: 0.3566 - accuracy: 0.8651 - val_loss: 0.4255 - val_accuracy: 0.8398\n",
            "Epoch 6/20\n",
            "188/188 [==============================] - 1s 8ms/step - loss: 0.3315 - accuracy: 0.8742 - val_loss: 0.3504 - val_accuracy: 0.8766\n",
            "Epoch 7/20\n",
            "188/188 [==============================] - 1s 8ms/step - loss: 0.3129 - accuracy: 0.8823 - val_loss: 0.3986 - val_accuracy: 0.8579\n",
            "Epoch 8/20\n",
            "188/188 [==============================] - 1s 8ms/step - loss: 0.2943 - accuracy: 0.8877 - val_loss: 0.4206 - val_accuracy: 0.8515\n",
            "Epoch 9/20\n",
            "188/188 [==============================] - 1s 8ms/step - loss: 0.2774 - accuracy: 0.8941 - val_loss: 0.3768 - val_accuracy: 0.8673\n",
            "Epoch 10/20\n",
            "188/188 [==============================] - 1s 8ms/step - loss: 0.2632 - accuracy: 0.8994 - val_loss: 0.3757 - val_accuracy: 0.8671\n",
            "Epoch 11/20\n",
            "188/188 [==============================] - 1s 8ms/step - loss: 0.2482 - accuracy: 0.9050 - val_loss: 0.3636 - val_accuracy: 0.8756\n",
            "Epoch 12/20\n",
            "188/188 [==============================] - 1s 8ms/step - loss: 0.2376 - accuracy: 0.9080 - val_loss: 0.4019 - val_accuracy: 0.8690\n",
            "Epoch 13/20\n",
            "188/188 [==============================] - 1s 8ms/step - loss: 0.2290 - accuracy: 0.9134 - val_loss: 0.3260 - val_accuracy: 0.8896\n",
            "Epoch 14/20\n",
            "188/188 [==============================] - 1s 7ms/step - loss: 0.2174 - accuracy: 0.9151 - val_loss: 0.3873 - val_accuracy: 0.8740\n",
            "Epoch 15/20\n",
            "188/188 [==============================] - 1s 8ms/step - loss: 0.2101 - accuracy: 0.9194 - val_loss: 0.3698 - val_accuracy: 0.8861\n",
            "Epoch 16/20\n",
            "188/188 [==============================] - 1s 8ms/step - loss: 0.2005 - accuracy: 0.9218 - val_loss: 0.3649 - val_accuracy: 0.8845\n",
            "Epoch 17/20\n",
            "188/188 [==============================] - 1s 8ms/step - loss: 0.1917 - accuracy: 0.9253 - val_loss: 0.3805 - val_accuracy: 0.8882\n",
            "Epoch 18/20\n",
            "188/188 [==============================] - 1s 8ms/step - loss: 0.1808 - accuracy: 0.9301 - val_loss: 0.4127 - val_accuracy: 0.8749\n",
            "Epoch 19/20\n",
            "188/188 [==============================] - 1s 7ms/step - loss: 0.1758 - accuracy: 0.9319 - val_loss: 0.3839 - val_accuracy: 0.8834\n",
            "Epoch 20/20\n",
            "188/188 [==============================] - 1s 8ms/step - loss: 0.1681 - accuracy: 0.9353 - val_loss: 0.4018 - val_accuracy: 0.8752\n"
          ],
          "name": "stdout"
        },
        {
          "output_type": "display_data",
          "data": {
            "text/html": [
              "<span style=\"color:#4527A0\"><h1 style=\"font-size:18px\">Trial complete</h1></span>"
            ],
            "text/plain": [
              "<IPython.core.display.HTML object>"
            ]
          },
          "metadata": {
            "tags": []
          }
        },
        {
          "output_type": "display_data",
          "data": {
            "text/html": [
              "<span style=\"color:#4527A0\"><h1 style=\"font-size:18px\">Trial summary</h1></span>"
            ],
            "text/plain": [
              "<IPython.core.display.HTML object>"
            ]
          },
          "metadata": {
            "tags": []
          }
        },
        {
          "output_type": "display_data",
          "data": {
            "text/html": [
              "<span style=\"color:cyan\"> |-Trial ID: febce95d1b89b14eb6a971c2491d19e9</span>"
            ],
            "text/plain": [
              "<IPython.core.display.HTML object>"
            ]
          },
          "metadata": {
            "tags": []
          }
        },
        {
          "output_type": "display_data",
          "data": {
            "text/html": [
              "<span style=\"color:cyan\"> |-Score: 0.8895833492279053</span>"
            ],
            "text/plain": [
              "<IPython.core.display.HTML object>"
            ]
          },
          "metadata": {
            "tags": []
          }
        },
        {
          "output_type": "display_data",
          "data": {
            "text/html": [
              "<span style=\"color:cyan\"> |-Best step: 0</span>"
            ],
            "text/plain": [
              "<IPython.core.display.HTML object>"
            ]
          },
          "metadata": {
            "tags": []
          }
        },
        {
          "output_type": "display_data",
          "data": {
            "text/html": [
              "<span style=\"color:#7E57C2\"><h2 style=\"font-size:16px\">Hyperparameters:</h2></span>"
            ],
            "text/plain": [
              "<IPython.core.display.HTML object>"
            ]
          },
          "metadata": {
            "tags": []
          }
        },
        {
          "output_type": "display_data",
          "data": {
            "text/html": [
              "<span style=\"color:cyan\"> |-activation: elu</span>"
            ],
            "text/plain": [
              "<IPython.core.display.HTML object>"
            ]
          },
          "metadata": {
            "tags": []
          }
        },
        {
          "output_type": "display_data",
          "data": {
            "text/html": [
              "<span style=\"color:blue\"> |-optimizer: rmsprop</span>"
            ],
            "text/plain": [
              "<IPython.core.display.HTML object>"
            ]
          },
          "metadata": {
            "tags": []
          }
        },
        {
          "output_type": "display_data",
          "data": {
            "text/html": [
              "<span style=\"color:cyan\"> |-units_hidden: 352</span>"
            ],
            "text/plain": [
              "<IPython.core.display.HTML object>"
            ]
          },
          "metadata": {
            "tags": []
          }
        },
        {
          "output_type": "display_data",
          "data": {
            "text/html": [
              "<span style=\"color:blue\"> |-units_input: 576</span>"
            ],
            "text/plain": [
              "<IPython.core.display.HTML object>"
            ]
          },
          "metadata": {
            "tags": []
          }
        },
        {
          "output_type": "stream",
          "text": [
            "Epoch 1/20\n",
            "188/188 [==============================] - 2s 9ms/step - loss: 1.3084 - accuracy: 0.6720 - val_loss: 0.7117 - val_accuracy: 0.7454\n",
            "Epoch 2/20\n",
            "188/188 [==============================] - 2s 8ms/step - loss: 0.6198 - accuracy: 0.7813 - val_loss: 0.4816 - val_accuracy: 0.8176\n",
            "Epoch 3/20\n",
            "188/188 [==============================] - 2s 8ms/step - loss: 0.5017 - accuracy: 0.8185 - val_loss: 0.5014 - val_accuracy: 0.8088\n",
            "Epoch 4/20\n",
            "188/188 [==============================] - 1s 8ms/step - loss: 0.4344 - accuracy: 0.8389 - val_loss: 0.4911 - val_accuracy: 0.8186\n",
            "Epoch 5/20\n",
            "188/188 [==============================] - 2s 8ms/step - loss: 0.3872 - accuracy: 0.8552 - val_loss: 0.3846 - val_accuracy: 0.8624\n",
            "Epoch 6/20\n",
            "188/188 [==============================] - 1s 8ms/step - loss: 0.3579 - accuracy: 0.8666 - val_loss: 0.5082 - val_accuracy: 0.8315\n",
            "Epoch 7/20\n",
            "188/188 [==============================] - 2s 8ms/step - loss: 0.3348 - accuracy: 0.8727 - val_loss: 0.3790 - val_accuracy: 0.8678\n",
            "Epoch 8/20\n",
            "188/188 [==============================] - 2s 8ms/step - loss: 0.3153 - accuracy: 0.8807 - val_loss: 0.3622 - val_accuracy: 0.8683\n",
            "Epoch 9/20\n",
            "188/188 [==============================] - 2s 8ms/step - loss: 0.2991 - accuracy: 0.8859 - val_loss: 0.4062 - val_accuracy: 0.8577\n",
            "Epoch 10/20\n",
            "188/188 [==============================] - 1s 8ms/step - loss: 0.2803 - accuracy: 0.8917 - val_loss: 0.4165 - val_accuracy: 0.8600\n",
            "Epoch 11/20\n",
            "188/188 [==============================] - 2s 8ms/step - loss: 0.2707 - accuracy: 0.8952 - val_loss: 0.4857 - val_accuracy: 0.8367\n",
            "Epoch 12/20\n",
            "188/188 [==============================] - 2s 8ms/step - loss: 0.2582 - accuracy: 0.9024 - val_loss: 0.3938 - val_accuracy: 0.8722\n",
            "Epoch 13/20\n",
            "188/188 [==============================] - 1s 8ms/step - loss: 0.2449 - accuracy: 0.9062 - val_loss: 0.3918 - val_accuracy: 0.8630\n",
            "Epoch 14/20\n",
            "188/188 [==============================] - 2s 8ms/step - loss: 0.2395 - accuracy: 0.9083 - val_loss: 0.3491 - val_accuracy: 0.8837\n",
            "Epoch 15/20\n",
            "188/188 [==============================] - 2s 8ms/step - loss: 0.2280 - accuracy: 0.9126 - val_loss: 0.4303 - val_accuracy: 0.8623\n",
            "Epoch 16/20\n",
            "188/188 [==============================] - 2s 8ms/step - loss: 0.2183 - accuracy: 0.9156 - val_loss: 0.4028 - val_accuracy: 0.8690\n",
            "Epoch 17/20\n",
            "188/188 [==============================] - 1s 8ms/step - loss: 0.2038 - accuracy: 0.9205 - val_loss: 0.4958 - val_accuracy: 0.8504\n",
            "Epoch 18/20\n",
            "188/188 [==============================] - 2s 8ms/step - loss: 0.1996 - accuracy: 0.9225 - val_loss: 0.4338 - val_accuracy: 0.8673\n",
            "Epoch 19/20\n",
            "188/188 [==============================] - 2s 8ms/step - loss: 0.1963 - accuracy: 0.9253 - val_loss: 0.4910 - val_accuracy: 0.8618\n",
            "Epoch 20/20\n",
            "188/188 [==============================] - 2s 9ms/step - loss: 0.1866 - accuracy: 0.9281 - val_loss: 0.4281 - val_accuracy: 0.8828\n"
          ],
          "name": "stdout"
        },
        {
          "output_type": "display_data",
          "data": {
            "text/html": [
              "<span style=\"color:#4527A0\"><h1 style=\"font-size:18px\">Trial complete</h1></span>"
            ],
            "text/plain": [
              "<IPython.core.display.HTML object>"
            ]
          },
          "metadata": {
            "tags": []
          }
        },
        {
          "output_type": "display_data",
          "data": {
            "text/html": [
              "<span style=\"color:#4527A0\"><h1 style=\"font-size:18px\">Trial summary</h1></span>"
            ],
            "text/plain": [
              "<IPython.core.display.HTML object>"
            ]
          },
          "metadata": {
            "tags": []
          }
        },
        {
          "output_type": "display_data",
          "data": {
            "text/html": [
              "<span style=\"color:cyan\"> |-Trial ID: 6b54d42c7dc5205471911d6c502c7ee7</span>"
            ],
            "text/plain": [
              "<IPython.core.display.HTML object>"
            ]
          },
          "metadata": {
            "tags": []
          }
        },
        {
          "output_type": "display_data",
          "data": {
            "text/html": [
              "<span style=\"color:cyan\"> |-Score: 0.8836666941642761</span>"
            ],
            "text/plain": [
              "<IPython.core.display.HTML object>"
            ]
          },
          "metadata": {
            "tags": []
          }
        },
        {
          "output_type": "display_data",
          "data": {
            "text/html": [
              "<span style=\"color:cyan\"> |-Best step: 0</span>"
            ],
            "text/plain": [
              "<IPython.core.display.HTML object>"
            ]
          },
          "metadata": {
            "tags": []
          }
        },
        {
          "output_type": "display_data",
          "data": {
            "text/html": [
              "<span style=\"color:#7E57C2\"><h2 style=\"font-size:16px\">Hyperparameters:</h2></span>"
            ],
            "text/plain": [
              "<IPython.core.display.HTML object>"
            ]
          },
          "metadata": {
            "tags": []
          }
        },
        {
          "output_type": "display_data",
          "data": {
            "text/html": [
              "<span style=\"color:cyan\"> |-activation: selu</span>"
            ],
            "text/plain": [
              "<IPython.core.display.HTML object>"
            ]
          },
          "metadata": {
            "tags": []
          }
        },
        {
          "output_type": "display_data",
          "data": {
            "text/html": [
              "<span style=\"color:blue\"> |-optimizer: rmsprop</span>"
            ],
            "text/plain": [
              "<IPython.core.display.HTML object>"
            ]
          },
          "metadata": {
            "tags": []
          }
        },
        {
          "output_type": "display_data",
          "data": {
            "text/html": [
              "<span style=\"color:cyan\"> |-units_hidden: 320</span>"
            ],
            "text/plain": [
              "<IPython.core.display.HTML object>"
            ]
          },
          "metadata": {
            "tags": []
          }
        },
        {
          "output_type": "display_data",
          "data": {
            "text/html": [
              "<span style=\"color:blue\"> |-units_input: 736</span>"
            ],
            "text/plain": [
              "<IPython.core.display.HTML object>"
            ]
          },
          "metadata": {
            "tags": []
          }
        },
        {
          "output_type": "stream",
          "text": [
            "Epoch 1/20\n",
            "188/188 [==============================] - 2s 10ms/step - loss: 0.6819 - accuracy: 0.7503 - val_loss: 0.4185 - val_accuracy: 0.8468\n",
            "Epoch 2/20\n",
            "188/188 [==============================] - 2s 9ms/step - loss: 0.4440 - accuracy: 0.8355 - val_loss: 0.4055 - val_accuracy: 0.8565\n",
            "Epoch 3/20\n",
            "188/188 [==============================] - 2s 9ms/step - loss: 0.3775 - accuracy: 0.8603 - val_loss: 0.4075 - val_accuracy: 0.8577\n",
            "Epoch 4/20\n",
            "188/188 [==============================] - 2s 9ms/step - loss: 0.3412 - accuracy: 0.8732 - val_loss: 0.4381 - val_accuracy: 0.8432\n",
            "Epoch 5/20\n",
            "188/188 [==============================] - 2s 9ms/step - loss: 0.3187 - accuracy: 0.8801 - val_loss: 0.3770 - val_accuracy: 0.8721\n",
            "Epoch 6/20\n",
            "188/188 [==============================] - 2s 9ms/step - loss: 0.2978 - accuracy: 0.8877 - val_loss: 0.3616 - val_accuracy: 0.8713\n",
            "Epoch 7/20\n",
            "188/188 [==============================] - 2s 9ms/step - loss: 0.2817 - accuracy: 0.8950 - val_loss: 0.3563 - val_accuracy: 0.8758\n",
            "Epoch 8/20\n",
            "188/188 [==============================] - 2s 9ms/step - loss: 0.2666 - accuracy: 0.9006 - val_loss: 0.3392 - val_accuracy: 0.8841\n",
            "Epoch 9/20\n",
            "188/188 [==============================] - 2s 9ms/step - loss: 0.2585 - accuracy: 0.9023 - val_loss: 0.3944 - val_accuracy: 0.8720\n",
            "Epoch 10/20\n",
            "188/188 [==============================] - 2s 9ms/step - loss: 0.2484 - accuracy: 0.9058 - val_loss: 0.5272 - val_accuracy: 0.8554\n",
            "Epoch 11/20\n",
            "188/188 [==============================] - 2s 10ms/step - loss: 0.2393 - accuracy: 0.9097 - val_loss: 0.3948 - val_accuracy: 0.8865\n",
            "Epoch 12/20\n",
            "188/188 [==============================] - 2s 9ms/step - loss: 0.2304 - accuracy: 0.9123 - val_loss: 0.4561 - val_accuracy: 0.8877\n",
            "Epoch 13/20\n",
            "188/188 [==============================] - 2s 9ms/step - loss: 0.2296 - accuracy: 0.9154 - val_loss: 0.4496 - val_accuracy: 0.8785\n",
            "Epoch 14/20\n",
            "188/188 [==============================] - 2s 9ms/step - loss: 0.2193 - accuracy: 0.9171 - val_loss: 0.3971 - val_accuracy: 0.8843\n",
            "Epoch 15/20\n",
            "188/188 [==============================] - 2s 9ms/step - loss: 0.2117 - accuracy: 0.9191 - val_loss: 0.4575 - val_accuracy: 0.8849\n",
            "Epoch 16/20\n",
            "188/188 [==============================] - 2s 9ms/step - loss: 0.2085 - accuracy: 0.9212 - val_loss: 0.4608 - val_accuracy: 0.8737\n",
            "Epoch 17/20\n",
            "188/188 [==============================] - 2s 9ms/step - loss: 0.2098 - accuracy: 0.9207 - val_loss: 0.4242 - val_accuracy: 0.8816\n",
            "Epoch 18/20\n",
            "188/188 [==============================] - 2s 9ms/step - loss: 0.2037 - accuracy: 0.9243 - val_loss: 0.4967 - val_accuracy: 0.8893\n",
            "Epoch 19/20\n",
            "188/188 [==============================] - 2s 9ms/step - loss: 0.1979 - accuracy: 0.9261 - val_loss: 0.5146 - val_accuracy: 0.8759\n",
            "Epoch 20/20\n",
            "188/188 [==============================] - 2s 9ms/step - loss: 0.1978 - accuracy: 0.9256 - val_loss: 0.4998 - val_accuracy: 0.8878\n"
          ],
          "name": "stdout"
        },
        {
          "output_type": "display_data",
          "data": {
            "text/html": [
              "<span style=\"color:#4527A0\"><h1 style=\"font-size:18px\">Trial complete</h1></span>"
            ],
            "text/plain": [
              "<IPython.core.display.HTML object>"
            ]
          },
          "metadata": {
            "tags": []
          }
        },
        {
          "output_type": "display_data",
          "data": {
            "text/html": [
              "<span style=\"color:#4527A0\"><h1 style=\"font-size:18px\">Trial summary</h1></span>"
            ],
            "text/plain": [
              "<IPython.core.display.HTML object>"
            ]
          },
          "metadata": {
            "tags": []
          }
        },
        {
          "output_type": "display_data",
          "data": {
            "text/html": [
              "<span style=\"color:cyan\"> |-Trial ID: 70559f30db0eb174b08e939c27118efb</span>"
            ],
            "text/plain": [
              "<IPython.core.display.HTML object>"
            ]
          },
          "metadata": {
            "tags": []
          }
        },
        {
          "output_type": "display_data",
          "data": {
            "text/html": [
              "<span style=\"color:cyan\"> |-Score: 0.8893333077430725</span>"
            ],
            "text/plain": [
              "<IPython.core.display.HTML object>"
            ]
          },
          "metadata": {
            "tags": []
          }
        },
        {
          "output_type": "display_data",
          "data": {
            "text/html": [
              "<span style=\"color:cyan\"> |-Best step: 0</span>"
            ],
            "text/plain": [
              "<IPython.core.display.HTML object>"
            ]
          },
          "metadata": {
            "tags": []
          }
        },
        {
          "output_type": "display_data",
          "data": {
            "text/html": [
              "<span style=\"color:#7E57C2\"><h2 style=\"font-size:16px\">Hyperparameters:</h2></span>"
            ],
            "text/plain": [
              "<IPython.core.display.HTML object>"
            ]
          },
          "metadata": {
            "tags": []
          }
        },
        {
          "output_type": "display_data",
          "data": {
            "text/html": [
              "<span style=\"color:cyan\"> |-activation: relu</span>"
            ],
            "text/plain": [
              "<IPython.core.display.HTML object>"
            ]
          },
          "metadata": {
            "tags": []
          }
        },
        {
          "output_type": "display_data",
          "data": {
            "text/html": [
              "<span style=\"color:blue\"> |-optimizer: rmsprop</span>"
            ],
            "text/plain": [
              "<IPython.core.display.HTML object>"
            ]
          },
          "metadata": {
            "tags": []
          }
        },
        {
          "output_type": "display_data",
          "data": {
            "text/html": [
              "<span style=\"color:cyan\"> |-units_hidden: 544</span>"
            ],
            "text/plain": [
              "<IPython.core.display.HTML object>"
            ]
          },
          "metadata": {
            "tags": []
          }
        },
        {
          "output_type": "display_data",
          "data": {
            "text/html": [
              "<span style=\"color:blue\"> |-units_input: 736</span>"
            ],
            "text/plain": [
              "<IPython.core.display.HTML object>"
            ]
          },
          "metadata": {
            "tags": []
          }
        },
        {
          "output_type": "stream",
          "text": [
            "Epoch 1/20\n",
            "188/188 [==============================] - 2s 9ms/step - loss: 0.7421 - accuracy: 0.7334 - val_loss: 0.5907 - val_accuracy: 0.7850\n",
            "Epoch 2/20\n",
            "188/188 [==============================] - 1s 8ms/step - loss: 0.4748 - accuracy: 0.8206 - val_loss: 0.4822 - val_accuracy: 0.8235\n",
            "Epoch 3/20\n",
            "188/188 [==============================] - 1s 8ms/step - loss: 0.4174 - accuracy: 0.8420 - val_loss: 0.4195 - val_accuracy: 0.8536\n",
            "Epoch 4/20\n",
            "188/188 [==============================] - 1s 8ms/step - loss: 0.3694 - accuracy: 0.8599 - val_loss: 0.4795 - val_accuracy: 0.8173\n",
            "Epoch 5/20\n",
            "188/188 [==============================] - 1s 8ms/step - loss: 0.3427 - accuracy: 0.8713 - val_loss: 0.4164 - val_accuracy: 0.8427\n",
            "Epoch 6/20\n",
            "188/188 [==============================] - 1s 8ms/step - loss: 0.3189 - accuracy: 0.8796 - val_loss: 0.3463 - val_accuracy: 0.8747\n",
            "Epoch 7/20\n",
            "188/188 [==============================] - 1s 8ms/step - loss: 0.3032 - accuracy: 0.8846 - val_loss: 0.3662 - val_accuracy: 0.8670\n",
            "Epoch 8/20\n",
            "188/188 [==============================] - 1s 7ms/step - loss: 0.2863 - accuracy: 0.8914 - val_loss: 0.3825 - val_accuracy: 0.8669\n",
            "Epoch 9/20\n",
            "188/188 [==============================] - 1s 8ms/step - loss: 0.2730 - accuracy: 0.8959 - val_loss: 0.3442 - val_accuracy: 0.8776\n",
            "Epoch 10/20\n",
            "188/188 [==============================] - 1s 8ms/step - loss: 0.2590 - accuracy: 0.9018 - val_loss: 0.3288 - val_accuracy: 0.8861\n",
            "Epoch 11/20\n",
            "188/188 [==============================] - 1s 8ms/step - loss: 0.2454 - accuracy: 0.9065 - val_loss: 0.3470 - val_accuracy: 0.8793\n",
            "Epoch 12/20\n",
            "188/188 [==============================] - 1s 8ms/step - loss: 0.2384 - accuracy: 0.9076 - val_loss: 0.3592 - val_accuracy: 0.8760\n",
            "Epoch 13/20\n",
            "188/188 [==============================] - 1s 8ms/step - loss: 0.2275 - accuracy: 0.9123 - val_loss: 0.3447 - val_accuracy: 0.8859\n",
            "Epoch 14/20\n",
            "188/188 [==============================] - 1s 8ms/step - loss: 0.2198 - accuracy: 0.9154 - val_loss: 0.3470 - val_accuracy: 0.8852\n",
            "Epoch 15/20\n",
            "188/188 [==============================] - 2s 8ms/step - loss: 0.2090 - accuracy: 0.9205 - val_loss: 0.3407 - val_accuracy: 0.8909\n",
            "Epoch 16/20\n",
            "188/188 [==============================] - 1s 8ms/step - loss: 0.1995 - accuracy: 0.9229 - val_loss: 0.3618 - val_accuracy: 0.8813\n",
            "Epoch 17/20\n",
            "188/188 [==============================] - 1s 8ms/step - loss: 0.1934 - accuracy: 0.9268 - val_loss: 0.4476 - val_accuracy: 0.8618\n",
            "Epoch 18/20\n",
            "188/188 [==============================] - 2s 8ms/step - loss: 0.1868 - accuracy: 0.9269 - val_loss: 0.4044 - val_accuracy: 0.8733\n",
            "Epoch 19/20\n",
            "188/188 [==============================] - 1s 8ms/step - loss: 0.1798 - accuracy: 0.9302 - val_loss: 0.4529 - val_accuracy: 0.8672\n",
            "Epoch 20/20\n",
            "188/188 [==============================] - 1s 8ms/step - loss: 0.1709 - accuracy: 0.9348 - val_loss: 0.3995 - val_accuracy: 0.8771\n"
          ],
          "name": "stdout"
        },
        {
          "output_type": "display_data",
          "data": {
            "text/html": [
              "<span style=\"color:#4527A0\"><h1 style=\"font-size:18px\">Trial complete</h1></span>"
            ],
            "text/plain": [
              "<IPython.core.display.HTML object>"
            ]
          },
          "metadata": {
            "tags": []
          }
        },
        {
          "output_type": "display_data",
          "data": {
            "text/html": [
              "<span style=\"color:#4527A0\"><h1 style=\"font-size:18px\">Trial summary</h1></span>"
            ],
            "text/plain": [
              "<IPython.core.display.HTML object>"
            ]
          },
          "metadata": {
            "tags": []
          }
        },
        {
          "output_type": "display_data",
          "data": {
            "text/html": [
              "<span style=\"color:cyan\"> |-Trial ID: 93ba94a1f8ccd2e9574e2bafe44f05e0</span>"
            ],
            "text/plain": [
              "<IPython.core.display.HTML object>"
            ]
          },
          "metadata": {
            "tags": []
          }
        },
        {
          "output_type": "display_data",
          "data": {
            "text/html": [
              "<span style=\"color:cyan\"> |-Score: 0.890916645526886</span>"
            ],
            "text/plain": [
              "<IPython.core.display.HTML object>"
            ]
          },
          "metadata": {
            "tags": []
          }
        },
        {
          "output_type": "display_data",
          "data": {
            "text/html": [
              "<span style=\"color:cyan\"> |-Best step: 0</span>"
            ],
            "text/plain": [
              "<IPython.core.display.HTML object>"
            ]
          },
          "metadata": {
            "tags": []
          }
        },
        {
          "output_type": "display_data",
          "data": {
            "text/html": [
              "<span style=\"color:#7E57C2\"><h2 style=\"font-size:16px\">Hyperparameters:</h2></span>"
            ],
            "text/plain": [
              "<IPython.core.display.HTML object>"
            ]
          },
          "metadata": {
            "tags": []
          }
        },
        {
          "output_type": "display_data",
          "data": {
            "text/html": [
              "<span style=\"color:cyan\"> |-activation: elu</span>"
            ],
            "text/plain": [
              "<IPython.core.display.HTML object>"
            ]
          },
          "metadata": {
            "tags": []
          }
        },
        {
          "output_type": "display_data",
          "data": {
            "text/html": [
              "<span style=\"color:blue\"> |-optimizer: rmsprop</span>"
            ],
            "text/plain": [
              "<IPython.core.display.HTML object>"
            ]
          },
          "metadata": {
            "tags": []
          }
        },
        {
          "output_type": "display_data",
          "data": {
            "text/html": [
              "<span style=\"color:cyan\"> |-units_hidden: 160</span>"
            ],
            "text/plain": [
              "<IPython.core.display.HTML object>"
            ]
          },
          "metadata": {
            "tags": []
          }
        },
        {
          "output_type": "display_data",
          "data": {
            "text/html": [
              "<span style=\"color:blue\"> |-units_input: 864</span>"
            ],
            "text/plain": [
              "<IPython.core.display.HTML object>"
            ]
          },
          "metadata": {
            "tags": []
          }
        },
        {
          "output_type": "stream",
          "text": [
            "Epoch 1/20\n",
            "188/188 [==============================] - 1s 8ms/step - loss: 0.5525 - accuracy: 0.8092 - val_loss: 0.4222 - val_accuracy: 0.8471\n",
            "Epoch 2/20\n",
            "188/188 [==============================] - 1s 7ms/step - loss: 0.3808 - accuracy: 0.8634 - val_loss: 0.3878 - val_accuracy: 0.8558\n",
            "Epoch 3/20\n",
            "188/188 [==============================] - 1s 7ms/step - loss: 0.3312 - accuracy: 0.8787 - val_loss: 0.3374 - val_accuracy: 0.8801\n",
            "Epoch 4/20\n",
            "188/188 [==============================] - 1s 7ms/step - loss: 0.3051 - accuracy: 0.8872 - val_loss: 0.3497 - val_accuracy: 0.8734\n",
            "Epoch 5/20\n",
            "188/188 [==============================] - 1s 7ms/step - loss: 0.2839 - accuracy: 0.8941 - val_loss: 0.3659 - val_accuracy: 0.8680\n",
            "Epoch 6/20\n",
            "188/188 [==============================] - 1s 7ms/step - loss: 0.2698 - accuracy: 0.8994 - val_loss: 0.3109 - val_accuracy: 0.8850\n",
            "Epoch 7/20\n",
            "188/188 [==============================] - 1s 7ms/step - loss: 0.2560 - accuracy: 0.9044 - val_loss: 0.3058 - val_accuracy: 0.8926\n",
            "Epoch 8/20\n",
            "188/188 [==============================] - 1s 7ms/step - loss: 0.2387 - accuracy: 0.9108 - val_loss: 0.3280 - val_accuracy: 0.8806\n",
            "Epoch 9/20\n",
            "188/188 [==============================] - 1s 7ms/step - loss: 0.2355 - accuracy: 0.9117 - val_loss: 0.3152 - val_accuracy: 0.8881\n",
            "Epoch 10/20\n",
            "188/188 [==============================] - 1s 7ms/step - loss: 0.2252 - accuracy: 0.9159 - val_loss: 0.3258 - val_accuracy: 0.8848\n",
            "Epoch 11/20\n",
            "188/188 [==============================] - 1s 7ms/step - loss: 0.2113 - accuracy: 0.9205 - val_loss: 0.3066 - val_accuracy: 0.8950\n",
            "Epoch 12/20\n",
            "188/188 [==============================] - 1s 7ms/step - loss: 0.2023 - accuracy: 0.9231 - val_loss: 0.3510 - val_accuracy: 0.8777\n",
            "Epoch 13/20\n",
            "188/188 [==============================] - 1s 7ms/step - loss: 0.1990 - accuracy: 0.9244 - val_loss: 0.3287 - val_accuracy: 0.8867\n",
            "Epoch 14/20\n",
            "188/188 [==============================] - 1s 7ms/step - loss: 0.1854 - accuracy: 0.9286 - val_loss: 0.3255 - val_accuracy: 0.8912\n",
            "Epoch 15/20\n",
            "188/188 [==============================] - 1s 7ms/step - loss: 0.1865 - accuracy: 0.9299 - val_loss: 0.2962 - val_accuracy: 0.8970\n",
            "Epoch 16/20\n",
            "188/188 [==============================] - 1s 7ms/step - loss: 0.1713 - accuracy: 0.9345 - val_loss: 0.3157 - val_accuracy: 0.8939\n",
            "Epoch 17/20\n",
            "188/188 [==============================] - 1s 7ms/step - loss: 0.1724 - accuracy: 0.9343 - val_loss: 0.3318 - val_accuracy: 0.8944\n",
            "Epoch 18/20\n",
            "188/188 [==============================] - 1s 7ms/step - loss: 0.1657 - accuracy: 0.9364 - val_loss: 0.3214 - val_accuracy: 0.8970\n",
            "Epoch 19/20\n",
            "188/188 [==============================] - 1s 7ms/step - loss: 0.1575 - accuracy: 0.9402 - val_loss: 0.3488 - val_accuracy: 0.8928\n",
            "Epoch 20/20\n",
            "188/188 [==============================] - 1s 7ms/step - loss: 0.1523 - accuracy: 0.9424 - val_loss: 0.3606 - val_accuracy: 0.8919\n"
          ],
          "name": "stdout"
        },
        {
          "output_type": "display_data",
          "data": {
            "text/html": [
              "<span style=\"color:#4527A0\"><h1 style=\"font-size:18px\">Trial complete</h1></span>"
            ],
            "text/plain": [
              "<IPython.core.display.HTML object>"
            ]
          },
          "metadata": {
            "tags": []
          }
        },
        {
          "output_type": "display_data",
          "data": {
            "text/html": [
              "<span style=\"color:#4527A0\"><h1 style=\"font-size:18px\">Trial summary</h1></span>"
            ],
            "text/plain": [
              "<IPython.core.display.HTML object>"
            ]
          },
          "metadata": {
            "tags": []
          }
        },
        {
          "output_type": "display_data",
          "data": {
            "text/html": [
              "<span style=\"color:cyan\"> |-Trial ID: bb81b337113cc4d632823ace2838bbe5</span>"
            ],
            "text/plain": [
              "<IPython.core.display.HTML object>"
            ]
          },
          "metadata": {
            "tags": []
          }
        },
        {
          "output_type": "display_data",
          "data": {
            "text/html": [
              "<span style=\"color:cyan\"> |-Score: 0.8970000147819519</span>"
            ],
            "text/plain": [
              "<IPython.core.display.HTML object>"
            ]
          },
          "metadata": {
            "tags": []
          }
        },
        {
          "output_type": "display_data",
          "data": {
            "text/html": [
              "<span style=\"color:cyan\"> |-Best step: 0</span>"
            ],
            "text/plain": [
              "<IPython.core.display.HTML object>"
            ]
          },
          "metadata": {
            "tags": []
          }
        },
        {
          "output_type": "display_data",
          "data": {
            "text/html": [
              "<span style=\"color:#7E57C2\"><h2 style=\"font-size:16px\">Hyperparameters:</h2></span>"
            ],
            "text/plain": [
              "<IPython.core.display.HTML object>"
            ]
          },
          "metadata": {
            "tags": []
          }
        },
        {
          "output_type": "display_data",
          "data": {
            "text/html": [
              "<span style=\"color:cyan\"> |-activation: relu</span>"
            ],
            "text/plain": [
              "<IPython.core.display.HTML object>"
            ]
          },
          "metadata": {
            "tags": []
          }
        },
        {
          "output_type": "display_data",
          "data": {
            "text/html": [
              "<span style=\"color:blue\"> |-optimizer: adam</span>"
            ],
            "text/plain": [
              "<IPython.core.display.HTML object>"
            ]
          },
          "metadata": {
            "tags": []
          }
        },
        {
          "output_type": "display_data",
          "data": {
            "text/html": [
              "<span style=\"color:cyan\"> |-units_hidden: 224</span>"
            ],
            "text/plain": [
              "<IPython.core.display.HTML object>"
            ]
          },
          "metadata": {
            "tags": []
          }
        },
        {
          "output_type": "display_data",
          "data": {
            "text/html": [
              "<span style=\"color:blue\"> |-units_input: 704</span>"
            ],
            "text/plain": [
              "<IPython.core.display.HTML object>"
            ]
          },
          "metadata": {
            "tags": []
          }
        },
        {
          "output_type": "stream",
          "text": [
            "Epoch 1/20\n",
            "188/188 [==============================] - 2s 9ms/step - loss: 0.5144 - accuracy: 0.8145 - val_loss: 0.3960 - val_accuracy: 0.8543\n",
            "Epoch 2/20\n",
            "188/188 [==============================] - 1s 8ms/step - loss: 0.3600 - accuracy: 0.8675 - val_loss: 0.3983 - val_accuracy: 0.8502\n",
            "Epoch 3/20\n",
            "188/188 [==============================] - 1s 8ms/step - loss: 0.3219 - accuracy: 0.8802 - val_loss: 0.3486 - val_accuracy: 0.8720\n",
            "Epoch 4/20\n",
            "188/188 [==============================] - 1s 8ms/step - loss: 0.2952 - accuracy: 0.8902 - val_loss: 0.3263 - val_accuracy: 0.8832\n",
            "Epoch 5/20\n",
            "188/188 [==============================] - 1s 8ms/step - loss: 0.2692 - accuracy: 0.8991 - val_loss: 0.3266 - val_accuracy: 0.8827\n",
            "Epoch 6/20\n",
            "188/188 [==============================] - 1s 8ms/step - loss: 0.2640 - accuracy: 0.9002 - val_loss: 0.3401 - val_accuracy: 0.8759\n",
            "Epoch 7/20\n",
            "188/188 [==============================] - 1s 8ms/step - loss: 0.2466 - accuracy: 0.9065 - val_loss: 0.3377 - val_accuracy: 0.8777\n",
            "Epoch 8/20\n",
            "188/188 [==============================] - 1s 8ms/step - loss: 0.2376 - accuracy: 0.9100 - val_loss: 0.3261 - val_accuracy: 0.8836\n",
            "Epoch 9/20\n",
            "188/188 [==============================] - 2s 8ms/step - loss: 0.2243 - accuracy: 0.9150 - val_loss: 0.3125 - val_accuracy: 0.8907\n",
            "Epoch 10/20\n",
            "188/188 [==============================] - 1s 8ms/step - loss: 0.2136 - accuracy: 0.9188 - val_loss: 0.3213 - val_accuracy: 0.8906\n",
            "Epoch 11/20\n",
            "188/188 [==============================] - 1s 8ms/step - loss: 0.2033 - accuracy: 0.9225 - val_loss: 0.3372 - val_accuracy: 0.8853\n",
            "Epoch 12/20\n",
            "188/188 [==============================] - 1s 7ms/step - loss: 0.1960 - accuracy: 0.9248 - val_loss: 0.3514 - val_accuracy: 0.8852\n",
            "Epoch 13/20\n",
            "188/188 [==============================] - 1s 8ms/step - loss: 0.1879 - accuracy: 0.9283 - val_loss: 0.3117 - val_accuracy: 0.8960\n",
            "Epoch 14/20\n",
            "188/188 [==============================] - 1s 8ms/step - loss: 0.1806 - accuracy: 0.9304 - val_loss: 0.3757 - val_accuracy: 0.8857\n",
            "Epoch 15/20\n",
            "188/188 [==============================] - 1s 7ms/step - loss: 0.1741 - accuracy: 0.9332 - val_loss: 0.3424 - val_accuracy: 0.8899\n",
            "Epoch 16/20\n",
            "188/188 [==============================] - 1s 8ms/step - loss: 0.1658 - accuracy: 0.9367 - val_loss: 0.3297 - val_accuracy: 0.8956\n",
            "Epoch 17/20\n",
            "188/188 [==============================] - 1s 8ms/step - loss: 0.1615 - accuracy: 0.9378 - val_loss: 0.3346 - val_accuracy: 0.8917\n",
            "Epoch 18/20\n",
            "188/188 [==============================] - 1s 8ms/step - loss: 0.1511 - accuracy: 0.9416 - val_loss: 0.3523 - val_accuracy: 0.8955\n",
            "Epoch 19/20\n",
            "188/188 [==============================] - 1s 8ms/step - loss: 0.1474 - accuracy: 0.9436 - val_loss: 0.3643 - val_accuracy: 0.8916\n",
            "Epoch 20/20\n",
            "188/188 [==============================] - 1s 8ms/step - loss: 0.1430 - accuracy: 0.9459 - val_loss: 0.3675 - val_accuracy: 0.8972\n"
          ],
          "name": "stdout"
        },
        {
          "output_type": "display_data",
          "data": {
            "text/html": [
              "<span style=\"color:#4527A0\"><h1 style=\"font-size:18px\">Trial complete</h1></span>"
            ],
            "text/plain": [
              "<IPython.core.display.HTML object>"
            ]
          },
          "metadata": {
            "tags": []
          }
        },
        {
          "output_type": "display_data",
          "data": {
            "text/html": [
              "<span style=\"color:#4527A0\"><h1 style=\"font-size:18px\">Trial summary</h1></span>"
            ],
            "text/plain": [
              "<IPython.core.display.HTML object>"
            ]
          },
          "metadata": {
            "tags": []
          }
        },
        {
          "output_type": "display_data",
          "data": {
            "text/html": [
              "<span style=\"color:cyan\"> |-Trial ID: d1245f4b087bf56dea11b27935901ffb</span>"
            ],
            "text/plain": [
              "<IPython.core.display.HTML object>"
            ]
          },
          "metadata": {
            "tags": []
          }
        },
        {
          "output_type": "display_data",
          "data": {
            "text/html": [
              "<span style=\"color:cyan\"> |-Score: 0.8971666693687439</span>"
            ],
            "text/plain": [
              "<IPython.core.display.HTML object>"
            ]
          },
          "metadata": {
            "tags": []
          }
        },
        {
          "output_type": "display_data",
          "data": {
            "text/html": [
              "<span style=\"color:cyan\"> |-Best step: 0</span>"
            ],
            "text/plain": [
              "<IPython.core.display.HTML object>"
            ]
          },
          "metadata": {
            "tags": []
          }
        },
        {
          "output_type": "display_data",
          "data": {
            "text/html": [
              "<span style=\"color:#7E57C2\"><h2 style=\"font-size:16px\">Hyperparameters:</h2></span>"
            ],
            "text/plain": [
              "<IPython.core.display.HTML object>"
            ]
          },
          "metadata": {
            "tags": []
          }
        },
        {
          "output_type": "display_data",
          "data": {
            "text/html": [
              "<span style=\"color:cyan\"> |-activation: relu</span>"
            ],
            "text/plain": [
              "<IPython.core.display.HTML object>"
            ]
          },
          "metadata": {
            "tags": []
          }
        },
        {
          "output_type": "display_data",
          "data": {
            "text/html": [
              "<span style=\"color:blue\"> |-optimizer: adam</span>"
            ],
            "text/plain": [
              "<IPython.core.display.HTML object>"
            ]
          },
          "metadata": {
            "tags": []
          }
        },
        {
          "output_type": "display_data",
          "data": {
            "text/html": [
              "<span style=\"color:cyan\"> |-units_hidden: 512</span>"
            ],
            "text/plain": [
              "<IPython.core.display.HTML object>"
            ]
          },
          "metadata": {
            "tags": []
          }
        },
        {
          "output_type": "display_data",
          "data": {
            "text/html": [
              "<span style=\"color:blue\"> |-units_input: 736</span>"
            ],
            "text/plain": [
              "<IPython.core.display.HTML object>"
            ]
          },
          "metadata": {
            "tags": []
          }
        },
        {
          "output_type": "stream",
          "text": [
            "Epoch 1/20\n",
            "188/188 [==============================] - 2s 9ms/step - loss: 0.8609 - accuracy: 0.6777 - val_loss: 0.5306 - val_accuracy: 0.8023\n",
            "Epoch 2/20\n",
            "188/188 [==============================] - 2s 8ms/step - loss: 0.4673 - accuracy: 0.8314 - val_loss: 0.4485 - val_accuracy: 0.8397\n",
            "Epoch 3/20\n",
            "188/188 [==============================] - 1s 8ms/step - loss: 0.4139 - accuracy: 0.8511 - val_loss: 0.4240 - val_accuracy: 0.8431\n",
            "Epoch 4/20\n",
            "188/188 [==============================] - 2s 8ms/step - loss: 0.3892 - accuracy: 0.8583 - val_loss: 0.3932 - val_accuracy: 0.8570\n",
            "Epoch 5/20\n",
            "188/188 [==============================] - 1s 8ms/step - loss: 0.3588 - accuracy: 0.8707 - val_loss: 0.3859 - val_accuracy: 0.8595\n",
            "Epoch 6/20\n",
            "188/188 [==============================] - 1s 8ms/step - loss: 0.3454 - accuracy: 0.8754 - val_loss: 0.3616 - val_accuracy: 0.8724\n",
            "Epoch 7/20\n",
            "188/188 [==============================] - 1s 8ms/step - loss: 0.3314 - accuracy: 0.8778 - val_loss: 0.3565 - val_accuracy: 0.8693\n",
            "Epoch 8/20\n",
            "188/188 [==============================] - 1s 8ms/step - loss: 0.3175 - accuracy: 0.8838 - val_loss: 0.3406 - val_accuracy: 0.8741\n",
            "Epoch 9/20\n",
            "188/188 [==============================] - 1s 8ms/step - loss: 0.3100 - accuracy: 0.8855 - val_loss: 0.3344 - val_accuracy: 0.8790\n",
            "Epoch 10/20\n",
            "188/188 [==============================] - 2s 9ms/step - loss: 0.2958 - accuracy: 0.8901 - val_loss: 0.3249 - val_accuracy: 0.8829\n",
            "Epoch 11/20\n",
            "188/188 [==============================] - 1s 8ms/step - loss: 0.2854 - accuracy: 0.8944 - val_loss: 0.3245 - val_accuracy: 0.8852\n",
            "Epoch 12/20\n",
            "188/188 [==============================] - 1s 8ms/step - loss: 0.2778 - accuracy: 0.8978 - val_loss: 0.3246 - val_accuracy: 0.8805\n",
            "Epoch 13/20\n",
            "188/188 [==============================] - 1s 8ms/step - loss: 0.2698 - accuracy: 0.8996 - val_loss: 0.3500 - val_accuracy: 0.8735\n",
            "Epoch 14/20\n",
            "188/188 [==============================] - 2s 8ms/step - loss: 0.2629 - accuracy: 0.9024 - val_loss: 0.3193 - val_accuracy: 0.8857\n",
            "Epoch 15/20\n",
            "188/188 [==============================] - 1s 8ms/step - loss: 0.2550 - accuracy: 0.9046 - val_loss: 0.3251 - val_accuracy: 0.8841\n",
            "Epoch 16/20\n",
            "188/188 [==============================] - 2s 8ms/step - loss: 0.2496 - accuracy: 0.9069 - val_loss: 0.3137 - val_accuracy: 0.8888\n",
            "Epoch 17/20\n",
            "188/188 [==============================] - 1s 8ms/step - loss: 0.2467 - accuracy: 0.9076 - val_loss: 0.3393 - val_accuracy: 0.8791\n",
            "Epoch 18/20\n",
            "188/188 [==============================] - 2s 8ms/step - loss: 0.2316 - accuracy: 0.9138 - val_loss: 0.3323 - val_accuracy: 0.8851\n",
            "Epoch 19/20\n",
            "188/188 [==============================] - 2s 9ms/step - loss: 0.2255 - accuracy: 0.9158 - val_loss: 0.3042 - val_accuracy: 0.8923\n",
            "Epoch 20/20\n",
            "188/188 [==============================] - 2s 9ms/step - loss: 0.2145 - accuracy: 0.9195 - val_loss: 0.3142 - val_accuracy: 0.8905\n"
          ],
          "name": "stdout"
        },
        {
          "output_type": "display_data",
          "data": {
            "text/html": [
              "<span style=\"color:#4527A0\"><h1 style=\"font-size:18px\">Trial complete</h1></span>"
            ],
            "text/plain": [
              "<IPython.core.display.HTML object>"
            ]
          },
          "metadata": {
            "tags": []
          }
        },
        {
          "output_type": "display_data",
          "data": {
            "text/html": [
              "<span style=\"color:#4527A0\"><h1 style=\"font-size:18px\">Trial summary</h1></span>"
            ],
            "text/plain": [
              "<IPython.core.display.HTML object>"
            ]
          },
          "metadata": {
            "tags": []
          }
        },
        {
          "output_type": "display_data",
          "data": {
            "text/html": [
              "<span style=\"color:cyan\"> |-Trial ID: 04df7aade96ab64015fd8245049922af</span>"
            ],
            "text/plain": [
              "<IPython.core.display.HTML object>"
            ]
          },
          "metadata": {
            "tags": []
          }
        },
        {
          "output_type": "display_data",
          "data": {
            "text/html": [
              "<span style=\"color:cyan\"> |-Score: 0.8922500014305115</span>"
            ],
            "text/plain": [
              "<IPython.core.display.HTML object>"
            ]
          },
          "metadata": {
            "tags": []
          }
        },
        {
          "output_type": "display_data",
          "data": {
            "text/html": [
              "<span style=\"color:cyan\"> |-Best step: 0</span>"
            ],
            "text/plain": [
              "<IPython.core.display.HTML object>"
            ]
          },
          "metadata": {
            "tags": []
          }
        },
        {
          "output_type": "display_data",
          "data": {
            "text/html": [
              "<span style=\"color:#7E57C2\"><h2 style=\"font-size:16px\">Hyperparameters:</h2></span>"
            ],
            "text/plain": [
              "<IPython.core.display.HTML object>"
            ]
          },
          "metadata": {
            "tags": []
          }
        },
        {
          "output_type": "display_data",
          "data": {
            "text/html": [
              "<span style=\"color:cyan\"> |-activation: sigmoid</span>"
            ],
            "text/plain": [
              "<IPython.core.display.HTML object>"
            ]
          },
          "metadata": {
            "tags": []
          }
        },
        {
          "output_type": "display_data",
          "data": {
            "text/html": [
              "<span style=\"color:blue\"> |-optimizer: adam</span>"
            ],
            "text/plain": [
              "<IPython.core.display.HTML object>"
            ]
          },
          "metadata": {
            "tags": []
          }
        },
        {
          "output_type": "display_data",
          "data": {
            "text/html": [
              "<span style=\"color:cyan\"> |-units_hidden: 576</span>"
            ],
            "text/plain": [
              "<IPython.core.display.HTML object>"
            ]
          },
          "metadata": {
            "tags": []
          }
        },
        {
          "output_type": "display_data",
          "data": {
            "text/html": [
              "<span style=\"color:blue\"> |-units_input: 736</span>"
            ],
            "text/plain": [
              "<IPython.core.display.HTML object>"
            ]
          },
          "metadata": {
            "tags": []
          }
        },
        {
          "output_type": "stream",
          "text": [
            "Epoch 1/20\n",
            "188/188 [==============================] - 2s 10ms/step - loss: 0.5513 - accuracy: 0.8031 - val_loss: 0.3877 - val_accuracy: 0.8570\n",
            "Epoch 2/20\n",
            "188/188 [==============================] - 2s 8ms/step - loss: 0.3822 - accuracy: 0.8602 - val_loss: 0.3726 - val_accuracy: 0.8637\n",
            "Epoch 3/20\n",
            "188/188 [==============================] - 1s 8ms/step - loss: 0.3459 - accuracy: 0.8743 - val_loss: 0.3710 - val_accuracy: 0.8636\n",
            "Epoch 4/20\n",
            "188/188 [==============================] - 1s 8ms/step - loss: 0.3147 - accuracy: 0.8829 - val_loss: 0.3410 - val_accuracy: 0.8752\n",
            "Epoch 5/20\n",
            "188/188 [==============================] - 1s 7ms/step - loss: 0.3002 - accuracy: 0.8887 - val_loss: 0.3374 - val_accuracy: 0.8715\n",
            "Epoch 6/20\n",
            "188/188 [==============================] - 2s 8ms/step - loss: 0.2838 - accuracy: 0.8932 - val_loss: 0.3206 - val_accuracy: 0.8863\n",
            "Epoch 7/20\n",
            "188/188 [==============================] - 1s 7ms/step - loss: 0.2608 - accuracy: 0.9035 - val_loss: 0.3255 - val_accuracy: 0.8804\n",
            "Epoch 8/20\n",
            "188/188 [==============================] - 1s 8ms/step - loss: 0.2493 - accuracy: 0.9073 - val_loss: 0.3173 - val_accuracy: 0.8837\n",
            "Epoch 9/20\n",
            "188/188 [==============================] - 1s 8ms/step - loss: 0.2374 - accuracy: 0.9099 - val_loss: 0.3549 - val_accuracy: 0.8744\n",
            "Epoch 10/20\n",
            "188/188 [==============================] - 1s 7ms/step - loss: 0.2226 - accuracy: 0.9158 - val_loss: 0.3366 - val_accuracy: 0.8802\n",
            "Epoch 11/20\n",
            "188/188 [==============================] - 1s 8ms/step - loss: 0.2124 - accuracy: 0.9210 - val_loss: 0.3247 - val_accuracy: 0.8873\n",
            "Epoch 12/20\n",
            "188/188 [==============================] - 2s 8ms/step - loss: 0.2020 - accuracy: 0.9243 - val_loss: 0.3240 - val_accuracy: 0.8878\n",
            "Epoch 13/20\n",
            "188/188 [==============================] - 1s 8ms/step - loss: 0.1953 - accuracy: 0.9255 - val_loss: 0.3081 - val_accuracy: 0.8947\n",
            "Epoch 14/20\n",
            "188/188 [==============================] - 1s 7ms/step - loss: 0.1920 - accuracy: 0.9280 - val_loss: 0.3561 - val_accuracy: 0.8810\n",
            "Epoch 15/20\n",
            "188/188 [==============================] - 1s 7ms/step - loss: 0.1809 - accuracy: 0.9324 - val_loss: 0.3113 - val_accuracy: 0.8938\n",
            "Epoch 16/20\n",
            "188/188 [==============================] - 1s 8ms/step - loss: 0.1725 - accuracy: 0.9356 - val_loss: 0.3178 - val_accuracy: 0.8927\n",
            "Epoch 17/20\n",
            "188/188 [==============================] - 1s 8ms/step - loss: 0.1656 - accuracy: 0.9384 - val_loss: 0.3315 - val_accuracy: 0.8933\n",
            "Epoch 18/20\n",
            "188/188 [==============================] - 1s 7ms/step - loss: 0.1503 - accuracy: 0.9444 - val_loss: 0.3494 - val_accuracy: 0.8814\n",
            "Epoch 19/20\n",
            "188/188 [==============================] - 1s 8ms/step - loss: 0.1484 - accuracy: 0.9436 - val_loss: 0.3240 - val_accuracy: 0.8904\n",
            "Epoch 20/20\n",
            "188/188 [==============================] - 1s 8ms/step - loss: 0.1376 - accuracy: 0.9500 - val_loss: 0.3262 - val_accuracy: 0.8935\n"
          ],
          "name": "stdout"
        },
        {
          "output_type": "display_data",
          "data": {
            "text/html": [
              "<span style=\"color:#4527A0\"><h1 style=\"font-size:18px\">Trial complete</h1></span>"
            ],
            "text/plain": [
              "<IPython.core.display.HTML object>"
            ]
          },
          "metadata": {
            "tags": []
          }
        },
        {
          "output_type": "display_data",
          "data": {
            "text/html": [
              "<span style=\"color:#4527A0\"><h1 style=\"font-size:18px\">Trial summary</h1></span>"
            ],
            "text/plain": [
              "<IPython.core.display.HTML object>"
            ]
          },
          "metadata": {
            "tags": []
          }
        },
        {
          "output_type": "display_data",
          "data": {
            "text/html": [
              "<span style=\"color:cyan\"> |-Trial ID: 356e550bbc6d15acba12766bc8bf66d9</span>"
            ],
            "text/plain": [
              "<IPython.core.display.HTML object>"
            ]
          },
          "metadata": {
            "tags": []
          }
        },
        {
          "output_type": "display_data",
          "data": {
            "text/html": [
              "<span style=\"color:cyan\"> |-Score: 0.8947499990463257</span>"
            ],
            "text/plain": [
              "<IPython.core.display.HTML object>"
            ]
          },
          "metadata": {
            "tags": []
          }
        },
        {
          "output_type": "display_data",
          "data": {
            "text/html": [
              "<span style=\"color:cyan\"> |-Best step: 0</span>"
            ],
            "text/plain": [
              "<IPython.core.display.HTML object>"
            ]
          },
          "metadata": {
            "tags": []
          }
        },
        {
          "output_type": "display_data",
          "data": {
            "text/html": [
              "<span style=\"color:#7E57C2\"><h2 style=\"font-size:16px\">Hyperparameters:</h2></span>"
            ],
            "text/plain": [
              "<IPython.core.display.HTML object>"
            ]
          },
          "metadata": {
            "tags": []
          }
        },
        {
          "output_type": "display_data",
          "data": {
            "text/html": [
              "<span style=\"color:cyan\"> |-activation: tanh</span>"
            ],
            "text/plain": [
              "<IPython.core.display.HTML object>"
            ]
          },
          "metadata": {
            "tags": []
          }
        },
        {
          "output_type": "display_data",
          "data": {
            "text/html": [
              "<span style=\"color:blue\"> |-optimizer: adam</span>"
            ],
            "text/plain": [
              "<IPython.core.display.HTML object>"
            ]
          },
          "metadata": {
            "tags": []
          }
        },
        {
          "output_type": "display_data",
          "data": {
            "text/html": [
              "<span style=\"color:cyan\"> |-units_hidden: 384</span>"
            ],
            "text/plain": [
              "<IPython.core.display.HTML object>"
            ]
          },
          "metadata": {
            "tags": []
          }
        },
        {
          "output_type": "display_data",
          "data": {
            "text/html": [
              "<span style=\"color:blue\"> |-units_input: 992</span>"
            ],
            "text/plain": [
              "<IPython.core.display.HTML object>"
            ]
          },
          "metadata": {
            "tags": []
          }
        },
        {
          "output_type": "stream",
          "text": [
            "Epoch 1/20\n",
            "188/188 [==============================] - 1s 8ms/step - loss: 1.0746 - accuracy: 0.6780 - val_loss: 0.7419 - val_accuracy: 0.7639\n",
            "Epoch 2/20\n",
            "188/188 [==============================] - 1s 7ms/step - loss: 0.6695 - accuracy: 0.7829 - val_loss: 0.6117 - val_accuracy: 0.7945\n",
            "Epoch 3/20\n",
            "188/188 [==============================] - 1s 7ms/step - loss: 0.5818 - accuracy: 0.8059 - val_loss: 0.5557 - val_accuracy: 0.8099\n",
            "Epoch 4/20\n",
            "188/188 [==============================] - 1s 7ms/step - loss: 0.5362 - accuracy: 0.8175 - val_loss: 0.5243 - val_accuracy: 0.8169\n",
            "Epoch 5/20\n",
            "188/188 [==============================] - 1s 6ms/step - loss: 0.5079 - accuracy: 0.8250 - val_loss: 0.5014 - val_accuracy: 0.8234\n",
            "Epoch 6/20\n",
            "188/188 [==============================] - 1s 7ms/step - loss: 0.4884 - accuracy: 0.8308 - val_loss: 0.4855 - val_accuracy: 0.8298\n",
            "Epoch 7/20\n",
            "188/188 [==============================] - 1s 7ms/step - loss: 0.4732 - accuracy: 0.8356 - val_loss: 0.4740 - val_accuracy: 0.8307\n",
            "Epoch 8/20\n",
            "188/188 [==============================] - 1s 7ms/step - loss: 0.4612 - accuracy: 0.8393 - val_loss: 0.4655 - val_accuracy: 0.8317\n",
            "Epoch 9/20\n",
            "188/188 [==============================] - 1s 6ms/step - loss: 0.4521 - accuracy: 0.8422 - val_loss: 0.4617 - val_accuracy: 0.8337\n",
            "Epoch 10/20\n",
            "188/188 [==============================] - 1s 7ms/step - loss: 0.4436 - accuracy: 0.8449 - val_loss: 0.4510 - val_accuracy: 0.8396\n",
            "Epoch 11/20\n",
            "188/188 [==============================] - 1s 6ms/step - loss: 0.4360 - accuracy: 0.8470 - val_loss: 0.4416 - val_accuracy: 0.8444\n",
            "Epoch 12/20\n",
            "188/188 [==============================] - 1s 6ms/step - loss: 0.4300 - accuracy: 0.8477 - val_loss: 0.4367 - val_accuracy: 0.8444\n",
            "Epoch 13/20\n",
            "188/188 [==============================] - 1s 6ms/step - loss: 0.4249 - accuracy: 0.8505 - val_loss: 0.4339 - val_accuracy: 0.8453\n",
            "Epoch 14/20\n",
            "188/188 [==============================] - 1s 7ms/step - loss: 0.4194 - accuracy: 0.8517 - val_loss: 0.4284 - val_accuracy: 0.8478\n",
            "Epoch 15/20\n",
            "188/188 [==============================] - 1s 7ms/step - loss: 0.4142 - accuracy: 0.8547 - val_loss: 0.4271 - val_accuracy: 0.8474\n",
            "Epoch 16/20\n",
            "188/188 [==============================] - 1s 7ms/step - loss: 0.4096 - accuracy: 0.8558 - val_loss: 0.4208 - val_accuracy: 0.8509\n",
            "Epoch 17/20\n",
            "188/188 [==============================] - 1s 7ms/step - loss: 0.4058 - accuracy: 0.8569 - val_loss: 0.4206 - val_accuracy: 0.8497\n",
            "Epoch 18/20\n",
            "188/188 [==============================] - 1s 7ms/step - loss: 0.4022 - accuracy: 0.8584 - val_loss: 0.4150 - val_accuracy: 0.8508\n",
            "Epoch 19/20\n",
            "188/188 [==============================] - 1s 6ms/step - loss: 0.3982 - accuracy: 0.8602 - val_loss: 0.4143 - val_accuracy: 0.8540\n",
            "Epoch 20/20\n",
            "188/188 [==============================] - 1s 6ms/step - loss: 0.3953 - accuracy: 0.8608 - val_loss: 0.4131 - val_accuracy: 0.8521\n"
          ],
          "name": "stdout"
        },
        {
          "output_type": "display_data",
          "data": {
            "text/html": [
              "<span style=\"color:#4527A0\"><h1 style=\"font-size:18px\">Trial complete</h1></span>"
            ],
            "text/plain": [
              "<IPython.core.display.HTML object>"
            ]
          },
          "metadata": {
            "tags": []
          }
        },
        {
          "output_type": "display_data",
          "data": {
            "text/html": [
              "<span style=\"color:#4527A0\"><h1 style=\"font-size:18px\">Trial summary</h1></span>"
            ],
            "text/plain": [
              "<IPython.core.display.HTML object>"
            ]
          },
          "metadata": {
            "tags": []
          }
        },
        {
          "output_type": "display_data",
          "data": {
            "text/html": [
              "<span style=\"color:cyan\"> |-Trial ID: 34a1ca735e077ffdf36d9fa600195e1b</span>"
            ],
            "text/plain": [
              "<IPython.core.display.HTML object>"
            ]
          },
          "metadata": {
            "tags": []
          }
        },
        {
          "output_type": "display_data",
          "data": {
            "text/html": [
              "<span style=\"color:cyan\"> |-Score: 0.8539999723434448</span>"
            ],
            "text/plain": [
              "<IPython.core.display.HTML object>"
            ]
          },
          "metadata": {
            "tags": []
          }
        },
        {
          "output_type": "display_data",
          "data": {
            "text/html": [
              "<span style=\"color:cyan\"> |-Best step: 0</span>"
            ],
            "text/plain": [
              "<IPython.core.display.HTML object>"
            ]
          },
          "metadata": {
            "tags": []
          }
        },
        {
          "output_type": "display_data",
          "data": {
            "text/html": [
              "<span style=\"color:#7E57C2\"><h2 style=\"font-size:16px\">Hyperparameters:</h2></span>"
            ],
            "text/plain": [
              "<IPython.core.display.HTML object>"
            ]
          },
          "metadata": {
            "tags": []
          }
        },
        {
          "output_type": "display_data",
          "data": {
            "text/html": [
              "<span style=\"color:cyan\"> |-activation: tanh</span>"
            ],
            "text/plain": [
              "<IPython.core.display.HTML object>"
            ]
          },
          "metadata": {
            "tags": []
          }
        },
        {
          "output_type": "display_data",
          "data": {
            "text/html": [
              "<span style=\"color:blue\"> |-optimizer: SGD</span>"
            ],
            "text/plain": [
              "<IPython.core.display.HTML object>"
            ]
          },
          "metadata": {
            "tags": []
          }
        },
        {
          "output_type": "display_data",
          "data": {
            "text/html": [
              "<span style=\"color:cyan\"> |-units_hidden: 288</span>"
            ],
            "text/plain": [
              "<IPython.core.display.HTML object>"
            ]
          },
          "metadata": {
            "tags": []
          }
        },
        {
          "output_type": "display_data",
          "data": {
            "text/html": [
              "<span style=\"color:blue\"> |-units_input: 832</span>"
            ],
            "text/plain": [
              "<IPython.core.display.HTML object>"
            ]
          },
          "metadata": {
            "tags": []
          }
        },
        {
          "output_type": "stream",
          "text": [
            "Epoch 1/20\n",
            "188/188 [==============================] - 2s 8ms/step - loss: 0.5245 - accuracy: 0.8135 - val_loss: 0.4347 - val_accuracy: 0.8482\n",
            "Epoch 2/20\n",
            "188/188 [==============================] - 1s 8ms/step - loss: 0.3649 - accuracy: 0.8664 - val_loss: 0.3738 - val_accuracy: 0.8647\n",
            "Epoch 3/20\n",
            "188/188 [==============================] - 2s 8ms/step - loss: 0.3179 - accuracy: 0.8822 - val_loss: 0.3480 - val_accuracy: 0.8739\n",
            "Epoch 4/20\n",
            "188/188 [==============================] - 1s 8ms/step - loss: 0.2920 - accuracy: 0.8917 - val_loss: 0.3434 - val_accuracy: 0.8735\n",
            "Epoch 5/20\n",
            "188/188 [==============================] - 1s 8ms/step - loss: 0.2778 - accuracy: 0.8962 - val_loss: 0.3251 - val_accuracy: 0.8832\n",
            "Epoch 6/20\n",
            "188/188 [==============================] - 2s 8ms/step - loss: 0.2667 - accuracy: 0.8987 - val_loss: 0.3169 - val_accuracy: 0.8880\n",
            "Epoch 7/20\n",
            "188/188 [==============================] - 1s 8ms/step - loss: 0.2475 - accuracy: 0.9055 - val_loss: 0.3187 - val_accuracy: 0.8846\n",
            "Epoch 8/20\n",
            "188/188 [==============================] - 1s 8ms/step - loss: 0.2419 - accuracy: 0.9070 - val_loss: 0.3354 - val_accuracy: 0.8806\n",
            "Epoch 9/20\n",
            "188/188 [==============================] - 1s 8ms/step - loss: 0.2248 - accuracy: 0.9146 - val_loss: 0.3091 - val_accuracy: 0.8912\n",
            "Epoch 10/20\n",
            "188/188 [==============================] - 1s 8ms/step - loss: 0.2155 - accuracy: 0.9172 - val_loss: 0.3187 - val_accuracy: 0.8866\n",
            "Epoch 11/20\n",
            "188/188 [==============================] - 1s 8ms/step - loss: 0.2052 - accuracy: 0.9218 - val_loss: 0.3438 - val_accuracy: 0.8814\n",
            "Epoch 12/20\n",
            "188/188 [==============================] - 1s 8ms/step - loss: 0.1998 - accuracy: 0.9239 - val_loss: 0.3172 - val_accuracy: 0.8927\n",
            "Epoch 13/20\n",
            "188/188 [==============================] - 1s 8ms/step - loss: 0.1890 - accuracy: 0.9268 - val_loss: 0.3605 - val_accuracy: 0.8855\n",
            "Epoch 14/20\n",
            "188/188 [==============================] - 1s 7ms/step - loss: 0.1872 - accuracy: 0.9282 - val_loss: 0.3147 - val_accuracy: 0.8902\n",
            "Epoch 15/20\n",
            "188/188 [==============================] - 1s 8ms/step - loss: 0.1781 - accuracy: 0.9321 - val_loss: 0.3248 - val_accuracy: 0.8910\n",
            "Epoch 16/20\n",
            "188/188 [==============================] - 2s 8ms/step - loss: 0.1688 - accuracy: 0.9359 - val_loss: 0.3270 - val_accuracy: 0.8965\n",
            "Epoch 17/20\n",
            "188/188 [==============================] - 1s 8ms/step - loss: 0.1593 - accuracy: 0.9397 - val_loss: 0.3294 - val_accuracy: 0.8942\n",
            "Epoch 18/20\n",
            "188/188 [==============================] - 1s 8ms/step - loss: 0.1548 - accuracy: 0.9414 - val_loss: 0.3493 - val_accuracy: 0.8917\n",
            "Epoch 19/20\n",
            "188/188 [==============================] - 1s 8ms/step - loss: 0.1557 - accuracy: 0.9398 - val_loss: 0.3472 - val_accuracy: 0.8971\n",
            "Epoch 20/20\n",
            "188/188 [==============================] - 2s 8ms/step - loss: 0.1458 - accuracy: 0.9442 - val_loss: 0.3458 - val_accuracy: 0.8970\n"
          ],
          "name": "stdout"
        },
        {
          "output_type": "display_data",
          "data": {
            "text/html": [
              "<span style=\"color:#4527A0\"><h1 style=\"font-size:18px\">Trial complete</h1></span>"
            ],
            "text/plain": [
              "<IPython.core.display.HTML object>"
            ]
          },
          "metadata": {
            "tags": []
          }
        },
        {
          "output_type": "display_data",
          "data": {
            "text/html": [
              "<span style=\"color:#4527A0\"><h1 style=\"font-size:18px\">Trial summary</h1></span>"
            ],
            "text/plain": [
              "<IPython.core.display.HTML object>"
            ]
          },
          "metadata": {
            "tags": []
          }
        },
        {
          "output_type": "display_data",
          "data": {
            "text/html": [
              "<span style=\"color:cyan\"> |-Trial ID: 203e4fb59ec192feecd9803c24b5fa4c</span>"
            ],
            "text/plain": [
              "<IPython.core.display.HTML object>"
            ]
          },
          "metadata": {
            "tags": []
          }
        },
        {
          "output_type": "display_data",
          "data": {
            "text/html": [
              "<span style=\"color:cyan\"> |-Score: 0.8970833420753479</span>"
            ],
            "text/plain": [
              "<IPython.core.display.HTML object>"
            ]
          },
          "metadata": {
            "tags": []
          }
        },
        {
          "output_type": "display_data",
          "data": {
            "text/html": [
              "<span style=\"color:cyan\"> |-Best step: 0</span>"
            ],
            "text/plain": [
              "<IPython.core.display.HTML object>"
            ]
          },
          "metadata": {
            "tags": []
          }
        },
        {
          "output_type": "display_data",
          "data": {
            "text/html": [
              "<span style=\"color:#7E57C2\"><h2 style=\"font-size:16px\">Hyperparameters:</h2></span>"
            ],
            "text/plain": [
              "<IPython.core.display.HTML object>"
            ]
          },
          "metadata": {
            "tags": []
          }
        },
        {
          "output_type": "display_data",
          "data": {
            "text/html": [
              "<span style=\"color:cyan\"> |-activation: relu</span>"
            ],
            "text/plain": [
              "<IPython.core.display.HTML object>"
            ]
          },
          "metadata": {
            "tags": []
          }
        },
        {
          "output_type": "display_data",
          "data": {
            "text/html": [
              "<span style=\"color:blue\"> |-optimizer: adam</span>"
            ],
            "text/plain": [
              "<IPython.core.display.HTML object>"
            ]
          },
          "metadata": {
            "tags": []
          }
        },
        {
          "output_type": "display_data",
          "data": {
            "text/html": [
              "<span style=\"color:cyan\"> |-units_hidden: 448</span>"
            ],
            "text/plain": [
              "<IPython.core.display.HTML object>"
            ]
          },
          "metadata": {
            "tags": []
          }
        },
        {
          "output_type": "display_data",
          "data": {
            "text/html": [
              "<span style=\"color:blue\"> |-units_input: 800</span>"
            ],
            "text/plain": [
              "<IPython.core.display.HTML object>"
            ]
          },
          "metadata": {
            "tags": []
          }
        },
        {
          "output_type": "stream",
          "text": [
            "Epoch 1/20\n",
            "188/188 [==============================] - 2s 9ms/step - loss: 0.6847 - accuracy: 0.7499 - val_loss: 0.4642 - val_accuracy: 0.8282\n",
            "Epoch 2/20\n",
            "188/188 [==============================] - 2s 9ms/step - loss: 0.4389 - accuracy: 0.8382 - val_loss: 0.4291 - val_accuracy: 0.8314\n",
            "Epoch 3/20\n",
            "188/188 [==============================] - 2s 9ms/step - loss: 0.3784 - accuracy: 0.8588 - val_loss: 0.3835 - val_accuracy: 0.8612\n",
            "Epoch 4/20\n",
            "188/188 [==============================] - 2s 9ms/step - loss: 0.3396 - accuracy: 0.8727 - val_loss: 0.4090 - val_accuracy: 0.8522\n",
            "Epoch 5/20\n",
            "188/188 [==============================] - 2s 9ms/step - loss: 0.3142 - accuracy: 0.8825 - val_loss: 0.3799 - val_accuracy: 0.8727\n",
            "Epoch 6/20\n",
            "188/188 [==============================] - 2s 8ms/step - loss: 0.2982 - accuracy: 0.8879 - val_loss: 0.3528 - val_accuracy: 0.8696\n",
            "Epoch 7/20\n",
            "188/188 [==============================] - 2s 9ms/step - loss: 0.2796 - accuracy: 0.8941 - val_loss: 0.3555 - val_accuracy: 0.8783\n",
            "Epoch 8/20\n",
            "188/188 [==============================] - 2s 9ms/step - loss: 0.2684 - accuracy: 0.8979 - val_loss: 0.3525 - val_accuracy: 0.8849\n",
            "Epoch 9/20\n",
            "188/188 [==============================] - 2s 9ms/step - loss: 0.2573 - accuracy: 0.9045 - val_loss: 0.5893 - val_accuracy: 0.8447\n",
            "Epoch 10/20\n",
            "188/188 [==============================] - 2s 9ms/step - loss: 0.2450 - accuracy: 0.9069 - val_loss: 0.3752 - val_accuracy: 0.8742\n",
            "Epoch 11/20\n",
            "188/188 [==============================] - 2s 9ms/step - loss: 0.2368 - accuracy: 0.9099 - val_loss: 0.3776 - val_accuracy: 0.8850\n",
            "Epoch 12/20\n",
            "188/188 [==============================] - 2s 9ms/step - loss: 0.2283 - accuracy: 0.9131 - val_loss: 0.4918 - val_accuracy: 0.8668\n",
            "Epoch 13/20\n",
            "188/188 [==============================] - 2s 9ms/step - loss: 0.2251 - accuracy: 0.9150 - val_loss: 0.3805 - val_accuracy: 0.8842\n",
            "Epoch 14/20\n",
            "188/188 [==============================] - 2s 9ms/step - loss: 0.2162 - accuracy: 0.9184 - val_loss: 0.5294 - val_accuracy: 0.8754\n",
            "Epoch 15/20\n",
            "188/188 [==============================] - 2s 9ms/step - loss: 0.2151 - accuracy: 0.9195 - val_loss: 0.4398 - val_accuracy: 0.8844\n",
            "Epoch 16/20\n",
            "188/188 [==============================] - 2s 9ms/step - loss: 0.2103 - accuracy: 0.9226 - val_loss: 0.5366 - val_accuracy: 0.8799\n",
            "Epoch 17/20\n",
            "188/188 [==============================] - 2s 9ms/step - loss: 0.2018 - accuracy: 0.9244 - val_loss: 0.4215 - val_accuracy: 0.8896\n",
            "Epoch 18/20\n",
            "188/188 [==============================] - 2s 8ms/step - loss: 0.2016 - accuracy: 0.9259 - val_loss: 0.5000 - val_accuracy: 0.8815\n",
            "Epoch 19/20\n",
            "188/188 [==============================] - 2s 9ms/step - loss: 0.1989 - accuracy: 0.9270 - val_loss: 0.4705 - val_accuracy: 0.8945\n",
            "Epoch 20/20\n",
            "188/188 [==============================] - 2s 9ms/step - loss: 0.1899 - accuracy: 0.9275 - val_loss: 0.5585 - val_accuracy: 0.8932\n"
          ],
          "name": "stdout"
        },
        {
          "output_type": "display_data",
          "data": {
            "text/html": [
              "<span style=\"color:#4527A0\"><h1 style=\"font-size:18px\">Trial complete</h1></span>"
            ],
            "text/plain": [
              "<IPython.core.display.HTML object>"
            ]
          },
          "metadata": {
            "tags": []
          }
        },
        {
          "output_type": "display_data",
          "data": {
            "text/html": [
              "<span style=\"color:#4527A0\"><h1 style=\"font-size:18px\">Trial summary</h1></span>"
            ],
            "text/plain": [
              "<IPython.core.display.HTML object>"
            ]
          },
          "metadata": {
            "tags": []
          }
        },
        {
          "output_type": "display_data",
          "data": {
            "text/html": [
              "<span style=\"color:cyan\"> |-Trial ID: d8d3cff8a20c8b636e130367111a1495</span>"
            ],
            "text/plain": [
              "<IPython.core.display.HTML object>"
            ]
          },
          "metadata": {
            "tags": []
          }
        },
        {
          "output_type": "display_data",
          "data": {
            "text/html": [
              "<span style=\"color:cyan\"> |-Score: 0.8945000171661377</span>"
            ],
            "text/plain": [
              "<IPython.core.display.HTML object>"
            ]
          },
          "metadata": {
            "tags": []
          }
        },
        {
          "output_type": "display_data",
          "data": {
            "text/html": [
              "<span style=\"color:cyan\"> |-Best step: 0</span>"
            ],
            "text/plain": [
              "<IPython.core.display.HTML object>"
            ]
          },
          "metadata": {
            "tags": []
          }
        },
        {
          "output_type": "display_data",
          "data": {
            "text/html": [
              "<span style=\"color:#7E57C2\"><h2 style=\"font-size:16px\">Hyperparameters:</h2></span>"
            ],
            "text/plain": [
              "<IPython.core.display.HTML object>"
            ]
          },
          "metadata": {
            "tags": []
          }
        },
        {
          "output_type": "display_data",
          "data": {
            "text/html": [
              "<span style=\"color:cyan\"> |-activation: relu</span>"
            ],
            "text/plain": [
              "<IPython.core.display.HTML object>"
            ]
          },
          "metadata": {
            "tags": []
          }
        },
        {
          "output_type": "display_data",
          "data": {
            "text/html": [
              "<span style=\"color:blue\"> |-optimizer: rmsprop</span>"
            ],
            "text/plain": [
              "<IPython.core.display.HTML object>"
            ]
          },
          "metadata": {
            "tags": []
          }
        },
        {
          "output_type": "display_data",
          "data": {
            "text/html": [
              "<span style=\"color:cyan\"> |-units_hidden: 544</span>"
            ],
            "text/plain": [
              "<IPython.core.display.HTML object>"
            ]
          },
          "metadata": {
            "tags": []
          }
        },
        {
          "output_type": "display_data",
          "data": {
            "text/html": [
              "<span style=\"color:blue\"> |-units_input: 640</span>"
            ],
            "text/plain": [
              "<IPython.core.display.HTML object>"
            ]
          },
          "metadata": {
            "tags": []
          }
        },
        {
          "output_type": "stream",
          "text": [
            "Epoch 1/20\n",
            "188/188 [==============================] - 2s 8ms/step - loss: 0.5416 - accuracy: 0.8056 - val_loss: 0.4161 - val_accuracy: 0.8511\n",
            "Epoch 2/20\n",
            "188/188 [==============================] - 1s 7ms/step - loss: 0.3636 - accuracy: 0.8676 - val_loss: 0.3474 - val_accuracy: 0.8724\n",
            "Epoch 3/20\n",
            "188/188 [==============================] - 1s 7ms/step - loss: 0.3268 - accuracy: 0.8794 - val_loss: 0.3382 - val_accuracy: 0.8753\n",
            "Epoch 4/20\n",
            "188/188 [==============================] - 1s 7ms/step - loss: 0.2969 - accuracy: 0.8896 - val_loss: 0.3348 - val_accuracy: 0.8774\n",
            "Epoch 5/20\n",
            "188/188 [==============================] - 1s 7ms/step - loss: 0.2791 - accuracy: 0.8945 - val_loss: 0.3221 - val_accuracy: 0.8823\n",
            "Epoch 6/20\n",
            "188/188 [==============================] - 1s 7ms/step - loss: 0.2644 - accuracy: 0.9004 - val_loss: 0.3088 - val_accuracy: 0.8878\n",
            "Epoch 7/20\n",
            "188/188 [==============================] - 1s 7ms/step - loss: 0.2498 - accuracy: 0.9067 - val_loss: 0.3343 - val_accuracy: 0.8789\n",
            "Epoch 8/20\n",
            "188/188 [==============================] - 1s 7ms/step - loss: 0.2334 - accuracy: 0.9125 - val_loss: 0.3090 - val_accuracy: 0.8873\n",
            "Epoch 9/20\n",
            "188/188 [==============================] - 1s 7ms/step - loss: 0.2303 - accuracy: 0.9140 - val_loss: 0.3243 - val_accuracy: 0.8828\n",
            "Epoch 10/20\n",
            "188/188 [==============================] - 1s 7ms/step - loss: 0.2186 - accuracy: 0.9171 - val_loss: 0.3206 - val_accuracy: 0.8870\n",
            "Epoch 11/20\n",
            "188/188 [==============================] - 1s 7ms/step - loss: 0.2092 - accuracy: 0.9201 - val_loss: 0.3131 - val_accuracy: 0.8913\n",
            "Epoch 12/20\n",
            "188/188 [==============================] - 1s 8ms/step - loss: 0.1970 - accuracy: 0.9243 - val_loss: 0.3250 - val_accuracy: 0.8923\n",
            "Epoch 13/20\n",
            "188/188 [==============================] - 1s 7ms/step - loss: 0.1873 - accuracy: 0.9292 - val_loss: 0.3183 - val_accuracy: 0.8923\n",
            "Epoch 14/20\n",
            "188/188 [==============================] - 1s 7ms/step - loss: 0.1823 - accuracy: 0.9309 - val_loss: 0.3100 - val_accuracy: 0.8944\n",
            "Epoch 15/20\n",
            "188/188 [==============================] - 1s 7ms/step - loss: 0.1753 - accuracy: 0.9333 - val_loss: 0.3337 - val_accuracy: 0.8973\n",
            "Epoch 16/20\n",
            "188/188 [==============================] - 1s 7ms/step - loss: 0.1691 - accuracy: 0.9358 - val_loss: 0.3300 - val_accuracy: 0.8969\n",
            "Epoch 17/20\n",
            "188/188 [==============================] - 1s 7ms/step - loss: 0.1634 - accuracy: 0.9378 - val_loss: 0.3317 - val_accuracy: 0.8893\n",
            "Epoch 18/20\n",
            "188/188 [==============================] - 1s 8ms/step - loss: 0.1545 - accuracy: 0.9406 - val_loss: 0.3602 - val_accuracy: 0.8881\n",
            "Epoch 19/20\n",
            "188/188 [==============================] - 1s 8ms/step - loss: 0.1480 - accuracy: 0.9427 - val_loss: 0.3698 - val_accuracy: 0.8879\n",
            "Epoch 20/20\n",
            "188/188 [==============================] - 2s 8ms/step - loss: 0.1462 - accuracy: 0.9436 - val_loss: 0.3498 - val_accuracy: 0.8962\n"
          ],
          "name": "stdout"
        },
        {
          "output_type": "display_data",
          "data": {
            "text/html": [
              "<span style=\"color:#4527A0\"><h1 style=\"font-size:18px\">Trial complete</h1></span>"
            ],
            "text/plain": [
              "<IPython.core.display.HTML object>"
            ]
          },
          "metadata": {
            "tags": []
          }
        },
        {
          "output_type": "display_data",
          "data": {
            "text/html": [
              "<span style=\"color:#4527A0\"><h1 style=\"font-size:18px\">Trial summary</h1></span>"
            ],
            "text/plain": [
              "<IPython.core.display.HTML object>"
            ]
          },
          "metadata": {
            "tags": []
          }
        },
        {
          "output_type": "display_data",
          "data": {
            "text/html": [
              "<span style=\"color:cyan\"> |-Trial ID: 4a0022402ec8015cf6c6814c1903e6ce</span>"
            ],
            "text/plain": [
              "<IPython.core.display.HTML object>"
            ]
          },
          "metadata": {
            "tags": []
          }
        },
        {
          "output_type": "display_data",
          "data": {
            "text/html": [
              "<span style=\"color:cyan\"> |-Score: 0.8973333239555359</span>"
            ],
            "text/plain": [
              "<IPython.core.display.HTML object>"
            ]
          },
          "metadata": {
            "tags": []
          }
        },
        {
          "output_type": "display_data",
          "data": {
            "text/html": [
              "<span style=\"color:cyan\"> |-Best step: 0</span>"
            ],
            "text/plain": [
              "<IPython.core.display.HTML object>"
            ]
          },
          "metadata": {
            "tags": []
          }
        },
        {
          "output_type": "display_data",
          "data": {
            "text/html": [
              "<span style=\"color:#7E57C2\"><h2 style=\"font-size:16px\">Hyperparameters:</h2></span>"
            ],
            "text/plain": [
              "<IPython.core.display.HTML object>"
            ]
          },
          "metadata": {
            "tags": []
          }
        },
        {
          "output_type": "display_data",
          "data": {
            "text/html": [
              "<span style=\"color:cyan\"> |-activation: relu</span>"
            ],
            "text/plain": [
              "<IPython.core.display.HTML object>"
            ]
          },
          "metadata": {
            "tags": []
          }
        },
        {
          "output_type": "display_data",
          "data": {
            "text/html": [
              "<span style=\"color:blue\"> |-optimizer: adam</span>"
            ],
            "text/plain": [
              "<IPython.core.display.HTML object>"
            ]
          },
          "metadata": {
            "tags": []
          }
        },
        {
          "output_type": "display_data",
          "data": {
            "text/html": [
              "<span style=\"color:cyan\"> |-units_hidden: 416</span>"
            ],
            "text/plain": [
              "<IPython.core.display.HTML object>"
            ]
          },
          "metadata": {
            "tags": []
          }
        },
        {
          "output_type": "display_data",
          "data": {
            "text/html": [
              "<span style=\"color:blue\"> |-units_input: 608</span>"
            ],
            "text/plain": [
              "<IPython.core.display.HTML object>"
            ]
          },
          "metadata": {
            "tags": []
          }
        },
        {
          "output_type": "stream",
          "text": [
            "Epoch 1/20\n",
            "188/188 [==============================] - 2s 8ms/step - loss: 0.5354 - accuracy: 0.8067 - val_loss: 0.4407 - val_accuracy: 0.8426\n",
            "Epoch 2/20\n",
            "188/188 [==============================] - 1s 7ms/step - loss: 0.3834 - accuracy: 0.8589 - val_loss: 0.4105 - val_accuracy: 0.8494\n",
            "Epoch 3/20\n",
            "188/188 [==============================] - 1s 7ms/step - loss: 0.3467 - accuracy: 0.8719 - val_loss: 0.3614 - val_accuracy: 0.8671\n",
            "Epoch 4/20\n",
            "188/188 [==============================] - 1s 7ms/step - loss: 0.3156 - accuracy: 0.8847 - val_loss: 0.3620 - val_accuracy: 0.8680\n",
            "Epoch 5/20\n",
            "188/188 [==============================] - 1s 7ms/step - loss: 0.2993 - accuracy: 0.8872 - val_loss: 0.3260 - val_accuracy: 0.8792\n",
            "Epoch 6/20\n",
            "188/188 [==============================] - 1s 8ms/step - loss: 0.2766 - accuracy: 0.8961 - val_loss: 0.3077 - val_accuracy: 0.8906\n",
            "Epoch 7/20\n",
            "188/188 [==============================] - 1s 7ms/step - loss: 0.2584 - accuracy: 0.9031 - val_loss: 0.3130 - val_accuracy: 0.8825\n",
            "Epoch 8/20\n",
            "188/188 [==============================] - 1s 7ms/step - loss: 0.2462 - accuracy: 0.9083 - val_loss: 0.3097 - val_accuracy: 0.8876\n",
            "Epoch 9/20\n",
            "188/188 [==============================] - 1s 7ms/step - loss: 0.2336 - accuracy: 0.9117 - val_loss: 0.3094 - val_accuracy: 0.8901\n",
            "Epoch 10/20\n",
            "188/188 [==============================] - 1s 7ms/step - loss: 0.2262 - accuracy: 0.9149 - val_loss: 0.3140 - val_accuracy: 0.8884\n",
            "Epoch 11/20\n",
            "188/188 [==============================] - 1s 7ms/step - loss: 0.2140 - accuracy: 0.9196 - val_loss: 0.3066 - val_accuracy: 0.8887\n",
            "Epoch 12/20\n",
            "188/188 [==============================] - 1s 7ms/step - loss: 0.2005 - accuracy: 0.9253 - val_loss: 0.3044 - val_accuracy: 0.8918\n",
            "Epoch 13/20\n",
            "188/188 [==============================] - 1s 7ms/step - loss: 0.1982 - accuracy: 0.9262 - val_loss: 0.2972 - val_accuracy: 0.8953\n",
            "Epoch 14/20\n",
            "188/188 [==============================] - 1s 7ms/step - loss: 0.1821 - accuracy: 0.9311 - val_loss: 0.3199 - val_accuracy: 0.8899\n",
            "Epoch 15/20\n",
            "188/188 [==============================] - 1s 7ms/step - loss: 0.1685 - accuracy: 0.9367 - val_loss: 0.3261 - val_accuracy: 0.8881\n",
            "Epoch 16/20\n",
            "188/188 [==============================] - 1s 7ms/step - loss: 0.1597 - accuracy: 0.9399 - val_loss: 0.3215 - val_accuracy: 0.8939\n",
            "Epoch 17/20\n",
            "188/188 [==============================] - 1s 7ms/step - loss: 0.1543 - accuracy: 0.9420 - val_loss: 0.3092 - val_accuracy: 0.8922\n",
            "Epoch 18/20\n",
            "188/188 [==============================] - 1s 7ms/step - loss: 0.1489 - accuracy: 0.9432 - val_loss: 0.3197 - val_accuracy: 0.8959\n",
            "Epoch 19/20\n",
            "188/188 [==============================] - 1s 7ms/step - loss: 0.1357 - accuracy: 0.9489 - val_loss: 0.3434 - val_accuracy: 0.8863\n",
            "Epoch 20/20\n",
            "188/188 [==============================] - 1s 7ms/step - loss: 0.1360 - accuracy: 0.9490 - val_loss: 0.3227 - val_accuracy: 0.8945\n"
          ],
          "name": "stdout"
        },
        {
          "output_type": "display_data",
          "data": {
            "text/html": [
              "<span style=\"color:#4527A0\"><h1 style=\"font-size:18px\">Trial complete</h1></span>"
            ],
            "text/plain": [
              "<IPython.core.display.HTML object>"
            ]
          },
          "metadata": {
            "tags": []
          }
        },
        {
          "output_type": "display_data",
          "data": {
            "text/html": [
              "<span style=\"color:#4527A0\"><h1 style=\"font-size:18px\">Trial summary</h1></span>"
            ],
            "text/plain": [
              "<IPython.core.display.HTML object>"
            ]
          },
          "metadata": {
            "tags": []
          }
        },
        {
          "output_type": "display_data",
          "data": {
            "text/html": [
              "<span style=\"color:cyan\"> |-Trial ID: 60170ab235a9b6a9ae1813f5abe4b08d</span>"
            ],
            "text/plain": [
              "<IPython.core.display.HTML object>"
            ]
          },
          "metadata": {
            "tags": []
          }
        },
        {
          "output_type": "display_data",
          "data": {
            "text/html": [
              "<span style=\"color:cyan\"> |-Score: 0.8959166407585144</span>"
            ],
            "text/plain": [
              "<IPython.core.display.HTML object>"
            ]
          },
          "metadata": {
            "tags": []
          }
        },
        {
          "output_type": "display_data",
          "data": {
            "text/html": [
              "<span style=\"color:cyan\"> |-Best step: 0</span>"
            ],
            "text/plain": [
              "<IPython.core.display.HTML object>"
            ]
          },
          "metadata": {
            "tags": []
          }
        },
        {
          "output_type": "display_data",
          "data": {
            "text/html": [
              "<span style=\"color:#7E57C2\"><h2 style=\"font-size:16px\">Hyperparameters:</h2></span>"
            ],
            "text/plain": [
              "<IPython.core.display.HTML object>"
            ]
          },
          "metadata": {
            "tags": []
          }
        },
        {
          "output_type": "display_data",
          "data": {
            "text/html": [
              "<span style=\"color:cyan\"> |-activation: tanh</span>"
            ],
            "text/plain": [
              "<IPython.core.display.HTML object>"
            ]
          },
          "metadata": {
            "tags": []
          }
        },
        {
          "output_type": "display_data",
          "data": {
            "text/html": [
              "<span style=\"color:blue\"> |-optimizer: adam</span>"
            ],
            "text/plain": [
              "<IPython.core.display.HTML object>"
            ]
          },
          "metadata": {
            "tags": []
          }
        },
        {
          "output_type": "display_data",
          "data": {
            "text/html": [
              "<span style=\"color:cyan\"> |-units_hidden: 352</span>"
            ],
            "text/plain": [
              "<IPython.core.display.HTML object>"
            ]
          },
          "metadata": {
            "tags": []
          }
        },
        {
          "output_type": "display_data",
          "data": {
            "text/html": [
              "<span style=\"color:blue\"> |-units_input: 672</span>"
            ],
            "text/plain": [
              "<IPython.core.display.HTML object>"
            ]
          },
          "metadata": {
            "tags": []
          }
        },
        {
          "output_type": "stream",
          "text": [
            "Epoch 1/20\n",
            "188/188 [==============================] - 2s 8ms/step - loss: 1.0019 - accuracy: 0.6936 - val_loss: 0.6923 - val_accuracy: 0.7785\n",
            "Epoch 2/20\n",
            "188/188 [==============================] - 1s 8ms/step - loss: 0.6361 - accuracy: 0.7930 - val_loss: 0.5871 - val_accuracy: 0.8033\n",
            "Epoch 3/20\n",
            "188/188 [==============================] - 1s 8ms/step - loss: 0.5604 - accuracy: 0.8124 - val_loss: 0.5360 - val_accuracy: 0.8173\n",
            "Epoch 4/20\n",
            "188/188 [==============================] - 1s 8ms/step - loss: 0.5216 - accuracy: 0.8221 - val_loss: 0.5128 - val_accuracy: 0.8219\n",
            "Epoch 5/20\n",
            "188/188 [==============================] - 1s 7ms/step - loss: 0.4973 - accuracy: 0.8296 - val_loss: 0.5020 - val_accuracy: 0.8235\n",
            "Epoch 6/20\n",
            "188/188 [==============================] - 1s 8ms/step - loss: 0.4807 - accuracy: 0.8354 - val_loss: 0.4961 - val_accuracy: 0.8262\n",
            "Epoch 7/20\n",
            "188/188 [==============================] - 1s 7ms/step - loss: 0.4682 - accuracy: 0.8380 - val_loss: 0.4677 - val_accuracy: 0.8341\n",
            "Epoch 8/20\n",
            "188/188 [==============================] - 1s 8ms/step - loss: 0.4580 - accuracy: 0.8407 - val_loss: 0.4641 - val_accuracy: 0.8347\n",
            "Epoch 9/20\n",
            "188/188 [==============================] - 1s 8ms/step - loss: 0.4497 - accuracy: 0.8439 - val_loss: 0.4552 - val_accuracy: 0.8399\n",
            "Epoch 10/20\n",
            "188/188 [==============================] - 1s 8ms/step - loss: 0.4427 - accuracy: 0.8455 - val_loss: 0.4512 - val_accuracy: 0.8411\n",
            "Epoch 11/20\n",
            "188/188 [==============================] - 1s 8ms/step - loss: 0.4361 - accuracy: 0.8491 - val_loss: 0.4421 - val_accuracy: 0.8443\n",
            "Epoch 12/20\n",
            "188/188 [==============================] - 1s 8ms/step - loss: 0.4311 - accuracy: 0.8510 - val_loss: 0.4395 - val_accuracy: 0.8451\n",
            "Epoch 13/20\n",
            "188/188 [==============================] - 1s 8ms/step - loss: 0.4272 - accuracy: 0.8508 - val_loss: 0.4373 - val_accuracy: 0.8461\n",
            "Epoch 14/20\n",
            "188/188 [==============================] - 1s 7ms/step - loss: 0.4217 - accuracy: 0.8532 - val_loss: 0.4500 - val_accuracy: 0.8419\n",
            "Epoch 15/20\n",
            "188/188 [==============================] - 1s 7ms/step - loss: 0.4176 - accuracy: 0.8550 - val_loss: 0.4587 - val_accuracy: 0.8361\n",
            "Epoch 16/20\n",
            "188/188 [==============================] - 1s 8ms/step - loss: 0.4147 - accuracy: 0.8553 - val_loss: 0.4374 - val_accuracy: 0.8429\n",
            "Epoch 17/20\n",
            "188/188 [==============================] - 1s 8ms/step - loss: 0.4109 - accuracy: 0.8563 - val_loss: 0.4264 - val_accuracy: 0.8482\n",
            "Epoch 18/20\n",
            "188/188 [==============================] - 1s 8ms/step - loss: 0.4077 - accuracy: 0.8570 - val_loss: 0.4272 - val_accuracy: 0.8483\n",
            "Epoch 19/20\n",
            "188/188 [==============================] - 1s 8ms/step - loss: 0.4051 - accuracy: 0.8585 - val_loss: 0.4190 - val_accuracy: 0.8493\n",
            "Epoch 20/20\n",
            "188/188 [==============================] - 1s 8ms/step - loss: 0.4036 - accuracy: 0.8581 - val_loss: 0.4320 - val_accuracy: 0.8474\n"
          ],
          "name": "stdout"
        },
        {
          "output_type": "display_data",
          "data": {
            "text/html": [
              "<span style=\"color:#4527A0\"><h1 style=\"font-size:18px\">Trial complete</h1></span>"
            ],
            "text/plain": [
              "<IPython.core.display.HTML object>"
            ]
          },
          "metadata": {
            "tags": []
          }
        },
        {
          "output_type": "display_data",
          "data": {
            "text/html": [
              "<span style=\"color:#4527A0\"><h1 style=\"font-size:18px\">Trial summary</h1></span>"
            ],
            "text/plain": [
              "<IPython.core.display.HTML object>"
            ]
          },
          "metadata": {
            "tags": []
          }
        },
        {
          "output_type": "display_data",
          "data": {
            "text/html": [
              "<span style=\"color:cyan\"> |-Trial ID: fd39e7312cd45f7df71b86d701d0b864</span>"
            ],
            "text/plain": [
              "<IPython.core.display.HTML object>"
            ]
          },
          "metadata": {
            "tags": []
          }
        },
        {
          "output_type": "display_data",
          "data": {
            "text/html": [
              "<span style=\"color:cyan\"> |-Score: 0.8493333458900452</span>"
            ],
            "text/plain": [
              "<IPython.core.display.HTML object>"
            ]
          },
          "metadata": {
            "tags": []
          }
        },
        {
          "output_type": "display_data",
          "data": {
            "text/html": [
              "<span style=\"color:cyan\"> |-Best step: 0</span>"
            ],
            "text/plain": [
              "<IPython.core.display.HTML object>"
            ]
          },
          "metadata": {
            "tags": []
          }
        },
        {
          "output_type": "display_data",
          "data": {
            "text/html": [
              "<span style=\"color:#7E57C2\"><h2 style=\"font-size:16px\">Hyperparameters:</h2></span>"
            ],
            "text/plain": [
              "<IPython.core.display.HTML object>"
            ]
          },
          "metadata": {
            "tags": []
          }
        },
        {
          "output_type": "display_data",
          "data": {
            "text/html": [
              "<span style=\"color:cyan\"> |-activation: elu</span>"
            ],
            "text/plain": [
              "<IPython.core.display.HTML object>"
            ]
          },
          "metadata": {
            "tags": []
          }
        },
        {
          "output_type": "display_data",
          "data": {
            "text/html": [
              "<span style=\"color:blue\"> |-optimizer: SGD</span>"
            ],
            "text/plain": [
              "<IPython.core.display.HTML object>"
            ]
          },
          "metadata": {
            "tags": []
          }
        },
        {
          "output_type": "display_data",
          "data": {
            "text/html": [
              "<span style=\"color:cyan\"> |-units_hidden: 576</span>"
            ],
            "text/plain": [
              "<IPython.core.display.HTML object>"
            ]
          },
          "metadata": {
            "tags": []
          }
        },
        {
          "output_type": "display_data",
          "data": {
            "text/html": [
              "<span style=\"color:blue\"> |-units_input: 832</span>"
            ],
            "text/plain": [
              "<IPython.core.display.HTML object>"
            ]
          },
          "metadata": {
            "tags": []
          }
        },
        {
          "output_type": "stream",
          "text": [
            "Epoch 1/20\n",
            "188/188 [==============================] - 2s 8ms/step - loss: 0.6837 - accuracy: 0.7435 - val_loss: 0.6005 - val_accuracy: 0.7768\n",
            "Epoch 2/20\n",
            "188/188 [==============================] - 2s 8ms/step - loss: 0.4371 - accuracy: 0.8346 - val_loss: 0.4869 - val_accuracy: 0.8119\n",
            "Epoch 3/20\n",
            "188/188 [==============================] - 1s 8ms/step - loss: 0.3776 - accuracy: 0.8602 - val_loss: 0.3850 - val_accuracy: 0.8563\n",
            "Epoch 4/20\n",
            "188/188 [==============================] - 2s 8ms/step - loss: 0.3419 - accuracy: 0.8719 - val_loss: 0.4123 - val_accuracy: 0.8545\n",
            "Epoch 5/20\n",
            "188/188 [==============================] - 1s 8ms/step - loss: 0.3148 - accuracy: 0.8806 - val_loss: 0.3450 - val_accuracy: 0.8798\n",
            "Epoch 6/20\n",
            "188/188 [==============================] - 1s 8ms/step - loss: 0.2941 - accuracy: 0.8891 - val_loss: 0.3702 - val_accuracy: 0.8707\n",
            "Epoch 7/20\n",
            "188/188 [==============================] - 1s 8ms/step - loss: 0.2783 - accuracy: 0.8951 - val_loss: 0.3669 - val_accuracy: 0.8661\n",
            "Epoch 8/20\n",
            "188/188 [==============================] - 1s 8ms/step - loss: 0.2670 - accuracy: 0.8984 - val_loss: 0.3793 - val_accuracy: 0.8729\n",
            "Epoch 9/20\n",
            "188/188 [==============================] - 1s 8ms/step - loss: 0.2525 - accuracy: 0.9052 - val_loss: 0.3542 - val_accuracy: 0.8790\n",
            "Epoch 10/20\n",
            "188/188 [==============================] - 2s 8ms/step - loss: 0.2419 - accuracy: 0.9072 - val_loss: 0.3776 - val_accuracy: 0.8792\n",
            "Epoch 11/20\n",
            "188/188 [==============================] - 1s 8ms/step - loss: 0.2329 - accuracy: 0.9098 - val_loss: 0.4177 - val_accuracy: 0.8708\n",
            "Epoch 12/20\n",
            "188/188 [==============================] - 1s 7ms/step - loss: 0.2241 - accuracy: 0.9140 - val_loss: 0.4001 - val_accuracy: 0.8778\n",
            "Epoch 13/20\n",
            "188/188 [==============================] - 1s 8ms/step - loss: 0.2146 - accuracy: 0.9181 - val_loss: 0.4647 - val_accuracy: 0.8525\n",
            "Epoch 14/20\n",
            "188/188 [==============================] - 1s 8ms/step - loss: 0.2087 - accuracy: 0.9203 - val_loss: 0.3623 - val_accuracy: 0.8932\n",
            "Epoch 15/20\n",
            "188/188 [==============================] - 1s 8ms/step - loss: 0.2004 - accuracy: 0.9240 - val_loss: 0.3703 - val_accuracy: 0.8917\n",
            "Epoch 16/20\n",
            "188/188 [==============================] - 1s 8ms/step - loss: 0.1949 - accuracy: 0.9252 - val_loss: 0.4799 - val_accuracy: 0.8892\n",
            "Epoch 17/20\n",
            "188/188 [==============================] - 1s 8ms/step - loss: 0.1896 - accuracy: 0.9274 - val_loss: 0.4418 - val_accuracy: 0.8875\n",
            "Epoch 18/20\n",
            "188/188 [==============================] - 1s 7ms/step - loss: 0.1837 - accuracy: 0.9304 - val_loss: 0.4158 - val_accuracy: 0.8929\n",
            "Epoch 19/20\n",
            "188/188 [==============================] - 1s 8ms/step - loss: 0.1793 - accuracy: 0.9317 - val_loss: 0.3997 - val_accuracy: 0.8941\n",
            "Epoch 20/20\n",
            "188/188 [==============================] - 1s 8ms/step - loss: 0.1723 - accuracy: 0.9340 - val_loss: 0.3724 - val_accuracy: 0.8969\n"
          ],
          "name": "stdout"
        },
        {
          "output_type": "display_data",
          "data": {
            "text/html": [
              "<span style=\"color:#4527A0\"><h1 style=\"font-size:18px\">Trial complete</h1></span>"
            ],
            "text/plain": [
              "<IPython.core.display.HTML object>"
            ]
          },
          "metadata": {
            "tags": []
          }
        },
        {
          "output_type": "display_data",
          "data": {
            "text/html": [
              "<span style=\"color:#4527A0\"><h1 style=\"font-size:18px\">Trial summary</h1></span>"
            ],
            "text/plain": [
              "<IPython.core.display.HTML object>"
            ]
          },
          "metadata": {
            "tags": []
          }
        },
        {
          "output_type": "display_data",
          "data": {
            "text/html": [
              "<span style=\"color:cyan\"> |-Trial ID: 450748dd1c786134f4be6d1819c6f4ea</span>"
            ],
            "text/plain": [
              "<IPython.core.display.HTML object>"
            ]
          },
          "metadata": {
            "tags": []
          }
        },
        {
          "output_type": "display_data",
          "data": {
            "text/html": [
              "<span style=\"color:cyan\"> |-Score: 0.8969166874885559</span>"
            ],
            "text/plain": [
              "<IPython.core.display.HTML object>"
            ]
          },
          "metadata": {
            "tags": []
          }
        },
        {
          "output_type": "display_data",
          "data": {
            "text/html": [
              "<span style=\"color:cyan\"> |-Best step: 0</span>"
            ],
            "text/plain": [
              "<IPython.core.display.HTML object>"
            ]
          },
          "metadata": {
            "tags": []
          }
        },
        {
          "output_type": "display_data",
          "data": {
            "text/html": [
              "<span style=\"color:#7E57C2\"><h2 style=\"font-size:16px\">Hyperparameters:</h2></span>"
            ],
            "text/plain": [
              "<IPython.core.display.HTML object>"
            ]
          },
          "metadata": {
            "tags": []
          }
        },
        {
          "output_type": "display_data",
          "data": {
            "text/html": [
              "<span style=\"color:cyan\"> |-activation: relu</span>"
            ],
            "text/plain": [
              "<IPython.core.display.HTML object>"
            ]
          },
          "metadata": {
            "tags": []
          }
        },
        {
          "output_type": "display_data",
          "data": {
            "text/html": [
              "<span style=\"color:blue\"> |-optimizer: rmsprop</span>"
            ],
            "text/plain": [
              "<IPython.core.display.HTML object>"
            ]
          },
          "metadata": {
            "tags": []
          }
        },
        {
          "output_type": "display_data",
          "data": {
            "text/html": [
              "<span style=\"color:cyan\"> |-units_hidden: 224</span>"
            ],
            "text/plain": [
              "<IPython.core.display.HTML object>"
            ]
          },
          "metadata": {
            "tags": []
          }
        },
        {
          "output_type": "display_data",
          "data": {
            "text/html": [
              "<span style=\"color:blue\"> |-units_input: 704</span>"
            ],
            "text/plain": [
              "<IPython.core.display.HTML object>"
            ]
          },
          "metadata": {
            "tags": []
          }
        },
        {
          "output_type": "stream",
          "text": [
            "Epoch 1/20\n",
            "188/188 [==============================] - 2s 9ms/step - loss: 0.9190 - accuracy: 0.6578 - val_loss: 0.6396 - val_accuracy: 0.7460\n",
            "Epoch 2/20\n",
            "188/188 [==============================] - 1s 8ms/step - loss: 0.5367 - accuracy: 0.8005 - val_loss: 0.5219 - val_accuracy: 0.8090\n",
            "Epoch 3/20\n",
            "188/188 [==============================] - 2s 8ms/step - loss: 0.4727 - accuracy: 0.8276 - val_loss: 0.4867 - val_accuracy: 0.8232\n",
            "Epoch 4/20\n",
            "188/188 [==============================] - 2s 8ms/step - loss: 0.4340 - accuracy: 0.8406 - val_loss: 0.5127 - val_accuracy: 0.8143\n",
            "Epoch 5/20\n",
            "188/188 [==============================] - 2s 8ms/step - loss: 0.4053 - accuracy: 0.8501 - val_loss: 0.4268 - val_accuracy: 0.8434\n",
            "Epoch 6/20\n",
            "188/188 [==============================] - 2s 8ms/step - loss: 0.3846 - accuracy: 0.8599 - val_loss: 0.3778 - val_accuracy: 0.8619\n",
            "Epoch 7/20\n",
            "188/188 [==============================] - 2s 8ms/step - loss: 0.3667 - accuracy: 0.8653 - val_loss: 0.4025 - val_accuracy: 0.8503\n",
            "Epoch 8/20\n",
            "188/188 [==============================] - 1s 8ms/step - loss: 0.3510 - accuracy: 0.8713 - val_loss: 0.3921 - val_accuracy: 0.8518\n",
            "Epoch 9/20\n",
            "188/188 [==============================] - 1s 8ms/step - loss: 0.3391 - accuracy: 0.8758 - val_loss: 0.3960 - val_accuracy: 0.8529\n",
            "Epoch 10/20\n",
            "188/188 [==============================] - 2s 8ms/step - loss: 0.3286 - accuracy: 0.8789 - val_loss: 0.3825 - val_accuracy: 0.8633\n",
            "Epoch 11/20\n",
            "188/188 [==============================] - 1s 8ms/step - loss: 0.3165 - accuracy: 0.8834 - val_loss: 0.3753 - val_accuracy: 0.8627\n",
            "Epoch 12/20\n",
            "188/188 [==============================] - 1s 8ms/step - loss: 0.3068 - accuracy: 0.8860 - val_loss: 0.3568 - val_accuracy: 0.8696\n",
            "Epoch 13/20\n",
            "188/188 [==============================] - 2s 8ms/step - loss: 0.2989 - accuracy: 0.8879 - val_loss: 0.3197 - val_accuracy: 0.8852\n",
            "Epoch 14/20\n",
            "188/188 [==============================] - 2s 8ms/step - loss: 0.2880 - accuracy: 0.8920 - val_loss: 0.3458 - val_accuracy: 0.8703\n",
            "Epoch 15/20\n",
            "188/188 [==============================] - 1s 8ms/step - loss: 0.2806 - accuracy: 0.8954 - val_loss: 0.3305 - val_accuracy: 0.8792\n",
            "Epoch 16/20\n",
            "188/188 [==============================] - 2s 8ms/step - loss: 0.2736 - accuracy: 0.8976 - val_loss: 0.3397 - val_accuracy: 0.8795\n",
            "Epoch 17/20\n",
            "188/188 [==============================] - 2s 8ms/step - loss: 0.2652 - accuracy: 0.9014 - val_loss: 0.3519 - val_accuracy: 0.8728\n",
            "Epoch 18/20\n",
            "188/188 [==============================] - 2s 8ms/step - loss: 0.2597 - accuracy: 0.9025 - val_loss: 0.3239 - val_accuracy: 0.8832\n",
            "Epoch 19/20\n",
            "188/188 [==============================] - 1s 8ms/step - loss: 0.2519 - accuracy: 0.9048 - val_loss: 0.3493 - val_accuracy: 0.8776\n",
            "Epoch 20/20\n",
            "188/188 [==============================] - 2s 8ms/step - loss: 0.2479 - accuracy: 0.9056 - val_loss: 0.3214 - val_accuracy: 0.8842\n"
          ],
          "name": "stdout"
        },
        {
          "output_type": "display_data",
          "data": {
            "text/html": [
              "<span style=\"color:#4527A0\"><h1 style=\"font-size:18px\">Trial complete</h1></span>"
            ],
            "text/plain": [
              "<IPython.core.display.HTML object>"
            ]
          },
          "metadata": {
            "tags": []
          }
        },
        {
          "output_type": "display_data",
          "data": {
            "text/html": [
              "<span style=\"color:#4527A0\"><h1 style=\"font-size:18px\">Trial summary</h1></span>"
            ],
            "text/plain": [
              "<IPython.core.display.HTML object>"
            ]
          },
          "metadata": {
            "tags": []
          }
        },
        {
          "output_type": "display_data",
          "data": {
            "text/html": [
              "<span style=\"color:cyan\"> |-Trial ID: 372f77eeada005e9695e3af73c9e0954</span>"
            ],
            "text/plain": [
              "<IPython.core.display.HTML object>"
            ]
          },
          "metadata": {
            "tags": []
          }
        },
        {
          "output_type": "display_data",
          "data": {
            "text/html": [
              "<span style=\"color:cyan\"> |-Score: 0.8851666450500488</span>"
            ],
            "text/plain": [
              "<IPython.core.display.HTML object>"
            ]
          },
          "metadata": {
            "tags": []
          }
        },
        {
          "output_type": "display_data",
          "data": {
            "text/html": [
              "<span style=\"color:cyan\"> |-Best step: 0</span>"
            ],
            "text/plain": [
              "<IPython.core.display.HTML object>"
            ]
          },
          "metadata": {
            "tags": []
          }
        },
        {
          "output_type": "display_data",
          "data": {
            "text/html": [
              "<span style=\"color:#7E57C2\"><h2 style=\"font-size:16px\">Hyperparameters:</h2></span>"
            ],
            "text/plain": [
              "<IPython.core.display.HTML object>"
            ]
          },
          "metadata": {
            "tags": []
          }
        },
        {
          "output_type": "display_data",
          "data": {
            "text/html": [
              "<span style=\"color:cyan\"> |-activation: sigmoid</span>"
            ],
            "text/plain": [
              "<IPython.core.display.HTML object>"
            ]
          },
          "metadata": {
            "tags": []
          }
        },
        {
          "output_type": "display_data",
          "data": {
            "text/html": [
              "<span style=\"color:blue\"> |-optimizer: rmsprop</span>"
            ],
            "text/plain": [
              "<IPython.core.display.HTML object>"
            ]
          },
          "metadata": {
            "tags": []
          }
        },
        {
          "output_type": "display_data",
          "data": {
            "text/html": [
              "<span style=\"color:cyan\"> |-units_hidden: 352</span>"
            ],
            "text/plain": [
              "<IPython.core.display.HTML object>"
            ]
          },
          "metadata": {
            "tags": []
          }
        },
        {
          "output_type": "display_data",
          "data": {
            "text/html": [
              "<span style=\"color:blue\"> |-units_input: 704</span>"
            ],
            "text/plain": [
              "<IPython.core.display.HTML object>"
            ]
          },
          "metadata": {
            "tags": []
          }
        },
        {
          "output_type": "stream",
          "text": [
            "Epoch 1/20\n",
            "188/188 [==============================] - 2s 8ms/step - loss: 0.5398 - accuracy: 0.8056 - val_loss: 0.4616 - val_accuracy: 0.8340\n",
            "Epoch 2/20\n",
            "188/188 [==============================] - 1s 7ms/step - loss: 0.4063 - accuracy: 0.8512 - val_loss: 0.3909 - val_accuracy: 0.8627\n",
            "Epoch 3/20\n",
            "188/188 [==============================] - 1s 8ms/step - loss: 0.3614 - accuracy: 0.8675 - val_loss: 0.3804 - val_accuracy: 0.8640\n",
            "Epoch 4/20\n",
            "188/188 [==============================] - 1s 8ms/step - loss: 0.3414 - accuracy: 0.8745 - val_loss: 0.3869 - val_accuracy: 0.8627\n",
            "Epoch 5/20\n",
            "188/188 [==============================] - 1s 8ms/step - loss: 0.3248 - accuracy: 0.8791 - val_loss: 0.3454 - val_accuracy: 0.8780\n",
            "Epoch 6/20\n",
            "188/188 [==============================] - 1s 8ms/step - loss: 0.2999 - accuracy: 0.8890 - val_loss: 0.3414 - val_accuracy: 0.8771\n",
            "Epoch 7/20\n",
            "188/188 [==============================] - 1s 7ms/step - loss: 0.2877 - accuracy: 0.8919 - val_loss: 0.3460 - val_accuracy: 0.8731\n",
            "Epoch 8/20\n",
            "188/188 [==============================] - 1s 7ms/step - loss: 0.2728 - accuracy: 0.8964 - val_loss: 0.3430 - val_accuracy: 0.8792\n",
            "Epoch 9/20\n",
            "188/188 [==============================] - 1s 8ms/step - loss: 0.2644 - accuracy: 0.9009 - val_loss: 0.3223 - val_accuracy: 0.8841\n",
            "Epoch 10/20\n",
            "188/188 [==============================] - 1s 8ms/step - loss: 0.2573 - accuracy: 0.9039 - val_loss: 0.3408 - val_accuracy: 0.8824\n",
            "Epoch 11/20\n",
            "188/188 [==============================] - 1s 8ms/step - loss: 0.2480 - accuracy: 0.9054 - val_loss: 0.3254 - val_accuracy: 0.8876\n",
            "Epoch 12/20\n",
            "188/188 [==============================] - 1s 8ms/step - loss: 0.2288 - accuracy: 0.9124 - val_loss: 0.3214 - val_accuracy: 0.8892\n",
            "Epoch 13/20\n",
            "188/188 [==============================] - 1s 7ms/step - loss: 0.2186 - accuracy: 0.9158 - val_loss: 0.3657 - val_accuracy: 0.8817\n",
            "Epoch 14/20\n",
            "188/188 [==============================] - 1s 8ms/step - loss: 0.2180 - accuracy: 0.9163 - val_loss: 0.3291 - val_accuracy: 0.8927\n",
            "Epoch 15/20\n",
            "188/188 [==============================] - 1s 7ms/step - loss: 0.2081 - accuracy: 0.9214 - val_loss: 0.3441 - val_accuracy: 0.8892\n",
            "Epoch 16/20\n",
            "188/188 [==============================] - 1s 7ms/step - loss: 0.1983 - accuracy: 0.9230 - val_loss: 0.3308 - val_accuracy: 0.8873\n",
            "Epoch 17/20\n",
            "188/188 [==============================] - 1s 7ms/step - loss: 0.1830 - accuracy: 0.9295 - val_loss: 0.3608 - val_accuracy: 0.8857\n",
            "Epoch 18/20\n",
            "188/188 [==============================] - 1s 8ms/step - loss: 0.1783 - accuracy: 0.9319 - val_loss: 0.3605 - val_accuracy: 0.8913\n",
            "Epoch 19/20\n",
            "188/188 [==============================] - 1s 8ms/step - loss: 0.1754 - accuracy: 0.9327 - val_loss: 0.3378 - val_accuracy: 0.8928\n",
            "Epoch 20/20\n",
            "188/188 [==============================] - 1s 7ms/step - loss: 0.1702 - accuracy: 0.9357 - val_loss: 0.3422 - val_accuracy: 0.8930\n"
          ],
          "name": "stdout"
        },
        {
          "output_type": "display_data",
          "data": {
            "text/html": [
              "<span style=\"color:#4527A0\"><h1 style=\"font-size:18px\">Trial complete</h1></span>"
            ],
            "text/plain": [
              "<IPython.core.display.HTML object>"
            ]
          },
          "metadata": {
            "tags": []
          }
        },
        {
          "output_type": "display_data",
          "data": {
            "text/html": [
              "<span style=\"color:#4527A0\"><h1 style=\"font-size:18px\">Trial summary</h1></span>"
            ],
            "text/plain": [
              "<IPython.core.display.HTML object>"
            ]
          },
          "metadata": {
            "tags": []
          }
        },
        {
          "output_type": "display_data",
          "data": {
            "text/html": [
              "<span style=\"color:cyan\"> |-Trial ID: efe0af5cdcc18eb087c628b57b05dccd</span>"
            ],
            "text/plain": [
              "<IPython.core.display.HTML object>"
            ]
          },
          "metadata": {
            "tags": []
          }
        },
        {
          "output_type": "display_data",
          "data": {
            "text/html": [
              "<span style=\"color:cyan\"> |-Score: 0.8930000066757202</span>"
            ],
            "text/plain": [
              "<IPython.core.display.HTML object>"
            ]
          },
          "metadata": {
            "tags": []
          }
        },
        {
          "output_type": "display_data",
          "data": {
            "text/html": [
              "<span style=\"color:cyan\"> |-Best step: 0</span>"
            ],
            "text/plain": [
              "<IPython.core.display.HTML object>"
            ]
          },
          "metadata": {
            "tags": []
          }
        },
        {
          "output_type": "display_data",
          "data": {
            "text/html": [
              "<span style=\"color:#7E57C2\"><h2 style=\"font-size:16px\">Hyperparameters:</h2></span>"
            ],
            "text/plain": [
              "<IPython.core.display.HTML object>"
            ]
          },
          "metadata": {
            "tags": []
          }
        },
        {
          "output_type": "display_data",
          "data": {
            "text/html": [
              "<span style=\"color:cyan\"> |-activation: elu</span>"
            ],
            "text/plain": [
              "<IPython.core.display.HTML object>"
            ]
          },
          "metadata": {
            "tags": []
          }
        },
        {
          "output_type": "display_data",
          "data": {
            "text/html": [
              "<span style=\"color:blue\"> |-optimizer: adam</span>"
            ],
            "text/plain": [
              "<IPython.core.display.HTML object>"
            ]
          },
          "metadata": {
            "tags": []
          }
        },
        {
          "output_type": "display_data",
          "data": {
            "text/html": [
              "<span style=\"color:cyan\"> |-units_hidden: 576</span>"
            ],
            "text/plain": [
              "<IPython.core.display.HTML object>"
            ]
          },
          "metadata": {
            "tags": []
          }
        },
        {
          "output_type": "display_data",
          "data": {
            "text/html": [
              "<span style=\"color:blue\"> |-units_input: 544</span>"
            ],
            "text/plain": [
              "<IPython.core.display.HTML object>"
            ]
          },
          "metadata": {
            "tags": []
          }
        },
        {
          "output_type": "stream",
          "text": [
            "Epoch 1/20\n",
            "188/188 [==============================] - 2s 8ms/step - loss: 0.6711 - accuracy: 0.7519 - val_loss: 0.5067 - val_accuracy: 0.8118\n",
            "Epoch 2/20\n",
            "188/188 [==============================] - 1s 7ms/step - loss: 0.4311 - accuracy: 0.8377 - val_loss: 0.4087 - val_accuracy: 0.8431\n",
            "Epoch 3/20\n",
            "188/188 [==============================] - 1s 8ms/step - loss: 0.3724 - accuracy: 0.8608 - val_loss: 0.3725 - val_accuracy: 0.8661\n",
            "Epoch 4/20\n",
            "188/188 [==============================] - 1s 8ms/step - loss: 0.3377 - accuracy: 0.8723 - val_loss: 0.5303 - val_accuracy: 0.8275\n",
            "Epoch 5/20\n",
            "188/188 [==============================] - 2s 8ms/step - loss: 0.3151 - accuracy: 0.8820 - val_loss: 0.3765 - val_accuracy: 0.8645\n",
            "Epoch 6/20\n",
            "188/188 [==============================] - 2s 8ms/step - loss: 0.2962 - accuracy: 0.8877 - val_loss: 0.3503 - val_accuracy: 0.8794\n",
            "Epoch 7/20\n",
            "188/188 [==============================] - 2s 8ms/step - loss: 0.2773 - accuracy: 0.8942 - val_loss: 0.3324 - val_accuracy: 0.8802\n",
            "Epoch 8/20\n",
            "188/188 [==============================] - 2s 8ms/step - loss: 0.2662 - accuracy: 0.9015 - val_loss: 0.3592 - val_accuracy: 0.8652\n",
            "Epoch 9/20\n",
            "188/188 [==============================] - 2s 8ms/step - loss: 0.2528 - accuracy: 0.9043 - val_loss: 0.4823 - val_accuracy: 0.8384\n",
            "Epoch 10/20\n",
            "188/188 [==============================] - 1s 7ms/step - loss: 0.2418 - accuracy: 0.9080 - val_loss: 0.3395 - val_accuracy: 0.8791\n",
            "Epoch 11/20\n",
            "188/188 [==============================] - 1s 7ms/step - loss: 0.2315 - accuracy: 0.9128 - val_loss: 0.3884 - val_accuracy: 0.8708\n",
            "Epoch 12/20\n",
            "188/188 [==============================] - 1s 7ms/step - loss: 0.2226 - accuracy: 0.9153 - val_loss: 0.3635 - val_accuracy: 0.8755\n",
            "Epoch 13/20\n",
            "188/188 [==============================] - 1s 7ms/step - loss: 0.2137 - accuracy: 0.9185 - val_loss: 0.5443 - val_accuracy: 0.8593\n",
            "Epoch 14/20\n",
            "188/188 [==============================] - 1s 7ms/step - loss: 0.2062 - accuracy: 0.9214 - val_loss: 0.5367 - val_accuracy: 0.8683\n",
            "Epoch 15/20\n",
            "188/188 [==============================] - 1s 7ms/step - loss: 0.2004 - accuracy: 0.9239 - val_loss: 0.4194 - val_accuracy: 0.8878\n",
            "Epoch 16/20\n",
            "188/188 [==============================] - 1s 7ms/step - loss: 0.1933 - accuracy: 0.9258 - val_loss: 0.4031 - val_accuracy: 0.8862\n",
            "Epoch 17/20\n",
            "188/188 [==============================] - 1s 8ms/step - loss: 0.1875 - accuracy: 0.9281 - val_loss: 0.3816 - val_accuracy: 0.8888\n",
            "Epoch 18/20\n",
            "188/188 [==============================] - 1s 8ms/step - loss: 0.1826 - accuracy: 0.9307 - val_loss: 0.3551 - val_accuracy: 0.8964\n",
            "Epoch 19/20\n",
            "188/188 [==============================] - 1s 7ms/step - loss: 0.1759 - accuracy: 0.9322 - val_loss: 0.3962 - val_accuracy: 0.8932\n",
            "Epoch 20/20\n",
            "188/188 [==============================] - 1s 7ms/step - loss: 0.1716 - accuracy: 0.9329 - val_loss: 0.4055 - val_accuracy: 0.8917\n"
          ],
          "name": "stdout"
        },
        {
          "output_type": "display_data",
          "data": {
            "text/html": [
              "<span style=\"color:#4527A0\"><h1 style=\"font-size:18px\">Trial complete</h1></span>"
            ],
            "text/plain": [
              "<IPython.core.display.HTML object>"
            ]
          },
          "metadata": {
            "tags": []
          }
        },
        {
          "output_type": "display_data",
          "data": {
            "text/html": [
              "<span style=\"color:#4527A0\"><h1 style=\"font-size:18px\">Trial summary</h1></span>"
            ],
            "text/plain": [
              "<IPython.core.display.HTML object>"
            ]
          },
          "metadata": {
            "tags": []
          }
        },
        {
          "output_type": "display_data",
          "data": {
            "text/html": [
              "<span style=\"color:cyan\"> |-Trial ID: 2a6c1103532b2ea3af1650db39cae9f8</span>"
            ],
            "text/plain": [
              "<IPython.core.display.HTML object>"
            ]
          },
          "metadata": {
            "tags": []
          }
        },
        {
          "output_type": "display_data",
          "data": {
            "text/html": [
              "<span style=\"color:cyan\"> |-Score: 0.8964166641235352</span>"
            ],
            "text/plain": [
              "<IPython.core.display.HTML object>"
            ]
          },
          "metadata": {
            "tags": []
          }
        },
        {
          "output_type": "display_data",
          "data": {
            "text/html": [
              "<span style=\"color:cyan\"> |-Best step: 0</span>"
            ],
            "text/plain": [
              "<IPython.core.display.HTML object>"
            ]
          },
          "metadata": {
            "tags": []
          }
        },
        {
          "output_type": "display_data",
          "data": {
            "text/html": [
              "<span style=\"color:#7E57C2\"><h2 style=\"font-size:16px\">Hyperparameters:</h2></span>"
            ],
            "text/plain": [
              "<IPython.core.display.HTML object>"
            ]
          },
          "metadata": {
            "tags": []
          }
        },
        {
          "output_type": "display_data",
          "data": {
            "text/html": [
              "<span style=\"color:cyan\"> |-activation: relu</span>"
            ],
            "text/plain": [
              "<IPython.core.display.HTML object>"
            ]
          },
          "metadata": {
            "tags": []
          }
        },
        {
          "output_type": "display_data",
          "data": {
            "text/html": [
              "<span style=\"color:blue\"> |-optimizer: rmsprop</span>"
            ],
            "text/plain": [
              "<IPython.core.display.HTML object>"
            ]
          },
          "metadata": {
            "tags": []
          }
        },
        {
          "output_type": "display_data",
          "data": {
            "text/html": [
              "<span style=\"color:cyan\"> |-units_hidden: 224</span>"
            ],
            "text/plain": [
              "<IPython.core.display.HTML object>"
            ]
          },
          "metadata": {
            "tags": []
          }
        },
        {
          "output_type": "display_data",
          "data": {
            "text/html": [
              "<span style=\"color:blue\"> |-units_input: 544</span>"
            ],
            "text/plain": [
              "<IPython.core.display.HTML object>"
            ]
          },
          "metadata": {
            "tags": []
          }
        },
        {
          "output_type": "stream",
          "text": [
            "Epoch 1/20\n",
            "188/188 [==============================] - 1s 8ms/step - loss: 0.5285 - accuracy: 0.8091 - val_loss: 0.4343 - val_accuracy: 0.8356\n",
            "Epoch 2/20\n",
            "188/188 [==============================] - 1s 7ms/step - loss: 0.3764 - accuracy: 0.8625 - val_loss: 0.3622 - val_accuracy: 0.8712\n",
            "Epoch 3/20\n",
            "188/188 [==============================] - 1s 7ms/step - loss: 0.3413 - accuracy: 0.8749 - val_loss: 0.3566 - val_accuracy: 0.8672\n",
            "Epoch 4/20\n",
            "188/188 [==============================] - 1s 7ms/step - loss: 0.3148 - accuracy: 0.8849 - val_loss: 0.3621 - val_accuracy: 0.8723\n",
            "Epoch 5/20\n",
            "188/188 [==============================] - 1s 7ms/step - loss: 0.2964 - accuracy: 0.8908 - val_loss: 0.3110 - val_accuracy: 0.8847\n",
            "Epoch 6/20\n",
            "188/188 [==============================] - 1s 7ms/step - loss: 0.2833 - accuracy: 0.8952 - val_loss: 0.3141 - val_accuracy: 0.8852\n",
            "Epoch 7/20\n",
            "188/188 [==============================] - 1s 7ms/step - loss: 0.2695 - accuracy: 0.8999 - val_loss: 0.3126 - val_accuracy: 0.8851\n",
            "Epoch 8/20\n",
            "188/188 [==============================] - 1s 7ms/step - loss: 0.2572 - accuracy: 0.9047 - val_loss: 0.3085 - val_accuracy: 0.8863\n",
            "Epoch 9/20\n",
            "188/188 [==============================] - 1s 7ms/step - loss: 0.2445 - accuracy: 0.9094 - val_loss: 0.3071 - val_accuracy: 0.8856\n",
            "Epoch 10/20\n",
            "188/188 [==============================] - 1s 7ms/step - loss: 0.2391 - accuracy: 0.9113 - val_loss: 0.3203 - val_accuracy: 0.8853\n",
            "Epoch 11/20\n",
            "188/188 [==============================] - 1s 7ms/step - loss: 0.2283 - accuracy: 0.9138 - val_loss: 0.3112 - val_accuracy: 0.8881\n",
            "Epoch 12/20\n",
            "188/188 [==============================] - 1s 7ms/step - loss: 0.2182 - accuracy: 0.9184 - val_loss: 0.3151 - val_accuracy: 0.8900\n",
            "Epoch 13/20\n",
            "188/188 [==============================] - 1s 7ms/step - loss: 0.2150 - accuracy: 0.9182 - val_loss: 0.3404 - val_accuracy: 0.8799\n",
            "Epoch 14/20\n",
            "188/188 [==============================] - 1s 7ms/step - loss: 0.2055 - accuracy: 0.9220 - val_loss: 0.3439 - val_accuracy: 0.8780\n",
            "Epoch 15/20\n",
            "188/188 [==============================] - 1s 7ms/step - loss: 0.2004 - accuracy: 0.9247 - val_loss: 0.3268 - val_accuracy: 0.8849\n",
            "Epoch 16/20\n",
            "188/188 [==============================] - 1s 7ms/step - loss: 0.1929 - accuracy: 0.9268 - val_loss: 0.3313 - val_accuracy: 0.8827\n",
            "Epoch 17/20\n",
            "188/188 [==============================] - 1s 7ms/step - loss: 0.1887 - accuracy: 0.9291 - val_loss: 0.3135 - val_accuracy: 0.8907\n",
            "Epoch 18/20\n",
            "188/188 [==============================] - 1s 7ms/step - loss: 0.1777 - accuracy: 0.9342 - val_loss: 0.3124 - val_accuracy: 0.8924\n",
            "Epoch 19/20\n",
            "188/188 [==============================] - 1s 7ms/step - loss: 0.1772 - accuracy: 0.9339 - val_loss: 0.3281 - val_accuracy: 0.8884\n",
            "Epoch 20/20\n",
            "188/188 [==============================] - 1s 7ms/step - loss: 0.1724 - accuracy: 0.9350 - val_loss: 0.3240 - val_accuracy: 0.8906\n"
          ],
          "name": "stdout"
        },
        {
          "output_type": "display_data",
          "data": {
            "text/html": [
              "<span style=\"color:#4527A0\"><h1 style=\"font-size:18px\">Trial complete</h1></span>"
            ],
            "text/plain": [
              "<IPython.core.display.HTML object>"
            ]
          },
          "metadata": {
            "tags": []
          }
        },
        {
          "output_type": "display_data",
          "data": {
            "text/html": [
              "<span style=\"color:#4527A0\"><h1 style=\"font-size:18px\">Trial summary</h1></span>"
            ],
            "text/plain": [
              "<IPython.core.display.HTML object>"
            ]
          },
          "metadata": {
            "tags": []
          }
        },
        {
          "output_type": "display_data",
          "data": {
            "text/html": [
              "<span style=\"color:cyan\"> |-Trial ID: 564fd6e797090f2dd984f4e5171c392e</span>"
            ],
            "text/plain": [
              "<IPython.core.display.HTML object>"
            ]
          },
          "metadata": {
            "tags": []
          }
        },
        {
          "output_type": "display_data",
          "data": {
            "text/html": [
              "<span style=\"color:cyan\"> |-Score: 0.8924166560173035</span>"
            ],
            "text/plain": [
              "<IPython.core.display.HTML object>"
            ]
          },
          "metadata": {
            "tags": []
          }
        },
        {
          "output_type": "display_data",
          "data": {
            "text/html": [
              "<span style=\"color:cyan\"> |-Best step: 0</span>"
            ],
            "text/plain": [
              "<IPython.core.display.HTML object>"
            ]
          },
          "metadata": {
            "tags": []
          }
        },
        {
          "output_type": "display_data",
          "data": {
            "text/html": [
              "<span style=\"color:#7E57C2\"><h2 style=\"font-size:16px\">Hyperparameters:</h2></span>"
            ],
            "text/plain": [
              "<IPython.core.display.HTML object>"
            ]
          },
          "metadata": {
            "tags": []
          }
        },
        {
          "output_type": "display_data",
          "data": {
            "text/html": [
              "<span style=\"color:cyan\"> |-activation: tanh</span>"
            ],
            "text/plain": [
              "<IPython.core.display.HTML object>"
            ]
          },
          "metadata": {
            "tags": []
          }
        },
        {
          "output_type": "display_data",
          "data": {
            "text/html": [
              "<span style=\"color:blue\"> |-optimizer: adam</span>"
            ],
            "text/plain": [
              "<IPython.core.display.HTML object>"
            ]
          },
          "metadata": {
            "tags": []
          }
        },
        {
          "output_type": "display_data",
          "data": {
            "text/html": [
              "<span style=\"color:cyan\"> |-units_hidden: 160</span>"
            ],
            "text/plain": [
              "<IPython.core.display.HTML object>"
            ]
          },
          "metadata": {
            "tags": []
          }
        },
        {
          "output_type": "display_data",
          "data": {
            "text/html": [
              "<span style=\"color:blue\"> |-units_input: 896</span>"
            ],
            "text/plain": [
              "<IPython.core.display.HTML object>"
            ]
          },
          "metadata": {
            "tags": []
          }
        },
        {
          "output_type": "stream",
          "text": [
            "Epoch 1/20\n",
            "188/188 [==============================] - 2s 8ms/step - loss: 0.9000 - accuracy: 0.6781 - val_loss: 0.5127 - val_accuracy: 0.8123\n",
            "Epoch 2/20\n",
            "188/188 [==============================] - 1s 8ms/step - loss: 0.4616 - accuracy: 0.8329 - val_loss: 0.4319 - val_accuracy: 0.8432\n",
            "Epoch 3/20\n",
            "188/188 [==============================] - 1s 8ms/step - loss: 0.4053 - accuracy: 0.8541 - val_loss: 0.3959 - val_accuracy: 0.8563\n",
            "Epoch 4/20\n",
            "188/188 [==============================] - 1s 8ms/step - loss: 0.3722 - accuracy: 0.8658 - val_loss: 0.3652 - val_accuracy: 0.8657\n",
            "Epoch 5/20\n",
            "188/188 [==============================] - 2s 8ms/step - loss: 0.3505 - accuracy: 0.8728 - val_loss: 0.3527 - val_accuracy: 0.8717\n",
            "Epoch 6/20\n",
            "188/188 [==============================] - 1s 7ms/step - loss: 0.3374 - accuracy: 0.8762 - val_loss: 0.3526 - val_accuracy: 0.8714\n",
            "Epoch 7/20\n",
            "188/188 [==============================] - 1s 8ms/step - loss: 0.3257 - accuracy: 0.8814 - val_loss: 0.3537 - val_accuracy: 0.8746\n",
            "Epoch 8/20\n",
            "188/188 [==============================] - 2s 8ms/step - loss: 0.3110 - accuracy: 0.8861 - val_loss: 0.3403 - val_accuracy: 0.8761\n",
            "Epoch 9/20\n",
            "188/188 [==============================] - 1s 8ms/step - loss: 0.3025 - accuracy: 0.8876 - val_loss: 0.3345 - val_accuracy: 0.8782\n",
            "Epoch 10/20\n",
            "188/188 [==============================] - 1s 8ms/step - loss: 0.2893 - accuracy: 0.8929 - val_loss: 0.3215 - val_accuracy: 0.8833\n",
            "Epoch 11/20\n",
            "188/188 [==============================] - 1s 8ms/step - loss: 0.2832 - accuracy: 0.8949 - val_loss: 0.3153 - val_accuracy: 0.8846\n",
            "Epoch 12/20\n",
            "188/188 [==============================] - 1s 7ms/step - loss: 0.2698 - accuracy: 0.9018 - val_loss: 0.3206 - val_accuracy: 0.8832\n",
            "Epoch 13/20\n",
            "188/188 [==============================] - 1s 8ms/step - loss: 0.2613 - accuracy: 0.9044 - val_loss: 0.3161 - val_accuracy: 0.8860\n",
            "Epoch 14/20\n",
            "188/188 [==============================] - 1s 8ms/step - loss: 0.2545 - accuracy: 0.9048 - val_loss: 0.3161 - val_accuracy: 0.8861\n",
            "Epoch 15/20\n",
            "188/188 [==============================] - 1s 8ms/step - loss: 0.2485 - accuracy: 0.9082 - val_loss: 0.3253 - val_accuracy: 0.8852\n",
            "Epoch 16/20\n",
            "188/188 [==============================] - 1s 8ms/step - loss: 0.2381 - accuracy: 0.9116 - val_loss: 0.3193 - val_accuracy: 0.8868\n",
            "Epoch 17/20\n",
            "188/188 [==============================] - 1s 8ms/step - loss: 0.2349 - accuracy: 0.9131 - val_loss: 0.3070 - val_accuracy: 0.8912\n",
            "Epoch 18/20\n",
            "188/188 [==============================] - 1s 8ms/step - loss: 0.2248 - accuracy: 0.9165 - val_loss: 0.3005 - val_accuracy: 0.8945\n",
            "Epoch 19/20\n",
            "188/188 [==============================] - 1s 7ms/step - loss: 0.2189 - accuracy: 0.9193 - val_loss: 0.3124 - val_accuracy: 0.8883\n",
            "Epoch 20/20\n",
            "188/188 [==============================] - 1s 8ms/step - loss: 0.2115 - accuracy: 0.9197 - val_loss: 0.3140 - val_accuracy: 0.8880\n"
          ],
          "name": "stdout"
        },
        {
          "output_type": "display_data",
          "data": {
            "text/html": [
              "<span style=\"color:#4527A0\"><h1 style=\"font-size:18px\">Trial complete</h1></span>"
            ],
            "text/plain": [
              "<IPython.core.display.HTML object>"
            ]
          },
          "metadata": {
            "tags": []
          }
        },
        {
          "output_type": "display_data",
          "data": {
            "text/html": [
              "<span style=\"color:#4527A0\"><h1 style=\"font-size:18px\">Trial summary</h1></span>"
            ],
            "text/plain": [
              "<IPython.core.display.HTML object>"
            ]
          },
          "metadata": {
            "tags": []
          }
        },
        {
          "output_type": "display_data",
          "data": {
            "text/html": [
              "<span style=\"color:cyan\"> |-Trial ID: c9d78bf51e1ee840b9723d8e264fffd2</span>"
            ],
            "text/plain": [
              "<IPython.core.display.HTML object>"
            ]
          },
          "metadata": {
            "tags": []
          }
        },
        {
          "output_type": "display_data",
          "data": {
            "text/html": [
              "<span style=\"color:cyan\"> |-Score: 0.8945000171661377</span>"
            ],
            "text/plain": [
              "<IPython.core.display.HTML object>"
            ]
          },
          "metadata": {
            "tags": []
          }
        },
        {
          "output_type": "display_data",
          "data": {
            "text/html": [
              "<span style=\"color:cyan\"> |-Best step: 0</span>"
            ],
            "text/plain": [
              "<IPython.core.display.HTML object>"
            ]
          },
          "metadata": {
            "tags": []
          }
        },
        {
          "output_type": "display_data",
          "data": {
            "text/html": [
              "<span style=\"color:#7E57C2\"><h2 style=\"font-size:16px\">Hyperparameters:</h2></span>"
            ],
            "text/plain": [
              "<IPython.core.display.HTML object>"
            ]
          },
          "metadata": {
            "tags": []
          }
        },
        {
          "output_type": "display_data",
          "data": {
            "text/html": [
              "<span style=\"color:cyan\"> |-activation: sigmoid</span>"
            ],
            "text/plain": [
              "<IPython.core.display.HTML object>"
            ]
          },
          "metadata": {
            "tags": []
          }
        },
        {
          "output_type": "display_data",
          "data": {
            "text/html": [
              "<span style=\"color:blue\"> |-optimizer: adam</span>"
            ],
            "text/plain": [
              "<IPython.core.display.HTML object>"
            ]
          },
          "metadata": {
            "tags": []
          }
        },
        {
          "output_type": "display_data",
          "data": {
            "text/html": [
              "<span style=\"color:cyan\"> |-units_hidden: 320</span>"
            ],
            "text/plain": [
              "<IPython.core.display.HTML object>"
            ]
          },
          "metadata": {
            "tags": []
          }
        },
        {
          "output_type": "display_data",
          "data": {
            "text/html": [
              "<span style=\"color:blue\"> |-units_input: 960</span>"
            ],
            "text/plain": [
              "<IPython.core.display.HTML object>"
            ]
          },
          "metadata": {
            "tags": []
          }
        },
        {
          "output_type": "stream",
          "text": [
            "Epoch 1/20\n",
            "188/188 [==============================] - 2s 9ms/step - loss: 0.6864 - accuracy: 0.7451 - val_loss: 0.5160 - val_accuracy: 0.8096\n",
            "Epoch 2/20\n",
            "188/188 [==============================] - 1s 8ms/step - loss: 0.4362 - accuracy: 0.8365 - val_loss: 0.4445 - val_accuracy: 0.8403\n",
            "Epoch 3/20\n",
            "188/188 [==============================] - 1s 8ms/step - loss: 0.3721 - accuracy: 0.8613 - val_loss: 0.3901 - val_accuracy: 0.8573\n",
            "Epoch 4/20\n",
            "188/188 [==============================] - 2s 8ms/step - loss: 0.3404 - accuracy: 0.8727 - val_loss: 0.3742 - val_accuracy: 0.8648\n",
            "Epoch 5/20\n",
            "188/188 [==============================] - 1s 8ms/step - loss: 0.3139 - accuracy: 0.8817 - val_loss: 0.3917 - val_accuracy: 0.8598\n",
            "Epoch 6/20\n",
            "188/188 [==============================] - 1s 8ms/step - loss: 0.2953 - accuracy: 0.8884 - val_loss: 0.3403 - val_accuracy: 0.8824\n",
            "Epoch 7/20\n",
            "188/188 [==============================] - 1s 8ms/step - loss: 0.2792 - accuracy: 0.8940 - val_loss: 0.3420 - val_accuracy: 0.8758\n",
            "Epoch 8/20\n",
            "188/188 [==============================] - 1s 7ms/step - loss: 0.2656 - accuracy: 0.8993 - val_loss: 0.3791 - val_accuracy: 0.8669\n",
            "Epoch 9/20\n",
            "188/188 [==============================] - 2s 8ms/step - loss: 0.2538 - accuracy: 0.9028 - val_loss: 0.3570 - val_accuracy: 0.8783\n",
            "Epoch 10/20\n",
            "188/188 [==============================] - 2s 8ms/step - loss: 0.2418 - accuracy: 0.9080 - val_loss: 0.3300 - val_accuracy: 0.8876\n",
            "Epoch 11/20\n",
            "188/188 [==============================] - 1s 8ms/step - loss: 0.2316 - accuracy: 0.9106 - val_loss: 0.3548 - val_accuracy: 0.8842\n",
            "Epoch 12/20\n",
            "188/188 [==============================] - 1s 8ms/step - loss: 0.2275 - accuracy: 0.9137 - val_loss: 0.3493 - val_accuracy: 0.8836\n",
            "Epoch 13/20\n",
            "188/188 [==============================] - 1s 8ms/step - loss: 0.2153 - accuracy: 0.9180 - val_loss: 0.4195 - val_accuracy: 0.8744\n",
            "Epoch 14/20\n",
            "188/188 [==============================] - 1s 8ms/step - loss: 0.2086 - accuracy: 0.9208 - val_loss: 0.4677 - val_accuracy: 0.8743\n",
            "Epoch 15/20\n",
            "188/188 [==============================] - 1s 8ms/step - loss: 0.2034 - accuracy: 0.9222 - val_loss: 0.4906 - val_accuracy: 0.8712\n",
            "Epoch 16/20\n",
            "188/188 [==============================] - 1s 8ms/step - loss: 0.1966 - accuracy: 0.9243 - val_loss: 0.3889 - val_accuracy: 0.8931\n",
            "Epoch 17/20\n",
            "188/188 [==============================] - 1s 8ms/step - loss: 0.1928 - accuracy: 0.9263 - val_loss: 0.4286 - val_accuracy: 0.8881\n",
            "Epoch 18/20\n",
            "188/188 [==============================] - 2s 8ms/step - loss: 0.1856 - accuracy: 0.9293 - val_loss: 0.3938 - val_accuracy: 0.8939\n",
            "Epoch 19/20\n",
            "188/188 [==============================] - 1s 8ms/step - loss: 0.1851 - accuracy: 0.9314 - val_loss: 0.4188 - val_accuracy: 0.8866\n",
            "Epoch 20/20\n",
            "188/188 [==============================] - 1s 8ms/step - loss: 0.1804 - accuracy: 0.9313 - val_loss: 0.4297 - val_accuracy: 0.8967\n"
          ],
          "name": "stdout"
        },
        {
          "output_type": "display_data",
          "data": {
            "text/html": [
              "<span style=\"color:#4527A0\"><h1 style=\"font-size:18px\">Trial complete</h1></span>"
            ],
            "text/plain": [
              "<IPython.core.display.HTML object>"
            ]
          },
          "metadata": {
            "tags": []
          }
        },
        {
          "output_type": "display_data",
          "data": {
            "text/html": [
              "<span style=\"color:#4527A0\"><h1 style=\"font-size:18px\">Trial summary</h1></span>"
            ],
            "text/plain": [
              "<IPython.core.display.HTML object>"
            ]
          },
          "metadata": {
            "tags": []
          }
        },
        {
          "output_type": "display_data",
          "data": {
            "text/html": [
              "<span style=\"color:cyan\"> |-Trial ID: b28f7b207c54175a6510e59c0ea77fb6</span>"
            ],
            "text/plain": [
              "<IPython.core.display.HTML object>"
            ]
          },
          "metadata": {
            "tags": []
          }
        },
        {
          "output_type": "display_data",
          "data": {
            "text/html": [
              "<span style=\"color:cyan\"> |-Score: 0.8966666460037231</span>"
            ],
            "text/plain": [
              "<IPython.core.display.HTML object>"
            ]
          },
          "metadata": {
            "tags": []
          }
        },
        {
          "output_type": "display_data",
          "data": {
            "text/html": [
              "<span style=\"color:cyan\"> |-Best step: 0</span>"
            ],
            "text/plain": [
              "<IPython.core.display.HTML object>"
            ]
          },
          "metadata": {
            "tags": []
          }
        },
        {
          "output_type": "display_data",
          "data": {
            "text/html": [
              "<span style=\"color:#7E57C2\"><h2 style=\"font-size:16px\">Hyperparameters:</h2></span>"
            ],
            "text/plain": [
              "<IPython.core.display.HTML object>"
            ]
          },
          "metadata": {
            "tags": []
          }
        },
        {
          "output_type": "display_data",
          "data": {
            "text/html": [
              "<span style=\"color:cyan\"> |-activation: relu</span>"
            ],
            "text/plain": [
              "<IPython.core.display.HTML object>"
            ]
          },
          "metadata": {
            "tags": []
          }
        },
        {
          "output_type": "display_data",
          "data": {
            "text/html": [
              "<span style=\"color:blue\"> |-optimizer: rmsprop</span>"
            ],
            "text/plain": [
              "<IPython.core.display.HTML object>"
            ]
          },
          "metadata": {
            "tags": []
          }
        },
        {
          "output_type": "display_data",
          "data": {
            "text/html": [
              "<span style=\"color:cyan\"> |-units_hidden: 288</span>"
            ],
            "text/plain": [
              "<IPython.core.display.HTML object>"
            ]
          },
          "metadata": {
            "tags": []
          }
        },
        {
          "output_type": "display_data",
          "data": {
            "text/html": [
              "<span style=\"color:blue\"> |-units_input: 672</span>"
            ],
            "text/plain": [
              "<IPython.core.display.HTML object>"
            ]
          },
          "metadata": {
            "tags": []
          }
        },
        {
          "output_type": "stream",
          "text": [
            "Epoch 1/20\n",
            "188/188 [==============================] - 2s 8ms/step - loss: 0.7403 - accuracy: 0.7472 - val_loss: 0.5814 - val_accuracy: 0.7857\n",
            "Epoch 2/20\n",
            "188/188 [==============================] - 1s 8ms/step - loss: 0.5144 - accuracy: 0.8217 - val_loss: 0.5132 - val_accuracy: 0.8151\n",
            "Epoch 3/20\n",
            "188/188 [==============================] - 1s 7ms/step - loss: 0.4754 - accuracy: 0.8341 - val_loss: 0.4581 - val_accuracy: 0.8368\n",
            "Epoch 4/20\n",
            "188/188 [==============================] - 1s 7ms/step - loss: 0.4491 - accuracy: 0.8416 - val_loss: 0.4525 - val_accuracy: 0.8381\n",
            "Epoch 5/20\n",
            "188/188 [==============================] - 1s 7ms/step - loss: 0.4336 - accuracy: 0.8464 - val_loss: 0.4329 - val_accuracy: 0.8451\n",
            "Epoch 6/20\n",
            "188/188 [==============================] - 1s 7ms/step - loss: 0.4199 - accuracy: 0.8504 - val_loss: 0.4470 - val_accuracy: 0.8382\n",
            "Epoch 7/20\n",
            "188/188 [==============================] - 1s 7ms/step - loss: 0.4116 - accuracy: 0.8555 - val_loss: 0.4444 - val_accuracy: 0.8388\n",
            "Epoch 8/20\n",
            "188/188 [==============================] - 1s 7ms/step - loss: 0.4027 - accuracy: 0.8578 - val_loss: 0.4171 - val_accuracy: 0.8513\n",
            "Epoch 9/20\n",
            "188/188 [==============================] - 1s 7ms/step - loss: 0.3969 - accuracy: 0.8587 - val_loss: 0.4355 - val_accuracy: 0.8441\n",
            "Epoch 10/20\n",
            "188/188 [==============================] - 1s 7ms/step - loss: 0.3893 - accuracy: 0.8627 - val_loss: 0.4114 - val_accuracy: 0.8532\n",
            "Epoch 11/20\n",
            "188/188 [==============================] - 1s 7ms/step - loss: 0.3823 - accuracy: 0.8652 - val_loss: 0.3993 - val_accuracy: 0.8582\n",
            "Epoch 12/20\n",
            "188/188 [==============================] - 1s 8ms/step - loss: 0.3802 - accuracy: 0.8654 - val_loss: 0.4001 - val_accuracy: 0.8580\n",
            "Epoch 13/20\n",
            "188/188 [==============================] - 1s 7ms/step - loss: 0.3744 - accuracy: 0.8674 - val_loss: 0.3950 - val_accuracy: 0.8597\n",
            "Epoch 14/20\n",
            "188/188 [==============================] - 1s 7ms/step - loss: 0.3680 - accuracy: 0.8699 - val_loss: 0.3850 - val_accuracy: 0.8619\n",
            "Epoch 15/20\n",
            "188/188 [==============================] - 1s 7ms/step - loss: 0.3656 - accuracy: 0.8700 - val_loss: 0.3955 - val_accuracy: 0.8593\n",
            "Epoch 16/20\n",
            "188/188 [==============================] - 1s 7ms/step - loss: 0.3613 - accuracy: 0.8728 - val_loss: 0.3762 - val_accuracy: 0.8668\n",
            "Epoch 17/20\n",
            "188/188 [==============================] - 1s 7ms/step - loss: 0.3578 - accuracy: 0.8736 - val_loss: 0.3940 - val_accuracy: 0.8577\n",
            "Epoch 18/20\n",
            "188/188 [==============================] - 1s 8ms/step - loss: 0.3564 - accuracy: 0.8733 - val_loss: 0.4531 - val_accuracy: 0.8318\n",
            "Epoch 19/20\n",
            "188/188 [==============================] - 1s 7ms/step - loss: 0.3505 - accuracy: 0.8760 - val_loss: 0.3727 - val_accuracy: 0.8663\n",
            "Epoch 20/20\n",
            "188/188 [==============================] - 1s 7ms/step - loss: 0.3473 - accuracy: 0.8759 - val_loss: 0.3735 - val_accuracy: 0.8668\n"
          ],
          "name": "stdout"
        },
        {
          "output_type": "display_data",
          "data": {
            "text/html": [
              "<span style=\"color:#4527A0\"><h1 style=\"font-size:18px\">Trial complete</h1></span>"
            ],
            "text/plain": [
              "<IPython.core.display.HTML object>"
            ]
          },
          "metadata": {
            "tags": []
          }
        },
        {
          "output_type": "display_data",
          "data": {
            "text/html": [
              "<span style=\"color:#4527A0\"><h1 style=\"font-size:18px\">Trial summary</h1></span>"
            ],
            "text/plain": [
              "<IPython.core.display.HTML object>"
            ]
          },
          "metadata": {
            "tags": []
          }
        },
        {
          "output_type": "display_data",
          "data": {
            "text/html": [
              "<span style=\"color:cyan\"> |-Trial ID: 380393ce890c129677c055a6d910f039</span>"
            ],
            "text/plain": [
              "<IPython.core.display.HTML object>"
            ]
          },
          "metadata": {
            "tags": []
          }
        },
        {
          "output_type": "display_data",
          "data": {
            "text/html": [
              "<span style=\"color:cyan\"> |-Score: 0.8668333292007446</span>"
            ],
            "text/plain": [
              "<IPython.core.display.HTML object>"
            ]
          },
          "metadata": {
            "tags": []
          }
        },
        {
          "output_type": "display_data",
          "data": {
            "text/html": [
              "<span style=\"color:cyan\"> |-Best step: 0</span>"
            ],
            "text/plain": [
              "<IPython.core.display.HTML object>"
            ]
          },
          "metadata": {
            "tags": []
          }
        },
        {
          "output_type": "display_data",
          "data": {
            "text/html": [
              "<span style=\"color:#7E57C2\"><h2 style=\"font-size:16px\">Hyperparameters:</h2></span>"
            ],
            "text/plain": [
              "<IPython.core.display.HTML object>"
            ]
          },
          "metadata": {
            "tags": []
          }
        },
        {
          "output_type": "display_data",
          "data": {
            "text/html": [
              "<span style=\"color:cyan\"> |-activation: selu</span>"
            ],
            "text/plain": [
              "<IPython.core.display.HTML object>"
            ]
          },
          "metadata": {
            "tags": []
          }
        },
        {
          "output_type": "display_data",
          "data": {
            "text/html": [
              "<span style=\"color:blue\"> |-optimizer: SGD</span>"
            ],
            "text/plain": [
              "<IPython.core.display.HTML object>"
            ]
          },
          "metadata": {
            "tags": []
          }
        },
        {
          "output_type": "display_data",
          "data": {
            "text/html": [
              "<span style=\"color:cyan\"> |-units_hidden: 352</span>"
            ],
            "text/plain": [
              "<IPython.core.display.HTML object>"
            ]
          },
          "metadata": {
            "tags": []
          }
        },
        {
          "output_type": "display_data",
          "data": {
            "text/html": [
              "<span style=\"color:blue\"> |-units_input: 1024</span>"
            ],
            "text/plain": [
              "<IPython.core.display.HTML object>"
            ]
          },
          "metadata": {
            "tags": []
          }
        },
        {
          "output_type": "stream",
          "text": [
            "Epoch 1/20\n",
            "188/188 [==============================] - 2s 8ms/step - loss: 0.9721 - accuracy: 0.7032 - val_loss: 0.6455 - val_accuracy: 0.7543\n",
            "Epoch 2/20\n",
            "188/188 [==============================] - 2s 8ms/step - loss: 0.5273 - accuracy: 0.8080 - val_loss: 0.6241 - val_accuracy: 0.7787\n",
            "Epoch 3/20\n",
            "188/188 [==============================] - 1s 8ms/step - loss: 0.4416 - accuracy: 0.8359 - val_loss: 0.4078 - val_accuracy: 0.8469\n",
            "Epoch 4/20\n",
            "188/188 [==============================] - 1s 8ms/step - loss: 0.3953 - accuracy: 0.8524 - val_loss: 0.4397 - val_accuracy: 0.8388\n",
            "Epoch 5/20\n",
            "188/188 [==============================] - 1s 8ms/step - loss: 0.3576 - accuracy: 0.8667 - val_loss: 0.4690 - val_accuracy: 0.8298\n",
            "Epoch 6/20\n",
            "188/188 [==============================] - 1s 7ms/step - loss: 0.3371 - accuracy: 0.8726 - val_loss: 0.4078 - val_accuracy: 0.8420\n",
            "Epoch 7/20\n",
            "188/188 [==============================] - 1s 7ms/step - loss: 0.3163 - accuracy: 0.8803 - val_loss: 0.3729 - val_accuracy: 0.8696\n",
            "Epoch 8/20\n",
            "188/188 [==============================] - 1s 7ms/step - loss: 0.3024 - accuracy: 0.8846 - val_loss: 0.3605 - val_accuracy: 0.8763\n",
            "Epoch 9/20\n",
            "188/188 [==============================] - 1s 7ms/step - loss: 0.2882 - accuracy: 0.8906 - val_loss: 0.4296 - val_accuracy: 0.8462\n",
            "Epoch 10/20\n",
            "188/188 [==============================] - 1s 7ms/step - loss: 0.2741 - accuracy: 0.8965 - val_loss: 0.3846 - val_accuracy: 0.8622\n",
            "Epoch 11/20\n",
            "188/188 [==============================] - 1s 8ms/step - loss: 0.2641 - accuracy: 0.8983 - val_loss: 0.3815 - val_accuracy: 0.8677\n",
            "Epoch 12/20\n",
            "188/188 [==============================] - 1s 7ms/step - loss: 0.2498 - accuracy: 0.9043 - val_loss: 0.3388 - val_accuracy: 0.8833\n",
            "Epoch 13/20\n",
            "188/188 [==============================] - 1s 7ms/step - loss: 0.2413 - accuracy: 0.9078 - val_loss: 0.3948 - val_accuracy: 0.8673\n",
            "Epoch 14/20\n",
            "188/188 [==============================] - 1s 7ms/step - loss: 0.2350 - accuracy: 0.9107 - val_loss: 0.3800 - val_accuracy: 0.8699\n",
            "Epoch 15/20\n",
            "188/188 [==============================] - 1s 7ms/step - loss: 0.2238 - accuracy: 0.9124 - val_loss: 0.3477 - val_accuracy: 0.8815\n",
            "Epoch 16/20\n",
            "188/188 [==============================] - 1s 7ms/step - loss: 0.2165 - accuracy: 0.9166 - val_loss: 0.3478 - val_accuracy: 0.8867\n",
            "Epoch 17/20\n",
            "188/188 [==============================] - 1s 7ms/step - loss: 0.2091 - accuracy: 0.9199 - val_loss: 0.3942 - val_accuracy: 0.8683\n",
            "Epoch 18/20\n",
            "188/188 [==============================] - 1s 7ms/step - loss: 0.2025 - accuracy: 0.9214 - val_loss: 0.3977 - val_accuracy: 0.8677\n",
            "Epoch 19/20\n",
            "188/188 [==============================] - 1s 7ms/step - loss: 0.1940 - accuracy: 0.9256 - val_loss: 0.3523 - val_accuracy: 0.8886\n",
            "Epoch 20/20\n",
            "188/188 [==============================] - 1s 7ms/step - loss: 0.1889 - accuracy: 0.9279 - val_loss: 0.3994 - val_accuracy: 0.8668\n"
          ],
          "name": "stdout"
        },
        {
          "output_type": "display_data",
          "data": {
            "text/html": [
              "<span style=\"color:#4527A0\"><h1 style=\"font-size:18px\">Trial complete</h1></span>"
            ],
            "text/plain": [
              "<IPython.core.display.HTML object>"
            ]
          },
          "metadata": {
            "tags": []
          }
        },
        {
          "output_type": "display_data",
          "data": {
            "text/html": [
              "<span style=\"color:#4527A0\"><h1 style=\"font-size:18px\">Trial summary</h1></span>"
            ],
            "text/plain": [
              "<IPython.core.display.HTML object>"
            ]
          },
          "metadata": {
            "tags": []
          }
        },
        {
          "output_type": "display_data",
          "data": {
            "text/html": [
              "<span style=\"color:cyan\"> |-Trial ID: ac37b82cc3784e1cfe9b3b47f3c92ecc</span>"
            ],
            "text/plain": [
              "<IPython.core.display.HTML object>"
            ]
          },
          "metadata": {
            "tags": []
          }
        },
        {
          "output_type": "display_data",
          "data": {
            "text/html": [
              "<span style=\"color:cyan\"> |-Score: 0.8885833621025085</span>"
            ],
            "text/plain": [
              "<IPython.core.display.HTML object>"
            ]
          },
          "metadata": {
            "tags": []
          }
        },
        {
          "output_type": "display_data",
          "data": {
            "text/html": [
              "<span style=\"color:cyan\"> |-Best step: 0</span>"
            ],
            "text/plain": [
              "<IPython.core.display.HTML object>"
            ]
          },
          "metadata": {
            "tags": []
          }
        },
        {
          "output_type": "display_data",
          "data": {
            "text/html": [
              "<span style=\"color:#7E57C2\"><h2 style=\"font-size:16px\">Hyperparameters:</h2></span>"
            ],
            "text/plain": [
              "<IPython.core.display.HTML object>"
            ]
          },
          "metadata": {
            "tags": []
          }
        },
        {
          "output_type": "display_data",
          "data": {
            "text/html": [
              "<span style=\"color:cyan\"> |-activation: selu</span>"
            ],
            "text/plain": [
              "<IPython.core.display.HTML object>"
            ]
          },
          "metadata": {
            "tags": []
          }
        },
        {
          "output_type": "display_data",
          "data": {
            "text/html": [
              "<span style=\"color:blue\"> |-optimizer: rmsprop</span>"
            ],
            "text/plain": [
              "<IPython.core.display.HTML object>"
            ]
          },
          "metadata": {
            "tags": []
          }
        },
        {
          "output_type": "display_data",
          "data": {
            "text/html": [
              "<span style=\"color:cyan\"> |-units_hidden: 160</span>"
            ],
            "text/plain": [
              "<IPython.core.display.HTML object>"
            ]
          },
          "metadata": {
            "tags": []
          }
        },
        {
          "output_type": "display_data",
          "data": {
            "text/html": [
              "<span style=\"color:blue\"> |-units_input: 544</span>"
            ],
            "text/plain": [
              "<IPython.core.display.HTML object>"
            ]
          },
          "metadata": {
            "tags": []
          }
        },
        {
          "output_type": "stream",
          "text": [
            "Epoch 1/20\n",
            "188/188 [==============================] - 1s 7ms/step - loss: 2.3206 - accuracy: 0.1084 - val_loss: 2.2996 - val_accuracy: 0.1528\n",
            "Epoch 2/20\n",
            "188/188 [==============================] - 1s 6ms/step - loss: 2.2971 - accuracy: 0.1351 - val_loss: 2.2949 - val_accuracy: 0.1005\n",
            "Epoch 3/20\n",
            "188/188 [==============================] - 1s 6ms/step - loss: 2.2925 - accuracy: 0.1898 - val_loss: 2.2897 - val_accuracy: 0.2490\n",
            "Epoch 4/20\n",
            "188/188 [==============================] - 1s 6ms/step - loss: 2.2874 - accuracy: 0.2378 - val_loss: 2.2848 - val_accuracy: 0.2392\n",
            "Epoch 5/20\n",
            "188/188 [==============================] - 1s 6ms/step - loss: 2.2821 - accuracy: 0.2488 - val_loss: 2.2791 - val_accuracy: 0.3436\n",
            "Epoch 6/20\n",
            "188/188 [==============================] - 1s 6ms/step - loss: 2.2761 - accuracy: 0.2860 - val_loss: 2.2725 - val_accuracy: 0.2752\n",
            "Epoch 7/20\n",
            "188/188 [==============================] - 1s 6ms/step - loss: 2.2692 - accuracy: 0.3241 - val_loss: 2.2649 - val_accuracy: 0.3681\n",
            "Epoch 8/20\n",
            "188/188 [==============================] - 1s 6ms/step - loss: 2.2613 - accuracy: 0.3739 - val_loss: 2.2564 - val_accuracy: 0.3897\n",
            "Epoch 9/20\n",
            "188/188 [==============================] - 1s 7ms/step - loss: 2.2518 - accuracy: 0.4043 - val_loss: 2.2463 - val_accuracy: 0.4676\n",
            "Epoch 10/20\n",
            "188/188 [==============================] - 1s 6ms/step - loss: 2.2406 - accuracy: 0.4109 - val_loss: 2.2339 - val_accuracy: 0.3735\n",
            "Epoch 11/20\n",
            "188/188 [==============================] - 1s 6ms/step - loss: 2.2268 - accuracy: 0.4325 - val_loss: 2.2182 - val_accuracy: 0.4543\n",
            "Epoch 12/20\n",
            "188/188 [==============================] - 1s 6ms/step - loss: 2.2094 - accuracy: 0.4491 - val_loss: 2.1986 - val_accuracy: 0.4626\n",
            "Epoch 13/20\n",
            "188/188 [==============================] - 1s 6ms/step - loss: 2.1873 - accuracy: 0.4555 - val_loss: 2.1736 - val_accuracy: 0.5239\n",
            "Epoch 14/20\n",
            "188/188 [==============================] - 1s 6ms/step - loss: 2.1588 - accuracy: 0.4646 - val_loss: 2.1414 - val_accuracy: 0.4461\n",
            "Epoch 15/20\n",
            "188/188 [==============================] - 1s 6ms/step - loss: 2.1219 - accuracy: 0.4552 - val_loss: 2.0993 - val_accuracy: 0.5033\n",
            "Epoch 16/20\n",
            "188/188 [==============================] - 1s 6ms/step - loss: 2.0746 - accuracy: 0.4916 - val_loss: 2.0460 - val_accuracy: 0.4738\n",
            "Epoch 17/20\n",
            "188/188 [==============================] - 1s 6ms/step - loss: 2.0154 - accuracy: 0.4784 - val_loss: 1.9815 - val_accuracy: 0.4781\n",
            "Epoch 18/20\n",
            "188/188 [==============================] - 1s 6ms/step - loss: 1.9457 - accuracy: 0.4824 - val_loss: 1.9074 - val_accuracy: 0.5094\n",
            "Epoch 19/20\n",
            "188/188 [==============================] - 1s 6ms/step - loss: 1.8705 - accuracy: 0.4980 - val_loss: 1.8309 - val_accuracy: 0.4904\n",
            "Epoch 20/20\n",
            "188/188 [==============================] - 1s 6ms/step - loss: 1.7952 - accuracy: 0.4992 - val_loss: 1.7575 - val_accuracy: 0.4921\n"
          ],
          "name": "stdout"
        },
        {
          "output_type": "display_data",
          "data": {
            "text/html": [
              "<span style=\"color:#4527A0\"><h1 style=\"font-size:18px\">Trial complete</h1></span>"
            ],
            "text/plain": [
              "<IPython.core.display.HTML object>"
            ]
          },
          "metadata": {
            "tags": []
          }
        },
        {
          "output_type": "display_data",
          "data": {
            "text/html": [
              "<span style=\"color:#4527A0\"><h1 style=\"font-size:18px\">Trial summary</h1></span>"
            ],
            "text/plain": [
              "<IPython.core.display.HTML object>"
            ]
          },
          "metadata": {
            "tags": []
          }
        },
        {
          "output_type": "display_data",
          "data": {
            "text/html": [
              "<span style=\"color:cyan\"> |-Trial ID: fb8793c5674bb81e0c4cc3cfee96452e</span>"
            ],
            "text/plain": [
              "<IPython.core.display.HTML object>"
            ]
          },
          "metadata": {
            "tags": []
          }
        },
        {
          "output_type": "display_data",
          "data": {
            "text/html": [
              "<span style=\"color:cyan\"> |-Score: 0.5239166617393494</span>"
            ],
            "text/plain": [
              "<IPython.core.display.HTML object>"
            ]
          },
          "metadata": {
            "tags": []
          }
        },
        {
          "output_type": "display_data",
          "data": {
            "text/html": [
              "<span style=\"color:cyan\"> |-Best step: 0</span>"
            ],
            "text/plain": [
              "<IPython.core.display.HTML object>"
            ]
          },
          "metadata": {
            "tags": []
          }
        },
        {
          "output_type": "display_data",
          "data": {
            "text/html": [
              "<span style=\"color:#7E57C2\"><h2 style=\"font-size:16px\">Hyperparameters:</h2></span>"
            ],
            "text/plain": [
              "<IPython.core.display.HTML object>"
            ]
          },
          "metadata": {
            "tags": []
          }
        },
        {
          "output_type": "display_data",
          "data": {
            "text/html": [
              "<span style=\"color:cyan\"> |-activation: sigmoid</span>"
            ],
            "text/plain": [
              "<IPython.core.display.HTML object>"
            ]
          },
          "metadata": {
            "tags": []
          }
        },
        {
          "output_type": "display_data",
          "data": {
            "text/html": [
              "<span style=\"color:blue\"> |-optimizer: SGD</span>"
            ],
            "text/plain": [
              "<IPython.core.display.HTML object>"
            ]
          },
          "metadata": {
            "tags": []
          }
        },
        {
          "output_type": "display_data",
          "data": {
            "text/html": [
              "<span style=\"color:cyan\"> |-units_hidden: 160</span>"
            ],
            "text/plain": [
              "<IPython.core.display.HTML object>"
            ]
          },
          "metadata": {
            "tags": []
          }
        },
        {
          "output_type": "display_data",
          "data": {
            "text/html": [
              "<span style=\"color:blue\"> |-units_input: 704</span>"
            ],
            "text/plain": [
              "<IPython.core.display.HTML object>"
            ]
          },
          "metadata": {
            "tags": []
          }
        },
        {
          "output_type": "stream",
          "text": [
            "Epoch 1/20\n",
            "188/188 [==============================] - 2s 10ms/step - loss: 0.7017 - accuracy: 0.7477 - val_loss: 0.6426 - val_accuracy: 0.7301\n",
            "Epoch 2/20\n",
            "188/188 [==============================] - 2s 9ms/step - loss: 0.4393 - accuracy: 0.8350 - val_loss: 0.4371 - val_accuracy: 0.8328\n",
            "Epoch 3/20\n",
            "188/188 [==============================] - 2s 9ms/step - loss: 0.3780 - accuracy: 0.8576 - val_loss: 0.3977 - val_accuracy: 0.8609\n",
            "Epoch 4/20\n",
            "188/188 [==============================] - 2s 9ms/step - loss: 0.3429 - accuracy: 0.8724 - val_loss: 0.3714 - val_accuracy: 0.8658\n",
            "Epoch 5/20\n",
            "188/188 [==============================] - 2s 9ms/step - loss: 0.3168 - accuracy: 0.8797 - val_loss: 0.3935 - val_accuracy: 0.8675\n",
            "Epoch 6/20\n",
            "188/188 [==============================] - 2s 9ms/step - loss: 0.2974 - accuracy: 0.8890 - val_loss: 0.3579 - val_accuracy: 0.8733\n",
            "Epoch 7/20\n",
            "188/188 [==============================] - 2s 9ms/step - loss: 0.2846 - accuracy: 0.8928 - val_loss: 0.3608 - val_accuracy: 0.8777\n",
            "Epoch 8/20\n",
            "188/188 [==============================] - 2s 9ms/step - loss: 0.2705 - accuracy: 0.8980 - val_loss: 0.3599 - val_accuracy: 0.8820\n",
            "Epoch 9/20\n",
            "188/188 [==============================] - 2s 9ms/step - loss: 0.2620 - accuracy: 0.9016 - val_loss: 0.3512 - val_accuracy: 0.8864\n",
            "Epoch 10/20\n",
            "188/188 [==============================] - 2s 9ms/step - loss: 0.2478 - accuracy: 0.9075 - val_loss: 0.3569 - val_accuracy: 0.8909\n",
            "Epoch 11/20\n",
            "188/188 [==============================] - 2s 9ms/step - loss: 0.2426 - accuracy: 0.9078 - val_loss: 0.3890 - val_accuracy: 0.8867\n",
            "Epoch 12/20\n",
            "188/188 [==============================] - 2s 9ms/step - loss: 0.2381 - accuracy: 0.9122 - val_loss: 0.4505 - val_accuracy: 0.8803\n",
            "Epoch 13/20\n",
            "188/188 [==============================] - 2s 9ms/step - loss: 0.2261 - accuracy: 0.9133 - val_loss: 0.3992 - val_accuracy: 0.8923\n",
            "Epoch 14/20\n",
            "188/188 [==============================] - 2s 9ms/step - loss: 0.2253 - accuracy: 0.9143 - val_loss: 0.7610 - val_accuracy: 0.8417\n",
            "Epoch 15/20\n",
            "188/188 [==============================] - 2s 9ms/step - loss: 0.2188 - accuracy: 0.9181 - val_loss: 0.4438 - val_accuracy: 0.8853\n",
            "Epoch 16/20\n",
            "188/188 [==============================] - 2s 9ms/step - loss: 0.2140 - accuracy: 0.9205 - val_loss: 0.4563 - val_accuracy: 0.8822\n",
            "Epoch 17/20\n",
            "188/188 [==============================] - 2s 9ms/step - loss: 0.2097 - accuracy: 0.9223 - val_loss: 0.5160 - val_accuracy: 0.8664\n",
            "Epoch 18/20\n",
            "188/188 [==============================] - 2s 9ms/step - loss: 0.2033 - accuracy: 0.9244 - val_loss: 0.5040 - val_accuracy: 0.8765\n",
            "Epoch 19/20\n",
            "188/188 [==============================] - 2s 9ms/step - loss: 0.1989 - accuracy: 0.9256 - val_loss: 0.5487 - val_accuracy: 0.8863\n",
            "Epoch 20/20\n",
            "188/188 [==============================] - 2s 9ms/step - loss: 0.1966 - accuracy: 0.9278 - val_loss: 0.4908 - val_accuracy: 0.8866\n"
          ],
          "name": "stdout"
        },
        {
          "output_type": "display_data",
          "data": {
            "text/html": [
              "<span style=\"color:#4527A0\"><h1 style=\"font-size:18px\">Trial complete</h1></span>"
            ],
            "text/plain": [
              "<IPython.core.display.HTML object>"
            ]
          },
          "metadata": {
            "tags": []
          }
        },
        {
          "output_type": "display_data",
          "data": {
            "text/html": [
              "<span style=\"color:#4527A0\"><h1 style=\"font-size:18px\">Trial summary</h1></span>"
            ],
            "text/plain": [
              "<IPython.core.display.HTML object>"
            ]
          },
          "metadata": {
            "tags": []
          }
        },
        {
          "output_type": "display_data",
          "data": {
            "text/html": [
              "<span style=\"color:cyan\"> |-Trial ID: 292b5f8f22229307300d9b5cee777e76</span>"
            ],
            "text/plain": [
              "<IPython.core.display.HTML object>"
            ]
          },
          "metadata": {
            "tags": []
          }
        },
        {
          "output_type": "display_data",
          "data": {
            "text/html": [
              "<span style=\"color:cyan\"> |-Score: 0.8923333287239075</span>"
            ],
            "text/plain": [
              "<IPython.core.display.HTML object>"
            ]
          },
          "metadata": {
            "tags": []
          }
        },
        {
          "output_type": "display_data",
          "data": {
            "text/html": [
              "<span style=\"color:cyan\"> |-Best step: 0</span>"
            ],
            "text/plain": [
              "<IPython.core.display.HTML object>"
            ]
          },
          "metadata": {
            "tags": []
          }
        },
        {
          "output_type": "display_data",
          "data": {
            "text/html": [
              "<span style=\"color:#7E57C2\"><h2 style=\"font-size:16px\">Hyperparameters:</h2></span>"
            ],
            "text/plain": [
              "<IPython.core.display.HTML object>"
            ]
          },
          "metadata": {
            "tags": []
          }
        },
        {
          "output_type": "display_data",
          "data": {
            "text/html": [
              "<span style=\"color:cyan\"> |-activation: relu</span>"
            ],
            "text/plain": [
              "<IPython.core.display.HTML object>"
            ]
          },
          "metadata": {
            "tags": []
          }
        },
        {
          "output_type": "display_data",
          "data": {
            "text/html": [
              "<span style=\"color:blue\"> |-optimizer: rmsprop</span>"
            ],
            "text/plain": [
              "<IPython.core.display.HTML object>"
            ]
          },
          "metadata": {
            "tags": []
          }
        },
        {
          "output_type": "display_data",
          "data": {
            "text/html": [
              "<span style=\"color:cyan\"> |-units_hidden: 544</span>"
            ],
            "text/plain": [
              "<IPython.core.display.HTML object>"
            ]
          },
          "metadata": {
            "tags": []
          }
        },
        {
          "output_type": "display_data",
          "data": {
            "text/html": [
              "<span style=\"color:blue\"> |-units_input: 704</span>"
            ],
            "text/plain": [
              "<IPython.core.display.HTML object>"
            ]
          },
          "metadata": {
            "tags": []
          }
        },
        {
          "output_type": "stream",
          "text": [
            "Epoch 1/20\n",
            "188/188 [==============================] - 1s 8ms/step - loss: 1.3961 - accuracy: 0.6097 - val_loss: 0.8896 - val_accuracy: 0.7267\n",
            "Epoch 2/20\n",
            "188/188 [==============================] - 1s 7ms/step - loss: 0.7726 - accuracy: 0.7510 - val_loss: 0.6854 - val_accuracy: 0.7804\n",
            "Epoch 3/20\n",
            "188/188 [==============================] - 1s 8ms/step - loss: 0.6444 - accuracy: 0.7886 - val_loss: 0.6149 - val_accuracy: 0.7923\n",
            "Epoch 4/20\n",
            "188/188 [==============================] - 1s 7ms/step - loss: 0.5799 - accuracy: 0.8083 - val_loss: 0.5623 - val_accuracy: 0.8108\n",
            "Epoch 5/20\n",
            "188/188 [==============================] - 1s 7ms/step - loss: 0.5401 - accuracy: 0.8188 - val_loss: 0.5321 - val_accuracy: 0.8173\n",
            "Epoch 6/20\n",
            "188/188 [==============================] - 1s 7ms/step - loss: 0.5131 - accuracy: 0.8264 - val_loss: 0.5120 - val_accuracy: 0.8218\n",
            "Epoch 7/20\n",
            "188/188 [==============================] - 1s 7ms/step - loss: 0.4924 - accuracy: 0.8320 - val_loss: 0.4870 - val_accuracy: 0.8323\n",
            "Epoch 8/20\n",
            "188/188 [==============================] - 1s 7ms/step - loss: 0.4807 - accuracy: 0.8350 - val_loss: 0.4811 - val_accuracy: 0.8311\n",
            "Epoch 9/20\n",
            "188/188 [==============================] - 1s 7ms/step - loss: 0.4682 - accuracy: 0.8384 - val_loss: 0.4717 - val_accuracy: 0.8352\n",
            "Epoch 10/20\n",
            "188/188 [==============================] - 1s 7ms/step - loss: 0.4542 - accuracy: 0.8424 - val_loss: 0.4601 - val_accuracy: 0.8377\n",
            "Epoch 11/20\n",
            "188/188 [==============================] - 1s 7ms/step - loss: 0.4453 - accuracy: 0.8457 - val_loss: 0.4547 - val_accuracy: 0.8382\n",
            "Epoch 12/20\n",
            "188/188 [==============================] - 1s 7ms/step - loss: 0.4412 - accuracy: 0.8463 - val_loss: 0.4408 - val_accuracy: 0.8438\n",
            "Epoch 13/20\n",
            "188/188 [==============================] - 1s 7ms/step - loss: 0.4304 - accuracy: 0.8507 - val_loss: 0.4356 - val_accuracy: 0.8486\n",
            "Epoch 14/20\n",
            "188/188 [==============================] - 1s 7ms/step - loss: 0.4247 - accuracy: 0.8529 - val_loss: 0.4271 - val_accuracy: 0.8499\n",
            "Epoch 15/20\n",
            "188/188 [==============================] - 1s 7ms/step - loss: 0.4181 - accuracy: 0.8551 - val_loss: 0.4391 - val_accuracy: 0.8431\n",
            "Epoch 16/20\n",
            "188/188 [==============================] - 1s 7ms/step - loss: 0.4113 - accuracy: 0.8556 - val_loss: 0.4312 - val_accuracy: 0.8503\n",
            "Epoch 17/20\n",
            "188/188 [==============================] - 1s 7ms/step - loss: 0.4067 - accuracy: 0.8586 - val_loss: 0.4128 - val_accuracy: 0.8556\n",
            "Epoch 18/20\n",
            "188/188 [==============================] - 1s 7ms/step - loss: 0.4036 - accuracy: 0.8604 - val_loss: 0.4593 - val_accuracy: 0.8310\n",
            "Epoch 19/20\n",
            "188/188 [==============================] - 1s 8ms/step - loss: 0.3990 - accuracy: 0.8607 - val_loss: 0.4078 - val_accuracy: 0.8574\n",
            "Epoch 20/20\n",
            "188/188 [==============================] - 1s 7ms/step - loss: 0.3963 - accuracy: 0.8624 - val_loss: 0.4083 - val_accuracy: 0.8568\n"
          ],
          "name": "stdout"
        },
        {
          "output_type": "display_data",
          "data": {
            "text/html": [
              "<span style=\"color:#4527A0\"><h1 style=\"font-size:18px\">Trial complete</h1></span>"
            ],
            "text/plain": [
              "<IPython.core.display.HTML object>"
            ]
          },
          "metadata": {
            "tags": []
          }
        },
        {
          "output_type": "display_data",
          "data": {
            "text/html": [
              "<span style=\"color:#4527A0\"><h1 style=\"font-size:18px\">Trial summary</h1></span>"
            ],
            "text/plain": [
              "<IPython.core.display.HTML object>"
            ]
          },
          "metadata": {
            "tags": []
          }
        },
        {
          "output_type": "display_data",
          "data": {
            "text/html": [
              "<span style=\"color:cyan\"> |-Trial ID: 4a00967c42c3840082853911fc934d60</span>"
            ],
            "text/plain": [
              "<IPython.core.display.HTML object>"
            ]
          },
          "metadata": {
            "tags": []
          }
        },
        {
          "output_type": "display_data",
          "data": {
            "text/html": [
              "<span style=\"color:cyan\"> |-Score: 0.8574166893959045</span>"
            ],
            "text/plain": [
              "<IPython.core.display.HTML object>"
            ]
          },
          "metadata": {
            "tags": []
          }
        },
        {
          "output_type": "display_data",
          "data": {
            "text/html": [
              "<span style=\"color:cyan\"> |-Best step: 0</span>"
            ],
            "text/plain": [
              "<IPython.core.display.HTML object>"
            ]
          },
          "metadata": {
            "tags": []
          }
        },
        {
          "output_type": "display_data",
          "data": {
            "text/html": [
              "<span style=\"color:#7E57C2\"><h2 style=\"font-size:16px\">Hyperparameters:</h2></span>"
            ],
            "text/plain": [
              "<IPython.core.display.HTML object>"
            ]
          },
          "metadata": {
            "tags": []
          }
        },
        {
          "output_type": "display_data",
          "data": {
            "text/html": [
              "<span style=\"color:cyan\"> |-activation: relu</span>"
            ],
            "text/plain": [
              "<IPython.core.display.HTML object>"
            ]
          },
          "metadata": {
            "tags": []
          }
        },
        {
          "output_type": "display_data",
          "data": {
            "text/html": [
              "<span style=\"color:blue\"> |-optimizer: SGD</span>"
            ],
            "text/plain": [
              "<IPython.core.display.HTML object>"
            ]
          },
          "metadata": {
            "tags": []
          }
        },
        {
          "output_type": "display_data",
          "data": {
            "text/html": [
              "<span style=\"color:cyan\"> |-units_hidden: 416</span>"
            ],
            "text/plain": [
              "<IPython.core.display.HTML object>"
            ]
          },
          "metadata": {
            "tags": []
          }
        },
        {
          "output_type": "display_data",
          "data": {
            "text/html": [
              "<span style=\"color:blue\"> |-units_input: 800</span>"
            ],
            "text/plain": [
              "<IPython.core.display.HTML object>"
            ]
          },
          "metadata": {
            "tags": []
          }
        },
        {
          "output_type": "stream",
          "text": [
            "Epoch 1/20\n",
            "188/188 [==============================] - 2s 8ms/step - loss: 0.9705 - accuracy: 0.6609 - val_loss: 0.5223 - val_accuracy: 0.8141\n",
            "Epoch 2/20\n",
            "188/188 [==============================] - 1s 7ms/step - loss: 0.4645 - accuracy: 0.8334 - val_loss: 0.4280 - val_accuracy: 0.8421\n",
            "Epoch 3/20\n",
            "188/188 [==============================] - 1s 7ms/step - loss: 0.4042 - accuracy: 0.8547 - val_loss: 0.3921 - val_accuracy: 0.8573\n",
            "Epoch 4/20\n",
            "188/188 [==============================] - 1s 7ms/step - loss: 0.3715 - accuracy: 0.8684 - val_loss: 0.3953 - val_accuracy: 0.8580\n",
            "Epoch 5/20\n",
            "188/188 [==============================] - 1s 7ms/step - loss: 0.3576 - accuracy: 0.8703 - val_loss: 0.3577 - val_accuracy: 0.8698\n",
            "Epoch 6/20\n",
            "188/188 [==============================] - 1s 7ms/step - loss: 0.3382 - accuracy: 0.8772 - val_loss: 0.3519 - val_accuracy: 0.8716\n",
            "Epoch 7/20\n",
            "188/188 [==============================] - 1s 8ms/step - loss: 0.3231 - accuracy: 0.8828 - val_loss: 0.3386 - val_accuracy: 0.8766\n",
            "Epoch 8/20\n",
            "188/188 [==============================] - 1s 7ms/step - loss: 0.3136 - accuracy: 0.8852 - val_loss: 0.3397 - val_accuracy: 0.8738\n",
            "Epoch 9/20\n",
            "188/188 [==============================] - 1s 7ms/step - loss: 0.3012 - accuracy: 0.8899 - val_loss: 0.3250 - val_accuracy: 0.8828\n",
            "Epoch 10/20\n",
            "188/188 [==============================] - 1s 7ms/step - loss: 0.2908 - accuracy: 0.8937 - val_loss: 0.3314 - val_accuracy: 0.8824\n",
            "Epoch 11/20\n",
            "188/188 [==============================] - 1s 7ms/step - loss: 0.2824 - accuracy: 0.8954 - val_loss: 0.3284 - val_accuracy: 0.8819\n",
            "Epoch 12/20\n",
            "188/188 [==============================] - 1s 7ms/step - loss: 0.2717 - accuracy: 0.9010 - val_loss: 0.3193 - val_accuracy: 0.8821\n",
            "Epoch 13/20\n",
            "188/188 [==============================] - 1s 7ms/step - loss: 0.2658 - accuracy: 0.9022 - val_loss: 0.3151 - val_accuracy: 0.8861\n",
            "Epoch 14/20\n",
            "188/188 [==============================] - 1s 8ms/step - loss: 0.2541 - accuracy: 0.9059 - val_loss: 0.3063 - val_accuracy: 0.8879\n",
            "Epoch 15/20\n",
            "188/188 [==============================] - 1s 7ms/step - loss: 0.2497 - accuracy: 0.9066 - val_loss: 0.3373 - val_accuracy: 0.8800\n",
            "Epoch 16/20\n",
            "188/188 [==============================] - 1s 7ms/step - loss: 0.2411 - accuracy: 0.9102 - val_loss: 0.3136 - val_accuracy: 0.8888\n",
            "Epoch 17/20\n",
            "188/188 [==============================] - 1s 7ms/step - loss: 0.2349 - accuracy: 0.9117 - val_loss: 0.3039 - val_accuracy: 0.8895\n",
            "Epoch 18/20\n",
            "188/188 [==============================] - 1s 7ms/step - loss: 0.2270 - accuracy: 0.9151 - val_loss: 0.3218 - val_accuracy: 0.8844\n",
            "Epoch 19/20\n",
            "188/188 [==============================] - 1s 7ms/step - loss: 0.2163 - accuracy: 0.9187 - val_loss: 0.3077 - val_accuracy: 0.8917\n",
            "Epoch 20/20\n",
            "188/188 [==============================] - 1s 7ms/step - loss: 0.2119 - accuracy: 0.9219 - val_loss: 0.3057 - val_accuracy: 0.8922\n"
          ],
          "name": "stdout"
        },
        {
          "output_type": "display_data",
          "data": {
            "text/html": [
              "<span style=\"color:#4527A0\"><h1 style=\"font-size:18px\">Trial complete</h1></span>"
            ],
            "text/plain": [
              "<IPython.core.display.HTML object>"
            ]
          },
          "metadata": {
            "tags": []
          }
        },
        {
          "output_type": "display_data",
          "data": {
            "text/html": [
              "<span style=\"color:#4527A0\"><h1 style=\"font-size:18px\">Trial summary</h1></span>"
            ],
            "text/plain": [
              "<IPython.core.display.HTML object>"
            ]
          },
          "metadata": {
            "tags": []
          }
        },
        {
          "output_type": "display_data",
          "data": {
            "text/html": [
              "<span style=\"color:cyan\"> |-Trial ID: b1dfe6ea9f654fbff90e51f79c3b6d6e</span>"
            ],
            "text/plain": [
              "<IPython.core.display.HTML object>"
            ]
          },
          "metadata": {
            "tags": []
          }
        },
        {
          "output_type": "display_data",
          "data": {
            "text/html": [
              "<span style=\"color:cyan\"> |-Score: 0.8921666741371155</span>"
            ],
            "text/plain": [
              "<IPython.core.display.HTML object>"
            ]
          },
          "metadata": {
            "tags": []
          }
        },
        {
          "output_type": "display_data",
          "data": {
            "text/html": [
              "<span style=\"color:cyan\"> |-Best step: 0</span>"
            ],
            "text/plain": [
              "<IPython.core.display.HTML object>"
            ]
          },
          "metadata": {
            "tags": []
          }
        },
        {
          "output_type": "display_data",
          "data": {
            "text/html": [
              "<span style=\"color:#7E57C2\"><h2 style=\"font-size:16px\">Hyperparameters:</h2></span>"
            ],
            "text/plain": [
              "<IPython.core.display.HTML object>"
            ]
          },
          "metadata": {
            "tags": []
          }
        },
        {
          "output_type": "display_data",
          "data": {
            "text/html": [
              "<span style=\"color:cyan\"> |-activation: sigmoid</span>"
            ],
            "text/plain": [
              "<IPython.core.display.HTML object>"
            ]
          },
          "metadata": {
            "tags": []
          }
        },
        {
          "output_type": "display_data",
          "data": {
            "text/html": [
              "<span style=\"color:blue\"> |-optimizer: adam</span>"
            ],
            "text/plain": [
              "<IPython.core.display.HTML object>"
            ]
          },
          "metadata": {
            "tags": []
          }
        },
        {
          "output_type": "display_data",
          "data": {
            "text/html": [
              "<span style=\"color:cyan\"> |-units_hidden: 192</span>"
            ],
            "text/plain": [
              "<IPython.core.display.HTML object>"
            ]
          },
          "metadata": {
            "tags": []
          }
        },
        {
          "output_type": "display_data",
          "data": {
            "text/html": [
              "<span style=\"color:blue\"> |-units_input: 928</span>"
            ],
            "text/plain": [
              "<IPython.core.display.HTML object>"
            ]
          },
          "metadata": {
            "tags": []
          }
        },
        {
          "output_type": "stream",
          "text": [
            "Epoch 1/20\n",
            "188/188 [==============================] - 2s 8ms/step - loss: 1.0145 - accuracy: 0.6885 - val_loss: 0.7245 - val_accuracy: 0.7632\n",
            "Epoch 2/20\n",
            "188/188 [==============================] - 1s 7ms/step - loss: 0.6577 - accuracy: 0.7819 - val_loss: 0.6083 - val_accuracy: 0.7950\n",
            "Epoch 3/20\n",
            "188/188 [==============================] - 1s 7ms/step - loss: 0.5752 - accuracy: 0.8063 - val_loss: 0.5513 - val_accuracy: 0.8112\n",
            "Epoch 4/20\n",
            "188/188 [==============================] - 1s 7ms/step - loss: 0.5311 - accuracy: 0.8197 - val_loss: 0.5215 - val_accuracy: 0.8167\n",
            "Epoch 5/20\n",
            "188/188 [==============================] - 1s 7ms/step - loss: 0.5032 - accuracy: 0.8277 - val_loss: 0.4976 - val_accuracy: 0.8232\n",
            "Epoch 6/20\n",
            "188/188 [==============================] - 1s 7ms/step - loss: 0.4832 - accuracy: 0.8335 - val_loss: 0.4812 - val_accuracy: 0.8275\n",
            "Epoch 7/20\n",
            "188/188 [==============================] - 1s 8ms/step - loss: 0.4684 - accuracy: 0.8375 - val_loss: 0.4703 - val_accuracy: 0.8322\n",
            "Epoch 8/20\n",
            "188/188 [==============================] - 1s 7ms/step - loss: 0.4567 - accuracy: 0.8409 - val_loss: 0.4602 - val_accuracy: 0.8360\n",
            "Epoch 9/20\n",
            "188/188 [==============================] - 1s 8ms/step - loss: 0.4473 - accuracy: 0.8425 - val_loss: 0.4541 - val_accuracy: 0.8370\n",
            "Epoch 10/20\n",
            "188/188 [==============================] - 1s 8ms/step - loss: 0.4390 - accuracy: 0.8461 - val_loss: 0.4496 - val_accuracy: 0.8379\n",
            "Epoch 11/20\n",
            "188/188 [==============================] - 1s 7ms/step - loss: 0.4319 - accuracy: 0.8478 - val_loss: 0.4390 - val_accuracy: 0.8428\n",
            "Epoch 12/20\n",
            "188/188 [==============================] - 1s 7ms/step - loss: 0.4255 - accuracy: 0.8507 - val_loss: 0.4334 - val_accuracy: 0.8419\n",
            "Epoch 13/20\n",
            "188/188 [==============================] - 1s 7ms/step - loss: 0.4200 - accuracy: 0.8528 - val_loss: 0.4304 - val_accuracy: 0.8476\n",
            "Epoch 14/20\n",
            "188/188 [==============================] - 1s 7ms/step - loss: 0.4154 - accuracy: 0.8535 - val_loss: 0.4251 - val_accuracy: 0.8486\n",
            "Epoch 15/20\n",
            "188/188 [==============================] - 1s 7ms/step - loss: 0.4108 - accuracy: 0.8553 - val_loss: 0.4236 - val_accuracy: 0.8449\n",
            "Epoch 16/20\n",
            "188/188 [==============================] - 1s 7ms/step - loss: 0.4060 - accuracy: 0.8571 - val_loss: 0.4213 - val_accuracy: 0.8509\n",
            "Epoch 17/20\n",
            "188/188 [==============================] - 1s 8ms/step - loss: 0.4021 - accuracy: 0.8593 - val_loss: 0.4131 - val_accuracy: 0.8517\n",
            "Epoch 18/20\n",
            "188/188 [==============================] - 1s 8ms/step - loss: 0.3985 - accuracy: 0.8590 - val_loss: 0.4103 - val_accuracy: 0.8537\n",
            "Epoch 19/20\n",
            "188/188 [==============================] - 2s 8ms/step - loss: 0.3953 - accuracy: 0.8610 - val_loss: 0.4117 - val_accuracy: 0.8531\n",
            "Epoch 20/20\n",
            "188/188 [==============================] - 2s 8ms/step - loss: 0.3914 - accuracy: 0.8623 - val_loss: 0.4108 - val_accuracy: 0.8509\n"
          ],
          "name": "stdout"
        },
        {
          "output_type": "display_data",
          "data": {
            "text/html": [
              "<span style=\"color:#4527A0\"><h1 style=\"font-size:18px\">Trial complete</h1></span>"
            ],
            "text/plain": [
              "<IPython.core.display.HTML object>"
            ]
          },
          "metadata": {
            "tags": []
          }
        },
        {
          "output_type": "display_data",
          "data": {
            "text/html": [
              "<span style=\"color:#4527A0\"><h1 style=\"font-size:18px\">Trial summary</h1></span>"
            ],
            "text/plain": [
              "<IPython.core.display.HTML object>"
            ]
          },
          "metadata": {
            "tags": []
          }
        },
        {
          "output_type": "display_data",
          "data": {
            "text/html": [
              "<span style=\"color:cyan\"> |-Trial ID: 0f435bdf91cd2d1a02e652f8d4e04cec</span>"
            ],
            "text/plain": [
              "<IPython.core.display.HTML object>"
            ]
          },
          "metadata": {
            "tags": []
          }
        },
        {
          "output_type": "display_data",
          "data": {
            "text/html": [
              "<span style=\"color:cyan\"> |-Score: 0.8536666631698608</span>"
            ],
            "text/plain": [
              "<IPython.core.display.HTML object>"
            ]
          },
          "metadata": {
            "tags": []
          }
        },
        {
          "output_type": "display_data",
          "data": {
            "text/html": [
              "<span style=\"color:cyan\"> |-Best step: 0</span>"
            ],
            "text/plain": [
              "<IPython.core.display.HTML object>"
            ]
          },
          "metadata": {
            "tags": []
          }
        },
        {
          "output_type": "display_data",
          "data": {
            "text/html": [
              "<span style=\"color:#7E57C2\"><h2 style=\"font-size:16px\">Hyperparameters:</h2></span>"
            ],
            "text/plain": [
              "<IPython.core.display.HTML object>"
            ]
          },
          "metadata": {
            "tags": []
          }
        },
        {
          "output_type": "display_data",
          "data": {
            "text/html": [
              "<span style=\"color:cyan\"> |-activation: tanh</span>"
            ],
            "text/plain": [
              "<IPython.core.display.HTML object>"
            ]
          },
          "metadata": {
            "tags": []
          }
        },
        {
          "output_type": "display_data",
          "data": {
            "text/html": [
              "<span style=\"color:blue\"> |-optimizer: SGD</span>"
            ],
            "text/plain": [
              "<IPython.core.display.HTML object>"
            ]
          },
          "metadata": {
            "tags": []
          }
        },
        {
          "output_type": "display_data",
          "data": {
            "text/html": [
              "<span style=\"color:cyan\"> |-units_hidden: 320</span>"
            ],
            "text/plain": [
              "<IPython.core.display.HTML object>"
            ]
          },
          "metadata": {
            "tags": []
          }
        },
        {
          "output_type": "display_data",
          "data": {
            "text/html": [
              "<span style=\"color:blue\"> |-units_input: 1024</span>"
            ],
            "text/plain": [
              "<IPython.core.display.HTML object>"
            ]
          },
          "metadata": {
            "tags": []
          }
        },
        {
          "output_type": "stream",
          "text": [
            "Epoch 1/20\n",
            "188/188 [==============================] - 2s 11ms/step - loss: 0.5226 - accuracy: 0.8137 - val_loss: 0.4011 - val_accuracy: 0.8574\n",
            "Epoch 2/20\n",
            "188/188 [==============================] - 2s 9ms/step - loss: 0.3569 - accuracy: 0.8690 - val_loss: 0.3912 - val_accuracy: 0.8589\n",
            "Epoch 3/20\n",
            "188/188 [==============================] - 2s 9ms/step - loss: 0.3207 - accuracy: 0.8813 - val_loss: 0.3318 - val_accuracy: 0.8802\n",
            "Epoch 4/20\n",
            "188/188 [==============================] - 2s 8ms/step - loss: 0.2943 - accuracy: 0.8900 - val_loss: 0.3346 - val_accuracy: 0.8783\n",
            "Epoch 5/20\n",
            "188/188 [==============================] - 2s 8ms/step - loss: 0.2764 - accuracy: 0.8981 - val_loss: 0.3300 - val_accuracy: 0.8836\n",
            "Epoch 6/20\n",
            "188/188 [==============================] - 2s 8ms/step - loss: 0.2668 - accuracy: 0.8997 - val_loss: 0.3162 - val_accuracy: 0.8830\n",
            "Epoch 7/20\n",
            "188/188 [==============================] - 2s 9ms/step - loss: 0.2452 - accuracy: 0.9079 - val_loss: 0.3293 - val_accuracy: 0.8849\n",
            "Epoch 8/20\n",
            "188/188 [==============================] - 2s 9ms/step - loss: 0.2362 - accuracy: 0.9101 - val_loss: 0.3120 - val_accuracy: 0.8934\n",
            "Epoch 9/20\n",
            "188/188 [==============================] - 2s 9ms/step - loss: 0.2241 - accuracy: 0.9151 - val_loss: 0.3266 - val_accuracy: 0.8869\n",
            "Epoch 10/20\n",
            "188/188 [==============================] - 2s 8ms/step - loss: 0.2116 - accuracy: 0.9190 - val_loss: 0.3296 - val_accuracy: 0.8852\n",
            "Epoch 11/20\n",
            "188/188 [==============================] - 2s 8ms/step - loss: 0.2080 - accuracy: 0.9211 - val_loss: 0.3229 - val_accuracy: 0.8921\n",
            "Epoch 12/20\n",
            "188/188 [==============================] - 2s 8ms/step - loss: 0.1979 - accuracy: 0.9261 - val_loss: 0.3161 - val_accuracy: 0.8957\n",
            "Epoch 13/20\n",
            "188/188 [==============================] - 2s 8ms/step - loss: 0.1850 - accuracy: 0.9283 - val_loss: 0.3082 - val_accuracy: 0.8940\n",
            "Epoch 14/20\n",
            "188/188 [==============================] - 2s 8ms/step - loss: 0.1833 - accuracy: 0.9304 - val_loss: 0.3178 - val_accuracy: 0.8929\n",
            "Epoch 15/20\n",
            "188/188 [==============================] - 2s 8ms/step - loss: 0.1749 - accuracy: 0.9333 - val_loss: 0.3211 - val_accuracy: 0.8973\n",
            "Epoch 16/20\n",
            "188/188 [==============================] - 2s 8ms/step - loss: 0.1634 - accuracy: 0.9365 - val_loss: 0.3423 - val_accuracy: 0.8924\n",
            "Epoch 17/20\n",
            "188/188 [==============================] - 2s 8ms/step - loss: 0.1630 - accuracy: 0.9372 - val_loss: 0.3207 - val_accuracy: 0.8972\n",
            "Epoch 18/20\n",
            "188/188 [==============================] - 2s 8ms/step - loss: 0.1528 - accuracy: 0.9417 - val_loss: 0.3646 - val_accuracy: 0.8895\n",
            "Epoch 19/20\n",
            "188/188 [==============================] - 2s 8ms/step - loss: 0.1525 - accuracy: 0.9416 - val_loss: 0.3519 - val_accuracy: 0.8898\n",
            "Epoch 20/20\n",
            "188/188 [==============================] - 2s 8ms/step - loss: 0.1399 - accuracy: 0.9458 - val_loss: 0.3521 - val_accuracy: 0.8972\n"
          ],
          "name": "stdout"
        },
        {
          "output_type": "display_data",
          "data": {
            "text/html": [
              "<span style=\"color:#4527A0\"><h1 style=\"font-size:18px\">Trial complete</h1></span>"
            ],
            "text/plain": [
              "<IPython.core.display.HTML object>"
            ]
          },
          "metadata": {
            "tags": []
          }
        },
        {
          "output_type": "display_data",
          "data": {
            "text/html": [
              "<span style=\"color:#4527A0\"><h1 style=\"font-size:18px\">Trial summary</h1></span>"
            ],
            "text/plain": [
              "<IPython.core.display.HTML object>"
            ]
          },
          "metadata": {
            "tags": []
          }
        },
        {
          "output_type": "display_data",
          "data": {
            "text/html": [
              "<span style=\"color:cyan\"> |-Trial ID: 13fc773ed53832222c2c1327953d2be9</span>"
            ],
            "text/plain": [
              "<IPython.core.display.HTML object>"
            ]
          },
          "metadata": {
            "tags": []
          }
        },
        {
          "output_type": "display_data",
          "data": {
            "text/html": [
              "<span style=\"color:cyan\"> |-Score: 0.8973333239555359</span>"
            ],
            "text/plain": [
              "<IPython.core.display.HTML object>"
            ]
          },
          "metadata": {
            "tags": []
          }
        },
        {
          "output_type": "display_data",
          "data": {
            "text/html": [
              "<span style=\"color:cyan\"> |-Best step: 0</span>"
            ],
            "text/plain": [
              "<IPython.core.display.HTML object>"
            ]
          },
          "metadata": {
            "tags": []
          }
        },
        {
          "output_type": "display_data",
          "data": {
            "text/html": [
              "<span style=\"color:#7E57C2\"><h2 style=\"font-size:16px\">Hyperparameters:</h2></span>"
            ],
            "text/plain": [
              "<IPython.core.display.HTML object>"
            ]
          },
          "metadata": {
            "tags": []
          }
        },
        {
          "output_type": "display_data",
          "data": {
            "text/html": [
              "<span style=\"color:cyan\"> |-activation: relu</span>"
            ],
            "text/plain": [
              "<IPython.core.display.HTML object>"
            ]
          },
          "metadata": {
            "tags": []
          }
        },
        {
          "output_type": "display_data",
          "data": {
            "text/html": [
              "<span style=\"color:blue\"> |-optimizer: adam</span>"
            ],
            "text/plain": [
              "<IPython.core.display.HTML object>"
            ]
          },
          "metadata": {
            "tags": []
          }
        },
        {
          "output_type": "display_data",
          "data": {
            "text/html": [
              "<span style=\"color:cyan\"> |-units_hidden: 576</span>"
            ],
            "text/plain": [
              "<IPython.core.display.HTML object>"
            ]
          },
          "metadata": {
            "tags": []
          }
        },
        {
          "output_type": "display_data",
          "data": {
            "text/html": [
              "<span style=\"color:blue\"> |-units_input: 864</span>"
            ],
            "text/plain": [
              "<IPython.core.display.HTML object>"
            ]
          },
          "metadata": {
            "tags": []
          }
        },
        {
          "output_type": "stream",
          "text": [
            "Epoch 1/20\n",
            "188/188 [==============================] - 2s 10ms/step - loss: 0.9428 - accuracy: 0.6966 - val_loss: 0.5893 - val_accuracy: 0.7797\n",
            "Epoch 2/20\n",
            "188/188 [==============================] - 2s 9ms/step - loss: 0.5189 - accuracy: 0.8065 - val_loss: 0.4339 - val_accuracy: 0.8397\n",
            "Epoch 3/20\n",
            "188/188 [==============================] - 2s 9ms/step - loss: 0.4316 - accuracy: 0.8402 - val_loss: 0.4281 - val_accuracy: 0.8426\n",
            "Epoch 4/20\n",
            "188/188 [==============================] - 2s 9ms/step - loss: 0.3847 - accuracy: 0.8556 - val_loss: 0.4045 - val_accuracy: 0.8528\n",
            "Epoch 5/20\n",
            "188/188 [==============================] - 2s 9ms/step - loss: 0.3504 - accuracy: 0.8681 - val_loss: 0.3666 - val_accuracy: 0.8640\n",
            "Epoch 6/20\n",
            "188/188 [==============================] - 2s 9ms/step - loss: 0.3230 - accuracy: 0.8773 - val_loss: 0.3717 - val_accuracy: 0.8671\n",
            "Epoch 7/20\n",
            "188/188 [==============================] - 2s 9ms/step - loss: 0.3012 - accuracy: 0.8852 - val_loss: 0.3498 - val_accuracy: 0.8742\n",
            "Epoch 8/20\n",
            "188/188 [==============================] - 2s 9ms/step - loss: 0.2879 - accuracy: 0.8900 - val_loss: 0.3845 - val_accuracy: 0.8650\n",
            "Epoch 9/20\n",
            "188/188 [==============================] - 2s 9ms/step - loss: 0.2729 - accuracy: 0.8959 - val_loss: 0.3639 - val_accuracy: 0.8693\n",
            "Epoch 10/20\n",
            "188/188 [==============================] - 2s 9ms/step - loss: 0.2557 - accuracy: 0.9020 - val_loss: 0.3472 - val_accuracy: 0.8768\n",
            "Epoch 11/20\n",
            "188/188 [==============================] - 2s 9ms/step - loss: 0.2409 - accuracy: 0.9080 - val_loss: 0.3768 - val_accuracy: 0.8648\n",
            "Epoch 12/20\n",
            "188/188 [==============================] - 2s 9ms/step - loss: 0.2318 - accuracy: 0.9091 - val_loss: 0.3266 - val_accuracy: 0.8864\n",
            "Epoch 13/20\n",
            "188/188 [==============================] - 2s 9ms/step - loss: 0.2196 - accuracy: 0.9162 - val_loss: 0.3194 - val_accuracy: 0.8908\n",
            "Epoch 14/20\n",
            "188/188 [==============================] - 2s 9ms/step - loss: 0.2097 - accuracy: 0.9198 - val_loss: 0.3416 - val_accuracy: 0.8869\n",
            "Epoch 15/20\n",
            "188/188 [==============================] - 2s 9ms/step - loss: 0.1971 - accuracy: 0.9245 - val_loss: 0.3379 - val_accuracy: 0.8823\n",
            "Epoch 16/20\n",
            "188/188 [==============================] - 2s 9ms/step - loss: 0.1871 - accuracy: 0.9300 - val_loss: 0.3419 - val_accuracy: 0.8828\n",
            "Epoch 17/20\n",
            "188/188 [==============================] - 2s 9ms/step - loss: 0.1777 - accuracy: 0.9315 - val_loss: 0.3315 - val_accuracy: 0.8888\n",
            "Epoch 18/20\n",
            "188/188 [==============================] - 2s 9ms/step - loss: 0.1665 - accuracy: 0.9361 - val_loss: 0.3852 - val_accuracy: 0.8779\n",
            "Epoch 19/20\n",
            "188/188 [==============================] - 2s 9ms/step - loss: 0.1577 - accuracy: 0.9395 - val_loss: 0.3893 - val_accuracy: 0.8717\n",
            "Epoch 20/20\n",
            "188/188 [==============================] - 2s 9ms/step - loss: 0.1513 - accuracy: 0.9422 - val_loss: 0.3307 - val_accuracy: 0.8958\n"
          ],
          "name": "stdout"
        },
        {
          "output_type": "display_data",
          "data": {
            "text/html": [
              "<span style=\"color:#4527A0\"><h1 style=\"font-size:18px\">Trial complete</h1></span>"
            ],
            "text/plain": [
              "<IPython.core.display.HTML object>"
            ]
          },
          "metadata": {
            "tags": []
          }
        },
        {
          "output_type": "display_data",
          "data": {
            "text/html": [
              "<span style=\"color:#4527A0\"><h1 style=\"font-size:18px\">Trial summary</h1></span>"
            ],
            "text/plain": [
              "<IPython.core.display.HTML object>"
            ]
          },
          "metadata": {
            "tags": []
          }
        },
        {
          "output_type": "display_data",
          "data": {
            "text/html": [
              "<span style=\"color:cyan\"> |-Trial ID: 4b996345649871614d3ab1e9c1d322ce</span>"
            ],
            "text/plain": [
              "<IPython.core.display.HTML object>"
            ]
          },
          "metadata": {
            "tags": []
          }
        },
        {
          "output_type": "display_data",
          "data": {
            "text/html": [
              "<span style=\"color:cyan\"> |-Score: 0.8958333134651184</span>"
            ],
            "text/plain": [
              "<IPython.core.display.HTML object>"
            ]
          },
          "metadata": {
            "tags": []
          }
        },
        {
          "output_type": "display_data",
          "data": {
            "text/html": [
              "<span style=\"color:cyan\"> |-Best step: 0</span>"
            ],
            "text/plain": [
              "<IPython.core.display.HTML object>"
            ]
          },
          "metadata": {
            "tags": []
          }
        },
        {
          "output_type": "display_data",
          "data": {
            "text/html": [
              "<span style=\"color:#7E57C2\"><h2 style=\"font-size:16px\">Hyperparameters:</h2></span>"
            ],
            "text/plain": [
              "<IPython.core.display.HTML object>"
            ]
          },
          "metadata": {
            "tags": []
          }
        },
        {
          "output_type": "display_data",
          "data": {
            "text/html": [
              "<span style=\"color:cyan\"> |-activation: tanh</span>"
            ],
            "text/plain": [
              "<IPython.core.display.HTML object>"
            ]
          },
          "metadata": {
            "tags": []
          }
        },
        {
          "output_type": "display_data",
          "data": {
            "text/html": [
              "<span style=\"color:blue\"> |-optimizer: rmsprop</span>"
            ],
            "text/plain": [
              "<IPython.core.display.HTML object>"
            ]
          },
          "metadata": {
            "tags": []
          }
        },
        {
          "output_type": "display_data",
          "data": {
            "text/html": [
              "<span style=\"color:cyan\"> |-units_hidden: 576</span>"
            ],
            "text/plain": [
              "<IPython.core.display.HTML object>"
            ]
          },
          "metadata": {
            "tags": []
          }
        },
        {
          "output_type": "display_data",
          "data": {
            "text/html": [
              "<span style=\"color:blue\"> |-units_input: 736</span>"
            ],
            "text/plain": [
              "<IPython.core.display.HTML object>"
            ]
          },
          "metadata": {
            "tags": []
          }
        },
        {
          "output_type": "stream",
          "text": [
            "Epoch 1/20\n",
            "188/188 [==============================] - 1s 8ms/step - loss: 0.6931 - accuracy: 0.7473 - val_loss: 0.4568 - val_accuracy: 0.8269\n",
            "Epoch 2/20\n",
            "188/188 [==============================] - 1s 7ms/step - loss: 0.4549 - accuracy: 0.8294 - val_loss: 0.3862 - val_accuracy: 0.8604\n",
            "Epoch 3/20\n",
            "188/188 [==============================] - 1s 7ms/step - loss: 0.3928 - accuracy: 0.8535 - val_loss: 0.4568 - val_accuracy: 0.8267\n",
            "Epoch 4/20\n",
            "188/188 [==============================] - 1s 7ms/step - loss: 0.3573 - accuracy: 0.8671 - val_loss: 0.3524 - val_accuracy: 0.8702\n",
            "Epoch 5/20\n",
            "188/188 [==============================] - 1s 7ms/step - loss: 0.3319 - accuracy: 0.8751 - val_loss: 0.4153 - val_accuracy: 0.8429\n",
            "Epoch 6/20\n",
            "188/188 [==============================] - 1s 7ms/step - loss: 0.3118 - accuracy: 0.8826 - val_loss: 0.3911 - val_accuracy: 0.8544\n",
            "Epoch 7/20\n",
            "188/188 [==============================] - 1s 7ms/step - loss: 0.2958 - accuracy: 0.8887 - val_loss: 0.3329 - val_accuracy: 0.8751\n",
            "Epoch 8/20\n",
            "188/188 [==============================] - 1s 7ms/step - loss: 0.2790 - accuracy: 0.8947 - val_loss: 0.3735 - val_accuracy: 0.8636\n",
            "Epoch 9/20\n",
            "188/188 [==============================] - 1s 7ms/step - loss: 0.2694 - accuracy: 0.8985 - val_loss: 0.3491 - val_accuracy: 0.8705\n",
            "Epoch 10/20\n",
            "188/188 [==============================] - 1s 7ms/step - loss: 0.2552 - accuracy: 0.9032 - val_loss: 0.3510 - val_accuracy: 0.8703\n",
            "Epoch 11/20\n",
            "188/188 [==============================] - 1s 7ms/step - loss: 0.2446 - accuracy: 0.9073 - val_loss: 0.3903 - val_accuracy: 0.8596\n",
            "Epoch 12/20\n",
            "188/188 [==============================] - 1s 7ms/step - loss: 0.2344 - accuracy: 0.9120 - val_loss: 0.3737 - val_accuracy: 0.8742\n",
            "Epoch 13/20\n",
            "188/188 [==============================] - 1s 7ms/step - loss: 0.2275 - accuracy: 0.9132 - val_loss: 0.3077 - val_accuracy: 0.8887\n",
            "Epoch 14/20\n",
            "188/188 [==============================] - 1s 7ms/step - loss: 0.2154 - accuracy: 0.9192 - val_loss: 0.3616 - val_accuracy: 0.8680\n",
            "Epoch 15/20\n",
            "188/188 [==============================] - 1s 7ms/step - loss: 0.2062 - accuracy: 0.9208 - val_loss: 0.3259 - val_accuracy: 0.8851\n",
            "Epoch 16/20\n",
            "188/188 [==============================] - 1s 7ms/step - loss: 0.1996 - accuracy: 0.9244 - val_loss: 0.3536 - val_accuracy: 0.8738\n",
            "Epoch 17/20\n",
            "188/188 [==============================] - 1s 7ms/step - loss: 0.1925 - accuracy: 0.9263 - val_loss: 0.3416 - val_accuracy: 0.8813\n",
            "Epoch 18/20\n",
            "188/188 [==============================] - 1s 7ms/step - loss: 0.1842 - accuracy: 0.9317 - val_loss: 0.3338 - val_accuracy: 0.8836\n",
            "Epoch 19/20\n",
            "188/188 [==============================] - 1s 7ms/step - loss: 0.1769 - accuracy: 0.9330 - val_loss: 0.3534 - val_accuracy: 0.8742\n",
            "Epoch 20/20\n",
            "188/188 [==============================] - 1s 7ms/step - loss: 0.1721 - accuracy: 0.9340 - val_loss: 0.3432 - val_accuracy: 0.8839\n"
          ],
          "name": "stdout"
        },
        {
          "output_type": "display_data",
          "data": {
            "text/html": [
              "<span style=\"color:#4527A0\"><h1 style=\"font-size:18px\">Trial complete</h1></span>"
            ],
            "text/plain": [
              "<IPython.core.display.HTML object>"
            ]
          },
          "metadata": {
            "tags": []
          }
        },
        {
          "output_type": "display_data",
          "data": {
            "text/html": [
              "<span style=\"color:#4527A0\"><h1 style=\"font-size:18px\">Trial summary</h1></span>"
            ],
            "text/plain": [
              "<IPython.core.display.HTML object>"
            ]
          },
          "metadata": {
            "tags": []
          }
        },
        {
          "output_type": "display_data",
          "data": {
            "text/html": [
              "<span style=\"color:cyan\"> |-Trial ID: 5b4b8e64345d21aadee8bc57895e005b</span>"
            ],
            "text/plain": [
              "<IPython.core.display.HTML object>"
            ]
          },
          "metadata": {
            "tags": []
          }
        },
        {
          "output_type": "display_data",
          "data": {
            "text/html": [
              "<span style=\"color:cyan\"> |-Score: 0.8886666893959045</span>"
            ],
            "text/plain": [
              "<IPython.core.display.HTML object>"
            ]
          },
          "metadata": {
            "tags": []
          }
        },
        {
          "output_type": "display_data",
          "data": {
            "text/html": [
              "<span style=\"color:cyan\"> |-Best step: 0</span>"
            ],
            "text/plain": [
              "<IPython.core.display.HTML object>"
            ]
          },
          "metadata": {
            "tags": []
          }
        },
        {
          "output_type": "display_data",
          "data": {
            "text/html": [
              "<span style=\"color:#7E57C2\"><h2 style=\"font-size:16px\">Hyperparameters:</h2></span>"
            ],
            "text/plain": [
              "<IPython.core.display.HTML object>"
            ]
          },
          "metadata": {
            "tags": []
          }
        },
        {
          "output_type": "display_data",
          "data": {
            "text/html": [
              "<span style=\"color:cyan\"> |-activation: tanh</span>"
            ],
            "text/plain": [
              "<IPython.core.display.HTML object>"
            ]
          },
          "metadata": {
            "tags": []
          }
        },
        {
          "output_type": "display_data",
          "data": {
            "text/html": [
              "<span style=\"color:blue\"> |-optimizer: rmsprop</span>"
            ],
            "text/plain": [
              "<IPython.core.display.HTML object>"
            ]
          },
          "metadata": {
            "tags": []
          }
        },
        {
          "output_type": "display_data",
          "data": {
            "text/html": [
              "<span style=\"color:cyan\"> |-units_hidden: 160</span>"
            ],
            "text/plain": [
              "<IPython.core.display.HTML object>"
            ]
          },
          "metadata": {
            "tags": []
          }
        },
        {
          "output_type": "display_data",
          "data": {
            "text/html": [
              "<span style=\"color:blue\"> |-units_input: 512</span>"
            ],
            "text/plain": [
              "<IPython.core.display.HTML object>"
            ]
          },
          "metadata": {
            "tags": []
          }
        },
        {
          "output_type": "stream",
          "text": [
            "Epoch 1/20\n",
            "188/188 [==============================] - 2s 9ms/step - loss: 0.6842 - accuracy: 0.7494 - val_loss: 0.6535 - val_accuracy: 0.7652\n",
            "Epoch 2/20\n",
            "188/188 [==============================] - 2s 8ms/step - loss: 0.4363 - accuracy: 0.8388 - val_loss: 0.4143 - val_accuracy: 0.8465\n",
            "Epoch 3/20\n",
            "188/188 [==============================] - 2s 8ms/step - loss: 0.3762 - accuracy: 0.8612 - val_loss: 0.3938 - val_accuracy: 0.8568\n",
            "Epoch 4/20\n",
            "188/188 [==============================] - 2s 8ms/step - loss: 0.3429 - accuracy: 0.8723 - val_loss: 0.4099 - val_accuracy: 0.8614\n",
            "Epoch 5/20\n",
            "188/188 [==============================] - 2s 8ms/step - loss: 0.3167 - accuracy: 0.8828 - val_loss: 0.3692 - val_accuracy: 0.8666\n",
            "Epoch 6/20\n",
            "188/188 [==============================] - 2s 8ms/step - loss: 0.2985 - accuracy: 0.8879 - val_loss: 0.3766 - val_accuracy: 0.8711\n",
            "Epoch 7/20\n",
            "188/188 [==============================] - 2s 8ms/step - loss: 0.2815 - accuracy: 0.8936 - val_loss: 0.3300 - val_accuracy: 0.8862\n",
            "Epoch 8/20\n",
            "188/188 [==============================] - 1s 8ms/step - loss: 0.2659 - accuracy: 0.8987 - val_loss: 0.3986 - val_accuracy: 0.8685\n",
            "Epoch 9/20\n",
            "188/188 [==============================] - 1s 8ms/step - loss: 0.2565 - accuracy: 0.9032 - val_loss: 0.3323 - val_accuracy: 0.8839\n",
            "Epoch 10/20\n",
            "188/188 [==============================] - 1s 8ms/step - loss: 0.2451 - accuracy: 0.9068 - val_loss: 0.3410 - val_accuracy: 0.8904\n",
            "Epoch 11/20\n",
            "188/188 [==============================] - 2s 8ms/step - loss: 0.2333 - accuracy: 0.9103 - val_loss: 0.3303 - val_accuracy: 0.8894\n",
            "Epoch 12/20\n",
            "188/188 [==============================] - 2s 8ms/step - loss: 0.2265 - accuracy: 0.9131 - val_loss: 0.4241 - val_accuracy: 0.8670\n",
            "Epoch 13/20\n",
            "188/188 [==============================] - 1s 8ms/step - loss: 0.2175 - accuracy: 0.9167 - val_loss: 0.3910 - val_accuracy: 0.8781\n",
            "Epoch 14/20\n",
            "188/188 [==============================] - 2s 8ms/step - loss: 0.2119 - accuracy: 0.9192 - val_loss: 0.3928 - val_accuracy: 0.8863\n",
            "Epoch 15/20\n",
            "188/188 [==============================] - 2s 8ms/step - loss: 0.2009 - accuracy: 0.9238 - val_loss: 0.3438 - val_accuracy: 0.8880\n",
            "Epoch 16/20\n",
            "188/188 [==============================] - 1s 8ms/step - loss: 0.1976 - accuracy: 0.9251 - val_loss: 0.4219 - val_accuracy: 0.8813\n",
            "Epoch 17/20\n",
            "188/188 [==============================] - 2s 8ms/step - loss: 0.1912 - accuracy: 0.9269 - val_loss: 0.4168 - val_accuracy: 0.8790\n",
            "Epoch 18/20\n",
            "188/188 [==============================] - 2s 8ms/step - loss: 0.1858 - accuracy: 0.9287 - val_loss: 0.4767 - val_accuracy: 0.8721\n",
            "Epoch 19/20\n",
            "188/188 [==============================] - 2s 8ms/step - loss: 0.1807 - accuracy: 0.9301 - val_loss: 0.4990 - val_accuracy: 0.8923\n",
            "Epoch 20/20\n",
            "188/188 [==============================] - 2s 8ms/step - loss: 0.1733 - accuracy: 0.9349 - val_loss: 0.4097 - val_accuracy: 0.8844\n"
          ],
          "name": "stdout"
        },
        {
          "output_type": "display_data",
          "data": {
            "text/html": [
              "<span style=\"color:#4527A0\"><h1 style=\"font-size:18px\">Trial complete</h1></span>"
            ],
            "text/plain": [
              "<IPython.core.display.HTML object>"
            ]
          },
          "metadata": {
            "tags": []
          }
        },
        {
          "output_type": "display_data",
          "data": {
            "text/html": [
              "<span style=\"color:#4527A0\"><h1 style=\"font-size:18px\">Trial summary</h1></span>"
            ],
            "text/plain": [
              "<IPython.core.display.HTML object>"
            ]
          },
          "metadata": {
            "tags": []
          }
        },
        {
          "output_type": "display_data",
          "data": {
            "text/html": [
              "<span style=\"color:cyan\"> |-Trial ID: 9982d1482897245715c5b68693d5e1ba</span>"
            ],
            "text/plain": [
              "<IPython.core.display.HTML object>"
            ]
          },
          "metadata": {
            "tags": []
          }
        },
        {
          "output_type": "display_data",
          "data": {
            "text/html": [
              "<span style=\"color:cyan\"> |-Score: 0.8922500014305115</span>"
            ],
            "text/plain": [
              "<IPython.core.display.HTML object>"
            ]
          },
          "metadata": {
            "tags": []
          }
        },
        {
          "output_type": "display_data",
          "data": {
            "text/html": [
              "<span style=\"color:cyan\"> |-Best step: 0</span>"
            ],
            "text/plain": [
              "<IPython.core.display.HTML object>"
            ]
          },
          "metadata": {
            "tags": []
          }
        },
        {
          "output_type": "display_data",
          "data": {
            "text/html": [
              "<span style=\"color:#7E57C2\"><h2 style=\"font-size:16px\">Hyperparameters:</h2></span>"
            ],
            "text/plain": [
              "<IPython.core.display.HTML object>"
            ]
          },
          "metadata": {
            "tags": []
          }
        },
        {
          "output_type": "display_data",
          "data": {
            "text/html": [
              "<span style=\"color:cyan\"> |-activation: relu</span>"
            ],
            "text/plain": [
              "<IPython.core.display.HTML object>"
            ]
          },
          "metadata": {
            "tags": []
          }
        },
        {
          "output_type": "display_data",
          "data": {
            "text/html": [
              "<span style=\"color:blue\"> |-optimizer: rmsprop</span>"
            ],
            "text/plain": [
              "<IPython.core.display.HTML object>"
            ]
          },
          "metadata": {
            "tags": []
          }
        },
        {
          "output_type": "display_data",
          "data": {
            "text/html": [
              "<span style=\"color:cyan\"> |-units_hidden: 192</span>"
            ],
            "text/plain": [
              "<IPython.core.display.HTML object>"
            ]
          },
          "metadata": {
            "tags": []
          }
        },
        {
          "output_type": "display_data",
          "data": {
            "text/html": [
              "<span style=\"color:blue\"> |-units_input: 1024</span>"
            ],
            "text/plain": [
              "<IPython.core.display.HTML object>"
            ]
          },
          "metadata": {
            "tags": []
          }
        },
        {
          "output_type": "stream",
          "text": [
            "Epoch 1/20\n",
            "188/188 [==============================] - 1s 8ms/step - loss: 1.4274 - accuracy: 0.6087 - val_loss: 0.9152 - val_accuracy: 0.7145\n",
            "Epoch 2/20\n",
            "188/188 [==============================] - 1s 7ms/step - loss: 0.7976 - accuracy: 0.7452 - val_loss: 0.6996 - val_accuracy: 0.7803\n",
            "Epoch 3/20\n",
            "188/188 [==============================] - 1s 7ms/step - loss: 0.6588 - accuracy: 0.7870 - val_loss: 0.6252 - val_accuracy: 0.7938\n",
            "Epoch 4/20\n",
            "188/188 [==============================] - 1s 7ms/step - loss: 0.5892 - accuracy: 0.8061 - val_loss: 0.5663 - val_accuracy: 0.8084\n",
            "Epoch 5/20\n",
            "188/188 [==============================] - 1s 7ms/step - loss: 0.5477 - accuracy: 0.8171 - val_loss: 0.5431 - val_accuracy: 0.8117\n",
            "Epoch 6/20\n",
            "188/188 [==============================] - 1s 7ms/step - loss: 0.5191 - accuracy: 0.8256 - val_loss: 0.5134 - val_accuracy: 0.8230\n",
            "Epoch 7/20\n",
            "188/188 [==============================] - 1s 7ms/step - loss: 0.4993 - accuracy: 0.8300 - val_loss: 0.4943 - val_accuracy: 0.8263\n",
            "Epoch 8/20\n",
            "188/188 [==============================] - 1s 7ms/step - loss: 0.4821 - accuracy: 0.8352 - val_loss: 0.4884 - val_accuracy: 0.8294\n",
            "Epoch 9/20\n",
            "188/188 [==============================] - 1s 7ms/step - loss: 0.4710 - accuracy: 0.8368 - val_loss: 0.4849 - val_accuracy: 0.8299\n",
            "Epoch 10/20\n",
            "188/188 [==============================] - 1s 7ms/step - loss: 0.4567 - accuracy: 0.8418 - val_loss: 0.4657 - val_accuracy: 0.8381\n",
            "Epoch 11/20\n",
            "188/188 [==============================] - 1s 7ms/step - loss: 0.4522 - accuracy: 0.8428 - val_loss: 0.4667 - val_accuracy: 0.8336\n",
            "Epoch 12/20\n",
            "188/188 [==============================] - 1s 7ms/step - loss: 0.4441 - accuracy: 0.8448 - val_loss: 0.4471 - val_accuracy: 0.8457\n",
            "Epoch 13/20\n",
            "188/188 [==============================] - 1s 7ms/step - loss: 0.4354 - accuracy: 0.8488 - val_loss: 0.4605 - val_accuracy: 0.8323\n",
            "Epoch 14/20\n",
            "188/188 [==============================] - 1s 7ms/step - loss: 0.4311 - accuracy: 0.8500 - val_loss: 0.4501 - val_accuracy: 0.8390\n",
            "Epoch 15/20\n",
            "188/188 [==============================] - 1s 7ms/step - loss: 0.4238 - accuracy: 0.8527 - val_loss: 0.4376 - val_accuracy: 0.8451\n",
            "Epoch 16/20\n",
            "188/188 [==============================] - 1s 7ms/step - loss: 0.4161 - accuracy: 0.8552 - val_loss: 0.4461 - val_accuracy: 0.8449\n",
            "Epoch 17/20\n",
            "188/188 [==============================] - 1s 7ms/step - loss: 0.4122 - accuracy: 0.8560 - val_loss: 0.4298 - val_accuracy: 0.8475\n",
            "Epoch 18/20\n",
            "188/188 [==============================] - 1s 7ms/step - loss: 0.4063 - accuracy: 0.8582 - val_loss: 0.4327 - val_accuracy: 0.8470\n",
            "Epoch 19/20\n",
            "188/188 [==============================] - 1s 7ms/step - loss: 0.4042 - accuracy: 0.8583 - val_loss: 0.4302 - val_accuracy: 0.8449\n",
            "Epoch 20/20\n",
            "188/188 [==============================] - 1s 7ms/step - loss: 0.3976 - accuracy: 0.8629 - val_loss: 0.4423 - val_accuracy: 0.8397\n"
          ],
          "name": "stdout"
        },
        {
          "output_type": "display_data",
          "data": {
            "text/html": [
              "<span style=\"color:#4527A0\"><h1 style=\"font-size:18px\">Trial complete</h1></span>"
            ],
            "text/plain": [
              "<IPython.core.display.HTML object>"
            ]
          },
          "metadata": {
            "tags": []
          }
        },
        {
          "output_type": "display_data",
          "data": {
            "text/html": [
              "<span style=\"color:#4527A0\"><h1 style=\"font-size:18px\">Trial summary</h1></span>"
            ],
            "text/plain": [
              "<IPython.core.display.HTML object>"
            ]
          },
          "metadata": {
            "tags": []
          }
        },
        {
          "output_type": "display_data",
          "data": {
            "text/html": [
              "<span style=\"color:cyan\"> |-Trial ID: 94b5ca94ca9748db0f257a0bcf22e651</span>"
            ],
            "text/plain": [
              "<IPython.core.display.HTML object>"
            ]
          },
          "metadata": {
            "tags": []
          }
        },
        {
          "output_type": "display_data",
          "data": {
            "text/html": [
              "<span style=\"color:cyan\"> |-Score: 0.8475000262260437</span>"
            ],
            "text/plain": [
              "<IPython.core.display.HTML object>"
            ]
          },
          "metadata": {
            "tags": []
          }
        },
        {
          "output_type": "display_data",
          "data": {
            "text/html": [
              "<span style=\"color:cyan\"> |-Best step: 0</span>"
            ],
            "text/plain": [
              "<IPython.core.display.HTML object>"
            ]
          },
          "metadata": {
            "tags": []
          }
        },
        {
          "output_type": "display_data",
          "data": {
            "text/html": [
              "<span style=\"color:#7E57C2\"><h2 style=\"font-size:16px\">Hyperparameters:</h2></span>"
            ],
            "text/plain": [
              "<IPython.core.display.HTML object>"
            ]
          },
          "metadata": {
            "tags": []
          }
        },
        {
          "output_type": "display_data",
          "data": {
            "text/html": [
              "<span style=\"color:cyan\"> |-activation: relu</span>"
            ],
            "text/plain": [
              "<IPython.core.display.HTML object>"
            ]
          },
          "metadata": {
            "tags": []
          }
        },
        {
          "output_type": "display_data",
          "data": {
            "text/html": [
              "<span style=\"color:blue\"> |-optimizer: SGD</span>"
            ],
            "text/plain": [
              "<IPython.core.display.HTML object>"
            ]
          },
          "metadata": {
            "tags": []
          }
        },
        {
          "output_type": "display_data",
          "data": {
            "text/html": [
              "<span style=\"color:cyan\"> |-units_hidden: 352</span>"
            ],
            "text/plain": [
              "<IPython.core.display.HTML object>"
            ]
          },
          "metadata": {
            "tags": []
          }
        },
        {
          "output_type": "display_data",
          "data": {
            "text/html": [
              "<span style=\"color:blue\"> |-units_input: 736</span>"
            ],
            "text/plain": [
              "<IPython.core.display.HTML object>"
            ]
          },
          "metadata": {
            "tags": []
          }
        },
        {
          "output_type": "stream",
          "text": [
            "Epoch 1/20\n",
            "188/188 [==============================] - 2s 9ms/step - loss: 0.6426 - accuracy: 0.7940 - val_loss: 0.4120 - val_accuracy: 0.8487\n",
            "Epoch 2/20\n",
            "188/188 [==============================] - 1s 8ms/step - loss: 0.4054 - accuracy: 0.8535 - val_loss: 0.4055 - val_accuracy: 0.8531\n",
            "Epoch 3/20\n",
            "188/188 [==============================] - 1s 8ms/step - loss: 0.3593 - accuracy: 0.8671 - val_loss: 0.4125 - val_accuracy: 0.8482\n",
            "Epoch 4/20\n",
            "188/188 [==============================] - 1s 8ms/step - loss: 0.3431 - accuracy: 0.8734 - val_loss: 0.3586 - val_accuracy: 0.8725\n",
            "Epoch 5/20\n",
            "188/188 [==============================] - 2s 8ms/step - loss: 0.3121 - accuracy: 0.8849 - val_loss: 0.3330 - val_accuracy: 0.8763\n",
            "Epoch 6/20\n",
            "188/188 [==============================] - 1s 8ms/step - loss: 0.2914 - accuracy: 0.8921 - val_loss: 0.3884 - val_accuracy: 0.8627\n",
            "Epoch 7/20\n",
            "188/188 [==============================] - 1s 7ms/step - loss: 0.2788 - accuracy: 0.8948 - val_loss: 0.3700 - val_accuracy: 0.8708\n",
            "Epoch 8/20\n",
            "188/188 [==============================] - 1s 7ms/step - loss: 0.2748 - accuracy: 0.8975 - val_loss: 0.3467 - val_accuracy: 0.8738\n",
            "Epoch 9/20\n",
            "188/188 [==============================] - 1s 7ms/step - loss: 0.2633 - accuracy: 0.9000 - val_loss: 0.3706 - val_accuracy: 0.8726\n",
            "Epoch 10/20\n",
            "188/188 [==============================] - 2s 8ms/step - loss: 0.2460 - accuracy: 0.9079 - val_loss: 0.3238 - val_accuracy: 0.8873\n",
            "Epoch 11/20\n",
            "188/188 [==============================] - 1s 8ms/step - loss: 0.2339 - accuracy: 0.9134 - val_loss: 0.3439 - val_accuracy: 0.8777\n",
            "Epoch 12/20\n",
            "188/188 [==============================] - 1s 7ms/step - loss: 0.2274 - accuracy: 0.9134 - val_loss: 0.3286 - val_accuracy: 0.8861\n",
            "Epoch 13/20\n",
            "188/188 [==============================] - 2s 8ms/step - loss: 0.2221 - accuracy: 0.9159 - val_loss: 0.3311 - val_accuracy: 0.8891\n",
            "Epoch 14/20\n",
            "188/188 [==============================] - 1s 8ms/step - loss: 0.2122 - accuracy: 0.9199 - val_loss: 0.3588 - val_accuracy: 0.8834\n",
            "Epoch 15/20\n",
            "188/188 [==============================] - 1s 7ms/step - loss: 0.2074 - accuracy: 0.9217 - val_loss: 0.3522 - val_accuracy: 0.8863\n",
            "Epoch 16/20\n",
            "188/188 [==============================] - 1s 8ms/step - loss: 0.2034 - accuracy: 0.9223 - val_loss: 0.3772 - val_accuracy: 0.8758\n",
            "Epoch 17/20\n",
            "188/188 [==============================] - 1s 8ms/step - loss: 0.1899 - accuracy: 0.9276 - val_loss: 0.3612 - val_accuracy: 0.8884\n",
            "Epoch 18/20\n",
            "188/188 [==============================] - 1s 8ms/step - loss: 0.1882 - accuracy: 0.9296 - val_loss: 0.3561 - val_accuracy: 0.8805\n",
            "Epoch 19/20\n",
            "188/188 [==============================] - 2s 8ms/step - loss: 0.1838 - accuracy: 0.9304 - val_loss: 0.3641 - val_accuracy: 0.8895\n",
            "Epoch 20/20\n",
            "188/188 [==============================] - 1s 8ms/step - loss: 0.1666 - accuracy: 0.9362 - val_loss: 0.4252 - val_accuracy: 0.8810\n"
          ],
          "name": "stdout"
        },
        {
          "output_type": "display_data",
          "data": {
            "text/html": [
              "<span style=\"color:#4527A0\"><h1 style=\"font-size:18px\">Trial complete</h1></span>"
            ],
            "text/plain": [
              "<IPython.core.display.HTML object>"
            ]
          },
          "metadata": {
            "tags": []
          }
        },
        {
          "output_type": "display_data",
          "data": {
            "text/html": [
              "<span style=\"color:#4527A0\"><h1 style=\"font-size:18px\">Trial summary</h1></span>"
            ],
            "text/plain": [
              "<IPython.core.display.HTML object>"
            ]
          },
          "metadata": {
            "tags": []
          }
        },
        {
          "output_type": "display_data",
          "data": {
            "text/html": [
              "<span style=\"color:cyan\"> |-Trial ID: 753ed59e39a8aa2fda23bc5de3417ea5</span>"
            ],
            "text/plain": [
              "<IPython.core.display.HTML object>"
            ]
          },
          "metadata": {
            "tags": []
          }
        },
        {
          "output_type": "display_data",
          "data": {
            "text/html": [
              "<span style=\"color:cyan\"> |-Score: 0.8895000219345093</span>"
            ],
            "text/plain": [
              "<IPython.core.display.HTML object>"
            ]
          },
          "metadata": {
            "tags": []
          }
        },
        {
          "output_type": "display_data",
          "data": {
            "text/html": [
              "<span style=\"color:cyan\"> |-Best step: 0</span>"
            ],
            "text/plain": [
              "<IPython.core.display.HTML object>"
            ]
          },
          "metadata": {
            "tags": []
          }
        },
        {
          "output_type": "display_data",
          "data": {
            "text/html": [
              "<span style=\"color:#7E57C2\"><h2 style=\"font-size:16px\">Hyperparameters:</h2></span>"
            ],
            "text/plain": [
              "<IPython.core.display.HTML object>"
            ]
          },
          "metadata": {
            "tags": []
          }
        },
        {
          "output_type": "display_data",
          "data": {
            "text/html": [
              "<span style=\"color:cyan\"> |-activation: selu</span>"
            ],
            "text/plain": [
              "<IPython.core.display.HTML object>"
            ]
          },
          "metadata": {
            "tags": []
          }
        },
        {
          "output_type": "display_data",
          "data": {
            "text/html": [
              "<span style=\"color:blue\"> |-optimizer: adam</span>"
            ],
            "text/plain": [
              "<IPython.core.display.HTML object>"
            ]
          },
          "metadata": {
            "tags": []
          }
        },
        {
          "output_type": "display_data",
          "data": {
            "text/html": [
              "<span style=\"color:cyan\"> |-units_hidden: 384</span>"
            ],
            "text/plain": [
              "<IPython.core.display.HTML object>"
            ]
          },
          "metadata": {
            "tags": []
          }
        },
        {
          "output_type": "display_data",
          "data": {
            "text/html": [
              "<span style=\"color:blue\"> |-units_input: 960</span>"
            ],
            "text/plain": [
              "<IPython.core.display.HTML object>"
            ]
          },
          "metadata": {
            "tags": []
          }
        },
        {
          "output_type": "stream",
          "text": [
            "Epoch 1/20\n",
            "188/188 [==============================] - 2s 9ms/step - loss: 0.7310 - accuracy: 0.7509 - val_loss: 0.5547 - val_accuracy: 0.8018\n",
            "Epoch 2/20\n",
            "188/188 [==============================] - 1s 8ms/step - loss: 0.5154 - accuracy: 0.8213 - val_loss: 0.4882 - val_accuracy: 0.8283\n",
            "Epoch 3/20\n",
            "188/188 [==============================] - 1s 8ms/step - loss: 0.4732 - accuracy: 0.8331 - val_loss: 0.4605 - val_accuracy: 0.8382\n",
            "Epoch 4/20\n",
            "188/188 [==============================] - 1s 8ms/step - loss: 0.4515 - accuracy: 0.8422 - val_loss: 0.4504 - val_accuracy: 0.8406\n",
            "Epoch 5/20\n",
            "188/188 [==============================] - 1s 8ms/step - loss: 0.4372 - accuracy: 0.8452 - val_loss: 0.4475 - val_accuracy: 0.8389\n",
            "Epoch 6/20\n",
            "188/188 [==============================] - 1s 8ms/step - loss: 0.4253 - accuracy: 0.8505 - val_loss: 0.4477 - val_accuracy: 0.8388\n",
            "Epoch 7/20\n",
            "188/188 [==============================] - 1s 8ms/step - loss: 0.4162 - accuracy: 0.8545 - val_loss: 0.4167 - val_accuracy: 0.8539\n",
            "Epoch 8/20\n",
            "188/188 [==============================] - 1s 8ms/step - loss: 0.4049 - accuracy: 0.8582 - val_loss: 0.4146 - val_accuracy: 0.8513\n",
            "Epoch 9/20\n",
            "188/188 [==============================] - 1s 7ms/step - loss: 0.3995 - accuracy: 0.8589 - val_loss: 0.4208 - val_accuracy: 0.8504\n",
            "Epoch 10/20\n",
            "188/188 [==============================] - 1s 8ms/step - loss: 0.3951 - accuracy: 0.8604 - val_loss: 0.4135 - val_accuracy: 0.8526\n",
            "Epoch 11/20\n",
            "188/188 [==============================] - 2s 8ms/step - loss: 0.3880 - accuracy: 0.8636 - val_loss: 0.3981 - val_accuracy: 0.8608\n",
            "Epoch 12/20\n",
            "188/188 [==============================] - 1s 8ms/step - loss: 0.3840 - accuracy: 0.8648 - val_loss: 0.4044 - val_accuracy: 0.8560\n",
            "Epoch 13/20\n",
            "188/188 [==============================] - 1s 7ms/step - loss: 0.3799 - accuracy: 0.8667 - val_loss: 0.3981 - val_accuracy: 0.8572\n",
            "Epoch 14/20\n",
            "188/188 [==============================] - 1s 8ms/step - loss: 0.3748 - accuracy: 0.8668 - val_loss: 0.3909 - val_accuracy: 0.8618\n",
            "Epoch 15/20\n",
            "188/188 [==============================] - 1s 7ms/step - loss: 0.3698 - accuracy: 0.8695 - val_loss: 0.4047 - val_accuracy: 0.8511\n",
            "Epoch 16/20\n",
            "188/188 [==============================] - 1s 8ms/step - loss: 0.3671 - accuracy: 0.8698 - val_loss: 0.3864 - val_accuracy: 0.8638\n",
            "Epoch 17/20\n",
            "188/188 [==============================] - 1s 8ms/step - loss: 0.3607 - accuracy: 0.8729 - val_loss: 0.4234 - val_accuracy: 0.8453\n",
            "Epoch 18/20\n",
            "188/188 [==============================] - 1s 8ms/step - loss: 0.3589 - accuracy: 0.8721 - val_loss: 0.3784 - val_accuracy: 0.8678\n",
            "Epoch 19/20\n",
            "188/188 [==============================] - 1s 8ms/step - loss: 0.3559 - accuracy: 0.8727 - val_loss: 0.3922 - val_accuracy: 0.8578\n",
            "Epoch 20/20\n",
            "188/188 [==============================] - 1s 8ms/step - loss: 0.3540 - accuracy: 0.8741 - val_loss: 0.3983 - val_accuracy: 0.8531\n"
          ],
          "name": "stdout"
        },
        {
          "output_type": "display_data",
          "data": {
            "text/html": [
              "<span style=\"color:#4527A0\"><h1 style=\"font-size:18px\">Trial complete</h1></span>"
            ],
            "text/plain": [
              "<IPython.core.display.HTML object>"
            ]
          },
          "metadata": {
            "tags": []
          }
        },
        {
          "output_type": "display_data",
          "data": {
            "text/html": [
              "<span style=\"color:#4527A0\"><h1 style=\"font-size:18px\">Trial summary</h1></span>"
            ],
            "text/plain": [
              "<IPython.core.display.HTML object>"
            ]
          },
          "metadata": {
            "tags": []
          }
        },
        {
          "output_type": "display_data",
          "data": {
            "text/html": [
              "<span style=\"color:cyan\"> |-Trial ID: cba92c2e298ad15967a360c9d5cb7bd9</span>"
            ],
            "text/plain": [
              "<IPython.core.display.HTML object>"
            ]
          },
          "metadata": {
            "tags": []
          }
        },
        {
          "output_type": "display_data",
          "data": {
            "text/html": [
              "<span style=\"color:cyan\"> |-Score: 0.8678333163261414</span>"
            ],
            "text/plain": [
              "<IPython.core.display.HTML object>"
            ]
          },
          "metadata": {
            "tags": []
          }
        },
        {
          "output_type": "display_data",
          "data": {
            "text/html": [
              "<span style=\"color:cyan\"> |-Best step: 0</span>"
            ],
            "text/plain": [
              "<IPython.core.display.HTML object>"
            ]
          },
          "metadata": {
            "tags": []
          }
        },
        {
          "output_type": "display_data",
          "data": {
            "text/html": [
              "<span style=\"color:#7E57C2\"><h2 style=\"font-size:16px\">Hyperparameters:</h2></span>"
            ],
            "text/plain": [
              "<IPython.core.display.HTML object>"
            ]
          },
          "metadata": {
            "tags": []
          }
        },
        {
          "output_type": "display_data",
          "data": {
            "text/html": [
              "<span style=\"color:cyan\"> |-activation: selu</span>"
            ],
            "text/plain": [
              "<IPython.core.display.HTML object>"
            ]
          },
          "metadata": {
            "tags": []
          }
        },
        {
          "output_type": "display_data",
          "data": {
            "text/html": [
              "<span style=\"color:blue\"> |-optimizer: SGD</span>"
            ],
            "text/plain": [
              "<IPython.core.display.HTML object>"
            ]
          },
          "metadata": {
            "tags": []
          }
        },
        {
          "output_type": "display_data",
          "data": {
            "text/html": [
              "<span style=\"color:cyan\"> |-units_hidden: 576</span>"
            ],
            "text/plain": [
              "<IPython.core.display.HTML object>"
            ]
          },
          "metadata": {
            "tags": []
          }
        },
        {
          "output_type": "display_data",
          "data": {
            "text/html": [
              "<span style=\"color:blue\"> |-units_input: 832</span>"
            ],
            "text/plain": [
              "<IPython.core.display.HTML object>"
            ]
          },
          "metadata": {
            "tags": []
          }
        },
        {
          "output_type": "stream",
          "text": [
            "Epoch 1/20\n",
            "188/188 [==============================] - 2s 9ms/step - loss: 0.5332 - accuracy: 0.8099 - val_loss: 0.4098 - val_accuracy: 0.8544\n",
            "Epoch 2/20\n",
            "188/188 [==============================] - 2s 9ms/step - loss: 0.3671 - accuracy: 0.8654 - val_loss: 0.3875 - val_accuracy: 0.8551\n",
            "Epoch 3/20\n",
            "188/188 [==============================] - 2s 9ms/step - loss: 0.3256 - accuracy: 0.8787 - val_loss: 0.3428 - val_accuracy: 0.8786\n",
            "Epoch 4/20\n",
            "188/188 [==============================] - 2s 8ms/step - loss: 0.2941 - accuracy: 0.8904 - val_loss: 0.3425 - val_accuracy: 0.8788\n",
            "Epoch 5/20\n",
            "188/188 [==============================] - 2s 9ms/step - loss: 0.2817 - accuracy: 0.8951 - val_loss: 0.3197 - val_accuracy: 0.8853\n",
            "Epoch 6/20\n",
            "188/188 [==============================] - 2s 8ms/step - loss: 0.2619 - accuracy: 0.9014 - val_loss: 0.3743 - val_accuracy: 0.8680\n",
            "Epoch 7/20\n",
            "188/188 [==============================] - 2s 8ms/step - loss: 0.2535 - accuracy: 0.9052 - val_loss: 0.3023 - val_accuracy: 0.8911\n",
            "Epoch 8/20\n",
            "188/188 [==============================] - 2s 9ms/step - loss: 0.2436 - accuracy: 0.9077 - val_loss: 0.3019 - val_accuracy: 0.8937\n",
            "Epoch 9/20\n",
            "188/188 [==============================] - 2s 9ms/step - loss: 0.2287 - accuracy: 0.9139 - val_loss: 0.3515 - val_accuracy: 0.8752\n",
            "Epoch 10/20\n",
            "188/188 [==============================] - 2s 8ms/step - loss: 0.2204 - accuracy: 0.9160 - val_loss: 0.3137 - val_accuracy: 0.8931\n",
            "Epoch 11/20\n",
            "188/188 [==============================] - 2s 8ms/step - loss: 0.2102 - accuracy: 0.9197 - val_loss: 0.3301 - val_accuracy: 0.8847\n",
            "Epoch 12/20\n",
            "188/188 [==============================] - 2s 8ms/step - loss: 0.2012 - accuracy: 0.9236 - val_loss: 0.3112 - val_accuracy: 0.8964\n",
            "Epoch 13/20\n",
            "188/188 [==============================] - 2s 8ms/step - loss: 0.1904 - accuracy: 0.9274 - val_loss: 0.3463 - val_accuracy: 0.8906\n",
            "Epoch 14/20\n",
            "188/188 [==============================] - 2s 8ms/step - loss: 0.1932 - accuracy: 0.9266 - val_loss: 0.3119 - val_accuracy: 0.8976\n",
            "Epoch 15/20\n",
            "188/188 [==============================] - 2s 8ms/step - loss: 0.1788 - accuracy: 0.9308 - val_loss: 0.3249 - val_accuracy: 0.8935\n",
            "Epoch 16/20\n",
            "188/188 [==============================] - 2s 8ms/step - loss: 0.1704 - accuracy: 0.9352 - val_loss: 0.3204 - val_accuracy: 0.8984\n",
            "Epoch 17/20\n",
            "188/188 [==============================] - 2s 8ms/step - loss: 0.1623 - accuracy: 0.9368 - val_loss: 0.3314 - val_accuracy: 0.8928\n",
            "Epoch 18/20\n",
            "188/188 [==============================] - 2s 8ms/step - loss: 0.1600 - accuracy: 0.9382 - val_loss: 0.3380 - val_accuracy: 0.8999\n",
            "Epoch 19/20\n",
            "188/188 [==============================] - 2s 9ms/step - loss: 0.1526 - accuracy: 0.9404 - val_loss: 0.3605 - val_accuracy: 0.8961\n",
            "Epoch 20/20\n",
            "188/188 [==============================] - 2s 8ms/step - loss: 0.1463 - accuracy: 0.9432 - val_loss: 0.3560 - val_accuracy: 0.8933\n"
          ],
          "name": "stdout"
        },
        {
          "output_type": "display_data",
          "data": {
            "text/html": [
              "<span style=\"color:#4527A0\"><h1 style=\"font-size:18px\">Trial complete</h1></span>"
            ],
            "text/plain": [
              "<IPython.core.display.HTML object>"
            ]
          },
          "metadata": {
            "tags": []
          }
        },
        {
          "output_type": "display_data",
          "data": {
            "text/html": [
              "<span style=\"color:#4527A0\"><h1 style=\"font-size:18px\">Trial summary</h1></span>"
            ],
            "text/plain": [
              "<IPython.core.display.HTML object>"
            ]
          },
          "metadata": {
            "tags": []
          }
        },
        {
          "output_type": "display_data",
          "data": {
            "text/html": [
              "<span style=\"color:cyan\"> |-Trial ID: 1d034c2e7d700b9ac5bb5ba662512233</span>"
            ],
            "text/plain": [
              "<IPython.core.display.HTML object>"
            ]
          },
          "metadata": {
            "tags": []
          }
        },
        {
          "output_type": "display_data",
          "data": {
            "text/html": [
              "<span style=\"color:cyan\"> |-Score: 0.8999166488647461</span>"
            ],
            "text/plain": [
              "<IPython.core.display.HTML object>"
            ]
          },
          "metadata": {
            "tags": []
          }
        },
        {
          "output_type": "display_data",
          "data": {
            "text/html": [
              "<span style=\"color:cyan\"> |-Best step: 0</span>"
            ],
            "text/plain": [
              "<IPython.core.display.HTML object>"
            ]
          },
          "metadata": {
            "tags": []
          }
        },
        {
          "output_type": "display_data",
          "data": {
            "text/html": [
              "<span style=\"color:#7E57C2\"><h2 style=\"font-size:16px\">Hyperparameters:</h2></span>"
            ],
            "text/plain": [
              "<IPython.core.display.HTML object>"
            ]
          },
          "metadata": {
            "tags": []
          }
        },
        {
          "output_type": "display_data",
          "data": {
            "text/html": [
              "<span style=\"color:cyan\"> |-activation: relu</span>"
            ],
            "text/plain": [
              "<IPython.core.display.HTML object>"
            ]
          },
          "metadata": {
            "tags": []
          }
        },
        {
          "output_type": "display_data",
          "data": {
            "text/html": [
              "<span style=\"color:blue\"> |-optimizer: adam</span>"
            ],
            "text/plain": [
              "<IPython.core.display.HTML object>"
            ]
          },
          "metadata": {
            "tags": []
          }
        },
        {
          "output_type": "display_data",
          "data": {
            "text/html": [
              "<span style=\"color:cyan\"> |-units_hidden: 512</span>"
            ],
            "text/plain": [
              "<IPython.core.display.HTML object>"
            ]
          },
          "metadata": {
            "tags": []
          }
        },
        {
          "output_type": "display_data",
          "data": {
            "text/html": [
              "<span style=\"color:blue\"> |-units_input: 928</span>"
            ],
            "text/plain": [
              "<IPython.core.display.HTML object>"
            ]
          },
          "metadata": {
            "tags": []
          }
        },
        {
          "output_type": "stream",
          "text": [
            "INFO:tensorflow:Oracle triggered exit\n"
          ],
          "name": "stdout"
        }
      ]
    },
    {
      "cell_type": "markdown",
      "metadata": {
        "id": "KlPTC0r3pLyB"
      },
      "source": [
        "## Выбираем лучшую модель"
      ]
    },
    {
      "cell_type": "code",
      "metadata": {
        "id": "i1TDBMF6ORNW",
        "outputId": "f998a025-d629-431d-a426-8f225c9e0a87",
        "colab": {
          "base_uri": "https://localhost:8080/",
          "height": 1000
        }
      },
      "source": [
        "tuner.results_summary()"
      ],
      "execution_count": null,
      "outputs": [
        {
          "output_type": "display_data",
          "data": {
            "text/html": [
              "<span style=\"color:#4527A0\"><h1 style=\"font-size:18px\">Results summary</h1></span>"
            ],
            "text/plain": [
              "<IPython.core.display.HTML object>"
            ]
          },
          "metadata": {
            "tags": []
          }
        },
        {
          "output_type": "display_data",
          "data": {
            "text/html": [
              "<span style=\"color:cyan\"> |-Results in test_directory/untitled_project</span>"
            ],
            "text/plain": [
              "<IPython.core.display.HTML object>"
            ]
          },
          "metadata": {
            "tags": []
          }
        },
        {
          "output_type": "display_data",
          "data": {
            "text/html": [
              "<span style=\"color:cyan\"> |-Showing 10 best trials</span>"
            ],
            "text/plain": [
              "<IPython.core.display.HTML object>"
            ]
          },
          "metadata": {
            "tags": []
          }
        },
        {
          "output_type": "display_data",
          "data": {
            "text/html": [
              "<span style=\"color:cyan\"> |-Objective(name='val_accuracy', direction='max')</span>"
            ],
            "text/plain": [
              "<IPython.core.display.HTML object>"
            ]
          },
          "metadata": {
            "tags": []
          }
        },
        {
          "output_type": "display_data",
          "data": {
            "text/html": [
              "<span style=\"color:#4527A0\"><h1 style=\"font-size:18px\">Trial summary</h1></span>"
            ],
            "text/plain": [
              "<IPython.core.display.HTML object>"
            ]
          },
          "metadata": {
            "tags": []
          }
        },
        {
          "output_type": "display_data",
          "data": {
            "text/html": [
              "<span style=\"color:cyan\"> |-Trial ID: 1d034c2e7d700b9ac5bb5ba662512233</span>"
            ],
            "text/plain": [
              "<IPython.core.display.HTML object>"
            ]
          },
          "metadata": {
            "tags": []
          }
        },
        {
          "output_type": "display_data",
          "data": {
            "text/html": [
              "<span style=\"color:cyan\"> |-Score: 0.8999166488647461</span>"
            ],
            "text/plain": [
              "<IPython.core.display.HTML object>"
            ]
          },
          "metadata": {
            "tags": []
          }
        },
        {
          "output_type": "display_data",
          "data": {
            "text/html": [
              "<span style=\"color:cyan\"> |-Best step: 0</span>"
            ],
            "text/plain": [
              "<IPython.core.display.HTML object>"
            ]
          },
          "metadata": {
            "tags": []
          }
        },
        {
          "output_type": "display_data",
          "data": {
            "text/html": [
              "<span style=\"color:#7E57C2\"><h2 style=\"font-size:16px\">Hyperparameters:</h2></span>"
            ],
            "text/plain": [
              "<IPython.core.display.HTML object>"
            ]
          },
          "metadata": {
            "tags": []
          }
        },
        {
          "output_type": "display_data",
          "data": {
            "text/html": [
              "<span style=\"color:cyan\"> |-activation: relu</span>"
            ],
            "text/plain": [
              "<IPython.core.display.HTML object>"
            ]
          },
          "metadata": {
            "tags": []
          }
        },
        {
          "output_type": "display_data",
          "data": {
            "text/html": [
              "<span style=\"color:blue\"> |-optimizer: adam</span>"
            ],
            "text/plain": [
              "<IPython.core.display.HTML object>"
            ]
          },
          "metadata": {
            "tags": []
          }
        },
        {
          "output_type": "display_data",
          "data": {
            "text/html": [
              "<span style=\"color:cyan\"> |-units_hidden: 512</span>"
            ],
            "text/plain": [
              "<IPython.core.display.HTML object>"
            ]
          },
          "metadata": {
            "tags": []
          }
        },
        {
          "output_type": "display_data",
          "data": {
            "text/html": [
              "<span style=\"color:blue\"> |-units_input: 928</span>"
            ],
            "text/plain": [
              "<IPython.core.display.HTML object>"
            ]
          },
          "metadata": {
            "tags": []
          }
        },
        {
          "output_type": "display_data",
          "data": {
            "text/html": [
              "<span style=\"color:#4527A0\"><h1 style=\"font-size:18px\">Trial summary</h1></span>"
            ],
            "text/plain": [
              "<IPython.core.display.HTML object>"
            ]
          },
          "metadata": {
            "tags": []
          }
        },
        {
          "output_type": "display_data",
          "data": {
            "text/html": [
              "<span style=\"color:cyan\"> |-Trial ID: 879c828424fc212aa531150c0be0dcc7</span>"
            ],
            "text/plain": [
              "<IPython.core.display.HTML object>"
            ]
          },
          "metadata": {
            "tags": []
          }
        },
        {
          "output_type": "display_data",
          "data": {
            "text/html": [
              "<span style=\"color:cyan\"> |-Score: 0.8995000123977661</span>"
            ],
            "text/plain": [
              "<IPython.core.display.HTML object>"
            ]
          },
          "metadata": {
            "tags": []
          }
        },
        {
          "output_type": "display_data",
          "data": {
            "text/html": [
              "<span style=\"color:cyan\"> |-Best step: 0</span>"
            ],
            "text/plain": [
              "<IPython.core.display.HTML object>"
            ]
          },
          "metadata": {
            "tags": []
          }
        },
        {
          "output_type": "display_data",
          "data": {
            "text/html": [
              "<span style=\"color:#7E57C2\"><h2 style=\"font-size:16px\">Hyperparameters:</h2></span>"
            ],
            "text/plain": [
              "<IPython.core.display.HTML object>"
            ]
          },
          "metadata": {
            "tags": []
          }
        },
        {
          "output_type": "display_data",
          "data": {
            "text/html": [
              "<span style=\"color:cyan\"> |-activation: relu</span>"
            ],
            "text/plain": [
              "<IPython.core.display.HTML object>"
            ]
          },
          "metadata": {
            "tags": []
          }
        },
        {
          "output_type": "display_data",
          "data": {
            "text/html": [
              "<span style=\"color:blue\"> |-optimizer: adam</span>"
            ],
            "text/plain": [
              "<IPython.core.display.HTML object>"
            ]
          },
          "metadata": {
            "tags": []
          }
        },
        {
          "output_type": "display_data",
          "data": {
            "text/html": [
              "<span style=\"color:cyan\"> |-units_hidden: 544</span>"
            ],
            "text/plain": [
              "<IPython.core.display.HTML object>"
            ]
          },
          "metadata": {
            "tags": []
          }
        },
        {
          "output_type": "display_data",
          "data": {
            "text/html": [
              "<span style=\"color:blue\"> |-units_input: 704</span>"
            ],
            "text/plain": [
              "<IPython.core.display.HTML object>"
            ]
          },
          "metadata": {
            "tags": []
          }
        },
        {
          "output_type": "display_data",
          "data": {
            "text/html": [
              "<span style=\"color:#4527A0\"><h1 style=\"font-size:18px\">Trial summary</h1></span>"
            ],
            "text/plain": [
              "<IPython.core.display.HTML object>"
            ]
          },
          "metadata": {
            "tags": []
          }
        },
        {
          "output_type": "display_data",
          "data": {
            "text/html": [
              "<span style=\"color:cyan\"> |-Trial ID: 65194b799162169c2c3014c845a6b1b5</span>"
            ],
            "text/plain": [
              "<IPython.core.display.HTML object>"
            ]
          },
          "metadata": {
            "tags": []
          }
        },
        {
          "output_type": "display_data",
          "data": {
            "text/html": [
              "<span style=\"color:cyan\"> |-Score: 0.8988333344459534</span>"
            ],
            "text/plain": [
              "<IPython.core.display.HTML object>"
            ]
          },
          "metadata": {
            "tags": []
          }
        },
        {
          "output_type": "display_data",
          "data": {
            "text/html": [
              "<span style=\"color:cyan\"> |-Best step: 0</span>"
            ],
            "text/plain": [
              "<IPython.core.display.HTML object>"
            ]
          },
          "metadata": {
            "tags": []
          }
        },
        {
          "output_type": "display_data",
          "data": {
            "text/html": [
              "<span style=\"color:#7E57C2\"><h2 style=\"font-size:16px\">Hyperparameters:</h2></span>"
            ],
            "text/plain": [
              "<IPython.core.display.HTML object>"
            ]
          },
          "metadata": {
            "tags": []
          }
        },
        {
          "output_type": "display_data",
          "data": {
            "text/html": [
              "<span style=\"color:cyan\"> |-activation: relu</span>"
            ],
            "text/plain": [
              "<IPython.core.display.HTML object>"
            ]
          },
          "metadata": {
            "tags": []
          }
        },
        {
          "output_type": "display_data",
          "data": {
            "text/html": [
              "<span style=\"color:blue\"> |-optimizer: adam</span>"
            ],
            "text/plain": [
              "<IPython.core.display.HTML object>"
            ]
          },
          "metadata": {
            "tags": []
          }
        },
        {
          "output_type": "display_data",
          "data": {
            "text/html": [
              "<span style=\"color:cyan\"> |-units_hidden: 576</span>"
            ],
            "text/plain": [
              "<IPython.core.display.HTML object>"
            ]
          },
          "metadata": {
            "tags": []
          }
        },
        {
          "output_type": "display_data",
          "data": {
            "text/html": [
              "<span style=\"color:blue\"> |-units_input: 960</span>"
            ],
            "text/plain": [
              "<IPython.core.display.HTML object>"
            ]
          },
          "metadata": {
            "tags": []
          }
        },
        {
          "output_type": "display_data",
          "data": {
            "text/html": [
              "<span style=\"color:#4527A0\"><h1 style=\"font-size:18px\">Trial summary</h1></span>"
            ],
            "text/plain": [
              "<IPython.core.display.HTML object>"
            ]
          },
          "metadata": {
            "tags": []
          }
        },
        {
          "output_type": "display_data",
          "data": {
            "text/html": [
              "<span style=\"color:cyan\"> |-Trial ID: d8d3b203290527fdd438b7fe8f2e887f</span>"
            ],
            "text/plain": [
              "<IPython.core.display.HTML object>"
            ]
          },
          "metadata": {
            "tags": []
          }
        },
        {
          "output_type": "display_data",
          "data": {
            "text/html": [
              "<span style=\"color:cyan\"> |-Score: 0.8985833525657654</span>"
            ],
            "text/plain": [
              "<IPython.core.display.HTML object>"
            ]
          },
          "metadata": {
            "tags": []
          }
        },
        {
          "output_type": "display_data",
          "data": {
            "text/html": [
              "<span style=\"color:cyan\"> |-Best step: 0</span>"
            ],
            "text/plain": [
              "<IPython.core.display.HTML object>"
            ]
          },
          "metadata": {
            "tags": []
          }
        },
        {
          "output_type": "display_data",
          "data": {
            "text/html": [
              "<span style=\"color:#7E57C2\"><h2 style=\"font-size:16px\">Hyperparameters:</h2></span>"
            ],
            "text/plain": [
              "<IPython.core.display.HTML object>"
            ]
          },
          "metadata": {
            "tags": []
          }
        },
        {
          "output_type": "display_data",
          "data": {
            "text/html": [
              "<span style=\"color:cyan\"> |-activation: relu</span>"
            ],
            "text/plain": [
              "<IPython.core.display.HTML object>"
            ]
          },
          "metadata": {
            "tags": []
          }
        },
        {
          "output_type": "display_data",
          "data": {
            "text/html": [
              "<span style=\"color:blue\"> |-optimizer: adam</span>"
            ],
            "text/plain": [
              "<IPython.core.display.HTML object>"
            ]
          },
          "metadata": {
            "tags": []
          }
        },
        {
          "output_type": "display_data",
          "data": {
            "text/html": [
              "<span style=\"color:cyan\"> |-units_hidden: 288</span>"
            ],
            "text/plain": [
              "<IPython.core.display.HTML object>"
            ]
          },
          "metadata": {
            "tags": []
          }
        },
        {
          "output_type": "display_data",
          "data": {
            "text/html": [
              "<span style=\"color:blue\"> |-units_input: 960</span>"
            ],
            "text/plain": [
              "<IPython.core.display.HTML object>"
            ]
          },
          "metadata": {
            "tags": []
          }
        },
        {
          "output_type": "display_data",
          "data": {
            "text/html": [
              "<span style=\"color:#4527A0\"><h1 style=\"font-size:18px\">Trial summary</h1></span>"
            ],
            "text/plain": [
              "<IPython.core.display.HTML object>"
            ]
          },
          "metadata": {
            "tags": []
          }
        },
        {
          "output_type": "display_data",
          "data": {
            "text/html": [
              "<span style=\"color:cyan\"> |-Trial ID: 1718d810d453141a2fc08fe4a8e55e2a</span>"
            ],
            "text/plain": [
              "<IPython.core.display.HTML object>"
            ]
          },
          "metadata": {
            "tags": []
          }
        },
        {
          "output_type": "display_data",
          "data": {
            "text/html": [
              "<span style=\"color:cyan\"> |-Score: 0.8980000019073486</span>"
            ],
            "text/plain": [
              "<IPython.core.display.HTML object>"
            ]
          },
          "metadata": {
            "tags": []
          }
        },
        {
          "output_type": "display_data",
          "data": {
            "text/html": [
              "<span style=\"color:cyan\"> |-Best step: 0</span>"
            ],
            "text/plain": [
              "<IPython.core.display.HTML object>"
            ]
          },
          "metadata": {
            "tags": []
          }
        },
        {
          "output_type": "display_data",
          "data": {
            "text/html": [
              "<span style=\"color:#7E57C2\"><h2 style=\"font-size:16px\">Hyperparameters:</h2></span>"
            ],
            "text/plain": [
              "<IPython.core.display.HTML object>"
            ]
          },
          "metadata": {
            "tags": []
          }
        },
        {
          "output_type": "display_data",
          "data": {
            "text/html": [
              "<span style=\"color:cyan\"> |-activation: relu</span>"
            ],
            "text/plain": [
              "<IPython.core.display.HTML object>"
            ]
          },
          "metadata": {
            "tags": []
          }
        },
        {
          "output_type": "display_data",
          "data": {
            "text/html": [
              "<span style=\"color:blue\"> |-optimizer: adam</span>"
            ],
            "text/plain": [
              "<IPython.core.display.HTML object>"
            ]
          },
          "metadata": {
            "tags": []
          }
        },
        {
          "output_type": "display_data",
          "data": {
            "text/html": [
              "<span style=\"color:cyan\"> |-units_hidden: 480</span>"
            ],
            "text/plain": [
              "<IPython.core.display.HTML object>"
            ]
          },
          "metadata": {
            "tags": []
          }
        },
        {
          "output_type": "display_data",
          "data": {
            "text/html": [
              "<span style=\"color:blue\"> |-units_input: 832</span>"
            ],
            "text/plain": [
              "<IPython.core.display.HTML object>"
            ]
          },
          "metadata": {
            "tags": []
          }
        },
        {
          "output_type": "display_data",
          "data": {
            "text/html": [
              "<span style=\"color:#4527A0\"><h1 style=\"font-size:18px\">Trial summary</h1></span>"
            ],
            "text/plain": [
              "<IPython.core.display.HTML object>"
            ]
          },
          "metadata": {
            "tags": []
          }
        },
        {
          "output_type": "display_data",
          "data": {
            "text/html": [
              "<span style=\"color:cyan\"> |-Trial ID: 8ccb81fd3558a1b71d66ff54a55ce5e8</span>"
            ],
            "text/plain": [
              "<IPython.core.display.HTML object>"
            ]
          },
          "metadata": {
            "tags": []
          }
        },
        {
          "output_type": "display_data",
          "data": {
            "text/html": [
              "<span style=\"color:cyan\"> |-Score: 0.8978333473205566</span>"
            ],
            "text/plain": [
              "<IPython.core.display.HTML object>"
            ]
          },
          "metadata": {
            "tags": []
          }
        },
        {
          "output_type": "display_data",
          "data": {
            "text/html": [
              "<span style=\"color:cyan\"> |-Best step: 0</span>"
            ],
            "text/plain": [
              "<IPython.core.display.HTML object>"
            ]
          },
          "metadata": {
            "tags": []
          }
        },
        {
          "output_type": "display_data",
          "data": {
            "text/html": [
              "<span style=\"color:#7E57C2\"><h2 style=\"font-size:16px\">Hyperparameters:</h2></span>"
            ],
            "text/plain": [
              "<IPython.core.display.HTML object>"
            ]
          },
          "metadata": {
            "tags": []
          }
        },
        {
          "output_type": "display_data",
          "data": {
            "text/html": [
              "<span style=\"color:cyan\"> |-activation: relu</span>"
            ],
            "text/plain": [
              "<IPython.core.display.HTML object>"
            ]
          },
          "metadata": {
            "tags": []
          }
        },
        {
          "output_type": "display_data",
          "data": {
            "text/html": [
              "<span style=\"color:blue\"> |-optimizer: adam</span>"
            ],
            "text/plain": [
              "<IPython.core.display.HTML object>"
            ]
          },
          "metadata": {
            "tags": []
          }
        },
        {
          "output_type": "display_data",
          "data": {
            "text/html": [
              "<span style=\"color:cyan\"> |-units_hidden: 480</span>"
            ],
            "text/plain": [
              "<IPython.core.display.HTML object>"
            ]
          },
          "metadata": {
            "tags": []
          }
        },
        {
          "output_type": "display_data",
          "data": {
            "text/html": [
              "<span style=\"color:blue\"> |-units_input: 800</span>"
            ],
            "text/plain": [
              "<IPython.core.display.HTML object>"
            ]
          },
          "metadata": {
            "tags": []
          }
        },
        {
          "output_type": "display_data",
          "data": {
            "text/html": [
              "<span style=\"color:#4527A0\"><h1 style=\"font-size:18px\">Trial summary</h1></span>"
            ],
            "text/plain": [
              "<IPython.core.display.HTML object>"
            ]
          },
          "metadata": {
            "tags": []
          }
        },
        {
          "output_type": "display_data",
          "data": {
            "text/html": [
              "<span style=\"color:cyan\"> |-Trial ID: d35c7ea61737fc56f88bc7f6a6f15692</span>"
            ],
            "text/plain": [
              "<IPython.core.display.HTML object>"
            ]
          },
          "metadata": {
            "tags": []
          }
        },
        {
          "output_type": "display_data",
          "data": {
            "text/html": [
              "<span style=\"color:cyan\"> |-Score: 0.8974166512489319</span>"
            ],
            "text/plain": [
              "<IPython.core.display.HTML object>"
            ]
          },
          "metadata": {
            "tags": []
          }
        },
        {
          "output_type": "display_data",
          "data": {
            "text/html": [
              "<span style=\"color:cyan\"> |-Best step: 0</span>"
            ],
            "text/plain": [
              "<IPython.core.display.HTML object>"
            ]
          },
          "metadata": {
            "tags": []
          }
        },
        {
          "output_type": "display_data",
          "data": {
            "text/html": [
              "<span style=\"color:#7E57C2\"><h2 style=\"font-size:16px\">Hyperparameters:</h2></span>"
            ],
            "text/plain": [
              "<IPython.core.display.HTML object>"
            ]
          },
          "metadata": {
            "tags": []
          }
        },
        {
          "output_type": "display_data",
          "data": {
            "text/html": [
              "<span style=\"color:cyan\"> |-activation: relu</span>"
            ],
            "text/plain": [
              "<IPython.core.display.HTML object>"
            ]
          },
          "metadata": {
            "tags": []
          }
        },
        {
          "output_type": "display_data",
          "data": {
            "text/html": [
              "<span style=\"color:blue\"> |-optimizer: adam</span>"
            ],
            "text/plain": [
              "<IPython.core.display.HTML object>"
            ]
          },
          "metadata": {
            "tags": []
          }
        },
        {
          "output_type": "display_data",
          "data": {
            "text/html": [
              "<span style=\"color:cyan\"> |-units_hidden: 352</span>"
            ],
            "text/plain": [
              "<IPython.core.display.HTML object>"
            ]
          },
          "metadata": {
            "tags": []
          }
        },
        {
          "output_type": "display_data",
          "data": {
            "text/html": [
              "<span style=\"color:blue\"> |-units_input: 512</span>"
            ],
            "text/plain": [
              "<IPython.core.display.HTML object>"
            ]
          },
          "metadata": {
            "tags": []
          }
        },
        {
          "output_type": "display_data",
          "data": {
            "text/html": [
              "<span style=\"color:#4527A0\"><h1 style=\"font-size:18px\">Trial summary</h1></span>"
            ],
            "text/plain": [
              "<IPython.core.display.HTML object>"
            ]
          },
          "metadata": {
            "tags": []
          }
        },
        {
          "output_type": "display_data",
          "data": {
            "text/html": [
              "<span style=\"color:cyan\"> |-Trial ID: 4a0022402ec8015cf6c6814c1903e6ce</span>"
            ],
            "text/plain": [
              "<IPython.core.display.HTML object>"
            ]
          },
          "metadata": {
            "tags": []
          }
        },
        {
          "output_type": "display_data",
          "data": {
            "text/html": [
              "<span style=\"color:cyan\"> |-Score: 0.8973333239555359</span>"
            ],
            "text/plain": [
              "<IPython.core.display.HTML object>"
            ]
          },
          "metadata": {
            "tags": []
          }
        },
        {
          "output_type": "display_data",
          "data": {
            "text/html": [
              "<span style=\"color:cyan\"> |-Best step: 0</span>"
            ],
            "text/plain": [
              "<IPython.core.display.HTML object>"
            ]
          },
          "metadata": {
            "tags": []
          }
        },
        {
          "output_type": "display_data",
          "data": {
            "text/html": [
              "<span style=\"color:#7E57C2\"><h2 style=\"font-size:16px\">Hyperparameters:</h2></span>"
            ],
            "text/plain": [
              "<IPython.core.display.HTML object>"
            ]
          },
          "metadata": {
            "tags": []
          }
        },
        {
          "output_type": "display_data",
          "data": {
            "text/html": [
              "<span style=\"color:cyan\"> |-activation: relu</span>"
            ],
            "text/plain": [
              "<IPython.core.display.HTML object>"
            ]
          },
          "metadata": {
            "tags": []
          }
        },
        {
          "output_type": "display_data",
          "data": {
            "text/html": [
              "<span style=\"color:blue\"> |-optimizer: adam</span>"
            ],
            "text/plain": [
              "<IPython.core.display.HTML object>"
            ]
          },
          "metadata": {
            "tags": []
          }
        },
        {
          "output_type": "display_data",
          "data": {
            "text/html": [
              "<span style=\"color:cyan\"> |-units_hidden: 416</span>"
            ],
            "text/plain": [
              "<IPython.core.display.HTML object>"
            ]
          },
          "metadata": {
            "tags": []
          }
        },
        {
          "output_type": "display_data",
          "data": {
            "text/html": [
              "<span style=\"color:blue\"> |-units_input: 608</span>"
            ],
            "text/plain": [
              "<IPython.core.display.HTML object>"
            ]
          },
          "metadata": {
            "tags": []
          }
        },
        {
          "output_type": "display_data",
          "data": {
            "text/html": [
              "<span style=\"color:#4527A0\"><h1 style=\"font-size:18px\">Trial summary</h1></span>"
            ],
            "text/plain": [
              "<IPython.core.display.HTML object>"
            ]
          },
          "metadata": {
            "tags": []
          }
        },
        {
          "output_type": "display_data",
          "data": {
            "text/html": [
              "<span style=\"color:cyan\"> |-Trial ID: 13fc773ed53832222c2c1327953d2be9</span>"
            ],
            "text/plain": [
              "<IPython.core.display.HTML object>"
            ]
          },
          "metadata": {
            "tags": []
          }
        },
        {
          "output_type": "display_data",
          "data": {
            "text/html": [
              "<span style=\"color:cyan\"> |-Score: 0.8973333239555359</span>"
            ],
            "text/plain": [
              "<IPython.core.display.HTML object>"
            ]
          },
          "metadata": {
            "tags": []
          }
        },
        {
          "output_type": "display_data",
          "data": {
            "text/html": [
              "<span style=\"color:cyan\"> |-Best step: 0</span>"
            ],
            "text/plain": [
              "<IPython.core.display.HTML object>"
            ]
          },
          "metadata": {
            "tags": []
          }
        },
        {
          "output_type": "display_data",
          "data": {
            "text/html": [
              "<span style=\"color:#7E57C2\"><h2 style=\"font-size:16px\">Hyperparameters:</h2></span>"
            ],
            "text/plain": [
              "<IPython.core.display.HTML object>"
            ]
          },
          "metadata": {
            "tags": []
          }
        },
        {
          "output_type": "display_data",
          "data": {
            "text/html": [
              "<span style=\"color:cyan\"> |-activation: relu</span>"
            ],
            "text/plain": [
              "<IPython.core.display.HTML object>"
            ]
          },
          "metadata": {
            "tags": []
          }
        },
        {
          "output_type": "display_data",
          "data": {
            "text/html": [
              "<span style=\"color:blue\"> |-optimizer: adam</span>"
            ],
            "text/plain": [
              "<IPython.core.display.HTML object>"
            ]
          },
          "metadata": {
            "tags": []
          }
        },
        {
          "output_type": "display_data",
          "data": {
            "text/html": [
              "<span style=\"color:cyan\"> |-units_hidden: 576</span>"
            ],
            "text/plain": [
              "<IPython.core.display.HTML object>"
            ]
          },
          "metadata": {
            "tags": []
          }
        },
        {
          "output_type": "display_data",
          "data": {
            "text/html": [
              "<span style=\"color:blue\"> |-units_input: 864</span>"
            ],
            "text/plain": [
              "<IPython.core.display.HTML object>"
            ]
          },
          "metadata": {
            "tags": []
          }
        },
        {
          "output_type": "display_data",
          "data": {
            "text/html": [
              "<span style=\"color:#4527A0\"><h1 style=\"font-size:18px\">Trial summary</h1></span>"
            ],
            "text/plain": [
              "<IPython.core.display.HTML object>"
            ]
          },
          "metadata": {
            "tags": []
          }
        },
        {
          "output_type": "display_data",
          "data": {
            "text/html": [
              "<span style=\"color:cyan\"> |-Trial ID: 4a689948b041a4a7e2b1d8f440ec3e0b</span>"
            ],
            "text/plain": [
              "<IPython.core.display.HTML object>"
            ]
          },
          "metadata": {
            "tags": []
          }
        },
        {
          "output_type": "display_data",
          "data": {
            "text/html": [
              "<span style=\"color:cyan\"> |-Score: 0.8971666693687439</span>"
            ],
            "text/plain": [
              "<IPython.core.display.HTML object>"
            ]
          },
          "metadata": {
            "tags": []
          }
        },
        {
          "output_type": "display_data",
          "data": {
            "text/html": [
              "<span style=\"color:cyan\"> |-Best step: 0</span>"
            ],
            "text/plain": [
              "<IPython.core.display.HTML object>"
            ]
          },
          "metadata": {
            "tags": []
          }
        },
        {
          "output_type": "display_data",
          "data": {
            "text/html": [
              "<span style=\"color:#7E57C2\"><h2 style=\"font-size:16px\">Hyperparameters:</h2></span>"
            ],
            "text/plain": [
              "<IPython.core.display.HTML object>"
            ]
          },
          "metadata": {
            "tags": []
          }
        },
        {
          "output_type": "display_data",
          "data": {
            "text/html": [
              "<span style=\"color:cyan\"> |-activation: relu</span>"
            ],
            "text/plain": [
              "<IPython.core.display.HTML object>"
            ]
          },
          "metadata": {
            "tags": []
          }
        },
        {
          "output_type": "display_data",
          "data": {
            "text/html": [
              "<span style=\"color:blue\"> |-optimizer: adam</span>"
            ],
            "text/plain": [
              "<IPython.core.display.HTML object>"
            ]
          },
          "metadata": {
            "tags": []
          }
        },
        {
          "output_type": "display_data",
          "data": {
            "text/html": [
              "<span style=\"color:cyan\"> |-units_hidden: 448</span>"
            ],
            "text/plain": [
              "<IPython.core.display.HTML object>"
            ]
          },
          "metadata": {
            "tags": []
          }
        },
        {
          "output_type": "display_data",
          "data": {
            "text/html": [
              "<span style=\"color:blue\"> |-units_input: 576</span>"
            ],
            "text/plain": [
              "<IPython.core.display.HTML object>"
            ]
          },
          "metadata": {
            "tags": []
          }
        }
      ]
    },
    {
      "cell_type": "markdown",
      "metadata": {
        "id": "_it8FZ8epSue"
      },
      "source": [
        "Получаем три лучших модели"
      ]
    },
    {
      "cell_type": "code",
      "metadata": {
        "id": "31_zCfjqQVL6"
      },
      "source": [
        "models = tuner.get_best_models(num_models=3)"
      ],
      "execution_count": null,
      "outputs": []
    },
    {
      "cell_type": "markdown",
      "metadata": {
        "id": "Oje7bSQppVkF"
      },
      "source": [
        "Оцениваем качество модели на тестовых данных"
      ]
    },
    {
      "cell_type": "code",
      "metadata": {
        "id": "CUoo7iM-bBht",
        "outputId": "4f250433-f08b-4dd7-eaf3-ea95cf3a381c",
        "colab": {
          "base_uri": "https://localhost:8080/"
        }
      },
      "source": [
        "for model in models:\n",
        "  model.summary()\n",
        "  model.evaluate(x_test, y_test)\n",
        "  print() "
      ],
      "execution_count": null,
      "outputs": [
        {
          "output_type": "stream",
          "text": [
            "Model: \"sequential\"\n",
            "_________________________________________________________________\n",
            "Layer (type)                 Output Shape              Param #   \n",
            "=================================================================\n",
            "dense (Dense)                (None, 928)               728480    \n",
            "_________________________________________________________________\n",
            "dense_1 (Dense)              (None, 512)               475648    \n",
            "_________________________________________________________________\n",
            "dense_2 (Dense)              (None, 512)               262656    \n",
            "_________________________________________________________________\n",
            "dense_3 (Dense)              (None, 10)                5130      \n",
            "=================================================================\n",
            "Total params: 1,471,914\n",
            "Trainable params: 1,471,914\n",
            "Non-trainable params: 0\n",
            "_________________________________________________________________\n",
            "313/313 [==============================] - 1s 4ms/step - loss: 0.3788 - accuracy: 0.8931\n",
            "\n",
            "Model: \"sequential\"\n",
            "_________________________________________________________________\n",
            "Layer (type)                 Output Shape              Param #   \n",
            "=================================================================\n",
            "dense (Dense)                (None, 704)               552640    \n",
            "_________________________________________________________________\n",
            "dense_1 (Dense)              (None, 544)               383520    \n",
            "_________________________________________________________________\n",
            "dense_2 (Dense)              (None, 544)               296480    \n",
            "_________________________________________________________________\n",
            "dense_3 (Dense)              (None, 10)                5450      \n",
            "=================================================================\n",
            "Total params: 1,238,090\n",
            "Trainable params: 1,238,090\n",
            "Non-trainable params: 0\n",
            "_________________________________________________________________\n",
            "313/313 [==============================] - 1s 4ms/step - loss: 0.3939 - accuracy: 0.8919\n",
            "\n",
            "Model: \"sequential\"\n",
            "_________________________________________________________________\n",
            "Layer (type)                 Output Shape              Param #   \n",
            "=================================================================\n",
            "dense (Dense)                (None, 960)               753600    \n",
            "_________________________________________________________________\n",
            "dense_1 (Dense)              (None, 576)               553536    \n",
            "_________________________________________________________________\n",
            "dense_2 (Dense)              (None, 576)               332352    \n",
            "_________________________________________________________________\n",
            "dense_3 (Dense)              (None, 10)                5770      \n",
            "=================================================================\n",
            "Total params: 1,645,258\n",
            "Trainable params: 1,645,258\n",
            "Non-trainable params: 0\n",
            "_________________________________________________________________\n",
            "313/313 [==============================] - 1s 4ms/step - loss: 0.3413 - accuracy: 0.8919\n",
            "\n"
          ],
          "name": "stdout"
        }
      ]
    }
  ]
}