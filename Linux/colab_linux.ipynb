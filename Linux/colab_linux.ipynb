{
  "nbformat": 4,
  "nbformat_minor": 0,
  "metadata": {
    "colab": {
      "name": "colab_linux.ipynb",
      "provenance": [],
      "collapsed_sections": [
        "eOdsCFxlA1H4",
        "cgVphivCK63W",
        "gqK9V34BMJEI",
        "iMmIP-7mPZ47",
        "wDfrMEItPeMb",
        "eEfgYHhYPhE4",
        "tDqaJWqLFe8f",
        "bH9BpVyMGBBP",
        "7TKTEnozJDVg",
        "Dp8zz6NWKVNv"
      ],
      "include_colab_link": true
    },
    "kernelspec": {
      "name": "python3",
      "display_name": "Python 3"
    },
    "accelerator": "GPU"
  },
  "cells": [
    {
      "cell_type": "markdown",
      "metadata": {
        "id": "view-in-github",
        "colab_type": "text"
      },
      "source": [
        "<a href=\"https://colab.research.google.com/github/safal207/hello-world/blob/master/colab_linux.ipynb\" target=\"_parent\"><img src=\"https://colab.research.google.com/assets/colab-badge.svg\" alt=\"Open In Colab\"/></a>"
      ]
    },
    {
      "cell_type": "markdown",
      "metadata": {
        "id": "D1ka-TL85mlI"
      },
      "source": [
        "# Команды Linux на платформе Google Colaboratory\n",
        "\n",
        "Код ноутбуков, которые мы создаем на платформе Google Colaboratory, запускается на виртуальной машине с Linux в облаке Google. Для большинства задач в Colaboratory достаточно средств Python, но иногда все-таки приходится использовать команды операционной системы. Например, для загрузки данных или установки пакетов Python. Если вы привыкли работать с Wndows, то использование команд Linux на первом этапе может вызвать затруднение.\n",
        "\n",
        "В этом ноутбуке показаны примеры использования команд операционной системы Linux для выполнения часто встречающихся задач анализа данных на платформе Google Colaboratory\n",
        "\n",
        "Чтобы запускать и редактировать код, сохраните копию этого ноутбука себе (File->Save a copy in Drive...). Свою копию вы сможете изменять и запускать.\n",
        "\n",
        "\n",
        "\n"
      ]
    },
    {
      "cell_type": "markdown",
      "metadata": {
        "id": "M6-1TXWP7loQ"
      },
      "source": [
        "## Основы использования командной строки в Colab\n",
        "\n",
        "Комады Linux в ноутбуках Colaboratory должны начинаться с восклицательного знака (!). Именно по наличию восклицательного знака в начале строки определяется, что это не код Python, а команда операционной системы. \n",
        "\n",
        "Пример:"
      ]
    },
    {
      "cell_type": "code",
      "metadata": {
        "id": "Nez3UEB15i-o",
        "outputId": "d5cf4018-d6e9-4dda-cb3b-c20303b5f6e2",
        "colab": {
          "base_uri": "https://localhost:8080/",
          "height": 34
        }
      },
      "source": [
        "!ls"
      ],
      "execution_count": null,
      "outputs": [
        {
          "output_type": "stream",
          "text": [
            "sample_data\n"
          ],
          "name": "stdout"
        }
      ]
    },
    {
      "cell_type": "markdown",
      "metadata": {
        "id": "E2sXl-KT8LOI"
      },
      "source": [
        "`ls` - команда для получения списка файлов в каталоге. Мы можем видеть, что в текущем каталоге есть всего один файл - `sample_data`. \n",
        "\n",
        "Но это на самом деле не файл, а каталог. Давайте посмотрим, что находится в нем."
      ]
    },
    {
      "cell_type": "code",
      "metadata": {
        "id": "_DyONHzu8l4Q",
        "outputId": "9d93285f-cc8f-4886-bc59-e4bad23d099e",
        "colab": {
          "base_uri": "https://localhost:8080/",
          "height": 70
        }
      },
      "source": [
        "!ls sample_data"
      ],
      "execution_count": null,
      "outputs": [
        {
          "output_type": "stream",
          "text": [
            "anscombe.json\t\t      mnist_test.csv\n",
            "california_housing_test.csv   mnist_train_small.csv\n",
            "california_housing_train.csv  README.md\n"
          ],
          "name": "stdout"
        }
      ]
    },
    {
      "cell_type": "markdown",
      "metadata": {
        "id": "0DLvMjmU8kzJ"
      },
      "source": [
        "Если команде `ls` в качестве параметра указать имя каталога, то будет выведен список файлов в этом каталоге.\n",
        "\n",
        "Каталог `sample_data`, как можно понять из названия, содержит демонстрационные данные. Этот каталог и данные в нем создаются автоматически при запуске виртуальной машины."
      ]
    },
    {
      "cell_type": "markdown",
      "metadata": {
        "id": "_wi1dBIO9LIp"
      },
      "source": [
        "## Просмотр файлов\n",
        "\n",
        "Как узнать, что находится в файлах с демонстрационными данными? Можно написать код на Python, но быстрее использовать команды Linux. Команда `head` выводит первые строки указанного ей файла. "
      ]
    },
    {
      "cell_type": "code",
      "metadata": {
        "id": "YPMqHJqN-GWJ",
        "outputId": "04dabebf-b355-4eb3-8279-7037ee47eb3d",
        "colab": {
          "base_uri": "https://localhost:8080/",
          "height": 213
        }
      },
      "source": [
        "!head sample_data/california_housing_train.csv"
      ],
      "execution_count": null,
      "outputs": [
        {
          "output_type": "stream",
          "text": [
            "\"longitude\",\"latitude\",\"housing_median_age\",\"total_rooms\",\"total_bedrooms\",\"population\",\"households\",\"median_income\",\"median_house_value\"\n",
            "-114.310000,34.190000,15.000000,5612.000000,1283.000000,1015.000000,472.000000,1.493600,66900.000000\n",
            "-114.470000,34.400000,19.000000,7650.000000,1901.000000,1129.000000,463.000000,1.820000,80100.000000\n",
            "-114.560000,33.690000,17.000000,720.000000,174.000000,333.000000,117.000000,1.650900,85700.000000\n",
            "-114.570000,33.640000,14.000000,1501.000000,337.000000,515.000000,226.000000,3.191700,73400.000000\n",
            "-114.570000,33.570000,20.000000,1454.000000,326.000000,624.000000,262.000000,1.925000,65500.000000\n",
            "-114.580000,33.630000,29.000000,1387.000000,236.000000,671.000000,239.000000,3.343800,74000.000000\n",
            "-114.580000,33.610000,25.000000,2907.000000,680.000000,1841.000000,633.000000,2.676800,82400.000000\n",
            "-114.590000,34.830000,41.000000,812.000000,168.000000,375.000000,158.000000,1.708300,48500.000000\n",
            "-114.590000,33.610000,34.000000,4789.000000,1175.000000,3134.000000,1056.000000,2.178200,58400.000000\n"
          ],
          "name": "stdout"
        }
      ]
    },
    {
      "cell_type": "markdown",
      "metadata": {
        "id": "iZ1nEZF0-dTo"
      },
      "source": [
        "В первой строке файла файла `california_housing_train.csv` заголовок, а в остальных данные, разделенные запятыми.\n",
        "\n",
        "По-умолчанию команда head выводит 10 строк из файла. Можно показать любое количество срок, использую параметр `-n`. Давайте выведем 15 строк:"
      ]
    },
    {
      "cell_type": "code",
      "metadata": {
        "id": "xSM-fLur-7aA",
        "outputId": "18162270-48d3-4b6f-a70b-14ba5ec932a2",
        "colab": {
          "base_uri": "https://localhost:8080/",
          "height": 301
        }
      },
      "source": [
        "!head -n 15 sample_data/california_housing_train.csv"
      ],
      "execution_count": null,
      "outputs": [
        {
          "output_type": "stream",
          "text": [
            "\"longitude\",\"latitude\",\"housing_median_age\",\"total_rooms\",\"total_bedrooms\",\"population\",\"households\",\"median_income\",\"median_house_value\"\n",
            "-114.310000,34.190000,15.000000,5612.000000,1283.000000,1015.000000,472.000000,1.493600,66900.000000\n",
            "-114.470000,34.400000,19.000000,7650.000000,1901.000000,1129.000000,463.000000,1.820000,80100.000000\n",
            "-114.560000,33.690000,17.000000,720.000000,174.000000,333.000000,117.000000,1.650900,85700.000000\n",
            "-114.570000,33.640000,14.000000,1501.000000,337.000000,515.000000,226.000000,3.191700,73400.000000\n",
            "-114.570000,33.570000,20.000000,1454.000000,326.000000,624.000000,262.000000,1.925000,65500.000000\n",
            "-114.580000,33.630000,29.000000,1387.000000,236.000000,671.000000,239.000000,3.343800,74000.000000\n",
            "-114.580000,33.610000,25.000000,2907.000000,680.000000,1841.000000,633.000000,2.676800,82400.000000\n",
            "-114.590000,34.830000,41.000000,812.000000,168.000000,375.000000,158.000000,1.708300,48500.000000\n",
            "-114.590000,33.610000,34.000000,4789.000000,1175.000000,3134.000000,1056.000000,2.178200,58400.000000\n",
            "-114.600000,34.830000,46.000000,1497.000000,309.000000,787.000000,271.000000,2.190800,48100.000000\n",
            "-114.600000,33.620000,16.000000,3741.000000,801.000000,2434.000000,824.000000,2.679700,86500.000000\n",
            "-114.600000,33.600000,21.000000,1988.000000,483.000000,1182.000000,437.000000,1.625000,62000.000000\n",
            "-114.610000,34.840000,48.000000,1291.000000,248.000000,580.000000,211.000000,2.157100,48600.000000\n",
            "-114.610000,34.830000,31.000000,2478.000000,464.000000,1346.000000,479.000000,3.212000,70400.000000\n"
          ],
          "name": "stdout"
        }
      ]
    },
    {
      "cell_type": "markdown",
      "metadata": {
        "id": "WYDnl0hv_1Sz"
      },
      "source": [
        "Если хотим просмотреть весь файл, то можно использовать команду `cat`:"
      ]
    },
    {
      "cell_type": "code",
      "metadata": {
        "id": "dqQEuynO_SEQ",
        "outputId": "b746d6de-a460-43c1-f21c-e94f29c683f9",
        "colab": {
          "base_uri": "https://localhost:8080/",
          "height": 336
        }
      },
      "source": [
        "!cat sample_data/README.md"
      ],
      "execution_count": null,
      "outputs": [
        {
          "output_type": "stream",
          "text": [
            "This directory includes a few sample datasets to get you started.\n",
            "\n",
            "* `california_housing_data*.csv` is California housing data from the 1990 US\n",
            "  Census; more information is available at:\n",
            "  https://developers.google.com/machine-learning/crash-course/california-housing-data-description\n",
            "\n",
            "* `mnist_*.csv` is a small sample of the [MNIST\n",
            "  database](https://en.wikipedia.org/wiki/MNIST_database), which is described\n",
            "  at: http://yann.lecun.com/exdb/mnist/\n",
            "\n",
            "* `anscombe.json` contains a copy of [Anscombe's\n",
            " quartet](https://en.wikipedia.org/wiki/Anscombe%27s_quartet);\n",
            "  it was originally described in\n",
            "\n",
            "      Anscombe, F. J. (1973). 'Graphs in Statistical Analysis'. American Statistician. 27 (1): 17-21. JSTOR 2682899.\n",
            "\n",
            "  and our copy was prepared by the [vega_datasets library](https://github.com/altair-viz/vega_datasets/blob/4f67bdaad10f45e3549984e17e1b3088c731503d/vega_datasets/_data/anscombe.json).\n"
          ],
          "name": "stdout"
        }
      ]
    },
    {
      "cell_type": "markdown",
      "metadata": {
        "id": "2PXkgrk29m_v"
      },
      "source": [
        "Выводить весь файл стоит только если файл небольшой и мы сможем его посмотреть. Но как узнать, большой файл, или нет? Команда `wc -l` показывает количество срок в файле."
      ]
    },
    {
      "cell_type": "code",
      "metadata": {
        "id": "h9RxRMS6AQgJ",
        "outputId": "799ad5cd-5d68-436f-8bb2-fd31f451525c",
        "colab": {
          "base_uri": "https://localhost:8080/",
          "height": 52
        }
      },
      "source": [
        "!wc -l sample_data/README.md\n",
        "!wc -l sample_data/california_housing_train.csv"
      ],
      "execution_count": null,
      "outputs": [
        {
          "output_type": "stream",
          "text": [
            "17 sample_data/README.md\n",
            "17001 sample_data/california_housing_train.csv\n"
          ],
          "name": "stdout"
        }
      ]
    },
    {
      "cell_type": "markdown",
      "metadata": {
        "id": "gvR54bSFAZaE"
      },
      "source": [
        "В файле `README.md` 17 строк, а в `california_housing_train.csv` - 17001. Выводить целиком файл `california_housing_train.csv` явно не стоит, он слишком большой.\n",
        "\n",
        "Надеюсь вы обратили внимание, что в одной ячейке можно указывать не одну команду Linux, а несколько."
      ]
    },
    {
      "cell_type": "markdown",
      "metadata": {
        "id": "eOdsCFxlA1H4"
      },
      "source": [
        "## Каталоги и пути к файлам"
      ]
    },
    {
      "cell_type": "markdown",
      "metadata": {
        "id": "87d-dFR4BD25"
      },
      "source": [
        "В Linux для разделения имен файлов, каталогов и подкаталогов используется прямой слеш - `/` (в Windows для этой цели используется обратный слеш `\\`). Python часто возволяет писать пути к файлам с любым типом слеша и автоматически конвертирует в понятный текущей операционной системе вариант. Но Linux так делать не умеет. Если вы попробуете использовать обратный слеш, как в Windows, то будет ошибка:"
      ]
    },
    {
      "cell_type": "code",
      "metadata": {
        "id": "_NZHlUnsBwYJ",
        "outputId": "39b7c272-1ecf-4027-c2e4-db55af5cad44",
        "colab": {
          "base_uri": "https://localhost:8080/",
          "height": 34
        }
      },
      "source": [
        "!head sample_data\\california_housing_train.csv"
      ],
      "execution_count": null,
      "outputs": [
        {
          "output_type": "stream",
          "text": [
            "head: cannot open 'sample_datacalifornia_housing_train.csv' for reading: No such file or directory\n"
          ],
          "name": "stdout"
        }
      ]
    },
    {
      "cell_type": "code",
      "metadata": {
        "id": "cPgre6t4By33",
        "outputId": "69c307a6-d4e2-48b6-efae-39e6520a26a8",
        "colab": {
          "base_uri": "https://localhost:8080/",
          "height": 213
        }
      },
      "source": [
        "!head sample_data/california_housing_train.csv"
      ],
      "execution_count": null,
      "outputs": [
        {
          "output_type": "stream",
          "text": [
            "\"longitude\",\"latitude\",\"housing_median_age\",\"total_rooms\",\"total_bedrooms\",\"population\",\"households\",\"median_income\",\"median_house_value\"\n",
            "-114.310000,34.190000,15.000000,5612.000000,1283.000000,1015.000000,472.000000,1.493600,66900.000000\n",
            "-114.470000,34.400000,19.000000,7650.000000,1901.000000,1129.000000,463.000000,1.820000,80100.000000\n",
            "-114.560000,33.690000,17.000000,720.000000,174.000000,333.000000,117.000000,1.650900,85700.000000\n",
            "-114.570000,33.640000,14.000000,1501.000000,337.000000,515.000000,226.000000,3.191700,73400.000000\n",
            "-114.570000,33.570000,20.000000,1454.000000,326.000000,624.000000,262.000000,1.925000,65500.000000\n",
            "-114.580000,33.630000,29.000000,1387.000000,236.000000,671.000000,239.000000,3.343800,74000.000000\n",
            "-114.580000,33.610000,25.000000,2907.000000,680.000000,1841.000000,633.000000,2.676800,82400.000000\n",
            "-114.590000,34.830000,41.000000,812.000000,168.000000,375.000000,158.000000,1.708300,48500.000000\n",
            "-114.590000,33.610000,34.000000,4789.000000,1175.000000,3134.000000,1056.000000,2.178200,58400.000000\n"
          ],
          "name": "stdout"
        }
      ]
    },
    {
      "cell_type": "markdown",
      "metadata": {
        "id": "KXFxV2pUB2mn"
      },
      "source": [
        "До сих пор мы просматривали файлы в текущем каталоге. Но как узнать, где именно в файловой системе находится этот каталог? Для этой цели используется команда `pwd`:"
      ]
    },
    {
      "cell_type": "code",
      "metadata": {
        "id": "k5lyUrBWCD_o",
        "outputId": "d1b55c77-18c8-4204-f554-46105703401d",
        "colab": {
          "base_uri": "https://localhost:8080/",
          "height": 34
        }
      },
      "source": [
        "!pwd"
      ],
      "execution_count": null,
      "outputs": [
        {
          "output_type": "stream",
          "text": [
            "/content\n"
          ],
          "name": "stdout"
        }
      ]
    },
    {
      "cell_type": "markdown",
      "metadata": {
        "id": "FEnZ_7-HCHwz"
      },
      "source": [
        "Путь к текущему каталогу - `/content`. В Linux нет разных дисков, все пути в файловой системе начинаются от так называемого корневого каталога, который обозначается прямым слешем - `/`.  Давайте посмотрим, какие есть каталоги верхнего уровня:"
      ]
    },
    {
      "cell_type": "code",
      "metadata": {
        "id": "anm80LGTCGoA",
        "outputId": "959e1d44-d938-4fd1-93b7-cc16363ac0a5",
        "colab": {
          "base_uri": "https://localhost:8080/",
          "height": 52
        }
      },
      "source": [
        "!ls /"
      ],
      "execution_count": null,
      "outputs": [
        {
          "output_type": "stream",
          "text": [
            "bin   content  dev  home  lib32  media\topt   root  sbin  swift  tmp\tusr\n",
            "boot  datalab  etc  lib   lib64  mnt\tproc  run   srv   sys\t tools\tvar\n"
          ],
          "name": "stdout"
        }
      ]
    },
    {
      "cell_type": "markdown",
      "metadata": {
        "id": "BJbw2wQ_C3Q6"
      },
      "source": [
        "Наиболее важные каталоги верхнего уровня:\n",
        "- `bin`, `sbin` - исполняемые файлы\n",
        "- `content` - каталог для данных, его мы уже рассматривали выше\n",
        "- `home` - каталог для файлов пользователей (\"домашний\" каталог)\n",
        "- `root` - домашний каталог для пользователя `root` (аналог Администратора в Linux)\n",
        "- `lib`, `lib32`, `lib64` - библиотеки\n",
        "- `tmp` - каталог для временных файлов\n",
        "- `etc` - каталог с конфигурационными файлами\n",
        "\n",
        "Потратьте некоторое время чтобы посмотреть содержимое этих каталогов.\n",
        "\n",
        "В большей части этих каталогов мы не будем ничего менять. Нам нужно будет загружать файлы данных в каталог `content` и выполнять некоторые настройки в домашнем каталоге пользователя `root`."
      ]
    },
    {
      "cell_type": "markdown",
      "metadata": {
        "id": "cgVphivCK63W"
      },
      "source": [
        "## Копирование файлов и создание каталогов\n",
        "\n",
        "Предположим, что мы решили создать проект, который использует демонстрационные данные Сalifornia Housing. Чтобы случайно не испортить исходные файлы, мы создадим отдельный каталог и скопируем файлы туда.\n",
        "\n",
        "Создание каталога выполняется командой `mkdir`:"
      ]
    },
    {
      "cell_type": "code",
      "metadata": {
        "id": "2J7X3Qy6LfLY"
      },
      "source": [
        "!mkdir my_project"
      ],
      "execution_count": null,
      "outputs": []
    },
    {
      "cell_type": "markdown",
      "metadata": {
        "id": "Ixg7ea8xLjOf"
      },
      "source": [
        "Проверим, что каталог создался:"
      ]
    },
    {
      "cell_type": "code",
      "metadata": {
        "id": "C2Yjvlm6LmQf",
        "outputId": "9edb0fef-e2fa-414f-b855-dc6e40d3ee87",
        "colab": {
          "base_uri": "https://localhost:8080/",
          "height": 34
        }
      },
      "source": [
        "!ls"
      ],
      "execution_count": null,
      "outputs": [
        {
          "output_type": "stream",
          "text": [
            "my_project  sample_data\n"
          ],
          "name": "stdout"
        }
      ]
    },
    {
      "cell_type": "markdown",
      "metadata": {
        "id": "eKB5nElWLoVw"
      },
      "source": [
        "Теперь скопируем в новый каталог демонстрационные данные. Для этого используется команда `cp`:"
      ]
    },
    {
      "cell_type": "code",
      "metadata": {
        "id": "2SeI8YtILzRQ"
      },
      "source": [
        "!cp sample_data/california_housing_test.csv my_project  \n",
        "!cp sample_data/california_housing_train.csv my_project  "
      ],
      "execution_count": null,
      "outputs": []
    },
    {
      "cell_type": "markdown",
      "metadata": {
        "id": "qkjI7svgL8w_"
      },
      "source": [
        "Проверим, что файлы скопировались:"
      ]
    },
    {
      "cell_type": "code",
      "metadata": {
        "id": "8qD-055ZMBMf",
        "outputId": "e8a10f03-8e69-4223-f482-1f66ddd18172",
        "colab": {
          "base_uri": "https://localhost:8080/",
          "height": 34
        }
      },
      "source": [
        "!ls my_project/"
      ],
      "execution_count": null,
      "outputs": [
        {
          "output_type": "stream",
          "text": [
            "california_housing_test.csv  california_housing_train.csv\n"
          ],
          "name": "stdout"
        }
      ]
    },
    {
      "cell_type": "markdown",
      "metadata": {
        "id": "gqK9V34BMJEI"
      },
      "source": [
        "## Загрузка данных из интернет\n",
        "\n",
        "Чаще всего нужные нам данные выложены в интернет и мы загружаем их на локальный компьютер через браузер. В Linux для загрузки файлов из интернет используется команда `wget`. Для примера давайте загрузим [данные о работе такси в Нью-Йорке](http://www.nyc.gov/html/tlc/html/about/trip_record_data.shtml)."
      ]
    },
    {
      "cell_type": "code",
      "metadata": {
        "id": "31FNpSMpO7JH",
        "outputId": "9fc0b6ad-42fc-4656-a8b6-3b8b5b56159b",
        "colab": {
          "base_uri": "https://localhost:8080/",
          "height": 210
        }
      },
      "source": [
        "!wget https://s3.amazonaws.com/nyc-tlc/trip+data/yellow_tripdata_2018-06.csv"
      ],
      "execution_count": null,
      "outputs": [
        {
          "output_type": "stream",
          "text": [
            "--2019-02-06 03:09:51--  https://s3.amazonaws.com/nyc-tlc/trip+data/yellow_tripdata_2018-06.csv\n",
            "Resolving s3.amazonaws.com (s3.amazonaws.com)... 52.216.85.213\n",
            "Connecting to s3.amazonaws.com (s3.amazonaws.com)|52.216.85.213|:443... connected.\n",
            "HTTP request sent, awaiting response... 200 OK\n",
            "Length: 769389923 (734M) [text/csv]\n",
            "Saving to: ‘yellow_tripdata_2018-06.csv’\n",
            "\n",
            "yellow_tripdata_201 100%[===================>] 733.75M  36.7MB/s    in 21s     \n",
            "\n",
            "2019-02-06 03:10:12 (35.5 MB/s) - ‘yellow_tripdata_2018-06.csv’ saved [769389923/769389923]\n",
            "\n"
          ],
          "name": "stdout"
        }
      ]
    },
    {
      "cell_type": "markdown",
      "metadata": {
        "id": "0sOoU52JPHGH"
      },
      "source": [
        "Проверим, что загруженный файл появился в текущем каталоге"
      ]
    },
    {
      "cell_type": "code",
      "metadata": {
        "id": "kYMW6GJDPOBY",
        "outputId": "040aef5b-484d-4d96-c8a0-64bf44684b1c",
        "colab": {
          "base_uri": "https://localhost:8080/",
          "height": 34
        }
      },
      "source": [
        "!ls"
      ],
      "execution_count": null,
      "outputs": [
        {
          "output_type": "stream",
          "text": [
            "my_project  sample_data  yellow_tripdata_2018-06.csv\n"
          ],
          "name": "stdout"
        }
      ]
    },
    {
      "cell_type": "markdown",
      "metadata": {
        "id": "grw7_A-WPQuo"
      },
      "source": [
        "Просмотрим начало файла"
      ]
    },
    {
      "cell_type": "code",
      "metadata": {
        "id": "kygLfB31PS3j",
        "outputId": "04239540-eea9-47b0-a6f7-baab347506fd",
        "colab": {
          "base_uri": "https://localhost:8080/",
          "height": 213
        }
      },
      "source": [
        "!head yellow_tripdata_2018-06.csv"
      ],
      "execution_count": null,
      "outputs": [
        {
          "output_type": "stream",
          "text": [
            "VendorID,tpep_pickup_datetime,tpep_dropoff_datetime,passenger_count,trip_distance,RatecodeID,store_and_fwd_flag,PULocationID,DOLocationID,payment_type,fare_amount,extra,mta_tax,tip_amount,tolls_amount,improvement_surcharge,total_amount\n",
            "\r\n",
            "1,2018-06-01 00:15:40,2018-06-01 00:16:46,1,.00,1,N,145,145,2,3,0.5,0.5,0,0,0.3,4.3\r\n",
            "1,2018-06-01 00:04:18,2018-06-01 00:09:18,1,1.00,1,N,230,161,1,5.5,0.5,0.5,1.35,0,0.3,8.15\r\n",
            "1,2018-06-01 00:14:39,2018-06-01 00:29:46,1,3.30,1,N,100,263,2,13,0.5,0.5,0,0,0.3,14.3\r\n",
            "1,2018-06-01 00:51:25,2018-06-01 00:51:29,3,.00,1,N,145,145,2,2.5,0.5,0.5,0,0,0.3,3.8\r\n",
            "1,2018-06-01 00:55:06,2018-06-01 00:55:10,1,.00,1,N,145,145,2,2.5,0.5,0.5,0,0,0.3,3.8\r\n",
            "1,2018-06-01 00:09:00,2018-06-01 00:24:01,1,2.00,1,N,161,234,1,11.5,0.5,0.5,2.55,0,0.3,15.35\r\n",
            "1,2018-06-01 00:02:33,2018-06-01 00:13:01,2,1.50,1,N,163,233,1,8.5,0.5,0.5,1.95,0,0.3,11.75\r\n",
            "1,2018-06-01 00:13:23,2018-06-01 00:16:52,1,.70,1,N,186,246,1,5,0.5,0.5,1.85,0,0.3,8.15\r\n"
          ],
          "name": "stdout"
        }
      ]
    },
    {
      "cell_type": "markdown",
      "metadata": {
        "id": "iMmIP-7mPZ47"
      },
      "source": [
        "## Архивы\n",
        "\n",
        "Часто данные запакованы в архивы, чтобы занимать меньше места. Давайте посмотрим, как можно под Linux распаковывать архивы.\n",
        "\n",
        "Начнем с простого - загрузим и распакуем данные в архиве `Zip`.  В качестве примера будем использовать небольшую часть набора данных  [Labeled Faces in the Wild](http://vis-www.cs.umass.edu/lfw/#download) - фотографии людей, чьи имена начинаются на A."
      ]
    },
    {
      "cell_type": "code",
      "metadata": {
        "id": "uws0IXIZPdSh",
        "outputId": "3b22454f-d2bc-4ba6-a4a4-4a786994bafa",
        "colab": {
          "base_uri": "https://localhost:8080/",
          "height": 210
        }
      },
      "source": [
        "!wget http://vis-www.cs.umass.edu/lfw/lfw-a.zip"
      ],
      "execution_count": null,
      "outputs": [
        {
          "output_type": "stream",
          "text": [
            "--2019-02-06 03:12:30--  http://vis-www.cs.umass.edu/lfw/lfw-a.zip\n",
            "Resolving vis-www.cs.umass.edu (vis-www.cs.umass.edu)... 128.119.244.95\n",
            "Connecting to vis-www.cs.umass.edu (vis-www.cs.umass.edu)|128.119.244.95|:80... connected.\n",
            "HTTP request sent, awaiting response... 200 OK\n",
            "Length: 15167852 (14M) [application/zip]\n",
            "Saving to: ‘lfw-a.zip’\n",
            "\n",
            "lfw-a.zip           100%[===================>]  14.46M  6.07MB/s    in 2.4s    \n",
            "\n",
            "2019-02-06 03:12:33 (6.07 MB/s) - ‘lfw-a.zip’ saved [15167852/15167852]\n",
            "\n"
          ],
          "name": "stdout"
        }
      ]
    },
    {
      "cell_type": "markdown",
      "metadata": {
        "id": "0HfIn8Pv9jU9"
      },
      "source": [
        "Распаковываем архив с помощью команды `unzip`:"
      ]
    },
    {
      "cell_type": "code",
      "metadata": {
        "id": "bsHs1zS09izf",
        "outputId": "5cc7215f-2104-4e43-891e-2876c1571ebd",
        "colab": {
          "base_uri": "https://localhost:8080/",
          "height": 26188
        }
      },
      "source": [
        "!unzip lfw-a.zip"
      ],
      "execution_count": null,
      "outputs": [
        {
          "output_type": "stream",
          "text": [
            "Archive:  lfw-a.zip\n",
            "   creating: lfw/Aaron_Eckhart/\n",
            "  inflating: lfw/Aaron_Eckhart/Aaron_Eckhart_0001.jpg  \n",
            "   creating: lfw/Aaron_Guiel/\n",
            "  inflating: lfw/Aaron_Guiel/Aaron_Guiel_0001.jpg  \n",
            "   creating: lfw/Aaron_Patterson/\n",
            "  inflating: lfw/Aaron_Patterson/Aaron_Patterson_0001.jpg  \n",
            "   creating: lfw/Aaron_Peirsol/\n",
            "  inflating: lfw/Aaron_Peirsol/Aaron_Peirsol_0001.jpg  \n",
            "  inflating: lfw/Aaron_Peirsol/Aaron_Peirsol_0002.jpg  \n",
            "  inflating: lfw/Aaron_Peirsol/Aaron_Peirsol_0003.jpg  \n",
            "  inflating: lfw/Aaron_Peirsol/Aaron_Peirsol_0004.jpg  \n",
            "   creating: lfw/Aaron_Pena/\n",
            "  inflating: lfw/Aaron_Pena/Aaron_Pena_0001.jpg  \n",
            "   creating: lfw/Aaron_Sorkin/\n",
            "  inflating: lfw/Aaron_Sorkin/Aaron_Sorkin_0001.jpg  \n",
            "  inflating: lfw/Aaron_Sorkin/Aaron_Sorkin_0002.jpg  \n",
            "   creating: lfw/Aaron_Tippin/\n",
            "  inflating: lfw/Aaron_Tippin/Aaron_Tippin_0001.jpg  \n",
            "   creating: lfw/Abba_Eban/\n",
            "  inflating: lfw/Abba_Eban/Abba_Eban_0001.jpg  \n",
            "   creating: lfw/Abbas_Kiarostami/\n",
            "  inflating: lfw/Abbas_Kiarostami/Abbas_Kiarostami_0001.jpg  \n",
            "   creating: lfw/Abdel_Aziz_Al-Hakim/\n",
            "  inflating: lfw/Abdel_Aziz_Al-Hakim/Abdel_Aziz_Al-Hakim_0001.jpg  \n",
            "   creating: lfw/Abdel_Madi_Shabneh/\n",
            "  inflating: lfw/Abdel_Madi_Shabneh/Abdel_Madi_Shabneh_0001.jpg  \n",
            "   creating: lfw/Abdel_Nasser_Assidi/\n",
            "  inflating: lfw/Abdel_Nasser_Assidi/Abdel_Nasser_Assidi_0001.jpg  \n",
            "  inflating: lfw/Abdel_Nasser_Assidi/Abdel_Nasser_Assidi_0002.jpg  \n",
            "   creating: lfw/Abdoulaye_Wade/\n",
            "  inflating: lfw/Abdoulaye_Wade/Abdoulaye_Wade_0001.jpg  \n",
            "  inflating: lfw/Abdoulaye_Wade/Abdoulaye_Wade_0002.jpg  \n",
            "  inflating: lfw/Abdoulaye_Wade/Abdoulaye_Wade_0003.jpg  \n",
            "  inflating: lfw/Abdoulaye_Wade/Abdoulaye_Wade_0004.jpg  \n",
            "   creating: lfw/Abdulaziz_Kamilov/\n",
            "  inflating: lfw/Abdulaziz_Kamilov/Abdulaziz_Kamilov_0001.jpg  \n",
            "   creating: lfw/Abdullah/\n",
            "  inflating: lfw/Abdullah/Abdullah_0001.jpg  \n",
            "  inflating: lfw/Abdullah/Abdullah_0002.jpg  \n",
            "  inflating: lfw/Abdullah/Abdullah_0003.jpg  \n",
            "  inflating: lfw/Abdullah/Abdullah_0004.jpg  \n",
            "   creating: lfw/Abdullah_Ahmad_Badawi/\n",
            "  inflating: lfw/Abdullah_Ahmad_Badawi/Abdullah_Ahmad_Badawi_0001.jpg  \n",
            "   creating: lfw/Abdullah_al-Attiyah/\n",
            "  inflating: lfw/Abdullah_al-Attiyah/Abdullah_al-Attiyah_0001.jpg  \n",
            "  inflating: lfw/Abdullah_al-Attiyah/Abdullah_al-Attiyah_0002.jpg  \n",
            "  inflating: lfw/Abdullah_al-Attiyah/Abdullah_al-Attiyah_0003.jpg  \n",
            "   creating: lfw/Abdullah_Gul/\n",
            "  inflating: lfw/Abdullah_Gul/Abdullah_Gul_0001.jpg  \n",
            "  inflating: lfw/Abdullah_Gul/Abdullah_Gul_0002.jpg  \n",
            "  inflating: lfw/Abdullah_Gul/Abdullah_Gul_0003.jpg  \n",
            "  inflating: lfw/Abdullah_Gul/Abdullah_Gul_0004.jpg  \n",
            "  inflating: lfw/Abdullah_Gul/Abdullah_Gul_0005.jpg  \n",
            "  inflating: lfw/Abdullah_Gul/Abdullah_Gul_0006.jpg  \n",
            "  inflating: lfw/Abdullah_Gul/Abdullah_Gul_0007.jpg  \n",
            "  inflating: lfw/Abdullah_Gul/Abdullah_Gul_0008.jpg  \n",
            "  inflating: lfw/Abdullah_Gul/Abdullah_Gul_0009.jpg  \n",
            "  inflating: lfw/Abdullah_Gul/Abdullah_Gul_0010.jpg  \n",
            "  inflating: lfw/Abdullah_Gul/Abdullah_Gul_0011.jpg  \n",
            "  inflating: lfw/Abdullah_Gul/Abdullah_Gul_0012.jpg  \n",
            "  inflating: lfw/Abdullah_Gul/Abdullah_Gul_0013.jpg  \n",
            "  inflating: lfw/Abdullah_Gul/Abdullah_Gul_0014.jpg  \n",
            "  inflating: lfw/Abdullah_Gul/Abdullah_Gul_0015.jpg  \n",
            "  inflating: lfw/Abdullah_Gul/Abdullah_Gul_0016.jpg  \n",
            "  inflating: lfw/Abdullah_Gul/Abdullah_Gul_0017.jpg  \n",
            "  inflating: lfw/Abdullah_Gul/Abdullah_Gul_0018.jpg  \n",
            "  inflating: lfw/Abdullah_Gul/Abdullah_Gul_0019.jpg  \n",
            "   creating: lfw/Abdullah_Nasseef/\n",
            "  inflating: lfw/Abdullah_Nasseef/Abdullah_Nasseef_0001.jpg  \n",
            "   creating: lfw/Abdullatif_Sener/\n",
            "  inflating: lfw/Abdullatif_Sener/Abdullatif_Sener_0001.jpg  \n",
            "  inflating: lfw/Abdullatif_Sener/Abdullatif_Sener_0002.jpg  \n",
            "   creating: lfw/Abdul_Majeed_Shobokshi/\n",
            "  inflating: lfw/Abdul_Majeed_Shobokshi/Abdul_Majeed_Shobokshi_0001.jpg  \n",
            "   creating: lfw/Abdul_Rahman/\n",
            "  inflating: lfw/Abdul_Rahman/Abdul_Rahman_0001.jpg  \n",
            "   creating: lfw/Abel_Aguilar/\n",
            "  inflating: lfw/Abel_Aguilar/Abel_Aguilar_0001.jpg  \n",
            "   creating: lfw/Abel_Pacheco/\n",
            "  inflating: lfw/Abel_Pacheco/Abel_Pacheco_0001.jpg  \n",
            "  inflating: lfw/Abel_Pacheco/Abel_Pacheco_0002.jpg  \n",
            "  inflating: lfw/Abel_Pacheco/Abel_Pacheco_0003.jpg  \n",
            "  inflating: lfw/Abel_Pacheco/Abel_Pacheco_0004.jpg  \n",
            "   creating: lfw/Abid_Hamid_Mahmud_Al-Tikriti/\n",
            "  inflating: lfw/Abid_Hamid_Mahmud_Al-Tikriti/Abid_Hamid_Mahmud_Al-Tikriti_0001.jpg  \n",
            "  inflating: lfw/Abid_Hamid_Mahmud_Al-Tikriti/Abid_Hamid_Mahmud_Al-Tikriti_0002.jpg  \n",
            "  inflating: lfw/Abid_Hamid_Mahmud_Al-Tikriti/Abid_Hamid_Mahmud_Al-Tikriti_0003.jpg  \n",
            "   creating: lfw/Abner_Martinez/\n",
            "  inflating: lfw/Abner_Martinez/Abner_Martinez_0001.jpg  \n",
            "   creating: lfw/Abraham_Foxman/\n",
            "  inflating: lfw/Abraham_Foxman/Abraham_Foxman_0001.jpg  \n",
            "   creating: lfw/Aby_Har-Even/\n",
            "  inflating: lfw/Aby_Har-Even/Aby_Har-Even_0001.jpg  \n",
            "   creating: lfw/Adam_Ant/\n",
            "  inflating: lfw/Adam_Ant/Adam_Ant_0001.jpg  \n",
            "   creating: lfw/Adam_Freier/\n",
            "  inflating: lfw/Adam_Freier/Adam_Freier_0001.jpg  \n",
            "   creating: lfw/Adam_Herbert/\n",
            "  inflating: lfw/Adam_Herbert/Adam_Herbert_0001.jpg  \n",
            "   creating: lfw/Adam_Kennedy/\n",
            "  inflating: lfw/Adam_Kennedy/Adam_Kennedy_0001.jpg  \n",
            "   creating: lfw/Adam_Mair/\n",
            "  inflating: lfw/Adam_Mair/Adam_Mair_0001.jpg  \n",
            "   creating: lfw/Adam_Rich/\n",
            "  inflating: lfw/Adam_Rich/Adam_Rich_0001.jpg  \n",
            "   creating: lfw/Adam_Sandler/\n",
            "  inflating: lfw/Adam_Sandler/Adam_Sandler_0001.jpg  \n",
            "  inflating: lfw/Adam_Sandler/Adam_Sandler_0002.jpg  \n",
            "  inflating: lfw/Adam_Sandler/Adam_Sandler_0003.jpg  \n",
            "  inflating: lfw/Adam_Sandler/Adam_Sandler_0004.jpg  \n",
            "   creating: lfw/Adam_Scott/\n",
            "  inflating: lfw/Adam_Scott/Adam_Scott_0001.jpg  \n",
            "  inflating: lfw/Adam_Scott/Adam_Scott_0002.jpg  \n",
            "   creating: lfw/Adel_Al-Jubeir/\n",
            "  inflating: lfw/Adel_Al-Jubeir/Adel_Al-Jubeir_0001.jpg  \n",
            "  inflating: lfw/Adel_Al-Jubeir/Adel_Al-Jubeir_0002.jpg  \n",
            "  inflating: lfw/Adel_Al-Jubeir/Adel_Al-Jubeir_0003.jpg  \n",
            "   creating: lfw/Adelina_Avila/\n",
            "  inflating: lfw/Adelina_Avila/Adelina_Avila_0001.jpg  \n",
            "   creating: lfw/Adisai_Bodharamik/\n",
            "  inflating: lfw/Adisai_Bodharamik/Adisai_Bodharamik_0001.jpg  \n",
            "   creating: lfw/Adolfo_Aguilar_Zinser/\n",
            "  inflating: lfw/Adolfo_Aguilar_Zinser/Adolfo_Aguilar_Zinser_0001.jpg  \n",
            "  inflating: lfw/Adolfo_Aguilar_Zinser/Adolfo_Aguilar_Zinser_0002.jpg  \n",
            "  inflating: lfw/Adolfo_Aguilar_Zinser/Adolfo_Aguilar_Zinser_0003.jpg  \n",
            "   creating: lfw/Adolfo_Rodriguez_Saa/\n",
            "  inflating: lfw/Adolfo_Rodriguez_Saa/Adolfo_Rodriguez_Saa_0001.jpg  \n",
            "  inflating: lfw/Adolfo_Rodriguez_Saa/Adolfo_Rodriguez_Saa_0002.jpg  \n",
            "   creating: lfw/Adoor_Gopalakarishnan/\n",
            "  inflating: lfw/Adoor_Gopalakarishnan/Adoor_Gopalakarishnan_0001.jpg  \n",
            "   creating: lfw/Adriana_Lima/\n",
            "  inflating: lfw/Adriana_Lima/Adriana_Lima_0001.jpg  \n",
            "   creating: lfw/Adrian_Annus/\n",
            "  inflating: lfw/Adrian_Annus/Adrian_Annus_0001.jpg  \n",
            "   creating: lfw/Adriana_Perez_Navarro/\n",
            "  inflating: lfw/Adriana_Perez_Navarro/Adriana_Perez_Navarro_0001.jpg  \n",
            "   creating: lfw/Adrian_Fernandez/\n",
            "  inflating: lfw/Adrian_Fernandez/Adrian_Fernandez_0001.jpg  \n",
            "   creating: lfw/Adrian_McPherson/\n",
            "  inflating: lfw/Adrian_McPherson/Adrian_McPherson_0001.jpg  \n",
            "  inflating: lfw/Adrian_McPherson/Adrian_McPherson_0002.jpg  \n",
            "   creating: lfw/Adrian_Murrell/\n",
            "  inflating: lfw/Adrian_Murrell/Adrian_Murrell_0001.jpg  \n",
            "   creating: lfw/Adrian_Nastase/\n",
            "  inflating: lfw/Adrian_Nastase/Adrian_Nastase_0001.jpg  \n",
            "  inflating: lfw/Adrian_Nastase/Adrian_Nastase_0002.jpg  \n",
            "   creating: lfw/Adrianna_Zuzic/\n",
            "  inflating: lfw/Adrianna_Zuzic/Adrianna_Zuzic_0001.jpg  \n",
            "   creating: lfw/Adrien_Brody/\n",
            "  inflating: lfw/Adrien_Brody/Adrien_Brody_0001.jpg  \n",
            "  inflating: lfw/Adrien_Brody/Adrien_Brody_0002.jpg  \n",
            "  inflating: lfw/Adrien_Brody/Adrien_Brody_0003.jpg  \n",
            "  inflating: lfw/Adrien_Brody/Adrien_Brody_0004.jpg  \n",
            "  inflating: lfw/Adrien_Brody/Adrien_Brody_0005.jpg  \n",
            "  inflating: lfw/Adrien_Brody/Adrien_Brody_0006.jpg  \n",
            "  inflating: lfw/Adrien_Brody/Adrien_Brody_0007.jpg  \n",
            "  inflating: lfw/Adrien_Brody/Adrien_Brody_0008.jpg  \n",
            "  inflating: lfw/Adrien_Brody/Adrien_Brody_0009.jpg  \n",
            "  inflating: lfw/Adrien_Brody/Adrien_Brody_0010.jpg  \n",
            "  inflating: lfw/Adrien_Brody/Adrien_Brody_0011.jpg  \n",
            "  inflating: lfw/Adrien_Brody/Adrien_Brody_0012.jpg  \n",
            "   creating: lfw/Afton_Smith/\n",
            "  inflating: lfw/Afton_Smith/Afton_Smith_0001.jpg  \n",
            "   creating: lfw/Agbani_Darego/\n",
            "  inflating: lfw/Agbani_Darego/Agbani_Darego_0001.jpg  \n",
            "   creating: lfw/Agnelo_Queiroz/\n",
            "  inflating: lfw/Agnelo_Queiroz/Agnelo_Queiroz_0001.jpg  \n",
            "   creating: lfw/Agnes_Bruckner/\n",
            "  inflating: lfw/Agnes_Bruckner/Agnes_Bruckner_0001.jpg  \n",
            "   creating: lfw/Ahmad_Jbarah/\n",
            "  inflating: lfw/Ahmad_Jbarah/Ahmad_Jbarah_0001.jpg  \n",
            "   creating: lfw/Ahmad_Masood/\n",
            "  inflating: lfw/Ahmad_Masood/Ahmad_Masood_0001.jpg  \n",
            "  inflating: lfw/Ahmad_Masood/Ahmad_Masood_0002.jpg  \n",
            "   creating: lfw/Ahmed_Ahmed/\n",
            "  inflating: lfw/Ahmed_Ahmed/Ahmed_Ahmed_0001.jpg  \n",
            "   creating: lfw/Ahmed_Chalabi/\n",
            "  inflating: lfw/Ahmed_Chalabi/Ahmed_Chalabi_0001.jpg  \n",
            "  inflating: lfw/Ahmed_Chalabi/Ahmed_Chalabi_0002.jpg  \n",
            "  inflating: lfw/Ahmed_Chalabi/Ahmed_Chalabi_0003.jpg  \n",
            "  inflating: lfw/Ahmed_Chalabi/Ahmed_Chalabi_0004.jpg  \n",
            "  inflating: lfw/Ahmed_Chalabi/Ahmed_Chalabi_0005.jpg  \n",
            "   creating: lfw/Ahmed_Ghazi/\n",
            "  inflating: lfw/Ahmed_Ghazi/Ahmed_Ghazi_0001.jpg  \n",
            "   creating: lfw/Ahmed_Ibrahim_Bilal/\n",
            "  inflating: lfw/Ahmed_Ibrahim_Bilal/Ahmed_Ibrahim_Bilal_0001.jpg  \n",
            "   creating: lfw/Ahmed_Lopez/\n",
            "  inflating: lfw/Ahmed_Lopez/Ahmed_Lopez_0001.jpg  \n",
            "   creating: lfw/Ahmed_Qureia/\n",
            "  inflating: lfw/Ahmed_Qureia/Ahmed_Qureia_0001.jpg  \n",
            "   creating: lfw/Ahmet_Demir/\n",
            "  inflating: lfw/Ahmet_Demir/Ahmet_Demir_0001.jpg  \n",
            "   creating: lfw/Ahmet_Necdet_Sezer/\n",
            "  inflating: lfw/Ahmet_Necdet_Sezer/Ahmet_Necdet_Sezer_0001.jpg  \n",
            "  inflating: lfw/Ahmet_Necdet_Sezer/Ahmet_Necdet_Sezer_0002.jpg  \n",
            "   creating: lfw/Aicha_El_Ouafi/\n",
            "  inflating: lfw/Aicha_El_Ouafi/Aicha_El_Ouafi_0001.jpg  \n",
            "  inflating: lfw/Aicha_El_Ouafi/Aicha_El_Ouafi_0002.jpg  \n",
            "  inflating: lfw/Aicha_El_Ouafi/Aicha_El_Ouafi_0003.jpg  \n",
            "   creating: lfw/Aidan_Quinn/\n",
            "  inflating: lfw/Aidan_Quinn/Aidan_Quinn_0001.jpg  \n",
            "   creating: lfw/Aileen_Riggin_Soule/\n",
            "  inflating: lfw/Aileen_Riggin_Soule/Aileen_Riggin_Soule_0001.jpg  \n",
            "   creating: lfw/Ain_Seppik/\n",
            "  inflating: lfw/Ain_Seppik/Ain_Seppik_0001.jpg  \n",
            "   creating: lfw/Ainsworth_Dyer/\n",
            "  inflating: lfw/Ainsworth_Dyer/Ainsworth_Dyer_0001.jpg  \n",
            "   creating: lfw/Aishwarya_Rai/\n",
            "  inflating: lfw/Aishwarya_Rai/Aishwarya_Rai_0001.jpg  \n",
            "   creating: lfw/Ai_Sugiyama/\n",
            "  inflating: lfw/Ai_Sugiyama/Ai_Sugiyama_0001.jpg  \n",
            "  inflating: lfw/Ai_Sugiyama/Ai_Sugiyama_0002.jpg  \n",
            "  inflating: lfw/Ai_Sugiyama/Ai_Sugiyama_0003.jpg  \n",
            "  inflating: lfw/Ai_Sugiyama/Ai_Sugiyama_0004.jpg  \n",
            "  inflating: lfw/Ai_Sugiyama/Ai_Sugiyama_0005.jpg  \n",
            "   creating: lfw/Aitor_Gonzalez/\n",
            "  inflating: lfw/Aitor_Gonzalez/Aitor_Gonzalez_0001.jpg  \n",
            "  inflating: lfw/Aitor_Gonzalez/Aitor_Gonzalez_0002.jpg  \n",
            "   creating: lfw/Aiysha_Smith/\n",
            "  inflating: lfw/Aiysha_Smith/Aiysha_Smith_0001.jpg  \n",
            "   creating: lfw/AJ_Cook/\n",
            "  inflating: lfw/AJ_Cook/AJ_Cook_0001.jpg  \n",
            "   creating: lfw/Ajit_Agarkar/\n",
            "  inflating: lfw/Ajit_Agarkar/Ajit_Agarkar_0001.jpg  \n",
            "   creating: lfw/AJ_Lamas/\n",
            "  inflating: lfw/AJ_Lamas/AJ_Lamas_0001.jpg  \n",
            "   creating: lfw/Akbar_Al_Baker/\n",
            "  inflating: lfw/Akbar_Al_Baker/Akbar_Al_Baker_0001.jpg  \n",
            "   creating: lfw/Akbar_Hashemi_Rafsanjani/\n",
            "  inflating: lfw/Akbar_Hashemi_Rafsanjani/Akbar_Hashemi_Rafsanjani_0001.jpg  \n",
            "  inflating: lfw/Akbar_Hashemi_Rafsanjani/Akbar_Hashemi_Rafsanjani_0002.jpg  \n",
            "  inflating: lfw/Akbar_Hashemi_Rafsanjani/Akbar_Hashemi_Rafsanjani_0003.jpg  \n",
            "   creating: lfw/Akhmed_Zakayev/\n",
            "  inflating: lfw/Akhmed_Zakayev/Akhmed_Zakayev_0001.jpg  \n",
            "  inflating: lfw/Akhmed_Zakayev/Akhmed_Zakayev_0002.jpg  \n",
            "  inflating: lfw/Akhmed_Zakayev/Akhmed_Zakayev_0003.jpg  \n",
            "   creating: lfw/Akiko_Morigami/\n",
            "  inflating: lfw/Akiko_Morigami/Akiko_Morigami_0001.jpg  \n",
            "   creating: lfw/Akmal_Taher/\n",
            "  inflating: lfw/Akmal_Taher/Akmal_Taher_0001.jpg  \n",
            "   creating: lfw/Alain_Cervantes/\n",
            "  inflating: lfw/Alain_Cervantes/Alain_Cervantes_0001.jpg  \n",
            "   creating: lfw/Alain_Ducasse/\n",
            "  inflating: lfw/Alain_Ducasse/Alain_Ducasse_0001.jpg  \n",
            "   creating: lfw/Alan_Ball/\n",
            "  inflating: lfw/Alan_Ball/Alan_Ball_0001.jpg  \n",
            "  inflating: lfw/Alan_Ball/Alan_Ball_0002.jpg  \n",
            "   creating: lfw/Alan_Dershowitz/\n",
            "  inflating: lfw/Alan_Dershowitz/Alan_Dershowitz_0001.jpg  \n",
            "   creating: lfw/Alan_Dreher/\n",
            "  inflating: lfw/Alan_Dreher/Alan_Dreher_0001.jpg  \n",
            "   creating: lfw/Alan_Greenspan/\n",
            "  inflating: lfw/Alan_Greenspan/Alan_Greenspan_0001.jpg  \n",
            "  inflating: lfw/Alan_Greenspan/Alan_Greenspan_0002.jpg  \n",
            "  inflating: lfw/Alan_Greenspan/Alan_Greenspan_0003.jpg  \n",
            "  inflating: lfw/Alan_Greenspan/Alan_Greenspan_0004.jpg  \n",
            "  inflating: lfw/Alan_Greenspan/Alan_Greenspan_0005.jpg  \n",
            "   creating: lfw/Alan_Greer/\n",
            "  inflating: lfw/Alan_Greer/Alan_Greer_0001.jpg  \n",
            "   creating: lfw/Alanis_Morissette/\n",
            "  inflating: lfw/Alanis_Morissette/Alanis_Morissette_0001.jpg  \n",
            "   creating: lfw/Alan_Jackson/\n",
            "  inflating: lfw/Alan_Jackson/Alan_Jackson_0001.jpg  \n",
            "   creating: lfw/Alan_Mulally/\n",
            "  inflating: lfw/Alan_Mulally/Alan_Mulally_0001.jpg  \n",
            "  inflating: lfw/Alan_Mulally/Alan_Mulally_0002.jpg  \n",
            "   creating: lfw/Alanna_Ubach/\n",
            "  inflating: lfw/Alanna_Ubach/Alanna_Ubach_0001.jpg  \n",
            "   creating: lfw/Alan_Stonecipher/\n",
            "  inflating: lfw/Alan_Stonecipher/Alan_Stonecipher_0001.jpg  \n",
            "   creating: lfw/Alan_Tang_Kwong-wing/\n",
            "  inflating: lfw/Alan_Tang_Kwong-wing/Alan_Tang_Kwong-wing_0001.jpg  \n",
            "   creating: lfw/Alan_Trammell/\n",
            "  inflating: lfw/Alan_Trammell/Alan_Trammell_0001.jpg  \n",
            "   creating: lfw/Alan_Zemaitis/\n",
            "  inflating: lfw/Alan_Zemaitis/Alan_Zemaitis_0001.jpg  \n",
            "   creating: lfw/Alastair_Campbell/\n",
            "  inflating: lfw/Alastair_Campbell/Alastair_Campbell_0001.jpg  \n",
            "  inflating: lfw/Alastair_Campbell/Alastair_Campbell_0002.jpg  \n",
            "  inflating: lfw/Alastair_Campbell/Alastair_Campbell_0003.jpg  \n",
            "  inflating: lfw/Alastair_Campbell/Alastair_Campbell_0004.jpg  \n",
            "  inflating: lfw/Alastair_Campbell/Alastair_Campbell_0005.jpg  \n",
            "   creating: lfw/Alastair_Johnston/\n",
            "  inflating: lfw/Alastair_Johnston/Alastair_Johnston_0001.jpg  \n",
            "   creating: lfw/Albaro_Recoba/\n",
            "  inflating: lfw/Albaro_Recoba/Albaro_Recoba_0001.jpg  \n",
            "   creating: lfw/Alberta_Lee/\n",
            "  inflating: lfw/Alberta_Lee/Alberta_Lee_0001.jpg  \n",
            "   creating: lfw/Albert_Brooks/\n",
            "  inflating: lfw/Albert_Brooks/Albert_Brooks_0001.jpg  \n",
            "   creating: lfw/Albert_Costa/\n",
            "  inflating: lfw/Albert_Costa/Albert_Costa_0001.jpg  \n",
            "  inflating: lfw/Albert_Costa/Albert_Costa_0002.jpg  \n",
            "  inflating: lfw/Albert_Costa/Albert_Costa_0003.jpg  \n",
            "  inflating: lfw/Albert_Costa/Albert_Costa_0004.jpg  \n",
            "  inflating: lfw/Albert_Costa/Albert_Costa_0005.jpg  \n",
            "  inflating: lfw/Albert_Costa/Albert_Costa_0006.jpg  \n",
            "   creating: lfw/Albert_Montanes/\n",
            "  inflating: lfw/Albert_Montanes/Albert_Montanes_0001.jpg  \n",
            "   creating: lfw/Alberto_Acosta/\n",
            "  inflating: lfw/Alberto_Acosta/Alberto_Acosta_0001.jpg  \n",
            "   creating: lfw/Alberto_Fujimori/\n",
            "  inflating: lfw/Alberto_Fujimori/Alberto_Fujimori_0001.jpg  \n",
            "  inflating: lfw/Alberto_Fujimori/Alberto_Fujimori_0002.jpg  \n",
            "   creating: lfw/Alberto_Gonzales/\n",
            "  inflating: lfw/Alberto_Gonzales/Alberto_Gonzales_0001.jpg  \n",
            "   creating: lfw/Alberto_Ruiz_Gallardon/\n",
            "  inflating: lfw/Alberto_Ruiz_Gallardon/Alberto_Ruiz_Gallardon_0001.jpg  \n",
            "  inflating: lfw/Alberto_Ruiz_Gallardon/Alberto_Ruiz_Gallardon_0002.jpg  \n",
            "   creating: lfw/Alberto_Sordi/\n",
            "  inflating: lfw/Alberto_Sordi/Alberto_Sordi_0001.jpg  \n",
            "   creating: lfw/Albert_Pujols/\n",
            "  inflating: lfw/Albert_Pujols/Albert_Pujols_0001.jpg  \n",
            "   creating: lfw/Albrecht_Mentz/\n",
            "  inflating: lfw/Albrecht_Mentz/Albrecht_Mentz_0001.jpg  \n",
            "  inflating: lfw/Albrecht_Mentz/Albrecht_Mentz_0002.jpg  \n",
            "   creating: lfw/Al_Cardenas/\n",
            "  inflating: lfw/Al_Cardenas/Al_Cardenas_0001.jpg  \n",
            "   creating: lfw/Al_Davis/\n",
            "  inflating: lfw/Al_Davis/Al_Davis_0001.jpg  \n",
            "  inflating: lfw/Al_Davis/Al_Davis_0002.jpg  \n",
            "   creating: lfw/Aldo_Paredes/\n",
            "  inflating: lfw/Aldo_Paredes/Aldo_Paredes_0001.jpg  \n",
            "  inflating: lfw/Aldo_Paredes/Aldo_Paredes_0002.jpg  \n",
            "   creating: lfw/Alec_Baldwin/\n",
            "  inflating: lfw/Alec_Baldwin/Alec_Baldwin_0001.jpg  \n",
            "  inflating: lfw/Alec_Baldwin/Alec_Baldwin_0002.jpg  \n",
            "  inflating: lfw/Alec_Baldwin/Alec_Baldwin_0003.jpg  \n",
            "  inflating: lfw/Alec_Baldwin/Alec_Baldwin_0004.jpg  \n",
            "   creating: lfw/Alecos_Markides/\n",
            "  inflating: lfw/Alecos_Markides/Alecos_Markides_0001.jpg  \n",
            "   creating: lfw/Alejandro_Atchugarry/\n",
            "  inflating: lfw/Alejandro_Atchugarry/Alejandro_Atchugarry_0001.jpg  \n",
            "  inflating: lfw/Alejandro_Atchugarry/Alejandro_Atchugarry_0002.jpg  \n",
            "   creating: lfw/Alejandro_Avila/\n",
            "  inflating: lfw/Alejandro_Avila/Alejandro_Avila_0001.jpg  \n",
            "  inflating: lfw/Alejandro_Avila/Alejandro_Avila_0002.jpg  \n",
            "  inflating: lfw/Alejandro_Avila/Alejandro_Avila_0003.jpg  \n",
            "   creating: lfw/Alejandro_Fernandez/\n",
            "  inflating: lfw/Alejandro_Fernandez/Alejandro_Fernandez_0001.jpg  \n",
            "   creating: lfw/Alejandro_Gonzalez_Inarritu/\n",
            "  inflating: lfw/Alejandro_Gonzalez_Inarritu/Alejandro_Gonzalez_Inarritu_0001.jpg  \n",
            "   creating: lfw/Alejandro_Lembo/\n",
            "  inflating: lfw/Alejandro_Lembo/Alejandro_Lembo_0001.jpg  \n",
            "   creating: lfw/Alejandro_Lerner/\n",
            "  inflating: lfw/Alejandro_Lerner/Alejandro_Lerner_0001.jpg  \n",
            "   creating: lfw/Alejandro_Lopez/\n",
            "  inflating: lfw/Alejandro_Lopez/Alejandro_Lopez_0001.jpg  \n",
            "   creating: lfw/Alejandro_Toledo/\n",
            "  inflating: lfw/Alejandro_Toledo/Alejandro_Toledo_0001.jpg  \n",
            "  inflating: lfw/Alejandro_Toledo/Alejandro_Toledo_0002.jpg  \n",
            "  inflating: lfw/Alejandro_Toledo/Alejandro_Toledo_0003.jpg  \n",
            "  inflating: lfw/Alejandro_Toledo/Alejandro_Toledo_0004.jpg  \n",
            "  inflating: lfw/Alejandro_Toledo/Alejandro_Toledo_0005.jpg  \n",
            "  inflating: lfw/Alejandro_Toledo/Alejandro_Toledo_0006.jpg  \n",
            "  inflating: lfw/Alejandro_Toledo/Alejandro_Toledo_0007.jpg  \n",
            "  inflating: lfw/Alejandro_Toledo/Alejandro_Toledo_0008.jpg  \n",
            "  inflating: lfw/Alejandro_Toledo/Alejandro_Toledo_0009.jpg  \n",
            "  inflating: lfw/Alejandro_Toledo/Alejandro_Toledo_0010.jpg  \n",
            "  inflating: lfw/Alejandro_Toledo/Alejandro_Toledo_0011.jpg  \n",
            "  inflating: lfw/Alejandro_Toledo/Alejandro_Toledo_0012.jpg  \n",
            "  inflating: lfw/Alejandro_Toledo/Alejandro_Toledo_0013.jpg  \n",
            "  inflating: lfw/Alejandro_Toledo/Alejandro_Toledo_0014.jpg  \n",
            "  inflating: lfw/Alejandro_Toledo/Alejandro_Toledo_0015.jpg  \n",
            "  inflating: lfw/Alejandro_Toledo/Alejandro_Toledo_0016.jpg  \n",
            "  inflating: lfw/Alejandro_Toledo/Alejandro_Toledo_0017.jpg  \n",
            "  inflating: lfw/Alejandro_Toledo/Alejandro_Toledo_0018.jpg  \n",
            "  inflating: lfw/Alejandro_Toledo/Alejandro_Toledo_0019.jpg  \n",
            "  inflating: lfw/Alejandro_Toledo/Alejandro_Toledo_0020.jpg  \n",
            "  inflating: lfw/Alejandro_Toledo/Alejandro_Toledo_0021.jpg  \n",
            "  inflating: lfw/Alejandro_Toledo/Alejandro_Toledo_0022.jpg  \n",
            "  inflating: lfw/Alejandro_Toledo/Alejandro_Toledo_0023.jpg  \n",
            "  inflating: lfw/Alejandro_Toledo/Alejandro_Toledo_0024.jpg  \n",
            "  inflating: lfw/Alejandro_Toledo/Alejandro_Toledo_0025.jpg  \n",
            "  inflating: lfw/Alejandro_Toledo/Alejandro_Toledo_0026.jpg  \n",
            "  inflating: lfw/Alejandro_Toledo/Alejandro_Toledo_0027.jpg  \n",
            "  inflating: lfw/Alejandro_Toledo/Alejandro_Toledo_0028.jpg  \n",
            "  inflating: lfw/Alejandro_Toledo/Alejandro_Toledo_0029.jpg  \n",
            "  inflating: lfw/Alejandro_Toledo/Alejandro_Toledo_0030.jpg  \n",
            "  inflating: lfw/Alejandro_Toledo/Alejandro_Toledo_0031.jpg  \n",
            "  inflating: lfw/Alejandro_Toledo/Alejandro_Toledo_0032.jpg  \n",
            "  inflating: lfw/Alejandro_Toledo/Alejandro_Toledo_0033.jpg  \n",
            "  inflating: lfw/Alejandro_Toledo/Alejandro_Toledo_0034.jpg  \n",
            "  inflating: lfw/Alejandro_Toledo/Alejandro_Toledo_0035.jpg  \n",
            "  inflating: lfw/Alejandro_Toledo/Alejandro_Toledo_0036.jpg  \n",
            "  inflating: lfw/Alejandro_Toledo/Alejandro_Toledo_0037.jpg  \n",
            "  inflating: lfw/Alejandro_Toledo/Alejandro_Toledo_0038.jpg  \n",
            "  inflating: lfw/Alejandro_Toledo/Alejandro_Toledo_0039.jpg  \n",
            "   creating: lfw/Aleksander_Kwasniewski/\n",
            "  inflating: lfw/Aleksander_Kwasniewski/Aleksander_Kwasniewski_0001.jpg  \n",
            "  inflating: lfw/Aleksander_Kwasniewski/Aleksander_Kwasniewski_0002.jpg  \n",
            "  inflating: lfw/Aleksander_Kwasniewski/Aleksander_Kwasniewski_0003.jpg  \n",
            "  inflating: lfw/Aleksander_Kwasniewski/Aleksander_Kwasniewski_0004.jpg  \n",
            "   creating: lfw/Aleksander_Voloshin/\n",
            "  inflating: lfw/Aleksander_Voloshin/Aleksander_Voloshin_0001.jpg  \n",
            "   creating: lfw/Alek_Wek/\n",
            "  inflating: lfw/Alek_Wek/Alek_Wek_0001.jpg  \n",
            "   creating: lfw/Alessandra_Cerna/\n",
            "  inflating: lfw/Alessandra_Cerna/Alessandra_Cerna_0001.jpg  \n",
            "   creating: lfw/Alessandro_Nesta/\n",
            "  inflating: lfw/Alessandro_Nesta/Alessandro_Nesta_0001.jpg  \n",
            "   creating: lfw/Alexa_Loren/\n",
            "  inflating: lfw/Alexa_Loren/Alexa_Loren_0001.jpg  \n",
            "   creating: lfw/Alexander_Downer/\n",
            "  inflating: lfw/Alexander_Downer/Alexander_Downer_0001.jpg  \n",
            "  inflating: lfw/Alexander_Downer/Alexander_Downer_0002.jpg  \n",
            "  inflating: lfw/Alexander_Downer/Alexander_Downer_0003.jpg  \n",
            "  inflating: lfw/Alexander_Downer/Alexander_Downer_0004.jpg  \n",
            "   creating: lfw/Alexander_Losyukov/\n",
            "  inflating: lfw/Alexander_Losyukov/Alexander_Losyukov_0001.jpg  \n",
            "  inflating: lfw/Alexander_Losyukov/Alexander_Losyukov_0002.jpg  \n",
            "  inflating: lfw/Alexander_Losyukov/Alexander_Losyukov_0003.jpg  \n",
            "  inflating: lfw/Alexander_Losyukov/Alexander_Losyukov_0004.jpg  \n",
            "   creating: lfw/Alexander_Lukashenko/\n",
            "  inflating: lfw/Alexander_Lukashenko/Alexander_Lukashenko_0001.jpg  \n",
            "   creating: lfw/Alexander_Payne/\n",
            "  inflating: lfw/Alexander_Payne/Alexander_Payne_0001.jpg  \n",
            "   creating: lfw/Alexander_Rumyantsev/\n",
            "  inflating: lfw/Alexander_Rumyantsev/Alexander_Rumyantsev_0001.jpg  \n",
            "  inflating: lfw/Alexander_Rumyantsev/Alexander_Rumyantsev_0002.jpg  \n",
            "   creating: lfw/Alexandra_Jackson/\n",
            "  inflating: lfw/Alexandra_Jackson/Alexandra_Jackson_0001.jpg  \n",
            "   creating: lfw/Alexandra_Pelosi/\n",
            "  inflating: lfw/Alexandra_Pelosi/Alexandra_Pelosi_0001.jpg  \n",
            "   creating: lfw/Alexandra_Rozovskaya/\n",
            "  inflating: lfw/Alexandra_Rozovskaya/Alexandra_Rozovskaya_0001.jpg  \n",
            "   creating: lfw/Alexandra_Spann/\n",
            "  inflating: lfw/Alexandra_Spann/Alexandra_Spann_0001.jpg  \n",
            "   creating: lfw/Alexandra_Stevenson/\n",
            "  inflating: lfw/Alexandra_Stevenson/Alexandra_Stevenson_0001.jpg  \n",
            "  inflating: lfw/Alexandra_Stevenson/Alexandra_Stevenson_0002.jpg  \n",
            "  inflating: lfw/Alexandra_Stevenson/Alexandra_Stevenson_0003.jpg  \n",
            "   creating: lfw/Alexandra_Vodjanikova/\n",
            "  inflating: lfw/Alexandra_Vodjanikova/Alexandra_Vodjanikova_0001.jpg  \n",
            "  inflating: lfw/Alexandra_Vodjanikova/Alexandra_Vodjanikova_0002.jpg  \n",
            "   creating: lfw/Alexandre_Daigle/\n",
            "  inflating: lfw/Alexandre_Daigle/Alexandre_Daigle_0001.jpg  \n",
            "   creating: lfw/Alexandre_Despatie/\n",
            "  inflating: lfw/Alexandre_Despatie/Alexandre_Despatie_0001.jpg  \n",
            "   creating: lfw/Alexandre_Herchcovitch/\n",
            "  inflating: lfw/Alexandre_Herchcovitch/Alexandre_Herchcovitch_0001.jpg  \n",
            "   creating: lfw/Alexandre_Vinokourov/\n",
            "  inflating: lfw/Alexandre_Vinokourov/Alexandre_Vinokourov_0001.jpg  \n",
            "   creating: lfw/Alexa_Vega/\n",
            "  inflating: lfw/Alexa_Vega/Alexa_Vega_0001.jpg  \n",
            "   creating: lfw/Alex_Barros/\n",
            "  inflating: lfw/Alex_Barros/Alex_Barros_0001.jpg  \n",
            "  inflating: lfw/Alex_Barros/Alex_Barros_0002.jpg  \n",
            "   creating: lfw/Alex_Cabrera/\n",
            "  inflating: lfw/Alex_Cabrera/Alex_Cabrera_0001.jpg  \n",
            "   creating: lfw/Alex_Cejka/\n",
            "  inflating: lfw/Alex_Cejka/Alex_Cejka_0001.jpg  \n",
            "   creating: lfw/Alex_Corretja/\n",
            "  inflating: lfw/Alex_Corretja/Alex_Corretja_0001.jpg  \n",
            "   creating: lfw/Alex_Ferguson/\n",
            "  inflating: lfw/Alex_Ferguson/Alex_Ferguson_0001.jpg  \n",
            "   creating: lfw/Alex_Gonzalez/\n",
            "  inflating: lfw/Alex_Gonzalez/Alex_Gonzalez_0001.jpg  \n",
            "   creating: lfw/Alex_Holmes/\n",
            "  inflating: lfw/Alex_Holmes/Alex_Holmes_0001.jpg  \n",
            "   creating: lfw/Alexis_Bledel/\n",
            "  inflating: lfw/Alexis_Bledel/Alexis_Bledel_0001.jpg  \n",
            "   creating: lfw/Alexis_Dennisoff/\n",
            "  inflating: lfw/Alexis_Dennisoff/Alexis_Dennisoff_0001.jpg  \n",
            "   creating: lfw/Alex_King/\n",
            "  inflating: lfw/Alex_King/Alex_King_0001.jpg  \n",
            "   creating: lfw/Alex_Penelas/\n",
            "  inflating: lfw/Alex_Penelas/Alex_Penelas_0001.jpg  \n",
            "  inflating: lfw/Alex_Penelas/Alex_Penelas_0002.jpg  \n",
            "   creating: lfw/Alex_Popov/\n",
            "  inflating: lfw/Alex_Popov/Alex_Popov_0001.jpg  \n",
            "   creating: lfw/Alex_Sink/\n",
            "  inflating: lfw/Alex_Sink/Alex_Sink_0001.jpg  \n",
            "  inflating: lfw/Alex_Sink/Alex_Sink_0002.jpg  \n",
            "  inflating: lfw/Alex_Sink/Alex_Sink_0003.jpg  \n",
            "   creating: lfw/Alex_Wallau/\n",
            "  inflating: lfw/Alex_Wallau/Alex_Wallau_0001.jpg  \n",
            "   creating: lfw/Alex_Zanardi/\n",
            "  inflating: lfw/Alex_Zanardi/Alex_Zanardi_0001.jpg  \n",
            "   creating: lfw/Alfonso_Cuaron/\n",
            "  inflating: lfw/Alfonso_Cuaron/Alfonso_Cuaron_0001.jpg  \n",
            "   creating: lfw/Alfonso_Portillo/\n",
            "  inflating: lfw/Alfonso_Portillo/Alfonso_Portillo_0001.jpg  \n",
            "   creating: lfw/Alfonso_Soriano/\n",
            "  inflating: lfw/Alfonso_Soriano/Alfonso_Soriano_0001.jpg  \n",
            "   creating: lfw/Alfred_Ford/\n",
            "  inflating: lfw/Alfred_Ford/Alfred_Ford_0001.jpg  \n",
            "   creating: lfw/Alfredo_di_Stefano/\n",
            "  inflating: lfw/Alfredo_di_Stefano/Alfredo_di_Stefano_0001.jpg  \n",
            "   creating: lfw/Alfredo_Moreno/\n",
            "  inflating: lfw/Alfredo_Moreno/Alfredo_Moreno_0001.jpg  \n",
            "   creating: lfw/Alfredo_Pena/\n",
            "  inflating: lfw/Alfredo_Pena/Alfredo_Pena_0001.jpg  \n",
            "   creating: lfw/Alfred_Sant/\n",
            "  inflating: lfw/Alfred_Sant/Alfred_Sant_0001.jpg  \n",
            "   creating: lfw/Al_Gore/\n",
            "  inflating: lfw/Al_Gore/Al_Gore_0001.jpg  \n",
            "  inflating: lfw/Al_Gore/Al_Gore_0002.jpg  \n",
            "  inflating: lfw/Al_Gore/Al_Gore_0003.jpg  \n",
            "  inflating: lfw/Al_Gore/Al_Gore_0004.jpg  \n",
            "  inflating: lfw/Al_Gore/Al_Gore_0005.jpg  \n",
            "  inflating: lfw/Al_Gore/Al_Gore_0006.jpg  \n",
            "  inflating: lfw/Al_Gore/Al_Gore_0007.jpg  \n",
            "  inflating: lfw/Al_Gore/Al_Gore_0008.jpg  \n",
            "   creating: lfw/Ali_Abbas/\n",
            "  inflating: lfw/Ali_Abbas/Ali_Abbas_0001.jpg  \n",
            "  inflating: lfw/Ali_Abbas/Ali_Abbas_0002.jpg  \n",
            "   creating: lfw/Ali_Abdullah_Saleh/\n",
            "  inflating: lfw/Ali_Abdullah_Saleh/Ali_Abdullah_Saleh_0001.jpg  \n",
            "   creating: lfw/Ali_Adbul_Karim_Madani/\n",
            "  inflating: lfw/Ali_Adbul_Karim_Madani/Ali_Adbul_Karim_Madani_0001.jpg  \n",
            "   creating: lfw/Ali_Ahmeti/\n",
            "  inflating: lfw/Ali_Ahmeti/Ali_Ahmeti_0001.jpg  \n",
            "   creating: lfw/Ali_Bin_Hussein/\n",
            "  inflating: lfw/Ali_Bin_Hussein/Ali_Bin_Hussein_0001.jpg  \n",
            "   creating: lfw/Alice_Fisher/\n",
            "  inflating: lfw/Alice_Fisher/Alice_Fisher_0001.jpg  \n",
            "  inflating: lfw/Alice_Fisher/Alice_Fisher_0002.jpg  \n",
            "   creating: lfw/Alicia_Hollowell/\n",
            "  inflating: lfw/Alicia_Hollowell/Alicia_Hollowell_0001.jpg  \n",
            "   creating: lfw/Alicia_Keys/\n",
            "  inflating: lfw/Alicia_Keys/Alicia_Keys_0001.jpg  \n",
            "   creating: lfw/Alicia_Molik/\n",
            "  inflating: lfw/Alicia_Molik/Alicia_Molik_0001.jpg  \n",
            "   creating: lfw/Alicia_Silverstone/\n",
            "  inflating: lfw/Alicia_Silverstone/Alicia_Silverstone_0001.jpg  \n",
            "  inflating: lfw/Alicia_Silverstone/Alicia_Silverstone_0002.jpg  \n",
            "   creating: lfw/Alicia_Witt/\n",
            "  inflating: lfw/Alicia_Witt/Alicia_Witt_0001.jpg  \n",
            "   creating: lfw/Ali_Fallahian/\n",
            "  inflating: lfw/Ali_Fallahian/Ali_Fallahian_0001.jpg  \n",
            "   creating: lfw/Ali_Hammoud/\n",
            "  inflating: lfw/Ali_Hammoud/Ali_Hammoud_0001.jpg  \n",
            "   creating: lfw/Ali_Khamenei/\n",
            "  inflating: lfw/Ali_Khamenei/Ali_Khamenei_0001.jpg  \n",
            "  inflating: lfw/Ali_Khamenei/Ali_Khamenei_0002.jpg  \n",
            "  inflating: lfw/Ali_Khamenei/Ali_Khamenei_0003.jpg  \n",
            "   creating: lfw/Ali_Mohammed_Maher/\n",
            "  inflating: lfw/Ali_Mohammed_Maher/Ali_Mohammed_Maher_0001.jpg  \n",
            "   creating: lfw/Alimzhan_Tokhtakhounov/\n",
            "  inflating: lfw/Alimzhan_Tokhtakhounov/Alimzhan_Tokhtakhounov_0001.jpg  \n",
            "  inflating: lfw/Alimzhan_Tokhtakhounov/Alimzhan_Tokhtakhounov_0002.jpg  \n",
            "   creating: lfw/Ali_Naimi/\n",
            "  inflating: lfw/Ali_Naimi/Ali_Naimi_0001.jpg  \n",
            "  inflating: lfw/Ali_Naimi/Ali_Naimi_0002.jpg  \n",
            "  inflating: lfw/Ali_Naimi/Ali_Naimi_0003.jpg  \n",
            "  inflating: lfw/Ali_Naimi/Ali_Naimi_0004.jpg  \n",
            "  inflating: lfw/Ali_Naimi/Ali_Naimi_0005.jpg  \n",
            "  inflating: lfw/Ali_Naimi/Ali_Naimi_0006.jpg  \n",
            "  inflating: lfw/Ali_Naimi/Ali_Naimi_0007.jpg  \n",
            "  inflating: lfw/Ali_Naimi/Ali_Naimi_0008.jpg  \n",
            "   creating: lfw/Alina_Kabaeva/\n",
            "  inflating: lfw/Alina_Kabaeva/Alina_Kabaeva_0001.jpg  \n",
            "   creating: lfw/Aline_Chretien/\n",
            "  inflating: lfw/Aline_Chretien/Aline_Chretien_0001.jpg  \n",
            "   creating: lfw/Alisha_Richman/\n",
            "  inflating: lfw/Alisha_Richman/Alisha_Richman_0001.jpg  \n",
            "   creating: lfw/Alison_Krauss/\n",
            "  inflating: lfw/Alison_Krauss/Alison_Krauss_0001.jpg  \n",
            "   creating: lfw/Alison_Lohman/\n",
            "  inflating: lfw/Alison_Lohman/Alison_Lohman_0001.jpg  \n",
            "  inflating: lfw/Alison_Lohman/Alison_Lohman_0002.jpg  \n",
            "   creating: lfw/Alistair_MacDonald/\n",
            "  inflating: lfw/Alistair_MacDonald/Alistair_MacDonald_0001.jpg  \n",
            "   creating: lfw/Allan_Houston/\n",
            "  inflating: lfw/Allan_Houston/Allan_Houston_0001.jpg  \n",
            "   creating: lfw/Allan_Kemakeza/\n",
            "  inflating: lfw/Allan_Kemakeza/Allan_Kemakeza_0001.jpg  \n",
            "   creating: lfw/Allan_Wagner/\n",
            "  inflating: lfw/Allan_Wagner/Allan_Wagner_0001.jpg  \n",
            "   creating: lfw/Al_Leiter/\n",
            "  inflating: lfw/Al_Leiter/Al_Leiter_0001.jpg  \n",
            "   creating: lfw/Allen_Iverson/\n",
            "  inflating: lfw/Allen_Iverson/Allen_Iverson_0001.jpg  \n",
            "  inflating: lfw/Allen_Iverson/Allen_Iverson_0002.jpg  \n",
            "   creating: lfw/Allen_Rock/\n",
            "  inflating: lfw/Allen_Rock/Allen_Rock_0001.jpg  \n",
            "   creating: lfw/Allison_Janney/\n",
            "  inflating: lfw/Allison_Janney/Allison_Janney_0001.jpg  \n",
            "  inflating: lfw/Allison_Janney/Allison_Janney_0002.jpg  \n",
            "   creating: lfw/Allison_Searing/\n",
            "  inflating: lfw/Allison_Searing/Allison_Searing_0001.jpg  \n",
            "   creating: lfw/Ally_Sheedy/\n",
            "  inflating: lfw/Ally_Sheedy/Ally_Sheedy_0001.jpg  \n",
            "   creating: lfw/Allyson_Felix/\n",
            "  inflating: lfw/Allyson_Felix/Allyson_Felix_0001.jpg  \n",
            "  inflating: lfw/Allyson_Felix/Allyson_Felix_0002.jpg  \n",
            "  inflating: lfw/Allyson_Felix/Allyson_Felix_0003.jpg  \n",
            "  inflating: lfw/Allyson_Felix/Allyson_Felix_0004.jpg  \n",
            "  inflating: lfw/Allyson_Felix/Allyson_Felix_0005.jpg  \n",
            "   creating: lfw/Alma_Powell/\n",
            "  inflating: lfw/Alma_Powell/Alma_Powell_0001.jpg  \n",
            "   creating: lfw/Almeida_Baptista/\n",
            "  inflating: lfw/Almeida_Baptista/Almeida_Baptista_0001.jpg  \n",
            "   creating: lfw/Alonzo_Mourning/\n",
            "  inflating: lfw/Alonzo_Mourning/Alonzo_Mourning_0001.jpg  \n",
            "   creating: lfw/Al_Pacino/\n",
            "  inflating: lfw/Al_Pacino/Al_Pacino_0001.jpg  \n",
            "  inflating: lfw/Al_Pacino/Al_Pacino_0002.jpg  \n",
            "  inflating: lfw/Al_Pacino/Al_Pacino_0003.jpg  \n",
            "   creating: lfw/Al_Sharpton/\n",
            "  inflating: lfw/Al_Sharpton/Al_Sharpton_0001.jpg  \n",
            "  inflating: lfw/Al_Sharpton/Al_Sharpton_0002.jpg  \n",
            "  inflating: lfw/Al_Sharpton/Al_Sharpton_0003.jpg  \n",
            "  inflating: lfw/Al_Sharpton/Al_Sharpton_0004.jpg  \n",
            "  inflating: lfw/Al_Sharpton/Al_Sharpton_0005.jpg  \n",
            "  inflating: lfw/Al_Sharpton/Al_Sharpton_0006.jpg  \n",
            "  inflating: lfw/Al_Sharpton/Al_Sharpton_0007.jpg  \n",
            "   creating: lfw/Alvaro_Noboa/\n",
            "  inflating: lfw/Alvaro_Noboa/Alvaro_Noboa_0001.jpg  \n",
            "  inflating: lfw/Alvaro_Noboa/Alvaro_Noboa_0002.jpg  \n",
            "  inflating: lfw/Alvaro_Noboa/Alvaro_Noboa_0003.jpg  \n",
            "   creating: lfw/Alvaro_Silva_Calderon/\n",
            "  inflating: lfw/Alvaro_Silva_Calderon/Alvaro_Silva_Calderon_0001.jpg  \n",
            "  inflating: lfw/Alvaro_Silva_Calderon/Alvaro_Silva_Calderon_0002.jpg  \n",
            "  inflating: lfw/Alvaro_Silva_Calderon/Alvaro_Silva_Calderon_0003.jpg  \n",
            "  inflating: lfw/Alvaro_Silva_Calderon/Alvaro_Silva_Calderon_0004.jpg  \n",
            "   creating: lfw/Alvaro_Uribe/\n",
            "  inflating: lfw/Alvaro_Uribe/Alvaro_Uribe_0001.jpg  \n",
            "  inflating: lfw/Alvaro_Uribe/Alvaro_Uribe_0002.jpg  \n",
            "  inflating: lfw/Alvaro_Uribe/Alvaro_Uribe_0003.jpg  \n",
            "  inflating: lfw/Alvaro_Uribe/Alvaro_Uribe_0004.jpg  \n",
            "  inflating: lfw/Alvaro_Uribe/Alvaro_Uribe_0005.jpg  \n",
            "  inflating: lfw/Alvaro_Uribe/Alvaro_Uribe_0006.jpg  \n",
            "  inflating: lfw/Alvaro_Uribe/Alvaro_Uribe_0007.jpg  \n",
            "  inflating: lfw/Alvaro_Uribe/Alvaro_Uribe_0008.jpg  \n",
            "  inflating: lfw/Alvaro_Uribe/Alvaro_Uribe_0009.jpg  \n",
            "  inflating: lfw/Alvaro_Uribe/Alvaro_Uribe_0010.jpg  \n",
            "  inflating: lfw/Alvaro_Uribe/Alvaro_Uribe_0011.jpg  \n",
            "  inflating: lfw/Alvaro_Uribe/Alvaro_Uribe_0012.jpg  \n",
            "  inflating: lfw/Alvaro_Uribe/Alvaro_Uribe_0013.jpg  \n",
            "  inflating: lfw/Alvaro_Uribe/Alvaro_Uribe_0014.jpg  \n",
            "  inflating: lfw/Alvaro_Uribe/Alvaro_Uribe_0015.jpg  \n",
            "  inflating: lfw/Alvaro_Uribe/Alvaro_Uribe_0016.jpg  \n",
            "  inflating: lfw/Alvaro_Uribe/Alvaro_Uribe_0017.jpg  \n",
            "  inflating: lfw/Alvaro_Uribe/Alvaro_Uribe_0018.jpg  \n",
            "  inflating: lfw/Alvaro_Uribe/Alvaro_Uribe_0019.jpg  \n",
            "  inflating: lfw/Alvaro_Uribe/Alvaro_Uribe_0020.jpg  \n",
            "  inflating: lfw/Alvaro_Uribe/Alvaro_Uribe_0021.jpg  \n",
            "  inflating: lfw/Alvaro_Uribe/Alvaro_Uribe_0022.jpg  \n",
            "  inflating: lfw/Alvaro_Uribe/Alvaro_Uribe_0023.jpg  \n",
            "  inflating: lfw/Alvaro_Uribe/Alvaro_Uribe_0024.jpg  \n",
            "  inflating: lfw/Alvaro_Uribe/Alvaro_Uribe_0025.jpg  \n",
            "  inflating: lfw/Alvaro_Uribe/Alvaro_Uribe_0026.jpg  \n",
            "  inflating: lfw/Alvaro_Uribe/Alvaro_Uribe_0027.jpg  \n",
            "  inflating: lfw/Alvaro_Uribe/Alvaro_Uribe_0028.jpg  \n",
            "  inflating: lfw/Alvaro_Uribe/Alvaro_Uribe_0029.jpg  \n",
            "  inflating: lfw/Alvaro_Uribe/Alvaro_Uribe_0030.jpg  \n",
            "  inflating: lfw/Alvaro_Uribe/Alvaro_Uribe_0031.jpg  \n",
            "  inflating: lfw/Alvaro_Uribe/Alvaro_Uribe_0032.jpg  \n",
            "  inflating: lfw/Alvaro_Uribe/Alvaro_Uribe_0033.jpg  \n",
            "  inflating: lfw/Alvaro_Uribe/Alvaro_Uribe_0034.jpg  \n",
            "  inflating: lfw/Alvaro_Uribe/Alvaro_Uribe_0035.jpg  \n",
            "   creating: lfw/Alyse_Beaupre/\n",
            "  inflating: lfw/Alyse_Beaupre/Alyse_Beaupre_0001.jpg  \n",
            "   creating: lfw/Alyson_Hannigan/\n",
            "  inflating: lfw/Alyson_Hannigan/Alyson_Hannigan_0001.jpg  \n",
            "   creating: lfw/Aly_Wagner/\n",
            "  inflating: lfw/Aly_Wagner/Aly_Wagner_0001.jpg  \n",
            "   creating: lfw/Amanda_Beard/\n",
            "  inflating: lfw/Amanda_Beard/Amanda_Beard_0001.jpg  \n",
            "  inflating: lfw/Amanda_Beard/Amanda_Beard_0002.jpg  \n",
            "   creating: lfw/Amanda_Bynes/\n",
            "  inflating: lfw/Amanda_Bynes/Amanda_Bynes_0001.jpg  \n",
            "  inflating: lfw/Amanda_Bynes/Amanda_Bynes_0002.jpg  \n",
            "  inflating: lfw/Amanda_Bynes/Amanda_Bynes_0003.jpg  \n",
            "  inflating: lfw/Amanda_Bynes/Amanda_Bynes_0004.jpg  \n",
            "   creating: lfw/Amanda_Coetzer/\n",
            "  inflating: lfw/Amanda_Coetzer/Amanda_Coetzer_0001.jpg  \n",
            "  inflating: lfw/Amanda_Coetzer/Amanda_Coetzer_0002.jpg  \n",
            "   creating: lfw/Amanda_Marsh/\n",
            "  inflating: lfw/Amanda_Marsh/Amanda_Marsh_0001.jpg  \n",
            "   creating: lfw/Amanda_Plumer/\n",
            "  inflating: lfw/Amanda_Plumer/Amanda_Plumer_0001.jpg  \n",
            "   creating: lfw/Amber_Frey/\n",
            "  inflating: lfw/Amber_Frey/Amber_Frey_0001.jpg  \n",
            "   creating: lfw/Amber_Tamblyn/\n",
            "  inflating: lfw/Amber_Tamblyn/Amber_Tamblyn_0001.jpg  \n",
            "  inflating: lfw/Amber_Tamblyn/Amber_Tamblyn_0002.jpg  \n",
            "   creating: lfw/Ambrose_Lee/\n",
            "  inflating: lfw/Ambrose_Lee/Ambrose_Lee_0001.jpg  \n",
            "   creating: lfw/Amelia_Vega/\n",
            "  inflating: lfw/Amelia_Vega/Amelia_Vega_0001.jpg  \n",
            "  inflating: lfw/Amelia_Vega/Amelia_Vega_0002.jpg  \n",
            "  inflating: lfw/Amelia_Vega/Amelia_Vega_0003.jpg  \n",
            "  inflating: lfw/Amelia_Vega/Amelia_Vega_0004.jpg  \n",
            "  inflating: lfw/Amelia_Vega/Amelia_Vega_0005.jpg  \n",
            "  inflating: lfw/Amelia_Vega/Amelia_Vega_0006.jpg  \n",
            "  inflating: lfw/Amelia_Vega/Amelia_Vega_0007.jpg  \n",
            "   creating: lfw/Amelie_Mauresmo/\n",
            "  inflating: lfw/Amelie_Mauresmo/Amelie_Mauresmo_0001.jpg  \n",
            "  inflating: lfw/Amelie_Mauresmo/Amelie_Mauresmo_0002.jpg  \n",
            "  inflating: lfw/Amelie_Mauresmo/Amelie_Mauresmo_0003.jpg  \n",
            "  inflating: lfw/Amelie_Mauresmo/Amelie_Mauresmo_0004.jpg  \n",
            "  inflating: lfw/Amelie_Mauresmo/Amelie_Mauresmo_0005.jpg  \n",
            "  inflating: lfw/Amelie_Mauresmo/Amelie_Mauresmo_0006.jpg  \n",
            "  inflating: lfw/Amelie_Mauresmo/Amelie_Mauresmo_0007.jpg  \n",
            "  inflating: lfw/Amelie_Mauresmo/Amelie_Mauresmo_0008.jpg  \n",
            "  inflating: lfw/Amelie_Mauresmo/Amelie_Mauresmo_0009.jpg  \n",
            "  inflating: lfw/Amelie_Mauresmo/Amelie_Mauresmo_0010.jpg  \n",
            "  inflating: lfw/Amelie_Mauresmo/Amelie_Mauresmo_0011.jpg  \n",
            "  inflating: lfw/Amelie_Mauresmo/Amelie_Mauresmo_0012.jpg  \n",
            "  inflating: lfw/Amelie_Mauresmo/Amelie_Mauresmo_0013.jpg  \n",
            "  inflating: lfw/Amelie_Mauresmo/Amelie_Mauresmo_0014.jpg  \n",
            "  inflating: lfw/Amelie_Mauresmo/Amelie_Mauresmo_0015.jpg  \n",
            "  inflating: lfw/Amelie_Mauresmo/Amelie_Mauresmo_0016.jpg  \n",
            "  inflating: lfw/Amelie_Mauresmo/Amelie_Mauresmo_0017.jpg  \n",
            "  inflating: lfw/Amelie_Mauresmo/Amelie_Mauresmo_0018.jpg  \n",
            "  inflating: lfw/Amelie_Mauresmo/Amelie_Mauresmo_0019.jpg  \n",
            "  inflating: lfw/Amelie_Mauresmo/Amelie_Mauresmo_0020.jpg  \n",
            "  inflating: lfw/Amelie_Mauresmo/Amelie_Mauresmo_0021.jpg  \n",
            "   creating: lfw/Amer_al-Saadi/\n",
            "  inflating: lfw/Amer_al-Saadi/Amer_al-Saadi_0001.jpg  \n",
            "  inflating: lfw/Amer_al-Saadi/Amer_al-Saadi_0002.jpg  \n",
            "  inflating: lfw/Amer_al-Saadi/Amer_al-Saadi_0003.jpg  \n",
            "  inflating: lfw/Amer_al-Saadi/Amer_al-Saadi_0004.jpg  \n",
            "   creating: lfw/Amporn_Falise/\n",
            "  inflating: lfw/Amporn_Falise/Amporn_Falise_0001.jpg  \n",
            "   creating: lfw/Amram_Mitzna/\n",
            "  inflating: lfw/Amram_Mitzna/Amram_Mitzna_0001.jpg  \n",
            "  inflating: lfw/Amram_Mitzna/Amram_Mitzna_0002.jpg  \n",
            "   creating: lfw/Amr_Moussa/\n",
            "  inflating: lfw/Amr_Moussa/Amr_Moussa_0001.jpg  \n",
            "   creating: lfw/Amy_Brenneman/\n",
            "  inflating: lfw/Amy_Brenneman/Amy_Brenneman_0001.jpg  \n",
            "   creating: lfw/Amy_Cotton/\n",
            "  inflating: lfw/Amy_Cotton/Amy_Cotton_0001.jpg  \n",
            "   creating: lfw/Amy_Gale/\n",
            "  inflating: lfw/Amy_Gale/Amy_Gale_0001.jpg  \n",
            "   creating: lfw/Amy_Pascal/\n",
            "  inflating: lfw/Amy_Pascal/Amy_Pascal_0001.jpg  \n",
            "   creating: lfw/Amy_Redford/\n",
            "  inflating: lfw/Amy_Redford/Amy_Redford_0001.jpg  \n",
            "   creating: lfw/Amy_Smart/\n",
            "  inflating: lfw/Amy_Smart/Amy_Smart_0001.jpg  \n",
            "   creating: lfw/Amy_Yasbeck/\n",
            "  inflating: lfw/Amy_Yasbeck/Amy_Yasbeck_0001.jpg  \n",
            "   creating: lfw/Ana_Claudia_Talancon/\n",
            "  inflating: lfw/Ana_Claudia_Talancon/Ana_Claudia_Talancon_0001.jpg  \n",
            "   creating: lfw/Ana_Guevara/\n",
            "  inflating: lfw/Ana_Guevara/Ana_Guevara_0001.jpg  \n",
            "  inflating: lfw/Ana_Guevara/Ana_Guevara_0002.jpg  \n",
            "  inflating: lfw/Ana_Guevara/Ana_Guevara_0003.jpg  \n",
            "  inflating: lfw/Ana_Guevara/Ana_Guevara_0004.jpg  \n",
            "  inflating: lfw/Ana_Guevara/Ana_Guevara_0005.jpg  \n",
            "  inflating: lfw/Ana_Guevara/Ana_Guevara_0006.jpg  \n",
            "  inflating: lfw/Ana_Guevara/Ana_Guevara_0007.jpg  \n",
            "   creating: lfw/Ana_Isabel_Sanchez/\n",
            "  inflating: lfw/Ana_Isabel_Sanchez/Ana_Isabel_Sanchez_0001.jpg  \n",
            "   creating: lfw/Ana_Palacio/\n",
            "  inflating: lfw/Ana_Palacio/Ana_Palacio_0001.jpg  \n",
            "  inflating: lfw/Ana_Palacio/Ana_Palacio_0002.jpg  \n",
            "  inflating: lfw/Ana_Palacio/Ana_Palacio_0003.jpg  \n",
            "  inflating: lfw/Ana_Palacio/Ana_Palacio_0004.jpg  \n",
            "  inflating: lfw/Ana_Palacio/Ana_Palacio_0005.jpg  \n",
            "  inflating: lfw/Ana_Palacio/Ana_Palacio_0006.jpg  \n",
            "  inflating: lfw/Ana_Palacio/Ana_Palacio_0007.jpg  \n",
            "  inflating: lfw/Ana_Palacio/Ana_Palacio_0008.jpg  \n",
            "   creating: lfw/Ana_Paula_Gerard/\n",
            "  inflating: lfw/Ana_Paula_Gerard/Ana_Paula_Gerard_0001.jpg  \n",
            "   creating: lfw/Ana_Sebastiao/\n",
            "  inflating: lfw/Ana_Sebastiao/Ana_Sebastiao_0001.jpg  \n",
            "   creating: lfw/Anastasia_Kelesidou/\n",
            "  inflating: lfw/Anastasia_Kelesidou/Anastasia_Kelesidou_0001.jpg  \n",
            "   creating: lfw/Anastasia_Myskina/\n",
            "  inflating: lfw/Anastasia_Myskina/Anastasia_Myskina_0001.jpg  \n",
            "  inflating: lfw/Anastasia_Myskina/Anastasia_Myskina_0002.jpg  \n",
            "  inflating: lfw/Anastasia_Myskina/Anastasia_Myskina_0003.jpg  \n",
            "   creating: lfw/Anatoliy_Kinakh/\n",
            "  inflating: lfw/Anatoliy_Kinakh/Anatoliy_Kinakh_0001.jpg  \n",
            "   creating: lfw/Anders_Ebbeson/\n",
            "  inflating: lfw/Anders_Ebbeson/Anders_Ebbeson_0001.jpg  \n",
            "  inflating: lfw/Anders_Ebbeson/Anders_Ebbeson_0002.jpg  \n",
            "  inflating: lfw/Anders_Ebbeson/Anders_Ebbeson_0003.jpg  \n",
            "   creating: lfw/Anders_Fogh_Rasmussen/\n",
            "  inflating: lfw/Anders_Fogh_Rasmussen/Anders_Fogh_Rasmussen_0001.jpg  \n",
            "  inflating: lfw/Anders_Fogh_Rasmussen/Anders_Fogh_Rasmussen_0002.jpg  \n",
            "  inflating: lfw/Anders_Fogh_Rasmussen/Anders_Fogh_Rasmussen_0003.jpg  \n",
            "  inflating: lfw/Anders_Fogh_Rasmussen/Anders_Fogh_Rasmussen_0004.jpg  \n",
            "   creating: lfw/Anderson_Varejao/\n",
            "  inflating: lfw/Anderson_Varejao/Anderson_Varejao_0001.jpg  \n",
            "   creating: lfw/Andrea_Bocelli/\n",
            "  inflating: lfw/Andrea_Bocelli/Andrea_Bocelli_0001.jpg  \n",
            "   creating: lfw/Andrea_De_Cruz/\n",
            "  inflating: lfw/Andrea_De_Cruz/Andrea_De_Cruz_0001.jpg  \n",
            "   creating: lfw/Andre_Agassi/\n",
            "  inflating: lfw/Andre_Agassi/Andre_Agassi_0001.jpg  \n",
            "  inflating: lfw/Andre_Agassi/Andre_Agassi_0002.jpg  \n",
            "  inflating: lfw/Andre_Agassi/Andre_Agassi_0003.jpg  \n",
            "  inflating: lfw/Andre_Agassi/Andre_Agassi_0004.jpg  \n",
            "  inflating: lfw/Andre_Agassi/Andre_Agassi_0005.jpg  \n",
            "  inflating: lfw/Andre_Agassi/Andre_Agassi_0006.jpg  \n",
            "  inflating: lfw/Andre_Agassi/Andre_Agassi_0007.jpg  \n",
            "  inflating: lfw/Andre_Agassi/Andre_Agassi_0008.jpg  \n",
            "  inflating: lfw/Andre_Agassi/Andre_Agassi_0009.jpg  \n",
            "  inflating: lfw/Andre_Agassi/Andre_Agassi_0010.jpg  \n",
            "  inflating: lfw/Andre_Agassi/Andre_Agassi_0011.jpg  \n",
            "  inflating: lfw/Andre_Agassi/Andre_Agassi_0012.jpg  \n",
            "  inflating: lfw/Andre_Agassi/Andre_Agassi_0013.jpg  \n",
            "  inflating: lfw/Andre_Agassi/Andre_Agassi_0014.jpg  \n",
            "  inflating: lfw/Andre_Agassi/Andre_Agassi_0015.jpg  \n",
            "  inflating: lfw/Andre_Agassi/Andre_Agassi_0016.jpg  \n",
            "  inflating: lfw/Andre_Agassi/Andre_Agassi_0017.jpg  \n",
            "  inflating: lfw/Andre_Agassi/Andre_Agassi_0018.jpg  \n",
            "  inflating: lfw/Andre_Agassi/Andre_Agassi_0019.jpg  \n",
            "  inflating: lfw/Andre_Agassi/Andre_Agassi_0020.jpg  \n",
            "  inflating: lfw/Andre_Agassi/Andre_Agassi_0021.jpg  \n",
            "  inflating: lfw/Andre_Agassi/Andre_Agassi_0022.jpg  \n",
            "  inflating: lfw/Andre_Agassi/Andre_Agassi_0023.jpg  \n",
            "  inflating: lfw/Andre_Agassi/Andre_Agassi_0024.jpg  \n",
            "  inflating: lfw/Andre_Agassi/Andre_Agassi_0025.jpg  \n",
            "  inflating: lfw/Andre_Agassi/Andre_Agassi_0026.jpg  \n",
            "  inflating: lfw/Andre_Agassi/Andre_Agassi_0027.jpg  \n",
            "  inflating: lfw/Andre_Agassi/Andre_Agassi_0028.jpg  \n",
            "  inflating: lfw/Andre_Agassi/Andre_Agassi_0029.jpg  \n",
            "  inflating: lfw/Andre_Agassi/Andre_Agassi_0030.jpg  \n",
            "  inflating: lfw/Andre_Agassi/Andre_Agassi_0031.jpg  \n",
            "  inflating: lfw/Andre_Agassi/Andre_Agassi_0032.jpg  \n",
            "  inflating: lfw/Andre_Agassi/Andre_Agassi_0033.jpg  \n",
            "  inflating: lfw/Andre_Agassi/Andre_Agassi_0034.jpg  \n",
            "  inflating: lfw/Andre_Agassi/Andre_Agassi_0035.jpg  \n",
            "  inflating: lfw/Andre_Agassi/Andre_Agassi_0036.jpg  \n",
            "   creating: lfw/Andrea_Kiser/\n",
            "  inflating: lfw/Andrea_Kiser/Andrea_Kiser_0001.jpg  \n",
            "   creating: lfw/Andreas_Vinciguerra/\n",
            "  inflating: lfw/Andreas_Vinciguerra/Andreas_Vinciguerra_0001.jpg  \n",
            "   creating: lfw/Andrea_Yates/\n",
            "  inflating: lfw/Andrea_Yates/Andrea_Yates_0001.jpg  \n",
            "   creating: lfw/Andre_Bucher/\n",
            "  inflating: lfw/Andre_Bucher/Andre_Bucher_0001.jpg  \n",
            "   creating: lfw/Andrei_Konchalovsky/\n",
            "  inflating: lfw/Andrei_Konchalovsky/Andrei_Konchalovsky_0001.jpg  \n",
            "   creating: lfw/Andrei_Mikhnevich/\n",
            "  inflating: lfw/Andrei_Mikhnevich/Andrei_Mikhnevich_0001.jpg  \n",
            "  inflating: lfw/Andrei_Mikhnevich/Andrei_Mikhnevich_0002.jpg  \n",
            "   creating: lfw/Andrei_Nikolishin/\n",
            "  inflating: lfw/Andrei_Nikolishin/Andrei_Nikolishin_0001.jpg  \n",
            "   creating: lfw/Andre_Lange/\n",
            "  inflating: lfw/Andre_Lange/Andre_Lange_0001.jpg  \n",
            "   creating: lfw/Andres_DAlessandro/\n",
            "  inflating: lfw/Andres_DAlessandro/Andres_DAlessandro_0001.jpg  \n",
            "   creating: lfw/Andres_Manuel_Lopez_Obrador/\n",
            "  inflating: lfw/Andres_Manuel_Lopez_Obrador/Andres_Manuel_Lopez_Obrador_0001.jpg  \n",
            "   creating: lfw/Andre_Smith/\n",
            "  inflating: lfw/Andre_Smith/Andre_Smith_0001.jpg  \n",
            "   creating: lfw/Andres_Pastrana/\n",
            "  inflating: lfw/Andres_Pastrana/Andres_Pastrana_0001.jpg  \n",
            "   creating: lfw/Andre_Techine/\n",
            "  inflating: lfw/Andre_Techine/Andre_Techine_0001.jpg  \n",
            "   creating: lfw/Andrew_Bernard/\n",
            "  inflating: lfw/Andrew_Bernard/Andrew_Bernard_0001.jpg  \n",
            "   creating: lfw/Andrew_Bunner/\n",
            "  inflating: lfw/Andrew_Bunner/Andrew_Bunner_0001.jpg  \n",
            "  inflating: lfw/Andrew_Bunner/Andrew_Bunner_0002.jpg  \n",
            "   creating: lfw/Andrew_Caldecott/\n",
            "  inflating: lfw/Andrew_Caldecott/Andrew_Caldecott_0001.jpg  \n",
            "   creating: lfw/Andrew_Cuomo/\n",
            "  inflating: lfw/Andrew_Cuomo/Andrew_Cuomo_0001.jpg  \n",
            "  inflating: lfw/Andrew_Cuomo/Andrew_Cuomo_0002.jpg  \n",
            "   creating: lfw/Andrew_Fastow/\n",
            "  inflating: lfw/Andrew_Fastow/Andrew_Fastow_0001.jpg  \n",
            "   creating: lfw/Andrew_Firestone/\n",
            "  inflating: lfw/Andrew_Firestone/Andrew_Firestone_0001.jpg  \n",
            "   creating: lfw/Andrew_Gilligan/\n",
            "  inflating: lfw/Andrew_Gilligan/Andrew_Gilligan_0001.jpg  \n",
            "   creating: lfw/Andrew_Jarecki/\n",
            "  inflating: lfw/Andrew_Jarecki/Andrew_Jarecki_0001.jpg  \n",
            "   creating: lfw/Andrew_Luster/\n",
            "  inflating: lfw/Andrew_Luster/Andrew_Luster_0001.jpg  \n",
            "   creating: lfw/Andrew_Niccol/\n",
            "  inflating: lfw/Andrew_Niccol/Andrew_Niccol_0001.jpg  \n",
            "  inflating: lfw/Andrew_Niccol/Andrew_Niccol_0002.jpg  \n",
            "   creating: lfw/Andrew_Sabey/\n",
            "  inflating: lfw/Andrew_Sabey/Andrew_Sabey_0001.jpg  \n",
            "   creating: lfw/Andrew_Shutley/\n",
            "  inflating: lfw/Andrew_Shutley/Andrew_Shutley_0001.jpg  \n",
            "   creating: lfw/Andrew_Weissmann/\n",
            "  inflating: lfw/Andrew_Weissmann/Andrew_Weissmann_0001.jpg  \n",
            "  inflating: lfw/Andrew_Weissmann/Andrew_Weissmann_0002.jpg  \n",
            "  inflating: lfw/Andrew_Weissmann/Andrew_Weissmann_0003.jpg  \n",
            "   creating: lfw/Andrew_Wetzler/\n",
            "  inflating: lfw/Andrew_Wetzler/Andrew_Wetzler_0001.jpg  \n",
            "   creating: lfw/Andrzej_Tyszkiewicz/\n",
            "  inflating: lfw/Andrzej_Tyszkiewicz/Andrzej_Tyszkiewicz_0001.jpg  \n",
            "   creating: lfw/Andy_Benes/\n",
            "  inflating: lfw/Andy_Benes/Andy_Benes_0001.jpg  \n",
            "   creating: lfw/Andy_Bryant/\n",
            "  inflating: lfw/Andy_Bryant/Andy_Bryant_0001.jpg  \n",
            "   creating: lfw/Andy_Dick/\n",
            "  inflating: lfw/Andy_Dick/Andy_Dick_0001.jpg  \n",
            "   creating: lfw/Andy_Garcia/\n",
            "  inflating: lfw/Andy_Garcia/Andy_Garcia_0001.jpg  \n",
            "   creating: lfw/Andy_Graves/\n",
            "  inflating: lfw/Andy_Graves/Andy_Graves_0001.jpg  \n",
            "   creating: lfw/Andy_Griffith/\n",
            "  inflating: lfw/Andy_Griffith/Andy_Griffith_0001.jpg  \n",
            "   creating: lfw/Andy_Griggs/\n",
            "  inflating: lfw/Andy_Griggs/Andy_Griggs_0001.jpg  \n",
            "   creating: lfw/Andy_Hebb/\n",
            "  inflating: lfw/Andy_Hebb/Andy_Hebb_0001.jpg  \n",
            "  inflating: lfw/Andy_Hebb/Andy_Hebb_0002.jpg  \n",
            "   creating: lfw/Andy_Lau/\n",
            "  inflating: lfw/Andy_Lau/Andy_Lau_0001.jpg  \n",
            "   creating: lfw/Andy_Madikians/\n",
            "  inflating: lfw/Andy_Madikians/Andy_Madikians_0001.jpg  \n",
            "   creating: lfw/Andy_North/\n",
            "  inflating: lfw/Andy_North/Andy_North_0001.jpg  \n",
            "   creating: lfw/Andy_Perez/\n",
            "  inflating: lfw/Andy_Perez/Andy_Perez_0001.jpg  \n",
            "   creating: lfw/Andy_Roddick/\n",
            "  inflating: lfw/Andy_Roddick/Andy_Roddick_0001.jpg  \n",
            "  inflating: lfw/Andy_Roddick/Andy_Roddick_0002.jpg  \n",
            "  inflating: lfw/Andy_Roddick/Andy_Roddick_0003.jpg  \n",
            "  inflating: lfw/Andy_Roddick/Andy_Roddick_0004.jpg  \n",
            "  inflating: lfw/Andy_Roddick/Andy_Roddick_0005.jpg  \n",
            "  inflating: lfw/Andy_Roddick/Andy_Roddick_0006.jpg  \n",
            "  inflating: lfw/Andy_Roddick/Andy_Roddick_0007.jpg  \n",
            "  inflating: lfw/Andy_Roddick/Andy_Roddick_0008.jpg  \n",
            "  inflating: lfw/Andy_Roddick/Andy_Roddick_0009.jpg  \n",
            "  inflating: lfw/Andy_Roddick/Andy_Roddick_0010.jpg  \n",
            "  inflating: lfw/Andy_Roddick/Andy_Roddick_0011.jpg  \n",
            "  inflating: lfw/Andy_Roddick/Andy_Roddick_0012.jpg  \n",
            "  inflating: lfw/Andy_Roddick/Andy_Roddick_0013.jpg  \n",
            "  inflating: lfw/Andy_Roddick/Andy_Roddick_0014.jpg  \n",
            "  inflating: lfw/Andy_Roddick/Andy_Roddick_0015.jpg  \n",
            "   creating: lfw/Andy_Rooney/\n",
            "  inflating: lfw/Andy_Rooney/Andy_Rooney_0001.jpg  \n",
            "   creating: lfw/Andy_Warhol/\n",
            "  inflating: lfw/Andy_Warhol/Andy_Warhol_0001.jpg  \n",
            "   creating: lfw/Andy_Wisecarver/\n",
            "  inflating: lfw/Andy_Wisecarver/Andy_Wisecarver_0001.jpg  \n",
            "   creating: lfw/Anette_Hosoi/\n",
            "  inflating: lfw/Anette_Hosoi/Anette_Hosoi_0001.jpg  \n",
            "   creating: lfw/AnFernce_Negron/\n",
            "  inflating: lfw/AnFernce_Negron/AnFernce_Negron_0001.jpg  \n",
            "   creating: lfw/Angela_Alvarado_Rosa/\n",
            "  inflating: lfw/Angela_Alvarado_Rosa/Angela_Alvarado_Rosa_0001.jpg  \n",
            "   creating: lfw/Angela_Bassett/\n",
            "  inflating: lfw/Angela_Bassett/Angela_Bassett_0001.jpg  \n",
            "  inflating: lfw/Angela_Bassett/Angela_Bassett_0002.jpg  \n",
            "  inflating: lfw/Angela_Bassett/Angela_Bassett_0003.jpg  \n",
            "  inflating: lfw/Angela_Bassett/Angela_Bassett_0004.jpg  \n",
            "  inflating: lfw/Angela_Bassett/Angela_Bassett_0005.jpg  \n",
            "  inflating: lfw/Angela_Bassett/Angela_Bassett_0006.jpg  \n",
            "   creating: lfw/Angela_Lansbury/\n",
            "  inflating: lfw/Angela_Lansbury/Angela_Lansbury_0001.jpg  \n",
            "  inflating: lfw/Angela_Lansbury/Angela_Lansbury_0002.jpg  \n",
            "   creating: lfw/Angela_Mascia-Frye/\n",
            "  inflating: lfw/Angela_Mascia-Frye/Angela_Mascia-Frye_0001.jpg  \n",
            "   creating: lfw/Angela_Merkel/\n",
            "  inflating: lfw/Angela_Merkel/Angela_Merkel_0001.jpg  \n",
            "  inflating: lfw/Angela_Merkel/Angela_Merkel_0002.jpg  \n",
            "  inflating: lfw/Angela_Merkel/Angela_Merkel_0003.jpg  \n",
            "  inflating: lfw/Angela_Merkel/Angela_Merkel_0004.jpg  \n",
            "  inflating: lfw/Angela_Merkel/Angela_Merkel_0005.jpg  \n",
            "   creating: lfw/Angelica_Romero/\n",
            "  inflating: lfw/Angelica_Romero/Angelica_Romero_0001.jpg  \n",
            "   creating: lfw/Angelina_Jolie/\n",
            "  inflating: lfw/Angelina_Jolie/Angelina_Jolie_0001.jpg  \n",
            "  inflating: lfw/Angelina_Jolie/Angelina_Jolie_0002.jpg  \n",
            "  inflating: lfw/Angelina_Jolie/Angelina_Jolie_0003.jpg  \n",
            "  inflating: lfw/Angelina_Jolie/Angelina_Jolie_0004.jpg  \n",
            "  inflating: lfw/Angelina_Jolie/Angelina_Jolie_0005.jpg  \n",
            "  inflating: lfw/Angelina_Jolie/Angelina_Jolie_0006.jpg  \n",
            "  inflating: lfw/Angelina_Jolie/Angelina_Jolie_0007.jpg  \n",
            "  inflating: lfw/Angelina_Jolie/Angelina_Jolie_0008.jpg  \n",
            "  inflating: lfw/Angelina_Jolie/Angelina_Jolie_0009.jpg  \n",
            "  inflating: lfw/Angelina_Jolie/Angelina_Jolie_0010.jpg  \n",
            "  inflating: lfw/Angelina_Jolie/Angelina_Jolie_0011.jpg  \n",
            "  inflating: lfw/Angelina_Jolie/Angelina_Jolie_0012.jpg  \n",
            "  inflating: lfw/Angelina_Jolie/Angelina_Jolie_0013.jpg  \n",
            "  inflating: lfw/Angelina_Jolie/Angelina_Jolie_0014.jpg  \n",
            "  inflating: lfw/Angelina_Jolie/Angelina_Jolie_0015.jpg  \n",
            "  inflating: lfw/Angelina_Jolie/Angelina_Jolie_0016.jpg  \n",
            "  inflating: lfw/Angelina_Jolie/Angelina_Jolie_0017.jpg  \n",
            "  inflating: lfw/Angelina_Jolie/Angelina_Jolie_0018.jpg  \n",
            "  inflating: lfw/Angelina_Jolie/Angelina_Jolie_0019.jpg  \n",
            "  inflating: lfw/Angelina_Jolie/Angelina_Jolie_0020.jpg  \n",
            "   creating: lfw/Angel_Lockward/\n",
            "  inflating: lfw/Angel_Lockward/Angel_Lockward_0001.jpg  \n",
            "   creating: lfw/Angel_Maza/\n",
            "  inflating: lfw/Angel_Maza/Angel_Maza_0001.jpg  \n",
            "   creating: lfw/Angelo_Genova/\n",
            "  inflating: lfw/Angelo_Genova/Angelo_Genova_0001.jpg  \n",
            "   creating: lfw/Angelo_Reyes/\n",
            "  inflating: lfw/Angelo_Reyes/Angelo_Reyes_0001.jpg  \n",
            "  inflating: lfw/Angelo_Reyes/Angelo_Reyes_0002.jpg  \n",
            "  inflating: lfw/Angelo_Reyes/Angelo_Reyes_0003.jpg  \n",
            "  inflating: lfw/Angelo_Reyes/Angelo_Reyes_0004.jpg  \n",
            "   creating: lfw/Angie_Arzola/\n",
            "  inflating: lfw/Angie_Arzola/Angie_Arzola_0001.jpg  \n",
            "   creating: lfw/Angie_Martinez/\n",
            "  inflating: lfw/Angie_Martinez/Angie_Martinez_0001.jpg  \n",
            "   creating: lfw/Anibal_Ibarra/\n",
            "  inflating: lfw/Anibal_Ibarra/Anibal_Ibarra_0001.jpg  \n",
            "  inflating: lfw/Anibal_Ibarra/Anibal_Ibarra_0002.jpg  \n",
            "  inflating: lfw/Anibal_Ibarra/Anibal_Ibarra_0003.jpg  \n",
            "   creating: lfw/Anil_Ramsook/\n",
            "  inflating: lfw/Anil_Ramsook/Anil_Ramsook_0001.jpg  \n",
            "   creating: lfw/Anita_DeFrantz/\n",
            "  inflating: lfw/Anita_DeFrantz/Anita_DeFrantz_0001.jpg  \n",
            "   creating: lfw/Anja_Paerson/\n",
            "  inflating: lfw/Anja_Paerson/Anja_Paerson_0001.jpg  \n",
            "   creating: lfw/Anjum_Hussain/\n",
            "  inflating: lfw/Anjum_Hussain/Anjum_Hussain_0001.jpg  \n",
            "   creating: lfw/Anna_Chicherova/\n",
            "  inflating: lfw/Anna_Chicherova/Anna_Chicherova_0001.jpg  \n",
            "   creating: lfw/Anna_Faris/\n",
            "  inflating: lfw/Anna_Faris/Anna_Faris_0001.jpg  \n",
            "   creating: lfw/Anna_Jones/\n",
            "  inflating: lfw/Anna_Jones/Anna_Jones_0001.jpg  \n",
            "   creating: lfw/Anna_Kournikova/\n",
            "  inflating: lfw/Anna_Kournikova/Anna_Kournikova_0001.jpg  \n",
            "  inflating: lfw/Anna_Kournikova/Anna_Kournikova_0002.jpg  \n",
            "  inflating: lfw/Anna_Kournikova/Anna_Kournikova_0003.jpg  \n",
            "  inflating: lfw/Anna_Kournikova/Anna_Kournikova_0004.jpg  \n",
            "  inflating: lfw/Anna_Kournikova/Anna_Kournikova_0005.jpg  \n",
            "  inflating: lfw/Anna_Kournikova/Anna_Kournikova_0006.jpg  \n",
            "  inflating: lfw/Anna_Kournikova/Anna_Kournikova_0007.jpg  \n",
            "  inflating: lfw/Anna_Kournikova/Anna_Kournikova_0008.jpg  \n",
            "  inflating: lfw/Anna_Kournikova/Anna_Kournikova_0009.jpg  \n",
            "  inflating: lfw/Anna_Kournikova/Anna_Kournikova_0010.jpg  \n",
            "  inflating: lfw/Anna_Kournikova/Anna_Kournikova_0011.jpg  \n",
            "  inflating: lfw/Anna_Kournikova/Anna_Kournikova_0012.jpg  \n",
            "   creating: lfw/Anna_Nicole_Smith/\n",
            "  inflating: lfw/Anna_Nicole_Smith/Anna_Nicole_Smith_0001.jpg  \n",
            "  inflating: lfw/Anna_Nicole_Smith/Anna_Nicole_Smith_0002.jpg  \n",
            "   creating: lfw/Anne_Cavers/\n",
            "  inflating: lfw/Anne_Cavers/Anne_Cavers_0001.jpg  \n",
            "   creating: lfw/Anne_Donovan/\n",
            "  inflating: lfw/Anne_Donovan/Anne_Donovan_0001.jpg  \n",
            "   creating: lfw/Anne_Heche/\n",
            "  inflating: lfw/Anne_Heche/Anne_Heche_0001.jpg  \n",
            "   creating: lfw/Anne_Krueger/\n",
            "  inflating: lfw/Anne_Krueger/Anne_Krueger_0001.jpg  \n",
            "  inflating: lfw/Anne_Krueger/Anne_Krueger_0002.jpg  \n",
            "  inflating: lfw/Anne_Krueger/Anne_Krueger_0003.jpg  \n",
            "   creating: lfw/Anneli_Jaatteenmaki/\n",
            "  inflating: lfw/Anneli_Jaatteenmaki/Anneli_Jaatteenmaki_0001.jpg  \n",
            "  inflating: lfw/Anneli_Jaatteenmaki/Anneli_Jaatteenmaki_0002.jpg  \n",
            "   creating: lfw/Anne_McLellan/\n",
            "  inflating: lfw/Anne_McLellan/Anne_McLellan_0001.jpg  \n",
            "  inflating: lfw/Anne_McLellan/Anne_McLellan_0002.jpg  \n",
            "  inflating: lfw/Anne_McLellan/Anne_McLellan_0003.jpg  \n",
            "   creating: lfw/Anne_ONeil/\n",
            "  inflating: lfw/Anne_ONeil/Anne_ONeil_0001.jpg  \n",
            "   creating: lfw/Annette_Bening/\n",
            "  inflating: lfw/Annette_Bening/Annette_Bening_0001.jpg  \n",
            "  inflating: lfw/Annette_Bening/Annette_Bening_0002.jpg  \n",
            "   creating: lfw/Annette_Lu/\n",
            "  inflating: lfw/Annette_Lu/Annette_Lu_0001.jpg  \n",
            "  inflating: lfw/Annette_Lu/Annette_Lu_0002.jpg  \n",
            "  inflating: lfw/Annette_Lu/Annette_Lu_0003.jpg  \n",
            "   creating: lfw/Ann_Godbehere/\n",
            "  inflating: lfw/Ann_Godbehere/Ann_Godbehere_0001.jpg  \n",
            "   creating: lfw/Annie_Chaplin/\n",
            "  inflating: lfw/Annie_Chaplin/Annie_Chaplin_0001.jpg  \n",
            "   creating: lfw/Annie-Jeanne_Reynaud/\n",
            "  inflating: lfw/Annie-Jeanne_Reynaud/Annie-Jeanne_Reynaud_0001.jpg  \n",
            "   creating: lfw/Annie_Machon/\n",
            "  inflating: lfw/Annie_Machon/Annie_Machon_0001.jpg  \n",
            "   creating: lfw/Annika_Sorenstam/\n",
            "  inflating: lfw/Annika_Sorenstam/Annika_Sorenstam_0001.jpg  \n",
            "   creating: lfw/Ann_Landers/\n",
            "  inflating: lfw/Ann_Landers/Ann_Landers_0001.jpg  \n",
            "   creating: lfw/Ann_Morgan/\n",
            "  inflating: lfw/Ann_Morgan/Ann_Morgan_0001.jpg  \n",
            "   creating: lfw/Ann_Veneman/\n",
            "  inflating: lfw/Ann_Veneman/Ann_Veneman_0001.jpg  \n",
            "  inflating: lfw/Ann_Veneman/Ann_Veneman_0002.jpg  \n",
            "  inflating: lfw/Ann_Veneman/Ann_Veneman_0003.jpg  \n",
            "  inflating: lfw/Ann_Veneman/Ann_Veneman_0004.jpg  \n",
            "  inflating: lfw/Ann_Veneman/Ann_Veneman_0005.jpg  \n",
            "  inflating: lfw/Ann_Veneman/Ann_Veneman_0006.jpg  \n",
            "  inflating: lfw/Ann_Veneman/Ann_Veneman_0007.jpg  \n",
            "  inflating: lfw/Ann_Veneman/Ann_Veneman_0008.jpg  \n",
            "  inflating: lfw/Ann_Veneman/Ann_Veneman_0009.jpg  \n",
            "  inflating: lfw/Ann_Veneman/Ann_Veneman_0010.jpg  \n",
            "  inflating: lfw/Ann_Veneman/Ann_Veneman_0011.jpg  \n",
            "   creating: lfw/Antanas_Valionis/\n",
            "  inflating: lfw/Antanas_Valionis/Antanas_Valionis_0001.jpg  \n",
            "   creating: lfw/Anthony_Carter/\n",
            "  inflating: lfw/Anthony_Carter/Anthony_Carter_0001.jpg  \n",
            "   creating: lfw/Anthony_Corso/\n",
            "  inflating: lfw/Anthony_Corso/Anthony_Corso_0001.jpg  \n",
            "   creating: lfw/Anthony_Ervin/\n",
            "  inflating: lfw/Anthony_Ervin/Anthony_Ervin_0001.jpg  \n",
            "   creating: lfw/Anthony_Fauci/\n",
            "  inflating: lfw/Anthony_Fauci/Anthony_Fauci_0001.jpg  \n",
            "  inflating: lfw/Anthony_Fauci/Anthony_Fauci_0002.jpg  \n",
            "   creating: lfw/Anthony_Garotinho/\n",
            "  inflating: lfw/Anthony_Garotinho/Anthony_Garotinho_0001.jpg  \n",
            "   creating: lfw/Anthony_Hazen/\n",
            "  inflating: lfw/Anthony_Hazen/Anthony_Hazen_0001.jpg  \n",
            "   creating: lfw/Anthony_Hopkins/\n",
            "  inflating: lfw/Anthony_Hopkins/Anthony_Hopkins_0001.jpg  \n",
            "  inflating: lfw/Anthony_Hopkins/Anthony_Hopkins_0002.jpg  \n",
            "   creating: lfw/Anthony_LaPaglia/\n",
            "  inflating: lfw/Anthony_LaPaglia/Anthony_LaPaglia_0001.jpg  \n",
            "  inflating: lfw/Anthony_LaPaglia/Anthony_LaPaglia_0002.jpg  \n",
            "   creating: lfw/Anthony_Lee_Johnson/\n",
            "  inflating: lfw/Anthony_Lee_Johnson/Anthony_Lee_Johnson_0001.jpg  \n",
            "   creating: lfw/Anthony_Mazur/\n",
            "  inflating: lfw/Anthony_Mazur/Anthony_Mazur_0001.jpg  \n",
            "   creating: lfw/Anthony_Pico/\n",
            "  inflating: lfw/Anthony_Pico/Anthony_Pico_0001.jpg  \n",
            "   creating: lfw/Anthony_Pisciotti/\n",
            "  inflating: lfw/Anthony_Pisciotti/Anthony_Pisciotti_0001.jpg  \n",
            "   creating: lfw/Anthony_Principi/\n",
            "  inflating: lfw/Anthony_Principi/Anthony_Principi_0001.jpg  \n",
            "   creating: lfw/Anthony_Rackauckas/\n",
            "  inflating: lfw/Anthony_Rackauckas/Anthony_Rackauckas_0001.jpg  \n",
            "   creating: lfw/Anthony_Scott_Miller/\n",
            "  inflating: lfw/Anthony_Scott_Miller/Anthony_Scott_Miller_0001.jpg  \n",
            "   creating: lfw/Antje_Buschschulte/\n",
            "  inflating: lfw/Antje_Buschschulte/Antje_Buschschulte_0001.jpg  \n",
            "   creating: lfw/Anton_Balasingham/\n",
            "  inflating: lfw/Anton_Balasingham/Anton_Balasingham_0001.jpg  \n",
            "   creating: lfw/Antonio_Banderas/\n",
            "  inflating: lfw/Antonio_Banderas/Antonio_Banderas_0001.jpg  \n",
            "  inflating: lfw/Antonio_Banderas/Antonio_Banderas_0002.jpg  \n",
            "  inflating: lfw/Antonio_Banderas/Antonio_Banderas_0003.jpg  \n",
            "  inflating: lfw/Antonio_Banderas/Antonio_Banderas_0004.jpg  \n",
            "  inflating: lfw/Antonio_Banderas/Antonio_Banderas_0005.jpg  \n",
            "   creating: lfw/Antonio_Bernardo/\n",
            "  inflating: lfw/Antonio_Bernardo/Antonio_Bernardo_0001.jpg  \n",
            "   creating: lfw/Antonio_Cassano/\n",
            "  inflating: lfw/Antonio_Cassano/Antonio_Cassano_0001.jpg  \n",
            "   creating: lfw/Antonio_Catania/\n",
            "  inflating: lfw/Antonio_Catania/Antonio_Catania_0001.jpg  \n",
            "   creating: lfw/Antonio_Elias_Saca/\n",
            "  inflating: lfw/Antonio_Elias_Saca/Antonio_Elias_Saca_0001.jpg  \n",
            "   creating: lfw/Antonio_Palocci/\n",
            "  inflating: lfw/Antonio_Palocci/Antonio_Palocci_0001.jpg  \n",
            "  inflating: lfw/Antonio_Palocci/Antonio_Palocci_0002.jpg  \n",
            "  inflating: lfw/Antonio_Palocci/Antonio_Palocci_0003.jpg  \n",
            "  inflating: lfw/Antonio_Palocci/Antonio_Palocci_0004.jpg  \n",
            "  inflating: lfw/Antonio_Palocci/Antonio_Palocci_0005.jpg  \n",
            "  inflating: lfw/Antonio_Palocci/Antonio_Palocci_0006.jpg  \n",
            "  inflating: lfw/Antonio_Palocci/Antonio_Palocci_0007.jpg  \n",
            "  inflating: lfw/Antonio_Palocci/Antonio_Palocci_0008.jpg  \n",
            "   creating: lfw/Antonio_Trillanes/\n",
            "  inflating: lfw/Antonio_Trillanes/Antonio_Trillanes_0001.jpg  \n",
            "  inflating: lfw/Antonio_Trillanes/Antonio_Trillanes_0002.jpg  \n",
            "  inflating: lfw/Antonio_Trillanes/Antonio_Trillanes_0003.jpg  \n",
            "   creating: lfw/Antony_Leung/\n",
            "  inflating: lfw/Antony_Leung/Antony_Leung_0001.jpg  \n",
            "  inflating: lfw/Antony_Leung/Antony_Leung_0002.jpg  \n",
            "  inflating: lfw/Antony_Leung/Antony_Leung_0003.jpg  \n",
            "  inflating: lfw/Antony_Leung/Antony_Leung_0004.jpg  \n",
            "   creating: lfw/Antwun_Echols/\n",
            "  inflating: lfw/Antwun_Echols/Antwun_Echols_0001.jpg  \n",
            "   creating: lfw/Anwar_Ibrahim/\n",
            "  inflating: lfw/Anwar_Ibrahim/Anwar_Ibrahim_0001.jpg  \n",
            "  inflating: lfw/Anwar_Ibrahim/Anwar_Ibrahim_0002.jpg  \n",
            "   creating: lfw/Anzori_Kikalishvili/\n",
            "  inflating: lfw/Anzori_Kikalishvili/Anzori_Kikalishvili_0001.jpg  \n",
            "   creating: lfw/Aparna_Pillai/\n",
            "  inflating: lfw/Aparna_Pillai/Aparna_Pillai_0001.jpg  \n",
            "   creating: lfw/Aram_Adler/\n",
            "  inflating: lfw/Aram_Adler/Aram_Adler_0001.jpg  \n",
            "   creating: lfw/Arantxa_Sanchez-Vicario/\n",
            "  inflating: lfw/Arantxa_Sanchez-Vicario/Arantxa_Sanchez-Vicario_0001.jpg  \n",
            "  inflating: lfw/Arantxa_Sanchez-Vicario/Arantxa_Sanchez-Vicario_0002.jpg  \n",
            "   creating: lfw/Aretha_Franklin/\n",
            "  inflating: lfw/Aretha_Franklin/Aretha_Franklin_0001.jpg  \n",
            "   creating: lfw/Arianna_Huffington/\n",
            "  inflating: lfw/Arianna_Huffington/Arianna_Huffington_0001.jpg  \n",
            "  inflating: lfw/Arianna_Huffington/Arianna_Huffington_0002.jpg  \n",
            "  inflating: lfw/Arianna_Huffington/Arianna_Huffington_0003.jpg  \n",
            "  inflating: lfw/Arianna_Huffington/Arianna_Huffington_0004.jpg  \n",
            "   creating: lfw/Ari_Bousbib/\n",
            "  inflating: lfw/Ari_Bousbib/Ari_Bousbib_0001.jpg  \n",
            "   creating: lfw/Arie_Haan/\n",
            "  inflating: lfw/Arie_Haan/Arie_Haan_0001.jpg  \n",
            "   creating: lfw/Ariel_Sharon/\n",
            "  inflating: lfw/Ariel_Sharon/Ariel_Sharon_0001.jpg  \n",
            "  inflating: lfw/Ariel_Sharon/Ariel_Sharon_0002.jpg  \n",
            "  inflating: lfw/Ariel_Sharon/Ariel_Sharon_0003.jpg  \n",
            "  inflating: lfw/Ariel_Sharon/Ariel_Sharon_0004.jpg  \n",
            "  inflating: lfw/Ariel_Sharon/Ariel_Sharon_0005.jpg  \n",
            "  inflating: lfw/Ariel_Sharon/Ariel_Sharon_0006.jpg  \n",
            "  inflating: lfw/Ariel_Sharon/Ariel_Sharon_0007.jpg  \n",
            "  inflating: lfw/Ariel_Sharon/Ariel_Sharon_0008.jpg  \n",
            "  inflating: lfw/Ariel_Sharon/Ariel_Sharon_0009.jpg  \n",
            "  inflating: lfw/Ariel_Sharon/Ariel_Sharon_0010.jpg  \n",
            "  inflating: lfw/Ariel_Sharon/Ariel_Sharon_0011.jpg  \n",
            "  inflating: lfw/Ariel_Sharon/Ariel_Sharon_0012.jpg  \n",
            "  inflating: lfw/Ariel_Sharon/Ariel_Sharon_0013.jpg  \n",
            "  inflating: lfw/Ariel_Sharon/Ariel_Sharon_0014.jpg  \n",
            "  inflating: lfw/Ariel_Sharon/Ariel_Sharon_0015.jpg  \n",
            "  inflating: lfw/Ariel_Sharon/Ariel_Sharon_0016.jpg  \n",
            "  inflating: lfw/Ariel_Sharon/Ariel_Sharon_0017.jpg  \n",
            "  inflating: lfw/Ariel_Sharon/Ariel_Sharon_0018.jpg  \n",
            "  inflating: lfw/Ariel_Sharon/Ariel_Sharon_0019.jpg  \n",
            "  inflating: lfw/Ariel_Sharon/Ariel_Sharon_0020.jpg  \n",
            "  inflating: lfw/Ariel_Sharon/Ariel_Sharon_0021.jpg  \n",
            "  inflating: lfw/Ariel_Sharon/Ariel_Sharon_0022.jpg  \n",
            "  inflating: lfw/Ariel_Sharon/Ariel_Sharon_0023.jpg  \n",
            "  inflating: lfw/Ariel_Sharon/Ariel_Sharon_0024.jpg  \n",
            "  inflating: lfw/Ariel_Sharon/Ariel_Sharon_0025.jpg  \n",
            "  inflating: lfw/Ariel_Sharon/Ariel_Sharon_0026.jpg  \n",
            "  inflating: lfw/Ariel_Sharon/Ariel_Sharon_0027.jpg  \n",
            "  inflating: lfw/Ariel_Sharon/Ariel_Sharon_0028.jpg  \n",
            "  inflating: lfw/Ariel_Sharon/Ariel_Sharon_0029.jpg  \n",
            "  inflating: lfw/Ariel_Sharon/Ariel_Sharon_0030.jpg  \n",
            "  inflating: lfw/Ariel_Sharon/Ariel_Sharon_0031.jpg  \n",
            "  inflating: lfw/Ariel_Sharon/Ariel_Sharon_0032.jpg  \n",
            "  inflating: lfw/Ariel_Sharon/Ariel_Sharon_0033.jpg  \n",
            "  inflating: lfw/Ariel_Sharon/Ariel_Sharon_0034.jpg  \n",
            "  inflating: lfw/Ariel_Sharon/Ariel_Sharon_0035.jpg  \n",
            "  inflating: lfw/Ariel_Sharon/Ariel_Sharon_0036.jpg  \n",
            "  inflating: lfw/Ariel_Sharon/Ariel_Sharon_0037.jpg  \n",
            "  inflating: lfw/Ariel_Sharon/Ariel_Sharon_0038.jpg  \n",
            "  inflating: lfw/Ariel_Sharon/Ariel_Sharon_0039.jpg  \n",
            "  inflating: lfw/Ariel_Sharon/Ariel_Sharon_0040.jpg  \n",
            "  inflating: lfw/Ariel_Sharon/Ariel_Sharon_0041.jpg  \n",
            "  inflating: lfw/Ariel_Sharon/Ariel_Sharon_0042.jpg  \n",
            "  inflating: lfw/Ariel_Sharon/Ariel_Sharon_0043.jpg  \n",
            "  inflating: lfw/Ariel_Sharon/Ariel_Sharon_0044.jpg  \n",
            "  inflating: lfw/Ariel_Sharon/Ariel_Sharon_0045.jpg  \n",
            "  inflating: lfw/Ariel_Sharon/Ariel_Sharon_0046.jpg  \n",
            "  inflating: lfw/Ariel_Sharon/Ariel_Sharon_0047.jpg  \n",
            "  inflating: lfw/Ariel_Sharon/Ariel_Sharon_0048.jpg  \n",
            "  inflating: lfw/Ariel_Sharon/Ariel_Sharon_0049.jpg  \n",
            "  inflating: lfw/Ariel_Sharon/Ariel_Sharon_0050.jpg  \n",
            "  inflating: lfw/Ariel_Sharon/Ariel_Sharon_0051.jpg  \n",
            "  inflating: lfw/Ariel_Sharon/Ariel_Sharon_0052.jpg  \n",
            "  inflating: lfw/Ariel_Sharon/Ariel_Sharon_0053.jpg  \n",
            "  inflating: lfw/Ariel_Sharon/Ariel_Sharon_0054.jpg  \n",
            "  inflating: lfw/Ariel_Sharon/Ariel_Sharon_0055.jpg  \n",
            "  inflating: lfw/Ariel_Sharon/Ariel_Sharon_0056.jpg  \n",
            "  inflating: lfw/Ariel_Sharon/Ariel_Sharon_0057.jpg  \n",
            "  inflating: lfw/Ariel_Sharon/Ariel_Sharon_0058.jpg  \n",
            "  inflating: lfw/Ariel_Sharon/Ariel_Sharon_0059.jpg  \n",
            "  inflating: lfw/Ariel_Sharon/Ariel_Sharon_0060.jpg  \n",
            "  inflating: lfw/Ariel_Sharon/Ariel_Sharon_0061.jpg  \n",
            "  inflating: lfw/Ariel_Sharon/Ariel_Sharon_0062.jpg  \n",
            "  inflating: lfw/Ariel_Sharon/Ariel_Sharon_0063.jpg  \n",
            "  inflating: lfw/Ariel_Sharon/Ariel_Sharon_0064.jpg  \n",
            "  inflating: lfw/Ariel_Sharon/Ariel_Sharon_0065.jpg  \n",
            "  inflating: lfw/Ariel_Sharon/Ariel_Sharon_0066.jpg  \n",
            "  inflating: lfw/Ariel_Sharon/Ariel_Sharon_0067.jpg  \n",
            "  inflating: lfw/Ariel_Sharon/Ariel_Sharon_0068.jpg  \n",
            "  inflating: lfw/Ariel_Sharon/Ariel_Sharon_0069.jpg  \n",
            "  inflating: lfw/Ariel_Sharon/Ariel_Sharon_0070.jpg  \n",
            "  inflating: lfw/Ariel_Sharon/Ariel_Sharon_0071.jpg  \n",
            "  inflating: lfw/Ariel_Sharon/Ariel_Sharon_0072.jpg  \n",
            "  inflating: lfw/Ariel_Sharon/Ariel_Sharon_0073.jpg  \n",
            "  inflating: lfw/Ariel_Sharon/Ariel_Sharon_0074.jpg  \n",
            "  inflating: lfw/Ariel_Sharon/Ariel_Sharon_0075.jpg  \n",
            "  inflating: lfw/Ariel_Sharon/Ariel_Sharon_0076.jpg  \n",
            "  inflating: lfw/Ariel_Sharon/Ariel_Sharon_0077.jpg  \n",
            "   creating: lfw/Ari_Fleischer/\n",
            "  inflating: lfw/Ari_Fleischer/Ari_Fleischer_0001.jpg  \n",
            "  inflating: lfw/Ari_Fleischer/Ari_Fleischer_0002.jpg  \n",
            "  inflating: lfw/Ari_Fleischer/Ari_Fleischer_0003.jpg  \n",
            "  inflating: lfw/Ari_Fleischer/Ari_Fleischer_0004.jpg  \n",
            "  inflating: lfw/Ari_Fleischer/Ari_Fleischer_0005.jpg  \n",
            "  inflating: lfw/Ari_Fleischer/Ari_Fleischer_0006.jpg  \n",
            "  inflating: lfw/Ari_Fleischer/Ari_Fleischer_0007.jpg  \n",
            "  inflating: lfw/Ari_Fleischer/Ari_Fleischer_0008.jpg  \n",
            "  inflating: lfw/Ari_Fleischer/Ari_Fleischer_0009.jpg  \n",
            "  inflating: lfw/Ari_Fleischer/Ari_Fleischer_0010.jpg  \n",
            "  inflating: lfw/Ari_Fleischer/Ari_Fleischer_0011.jpg  \n",
            "  inflating: lfw/Ari_Fleischer/Ari_Fleischer_0012.jpg  \n",
            "  inflating: lfw/Ari_Fleischer/Ari_Fleischer_0013.jpg  \n",
            "   creating: lfw/Arif_Mardin/\n",
            "  inflating: lfw/Arif_Mardin/Arif_Mardin_0001.jpg  \n",
            "   creating: lfw/Arlen_Specter/\n",
            "  inflating: lfw/Arlen_Specter/Arlen_Specter_0001.jpg  \n",
            "  inflating: lfw/Arlen_Specter/Arlen_Specter_0002.jpg  \n",
            "  inflating: lfw/Arlen_Specter/Arlen_Specter_0003.jpg  \n",
            "   creating: lfw/Armando_Avila_Panchame/\n",
            "  inflating: lfw/Armando_Avila_Panchame/Armando_Avila_Panchame_0001.jpg  \n",
            "   creating: lfw/Armando_Calderon_Sol/\n",
            "  inflating: lfw/Armando_Calderon_Sol/Armando_Calderon_Sol_0001.jpg  \n",
            "   creating: lfw/Armando_Carrillo/\n",
            "  inflating: lfw/Armando_Carrillo/Armando_Carrillo_0001.jpg  \n",
            "   creating: lfw/Armand_Sargen/\n",
            "  inflating: lfw/Armand_Sargen/Armand_Sargen_0001.jpg  \n",
            "   creating: lfw/Arminio_Fraga/\n",
            "  inflating: lfw/Arminio_Fraga/Arminio_Fraga_0001.jpg  \n",
            "  inflating: lfw/Arminio_Fraga/Arminio_Fraga_0002.jpg  \n",
            "  inflating: lfw/Arminio_Fraga/Arminio_Fraga_0003.jpg  \n",
            "  inflating: lfw/Arminio_Fraga/Arminio_Fraga_0004.jpg  \n",
            "  inflating: lfw/Arminio_Fraga/Arminio_Fraga_0005.jpg  \n",
            "  inflating: lfw/Arminio_Fraga/Arminio_Fraga_0006.jpg  \n",
            "   creating: lfw/Arnaud_Clement/\n",
            "  inflating: lfw/Arnaud_Clement/Arnaud_Clement_0001.jpg  \n",
            "  inflating: lfw/Arnaud_Clement/Arnaud_Clement_0002.jpg  \n",
            "   creating: lfw/Arnaud_Lagardere/\n",
            "  inflating: lfw/Arnaud_Lagardere/Arnaud_Lagardere_0001.jpg  \n",
            "   creating: lfw/Arnie_Boehm/\n",
            "  inflating: lfw/Arnie_Boehm/Arnie_Boehm_0001.jpg  \n",
            "   creating: lfw/Arnoldo_Aleman/\n",
            "  inflating: lfw/Arnoldo_Aleman/Arnoldo_Aleman_0001.jpg  \n",
            "  inflating: lfw/Arnoldo_Aleman/Arnoldo_Aleman_0002.jpg  \n",
            "  inflating: lfw/Arnoldo_Aleman/Arnoldo_Aleman_0003.jpg  \n",
            "  inflating: lfw/Arnoldo_Aleman/Arnoldo_Aleman_0004.jpg  \n",
            "  inflating: lfw/Arnoldo_Aleman/Arnoldo_Aleman_0005.jpg  \n",
            "   creating: lfw/Arnold_Palmer/\n",
            "  inflating: lfw/Arnold_Palmer/Arnold_Palmer_0001.jpg  \n",
            "  inflating: lfw/Arnold_Palmer/Arnold_Palmer_0002.jpg  \n",
            "  inflating: lfw/Arnold_Palmer/Arnold_Palmer_0003.jpg  \n",
            "   creating: lfw/Arnold_Schwarzenegger/\n",
            "  inflating: lfw/Arnold_Schwarzenegger/Arnold_Schwarzenegger_0001.jpg  \n",
            "  inflating: lfw/Arnold_Schwarzenegger/Arnold_Schwarzenegger_0002.jpg  \n",
            "  inflating: lfw/Arnold_Schwarzenegger/Arnold_Schwarzenegger_0003.jpg  \n",
            "  inflating: lfw/Arnold_Schwarzenegger/Arnold_Schwarzenegger_0004.jpg  \n",
            "  inflating: lfw/Arnold_Schwarzenegger/Arnold_Schwarzenegger_0005.jpg  \n",
            "  inflating: lfw/Arnold_Schwarzenegger/Arnold_Schwarzenegger_0006.jpg  \n",
            "  inflating: lfw/Arnold_Schwarzenegger/Arnold_Schwarzenegger_0007.jpg  \n",
            "  inflating: lfw/Arnold_Schwarzenegger/Arnold_Schwarzenegger_0008.jpg  \n",
            "  inflating: lfw/Arnold_Schwarzenegger/Arnold_Schwarzenegger_0009.jpg  \n",
            "  inflating: lfw/Arnold_Schwarzenegger/Arnold_Schwarzenegger_0010.jpg  \n",
            "  inflating: lfw/Arnold_Schwarzenegger/Arnold_Schwarzenegger_0011.jpg  \n",
            "  inflating: lfw/Arnold_Schwarzenegger/Arnold_Schwarzenegger_0012.jpg  \n",
            "  inflating: lfw/Arnold_Schwarzenegger/Arnold_Schwarzenegger_0013.jpg  \n",
            "  inflating: lfw/Arnold_Schwarzenegger/Arnold_Schwarzenegger_0014.jpg  \n",
            "  inflating: lfw/Arnold_Schwarzenegger/Arnold_Schwarzenegger_0015.jpg  \n",
            "  inflating: lfw/Arnold_Schwarzenegger/Arnold_Schwarzenegger_0016.jpg  \n",
            "  inflating: lfw/Arnold_Schwarzenegger/Arnold_Schwarzenegger_0017.jpg  \n",
            "  inflating: lfw/Arnold_Schwarzenegger/Arnold_Schwarzenegger_0018.jpg  \n",
            "  inflating: lfw/Arnold_Schwarzenegger/Arnold_Schwarzenegger_0019.jpg  \n",
            "  inflating: lfw/Arnold_Schwarzenegger/Arnold_Schwarzenegger_0020.jpg  \n",
            "  inflating: lfw/Arnold_Schwarzenegger/Arnold_Schwarzenegger_0021.jpg  \n",
            "  inflating: lfw/Arnold_Schwarzenegger/Arnold_Schwarzenegger_0022.jpg  \n",
            "  inflating: lfw/Arnold_Schwarzenegger/Arnold_Schwarzenegger_0023.jpg  \n",
            "  inflating: lfw/Arnold_Schwarzenegger/Arnold_Schwarzenegger_0024.jpg  \n",
            "  inflating: lfw/Arnold_Schwarzenegger/Arnold_Schwarzenegger_0025.jpg  \n",
            "  inflating: lfw/Arnold_Schwarzenegger/Arnold_Schwarzenegger_0026.jpg  \n",
            "  inflating: lfw/Arnold_Schwarzenegger/Arnold_Schwarzenegger_0027.jpg  \n",
            "  inflating: lfw/Arnold_Schwarzenegger/Arnold_Schwarzenegger_0028.jpg  \n",
            "  inflating: lfw/Arnold_Schwarzenegger/Arnold_Schwarzenegger_0029.jpg  \n",
            "  inflating: lfw/Arnold_Schwarzenegger/Arnold_Schwarzenegger_0030.jpg  \n",
            "  inflating: lfw/Arnold_Schwarzenegger/Arnold_Schwarzenegger_0031.jpg  \n",
            "  inflating: lfw/Arnold_Schwarzenegger/Arnold_Schwarzenegger_0032.jpg  \n",
            "  inflating: lfw/Arnold_Schwarzenegger/Arnold_Schwarzenegger_0033.jpg  \n",
            "  inflating: lfw/Arnold_Schwarzenegger/Arnold_Schwarzenegger_0034.jpg  \n",
            "  inflating: lfw/Arnold_Schwarzenegger/Arnold_Schwarzenegger_0035.jpg  \n",
            "  inflating: lfw/Arnold_Schwarzenegger/Arnold_Schwarzenegger_0036.jpg  \n",
            "  inflating: lfw/Arnold_Schwarzenegger/Arnold_Schwarzenegger_0037.jpg  \n",
            "  inflating: lfw/Arnold_Schwarzenegger/Arnold_Schwarzenegger_0038.jpg  \n",
            "  inflating: lfw/Arnold_Schwarzenegger/Arnold_Schwarzenegger_0039.jpg  \n",
            "  inflating: lfw/Arnold_Schwarzenegger/Arnold_Schwarzenegger_0040.jpg  \n",
            "  inflating: lfw/Arnold_Schwarzenegger/Arnold_Schwarzenegger_0041.jpg  \n",
            "  inflating: lfw/Arnold_Schwarzenegger/Arnold_Schwarzenegger_0042.jpg  \n",
            "   creating: lfw/Arnold_Scott/\n",
            "  inflating: lfw/Arnold_Scott/Arnold_Scott_0001.jpg  \n",
            "   creating: lfw/Aron_Ralston/\n",
            "  inflating: lfw/Aron_Ralston/Aron_Ralston_0001.jpg  \n",
            "  inflating: lfw/Aron_Ralston/Aron_Ralston_0002.jpg  \n",
            "   creating: lfw/Arsinee_Khanjian/\n",
            "  inflating: lfw/Arsinee_Khanjian/Arsinee_Khanjian_0001.jpg  \n",
            "  inflating: lfw/Arsinee_Khanjian/Arsinee_Khanjian_0002.jpg  \n",
            "   creating: lfw/Art_Cooper/\n",
            "  inflating: lfw/Art_Cooper/Art_Cooper_0001.jpg  \n",
            "   creating: lfw/Art_Hoffmann/\n",
            "  inflating: lfw/Art_Hoffmann/Art_Hoffmann_0001.jpg  \n",
            "  inflating: lfw/Art_Hoffmann/Art_Hoffmann_0002.jpg  \n",
            "   creating: lfw/Art_Howe/\n",
            "  inflating: lfw/Art_Howe/Art_Howe_0001.jpg  \n",
            "  inflating: lfw/Art_Howe/Art_Howe_0002.jpg  \n",
            "  inflating: lfw/Art_Howe/Art_Howe_0003.jpg  \n",
            "  inflating: lfw/Art_Howe/Art_Howe_0004.jpg  \n",
            "   creating: lfw/Arthur_Johnson/\n",
            "  inflating: lfw/Arthur_Johnson/Arthur_Johnson_0001.jpg  \n",
            "   creating: lfw/Arthur_Martinez/\n",
            "  inflating: lfw/Arthur_Martinez/Arthur_Martinez_0001.jpg  \n",
            "   creating: lfw/Artieas_Shanks/\n",
            "  inflating: lfw/Artieas_Shanks/Artieas_Shanks_0001.jpg  \n",
            "   creating: lfw/Art_Lopez/\n",
            "  inflating: lfw/Art_Lopez/Art_Lopez_0001.jpg  \n",
            "   creating: lfw/Arturo_Gatti/\n",
            "  inflating: lfw/Arturo_Gatti/Arturo_Gatti_0001.jpg  \n",
            "  inflating: lfw/Arturo_Gatti/Arturo_Gatti_0002.jpg  \n",
            "  inflating: lfw/Arturo_Gatti/Arturo_Gatti_0003.jpg  \n",
            "   creating: lfw/Arye_Mekel/\n",
            "  inflating: lfw/Arye_Mekel/Arye_Mekel_0001.jpg  \n",
            "  inflating: lfw/Arye_Mekel/Arye_Mekel_0002.jpg  \n",
            "   creating: lfw/Asa_Hutchinson/\n",
            "  inflating: lfw/Asa_Hutchinson/Asa_Hutchinson_0001.jpg  \n",
            "  inflating: lfw/Asa_Hutchinson/Asa_Hutchinson_0002.jpg  \n",
            "   creating: lfw/Ascencion_Barajas/\n",
            "  inflating: lfw/Ascencion_Barajas/Ascencion_Barajas_0001.jpg  \n",
            "   creating: lfw/Ashanti/\n",
            "  inflating: lfw/Ashanti/Ashanti_0001.jpg  \n",
            "  inflating: lfw/Ashanti/Ashanti_0002.jpg  \n",
            "  inflating: lfw/Ashanti/Ashanti_0003.jpg  \n",
            "  inflating: lfw/Ashanti/Ashanti_0004.jpg  \n",
            "  inflating: lfw/Ashanti/Ashanti_0005.jpg  \n",
            "   creating: lfw/Ashlea_Talbot/\n",
            "  inflating: lfw/Ashlea_Talbot/Ashlea_Talbot_0001.jpg  \n",
            "   creating: lfw/Ashley_Judd/\n",
            "  inflating: lfw/Ashley_Judd/Ashley_Judd_0001.jpg  \n",
            "   creating: lfw/Ashley_Olsen/\n",
            "  inflating: lfw/Ashley_Olsen/Ashley_Olsen_0001.jpg  \n",
            "   creating: lfw/Ashley_Postell/\n",
            "  inflating: lfw/Ashley_Postell/Ashley_Postell_0001.jpg  \n",
            "   creating: lfw/Ashraf_Alasmar/\n",
            "  inflating: lfw/Ashraf_Alasmar/Ashraf_Alasmar_0001.jpg  \n",
            "   creating: lfw/Ashraf_Ghani/\n",
            "  inflating: lfw/Ashraf_Ghani/Ashraf_Ghani_0001.jpg  \n",
            "   creating: lfw/Ashton_Kutcher/\n",
            "  inflating: lfw/Ashton_Kutcher/Ashton_Kutcher_0001.jpg  \n",
            "  inflating: lfw/Ashton_Kutcher/Ashton_Kutcher_0002.jpg  \n",
            "  inflating: lfw/Ashton_Kutcher/Ashton_Kutcher_0003.jpg  \n",
            "   creating: lfw/Asif_Ali_Zardari/\n",
            "  inflating: lfw/Asif_Ali_Zardari/Asif_Ali_Zardari_0001.jpg  \n",
            "   creating: lfw/Asif_Hanif/\n",
            "  inflating: lfw/Asif_Hanif/Asif_Hanif_0001.jpg  \n",
            "   creating: lfw/Askar_Akayev/\n",
            "  inflating: lfw/Askar_Akayev/Askar_Akayev_0001.jpg  \n",
            "   creating: lfw/Asmaa_Assad/\n",
            "  inflating: lfw/Asmaa_Assad/Asmaa_Assad_0001.jpg  \n",
            "   creating: lfw/Assad_Ahmadi/\n",
            "  inflating: lfw/Assad_Ahmadi/Assad_Ahmadi_0001.jpg  \n",
            "   creating: lfw/Astou_Ndiaye-Diatta/\n",
            "  inflating: lfw/Astou_Ndiaye-Diatta/Astou_Ndiaye-Diatta_0001.jpg  \n",
            "   creating: lfw/Astrid_Betancourt/\n",
            "  inflating: lfw/Astrid_Betancourt/Astrid_Betancourt_0001.jpg  \n",
            "   creating: lfw/Astrid_Eyzaguirre/\n",
            "  inflating: lfw/Astrid_Eyzaguirre/Astrid_Eyzaguirre_0001.jpg  \n",
            "   creating: lfw/Atal_Bihari_Vajpayee/\n",
            "  inflating: lfw/Atal_Bihari_Vajpayee/Atal_Bihari_Vajpayee_0001.jpg  \n",
            "  inflating: lfw/Atal_Bihari_Vajpayee/Atal_Bihari_Vajpayee_0002.jpg  \n",
            "  inflating: lfw/Atal_Bihari_Vajpayee/Atal_Bihari_Vajpayee_0003.jpg  \n",
            "  inflating: lfw/Atal_Bihari_Vajpayee/Atal_Bihari_Vajpayee_0004.jpg  \n",
            "  inflating: lfw/Atal_Bihari_Vajpayee/Atal_Bihari_Vajpayee_0005.jpg  \n",
            "  inflating: lfw/Atal_Bihari_Vajpayee/Atal_Bihari_Vajpayee_0006.jpg  \n",
            "  inflating: lfw/Atal_Bihari_Vajpayee/Atal_Bihari_Vajpayee_0007.jpg  \n",
            "  inflating: lfw/Atal_Bihari_Vajpayee/Atal_Bihari_Vajpayee_0008.jpg  \n",
            "  inflating: lfw/Atal_Bihari_Vajpayee/Atal_Bihari_Vajpayee_0009.jpg  \n",
            "  inflating: lfw/Atal_Bihari_Vajpayee/Atal_Bihari_Vajpayee_0010.jpg  \n",
            "  inflating: lfw/Atal_Bihari_Vajpayee/Atal_Bihari_Vajpayee_0011.jpg  \n",
            "  inflating: lfw/Atal_Bihari_Vajpayee/Atal_Bihari_Vajpayee_0012.jpg  \n",
            "  inflating: lfw/Atal_Bihari_Vajpayee/Atal_Bihari_Vajpayee_0013.jpg  \n",
            "  inflating: lfw/Atal_Bihari_Vajpayee/Atal_Bihari_Vajpayee_0014.jpg  \n",
            "  inflating: lfw/Atal_Bihari_Vajpayee/Atal_Bihari_Vajpayee_0015.jpg  \n",
            "  inflating: lfw/Atal_Bihari_Vajpayee/Atal_Bihari_Vajpayee_0016.jpg  \n",
            "  inflating: lfw/Atal_Bihari_Vajpayee/Atal_Bihari_Vajpayee_0017.jpg  \n",
            "  inflating: lfw/Atal_Bihari_Vajpayee/Atal_Bihari_Vajpayee_0018.jpg  \n",
            "  inflating: lfw/Atal_Bihari_Vajpayee/Atal_Bihari_Vajpayee_0019.jpg  \n",
            "  inflating: lfw/Atal_Bihari_Vajpayee/Atal_Bihari_Vajpayee_0020.jpg  \n",
            "  inflating: lfw/Atal_Bihari_Vajpayee/Atal_Bihari_Vajpayee_0021.jpg  \n",
            "  inflating: lfw/Atal_Bihari_Vajpayee/Atal_Bihari_Vajpayee_0022.jpg  \n",
            "  inflating: lfw/Atal_Bihari_Vajpayee/Atal_Bihari_Vajpayee_0023.jpg  \n",
            "  inflating: lfw/Atal_Bihari_Vajpayee/Atal_Bihari_Vajpayee_0024.jpg  \n",
            "   creating: lfw/Ataollah_Mohajerani/\n",
            "  inflating: lfw/Ataollah_Mohajerani/Ataollah_Mohajerani_0001.jpg  \n",
            "   creating: lfw/Atiabet_Ijan_Amabel/\n",
            "  inflating: lfw/Atiabet_Ijan_Amabel/Atiabet_Ijan_Amabel_0001.jpg  \n",
            "   creating: lfw/Atom_Egoyan/\n",
            "  inflating: lfw/Atom_Egoyan/Atom_Egoyan_0001.jpg  \n",
            "   creating: lfw/Atsushi_Sato/\n",
            "  inflating: lfw/Atsushi_Sato/Atsushi_Sato_0001.jpg  \n",
            "   creating: lfw/Audrey_Lacroix/\n",
            "  inflating: lfw/Audrey_Lacroix/Audrey_Lacroix_0001.jpg  \n",
            "   creating: lfw/Audrey_Sauret/\n",
            "  inflating: lfw/Audrey_Sauret/Audrey_Sauret_0001.jpg  \n",
            "   creating: lfw/Augustin_Calleri/\n",
            "  inflating: lfw/Augustin_Calleri/Augustin_Calleri_0001.jpg  \n",
            "  inflating: lfw/Augustin_Calleri/Augustin_Calleri_0002.jpg  \n",
            "  inflating: lfw/Augustin_Calleri/Augustin_Calleri_0003.jpg  \n",
            "  inflating: lfw/Augustin_Calleri/Augustin_Calleri_0004.jpg  \n",
            "   creating: lfw/Augusto_Pinochet/\n",
            "  inflating: lfw/Augusto_Pinochet/Augusto_Pinochet_0001.jpg  \n",
            "  inflating: lfw/Augusto_Pinochet/Augusto_Pinochet_0002.jpg  \n",
            "   creating: lfw/Augusto_Roa_Bastos/\n",
            "  inflating: lfw/Augusto_Roa_Bastos/Augusto_Roa_Bastos_0001.jpg  \n",
            "  inflating: lfw/Augusto_Roa_Bastos/Augusto_Roa_Bastos_0002.jpg  \n",
            "   creating: lfw/Aung_San_Suu_Kyi/\n",
            "  inflating: lfw/Aung_San_Suu_Kyi/Aung_San_Suu_Kyi_0001.jpg  \n",
            "  inflating: lfw/Aung_San_Suu_Kyi/Aung_San_Suu_Kyi_0002.jpg  \n",
            "   creating: lfw/Austin_Kearns/\n",
            "  inflating: lfw/Austin_Kearns/Austin_Kearns_0001.jpg  \n",
            "   creating: lfw/Avril_Lavigne/\n",
            "  inflating: lfw/Avril_Lavigne/Avril_Lavigne_0001.jpg  \n",
            "   creating: lfw/Azmi_Bishara/\n",
            "  inflating: lfw/Azmi_Bishara/Azmi_Bishara_0001.jpg  \n",
            "   creating: lfw/Azra_Akin/\n",
            "  inflating: lfw/Azra_Akin/Azra_Akin_0001.jpg  \n",
            "  inflating: lfw/Azra_Akin/Azra_Akin_0002.jpg  \n",
            "  inflating: lfw/Azra_Akin/Azra_Akin_0003.jpg  \n",
            "  inflating: lfw/Azra_Akin/Azra_Akin_0004.jpg  \n"
          ],
          "name": "stdout"
        }
      ]
    },
    {
      "cell_type": "markdown",
      "metadata": {
        "id": "cqg4139W9s5V"
      },
      "source": [
        "Проверяем результаты распаковки"
      ]
    },
    {
      "cell_type": "code",
      "metadata": {
        "id": "bGCNdMgB9wIO",
        "outputId": "8da096b8-ea74-4c1c-dd67-b6fb5e74c441",
        "colab": {
          "base_uri": "https://localhost:8080/",
          "height": 3818
        }
      },
      "source": [
        "!ls lfw"
      ],
      "execution_count": null,
      "outputs": [
        {
          "output_type": "stream",
          "text": [
            "Aaron_Eckhart\t\t      Amanda_Coetzer\n",
            "Aaron_Guiel\t\t      Amanda_Marsh\n",
            "Aaron_Patterson\t\t      Amanda_Plumer\n",
            "Aaron_Peirsol\t\t      Amber_Frey\n",
            "Aaron_Pena\t\t      Amber_Tamblyn\n",
            "Aaron_Sorkin\t\t      Ambrose_Lee\n",
            "Aaron_Tippin\t\t      Amelia_Vega\n",
            "Abba_Eban\t\t      Amelie_Mauresmo\n",
            "Abbas_Kiarostami\t      Amer_al-Saadi\n",
            "Abdel_Aziz_Al-Hakim\t      Amporn_Falise\n",
            "Abdel_Madi_Shabneh\t      Amram_Mitzna\n",
            "Abdel_Nasser_Assidi\t      Amr_Moussa\n",
            "Abdoulaye_Wade\t\t      Amy_Brenneman\n",
            "Abdulaziz_Kamilov\t      Amy_Cotton\n",
            "Abdullah\t\t      Amy_Gale\n",
            "Abdullah_Ahmad_Badawi\t      Amy_Pascal\n",
            "Abdullah_al-Attiyah\t      Amy_Redford\n",
            "Abdullah_Gul\t\t      Amy_Smart\n",
            "Abdullah_Nasseef\t      Amy_Yasbeck\n",
            "Abdullatif_Sener\t      Ana_Claudia_Talancon\n",
            "Abdul_Majeed_Shobokshi\t      Ana_Guevara\n",
            "Abdul_Rahman\t\t      Ana_Isabel_Sanchez\n",
            "Abel_Aguilar\t\t      Ana_Palacio\n",
            "Abel_Pacheco\t\t      Ana_Paula_Gerard\n",
            "Abid_Hamid_Mahmud_Al-Tikriti  Ana_Sebastiao\n",
            "Abner_Martinez\t\t      Anastasia_Kelesidou\n",
            "Abraham_Foxman\t\t      Anastasia_Myskina\n",
            "Aby_Har-Even\t\t      Anatoliy_Kinakh\n",
            "Adam_Ant\t\t      Anders_Ebbeson\n",
            "Adam_Freier\t\t      Anders_Fogh_Rasmussen\n",
            "Adam_Herbert\t\t      Anderson_Varejao\n",
            "Adam_Kennedy\t\t      Andrea_Bocelli\n",
            "Adam_Mair\t\t      Andrea_De_Cruz\n",
            "Adam_Rich\t\t      Andre_Agassi\n",
            "Adam_Sandler\t\t      Andrea_Kiser\n",
            "Adam_Scott\t\t      Andreas_Vinciguerra\n",
            "Adel_Al-Jubeir\t\t      Andrea_Yates\n",
            "Adelina_Avila\t\t      Andre_Bucher\n",
            "Adisai_Bodharamik\t      Andrei_Konchalovsky\n",
            "Adolfo_Aguilar_Zinser\t      Andrei_Mikhnevich\n",
            "Adolfo_Rodriguez_Saa\t      Andrei_Nikolishin\n",
            "Adoor_Gopalakarishnan\t      Andre_Lange\n",
            "Adriana_Lima\t\t      Andres_DAlessandro\n",
            "Adrian_Annus\t\t      Andres_Manuel_Lopez_Obrador\n",
            "Adriana_Perez_Navarro\t      Andre_Smith\n",
            "Adrian_Fernandez\t      Andres_Pastrana\n",
            "Adrian_McPherson\t      Andre_Techine\n",
            "Adrian_Murrell\t\t      Andrew_Bernard\n",
            "Adrian_Nastase\t\t      Andrew_Bunner\n",
            "Adrianna_Zuzic\t\t      Andrew_Caldecott\n",
            "Adrien_Brody\t\t      Andrew_Cuomo\n",
            "Afton_Smith\t\t      Andrew_Fastow\n",
            "Agbani_Darego\t\t      Andrew_Firestone\n",
            "Agnelo_Queiroz\t\t      Andrew_Gilligan\n",
            "Agnes_Bruckner\t\t      Andrew_Jarecki\n",
            "Ahmad_Jbarah\t\t      Andrew_Luster\n",
            "Ahmad_Masood\t\t      Andrew_Niccol\n",
            "Ahmed_Ahmed\t\t      Andrew_Sabey\n",
            "Ahmed_Chalabi\t\t      Andrew_Shutley\n",
            "Ahmed_Ghazi\t\t      Andrew_Weissmann\n",
            "Ahmed_Ibrahim_Bilal\t      Andrew_Wetzler\n",
            "Ahmed_Lopez\t\t      Andrzej_Tyszkiewicz\n",
            "Ahmed_Qureia\t\t      Andy_Benes\n",
            "Ahmet_Demir\t\t      Andy_Bryant\n",
            "Ahmet_Necdet_Sezer\t      Andy_Dick\n",
            "Aicha_El_Ouafi\t\t      Andy_Garcia\n",
            "Aidan_Quinn\t\t      Andy_Graves\n",
            "Aileen_Riggin_Soule\t      Andy_Griffith\n",
            "Ain_Seppik\t\t      Andy_Griggs\n",
            "Ainsworth_Dyer\t\t      Andy_Hebb\n",
            "Aishwarya_Rai\t\t      Andy_Lau\n",
            "Ai_Sugiyama\t\t      Andy_Madikians\n",
            "Aitor_Gonzalez\t\t      Andy_North\n",
            "Aiysha_Smith\t\t      Andy_Perez\n",
            "AJ_Cook\t\t\t      Andy_Roddick\n",
            "Ajit_Agarkar\t\t      Andy_Rooney\n",
            "AJ_Lamas\t\t      Andy_Warhol\n",
            "Akbar_Al_Baker\t\t      Andy_Wisecarver\n",
            "Akbar_Hashemi_Rafsanjani      Anette_Hosoi\n",
            "Akhmed_Zakayev\t\t      AnFernce_Negron\n",
            "Akiko_Morigami\t\t      Angela_Alvarado_Rosa\n",
            "Akmal_Taher\t\t      Angela_Bassett\n",
            "Alain_Cervantes\t\t      Angela_Lansbury\n",
            "Alain_Ducasse\t\t      Angela_Mascia-Frye\n",
            "Alan_Ball\t\t      Angela_Merkel\n",
            "Alan_Dershowitz\t\t      Angelica_Romero\n",
            "Alan_Dreher\t\t      Angelina_Jolie\n",
            "Alan_Greenspan\t\t      Angel_Lockward\n",
            "Alan_Greer\t\t      Angel_Maza\n",
            "Alanis_Morissette\t      Angelo_Genova\n",
            "Alan_Jackson\t\t      Angelo_Reyes\n",
            "Alan_Mulally\t\t      Angie_Arzola\n",
            "Alanna_Ubach\t\t      Angie_Martinez\n",
            "Alan_Stonecipher\t      Anibal_Ibarra\n",
            "Alan_Tang_Kwong-wing\t      Anil_Ramsook\n",
            "Alan_Trammell\t\t      Anita_DeFrantz\n",
            "Alan_Zemaitis\t\t      Anja_Paerson\n",
            "Alastair_Campbell\t      Anjum_Hussain\n",
            "Alastair_Johnston\t      Anna_Chicherova\n",
            "Albaro_Recoba\t\t      Anna_Faris\n",
            "Alberta_Lee\t\t      Anna_Jones\n",
            "Albert_Brooks\t\t      Anna_Kournikova\n",
            "Albert_Costa\t\t      Anna_Nicole_Smith\n",
            "Albert_Montanes\t\t      Anne_Cavers\n",
            "Alberto_Acosta\t\t      Anne_Donovan\n",
            "Alberto_Fujimori\t      Anne_Heche\n",
            "Alberto_Gonzales\t      Anne_Krueger\n",
            "Alberto_Ruiz_Gallardon\t      Anneli_Jaatteenmaki\n",
            "Alberto_Sordi\t\t      Anne_McLellan\n",
            "Albert_Pujols\t\t      Anne_ONeil\n",
            "Albrecht_Mentz\t\t      Annette_Bening\n",
            "Al_Cardenas\t\t      Annette_Lu\n",
            "Al_Davis\t\t      Ann_Godbehere\n",
            "Aldo_Paredes\t\t      Annie_Chaplin\n",
            "Alec_Baldwin\t\t      Annie-Jeanne_Reynaud\n",
            "Alecos_Markides\t\t      Annie_Machon\n",
            "Alejandro_Atchugarry\t      Annika_Sorenstam\n",
            "Alejandro_Avila\t\t      Ann_Landers\n",
            "Alejandro_Fernandez\t      Ann_Morgan\n",
            "Alejandro_Gonzalez_Inarritu   Ann_Veneman\n",
            "Alejandro_Lembo\t\t      Antanas_Valionis\n",
            "Alejandro_Lerner\t      Anthony_Carter\n",
            "Alejandro_Lopez\t\t      Anthony_Corso\n",
            "Alejandro_Toledo\t      Anthony_Ervin\n",
            "Aleksander_Kwasniewski\t      Anthony_Fauci\n",
            "Aleksander_Voloshin\t      Anthony_Garotinho\n",
            "Alek_Wek\t\t      Anthony_Hazen\n",
            "Alessandra_Cerna\t      Anthony_Hopkins\n",
            "Alessandro_Nesta\t      Anthony_LaPaglia\n",
            "Alexa_Loren\t\t      Anthony_Lee_Johnson\n",
            "Alexander_Downer\t      Anthony_Mazur\n",
            "Alexander_Losyukov\t      Anthony_Pico\n",
            "Alexander_Lukashenko\t      Anthony_Pisciotti\n",
            "Alexander_Payne\t\t      Anthony_Principi\n",
            "Alexander_Rumyantsev\t      Anthony_Rackauckas\n",
            "Alexandra_Jackson\t      Anthony_Scott_Miller\n",
            "Alexandra_Pelosi\t      Antje_Buschschulte\n",
            "Alexandra_Rozovskaya\t      Anton_Balasingham\n",
            "Alexandra_Spann\t\t      Antonio_Banderas\n",
            "Alexandra_Stevenson\t      Antonio_Bernardo\n",
            "Alexandra_Vodjanikova\t      Antonio_Cassano\n",
            "Alexandre_Daigle\t      Antonio_Catania\n",
            "Alexandre_Despatie\t      Antonio_Elias_Saca\n",
            "Alexandre_Herchcovitch\t      Antonio_Palocci\n",
            "Alexandre_Vinokourov\t      Antonio_Trillanes\n",
            "Alexa_Vega\t\t      Antony_Leung\n",
            "Alex_Barros\t\t      Antwun_Echols\n",
            "Alex_Cabrera\t\t      Anwar_Ibrahim\n",
            "Alex_Cejka\t\t      Anzori_Kikalishvili\n",
            "Alex_Corretja\t\t      Aparna_Pillai\n",
            "Alex_Ferguson\t\t      Aram_Adler\n",
            "Alex_Gonzalez\t\t      Arantxa_Sanchez-Vicario\n",
            "Alex_Holmes\t\t      Aretha_Franklin\n",
            "Alexis_Bledel\t\t      Arianna_Huffington\n",
            "Alexis_Dennisoff\t      Ari_Bousbib\n",
            "Alex_King\t\t      Arie_Haan\n",
            "Alex_Penelas\t\t      Ariel_Sharon\n",
            "Alex_Popov\t\t      Ari_Fleischer\n",
            "Alex_Sink\t\t      Arif_Mardin\n",
            "Alex_Wallau\t\t      Arlen_Specter\n",
            "Alex_Zanardi\t\t      Armando_Avila_Panchame\n",
            "Alfonso_Cuaron\t\t      Armando_Calderon_Sol\n",
            "Alfonso_Portillo\t      Armando_Carrillo\n",
            "Alfonso_Soriano\t\t      Armand_Sargen\n",
            "Alfred_Ford\t\t      Arminio_Fraga\n",
            "Alfredo_di_Stefano\t      Arnaud_Clement\n",
            "Alfredo_Moreno\t\t      Arnaud_Lagardere\n",
            "Alfredo_Pena\t\t      Arnie_Boehm\n",
            "Alfred_Sant\t\t      Arnoldo_Aleman\n",
            "Al_Gore\t\t\t      Arnold_Palmer\n",
            "Ali_Abbas\t\t      Arnold_Schwarzenegger\n",
            "Ali_Abdullah_Saleh\t      Arnold_Scott\n",
            "Ali_Adbul_Karim_Madani\t      Aron_Ralston\n",
            "Ali_Ahmeti\t\t      Arsinee_Khanjian\n",
            "Ali_Bin_Hussein\t\t      Art_Cooper\n",
            "Alice_Fisher\t\t      Art_Hoffmann\n",
            "Alicia_Hollowell\t      Art_Howe\n",
            "Alicia_Keys\t\t      Arthur_Johnson\n",
            "Alicia_Molik\t\t      Arthur_Martinez\n",
            "Alicia_Silverstone\t      Artieas_Shanks\n",
            "Alicia_Witt\t\t      Art_Lopez\n",
            "Ali_Fallahian\t\t      Arturo_Gatti\n",
            "Ali_Hammoud\t\t      Arye_Mekel\n",
            "Ali_Khamenei\t\t      Asa_Hutchinson\n",
            "Ali_Mohammed_Maher\t      Ascencion_Barajas\n",
            "Alimzhan_Tokhtakhounov\t      Ashanti\n",
            "Ali_Naimi\t\t      Ashlea_Talbot\n",
            "Alina_Kabaeva\t\t      Ashley_Judd\n",
            "Aline_Chretien\t\t      Ashley_Olsen\n",
            "Alisha_Richman\t\t      Ashley_Postell\n",
            "Alison_Krauss\t\t      Ashraf_Alasmar\n",
            "Alison_Lohman\t\t      Ashraf_Ghani\n",
            "Alistair_MacDonald\t      Ashton_Kutcher\n",
            "Allan_Houston\t\t      Asif_Ali_Zardari\n",
            "Allan_Kemakeza\t\t      Asif_Hanif\n",
            "Allan_Wagner\t\t      Askar_Akayev\n",
            "Al_Leiter\t\t      Asmaa_Assad\n",
            "Allen_Iverson\t\t      Assad_Ahmadi\n",
            "Allen_Rock\t\t      Astou_Ndiaye-Diatta\n",
            "Allison_Janney\t\t      Astrid_Betancourt\n",
            "Allison_Searing\t\t      Astrid_Eyzaguirre\n",
            "Ally_Sheedy\t\t      Atal_Bihari_Vajpayee\n",
            "Allyson_Felix\t\t      Ataollah_Mohajerani\n",
            "Alma_Powell\t\t      Atiabet_Ijan_Amabel\n",
            "Almeida_Baptista\t      Atom_Egoyan\n",
            "Alonzo_Mourning\t\t      Atsushi_Sato\n",
            "Al_Pacino\t\t      Audrey_Lacroix\n",
            "Al_Sharpton\t\t      Audrey_Sauret\n",
            "Alvaro_Noboa\t\t      Augustin_Calleri\n",
            "Alvaro_Silva_Calderon\t      Augusto_Pinochet\n",
            "Alvaro_Uribe\t\t      Augusto_Roa_Bastos\n",
            "Alyse_Beaupre\t\t      Aung_San_Suu_Kyi\n",
            "Alyson_Hannigan\t\t      Austin_Kearns\n",
            "Aly_Wagner\t\t      Avril_Lavigne\n",
            "Amanda_Beard\t\t      Azmi_Bishara\n",
            "Amanda_Bynes\t\t      Azra_Akin\n"
          ],
          "name": "stdout"
        }
      ]
    },
    {
      "cell_type": "code",
      "metadata": {
        "id": "0_cNVswt-AlG",
        "outputId": "6310e627-c2eb-43b7-b04a-f01f9cac3c69",
        "colab": {
          "base_uri": "https://localhost:8080/",
          "height": 140
        }
      },
      "source": [
        "!ls lfw/Angelina_Jolie"
      ],
      "execution_count": null,
      "outputs": [
        {
          "output_type": "stream",
          "text": [
            "Angelina_Jolie_0001.jpg  Angelina_Jolie_0008.jpg  Angelina_Jolie_0015.jpg\n",
            "Angelina_Jolie_0002.jpg  Angelina_Jolie_0009.jpg  Angelina_Jolie_0016.jpg\n",
            "Angelina_Jolie_0003.jpg  Angelina_Jolie_0010.jpg  Angelina_Jolie_0017.jpg\n",
            "Angelina_Jolie_0004.jpg  Angelina_Jolie_0011.jpg  Angelina_Jolie_0018.jpg\n",
            "Angelina_Jolie_0005.jpg  Angelina_Jolie_0012.jpg  Angelina_Jolie_0019.jpg\n",
            "Angelina_Jolie_0006.jpg  Angelina_Jolie_0013.jpg  Angelina_Jolie_0020.jpg\n",
            "Angelina_Jolie_0007.jpg  Angelina_Jolie_0014.jpg\n"
          ],
          "name": "stdout"
        }
      ]
    },
    {
      "cell_type": "code",
      "metadata": {
        "id": "K55AtfbM-P_P",
        "outputId": "70e6999f-79b9-46a1-a03d-42d54f4c9d02",
        "colab": {
          "base_uri": "https://localhost:8080/",
          "height": 267
        }
      },
      "source": [
        "from IPython.display import Image\n",
        "Image('lfw/Angelina_Jolie/Angelina_Jolie_0004.jpg')"
      ],
      "execution_count": null,
      "outputs": [
        {
          "output_type": "execute_result",
          "data": {
            "image/jpeg": "[encoded data removed]",
            "text/plain": [
              "<IPython.core.display.Image object>"
            ]
          },
          "metadata": {
            "tags": []
          },
          "execution_count": 23
        }
      ]
    },
    {
      "cell_type": "markdown",
      "metadata": {
        "id": "XomRuoJXod3P"
      },
      "source": [
        "Более сложный вариант - архив в формате `tar`, сжатый архиватором `gzip`. Такие файлы имеют расширение `.tar.gz` (или `.tgz`). В Linux такой формат архивов более популярен, чем `zip`. Именно в таком виде распространяются предварительно обученные модели TensorFlow. \n",
        "\n",
        "Давайте загрузим модель TensorFlow для обнаружения объектов на изображениях и распакуем её. Загружаем модель с помощью `wget`:"
      ]
    },
    {
      "cell_type": "code",
      "metadata": {
        "id": "dhgem12xonyo",
        "outputId": "fcf5bd16-262b-4557-bb8e-152a076da274",
        "colab": {
          "base_uri": "https://localhost:8080/",
          "height": 226
        }
      },
      "source": [
        "!wget http://download.tensorflow.org/models/object_detection/faster_rcnn_inception_resnet_v2_atrous_coco_2018_01_28.tar.gz"
      ],
      "execution_count": null,
      "outputs": [
        {
          "output_type": "stream",
          "text": [
            "--2020-01-05 16:28:07--  http://download.tensorflow.org/models/object_detection/faster_rcnn_inception_resnet_v2_atrous_coco_2018_01_28.tar.gz\n",
            "Resolving download.tensorflow.org (download.tensorflow.org)... 108.177.127.128, 2a00:1450:4013:c07::80\n",
            "Connecting to download.tensorflow.org (download.tensorflow.org)|108.177.127.128|:80... connected.\n",
            "HTTP request sent, awaiting response... 200 OK\n",
            "Length: 672221478 (641M) [application/x-tar]\n",
            "Saving to: ‘faster_rcnn_inception_resnet_v2_atrous_coco_2018_01_28.tar.gz’\n",
            "\n",
            "faster_rcnn_incepti 100%[===================>] 641.08M   171MB/s    in 3.8s    \n",
            "\n",
            "2020-01-05 16:28:16 (171 MB/s) - ‘faster_rcnn_inception_resnet_v2_atrous_coco_2018_01_28.tar.gz’ saved [672221478/672221478]\n",
            "\n"
          ],
          "name": "stdout"
        }
      ]
    },
    {
      "cell_type": "markdown",
      "metadata": {
        "id": "fZQg_GS1pJOG"
      },
      "source": [
        "Распаковываем архив:"
      ]
    },
    {
      "cell_type": "code",
      "metadata": {
        "id": "1-YpiECdpOQd",
        "outputId": "4648474b-2919-4f70-a3e5-50d528b35d09",
        "colab": {
          "base_uri": "https://localhost:8080/",
          "height": 188
        }
      },
      "source": [
        "!tar xvfz faster_rcnn_inception_resnet_v2_atrous_coco_2018_01_28.tar.gz"
      ],
      "execution_count": null,
      "outputs": [
        {
          "output_type": "stream",
          "text": [
            "faster_rcnn_inception_resnet_v2_atrous_coco_2018_01_28/\n",
            "faster_rcnn_inception_resnet_v2_atrous_coco_2018_01_28/model.ckpt.index\n",
            "faster_rcnn_inception_resnet_v2_atrous_coco_2018_01_28/checkpoint\n",
            "faster_rcnn_inception_resnet_v2_atrous_coco_2018_01_28/pipeline.config\n",
            "faster_rcnn_inception_resnet_v2_atrous_coco_2018_01_28/model.ckpt.data-00000-of-00001\n",
            "faster_rcnn_inception_resnet_v2_atrous_coco_2018_01_28/model.ckpt.meta\n",
            "faster_rcnn_inception_resnet_v2_atrous_coco_2018_01_28/saved_model/\n",
            "faster_rcnn_inception_resnet_v2_atrous_coco_2018_01_28/saved_model/saved_model.pb\n",
            "faster_rcnn_inception_resnet_v2_atrous_coco_2018_01_28/saved_model/variables/\n",
            "faster_rcnn_inception_resnet_v2_atrous_coco_2018_01_28/frozen_inference_graph.pb\n"
          ],
          "name": "stdout"
        }
      ]
    },
    {
      "cell_type": "markdown",
      "metadata": {
        "id": "C35brdOcpR8b"
      },
      "source": [
        "Проверяем распакованное содержимое архива:"
      ]
    },
    {
      "cell_type": "code",
      "metadata": {
        "id": "SwWiXljGpYKM",
        "outputId": "6d597973-87da-48f0-e6d9-29e8e1d01a7b",
        "colab": {
          "base_uri": "https://localhost:8080/",
          "height": 70
        }
      },
      "source": [
        "!ls faster_rcnn_inception_resnet_v2_atrous_coco_2018_01_28"
      ],
      "execution_count": null,
      "outputs": [
        {
          "output_type": "stream",
          "text": [
            "checkpoint\t\t\tmodel.ckpt.index  saved_model\n",
            "frozen_inference_graph.pb\tmodel.ckpt.meta\n",
            "model.ckpt.data-00000-of-00001\tpipeline.config\n"
          ],
          "name": "stdout"
        }
      ]
    },
    {
      "cell_type": "markdown",
      "metadata": {
        "id": "wDfrMEItPeMb"
      },
      "source": [
        "## Установка пакетов\n",
        "\n",
        "На colaboratory уже установлено много полезных пакетов Python для машинного обучения и других задач. Но если вам понадобился какой-то новый пакет, то его можно достаточно просто установить с помощью команды `pip`. Например, установим библиотеку [`mxnet`](https://mxnet.apache.org):"
      ]
    },
    {
      "cell_type": "code",
      "metadata": {
        "id": "oqX866LOAyJe",
        "outputId": "c81a04a7-7eb4-45fb-d5f9-989dc0ee0a8a",
        "colab": {
          "base_uri": "https://localhost:8080/",
          "height": 547
        }
      },
      "source": [
        "!pip install mxnet"
      ],
      "execution_count": null,
      "outputs": [
        {
          "output_type": "stream",
          "text": [
            "Collecting mxnet\n",
            "\u001b[?25l  Downloading https://files.pythonhosted.org/packages/f0/2e/b26eb7273aed1945f59993b3b306442eb41684f931b5380821c39cf50a31/mxnet-1.3.1-py2.py3-none-manylinux1_x86_64.whl (27.1MB)\n",
            "\u001b[K    100% |████████████████████████████████| 27.1MB 1.7MB/s \n",
            "\u001b[?25hCollecting graphviz<0.9.0,>=0.8.1 (from mxnet)\n",
            "  Downloading https://files.pythonhosted.org/packages/53/39/4ab213673844e0c004bed8a0781a0721a3f6bb23eb8854ee75c236428892/graphviz-0.8.4-py2.py3-none-any.whl\n",
            "Requirement already satisfied: numpy<1.15.0,>=1.8.2 in /usr/local/lib/python3.6/dist-packages (from mxnet) (1.14.6)\n",
            "Collecting requests>=2.20.0 (from mxnet)\n",
            "\u001b[?25l  Downloading https://files.pythonhosted.org/packages/7d/e3/20f3d364d6c8e5d2353c72a67778eb189176f08e873c9900e10c0287b84b/requests-2.21.0-py2.py3-none-any.whl (57kB)\n",
            "\u001b[K    100% |████████████████████████████████| 61kB 23.7MB/s \n",
            "\u001b[?25hRequirement already satisfied: urllib3<1.25,>=1.21.1 in /usr/local/lib/python3.6/dist-packages (from requests>=2.20.0->mxnet) (1.22)\n",
            "Requirement already satisfied: certifi>=2017.4.17 in /usr/local/lib/python3.6/dist-packages (from requests>=2.20.0->mxnet) (2018.11.29)\n",
            "Requirement already satisfied: idna<2.9,>=2.5 in /usr/local/lib/python3.6/dist-packages (from requests>=2.20.0->mxnet) (2.6)\n",
            "Requirement already satisfied: chardet<3.1.0,>=3.0.2 in /usr/local/lib/python3.6/dist-packages (from requests>=2.20.0->mxnet) (3.0.4)\n",
            "\u001b[31mspacy 2.0.18 has requirement numpy>=1.15.0, but you'll have numpy 1.14.6 which is incompatible.\u001b[0m\n",
            "\u001b[31mgoogle-colab 0.0.1a1 has requirement requests~=2.18.0, but you'll have requests 2.21.0 which is incompatible.\u001b[0m\n",
            "\u001b[31mcufflinks 0.14.6 has requirement plotly>=3.0.0, but you'll have plotly 1.12.12 which is incompatible.\u001b[0m\n",
            "Installing collected packages: graphviz, requests, mxnet\n",
            "  Found existing installation: graphviz 0.10.1\n",
            "    Uninstalling graphviz-0.10.1:\n",
            "      Successfully uninstalled graphviz-0.10.1\n",
            "  Found existing installation: requests 2.18.4\n",
            "    Uninstalling requests-2.18.4:\n",
            "      Successfully uninstalled requests-2.18.4\n",
            "Successfully installed graphviz-0.8.4 mxnet-1.3.1 requests-2.21.0\n"
          ],
          "name": "stdout"
        },
        {
          "output_type": "display_data",
          "data": {
            "application/vnd.colab-display-data+json": {
              "pip_warning": {
                "packages": [
                  "requests"
                ]
              }
            }
          },
          "metadata": {
            "tags": []
          }
        }
      ]
    },
    {
      "cell_type": "markdown",
      "metadata": {
        "id": "s6V-i3ciBTAb"
      },
      "source": [
        "Также иногда может понадобиться установка пакетов операционной системы. Например, библиотеку для работы с архивами в разных форматах [libarchive](https://www.libarchive.org/). Системные пакеты устанавливаются командой `apt-get`:"
      ]
    },
    {
      "cell_type": "code",
      "metadata": {
        "id": "DH1fZP5EB6Jt",
        "outputId": "61fbe8e9-4bf4-42c4-f9c7-2437ade717e7",
        "colab": {
          "base_uri": "https://localhost:8080/",
          "height": 298
        }
      },
      "source": [
        "!apt-get install libarchive-dev -y"
      ],
      "execution_count": null,
      "outputs": [
        {
          "output_type": "stream",
          "text": [
            "Reading package lists... Done\n",
            "Building dependency tree       \n",
            "Reading state information... Done\n",
            "The following NEW packages will be installed:\n",
            "  libarchive-dev\n",
            "0 upgraded, 1 newly installed, 0 to remove and 3 not upgraded.\n",
            "Need to get 470 kB of archives.\n",
            "After this operation, 1,621 kB of additional disk space will be used.\n",
            "Get:1 http://archive.ubuntu.com/ubuntu bionic-updates/main amd64 libarchive-dev amd64 3.2.2-3.1ubuntu0.2 [470 kB]\n",
            "Fetched 470 kB in 1s (681 kB/s)\n",
            "Selecting previously unselected package libarchive-dev:amd64.\n",
            "(Reading database ... 111313 files and directories currently installed.)\n",
            "Preparing to unpack .../libarchive-dev_3.2.2-3.1ubuntu0.2_amd64.deb ...\n",
            "Unpacking libarchive-dev:amd64 (3.2.2-3.1ubuntu0.2) ...\n",
            "Processing triggers for man-db (2.8.3-2ubuntu0.1) ...\n",
            "Setting up libarchive-dev:amd64 (3.2.2-3.1ubuntu0.2) ...\n"
          ],
          "name": "stdout"
        }
      ]
    },
    {
      "cell_type": "markdown",
      "metadata": {
        "id": "eEfgYHhYPhE4"
      },
      "source": [
        "## Работа с Git\n",
        "\n",
        "В Colaboratory можно использовать обычные команды `Git`. Например, склонируем репозиторий с моделями `TensorFlow`:"
      ]
    },
    {
      "cell_type": "code",
      "metadata": {
        "id": "ifLo9rc1EZ5O",
        "outputId": "47085dba-927c-425e-8ae6-febeefc3e84d",
        "colab": {
          "base_uri": "https://localhost:8080/",
          "height": 120
        }
      },
      "source": [
        "!git clone https://github.com/tensorflow/models.git"
      ],
      "execution_count": null,
      "outputs": [
        {
          "output_type": "stream",
          "text": [
            "Cloning into 'models'...\n",
            "remote: Enumerating objects: 33544, done.\u001b[K\n",
            "remote: Total 33544 (delta 0), reused 0 (delta 0), pack-reused 33544\u001b[K\n",
            "Receiving objects: 100% (33544/33544), 511.89 MiB | 35.75 MiB/s, done.\n",
            "Resolving deltas: 100% (21458/21458), done.\n",
            "Checking out files: 100% (3194/3194), done.\n"
          ],
          "name": "stdout"
        }
      ]
    },
    {
      "cell_type": "markdown",
      "metadata": {
        "id": "CmzSo_PzEheP"
      },
      "source": [
        "Проверяем"
      ]
    },
    {
      "cell_type": "code",
      "metadata": {
        "id": "d9l9PpBhEg7Y",
        "outputId": "ec238791-bef1-46c4-a6a2-12b551b38f20",
        "colab": {
          "base_uri": "https://localhost:8080/",
          "height": 52
        }
      },
      "source": [
        "!ls models"
      ],
      "execution_count": null,
      "outputs": [
        {
          "output_type": "stream",
          "text": [
            "AUTHORS     CONTRIBUTING.md    LICENSE\t README.md  samples    WORKSPACE\n",
            "CODEOWNERS  ISSUE_TEMPLATE.md  official  research   tutorials\n"
          ],
          "name": "stdout"
        }
      ]
    },
    {
      "cell_type": "code",
      "metadata": {
        "id": "s1Lc_CotEmvP",
        "outputId": "c4b5960e-3b52-4296-80f4-d233c79413f4",
        "colab": {
          "base_uri": "https://localhost:8080/",
          "height": 371
        }
      },
      "source": [
        "!cat models/README.md"
      ],
      "execution_count": null,
      "outputs": [
        {
          "output_type": "stream",
          "text": [
            "# TensorFlow Models\n",
            "\n",
            "This repository contains a number of different models implemented in [TensorFlow](https://www.tensorflow.org):\n",
            "\n",
            "The [official models](official) are a collection of example models that use TensorFlow's high-level APIs. They are intended to be well-maintained, tested, and kept up to date with the latest stable TensorFlow API. They should also be reasonably optimized for fast performance while still being easy to read. We especially recommend newer TensorFlow users to start here.\n",
            "\n",
            "The [research models](https://github.com/tensorflow/models/tree/master/research) are a large collection of models implemented in TensorFlow by researchers. They are not officially supported or available in release branches; it is up to the individual researchers to maintain the models and/or provide support on issues and pull requests.\n",
            "\n",
            "The [samples folder](samples) contains code snippets and smaller models that demonstrate features of TensorFlow, including code presented in various blog posts.\n",
            "\n",
            "The [tutorials folder](tutorials) is a collection of models described in the [TensorFlow tutorials](https://www.tensorflow.org/tutorials/).\n",
            "\n",
            "## Contribution guidelines\n",
            "\n",
            "If you want to contribute to models, be sure to review the [contribution guidelines](CONTRIBUTING.md).\n",
            "\n",
            "## License\n",
            "\n",
            "[Apache License 2.0](LICENSE)\n"
          ],
          "name": "stdout"
        }
      ]
    },
    {
      "cell_type": "markdown",
      "metadata": {
        "id": "tDqaJWqLFe8f"
      },
      "source": [
        "## Какой Linux используется в Colaboratory?\n",
        "\n"
      ]
    },
    {
      "cell_type": "code",
      "metadata": {
        "id": "I3Zn2-wuFqpf",
        "outputId": "008d278b-bfae-40ce-9e18-e1680c8a8c03",
        "colab": {
          "base_uri": "https://localhost:8080/",
          "height": 103
        }
      },
      "source": [
        "!lsb_release -a "
      ],
      "execution_count": null,
      "outputs": [
        {
          "output_type": "stream",
          "text": [
            "No LSB modules are available.\n",
            "Distributor ID:\tUbuntu\n",
            "Description:\tUbuntu 18.04.3 LTS\n",
            "Release:\t18.04\n",
            "Codename:\tbionic\n"
          ],
          "name": "stdout"
        }
      ]
    },
    {
      "cell_type": "markdown",
      "metadata": {
        "id": "bH9BpVyMGBBP"
      },
      "source": [
        "## Сколько процесоров и памяти?"
      ]
    },
    {
      "cell_type": "markdown",
      "metadata": {
        "id": "wXGaeyGsGFEW"
      },
      "source": [
        "**Процессоры**"
      ]
    },
    {
      "cell_type": "code",
      "metadata": {
        "id": "5Php2B50GGR4",
        "outputId": "c63cfee1-4f65-41a8-bad1-deda24a57c96",
        "colab": {
          "base_uri": "https://localhost:8080/",
          "height": 963
        }
      },
      "source": [
        "!cat /proc/cpuinfo"
      ],
      "execution_count": null,
      "outputs": [
        {
          "output_type": "stream",
          "text": [
            "processor\t: 0\n",
            "vendor_id\t: GenuineIntel\n",
            "cpu family\t: 6\n",
            "model\t\t: 85\n",
            "model name\t: Intel(R) Xeon(R) CPU @ 2.00GHz\n",
            "stepping\t: 3\n",
            "microcode\t: 0x1\n",
            "cpu MHz\t\t: 2000.172\n",
            "cache size\t: 39424 KB\n",
            "physical id\t: 0\n",
            "siblings\t: 2\n",
            "core id\t\t: 0\n",
            "cpu cores\t: 1\n",
            "apicid\t\t: 0\n",
            "initial apicid\t: 0\n",
            "fpu\t\t: yes\n",
            "fpu_exception\t: yes\n",
            "cpuid level\t: 13\n",
            "wp\t\t: yes\n",
            "flags\t\t: fpu vme de pse tsc msr pae mce cx8 apic sep mtrr pge mca cmov pat pse36 clflush mmx fxsr sse sse2 ss ht syscall nx pdpe1gb rdtscp lm constant_tsc rep_good nopl xtopology nonstop_tsc cpuid tsc_known_freq pni pclmulqdq ssse3 fma cx16 pcid sse4_1 sse4_2 x2apic movbe popcnt aes xsave avx f16c rdrand hypervisor lahf_lm abm 3dnowprefetch invpcid_single ssbd ibrs ibpb stibp fsgsbase tsc_adjust bmi1 hle avx2 smep bmi2 erms invpcid rtm mpx avx512f avx512dq rdseed adx smap clflushopt clwb avx512cd avx512bw avx512vl xsaveopt xsavec xgetbv1 xsaves arat md_clear arch_capabilities\n",
            "bugs\t\t: cpu_meltdown spectre_v1 spectre_v2 spec_store_bypass l1tf mds swapgs\n",
            "bogomips\t: 4000.34\n",
            "clflush size\t: 64\n",
            "cache_alignment\t: 64\n",
            "address sizes\t: 46 bits physical, 48 bits virtual\n",
            "power management:\n",
            "\n",
            "processor\t: 1\n",
            "vendor_id\t: GenuineIntel\n",
            "cpu family\t: 6\n",
            "model\t\t: 85\n",
            "model name\t: Intel(R) Xeon(R) CPU @ 2.00GHz\n",
            "stepping\t: 3\n",
            "microcode\t: 0x1\n",
            "cpu MHz\t\t: 2000.172\n",
            "cache size\t: 39424 KB\n",
            "physical id\t: 0\n",
            "siblings\t: 2\n",
            "core id\t\t: 0\n",
            "cpu cores\t: 1\n",
            "apicid\t\t: 1\n",
            "initial apicid\t: 1\n",
            "fpu\t\t: yes\n",
            "fpu_exception\t: yes\n",
            "cpuid level\t: 13\n",
            "wp\t\t: yes\n",
            "flags\t\t: fpu vme de pse tsc msr pae mce cx8 apic sep mtrr pge mca cmov pat pse36 clflush mmx fxsr sse sse2 ss ht syscall nx pdpe1gb rdtscp lm constant_tsc rep_good nopl xtopology nonstop_tsc cpuid tsc_known_freq pni pclmulqdq ssse3 fma cx16 pcid sse4_1 sse4_2 x2apic movbe popcnt aes xsave avx f16c rdrand hypervisor lahf_lm abm 3dnowprefetch invpcid_single ssbd ibrs ibpb stibp fsgsbase tsc_adjust bmi1 hle avx2 smep bmi2 erms invpcid rtm mpx avx512f avx512dq rdseed adx smap clflushopt clwb avx512cd avx512bw avx512vl xsaveopt xsavec xgetbv1 xsaves arat md_clear arch_capabilities\n",
            "bugs\t\t: cpu_meltdown spectre_v1 spectre_v2 spec_store_bypass l1tf mds swapgs\n",
            "bogomips\t: 4000.34\n",
            "clflush size\t: 64\n",
            "cache_alignment\t: 64\n",
            "address sizes\t: 46 bits physical, 48 bits virtual\n",
            "power management:\n",
            "\n"
          ],
          "name": "stdout"
        }
      ]
    },
    {
      "cell_type": "markdown",
      "metadata": {
        "id": "SGwyT4f3Gazo"
      },
      "source": [
        "Количество процессоров 2, но это означает не два процессора, а два ядра. Производитель процессоров Intel, тактовая частота 2,3 ГГц.\n",
        "\n",
        "Если есть желание, можете подробнее разобрать информацию из `cpuinfo`, можно найти много интересного. Рекомендую начать с раздела `bugs`.\n",
        "\n"
      ]
    },
    {
      "cell_type": "markdown",
      "metadata": {
        "id": "0oHSKGKfH97J"
      },
      "source": [
        "**Память**"
      ]
    },
    {
      "cell_type": "code",
      "metadata": {
        "id": "DcMhnmESGAdW",
        "outputId": "5f6cc168-046b-40bf-b0c3-17911cf0603c",
        "colab": {
          "base_uri": "https://localhost:8080/",
          "height": 68
        }
      },
      "source": [
        "!free -h"
      ],
      "execution_count": null,
      "outputs": [
        {
          "output_type": "stream",
          "text": [
            "              total        used        free      shared  buff/cache   available\n",
            "Mem:            12G        564M        5.4G        896K        6.8G         11G\n",
            "Swap:            0B          0B          0B\n"
          ],
          "name": "stdout"
        }
      ]
    },
    {
      "cell_type": "markdown",
      "metadata": {
        "id": "-WnjDhiII77X"
      },
      "source": [
        "Всего памяти 12 ГБ, из них свободно 10ГБ."
      ]
    },
    {
      "cell_type": "markdown",
      "metadata": {
        "id": "7TKTEnozJDVg"
      },
      "source": [
        "## Какой GPU используется?\n",
        "\n",
        "Если вы подключили GPU в разделе Runtime -> Change Runtime Type -> Hardware accelerator, то модель можно посмотреть следующей командой: "
      ]
    },
    {
      "cell_type": "code",
      "metadata": {
        "id": "Ate2ig8_Jsgn",
        "outputId": "f5317cca-b23d-46a3-f53f-5ab0c068621a",
        "colab": {
          "base_uri": "https://localhost:8080/",
          "height": 188
        }
      },
      "source": [
        "!cat /proc/driver/nvidia/gpus/0000:00:04.0/information"
      ],
      "execution_count": null,
      "outputs": [
        {
          "output_type": "stream",
          "text": [
            "Model: \t\t Tesla P100-PCIE-16GB\n",
            "IRQ:   \t\t 35\n",
            "GPU UUID: \t GPU-62307fea-9c30-d83b-1eba-4053f25bb152\n",
            "Video BIOS: \t 86.00.4d.00.01\n",
            "Bus Type: \t PCI\n",
            "DMA Size: \t 47 bits\n",
            "DMA Mask: \t 0x7fffffffffff\n",
            "Bus Location: \t 0000:00:04.0\n",
            "Device Minor: \t 0\n",
            "Blacklisted:\t No\n"
          ],
          "name": "stdout"
        }
      ]
    },
    {
      "cell_type": "code",
      "metadata": {
        "id": "dEKYPvLQGopv",
        "outputId": "4790521c-5c25-4654-8146-3cdf7f90d321",
        "colab": {
          "base_uri": "https://localhost:8080/",
          "height": 34
        }
      },
      "source": [
        "!ls /proc/driver/nvidia/gpus/"
      ],
      "execution_count": null,
      "outputs": [
        {
          "output_type": "stream",
          "text": [
            "0000:00:04.0\n"
          ],
          "name": "stdout"
        }
      ]
    },
    {
      "cell_type": "markdown",
      "metadata": {
        "id": "Dp8zz6NWKVNv"
      },
      "source": [
        "## Под каким пользователем Linux выполняются команды в Colaboratory?"
      ]
    },
    {
      "cell_type": "code",
      "metadata": {
        "id": "3UVsKlqTCwD5",
        "outputId": "800747b7-90e3-4e67-b714-a5c7d8bf3d3b",
        "colab": {
          "base_uri": "https://localhost:8080/",
          "height": 34
        }
      },
      "source": [
        "!whoami"
      ],
      "execution_count": null,
      "outputs": [
        {
          "output_type": "stream",
          "text": [
            "root\n"
          ],
          "name": "stdout"
        }
      ]
    },
    {
      "cell_type": "markdown",
      "metadata": {
        "id": "wXY40PdVKpHB"
      },
      "source": [
        "Имя пользователя - `root`, суперпользователь. Домашний каталог пользователя - `/root`"
      ]
    }
  ]
}