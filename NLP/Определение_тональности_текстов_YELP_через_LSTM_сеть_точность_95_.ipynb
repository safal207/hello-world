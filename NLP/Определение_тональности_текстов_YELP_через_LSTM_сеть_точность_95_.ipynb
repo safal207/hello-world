{
  "nbformat": 4,
  "nbformat_minor": 0,
  "metadata": {
    "colab": {
      "name": "Определение тональности текстов YELP  через LSTM сеть - точность 95% ",
      "provenance": [],
      "collapsed_sections": [],
      "include_colab_link": true
    },
    "kernelspec": {
      "name": "python3",
      "display_name": "Python 3"
    },
    "accelerator": "GPU"
  },
  "cells": [
    {
      "cell_type": "markdown",
      "metadata": {
        "id": "view-in-github",
        "colab_type": "text"
      },
      "source": [
        "<a href=\"https://colab.research.google.com/github/safal207/hello-world/blob/master/%D0%9E%D0%BF%D1%80%D0%B5%D0%B4%D0%B5%D0%BB%D0%B5%D0%BD%D0%B8%D0%B5_%D1%82%D0%BE%D0%BD%D0%B0%D0%BB%D1%8C%D0%BD%D0%BE%D1%81%D1%82%D0%B8_%D1%82%D0%B5%D0%BA%D1%81%D1%82%D0%BE%D0%B2_YELP_%D1%87%D0%B5%D1%80%D0%B5%D0%B7_LSTM_%D1%81%D0%B5%D1%82%D1%8C_%D1%82%D0%BE%D1%87%D0%BD%D0%BE%D1%81%D1%82%D1%8C_95_.ipynb\" target=\"_parent\"><img src=\"https://colab.research.google.com/assets/colab-badge.svg\" alt=\"Open In Colab\"/></a>"
      ]
    },
    {
      "cell_type": "markdown",
      "metadata": {
        "id": "K-BAqDEY4ldv"
      },
      "source": [
        "## Определение тональности текстов отзывов на сайте [YELP](https://www.yelp.com/dataset/challenge) сетью LSTM\n",
        "\n",
        "Учебный курс \"[Нейросети для анализа текстов](https://www.asozykin.ru/courses/nnpython)\".\n",
        "\n",
        "Чтобы запускать и редактировать код, сохраните копию этого ноутбука себе (File->Save a copy in Drive...). Свою копию вы сможете изменять и запускать.\n",
        "\n",
        "Не забудьте подключить GPU, чтобы сеть обучалась быстрее (Runtime -> Change Runtime Type -> Hardware Accelerator -> GPU)."
      ]
    },
    {
      "cell_type": "code",
      "metadata": {
        "id": "fN251ib04idq"
      },
      "source": [
        "%tensorflow_version 2.x\n",
        "from tensorflow.keras.models import Sequential\n",
        "from tensorflow.keras.layers import Dense, Embedding, GRU, LSTM\n",
        "from tensorflow.keras import utils\n",
        "from tensorflow.keras.preprocessing.sequence import pad_sequences\n",
        "from tensorflow.keras.preprocessing.text import Tokenizer\n",
        "from tensorflow.keras.callbacks import ModelCheckpoint\n",
        "import pandas as pd\n",
        "import numpy as np\n",
        "import matplotlib.pyplot as plt\n",
        "%matplotlib inline "
      ],
      "execution_count": 1,
      "outputs": []
    },
    {
      "cell_type": "code",
      "metadata": {
        "id": "KVUY1PF0L_mF"
      },
      "source": [
        "num_words = 10000\n",
        "max_review_len = 100"
      ],
      "execution_count": 2,
      "outputs": []
    },
    {
      "cell_type": "markdown",
      "metadata": {
        "id": "S6itvI2G5H1k"
      },
      "source": [
        "## Загрузка набора данных"
      ]
    },
    {
      "cell_type": "code",
      "metadata": {
        "id": "TYf3S7he5KIU",
        "outputId": "0b46c858-deaa-4112-9288-9830cf33da2a",
        "colab": {
          "base_uri": "https://localhost:8080/"
        }
      },
      "source": [
        "!wget https://www.dropbox.com/s/ufbhk3kadtnn6h0/yelp_review_polarity_csv.tgz?dl=1 -O yelp_review_polarity_csv.tgz"
      ],
      "execution_count": 3,
      "outputs": [
        {
          "output_type": "stream",
          "text": [
            "--2020-11-12 11:09:22--  https://www.dropbox.com/s/ufbhk3kadtnn6h0/yelp_review_polarity_csv.tgz?dl=1\n",
            "Resolving www.dropbox.com (www.dropbox.com)... 162.125.82.1, 2620:100:6032:1::a27d:5201\n",
            "Connecting to www.dropbox.com (www.dropbox.com)|162.125.82.1|:443... connected.\n",
            "HTTP request sent, awaiting response... 301 Moved Permanently\n",
            "Location: /s/dl/ufbhk3kadtnn6h0/yelp_review_polarity_csv.tgz [following]\n",
            "--2020-11-12 11:09:22--  https://www.dropbox.com/s/dl/ufbhk3kadtnn6h0/yelp_review_polarity_csv.tgz\n",
            "Reusing existing connection to www.dropbox.com:443.\n",
            "HTTP request sent, awaiting response... 302 Found\n",
            "Location: https://uc291e56a053de355189ddf0dd94.dl.dropboxusercontent.com/cd/0/get/BDCFlIM82Yh1KEPB6VUma_4E_Wmf92eBuJ-zoneZVHuP1NTAS9llOl8WnC65XiAqcR2lx58AOUHikdEsRlr7ZFLWvlGEK8IxvTOSciH1RrKDXEcXpTlUqeKbUc2hsOzUsfI/file?dl=1# [following]\n",
            "--2020-11-12 11:09:22--  https://uc291e56a053de355189ddf0dd94.dl.dropboxusercontent.com/cd/0/get/BDCFlIM82Yh1KEPB6VUma_4E_Wmf92eBuJ-zoneZVHuP1NTAS9llOl8WnC65XiAqcR2lx58AOUHikdEsRlr7ZFLWvlGEK8IxvTOSciH1RrKDXEcXpTlUqeKbUc2hsOzUsfI/file?dl=1\n",
            "Resolving uc291e56a053de355189ddf0dd94.dl.dropboxusercontent.com (uc291e56a053de355189ddf0dd94.dl.dropboxusercontent.com)... 162.125.82.15, 2620:100:6032:15::a27d:520f\n",
            "Connecting to uc291e56a053de355189ddf0dd94.dl.dropboxusercontent.com (uc291e56a053de355189ddf0dd94.dl.dropboxusercontent.com)|162.125.82.15|:443... connected.\n",
            "HTTP request sent, awaiting response... 200 OK\n",
            "Length: 166373201 (159M) [application/binary]\n",
            "Saving to: ‘yelp_review_polarity_csv.tgz’\n",
            "\n",
            "yelp_review_polarit 100%[===================>] 158.67M  12.2MB/s    in 16s     \n",
            "\n",
            "2020-11-12 11:09:40 (9.96 MB/s) - ‘yelp_review_polarity_csv.tgz’ saved [166373201/166373201]\n",
            "\n"
          ],
          "name": "stdout"
        }
      ]
    },
    {
      "cell_type": "code",
      "metadata": {
        "id": "RH95SEXB5R0V",
        "outputId": "631bfab8-3962-46c1-851a-a4398f752960",
        "colab": {
          "base_uri": "https://localhost:8080/"
        }
      },
      "source": [
        "!tar -xvf yelp_review_polarity_csv.tgz"
      ],
      "execution_count": 4,
      "outputs": [
        {
          "output_type": "stream",
          "text": [
            "yelp_review_polarity_csv/\n",
            "yelp_review_polarity_csv/train.csv\n",
            "yelp_review_polarity_csv/readme.txt\n",
            "yelp_review_polarity_csv/test.csv\n"
          ],
          "name": "stdout"
        }
      ]
    },
    {
      "cell_type": "markdown",
      "metadata": {
        "id": "131Gk9fzGVMg"
      },
      "source": [
        "## Просматриваем данные"
      ]
    },
    {
      "cell_type": "code",
      "metadata": {
        "id": "uRj7M24mGRmH",
        "outputId": "11375759-c02f-4137-c455-b95e83272f3d",
        "colab": {
          "base_uri": "https://localhost:8080/"
        }
      },
      "source": [
        "!cat yelp_review_polarity_csv/readme.txt"
      ],
      "execution_count": 5,
      "outputs": [
        {
          "output_type": "stream",
          "text": [
            "Yelp Review Polarity Dataset\n",
            "\n",
            "Version 1, Updated 09/09/2015\n",
            "\n",
            "ORIGIN\n",
            "\n",
            "The Yelp reviews dataset consists of reviews from Yelp. It is extracted from the Yelp Dataset Challenge 2015 data. For more information, please refer to http://www.yelp.com/dataset_challenge\n",
            "\n",
            "The Yelp reviews polarity dataset is constructed by Xiang Zhang (xiang.zhang@nyu.edu) from the above dataset. It is first used as a text classification benchmark in the following paper: Xiang Zhang, Junbo Zhao, Yann LeCun. Character-level Convolutional Networks for Text Classification. Advances in Neural Information Processing Systems 28 (NIPS 2015).\n",
            "\n",
            "\n",
            "DESCRIPTION\n",
            "\n",
            "The Yelp reviews polarity dataset is constructed by considering stars 1 and 2 negative, and 3 and 4 positive. For each polarity 280,000 training samples and 19,000 testing samples are take randomly. In total there are 560,000 trainig samples and 38,000 testing samples. Negative polarity is class 1, and positive class 2.\n",
            "\n",
            "The files train.csv and test.csv contain all the training samples as comma-sparated values. There are 2 columns in them, corresponding to class index (1 and 2) and review text. The review texts are escaped using double quotes (\"), and any internal double quote is escaped by 2 double quotes (\"\"). New lines are escaped by a backslash followed with an \"n\" character, that is \"\\n\".\n"
          ],
          "name": "stdout"
        }
      ]
    },
    {
      "cell_type": "code",
      "metadata": {
        "id": "k6_oiP9NGlI2",
        "outputId": "f6f227cb-14b5-4e82-f823-00002df8f18c",
        "colab": {
          "base_uri": "https://localhost:8080/"
        }
      },
      "source": [
        "!head yelp_review_polarity_csv/train.csv"
      ],
      "execution_count": 6,
      "outputs": [
        {
          "output_type": "stream",
          "text": [
            "\"1\",\"Unfortunately, the frustration of being Dr. Goldberg's patient is a repeat of the experience I've had with so many other doctors in NYC -- good doctor, terrible staff.  It seems that his staff simply never answers the phone.  It usually takes 2 hours of repeated calling to get an answer.  Who has time for that or wants to deal with it?  I have run into this problem with many other doctors and I just don't get it.  You have office workers, you have patients with medical needs, why isn't anyone answering the phone?  It's incomprehensible and not work the aggravation.  It's with regret that I feel that I have to give Dr. Goldberg 2 stars.\"\n",
            "\"2\",\"Been going to Dr. Goldberg for over 10 years. I think I was one of his 1st patients when he started at MHMG. He's been great over the years and is really all about the big picture. It is because of him, not my now former gyn Dr. Markoff, that I found out I have fibroids. He explores all options with you and is very patient and understanding. He doesn't judge and asks all the right questions. Very thorough and wants to be kept in the loop on every aspect of your medical health and your life.\"\n",
            "\"1\",\"I don't know what Dr. Goldberg was like before  moving to Arizona, but let me tell you, STAY AWAY from this doctor and this office. I was going to Dr. Johnson before he left and Goldberg took over when Johnson left. He is not a caring doctor. He is only interested in the co-pay and having you come in for medication refills every month. He will not give refills and could less about patients's financial situations. Trying to get your 90 days mail away pharmacy prescriptions through this guy is a joke. And to make matters even worse, his office staff is incompetent. 90% of the time when you call the office, they'll put you through to a voice mail, that NO ONE ever answers or returns your call. Both my adult children and husband have decided to leave this practice after experiencing such frustration. The entire office has an attitude like they are doing you a favor. Give me a break! Stay away from this doc and the practice. You deserve better and they will not be there when you really need them. I have never felt compelled to write a bad review about anyone until I met this pathetic excuse for a doctor who is all about the money.\"\n",
            "\"1\",\"I'm writing this review to give you a heads up before you see this Doctor. The office staff and administration are very unprofessional. I left a message with multiple people regarding my bill, and no one ever called me back. I had to hound them to get an answer about my bill. \\n\\nSecond, and most important, make sure your insurance is going to cover Dr. Goldberg's visits and blood work. He recommended to me that I get a physical, and he knew I was a student because I told him. I got the physical done. Later, I found out my health insurance doesn't pay for preventative visits. I received an $800.00 bill for the blood work. I can't pay for my bill because I'm a student and don't have any cash flow at this current time. I can't believe the Doctor wouldn't give me a heads up to make sure my insurance would cover work that wasn't necessary and was strictly preventative. The office can't do anything to help me cover the bill. In addition, the office staff said the onus is on me to make sure my insurance covers visits. Frustrating situation!\"\n",
            "\"2\",\"All the food is great here. But the best thing they have is their wings. Their wings are simply fantastic!!  The \\\"\"Wet Cajun\\\"\" are by the best & most popular.  I also like the seasoned salt wings.  Wing Night is Monday & Wednesday night, $0.75 whole wings!\\n\\nThe dining area is nice. Very family friendly! The bar is very nice is well.  This place is truly a Yinzer's dream!!  \\\"\"Pittsburgh Dad\\\"\" would love this place n'at!!\"\n",
            "\"1\",\"Wing sauce is like water. Pretty much a lot of butter and some hot sauce (franks red hot maybe).  The whole wings are good size and crispy, but for $1 a wing the sauce could be better. The hot and extra hot are about the same flavor/heat.  The fish sandwich is good and is a large portion, sides are decent.\"\n",
            "\"1\",\"Owning a driving range inside the city limits is like a license to print money.  I don't think I ask much out of a driving range.  Decent mats, clean balls and accessible hours.  Hell you need even less people now with the advent of the machine that doles out the balls.  This place has none of them.  It is april and there are no grass tees yet.  BTW they opened for the season this week although it has been golfing weather for a month.  The mats look like the carpet at my 107 year old aunt Irene's house.  Worn and thread bare.  Let's talk about the hours.  This place is equipped with lights yet they only sell buckets of balls until 730.  It is still light out.  Finally lets you have the pit to hit into.  When I arrived I wasn't sure if this was a driving range or an excavation site for a mastodon or a strip mining operation.  There is no grass on the range. Just mud.  Makes it a good tool to figure out how far you actually are hitting the ball.  Oh, they are cash only also.\\n\\nBottom line, this place sucks.  The best hope is that the owner sells it to someone that actually wants to make money and service golfers in Pittsburgh.\"\n",
            "\"1\",\"This place is absolute garbage...  Half of the tees are not available, including all the grass tees.  It is cash only, and they sell the last bucket at 8, despite having lights.  And if you finish even a minute after 8, don't plan on getting a drink.  The vending machines are sold out (of course) and they sell drinks inside, but close the drawers at 8 on the dot.  There are weeds grown all over the place.  I noticed some sort of batting cage, but it looks like those are out of order as well.  Someone should buy this place and turn it into what it should be.\"\n",
            "\"2\",\"Before I finally made it over to this range I heard the same thing from most people - it's just fine to go work on your swing. I had such a low expectation I was pleasantly surprised. \\n\\nIt's a fairly big range - if you are familiar with Scally's in Moon, it seems like it has almost as many tees, though its not nearly as nice a facility. \\n\\nThe guys in the pro shop were two of the friendlier guys I've come across at ranges or at courses. Yards were indeed marked and there are some targets to aim for, and even some hazards to aim away from. \\n\\nA big red flag to me was the extra charge ($3) to hit off the grass. I am no range expert, but this is the 4th one I've been to and the first I've seen of that sort of nickel and diming....\\n\\nPrice for the golf balls was reasonable and I do plan to be back every week until they close up in October for the season. Hopefully, since its for sale, it will reopen as a golf facility again.\"\n",
            "\"2\",\"I drove by yesterday to get a sneak peak.  It re-opens on July 14th and I can't wait to take my kids.  The new range looks amazing.  The entire range appears to be turf, which may or many not help your game, but it looks really nice.  The tee boxes look state of the art and the club house looks like something you'll see on a newer course.  Can't wait to experience it!\"\n"
          ],
          "name": "stdout"
        }
      ]
    },
    {
      "cell_type": "code",
      "metadata": {
        "id": "QbfciZAYHNBb",
        "outputId": "b0f64137-8242-422a-82c7-c292705c3247",
        "colab": {
          "base_uri": "https://localhost:8080/"
        }
      },
      "source": [
        "!head yelp_review_polarity_csv/test.csv"
      ],
      "execution_count": 7,
      "outputs": [
        {
          "output_type": "stream",
          "text": [
            "\"2\",\"Contrary to other reviews, I have zero complaints about the service or the prices. I have been getting tire service here for the past 5 years now, and compared to my experience with places like Pep Boys, these guys are experienced and know what they're doing. \\nAlso, this is one place that I do not feel like I am being taken advantage of, just because of my gender. Other auto mechanics have been notorious for capitalizing on my ignorance of cars, and have sucked my bank account dry. But here, my service and road coverage has all been well explained - and let up to me to decide. \\nAnd they just renovated the waiting room. It looks a lot better than it did in previous years.\"\n",
            "\"1\",\"Last summer I had an appointment to get new tires and had to wait a super long time. I also went in this week for them to fix a minor problem with a tire they put on. They \\\"\"fixed\\\"\" it for free, and the very next morning I had the same issue. I called to complain, and the \\\"\"manager\\\"\" didn't even apologize!!! So frustrated. Never going back.  They seem overpriced, too.\"\n",
            "\"2\",\"Friendly staff, same starbucks fair you get anywhere else.  Sometimes the lines can get long.\"\n",
            "\"1\",\"The food is good. Unfortunately the service is very hit or miss. The main issue seems to be with the kitchen, the waiters and waitresses are often very apologetic for the long waits and it's pretty obvious that some of them avoid the tables after taking the initial order to avoid hearing complaints.\"\n",
            "\"2\",\"Even when we didn't have a car Filene's Basement was worth the bus trip to the Waterfront. I always find something (usually I find 3-4 things and spend about $60) and better still, I am always still wearing the clothes and shoes 3 months later. \\n\\nI kind of suspect this is the best shopping in Pittsburgh; it's much better than the usual department stores, better than Marshall's and TJ Maxx and better than the Saks downtown, even when it has a sale. Selection, bargains AND quality.\\n\\nI like this Filene's better than Gabriel Brothers, which are harder to get to. Gabriel Brothers are a real discount shopper's challenge and I'm afraid I didn't live in Pittsburgh long enough to develop the necessary skills . . . Filene's was still up and running in June 2007 when I left town.\"\n",
            "\"2\",\"Picture Billy Joel's \\\"\"Piano Man\\\"\" DOUBLED mixed with beer, a rowdy crowd, and comedy - Welcome to Sing Sing!  A unique musical experience found in Homestead.\\n\\nIf you're looking to grab a bite to eat or a beer, come on in!  Serving food and brews from Rock Bottom Brewery, Sing Sing keeps your tummy full while you listen to two (or more) amazingly talented pianists take your musical requests.  They'll play anything you'd like, for tips of course.  Wanting to hear Britney Spears?  Toto?  Duran Duran?  Yep, they play that... new or old.\\n\\nThe crowd makes the show, so make sure you come ready for a good time.  If the crowd is dead, it's harder for the Guys to get a reaction.  If you're wanting to have some fun, it can be a GREAT time!  It's the perfect place for Birthday parties - especially if you want to embarrass a friend.  The guys will bring them up to the pianos and perform a little ditty.  For being a good sport, you get the coveted Sing Sing bumper sticker.  Now who wouldn't want that?\\n\\nDueling Pianos and brews... time to Shut Up & Sing Sing!\"\n",
            "\"1\",\"Mediocre service. COLD food! Our food waited so long the lettuce & pickles wilted. Bland food. Crazy overpriced. Long waits in the arcade. 1 beer per hour maximum.  Avoid at all costs. Fair manager.\"\n",
            "\"1\",\"Ok! Let me tell you about my bad experience first. I went to D&B last night for a post wedding party - which, side note, is a great idea!\\n\\nIt was around midnight and the bar wasn't really populated. There were three bartenders and only one was actually making rounds to see if anyone needed anything. The two other bartenders were chatting on the far side of the bar that no one was sitting at. Kind of counter productive if you ask me. \\n\\nI stood there for about 5 minutes, which for a busy bar is fine but when I am the only one with my card out then, it just seems a little ridiculous. I made eye contact with the one girl twice and gave her a smile and she literally turned away. I finally had to walk to them to get their attention.  I was standing right in front of them smiling and they didn't ask if i need anything. I finally said, \\\"\"Are you working?\\\"\" and they gave each other a weird look. I felt like i was the crazy one. I asked for a beer/got the beer.\\n\\nIn between that time, the other bartender brought food over and set it down. She took a fry from the plate (right in front of me) and then served it to someone on the other side of the bar. What the hell! I felt like i was in some grimy bar in out in the sticks - not an established D&B. \\n\\nI was just really turned off from that experience. \\n\\nThe good is that D&B provides a different type of entertainment when you want to mix things up. I remember going here with my grandparents when I was a kid and it was the best treat ever! We would eat at the restaurant and then spend hours playing games. This place holds some really good memories for me. \\n\\nIt's a shame that my experience last night has spoiled the high standards I held for it.\"\n",
            "\"1\",\"I used to love D&B when it first opened in the Waterfront, but it has gone down hill over the years. The games are not as fun and do not give you as many tickets and the prizes have gotten cheaper in quality. It takes a whole heck of a lot of tickets for you to even get a pencil! The atmosphere is okay but it used to be so much better with the funnest games and diverse groups of people! Now, it is run down and many of the games are app related games (Fruit Ninja) and 3D Experience rides. With such \\\"\"games\\\"\", you can't even earn tickets and they take a lot of tokens! Last time I went, back in the winter, many of the games were broken, which made for a negative player experience. I would go to D&B to play some games again in the future, but it is no longer one of my favorite places to go due to the decline of fun games where you can earn tickets.\"\n",
            "\"2\",\"Like any Barnes & Noble, it has a nice comfy cafe, and a large selection of books.  The staff is very friendly and helpful.  They stock a decent selection, and the prices are pretty reasonable.  Obviously it's hard for them to compete with Amazon.  However since all the small shop bookstores are gone, it's nice to walk into one every once in a while.\"\n"
          ],
          "name": "stdout"
        }
      ]
    },
    {
      "cell_type": "code",
      "metadata": {
        "id": "QHiCXhsTG835",
        "outputId": "4a8b23d1-6690-48ca-f82c-4615e3a9e727",
        "colab": {
          "base_uri": "https://localhost:8080/"
        }
      },
      "source": [
        "!wc -l yelp_review_polarity_csv/train.csv\n",
        "!wc -l yelp_review_polarity_csv/test.csv"
      ],
      "execution_count": 8,
      "outputs": [
        {
          "output_type": "stream",
          "text": [
            "560000 yelp_review_polarity_csv/train.csv\n",
            "38000 yelp_review_polarity_csv/test.csv\n"
          ],
          "name": "stdout"
        }
      ]
    },
    {
      "cell_type": "markdown",
      "metadata": {
        "id": "9YjyMnJOHoSY"
      },
      "source": [
        "## Загружаем данные в память"
      ]
    },
    {
      "cell_type": "markdown",
      "metadata": {
        "id": "C6Hs3NIKKqEB"
      },
      "source": [
        "Читаем данные из файла"
      ]
    },
    {
      "cell_type": "code",
      "metadata": {
        "id": "viAteYU0HakW"
      },
      "source": [
        "train = pd.read_csv('yelp_review_polarity_csv/train.csv', \n",
        "                    header=None, \n",
        "                    names=['Class', 'Review'])"
      ],
      "execution_count": 9,
      "outputs": []
    },
    {
      "cell_type": "code",
      "metadata": {
        "id": "QTbvoCJxKpdr",
        "outputId": "db1b712b-4381-4a02-dffd-7777e77dab2b",
        "colab": {
          "base_uri": "https://localhost:8080/",
          "height": 407
        }
      },
      "source": [
        "train"
      ],
      "execution_count": 10,
      "outputs": [
        {
          "output_type": "execute_result",
          "data": {
            "text/html": [
              "<div>\n",
              "<style scoped>\n",
              "    .dataframe tbody tr th:only-of-type {\n",
              "        vertical-align: middle;\n",
              "    }\n",
              "\n",
              "    .dataframe tbody tr th {\n",
              "        vertical-align: top;\n",
              "    }\n",
              "\n",
              "    .dataframe thead th {\n",
              "        text-align: right;\n",
              "    }\n",
              "</style>\n",
              "<table border=\"1\" class=\"dataframe\">\n",
              "  <thead>\n",
              "    <tr style=\"text-align: right;\">\n",
              "      <th></th>\n",
              "      <th>Class</th>\n",
              "      <th>Review</th>\n",
              "    </tr>\n",
              "  </thead>\n",
              "  <tbody>\n",
              "    <tr>\n",
              "      <th>0</th>\n",
              "      <td>1</td>\n",
              "      <td>Unfortunately, the frustration of being Dr. Go...</td>\n",
              "    </tr>\n",
              "    <tr>\n",
              "      <th>1</th>\n",
              "      <td>2</td>\n",
              "      <td>Been going to Dr. Goldberg for over 10 years. ...</td>\n",
              "    </tr>\n",
              "    <tr>\n",
              "      <th>2</th>\n",
              "      <td>1</td>\n",
              "      <td>I don't know what Dr. Goldberg was like before...</td>\n",
              "    </tr>\n",
              "    <tr>\n",
              "      <th>3</th>\n",
              "      <td>1</td>\n",
              "      <td>I'm writing this review to give you a heads up...</td>\n",
              "    </tr>\n",
              "    <tr>\n",
              "      <th>4</th>\n",
              "      <td>2</td>\n",
              "      <td>All the food is great here. But the best thing...</td>\n",
              "    </tr>\n",
              "    <tr>\n",
              "      <th>...</th>\n",
              "      <td>...</td>\n",
              "      <td>...</td>\n",
              "    </tr>\n",
              "    <tr>\n",
              "      <th>559995</th>\n",
              "      <td>2</td>\n",
              "      <td>Ryan was as good as everyone on yelp has claim...</td>\n",
              "    </tr>\n",
              "    <tr>\n",
              "      <th>559996</th>\n",
              "      <td>2</td>\n",
              "      <td>Professional \\nFriendly\\nOn time AND affordabl...</td>\n",
              "    </tr>\n",
              "    <tr>\n",
              "      <th>559997</th>\n",
              "      <td>1</td>\n",
              "      <td>Phone calls always go to voicemail and message...</td>\n",
              "    </tr>\n",
              "    <tr>\n",
              "      <th>559998</th>\n",
              "      <td>1</td>\n",
              "      <td>Looks like all of the good reviews have gone t...</td>\n",
              "    </tr>\n",
              "    <tr>\n",
              "      <th>559999</th>\n",
              "      <td>2</td>\n",
              "      <td>Ryan Rocks! I called him this morning for some...</td>\n",
              "    </tr>\n",
              "  </tbody>\n",
              "</table>\n",
              "<p>560000 rows × 2 columns</p>\n",
              "</div>"
            ],
            "text/plain": [
              "        Class                                             Review\n",
              "0           1  Unfortunately, the frustration of being Dr. Go...\n",
              "1           2  Been going to Dr. Goldberg for over 10 years. ...\n",
              "2           1  I don't know what Dr. Goldberg was like before...\n",
              "3           1  I'm writing this review to give you a heads up...\n",
              "4           2  All the food is great here. But the best thing...\n",
              "...       ...                                                ...\n",
              "559995      2  Ryan was as good as everyone on yelp has claim...\n",
              "559996      2  Professional \\nFriendly\\nOn time AND affordabl...\n",
              "559997      1  Phone calls always go to voicemail and message...\n",
              "559998      1  Looks like all of the good reviews have gone t...\n",
              "559999      2  Ryan Rocks! I called him this morning for some...\n",
              "\n",
              "[560000 rows x 2 columns]"
            ]
          },
          "metadata": {
            "tags": []
          },
          "execution_count": 10
        }
      ]
    },
    {
      "cell_type": "markdown",
      "metadata": {
        "id": "gA0GvoWDKulp"
      },
      "source": [
        "Выделяем данные для обучения"
      ]
    },
    {
      "cell_type": "code",
      "metadata": {
        "id": "xKdpzAQKLUsh"
      },
      "source": [
        "reviews = train['Review']"
      ],
      "execution_count": 11,
      "outputs": []
    },
    {
      "cell_type": "code",
      "metadata": {
        "id": "3-13xctTLesU",
        "outputId": "6037c3c5-b0be-4a41-82ba-d5a5ad13f44f",
        "colab": {
          "base_uri": "https://localhost:8080/"
        }
      },
      "source": [
        "reviews[:5]"
      ],
      "execution_count": 12,
      "outputs": [
        {
          "output_type": "execute_result",
          "data": {
            "text/plain": [
              "0    Unfortunately, the frustration of being Dr. Go...\n",
              "1    Been going to Dr. Goldberg for over 10 years. ...\n",
              "2    I don't know what Dr. Goldberg was like before...\n",
              "3    I'm writing this review to give you a heads up...\n",
              "4    All the food is great here. But the best thing...\n",
              "Name: Review, dtype: object"
            ]
          },
          "metadata": {
            "tags": []
          },
          "execution_count": 12
        }
      ]
    },
    {
      "cell_type": "markdown",
      "metadata": {
        "id": "EyruZkQeLnPa"
      },
      "source": [
        "Выделяем правильные ответы"
      ]
    },
    {
      "cell_type": "code",
      "metadata": {
        "id": "5t_vJBSyIUoG"
      },
      "source": [
        "y_train = train['Class'] - 1"
      ],
      "execution_count": 13,
      "outputs": []
    },
    {
      "cell_type": "code",
      "metadata": {
        "id": "gmEgMdF5IbZR",
        "outputId": "95a801d4-cf52-4241-8fb5-3442ca0ec24b",
        "colab": {
          "base_uri": "https://localhost:8080/"
        }
      },
      "source": [
        "y_train"
      ],
      "execution_count": 14,
      "outputs": [
        {
          "output_type": "execute_result",
          "data": {
            "text/plain": [
              "0         0\n",
              "1         1\n",
              "2         0\n",
              "3         0\n",
              "4         1\n",
              "         ..\n",
              "559995    1\n",
              "559996    1\n",
              "559997    0\n",
              "559998    0\n",
              "559999    1\n",
              "Name: Class, Length: 560000, dtype: int64"
            ]
          },
          "metadata": {
            "tags": []
          },
          "execution_count": 14
        }
      ]
    },
    {
      "cell_type": "markdown",
      "metadata": {
        "id": "7JuLOCqpLsNL"
      },
      "source": [
        "## Токенизация текста"
      ]
    },
    {
      "cell_type": "code",
      "metadata": {
        "id": "wwF89PAestv0",
        "outputId": "4d5171e7-353a-4017-a636-ac3fe807e55b",
        "colab": {
          "base_uri": "https://localhost:8080/"
        }
      },
      "source": [
        "reviews[:5]"
      ],
      "execution_count": 15,
      "outputs": [
        {
          "output_type": "execute_result",
          "data": {
            "text/plain": [
              "0    Unfortunately, the frustration of being Dr. Go...\n",
              "1    Been going to Dr. Goldberg for over 10 years. ...\n",
              "2    I don't know what Dr. Goldberg was like before...\n",
              "3    I'm writing this review to give you a heads up...\n",
              "4    All the food is great here. But the best thing...\n",
              "Name: Review, dtype: object"
            ]
          },
          "metadata": {
            "tags": []
          },
          "execution_count": 15
        }
      ]
    },
    {
      "cell_type": "markdown",
      "metadata": {
        "id": "DTtBSvAfMusM"
      },
      "source": [
        "Создаем токенизатор Keras"
      ]
    },
    {
      "cell_type": "code",
      "metadata": {
        "id": "x-AUMyjMLw5T"
      },
      "source": [
        "tokenizer = Tokenizer(num_words=num_words)"
      ],
      "execution_count": 16,
      "outputs": []
    },
    {
      "cell_type": "markdown",
      "metadata": {
        "id": "VIxY2pp-M2gw"
      },
      "source": [
        "Обучаем токенизатор на отзывах Yelp"
      ]
    },
    {
      "cell_type": "code",
      "metadata": {
        "id": "RfsqlGJZM7HR"
      },
      "source": [
        "tokenizer.fit_on_texts(reviews)"
      ],
      "execution_count": 17,
      "outputs": []
    },
    {
      "cell_type": "markdown",
      "metadata": {
        "id": "y6PqC28PND82"
      },
      "source": [
        "Просматриваем словарь токенизатора"
      ]
    },
    {
      "cell_type": "code",
      "metadata": {
        "id": "8mWcH0mUMcMU",
        "outputId": "0d537030-99be-4113-9279-66583d95eaed",
        "colab": {
          "base_uri": "https://localhost:8080/"
        }
      },
      "source": [
        "tokenizer.word_index"
      ],
      "execution_count": 18,
      "outputs": [
        {
          "output_type": "execute_result",
          "data": {
            "text/plain": [
              "{'the': 1,\n",
              " 'and': 2,\n",
              " 'i': 3,\n",
              " 'to': 4,\n",
              " 'a': 5,\n",
              " 'was': 6,\n",
              " 'of': 7,\n",
              " 'it': 8,\n",
              " 'for': 9,\n",
              " 'in': 10,\n",
              " 'is': 11,\n",
              " 'n': 12,\n",
              " 'that': 13,\n",
              " 'my': 14,\n",
              " 'we': 15,\n",
              " 'this': 16,\n",
              " 'but': 17,\n",
              " 'with': 18,\n",
              " 'they': 19,\n",
              " 'you': 20,\n",
              " 'on': 21,\n",
              " 'not': 22,\n",
              " 'have': 23,\n",
              " 'had': 24,\n",
              " 'at': 25,\n",
              " 'were': 26,\n",
              " 'so': 27,\n",
              " 'are': 28,\n",
              " 'food': 29,\n",
              " 'be': 30,\n",
              " 'place': 31,\n",
              " 'me': 32,\n",
              " 'there': 33,\n",
              " 'good': 34,\n",
              " 'as': 35,\n",
              " 'out': 36,\n",
              " 'all': 37,\n",
              " 'like': 38,\n",
              " 'if': 39,\n",
              " 'just': 40,\n",
              " 'our': 41,\n",
              " 'very': 42,\n",
              " 'get': 43,\n",
              " 'one': 44,\n",
              " 'here': 45,\n",
              " 'time': 46,\n",
              " 'when': 47,\n",
              " 'up': 48,\n",
              " 'or': 49,\n",
              " 'from': 50,\n",
              " 'great': 51,\n",
              " 'service': 52,\n",
              " 'would': 53,\n",
              " 'back': 54,\n",
              " 'their': 55,\n",
              " 'about': 56,\n",
              " 'no': 57,\n",
              " 'go': 58,\n",
              " 'an': 59,\n",
              " 'what': 60,\n",
              " 'really': 61,\n",
              " 'he': 62,\n",
              " \"it's\": 63,\n",
              " 'she': 64,\n",
              " 'which': 65,\n",
              " 'will': 66,\n",
              " 'some': 67,\n",
              " 'only': 68,\n",
              " 'been': 69,\n",
              " 'us': 70,\n",
              " 'your': 71,\n",
              " 'because': 72,\n",
              " 'more': 73,\n",
              " 'even': 74,\n",
              " 'can': 75,\n",
              " 'them': 76,\n",
              " 'by': 77,\n",
              " \"don't\": 78,\n",
              " 'got': 79,\n",
              " 'other': 80,\n",
              " 'after': 81,\n",
              " 'do': 82,\n",
              " 'nthe': 83,\n",
              " 'also': 84,\n",
              " 'ni': 85,\n",
              " 'too': 86,\n",
              " \"didn't\": 87,\n",
              " 'never': 88,\n",
              " 'ordered': 89,\n",
              " 'did': 90,\n",
              " 'well': 91,\n",
              " 'nice': 92,\n",
              " \"i'm\": 93,\n",
              " 'over': 94,\n",
              " 'has': 95,\n",
              " 'order': 96,\n",
              " 'then': 97,\n",
              " 'went': 98,\n",
              " 'than': 99,\n",
              " 'people': 100,\n",
              " 'could': 101,\n",
              " 'came': 102,\n",
              " 'much': 103,\n",
              " 'restaurant': 104,\n",
              " 'first': 105,\n",
              " 'said': 106,\n",
              " 'her': 107,\n",
              " 'again': 108,\n",
              " 'off': 109,\n",
              " 'little': 110,\n",
              " 'best': 111,\n",
              " \"i've\": 112,\n",
              " 'know': 113,\n",
              " 'better': 114,\n",
              " '2': 115,\n",
              " 'going': 116,\n",
              " 'how': 117,\n",
              " 'who': 118,\n",
              " 'way': 119,\n",
              " 'two': 120,\n",
              " 'try': 121,\n",
              " 'love': 122,\n",
              " 'make': 123,\n",
              " 'come': 124,\n",
              " 'chicken': 125,\n",
              " 'pretty': 126,\n",
              " 'room': 127,\n",
              " 'always': 128,\n",
              " 'staff': 129,\n",
              " 'minutes': 130,\n",
              " 'menu': 131,\n",
              " 'vegas': 132,\n",
              " 'night': 133,\n",
              " 'any': 134,\n",
              " 'bar': 135,\n",
              " 'before': 136,\n",
              " 'experience': 137,\n",
              " 'made': 138,\n",
              " 'down': 139,\n",
              " 'want': 140,\n",
              " 'told': 141,\n",
              " 'think': 142,\n",
              " 'bad': 143,\n",
              " 'am': 144,\n",
              " 'say': 145,\n",
              " 'right': 146,\n",
              " 'day': 147,\n",
              " '5': 148,\n",
              " 'asked': 149,\n",
              " 'still': 150,\n",
              " 'ever': 151,\n",
              " 'take': 152,\n",
              " 'around': 153,\n",
              " 'wait': 154,\n",
              " 'see': 155,\n",
              " 'table': 156,\n",
              " 'another': 157,\n",
              " 'eat': 158,\n",
              " 'new': 159,\n",
              " 'took': 160,\n",
              " 'friendly': 161,\n",
              " 'few': 162,\n",
              " 'give': 163,\n",
              " '3': 164,\n",
              " 'now': 165,\n",
              " 'while': 166,\n",
              " 'since': 167,\n",
              " \"wasn't\": 168,\n",
              " 'sure': 169,\n",
              " 'definitely': 170,\n",
              " 'pizza': 171,\n",
              " 'next': 172,\n",
              " 'being': 173,\n",
              " 'something': 174,\n",
              " 'times': 175,\n",
              " 'cheese': 176,\n",
              " 'his': 177,\n",
              " 'into': 178,\n",
              " 'where': 179,\n",
              " 'most': 180,\n",
              " 'sauce': 181,\n",
              " 'last': 182,\n",
              " 'everything': 183,\n",
              " 'thing': 184,\n",
              " 'find': 185,\n",
              " 'price': 186,\n",
              " 'delicious': 187,\n",
              " 'should': 188,\n",
              " 'many': 189,\n",
              " 'long': 190,\n",
              " 'meal': 191,\n",
              " 'wanted': 192,\n",
              " 'every': 193,\n",
              " 'drinks': 194,\n",
              " 'though': 195,\n",
              " 'salad': 196,\n",
              " 'small': 197,\n",
              " 'location': 198,\n",
              " 'lunch': 199,\n",
              " '1': 200,\n",
              " '10': 201,\n",
              " '4': 202,\n",
              " 'lot': 203,\n",
              " 'check': 204,\n",
              " 'area': 205,\n",
              " 'amazing': 206,\n",
              " 'fresh': 207,\n",
              " \"can't\": 208,\n",
              " 'nothing': 209,\n",
              " 'dinner': 210,\n",
              " 'bit': 211,\n",
              " 'its': 212,\n",
              " 'hotel': 213,\n",
              " 'left': 214,\n",
              " 'work': 215,\n",
              " 'same': 216,\n",
              " 'drink': 217,\n",
              " 'customer': 218,\n",
              " 'big': 219,\n",
              " 'tried': 220,\n",
              " 'hour': 221,\n",
              " 'side': 222,\n",
              " 'both': 223,\n",
              " 'worth': 224,\n",
              " 'looking': 225,\n",
              " 'away': 226,\n",
              " 'why': 227,\n",
              " 'hot': 228,\n",
              " 'him': 229,\n",
              " 'home': 230,\n",
              " 'need': 231,\n",
              " 'store': 232,\n",
              " 'enough': 233,\n",
              " 'server': 234,\n",
              " 'burger': 235,\n",
              " 'recommend': 236,\n",
              " 'stars': 237,\n",
              " \"you're\": 238,\n",
              " 'taste': 239,\n",
              " 'called': 240,\n",
              " 'things': 241,\n",
              " 'quality': 242,\n",
              " \"that's\": 243,\n",
              " 'ok': 244,\n",
              " 'happy': 245,\n",
              " 'different': 246,\n",
              " 'actually': 247,\n",
              " 'money': 248,\n",
              " 'feel': 249,\n",
              " 'anything': 250,\n",
              " 'free': 251,\n",
              " 'thought': 252,\n",
              " 'manager': 253,\n",
              " 'old': 254,\n",
              " 'fries': 255,\n",
              " 'prices': 256,\n",
              " 'these': 257,\n",
              " 'meat': 258,\n",
              " 'look': 259,\n",
              " 'line': 260,\n",
              " 'nwe': 261,\n",
              " 'else': 262,\n",
              " 'friends': 263,\n",
              " 'awesome': 264,\n",
              " 'ask': 265,\n",
              " 'found': 266,\n",
              " 'sushi': 267,\n",
              " 'decided': 268,\n",
              " 'looked': 269,\n",
              " 'top': 270,\n",
              " 'put': 271,\n",
              " 'once': 272,\n",
              " 'maybe': 273,\n",
              " 'years': 274,\n",
              " 'probably': 275,\n",
              " 'front': 276,\n",
              " 'however': 277,\n",
              " 'pay': 278,\n",
              " 'flavor': 279,\n",
              " 'half': 280,\n",
              " 'full': 281,\n",
              " 'done': 282,\n",
              " 'car': 283,\n",
              " 'sandwich': 284,\n",
              " 'visit': 285,\n",
              " 'clean': 286,\n",
              " 'getting': 287,\n",
              " 'review': 288,\n",
              " 'places': 289,\n",
              " 'call': 290,\n",
              " 'waitress': 291,\n",
              " 'through': 292,\n",
              " 'beer': 293,\n",
              " 'water': 294,\n",
              " 'friend': 295,\n",
              " 'show': 296,\n",
              " 'business': 297,\n",
              " 'least': 298,\n",
              " 'used': 299,\n",
              " '20': 300,\n",
              " 'special': 301,\n",
              " 'stay': 302,\n",
              " 'favorite': 303,\n",
              " 'each': 304,\n",
              " 'bread': 305,\n",
              " 'finally': 306,\n",
              " 'sweet': 307,\n",
              " 'coffee': 308,\n",
              " 'steak': 309,\n",
              " 'star': 310,\n",
              " 'let': 311,\n",
              " 'rice': 312,\n",
              " 'breakfast': 313,\n",
              " 'kind': 314,\n",
              " 'super': 315,\n",
              " 'gave': 316,\n",
              " 'waiting': 317,\n",
              " '30': 318,\n",
              " 'those': 319,\n",
              " 'tell': 320,\n",
              " 'tasted': 321,\n",
              " 'inside': 322,\n",
              " 'huge': 323,\n",
              " 'strip': 324,\n",
              " 'use': 325,\n",
              " 'almost': 326,\n",
              " 'open': 327,\n",
              " 'someone': 328,\n",
              " 'without': 329,\n",
              " 'later': 330,\n",
              " 'dish': 331,\n",
              " 'hard': 332,\n",
              " 'excellent': 333,\n",
              " 'quite': 334,\n",
              " 'fried': 335,\n",
              " 'reviews': 336,\n",
              " 'disappointed': 337,\n",
              " 'high': 338,\n",
              " 'having': 339,\n",
              " 'large': 340,\n",
              " 'far': 341,\n",
              " 'selection': 342,\n",
              " 'couple': 343,\n",
              " \"couldn't\": 344,\n",
              " 'coming': 345,\n",
              " 'beef': 346,\n",
              " 'person': 347,\n",
              " 'care': 348,\n",
              " 'atmosphere': 349,\n",
              " 'buffet': 350,\n",
              " 'house': 351,\n",
              " 'tasty': 352,\n",
              " 'busy': 353,\n",
              " 'everyone': 354,\n",
              " 'fun': 355,\n",
              " 'served': 356,\n",
              " 'walked': 357,\n",
              " 'guy': 358,\n",
              " 'outside': 359,\n",
              " 'hours': 360,\n",
              " 'soup': 361,\n",
              " 'trying': 362,\n",
              " '15': 363,\n",
              " \"i'd\": 364,\n",
              " 'tables': 365,\n",
              " 'wrong': 366,\n",
              " 'end': 367,\n",
              " 'until': 368,\n",
              " 'husband': 369,\n",
              " 'town': 370,\n",
              " 'wine': 371,\n",
              " \"won't\": 372,\n",
              " 'eating': 373,\n",
              " 'seemed': 374,\n",
              " 'whole': 375,\n",
              " \"i'll\": 376,\n",
              " 'part': 377,\n",
              " 'three': 378,\n",
              " 'less': 379,\n",
              " 'items': 380,\n",
              " 'such': 381,\n",
              " 'waiter': 382,\n",
              " 'fish': 383,\n",
              " 'worst': 384,\n",
              " 'cold': 385,\n",
              " 'cooked': 386,\n",
              " 'walk': 387,\n",
              " 'perfect': 388,\n",
              " 'instead': 389,\n",
              " '6': 390,\n",
              " 'family': 391,\n",
              " 'usually': 392,\n",
              " 'decent': 393,\n",
              " 'door': 394,\n",
              " 'must': 395,\n",
              " 'waited': 396,\n",
              " 'cream': 397,\n",
              " \"doesn't\": 398,\n",
              " 'horrible': 399,\n",
              " 'during': 400,\n",
              " 'rude': 401,\n",
              " 'week': 402,\n",
              " 'brought': 403,\n",
              " 'point': 404,\n",
              " 'either': 405,\n",
              " 'does': 406,\n",
              " 'restaurants': 407,\n",
              " 'close': 408,\n",
              " 'cool': 409,\n",
              " 'needed': 410,\n",
              " 'felt': 411,\n",
              " 'second': 412,\n",
              " 'shrimp': 413,\n",
              " 'dishes': 414,\n",
              " 'extra': 415,\n",
              " 'several': 416,\n",
              " 'plate': 417,\n",
              " 'deal': 418,\n",
              " 'music': 419,\n",
              " 'year': 420,\n",
              " 'course': 421,\n",
              " 'started': 422,\n",
              " 'enjoy': 423,\n",
              " 'pork': 424,\n",
              " 'days': 425,\n",
              " 'help': 426,\n",
              " 'party': 427,\n",
              " 'oh': 428,\n",
              " 'arrived': 429,\n",
              " \"isn't\": 430,\n",
              " 'shop': 431,\n",
              " 'saw': 432,\n",
              " 'ice': 433,\n",
              " 'spot': 434,\n",
              " 'reason': 435,\n",
              " 'customers': 436,\n",
              " 'may': 437,\n",
              " 'sat': 438,\n",
              " 'own': 439,\n",
              " 'yes': 440,\n",
              " 'leave': 441,\n",
              " 'especially': 442,\n",
              " 'name': 443,\n",
              " 'loved': 444,\n",
              " 'nmy': 445,\n",
              " 'phone': 446,\n",
              " 'fast': 447,\n",
              " 'owner': 448,\n",
              " 'dining': 449,\n",
              " \"wouldn't\": 450,\n",
              " 'guess': 451,\n",
              " 'cheap': 452,\n",
              " 'job': 453,\n",
              " 'keep': 454,\n",
              " 'wife': 455,\n",
              " 'dessert': 456,\n",
              " 'return': 457,\n",
              " 'bring': 458,\n",
              " 'might': 459,\n",
              " 'problem': 460,\n",
              " 'comes': 461,\n",
              " 'terrible': 462,\n",
              " 'able': 463,\n",
              " 'yelp': 464,\n",
              " 'seated': 465,\n",
              " 'fine': 466,\n",
              " 'sit': 467,\n",
              " 'group': 468,\n",
              " 'paid': 469,\n",
              " 'dry': 470,\n",
              " 'spicy': 471,\n",
              " 'makes': 472,\n",
              " 'enjoyed': 473,\n",
              " 'already': 474,\n",
              " 'kids': 475,\n",
              " 'anyone': 476,\n",
              " 'red': 477,\n",
              " \"there's\": 478,\n",
              " '8': 479,\n",
              " 'stop': 480,\n",
              " 'parking': 481,\n",
              " 'las': 482,\n",
              " 'fact': 483,\n",
              " 'yet': 484,\n",
              " 'expect': 485,\n",
              " 'bill': 486,\n",
              " 'plus': 487,\n",
              " 'okay': 488,\n",
              " 'floor': 489,\n",
              " 'real': 490,\n",
              " 'today': 491,\n",
              " 'quick': 492,\n",
              " 'myself': 493,\n",
              " 'extremely': 494,\n",
              " 'absolutely': 495,\n",
              " '7': 496,\n",
              " 'start': 497,\n",
              " 'chocolate': 498,\n",
              " 'club': 499,\n",
              " 'drive': 500,\n",
              " 'cut': 501,\n",
              " 'expensive': 502,\n",
              " 'chips': 503,\n",
              " 'late': 504,\n",
              " 'overall': 505,\n",
              " 'ate': 506,\n",
              " 'pool': 507,\n",
              " 'stuff': 508,\n",
              " 'slow': 509,\n",
              " 'ago': 510,\n",
              " 'guys': 511,\n",
              " '50': 512,\n",
              " 'hair': 513,\n",
              " 'working': 514,\n",
              " 'charge': 515,\n",
              " 'card': 516,\n",
              " 'rooms': 517,\n",
              " 'offer': 518,\n",
              " 'seems': 519,\n",
              " 'doing': 520,\n",
              " 'buy': 521,\n",
              " 'options': 522,\n",
              " 'live': 523,\n",
              " 'ended': 524,\n",
              " 'tea': 525,\n",
              " 'fan': 526,\n",
              " 'roll': 527,\n",
              " 'nthis': 528,\n",
              " 'although': 529,\n",
              " 'rather': 530,\n",
              " 'trip': 531,\n",
              " 'local': 532,\n",
              " 'street': 533,\n",
              " 'sitting': 534,\n",
              " 'size': 535,\n",
              " 'making': 536,\n",
              " 'kitchen': 537,\n",
              " 'mexican': 538,\n",
              " 'style': 539,\n",
              " 'given': 540,\n",
              " 'wonderful': 541,\n",
              " 'bland': 542,\n",
              " 'tacos': 543,\n",
              " 'pick': 544,\n",
              " 'wish': 545,\n",
              " 'past': 546,\n",
              " 'seen': 547,\n",
              " 'rolls': 548,\n",
              " 'helpful': 549,\n",
              " 'bacon': 550,\n",
              " 'liked': 551,\n",
              " 'completely': 552,\n",
              " 'counter': 553,\n",
              " 'seem': 554,\n",
              " 'fantastic': 555,\n",
              " 'casino': 556,\n",
              " 'short': 557,\n",
              " 'etc': 558,\n",
              " 'decor': 559,\n",
              " 'girl': 560,\n",
              " 'regular': 561,\n",
              " 'looks': 562,\n",
              " 'run': 563,\n",
              " 'poor': 564,\n",
              " 'under': 565,\n",
              " 'believe': 566,\n",
              " 'mind': 567,\n",
              " \"they're\": 568,\n",
              " 'company': 569,\n",
              " 'dog': 570,\n",
              " 'thai': 571,\n",
              " 'morning': 572,\n",
              " 'highly': 573,\n",
              " 'amount': 574,\n",
              " 'entire': 575,\n",
              " 'change': 576,\n",
              " 'non': 577,\n",
              " 'tip': 578,\n",
              " 'received': 579,\n",
              " 'lots': 580,\n",
              " 'ready': 581,\n",
              " 'employees': 582,\n",
              " 'average': 583,\n",
              " 'white': 584,\n",
              " 'lady': 585,\n",
              " 'green': 586,\n",
              " 'twice': 587,\n",
              " 'impressed': 588,\n",
              " 'gone': 589,\n",
              " 'man': 590,\n",
              " '00': 591,\n",
              " 'kept': 592,\n",
              " 'heard': 593,\n",
              " 'set': 594,\n",
              " 'soon': 595,\n",
              " 'empty': 596,\n",
              " 'cake': 597,\n",
              " 'crab': 598,\n",
              " 'between': 599,\n",
              " 'taking': 600,\n",
              " 'bbq': 601,\n",
              " 'saturday': 602,\n",
              " 'seriously': 603,\n",
              " 'behind': 604,\n",
              " 'glass': 605,\n",
              " 'list': 606,\n",
              " 'understand': 607,\n",
              " 'serve': 608,\n",
              " 'portions': 609,\n",
              " 'early': 610,\n",
              " 'quickly': 611,\n",
              " 'offered': 612,\n",
              " 'light': 613,\n",
              " 'desk': 614,\n",
              " 'rest': 615,\n",
              " 'wings': 616,\n",
              " 'four': 617,\n",
              " 'warm': 618,\n",
              " 'burgers': 619,\n",
              " 'beautiful': 620,\n",
              " 'gets': 621,\n",
              " 'mean': 622,\n",
              " 'priced': 623,\n",
              " 'weekend': 624,\n",
              " 'easy': 625,\n",
              " 'stayed': 626,\n",
              " 'nthey': 627,\n",
              " 'life': 628,\n",
              " 'saying': 629,\n",
              " 'chinese': 630,\n",
              " 'nif': 631,\n",
              " 'months': 632,\n",
              " 'dirty': 633,\n",
              " 'sorry': 634,\n",
              " 'knew': 635,\n",
              " \"weren't\": 636,\n",
              " 'needs': 637,\n",
              " 'remember': 638,\n",
              " 'cost': 639,\n",
              " 'salsa': 640,\n",
              " 'nso': 641,\n",
              " 'totally': 642,\n",
              " 'walking': 643,\n",
              " 'office': 644,\n",
              " 'main': 645,\n",
              " 'across': 646,\n",
              " '12': 647,\n",
              " 'appetizer': 648,\n",
              " 'egg': 649,\n",
              " 'french': 650,\n",
              " 'seating': 651,\n",
              " 'potatoes': 652,\n",
              " 'view': 653,\n",
              " 'choice': 654,\n",
              " 'eggs': 655,\n",
              " 'phoenix': 656,\n",
              " 'near': 657,\n",
              " 'stopped': 658,\n",
              " 'available': 659,\n",
              " 'de': 660,\n",
              " 'please': 661,\n",
              " 'itself': 662,\n",
              " 'pasta': 663,\n",
              " 'orders': 664,\n",
              " 'hand': 665,\n",
              " 'bite': 666,\n",
              " 'type': 667,\n",
              " 'often': 668,\n",
              " 'bartender': 669,\n",
              " '9': 670,\n",
              " 'read': 671,\n",
              " 'add': 672,\n",
              " 'attentive': 673,\n",
              " 'others': 674,\n",
              " 'la': 675,\n",
              " 'sign': 676,\n",
              " 'ordering': 677,\n",
              " 'italian': 678,\n",
              " 'paying': 679,\n",
              " 'patio': 680,\n",
              " 'flavors': 681,\n",
              " 'plenty': 682,\n",
              " 'beans': 683,\n",
              " 'potato': 684,\n",
              " 'due': 685,\n",
              " 'expected': 686,\n",
              " 'spend': 687,\n",
              " 'noticed': 688,\n",
              " 'hit': 689,\n",
              " 'sandwiches': 690,\n",
              " 'evening': 691,\n",
              " 'awful': 692,\n",
              " 'sunday': 693,\n",
              " 'taken': 694,\n",
              " 'says': 695,\n",
              " 'bowl': 696,\n",
              " 'watch': 697,\n",
              " 'reasonable': 698,\n",
              " '25': 699,\n",
              " 'chef': 700,\n",
              " \"you'll\": 701,\n",
              " 'servers': 702,\n",
              " 'head': 703,\n",
              " 'garlic': 704,\n",
              " 'perfectly': 705,\n",
              " 'yummy': 706,\n",
              " 'unfortunately': 707,\n",
              " 'along': 708,\n",
              " 'portion': 709,\n",
              " 'literally': 710,\n",
              " 'giving': 711,\n",
              " 'number': 712,\n",
              " 'simple': 713,\n",
              " 'black': 714,\n",
              " 'talk': 715,\n",
              " 'none': 716,\n",
              " 'idea': 717,\n",
              " 'five': 718,\n",
              " 'wow': 719,\n",
              " 'girls': 720,\n",
              " 'friday': 721,\n",
              " 'weeks': 722,\n",
              " 'variety': 723,\n",
              " 'eaten': 724,\n",
              " 'loud': 725,\n",
              " 'checked': 726,\n",
              " 'overpriced': 727,\n",
              " 'appointment': 728,\n",
              " 'birthday': 729,\n",
              " 'unless': 730,\n",
              " 'mediocre': 731,\n",
              " 'grilled': 732,\n",
              " 'together': 733,\n",
              " 'minute': 734,\n",
              " 'bought': 735,\n",
              " 'oil': 736,\n",
              " 'charged': 737,\n",
              " 'game': 738,\n",
              " 'bathroom': 739,\n",
              " 'boyfriend': 740,\n",
              " 'closed': 741,\n",
              " 'hope': 742,\n",
              " 'opened': 743,\n",
              " 'packed': 744,\n",
              " 'spent': 745,\n",
              " 'reservation': 746,\n",
              " 'yourself': 747,\n",
              " 'total': 748,\n",
              " 'credit': 749,\n",
              " 'talking': 750,\n",
              " 'taco': 751,\n",
              " 'turned': 752,\n",
              " 'month': 753,\n",
              " 'excited': 754,\n",
              " 'happened': 755,\n",
              " 'low': 756,\n",
              " 'hungry': 757,\n",
              " 'piece': 758,\n",
              " 'longer': 759,\n",
              " 'space': 760,\n",
              " 'surprised': 761,\n",
              " 'management': 762,\n",
              " 'immediately': 763,\n",
              " 'moved': 764,\n",
              " 'thank': 765,\n",
              " '40': 766,\n",
              " 'pieces': 767,\n",
              " 'butter': 768,\n",
              " 'nit': 769,\n",
              " 'city': 770,\n",
              " 'comfortable': 771,\n",
              " 'hostess': 772,\n",
              " 'seafood': 773,\n",
              " \"haven't\": 774,\n",
              " 'bottle': 775,\n",
              " 'issue': 776,\n",
              " 'ones': 777,\n",
              " 'lobster': 778,\n",
              " '45': 779,\n",
              " 'crispy': 780,\n",
              " 'based': 781,\n",
              " 'per': 782,\n",
              " 'located': 783,\n",
              " 'choose': 784,\n",
              " 'seat': 785,\n",
              " 'sometimes': 786,\n",
              " 'salmon': 787,\n",
              " 'middle': 788,\n",
              " 'hear': 789,\n",
              " 'cup': 790,\n",
              " 'bed': 791,\n",
              " 'thanks': 792,\n",
              " 'medium': 793,\n",
              " 'waste': 794,\n",
              " 'within': 795,\n",
              " 'plates': 796,\n",
              " 'disappointing': 797,\n",
              " 'crowd': 798,\n",
              " 'somewhere': 799,\n",
              " 'prepared': 800,\n",
              " 'frozen': 801,\n",
              " 'case': 802,\n",
              " 'simply': 803,\n",
              " 'world': 804,\n",
              " 'noodles': 805,\n",
              " 'feeling': 806,\n",
              " 'glad': 807,\n",
              " 'worse': 808,\n",
              " 'beers': 809,\n",
              " 'hands': 810,\n",
              " 'chance': 811,\n",
              " 'including': 812,\n",
              " 'attitude': 813,\n",
              " 'play': 814,\n",
              " 'ingredients': 815,\n",
              " 'recently': 816,\n",
              " 'goes': 817,\n",
              " 'mention': 818,\n",
              " 'asking': 819,\n",
              " 'supposed': 820,\n",
              " 'mouth': 821,\n",
              " 'park': 822,\n",
              " 'center': 823,\n",
              " 'burrito': 824,\n",
              " 'fix': 825,\n",
              " 'onion': 826,\n",
              " 'salty': 827,\n",
              " 'exactly': 828,\n",
              " 'cafe': 829,\n",
              " 'upon': 830,\n",
              " 'w': 831,\n",
              " 'basically': 832,\n",
              " 'filled': 833,\n",
              " '11': 834,\n",
              " 'stand': 835,\n",
              " 'meals': 836,\n",
              " \"aren't\": 837,\n",
              " 'crowded': 838,\n",
              " 'anywhere': 839,\n",
              " 'brunch': 840,\n",
              " 'takes': 841,\n",
              " 'shopping': 842,\n",
              " 'showed': 843,\n",
              " 'recommended': 844,\n",
              " 'except': 845,\n",
              " 'pho': 846,\n",
              " 'nwhen': 847,\n",
              " 'move': 848,\n",
              " 'noverall': 849,\n",
              " 'hate': 850,\n",
              " 'staying': 851,\n",
              " '99': 852,\n",
              " 'honestly': 853,\n",
              " 'scottsdale': 854,\n",
              " 'sad': 855,\n",
              " 'attention': 856,\n",
              " 'choices': 857,\n",
              " 'whatever': 858,\n",
              " '100': 859,\n",
              " 'wall': 860,\n",
              " 'lost': 861,\n",
              " 'added': 862,\n",
              " 'box': 863,\n",
              " 'ambiance': 864,\n",
              " 'option': 865,\n",
              " 'appetizers': 866,\n",
              " 'mac': 867,\n",
              " 'apparently': 868,\n",
              " 'changed': 869,\n",
              " 'date': 870,\n",
              " 'lack': 871,\n",
              " 'tiny': 872,\n",
              " 'thinking': 873,\n",
              " 'pricey': 874,\n",
              " 'anyway': 875,\n",
              " 'avoid': 876,\n",
              " 'write': 877,\n",
              " 'save': 878,\n",
              " 'mall': 879,\n",
              " 'sent': 880,\n",
              " 'crust': 881,\n",
              " 'mine': 882,\n",
              " 'interesting': 883,\n",
              " 'finish': 884,\n",
              " 'tomato': 885,\n",
              " 'specials': 886,\n",
              " 'worked': 887,\n",
              " 'face': 888,\n",
              " 'pleasant': 889,\n",
              " 'flavorful': 890,\n",
              " 'asian': 891,\n",
              " 'weird': 892,\n",
              " 'authentic': 893,\n",
              " 'online': 894,\n",
              " 'cute': 895,\n",
              " 'cook': 896,\n",
              " 'dark': 897,\n",
              " 'cannot': 898,\n",
              " 'tuna': 899,\n",
              " 'delivery': 900,\n",
              " 'professional': 901,\n",
              " 'cash': 902,\n",
              " 'single': 903,\n",
              " 'soft': 904,\n",
              " 'level': 905,\n",
              " 'salt': 906,\n",
              " 'woman': 907,\n",
              " 'forward': 908,\n",
              " 'above': 909,\n",
              " 'rib': 910,\n",
              " 'barely': 911,\n",
              " 'finished': 912,\n",
              " 'sausage': 913,\n",
              " 'eye': 914,\n",
              " 'greeted': 915,\n",
              " 'dollars': 916,\n",
              " 'thin': 917,\n",
              " 'greasy': 918,\n",
              " 'tender': 919,\n",
              " 'bucks': 920,\n",
              " 'obviously': 921,\n",
              " 'sides': 922,\n",
              " 'bag': 923,\n",
              " 'sort': 924,\n",
              " 'note': 925,\n",
              " 'nails': 926,\n",
              " 'downtown': 927,\n",
              " 'tasting': 928,\n",
              " 'standard': 929,\n",
              " 'item': 930,\n",
              " 'min': 931,\n",
              " 'massage': 932,\n",
              " 'dance': 933,\n",
              " 'lettuce': 934,\n",
              " 'clearly': 935,\n",
              " 'seats': 936,\n",
              " 'running': 937,\n",
              " 'serving': 938,\n",
              " 'dr': 939,\n",
              " 'tv': 940,\n",
              " 'leaving': 941,\n",
              " 'u00e9': 942,\n",
              " 'miss': 943,\n",
              " 'crazy': 944,\n",
              " 'corn': 945,\n",
              " 'ribs': 946,\n",
              " 'forgot': 947,\n",
              " 'dogs': 948,\n",
              " 'onions': 949,\n",
              " 'unique': 950,\n",
              " 'school': 951,\n",
              " 'picked': 952,\n",
              " 'truly': 953,\n",
              " 'matter': 954,\n",
              " 'airport': 955,\n",
              " 'treat': 956,\n",
              " 'yeah': 957,\n",
              " 'turn': 958,\n",
              " 'mix': 959,\n",
              " 'joint': 960,\n",
              " 'dressing': 961,\n",
              " 'curry': 962,\n",
              " 'share': 963,\n",
              " 'book': 964,\n",
              " 'entrees': 965,\n",
              " 'establishment': 966,\n",
              " 'nservice': 967,\n",
              " 'dont': 968,\n",
              " 'section': 969,\n",
              " 'young': 970,\n",
              " 'groupon': 971,\n",
              " 'rare': 972,\n",
              " 'salads': 973,\n",
              " 'elsewhere': 974,\n",
              " 'pass': 975,\n",
              " 'speak': 976,\n",
              " 'fair': 977,\n",
              " 'expecting': 978,\n",
              " 'valley': 979,\n",
              " 'salon': 980,\n",
              " \"we're\": 981,\n",
              " 'gross': 982,\n",
              " 'employee': 983,\n",
              " 'certainly': 984,\n",
              " 'b': 985,\n",
              " 'playing': 986,\n",
              " 'value': 987,\n",
              " 'tastes': 988,\n",
              " 'ridiculous': 989,\n",
              " 'nas': 990,\n",
              " 'nthere': 991,\n",
              " 'mentioned': 992,\n",
              " 'fee': 993,\n",
              " 'station': 994,\n",
              " 'veggies': 995,\n",
              " 'afternoon': 996,\n",
              " 'entree': 997,\n",
              " 'window': 998,\n",
              " 'using': 999,\n",
              " 'issues': 1000,\n",
              " ...}"
            ]
          },
          "metadata": {
            "tags": []
          },
          "execution_count": 18
        }
      ]
    },
    {
      "cell_type": "markdown",
      "metadata": {
        "id": "s_nyPsVLNW-f"
      },
      "source": [
        "Преобразуем отзывы Yelp в числовое представление"
      ]
    },
    {
      "cell_type": "code",
      "metadata": {
        "id": "bMZ6e-zEJHr1"
      },
      "source": [
        "sequences = tokenizer.texts_to_sequences(reviews)"
      ],
      "execution_count": 19,
      "outputs": []
    },
    {
      "cell_type": "markdown",
      "metadata": {
        "id": "aZ_NJ2SlNwMI"
      },
      "source": [
        "Просматриваем отзывы в числовом представлении"
      ]
    },
    {
      "cell_type": "code",
      "metadata": {
        "id": "xIUJvjguN0S0",
        "outputId": "c4b44221-10b0-4c3d-8d7f-13d357960389",
        "colab": {
          "base_uri": "https://localhost:8080/"
        }
      },
      "source": [
        "index = 0\n",
        "print(reviews[index])\n",
        "print(sequences[index])"
      ],
      "execution_count": 20,
      "outputs": [
        {
          "output_type": "stream",
          "text": [
            "Unfortunately, the frustration of being Dr. Goldberg's patient is a repeat of the experience I've had with so many other doctors in NYC -- good doctor, terrible staff.  It seems that his staff simply never answers the phone.  It usually takes 2 hours of repeated calling to get an answer.  Who has time for that or wants to deal with it?  I have run into this problem with many other doctors and I just don't get it.  You have office workers, you have patients with medical needs, why isn't anyone answering the phone?  It's incomprehensible and not work the aggravation.  It's with regret that I feel that I have to give Dr. Goldberg 2 stars.\n",
            "[707, 1, 4339, 7, 173, 939, 1665, 11, 5, 2161, 7, 1, 137, 112, 24, 18, 27, 189, 80, 3128, 10, 2636, 34, 1416, 462, 129, 8, 519, 13, 177, 129, 803, 88, 3812, 1, 446, 8, 392, 841, 115, 360, 7, 4136, 1438, 4, 43, 59, 1266, 118, 95, 46, 9, 13, 49, 1687, 4, 418, 18, 8, 3, 23, 563, 178, 16, 460, 18, 189, 80, 3128, 2, 3, 40, 78, 43, 8, 20, 23, 644, 1343, 20, 23, 3252, 18, 2921, 637, 227, 430, 476, 4312, 1, 446, 63, 2, 22, 215, 1, 63, 18, 2269, 13, 3, 249, 13, 3, 23, 4, 163, 939, 115, 237]\n"
          ],
          "name": "stdout"
        }
      ]
    },
    {
      "cell_type": "code",
      "metadata": {
        "id": "sQn0O5kBtmyJ",
        "outputId": "54dbeb59-c163-4a7d-fedf-010076dba68e",
        "colab": {
          "base_uri": "https://localhost:8080/"
        }
      },
      "source": [
        "tokenizer.word_index['frustration']"
      ],
      "execution_count": 21,
      "outputs": [
        {
          "output_type": "execute_result",
          "data": {
            "text/plain": [
              "4339"
            ]
          },
          "metadata": {
            "tags": []
          },
          "execution_count": 21
        }
      ]
    },
    {
      "cell_type": "markdown",
      "metadata": {
        "id": "neSZfrw3OYPx"
      },
      "source": [
        "Ограничиваем длину отзывов"
      ]
    },
    {
      "cell_type": "code",
      "metadata": {
        "id": "ZGLpcETkN3ex"
      },
      "source": [
        "x_train = pad_sequences(sequences, maxlen=max_review_len)"
      ],
      "execution_count": 22,
      "outputs": []
    },
    {
      "cell_type": "code",
      "metadata": {
        "id": "mPW1VACmOrrm",
        "outputId": "cd1c5434-c639-43f1-ae55-8f4dfee48c8b",
        "colab": {
          "base_uri": "https://localhost:8080/"
        }
      },
      "source": [
        "x_train[:5]"
      ],
      "execution_count": 23,
      "outputs": [
        {
          "output_type": "execute_result",
          "data": {
            "text/plain": [
              "array([[   7,    1,  137,  112,   24,   18,   27,  189,   80, 3128,   10,\n",
              "        2636,   34, 1416,  462,  129,    8,  519,   13,  177,  129,  803,\n",
              "          88, 3812,    1,  446,    8,  392,  841,  115,  360,    7, 4136,\n",
              "        1438,    4,   43,   59, 1266,  118,   95,   46,    9,   13,   49,\n",
              "        1687,    4,  418,   18,    8,    3,   23,  563,  178,   16,  460,\n",
              "          18,  189,   80, 3128,    2,    3,   40,   78,   43,    8,   20,\n",
              "          23,  644, 1343,   20,   23, 3252,   18, 2921,  637,  227,  430,\n",
              "         476, 4312,    1,  446,   63,    2,   22,  215,    1,   63,   18,\n",
              "        2269,   13,    3,  249,   13,    3,   23,    4,  163,  939,  115,\n",
              "         237],\n",
              "       [   0,    0,    0,    0,    0,    0,    0,    0,    0,   69,  116,\n",
              "           4,  939,    9,   94,  201,  274,    3,  142,    3,    6,   44,\n",
              "           7,  177, 2084, 3252,   47,   62,  422,   25, 1334,   69,   51,\n",
              "          94,    1,  274,    2,   11,   61,   37,   56,    1,  219, 1403,\n",
              "           8,   11,   72,    7,  229,   22,   14,  165, 3092,  939,   13,\n",
              "           3,  266,   36,    3,   23,   62,   37,  522,   18,   20,    2,\n",
              "          11,   42, 1665,    2, 3122,   62,  398, 2902,    2, 2436,   37,\n",
              "           1,  146, 1047,   42, 3518,    2, 1687,    4,   30,  592,   10,\n",
              "           1, 7046,   21,  193, 3940,    7,   71, 2921, 1654,    2,   71,\n",
              "         628],\n",
              "       [ 644, 2038,  271,   20,  292,    4,    5, 2461, 2226,   13,   57,\n",
              "          44,  151, 3812,   49, 4713,   71,  290,  223,   14, 2469, 1532,\n",
              "           2,  369,   23,  268,    4,  441,   16, 2382,   81, 5428,  381,\n",
              "        4339,    1,  575,  644,   95,   59,  813,   38,   19,   28,  520,\n",
              "          20,    5, 1814,  163,   32,    5, 1176,  302,  226,   50,   16,\n",
              "        6497,    2,    1, 2382,   20, 2282,  114,    2,   19,   66,   22,\n",
              "          30,   33,   47,   20,   61,  231,   76,    3,   23,   88,  411,\n",
              "        5882,    4,  877,    5,  143,  288,   56,  476,  368,    3, 1251,\n",
              "          16, 3188, 1525,    9,    5, 1416,  118,   11,   37,   56,    1,\n",
              "         248],\n",
              "       [  79,    1, 5005,  282,  330,    3,  266,   36,   14, 1654, 1476,\n",
              "         398,  278,    9, 1528,    3,  579,   59, 4613,  591,  486,    9,\n",
              "           1, 2201,  215,    3,  208,  278,    9,   14,  486,   72,   93,\n",
              "           5, 2588,    2,   78,   23,  134,  902, 4239,   25,   16, 2618,\n",
              "          46,    3,  208,  566,    1, 1416,  450,  163,   32,    5, 2816,\n",
              "          48,    4,  123,  169,   14, 1476,   53, 1208,  215,   13,  168,\n",
              "        2597,    2,    6, 5422,    1,  644,  208,   82,  250,    4,  426,\n",
              "          32, 1208,    1,  486,   10, 1315,    1,  644,  129,  106,    1,\n",
              "          11,   21,   32,    4,  123,  169,   14, 1476, 4121, 1528, 2945,\n",
              "        1143],\n",
              "       [   0,    0,    0,    0,    0,    0,    0,    0,    0,    0,    0,\n",
              "           0,    0,    0,    0,    0,    0,    0,    0,    0,    0,    0,\n",
              "           0,    0,    0,    0,   37,    1,   29,   11,   51,   45,   17,\n",
              "           1,  111,  184,   19,   23,   11,   55,  616,   55,  616,   28,\n",
              "         803,  555,    1, 1916, 2729,   28,   77,    1,  111,  180, 1676,\n",
              "           3,   84,   38,    1, 1177,  906,  616, 2689,  133,   11, 1355,\n",
              "        2034,  133, 1853, 1757,  375,  616,   12,   83,  449,  205,   11,\n",
              "          92,   42,  391,  161,    1,  135,   11,   42,   92,   11,   91,\n",
              "          16,   31,   11,  953,    5, 3009, 1419, 2080,   53,  122,   16,\n",
              "          31]], dtype=int32)"
            ]
          },
          "metadata": {
            "tags": []
          },
          "execution_count": 23
        }
      ]
    },
    {
      "cell_type": "markdown",
      "metadata": {
        "id": "ypBYfEwvO0c4"
      },
      "source": [
        "## Создаем нейронную сеть"
      ]
    },
    {
      "cell_type": "code",
      "metadata": {
        "id": "8ETORhRkOtIn"
      },
      "source": [
        "model = Sequential()\n",
        "model.add(Embedding(num_words, 64, input_length=max_review_len))\n",
        "model.add(LSTM(128))\n",
        "model.add(Dense(1, activation='sigmoid'))"
      ],
      "execution_count": 24,
      "outputs": []
    },
    {
      "cell_type": "code",
      "metadata": {
        "id": "rzds0iUgPLwS"
      },
      "source": [
        "model.compile(optimizer='adam', \n",
        "              loss='binary_crossentropy', \n",
        "              metrics=['accuracy'])"
      ],
      "execution_count": 25,
      "outputs": []
    },
    {
      "cell_type": "markdown",
      "metadata": {
        "id": "qf4f6-skPPsb"
      },
      "source": [
        "## Обучаем нейронную сеть"
      ]
    },
    {
      "cell_type": "markdown",
      "metadata": {
        "id": "GYw-jNpW9-40"
      },
      "source": [
        "Создаем callback для сохранения нейронной сети на каждой эпохе, если качество работы на проверочном наборе данных улучшилось. Сеть сохраняется в файл `best_model.h5`"
      ]
    },
    {
      "cell_type": "code",
      "metadata": {
        "id": "inD4DaNdWgpL"
      },
      "source": [
        "model_save_path = 'best_model.h5'\n",
        "checkpoint_callback = ModelCheckpoint(model_save_path, \n",
        "                                      monitor='val_accuracy',\n",
        "                                      save_best_only=True,\n",
        "                                      verbose=1)"
      ],
      "execution_count": 26,
      "outputs": []
    },
    {
      "cell_type": "code",
      "metadata": {
        "id": "3RjBsU8_PSqp",
        "outputId": "afdc8c36-3f3a-4e17-fe05-6ad065af1c0e",
        "colab": {
          "base_uri": "https://localhost:8080/"
        }
      },
      "source": [
        "history = model.fit(x_train, \n",
        "                    y_train, \n",
        "                    epochs=5,\n",
        "                    batch_size=128,\n",
        "                    validation_split=0.1,\n",
        "                    callbacks=[checkpoint_callback])"
      ],
      "execution_count": 27,
      "outputs": [
        {
          "output_type": "stream",
          "text": [
            "Epoch 1/5\n",
            "3937/3938 [============================>.] - ETA: 0s - loss: 0.2060 - accuracy: 0.9178\n",
            "Epoch 00001: val_accuracy improved from -inf to 0.95141, saving model to best_model.h5\n",
            "3938/3938 [==============================] - 145s 37ms/step - loss: 0.2060 - accuracy: 0.9178 - val_loss: 0.1280 - val_accuracy: 0.9514\n",
            "Epoch 2/5\n",
            "3937/3938 [============================>.] - ETA: 0s - loss: 0.1435 - accuracy: 0.9449\n",
            "Epoch 00002: val_accuracy did not improve from 0.95141\n",
            "3938/3938 [==============================] - 140s 36ms/step - loss: 0.1435 - accuracy: 0.9449 - val_loss: 0.1230 - val_accuracy: 0.9502\n",
            "Epoch 3/5\n",
            "3937/3938 [============================>.] - ETA: 0s - loss: 0.1213 - accuracy: 0.9537\n",
            "Epoch 00003: val_accuracy improved from 0.95141 to 0.95770, saving model to best_model.h5\n",
            "3938/3938 [==============================] - 140s 36ms/step - loss: 0.1213 - accuracy: 0.9537 - val_loss: 0.1094 - val_accuracy: 0.9577\n",
            "Epoch 4/5\n",
            "3937/3938 [============================>.] - ETA: 0s - loss: 0.1034 - accuracy: 0.9613\n",
            "Epoch 00004: val_accuracy did not improve from 0.95770\n",
            "3938/3938 [==============================] - 140s 36ms/step - loss: 0.1034 - accuracy: 0.9612 - val_loss: 0.1261 - val_accuracy: 0.9519\n",
            "Epoch 5/5\n",
            "3938/3938 [==============================] - ETA: 0s - loss: 0.0871 - accuracy: 0.9677\n",
            "Epoch 00005: val_accuracy did not improve from 0.95770\n",
            "3938/3938 [==============================] - 140s 36ms/step - loss: 0.0871 - accuracy: 0.9677 - val_loss: 0.1211 - val_accuracy: 0.9566\n"
          ],
          "name": "stdout"
        }
      ]
    },
    {
      "cell_type": "code",
      "metadata": {
        "id": "D87iUZmNP0rk",
        "outputId": "9eb48ca4-9b52-4af9-8da6-6cbcddc3c6e0",
        "colab": {
          "base_uri": "https://localhost:8080/",
          "height": 282
        }
      },
      "source": [
        "plt.plot(history.history['accuracy'], \n",
        "         label='Доля верных ответов на обучающем наборе')\n",
        "plt.plot(history.history['val_accuracy'], \n",
        "         label='Доля верных ответов на проверочном наборе')\n",
        "plt.xlabel('Эпоха обучения')\n",
        "plt.ylabel('Доля верных ответов')\n",
        "plt.legend()\n",
        "plt.show()"
      ],
      "execution_count": 28,
      "outputs": [
        {
          "output_type": "display_data",
          "data": {
            "image/png": "[encoded data removed]",
            "text/plain": [
              "<Figure size 432x288 with 1 Axes>"
            ]
          },
          "metadata": {
            "tags": [],
            "needs_background": "light"
          }
        }
      ]
    },
    {
      "cell_type": "markdown",
      "metadata": {
        "id": "8RvgNPpMa172"
      },
      "source": [
        "Загружаем модель с лучшей долей правильных ответов на проверочном наборе данных"
      ]
    },
    {
      "cell_type": "code",
      "metadata": {
        "id": "MlxUbg8va_VT"
      },
      "source": [
        "model.load_weights(model_save_path)"
      ],
      "execution_count": 29,
      "outputs": []
    },
    {
      "cell_type": "markdown",
      "metadata": {
        "id": "Ma51nugyR5Ct"
      },
      "source": [
        "## Загружаем набор данных для тестирования"
      ]
    },
    {
      "cell_type": "code",
      "metadata": {
        "id": "0OQ9iHYWYJ7G"
      },
      "source": [
        "test = pd.read_csv('yelp_review_polarity_csv/test.csv', \n",
        "                    header=None, \n",
        "                    names=['Class', 'Review'])"
      ],
      "execution_count": 30,
      "outputs": []
    },
    {
      "cell_type": "code",
      "metadata": {
        "id": "4W8Exe9nYYC6",
        "outputId": "8d93bbb9-70a3-49a0-95fb-0729cb03c5bc",
        "colab": {
          "base_uri": "https://localhost:8080/",
          "height": 407
        }
      },
      "source": [
        "test"
      ],
      "execution_count": 31,
      "outputs": [
        {
          "output_type": "execute_result",
          "data": {
            "text/html": [
              "<div>\n",
              "<style scoped>\n",
              "    .dataframe tbody tr th:only-of-type {\n",
              "        vertical-align: middle;\n",
              "    }\n",
              "\n",
              "    .dataframe tbody tr th {\n",
              "        vertical-align: top;\n",
              "    }\n",
              "\n",
              "    .dataframe thead th {\n",
              "        text-align: right;\n",
              "    }\n",
              "</style>\n",
              "<table border=\"1\" class=\"dataframe\">\n",
              "  <thead>\n",
              "    <tr style=\"text-align: right;\">\n",
              "      <th></th>\n",
              "      <th>Class</th>\n",
              "      <th>Review</th>\n",
              "    </tr>\n",
              "  </thead>\n",
              "  <tbody>\n",
              "    <tr>\n",
              "      <th>0</th>\n",
              "      <td>2</td>\n",
              "      <td>Contrary to other reviews, I have zero complai...</td>\n",
              "    </tr>\n",
              "    <tr>\n",
              "      <th>1</th>\n",
              "      <td>1</td>\n",
              "      <td>Last summer I had an appointment to get new ti...</td>\n",
              "    </tr>\n",
              "    <tr>\n",
              "      <th>2</th>\n",
              "      <td>2</td>\n",
              "      <td>Friendly staff, same starbucks fair you get an...</td>\n",
              "    </tr>\n",
              "    <tr>\n",
              "      <th>3</th>\n",
              "      <td>1</td>\n",
              "      <td>The food is good. Unfortunately the service is...</td>\n",
              "    </tr>\n",
              "    <tr>\n",
              "      <th>4</th>\n",
              "      <td>2</td>\n",
              "      <td>Even when we didn't have a car Filene's Baseme...</td>\n",
              "    </tr>\n",
              "    <tr>\n",
              "      <th>...</th>\n",
              "      <td>...</td>\n",
              "      <td>...</td>\n",
              "    </tr>\n",
              "    <tr>\n",
              "      <th>37995</th>\n",
              "      <td>1</td>\n",
              "      <td>If I could give 0...I would.  Don't do it.</td>\n",
              "    </tr>\n",
              "    <tr>\n",
              "      <th>37996</th>\n",
              "      <td>2</td>\n",
              "      <td>Items Selected:\\nChocolate Cinnamon Horn\\nSmal...</td>\n",
              "    </tr>\n",
              "    <tr>\n",
              "      <th>37997</th>\n",
              "      <td>1</td>\n",
              "      <td>Expensive lunch meals.  Fried pickles were goo...</td>\n",
              "    </tr>\n",
              "    <tr>\n",
              "      <th>37998</th>\n",
              "      <td>1</td>\n",
              "      <td>Highly overpriced and food was cold. Our waitr...</td>\n",
              "    </tr>\n",
              "    <tr>\n",
              "      <th>37999</th>\n",
              "      <td>1</td>\n",
              "      <td>I have been using this company for 11 months. ...</td>\n",
              "    </tr>\n",
              "  </tbody>\n",
              "</table>\n",
              "<p>38000 rows × 2 columns</p>\n",
              "</div>"
            ],
            "text/plain": [
              "       Class                                             Review\n",
              "0          2  Contrary to other reviews, I have zero complai...\n",
              "1          1  Last summer I had an appointment to get new ti...\n",
              "2          2  Friendly staff, same starbucks fair you get an...\n",
              "3          1  The food is good. Unfortunately the service is...\n",
              "4          2  Even when we didn't have a car Filene's Baseme...\n",
              "...      ...                                                ...\n",
              "37995      1         If I could give 0...I would.  Don't do it.\n",
              "37996      2  Items Selected:\\nChocolate Cinnamon Horn\\nSmal...\n",
              "37997      1  Expensive lunch meals.  Fried pickles were goo...\n",
              "37998      1  Highly overpriced and food was cold. Our waitr...\n",
              "37999      1  I have been using this company for 11 months. ...\n",
              "\n",
              "[38000 rows x 2 columns]"
            ]
          },
          "metadata": {
            "tags": []
          },
          "execution_count": 31
        }
      ]
    },
    {
      "cell_type": "markdown",
      "metadata": {
        "id": "xgEjSpX5biaJ"
      },
      "source": [
        "Преобразуем отзывы в числовое представление\n",
        "\n",
        "Обратите внимание, что нужно использовать токенизатор, обученный на наборе данных train."
      ]
    },
    {
      "cell_type": "code",
      "metadata": {
        "id": "wE8JtIgybvLx"
      },
      "source": [
        "test_sequences = tokenizer.texts_to_sequences(test['Review'])"
      ],
      "execution_count": 32,
      "outputs": []
    },
    {
      "cell_type": "code",
      "metadata": {
        "id": "haKQPtc-byBf"
      },
      "source": [
        "x_test = pad_sequences(test_sequences, maxlen=max_review_len)"
      ],
      "execution_count": 33,
      "outputs": []
    },
    {
      "cell_type": "code",
      "metadata": {
        "id": "LQsqVZedb-Qf",
        "outputId": "131371ad-9e0b-40b8-bcaa-a9b61aa687e7",
        "colab": {
          "base_uri": "https://localhost:8080/"
        }
      },
      "source": [
        "x_test[:5]"
      ],
      "execution_count": 34,
      "outputs": [
        {
          "output_type": "execute_result",
          "data": {
            "text/plain": [
              "array([[   9,    1,  546,  148,  274,  165,    2, 1221,    4,   14,  137,\n",
              "          18,  289,   38, 8346, 2311,  257,  511,   28, 1167,    2,  113,\n",
              "          60,  568,  520, 1426,   16,   11,   44,   31,   13,    3,   82,\n",
              "          22,  249,   38,    3,  144,  173,  694, 2235,    7,   40,   72,\n",
              "           7,   14,   80, 2540, 5951,   23,   69,    9,   21,   14,    7,\n",
              "        1558,    2,   23, 1696,   14, 1894, 1775,  470,   17,   45,   14,\n",
              "          52,    2, 1346, 5923,   95,   37,   69,   91, 1024,    2,  311,\n",
              "          48,    4,   32,    4, 1480, 1037,   19,   40, 4124,    1,  317,\n",
              "         127,    8,  562,    5,  203,  114,   99,    8,   90,   10, 1168,\n",
              "         274],\n",
              "       [   0,    0,    0,    0,    0,    0,    0,    0,    0,    0,    0,\n",
              "           0,    0,    0,    0,    0,    0,    0,    0,    0,    0,    0,\n",
              "           0,    0,    0,    0,    0,    0,    0,  182, 1243,    3,   24,\n",
              "          59,  728,    4,   43,  159, 2073,    2,   24,    4,  154,    5,\n",
              "         315,  190,   46,    3,   84,   98,   10,   16,  402,    9,   76,\n",
              "           4,  825,    5, 2971,  460,   18,    5, 1837,   19,  271,   21,\n",
              "          19, 1323,    8,    9,  251,    2,    1,   42,  172,  572,    3,\n",
              "          24,    1,  216,  776,    3,  240,    4, 1213,    2,    1,  253,\n",
              "          87,   74, 2199,   27, 2929,   88,  116,   54,   19,  554,  727,\n",
              "          86],\n",
              "       [   0,    0,    0,    0,    0,    0,    0,    0,    0,    0,    0,\n",
              "           0,    0,    0,    0,    0,    0,    0,    0,    0,    0,    0,\n",
              "           0,    0,    0,    0,    0,    0,    0,    0,    0,    0,    0,\n",
              "           0,    0,    0,    0,    0,    0,    0,    0,    0,    0,    0,\n",
              "           0,    0,    0,    0,    0,    0,    0,    0,    0,    0,    0,\n",
              "           0,    0,    0,    0,    0,    0,    0,    0,    0,    0,    0,\n",
              "           0,    0,    0,    0,    0,    0,    0,    0,    0,    0,    0,\n",
              "           0,    0,    0,    0,    0,    0,    0,    0,  161,  129,  216,\n",
              "        1326,  977,   20,   43,  839,  262,  786,    1, 1207,   75,   43,\n",
              "         190],\n",
              "       [   0,    0,    0,    0,    0,    0,    0,    0,    0,    0,    0,\n",
              "           0,    0,    0,    0,    0,    0,    0,    0,    0,    0,    0,\n",
              "           0,    0,    0,    0,    0,    0,    0,    0,    0,    0,    0,\n",
              "           0,    0,    0,    0,    0,    0,    0,    0,    0,    0,    0,\n",
              "           0,    0,    0,    1,   29,   11,   34,  707,    1,   52,   11,\n",
              "          42,  689,   49,  943,    1,  645,  776,  519,    4,   30,   18,\n",
              "           1,  537,    1, 1713,    2, 1622,   28,  668,   42, 3115,    9,\n",
              "           1,  190, 4692,    2,   63,  126, 2069,   13,   67,    7,   76,\n",
              "         876,    1,  365,   81,  600,    1, 2764,   96,    4,  876, 2246,\n",
              "        1547],\n",
              "       [  56, 1570,    2,  114,  150,    3,  144,  128,  150, 2006,    1,\n",
              "        1485,    2, 1506,  164,  632,  330,   12,   85,  314,    7, 4226,\n",
              "          16,   11,    1,  111,  842,   10, 1419,   63,  103,  114,   99,\n",
              "           1, 1140, 1761, 1110,  114,   99,    2, 9842,    2,  114,   99,\n",
              "           1,  927,   74,   47,    8,   95,    5, 1624,  342,    2,  242,\n",
              "          12,   85,   38,   16,  114,   99, 4903,   65,   28, 4383,    4,\n",
              "          43,    4, 4903,   28,    5,  490, 1219, 3217,    2,   93, 2551,\n",
              "           3,   87,  523,   10, 1419,  190,  233,    4,    1, 2597, 2587,\n",
              "           6,  150,   48,    2,  937,   10, 3703, 7361,   47,    3,  214,\n",
              "         370]], dtype=int32)"
            ]
          },
          "metadata": {
            "tags": []
          },
          "execution_count": 34
        }
      ]
    },
    {
      "cell_type": "markdown",
      "metadata": {
        "id": "afswW4zVcPfT"
      },
      "source": [
        "Правильные ответы"
      ]
    },
    {
      "cell_type": "code",
      "metadata": {
        "id": "tsdQdcvBcFsv"
      },
      "source": [
        "y_test = test['Class'] - 1"
      ],
      "execution_count": 35,
      "outputs": []
    },
    {
      "cell_type": "code",
      "metadata": {
        "id": "86TiWSg8cYkI",
        "outputId": "51649114-273b-47a5-a924-d6c8bb668d0b",
        "colab": {
          "base_uri": "https://localhost:8080/"
        }
      },
      "source": [
        "y_test"
      ],
      "execution_count": 36,
      "outputs": [
        {
          "output_type": "execute_result",
          "data": {
            "text/plain": [
              "0        1\n",
              "1        0\n",
              "2        1\n",
              "3        0\n",
              "4        1\n",
              "        ..\n",
              "37995    0\n",
              "37996    1\n",
              "37997    0\n",
              "37998    0\n",
              "37999    0\n",
              "Name: Class, Length: 38000, dtype: int64"
            ]
          },
          "metadata": {
            "tags": []
          },
          "execution_count": 36
        }
      ]
    },
    {
      "cell_type": "markdown",
      "metadata": {
        "id": "3DJbzO3ucewV"
      },
      "source": [
        "## Оцениваем качество работы сети на тестовом наборе данных"
      ]
    },
    {
      "cell_type": "code",
      "metadata": {
        "id": "MkFvNfFPcaPX",
        "outputId": "8b51df77-c24c-4bc4-8499-5c4dd48a4bf2",
        "colab": {
          "base_uri": "https://localhost:8080/"
        }
      },
      "source": [
        "model.evaluate(x_test, y_test, verbose=1)"
      ],
      "execution_count": 37,
      "outputs": [
        {
          "output_type": "stream",
          "text": [
            "1188/1188 [==============================] - 11s 10ms/step - loss: 0.1365 - accuracy: 0.9480\n"
          ],
          "name": "stdout"
        },
        {
          "output_type": "execute_result",
          "data": {
            "text/plain": [
              "[0.136474609375, 0.9480262994766235]"
            ]
          },
          "metadata": {
            "tags": []
          },
          "execution_count": 37
        }
      ]
    },
    {
      "cell_type": "markdown",
      "metadata": {
        "id": "_rpc1SbSdZJi"
      },
      "source": [
        "## Оцениваем тональность на собственном отзыве"
      ]
    },
    {
      "cell_type": "code",
      "metadata": {
        "id": "E7mb_GYadd_a"
      },
      "source": [
        "text = '''The SmartBurger restaurant is awful. It’s a small shabby place. \n",
        "The food is really bad and very expensive.  The host and waiters are rude. \n",
        "I will never visit the SmartBurger again!\n",
        "'''"
      ],
      "execution_count": 38,
      "outputs": []
    },
    {
      "cell_type": "code",
      "metadata": {
        "id": "g_YUdpNWcv8x"
      },
      "source": [
        "sequence = tokenizer.texts_to_sequences([text])"
      ],
      "execution_count": 39,
      "outputs": []
    },
    {
      "cell_type": "code",
      "metadata": {
        "id": "wyYO190ffF4n",
        "outputId": "2efbfb9f-bbad-43f3-c251-ac1213e20f36",
        "colab": {
          "base_uri": "https://localhost:8080/"
        }
      },
      "source": [
        "sequence"
      ],
      "execution_count": 40,
      "outputs": [
        {
          "output_type": "execute_result",
          "data": {
            "text/plain": [
              "[[1,\n",
              "  104,\n",
              "  11,\n",
              "  692,\n",
              "  5,\n",
              "  197,\n",
              "  5272,\n",
              "  31,\n",
              "  1,\n",
              "  29,\n",
              "  11,\n",
              "  61,\n",
              "  143,\n",
              "  2,\n",
              "  42,\n",
              "  502,\n",
              "  1,\n",
              "  1526,\n",
              "  2,\n",
              "  1713,\n",
              "  28,\n",
              "  401,\n",
              "  3,\n",
              "  66,\n",
              "  88,\n",
              "  285,\n",
              "  1,\n",
              "  108]]"
            ]
          },
          "metadata": {
            "tags": []
          },
          "execution_count": 40
        }
      ]
    },
    {
      "cell_type": "code",
      "metadata": {
        "id": "uKWdH2qKfIdG"
      },
      "source": [
        "data = pad_sequences(sequence, maxlen=max_review_len)"
      ],
      "execution_count": 41,
      "outputs": []
    },
    {
      "cell_type": "code",
      "metadata": {
        "id": "skYUSk6CfeHs",
        "outputId": "d3ec7c47-9451-4a82-8b5f-6d58c6f02e7a",
        "colab": {
          "base_uri": "https://localhost:8080/"
        }
      },
      "source": [
        "data"
      ],
      "execution_count": 42,
      "outputs": [
        {
          "output_type": "execute_result",
          "data": {
            "text/plain": [
              "array([[   0,    0,    0,    0,    0,    0,    0,    0,    0,    0,    0,\n",
              "           0,    0,    0,    0,    0,    0,    0,    0,    0,    0,    0,\n",
              "           0,    0,    0,    0,    0,    0,    0,    0,    0,    0,    0,\n",
              "           0,    0,    0,    0,    0,    0,    0,    0,    0,    0,    0,\n",
              "           0,    0,    0,    0,    0,    0,    0,    0,    0,    0,    0,\n",
              "           0,    0,    0,    0,    0,    0,    0,    0,    0,    0,    0,\n",
              "           0,    0,    0,    0,    0,    0,    1,  104,   11,  692,    5,\n",
              "         197, 5272,   31,    1,   29,   11,   61,  143,    2,   42,  502,\n",
              "           1, 1526,    2, 1713,   28,  401,    3,   66,   88,  285,    1,\n",
              "         108]], dtype=int32)"
            ]
          },
          "metadata": {
            "tags": []
          },
          "execution_count": 42
        }
      ]
    },
    {
      "cell_type": "code",
      "metadata": {
        "id": "K_VBdXOlffK2"
      },
      "source": [
        "result = model.predict(data)"
      ],
      "execution_count": 43,
      "outputs": []
    },
    {
      "cell_type": "code",
      "metadata": {
        "id": "yFC6W_dLfpzU",
        "outputId": "3abe749b-3764-4ba4-e818-ec491cde52f0",
        "colab": {
          "base_uri": "https://localhost:8080/"
        }
      },
      "source": [
        "result"
      ],
      "execution_count": 44,
      "outputs": [
        {
          "output_type": "execute_result",
          "data": {
            "text/plain": [
              "array([[5.6293782e-05]], dtype=float32)"
            ]
          },
          "metadata": {
            "tags": []
          },
          "execution_count": 44
        }
      ]
    },
    {
      "cell_type": "code",
      "metadata": {
        "id": "TbLvIXs6frqY",
        "outputId": "69ffe082-4121-486f-ec4c-87697f903534",
        "colab": {
          "base_uri": "https://localhost:8080/"
        }
      },
      "source": [
        "if result[[0]] < 0.5:\n",
        "    print('Отзыв отрицательный')\n",
        "else:\n",
        "    print('Отзыв положительный')\n"
      ],
      "execution_count": 45,
      "outputs": [
        {
          "output_type": "stream",
          "text": [
            "Отзыв отрицательный\n"
          ],
          "name": "stdout"
        }
      ]
    }
  ]
}