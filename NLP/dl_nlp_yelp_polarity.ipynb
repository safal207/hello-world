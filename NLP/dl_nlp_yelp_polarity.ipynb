{
  "nbformat": 4,
  "nbformat_minor": 0,
  "metadata": {
    "colab": {
      "name": "dl_nlp_yelp_polarity.ipynb",
      "provenance": [],
      "collapsed_sections": [],
      "include_colab_link": true
    },
    "kernelspec": {
      "name": "python3",
      "display_name": "Python 3"
    },
    "accelerator": "GPU"
  },
  "cells": [
    {
      "cell_type": "markdown",
      "metadata": {
        "id": "view-in-github",
        "colab_type": "text"
      },
      "source": [
        "<a href=\"https://colab.research.google.com/github/safal207/hello-world/blob/master/dl_nlp_yelp_polarity.ipynb\" target=\"_parent\"><img src=\"https://colab.research.google.com/assets/colab-badge.svg\" alt=\"Open In Colab\"/></a>"
      ]
    },
    {
      "cell_type": "markdown",
      "metadata": {
        "id": "K-BAqDEY4ldv"
      },
      "source": [
        "# Определение тональности текстов на основе отзывов Yelp с использованием сети LSTM\n",
        "\n",
        "В этом ноутбуке мы построим и обучим рекуррентную нейронную сеть (RNN) для классификации отзывов на два класса: положительные и отрицательные. Мы будем использовать набор данных [Yelp Review Polarity](https://s3.amazonaws.com/fast-ai-nlp/yelp_review_polarity_csv.tgz), который содержит 560,000 обучающих и 38,000 тестовых отзывов.\n",
        "\n",
        "**План работы:**\n",
        "1.  **Загрузка данных:** Скачаем и распакуем набор данных Yelp.\n",
        "2.  **Предобработка текста:** Преобразуем текстовые отзывы в числовой формат, понятный для нейронной сети, с помощью токенизации и дополнения последовательностей.\n",
        "3.  **Создание модели:** Спроектируем нейронную сеть с использованием слоев `Embedding` и `LSTM`.\n",
        "4.  **Обучение модели:** Обучим модель на обучающем наборе данных и будем отслеживать ее производительность.\n",
        "5.  **Оценка качества:** Оценим точность обученной модели на тестовом наборе данных.\n",
        "6.  **Прогнозирование:** Используем модель для предсказания тональности нового отзыва."
      ]
    },
    {
      "cell_type": "markdown",
      "source": [
        "### 1. Подготовка и настройка"
      ],
      "metadata": {
        "id": "new-intro-cell"
      }
    },
    {
      "cell_type": "code",
      "metadata": {
        "id": "fN251ib04idq"
      },
      "source": [
        "%tensorflow_version 2.x\n",
        "import matplotlib.pyplot as plt\n",
        "import numpy as np\n",
        "import pandas as pd\n",
        "from tensorflow.keras import utils\n",
        "from tensorflow.keras.callbacks import ModelCheckpoint\n",
        "from tensorflow.keras.layers import Dense, Embedding, LSTM\n",
        "from tensorflow.keras.models import Sequential\n",
        "from tensorflow.keras.preprocessing.sequence import pad_sequences\n",
        "from tensorflow.keras.preprocessing.text import Tokenizer\n",
        "\n",
        "%matplotlib inline"
      ],
      "execution_count": null,
      "outputs": []
    },
    {
      "cell_type": "code",
      "metadata": {
        "id": "KVUY1PF0L_mF"
      },
      "source": [
        "# Гиперпараметры\n",
        "num_words = 10000  # Размер словаря (количество наиболее частых слов)\n",
        "max_review_len = 100  # Максимальная длина отзыва в словах"
      ],
      "execution_count": null,
      "outputs": []
    },
    {
      "cell_type": "markdown",
      "metadata": {
        "id": "S6itvI2G5H1k"
      },
      "source": [
        "### 2. Загрузка набора данных\n",
        "\n",
        "Используем команду `wget` для загрузки архива с данными из облачного хранилища и `tar` для его распаковки."
      ]
    },
    {
      "cell_type": "code",
      "metadata": {
        "id": "TYf3S7he5KIU"
      },
      "source": [
        "!wget https://www.dropbox.com/s/ufbhk3kadtnn6h0/yelp_review_polarity_csv.tgz?dl=1 -O yelp_review_polarity_csv.tgz"
      ],
      "execution_count": null,
      "outputs": []
    },
    {
      "cell_type": "code",
      "metadata": {
        "id": "RH95SEXB5R0V"
      },
      "source": [
        "!tar -xvf yelp_review_polarity_csv.tgz"
      ],
      "execution_count": null,
      "outputs": []
    },
    {
      "cell_type": "markdown",
      "metadata": {
        "id": "131Gk9fzGVMg"
      },
      "source": [
        "#### Просмотр данных\n",
        "Давайте посмотрим на описание набора данных и примеры из обучающего и тестового файлов."
      ]
    },
    {
      "cell_type": "code",
      "metadata": {
        "id": "uRj7M24mGRmH"
      },
      "source": [
        "!cat yelp_review_polarity_csv/readme.txt"
      ],
      "execution_count": null,
      "outputs": []
    },
    {
      "cell_type": "code",
      "metadata": {
        "id": "k6_oiP9NGlI2"
      },
      "source": [
        "!head yelp_review_polarity_csv/train.csv"
      ],
      "execution_count": null,
      "outputs": []
    },
    {
      "cell_type": "code",
      "metadata": {
        "id": "QHiCXhsTG835"
      },
      "source": [
        "!wc -l yelp_review_polarity_csv/train.csv\n",
        "!wc -l yelp_review_polarity_csv/test.csv"
      ],
      "execution_count": null,
      "outputs": []
    },
    {
      "cell_type": "markdown",
      "metadata": {
        "id": "9YjyMnJOHoSY"
      },
      "source": [
        "### 3. Предобработка данных\n",
        "Загружаем данные из CSV-файлов в DataFrame-ы pandas."
      ]
    },
    {
      "cell_type": "code",
      "metadata": {
        "id": "viAteYU0HakW"
      },
      "source": [
        "train = pd.read_csv(\n",
        "    \"yelp_review_polarity_csv/train.csv\", header=None, names=[\"Class\", \"Review\"]\n",
        ")"
      ],
      "execution_count": null,
      "outputs": []
    },
    {
      "cell_type": "code",
      "metadata": {
        "id": "QTbvoCJxKpdr"
      },
      "source": [
        "train.head()"
      ],
      "execution_count": null,
      "outputs": []
    },
    {
      "cell_type": "markdown",
      "metadata": {
        "id": "gA0GvoWDKulp"
      },
      "source": [
        "Выделяем данные для обучения: тексты отзывов и их классы (тональность)."
      ]
    },
    {
      "cell_type": "code",
      "metadata": {
        "id": "xKdpzAQKLUsh"
      },
      "source": [
        "reviews = train[\"Review\"]"
      ],
      "execution_count": null,
      "outputs": []
    },
    {
      "cell_type": "code",
      "metadata": {
        "id": "EyruZkQeLnPa"
      },
      "source": [
        "# Классы в датасете: 1 (негативный) и 2 (позитивный). Преобразуем их в 0 и 1.\n",
        "y_train = train[\"Class\"] - 1"
      ]
    },
    {
      "cell_type": "markdown",
      "metadata": {
        "id": "7JuLOCqpLsNL"
      },
      "source": [
        "#### Токенизация текста\n",
        "Нейронные сети не могут работать с текстом напрямую. Нам нужно преобразовать текст в числа. Этот процесс называется **токенизацией**.\n",
        "\n",
        "Мы выполним следующие шаги:\n",
        "1.  **Создадим словарь:** Используем `Tokenizer` из Keras для анализа всех текстов и создания словаря, где каждому уникальному слову присваивается свой номер (индекс).\n",
        "2.  **Преобразуем тексты в последовательности:** Заменим каждое слово в отзывах на его индекс из словаря.\n",
        "3.  **Дополним последовательности:** Так как отзывы имеют разную длину, мы приведем их все к одной длине (`max_review_len`), добавляя нули в начало коротких отзывов или обрезая длинные. Этот процесс называется **padding**."
      ]
    },
    {
      "cell_type": "code",
      "metadata": {
        "id": "x-AUMyjMLw5T"
      },
      "source": [
        "# Создаем токенизатор Keras, который будет учитывать только 10,000 самых частых слов\n",
        "tokenizer = Tokenizer(num_words=num_words)"
      ],
      "execution_count": null,
      "outputs": []
    },
    {
      "cell_type": "code",
      "metadata": {
        "id": "RfsqlGJZM7HR"
      },
      "source": [
        "# Обучаем токенизатор на наших данных\n",
        "tokenizer.fit_on_texts(reviews)"
      ],
      "execution_count": null,
      "outputs": []
    },
    {
      "cell_type": "code",
      "metadata": {
        "id": "wwF89PAestv0"
      },
      "source": [
        "# Преобразуем тексты в числовые последовательности\n",
        "sequences = tokenizer.texts_to_sequences(reviews)"
      ],
      "execution_count": null,
      "outputs": []
    },
    {
      "cell_type": "markdown",
      "metadata": {
        "id": "aZ_NJ2SlNwMI"
      },
      "source": [
        "Пример преобразования отзыва в последовательность чисел:"
      ]
    },
    {
      "cell_type": "code",
      "metadata": {
        "id": "xIUJvjguN0S0"
      },
      "source": [
        "index = 1\n",
        "print(reviews[index])\n",
        "print(sequences[index])"
      ],
      "execution_count": null,
      "outputs": []
    },
    {
      "cell_type": "code",
      "metadata": {
        "id": "ZGLpcETkN3ex"
      },
      "source": [
        "# Дополняем последовательности до фиксированной длины\n",
        "x_train = pad_sequences(sequences, maxlen=max_review_len)"
      ],
      "execution_count": null,
      "outputs": []
    },
    {
      "cell_type": "markdown",
      "metadata": {
        "id": "ypBYfEwvO0c4"
      },
      "source": [
        "### 4. Создание и обучение нейронной сети\n",
        "\n",
        "Наша модель будет состоять из трех слоев:\n",
        "1.  **Embedding:** Этот слой преобразует числовые индексы слов в плотные векторы фиксированной длины (64). Он позволяет сети улавливать семантические связи между словами.\n",
        "2.  **LSTM (Long Short-Term Memory):** Это рекуррентный слой, который хорошо подходит для обработки последовательных данных, таких как текст. Он может запоминать информацию на длинных дистанциях, что важно для понимания контекста в отзывах.\n",
        "3.  **Dense:** Стандартный полносвязный слой с одним нейроном и `sigmoid` активацией, который будет выдавать на выходе вероятность от 0 до 1, показывающую, является ли отзыв положительным."
      ]
    },
    {
      "cell_type": "code",
      "metadata": {
        "id": "8ETORhRkOtIn"
      },
      "source": [
        "model = Sequential()\n",
        "model.add(Embedding(num_words, 64, input_length=max_review_len))\n",
        "model.add(LSTM(128))\n",
        "model.add(Dense(1, activation=\"sigmoid\"))"
      ],
      "execution_count": null,
      "outputs": []
    },
    {
      "cell_type": "code",
      "metadata": {
        "id": "rzds0iUgPLwS"
      },
      "source": [
        "model.compile(optimizer=\"adam\", loss=\"binary_crossentropy\", metrics=[\"accuracy\"])"
      ],
      "execution_count": null,
      "outputs": []
    },
    {
      "cell_type": "markdown",
      "metadata": {
        "id": "GYw-jNpW9-40"
      },
      "source": [
        "Создаем `callback` для сохранения лучшей версии модели (по метрике `val_accuracy`) во время обучения."
      ]
    },
    {
      "cell_type": "code",
      "metadata": {
        "id": "inD4DaNdWgpL"
      },
      "source": [
        "model_save_path = \"best_model.h5\"\n",
        "checkpoint_callback = ModelCheckpoint(\n",
        "    model_save_path,\n",
        "    monitor=\"val_accuracy\",\n",
        "    save_best_only=True,\n",
        "    verbose=1,\n",
        ")"
      ],
      "execution_count": null,
      "outputs": []
    },
    {
      "cell_type": "code",
      "metadata": {
        "id": "3RjBsU8_PSqp"
      },
      "source": [
        "history = model.fit(\n",
        "    x_train,\n",
        "    y_train,\n",
        "    epochs=5,\n",
        "    batch_size=128,\n",
        "    validation_split=0.1,\n",
        "    callbacks=[checkpoint_callback],\n",
        ")"
      ],
      "execution_count": null,
      "outputs": []
    },
    {
      "cell_type": "code",
      "metadata": {
        "id": "D87iUZmNP0rk"
      },
      "source": [
        "# Отрисовываем график результатов обучения\n",
        "fig, ax = plt.subplots(figsize=(10, 5))\n",
        "ax.plot(history.history['accuracy'], label='Точность на обучающем наборе')\n",
        "ax.plot(history.history['val_accuracy'], label='Точность на проверочном наборе')\n",
        "ax.set_xlabel('Эпоха обучения')\n",
        "ax.set_ylabel('Точность')\n",
        "ax.set_title('График точности модели')\n",
        "ax.legend()\n",
        "plt.grid(True)\n",
        "plt.show()"
      ],
      "execution_count": null,
      "outputs": []
    },
    {
      "cell_type": "markdown",
      "metadata": {
        "id": "8RvgNPpMa172"
      },
      "source": [
        "### 5. Оценка качества на тестовых данных"
      ]
    },
    {
      "cell_type": "code",
      "metadata": {
        "id": "MlxUbg8va_VT"
      },
      "source": [
        "model.load_weights(model_save_path)"
      ],
      "execution_count": null,
      "outputs": []
    },
    {
      "cell_type": "code",
      "metadata": {
        "id": "0OQ9iHYWYJ7G"
      },
      "source": [
        "test = pd.read_csv(\n",
        "    \"yelp_review_polarity_csv/test.csv\", header=None, names=[\"Class\", \"Review\"]\n",
        ")"
      ],
      "execution_count": null,
      "outputs": []
    },
    {
      "cell_type": "code",
      "metadata": {
        "id": "wE8JtIgybvLx"
      },
      "source": [
        "test_sequences = tokenizer.texts_to_sequences(test[\"Review\"])"
      ],
      "execution_count": null,
      "outputs": []
    },
    {
      "cell_type": "code",
      "metadata": {
        "id": "haKQPtc-byBf"
      },
      "source": [
        "x_test = pad_sequences(test_sequences, maxlen=max_review_len)"
      ],
      "execution_count": null,
      "outputs": []
    },
    {
      "cell_type": "code",
      "metadata": {
        "id": "tsdQdcvBcFsv"
      },
      "source": [
        "y_test = test[\"Class\"] - 1"
      ],
      "execution_count": null,
      "outputs": []
    },
    {
      "cell_type": "code",
      "metadata": {
        "id": "MkFvNfFPcaPX"
      },
      "source": [
        "model.evaluate(x_test, y_test, verbose=1)"
      ],
      "execution_count": null,
      "outputs": []
    },
    {
      "cell_type": "markdown",
      "metadata": {
        "id": "_rpc1SbSdZJi"
      },
      "source": [
        "### 6. Прогнозирование на новом отзыве"
      ]
    },
    {
      "cell_type": "code",
      "metadata": {
        "id": "E7mb_GYadd_a"
      },
      "source": [
        "text = '''The SmartBurger restaurant is awful. It’s a small shabby place. \n",
        "The food is really bad and very expensive.  The host and waiters are rude. \n",
        "I will never visit the SmartBurger again!\n",
        "'''"
      ],
      "execution_count": null,
      "outputs": []
    },
    {
      "cell_type": "code",
      "metadata": {
        "id": "g_YUdpNWcv8x"
      },
      "source": [
        "sequence = tokenizer.texts_to_sequences([text])"
      ],
      "execution_count": null,
      "outputs": []
    },
    {
      "cell_type": "code",
      "metadata": {
        "id": "uKWdH2qKfIdG"
      },
      "source": [
        "data = pad_sequences(sequence, maxlen=max_review_len)"
      ],
      "execution_count": null,
      "outputs": []
    },
    {
      "cell_type": "code",
      "metadata": {
        "id": "K_VBdXOlffK2"
      },
      "source": [
        "result = model.predict(data)"
      ],
      "execution_count": null,
      "outputs": []
    },
    {
      "cell_type": "code",
      "metadata": {
        "id": "TbLvIXs6frqY"
      },
      "source": [
        "if result[[0]] < 0.5:\n",
        "    print(\"Отзыв отрицательный\")\n",
        "else:\n",
        "    print(\"Отзыв положительный\")"
      ],
      "execution_count": null,
      "outputs": []
    },
    {
      "cell_type": "markdown",
      "metadata": {
        "id": "5lkKDy7_ung1"
      },
      "source": [
        "### 7. Анализ ошибок модели\n",
        "\n",
        "Чтобы лучше понять, где модель ошибается, давайте посмотрим на несколько отзывов, которые были классифицированы неверно."
      ]
    },
    {
      "cell_type": "code",
      "metadata": {},
      "source": [
        "# Получаем предсказания для всего тестового набора\n",
        "predictions = (model.predict(x_test) > 0.5).astype(\"int32\")\n",
        "\n",
        "# Находим индексы, где предсказания не совпадают с истинными метками\n",
        "y_test_flat = y_test.to_numpy()\n",
        "misclassified_indices = np.where(predictions.flatten() != y_test_flat)[0]\n",
        "\n",
        "print(f\"Количество неверно классифицированных отзывов: {len(misclassified_indices)}\")\n",
        "\n",
        "# Выводим несколько примеров\n",
        "print(\"\\nПримеры неверно классифицированных отзывов:\\n\")\n",
        "for i, index in enumerate(misclassified_indices[:5]):\n",
        "    review_text = test.iloc[index]['Review']\n",
        "    true_label = \"Позитивный\" if y_test.iloc[index] == 1 else \"Негативный\"\n",
        "    predicted_label = \"Позитивный\" if predictions[index][0] == 1 else \"Негативный\"\n",
        "    \n",
        "    print(f\"--- Пример {i+1} ---\")\n",
        "    print(f\"Текст: {review_text[:500]}...\")\n",
        "    print(f\"Истинная метка: {true_label}\")\n",
        "    print(f\"Предсказанная метка: {predicted_label}\")\n",
        "    print(\"-\" * (15 + len(str(i+1))))"
      ],
      "execution_count": null,
      "outputs": []
    },
    {
      "cell_type": "markdown",
      "metadata": {
        "id": "5lkKDy7_ung1"
      },
      "source": [
        "## Задания для самостоятельной работы\n",
        "\n",
        "1. Используйте сеть GRU вместо LSTM для определения тональности отзывов Yelp. Сравните скорость обучения и качество работы обученной сети.\n",
        "2. Меняйте гиперпараметры нейросети, чтобы повысить качество работы:\n",
        "  - Длину вектора представления слов в слое Embedding.\n",
        "  - Количество нейронов на рекуррентном слое (LSTM или GRU).\n",
        "  - Количество рекуррентные слоев.\n",
        "  - Тип оптимизатора (`adam`, `rmsprop` и др.)\n",
        "  - Количество эпох обучения.\n",
        "  - Разрмер мини-выборки.\n",
        "3.Попробуйте применить вместо токенизатора Keras более совершенные:\n",
        "  - [spaCy Tokenizer](https://spacy.io/usage/spacy-101#annotations-token)\n",
        "  - [Huggingface Tokenizers](https://github.com/huggingface/tokenizers)\n",
        "  \n",
        "    Эти токенизаторы сложнее в использовании, но работают лучше.\n",
        "4. Переделайте нейросеть для распознавания набора данных [Yelp reviews - Full](https://s3.amazonaws.com/fast-ai-nlp/yelp_review_full_csv.tgz), в котором 4 класса по количеству звезд у отзывов."
      ]
    }
  ]
}
