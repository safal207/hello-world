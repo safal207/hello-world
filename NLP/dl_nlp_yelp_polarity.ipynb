{
  "nbformat": 4,
  "nbformat_minor": 0,
  "metadata": {
    "colab": {
      "name": "dl_nlp_yelp_polarity.ipynb",
      "provenance": [],
      "collapsed_sections": [],
      "include_colab_link": true
    },
    "kernelspec": {
      "name": "python3",
      "display_name": "Python 3"
    },
    "accelerator": "GPU"
  },
  "cells": [
    {
      "cell_type": "markdown",
      "metadata": {
        "id": "view-in-github",
        "colab_type": "text"
      },
      "source": [
        "<a href=\"https://colab.research.google.com/github/safal207/hello-world/blob/master/dl_nlp_yelp_polarity.ipynb\" target=\"_parent\"><img src=\"https://colab.research.google.com/assets/colab-badge.svg\" alt=\"Open In Colab\"/></a>"
      ]
    },
    {
      "cell_type": "markdown",
      "metadata": {
        "id": "K-BAqDEY4ldv"
      },
      "source": [
        "# Учим компьютер понимать эмоции в тексте (отзывы Yelp)\n",
        "\n",
        "**🇷🇺 (RU)**: Давайте научим компьютер понимать, какой отзыв хороший, а какой — плохой! Мы будем использовать настоящие отзывы с сайта Yelp и научим нейронную сеть определять, оставил ли человек положительный или отрицательный отзыв.\n",
        "\n",
        "---\n",
        "\n",
        "**🇬🇧 (EN)**: Let's teach a computer to understand if a review is good or bad! We will use real reviews from Yelp and teach a neural network to decide if a person left a positive or negative review."
      ]
    },
    {
      "cell_type": "markdown",
      "source": [
        "### 1. Подготовка и настройка"
      ],
      "metadata": {
        "id": "new-intro-cell"
      }
    },
    {
      "cell_type": "code",
      "metadata": {
        "id": "fN251ib04idq"
      },
      "source": [
        "%tensorflow_version 2.x\n",
        "import matplotlib.pyplot as plt\n",
        "import numpy as np\n",
        "import pandas as pd\n",
        "from tensorflow.keras import utils\n",
        "from tensorflow.keras.callbacks import ModelCheckpoint\n",
        "from tensorflow.keras.layers import Dense, Embedding, LSTM\n",
        "from tensorflow.keras.models import Sequential\n",
        "from tensorflow.keras.preprocessing.sequence import pad_sequences\n",
        "from tensorflow.keras.preprocessing.text import Tokenizer\n",
        "\n",
        "%matplotlib inline"
      ],
      "execution_count": null,
      "outputs": []
    },
    {
      "cell_type": "code",
      "metadata": {
        "id": "KVUY1PF0L_mF"
      },
      "source": [
        "# Гиперпараметры\n",
        "num_words = 10000  # Размер словаря (количество наиболее частых слов)\n",
        "max_review_len = 100  # Максимальная длина отзыва в словах"
      ],
      "execution_count": null,
      "outputs": []
    },
    {
      "cell_type": "markdown",
      "metadata": {
        "id": "S6itvI2G5H1k"
      },
      "source": [
        "### 2. Загрузка данных\n",
        "\n",
        "**🇷🇺 (RU)**: Сначала нам нужно получить наши данные. Эти команды скачивают большой архив с отзывами из интернета и затем распаковывают его, чтобы мы могли использовать файлы.\n",
        "\n",
        "---\n",
        "\n",
        "**🇬🇧 (EN)**: First, we need to get our data. These commands download a big archive with reviews from the internet and then unpack it so we can use the files."
      ]
    },
    {
      "cell_type": "code",
      "metadata": {
        "id": "TYf3S7he5KIU"
      },
      "source": [
        "!wget https://www.dropbox.com/s/ufbhk3kadtnn6h0/yelp_review_polarity_csv.tgz?dl=1 -O yelp_review_polarity_csv.tgz"
      ],
      "execution_count": null,
      "outputs": []
    },
    {
      "cell_type": "code",
      "metadata": {
        "id": "RH95SEXB5R0V"
      },
      "source": [
        "!tar -xvf yelp_review_polarity_csv.tgz"
      ],
      "execution_count": null,
      "outputs": []
    },
    {
      "cell_type": "markdown",
      "metadata": {
        "id": "131Gk9fzGVMg"
      },
      "source": [
        "#### Просмотр данных\n",
        "Давайте посмотрим на описание набора данных и примеры из обучающего и тестового файлов."
      ]
    },
    {
      "cell_type": "code",
      "metadata": {
        "id": "uRj7M24mGRmH"
      },
      "source": [
        "!cat yelp_review_polarity_csv/readme.txt"
      ],
      "execution_count": null,
      "outputs": []
    },
    {
      "cell_type": "code",
      "metadata": {
        "id": "k6_oiP9NGlI2"
      },
      "source": [
        "!head yelp_review_polarity_csv/train.csv"
      ],
      "execution_count": null,
      "outputs": []
    },
    {
      "cell_type": "code",
      "metadata": {
        "id": "QHiCXhsTG835"
      },
      "source": [
        "!wc -l yelp_review_polarity_csv/train.csv\n",
        "!wc -l yelp_review_polarity_csv/test.csv"
      ],
      "execution_count": null,
      "outputs": []
    },
    {
      "cell_type": "markdown",
      "metadata": {
        "id": "9YjyMnJOHoSY"
      },
      "source": [
        "### 3. Предобработка данных\n",
        "Загружаем данные из CSV-файлов в DataFrame-ы pandas."
      ]
    },
    {
      "cell_type": "code",
      "metadata": {
        "id": "viAteYU0HakW"
      },
      "source": [
        "train = pd.read_csv(\n",
        "    \"yelp_review_polarity_csv/train.csv\", header=None, names=[\"Class\", \"Review\"]\n",
        ")"
      ],
      "execution_count": null,
      "outputs": []
    },
    {
      "cell_type": "code",
      "metadata": {
        "id": "QTbvoCJxKpdr"
      },
      "source": [
        "train.head()"
      ],
      "execution_count": null,
      "outputs": []
    },
    {
      "cell_type": "markdown",
      "metadata": {
        "id": "gA0GvoWDKulp"
      },
      "source": [
        "Выделяем данные для обучения: тексты отзывов и их классы (тональность)."
      ]
    },
    {
      "cell_type": "code",
      "metadata": {
        "id": "xKdpzAQKLUsh"
      },
      "source": [
        "reviews = train[\"Review\"]"
      ],
      "execution_count": null,
      "outputs": []
    },
    {
      "cell_type": "code",
      "metadata": {
        "id": "EyruZkQeLnPa"
      },
      "source": [
        "# Классы в датасете: 1 (негативный) и 2 (позитивный). Преобразуем их в 0 и 1.\n",
        "y_train = train[\"Class\"] - 1"
      ]
    },
    {
      "cell_type": "markdown",
      "metadata": {
        "id": "7JuLOCqpLsNL"
      },
      "source": [
        "#### Превращаем слова в цифры (Токенизация и Дополнение)\n",
        "\n",
        "**🇷🇺 (RU)**: Компьютер не понимает слова, но он хорошо работает с числами. Поэтому нам нужно превратить каждое слово в уникальный номер. Этот процесс называется **токенизация**. После этого мы делаем все отзывы одинаковой длины, добавляя «пустые» номера (нули), чтобы нейронная сеть могла с ними работать. Это называется **дополнение** (padding).\n",
        "\n",
        "---\n",
        "\n",
        "**🇬🇧 (EN)**: A computer doesn't understand words, but it works well with numbers. So, we need to turn every word into a unique number. This process is called **tokenization**. After that, we make all reviews the same length by adding 'empty' numbers (zeros) so the neural network can work with them. This is called **padding**."
      ]
    },
    {
      "cell_type": "code",
      "metadata": {
        "id": "x-AUMyjMLw5T"
      },
      "source": [
        "# Создаем токенизатор Keras, который будет учитывать только 10,000 самых частых слов\n",
        "tokenizer = Tokenizer(num_words=num_words)"
      ],
      "execution_count": null,
      "outputs": []
    },
    {
      "cell_type": "code",
      "metadata": {
        "id": "RfsqlGJZM7HR"
      },
      "source": [
        "# Обучаем токенизатор на наших данных\n",
        "tokenizer.fit_on_texts(reviews)"
      ],
      "execution_count": null,
      "outputs": []
    },
    {
      "cell_type": "code",
      "metadata": {
        "id": "wwF89PAestv0"
      },
      "source": [
        "# Преобразуем тексты в числовые последовательности\n",
        "sequences = tokenizer.texts_to_sequences(reviews)"
      ],
      "execution_count": null,
      "outputs": []
    },
    {
      "cell_type": "markdown",
      "metadata": {
        "id": "aZ_NJ2SlNwMI"
      },
      "source": [
        "Пример преобразования отзыва в последовательность чисел:"
      ]
    },
    {
      "cell_type": "code",
      "metadata": {
        "id": "xIUJvjguN0S0"
      },
      "source": [
        "index = 1\n",
        "print(reviews[index])\n",
        "print(sequences[index])"
      ],
      "execution_count": null,
      "outputs": []
    },
    {
      "cell_type": "code",
      "metadata": {
        "id": "ZGLpcETkN3ex"
      },
      "source": [
        "# Дополняем последовательности до фиксированной длины\n",
        "x_train = pad_sequences(sequences, maxlen=max_review_len)"
      ],
      "execution_count": null,
      "outputs": []
    },
    {
      "cell_type": "markdown",
      "metadata": {
        "id": "ypBYfEwvO0c4"
      },
      "source": [
        "### 4. Собираем наш \"мозг\" (Нейронную сеть)\n",
        "\n",
        "**🇷🇺 (RU)**: Теперь мы строим «мозг» нашего компьютера. Он состоит из трех частей (слоев):\n",
        "1.  `Embedding`: Превращает числовые коды слов в осмысленные векторы. Похожие по смыслу слова будут иметь похожие векторы.\n",
        "2.  `LSTM`: «Память» нашей сети. Она читает слова по порядку и пытается понять общий смысл и контекст всего отзыва.\n",
        "3.  `Dense`: «Принимающий решение». Этот слой смотрит на то, что поняла LSTM, и делает финальный вывод: отзыв хороший (ближе к 1) или плохой (ближе к 0).\n",
        "\n",
        "---\n",
        "\n",
        "**🇬🇧 (EN)**: Now we build the 'brain' of our computer. It has three parts (layers):\n",
        "1. `Embedding`: Turns the number codes for words into meaningful vectors. Words with similar meanings will have similar vectors.\n",
        "2. `LSTM`: The 'memory' of our network. It reads the words in order and tries to understand the overall meaning and context of the entire review.\n",
        "3. `Dense`: The 'decision-maker'. This layer looks at what the LSTM understood and makes the final conclusion: the review is good (closer to 1) or bad (closer to 0)."
      ]
    },
    {
      "cell_type": "code",
      "metadata": {
        "id": "8ETORhRkOtIn"
      },
      "source": [
        "model = Sequential()\n",
        "model.add(Embedding(num_words, 64, input_length=max_review_len))\n",
        "model.add(LSTM(128))\n",
        "model.add(Dense(1, activation=\"sigmoid\"))"
      ],
      "execution_count": null,
      "outputs": []
    },
    {
      "cell_type": "code",
      "metadata": {
        "id": "rzds0iUgPLwS"
      },
      "source": [
        "model.compile(optimizer=\"adam\", loss=\"binary_crossentropy\", metrics=[\"accuracy\"])"
      ],
      "execution_count": null,
      "outputs": []
    },
    {
      "cell_type": "markdown",
      "metadata": {
        "id": "GYw-jNpW9-40"
      },
      "source": [
        "**🇷🇺 (RU)**: Теперь мы «учим» наш мозг, показывая ему много примеров. `model.fit` — это команда для начала обучения. Компьютер будет смотреть на отзывы и угадывать, хорошие они или плохие, а потом проверять себя и становиться умнее. График покажет нам, насколько хорошо он учится. После обучения мы проверим его на совершенно новых отзывах, чтобы увидеть, насколько хорошо он на самом деле научился.\n",
        "\n",
        "---\n",
        "\n",
        "**🇬🇧 (EN)**: Now we 'teach' our brain by showing it lots of examples. `model.fit` is the command to start the training. The computer will look at reviews, guess if they are good or bad, then check its answer and get smarter. The graph will show us how well it's learning. After training, we will test it on brand new reviews to see how well it really learned."
      ]
    },
    {
      "cell_type": "code",
      "metadata": {
        "id": "MlxUbg8va_VT"
      },
      "source": [
        "model.load_weights(model_save_path)"
      ],
      "execution_count": null,
      "outputs": []
    },
    {
      "cell_type": "code",
      "metadata": {
        "id": "0OQ9iHYWYJ7G"
      },
      "source": [
        "test = pd.read_csv(\n",
        "    \"yelp_review_polarity_csv/test.csv\", header=None, names=[\"Class\", \"Review\"]\n",
        ")"
      ],
      "execution_count": null,
      "outputs": []
    },
    {
      "cell_type": "code",
      "metadata": {
        "id": "wE8JtIgybvLx"
      },
      "source": [
        "test_sequences = tokenizer.texts_to_sequences(test[\"Review\"])"
      ],
      "execution_count": null,
      "outputs": []
    },
    {
      "cell_type": "code",
      "metadata": {
        "id": "haKQPtc-byBf"
      },
      "source": [
        "x_test = pad_sequences(test_sequences, maxlen=max_review_len)"
      ],
      "execution_count": null,
      "outputs": []
    },
    {
      "cell_type": "code",
      "metadata": {
        "id": "tsdQdcvBcFsv"
      },
      "source": [
        "y_test = test[\"Class\"] - 1"
      ],
      "execution_count": null,
      "outputs": []
    },
    {
      "cell_type": "code",
      "metadata": {
        "id": "MkFvNfFPcaPX"
      },
      "source": [
        "model.evaluate(x_test, y_test, verbose=1)"
      ],
      "execution_count": null,
      "outputs": []
    },
    {
      "cell_type": "markdown",
      "metadata": {
        "id": "_rpc1SbSdZJi"
      },
      "source": [
        "### 6. Прогнозирование на новом отзыве"
      ]
    },
    {
      "cell_type": "code",
      "metadata": {
        "id": "E7mb_GYadd_a"
      },
      "source": [
        "text = '''The SmartBurger restaurant is awful. It’s a small shabby place. \n",
        "The food is really bad and very expensive.  The host and waiters are rude. \n",
        "I will never visit the SmartBurger again!\n",
        "'''"
      ],
      "execution_count": null,
      "outputs": []
    },
    {
      "cell_type": "code",
      "metadata": {
        "id": "g_YUdpNWcv8x"
      },
      "source": [
        "sequence = tokenizer.texts_to_sequences([text])"
      ],
      "execution_count": null,
      "outputs": []
    },
    {
      "cell_type": "code",
      "metadata": {
        "id": "uKWdH2qKfIdG"
      },
      "source": [
        "data = pad_sequences(sequence, maxlen=max_review_len)"
      ],
      "execution_count": null,
      "outputs": []
    },
    {
      "cell_type": "code",
      "metadata": {
        "id": "K_VBdXOlffK2"
      },
      "source": [
        "result = model.predict(data)"
      ],
      "execution_count": null,
      "outputs": []
    },
    {
      "cell_type": "code",
      "metadata": {
        "id": "TbLvIXs6frqY"
      },
      "source": [
        "if result[[0]] < 0.5:\n",
        "    print(\"Отзыв отрицательный\")\n",
        "else:\n",
        "    print(\"Отзыв положительный\")"
      ],
      "execution_count": null,
      "outputs": []
    },
    {
      "cell_type": "markdown",
      "metadata": {
        "id": "5lkKDy7_ung1"
      },
      "source": [
        "### 7. Анализ ошибок модели\n",
        "\n",
        "Чтобы лучше понять, где модель ошибается, давайте посмотрим на несколько отзывов, которые были классифицированы неверно."
      ]
    },
    {
      "cell_type": "code",
      "metadata": {},
      "source": [
        "# Получаем предсказания для всего тестового набора\n",
        "predictions = (model.predict(x_test) > 0.5).astype(\"int32\")\n",
        "\n",
        "# Находим индексы, где предсказания не совпадают с истинными метками\n",
        "y_test_flat = y_test.to_numpy()\n",
        "misclassified_indices = np.where(predictions.flatten() != y_test_flat)[0]\n",
        "\n",
        "print(f\"Количество неверно классифицированных отзывов: {len(misclassified_indices)}\")\n",
        "\n",
        "# Выводим несколько примеров\n",
        "print(\"\\nПримеры неверно классифицированных отзывов:\\n\")\n",
        "for i, index in enumerate(misclassified_indices[:5]):\n",
        "    review_text = test.iloc[index]['Review']\n",
        "    true_label = \"Позитивный\" if y_test.iloc[index] == 1 else \"Негативный\"\n",
        "    predicted_label = \"Позитивный\" if predictions[index][0] == 1 else \"Негативный\"\n",
        "    \n",
        "    print(f\"--- Пример {i+1} ---\")\n",
        "    print(f\"Текст: {review_text[:500]}...\")\n",
        "    print(f\"Истинная метка: {true_label}\")\n",
        "    print(f\"Предсказанная метка: {predicted_label}\")\n",
        "    print(\"-\" * (15 + len(str(i+1))))"
      ],
      "execution_count": null,
      "outputs": []
    },
    {
      "cell_type": "markdown",
      "metadata": {
        "id": "5lkKDy7_ung1"
      },
      "source": [
        "## Задания для самостоятельной работы\n",
        "\n",
        "1. Используйте сеть GRU вместо LSTM для определения тональности отзывов Yelp. Сравните скорость обучения и качество работы обученной сети.\n",
        "2. Меняйте гиперпараметры нейросети, чтобы повысить качество работы:\n",
        "  - Длину вектора представления слов в слое Embedding.\n",
        "  - Количество нейронов на рекуррентном слое (LSTM или GRU).\n",
        "  - Количество рекуррентные слоев.\n",
        "  - Тип оптимизатора (`adam`, `rmsprop` и др.)\n",
        "  - Количество эпох обучения.\n",
        "  - Разрмер мини-выборки.\n",
        "3.Попробуйте применить вместо токенизатора Keras более совершенные:\n",
        "  - [spaCy Tokenizer](https://spacy.io/usage/spacy-101#annotations-token)\n",
        "  - [Huggingface Tokenizers](https://github.com/huggingface/tokenizers)\n",
        "  \n",
        "    Эти токенизаторы сложнее в использовании, но работают лучше.\n",
        "4. Переделайте нейросеть для распознавания набора данных [Yelp reviews - Full](https://s3.amazonaws.com/fast-ai-nlp/yelp_review_full_csv.tgz), в котором 4 класса по количеству звезд у отзывов."
      ]
    }
  ]
}
