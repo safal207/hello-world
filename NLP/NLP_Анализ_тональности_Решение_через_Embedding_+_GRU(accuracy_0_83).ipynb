{
  "nbformat": 4,
  "nbformat_minor": 0,
  "metadata": {
    "colab": {
      "name": "NLP.  Анализ тональности. Решение через Embedding + GRU(accuracy: 0.83)  ",
      "provenance": [],
      "include_colab_link": true
    },
    "kernelspec": {
      "name": "python3",
      "display_name": "Python 3"
    },
    "accelerator": "GPU"
  },
  "cells": [
    {
      "cell_type": "markdown",
      "metadata": {
        "id": "view-in-github",
        "colab_type": "text"
      },
      "source": [
        "<a href=\"https://colab.research.google.com/github/safal207/hello-world/blob/master/NLP_%D0%90%D0%BD%D0%B0%D0%BB%D0%B8%D0%B7_%D1%82%D0%BE%D0%BD%D0%B0%D0%BB%D1%8C%D0%BD%D0%BE%D1%81%D1%82%D0%B8_%D0%A0%D0%B5%D1%88%D0%B5%D0%BD%D0%B8%D0%B5_%D1%87%D0%B5%D1%80%D0%B5%D0%B7_Embedding_%2B_GRU(accuracy_0_83).ipynb\" target=\"_parent\"><img src=\"https://colab.research.google.com/assets/colab-badge.svg\" alt=\"Open In Colab\"/></a>"
      ]
    },
    {
      "cell_type": "markdown",
      "metadata": {
        "id": "Lv1nORvnYVQn"
      },
      "source": [
        "## Определение тональности текста отзывов на фильмы IMDB с помощью сети GRU\n",
        "\n",
        "\n",
        "\n",
        "Чтобы запускать и редактировать код, сохраните копию этого ноутбука себе (File->Save a copy in Drive...). Свою копию вы сможете изменять и запускать.\n",
        "\n",
        "Не забудьте подключить GPU, чтобы сеть обучалась быстрее (Runtime -> Change Runtime Type -> Hardware Accelerator -> GPU)."
      ]
    },
    {
      "cell_type": "code",
      "metadata": {
        "id": "lpsyhVlJX5XH"
      },
      "source": [
        "%tensorflow_version 2.x\n",
        "from tensorflow.keras.datasets import imdb\n",
        "from tensorflow.keras.models import Sequential\n",
        "from tensorflow.keras.layers import Dense, Embedding, GRU \n",
        "from tensorflow.keras import utils\n",
        "from tensorflow.keras.preprocessing.sequence import pad_sequences\n",
        "import numpy as np\n",
        "import matplotlib.pyplot as plt\n",
        "%matplotlib inline "
      ],
      "execution_count": null,
      "outputs": []
    },
    {
      "cell_type": "markdown",
      "metadata": {
        "id": "xGDJkdINNWVh"
      },
      "source": [
        "## Загружаем данные"
      ]
    },
    {
      "cell_type": "code",
      "metadata": {
        "id": "kBUUyZ4cbxoM"
      },
      "source": [
        "max_words=10000"
      ],
      "execution_count": null,
      "outputs": []
    },
    {
      "cell_type": "code",
      "metadata": {
        "id": "toRj2Xs1NZgB",
        "outputId": "0875f8d5-b92c-4a1f-ca4c-477a59720f3a",
        "colab": {
          "base_uri": "https://localhost:8080/"
        }
      },
      "source": [
        "(x_train, y_train), (x_test, y_test) = imdb.load_data(num_words=max_words)"
      ],
      "execution_count": null,
      "outputs": [
        {
          "output_type": "stream",
          "text": [
            "Downloading data from https://storage.googleapis.com/tensorflow/tf-keras-datasets/imdb.npz\n",
            "17465344/17464789 [==============================] - 0s 0us/step\n"
          ],
          "name": "stdout"
        }
      ]
    },
    {
      "cell_type": "markdown",
      "metadata": {
        "id": "kiA7X0oWaS9Z"
      },
      "source": [
        "## Подготовка данных для обучения"
      ]
    },
    {
      "cell_type": "code",
      "metadata": {
        "id": "PiZZxRZhMVWv"
      },
      "source": [
        "maxlen = 200"
      ],
      "execution_count": null,
      "outputs": []
    },
    {
      "cell_type": "code",
      "metadata": {
        "id": "0YrjnapvMVwf"
      },
      "source": [
        "x_train = pad_sequences(x_train, maxlen=maxlen)\n",
        "x_test = pad_sequences(x_test, maxlen=maxlen)"
      ],
      "execution_count": null,
      "outputs": []
    },
    {
      "cell_type": "code",
      "metadata": {
        "id": "SnANlxwYMcNX",
        "outputId": "5dbc0fc1-e733-4d21-a1f7-1bb93a5a1a1c",
        "colab": {
          "base_uri": "https://localhost:8080/"
        }
      },
      "source": [
        "x_train[5002]"
      ],
      "execution_count": null,
      "outputs": [
        {
          "output_type": "execute_result",
          "data": {
            "text/plain": [
              "array([   0,    0,    0,    0,    0,    0,    0,    0,    0,    0,    0,\n",
              "          0,    0,    0,    0,    0,    0,    0,    0,    0,    0,    0,\n",
              "          0,    0,    0,    0,    0,    0,    0,    0,    0,    0,    0,\n",
              "          0,    0,    0,    0,    0,    0,    0,    0,    0,    0,    0,\n",
              "          0,    0,    0,    0,    0,    0,    0,    0,    0,    0,    0,\n",
              "          0,    0,    0,    0,    0,    0,    0,    0,    0,    0,    0,\n",
              "          0,    0,    0,    1,  103,   51,   13,  197,   16,    6, 4796,\n",
              "        239,    7,  107,  555,   11,  132,   39, 8921, 1872,  138,   16,\n",
              "       4093, 1768, 2959,   34, 1620,    2,   11,    4,  755,   12,   43,\n",
              "        286,    4,  172,  209,    2,    5, 5938,   17, 1000,   34, 1768,\n",
              "        279,   29, 3892,   89,  338,    4,  114,   16, 1240, 1747,  103,\n",
              "       3844, 3819,    8,  169, 2875,  112, 7062,   34,  160,  132,   29,\n",
              "        100,   24,  535,  101,  250,    8,  858,   15,  196,   19,   57,\n",
              "       3154,   39,   90,    5,   24,  169, 3533,   18,    6,  910,   20,\n",
              "         14, 1367, 3939, 1101,  935,    4,  545, 1744,  173,   54, 1240,\n",
              "       2875,    2,   56,  209,  112, 1021,   55,  835,  179,   35, 2384,\n",
              "          8,  529, 1663, 1793,    8, 1066,    7,   61,  223,  637, 1231,\n",
              "         19,    4,   86,   31,    5,  353,    8,  859,   13,  126,  219,\n",
              "          4,  755], dtype=int32)"
            ]
          },
          "metadata": {
            "tags": []
          },
          "execution_count": 6
        }
      ]
    },
    {
      "cell_type": "markdown",
      "metadata": {
        "id": "rhSLT9WjTeMk"
      },
      "source": [
        "## Создание нейронной сети"
      ]
    },
    {
      "cell_type": "code",
      "metadata": {
        "id": "Lrzx1e4xTgzL"
      },
      "source": [
        "model = Sequential()\n",
        "model.add(Embedding(max_words, 8, input_length=maxlen))\n",
        "model.add(GRU(32))\n",
        "model.add(Dense(1, activation='sigmoid'))"
      ],
      "execution_count": null,
      "outputs": []
    },
    {
      "cell_type": "code",
      "metadata": {
        "id": "u1yNam-uSunE"
      },
      "source": [
        "model.compile(optimizer='adam', \n",
        "              loss='binary_crossentropy', \n",
        "              metrics=['accuracy'])"
      ],
      "execution_count": null,
      "outputs": []
    },
    {
      "cell_type": "markdown",
      "metadata": {
        "id": "9CHZwMttYMTb"
      },
      "source": [
        "## Обучаем нейронную сеть"
      ]
    },
    {
      "cell_type": "code",
      "metadata": {
        "id": "AkmNH7ahYLyc",
        "outputId": "36a220a1-1e14-4853-b9df-292f12a6a6d4",
        "colab": {
          "base_uri": "https://localhost:8080/"
        }
      },
      "source": [
        "history = model.fit(x_train, \n",
        "                    y_train, \n",
        "                    epochs=20,\n",
        "                    batch_size=128,\n",
        "                    validation_split=0.1)"
      ],
      "execution_count": null,
      "outputs": [
        {
          "output_type": "stream",
          "text": [
            "Epoch 1/20\n",
            "176/176 [==============================] - 3s 15ms/step - loss: 0.5248 - accuracy: 0.7147 - val_loss: 0.3370 - val_accuracy: 0.8636\n",
            "Epoch 2/20\n",
            "176/176 [==============================] - 2s 12ms/step - loss: 0.2740 - accuracy: 0.8919 - val_loss: 0.2980 - val_accuracy: 0.8832\n",
            "Epoch 3/20\n",
            "176/176 [==============================] - 2s 12ms/step - loss: 0.1983 - accuracy: 0.9256 - val_loss: 0.3097 - val_accuracy: 0.8752\n",
            "Epoch 4/20\n",
            "176/176 [==============================] - 2s 12ms/step - loss: 0.1625 - accuracy: 0.9408 - val_loss: 0.4242 - val_accuracy: 0.8384\n",
            "Epoch 5/20\n",
            "176/176 [==============================] - 2s 12ms/step - loss: 0.1351 - accuracy: 0.9537 - val_loss: 0.3518 - val_accuracy: 0.8636\n",
            "Epoch 6/20\n",
            "176/176 [==============================] - 2s 12ms/step - loss: 0.1144 - accuracy: 0.9634 - val_loss: 0.3904 - val_accuracy: 0.8684\n",
            "Epoch 7/20\n",
            "176/176 [==============================] - 2s 12ms/step - loss: 0.0955 - accuracy: 0.9694 - val_loss: 0.4442 - val_accuracy: 0.8536\n",
            "Epoch 8/20\n",
            "176/176 [==============================] - 2s 12ms/step - loss: 0.0789 - accuracy: 0.9763 - val_loss: 0.4972 - val_accuracy: 0.8532\n",
            "Epoch 9/20\n",
            "176/176 [==============================] - 2s 13ms/step - loss: 0.0693 - accuracy: 0.9793 - val_loss: 0.5205 - val_accuracy: 0.8640\n",
            "Epoch 10/20\n",
            "176/176 [==============================] - 2s 13ms/step - loss: 0.0632 - accuracy: 0.9815 - val_loss: 0.6106 - val_accuracy: 0.8604\n",
            "Epoch 11/20\n",
            "176/176 [==============================] - 2s 12ms/step - loss: 0.0592 - accuracy: 0.9820 - val_loss: 0.6081 - val_accuracy: 0.8564\n",
            "Epoch 12/20\n",
            "176/176 [==============================] - 2s 12ms/step - loss: 0.0530 - accuracy: 0.9848 - val_loss: 0.5443 - val_accuracy: 0.8508\n",
            "Epoch 13/20\n",
            "176/176 [==============================] - 2s 13ms/step - loss: 0.0506 - accuracy: 0.9849 - val_loss: 0.5841 - val_accuracy: 0.8440\n",
            "Epoch 14/20\n",
            "176/176 [==============================] - 2s 12ms/step - loss: 0.0472 - accuracy: 0.9850 - val_loss: 0.6668 - val_accuracy: 0.8540\n",
            "Epoch 15/20\n",
            "176/176 [==============================] - 2s 12ms/step - loss: 0.0441 - accuracy: 0.9861 - val_loss: 0.6714 - val_accuracy: 0.8544\n",
            "Epoch 16/20\n",
            "176/176 [==============================] - 2s 13ms/step - loss: 0.0323 - accuracy: 0.9913 - val_loss: 0.7066 - val_accuracy: 0.8528\n",
            "Epoch 17/20\n",
            "176/176 [==============================] - 2s 12ms/step - loss: 0.0272 - accuracy: 0.9931 - val_loss: 0.7458 - val_accuracy: 0.8564\n",
            "Epoch 18/20\n",
            "176/176 [==============================] - 2s 12ms/step - loss: 0.0223 - accuracy: 0.9948 - val_loss: 0.7795 - val_accuracy: 0.8544\n",
            "Epoch 19/20\n",
            "176/176 [==============================] - 2s 12ms/step - loss: 0.0299 - accuracy: 0.9906 - val_loss: 0.7098 - val_accuracy: 0.8424\n",
            "Epoch 20/20\n",
            "176/176 [==============================] - 2s 12ms/step - loss: 0.0323 - accuracy: 0.9901 - val_loss: 0.7483 - val_accuracy: 0.8516\n"
          ],
          "name": "stdout"
        }
      ]
    },
    {
      "cell_type": "code",
      "metadata": {
        "id": "a19UCeAMDhQK",
        "outputId": "c3fa0c1a-7efb-4488-abb0-999731705970",
        "colab": {
          "base_uri": "https://localhost:8080/",
          "height": 279
        }
      },
      "source": [
        "plt.plot(history.history['accuracy'], \n",
        "         label='Доля верных ответов на обучающем наборе')\n",
        "plt.plot(history.history['val_accuracy'], \n",
        "         label='Доля верных ответов на проверочном наборе')\n",
        "plt.xlabel('Эпоха обучения')\n",
        "plt.ylabel('Доля верных ответов')\n",
        "plt.legend()\n",
        "plt.show()"
      ],
      "execution_count": null,
      "outputs": [
        {
          "output_type": "display_data",
          "data": {
            "image/png": "[encoded data removed]",
            "text/plain": [
              "<Figure size 432x288 with 1 Axes>"
            ]
          },
          "metadata": {
            "tags": [],
            "needs_background": "light"
          }
        }
      ]
    },
    {
      "cell_type": "markdown",
      "metadata": {
        "id": "HnnIy3JlEGqW"
      },
      "source": [
        "## Проверяем работу сети на тестовом наборе данных"
      ]
    },
    {
      "cell_type": "code",
      "metadata": {
        "id": "J1_ilV14EKBO",
        "outputId": "e6e0f221-323b-45da-c21a-ea9322a556f6",
        "colab": {
          "base_uri": "https://localhost:8080/"
        }
      },
      "source": [
        "scores = model.evaluate(x_test, y_test, verbose=1)"
      ],
      "execution_count": null,
      "outputs": [
        {
          "output_type": "stream",
          "text": [
            "782/782 [==============================] - 4s 5ms/step - loss: 0.8286 - accuracy: 0.8316\n"
          ],
          "name": "stdout"
        }
      ]
    }
  ]
}