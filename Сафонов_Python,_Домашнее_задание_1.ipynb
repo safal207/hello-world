{
  "nbformat": 4,
  "nbformat_minor": 0,
  "metadata": {
    "kernelspec": {
      "display_name": "Python 3",
      "language": "python",
      "name": "python3"
    },
    "language_info": {
      "codemirror_mode": {
        "name": "ipython",
        "version": 3
      },
      "file_extension": ".py",
      "mimetype": "text/x-python",
      "name": "python",
      "nbconvert_exporter": "python",
      "pygments_lexer": "ipython3",
      "version": "3.6.8"
    },
    "colab": {
      "name": "Сафонов  Python, Домашнее задание 1",
      "provenance": [],
      "collapsed_sections": [],
      "include_colab_link": true
    }
  },
  "cells": [
    {
      "cell_type": "markdown",
      "metadata": {
        "id": "view-in-github",
        "colab_type": "text"
      },
      "source": [
        "<a href=\"https://colab.research.google.com/github/safal207/hello-world/blob/master/%D0%A1%D0%B0%D1%84%D0%BE%D0%BD%D0%BE%D0%B2_Python%2C_%D0%94%D0%BE%D0%BC%D0%B0%D1%88%D0%BD%D0%B5%D0%B5_%D0%B7%D0%B0%D0%B4%D0%B0%D0%BD%D0%B8%D0%B5_1.ipynb\" target=\"_parent\"><img src=\"https://colab.research.google.com/assets/colab-badge.svg\" alt=\"Open In Colab\"/></a>"
      ]
    },
    {
      "cell_type": "markdown",
      "metadata": {
        "id": "U7hoFvcehdnc"
      },
      "source": [
        "## Домашнее задание 1. Введение в Python."
      ]
    },
    {
      "cell_type": "markdown",
      "metadata": {
        "id": "0cQ01NCnkysR"
      },
      "source": [
        "## Light версия"
      ]
    },
    {
      "cell_type": "markdown",
      "metadata": {
        "id": "bW_kKRKthdn7"
      },
      "source": [
        "### Задача 1\n",
        "\n",
        "С помощью функции input считайте с входящей строки два целых числа и выведите их сумму, разность, произведение."
      ]
    },
    {
      "cell_type": "code",
      "metadata": {
        "id": "Ywd30IpAcoYg",
        "outputId": "072276c8-5362-4a41-b142-2bc12c6e0ff3",
        "colab": {
          "base_uri": "https://localhost:8080/",
          "height": 54
        }
      },
      "source": [
        "#С помощью функции input считайте с входящей строки два целых числа \n",
        "a = int(input())\n",
        "b = int(input())"
      ],
      "execution_count": null,
      "outputs": [
        {
          "output_type": "stream",
          "text": [
            "4\n",
            "6\n"
          ],
          "name": "stdout"
        }
      ]
    },
    {
      "cell_type": "code",
      "metadata": {
        "id": "ncbpypGALLqs",
        "outputId": "9fb01e4b-d9ec-4529-da1a-194e16b633a8",
        "colab": {
          "base_uri": "https://localhost:8080/",
          "height": 72
        }
      },
      "source": [
        "#Выражения\n",
        "#сумма\n",
        "print(a + b)\n",
        "#разность\n",
        "print(a - b)\n",
        "#произведение\n",
        "print(a * b)\n",
        "\n"
      ],
      "execution_count": null,
      "outputs": [
        {
          "output_type": "stream",
          "text": [
            "10\n",
            "-2\n",
            "24\n"
          ],
          "name": "stdout"
        }
      ]
    },
    {
      "cell_type": "markdown",
      "metadata": {
        "id": "PguJdnEqhdoI"
      },
      "source": [
        "\n",
        "### Задача 2\n",
        "\n",
        "Дан ряд целых чисел от 10 до 25 включительно. Используя цикл for, выведите на экран сумму двух последовательно идущих чисел.\n",
        "\n",
        "\n",
        "**Пример**: \n",
        "\n",
        "для ряда от 2 до 6 включительно выдача выглядит так: \n",
        "\n",
        "5\n",
        "\n",
        "7\n",
        "\n",
        "9\n",
        "\n",
        "11\n"
      ]
    },
    {
      "cell_type": "code",
      "metadata": {
        "id": "m0o40FuT6Wxu",
        "outputId": "67981dc4-1e08-4196-b626-78611b4cb7b5",
        "colab": {
          "base_uri": "https://localhost:8080/",
          "height": 90
        }
      },
      "source": [
        "for i in range(2,6):\n",
        "  print(2*i + 1)\n",
        "  #print(l + 1)"
      ],
      "execution_count": null,
      "outputs": [
        {
          "output_type": "stream",
          "text": [
            "5\n",
            "7\n",
            "9\n",
            "11\n"
          ],
          "name": "stdout"
        }
      ]
    },
    {
      "cell_type": "code",
      "metadata": {
        "id": "nSimxgYzbZAz",
        "outputId": "05405d79-f8a7-4b58-e7d3-46f727be1df4",
        "colab": {
          "base_uri": "https://localhost:8080/",
          "height": 290
        }
      },
      "source": [
        "for i in range(10,25):\n",
        "  print(2*i + 1)"
      ],
      "execution_count": null,
      "outputs": [
        {
          "output_type": "stream",
          "text": [
            "21\n",
            "23\n",
            "25\n",
            "27\n",
            "29\n",
            "31\n",
            "33\n",
            "35\n",
            "37\n",
            "39\n",
            "41\n",
            "43\n",
            "45\n",
            "47\n",
            "49\n"
          ],
          "name": "stdout"
        }
      ]
    },
    {
      "cell_type": "markdown",
      "metadata": {
        "id": "CZpydHtThdoR"
      },
      "source": [
        "### Задача 3\n",
        "\n",
        "Для ряда целых чисел от 100 до 150 включительно выведите на экран только те, что делятся на 5 без остатка."
      ]
    },
    {
      "cell_type": "code",
      "metadata": {
        "id": "SXt-o0Nb7B2p",
        "outputId": "26acbf29-172d-4420-b686-96ba119ffc6c",
        "colab": {
          "base_uri": "https://localhost:8080/",
          "height": 217
        }
      },
      "source": [
        "for i in range(100, 151):\n",
        "  if  (i % 5) == 0:\n",
        "    print(i)"
      ],
      "execution_count": null,
      "outputs": [
        {
          "output_type": "stream",
          "text": [
            "100\n",
            "105\n",
            "110\n",
            "115\n",
            "120\n",
            "125\n",
            "130\n",
            "135\n",
            "140\n",
            "145\n",
            "150\n"
          ],
          "name": "stdout"
        }
      ]
    },
    {
      "cell_type": "markdown",
      "metadata": {
        "id": "_L4Bd414hdog"
      },
      "source": [
        "### Задача 4\n",
        "\n",
        "С помощью функции input считайте с входящей строки целое положительное число и сохраните его в переменную N. Используя конструкцию if...else, выведите на экран результат в зависимости от условий:\n",
        "\n",
        "* Если N нечетное, то выведите на экран \"N нечетное\"\n",
        "* Если N четное и входит в интервал от 5 до 10 включительно, выведите на экран \"N четное и принадлежит интервалу [5, 10]\"\n",
        "* Если N четное и больше 10, выведите на экран \"N четное и N > 10\"\n",
        "* Если N четное и меньше 5, выведите на экран \"N четное и N < 5\""
      ]
    },
    {
      "cell_type": "code",
      "metadata": {
        "id": "L6ir1Tzab4uM",
        "outputId": "32ac38cd-d8dd-4991-886b-4f4ed7124255",
        "colab": {
          "base_uri": "https://localhost:8080/",
          "height": 35
        }
      },
      "source": [
        "N = int(input()) #читайте с входящей строки целое положительное число и сохраните его в переменную N"
      ],
      "execution_count": null,
      "outputs": [
        {
          "output_type": "stream",
          "text": [
            "4\n"
          ],
          "name": "stdout"
        }
      ]
    },
    {
      "cell_type": "code",
      "metadata": {
        "id": "oqK1-B-WcEAn",
        "outputId": "b86d6b9d-a1b4-4929-a228-e3b16c356494",
        "colab": {
          "base_uri": "https://localhost:8080/",
          "height": 35
        }
      },
      "source": [
        "#Если N нечетное, то выведите на экран \"N нечетное\"\n",
        "if N % 2 != 0:\n",
        "  print(\"N нечетное\")\n",
        "elif (N >= 5 and N <=10):\n",
        "  print(\"N четное и принадлежит интервалу [5, 10]\")\n",
        "elif (N % 2 == 0 and N > 10):\n",
        "  print(\"N четное и N > 10\")  \n",
        "elif (N % 2 == 0 and N <5):\n",
        "  print(\"N четное и N < 5\")  "
      ],
      "execution_count": null,
      "outputs": [
        {
          "output_type": "stream",
          "text": [
            "N четное и N < 5\n"
          ],
          "name": "stdout"
        }
      ]
    },
    {
      "cell_type": "markdown",
      "metadata": {
        "id": "WQweBQ8nhdol"
      },
      "source": [
        "### Задача 5\n",
        "\n",
        "Используя цикл while, посчитайте и выведите на экран сумму всех целых чисел от 15 до 22 включительно.\n"
      ]
    },
    {
      "cell_type": "code",
      "metadata": {
        "id": "cJsDnO5Kh0jx",
        "outputId": "f628e449-c937-4409-e0d7-13f1c54ef334",
        "colab": {
          "base_uri": "https://localhost:8080/",
          "height": 35
        }
      },
      "source": [
        "# проверка\n",
        "15+16+17+18+19+20+21+22"
      ],
      "execution_count": null,
      "outputs": [
        {
          "output_type": "execute_result",
          "data": {
            "text/plain": [
              "148"
            ]
          },
          "metadata": {
            "tags": []
          },
          "execution_count": 134
        }
      ]
    },
    {
      "cell_type": "code",
      "metadata": {
        "id": "GapHAhIXgDbZ",
        "outputId": "6ffcb3b0-8a84-4753-b0d7-3858426a349a",
        "colab": {
          "base_uri": "https://localhost:8080/",
          "height": 35
        }
      },
      "source": [
        "# Решение\n",
        "nach = 15\n",
        "summm = 0\n",
        "while nach <=22:\n",
        "  summm = summm + nach\n",
        "  #шаг +1\n",
        "  nach += 1\n",
        "print(summm)   "
      ],
      "execution_count": null,
      "outputs": [
        {
          "output_type": "stream",
          "text": [
            "148\n"
          ],
          "name": "stdout"
        }
      ]
    },
    {
      "cell_type": "markdown",
      "metadata": {
        "id": "YhJKiRAchdow"
      },
      "source": [
        "### Задача 6\n",
        "\n",
        "Используя цикл for, найдите сумму всех элементов заданного списка (без использования встроенных функций sum, len, sort и т.д.)."
      ]
    },
    {
      "cell_type": "code",
      "metadata": {
        "id": "pdLvi6zPiFo5",
        "outputId": "4cd3debe-2cef-4a4b-bdea-830ad6711620",
        "colab": {
          "base_uri": "https://localhost:8080/",
          "height": 35
        }
      },
      "source": [
        "# Проверка 1\n",
        "56 + 23 + 67 + 45 + 67 + 2 + 47 + 158 + 31 + 34 + 78 + 23 + 78 + 23 + 89 + 23 + 36"
      ],
      "execution_count": null,
      "outputs": [
        {
          "output_type": "execute_result",
          "data": {
            "text/plain": [
              "880"
            ]
          },
          "metadata": {
            "tags": []
          },
          "execution_count": 41
        }
      ]
    },
    {
      "cell_type": "code",
      "metadata": {
        "id": "ZZI2CQRAia7F",
        "outputId": "8ad7f3c9-c393-417c-fd99-5e98d1c7c937",
        "colab": {
          "base_uri": "https://localhost:8080/",
          "height": 35
        }
      },
      "source": [
        "# Проверка 2\n",
        "my_list = [56, 23, 67, 45, 67, 2, 47, 158, 31, 34, 78, 23, 78, 23, 89, 23, 36]\n",
        "N=sum(my_list)\n",
        "print(N)\n"
      ],
      "execution_count": null,
      "outputs": [
        {
          "output_type": "stream",
          "text": [
            "880\n"
          ],
          "name": "stdout"
        }
      ]
    },
    {
      "cell_type": "code",
      "metadata": {
        "id": "Im5W6TNGhdo6",
        "outputId": "26e53d87-f77c-4de0-f38d-ac538dd4a7cb",
        "colab": {
          "base_uri": "https://localhost:8080/",
          "height": 34
        }
      },
      "source": [
        "my_list = [56, 23, 67, 45, 67, 2, 47, 158, 31, 34, 78, 23, 78, 23, 89, 23, 36]\n",
        "\n",
        "summ = 0\n",
        "\n",
        "for i in my_list:\n",
        "  summ = summ + i\n",
        "print(\"Cумма всех элементов равна\",summ)      "
      ],
      "execution_count": null,
      "outputs": [
        {
          "output_type": "stream",
          "text": [
            "Cумма всех элементов равна 880\n"
          ],
          "name": "stdout"
        }
      ]
    },
    {
      "cell_type": "markdown",
      "metadata": {
        "id": "wIZELo0mhdpU"
      },
      "source": [
        "### Задача 7\n",
        "\n",
        "Используя цикл (любой), найдите значение максимального элемента списка из предыдущего задания (без использования встроенных функций max и т.д.). Можно использовать встроенные методы списков (любые). \n",
        "\n",
        "P.S. Не стесняйтесь гуглить :)\n",
        "\n",
        "P.S. 2 Гуглить нужно фразу \"алгоритм поиска максимального элемента массива\".\n",
        "\n",
        "Пример: для списка [3, 4, 1, 7, 2] значением максимального элемента является число 7."
      ]
    },
    {
      "cell_type": "code",
      "metadata": {
        "id": "CBozs-24jdvj",
        "outputId": "37a4ed06-b632-4e32-fd22-1ff3e32c2c38",
        "colab": {
          "base_uri": "https://localhost:8080/",
          "height": 35
        }
      },
      "source": [
        "#Проверка \n",
        "my_list = [3,4,1,7,2]\n",
        "print(max(my_list))"
      ],
      "execution_count": null,
      "outputs": [
        {
          "output_type": "stream",
          "text": [
            "7\n"
          ],
          "name": "stdout"
        }
      ]
    },
    {
      "cell_type": "code",
      "metadata": {
        "id": "0h5IQw_cnEE-",
        "outputId": "d019dc15-0c3a-4fe3-93fd-6a7c766eaa00",
        "colab": {
          "base_uri": "https://localhost:8080/",
          "height": 35
        }
      },
      "source": [
        "# Решение вручную\n",
        "my_list = [3,4,1,7,2]\n",
        "max = 0\n",
        "for i in my_list:\n",
        "    if i > max:\n",
        "     max = i\n",
        "print(max)"
      ],
      "execution_count": null,
      "outputs": [
        {
          "output_type": "stream",
          "text": [
            "7\n"
          ],
          "name": "stdout"
        }
      ]
    },
    {
      "cell_type": "code",
      "metadata": {
        "id": "eP0yY-9GSnL4",
        "outputId": "82a14460-2c99-43bc-f72d-12a81b81151a",
        "colab": {
          "base_uri": "https://localhost:8080/",
          "height": 35
        }
      },
      "source": [
        "my_list2 = [56, 23, 67, 45, 67, 2, 47, 158, 31, 34, 78, 23, 78, 23, 89, 23, 36]\n",
        "max = 0\n",
        "for i in my_list2:\n",
        "    if i > max:\n",
        "     max = i\n",
        "print(max)"
      ],
      "execution_count": null,
      "outputs": [
        {
          "output_type": "stream",
          "text": [
            "158\n"
          ],
          "name": "stdout"
        }
      ]
    },
    {
      "cell_type": "markdown",
      "metadata": {
        "id": "omPfU7u9hdpi"
      },
      "source": [
        "### Задача 8\n",
        "\n",
        "Создайте словарь, соответствующий следующему описанию. \n",
        "    \n",
        "В честь 8 марта начальник отдела Валера решил принести на работу коробку конфет и угостить коллег :) Красотка Наташа съела две конфеты, ее подруга Алина - целых три, разработчик Марат унес с собой в соседний опен-спейс целых пятнадцать, чтобы поделиться со своей командой, менеджер проекта Лев проходил мимо и съел одну конфету, а сам Валера, будучи сторонником здорового образа жизни, не съел ни одной.\n",
        "\n",
        "P.S. Все совпадения случайны :)"
      ]
    },
    {
      "cell_type": "code",
      "metadata": {
        "id": "2Op_6eKBj2rp"
      },
      "source": [
        "my_dict = {}"
      ],
      "execution_count": null,
      "outputs": []
    },
    {
      "cell_type": "code",
      "metadata": {
        "id": "7H_gnY61zeHK",
        "outputId": "5aecc1d7-30de-4be0-e8ed-b22cb1ef6853",
        "colab": {
          "base_uri": "https://localhost:8080/",
          "height": 35
        }
      },
      "source": [
        "my_dict = { \n",
        "    \"Валера\": 0,\n",
        "    \"Наташа\": 2,\n",
        "    \"Алина\":3,\n",
        "    \"Марат\":15,\n",
        "    \"Лев\": 1 \n",
        "}\n",
        "\n",
        "print(my_dict)"
      ],
      "execution_count": null,
      "outputs": [
        {
          "output_type": "stream",
          "text": [
            "{'Валера': 0, 'Наташа': 2, 'Алина': 3, 'Марат': 15, 'Лев': 1}\n"
          ],
          "name": "stdout"
        }
      ]
    },
    {
      "cell_type": "markdown",
      "metadata": {
        "id": "UUK9d5hUhdpz"
      },
      "source": [
        "### Задача 9\n",
        "\n",
        "Добавьте в словарь из предыдущего задания данные для студента Ромы, который работает неполный рабочий день, и, придя на работу после экзамена, с удовольствием съел 4 конфеты.\n",
        "\n",
        "P.S. Используйте встроенный метод .update"
      ]
    },
    {
      "cell_type": "code",
      "metadata": {
        "id": "FNl8P0_XkLmq",
        "outputId": "396b0809-9c56-44b7-e946-cfe64b40a05e",
        "colab": {
          "base_uri": "https://localhost:8080/",
          "height": 35
        }
      },
      "source": [
        "my_dict.update({'Роман': 4}) #обновляет словарь, добавляя пары (ключ, значение)\n",
        "my_dict # отображение словаря "
      ],
      "execution_count": null,
      "outputs": [
        {
          "output_type": "execute_result",
          "data": {
            "text/plain": [
              "{'Алина': 3, 'Валера': 0, 'Лев': 1, 'Марат': 15, 'Наташа': 2, 'Роман': 4}"
            ]
          },
          "metadata": {
            "tags": []
          },
          "execution_count": 57
        }
      ]
    },
    {
      "cell_type": "code",
      "metadata": {
        "id": "fgPH2mWB4LmK",
        "outputId": "808b94a8-8c3c-4aa7-ff6d-4c1099d54352",
        "colab": {
          "base_uri": "https://localhost:8080/",
          "height": 35
        }
      },
      "source": [
        "my_dict.update({'Роман': 4})\n",
        "#возвращает пары (ключ, значение)\n",
        "my_dict.items() "
      ],
      "execution_count": null,
      "outputs": [
        {
          "output_type": "execute_result",
          "data": {
            "text/plain": [
              "dict_items([('Валера', 0), ('Наташа', 2), ('Алина', 3), ('Марат', 15), ('Лев', 1), ('Роман', 4)])"
            ]
          },
          "metadata": {
            "tags": []
          },
          "execution_count": 58
        }
      ]
    },
    {
      "cell_type": "markdown",
      "metadata": {
        "id": "vpQOcxmhhdp9"
      },
      "source": [
        "## Pro-версия"
      ]
    },
    {
      "cell_type": "markdown",
      "metadata": {
        "id": "g9pd3inChdqC"
      },
      "source": [
        "### Задача 1\n",
        "\n",
        "Выведите на экран следующий паттерн:\n",
        "\n",
        "@\n",
        "\n",
        "@ @\n",
        "\n",
        "@ @ @\n",
        "\n",
        "@ @ @ @ @\n",
        "\n",
        "Обратите внимание на пробел между символами. Рекомендуется использовать циклы (любые) для решения данного задания."
      ]
    },
    {
      "cell_type": "code",
      "metadata": {
        "id": "KqmxyCOhXu3f",
        "outputId": "b9a90349-5443-464a-f514-d198b14056e8",
        "colab": {
          "base_uri": "https://localhost:8080/",
          "height": 90
        }
      },
      "source": [
        "for i in range(1,6):\n",
        "  if i!=4: \n",
        "    print(\"@ \"*i)\n",
        "  \n"
      ],
      "execution_count": null,
      "outputs": [
        {
          "output_type": "stream",
          "text": [
            "@ \n",
            "@ @ \n",
            "@ @ @ \n",
            "@ @ @ @ @ \n"
          ],
          "name": "stdout"
        }
      ]
    },
    {
      "cell_type": "markdown",
      "metadata": {
        "id": "Vh7SqVB5hdqL"
      },
      "source": [
        "### Задача 2\n",
        "\n",
        "Выведите на экран следующий паттерн:\n",
        "\n",
        "1\n",
        "\n",
        "2 2 \n",
        "\n",
        "3 3 3 \n",
        "\n",
        "4 4 4 4 \n",
        "\n",
        "5 5 5 5 5\n",
        "\n",
        "6 6 6 6\n",
        "\n",
        "7 7 7\n",
        "\n",
        "8 8\n",
        "\n",
        "9\n",
        "\n",
        "Обратите внимание на пробел между символами. Обратите внимание на пробел между символами. Рекомендуется использовать циклы (любые) для решения данного задания."
      ]
    },
    {
      "cell_type": "code",
      "metadata": {
        "id": "iGg5BUJoYz81",
        "outputId": "c071e86c-3300-486e-a4d0-1bab8a672476",
        "colab": {
          "base_uri": "https://localhost:8080/",
          "height": 181
        }
      },
      "source": [
        "for i in range(1,10):\n",
        "  if i<6:\n",
        "    print((str(i)+\" \")*i)\n",
        "  elif i >=6: \n",
        "    print((str(i)+\" \")*(10-i))\n",
        "   "
      ],
      "execution_count": null,
      "outputs": [
        {
          "output_type": "stream",
          "text": [
            "1 \n",
            "2 2 \n",
            "3 3 3 \n",
            "4 4 4 4 \n",
            "5 5 5 5 5 \n",
            "6 6 6 6 \n",
            "7 7 7 \n",
            "8 8 \n",
            "9 \n"
          ],
          "name": "stdout"
        }
      ]
    },
    {
      "cell_type": "markdown",
      "metadata": {
        "id": "IMoF_J7AhdqT"
      },
      "source": [
        "### Задача 3\n",
        "\n",
        "Используя цикл while, выведите на экран таблицу умножения для числа 7.\n",
        "\n",
        "**Пример:**\n",
        "    \n",
        "Для числе 5 выдача выглядит так:\n",
        "    \n",
        "5 * 1 = 5\n",
        "\n",
        "5 * 2 = 10\n",
        "\n",
        "5 * 3 = 15\n",
        "\n",
        "5 * 4 = 20\n",
        "\n",
        "5 * 5 = 25\n",
        "\n",
        "...\n",
        "\n",
        "5 * 9 = 45"
      ]
    },
    {
      "cell_type": "code",
      "metadata": {
        "id": "CauMvq_Oj1N-",
        "outputId": "24f03437-6c96-487c-e58f-d1c19525f9fd",
        "colab": {
          "base_uri": "https://localhost:8080/",
          "height": 217
        }
      },
      "source": [
        "a = 5\n",
        "b = 0\n",
        "while b !=11:\n",
        "  b = b+1\n",
        "  print(str(a) + \"*\" + str(b)+' '+'=',a*b)"
      ],
      "execution_count": null,
      "outputs": [
        {
          "output_type": "stream",
          "text": [
            "5*1 = 5\n",
            "5*2 = 10\n",
            "5*3 = 15\n",
            "5*4 = 20\n",
            "5*5 = 25\n",
            "5*6 = 30\n",
            "5*7 = 35\n",
            "5*8 = 40\n",
            "5*9 = 45\n",
            "5*10 = 50\n",
            "5*11 = 55\n"
          ],
          "name": "stdout"
        }
      ]
    },
    {
      "cell_type": "markdown",
      "metadata": {
        "id": "rvEbKNeIhdqY"
      },
      "source": [
        "### Задача 4\n",
        "\n",
        "Представьте, что вы подбрасываете два кубика одновременно. Считайте с входящей строки два целых числа d1 и d2. Проверьте, соответсуют ли введенные числа интервалу значений для кубика. Если нет, то выведите на экран строку \"Ошибка! Значение на кубике (1 или 2, вставьте подходящее значение) не входит в интервал [1, 6]\". В противном случае посчитайте сумму выпавших значений. Если сумма равна 7 или 11, выведите на экран \"Я победил!!!\". Если сумма равна 2, 3 или 12, то выведите на экран \"Я проиграл :(\". Во всех остальных случаях выведите на экран сумму значений.\n"
      ]
    },
    {
      "cell_type": "code",
      "metadata": {
        "id": "g16xP1ii8jVK",
        "outputId": "f212a6e8-901b-4c0b-be34-d6f5936e3022",
        "colab": {
          "base_uri": "https://localhost:8080/",
          "height": 54
        }
      },
      "source": [
        "#кидаем кубики (или вводим их)\n",
        "d1 = int(input())\n",
        "d2 = int(input())"
      ],
      "execution_count": null,
      "outputs": [
        {
          "output_type": "stream",
          "text": [
            "7\n",
            "1\n"
          ],
          "name": "stdout"
        }
      ]
    },
    {
      "cell_type": "code",
      "metadata": {
        "id": "7CwyWX_0qjTA",
        "outputId": "2441bc9b-3264-413c-f970-8a9935c7cdc7",
        "colab": {
          "base_uri": "https://localhost:8080/",
          "height": 35
        }
      },
      "source": [
        "# Условие:\n",
        "#Проверка соответствуют введеннные значения интервалу [1,6]\n",
        "if (d1 <1 or d1> 6) or (d2 <1 or d2> 6):\n",
        "  print(\"Ошибка! Значение на кубике (1 или 2, вставьте подходящее значение) не входит в интервал [1, 6]\")\n",
        "else:\n",
        "  summ = d1 + d2\n",
        "  if summ == 7 or summ == 11:\n",
        "      print(\"Я победил!!!\")\n",
        "  elif summ==2 or summ ==3 or summ ==12:\n",
        "      print(\"Я проиграл :(\")   \n",
        "  else:\n",
        "      print('Сумма значений двух кубиков =', summ)    \n"
      ],
      "execution_count": null,
      "outputs": [
        {
          "output_type": "stream",
          "text": [
            "Ошибка! Значение на кубике (1 или 2, вставьте подходящее значение) не входит в интервал [1, 6]\n"
          ],
          "name": "stdout"
        }
      ]
    },
    {
      "cell_type": "markdown",
      "metadata": {
        "id": "OTSU9QTLhdqe"
      },
      "source": [
        "### Задача 5\n",
        "\n",
        "Напишите код, который ищет все числа в интервале от 3000 до 4300 включительно, делящиеся на 11, но не делящиеся на 5. Выведите на экран все найденные числа."
      ]
    },
    {
      "cell_type": "code",
      "metadata": {
        "id": "1rHXQC3t4aWP",
        "outputId": "6fe09b81-62f5-4cce-a762-cd896b46578d",
        "colab": {
          "base_uri": "https://localhost:8080/",
          "height": 1000
        }
      },
      "source": [
        "#делятся на 11, но неделятся на 5\n",
        "for i in range(3000, 4301):\n",
        "  #Условие для перебора 3000, 4300 включительно\n",
        "  if  (i % 5) != 0 and ( i % 11) == 0:\n",
        "    print(i)"
      ],
      "execution_count": null,
      "outputs": [
        {
          "output_type": "stream",
          "text": [
            "3003\n",
            "3014\n",
            "3036\n",
            "3047\n",
            "3058\n",
            "3069\n",
            "3091\n",
            "3102\n",
            "3113\n",
            "3124\n",
            "3146\n",
            "3157\n",
            "3168\n",
            "3179\n",
            "3201\n",
            "3212\n",
            "3223\n",
            "3234\n",
            "3256\n",
            "3267\n",
            "3278\n",
            "3289\n",
            "3311\n",
            "3322\n",
            "3333\n",
            "3344\n",
            "3366\n",
            "3377\n",
            "3388\n",
            "3399\n",
            "3421\n",
            "3432\n",
            "3443\n",
            "3454\n",
            "3476\n",
            "3487\n",
            "3498\n",
            "3509\n",
            "3531\n",
            "3542\n",
            "3553\n",
            "3564\n",
            "3586\n",
            "3597\n",
            "3608\n",
            "3619\n",
            "3641\n",
            "3652\n",
            "3663\n",
            "3674\n",
            "3696\n",
            "3707\n",
            "3718\n",
            "3729\n",
            "3751\n",
            "3762\n",
            "3773\n",
            "3784\n",
            "3806\n",
            "3817\n",
            "3828\n",
            "3839\n",
            "3861\n",
            "3872\n",
            "3883\n",
            "3894\n",
            "3916\n",
            "3927\n",
            "3938\n",
            "3949\n",
            "3971\n",
            "3982\n",
            "3993\n",
            "4004\n",
            "4026\n",
            "4037\n",
            "4048\n",
            "4059\n",
            "4081\n",
            "4092\n",
            "4103\n",
            "4114\n",
            "4136\n",
            "4147\n",
            "4158\n",
            "4169\n",
            "4191\n",
            "4202\n",
            "4213\n",
            "4224\n",
            "4246\n",
            "4257\n",
            "4268\n",
            "4279\n"
          ],
          "name": "stdout"
        }
      ]
    },
    {
      "cell_type": "markdown",
      "metadata": {
        "id": "m-pYH0xDhdqk"
      },
      "source": [
        "### Задача 6\n",
        "\n",
        "Используя циклы, напишите код, который создает список (list) путем конкатенации значений данного листа с целыми числами от 1 до (произвольного) n включительно.\n",
        "\n",
        "Пример:\n",
        "\n",
        "для списка [\"сосиски\", \"горчица\"] при n = 3 результат должен выглядеть так:\n",
        "\n",
        "['сосиски$\\_$1', 'горчица$\\_$1', 'сосиски$\\_2$', 'горчица$\\_$2', 'сосиски$\\_$3', 'горчица$\\_$3']"
      ]
    },
    {
      "cell_type": "code",
      "metadata": {
        "id": "_NAYfQuk9ae_",
        "outputId": "d1074acb-34c3-4973-eed8-9b25d22be99d",
        "colab": {
          "base_uri": "https://localhost:8080/",
          "height": 72
        }
      },
      "source": [
        "sample_list1 = [\"сосиски\", \"горчица\"]\n",
        "n1 = 3\n",
        "#создадим новый лист (список)\n",
        "new_list1 = []\n",
        "# создадим перебор от 1 до n1 +1\n",
        "for i in range(1, n1 + 1):\n",
        "  for j in sample_list1:\n",
        "    new_list1.append(j +'_' + str(i))\n",
        "  print(new_list1)  "
      ],
      "execution_count": null,
      "outputs": [
        {
          "output_type": "stream",
          "text": [
            "['сосиски_1', 'горчица_1']\n",
            "['сосиски_1', 'горчица_1', 'сосиски_2', 'горчица_2']\n",
            "['сосиски_1', 'горчица_1', 'сосиски_2', 'горчица_2', 'сосиски_3', 'горчица_3']\n"
          ],
          "name": "stdout"
        }
      ]
    },
    {
      "cell_type": "code",
      "metadata": {
        "id": "Eqz3zAL-hdqq",
        "outputId": "2139d6cb-c6af-4495-9be4-3d67e28b3458",
        "colab": {
          "base_uri": "https://localhost:8080/",
          "height": 35
        }
      },
      "source": [
        "sample_list = [\"мандаринки\", \"киви\", \"лимон\"]\n",
        "n = 4\n",
        "new_list =[]\n",
        "for i in range(1,n +1):\n",
        "  for j in sample_list:\n",
        "    new_list.append(j+\"_\"+str(i))\n",
        "print(new_list)"
      ],
      "execution_count": null,
      "outputs": [
        {
          "output_type": "stream",
          "text": [
            "['сосиски_1', 'горчица_1', 'сосиски_2', 'горчица_2', 'сосиски_3', 'горчица_3', 'сосиски_4', 'горчица_4']\n"
          ],
          "name": "stdout"
        }
      ]
    },
    {
      "cell_type": "markdown",
      "metadata": {
        "id": "WtwsV6BRhdrE"
      },
      "source": [
        "### Задача 7\n",
        "\n",
        "Напишите код, который считает количество элементов в заданном списке до тех пор, пока не встретится элемент типа словарь.\n",
        "\n",
        "Пример:\n",
        "\n",
        "для списка [3, \"котики\", 0.45, 5, {'котики' : 2, 'слоники' : 9}, \"слоники\", 34] на выходе должны получить число 4"
      ]
    },
    {
      "cell_type": "code",
      "metadata": {
        "id": "ca54sghZnGj3"
      },
      "source": [
        "list_for_pro_task_1 = [3, \"котики\", 0.45, 5, {'котики' : 2, 'слоники' : 9}, \"слоники\", 34]"
      ],
      "execution_count": null,
      "outputs": []
    },
    {
      "cell_type": "code",
      "metadata": {
        "id": "m5iv-Hj9hdrM",
        "outputId": "73238d94-0fa3-49c0-b22c-1c635e652207",
        "colab": {
          "base_uri": "https://localhost:8080/",
          "height": 35
        }
      },
      "source": [
        "n =0\n",
        "for i in list_for_pro_task_1:\n",
        "  n =n+1 \n",
        "  if type(i) == dict:\n",
        "    print(n-1)"
      ],
      "execution_count": null,
      "outputs": [
        {
          "output_type": "stream",
          "text": [
            "4\n"
          ],
          "name": "stdout"
        }
      ]
    },
    {
      "cell_type": "markdown",
      "metadata": {
        "id": "fHMBDh-ahdrz"
      },
      "source": [
        "### Задача 8\n",
        "\n",
        "Создайте словарь (dict) c ключами, соответствующими числам от 1 до 20 включительно и значениями, соответствующими квадратам ключей. \n",
        "\n",
        "P.S. Используйте циклы или функции, прямое \"ручное\" присваивание не допускается (!!!)\n",
        "\n",
        "Пример: \n",
        "\n",
        "для чисел от 1 до 3 включительно словарь должен выглядеть так: {1 : 1, 2 : 4, 3 : 9}"
      ]
    },
    {
      "cell_type": "code",
      "metadata": {
        "id": "b_lvupWxqXL1",
        "outputId": "94d46f4c-94ff-46a7-92f4-94d9a35e7fd0",
        "colab": {
          "base_uri": "https://localhost:8080/",
          "height": 357
        }
      },
      "source": [
        "my_dict = {} # создаем словарь\n",
        "#перебор от 1 до 20 включительно\n",
        "for i in range(1,21):\n",
        "  # условие квадраты ключей\n",
        "  my_dict[i] = i**2\n",
        "my_dict"
      ],
      "execution_count": null,
      "outputs": [
        {
          "output_type": "execute_result",
          "data": {
            "text/plain": [
              "{1: 1,\n",
              " 2: 4,\n",
              " 3: 9,\n",
              " 4: 16,\n",
              " 5: 25,\n",
              " 6: 36,\n",
              " 7: 49,\n",
              " 8: 64,\n",
              " 9: 81,\n",
              " 10: 100,\n",
              " 11: 121,\n",
              " 12: 144,\n",
              " 13: 169,\n",
              " 14: 196,\n",
              " 15: 225,\n",
              " 16: 256,\n",
              " 17: 289,\n",
              " 18: 324,\n",
              " 19: 361,\n",
              " 20: 400}"
            ]
          },
          "metadata": {
            "tags": []
          },
          "execution_count": 13
        }
      ]
    }
  ]
}