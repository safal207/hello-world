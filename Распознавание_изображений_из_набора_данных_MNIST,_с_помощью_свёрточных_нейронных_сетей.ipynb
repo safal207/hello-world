{
  "nbformat": 4,
  "nbformat_minor": 0,
  "metadata": {
    "colab": {
      "name": "Распознавание изображений из набора данных MNIST, с помощью свёрточных нейронных сетей",
      "provenance": [],
      "collapsed_sections": [],
      "machine_shape": "hm",
      "include_colab_link": true
    },
    "kernelspec": {
      "name": "python3",
      "display_name": "Python 3"
    },
    "accelerator": "GPU"
  },
  "cells": [
    {
      "cell_type": "markdown",
      "metadata": {
        "id": "view-in-github",
        "colab_type": "text"
      },
      "source": [
        "<a href=\"https://colab.research.google.com/github/safal207/hello-world/blob/master/%D0%A0%D0%B0%D1%81%D0%BF%D0%BE%D0%B7%D0%BD%D0%B0%D0%B2%D0%B0%D0%BD%D0%B8%D0%B5_%D0%B8%D0%B7%D0%BE%D0%B1%D1%80%D0%B0%D0%B6%D0%B5%D0%BD%D0%B8%D0%B9_%D0%B8%D0%B7_%D0%BD%D0%B0%D0%B1%D0%BE%D1%80%D0%B0_%D0%B4%D0%B0%D0%BD%D0%BD%D1%8B%D1%85_MNIST%2C_%D1%81_%D0%BF%D0%BE%D0%BC%D0%BE%D1%89%D1%8C%D1%8E_%D1%81%D0%B2%D1%91%D1%80%D1%82%D0%BE%D1%87%D0%BD%D1%8B%D1%85_%D0%BD%D0%B5%D0%B9%D1%80%D0%BE%D0%BD%D0%BD%D1%8B%D1%85_%D1%81%D0%B5%D1%82%D0%B5%D0%B9.ipynb\" target=\"_parent\"><img src=\"https://colab.research.google.com/assets/colab-badge.svg\" alt=\"Open In Colab\"/></a>"
      ]
    },
    {
      "cell_type": "markdown",
      "metadata": {
        "id": "a4DAOEtDLMOY"
      },
      "source": [
        "**Распознавание изображений из набора данных MNIST,  с помощью свёрточных нейронных сетей**\n",
        "---\n",
        "\n",
        "\n",
        "Чтобы запускать и редактировать код, сохраните копию этого ноутбука себе (File->Save a copy in Drive...). Свою копию вы сможете изменять и запускать.\n",
        "\n"
      ]
    },
    {
      "cell_type": "code",
      "metadata": {
        "id": "3b4wMrfQKe2l"
      },
      "source": [
        "from tensorflow.keras.datasets import mnist #Загружаем базу mnist\n",
        "\n",
        "\n",
        "from tensorflow.keras.models import Sequential #Сеть прямого распространения\n",
        "#Базовые слои для счёрточных сетей\n",
        "from tensorflow.keras.layers import Dense, Conv2D, MaxPooling2D, Flatten, Dropout, BatchNormalization\n",
        "from tensorflow.python.keras.preprocessing.image import ImageDataGenerator # работа с изображениями\n",
        "from tensorflow.keras.optimizers import Adam, Adadelta # оптимизаторы\n",
        "from tensorflow.keras import utils #Используем дял to_categoricall\n",
        "from tensorflow.keras.preprocessing import image #Для отрисовки изображений\n",
        "from google.colab import files #Для загрузки своей картинки\n",
        "import numpy as np #Библиотека работы с массивами\n",
        "import matplotlib.pyplot as plt #Для отрисовки графиков\n",
        "from PIL import Image #Для отрисовки изображений\n",
        "import random #Для генерации случайных чисел \n",
        "import math # Для округления\n",
        "import os #Для работы с файлами \n",
        "# подключем диск\n",
        "from google.colab import drive\n",
        "\n",
        "%matplotlib inline"
      ],
      "execution_count": null,
      "outputs": []
    },
    {
      "cell_type": "markdown",
      "metadata": {
        "id": "7A0tdANyLCPs"
      },
      "source": [
        "# Распознавание изображений из набора данных MNIST \n"
      ]
    },
    {
      "cell_type": "code",
      "metadata": {
        "id": "_PT1LV_KMVto"
      },
      "source": [
        "#Загружаем MNIST\n",
        "(x_train, y_train), (x_test, y_test) = mnist.load_data()"
      ],
      "execution_count": null,
      "outputs": []
    },
    {
      "cell_type": "code",
      "metadata": {
        "id": "nft2zSCpVWYV",
        "outputId": "43b0ac8e-ce63-4706-9078-2db82663ca10",
        "colab": {
          "base_uri": "https://localhost:8080/"
        }
      },
      "source": [
        "x_train.shape # обучающая выборка"
      ],
      "execution_count": null,
      "outputs": [
        {
          "output_type": "execute_result",
          "data": {
            "text/plain": [
              "(60000, 28, 28)"
            ]
          },
          "metadata": {
            "tags": []
          },
          "execution_count": 37
        }
      ]
    },
    {
      "cell_type": "code",
      "metadata": {
        "id": "r6_K5jhVPzgs",
        "outputId": "0067ecda-4d6e-4f14-fba2-22382dfcec5a",
        "colab": {
          "base_uri": "https://localhost:8080/",
          "height": 103
        }
      },
      "source": [
        "# Выводим для примера картинки по кадому классу\n",
        "\n",
        "fig, axs = plt.subplots(1, 10, figsize=(25, 3)) #Создаем полотно из 10 графиков\n",
        "\n",
        "for i in range(10): #Проходим по классам от 0 до 9\n",
        "  label_indexes = np.where(y_train==i)[0] #Получаем список из индексов положений класса i в y_train\n",
        "  index = random.choice(label_indexes) #Случайным образом выбираем из списка индекс\n",
        "  img = x_train[index] #Выбираем из x_train нужное изображение\n",
        "  axs[i].imshow(Image.fromarray(img), cmap='gray') #Отображаем изображение i-ым графиков\n",
        "\n",
        "\n",
        "plt.show() #Показываем изображения"
      ],
      "execution_count": null,
      "outputs": [
        {
          "output_type": "display_data",
          "data": {
            "image/png": "[encoded data removed]",
            "text/plain": [
              "<Figure size 1800x216 with 10 Axes>"
            ]
          },
          "metadata": {
            "tags": [],
            "needs_background": "light"
          }
        }
      ]
    },
    {
      "cell_type": "code",
      "metadata": {
        "id": "r2y2LegAQ9VK"
      },
      "source": [
        "#Превращаем y_train и y_test сетей в формат one hot encoding\n",
        "y_train = utils.to_categorical(y_train, 10)\n",
        "y_test = utils.to_categorical(y_test, 10)\n",
        "\n",
        "#Меняем формат данных MNIST\n",
        "#Надо добавить в конце размерность 1\n",
        "#Чтобы свёрточная сеть понимала, что это чёрно-белые данные\n",
        "x_train = x_train.reshape(x_train.shape[0], 28, 28, 1)\n",
        "x_test = x_test.reshape(x_test.shape[0], 28, 28, 1)"
      ],
      "execution_count": null,
      "outputs": []
    },
    {
      "cell_type": "code",
      "metadata": {
        "id": "tZwKJRB7dW3q",
        "outputId": "0e9c4aff-e289-4eb6-e418-c0d907dd2487",
        "colab": {
          "base_uri": "https://localhost:8080/"
        }
      },
      "source": [
        "# Посмотрим форматы выборок перед обучением\n",
        "print(x_train.shape)\n",
        "print(x_test.shape)\n",
        "print(y_train.shape)\n",
        "print(y_test.shape)"
      ],
      "execution_count": null,
      "outputs": [
        {
          "output_type": "stream",
          "text": [
            "(60000, 28, 28, 1)\n",
            "(10000, 28, 28, 1)\n",
            "(60000, 10)\n",
            "(10000, 10)\n"
          ],
          "name": "stdout"
        }
      ]
    },
    {
      "cell_type": "code",
      "metadata": {
        "id": "5YioYV0CPY7B",
        "outputId": "7b37e87f-b258-40bb-b42d-97fd4dc8ffe2",
        "colab": {
          "base_uri": "https://localhost:8080/",
          "height": 1000
        }
      },
      "source": [
        "#задаём batch_size\n",
        "batch_size = 128 \n",
        "\n",
        "#Создаем последовательную модель\n",
        "model = Sequential()\n",
        "#Слой пакетной нормализации\n",
        "model.add(BatchNormalization(input_shape=(28, 28, 1)))\n",
        "#Первый сверточный слой\n",
        "model.add(Conv2D(32, (3, 3), padding='same', activation='relu'))\n",
        "#Второй сверточный слой\n",
        "model.add(Conv2D(32, (3, 3), padding='same', activation='relu'))\n",
        "#Первый слой подвыборки\n",
        "model.add(MaxPooling2D(pool_size=(2, 2)))\n",
        "#Слой регуляризации Dropout\n",
        "model.add(Dropout(0.25))\n",
        "\n",
        "model.add(Flatten())\n",
        "#Полносвязный слой для классификации\n",
        "model.add(Dense(256, activation='relu'))\n",
        "#Слой регуляризации Dropout\n",
        "model.add(Dropout(0.25))\n",
        "#Выходной полносвязный слой\n",
        "model.add(Dense(10, activation='softmax'))\n",
        "\n",
        "#Компилируем сеть\n",
        "model.compile(loss=\"categorical_crossentropy\", optimizer=\"adam\", metrics=[\"accuracy\"])\n",
        "model.summary()\n",
        "#Обучаем сеть на данных mnist\n",
        "history = model.fit(x_train, \n",
        "                    y_train, \n",
        "                    batch_size=batch_size, \n",
        "                    epochs=15,\n",
        "                    validation_data=(x_test, y_test),\n",
        "                    verbose=1)\n",
        "\n",
        "#Отображаем график точности обучения\n",
        "plt.plot(history.history['accuracy'], \n",
        "         label='Доля верных ответов на обучающем наборе')\n",
        "plt.plot(history.history['val_accuracy'], \n",
        "         label='Доля верных ответов на проверочном наборе')\n",
        "plt.xlabel('Эпоха обучения')\n",
        "plt.ylabel('Доля верных ответов')\n",
        "plt.legend()\n",
        "plt.show()"
      ],
      "execution_count": null,
      "outputs": [
        {
          "output_type": "stream",
          "text": [
            "Model: \"sequential_4\"\n",
            "_________________________________________________________________\n",
            "Layer (type)                 Output Shape              Param #   \n",
            "=================================================================\n",
            "batch_normalization_4 (Batch (None, 28, 28, 1)         4         \n",
            "_________________________________________________________________\n",
            "conv2d_8 (Conv2D)            (None, 28, 28, 32)        320       \n",
            "_________________________________________________________________\n",
            "conv2d_9 (Conv2D)            (None, 28, 28, 32)        9248      \n",
            "_________________________________________________________________\n",
            "max_pooling2d_4 (MaxPooling2 (None, 14, 14, 32)        0         \n",
            "_________________________________________________________________\n",
            "dropout_8 (Dropout)          (None, 14, 14, 32)        0         \n",
            "_________________________________________________________________\n",
            "flatten_4 (Flatten)          (None, 6272)              0         \n",
            "_________________________________________________________________\n",
            "dense_8 (Dense)              (None, 256)               1605888   \n",
            "_________________________________________________________________\n",
            "dropout_9 (Dropout)          (None, 256)               0         \n",
            "_________________________________________________________________\n",
            "dense_9 (Dense)              (None, 10)                2570      \n",
            "=================================================================\n",
            "Total params: 1,618,030\n",
            "Trainable params: 1,618,028\n",
            "Non-trainable params: 2\n",
            "_________________________________________________________________\n",
            "Epoch 1/15\n",
            "469/469 [==============================] - 3s 6ms/step - loss: 0.1616 - accuracy: 0.9513 - val_loss: 0.0444 - val_accuracy: 0.9853\n",
            "Epoch 2/15\n",
            "469/469 [==============================] - 3s 5ms/step - loss: 0.0525 - accuracy: 0.9835 - val_loss: 0.0441 - val_accuracy: 0.9857\n",
            "Epoch 3/15\n",
            "469/469 [==============================] - 2s 5ms/step - loss: 0.0367 - accuracy: 0.9882 - val_loss: 0.0313 - val_accuracy: 0.9897\n",
            "Epoch 4/15\n",
            "469/469 [==============================] - 2s 5ms/step - loss: 0.0289 - accuracy: 0.9907 - val_loss: 0.0351 - val_accuracy: 0.9886\n",
            "Epoch 5/15\n",
            "469/469 [==============================] - 2s 5ms/step - loss: 0.0201 - accuracy: 0.9935 - val_loss: 0.0276 - val_accuracy: 0.9903\n",
            "Epoch 6/15\n",
            "469/469 [==============================] - 2s 5ms/step - loss: 0.0211 - accuracy: 0.9927 - val_loss: 0.0294 - val_accuracy: 0.9901\n",
            "Epoch 7/15\n",
            "469/469 [==============================] - 2s 5ms/step - loss: 0.0170 - accuracy: 0.9945 - val_loss: 0.0294 - val_accuracy: 0.9913\n",
            "Epoch 8/15\n",
            "469/469 [==============================] - 2s 5ms/step - loss: 0.0139 - accuracy: 0.9954 - val_loss: 0.0280 - val_accuracy: 0.9917\n",
            "Epoch 9/15\n",
            "469/469 [==============================] - 2s 5ms/step - loss: 0.0116 - accuracy: 0.9960 - val_loss: 0.0302 - val_accuracy: 0.9909\n",
            "Epoch 10/15\n",
            "469/469 [==============================] - 2s 5ms/step - loss: 0.0118 - accuracy: 0.9959 - val_loss: 0.0336 - val_accuracy: 0.9909\n",
            "Epoch 11/15\n",
            "469/469 [==============================] - 2s 5ms/step - loss: 0.0108 - accuracy: 0.9964 - val_loss: 0.0299 - val_accuracy: 0.9919\n",
            "Epoch 12/15\n",
            "469/469 [==============================] - 2s 5ms/step - loss: 0.0105 - accuracy: 0.9966 - val_loss: 0.0378 - val_accuracy: 0.9897\n",
            "Epoch 13/15\n",
            "469/469 [==============================] - 2s 5ms/step - loss: 0.0086 - accuracy: 0.9969 - val_loss: 0.0318 - val_accuracy: 0.9920\n",
            "Epoch 14/15\n",
            "469/469 [==============================] - 2s 5ms/step - loss: 0.0074 - accuracy: 0.9975 - val_loss: 0.0340 - val_accuracy: 0.9913\n",
            "Epoch 15/15\n",
            "469/469 [==============================] - 2s 5ms/step - loss: 0.0078 - accuracy: 0.9973 - val_loss: 0.0379 - val_accuracy: 0.9912\n"
          ],
          "name": "stdout"
        },
        {
          "output_type": "display_data",
          "data": {
            "image/png": "[encoded data removed]",
            "text/plain": [
              "<Figure size 432x288 with 1 Axes>"
            ]
          },
          "metadata": {
            "tags": [],
            "needs_background": "light"
          }
        }
      ]
    },
    {
      "cell_type": "markdown",
      "metadata": {
        "id": "NEJGx4VISN2w"
      },
      "source": [
        "**Определение цифр из тестовой выборки**\n",
        "\n"
      ]
    },
    {
      "cell_type": "code",
      "metadata": {
        "id": "X2_KF-b0ar3i",
        "outputId": "13b6c850-aa61-4ef7-b98e-fe1487e1f969",
        "colab": {
          "base_uri": "https://localhost:8080/"
        }
      },
      "source": [
        "#Выбираем номер пример\n",
        "n = 204\n",
        "#Получаем выход сети на этом примере\n",
        "prediction = model.predict(x_test)\n",
        "\n",
        "#Выводим на экран результаты\n",
        "print(\"Выход сети: \", prediction[n])\n",
        "print(\"Распознанная цифра: \", np.argmax(prediction[n]))\n",
        "print(\"Верный ответ: \", np.argmax(y_test[n]))"
      ],
      "execution_count": null,
      "outputs": [
        {
          "output_type": "stream",
          "text": [
            "Выход сети:  [3.0427990e-11 1.0000000e+00 6.2327046e-09 2.7589079e-12 1.7886448e-09\n",
            " 1.9342804e-10 1.5370611e-08 7.5281354e-09 2.6061386e-09 5.6491717e-10]\n",
            "Распознанная цифра:  1\n",
            "Верный ответ:  1\n"
          ],
          "name": "stdout"
        }
      ]
    },
    {
      "cell_type": "markdown",
      "metadata": {
        "id": "Y7e0r2CqanQl"
      },
      "source": [
        "**Определение цифр на реальных фотографиях**"
      ]
    },
    {
      "cell_type": "code",
      "metadata": {
        "id": "5Q9R7u5NTYMl"
      },
      "source": [
        "!unzip '/content/drive/My Drive/Занятия/Апрельский курс 2020/Занятие №3/digits.zip' #Извлечем файлы из архива"
      ],
      "execution_count": null,
      "outputs": []
    },
    {
      "cell_type": "code",
      "metadata": {
        "id": "sYIGO_QciOZ6",
        "outputId": "ab5baad9-852a-471c-e4a9-de7bd601642c",
        "colab": {
          "base_uri": "https://localhost:8080/",
          "height": 72
        }
      },
      "source": [
        "#Выводим для примера картинки по каждому классу\n",
        "\n",
        "def change_contrast(img, factor): #Функция для увеличения контрастности \n",
        "    def contrast(pixel): #Функция для изменения цвета пикселя\n",
        "    #Изменяем цвет каждого пикселя следующим образом. \n",
        "    #Если цвет пикслея в численной мере меньше 128, то значение будет уменьшаться \n",
        "    #на меру factor * (pixel - 128). Иначе - увеличиваться на эту меру\n",
        "    #Очевидно, что чем сильнее цвет отличен от 128, тем сильнее он изменится\n",
        "        return 128 + factor * (pixel - 128) \n",
        "    return img.point(contrast)\n",
        "\n",
        "xTestReal = [] #Создаем x_test для загруженных картинок\n",
        "yTestReal = [] #Создаем y_test для классов изображений\n",
        "\n",
        "for i in range(10): #Проходим по классам от 0 до 9\n",
        "  img_path = 'digits/' + str(i) + '.png' #Определяем имя изображения\n",
        "  #Загружаем изображение, изменяя его размер на размер входного массива нейросети\n",
        "  #Другими словами, подгоняем изображение к размеру картинок, на которых обучалась сеть\n",
        "  #Указываем grayscale=True для того, чтобы цвет пиксяля задавался одним числом\n",
        "  img = image.load_img(img_path, grayscale=True, target_size=(28, 28))\n",
        "  img1 = change_contrast(img, factor=5.0) #Увеличиваем контрастность изображения\n",
        "  xTestReal.append(255 - np.asarray(img1)) #Инвертируем изображение и добавляем в выборку\n",
        "  yTestReal.append(i) #Добавляем в y_train номера классов\n",
        "\n",
        "xTestReal = np.array(xTestReal) #Преобразуем в Numpy array\n",
        "yTestReal = np.array(yTestReal) #Преобразуем в Numpy array"
      ],
      "execution_count": null,
      "outputs": [
        {
          "output_type": "stream",
          "text": [
            "/usr/local/lib/python3.6/dist-packages/keras_preprocessing/image/utils.py:107: UserWarning: grayscale is deprecated. Please use color_mode = \"grayscale\"\n",
            "  warnings.warn('grayscale is deprecated. Please use '\n"
          ],
          "name": "stderr"
        }
      ]
    },
    {
      "cell_type": "code",
      "metadata": {
        "id": "Yn34RXU7iYSx",
        "outputId": "eb2eacca-2c82-49c8-f477-97f0c6cb8ece",
        "colab": {
          "base_uri": "https://localhost:8080/",
          "height": 139
        }
      },
      "source": [
        "#Выводим для примера картинки по каждому классу\n",
        "\n",
        "fig, axs = plt.subplots(1, 10, figsize=(25, 3)) #Создаем полотно из 10 графиков\n",
        "for i in range(10): #Проходим по классам от 0 до 9\n",
        "  axs[i].imshow(Image.fromarray(xTestReal[i]), cmap='gray') #Конвертируем изображение в черно-белый формат и отображаем i-ым графиков\n",
        "\n",
        "plt.show() #Показываем изображения"
      ],
      "execution_count": null,
      "outputs": [
        {
          "output_type": "display_data",
          "data": {
            "image/png": "[encoded data removed]",
            "text/plain": [
              "<Figure size 1800x216 with 10 Axes>"
            ]
          },
          "metadata": {
            "tags": [],
            "needs_background": "light"
          }
        }
      ]
    },
    {
      "cell_type": "code",
      "metadata": {
        "id": "JiiBmJmKlJ4K"
      },
      "source": [
        "#Меняем формат данных, как делали это с выборкой MNIST\n",
        "xTestReal = xTestReal.reshape(xTestReal.shape[0], 28, 28, 1)"
      ],
      "execution_count": null,
      "outputs": []
    },
    {
      "cell_type": "markdown",
      "metadata": {
        "id": "vor9R4IvUb-B"
      },
      "source": [
        "#Результ распознования цифр на тестовой выборке"
      ]
    },
    {
      "cell_type": "code",
      "metadata": {
        "id": "ZSzmaDWnmWCW",
        "outputId": "8977b0fa-88a0-4bb0-ad46-0b314b780c0f",
        "colab": {
          "base_uri": "https://localhost:8080/",
          "height": 191
        }
      },
      "source": [
        "prediction = model.predict(xTestReal) #Классифицируем каждое изображение\n",
        "for i in range(10): #Проходим по картинкам\n",
        "  #Вводим результаты на экран\n",
        "  print(\"Распознанный образ:\", np.argmax(prediction[i]), '. Верный ответ', yTestReal[i])"
      ],
      "execution_count": null,
      "outputs": [
        {
          "output_type": "stream",
          "text": [
            "Распознанный образ: 0 . Верный ответ 0\n",
            "Распознанный образ: 1 . Верный ответ 1\n",
            "Распознанный образ: 2 . Верный ответ 2\n",
            "Распознанный образ: 3 . Верный ответ 3\n",
            "Распознанный образ: 4 . Верный ответ 4\n",
            "Распознанный образ: 5 . Верный ответ 5\n",
            "Распознанный образ: 6 . Верный ответ 6\n",
            "Распознанный образ: 7 . Верный ответ 7\n",
            "Распознанный образ: 8 . Верный ответ 8\n",
            "Распознанный образ: 9 . Верный ответ 9\n"
          ],
          "name": "stdout"
        }
      ]
    }
  ]
}