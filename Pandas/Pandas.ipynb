{
  "nbformat": 4,
  "nbformat_minor": 0,
  "metadata": {
    "colab": {
      "name": "Pandas",
      "provenance": [],
      "authorship_tag": "ABX9TyN73xUTSkJfS+bvwtbPnroZ",
      "include_colab_link": true
    },
    "kernelspec": {
      "name": "python3",
      "display_name": "Python 3"
    }
  },
  "cells": [
    {
      "cell_type": "markdown",
      "metadata": {
        "id": "view-in-github",
        "colab_type": "text"
      },
      "source": [
        "<a href=\"https://colab.research.google.com/github/safal207/hello-world/blob/master/Pandas.ipynb\" target=\"_parent\"><img src=\"https://colab.research.google.com/assets/colab-badge.svg\" alt=\"Open In Colab\"/></a>"
      ]
    },
    {
      "cell_type": "code",
      "metadata": {
        "id": "oOvH6Yse0N_2",
        "colab_type": "code",
        "colab": {
          "base_uri": "https://localhost:8080/",
          "height": 68
        },
        "outputId": "0d5de170-b280-404c-fbfa-324ec1ecd911"
      },
      "source": [
        "import pandas as pd\n",
        "import numpy as np\n",
        "\n",
        "dates = pd.date_range('1/1/2000', periods=8)\n",
        "dates"
      ],
      "execution_count": 13,
      "outputs": [
        {
          "output_type": "execute_result",
          "data": {
            "text/plain": [
              "DatetimeIndex(['2000-01-01', '2000-01-02', '2000-01-03', '2000-01-04',\n",
              "               '2000-01-05', '2000-01-06', '2000-01-07', '2000-01-08'],\n",
              "              dtype='datetime64[ns]', freq='D')"
            ]
          },
          "metadata": {
            "tags": []
          },
          "execution_count": 13
        }
      ]
    },
    {
      "cell_type": "code",
      "metadata": {
        "id": "6Qz1eQ9h0f7Y",
        "colab_type": "code",
        "colab": {}
      },
      "source": [
        "df = pd.DataFrame(np.random.randn(8, 4),index=dates, columns=['A', 'B', 'C', 'D'])"
      ],
      "execution_count": 0,
      "outputs": []
    },
    {
      "cell_type": "code",
      "metadata": {
        "id": "xMKfppu21g-4",
        "colab_type": "code",
        "colab": {
          "base_uri": "https://localhost:8080/",
          "height": 297
        },
        "outputId": "7653d170-c9f0-41fb-a434-0f1de8077d85"
      },
      "source": [
        "df"
      ],
      "execution_count": 16,
      "outputs": [
        {
          "output_type": "execute_result",
          "data": {
            "text/html": [
              "<div>\n",
              "<style scoped>\n",
              "    .dataframe tbody tr th:only-of-type {\n",
              "        vertical-align: middle;\n",
              "    }\n",
              "\n",
              "    .dataframe tbody tr th {\n",
              "        vertical-align: top;\n",
              "    }\n",
              "\n",
              "    .dataframe thead th {\n",
              "        text-align: right;\n",
              "    }\n",
              "</style>\n",
              "<table border=\"1\" class=\"dataframe\">\n",
              "  <thead>\n",
              "    <tr style=\"text-align: right;\">\n",
              "      <th></th>\n",
              "      <th>A</th>\n",
              "      <th>B</th>\n",
              "      <th>C</th>\n",
              "      <th>D</th>\n",
              "    </tr>\n",
              "  </thead>\n",
              "  <tbody>\n",
              "    <tr>\n",
              "      <th>2000-01-01</th>\n",
              "      <td>0.555078</td>\n",
              "      <td>-0.355258</td>\n",
              "      <td>1.087740</td>\n",
              "      <td>-1.379475</td>\n",
              "    </tr>\n",
              "    <tr>\n",
              "      <th>2000-01-02</th>\n",
              "      <td>-0.461858</td>\n",
              "      <td>0.268182</td>\n",
              "      <td>-2.066158</td>\n",
              "      <td>-0.793298</td>\n",
              "    </tr>\n",
              "    <tr>\n",
              "      <th>2000-01-03</th>\n",
              "      <td>1.074024</td>\n",
              "      <td>0.534992</td>\n",
              "      <td>-0.707917</td>\n",
              "      <td>-1.861931</td>\n",
              "    </tr>\n",
              "    <tr>\n",
              "      <th>2000-01-04</th>\n",
              "      <td>1.012391</td>\n",
              "      <td>-0.019112</td>\n",
              "      <td>0.716041</td>\n",
              "      <td>1.500299</td>\n",
              "    </tr>\n",
              "    <tr>\n",
              "      <th>2000-01-05</th>\n",
              "      <td>-1.160429</td>\n",
              "      <td>0.491771</td>\n",
              "      <td>0.018525</td>\n",
              "      <td>0.503604</td>\n",
              "    </tr>\n",
              "    <tr>\n",
              "      <th>2000-01-06</th>\n",
              "      <td>-0.088627</td>\n",
              "      <td>0.602497</td>\n",
              "      <td>-2.379933</td>\n",
              "      <td>0.082339</td>\n",
              "    </tr>\n",
              "    <tr>\n",
              "      <th>2000-01-07</th>\n",
              "      <td>-0.651125</td>\n",
              "      <td>1.074404</td>\n",
              "      <td>-1.172963</td>\n",
              "      <td>-0.607568</td>\n",
              "    </tr>\n",
              "    <tr>\n",
              "      <th>2000-01-08</th>\n",
              "      <td>0.705187</td>\n",
              "      <td>0.014330</td>\n",
              "      <td>-0.836342</td>\n",
              "      <td>1.297009</td>\n",
              "    </tr>\n",
              "  </tbody>\n",
              "</table>\n",
              "</div>"
            ],
            "text/plain": [
              "                   A         B         C         D\n",
              "2000-01-01  0.555078 -0.355258  1.087740 -1.379475\n",
              "2000-01-02 -0.461858  0.268182 -2.066158 -0.793298\n",
              "2000-01-03  1.074024  0.534992 -0.707917 -1.861931\n",
              "2000-01-04  1.012391 -0.019112  0.716041  1.500299\n",
              "2000-01-05 -1.160429  0.491771  0.018525  0.503604\n",
              "2000-01-06 -0.088627  0.602497 -2.379933  0.082339\n",
              "2000-01-07 -0.651125  1.074404 -1.172963 -0.607568\n",
              "2000-01-08  0.705187  0.014330 -0.836342  1.297009"
            ]
          },
          "metadata": {
            "tags": []
          },
          "execution_count": 16
        }
      ]
    },
    {
      "cell_type": "code",
      "metadata": {
        "id": "CHxVKyex1pVf",
        "colab_type": "code",
        "colab": {}
      },
      "source": [
        "s = df['A'] # бырать столбец из таблицы"
      ],
      "execution_count": 0,
      "outputs": []
    },
    {
      "cell_type": "code",
      "metadata": {
        "id": "LzPFSd4m1yTt",
        "colab_type": "code",
        "colab": {
          "base_uri": "https://localhost:8080/",
          "height": 34
        },
        "outputId": "f1304007-1313-458a-e617-cb08c889346d"
      },
      "source": [
        "s[dates[5]] # 6 строка"
      ],
      "execution_count": 22,
      "outputs": [
        {
          "output_type": "execute_result",
          "data": {
            "text/plain": [
              "-0.08862671748146218"
            ]
          },
          "metadata": {
            "tags": []
          },
          "execution_count": 22
        }
      ]
    },
    {
      "cell_type": "code",
      "metadata": {
        "id": "mYy6h3Ow2NYa",
        "colab_type": "code",
        "colab": {
          "base_uri": "https://localhost:8080/",
          "height": 297
        },
        "outputId": "24b94538-11bd-45c6-b386-d9e74e8557fa"
      },
      "source": [
        "df"
      ],
      "execution_count": 23,
      "outputs": [
        {
          "output_type": "execute_result",
          "data": {
            "text/html": [
              "<div>\n",
              "<style scoped>\n",
              "    .dataframe tbody tr th:only-of-type {\n",
              "        vertical-align: middle;\n",
              "    }\n",
              "\n",
              "    .dataframe tbody tr th {\n",
              "        vertical-align: top;\n",
              "    }\n",
              "\n",
              "    .dataframe thead th {\n",
              "        text-align: right;\n",
              "    }\n",
              "</style>\n",
              "<table border=\"1\" class=\"dataframe\">\n",
              "  <thead>\n",
              "    <tr style=\"text-align: right;\">\n",
              "      <th></th>\n",
              "      <th>A</th>\n",
              "      <th>B</th>\n",
              "      <th>C</th>\n",
              "      <th>D</th>\n",
              "    </tr>\n",
              "  </thead>\n",
              "  <tbody>\n",
              "    <tr>\n",
              "      <th>2000-01-01</th>\n",
              "      <td>0.555078</td>\n",
              "      <td>-0.355258</td>\n",
              "      <td>1.087740</td>\n",
              "      <td>-1.379475</td>\n",
              "    </tr>\n",
              "    <tr>\n",
              "      <th>2000-01-02</th>\n",
              "      <td>-0.461858</td>\n",
              "      <td>0.268182</td>\n",
              "      <td>-2.066158</td>\n",
              "      <td>-0.793298</td>\n",
              "    </tr>\n",
              "    <tr>\n",
              "      <th>2000-01-03</th>\n",
              "      <td>1.074024</td>\n",
              "      <td>0.534992</td>\n",
              "      <td>-0.707917</td>\n",
              "      <td>-1.861931</td>\n",
              "    </tr>\n",
              "    <tr>\n",
              "      <th>2000-01-04</th>\n",
              "      <td>1.012391</td>\n",
              "      <td>-0.019112</td>\n",
              "      <td>0.716041</td>\n",
              "      <td>1.500299</td>\n",
              "    </tr>\n",
              "    <tr>\n",
              "      <th>2000-01-05</th>\n",
              "      <td>-1.160429</td>\n",
              "      <td>0.491771</td>\n",
              "      <td>0.018525</td>\n",
              "      <td>0.503604</td>\n",
              "    </tr>\n",
              "    <tr>\n",
              "      <th>2000-01-06</th>\n",
              "      <td>-0.088627</td>\n",
              "      <td>0.602497</td>\n",
              "      <td>-2.379933</td>\n",
              "      <td>0.082339</td>\n",
              "    </tr>\n",
              "    <tr>\n",
              "      <th>2000-01-07</th>\n",
              "      <td>-0.651125</td>\n",
              "      <td>1.074404</td>\n",
              "      <td>-1.172963</td>\n",
              "      <td>-0.607568</td>\n",
              "    </tr>\n",
              "    <tr>\n",
              "      <th>2000-01-08</th>\n",
              "      <td>0.705187</td>\n",
              "      <td>0.014330</td>\n",
              "      <td>-0.836342</td>\n",
              "      <td>1.297009</td>\n",
              "    </tr>\n",
              "  </tbody>\n",
              "</table>\n",
              "</div>"
            ],
            "text/plain": [
              "                   A         B         C         D\n",
              "2000-01-01  0.555078 -0.355258  1.087740 -1.379475\n",
              "2000-01-02 -0.461858  0.268182 -2.066158 -0.793298\n",
              "2000-01-03  1.074024  0.534992 -0.707917 -1.861931\n",
              "2000-01-04  1.012391 -0.019112  0.716041  1.500299\n",
              "2000-01-05 -1.160429  0.491771  0.018525  0.503604\n",
              "2000-01-06 -0.088627  0.602497 -2.379933  0.082339\n",
              "2000-01-07 -0.651125  1.074404 -1.172963 -0.607568\n",
              "2000-01-08  0.705187  0.014330 -0.836342  1.297009"
            ]
          },
          "metadata": {
            "tags": []
          },
          "execution_count": 23
        }
      ]
    },
    {
      "cell_type": "code",
      "metadata": {
        "id": "WZCoEn8d1reM",
        "colab_type": "code",
        "colab": {}
      },
      "source": [
        "df[['B', 'A']] = df[['A', 'B']]"
      ],
      "execution_count": 0,
      "outputs": []
    },
    {
      "cell_type": "code",
      "metadata": {
        "id": "D81tmX5i2V2y",
        "colab_type": "code",
        "colab": {
          "base_uri": "https://localhost:8080/",
          "height": 297
        },
        "outputId": "76160a93-012b-4772-e9ef-f69c58857d07"
      },
      "source": [
        "df"
      ],
      "execution_count": 25,
      "outputs": [
        {
          "output_type": "execute_result",
          "data": {
            "text/html": [
              "<div>\n",
              "<style scoped>\n",
              "    .dataframe tbody tr th:only-of-type {\n",
              "        vertical-align: middle;\n",
              "    }\n",
              "\n",
              "    .dataframe tbody tr th {\n",
              "        vertical-align: top;\n",
              "    }\n",
              "\n",
              "    .dataframe thead th {\n",
              "        text-align: right;\n",
              "    }\n",
              "</style>\n",
              "<table border=\"1\" class=\"dataframe\">\n",
              "  <thead>\n",
              "    <tr style=\"text-align: right;\">\n",
              "      <th></th>\n",
              "      <th>A</th>\n",
              "      <th>B</th>\n",
              "      <th>C</th>\n",
              "      <th>D</th>\n",
              "    </tr>\n",
              "  </thead>\n",
              "  <tbody>\n",
              "    <tr>\n",
              "      <th>2000-01-01</th>\n",
              "      <td>-0.355258</td>\n",
              "      <td>0.555078</td>\n",
              "      <td>1.087740</td>\n",
              "      <td>-1.379475</td>\n",
              "    </tr>\n",
              "    <tr>\n",
              "      <th>2000-01-02</th>\n",
              "      <td>0.268182</td>\n",
              "      <td>-0.461858</td>\n",
              "      <td>-2.066158</td>\n",
              "      <td>-0.793298</td>\n",
              "    </tr>\n",
              "    <tr>\n",
              "      <th>2000-01-03</th>\n",
              "      <td>0.534992</td>\n",
              "      <td>1.074024</td>\n",
              "      <td>-0.707917</td>\n",
              "      <td>-1.861931</td>\n",
              "    </tr>\n",
              "    <tr>\n",
              "      <th>2000-01-04</th>\n",
              "      <td>-0.019112</td>\n",
              "      <td>1.012391</td>\n",
              "      <td>0.716041</td>\n",
              "      <td>1.500299</td>\n",
              "    </tr>\n",
              "    <tr>\n",
              "      <th>2000-01-05</th>\n",
              "      <td>0.491771</td>\n",
              "      <td>-1.160429</td>\n",
              "      <td>0.018525</td>\n",
              "      <td>0.503604</td>\n",
              "    </tr>\n",
              "    <tr>\n",
              "      <th>2000-01-06</th>\n",
              "      <td>0.602497</td>\n",
              "      <td>-0.088627</td>\n",
              "      <td>-2.379933</td>\n",
              "      <td>0.082339</td>\n",
              "    </tr>\n",
              "    <tr>\n",
              "      <th>2000-01-07</th>\n",
              "      <td>1.074404</td>\n",
              "      <td>-0.651125</td>\n",
              "      <td>-1.172963</td>\n",
              "      <td>-0.607568</td>\n",
              "    </tr>\n",
              "    <tr>\n",
              "      <th>2000-01-08</th>\n",
              "      <td>0.014330</td>\n",
              "      <td>0.705187</td>\n",
              "      <td>-0.836342</td>\n",
              "      <td>1.297009</td>\n",
              "    </tr>\n",
              "  </tbody>\n",
              "</table>\n",
              "</div>"
            ],
            "text/plain": [
              "                   A         B         C         D\n",
              "2000-01-01 -0.355258  0.555078  1.087740 -1.379475\n",
              "2000-01-02  0.268182 -0.461858 -2.066158 -0.793298\n",
              "2000-01-03  0.534992  1.074024 -0.707917 -1.861931\n",
              "2000-01-04 -0.019112  1.012391  0.716041  1.500299\n",
              "2000-01-05  0.491771 -1.160429  0.018525  0.503604\n",
              "2000-01-06  0.602497 -0.088627 -2.379933  0.082339\n",
              "2000-01-07  1.074404 -0.651125 -1.172963 -0.607568\n",
              "2000-01-08  0.014330  0.705187 -0.836342  1.297009"
            ]
          },
          "metadata": {
            "tags": []
          },
          "execution_count": 25
        }
      ]
    },
    {
      "cell_type": "code",
      "metadata": {
        "id": "bmfYq0BN213B",
        "colab_type": "code",
        "colab": {}
      },
      "source": [
        "sa = pd.Series([1, 2, 3], index=list('abc'))"
      ],
      "execution_count": 0,
      "outputs": []
    },
    {
      "cell_type": "code",
      "metadata": {
        "id": "m5E9SdgN23gZ",
        "colab_type": "code",
        "colab": {
          "base_uri": "https://localhost:8080/",
          "height": 85
        },
        "outputId": "e93a5bf6-3ac5-48d7-ac47-ea8ed7c2a005"
      },
      "source": [
        "sa"
      ],
      "execution_count": 27,
      "outputs": [
        {
          "output_type": "execute_result",
          "data": {
            "text/plain": [
              "a    1\n",
              "b    2\n",
              "c    3\n",
              "dtype: int64"
            ]
          },
          "metadata": {
            "tags": []
          },
          "execution_count": 27
        }
      ]
    },
    {
      "cell_type": "code",
      "metadata": {
        "id": "B1LGzgyh2-aJ",
        "colab_type": "code",
        "colab": {}
      },
      "source": [
        "dfa = df.copy()"
      ],
      "execution_count": 0,
      "outputs": []
    },
    {
      "cell_type": "code",
      "metadata": {
        "id": "c4vh2M_p3BYX",
        "colab_type": "code",
        "colab": {
          "base_uri": "https://localhost:8080/",
          "height": 34
        },
        "outputId": "5a30f2cd-9d77-4a74-abf5-a78963f3bc04"
      },
      "source": [
        "sa.b"
      ],
      "execution_count": 30,
      "outputs": [
        {
          "output_type": "execute_result",
          "data": {
            "text/plain": [
              "2"
            ]
          },
          "metadata": {
            "tags": []
          },
          "execution_count": 30
        }
      ]
    },
    {
      "cell_type": "code",
      "metadata": {
        "id": "Ct_0Iqsk3MY-",
        "colab_type": "code",
        "colab": {
          "base_uri": "https://localhost:8080/",
          "height": 170
        },
        "outputId": "7f63d6d2-ae3d-49f4-fda3-a1b76b58f7df"
      },
      "source": [
        "dfa.C"
      ],
      "execution_count": 33,
      "outputs": [
        {
          "output_type": "execute_result",
          "data": {
            "text/plain": [
              "2000-01-01    1.087740\n",
              "2000-01-02   -2.066158\n",
              "2000-01-03   -0.707917\n",
              "2000-01-04    0.716041\n",
              "2000-01-05    0.018525\n",
              "2000-01-06   -2.379933\n",
              "2000-01-07   -1.172963\n",
              "2000-01-08   -0.836342\n",
              "Freq: D, Name: C, dtype: float64"
            ]
          },
          "metadata": {
            "tags": []
          },
          "execution_count": 33
        }
      ]
    },
    {
      "cell_type": "code",
      "metadata": {
        "id": "Pt5gMzOU3XI_",
        "colab_type": "code",
        "colab": {}
      },
      "source": [
        "sa.a = 5 # присвоить значение индексу a"
      ],
      "execution_count": 0,
      "outputs": []
    },
    {
      "cell_type": "code",
      "metadata": {
        "id": "NqWFx8_B3aJF",
        "colab_type": "code",
        "colab": {
          "base_uri": "https://localhost:8080/",
          "height": 85
        },
        "outputId": "b4ccc1e5-1800-4d3d-fe7f-86054ffda8fb"
      },
      "source": [
        "sa"
      ],
      "execution_count": 35,
      "outputs": [
        {
          "output_type": "execute_result",
          "data": {
            "text/plain": [
              "a    5\n",
              "b    2\n",
              "c    3\n",
              "dtype: int64"
            ]
          },
          "metadata": {
            "tags": []
          },
          "execution_count": 35
        }
      ]
    },
    {
      "cell_type": "code",
      "metadata": {
        "id": "PZSg6Pdl3ktF",
        "colab_type": "code",
        "colab": {}
      },
      "source": [
        "dfa.A = list(range(len(dfa.index)))"
      ],
      "execution_count": 0,
      "outputs": []
    },
    {
      "cell_type": "code",
      "metadata": {
        "id": "nxfbIrK93n20",
        "colab_type": "code",
        "colab": {
          "base_uri": "https://localhost:8080/",
          "height": 297
        },
        "outputId": "04d822ec-9053-4587-cf8d-4b8e2fe93453"
      },
      "source": [
        "dfa"
      ],
      "execution_count": 37,
      "outputs": [
        {
          "output_type": "execute_result",
          "data": {
            "text/html": [
              "<div>\n",
              "<style scoped>\n",
              "    .dataframe tbody tr th:only-of-type {\n",
              "        vertical-align: middle;\n",
              "    }\n",
              "\n",
              "    .dataframe tbody tr th {\n",
              "        vertical-align: top;\n",
              "    }\n",
              "\n",
              "    .dataframe thead th {\n",
              "        text-align: right;\n",
              "    }\n",
              "</style>\n",
              "<table border=\"1\" class=\"dataframe\">\n",
              "  <thead>\n",
              "    <tr style=\"text-align: right;\">\n",
              "      <th></th>\n",
              "      <th>A</th>\n",
              "      <th>B</th>\n",
              "      <th>C</th>\n",
              "      <th>D</th>\n",
              "    </tr>\n",
              "  </thead>\n",
              "  <tbody>\n",
              "    <tr>\n",
              "      <th>2000-01-01</th>\n",
              "      <td>0</td>\n",
              "      <td>0.555078</td>\n",
              "      <td>1.087740</td>\n",
              "      <td>-1.379475</td>\n",
              "    </tr>\n",
              "    <tr>\n",
              "      <th>2000-01-02</th>\n",
              "      <td>1</td>\n",
              "      <td>-0.461858</td>\n",
              "      <td>-2.066158</td>\n",
              "      <td>-0.793298</td>\n",
              "    </tr>\n",
              "    <tr>\n",
              "      <th>2000-01-03</th>\n",
              "      <td>2</td>\n",
              "      <td>1.074024</td>\n",
              "      <td>-0.707917</td>\n",
              "      <td>-1.861931</td>\n",
              "    </tr>\n",
              "    <tr>\n",
              "      <th>2000-01-04</th>\n",
              "      <td>3</td>\n",
              "      <td>1.012391</td>\n",
              "      <td>0.716041</td>\n",
              "      <td>1.500299</td>\n",
              "    </tr>\n",
              "    <tr>\n",
              "      <th>2000-01-05</th>\n",
              "      <td>4</td>\n",
              "      <td>-1.160429</td>\n",
              "      <td>0.018525</td>\n",
              "      <td>0.503604</td>\n",
              "    </tr>\n",
              "    <tr>\n",
              "      <th>2000-01-06</th>\n",
              "      <td>5</td>\n",
              "      <td>-0.088627</td>\n",
              "      <td>-2.379933</td>\n",
              "      <td>0.082339</td>\n",
              "    </tr>\n",
              "    <tr>\n",
              "      <th>2000-01-07</th>\n",
              "      <td>6</td>\n",
              "      <td>-0.651125</td>\n",
              "      <td>-1.172963</td>\n",
              "      <td>-0.607568</td>\n",
              "    </tr>\n",
              "    <tr>\n",
              "      <th>2000-01-08</th>\n",
              "      <td>7</td>\n",
              "      <td>0.705187</td>\n",
              "      <td>-0.836342</td>\n",
              "      <td>1.297009</td>\n",
              "    </tr>\n",
              "  </tbody>\n",
              "</table>\n",
              "</div>"
            ],
            "text/plain": [
              "            A         B         C         D\n",
              "2000-01-01  0  0.555078  1.087740 -1.379475\n",
              "2000-01-02  1 -0.461858 -2.066158 -0.793298\n",
              "2000-01-03  2  1.074024 -0.707917 -1.861931\n",
              "2000-01-04  3  1.012391  0.716041  1.500299\n",
              "2000-01-05  4 -1.160429  0.018525  0.503604\n",
              "2000-01-06  5 -0.088627 -2.379933  0.082339\n",
              "2000-01-07  6 -0.651125 -1.172963 -0.607568\n",
              "2000-01-08  7  0.705187 -0.836342  1.297009"
            ]
          },
          "metadata": {
            "tags": []
          },
          "execution_count": 37
        }
      ]
    },
    {
      "cell_type": "code",
      "metadata": {
        "id": "-HaoHvHF3v79",
        "colab_type": "code",
        "colab": {}
      },
      "source": [
        "dfa['A'] = list(range(len(dfa.index)))"
      ],
      "execution_count": 0,
      "outputs": []
    },
    {
      "cell_type": "code",
      "metadata": {
        "id": "nj9j7YIa33jp",
        "colab_type": "code",
        "colab": {
          "base_uri": "https://localhost:8080/",
          "height": 297
        },
        "outputId": "094cf6ca-5b60-4df3-e478-6cfe29cef5ae"
      },
      "source": [
        "dfa"
      ],
      "execution_count": 40,
      "outputs": [
        {
          "output_type": "execute_result",
          "data": {
            "text/html": [
              "<div>\n",
              "<style scoped>\n",
              "    .dataframe tbody tr th:only-of-type {\n",
              "        vertical-align: middle;\n",
              "    }\n",
              "\n",
              "    .dataframe tbody tr th {\n",
              "        vertical-align: top;\n",
              "    }\n",
              "\n",
              "    .dataframe thead th {\n",
              "        text-align: right;\n",
              "    }\n",
              "</style>\n",
              "<table border=\"1\" class=\"dataframe\">\n",
              "  <thead>\n",
              "    <tr style=\"text-align: right;\">\n",
              "      <th></th>\n",
              "      <th>A</th>\n",
              "      <th>B</th>\n",
              "      <th>C</th>\n",
              "      <th>D</th>\n",
              "    </tr>\n",
              "  </thead>\n",
              "  <tbody>\n",
              "    <tr>\n",
              "      <th>2000-01-01</th>\n",
              "      <td>0</td>\n",
              "      <td>0.555078</td>\n",
              "      <td>1.087740</td>\n",
              "      <td>-1.379475</td>\n",
              "    </tr>\n",
              "    <tr>\n",
              "      <th>2000-01-02</th>\n",
              "      <td>1</td>\n",
              "      <td>-0.461858</td>\n",
              "      <td>-2.066158</td>\n",
              "      <td>-0.793298</td>\n",
              "    </tr>\n",
              "    <tr>\n",
              "      <th>2000-01-03</th>\n",
              "      <td>2</td>\n",
              "      <td>1.074024</td>\n",
              "      <td>-0.707917</td>\n",
              "      <td>-1.861931</td>\n",
              "    </tr>\n",
              "    <tr>\n",
              "      <th>2000-01-04</th>\n",
              "      <td>3</td>\n",
              "      <td>1.012391</td>\n",
              "      <td>0.716041</td>\n",
              "      <td>1.500299</td>\n",
              "    </tr>\n",
              "    <tr>\n",
              "      <th>2000-01-05</th>\n",
              "      <td>4</td>\n",
              "      <td>-1.160429</td>\n",
              "      <td>0.018525</td>\n",
              "      <td>0.503604</td>\n",
              "    </tr>\n",
              "    <tr>\n",
              "      <th>2000-01-06</th>\n",
              "      <td>5</td>\n",
              "      <td>-0.088627</td>\n",
              "      <td>-2.379933</td>\n",
              "      <td>0.082339</td>\n",
              "    </tr>\n",
              "    <tr>\n",
              "      <th>2000-01-07</th>\n",
              "      <td>6</td>\n",
              "      <td>-0.651125</td>\n",
              "      <td>-1.172963</td>\n",
              "      <td>-0.607568</td>\n",
              "    </tr>\n",
              "    <tr>\n",
              "      <th>2000-01-08</th>\n",
              "      <td>7</td>\n",
              "      <td>0.705187</td>\n",
              "      <td>-0.836342</td>\n",
              "      <td>1.297009</td>\n",
              "    </tr>\n",
              "  </tbody>\n",
              "</table>\n",
              "</div>"
            ],
            "text/plain": [
              "            A         B         C         D\n",
              "2000-01-01  0  0.555078  1.087740 -1.379475\n",
              "2000-01-02  1 -0.461858 -2.066158 -0.793298\n",
              "2000-01-03  2  1.074024 -0.707917 -1.861931\n",
              "2000-01-04  3  1.012391  0.716041  1.500299\n",
              "2000-01-05  4 -1.160429  0.018525  0.503604\n",
              "2000-01-06  5 -0.088627 -2.379933  0.082339\n",
              "2000-01-07  6 -0.651125 -1.172963 -0.607568\n",
              "2000-01-08  7  0.705187 -0.836342  1.297009"
            ]
          },
          "metadata": {
            "tags": []
          },
          "execution_count": 40
        }
      ]
    },
    {
      "cell_type": "code",
      "metadata": {
        "id": "Q_SOidcb7_vP",
        "colab_type": "code",
        "colab": {
          "base_uri": "https://localhost:8080/",
          "height": 173
        },
        "outputId": "bfe451b7-2995-4e33-b480-c964fc049803"
      },
      "source": [
        "x = pd.DataFrame({'x': [1, 2,2, 3], 'y': [3, 4,2, 5]})\n",
        "x"
      ],
      "execution_count": 47,
      "outputs": [
        {
          "output_type": "execute_result",
          "data": {
            "text/html": [
              "<div>\n",
              "<style scoped>\n",
              "    .dataframe tbody tr th:only-of-type {\n",
              "        vertical-align: middle;\n",
              "    }\n",
              "\n",
              "    .dataframe tbody tr th {\n",
              "        vertical-align: top;\n",
              "    }\n",
              "\n",
              "    .dataframe thead th {\n",
              "        text-align: right;\n",
              "    }\n",
              "</style>\n",
              "<table border=\"1\" class=\"dataframe\">\n",
              "  <thead>\n",
              "    <tr style=\"text-align: right;\">\n",
              "      <th></th>\n",
              "      <th>x</th>\n",
              "      <th>y</th>\n",
              "    </tr>\n",
              "  </thead>\n",
              "  <tbody>\n",
              "    <tr>\n",
              "      <th>0</th>\n",
              "      <td>1</td>\n",
              "      <td>3</td>\n",
              "    </tr>\n",
              "    <tr>\n",
              "      <th>1</th>\n",
              "      <td>2</td>\n",
              "      <td>4</td>\n",
              "    </tr>\n",
              "    <tr>\n",
              "      <th>2</th>\n",
              "      <td>2</td>\n",
              "      <td>2</td>\n",
              "    </tr>\n",
              "    <tr>\n",
              "      <th>3</th>\n",
              "      <td>3</td>\n",
              "      <td>5</td>\n",
              "    </tr>\n",
              "  </tbody>\n",
              "</table>\n",
              "</div>"
            ],
            "text/plain": [
              "   x  y\n",
              "0  1  3\n",
              "1  2  4\n",
              "2  2  2\n",
              "3  3  5"
            ]
          },
          "metadata": {
            "tags": []
          },
          "execution_count": 47
        }
      ]
    },
    {
      "cell_type": "code",
      "metadata": {
        "id": "10_zq_RG8Ps9",
        "colab_type": "code",
        "colab": {}
      },
      "source": [
        "df = pd.DataFrame({'one': [1., 2., 3.]})"
      ],
      "execution_count": 0,
      "outputs": []
    },
    {
      "cell_type": "code",
      "metadata": {
        "id": "Bff0eU8H8Aps",
        "colab_type": "code",
        "colab": {
          "base_uri": "https://localhost:8080/",
          "height": 71
        },
        "outputId": "90cf8bff-5825-451f-f1a3-0c16ab8453cc"
      },
      "source": [
        "df.two = [4, 5, 6]"
      ],
      "execution_count": 49,
      "outputs": [
        {
          "output_type": "stream",
          "text": [
            "/usr/local/lib/python3.6/dist-packages/ipykernel_launcher.py:1: UserWarning: Pandas doesn't allow columns to be created via a new attribute name - see https://pandas.pydata.org/pandas-docs/stable/indexing.html#attribute-access\n",
            "  \"\"\"Entry point for launching an IPython kernel.\n"
          ],
          "name": "stderr"
        }
      ]
    },
    {
      "cell_type": "code",
      "metadata": {
        "id": "8ImeopHo8BcC",
        "colab_type": "code",
        "colab": {
          "base_uri": "https://localhost:8080/",
          "height": 142
        },
        "outputId": "06776df3-b272-4534-80a4-7a473db31447"
      },
      "source": [
        "df"
      ],
      "execution_count": 50,
      "outputs": [
        {
          "output_type": "execute_result",
          "data": {
            "text/html": [
              "<div>\n",
              "<style scoped>\n",
              "    .dataframe tbody tr th:only-of-type {\n",
              "        vertical-align: middle;\n",
              "    }\n",
              "\n",
              "    .dataframe tbody tr th {\n",
              "        vertical-align: top;\n",
              "    }\n",
              "\n",
              "    .dataframe thead th {\n",
              "        text-align: right;\n",
              "    }\n",
              "</style>\n",
              "<table border=\"1\" class=\"dataframe\">\n",
              "  <thead>\n",
              "    <tr style=\"text-align: right;\">\n",
              "      <th></th>\n",
              "      <th>one</th>\n",
              "    </tr>\n",
              "  </thead>\n",
              "  <tbody>\n",
              "    <tr>\n",
              "      <th>0</th>\n",
              "      <td>1.0</td>\n",
              "    </tr>\n",
              "    <tr>\n",
              "      <th>1</th>\n",
              "      <td>2.0</td>\n",
              "    </tr>\n",
              "    <tr>\n",
              "      <th>2</th>\n",
              "      <td>3.0</td>\n",
              "    </tr>\n",
              "  </tbody>\n",
              "</table>\n",
              "</div>"
            ],
            "text/plain": [
              "   one\n",
              "0  1.0\n",
              "1  2.0\n",
              "2  3.0"
            ]
          },
          "metadata": {
            "tags": []
          },
          "execution_count": 50
        }
      ]
    },
    {
      "cell_type": "code",
      "metadata": {
        "id": "pBswOrBt8uMM",
        "colab_type": "code",
        "colab": {
          "base_uri": "https://localhost:8080/",
          "height": 136
        },
        "outputId": "e1e082d5-77e9-481a-825a-1025308dcace"
      },
      "source": [
        "s[:6]"
      ],
      "execution_count": 52,
      "outputs": [
        {
          "output_type": "execute_result",
          "data": {
            "text/plain": [
              "2000-01-01   -0.355258\n",
              "2000-01-02    0.268182\n",
              "2000-01-03    0.534992\n",
              "2000-01-04   -0.019112\n",
              "2000-01-05    0.491771\n",
              "2000-01-06    0.602497\n",
              "Freq: D, Name: A, dtype: float64"
            ]
          },
          "metadata": {
            "tags": []
          },
          "execution_count": 52
        }
      ]
    },
    {
      "cell_type": "code",
      "metadata": {
        "id": "eJo1TCfR82tQ",
        "colab_type": "code",
        "colab": {
          "base_uri": "https://localhost:8080/",
          "height": 102
        },
        "outputId": "52629afe-ae65-4a3c-d9de-d5aad9a21484"
      },
      "source": [
        "s[::2]"
      ],
      "execution_count": 53,
      "outputs": [
        {
          "output_type": "execute_result",
          "data": {
            "text/plain": [
              "2000-01-01   -0.355258\n",
              "2000-01-03    0.534992\n",
              "2000-01-05    0.491771\n",
              "2000-01-07    1.074404\n",
              "Freq: 2D, Name: A, dtype: float64"
            ]
          },
          "metadata": {
            "tags": []
          },
          "execution_count": 53
        }
      ]
    },
    {
      "cell_type": "code",
      "metadata": {
        "id": "pQvrsUvl87FN",
        "colab_type": "code",
        "colab": {
          "base_uri": "https://localhost:8080/",
          "height": 170
        },
        "outputId": "aa2158c7-5d97-467f-cd64-37e67b013855"
      },
      "source": [
        "s[::-1]\n"
      ],
      "execution_count": 54,
      "outputs": [
        {
          "output_type": "execute_result",
          "data": {
            "text/plain": [
              "2000-01-08    0.014330\n",
              "2000-01-07    1.074404\n",
              "2000-01-06    0.602497\n",
              "2000-01-05    0.491771\n",
              "2000-01-04   -0.019112\n",
              "2000-01-03    0.534992\n",
              "2000-01-02    0.268182\n",
              "2000-01-01   -0.355258\n",
              "Freq: -1D, Name: A, dtype: float64"
            ]
          },
          "metadata": {
            "tags": []
          },
          "execution_count": 54
        }
      ]
    },
    {
      "cell_type": "code",
      "metadata": {
        "id": "txkgMl9e9GmJ",
        "colab_type": "code",
        "colab": {}
      },
      "source": [
        "s2 = s.copy()"
      ],
      "execution_count": 0,
      "outputs": []
    },
    {
      "cell_type": "code",
      "metadata": {
        "id": "wPmOFl6E9J4y",
        "colab_type": "code",
        "colab": {}
      },
      "source": [
        "s2[:5] = 0"
      ],
      "execution_count": 0,
      "outputs": []
    },
    {
      "cell_type": "code",
      "metadata": {
        "id": "DP3quWee9Nph",
        "colab_type": "code",
        "colab": {
          "base_uri": "https://localhost:8080/",
          "height": 136
        },
        "outputId": "e6cbd166-c561-410b-8265-5c822af66611"
      },
      "source": [
        "s2[:6]"
      ],
      "execution_count": 58,
      "outputs": [
        {
          "output_type": "execute_result",
          "data": {
            "text/plain": [
              "2000-01-01    0.000000\n",
              "2000-01-02    0.000000\n",
              "2000-01-03    0.000000\n",
              "2000-01-04    0.000000\n",
              "2000-01-05    0.000000\n",
              "2000-01-06    0.602497\n",
              "Freq: D, Name: A, dtype: float64"
            ]
          },
          "metadata": {
            "tags": []
          },
          "execution_count": 58
        }
      ]
    },
    {
      "cell_type": "code",
      "metadata": {
        "id": "6Cb-RXqs9gg0",
        "colab_type": "code",
        "colab": {
          "base_uri": "https://localhost:8080/",
          "height": 142
        },
        "outputId": "fea20724-f80a-4792-d4c5-6fccf957e193"
      },
      "source": [
        "df[:3]"
      ],
      "execution_count": 59,
      "outputs": [
        {
          "output_type": "execute_result",
          "data": {
            "text/html": [
              "<div>\n",
              "<style scoped>\n",
              "    .dataframe tbody tr th:only-of-type {\n",
              "        vertical-align: middle;\n",
              "    }\n",
              "\n",
              "    .dataframe tbody tr th {\n",
              "        vertical-align: top;\n",
              "    }\n",
              "\n",
              "    .dataframe thead th {\n",
              "        text-align: right;\n",
              "    }\n",
              "</style>\n",
              "<table border=\"1\" class=\"dataframe\">\n",
              "  <thead>\n",
              "    <tr style=\"text-align: right;\">\n",
              "      <th></th>\n",
              "      <th>one</th>\n",
              "    </tr>\n",
              "  </thead>\n",
              "  <tbody>\n",
              "    <tr>\n",
              "      <th>0</th>\n",
              "      <td>1.0</td>\n",
              "    </tr>\n",
              "    <tr>\n",
              "      <th>1</th>\n",
              "      <td>2.0</td>\n",
              "    </tr>\n",
              "    <tr>\n",
              "      <th>2</th>\n",
              "      <td>3.0</td>\n",
              "    </tr>\n",
              "  </tbody>\n",
              "</table>\n",
              "</div>"
            ],
            "text/plain": [
              "   one\n",
              "0  1.0\n",
              "1  2.0\n",
              "2  3.0"
            ]
          },
          "metadata": {
            "tags": []
          },
          "execution_count": 59
        }
      ]
    },
    {
      "cell_type": "code",
      "metadata": {
        "id": "rKtSPUxM9ozB",
        "colab_type": "code",
        "colab": {
          "base_uri": "https://localhost:8080/",
          "height": 142
        },
        "outputId": "34ef7f7f-e466-4e27-f4ea-550fcda2b267"
      },
      "source": [
        "df[::-1]"
      ],
      "execution_count": 60,
      "outputs": [
        {
          "output_type": "execute_result",
          "data": {
            "text/html": [
              "<div>\n",
              "<style scoped>\n",
              "    .dataframe tbody tr th:only-of-type {\n",
              "        vertical-align: middle;\n",
              "    }\n",
              "\n",
              "    .dataframe tbody tr th {\n",
              "        vertical-align: top;\n",
              "    }\n",
              "\n",
              "    .dataframe thead th {\n",
              "        text-align: right;\n",
              "    }\n",
              "</style>\n",
              "<table border=\"1\" class=\"dataframe\">\n",
              "  <thead>\n",
              "    <tr style=\"text-align: right;\">\n",
              "      <th></th>\n",
              "      <th>one</th>\n",
              "    </tr>\n",
              "  </thead>\n",
              "  <tbody>\n",
              "    <tr>\n",
              "      <th>2</th>\n",
              "      <td>3.0</td>\n",
              "    </tr>\n",
              "    <tr>\n",
              "      <th>1</th>\n",
              "      <td>2.0</td>\n",
              "    </tr>\n",
              "    <tr>\n",
              "      <th>0</th>\n",
              "      <td>1.0</td>\n",
              "    </tr>\n",
              "  </tbody>\n",
              "</table>\n",
              "</div>"
            ],
            "text/plain": [
              "   one\n",
              "2  3.0\n",
              "1  2.0\n",
              "0  1.0"
            ]
          },
          "metadata": {
            "tags": []
          },
          "execution_count": 60
        }
      ]
    },
    {
      "cell_type": "code",
      "metadata": {
        "id": "GBJHtcYM959k",
        "colab_type": "code",
        "colab": {}
      },
      "source": [
        " dfl = pd.DataFrame(np.random.randn(365, 6),\n",
        "                      columns=list('ABCDEF'),\n",
        "                      index=pd.date_range('20130101', periods=365))"
      ],
      "execution_count": 0,
      "outputs": []
    },
    {
      "cell_type": "code",
      "metadata": {
        "id": "vsngr5kr99ib",
        "colab_type": "code",
        "colab": {
          "base_uri": "https://localhost:8080/",
          "height": 419
        },
        "outputId": "2bbe3922-0806-4328-b2c9-1afa80de1699"
      },
      "source": [
        "dfl"
      ],
      "execution_count": 69,
      "outputs": [
        {
          "output_type": "execute_result",
          "data": {
            "text/html": [
              "<div>\n",
              "<style scoped>\n",
              "    .dataframe tbody tr th:only-of-type {\n",
              "        vertical-align: middle;\n",
              "    }\n",
              "\n",
              "    .dataframe tbody tr th {\n",
              "        vertical-align: top;\n",
              "    }\n",
              "\n",
              "    .dataframe thead th {\n",
              "        text-align: right;\n",
              "    }\n",
              "</style>\n",
              "<table border=\"1\" class=\"dataframe\">\n",
              "  <thead>\n",
              "    <tr style=\"text-align: right;\">\n",
              "      <th></th>\n",
              "      <th>A</th>\n",
              "      <th>B</th>\n",
              "      <th>C</th>\n",
              "      <th>D</th>\n",
              "      <th>E</th>\n",
              "      <th>F</th>\n",
              "    </tr>\n",
              "  </thead>\n",
              "  <tbody>\n",
              "    <tr>\n",
              "      <th>2013-01-01</th>\n",
              "      <td>-0.595830</td>\n",
              "      <td>-0.486437</td>\n",
              "      <td>0.062945</td>\n",
              "      <td>0.670677</td>\n",
              "      <td>-0.286615</td>\n",
              "      <td>-0.481155</td>\n",
              "    </tr>\n",
              "    <tr>\n",
              "      <th>2013-01-02</th>\n",
              "      <td>0.941682</td>\n",
              "      <td>0.301323</td>\n",
              "      <td>-1.020600</td>\n",
              "      <td>-0.623978</td>\n",
              "      <td>-0.319138</td>\n",
              "      <td>-0.471905</td>\n",
              "    </tr>\n",
              "    <tr>\n",
              "      <th>2013-01-03</th>\n",
              "      <td>-0.099363</td>\n",
              "      <td>-0.422536</td>\n",
              "      <td>-0.136562</td>\n",
              "      <td>-1.164670</td>\n",
              "      <td>-0.963621</td>\n",
              "      <td>-1.104442</td>\n",
              "    </tr>\n",
              "    <tr>\n",
              "      <th>2013-01-04</th>\n",
              "      <td>2.316417</td>\n",
              "      <td>0.896544</td>\n",
              "      <td>0.226817</td>\n",
              "      <td>-0.604550</td>\n",
              "      <td>-0.099547</td>\n",
              "      <td>-0.880768</td>\n",
              "    </tr>\n",
              "    <tr>\n",
              "      <th>2013-01-05</th>\n",
              "      <td>1.134990</td>\n",
              "      <td>-0.680754</td>\n",
              "      <td>-0.358409</td>\n",
              "      <td>0.793169</td>\n",
              "      <td>-0.584481</td>\n",
              "      <td>-0.155898</td>\n",
              "    </tr>\n",
              "    <tr>\n",
              "      <th>...</th>\n",
              "      <td>...</td>\n",
              "      <td>...</td>\n",
              "      <td>...</td>\n",
              "      <td>...</td>\n",
              "      <td>...</td>\n",
              "      <td>...</td>\n",
              "    </tr>\n",
              "    <tr>\n",
              "      <th>2013-12-27</th>\n",
              "      <td>0.330810</td>\n",
              "      <td>0.210216</td>\n",
              "      <td>-0.507749</td>\n",
              "      <td>-1.064140</td>\n",
              "      <td>0.022806</td>\n",
              "      <td>-0.067834</td>\n",
              "    </tr>\n",
              "    <tr>\n",
              "      <th>2013-12-28</th>\n",
              "      <td>0.000016</td>\n",
              "      <td>-0.517453</td>\n",
              "      <td>-1.113911</td>\n",
              "      <td>-1.353657</td>\n",
              "      <td>-0.374223</td>\n",
              "      <td>-1.049328</td>\n",
              "    </tr>\n",
              "    <tr>\n",
              "      <th>2013-12-29</th>\n",
              "      <td>0.997969</td>\n",
              "      <td>-1.375239</td>\n",
              "      <td>-1.190721</td>\n",
              "      <td>0.339995</td>\n",
              "      <td>0.012204</td>\n",
              "      <td>0.046467</td>\n",
              "    </tr>\n",
              "    <tr>\n",
              "      <th>2013-12-30</th>\n",
              "      <td>1.568723</td>\n",
              "      <td>1.337749</td>\n",
              "      <td>-0.268788</td>\n",
              "      <td>0.497521</td>\n",
              "      <td>1.143063</td>\n",
              "      <td>0.987473</td>\n",
              "    </tr>\n",
              "    <tr>\n",
              "      <th>2013-12-31</th>\n",
              "      <td>-0.809744</td>\n",
              "      <td>-0.784286</td>\n",
              "      <td>0.302621</td>\n",
              "      <td>0.030542</td>\n",
              "      <td>-0.340523</td>\n",
              "      <td>0.032649</td>\n",
              "    </tr>\n",
              "  </tbody>\n",
              "</table>\n",
              "<p>365 rows × 6 columns</p>\n",
              "</div>"
            ],
            "text/plain": [
              "                   A         B         C         D         E         F\n",
              "2013-01-01 -0.595830 -0.486437  0.062945  0.670677 -0.286615 -0.481155\n",
              "2013-01-02  0.941682  0.301323 -1.020600 -0.623978 -0.319138 -0.471905\n",
              "2013-01-03 -0.099363 -0.422536 -0.136562 -1.164670 -0.963621 -1.104442\n",
              "2013-01-04  2.316417  0.896544  0.226817 -0.604550 -0.099547 -0.880768\n",
              "2013-01-05  1.134990 -0.680754 -0.358409  0.793169 -0.584481 -0.155898\n",
              "...              ...       ...       ...       ...       ...       ...\n",
              "2013-12-27  0.330810  0.210216 -0.507749 -1.064140  0.022806 -0.067834\n",
              "2013-12-28  0.000016 -0.517453 -1.113911 -1.353657 -0.374223 -1.049328\n",
              "2013-12-29  0.997969 -1.375239 -1.190721  0.339995  0.012204  0.046467\n",
              "2013-12-30  1.568723  1.337749 -0.268788  0.497521  1.143063  0.987473\n",
              "2013-12-31 -0.809744 -0.784286  0.302621  0.030542 -0.340523  0.032649\n",
              "\n",
              "[365 rows x 6 columns]"
            ]
          },
          "metadata": {
            "tags": []
          },
          "execution_count": 69
        }
      ]
    },
    {
      "cell_type": "code",
      "metadata": {
        "id": "CAf7U4Zx-w-F",
        "colab_type": "code",
        "colab": {
          "base_uri": "https://localhost:8080/",
          "height": 419
        },
        "outputId": "54c11918-e525-464a-aa32-a4108467abe4"
      },
      "source": [
        "dfl.loc['20130102':'20130604']"
      ],
      "execution_count": 71,
      "outputs": [
        {
          "output_type": "execute_result",
          "data": {
            "text/html": [
              "<div>\n",
              "<style scoped>\n",
              "    .dataframe tbody tr th:only-of-type {\n",
              "        vertical-align: middle;\n",
              "    }\n",
              "\n",
              "    .dataframe tbody tr th {\n",
              "        vertical-align: top;\n",
              "    }\n",
              "\n",
              "    .dataframe thead th {\n",
              "        text-align: right;\n",
              "    }\n",
              "</style>\n",
              "<table border=\"1\" class=\"dataframe\">\n",
              "  <thead>\n",
              "    <tr style=\"text-align: right;\">\n",
              "      <th></th>\n",
              "      <th>A</th>\n",
              "      <th>B</th>\n",
              "      <th>C</th>\n",
              "      <th>D</th>\n",
              "      <th>E</th>\n",
              "      <th>F</th>\n",
              "    </tr>\n",
              "  </thead>\n",
              "  <tbody>\n",
              "    <tr>\n",
              "      <th>2013-01-02</th>\n",
              "      <td>0.941682</td>\n",
              "      <td>0.301323</td>\n",
              "      <td>-1.020600</td>\n",
              "      <td>-0.623978</td>\n",
              "      <td>-0.319138</td>\n",
              "      <td>-0.471905</td>\n",
              "    </tr>\n",
              "    <tr>\n",
              "      <th>2013-01-03</th>\n",
              "      <td>-0.099363</td>\n",
              "      <td>-0.422536</td>\n",
              "      <td>-0.136562</td>\n",
              "      <td>-1.164670</td>\n",
              "      <td>-0.963621</td>\n",
              "      <td>-1.104442</td>\n",
              "    </tr>\n",
              "    <tr>\n",
              "      <th>2013-01-04</th>\n",
              "      <td>2.316417</td>\n",
              "      <td>0.896544</td>\n",
              "      <td>0.226817</td>\n",
              "      <td>-0.604550</td>\n",
              "      <td>-0.099547</td>\n",
              "      <td>-0.880768</td>\n",
              "    </tr>\n",
              "    <tr>\n",
              "      <th>2013-01-05</th>\n",
              "      <td>1.134990</td>\n",
              "      <td>-0.680754</td>\n",
              "      <td>-0.358409</td>\n",
              "      <td>0.793169</td>\n",
              "      <td>-0.584481</td>\n",
              "      <td>-0.155898</td>\n",
              "    </tr>\n",
              "    <tr>\n",
              "      <th>2013-01-06</th>\n",
              "      <td>0.620415</td>\n",
              "      <td>0.127671</td>\n",
              "      <td>-1.233715</td>\n",
              "      <td>-1.380595</td>\n",
              "      <td>-0.760926</td>\n",
              "      <td>0.715594</td>\n",
              "    </tr>\n",
              "    <tr>\n",
              "      <th>...</th>\n",
              "      <td>...</td>\n",
              "      <td>...</td>\n",
              "      <td>...</td>\n",
              "      <td>...</td>\n",
              "      <td>...</td>\n",
              "      <td>...</td>\n",
              "    </tr>\n",
              "    <tr>\n",
              "      <th>2013-05-31</th>\n",
              "      <td>-1.181267</td>\n",
              "      <td>0.231997</td>\n",
              "      <td>-1.519500</td>\n",
              "      <td>0.295264</td>\n",
              "      <td>0.415034</td>\n",
              "      <td>-1.308745</td>\n",
              "    </tr>\n",
              "    <tr>\n",
              "      <th>2013-06-01</th>\n",
              "      <td>1.071147</td>\n",
              "      <td>-0.442552</td>\n",
              "      <td>1.356161</td>\n",
              "      <td>0.056077</td>\n",
              "      <td>1.251336</td>\n",
              "      <td>0.035168</td>\n",
              "    </tr>\n",
              "    <tr>\n",
              "      <th>2013-06-02</th>\n",
              "      <td>-0.396261</td>\n",
              "      <td>-0.126438</td>\n",
              "      <td>1.256858</td>\n",
              "      <td>0.548086</td>\n",
              "      <td>0.415023</td>\n",
              "      <td>1.219475</td>\n",
              "    </tr>\n",
              "    <tr>\n",
              "      <th>2013-06-03</th>\n",
              "      <td>0.811962</td>\n",
              "      <td>1.109666</td>\n",
              "      <td>-0.285040</td>\n",
              "      <td>-0.099937</td>\n",
              "      <td>-1.603486</td>\n",
              "      <td>0.685745</td>\n",
              "    </tr>\n",
              "    <tr>\n",
              "      <th>2013-06-04</th>\n",
              "      <td>0.692192</td>\n",
              "      <td>-0.002705</td>\n",
              "      <td>0.296844</td>\n",
              "      <td>1.095824</td>\n",
              "      <td>0.302268</td>\n",
              "      <td>-0.794856</td>\n",
              "    </tr>\n",
              "  </tbody>\n",
              "</table>\n",
              "<p>154 rows × 6 columns</p>\n",
              "</div>"
            ],
            "text/plain": [
              "                   A         B         C         D         E         F\n",
              "2013-01-02  0.941682  0.301323 -1.020600 -0.623978 -0.319138 -0.471905\n",
              "2013-01-03 -0.099363 -0.422536 -0.136562 -1.164670 -0.963621 -1.104442\n",
              "2013-01-04  2.316417  0.896544  0.226817 -0.604550 -0.099547 -0.880768\n",
              "2013-01-05  1.134990 -0.680754 -0.358409  0.793169 -0.584481 -0.155898\n",
              "2013-01-06  0.620415  0.127671 -1.233715 -1.380595 -0.760926  0.715594\n",
              "...              ...       ...       ...       ...       ...       ...\n",
              "2013-05-31 -1.181267  0.231997 -1.519500  0.295264  0.415034 -1.308745\n",
              "2013-06-01  1.071147 -0.442552  1.356161  0.056077  1.251336  0.035168\n",
              "2013-06-02 -0.396261 -0.126438  1.256858  0.548086  0.415023  1.219475\n",
              "2013-06-03  0.811962  1.109666 -0.285040 -0.099937 -1.603486  0.685745\n",
              "2013-06-04  0.692192 -0.002705  0.296844  1.095824  0.302268 -0.794856\n",
              "\n",
              "[154 rows x 6 columns]"
            ]
          },
          "metadata": {
            "tags": []
          },
          "execution_count": 71
        }
      ]
    },
    {
      "cell_type": "code",
      "metadata": {
        "id": "x1_m47jo-_lM",
        "colab_type": "code",
        "colab": {}
      },
      "source": [
        "s1 = pd.Series(np.random.randn(6), index=list('abcdef'))"
      ],
      "execution_count": 0,
      "outputs": []
    },
    {
      "cell_type": "code",
      "metadata": {
        "id": "01yhLzOW_BPt",
        "colab_type": "code",
        "colab": {
          "base_uri": "https://localhost:8080/",
          "height": 136
        },
        "outputId": "7a5faaad-b2f4-42ec-a634-4452b89f75ce"
      },
      "source": [
        "s1"
      ],
      "execution_count": 73,
      "outputs": [
        {
          "output_type": "execute_result",
          "data": {
            "text/plain": [
              "a    1.291644\n",
              "b   -0.667899\n",
              "c   -0.523120\n",
              "d    1.238864\n",
              "e   -0.361251\n",
              "f    0.578317\n",
              "dtype: float64"
            ]
          },
          "metadata": {
            "tags": []
          },
          "execution_count": 73
        }
      ]
    },
    {
      "cell_type": "code",
      "metadata": {
        "id": "6EcwNn-4_Grn",
        "colab_type": "code",
        "colab": {
          "base_uri": "https://localhost:8080/",
          "height": 102
        },
        "outputId": "be53356f-6412-4186-9208-b3469aee1deb"
      },
      "source": [
        "s1.loc['c':]"
      ],
      "execution_count": 74,
      "outputs": [
        {
          "output_type": "execute_result",
          "data": {
            "text/plain": [
              "c   -0.523120\n",
              "d    1.238864\n",
              "e   -0.361251\n",
              "f    0.578317\n",
              "dtype: float64"
            ]
          },
          "metadata": {
            "tags": []
          },
          "execution_count": 74
        }
      ]
    },
    {
      "cell_type": "code",
      "metadata": {
        "id": "C68_X1lS_KRn",
        "colab_type": "code",
        "colab": {
          "base_uri": "https://localhost:8080/",
          "height": 102
        },
        "outputId": "453b167c-4e4e-4bd5-fc2e-9b64c66a1bed"
      },
      "source": [
        "s1.loc['b':'e'] # выбрать срочки"
      ],
      "execution_count": 75,
      "outputs": [
        {
          "output_type": "execute_result",
          "data": {
            "text/plain": [
              "b   -0.667899\n",
              "c   -0.523120\n",
              "d    1.238864\n",
              "e   -0.361251\n",
              "dtype: float64"
            ]
          },
          "metadata": {
            "tags": []
          },
          "execution_count": 75
        }
      ]
    },
    {
      "cell_type": "code",
      "metadata": {
        "id": "ywesn4PV_Yfs",
        "colab_type": "code",
        "colab": {
          "base_uri": "https://localhost:8080/",
          "height": 34
        },
        "outputId": "2365d38c-8da7-43d8-be7f-9806c02df3f1"
      },
      "source": [
        "s1.loc['b']"
      ],
      "execution_count": 76,
      "outputs": [
        {
          "output_type": "execute_result",
          "data": {
            "text/plain": [
              "-0.6678986507935434"
            ]
          },
          "metadata": {
            "tags": []
          },
          "execution_count": 76
        }
      ]
    },
    {
      "cell_type": "code",
      "metadata": {
        "id": "lq28aeUZ_euv",
        "colab_type": "code",
        "colab": {
          "base_uri": "https://localhost:8080/",
          "height": 136
        },
        "outputId": "a4ee3712-b4fb-4ea7-fd36-aac29308c301"
      },
      "source": [
        "s1.loc['c':] = 0\n",
        "s1"
      ],
      "execution_count": 77,
      "outputs": [
        {
          "output_type": "execute_result",
          "data": {
            "text/plain": [
              "a    1.291644\n",
              "b   -0.667899\n",
              "c    0.000000\n",
              "d    0.000000\n",
              "e    0.000000\n",
              "f    0.000000\n",
              "dtype: float64"
            ]
          },
          "metadata": {
            "tags": []
          },
          "execution_count": 77
        }
      ]
    },
    {
      "cell_type": "code",
      "metadata": {
        "id": "Gj3h-n_G_naL",
        "colab_type": "code",
        "colab": {
          "base_uri": "https://localhost:8080/",
          "height": 235
        },
        "outputId": "e49805a5-84cb-4569-bc42-1ca81486d411"
      },
      "source": [
        "df1 = pd.DataFrame(np.random.randn(6, 4),\n",
        "                        index=list('123456'),\n",
        "                        columns=list('ABCD')) \n",
        "df1"
      ],
      "execution_count": 82,
      "outputs": [
        {
          "output_type": "execute_result",
          "data": {
            "text/html": [
              "<div>\n",
              "<style scoped>\n",
              "    .dataframe tbody tr th:only-of-type {\n",
              "        vertical-align: middle;\n",
              "    }\n",
              "\n",
              "    .dataframe tbody tr th {\n",
              "        vertical-align: top;\n",
              "    }\n",
              "\n",
              "    .dataframe thead th {\n",
              "        text-align: right;\n",
              "    }\n",
              "</style>\n",
              "<table border=\"1\" class=\"dataframe\">\n",
              "  <thead>\n",
              "    <tr style=\"text-align: right;\">\n",
              "      <th></th>\n",
              "      <th>A</th>\n",
              "      <th>B</th>\n",
              "      <th>C</th>\n",
              "      <th>D</th>\n",
              "    </tr>\n",
              "  </thead>\n",
              "  <tbody>\n",
              "    <tr>\n",
              "      <th>1</th>\n",
              "      <td>-1.736693</td>\n",
              "      <td>-0.907305</td>\n",
              "      <td>0.450869</td>\n",
              "      <td>-0.274803</td>\n",
              "    </tr>\n",
              "    <tr>\n",
              "      <th>2</th>\n",
              "      <td>0.067124</td>\n",
              "      <td>-1.311043</td>\n",
              "      <td>-0.833772</td>\n",
              "      <td>-0.084714</td>\n",
              "    </tr>\n",
              "    <tr>\n",
              "      <th>3</th>\n",
              "      <td>0.682857</td>\n",
              "      <td>-0.838862</td>\n",
              "      <td>-0.158005</td>\n",
              "      <td>-0.816414</td>\n",
              "    </tr>\n",
              "    <tr>\n",
              "      <th>4</th>\n",
              "      <td>0.505483</td>\n",
              "      <td>-0.160212</td>\n",
              "      <td>0.747966</td>\n",
              "      <td>0.543714</td>\n",
              "    </tr>\n",
              "    <tr>\n",
              "      <th>5</th>\n",
              "      <td>-0.839764</td>\n",
              "      <td>-0.345969</td>\n",
              "      <td>0.407231</td>\n",
              "      <td>-0.313532</td>\n",
              "    </tr>\n",
              "    <tr>\n",
              "      <th>6</th>\n",
              "      <td>-0.103112</td>\n",
              "      <td>-0.237337</td>\n",
              "      <td>0.578957</td>\n",
              "      <td>2.322219</td>\n",
              "    </tr>\n",
              "  </tbody>\n",
              "</table>\n",
              "</div>"
            ],
            "text/plain": [
              "          A         B         C         D\n",
              "1 -1.736693 -0.907305  0.450869 -0.274803\n",
              "2  0.067124 -1.311043 -0.833772 -0.084714\n",
              "3  0.682857 -0.838862 -0.158005 -0.816414\n",
              "4  0.505483 -0.160212  0.747966  0.543714\n",
              "5 -0.839764 -0.345969  0.407231 -0.313532\n",
              "6 -0.103112 -0.237337  0.578957  2.322219"
            ]
          },
          "metadata": {
            "tags": []
          },
          "execution_count": 82
        }
      ]
    },
    {
      "cell_type": "code",
      "metadata": {
        "id": "LJ04q32HAEDo",
        "colab_type": "code",
        "colab": {
          "base_uri": "https://localhost:8080/",
          "height": 142
        },
        "outputId": "85435e58-4321-40c3-d03a-96aef97011c1"
      },
      "source": [
        "df1.loc[['1', '2', '3'],:]"
      ],
      "execution_count": 86,
      "outputs": [
        {
          "output_type": "execute_result",
          "data": {
            "text/html": [
              "<div>\n",
              "<style scoped>\n",
              "    .dataframe tbody tr th:only-of-type {\n",
              "        vertical-align: middle;\n",
              "    }\n",
              "\n",
              "    .dataframe tbody tr th {\n",
              "        vertical-align: top;\n",
              "    }\n",
              "\n",
              "    .dataframe thead th {\n",
              "        text-align: right;\n",
              "    }\n",
              "</style>\n",
              "<table border=\"1\" class=\"dataframe\">\n",
              "  <thead>\n",
              "    <tr style=\"text-align: right;\">\n",
              "      <th></th>\n",
              "      <th>A</th>\n",
              "      <th>B</th>\n",
              "      <th>C</th>\n",
              "      <th>D</th>\n",
              "    </tr>\n",
              "  </thead>\n",
              "  <tbody>\n",
              "    <tr>\n",
              "      <th>1</th>\n",
              "      <td>-1.736693</td>\n",
              "      <td>-0.907305</td>\n",
              "      <td>0.450869</td>\n",
              "      <td>-0.274803</td>\n",
              "    </tr>\n",
              "    <tr>\n",
              "      <th>2</th>\n",
              "      <td>0.067124</td>\n",
              "      <td>-1.311043</td>\n",
              "      <td>-0.833772</td>\n",
              "      <td>-0.084714</td>\n",
              "    </tr>\n",
              "    <tr>\n",
              "      <th>3</th>\n",
              "      <td>0.682857</td>\n",
              "      <td>-0.838862</td>\n",
              "      <td>-0.158005</td>\n",
              "      <td>-0.816414</td>\n",
              "    </tr>\n",
              "  </tbody>\n",
              "</table>\n",
              "</div>"
            ],
            "text/plain": [
              "          A         B         C         D\n",
              "1 -1.736693 -0.907305  0.450869 -0.274803\n",
              "2  0.067124 -1.311043 -0.833772 -0.084714\n",
              "3  0.682857 -0.838862 -0.158005 -0.816414"
            ]
          },
          "metadata": {
            "tags": []
          },
          "execution_count": 86
        }
      ]
    },
    {
      "cell_type": "code",
      "metadata": {
        "id": "fSOJ0kaJAqgx",
        "colab_type": "code",
        "colab": {
          "base_uri": "https://localhost:8080/",
          "height": 142
        },
        "outputId": "3e216905-e07c-4777-90ac-5b479215f3de"
      },
      "source": [
        "df1.loc['4':, 'A':'D']"
      ],
      "execution_count": 88,
      "outputs": [
        {
          "output_type": "execute_result",
          "data": {
            "text/html": [
              "<div>\n",
              "<style scoped>\n",
              "    .dataframe tbody tr th:only-of-type {\n",
              "        vertical-align: middle;\n",
              "    }\n",
              "\n",
              "    .dataframe tbody tr th {\n",
              "        vertical-align: top;\n",
              "    }\n",
              "\n",
              "    .dataframe thead th {\n",
              "        text-align: right;\n",
              "    }\n",
              "</style>\n",
              "<table border=\"1\" class=\"dataframe\">\n",
              "  <thead>\n",
              "    <tr style=\"text-align: right;\">\n",
              "      <th></th>\n",
              "      <th>A</th>\n",
              "      <th>B</th>\n",
              "      <th>C</th>\n",
              "      <th>D</th>\n",
              "    </tr>\n",
              "  </thead>\n",
              "  <tbody>\n",
              "    <tr>\n",
              "      <th>4</th>\n",
              "      <td>0.505483</td>\n",
              "      <td>-0.160212</td>\n",
              "      <td>0.747966</td>\n",
              "      <td>0.543714</td>\n",
              "    </tr>\n",
              "    <tr>\n",
              "      <th>5</th>\n",
              "      <td>-0.839764</td>\n",
              "      <td>-0.345969</td>\n",
              "      <td>0.407231</td>\n",
              "      <td>-0.313532</td>\n",
              "    </tr>\n",
              "    <tr>\n",
              "      <th>6</th>\n",
              "      <td>-0.103112</td>\n",
              "      <td>-0.237337</td>\n",
              "      <td>0.578957</td>\n",
              "      <td>2.322219</td>\n",
              "    </tr>\n",
              "  </tbody>\n",
              "</table>\n",
              "</div>"
            ],
            "text/plain": [
              "          A         B         C         D\n",
              "4  0.505483 -0.160212  0.747966  0.543714\n",
              "5 -0.839764 -0.345969  0.407231 -0.313532\n",
              "6 -0.103112 -0.237337  0.578957  2.322219"
            ]
          },
          "metadata": {
            "tags": []
          },
          "execution_count": 88
        }
      ]
    },
    {
      "cell_type": "code",
      "metadata": {
        "id": "_z24gir1BCjn",
        "colab_type": "code",
        "colab": {
          "base_uri": "https://localhost:8080/",
          "height": 102
        },
        "outputId": "517a80c2-6eed-4383-b840-55460f7d1ed3"
      },
      "source": [
        "df1.loc['1',:] # строку перевенули в столбец "
      ],
      "execution_count": 91,
      "outputs": [
        {
          "output_type": "execute_result",
          "data": {
            "text/plain": [
              "A   -1.736693\n",
              "B   -0.907305\n",
              "C    0.450869\n",
              "D   -0.274803\n",
              "Name: 1, dtype: float64"
            ]
          },
          "metadata": {
            "tags": []
          },
          "execution_count": 91
        }
      ]
    },
    {
      "cell_type": "code",
      "metadata": {
        "id": "k1wr_umjBfnP",
        "colab_type": "code",
        "colab": {
          "base_uri": "https://localhost:8080/",
          "height": 102
        },
        "outputId": "adf5952e-8a20-40b5-d4f5-ff10db84b64f"
      },
      "source": [
        " df1.loc['1'] > 0"
      ],
      "execution_count": 93,
      "outputs": [
        {
          "output_type": "execute_result",
          "data": {
            "text/plain": [
              "A    False\n",
              "B    False\n",
              "C     True\n",
              "D    False\n",
              "Name: 1, dtype: bool"
            ]
          },
          "metadata": {
            "tags": []
          },
          "execution_count": 93
        }
      ]
    },
    {
      "cell_type": "code",
      "metadata": {
        "id": "q8tkXSfpBoBN",
        "colab_type": "code",
        "colab": {
          "base_uri": "https://localhost:8080/",
          "height": 235
        },
        "outputId": "e1c08d2e-3656-41c1-eea7-af256f69c12d"
      },
      "source": [
        "df1.loc[:, df1.loc['2'] > 0] # нати положительное значение среди всех столбцов в индексе 2"
      ],
      "execution_count": 95,
      "outputs": [
        {
          "output_type": "execute_result",
          "data": {
            "text/html": [
              "<div>\n",
              "<style scoped>\n",
              "    .dataframe tbody tr th:only-of-type {\n",
              "        vertical-align: middle;\n",
              "    }\n",
              "\n",
              "    .dataframe tbody tr th {\n",
              "        vertical-align: top;\n",
              "    }\n",
              "\n",
              "    .dataframe thead th {\n",
              "        text-align: right;\n",
              "    }\n",
              "</style>\n",
              "<table border=\"1\" class=\"dataframe\">\n",
              "  <thead>\n",
              "    <tr style=\"text-align: right;\">\n",
              "      <th></th>\n",
              "      <th>A</th>\n",
              "    </tr>\n",
              "  </thead>\n",
              "  <tbody>\n",
              "    <tr>\n",
              "      <th>1</th>\n",
              "      <td>-1.736693</td>\n",
              "    </tr>\n",
              "    <tr>\n",
              "      <th>2</th>\n",
              "      <td>0.067124</td>\n",
              "    </tr>\n",
              "    <tr>\n",
              "      <th>3</th>\n",
              "      <td>0.682857</td>\n",
              "    </tr>\n",
              "    <tr>\n",
              "      <th>4</th>\n",
              "      <td>0.505483</td>\n",
              "    </tr>\n",
              "    <tr>\n",
              "      <th>5</th>\n",
              "      <td>-0.839764</td>\n",
              "    </tr>\n",
              "    <tr>\n",
              "      <th>6</th>\n",
              "      <td>-0.103112</td>\n",
              "    </tr>\n",
              "  </tbody>\n",
              "</table>\n",
              "</div>"
            ],
            "text/plain": [
              "          A\n",
              "1 -1.736693\n",
              "2  0.067124\n",
              "3  0.682857\n",
              "4  0.505483\n",
              "5 -0.839764\n",
              "6 -0.103112"
            ]
          },
          "metadata": {
            "tags": []
          },
          "execution_count": 95
        }
      ]
    },
    {
      "cell_type": "code",
      "metadata": {
        "id": "LyJqRnFb_hxy",
        "colab_type": "code",
        "colab": {
          "base_uri": "https://localhost:8080/",
          "height": 34
        },
        "outputId": "9117a18d-ae41-422b-bee1-fd7e7901c0c6"
      },
      "source": [
        "df1.loc['1', 'A']  # получание значения индекс - поле"
      ],
      "execution_count": 96,
      "outputs": [
        {
          "output_type": "execute_result",
          "data": {
            "text/plain": [
              "-1.7366930952548882"
            ]
          },
          "metadata": {
            "tags": []
          },
          "execution_count": 96
        }
      ]
    },
    {
      "cell_type": "code",
      "metadata": {
        "id": "xsbuql2-DCM6",
        "colab_type": "code",
        "colab": {
          "base_uri": "https://localhost:8080/",
          "height": 119
        },
        "outputId": "e785c1e1-b333-45b3-f01b-0c4ea0392136"
      },
      "source": [
        "s = pd.Series(list('abcde'), index=[0, 3, 2, 5, 4])\n",
        "s"
      ],
      "execution_count": 99,
      "outputs": [
        {
          "output_type": "execute_result",
          "data": {
            "text/plain": [
              "0    a\n",
              "3    b\n",
              "2    c\n",
              "5    d\n",
              "4    e\n",
              "dtype: object"
            ]
          },
          "metadata": {
            "tags": []
          },
          "execution_count": 99
        }
      ]
    },
    {
      "cell_type": "code",
      "metadata": {
        "id": "ZF39W9moDJax",
        "colab_type": "code",
        "colab": {
          "base_uri": "https://localhost:8080/",
          "height": 102
        },
        "outputId": "5ca25b5d-540e-45b2-ef5e-44c96fc009b6"
      },
      "source": [
        "s.loc[3:4]"
      ],
      "execution_count": 101,
      "outputs": [
        {
          "output_type": "execute_result",
          "data": {
            "text/plain": [
              "3    b\n",
              "2    c\n",
              "5    d\n",
              "4    e\n",
              "dtype: object"
            ]
          },
          "metadata": {
            "tags": []
          },
          "execution_count": 101
        }
      ]
    }
  ]
}