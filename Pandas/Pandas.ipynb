{
  "nbformat": 4,
  "nbformat_minor": 0,
  "metadata": {
    "colab": {
      "name": "Pandas",
      "provenance": [],
      "authorship_tag": "ABX9TyN73xUTSkJfS+bvwtbPnroZ",
      "include_colab_link": true
    },
    "kernelspec": {
      "name": "python3",
      "display_name": "Python 3"
    }
  },
  "cells": [
    {
      "cell_type": "markdown",
      "source": [
        "# Изучаем Pandas: Руководство для Начинающих\n",
        "\n",
        "**🇷🇺 (RU)**: Добро пожаловать в мир Pandas! Pandas — это как Excel, только намного мощнее и управляется с помощью кода. В этом ноутбуке мы познакомимся с двумя главными \"деталями\" Pandas: **Series** (один столбец данных) и **DataFrame** (целая таблица). Мы научимся их создавать, выбирать нужные данные и даже рисовать простые графики.\n",
        "\n",
        "---\n",
        "\n",
        "**🇬🇧 (EN)**: Welcome to the world of Pandas! Think of Pandas like Excel, but much more powerful and controlled by code. In this notebook, we'll get to know the two main 'pieces' of Pandas: the **Series** (a single column of data) and the **DataFrame** (a whole table). We will learn how to create them, select the data we need, and even draw simple plots."
      ]
    },
    {
      "cell_type": "markdown",
      "source": [
        "### 1. Подготовка: Импорт библиотек\n",
        "\n",
        "**🇷🇺 (RU)**: Сначала давайте импортируем `pandas` и `numpy`. `numpy` — это библиотека для работы с числами, и Pandas часто использует ее \"под капотом\".\n",
        "\n",
        "---\n",
        "\n",
        "**🇬🇧 (EN)**: First, let's import `pandas` and `numpy`. `numpy` is a library for working with numbers, and Pandas often uses it \"under the hood\"."
      ]
    },
    {
      "cell_type": "code",
      "source": [
        "import pandas as pd\n",
        "import numpy as np\n",
        "import matplotlib.pyplot as plt\n",
        "\n",
        "%matplotlib inline"
      ],
      "execution_count": null,
      "outputs": []
    },
    {
      "cell_type": "markdown",
      "source": [
        "### 2. Pandas Series: Один столбец данных\n",
        "\n",
        "**🇷🇺 (RU)**: `Series` — это как один столбец в таблице. У каждой записи есть свой **индекс** (метка). Если мы не зададим индексы сами, Pandas пронумерует их с нуля.\n",
        "\n",
        "---\n",
        "\n",
        "**🇬🇧 (EN)**: A `Series` is like a single column in a table. Each entry has its own **index** (a label). If we don't provide indexes ourselves, Pandas will number them starting from 0."
      ]
    },
    {
      "cell_type": "code",
      "source": [
        "simple_series = pd.Series([1, 3, 5, np.nan, 6, 8])\n",
        "print(\"Простой Series с индексами по умолчанию:\")\n",
        "print(simple_series)"
      ],
      "execution_count": null,
      "outputs": []
    },
    {
      "cell_type": "markdown",
      "source": [
        "**🇷🇺 (RU)**: Мы можем создавать `Series` с нашими собственными метками-индексами. Например, давайте использовать даты.\n",
        "\n",
        "---\n",
        "\n",
        "**🇬🇧 (EN)**: We can create a `Series` with our own custom index labels. For example, let's use dates."
      ]
    },
    {
      "cell_type": "code",
      "source": [
        "dates_index = pd.date_range('20240101', periods=6)\n",
        "series_with_dates = pd.Series(np.random.randn(6), index=dates_index)\n",
        "print(\"\\nSeries с датами в качестве индексов:\")\n",
        "print(series_with_dates)"
      ],
      "execution_count": null,
      "outputs": []
    },
    {
      "cell_type": "markdown",
      "source": [
        "### 3. Pandas DataFrame: Целая таблица\n",
        "\n",
        "**🇷🇺 (RU)**: `DataFrame` — это полноценная таблица со строками и столбцами. Ее можно создать из словаря, где ключи — это названия столбцов, а значения — списки данных для этих столбцов.\n",
        "\n",
        "---\n",
        "\n",
        "**🇬🇧 (EN)**: A `DataFrame` is a full table with rows and columns. You can create one from a dictionary, where the keys are the column names and the values are the lists of data for those columns."
      ]
    },
    {
      "cell_type": "code",
      "source": [
        "# Используем даты, которые мы создали ранее, в качестве индекса\n",
        "df = pd.DataFrame(np.random.randn(6, 4), index=dates_index, columns=['A', 'B', 'C', 'D'])\n",
        "print(\"Наш DataFrame:\")\n",
        "df"
      ],
      "execution_count": null,
      "outputs": []
    },
    {
      "cell_type": "markdown",
      "source": [
        "### 4. Выбор данных\n",
        "\n",
        "**🇷🇺 (RU)**: Выбирать нужные данные из таблицы — одна из самых частых задач. В Pandas это делается очень удобно. **Лучшая практика** — использовать специальные методы `.loc` и `.iloc`.\n",
        "\n",
        "---\n",
        "\n",
        "**🇬🇧 (EN)**: Selecting the data you need from a table is one of the most common tasks. In Pandas, this is very convenient. The **best practice** is to use the special accessors `.loc` and `.iloc`."
      ]
    },
    {
      "cell_type": "markdown",
      "source": [
        "#### Выбор столбцов\n",
        "**🇷🇺 (RU)**: Чтобы выбрать один столбец, используйте `df['ИмяСтолбца']`. Чтобы выбрать несколько, передайте список имен: `df[['Имя1', 'Имя2']]`.\n",
        "\n",
        "---\n",
        "\n",
        "**🇬🇧 (EN)**: To select a single column, use `df['ColumnName']`. To select multiple columns, pass a list of names: `df[['Name1', 'Name2']]`."
      ]
    },
    {
      "cell_type": "code",
      "source": [
        "print(\"Столбец 'A':\")\n",
        "print(df['A'])"
      ],
      "execution_count": null,
      "outputs": []
    },
    {
      "cell_type": "markdown",
      "source": [
        "#### Выбор строк и столбцов по меткам с помощью `.loc`\n",
        "\n",
        "**🇷🇺 (RU)**: `.loc` используется для выбора данных по **меткам** (названиям строк и столбцов).\n",
        "\n",
        "---\n",
        "\n",
        "**🇬🇧 (EN)**: `.loc` is used to select data by **labels** (the names of rows and columns)."
      ]
    },
    {
      "cell_type": "code",
      "source": [
        "# Выбрать одну строку по ее метке (в нашем случае, по дате)\n",
        "print(\"Строка за '2024-01-02':\")\n",
        "print(df.loc[dates_index[1]])"
      ],
      "execution_count": null,
      "outputs": []
    },
    {
      "cell_type": "code",
      "source": [
        "# Выбрать несколько столбцов для всех строк\n",
        "print(\"\\nСтолбцы 'A' и 'B':\")\n",
        "print(df.loc[:, ['A', 'B']])"
      ],
      "execution_count": null,
      "outputs": []
    },
    {
      "cell_type": "markdown",
      "source": [
        "#### Условный выбор (Boolean Indexing)\n",
        "\n",
        "**🇷🇺 (RU)**: Мы можем выбирать строки на основе условий. Например, найдем все строки, где значения в столбце 'A' больше нуля.\n",
        "\n",
        "---\n",
        "\n",
        "**🇬🇧 (EN)**: We can select rows based on conditions. For example, let's find all rows where the values in column 'A' are greater than zero."
      ]
    },
    {
      "cell_type": "code",
      "source": [
        "print(\"Строки, где A > 0:\")\n",
        "print(df[df['A'] > 0])"
      ],
      "execution_count": null,
      "outputs": []
    },
    {
      "cell_type": "markdown",
      "source": [
        "### 5. Построение графиков\n",
        "\n",
        "**🇷🇺 (RU)**: Pandas позволяет легко строить графики на основе данных из таблицы. Это очень полезно для быстрой визуализации.\n",
        "\n",
        "---\n",
        "\n",
        "**🇬🇧 (EN)**: Pandas makes it easy to create plots based on the data in a table. This is very useful for quick visualizations."
      ]
    },
    {
      "cell_type": "code",
      "source": [
        "# Создадим Series с 1000 случайных чисел как временной ряд\n",
        "ts = pd.Series(np.random.randn(1000), index=pd.date_range('1/1/2000', periods=1000))\n",
        "# Чтобы получить нарастающий итог, используем .cumsum()\n",
        "ts = ts.cumsum()\n",
        "\n",
        "# Строим график\n",
        "print(\"График временного ряда:\")\n",
        "ts.plot(figsize=(10, 5), title='Накопительная сумма случайных чисел')\n",
        "plt.xlabel(\"Дата\")\n",
        "plt.ylabel(\"Значение\")\n",
        "plt.grid(True)\n",
        "plt.show()"
      ],
      "execution_count": null,
      "outputs": []
    }
  ]
}