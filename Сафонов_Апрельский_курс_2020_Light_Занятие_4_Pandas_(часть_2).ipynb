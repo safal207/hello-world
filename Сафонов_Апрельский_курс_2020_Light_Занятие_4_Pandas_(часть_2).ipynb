{
  "nbformat": 4,
  "nbformat_minor": 0,
  "metadata": {
    "kernelspec": {
      "display_name": "Python 3",
      "language": "python",
      "name": "python3"
    },
    "language_info": {
      "codemirror_mode": {
        "name": "ipython",
        "version": 3
      },
      "file_extension": ".py",
      "mimetype": "text/x-python",
      "name": "python",
      "nbconvert_exporter": "python",
      "pygments_lexer": "ipython3",
      "version": "3.7.3"
    },
    "colab": {
      "name": "Сафонов Апрельский курс-2020 Light. Занятие 4. Pandas (часть 2)",
      "provenance": [],
      "collapsed_sections": [
        "ojlhGzdxhkwR",
        "_mybfuLlhkzU",
        "0Chntu25WIF2",
        "Af1_T2N8jAfF",
        "X6KDR8HPjAf3",
        "5_aJnqtHjAjs",
        "C8xqSqQujAmh",
        "hR8AlUzejAmh",
        "qG6LB7yDjAmx",
        "xzJAnTajjAm3",
        "yRYKb92DjAm5",
        "Idy8pVuvjAnD",
        "G_jD-MltjAnR",
        "9TdHEC0ajAng",
        "3ANmDztPdeNy"
      ],
      "include_colab_link": true
    }
  },
  "cells": [
    {
      "cell_type": "markdown",
      "metadata": {
        "id": "view-in-github",
        "colab_type": "text"
      },
      "source": [
        "<a href=\"https://colab.research.google.com/github/safal207/hello-world/blob/master/%D0%A1%D0%B0%D1%84%D0%BE%D0%BD%D0%BE%D0%B2_%D0%90%D0%BF%D1%80%D0%B5%D0%BB%D1%8C%D1%81%D0%BA%D0%B8%D0%B9_%D0%BA%D1%83%D1%80%D1%81_2020_Light_%D0%97%D0%B0%D0%BD%D1%8F%D1%82%D0%B8%D0%B5_4_Pandas_(%D1%87%D0%B0%D1%81%D1%82%D1%8C_2).ipynb\" target=\"_parent\"><img src=\"https://colab.research.google.com/assets/colab-badge.svg\" alt=\"Open In Colab\"/></a>"
      ]
    },
    {
      "cell_type": "markdown",
      "metadata": {
        "id": "ojlhGzdxhkwR",
        "colab_type": "text"
      },
      "source": [
        "## Pandas. Загрузка библиотек\n",
        "\n",
        "*Разбор данного раздела:* https://youtu.be/ptHmmlR_-ro?t=213"
      ]
    },
    {
      "cell_type": "code",
      "metadata": {
        "id": "DqYWosnHhkwU",
        "colab_type": "code",
        "colab": {}
      },
      "source": [
        "import pandas as pd # Загружаем библиотеку Pandas\n",
        "import numpy as np # Загружаем библиотеку numpy"
      ],
      "execution_count": 0,
      "outputs": []
    },
    {
      "cell_type": "code",
      "metadata": {
        "id": "vX8TZMleKHiw",
        "colab_type": "code",
        "colab": {}
      },
      "source": [
        "data = pd.read_csv('wine_base.csv', index_col = 0) # С помощью метода read_csv загружаем файл wine_base.csv и записываем данные в data"
      ],
      "execution_count": 0,
      "outputs": []
    },
    {
      "cell_type": "markdown",
      "metadata": {
        "id": "_mybfuLlhkzU",
        "colab_type": "text"
      },
      "source": [
        "## 1. Конкатенация\n",
        "\n",
        "*Разбор данного раздела:* https://youtu.be/ptHmmlR_-ro?t=938\n"
      ]
    },
    {
      "cell_type": "code",
      "metadata": {
        "id": "vUn3NnurhkzV",
        "colab_type": "code",
        "outputId": "f12e26bb-5bf8-430b-ed85-d4a5d7db288f",
        "colab": {
          "base_uri": "https://localhost:8080/",
          "height": 34
        }
      },
      "source": [
        "a = [0, 1, 2, 3] # Создаем список а\n",
        "b = [4, 5, 6, 7, 234, 23] # Создаем список b\n",
        "b + a + b + a + a # Делаем конкатенацию (объединение) списков"
      ],
      "execution_count": 0,
      "outputs": [
        {
          "output_type": "execute_result",
          "data": {
            "text/plain": [
              "[4, 5, 6, 7, 234, 23, 0, 1, 2, 3, 4, 5, 6, 7, 234, 23, 0, 1, 2, 3, 0, 1, 2, 3]"
            ]
          },
          "metadata": {
            "tags": []
          },
          "execution_count": 85
        }
      ]
    },
    {
      "cell_type": "code",
      "metadata": {
        "id": "DzVWtFnXhkzX",
        "colab_type": "code",
        "colab": {}
      },
      "source": [
        "data_1 = data[0:15].copy() # Берем первые 15 строк из data и делаем их копию в data_1\n",
        "data_2 = data[15:30].copy() # Берем строки с 15 по 30 из data и делаем их копию в data_2"
      ],
      "execution_count": 0,
      "outputs": []
    },
    {
      "cell_type": "code",
      "metadata": {
        "id": "T2Nq4UnUhkza",
        "colab_type": "code",
        "colab": {}
      },
      "source": [
        "data_2.head() # Выводим первые 5 строк data_2"
      ],
      "execution_count": 0,
      "outputs": []
    },
    {
      "cell_type": "code",
      "metadata": {
        "id": "hQn7iScFhkzb",
        "colab_type": "code",
        "colab": {}
      },
      "source": [
        "df_concat = pd.concat([data_1, data_2]) # Объединяем два датафрейма\n",
        "df_concat # Отображаем объединенный датафрейм"
      ],
      "execution_count": 0,
      "outputs": []
    },
    {
      "cell_type": "code",
      "metadata": {
        "id": "Y36JPmmyhkzd",
        "colab_type": "code",
        "colab": {}
      },
      "source": [
        "data_1.head() # Выводим первые 5 строк data_1"
      ],
      "execution_count": 0,
      "outputs": []
    },
    {
      "cell_type": "code",
      "metadata": {
        "id": "2H9dAxpQhkze",
        "colab_type": "code",
        "colab": {}
      },
      "source": [
        "data_1.iloc[0,1] = 'Keras' # Изменяем значение в ячейке data_1\n",
        "data_1.head(2) # Выводим на экран 2 первые строки data_1"
      ],
      "execution_count": 0,
      "outputs": []
    },
    {
      "cell_type": "code",
      "metadata": {
        "id": "z_98pMQ9MHFm",
        "colab_type": "code",
        "colab": {}
      },
      "source": [
        "df_concat.head(2)  # Выводим на экран 2 первые строки df_concat"
      ],
      "execution_count": 0,
      "outputs": []
    },
    {
      "cell_type": "markdown",
      "metadata": {
        "id": "0Chntu25WIF2",
        "colab_type": "text"
      },
      "source": [
        "## 2. Добавление столбцов и строк\n",
        "\n",
        "*Разбор данного раздела:* https://youtu.be/ptHmmlR_-ro?t=1298"
      ]
    },
    {
      "cell_type": "code",
      "metadata": {
        "id": "niLdtd4xWMb0",
        "colab_type": "code",
        "colab": {}
      },
      "source": [
        "columns = ['A', 'B', 'C', 'D'] # Создаем список с названием столбцов\n",
        "values = [[1,2,3,4], [5,6,7,8],[9,10,11,12], [13,14,15,16]] # Создаем список со значениями\n",
        "df_for_add = pd.DataFrame(values, columns=columns) # Создаем датафрейм из сформированных значений\n",
        "df_for_add # Выводим на экран датафрейм df_for_add"
      ],
      "execution_count": 0,
      "outputs": []
    },
    {
      "cell_type": "code",
      "metadata": {
        "id": "NGK40s7PWhcK",
        "colab_type": "code",
        "colab": {}
      },
      "source": [
        "df_for_add['E'] = [17,18,19,20] # Добавляем столбец\n",
        "df_for_add # Выводим на экран датафрейм df_for_add"
      ],
      "execution_count": 0,
      "outputs": []
    },
    {
      "cell_type": "code",
      "metadata": {
        "id": "T2UEW9MfW0pj",
        "colab_type": "code",
        "colab": {}
      },
      "source": [
        "df_for_add.loc[4] = [1,2,3,4,5] # Добавляем строку \n",
        "df_for_add # Выводим на экран датафрейм df_for_add"
      ],
      "execution_count": 0,
      "outputs": []
    },
    {
      "cell_type": "markdown",
      "metadata": {
        "id": "Af1_T2N8jAfF",
        "colab_type": "text"
      },
      "source": [
        "## 3. Groupby\n",
        "\n",
        "*Разбор данного раздела:* https://youtu.be/ptHmmlR_-ro?t=1492"
      ]
    },
    {
      "cell_type": "code",
      "metadata": {
        "id": "3QFEHZdYjAew",
        "colab_type": "code",
        "colab": {}
      },
      "source": [
        "data.head() # Выведем первые 5 строк data"
      ],
      "execution_count": 0,
      "outputs": []
    },
    {
      "cell_type": "markdown",
      "metadata": {
        "id": "ItPspZfLjAfL",
        "colab_type": "text"
      },
      "source": [
        "Groupby - это очень важный и широко используемый метод. Позволяет делать группировку данных по какому-либо столбцу. \n",
        "\n",
        "Пример:\n",
        "* посчитать средние баллы и цену в разрезе по странам и провинциям"
      ]
    },
    {
      "cell_type": "code",
      "metadata": {
        "id": "UM89p_pcjAfO",
        "colab_type": "code",
        "colab": {}
      },
      "source": [
        "df_mean = data.groupby(['country']).mean() # Группируем данные по странам и считаем среднее значение (считается для числовых столбцов)\n",
        "df_mean.head() # Выводим первые 5 строк df_mean"
      ],
      "execution_count": 0,
      "outputs": []
    },
    {
      "cell_type": "code",
      "metadata": {
        "id": "xLhe1562suR1",
        "colab_type": "code",
        "colab": {}
      },
      "source": [
        "df_max = data.groupby('country')[['points','price']].max() # Группируем данные по странам и считаем максимальное значение\n",
        "df_max.head() # # Выводим первые 5 строк df_max"
      ],
      "execution_count": 0,
      "outputs": []
    },
    {
      "cell_type": "code",
      "metadata": {
        "id": "6RifUrsujAfY",
        "colab_type": "code",
        "colab": {}
      },
      "source": [
        "# сортировка по столбцу points\n",
        "sorted_data = df_mean.sort_values('points', ascending=False) # Сортируем датафрейм со средними значениями по убыванию points\n",
        "sorted_data.head(10) # Выводим первые 10 строк sorted_data"
      ],
      "execution_count": 0,
      "outputs": []
    },
    {
      "cell_type": "code",
      "metadata": {
        "id": "_7_n-qrOjAfq",
        "colab_type": "code",
        "colab": {}
      },
      "source": [
        "# группировка по трем столбцам\n",
        "data.groupby(['country', 'region_1', 'region_2']).mean().head(10) # Выполняем группировку по трем столбцам (считаем среднее значение) и выводим первые 10 строк"
      ],
      "execution_count": 0,
      "outputs": []
    },
    {
      "cell_type": "markdown",
      "metadata": {
        "id": "X6KDR8HPjAf3",
        "colab_type": "text"
      },
      "source": [
        "## 4. Join\n",
        "\n",
        "*Разбор данного раздела:* https://youtu.be/ptHmmlR_-ro?t=3398\n",
        "\n",
        "Join - позволяет объединять несколько таблиц в единую по ключам (одинаковым столбцам). \n",
        "\n",
        "Join бывает разный:\n",
        "*   Left\n",
        "*   Right\n",
        "*   Inner\n",
        "*   FullJoin\n",
        "\n"
      ]
    },
    {
      "cell_type": "markdown",
      "metadata": {
        "id": "fI0-DwH7jAf-",
        "colab_type": "text"
      },
      "source": [
        "Посмотрим на примерах, как это работает.\n",
        "\n",
        "Допустим, у нас есть два датафрейма:\n",
        "* первый содержит информацию о студентах и ID курсах, которые они посещают,\n",
        "* второй - описание курсов."
      ]
    },
    {
      "cell_type": "code",
      "metadata": {
        "id": "8LQUr6fBjAgB",
        "colab_type": "code",
        "colab": {}
      },
      "source": [
        "# создаем первый датафрейм\n",
        "data_1 = np.array([['100500', '200600', '100500', '300700', '200600', '500900'],\n",
        "                   ['Анастасия', 'Екатерина', 'Светлана', 'Максим', 'Станислав', 'Данила'], \n",
        "                   ['Андреева', 'Петрова', 'Иванова', 'Егоров', 'Лесницкий', 'Кудряшев']])\n",
        "\n",
        "names = pd.DataFrame(data_1.T, columns = ['subject_id', 'first_name', 'last_name']) # Создаем датафрейм из сформированных данных\n",
        "names # Выводим датафрейм names на экран"
      ],
      "execution_count": 0,
      "outputs": []
    },
    {
      "cell_type": "code",
      "metadata": {
        "id": "gIFHRi2QjAgS",
        "colab_type": "code",
        "colab": {}
      },
      "source": [
        "# создаем второй датафрейм\n",
        "data_2 = np.array([['100500', '200600', '300700', '400700'],\n",
        "                   ['Математика', 'Программирование', 'Анализ данных', 'Мат. анализ'], \n",
        "                   ['продвинутые методы математической статистики', 'расширенный курс по с++',\\\n",
        "                            'краткий курс для чайников', 'многомерный анализ']])\n",
        "subjects = pd.DataFrame(data_2.T, columns = ['subject_id','course_name', 'description']) # Создаем датафрейм из сформированных данных\n",
        "subjects # Выводим датафрейм subjects на экран"
      ],
      "execution_count": 0,
      "outputs": []
    },
    {
      "cell_type": "markdown",
      "metadata": {
        "id": "ME_fbI0FjAge",
        "colab_type": "text"
      },
      "source": [
        "#### Делаем Join:\n",
        "\n",
        "*Разбор данного раздела:* https://youtu.be/ptHmmlR_-ro?t=3631\n",
        "\n",
        "Left Join"
      ]
    },
    {
      "cell_type": "code",
      "metadata": {
        "id": "BgXi9IbYjAgg",
        "colab_type": "code",
        "colab": {}
      },
      "source": [
        "names.merge(subjects, on='subject_id', how='left') # Объединяем два датафрейма по столбцу subject_id (join-left)"
      ],
      "execution_count": 0,
      "outputs": []
    },
    {
      "cell_type": "code",
      "metadata": {
        "id": "oG6gcJB0_n8U",
        "colab_type": "code",
        "colab": {}
      },
      "source": [
        "pd.merge(names, subjects, on='subject_id', how='right') # Объединяем два датафрейма по столбцу subject_id (join-right)"
      ],
      "execution_count": 0,
      "outputs": []
    },
    {
      "cell_type": "markdown",
      "metadata": {
        "id": "H4M4MQfsjAgm",
        "colab_type": "text"
      },
      "source": [
        "Inner Join"
      ]
    },
    {
      "cell_type": "code",
      "metadata": {
        "id": "Fr9FeDknjAgq",
        "colab_type": "code",
        "colab": {}
      },
      "source": [
        "names.merge(subjects, on='subject_id', how='inner') # Объединяем два датафрейма по столбцу subject_id (join-inner)"
      ],
      "execution_count": 0,
      "outputs": []
    },
    {
      "cell_type": "markdown",
      "metadata": {
        "id": "vi9i7xeFjAhH",
        "colab_type": "text"
      },
      "source": [
        "Outer Join"
      ]
    },
    {
      "cell_type": "code",
      "metadata": {
        "id": "2oCn_zOrjAhJ",
        "colab_type": "code",
        "colab": {}
      },
      "source": [
        "df = names.merge(subjects, on='subject_id', how='outer') # Объединяем два датафрейма по столбцу subject_id (join-outer)\n",
        "df"
      ],
      "execution_count": 0,
      "outputs": []
    },
    {
      "cell_type": "markdown",
      "metadata": {
        "id": "8YCox3IxjAhW",
        "colab_type": "text"
      },
      "source": [
        "Join при разных названиях столбцов с ключом:"
      ]
    },
    {
      "cell_type": "code",
      "metadata": {
        "id": "oxIBiXBLjAhY",
        "colab_type": "code",
        "colab": {}
      },
      "source": [
        "names_2 = names.copy() # Создаем копию датафрейма names\n",
        "cols = names.columns.tolist() # Получаем список названий столбцов\n",
        "cols[0] = 'ID' # Меняем название нулевого столбца на 'ID'\n",
        "names_2.columns = cols # Присваиваем датафрейму names_2 новые названия столбцов\n",
        "names_2 # Выводим на экран датафрейм names_2"
      ],
      "execution_count": 0,
      "outputs": []
    },
    {
      "cell_type": "code",
      "metadata": {
        "id": "T68tbKU0jAhj",
        "colab_type": "code",
        "colab": {}
      },
      "source": [
        "# делаем join\n",
        "pd.merge(names_2, subjects, left_on='ID', right_on='subject_id', how='inner') # Объединяем два датафрейма по столбцам ID и subject_id (join-inner)"
      ],
      "execution_count": 0,
      "outputs": []
    },
    {
      "cell_type": "markdown",
      "metadata": {
        "id": "Mg6fQ0UwjAhn",
        "colab_type": "text"
      },
      "source": [
        "Join по двум ключам:"
      ]
    },
    {
      "cell_type": "code",
      "metadata": {
        "id": "s_BZm0fbjAhq",
        "colab_type": "code",
        "colab": {}
      },
      "source": [
        "cols_a = ['A', 'B', 'value_1'] # Создаем список названий колонок cols_a\n",
        "cols_b = ['A', 'B', 'value_2'] # Создаем список названий колонок cols_b\n",
        "data_a = [[1, 1, 23], [1, 2, 34], [2, 1, 2342], [2, 2, 333]] # Создаем список значение data_a\n",
        "data_b = [[1, 1, 0.1], [1, 2, 0.2], [2, 2, 0.13], [2, 3, 0.33]] # Создаем список значение data_b\n",
        "df_a = pd.DataFrame(data_a, columns=cols_a) # Формируем датафрейм df_a из созданных ранее данных\n",
        "df_b = pd.DataFrame(data_b, columns=cols_b) # Формируем датафрейм df_b из созданных ранее данных"
      ],
      "execution_count": 0,
      "outputs": []
    },
    {
      "cell_type": "code",
      "metadata": {
        "id": "I1bHptln_BWL",
        "colab_type": "code",
        "colab": {}
      },
      "source": [
        "df_a # Выводим на экран датафрейм df_a"
      ],
      "execution_count": 0,
      "outputs": []
    },
    {
      "cell_type": "code",
      "metadata": {
        "id": "UKsQpT1vjAh3",
        "colab_type": "code",
        "colab": {}
      },
      "source": [
        "df_b # Выводим на экран датафрейм df_b"
      ],
      "execution_count": 0,
      "outputs": []
    },
    {
      "cell_type": "code",
      "metadata": {
        "id": "5MiuPPQZjAiE",
        "colab_type": "code",
        "colab": {}
      },
      "source": [
        "df_a.merge(df_b, on=['A', 'B'], how='outer') # Объединяем два датафрейма по столбцам A и B (join-outer)"
      ],
      "execution_count": 0,
      "outputs": []
    },
    {
      "cell_type": "markdown",
      "metadata": {
        "id": "6cRasbOXjAiS",
        "colab_type": "text"
      },
      "source": [
        "А join по одному ключу в данном случае выглядел бы так:"
      ]
    },
    {
      "cell_type": "code",
      "metadata": {
        "id": "GrTN-pM9jAiT",
        "colab_type": "code",
        "colab": {}
      },
      "source": [
        "df_a.merge(df_b, on='A', how='inner') # Объединяем два датафрейма по столбцу A (join-inner)"
      ],
      "execution_count": 0,
      "outputs": []
    },
    {
      "cell_type": "markdown",
      "metadata": {
        "id": "9V7ArTkzjAia",
        "colab_type": "text"
      },
      "source": [
        "Или так:"
      ]
    },
    {
      "cell_type": "code",
      "metadata": {
        "id": "2S02OpysjAic",
        "colab_type": "code",
        "colab": {}
      },
      "source": [
        "df_a.merge(df_b, on='B', how='inner') # Объединяем два датафрейма по столбцу B (join-inner)"
      ],
      "execution_count": 0,
      "outputs": []
    },
    {
      "cell_type": "markdown",
      "metadata": {
        "id": "reSNH-05jAil",
        "colab_type": "text"
      },
      "source": [
        "Или вот так по разным ключам:"
      ]
    },
    {
      "cell_type": "code",
      "metadata": {
        "id": "vwici4RdjAim",
        "colab_type": "code",
        "colab": {}
      },
      "source": [
        "pd.merge(df_a, df_b, left_on='A', right_on='B', how='inner') # Объединяем два датафрейма по столбцам A и B (join-inner)"
      ],
      "execution_count": 0,
      "outputs": []
    },
    {
      "cell_type": "markdown",
      "metadata": {
        "id": "6tg5a_WOjAit",
        "colab_type": "text"
      },
      "source": [
        "Заполнение пропусков в одном из столбцов:"
      ]
    },
    {
      "cell_type": "code",
      "metadata": {
        "id": "RsK9n3vVAgK-",
        "colab_type": "code",
        "colab": {}
      },
      "source": [
        "df # Выведем на экран датафрейм df"
      ],
      "execution_count": 0,
      "outputs": []
    },
    {
      "cell_type": "code",
      "metadata": {
        "id": "eolkgC-0jAi2",
        "colab_type": "code",
        "colab": {}
      },
      "source": [
        "df.first_name = df.first_name.fillna('Не заполнено') # Заменяем пропуски в столбце first_name на значение 'Не заполнено'\n",
        "df # Выводим на экран датафрейм df"
      ],
      "execution_count": 0,
      "outputs": []
    },
    {
      "cell_type": "code",
      "metadata": {
        "id": "pWhjhgeBjAi9",
        "colab_type": "code",
        "colab": {}
      },
      "source": [
        "df.last_name = df.last_name.fillna('Пропущено') # Заменяем пропуски в столбце last_name на значение 'Пропущено'\n",
        "df # Выводим на экран датафрейм df"
      ],
      "execution_count": 0,
      "outputs": []
    },
    {
      "cell_type": "markdown",
      "metadata": {
        "id": "XCtORa5gjAjK",
        "colab_type": "text"
      },
      "source": [
        "Во всей табличке:"
      ]
    },
    {
      "cell_type": "code",
      "metadata": {
        "id": "NC3cBEusjAjL",
        "colab_type": "code",
        "colab": {}
      },
      "source": [
        "df = df.fillna('Неизвестно') # Заменяем пропуски во всем датафрейме на значение 'Неизвестно'\n",
        "df # Выводим на экран датафрейм df"
      ],
      "execution_count": 0,
      "outputs": []
    },
    {
      "cell_type": "markdown",
      "metadata": {
        "id": "Zau_QVx8jAjV",
        "colab_type": "text"
      },
      "source": [
        "Разными значениями в разных столбцах:"
      ]
    },
    {
      "cell_type": "code",
      "metadata": {
        "id": "QFNCSrSGjAjV",
        "colab_type": "code",
        "colab": {}
      },
      "source": [
        "df = names.merge(subjects, on='subject_id', how='outer') # Объединяем два датафрейма по столбцу subject_id (join-outer)\n",
        "df # Выводим на экран ДатаФрейм df"
      ],
      "execution_count": 0,
      "outputs": []
    },
    {
      "cell_type": "code",
      "metadata": {
        "id": "-Vc-1RmSjAje",
        "colab_type": "code",
        "colab": {}
      },
      "source": [
        "val = ['Не заполнено', 'Пропущено', 'Неизвестный курс', 'Неизвестное описание'] # Создаем список со значениями, которые будут использоваться вместо пропусков\n",
        "cols = df.columns.tolist() # Получаем названия столбцов датафрейма df\n",
        "cols.pop(0) # Удаляем 0 столбец  (соответствует subject_id)\n",
        "print(cols) # Выводим на экран список cols"
      ],
      "execution_count": 0,
      "outputs": []
    },
    {
      "cell_type": "code",
      "metadata": {
        "id": "sS1LJWsrjAjm",
        "colab_type": "code",
        "colab": {}
      },
      "source": [
        "# создаем словарь с меппингом названий столбцов к значениям, какими нужно заполнить в них пропуски\n",
        "dict_to_fill = dict(zip(cols, val)) # Создаем словарь, в котором в качестве ключей будут значения списка cols, а в качестве соответствующих значений - значения списка val\n",
        "dict_to_fill # Выводим на экран словарь dict_to_fill"
      ],
      "execution_count": 0,
      "outputs": []
    },
    {
      "cell_type": "code",
      "metadata": {
        "id": "9JythrBSjAjp",
        "colab_type": "code",
        "colab": {}
      },
      "source": [
        "df = df.fillna(dict_to_fill) # Заменяем пропуски в соответствии со словарем dict_to_fill\n",
        "df # Выводим на экран датафрейм df"
      ],
      "execution_count": 0,
      "outputs": []
    },
    {
      "cell_type": "markdown",
      "metadata": {
        "id": "5_aJnqtHjAjs",
        "colab_type": "text"
      },
      "source": [
        "## 5. DateTime index\n",
        "\n",
        "*Разбор данного раздела:* https://youtu.be/ptHmmlR_-ro?t=4818\n",
        "\n",
        "DateTime Index - это особый тип индекса в pandas, предназначенный для работы с временными рядами. Давайте познакомимся с ним поближе. Для этой цели мы подгрузим известный стандартный датасет \"Occupancy Detection Data Set\", он содержит следующие данные:\n",
        "* дата и время замера\n",
        "* температура в градусах по Цельсию\n",
        "* относительная влажность в % \n",
        "* освещенность в Люксах\n",
        "* CO2 в ppm \n",
        "* коэффициент влажности\n",
        "* заполненность (1 - заполнено, 0 - не заполнено)"
      ]
    },
    {
      "cell_type": "code",
      "metadata": {
        "id": "xICkBqa4jAjt",
        "colab_type": "code",
        "colab": {}
      },
      "source": [
        "dataTraining = pd.read_csv('datatraining.txt') # Создаем датафрейм из файла datatraining.txt\n",
        "dataTraining.head() # Отображаем первые 5 строк датафрейма dataTraining"
      ],
      "execution_count": 0,
      "outputs": []
    },
    {
      "cell_type": "markdown",
      "metadata": {
        "id": "eQHTSHF-jAjw",
        "colab_type": "text"
      },
      "source": [
        "Давайте превратим колонку с датой в datetime index:"
      ]
    },
    {
      "cell_type": "code",
      "metadata": {
        "id": "zcJ96Gz4jAjx",
        "colab_type": "code",
        "colab": {}
      },
      "source": [
        "dataTraining.index = pd.to_datetime(dataTraining.date) # Превращаем колонку date в индекс\n",
        "dataTraining.head() # Отображаем первые 5 строк датафрейма dataTraining"
      ],
      "execution_count": 0,
      "outputs": []
    },
    {
      "cell_type": "code",
      "metadata": {
        "id": "1Yb4I5iSEyag",
        "colab_type": "code",
        "colab": {}
      },
      "source": [
        "dataTraining.drop('date', axis=1, inplace=True) # Удаляем колонку date из датафрейма\n",
        "dataTraining.head() # Отображаем первые 5 строк датафрейма dataTraining"
      ],
      "execution_count": 0,
      "outputs": []
    },
    {
      "cell_type": "markdown",
      "metadata": {
        "id": "9xZ3hSlDjAj7",
        "colab_type": "text"
      },
      "source": [
        "Давайте посмотрим, что можно делать с данными, имеющими временной индекс."
      ]
    },
    {
      "cell_type": "markdown",
      "metadata": {
        "id": "3_YBy_F0jAj8",
        "colab_type": "text"
      },
      "source": [
        "### 1. Подвыборки\n",
        "\n",
        "*Разбор данного раздела:* https://youtu.be/ptHmmlR_-ro?t=5472"
      ]
    },
    {
      "cell_type": "code",
      "metadata": {
        "id": "1aYyxuXUjAj-",
        "colab_type": "code",
        "colab": {}
      },
      "source": [
        "dataTraining.index # Выведем на экран колонку индексов"
      ],
      "execution_count": 0,
      "outputs": []
    },
    {
      "cell_type": "code",
      "metadata": {
        "id": "aFOWuFuojAkC",
        "colab_type": "code",
        "colab": {}
      },
      "source": [
        "period = dataTraining[(dataTraining.index>'2015-02-04') & (dataTraining.index<='2015-02-07')] # Формируем новый датафрейм period, в который запишем все данные с 4 по 7 февраля 2015 года\n",
        "period # Выведем на экран датафрейм period"
      ],
      "execution_count": 0,
      "outputs": []
    },
    {
      "cell_type": "code",
      "metadata": {
        "id": "rcz2NirgjAkI",
        "colab_type": "code",
        "colab": {}
      },
      "source": [
        "month_set = dataTraining[dataTraining.index.month == 2] # Формируем новый датафрейм month_set, в который запишем все данные по февралю любого года\n",
        "month_set # Выведем на экран датафрейм month_set"
      ],
      "execution_count": 0,
      "outputs": []
    },
    {
      "cell_type": "code",
      "metadata": {
        "id": "QjMdNFlHjAkM",
        "colab_type": "code",
        "colab": {}
      },
      "source": [
        "day_set = dataTraining[(dataTraining.index.day == 6) & (dataTraining.index.hour == 13)] # Формируем новый датафрейм day_set, в который запишем данные за все субботы в промежуток с 13-00 до 13-59\n",
        "day_set # Выведем на экран датафрейм day_set"
      ],
      "execution_count": 0,
      "outputs": []
    },
    {
      "cell_type": "code",
      "metadata": {
        "id": "TBnaueJ_jAkQ",
        "colab_type": "code",
        "colab": {}
      },
      "source": [
        "dataTraining['2015-02-06'] # Отобразим данные за 6 февраля 2015 года"
      ],
      "execution_count": 0,
      "outputs": []
    },
    {
      "cell_type": "code",
      "metadata": {
        "id": "2X1of8EBFnlm",
        "colab_type": "code",
        "colab": {}
      },
      "source": [
        "dataTraining['2015-02-06':]  # Отобразим данные, начиная с 6 февраля 2015 года"
      ],
      "execution_count": 0,
      "outputs": []
    },
    {
      "cell_type": "code",
      "metadata": {
        "id": "350rNvXEjAkS",
        "colab_type": "code",
        "colab": {}
      },
      "source": [
        "dataTraining['2015-02-08 14:55':'2015-02-08 14:56']  # Отобразим данные, начиная с 14:55 и до 14:56 8 февраля 2015 года"
      ],
      "execution_count": 0,
      "outputs": []
    },
    {
      "cell_type": "markdown",
      "metadata": {
        "id": "C8xqSqQujAmh",
        "colab_type": "text"
      },
      "source": [
        "## 6. Встроенные статистические функции\n",
        "\n",
        "Кроме уже известных и понятных нам суммы и среднего, есть и другие функции. Остановимся на них подробнее."
      ]
    },
    {
      "cell_type": "markdown",
      "metadata": {
        "id": "hR8AlUzejAmh",
        "colab_type": "text"
      },
      "source": [
        "### 1. Корреляция\n",
        "\n",
        "*Разбор данного раздела:* https://youtu.be/ptHmmlR_-ro?t=5910"
      ]
    },
    {
      "cell_type": "markdown",
      "metadata": {
        "id": "M7H3eXu0jAmi",
        "colab_type": "text"
      },
      "source": [
        "Обычный коэффициент корреляции Пирсона"
      ]
    },
    {
      "cell_type": "code",
      "metadata": {
        "id": "IJLYQkG0jAmj",
        "colab_type": "code",
        "colab": {}
      },
      "source": [
        "dataTraining.corr() # Выведем матрицу корреляции для датафрейма dataTraining"
      ],
      "execution_count": 0,
      "outputs": []
    },
    {
      "cell_type": "markdown",
      "metadata": {
        "id": "qG6LB7yDjAmx",
        "colab_type": "text"
      },
      "source": [
        "### 2. Медиана\n",
        "\n",
        "*Разбор данного раздела:* https://youtu.be/ptHmmlR_-ro?t=6089"
      ]
    },
    {
      "cell_type": "code",
      "metadata": {
        "id": "YMbWszYgjAmx",
        "colab_type": "code",
        "colab": {}
      },
      "source": [
        "dataTraining.median() # Выведем медиану для датафрейма dataTraining"
      ],
      "execution_count": 0,
      "outputs": []
    },
    {
      "cell_type": "markdown",
      "metadata": {
        "id": "xzJAnTajjAm3",
        "colab_type": "text"
      },
      "source": [
        "### 3. Квантили\n",
        "\n",
        "*Разбор данного раздела:* https://youtu.be/ptHmmlR_-ro?t=6236"
      ]
    },
    {
      "cell_type": "code",
      "metadata": {
        "id": "KsTCGucJjAm3",
        "colab_type": "code",
        "colab": {}
      },
      "source": [
        "dataTraining.quantile([0.95, 0.05, 0.5]) # Выведем квантили для датафрейма dataTraining"
      ],
      "execution_count": 0,
      "outputs": []
    },
    {
      "cell_type": "markdown",
      "metadata": {
        "id": "yRYKb92DjAm5",
        "colab_type": "text"
      },
      "source": [
        "### 4. Уникальные значения и их количество\n",
        "\n",
        "*Разбор данного раздела:* https://youtu.be/ptHmmlR_-ro?t=6445"
      ]
    },
    {
      "cell_type": "code",
      "metadata": {
        "id": "BlNFl4MxjAm9",
        "colab_type": "code",
        "colab": {}
      },
      "source": [
        "dataTraining.nunique() # Выведем количество уникльных значений для всех столбцов датафрейма dataTraining"
      ],
      "execution_count": 0,
      "outputs": []
    },
    {
      "cell_type": "code",
      "metadata": {
        "id": "4EKcGjQKjAnA",
        "colab_type": "code",
        "colab": {}
      },
      "source": [
        "dataTraining.Occupancy.unique() # Выведем уникальные значения для столбца Occupancy датафрейма dataTraining"
      ],
      "execution_count": 0,
      "outputs": []
    },
    {
      "cell_type": "markdown",
      "metadata": {
        "id": "Idy8pVuvjAnD",
        "colab_type": "text"
      },
      "source": [
        "### 5. Кумулятивные функции\n",
        "\n",
        "*Разбор данного раздела:* https://youtu.be/ptHmmlR_-ro?t=6520"
      ]
    },
    {
      "cell_type": "code",
      "metadata": {
        "id": "SvECdcLMjAnD",
        "colab_type": "code",
        "colab": {}
      },
      "source": [
        "dataTraining.head() # Выведем первые 5 строк датафрейма dataTraining"
      ],
      "execution_count": 0,
      "outputs": []
    },
    {
      "cell_type": "code",
      "metadata": {
        "id": "r2mh3isUjAnE",
        "colab_type": "code",
        "colab": {}
      },
      "source": [
        "dataTraining.cumsum().head() # Выводим кумулятивную сумму"
      ],
      "execution_count": 0,
      "outputs": []
    },
    {
      "cell_type": "code",
      "metadata": {
        "id": "Ou5V4TbqjAnG",
        "colab_type": "code",
        "colab": {}
      },
      "source": [
        "dataTraining.cummin().head() # Выводим кумулятивный минимум"
      ],
      "execution_count": 0,
      "outputs": []
    },
    {
      "cell_type": "code",
      "metadata": {
        "id": "RjW1FDWPjAnH",
        "colab_type": "code",
        "colab": {}
      },
      "source": [
        "dataTraining.cumprod().head() # Выводим кумулятивное произведение"
      ],
      "execution_count": 0,
      "outputs": []
    },
    {
      "cell_type": "markdown",
      "metadata": {
        "id": "G_jD-MltjAnR",
        "colab_type": "text"
      },
      "source": [
        "### 6. Метод apply\n",
        "\n",
        "*Разбор данного раздела:* https://youtu.be/ptHmmlR_-ro?t=6758"
      ]
    },
    {
      "cell_type": "code",
      "metadata": {
        "id": "sbay6-2EjAnT",
        "colab_type": "code",
        "colab": {}
      },
      "source": [
        "# Задаем свою функцию для нормирования значений\n",
        "def scaling(df):\n",
        "    return (df - df.mean()) / df.std()"
      ],
      "execution_count": 0,
      "outputs": []
    },
    {
      "cell_type": "code",
      "metadata": {
        "id": "f1o_FVHQjAnU",
        "colab_type": "code",
        "colab": {}
      },
      "source": [
        "dataTraining.apply(scaling).head() # Применяем созданную функцию к датафрейму dataTraining"
      ],
      "execution_count": 0,
      "outputs": []
    },
    {
      "cell_type": "code",
      "metadata": {
        "id": "Oq07WNjnjAnV",
        "colab_type": "code",
        "colab": {}
      },
      "source": [
        "dataTraining.apply('mean') # Выводим среднее значение по всем столбцам dataTraining"
      ],
      "execution_count": 0,
      "outputs": []
    },
    {
      "cell_type": "markdown",
      "metadata": {
        "id": "9TdHEC0ajAng",
        "colab_type": "text"
      },
      "source": [
        "### 7. lambda функции и метод agg\n",
        "\n",
        "*Разбор данного раздела:* https://youtu.be/ptHmmlR_-ro?t=6865"
      ]
    },
    {
      "cell_type": "code",
      "metadata": {
        "id": "4Oj6UZ5ojAni",
        "colab_type": "code",
        "colab": {}
      },
      "source": [
        "dataTraining.agg(['sum', 'mean', 'min', 'max', lambda x: x.mean()]) # Выводим указанные значения по всем столбцам dataTraining"
      ],
      "execution_count": 0,
      "outputs": []
    },
    {
      "cell_type": "markdown",
      "metadata": {
        "id": "3ANmDztPdeNy",
        "colab_type": "text"
      },
      "source": [
        "## 7. Resampling\n",
        "\n",
        "*Разбор данного раздела:* https://youtu.be/ptHmmlR_-ro?t=6937"
      ]
    },
    {
      "cell_type": "code",
      "metadata": {
        "id": "Q-MqXgm7dha9",
        "colab_type": "code",
        "colab": {}
      },
      "source": [
        "dataTraining.Temperature.resample('D').mean() # Суммируем температурные данные за недельный период"
      ],
      "execution_count": 0,
      "outputs": []
    },
    {
      "cell_type": "markdown",
      "metadata": {
        "id": "8F6G2AUnKFCA",
        "colab_type": "text"
      },
      "source": [
        "# Глоссарий\n",
        "\n",
        "\n",
        "pd.DataFrame(данные, columns = [колонки, если есть], index = [индексы ,если есть]) - создать датафрейм\n",
        "\n",
        "pd.read_csv(полный адрес расположения файла) - открыть .csv файл\n",
        "\n",
        "------------\n",
        "\n",
        ".head() - посмотреть верхушку датафрейма (первые n строк)\n",
        "\n",
        ".tail() - посмотреть конец датафрейма (последние n строк)\n",
        "\n",
        ".columns - список колонок датафрейма\n",
        "\n",
        ".values - вывести массив всех значений датафрейма\n",
        "\n",
        ".index - список индексов датафрейма\n",
        "\n",
        ".tolist() - перевести в список\n",
        "\n",
        ".count() - посчитать количество определенных величин во фрейме\n",
        "\n",
        ".describe() - посмотреть основные статистические характеристики фрейма\n",
        "\n",
        ".shape - форма фрейма (строки, колонки)\n",
        "\n",
        ".size - размер фрейма строки*колонки\n",
        "\n",
        ".info() - информация о данных каждой колонки\n",
        "\n",
        ".dtypes - тип данных каждой колонки\n",
        "\n",
        ".isnull() - где недостает значений\n",
        "\n",
        ".isna()- есть ли значения None\n",
        "\n",
        ".dropna() - выкинуть строки/колонки с None\n",
        "\n",
        ".fillna() - заполнить заданным значеним ячейки, где есть None\n",
        "\n",
        ".loc[] - вывести значения по названиям колонок\n",
        "\n",
        ".iloc[] - вывести значения по индексам колонок\n",
        "\n",
        ".drop() - выкинуть определенные значения\n",
        "\n",
        "--------------\n",
        "\n",
        "pd.to_datetime(колонка, которую переводим в формат временного ряда)\n",
        "\n",
        ".groupby() - сгруппировать по конкретному признаку\n",
        "\n",
        ".copy() - создать копию\n",
        "\n",
        ".sort_values() - сортировка значений\n",
        "\n",
        "pd.concat([df1,df2]) - конкатенация фреймов\n",
        "\n",
        ".merge(второй_датафрейм, on = 'общая колонка, по которой склеиваем', how = 'с какой стороны') - конкатенация фреймов через общий признак\n",
        "\n",
        "-------------\n",
        "\n",
        "\n",
        ".corr() - вычислить корреляцию\n",
        "\n",
        ".median() - вычислить медиану\n",
        "\n",
        ".cumsum() - вычислить кумулятивную сумму\n",
        "\n",
        ".cumprod() - вычислить кумулятивное произведение\n",
        "\n",
        ".cummax() - вычислить кумулятивный максимум\n",
        "\n",
        "-------------\n",
        "\n",
        ".quantile([]) - вычислить квантили\n",
        "\n",
        ".nunique() - уникальные значения для n-колонок/строк\n",
        "\n",
        ".unique() - уникальные значения определенной колонки/строк\n",
        "\n",
        "------------\n",
        "\n",
        ".apply(функция) - применить функцию для колонки/строки\n",
        "\n",
        ".agg(набор_функций) - применить ряд функций для колонки/строки\n"
      ]
    },
    {
      "cell_type": "code",
      "metadata": {
        "id": "Ku19ab06hkRZ",
        "colab_type": "code",
        "colab": {}
      },
      "source": [
        ""
      ],
      "execution_count": 0,
      "outputs": []
    }
  ]
}