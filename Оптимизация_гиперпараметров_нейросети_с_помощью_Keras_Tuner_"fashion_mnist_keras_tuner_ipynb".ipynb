{
  "nbformat": 4,
  "nbformat_minor": 0,
  "metadata": {
    "colab": {
      "name": "Оптимизация гиперпараметров нейросети с помощью Keras Tuner \"fashion_mnist_keras_tuner.ipynb\"",
      "provenance": [],
      "include_colab_link": true
    },
    "kernelspec": {
      "name": "python3",
      "display_name": "Python 3"
    },
    "accelerator": "GPU"
  },
  "cells": [
    {
      "cell_type": "markdown",
      "metadata": {
        "id": "view-in-github",
        "colab_type": "text"
      },
      "source": [
        "<a href=\"https://colab.research.google.com/github/safal207/hello-world/blob/master/%D0%9E%D0%BF%D1%82%D0%B8%D0%BC%D0%B8%D0%B7%D0%B0%D1%86%D0%B8%D1%8F_%D0%B3%D0%B8%D0%BF%D0%B5%D1%80%D0%BF%D0%B0%D1%80%D0%B0%D0%BC%D0%B5%D1%82%D1%80%D0%BE%D0%B2_%D0%BD%D0%B5%D0%B9%D1%80%D0%BE%D1%81%D0%B5%D1%82%D0%B8_%D1%81_%D0%BF%D0%BE%D0%BC%D0%BE%D1%89%D1%8C%D1%8E_Keras_Tuner_%22fashion_mnist_keras_tuner_ipynb%22.ipynb\" target=\"_parent\"><img src=\"https://colab.research.google.com/assets/colab-badge.svg\" alt=\"Open In Colab\"/></a>"
      ]
    },
    {
      "cell_type": "markdown",
      "metadata": {
        "id": "Ah7dy1kFL2H9"
      },
      "source": [
        "# Оптимизация гиперпараметров нейросети с помощью [Keras Tuner](https://github.com/keras-team/keras-tuner)\n",
        "\n",
        "\n",
        "\n",
        "Чтобы запускать и редактировать код, сохраните копию этого ноутбука себе (File->Save a copy in Drive...). Свою копию вы сможете изменять и запускать.\n",
        "\n",
        "Не забудьте подключить GPU, чтобы сеть обучалась быстрее (Runtime -> Change Runtime Type -> Hardware Accelerator -> GPU).\n",
        "\n"
      ]
    },
    {
      "cell_type": "markdown",
      "metadata": {
        "id": "Om0LL5DEZfEo"
      },
      "source": [
        "## Гиперпараметры обучения нейронной сети\n",
        "\n",
        "- Количество слоев нейронной сети\n",
        "- Количество нейронов в каждом слое\n",
        "- Функции активации, которые используются в слоях\n",
        "- Тип оптимизатора при обучении нейронной сети\n",
        "- Количество эпох обучения"
      ]
    },
    {
      "cell_type": "markdown",
      "metadata": {
        "id": "eVmxmhjuia9a"
      },
      "source": [
        "## Установка Keras Tuner"
      ]
    },
    {
      "cell_type": "code",
      "metadata": {
        "id": "ftLg2Tt0Rejk",
        "outputId": "3acdb5e5-6c13-4f89-defa-f5a555ef29ef",
        "colab": {
          "base_uri": "https://localhost:8080/"
        }
      },
      "source": [
        "pip install -U keras-tuner"
      ],
      "execution_count": 1,
      "outputs": [
        {
          "output_type": "stream",
          "text": [
            "Collecting keras-tuner\n",
            "\u001b[?25l  Downloading https://files.pythonhosted.org/packages/a7/f7/4b41b6832abf4c9bef71a664dc563adb25afc5812831667c6db572b1a261/keras-tuner-1.0.1.tar.gz (54kB)\n",
            "\r\u001b[K     |██████                          | 10kB 26.3MB/s eta 0:00:01\r\u001b[K     |████████████                    | 20kB 20.5MB/s eta 0:00:01\r\u001b[K     |██████████████████              | 30kB 16.3MB/s eta 0:00:01\r\u001b[K     |████████████████████████        | 40kB 12.3MB/s eta 0:00:01\r\u001b[K     |██████████████████████████████  | 51kB 11.0MB/s eta 0:00:01\r\u001b[K     |████████████████████████████████| 61kB 6.5MB/s \n",
            "\u001b[?25hRequirement already satisfied, skipping upgrade: future in /usr/local/lib/python3.6/dist-packages (from keras-tuner) (0.16.0)\n",
            "Requirement already satisfied, skipping upgrade: numpy in /usr/local/lib/python3.6/dist-packages (from keras-tuner) (1.18.5)\n",
            "Requirement already satisfied, skipping upgrade: tabulate in /usr/local/lib/python3.6/dist-packages (from keras-tuner) (0.8.7)\n",
            "Collecting terminaltables\n",
            "  Downloading https://files.pythonhosted.org/packages/9b/c4/4a21174f32f8a7e1104798c445dacdc1d4df86f2f26722767034e4de4bff/terminaltables-3.1.0.tar.gz\n",
            "Collecting colorama\n",
            "  Downloading https://files.pythonhosted.org/packages/44/98/5b86278fbbf250d239ae0ecb724f8572af1c91f4a11edf4d36a206189440/colorama-0.4.4-py2.py3-none-any.whl\n",
            "Requirement already satisfied, skipping upgrade: tqdm in /usr/local/lib/python3.6/dist-packages (from keras-tuner) (4.41.1)\n",
            "Requirement already satisfied, skipping upgrade: requests in /usr/local/lib/python3.6/dist-packages (from keras-tuner) (2.23.0)\n",
            "Requirement already satisfied, skipping upgrade: scipy in /usr/local/lib/python3.6/dist-packages (from keras-tuner) (1.4.1)\n",
            "Requirement already satisfied, skipping upgrade: scikit-learn in /usr/local/lib/python3.6/dist-packages (from keras-tuner) (0.22.2.post1)\n",
            "Requirement already satisfied, skipping upgrade: idna<3,>=2.5 in /usr/local/lib/python3.6/dist-packages (from requests->keras-tuner) (2.10)\n",
            "Requirement already satisfied, skipping upgrade: certifi>=2017.4.17 in /usr/local/lib/python3.6/dist-packages (from requests->keras-tuner) (2020.6.20)\n",
            "Requirement already satisfied, skipping upgrade: urllib3!=1.25.0,!=1.25.1,<1.26,>=1.21.1 in /usr/local/lib/python3.6/dist-packages (from requests->keras-tuner) (1.24.3)\n",
            "Requirement already satisfied, skipping upgrade: chardet<4,>=3.0.2 in /usr/local/lib/python3.6/dist-packages (from requests->keras-tuner) (3.0.4)\n",
            "Requirement already satisfied, skipping upgrade: joblib>=0.11 in /usr/local/lib/python3.6/dist-packages (from scikit-learn->keras-tuner) (0.17.0)\n",
            "Building wheels for collected packages: keras-tuner, terminaltables\n",
            "  Building wheel for keras-tuner (setup.py) ... \u001b[?25l\u001b[?25hdone\n",
            "  Created wheel for keras-tuner: filename=keras_tuner-1.0.1-cp36-none-any.whl size=73200 sha256=3baddec98c348aff176b77c3564604430411ad676499232ba2e7c2eceacfd7bb\n",
            "  Stored in directory: /root/.cache/pip/wheels/b9/cc/62/52716b70dd90f3db12519233c3a93a5360bc672da1a10ded43\n",
            "  Building wheel for terminaltables (setup.py) ... \u001b[?25l\u001b[?25hdone\n",
            "  Created wheel for terminaltables: filename=terminaltables-3.1.0-cp36-none-any.whl size=15356 sha256=ecaaf823799fb00909d207f59b65b235fe81174d386163811d3394a48547e8ea\n",
            "  Stored in directory: /root/.cache/pip/wheels/30/6b/50/6c75775b681fb36cdfac7f19799888ef9d8813aff9e379663e\n",
            "Successfully built keras-tuner terminaltables\n",
            "Installing collected packages: terminaltables, colorama, keras-tuner\n",
            "Successfully installed colorama-0.4.4 keras-tuner-1.0.1 terminaltables-3.1.0\n"
          ],
          "name": "stdout"
        }
      ]
    },
    {
      "cell_type": "markdown",
      "metadata": {
        "id": "TRs9p254BLSu"
      },
      "source": [
        "## Подключаем нужные пакеты"
      ]
    },
    {
      "cell_type": "code",
      "metadata": {
        "id": "qrfd6FzSLrE2"
      },
      "source": [
        "%tensorflow_version 2.x\n",
        "from tensorflow.keras.datasets import fashion_mnist\n",
        "from tensorflow.keras.models import Sequential\n",
        "from tensorflow.keras.layers import Dense\n",
        "from tensorflow.keras import utils\n",
        "from google.colab import files\n",
        "from kerastuner.tuners import RandomSearch, Hyperband, BayesianOptimization\n",
        "import numpy as np"
      ],
      "execution_count": 2,
      "outputs": []
    },
    {
      "cell_type": "markdown",
      "metadata": {
        "id": "xiurjCBVMDTG"
      },
      "source": [
        "## Подготовка данных для обучения сети"
      ]
    },
    {
      "cell_type": "code",
      "metadata": {
        "id": "E5L3LUIi8PDV",
        "outputId": "d4959168-3080-4dc0-ed3f-7ce32516b58e",
        "colab": {
          "base_uri": "https://localhost:8080/"
        }
      },
      "source": [
        "(x_train, y_train), (x_test, y_test) = fashion_mnist.load_data()"
      ],
      "execution_count": 3,
      "outputs": [
        {
          "output_type": "stream",
          "text": [
            "Downloading data from https://storage.googleapis.com/tensorflow/tf-keras-datasets/train-labels-idx1-ubyte.gz\n",
            "32768/29515 [=================================] - 0s 0us/step\n",
            "Downloading data from https://storage.googleapis.com/tensorflow/tf-keras-datasets/train-images-idx3-ubyte.gz\n",
            "26427392/26421880 [==============================] - 0s 0us/step\n",
            "Downloading data from https://storage.googleapis.com/tensorflow/tf-keras-datasets/t10k-labels-idx1-ubyte.gz\n",
            "8192/5148 [===============================================] - 0s 0us/step\n",
            "Downloading data from https://storage.googleapis.com/tensorflow/tf-keras-datasets/t10k-images-idx3-ubyte.gz\n",
            "4423680/4422102 [==============================] - 0s 0us/step\n"
          ],
          "name": "stdout"
        }
      ]
    },
    {
      "cell_type": "code",
      "metadata": {
        "id": "6Z52YG_1kXbi"
      },
      "source": [
        "x_train = x_train.reshape(60000, 784)\n",
        "x_test = x_test.reshape(10000, 784)\n",
        "x_train = x_train / 255 \n",
        "x_test = x_test / 255 \n",
        "y_train = utils.to_categorical(y_train, 10)\n",
        "y_test = utils.to_categorical(y_test, 10)"
      ],
      "execution_count": 4,
      "outputs": []
    },
    {
      "cell_type": "markdown",
      "metadata": {
        "id": "rpEltSGUkJAG"
      },
      "source": [
        "## Задаем функцию создания нейронной сети"
      ]
    },
    {
      "cell_type": "code",
      "metadata": {
        "id": "Sd62W3GOQtKU"
      },
      "source": [
        "def build_model(hp):\n",
        "    model = Sequential()\n",
        "    activation_choice = hp.Choice('activation', values=['relu', 'sigmoid', 'tanh', 'elu', 'selu'])    \n",
        "    model.add(Dense(units=hp.Int('units_input',    # Полносвязный слой с разным количеством нейронов\n",
        "                                   min_value=512,    # минимальное количество нейронов - 128\n",
        "                                   max_value=1024,   # максимальное количество - 1024\n",
        "                                   step=32),\n",
        "                    input_dim=784,\n",
        "                    activation=activation_choice))\n",
        "    model.add(Dense(units=hp.Int('units_hidden',        \n",
        "                                   min_value=128,   \n",
        "                                   max_value=600,   \n",
        "                                   step=32),\n",
        "                    activation=activation_choice))   \n",
        "    model.add(Dense(10, activation='softmax'))\n",
        "    model.compile(\n",
        "        optimizer=hp.Choice('optimizer', values=['adam','rmsprop','SGD']),\n",
        "        loss='categorical_crossentropy',\n",
        "        metrics=['accuracy'])\n",
        "    return model"
      ],
      "execution_count": 5,
      "outputs": []
    },
    {
      "cell_type": "markdown",
      "metadata": {
        "id": "lFw-0sZsmFOJ"
      },
      "source": [
        "## Создаем tuner\n",
        "\n",
        "Доступные типы тюнеров: \n",
        "- RandomSearch - случайный поиск.\n",
        "- Hyperband - алгоритм оптимизации на основе многорукого бандита, Li, Lisha, and Kevin Jamieson. [\"Hyperband: A Novel Bandit-Based Approach to Hyperparameter Optimization.\"Journal of Machine Learning Research 18 (2018): 1-52](http://jmlr.org/papers/v18/16-558.html).\n",
        "- BayesianOptimization - [байесовская оптимизация](https://en.wikipedia.org/wiki/Bayesian_optimization)."
      ]
    },
    {
      "cell_type": "code",
      "metadata": {
        "id": "OZwA47cOQz4b"
      },
      "source": [
        "tuner = RandomSearch(\n",
        "    build_model,                 # функция создания модели\n",
        "    objective='val_accuracy',    # метрика, которую нужно оптимизировать - \n",
        "                                 # доля правильных ответов на проверочном наборе данных\n",
        "    max_trials=80,               # максимальное количество запусков обучения \n",
        "    directory='test_directory'   # каталог, куда сохраняются обученные сети  \n",
        "    )"
      ],
      "execution_count": 6,
      "outputs": []
    },
    {
      "cell_type": "markdown",
      "metadata": {
        "id": "-znOiwDZB1C5"
      },
      "source": [
        "## Запускаем подбор гиперпараметров"
      ]
    },
    {
      "cell_type": "markdown",
      "metadata": {
        "id": "63MVEBFYmdpB"
      },
      "source": [
        "Пространство поиска"
      ]
    },
    {
      "cell_type": "code",
      "metadata": {
        "id": "JeJ87qoVB4PV",
        "outputId": "e3467a39-6e77-4ac3-eece-d6d54839213c",
        "colab": {
          "base_uri": "https://localhost:8080/",
          "height": 494
        }
      },
      "source": [
        "tuner.search_space_summary()"
      ],
      "execution_count": 7,
      "outputs": [
        {
          "output_type": "display_data",
          "data": {
            "text/html": [
              "<span style=\"color:#4527A0\"><h1 style=\"font-size:18px\">Search space summary</h1></span>"
            ],
            "text/plain": [
              "<IPython.core.display.HTML object>"
            ]
          },
          "metadata": {
            "tags": []
          }
        },
        {
          "output_type": "display_data",
          "data": {
            "text/html": [
              "<span style=\"color:cyan\"> |-Default search space size: 4</span>"
            ],
            "text/plain": [
              "<IPython.core.display.HTML object>"
            ]
          },
          "metadata": {
            "tags": []
          }
        },
        {
          "output_type": "display_data",
          "data": {
            "text/html": [
              "<span style=\"color:#7E57C2\"><h2 style=\"font-size:16px\">activation (Choice)</h2></span>"
            ],
            "text/plain": [
              "<IPython.core.display.HTML object>"
            ]
          },
          "metadata": {
            "tags": []
          }
        },
        {
          "output_type": "display_data",
          "data": {
            "text/html": [
              "<span style=\"color:cyan\"> |-default: relu</span>"
            ],
            "text/plain": [
              "<IPython.core.display.HTML object>"
            ]
          },
          "metadata": {
            "tags": []
          }
        },
        {
          "output_type": "display_data",
          "data": {
            "text/html": [
              "<span style=\"color:blue\"> |-ordered: False</span>"
            ],
            "text/plain": [
              "<IPython.core.display.HTML object>"
            ]
          },
          "metadata": {
            "tags": []
          }
        },
        {
          "output_type": "display_data",
          "data": {
            "text/html": [
              "<span style=\"color:cyan\"> |-values: ['relu', 'sigmoid', 'tanh', 'elu', 'selu']</span>"
            ],
            "text/plain": [
              "<IPython.core.display.HTML object>"
            ]
          },
          "metadata": {
            "tags": []
          }
        },
        {
          "output_type": "display_data",
          "data": {
            "text/html": [
              "<span style=\"color:#7E57C2\"><h2 style=\"font-size:16px\">units_input (Int)</h2></span>"
            ],
            "text/plain": [
              "<IPython.core.display.HTML object>"
            ]
          },
          "metadata": {
            "tags": []
          }
        },
        {
          "output_type": "display_data",
          "data": {
            "text/html": [
              "<span style=\"color:cyan\"> |-default: None</span>"
            ],
            "text/plain": [
              "<IPython.core.display.HTML object>"
            ]
          },
          "metadata": {
            "tags": []
          }
        },
        {
          "output_type": "display_data",
          "data": {
            "text/html": [
              "<span style=\"color:blue\"> |-max_value: 1024</span>"
            ],
            "text/plain": [
              "<IPython.core.display.HTML object>"
            ]
          },
          "metadata": {
            "tags": []
          }
        },
        {
          "output_type": "display_data",
          "data": {
            "text/html": [
              "<span style=\"color:cyan\"> |-min_value: 512</span>"
            ],
            "text/plain": [
              "<IPython.core.display.HTML object>"
            ]
          },
          "metadata": {
            "tags": []
          }
        },
        {
          "output_type": "display_data",
          "data": {
            "text/html": [
              "<span style=\"color:blue\"> |-sampling: None</span>"
            ],
            "text/plain": [
              "<IPython.core.display.HTML object>"
            ]
          },
          "metadata": {
            "tags": []
          }
        },
        {
          "output_type": "display_data",
          "data": {
            "text/html": [
              "<span style=\"color:cyan\"> |-step: 32</span>"
            ],
            "text/plain": [
              "<IPython.core.display.HTML object>"
            ]
          },
          "metadata": {
            "tags": []
          }
        },
        {
          "output_type": "display_data",
          "data": {
            "text/html": [
              "<span style=\"color:#7E57C2\"><h2 style=\"font-size:16px\">units_hidden (Int)</h2></span>"
            ],
            "text/plain": [
              "<IPython.core.display.HTML object>"
            ]
          },
          "metadata": {
            "tags": []
          }
        },
        {
          "output_type": "display_data",
          "data": {
            "text/html": [
              "<span style=\"color:cyan\"> |-default: None</span>"
            ],
            "text/plain": [
              "<IPython.core.display.HTML object>"
            ]
          },
          "metadata": {
            "tags": []
          }
        },
        {
          "output_type": "display_data",
          "data": {
            "text/html": [
              "<span style=\"color:blue\"> |-max_value: 600</span>"
            ],
            "text/plain": [
              "<IPython.core.display.HTML object>"
            ]
          },
          "metadata": {
            "tags": []
          }
        },
        {
          "output_type": "display_data",
          "data": {
            "text/html": [
              "<span style=\"color:cyan\"> |-min_value: 128</span>"
            ],
            "text/plain": [
              "<IPython.core.display.HTML object>"
            ]
          },
          "metadata": {
            "tags": []
          }
        },
        {
          "output_type": "display_data",
          "data": {
            "text/html": [
              "<span style=\"color:blue\"> |-sampling: None</span>"
            ],
            "text/plain": [
              "<IPython.core.display.HTML object>"
            ]
          },
          "metadata": {
            "tags": []
          }
        },
        {
          "output_type": "display_data",
          "data": {
            "text/html": [
              "<span style=\"color:cyan\"> |-step: 32</span>"
            ],
            "text/plain": [
              "<IPython.core.display.HTML object>"
            ]
          },
          "metadata": {
            "tags": []
          }
        },
        {
          "output_type": "display_data",
          "data": {
            "text/html": [
              "<span style=\"color:#7E57C2\"><h2 style=\"font-size:16px\">optimizer (Choice)</h2></span>"
            ],
            "text/plain": [
              "<IPython.core.display.HTML object>"
            ]
          },
          "metadata": {
            "tags": []
          }
        },
        {
          "output_type": "display_data",
          "data": {
            "text/html": [
              "<span style=\"color:cyan\"> |-default: adam</span>"
            ],
            "text/plain": [
              "<IPython.core.display.HTML object>"
            ]
          },
          "metadata": {
            "tags": []
          }
        },
        {
          "output_type": "display_data",
          "data": {
            "text/html": [
              "<span style=\"color:blue\"> |-ordered: False</span>"
            ],
            "text/plain": [
              "<IPython.core.display.HTML object>"
            ]
          },
          "metadata": {
            "tags": []
          }
        },
        {
          "output_type": "display_data",
          "data": {
            "text/html": [
              "<span style=\"color:cyan\"> |-values: ['adam', 'rmsprop', 'SGD']</span>"
            ],
            "text/plain": [
              "<IPython.core.display.HTML object>"
            ]
          },
          "metadata": {
            "tags": []
          }
        }
      ]
    },
    {
      "cell_type": "markdown",
      "metadata": {
        "id": "EfT4ecI8n5Ga"
      },
      "source": [
        "Подбор гиперпараметров"
      ]
    },
    {
      "cell_type": "code",
      "metadata": {
        "id": "NEFHVKDBB-Z9",
        "outputId": "47f6834d-52de-4560-975e-3e9c388da1d4",
        "colab": {
          "base_uri": "https://localhost:8080/",
          "height": 1000
        }
      },
      "source": [
        "tuner.search(x_train,                  # Данные для обучения\n",
        "             y_train,                  # Правильные ответы\n",
        "             batch_size=256,           # Размер мини-выборки\n",
        "             epochs=20,                # Количество эпох обучения \n",
        "             validation_split=0.2,     # Часть данных, которая будет использоваться для проверки\n",
        "             )"
      ],
      "execution_count": 8,
      "outputs": [
        {
          "output_type": "stream",
          "text": [
            "Epoch 1/20\n",
            "188/188 [==============================] - 1s 5ms/step - loss: 0.6416 - accuracy: 0.7667 - val_loss: 0.4312 - val_accuracy: 0.8430\n",
            "Epoch 2/20\n",
            "188/188 [==============================] - 1s 5ms/step - loss: 0.4165 - accuracy: 0.8455 - val_loss: 0.4039 - val_accuracy: 0.8517\n",
            "Epoch 3/20\n",
            "188/188 [==============================] - 1s 4ms/step - loss: 0.3607 - accuracy: 0.8663 - val_loss: 0.3891 - val_accuracy: 0.8564\n",
            "Epoch 4/20\n",
            "188/188 [==============================] - 1s 5ms/step - loss: 0.3275 - accuracy: 0.8785 - val_loss: 0.3238 - val_accuracy: 0.8811\n",
            "Epoch 5/20\n",
            "188/188 [==============================] - 1s 4ms/step - loss: 0.3012 - accuracy: 0.8890 - val_loss: 0.3371 - val_accuracy: 0.8799\n",
            "Epoch 6/20\n",
            "188/188 [==============================] - 1s 5ms/step - loss: 0.2868 - accuracy: 0.8912 - val_loss: 0.3207 - val_accuracy: 0.8842\n",
            "Epoch 7/20\n",
            "188/188 [==============================] - 1s 4ms/step - loss: 0.2651 - accuracy: 0.8995 - val_loss: 0.3588 - val_accuracy: 0.8767\n",
            "Epoch 8/20\n",
            "188/188 [==============================] - 1s 4ms/step - loss: 0.2524 - accuracy: 0.9043 - val_loss: 0.3826 - val_accuracy: 0.8745\n",
            "Epoch 9/20\n",
            "188/188 [==============================] - 1s 5ms/step - loss: 0.2387 - accuracy: 0.9102 - val_loss: 0.3520 - val_accuracy: 0.8842\n",
            "Epoch 10/20\n",
            "188/188 [==============================] - 1s 5ms/step - loss: 0.2297 - accuracy: 0.9131 - val_loss: 0.3194 - val_accuracy: 0.8944\n",
            "Epoch 11/20\n",
            "188/188 [==============================] - 1s 5ms/step - loss: 0.2178 - accuracy: 0.9166 - val_loss: 0.4745 - val_accuracy: 0.8593\n",
            "Epoch 12/20\n",
            "188/188 [==============================] - 1s 5ms/step - loss: 0.2071 - accuracy: 0.9213 - val_loss: 0.3594 - val_accuracy: 0.8868\n",
            "Epoch 13/20\n",
            "188/188 [==============================] - 1s 5ms/step - loss: 0.1996 - accuracy: 0.9244 - val_loss: 0.3750 - val_accuracy: 0.8810\n",
            "Epoch 14/20\n",
            "188/188 [==============================] - 1s 5ms/step - loss: 0.1928 - accuracy: 0.9268 - val_loss: 0.3972 - val_accuracy: 0.8883\n",
            "Epoch 15/20\n",
            "188/188 [==============================] - 1s 5ms/step - loss: 0.1853 - accuracy: 0.9281 - val_loss: 0.3957 - val_accuracy: 0.8883\n",
            "Epoch 16/20\n",
            "188/188 [==============================] - 1s 5ms/step - loss: 0.1804 - accuracy: 0.9304 - val_loss: 0.4130 - val_accuracy: 0.8825\n",
            "Epoch 17/20\n",
            "188/188 [==============================] - 1s 4ms/step - loss: 0.1721 - accuracy: 0.9346 - val_loss: 0.3926 - val_accuracy: 0.8951\n",
            "Epoch 18/20\n",
            "188/188 [==============================] - 1s 5ms/step - loss: 0.1698 - accuracy: 0.9353 - val_loss: 0.4314 - val_accuracy: 0.8957\n",
            "Epoch 19/20\n",
            "188/188 [==============================] - 1s 4ms/step - loss: 0.1659 - accuracy: 0.9378 - val_loss: 0.4192 - val_accuracy: 0.8917\n",
            "Epoch 20/20\n",
            "188/188 [==============================] - 1s 4ms/step - loss: 0.1599 - accuracy: 0.9393 - val_loss: 0.5455 - val_accuracy: 0.8801\n"
          ],
          "name": "stdout"
        },
        {
          "output_type": "display_data",
          "data": {
            "text/html": [
              "<span style=\"color:#4527A0\"><h1 style=\"font-size:18px\">Trial complete</h1></span>"
            ],
            "text/plain": [
              "<IPython.core.display.HTML object>"
            ]
          },
          "metadata": {
            "tags": []
          }
        },
        {
          "output_type": "display_data",
          "data": {
            "text/html": [
              "<span style=\"color:#4527A0\"><h1 style=\"font-size:18px\">Trial summary</h1></span>"
            ],
            "text/plain": [
              "<IPython.core.display.HTML object>"
            ]
          },
          "metadata": {
            "tags": []
          }
        },
        {
          "output_type": "display_data",
          "data": {
            "text/html": [
              "<span style=\"color:cyan\"> |-Trial ID: e328e6a2623de965af2143879a38cc57</span>"
            ],
            "text/plain": [
              "<IPython.core.display.HTML object>"
            ]
          },
          "metadata": {
            "tags": []
          }
        },
        {
          "output_type": "display_data",
          "data": {
            "text/html": [
              "<span style=\"color:cyan\"> |-Score: 0.8957499861717224</span>"
            ],
            "text/plain": [
              "<IPython.core.display.HTML object>"
            ]
          },
          "metadata": {
            "tags": []
          }
        },
        {
          "output_type": "display_data",
          "data": {
            "text/html": [
              "<span style=\"color:cyan\"> |-Best step: 0</span>"
            ],
            "text/plain": [
              "<IPython.core.display.HTML object>"
            ]
          },
          "metadata": {
            "tags": []
          }
        },
        {
          "output_type": "display_data",
          "data": {
            "text/html": [
              "<span style=\"color:#7E57C2\"><h2 style=\"font-size:16px\">Hyperparameters:</h2></span>"
            ],
            "text/plain": [
              "<IPython.core.display.HTML object>"
            ]
          },
          "metadata": {
            "tags": []
          }
        },
        {
          "output_type": "display_data",
          "data": {
            "text/html": [
              "<span style=\"color:cyan\"> |-activation: relu</span>"
            ],
            "text/plain": [
              "<IPython.core.display.HTML object>"
            ]
          },
          "metadata": {
            "tags": []
          }
        },
        {
          "output_type": "display_data",
          "data": {
            "text/html": [
              "<span style=\"color:blue\"> |-optimizer: rmsprop</span>"
            ],
            "text/plain": [
              "<IPython.core.display.HTML object>"
            ]
          },
          "metadata": {
            "tags": []
          }
        },
        {
          "output_type": "display_data",
          "data": {
            "text/html": [
              "<span style=\"color:cyan\"> |-units_hidden: 480</span>"
            ],
            "text/plain": [
              "<IPython.core.display.HTML object>"
            ]
          },
          "metadata": {
            "tags": []
          }
        },
        {
          "output_type": "display_data",
          "data": {
            "text/html": [
              "<span style=\"color:blue\"> |-units_input: 544</span>"
            ],
            "text/plain": [
              "<IPython.core.display.HTML object>"
            ]
          },
          "metadata": {
            "tags": []
          }
        },
        {
          "output_type": "stream",
          "text": [
            "Epoch 1/20\n",
            "188/188 [==============================] - 1s 5ms/step - loss: 0.5946 - accuracy: 0.8038 - val_loss: 0.4248 - val_accuracy: 0.8497\n",
            "Epoch 2/20\n",
            "188/188 [==============================] - 1s 4ms/step - loss: 0.4185 - accuracy: 0.8489 - val_loss: 0.3888 - val_accuracy: 0.8607\n",
            "Epoch 3/20\n",
            "188/188 [==============================] - 1s 4ms/step - loss: 0.3666 - accuracy: 0.8668 - val_loss: 0.3649 - val_accuracy: 0.8663\n",
            "Epoch 4/20\n",
            "188/188 [==============================] - 1s 4ms/step - loss: 0.3468 - accuracy: 0.8727 - val_loss: 0.4057 - val_accuracy: 0.8514\n",
            "Epoch 5/20\n",
            "188/188 [==============================] - 1s 4ms/step - loss: 0.3271 - accuracy: 0.8804 - val_loss: 0.3878 - val_accuracy: 0.8633\n",
            "Epoch 6/20\n",
            "188/188 [==============================] - 1s 4ms/step - loss: 0.3071 - accuracy: 0.8867 - val_loss: 0.3719 - val_accuracy: 0.8702\n",
            "Epoch 7/20\n",
            "188/188 [==============================] - 1s 4ms/step - loss: 0.2950 - accuracy: 0.8918 - val_loss: 0.3528 - val_accuracy: 0.8749\n",
            "Epoch 8/20\n",
            "188/188 [==============================] - 1s 4ms/step - loss: 0.2785 - accuracy: 0.8974 - val_loss: 0.3355 - val_accuracy: 0.8808\n",
            "Epoch 9/20\n",
            "188/188 [==============================] - 1s 5ms/step - loss: 0.2704 - accuracy: 0.9007 - val_loss: 0.3181 - val_accuracy: 0.8859\n",
            "Epoch 10/20\n",
            "188/188 [==============================] - 1s 5ms/step - loss: 0.2566 - accuracy: 0.9045 - val_loss: 0.3294 - val_accuracy: 0.8814\n",
            "Epoch 11/20\n",
            "188/188 [==============================] - 1s 4ms/step - loss: 0.2465 - accuracy: 0.9079 - val_loss: 0.3232 - val_accuracy: 0.8878\n",
            "Epoch 12/20\n",
            "188/188 [==============================] - 1s 4ms/step - loss: 0.2389 - accuracy: 0.9124 - val_loss: 0.3182 - val_accuracy: 0.8885\n",
            "Epoch 13/20\n",
            "188/188 [==============================] - 1s 4ms/step - loss: 0.2397 - accuracy: 0.9098 - val_loss: 0.3274 - val_accuracy: 0.8841\n",
            "Epoch 14/20\n",
            "188/188 [==============================] - 1s 4ms/step - loss: 0.2258 - accuracy: 0.9149 - val_loss: 0.3203 - val_accuracy: 0.8898\n",
            "Epoch 15/20\n",
            "188/188 [==============================] - 1s 4ms/step - loss: 0.2188 - accuracy: 0.9183 - val_loss: 0.3232 - val_accuracy: 0.8894\n",
            "Epoch 16/20\n",
            "188/188 [==============================] - 1s 4ms/step - loss: 0.2104 - accuracy: 0.9228 - val_loss: 0.3238 - val_accuracy: 0.8880\n",
            "Epoch 17/20\n",
            "188/188 [==============================] - 1s 4ms/step - loss: 0.2065 - accuracy: 0.9230 - val_loss: 0.3333 - val_accuracy: 0.8859\n",
            "Epoch 18/20\n",
            "188/188 [==============================] - 1s 4ms/step - loss: 0.1953 - accuracy: 0.9269 - val_loss: 0.3320 - val_accuracy: 0.8863\n",
            "Epoch 19/20\n",
            "188/188 [==============================] - 1s 4ms/step - loss: 0.1892 - accuracy: 0.9307 - val_loss: 0.3617 - val_accuracy: 0.8758\n",
            "Epoch 20/20\n",
            "188/188 [==============================] - 1s 4ms/step - loss: 0.1934 - accuracy: 0.9276 - val_loss: 0.3603 - val_accuracy: 0.8802\n"
          ],
          "name": "stdout"
        },
        {
          "output_type": "display_data",
          "data": {
            "text/html": [
              "<span style=\"color:#4527A0\"><h1 style=\"font-size:18px\">Trial complete</h1></span>"
            ],
            "text/plain": [
              "<IPython.core.display.HTML object>"
            ]
          },
          "metadata": {
            "tags": []
          }
        },
        {
          "output_type": "display_data",
          "data": {
            "text/html": [
              "<span style=\"color:#4527A0\"><h1 style=\"font-size:18px\">Trial summary</h1></span>"
            ],
            "text/plain": [
              "<IPython.core.display.HTML object>"
            ]
          },
          "metadata": {
            "tags": []
          }
        },
        {
          "output_type": "display_data",
          "data": {
            "text/html": [
              "<span style=\"color:cyan\"> |-Trial ID: 6b495b139886b050940b6cae4c693003</span>"
            ],
            "text/plain": [
              "<IPython.core.display.HTML object>"
            ]
          },
          "metadata": {
            "tags": []
          }
        },
        {
          "output_type": "display_data",
          "data": {
            "text/html": [
              "<span style=\"color:cyan\"> |-Score: 0.8898333311080933</span>"
            ],
            "text/plain": [
              "<IPython.core.display.HTML object>"
            ]
          },
          "metadata": {
            "tags": []
          }
        },
        {
          "output_type": "display_data",
          "data": {
            "text/html": [
              "<span style=\"color:cyan\"> |-Best step: 0</span>"
            ],
            "text/plain": [
              "<IPython.core.display.HTML object>"
            ]
          },
          "metadata": {
            "tags": []
          }
        },
        {
          "output_type": "display_data",
          "data": {
            "text/html": [
              "<span style=\"color:#7E57C2\"><h2 style=\"font-size:16px\">Hyperparameters:</h2></span>"
            ],
            "text/plain": [
              "<IPython.core.display.HTML object>"
            ]
          },
          "metadata": {
            "tags": []
          }
        },
        {
          "output_type": "display_data",
          "data": {
            "text/html": [
              "<span style=\"color:cyan\"> |-activation: selu</span>"
            ],
            "text/plain": [
              "<IPython.core.display.HTML object>"
            ]
          },
          "metadata": {
            "tags": []
          }
        },
        {
          "output_type": "display_data",
          "data": {
            "text/html": [
              "<span style=\"color:blue\"> |-optimizer: adam</span>"
            ],
            "text/plain": [
              "<IPython.core.display.HTML object>"
            ]
          },
          "metadata": {
            "tags": []
          }
        },
        {
          "output_type": "display_data",
          "data": {
            "text/html": [
              "<span style=\"color:cyan\"> |-units_hidden: 256</span>"
            ],
            "text/plain": [
              "<IPython.core.display.HTML object>"
            ]
          },
          "metadata": {
            "tags": []
          }
        },
        {
          "output_type": "display_data",
          "data": {
            "text/html": [
              "<span style=\"color:blue\"> |-units_input: 576</span>"
            ],
            "text/plain": [
              "<IPython.core.display.HTML object>"
            ]
          },
          "metadata": {
            "tags": []
          }
        },
        {
          "output_type": "stream",
          "text": [
            "Epoch 1/20\n",
            "188/188 [==============================] - 1s 5ms/step - loss: 0.5308 - accuracy: 0.8092 - val_loss: 0.4480 - val_accuracy: 0.8363\n",
            "Epoch 2/20\n",
            "188/188 [==============================] - 1s 4ms/step - loss: 0.3940 - accuracy: 0.8571 - val_loss: 0.4131 - val_accuracy: 0.8479\n",
            "Epoch 3/20\n",
            "188/188 [==============================] - 1s 5ms/step - loss: 0.3523 - accuracy: 0.8709 - val_loss: 0.3677 - val_accuracy: 0.8677\n",
            "Epoch 4/20\n",
            "188/188 [==============================] - 1s 4ms/step - loss: 0.3272 - accuracy: 0.8794 - val_loss: 0.3457 - val_accuracy: 0.8722\n",
            "Epoch 5/20\n",
            "188/188 [==============================] - 1s 4ms/step - loss: 0.3070 - accuracy: 0.8862 - val_loss: 0.3885 - val_accuracy: 0.8590\n",
            "Epoch 6/20\n",
            "188/188 [==============================] - 1s 4ms/step - loss: 0.2926 - accuracy: 0.8902 - val_loss: 0.3234 - val_accuracy: 0.8837\n",
            "Epoch 7/20\n",
            "188/188 [==============================] - 1s 5ms/step - loss: 0.2717 - accuracy: 0.8991 - val_loss: 0.3275 - val_accuracy: 0.8802\n",
            "Epoch 8/20\n",
            "188/188 [==============================] - 1s 4ms/step - loss: 0.2579 - accuracy: 0.9035 - val_loss: 0.3258 - val_accuracy: 0.8811\n",
            "Epoch 9/20\n",
            "188/188 [==============================] - 1s 4ms/step - loss: 0.2435 - accuracy: 0.9083 - val_loss: 0.3102 - val_accuracy: 0.8888\n",
            "Epoch 10/20\n",
            "188/188 [==============================] - 1s 5ms/step - loss: 0.2389 - accuracy: 0.9105 - val_loss: 0.3147 - val_accuracy: 0.8872\n",
            "Epoch 11/20\n",
            "188/188 [==============================] - 1s 5ms/step - loss: 0.2303 - accuracy: 0.9134 - val_loss: 0.3116 - val_accuracy: 0.8888\n",
            "Epoch 12/20\n",
            "188/188 [==============================] - 1s 5ms/step - loss: 0.2147 - accuracy: 0.9191 - val_loss: 0.3085 - val_accuracy: 0.8896\n",
            "Epoch 13/20\n",
            "188/188 [==============================] - 1s 5ms/step - loss: 0.2027 - accuracy: 0.9241 - val_loss: 0.3109 - val_accuracy: 0.8910\n",
            "Epoch 14/20\n",
            "188/188 [==============================] - 1s 4ms/step - loss: 0.1963 - accuracy: 0.9263 - val_loss: 0.3179 - val_accuracy: 0.8882\n",
            "Epoch 15/20\n",
            "188/188 [==============================] - 1s 4ms/step - loss: 0.1839 - accuracy: 0.9316 - val_loss: 0.2968 - val_accuracy: 0.8959\n",
            "Epoch 16/20\n",
            "188/188 [==============================] - 1s 4ms/step - loss: 0.1752 - accuracy: 0.9348 - val_loss: 0.3141 - val_accuracy: 0.8936\n",
            "Epoch 17/20\n",
            "188/188 [==============================] - 1s 5ms/step - loss: 0.1673 - accuracy: 0.9379 - val_loss: 0.3095 - val_accuracy: 0.8960\n",
            "Epoch 18/20\n",
            "188/188 [==============================] - 1s 5ms/step - loss: 0.1682 - accuracy: 0.9372 - val_loss: 0.3197 - val_accuracy: 0.8893\n",
            "Epoch 19/20\n",
            "188/188 [==============================] - 1s 5ms/step - loss: 0.1550 - accuracy: 0.9422 - val_loss: 0.3163 - val_accuracy: 0.8922\n",
            "Epoch 20/20\n",
            "188/188 [==============================] - 1s 4ms/step - loss: 0.1457 - accuracy: 0.9466 - val_loss: 0.3360 - val_accuracy: 0.8847\n"
          ],
          "name": "stdout"
        },
        {
          "output_type": "display_data",
          "data": {
            "text/html": [
              "<span style=\"color:#4527A0\"><h1 style=\"font-size:18px\">Trial complete</h1></span>"
            ],
            "text/plain": [
              "<IPython.core.display.HTML object>"
            ]
          },
          "metadata": {
            "tags": []
          }
        },
        {
          "output_type": "display_data",
          "data": {
            "text/html": [
              "<span style=\"color:#4527A0\"><h1 style=\"font-size:18px\">Trial summary</h1></span>"
            ],
            "text/plain": [
              "<IPython.core.display.HTML object>"
            ]
          },
          "metadata": {
            "tags": []
          }
        },
        {
          "output_type": "display_data",
          "data": {
            "text/html": [
              "<span style=\"color:cyan\"> |-Trial ID: 48bfc5d42a08c5e61a7236687b37f3eb</span>"
            ],
            "text/plain": [
              "<IPython.core.display.HTML object>"
            ]
          },
          "metadata": {
            "tags": []
          }
        },
        {
          "output_type": "display_data",
          "data": {
            "text/html": [
              "<span style=\"color:cyan\"> |-Score: 0.8960000276565552</span>"
            ],
            "text/plain": [
              "<IPython.core.display.HTML object>"
            ]
          },
          "metadata": {
            "tags": []
          }
        },
        {
          "output_type": "display_data",
          "data": {
            "text/html": [
              "<span style=\"color:cyan\"> |-Best step: 0</span>"
            ],
            "text/plain": [
              "<IPython.core.display.HTML object>"
            ]
          },
          "metadata": {
            "tags": []
          }
        },
        {
          "output_type": "display_data",
          "data": {
            "text/html": [
              "<span style=\"color:#7E57C2\"><h2 style=\"font-size:16px\">Hyperparameters:</h2></span>"
            ],
            "text/plain": [
              "<IPython.core.display.HTML object>"
            ]
          },
          "metadata": {
            "tags": []
          }
        },
        {
          "output_type": "display_data",
          "data": {
            "text/html": [
              "<span style=\"color:cyan\"> |-activation: tanh</span>"
            ],
            "text/plain": [
              "<IPython.core.display.HTML object>"
            ]
          },
          "metadata": {
            "tags": []
          }
        },
        {
          "output_type": "display_data",
          "data": {
            "text/html": [
              "<span style=\"color:blue\"> |-optimizer: adam</span>"
            ],
            "text/plain": [
              "<IPython.core.display.HTML object>"
            ]
          },
          "metadata": {
            "tags": []
          }
        },
        {
          "output_type": "display_data",
          "data": {
            "text/html": [
              "<span style=\"color:cyan\"> |-units_hidden: 512</span>"
            ],
            "text/plain": [
              "<IPython.core.display.HTML object>"
            ]
          },
          "metadata": {
            "tags": []
          }
        },
        {
          "output_type": "display_data",
          "data": {
            "text/html": [
              "<span style=\"color:blue\"> |-units_input: 608</span>"
            ],
            "text/plain": [
              "<IPython.core.display.HTML object>"
            ]
          },
          "metadata": {
            "tags": []
          }
        },
        {
          "output_type": "stream",
          "text": [
            "Epoch 1/20\n",
            "188/188 [==============================] - 1s 5ms/step - loss: 0.7785 - accuracy: 0.7283 - val_loss: 0.5088 - val_accuracy: 0.8110\n",
            "Epoch 2/20\n",
            "188/188 [==============================] - 1s 5ms/step - loss: 0.4570 - accuracy: 0.8348 - val_loss: 0.4246 - val_accuracy: 0.8457\n",
            "Epoch 3/20\n",
            "188/188 [==============================] - 1s 5ms/step - loss: 0.4113 - accuracy: 0.8526 - val_loss: 0.4071 - val_accuracy: 0.8523\n",
            "Epoch 4/20\n",
            "188/188 [==============================] - 1s 5ms/step - loss: 0.3802 - accuracy: 0.8632 - val_loss: 0.3850 - val_accuracy: 0.8611\n",
            "Epoch 5/20\n",
            "188/188 [==============================] - 1s 5ms/step - loss: 0.3634 - accuracy: 0.8688 - val_loss: 0.3795 - val_accuracy: 0.8602\n",
            "Epoch 6/20\n",
            "188/188 [==============================] - 1s 5ms/step - loss: 0.3476 - accuracy: 0.8733 - val_loss: 0.3648 - val_accuracy: 0.8648\n",
            "Epoch 7/20\n",
            "188/188 [==============================] - 1s 5ms/step - loss: 0.3350 - accuracy: 0.8781 - val_loss: 0.3583 - val_accuracy: 0.8713\n",
            "Epoch 8/20\n",
            "188/188 [==============================] - 1s 5ms/step - loss: 0.3275 - accuracy: 0.8803 - val_loss: 0.3575 - val_accuracy: 0.8719\n",
            "Epoch 9/20\n",
            "188/188 [==============================] - 1s 4ms/step - loss: 0.3097 - accuracy: 0.8881 - val_loss: 0.3617 - val_accuracy: 0.8699\n",
            "Epoch 10/20\n",
            "188/188 [==============================] - 1s 5ms/step - loss: 0.2993 - accuracy: 0.8906 - val_loss: 0.3342 - val_accuracy: 0.8795\n",
            "Epoch 11/20\n",
            "188/188 [==============================] - 1s 5ms/step - loss: 0.2919 - accuracy: 0.8925 - val_loss: 0.3553 - val_accuracy: 0.8684\n",
            "Epoch 12/20\n",
            "188/188 [==============================] - 1s 5ms/step - loss: 0.2823 - accuracy: 0.8951 - val_loss: 0.3216 - val_accuracy: 0.8824\n",
            "Epoch 13/20\n",
            "188/188 [==============================] - 1s 5ms/step - loss: 0.2694 - accuracy: 0.9003 - val_loss: 0.3183 - val_accuracy: 0.8817\n",
            "Epoch 14/20\n",
            "188/188 [==============================] - 1s 5ms/step - loss: 0.2660 - accuracy: 0.9008 - val_loss: 0.3126 - val_accuracy: 0.8870\n",
            "Epoch 15/20\n",
            "188/188 [==============================] - 1s 4ms/step - loss: 0.2595 - accuracy: 0.9036 - val_loss: 0.3251 - val_accuracy: 0.8842\n",
            "Epoch 16/20\n",
            "188/188 [==============================] - 1s 5ms/step - loss: 0.2500 - accuracy: 0.9082 - val_loss: 0.3025 - val_accuracy: 0.8896\n",
            "Epoch 17/20\n",
            "188/188 [==============================] - 1s 4ms/step - loss: 0.2430 - accuracy: 0.9097 - val_loss: 0.3153 - val_accuracy: 0.8858\n",
            "Epoch 18/20\n",
            "188/188 [==============================] - 1s 5ms/step - loss: 0.2353 - accuracy: 0.9120 - val_loss: 0.3248 - val_accuracy: 0.8869\n",
            "Epoch 19/20\n",
            "188/188 [==============================] - 1s 5ms/step - loss: 0.2311 - accuracy: 0.9137 - val_loss: 0.2996 - val_accuracy: 0.8938\n",
            "Epoch 20/20\n",
            "188/188 [==============================] - 1s 4ms/step - loss: 0.2192 - accuracy: 0.9185 - val_loss: 0.3100 - val_accuracy: 0.8882\n"
          ],
          "name": "stdout"
        },
        {
          "output_type": "display_data",
          "data": {
            "text/html": [
              "<span style=\"color:#4527A0\"><h1 style=\"font-size:18px\">Trial complete</h1></span>"
            ],
            "text/plain": [
              "<IPython.core.display.HTML object>"
            ]
          },
          "metadata": {
            "tags": []
          }
        },
        {
          "output_type": "display_data",
          "data": {
            "text/html": [
              "<span style=\"color:#4527A0\"><h1 style=\"font-size:18px\">Trial summary</h1></span>"
            ],
            "text/plain": [
              "<IPython.core.display.HTML object>"
            ]
          },
          "metadata": {
            "tags": []
          }
        },
        {
          "output_type": "display_data",
          "data": {
            "text/html": [
              "<span style=\"color:cyan\"> |-Trial ID: 203e88fa64eab0c0bcaf194b367d1881</span>"
            ],
            "text/plain": [
              "<IPython.core.display.HTML object>"
            ]
          },
          "metadata": {
            "tags": []
          }
        },
        {
          "output_type": "display_data",
          "data": {
            "text/html": [
              "<span style=\"color:cyan\"> |-Score: 0.893750011920929</span>"
            ],
            "text/plain": [
              "<IPython.core.display.HTML object>"
            ]
          },
          "metadata": {
            "tags": []
          }
        },
        {
          "output_type": "display_data",
          "data": {
            "text/html": [
              "<span style=\"color:cyan\"> |-Best step: 0</span>"
            ],
            "text/plain": [
              "<IPython.core.display.HTML object>"
            ]
          },
          "metadata": {
            "tags": []
          }
        },
        {
          "output_type": "display_data",
          "data": {
            "text/html": [
              "<span style=\"color:#7E57C2\"><h2 style=\"font-size:16px\">Hyperparameters:</h2></span>"
            ],
            "text/plain": [
              "<IPython.core.display.HTML object>"
            ]
          },
          "metadata": {
            "tags": []
          }
        },
        {
          "output_type": "display_data",
          "data": {
            "text/html": [
              "<span style=\"color:cyan\"> |-activation: sigmoid</span>"
            ],
            "text/plain": [
              "<IPython.core.display.HTML object>"
            ]
          },
          "metadata": {
            "tags": []
          }
        },
        {
          "output_type": "display_data",
          "data": {
            "text/html": [
              "<span style=\"color:blue\"> |-optimizer: adam</span>"
            ],
            "text/plain": [
              "<IPython.core.display.HTML object>"
            ]
          },
          "metadata": {
            "tags": []
          }
        },
        {
          "output_type": "display_data",
          "data": {
            "text/html": [
              "<span style=\"color:cyan\"> |-units_hidden: 576</span>"
            ],
            "text/plain": [
              "<IPython.core.display.HTML object>"
            ]
          },
          "metadata": {
            "tags": []
          }
        },
        {
          "output_type": "display_data",
          "data": {
            "text/html": [
              "<span style=\"color:blue\"> |-units_input: 608</span>"
            ],
            "text/plain": [
              "<IPython.core.display.HTML object>"
            ]
          },
          "metadata": {
            "tags": []
          }
        },
        {
          "output_type": "stream",
          "text": [
            "Epoch 1/20\n",
            "188/188 [==============================] - 1s 5ms/step - loss: 0.5135 - accuracy: 0.8192 - val_loss: 0.4804 - val_accuracy: 0.8150\n",
            "Epoch 2/20\n",
            "188/188 [==============================] - 1s 5ms/step - loss: 0.3656 - accuracy: 0.8654 - val_loss: 0.3629 - val_accuracy: 0.8677\n",
            "Epoch 3/20\n",
            "188/188 [==============================] - 1s 5ms/step - loss: 0.3206 - accuracy: 0.8811 - val_loss: 0.3285 - val_accuracy: 0.8812\n",
            "Epoch 4/20\n",
            "188/188 [==============================] - 1s 5ms/step - loss: 0.2933 - accuracy: 0.8917 - val_loss: 0.3225 - val_accuracy: 0.8832\n",
            "Epoch 5/20\n",
            "188/188 [==============================] - 1s 5ms/step - loss: 0.2734 - accuracy: 0.8985 - val_loss: 0.3367 - val_accuracy: 0.8760\n",
            "Epoch 6/20\n",
            "188/188 [==============================] - 1s 5ms/step - loss: 0.2614 - accuracy: 0.9031 - val_loss: 0.3236 - val_accuracy: 0.8826\n",
            "Epoch 7/20\n",
            "188/188 [==============================] - 1s 5ms/step - loss: 0.2419 - accuracy: 0.9098 - val_loss: 0.3095 - val_accuracy: 0.8873\n",
            "Epoch 8/20\n",
            "188/188 [==============================] - 1s 5ms/step - loss: 0.2337 - accuracy: 0.9115 - val_loss: 0.3075 - val_accuracy: 0.8890\n",
            "Epoch 9/20\n",
            "188/188 [==============================] - 1s 5ms/step - loss: 0.2225 - accuracy: 0.9155 - val_loss: 0.3380 - val_accuracy: 0.8861\n",
            "Epoch 10/20\n",
            "188/188 [==============================] - 1s 5ms/step - loss: 0.2185 - accuracy: 0.9191 - val_loss: 0.3427 - val_accuracy: 0.8858\n",
            "Epoch 11/20\n",
            "188/188 [==============================] - 1s 5ms/step - loss: 0.2065 - accuracy: 0.9219 - val_loss: 0.3106 - val_accuracy: 0.8934\n",
            "Epoch 12/20\n",
            "188/188 [==============================] - 1s 5ms/step - loss: 0.1937 - accuracy: 0.9264 - val_loss: 0.3088 - val_accuracy: 0.8952\n",
            "Epoch 13/20\n",
            "188/188 [==============================] - 1s 5ms/step - loss: 0.1920 - accuracy: 0.9269 - val_loss: 0.3230 - val_accuracy: 0.8900\n",
            "Epoch 14/20\n",
            "188/188 [==============================] - 1s 5ms/step - loss: 0.1832 - accuracy: 0.9308 - val_loss: 0.3181 - val_accuracy: 0.8941\n",
            "Epoch 15/20\n",
            "188/188 [==============================] - 1s 5ms/step - loss: 0.1725 - accuracy: 0.9345 - val_loss: 0.3135 - val_accuracy: 0.8982\n",
            "Epoch 16/20\n",
            "188/188 [==============================] - 1s 5ms/step - loss: 0.1654 - accuracy: 0.9367 - val_loss: 0.3217 - val_accuracy: 0.8978\n",
            "Epoch 17/20\n",
            "188/188 [==============================] - 1s 5ms/step - loss: 0.1583 - accuracy: 0.9394 - val_loss: 0.3287 - val_accuracy: 0.8955\n",
            "Epoch 18/20\n",
            "188/188 [==============================] - 1s 5ms/step - loss: 0.1525 - accuracy: 0.9419 - val_loss: 0.3202 - val_accuracy: 0.8979\n",
            "Epoch 19/20\n",
            "188/188 [==============================] - 1s 5ms/step - loss: 0.1441 - accuracy: 0.9454 - val_loss: 0.3304 - val_accuracy: 0.8988\n",
            "Epoch 20/20\n",
            "188/188 [==============================] - 1s 5ms/step - loss: 0.1431 - accuracy: 0.9437 - val_loss: 0.3556 - val_accuracy: 0.8917\n"
          ],
          "name": "stdout"
        },
        {
          "output_type": "display_data",
          "data": {
            "text/html": [
              "<span style=\"color:#4527A0\"><h1 style=\"font-size:18px\">Trial complete</h1></span>"
            ],
            "text/plain": [
              "<IPython.core.display.HTML object>"
            ]
          },
          "metadata": {
            "tags": []
          }
        },
        {
          "output_type": "display_data",
          "data": {
            "text/html": [
              "<span style=\"color:#4527A0\"><h1 style=\"font-size:18px\">Trial summary</h1></span>"
            ],
            "text/plain": [
              "<IPython.core.display.HTML object>"
            ]
          },
          "metadata": {
            "tags": []
          }
        },
        {
          "output_type": "display_data",
          "data": {
            "text/html": [
              "<span style=\"color:cyan\"> |-Trial ID: 9e635a8b83587597479b75b188a9a71c</span>"
            ],
            "text/plain": [
              "<IPython.core.display.HTML object>"
            ]
          },
          "metadata": {
            "tags": []
          }
        },
        {
          "output_type": "display_data",
          "data": {
            "text/html": [
              "<span style=\"color:cyan\"> |-Score: 0.8988333344459534</span>"
            ],
            "text/plain": [
              "<IPython.core.display.HTML object>"
            ]
          },
          "metadata": {
            "tags": []
          }
        },
        {
          "output_type": "display_data",
          "data": {
            "text/html": [
              "<span style=\"color:cyan\"> |-Best step: 0</span>"
            ],
            "text/plain": [
              "<IPython.core.display.HTML object>"
            ]
          },
          "metadata": {
            "tags": []
          }
        },
        {
          "output_type": "display_data",
          "data": {
            "text/html": [
              "<span style=\"color:#7E57C2\"><h2 style=\"font-size:16px\">Hyperparameters:</h2></span>"
            ],
            "text/plain": [
              "<IPython.core.display.HTML object>"
            ]
          },
          "metadata": {
            "tags": []
          }
        },
        {
          "output_type": "display_data",
          "data": {
            "text/html": [
              "<span style=\"color:cyan\"> |-activation: relu</span>"
            ],
            "text/plain": [
              "<IPython.core.display.HTML object>"
            ]
          },
          "metadata": {
            "tags": []
          }
        },
        {
          "output_type": "display_data",
          "data": {
            "text/html": [
              "<span style=\"color:blue\"> |-optimizer: adam</span>"
            ],
            "text/plain": [
              "<IPython.core.display.HTML object>"
            ]
          },
          "metadata": {
            "tags": []
          }
        },
        {
          "output_type": "display_data",
          "data": {
            "text/html": [
              "<span style=\"color:cyan\"> |-units_hidden: 576</span>"
            ],
            "text/plain": [
              "<IPython.core.display.HTML object>"
            ]
          },
          "metadata": {
            "tags": []
          }
        },
        {
          "output_type": "display_data",
          "data": {
            "text/html": [
              "<span style=\"color:blue\"> |-units_input: 832</span>"
            ],
            "text/plain": [
              "<IPython.core.display.HTML object>"
            ]
          },
          "metadata": {
            "tags": []
          }
        },
        {
          "output_type": "stream",
          "text": [
            "Epoch 1/20\n",
            "188/188 [==============================] - 1s 5ms/step - loss: 0.6453 - accuracy: 0.7945 - val_loss: 0.4242 - val_accuracy: 0.8457\n",
            "Epoch 2/20\n",
            "188/188 [==============================] - 1s 5ms/step - loss: 0.4029 - accuracy: 0.8561 - val_loss: 0.3817 - val_accuracy: 0.8648\n",
            "Epoch 3/20\n",
            "188/188 [==============================] - 1s 5ms/step - loss: 0.3672 - accuracy: 0.8680 - val_loss: 0.3623 - val_accuracy: 0.8668\n",
            "Epoch 4/20\n",
            "188/188 [==============================] - 1s 4ms/step - loss: 0.3420 - accuracy: 0.8752 - val_loss: 0.3721 - val_accuracy: 0.8642\n",
            "Epoch 5/20\n",
            "188/188 [==============================] - 1s 5ms/step - loss: 0.3182 - accuracy: 0.8830 - val_loss: 0.3497 - val_accuracy: 0.8702\n",
            "Epoch 6/20\n",
            "188/188 [==============================] - 1s 5ms/step - loss: 0.3052 - accuracy: 0.8871 - val_loss: 0.3338 - val_accuracy: 0.8793\n",
            "Epoch 7/20\n",
            "188/188 [==============================] - 1s 4ms/step - loss: 0.2868 - accuracy: 0.8948 - val_loss: 0.3577 - val_accuracy: 0.8719\n",
            "Epoch 8/20\n",
            "188/188 [==============================] - 1s 4ms/step - loss: 0.2829 - accuracy: 0.8953 - val_loss: 0.3475 - val_accuracy: 0.8747\n",
            "Epoch 9/20\n",
            "188/188 [==============================] - 1s 4ms/step - loss: 0.2640 - accuracy: 0.9013 - val_loss: 0.3294 - val_accuracy: 0.8830\n",
            "Epoch 10/20\n",
            "188/188 [==============================] - 1s 5ms/step - loss: 0.2562 - accuracy: 0.9064 - val_loss: 0.3339 - val_accuracy: 0.8847\n",
            "Epoch 11/20\n",
            "188/188 [==============================] - 1s 4ms/step - loss: 0.2425 - accuracy: 0.9096 - val_loss: 0.3319 - val_accuracy: 0.8830\n",
            "Epoch 12/20\n",
            "188/188 [==============================] - 1s 5ms/step - loss: 0.2361 - accuracy: 0.9114 - val_loss: 0.3224 - val_accuracy: 0.8907\n",
            "Epoch 13/20\n",
            "188/188 [==============================] - 1s 4ms/step - loss: 0.2366 - accuracy: 0.9108 - val_loss: 0.3341 - val_accuracy: 0.8823\n",
            "Epoch 14/20\n",
            "188/188 [==============================] - 1s 4ms/step - loss: 0.2273 - accuracy: 0.9144 - val_loss: 0.3418 - val_accuracy: 0.8832\n",
            "Epoch 15/20\n",
            "188/188 [==============================] - 1s 5ms/step - loss: 0.2122 - accuracy: 0.9208 - val_loss: 0.3261 - val_accuracy: 0.8842\n",
            "Epoch 16/20\n",
            "188/188 [==============================] - 1s 4ms/step - loss: 0.2026 - accuracy: 0.9246 - val_loss: 0.3379 - val_accuracy: 0.8813\n",
            "Epoch 17/20\n",
            "188/188 [==============================] - 1s 5ms/step - loss: 0.2010 - accuracy: 0.9244 - val_loss: 0.3264 - val_accuracy: 0.8917\n",
            "Epoch 18/20\n",
            "188/188 [==============================] - 1s 5ms/step - loss: 0.1936 - accuracy: 0.9266 - val_loss: 0.3173 - val_accuracy: 0.8923\n",
            "Epoch 19/20\n",
            "188/188 [==============================] - 1s 4ms/step - loss: 0.1858 - accuracy: 0.9299 - val_loss: 0.3604 - val_accuracy: 0.8824\n",
            "Epoch 20/20\n",
            "188/188 [==============================] - 1s 5ms/step - loss: 0.1812 - accuracy: 0.9320 - val_loss: 0.3536 - val_accuracy: 0.8838\n"
          ],
          "name": "stdout"
        },
        {
          "output_type": "display_data",
          "data": {
            "text/html": [
              "<span style=\"color:#4527A0\"><h1 style=\"font-size:18px\">Trial complete</h1></span>"
            ],
            "text/plain": [
              "<IPython.core.display.HTML object>"
            ]
          },
          "metadata": {
            "tags": []
          }
        },
        {
          "output_type": "display_data",
          "data": {
            "text/html": [
              "<span style=\"color:#4527A0\"><h1 style=\"font-size:18px\">Trial summary</h1></span>"
            ],
            "text/plain": [
              "<IPython.core.display.HTML object>"
            ]
          },
          "metadata": {
            "tags": []
          }
        },
        {
          "output_type": "display_data",
          "data": {
            "text/html": [
              "<span style=\"color:cyan\"> |-Trial ID: 3383c63e060e1907dd748c08c197f6cd</span>"
            ],
            "text/plain": [
              "<IPython.core.display.HTML object>"
            ]
          },
          "metadata": {
            "tags": []
          }
        },
        {
          "output_type": "display_data",
          "data": {
            "text/html": [
              "<span style=\"color:cyan\"> |-Score: 0.8923333287239075</span>"
            ],
            "text/plain": [
              "<IPython.core.display.HTML object>"
            ]
          },
          "metadata": {
            "tags": []
          }
        },
        {
          "output_type": "display_data",
          "data": {
            "text/html": [
              "<span style=\"color:cyan\"> |-Best step: 0</span>"
            ],
            "text/plain": [
              "<IPython.core.display.HTML object>"
            ]
          },
          "metadata": {
            "tags": []
          }
        },
        {
          "output_type": "display_data",
          "data": {
            "text/html": [
              "<span style=\"color:#7E57C2\"><h2 style=\"font-size:16px\">Hyperparameters:</h2></span>"
            ],
            "text/plain": [
              "<IPython.core.display.HTML object>"
            ]
          },
          "metadata": {
            "tags": []
          }
        },
        {
          "output_type": "display_data",
          "data": {
            "text/html": [
              "<span style=\"color:cyan\"> |-activation: selu</span>"
            ],
            "text/plain": [
              "<IPython.core.display.HTML object>"
            ]
          },
          "metadata": {
            "tags": []
          }
        },
        {
          "output_type": "display_data",
          "data": {
            "text/html": [
              "<span style=\"color:blue\"> |-optimizer: adam</span>"
            ],
            "text/plain": [
              "<IPython.core.display.HTML object>"
            ]
          },
          "metadata": {
            "tags": []
          }
        },
        {
          "output_type": "display_data",
          "data": {
            "text/html": [
              "<span style=\"color:cyan\"> |-units_hidden: 288</span>"
            ],
            "text/plain": [
              "<IPython.core.display.HTML object>"
            ]
          },
          "metadata": {
            "tags": []
          }
        },
        {
          "output_type": "display_data",
          "data": {
            "text/html": [
              "<span style=\"color:blue\"> |-units_input: 800</span>"
            ],
            "text/plain": [
              "<IPython.core.display.HTML object>"
            ]
          },
          "metadata": {
            "tags": []
          }
        },
        {
          "output_type": "stream",
          "text": [
            "Epoch 1/20\n",
            "188/188 [==============================] - 1s 6ms/step - loss: 0.8371 - accuracy: 0.6974 - val_loss: 0.5496 - val_accuracy: 0.7971\n",
            "Epoch 2/20\n",
            "188/188 [==============================] - 1s 5ms/step - loss: 0.4999 - accuracy: 0.8144 - val_loss: 0.4650 - val_accuracy: 0.8289\n",
            "Epoch 3/20\n",
            "188/188 [==============================] - 1s 5ms/step - loss: 0.4380 - accuracy: 0.8382 - val_loss: 0.4715 - val_accuracy: 0.8163\n",
            "Epoch 4/20\n",
            "188/188 [==============================] - 1s 5ms/step - loss: 0.4045 - accuracy: 0.8523 - val_loss: 0.4101 - val_accuracy: 0.8488\n",
            "Epoch 5/20\n",
            "188/188 [==============================] - 1s 5ms/step - loss: 0.3783 - accuracy: 0.8593 - val_loss: 0.3853 - val_accuracy: 0.8576\n",
            "Epoch 6/20\n",
            "188/188 [==============================] - 1s 5ms/step - loss: 0.3605 - accuracy: 0.8670 - val_loss: 0.3938 - val_accuracy: 0.8559\n",
            "Epoch 7/20\n",
            "188/188 [==============================] - 1s 5ms/step - loss: 0.3450 - accuracy: 0.8721 - val_loss: 0.3932 - val_accuracy: 0.8554\n",
            "Epoch 8/20\n",
            "188/188 [==============================] - 1s 5ms/step - loss: 0.3303 - accuracy: 0.8782 - val_loss: 0.3766 - val_accuracy: 0.8627\n",
            "Epoch 9/20\n",
            "188/188 [==============================] - 1s 5ms/step - loss: 0.3179 - accuracy: 0.8821 - val_loss: 0.3377 - val_accuracy: 0.8784\n",
            "Epoch 10/20\n",
            "188/188 [==============================] - 1s 5ms/step - loss: 0.3065 - accuracy: 0.8857 - val_loss: 0.3564 - val_accuracy: 0.8687\n",
            "Epoch 11/20\n",
            "188/188 [==============================] - 1s 5ms/step - loss: 0.2951 - accuracy: 0.8897 - val_loss: 0.3445 - val_accuracy: 0.8752\n",
            "Epoch 12/20\n",
            "188/188 [==============================] - 1s 4ms/step - loss: 0.2857 - accuracy: 0.8926 - val_loss: 0.3955 - val_accuracy: 0.8532\n",
            "Epoch 13/20\n",
            "188/188 [==============================] - 1s 5ms/step - loss: 0.2785 - accuracy: 0.8954 - val_loss: 0.3626 - val_accuracy: 0.8652\n",
            "Epoch 14/20\n",
            "188/188 [==============================] - 1s 5ms/step - loss: 0.2705 - accuracy: 0.8986 - val_loss: 0.3280 - val_accuracy: 0.8827\n",
            "Epoch 15/20\n",
            "188/188 [==============================] - 1s 4ms/step - loss: 0.2609 - accuracy: 0.9008 - val_loss: 0.3627 - val_accuracy: 0.8716\n",
            "Epoch 16/20\n",
            "188/188 [==============================] - 1s 4ms/step - loss: 0.2529 - accuracy: 0.9042 - val_loss: 0.3471 - val_accuracy: 0.8716\n",
            "Epoch 17/20\n",
            "188/188 [==============================] - 1s 5ms/step - loss: 0.2466 - accuracy: 0.9072 - val_loss: 0.3203 - val_accuracy: 0.8853\n",
            "Epoch 18/20\n",
            "188/188 [==============================] - 1s 5ms/step - loss: 0.2405 - accuracy: 0.9094 - val_loss: 0.3242 - val_accuracy: 0.8866\n",
            "Epoch 19/20\n",
            "188/188 [==============================] - 1s 5ms/step - loss: 0.2348 - accuracy: 0.9111 - val_loss: 0.3565 - val_accuracy: 0.8767\n",
            "Epoch 20/20\n",
            "188/188 [==============================] - 1s 5ms/step - loss: 0.2280 - accuracy: 0.9130 - val_loss: 0.3363 - val_accuracy: 0.8833\n"
          ],
          "name": "stdout"
        },
        {
          "output_type": "display_data",
          "data": {
            "text/html": [
              "<span style=\"color:#4527A0\"><h1 style=\"font-size:18px\">Trial complete</h1></span>"
            ],
            "text/plain": [
              "<IPython.core.display.HTML object>"
            ]
          },
          "metadata": {
            "tags": []
          }
        },
        {
          "output_type": "display_data",
          "data": {
            "text/html": [
              "<span style=\"color:#4527A0\"><h1 style=\"font-size:18px\">Trial summary</h1></span>"
            ],
            "text/plain": [
              "<IPython.core.display.HTML object>"
            ]
          },
          "metadata": {
            "tags": []
          }
        },
        {
          "output_type": "display_data",
          "data": {
            "text/html": [
              "<span style=\"color:cyan\"> |-Trial ID: 154d96a6d89578954e85fc14e107f359</span>"
            ],
            "text/plain": [
              "<IPython.core.display.HTML object>"
            ]
          },
          "metadata": {
            "tags": []
          }
        },
        {
          "output_type": "display_data",
          "data": {
            "text/html": [
              "<span style=\"color:cyan\"> |-Score: 0.8865833282470703</span>"
            ],
            "text/plain": [
              "<IPython.core.display.HTML object>"
            ]
          },
          "metadata": {
            "tags": []
          }
        },
        {
          "output_type": "display_data",
          "data": {
            "text/html": [
              "<span style=\"color:cyan\"> |-Best step: 0</span>"
            ],
            "text/plain": [
              "<IPython.core.display.HTML object>"
            ]
          },
          "metadata": {
            "tags": []
          }
        },
        {
          "output_type": "display_data",
          "data": {
            "text/html": [
              "<span style=\"color:#7E57C2\"><h2 style=\"font-size:16px\">Hyperparameters:</h2></span>"
            ],
            "text/plain": [
              "<IPython.core.display.HTML object>"
            ]
          },
          "metadata": {
            "tags": []
          }
        },
        {
          "output_type": "display_data",
          "data": {
            "text/html": [
              "<span style=\"color:cyan\"> |-activation: sigmoid</span>"
            ],
            "text/plain": [
              "<IPython.core.display.HTML object>"
            ]
          },
          "metadata": {
            "tags": []
          }
        },
        {
          "output_type": "display_data",
          "data": {
            "text/html": [
              "<span style=\"color:blue\"> |-optimizer: rmsprop</span>"
            ],
            "text/plain": [
              "<IPython.core.display.HTML object>"
            ]
          },
          "metadata": {
            "tags": []
          }
        },
        {
          "output_type": "display_data",
          "data": {
            "text/html": [
              "<span style=\"color:cyan\"> |-units_hidden: 576</span>"
            ],
            "text/plain": [
              "<IPython.core.display.HTML object>"
            ]
          },
          "metadata": {
            "tags": []
          }
        },
        {
          "output_type": "display_data",
          "data": {
            "text/html": [
              "<span style=\"color:blue\"> |-units_input: 768</span>"
            ],
            "text/plain": [
              "<IPython.core.display.HTML object>"
            ]
          },
          "metadata": {
            "tags": []
          }
        },
        {
          "output_type": "stream",
          "text": [
            "Epoch 1/20\n",
            "188/188 [==============================] - 1s 5ms/step - loss: 0.8946 - accuracy: 0.7181 - val_loss: 0.5760 - val_accuracy: 0.7835\n",
            "Epoch 2/20\n",
            "188/188 [==============================] - 1s 5ms/step - loss: 0.5125 - accuracy: 0.8103 - val_loss: 0.5814 - val_accuracy: 0.8012\n",
            "Epoch 3/20\n",
            "188/188 [==============================] - 1s 5ms/step - loss: 0.4318 - accuracy: 0.8393 - val_loss: 0.4553 - val_accuracy: 0.8332\n",
            "Epoch 4/20\n",
            "188/188 [==============================] - 1s 5ms/step - loss: 0.3849 - accuracy: 0.8553 - val_loss: 0.4211 - val_accuracy: 0.8452\n",
            "Epoch 5/20\n",
            "188/188 [==============================] - 1s 5ms/step - loss: 0.3527 - accuracy: 0.8672 - val_loss: 0.4220 - val_accuracy: 0.8492\n",
            "Epoch 6/20\n",
            "188/188 [==============================] - 1s 5ms/step - loss: 0.3292 - accuracy: 0.8751 - val_loss: 0.4352 - val_accuracy: 0.8438\n",
            "Epoch 7/20\n",
            "188/188 [==============================] - 1s 5ms/step - loss: 0.3103 - accuracy: 0.8816 - val_loss: 0.4502 - val_accuracy: 0.8384\n",
            "Epoch 8/20\n",
            "188/188 [==============================] - 1s 5ms/step - loss: 0.2934 - accuracy: 0.8882 - val_loss: 0.4181 - val_accuracy: 0.8609\n",
            "Epoch 9/20\n",
            "188/188 [==============================] - 1s 5ms/step - loss: 0.2788 - accuracy: 0.8912 - val_loss: 0.3564 - val_accuracy: 0.8746\n",
            "Epoch 10/20\n",
            "188/188 [==============================] - 1s 5ms/step - loss: 0.2683 - accuracy: 0.8969 - val_loss: 0.4316 - val_accuracy: 0.8462\n",
            "Epoch 11/20\n",
            "188/188 [==============================] - 1s 5ms/step - loss: 0.2559 - accuracy: 0.9010 - val_loss: 0.3601 - val_accuracy: 0.8797\n",
            "Epoch 12/20\n",
            "188/188 [==============================] - 1s 5ms/step - loss: 0.2464 - accuracy: 0.9046 - val_loss: 0.3381 - val_accuracy: 0.8843\n",
            "Epoch 13/20\n",
            "188/188 [==============================] - 1s 5ms/step - loss: 0.2343 - accuracy: 0.9099 - val_loss: 0.3639 - val_accuracy: 0.8795\n",
            "Epoch 14/20\n",
            "188/188 [==============================] - 1s 5ms/step - loss: 0.2247 - accuracy: 0.9130 - val_loss: 0.3654 - val_accuracy: 0.8744\n",
            "Epoch 15/20\n",
            "188/188 [==============================] - 1s 5ms/step - loss: 0.2155 - accuracy: 0.9180 - val_loss: 0.4107 - val_accuracy: 0.8606\n",
            "Epoch 16/20\n",
            "188/188 [==============================] - 1s 5ms/step - loss: 0.2113 - accuracy: 0.9185 - val_loss: 0.3636 - val_accuracy: 0.8783\n",
            "Epoch 17/20\n",
            "188/188 [==============================] - 1s 5ms/step - loss: 0.2038 - accuracy: 0.9213 - val_loss: 0.4238 - val_accuracy: 0.8677\n",
            "Epoch 18/20\n",
            "188/188 [==============================] - 1s 5ms/step - loss: 0.1936 - accuracy: 0.9253 - val_loss: 0.3873 - val_accuracy: 0.8814\n",
            "Epoch 19/20\n",
            "188/188 [==============================] - 1s 5ms/step - loss: 0.1900 - accuracy: 0.9268 - val_loss: 0.3554 - val_accuracy: 0.8919\n",
            "Epoch 20/20\n",
            "188/188 [==============================] - 1s 5ms/step - loss: 0.1821 - accuracy: 0.9300 - val_loss: 0.4020 - val_accuracy: 0.8822\n"
          ],
          "name": "stdout"
        },
        {
          "output_type": "display_data",
          "data": {
            "text/html": [
              "<span style=\"color:#4527A0\"><h1 style=\"font-size:18px\">Trial complete</h1></span>"
            ],
            "text/plain": [
              "<IPython.core.display.HTML object>"
            ]
          },
          "metadata": {
            "tags": []
          }
        },
        {
          "output_type": "display_data",
          "data": {
            "text/html": [
              "<span style=\"color:#4527A0\"><h1 style=\"font-size:18px\">Trial summary</h1></span>"
            ],
            "text/plain": [
              "<IPython.core.display.HTML object>"
            ]
          },
          "metadata": {
            "tags": []
          }
        },
        {
          "output_type": "display_data",
          "data": {
            "text/html": [
              "<span style=\"color:cyan\"> |-Trial ID: ea2e57fbef862a6b72b5536e3c842ccd</span>"
            ],
            "text/plain": [
              "<IPython.core.display.HTML object>"
            ]
          },
          "metadata": {
            "tags": []
          }
        },
        {
          "output_type": "display_data",
          "data": {
            "text/html": [
              "<span style=\"color:cyan\"> |-Score: 0.8919166922569275</span>"
            ],
            "text/plain": [
              "<IPython.core.display.HTML object>"
            ]
          },
          "metadata": {
            "tags": []
          }
        },
        {
          "output_type": "display_data",
          "data": {
            "text/html": [
              "<span style=\"color:cyan\"> |-Best step: 0</span>"
            ],
            "text/plain": [
              "<IPython.core.display.HTML object>"
            ]
          },
          "metadata": {
            "tags": []
          }
        },
        {
          "output_type": "display_data",
          "data": {
            "text/html": [
              "<span style=\"color:#7E57C2\"><h2 style=\"font-size:16px\">Hyperparameters:</h2></span>"
            ],
            "text/plain": [
              "<IPython.core.display.HTML object>"
            ]
          },
          "metadata": {
            "tags": []
          }
        },
        {
          "output_type": "display_data",
          "data": {
            "text/html": [
              "<span style=\"color:cyan\"> |-activation: elu</span>"
            ],
            "text/plain": [
              "<IPython.core.display.HTML object>"
            ]
          },
          "metadata": {
            "tags": []
          }
        },
        {
          "output_type": "display_data",
          "data": {
            "text/html": [
              "<span style=\"color:blue\"> |-optimizer: rmsprop</span>"
            ],
            "text/plain": [
              "<IPython.core.display.HTML object>"
            ]
          },
          "metadata": {
            "tags": []
          }
        },
        {
          "output_type": "display_data",
          "data": {
            "text/html": [
              "<span style=\"color:cyan\"> |-units_hidden: 480</span>"
            ],
            "text/plain": [
              "<IPython.core.display.HTML object>"
            ]
          },
          "metadata": {
            "tags": []
          }
        },
        {
          "output_type": "display_data",
          "data": {
            "text/html": [
              "<span style=\"color:blue\"> |-units_input: 800</span>"
            ],
            "text/plain": [
              "<IPython.core.display.HTML object>"
            ]
          },
          "metadata": {
            "tags": []
          }
        },
        {
          "output_type": "stream",
          "text": [
            "Epoch 1/20\n",
            "188/188 [==============================] - 1s 4ms/step - loss: 1.1141 - accuracy: 0.6659 - val_loss: 0.7788 - val_accuracy: 0.7516\n",
            "Epoch 2/20\n",
            "188/188 [==============================] - 1s 4ms/step - loss: 0.7106 - accuracy: 0.7697 - val_loss: 0.6503 - val_accuracy: 0.7829\n",
            "Epoch 3/20\n",
            "188/188 [==============================] - 1s 4ms/step - loss: 0.6202 - accuracy: 0.7962 - val_loss: 0.5885 - val_accuracy: 0.8043\n",
            "Epoch 4/20\n",
            "188/188 [==============================] - 1s 4ms/step - loss: 0.5711 - accuracy: 0.8097 - val_loss: 0.5524 - val_accuracy: 0.8133\n",
            "Epoch 5/20\n",
            "188/188 [==============================] - 1s 4ms/step - loss: 0.5399 - accuracy: 0.8184 - val_loss: 0.5293 - val_accuracy: 0.8180\n",
            "Epoch 6/20\n",
            "188/188 [==============================] - 1s 4ms/step - loss: 0.5174 - accuracy: 0.8243 - val_loss: 0.5113 - val_accuracy: 0.8233\n",
            "Epoch 7/20\n",
            "188/188 [==============================] - 1s 4ms/step - loss: 0.5006 - accuracy: 0.8283 - val_loss: 0.4987 - val_accuracy: 0.8246\n",
            "Epoch 8/20\n",
            "188/188 [==============================] - 1s 4ms/step - loss: 0.4870 - accuracy: 0.8328 - val_loss: 0.4882 - val_accuracy: 0.8278\n",
            "Epoch 9/20\n",
            "188/188 [==============================] - 1s 4ms/step - loss: 0.4762 - accuracy: 0.8362 - val_loss: 0.4792 - val_accuracy: 0.8315\n",
            "Epoch 10/20\n",
            "188/188 [==============================] - 1s 4ms/step - loss: 0.4673 - accuracy: 0.8387 - val_loss: 0.4694 - val_accuracy: 0.8342\n",
            "Epoch 11/20\n",
            "188/188 [==============================] - 1s 4ms/step - loss: 0.4593 - accuracy: 0.8417 - val_loss: 0.4625 - val_accuracy: 0.8341\n",
            "Epoch 12/20\n",
            "188/188 [==============================] - 1s 4ms/step - loss: 0.4528 - accuracy: 0.8423 - val_loss: 0.4611 - val_accuracy: 0.8359\n",
            "Epoch 13/20\n",
            "188/188 [==============================] - 1s 4ms/step - loss: 0.4472 - accuracy: 0.8450 - val_loss: 0.4521 - val_accuracy: 0.8392\n",
            "Epoch 14/20\n",
            "188/188 [==============================] - 1s 4ms/step - loss: 0.4416 - accuracy: 0.8466 - val_loss: 0.4460 - val_accuracy: 0.8397\n",
            "Epoch 15/20\n",
            "188/188 [==============================] - 1s 4ms/step - loss: 0.4369 - accuracy: 0.8477 - val_loss: 0.4452 - val_accuracy: 0.8406\n",
            "Epoch 16/20\n",
            "188/188 [==============================] - 1s 4ms/step - loss: 0.4323 - accuracy: 0.8497 - val_loss: 0.4387 - val_accuracy: 0.8443\n",
            "Epoch 17/20\n",
            "188/188 [==============================] - 1s 4ms/step - loss: 0.4283 - accuracy: 0.8514 - val_loss: 0.4368 - val_accuracy: 0.8438\n",
            "Epoch 18/20\n",
            "188/188 [==============================] - 1s 4ms/step - loss: 0.4245 - accuracy: 0.8519 - val_loss: 0.4319 - val_accuracy: 0.8468\n",
            "Epoch 19/20\n",
            "188/188 [==============================] - 1s 4ms/step - loss: 0.4209 - accuracy: 0.8531 - val_loss: 0.4319 - val_accuracy: 0.8441\n",
            "Epoch 20/20\n",
            "188/188 [==============================] - 1s 4ms/step - loss: 0.4178 - accuracy: 0.8535 - val_loss: 0.4508 - val_accuracy: 0.8368\n"
          ],
          "name": "stdout"
        },
        {
          "output_type": "display_data",
          "data": {
            "text/html": [
              "<span style=\"color:#4527A0\"><h1 style=\"font-size:18px\">Trial complete</h1></span>"
            ],
            "text/plain": [
              "<IPython.core.display.HTML object>"
            ]
          },
          "metadata": {
            "tags": []
          }
        },
        {
          "output_type": "display_data",
          "data": {
            "text/html": [
              "<span style=\"color:#4527A0\"><h1 style=\"font-size:18px\">Trial summary</h1></span>"
            ],
            "text/plain": [
              "<IPython.core.display.HTML object>"
            ]
          },
          "metadata": {
            "tags": []
          }
        },
        {
          "output_type": "display_data",
          "data": {
            "text/html": [
              "<span style=\"color:cyan\"> |-Trial ID: 4bbbb41a9f8aa56789764fb1b6fc6d22</span>"
            ],
            "text/plain": [
              "<IPython.core.display.HTML object>"
            ]
          },
          "metadata": {
            "tags": []
          }
        },
        {
          "output_type": "display_data",
          "data": {
            "text/html": [
              "<span style=\"color:cyan\"> |-Score: 0.846833348274231</span>"
            ],
            "text/plain": [
              "<IPython.core.display.HTML object>"
            ]
          },
          "metadata": {
            "tags": []
          }
        },
        {
          "output_type": "display_data",
          "data": {
            "text/html": [
              "<span style=\"color:cyan\"> |-Best step: 0</span>"
            ],
            "text/plain": [
              "<IPython.core.display.HTML object>"
            ]
          },
          "metadata": {
            "tags": []
          }
        },
        {
          "output_type": "display_data",
          "data": {
            "text/html": [
              "<span style=\"color:#7E57C2\"><h2 style=\"font-size:16px\">Hyperparameters:</h2></span>"
            ],
            "text/plain": [
              "<IPython.core.display.HTML object>"
            ]
          },
          "metadata": {
            "tags": []
          }
        },
        {
          "output_type": "display_data",
          "data": {
            "text/html": [
              "<span style=\"color:cyan\"> |-activation: tanh</span>"
            ],
            "text/plain": [
              "<IPython.core.display.HTML object>"
            ]
          },
          "metadata": {
            "tags": []
          }
        },
        {
          "output_type": "display_data",
          "data": {
            "text/html": [
              "<span style=\"color:blue\"> |-optimizer: SGD</span>"
            ],
            "text/plain": [
              "<IPython.core.display.HTML object>"
            ]
          },
          "metadata": {
            "tags": []
          }
        },
        {
          "output_type": "display_data",
          "data": {
            "text/html": [
              "<span style=\"color:cyan\"> |-units_hidden: 320</span>"
            ],
            "text/plain": [
              "<IPython.core.display.HTML object>"
            ]
          },
          "metadata": {
            "tags": []
          }
        },
        {
          "output_type": "display_data",
          "data": {
            "text/html": [
              "<span style=\"color:blue\"> |-units_input: 544</span>"
            ],
            "text/plain": [
              "<IPython.core.display.HTML object>"
            ]
          },
          "metadata": {
            "tags": []
          }
        },
        {
          "output_type": "stream",
          "text": [
            "Epoch 1/20\n",
            "188/188 [==============================] - 1s 5ms/step - loss: 0.7990 - accuracy: 0.7299 - val_loss: 0.7175 - val_accuracy: 0.7498\n",
            "Epoch 2/20\n",
            "188/188 [==============================] - 1s 5ms/step - loss: 0.5028 - accuracy: 0.8142 - val_loss: 0.5006 - val_accuracy: 0.8060\n",
            "Epoch 3/20\n",
            "188/188 [==============================] - 1s 5ms/step - loss: 0.4236 - accuracy: 0.8425 - val_loss: 0.4847 - val_accuracy: 0.8108\n",
            "Epoch 4/20\n",
            "188/188 [==============================] - 1s 4ms/step - loss: 0.3787 - accuracy: 0.8565 - val_loss: 0.3772 - val_accuracy: 0.8603\n",
            "Epoch 5/20\n",
            "188/188 [==============================] - 1s 4ms/step - loss: 0.3501 - accuracy: 0.8682 - val_loss: 0.3684 - val_accuracy: 0.8637\n",
            "Epoch 6/20\n",
            "188/188 [==============================] - 1s 4ms/step - loss: 0.3275 - accuracy: 0.8752 - val_loss: 0.3829 - val_accuracy: 0.8560\n",
            "Epoch 7/20\n",
            "188/188 [==============================] - 1s 4ms/step - loss: 0.3061 - accuracy: 0.8849 - val_loss: 0.3246 - val_accuracy: 0.8838\n",
            "Epoch 8/20\n",
            "188/188 [==============================] - 1s 4ms/step - loss: 0.2924 - accuracy: 0.8887 - val_loss: 0.3369 - val_accuracy: 0.8801\n",
            "Epoch 9/20\n",
            "188/188 [==============================] - 1s 4ms/step - loss: 0.2777 - accuracy: 0.8933 - val_loss: 0.3524 - val_accuracy: 0.8717\n",
            "Epoch 10/20\n",
            "188/188 [==============================] - 1s 4ms/step - loss: 0.2645 - accuracy: 0.8981 - val_loss: 0.4026 - val_accuracy: 0.8628\n",
            "Epoch 11/20\n",
            "188/188 [==============================] - 1s 5ms/step - loss: 0.2556 - accuracy: 0.9026 - val_loss: 0.3292 - val_accuracy: 0.8827\n",
            "Epoch 12/20\n",
            "188/188 [==============================] - 1s 5ms/step - loss: 0.2403 - accuracy: 0.9074 - val_loss: 0.3968 - val_accuracy: 0.8656\n",
            "Epoch 13/20\n",
            "188/188 [==============================] - 1s 5ms/step - loss: 0.2338 - accuracy: 0.9120 - val_loss: 0.3400 - val_accuracy: 0.8804\n",
            "Epoch 14/20\n",
            "188/188 [==============================] - 1s 5ms/step - loss: 0.2239 - accuracy: 0.9142 - val_loss: 0.3879 - val_accuracy: 0.8698\n",
            "Epoch 15/20\n",
            "188/188 [==============================] - 1s 5ms/step - loss: 0.2150 - accuracy: 0.9170 - val_loss: 0.3656 - val_accuracy: 0.8855\n",
            "Epoch 16/20\n",
            "188/188 [==============================] - 1s 5ms/step - loss: 0.2085 - accuracy: 0.9206 - val_loss: 0.3758 - val_accuracy: 0.8692\n",
            "Epoch 17/20\n",
            "188/188 [==============================] - 1s 5ms/step - loss: 0.2018 - accuracy: 0.9217 - val_loss: 0.3731 - val_accuracy: 0.8810\n",
            "Epoch 18/20\n",
            "188/188 [==============================] - 1s 5ms/step - loss: 0.1921 - accuracy: 0.9260 - val_loss: 0.3646 - val_accuracy: 0.8777\n",
            "Epoch 19/20\n",
            "188/188 [==============================] - 1s 5ms/step - loss: 0.1855 - accuracy: 0.9286 - val_loss: 0.3570 - val_accuracy: 0.8916\n",
            "Epoch 20/20\n",
            "188/188 [==============================] - 1s 5ms/step - loss: 0.1796 - accuracy: 0.9311 - val_loss: 0.3380 - val_accuracy: 0.8928\n"
          ],
          "name": "stdout"
        },
        {
          "output_type": "display_data",
          "data": {
            "text/html": [
              "<span style=\"color:#4527A0\"><h1 style=\"font-size:18px\">Trial complete</h1></span>"
            ],
            "text/plain": [
              "<IPython.core.display.HTML object>"
            ]
          },
          "metadata": {
            "tags": []
          }
        },
        {
          "output_type": "display_data",
          "data": {
            "text/html": [
              "<span style=\"color:#4527A0\"><h1 style=\"font-size:18px\">Trial summary</h1></span>"
            ],
            "text/plain": [
              "<IPython.core.display.HTML object>"
            ]
          },
          "metadata": {
            "tags": []
          }
        },
        {
          "output_type": "display_data",
          "data": {
            "text/html": [
              "<span style=\"color:cyan\"> |-Trial ID: 01179b56bfaf26047280ebfb10d449e7</span>"
            ],
            "text/plain": [
              "<IPython.core.display.HTML object>"
            ]
          },
          "metadata": {
            "tags": []
          }
        },
        {
          "output_type": "display_data",
          "data": {
            "text/html": [
              "<span style=\"color:cyan\"> |-Score: 0.8927500247955322</span>"
            ],
            "text/plain": [
              "<IPython.core.display.HTML object>"
            ]
          },
          "metadata": {
            "tags": []
          }
        },
        {
          "output_type": "display_data",
          "data": {
            "text/html": [
              "<span style=\"color:cyan\"> |-Best step: 0</span>"
            ],
            "text/plain": [
              "<IPython.core.display.HTML object>"
            ]
          },
          "metadata": {
            "tags": []
          }
        },
        {
          "output_type": "display_data",
          "data": {
            "text/html": [
              "<span style=\"color:#7E57C2\"><h2 style=\"font-size:16px\">Hyperparameters:</h2></span>"
            ],
            "text/plain": [
              "<IPython.core.display.HTML object>"
            ]
          },
          "metadata": {
            "tags": []
          }
        },
        {
          "output_type": "display_data",
          "data": {
            "text/html": [
              "<span style=\"color:cyan\"> |-activation: elu</span>"
            ],
            "text/plain": [
              "<IPython.core.display.HTML object>"
            ]
          },
          "metadata": {
            "tags": []
          }
        },
        {
          "output_type": "display_data",
          "data": {
            "text/html": [
              "<span style=\"color:blue\"> |-optimizer: rmsprop</span>"
            ],
            "text/plain": [
              "<IPython.core.display.HTML object>"
            ]
          },
          "metadata": {
            "tags": []
          }
        },
        {
          "output_type": "display_data",
          "data": {
            "text/html": [
              "<span style=\"color:cyan\"> |-units_hidden: 416</span>"
            ],
            "text/plain": [
              "<IPython.core.display.HTML object>"
            ]
          },
          "metadata": {
            "tags": []
          }
        },
        {
          "output_type": "display_data",
          "data": {
            "text/html": [
              "<span style=\"color:blue\"> |-units_input: 608</span>"
            ],
            "text/plain": [
              "<IPython.core.display.HTML object>"
            ]
          },
          "metadata": {
            "tags": []
          }
        },
        {
          "output_type": "stream",
          "text": [
            "Epoch 1/20\n",
            "188/188 [==============================] - 1s 5ms/step - loss: 0.5730 - accuracy: 0.8007 - val_loss: 0.4137 - val_accuracy: 0.8533\n",
            "Epoch 2/20\n",
            "188/188 [==============================] - 1s 4ms/step - loss: 0.4094 - accuracy: 0.8537 - val_loss: 0.3936 - val_accuracy: 0.8587\n",
            "Epoch 3/20\n",
            "188/188 [==============================] - 1s 4ms/step - loss: 0.3826 - accuracy: 0.8617 - val_loss: 0.4678 - val_accuracy: 0.8274\n",
            "Epoch 4/20\n",
            "188/188 [==============================] - 1s 4ms/step - loss: 0.3570 - accuracy: 0.8704 - val_loss: 0.3538 - val_accuracy: 0.8722\n",
            "Epoch 5/20\n",
            "188/188 [==============================] - 1s 5ms/step - loss: 0.3277 - accuracy: 0.8802 - val_loss: 0.3474 - val_accuracy: 0.8757\n",
            "Epoch 6/20\n",
            "188/188 [==============================] - 1s 4ms/step - loss: 0.3143 - accuracy: 0.8839 - val_loss: 0.3673 - val_accuracy: 0.8673\n",
            "Epoch 7/20\n",
            "188/188 [==============================] - 1s 4ms/step - loss: 0.3018 - accuracy: 0.8880 - val_loss: 0.3384 - val_accuracy: 0.8782\n",
            "Epoch 8/20\n",
            "188/188 [==============================] - 1s 4ms/step - loss: 0.2947 - accuracy: 0.8908 - val_loss: 0.3309 - val_accuracy: 0.8827\n",
            "Epoch 9/20\n",
            "188/188 [==============================] - 1s 5ms/step - loss: 0.2727 - accuracy: 0.8985 - val_loss: 0.3514 - val_accuracy: 0.8782\n",
            "Epoch 10/20\n",
            "188/188 [==============================] - 1s 4ms/step - loss: 0.2653 - accuracy: 0.9010 - val_loss: 0.3300 - val_accuracy: 0.8838\n",
            "Epoch 11/20\n",
            "188/188 [==============================] - 1s 4ms/step - loss: 0.2527 - accuracy: 0.9075 - val_loss: 0.3215 - val_accuracy: 0.8857\n",
            "Epoch 12/20\n",
            "188/188 [==============================] - 1s 5ms/step - loss: 0.2459 - accuracy: 0.9080 - val_loss: 0.3169 - val_accuracy: 0.8886\n",
            "Epoch 13/20\n",
            "188/188 [==============================] - 1s 5ms/step - loss: 0.2372 - accuracy: 0.9113 - val_loss: 0.3521 - val_accuracy: 0.8777\n",
            "Epoch 14/20\n",
            "188/188 [==============================] - 1s 4ms/step - loss: 0.2302 - accuracy: 0.9144 - val_loss: 0.3365 - val_accuracy: 0.8797\n",
            "Epoch 15/20\n",
            "188/188 [==============================] - 1s 4ms/step - loss: 0.2202 - accuracy: 0.9178 - val_loss: 0.3417 - val_accuracy: 0.8808\n",
            "Epoch 16/20\n",
            "188/188 [==============================] - 1s 4ms/step - loss: 0.2070 - accuracy: 0.9231 - val_loss: 0.3223 - val_accuracy: 0.8886\n",
            "Epoch 17/20\n",
            "188/188 [==============================] - 1s 4ms/step - loss: 0.2118 - accuracy: 0.9209 - val_loss: 0.3200 - val_accuracy: 0.8895\n",
            "Epoch 18/20\n",
            "188/188 [==============================] - 1s 4ms/step - loss: 0.2059 - accuracy: 0.9223 - val_loss: 0.3664 - val_accuracy: 0.8767\n",
            "Epoch 19/20\n",
            "188/188 [==============================] - 1s 4ms/step - loss: 0.1931 - accuracy: 0.9282 - val_loss: 0.3665 - val_accuracy: 0.8778\n",
            "Epoch 20/20\n",
            "188/188 [==============================] - 1s 4ms/step - loss: 0.1855 - accuracy: 0.9291 - val_loss: 0.3279 - val_accuracy: 0.8878\n"
          ],
          "name": "stdout"
        },
        {
          "output_type": "display_data",
          "data": {
            "text/html": [
              "<span style=\"color:#4527A0\"><h1 style=\"font-size:18px\">Trial complete</h1></span>"
            ],
            "text/plain": [
              "<IPython.core.display.HTML object>"
            ]
          },
          "metadata": {
            "tags": []
          }
        },
        {
          "output_type": "display_data",
          "data": {
            "text/html": [
              "<span style=\"color:#4527A0\"><h1 style=\"font-size:18px\">Trial summary</h1></span>"
            ],
            "text/plain": [
              "<IPython.core.display.HTML object>"
            ]
          },
          "metadata": {
            "tags": []
          }
        },
        {
          "output_type": "display_data",
          "data": {
            "text/html": [
              "<span style=\"color:cyan\"> |-Trial ID: c1f0faa4c3c6cd6ebdf63232b6bccbb2</span>"
            ],
            "text/plain": [
              "<IPython.core.display.HTML object>"
            ]
          },
          "metadata": {
            "tags": []
          }
        },
        {
          "output_type": "display_data",
          "data": {
            "text/html": [
              "<span style=\"color:cyan\"> |-Score: 0.8895000219345093</span>"
            ],
            "text/plain": [
              "<IPython.core.display.HTML object>"
            ]
          },
          "metadata": {
            "tags": []
          }
        },
        {
          "output_type": "display_data",
          "data": {
            "text/html": [
              "<span style=\"color:cyan\"> |-Best step: 0</span>"
            ],
            "text/plain": [
              "<IPython.core.display.HTML object>"
            ]
          },
          "metadata": {
            "tags": []
          }
        },
        {
          "output_type": "display_data",
          "data": {
            "text/html": [
              "<span style=\"color:#7E57C2\"><h2 style=\"font-size:16px\">Hyperparameters:</h2></span>"
            ],
            "text/plain": [
              "<IPython.core.display.HTML object>"
            ]
          },
          "metadata": {
            "tags": []
          }
        },
        {
          "output_type": "display_data",
          "data": {
            "text/html": [
              "<span style=\"color:cyan\"> |-activation: selu</span>"
            ],
            "text/plain": [
              "<IPython.core.display.HTML object>"
            ]
          },
          "metadata": {
            "tags": []
          }
        },
        {
          "output_type": "display_data",
          "data": {
            "text/html": [
              "<span style=\"color:blue\"> |-optimizer: adam</span>"
            ],
            "text/plain": [
              "<IPython.core.display.HTML object>"
            ]
          },
          "metadata": {
            "tags": []
          }
        },
        {
          "output_type": "display_data",
          "data": {
            "text/html": [
              "<span style=\"color:cyan\"> |-units_hidden: 448</span>"
            ],
            "text/plain": [
              "<IPython.core.display.HTML object>"
            ]
          },
          "metadata": {
            "tags": []
          }
        },
        {
          "output_type": "display_data",
          "data": {
            "text/html": [
              "<span style=\"color:blue\"> |-units_input: 544</span>"
            ],
            "text/plain": [
              "<IPython.core.display.HTML object>"
            ]
          },
          "metadata": {
            "tags": []
          }
        },
        {
          "output_type": "stream",
          "text": [
            "Epoch 1/20\n",
            "188/188 [==============================] - 1s 5ms/step - loss: 1.2809 - accuracy: 0.6510 - val_loss: 0.8730 - val_accuracy: 0.7392\n",
            "Epoch 2/20\n",
            "188/188 [==============================] - 1s 5ms/step - loss: 0.7811 - accuracy: 0.7580 - val_loss: 0.7050 - val_accuracy: 0.7721\n",
            "Epoch 3/20\n",
            "188/188 [==============================] - 1s 4ms/step - loss: 0.6666 - accuracy: 0.7872 - val_loss: 0.6270 - val_accuracy: 0.7965\n",
            "Epoch 4/20\n",
            "188/188 [==============================] - 1s 4ms/step - loss: 0.6054 - accuracy: 0.8054 - val_loss: 0.5844 - val_accuracy: 0.8060\n",
            "Epoch 5/20\n",
            "188/188 [==============================] - 1s 4ms/step - loss: 0.5662 - accuracy: 0.8154 - val_loss: 0.5516 - val_accuracy: 0.8161\n",
            "Epoch 6/20\n",
            "188/188 [==============================] - 1s 4ms/step - loss: 0.5386 - accuracy: 0.8228 - val_loss: 0.5321 - val_accuracy: 0.8183\n",
            "Epoch 7/20\n",
            "188/188 [==============================] - 1s 4ms/step - loss: 0.5179 - accuracy: 0.8282 - val_loss: 0.5123 - val_accuracy: 0.8262\n",
            "Epoch 8/20\n",
            "188/188 [==============================] - 1s 4ms/step - loss: 0.5014 - accuracy: 0.8323 - val_loss: 0.4970 - val_accuracy: 0.8313\n",
            "Epoch 9/20\n",
            "188/188 [==============================] - 1s 4ms/step - loss: 0.4886 - accuracy: 0.8350 - val_loss: 0.4864 - val_accuracy: 0.8314\n",
            "Epoch 10/20\n",
            "188/188 [==============================] - 1s 4ms/step - loss: 0.4776 - accuracy: 0.8382 - val_loss: 0.5026 - val_accuracy: 0.8207\n",
            "Epoch 11/20\n",
            "188/188 [==============================] - 1s 4ms/step - loss: 0.4689 - accuracy: 0.8397 - val_loss: 0.4863 - val_accuracy: 0.8267\n",
            "Epoch 12/20\n",
            "188/188 [==============================] - 1s 4ms/step - loss: 0.4600 - accuracy: 0.8433 - val_loss: 0.4613 - val_accuracy: 0.8416\n",
            "Epoch 13/20\n",
            "188/188 [==============================] - 1s 4ms/step - loss: 0.4522 - accuracy: 0.8452 - val_loss: 0.4586 - val_accuracy: 0.8408\n",
            "Epoch 14/20\n",
            "188/188 [==============================] - 1s 4ms/step - loss: 0.4463 - accuracy: 0.8470 - val_loss: 0.4527 - val_accuracy: 0.8444\n",
            "Epoch 15/20\n",
            "188/188 [==============================] - 1s 4ms/step - loss: 0.4412 - accuracy: 0.8492 - val_loss: 0.4531 - val_accuracy: 0.8427\n",
            "Epoch 16/20\n",
            "188/188 [==============================] - 1s 4ms/step - loss: 0.4345 - accuracy: 0.8515 - val_loss: 0.4543 - val_accuracy: 0.8399\n",
            "Epoch 17/20\n",
            "188/188 [==============================] - 1s 4ms/step - loss: 0.4303 - accuracy: 0.8526 - val_loss: 0.4472 - val_accuracy: 0.8414\n",
            "Epoch 18/20\n",
            "188/188 [==============================] - 1s 4ms/step - loss: 0.4255 - accuracy: 0.8543 - val_loss: 0.4491 - val_accuracy: 0.8399\n",
            "Epoch 19/20\n",
            "188/188 [==============================] - 1s 4ms/step - loss: 0.4217 - accuracy: 0.8554 - val_loss: 0.4333 - val_accuracy: 0.8463\n",
            "Epoch 20/20\n",
            "188/188 [==============================] - 1s 4ms/step - loss: 0.4165 - accuracy: 0.8564 - val_loss: 0.4321 - val_accuracy: 0.8483\n"
          ],
          "name": "stdout"
        },
        {
          "output_type": "display_data",
          "data": {
            "text/html": [
              "<span style=\"color:#4527A0\"><h1 style=\"font-size:18px\">Trial complete</h1></span>"
            ],
            "text/plain": [
              "<IPython.core.display.HTML object>"
            ]
          },
          "metadata": {
            "tags": []
          }
        },
        {
          "output_type": "display_data",
          "data": {
            "text/html": [
              "<span style=\"color:#4527A0\"><h1 style=\"font-size:18px\">Trial summary</h1></span>"
            ],
            "text/plain": [
              "<IPython.core.display.HTML object>"
            ]
          },
          "metadata": {
            "tags": []
          }
        },
        {
          "output_type": "display_data",
          "data": {
            "text/html": [
              "<span style=\"color:cyan\"> |-Trial ID: 9fdbaadf56a8ff74ab220707f7ed3842</span>"
            ],
            "text/plain": [
              "<IPython.core.display.HTML object>"
            ]
          },
          "metadata": {
            "tags": []
          }
        },
        {
          "output_type": "display_data",
          "data": {
            "text/html": [
              "<span style=\"color:cyan\"> |-Score: 0.8483333587646484</span>"
            ],
            "text/plain": [
              "<IPython.core.display.HTML object>"
            ]
          },
          "metadata": {
            "tags": []
          }
        },
        {
          "output_type": "display_data",
          "data": {
            "text/html": [
              "<span style=\"color:cyan\"> |-Best step: 0</span>"
            ],
            "text/plain": [
              "<IPython.core.display.HTML object>"
            ]
          },
          "metadata": {
            "tags": []
          }
        },
        {
          "output_type": "display_data",
          "data": {
            "text/html": [
              "<span style=\"color:#7E57C2\"><h2 style=\"font-size:16px\">Hyperparameters:</h2></span>"
            ],
            "text/plain": [
              "<IPython.core.display.HTML object>"
            ]
          },
          "metadata": {
            "tags": []
          }
        },
        {
          "output_type": "display_data",
          "data": {
            "text/html": [
              "<span style=\"color:cyan\"> |-activation: relu</span>"
            ],
            "text/plain": [
              "<IPython.core.display.HTML object>"
            ]
          },
          "metadata": {
            "tags": []
          }
        },
        {
          "output_type": "display_data",
          "data": {
            "text/html": [
              "<span style=\"color:blue\"> |-optimizer: SGD</span>"
            ],
            "text/plain": [
              "<IPython.core.display.HTML object>"
            ]
          },
          "metadata": {
            "tags": []
          }
        },
        {
          "output_type": "display_data",
          "data": {
            "text/html": [
              "<span style=\"color:cyan\"> |-units_hidden: 576</span>"
            ],
            "text/plain": [
              "<IPython.core.display.HTML object>"
            ]
          },
          "metadata": {
            "tags": []
          }
        },
        {
          "output_type": "display_data",
          "data": {
            "text/html": [
              "<span style=\"color:blue\"> |-units_input: 640</span>"
            ],
            "text/plain": [
              "<IPython.core.display.HTML object>"
            ]
          },
          "metadata": {
            "tags": []
          }
        },
        {
          "output_type": "stream",
          "text": [
            "Epoch 1/20\n",
            "188/188 [==============================] - 1s 5ms/step - loss: 0.8327 - accuracy: 0.7266 - val_loss: 0.5322 - val_accuracy: 0.8009\n",
            "Epoch 2/20\n",
            "188/188 [==============================] - 1s 4ms/step - loss: 0.5063 - accuracy: 0.8119 - val_loss: 0.4719 - val_accuracy: 0.8215\n",
            "Epoch 3/20\n",
            "188/188 [==============================] - 1s 5ms/step - loss: 0.4279 - accuracy: 0.8405 - val_loss: 0.5275 - val_accuracy: 0.7912\n",
            "Epoch 4/20\n",
            "188/188 [==============================] - 1s 5ms/step - loss: 0.3851 - accuracy: 0.8546 - val_loss: 0.3656 - val_accuracy: 0.8670\n",
            "Epoch 5/20\n",
            "188/188 [==============================] - 1s 5ms/step - loss: 0.3510 - accuracy: 0.8683 - val_loss: 0.4340 - val_accuracy: 0.8411\n",
            "Epoch 6/20\n",
            "188/188 [==============================] - 1s 5ms/step - loss: 0.3303 - accuracy: 0.8736 - val_loss: 0.3544 - val_accuracy: 0.8761\n",
            "Epoch 7/20\n",
            "188/188 [==============================] - 1s 4ms/step - loss: 0.3090 - accuracy: 0.8840 - val_loss: 0.3934 - val_accuracy: 0.8603\n",
            "Epoch 8/20\n",
            "188/188 [==============================] - 1s 4ms/step - loss: 0.2943 - accuracy: 0.8884 - val_loss: 0.3661 - val_accuracy: 0.8690\n",
            "Epoch 9/20\n",
            "188/188 [==============================] - 1s 4ms/step - loss: 0.2779 - accuracy: 0.8941 - val_loss: 0.3600 - val_accuracy: 0.8777\n",
            "Epoch 10/20\n",
            "188/188 [==============================] - 1s 5ms/step - loss: 0.2635 - accuracy: 0.8996 - val_loss: 0.4480 - val_accuracy: 0.8371\n",
            "Epoch 11/20\n",
            "188/188 [==============================] - 1s 4ms/step - loss: 0.2538 - accuracy: 0.9018 - val_loss: 0.4238 - val_accuracy: 0.8578\n",
            "Epoch 12/20\n",
            "188/188 [==============================] - 1s 5ms/step - loss: 0.2435 - accuracy: 0.9078 - val_loss: 0.3285 - val_accuracy: 0.8852\n",
            "Epoch 13/20\n",
            "188/188 [==============================] - 1s 5ms/step - loss: 0.2323 - accuracy: 0.9105 - val_loss: 0.3517 - val_accuracy: 0.8795\n",
            "Epoch 14/20\n",
            "188/188 [==============================] - 1s 4ms/step - loss: 0.2255 - accuracy: 0.9139 - val_loss: 0.3498 - val_accuracy: 0.8832\n",
            "Epoch 15/20\n",
            "188/188 [==============================] - 1s 5ms/step - loss: 0.2158 - accuracy: 0.9170 - val_loss: 0.3657 - val_accuracy: 0.8778\n",
            "Epoch 16/20\n",
            "188/188 [==============================] - 1s 5ms/step - loss: 0.2084 - accuracy: 0.9189 - val_loss: 0.3469 - val_accuracy: 0.8857\n",
            "Epoch 17/20\n",
            "188/188 [==============================] - 1s 5ms/step - loss: 0.2004 - accuracy: 0.9219 - val_loss: 0.4700 - val_accuracy: 0.8544\n",
            "Epoch 18/20\n",
            "188/188 [==============================] - 1s 5ms/step - loss: 0.1945 - accuracy: 0.9262 - val_loss: 0.4447 - val_accuracy: 0.8712\n",
            "Epoch 19/20\n",
            "188/188 [==============================] - 1s 5ms/step - loss: 0.1877 - accuracy: 0.9278 - val_loss: 0.3960 - val_accuracy: 0.8774\n",
            "Epoch 20/20\n",
            "188/188 [==============================] - 1s 5ms/step - loss: 0.1822 - accuracy: 0.9301 - val_loss: 0.3942 - val_accuracy: 0.8792\n"
          ],
          "name": "stdout"
        },
        {
          "output_type": "display_data",
          "data": {
            "text/html": [
              "<span style=\"color:#4527A0\"><h1 style=\"font-size:18px\">Trial complete</h1></span>"
            ],
            "text/plain": [
              "<IPython.core.display.HTML object>"
            ]
          },
          "metadata": {
            "tags": []
          }
        },
        {
          "output_type": "display_data",
          "data": {
            "text/html": [
              "<span style=\"color:#4527A0\"><h1 style=\"font-size:18px\">Trial summary</h1></span>"
            ],
            "text/plain": [
              "<IPython.core.display.HTML object>"
            ]
          },
          "metadata": {
            "tags": []
          }
        },
        {
          "output_type": "display_data",
          "data": {
            "text/html": [
              "<span style=\"color:cyan\"> |-Trial ID: 21dd79e5a7bc98b76847121e776b8f70</span>"
            ],
            "text/plain": [
              "<IPython.core.display.HTML object>"
            ]
          },
          "metadata": {
            "tags": []
          }
        },
        {
          "output_type": "display_data",
          "data": {
            "text/html": [
              "<span style=\"color:cyan\"> |-Score: 0.8857499957084656</span>"
            ],
            "text/plain": [
              "<IPython.core.display.HTML object>"
            ]
          },
          "metadata": {
            "tags": []
          }
        },
        {
          "output_type": "display_data",
          "data": {
            "text/html": [
              "<span style=\"color:cyan\"> |-Best step: 0</span>"
            ],
            "text/plain": [
              "<IPython.core.display.HTML object>"
            ]
          },
          "metadata": {
            "tags": []
          }
        },
        {
          "output_type": "display_data",
          "data": {
            "text/html": [
              "<span style=\"color:#7E57C2\"><h2 style=\"font-size:16px\">Hyperparameters:</h2></span>"
            ],
            "text/plain": [
              "<IPython.core.display.HTML object>"
            ]
          },
          "metadata": {
            "tags": []
          }
        },
        {
          "output_type": "display_data",
          "data": {
            "text/html": [
              "<span style=\"color:cyan\"> |-activation: elu</span>"
            ],
            "text/plain": [
              "<IPython.core.display.HTML object>"
            ]
          },
          "metadata": {
            "tags": []
          }
        },
        {
          "output_type": "display_data",
          "data": {
            "text/html": [
              "<span style=\"color:blue\"> |-optimizer: rmsprop</span>"
            ],
            "text/plain": [
              "<IPython.core.display.HTML object>"
            ]
          },
          "metadata": {
            "tags": []
          }
        },
        {
          "output_type": "display_data",
          "data": {
            "text/html": [
              "<span style=\"color:cyan\"> |-units_hidden: 448</span>"
            ],
            "text/plain": [
              "<IPython.core.display.HTML object>"
            ]
          },
          "metadata": {
            "tags": []
          }
        },
        {
          "output_type": "display_data",
          "data": {
            "text/html": [
              "<span style=\"color:blue\"> |-units_input: 672</span>"
            ],
            "text/plain": [
              "<IPython.core.display.HTML object>"
            ]
          },
          "metadata": {
            "tags": []
          }
        },
        {
          "output_type": "stream",
          "text": [
            "Epoch 1/20\n",
            "188/188 [==============================] - 1s 6ms/step - loss: 1.2822 - accuracy: 0.6906 - val_loss: 0.7388 - val_accuracy: 0.7858\n",
            "Epoch 2/20\n",
            "188/188 [==============================] - 1s 5ms/step - loss: 0.6037 - accuracy: 0.7861 - val_loss: 0.5609 - val_accuracy: 0.8078\n",
            "Epoch 3/20\n",
            "188/188 [==============================] - 1s 5ms/step - loss: 0.4784 - accuracy: 0.8235 - val_loss: 0.4861 - val_accuracy: 0.8297\n",
            "Epoch 4/20\n",
            "188/188 [==============================] - 1s 4ms/step - loss: 0.4212 - accuracy: 0.8442 - val_loss: 0.4759 - val_accuracy: 0.8114\n",
            "Epoch 5/20\n",
            "188/188 [==============================] - 1s 5ms/step - loss: 0.3879 - accuracy: 0.8570 - val_loss: 0.3944 - val_accuracy: 0.8556\n",
            "Epoch 6/20\n",
            "188/188 [==============================] - 1s 5ms/step - loss: 0.3588 - accuracy: 0.8656 - val_loss: 0.3919 - val_accuracy: 0.8582\n",
            "Epoch 7/20\n",
            "188/188 [==============================] - 1s 5ms/step - loss: 0.3375 - accuracy: 0.8736 - val_loss: 0.5301 - val_accuracy: 0.8169\n",
            "Epoch 8/20\n",
            "188/188 [==============================] - 1s 5ms/step - loss: 0.3256 - accuracy: 0.8771 - val_loss: 0.4238 - val_accuracy: 0.8518\n",
            "Epoch 9/20\n",
            "188/188 [==============================] - 1s 5ms/step - loss: 0.3065 - accuracy: 0.8835 - val_loss: 0.3875 - val_accuracy: 0.8660\n",
            "Epoch 10/20\n",
            "188/188 [==============================] - 1s 5ms/step - loss: 0.2947 - accuracy: 0.8868 - val_loss: 0.3407 - val_accuracy: 0.8836\n",
            "Epoch 11/20\n",
            "188/188 [==============================] - 1s 5ms/step - loss: 0.2814 - accuracy: 0.8930 - val_loss: 0.3945 - val_accuracy: 0.8757\n",
            "Epoch 12/20\n",
            "188/188 [==============================] - 1s 5ms/step - loss: 0.2738 - accuracy: 0.8947 - val_loss: 0.6135 - val_accuracy: 0.8127\n",
            "Epoch 13/20\n",
            "188/188 [==============================] - 1s 5ms/step - loss: 0.2650 - accuracy: 0.8996 - val_loss: 0.3906 - val_accuracy: 0.8730\n",
            "Epoch 14/20\n",
            "188/188 [==============================] - 1s 5ms/step - loss: 0.2578 - accuracy: 0.9031 - val_loss: 0.8319 - val_accuracy: 0.7470\n",
            "Epoch 15/20\n",
            "188/188 [==============================] - 1s 5ms/step - loss: 0.2504 - accuracy: 0.9028 - val_loss: 0.4008 - val_accuracy: 0.8602\n",
            "Epoch 16/20\n",
            "188/188 [==============================] - 1s 5ms/step - loss: 0.2409 - accuracy: 0.9085 - val_loss: 0.4066 - val_accuracy: 0.8720\n",
            "Epoch 17/20\n",
            "188/188 [==============================] - 1s 5ms/step - loss: 0.2332 - accuracy: 0.9114 - val_loss: 0.4938 - val_accuracy: 0.8587\n",
            "Epoch 18/20\n",
            "188/188 [==============================] - 1s 5ms/step - loss: 0.2289 - accuracy: 0.9137 - val_loss: 0.4419 - val_accuracy: 0.8627\n",
            "Epoch 19/20\n",
            "188/188 [==============================] - 1s 5ms/step - loss: 0.2178 - accuracy: 0.9165 - val_loss: 0.4569 - val_accuracy: 0.8683\n",
            "Epoch 20/20\n",
            "188/188 [==============================] - 1s 5ms/step - loss: 0.2145 - accuracy: 0.9177 - val_loss: 0.3915 - val_accuracy: 0.8784\n"
          ],
          "name": "stdout"
        },
        {
          "output_type": "display_data",
          "data": {
            "text/html": [
              "<span style=\"color:#4527A0\"><h1 style=\"font-size:18px\">Trial complete</h1></span>"
            ],
            "text/plain": [
              "<IPython.core.display.HTML object>"
            ]
          },
          "metadata": {
            "tags": []
          }
        },
        {
          "output_type": "display_data",
          "data": {
            "text/html": [
              "<span style=\"color:#4527A0\"><h1 style=\"font-size:18px\">Trial summary</h1></span>"
            ],
            "text/plain": [
              "<IPython.core.display.HTML object>"
            ]
          },
          "metadata": {
            "tags": []
          }
        },
        {
          "output_type": "display_data",
          "data": {
            "text/html": [
              "<span style=\"color:cyan\"> |-Trial ID: 2ad7569c4b1cc52d48cd6ee14d696d1b</span>"
            ],
            "text/plain": [
              "<IPython.core.display.HTML object>"
            ]
          },
          "metadata": {
            "tags": []
          }
        },
        {
          "output_type": "display_data",
          "data": {
            "text/html": [
              "<span style=\"color:cyan\"> |-Score: 0.8835833072662354</span>"
            ],
            "text/plain": [
              "<IPython.core.display.HTML object>"
            ]
          },
          "metadata": {
            "tags": []
          }
        },
        {
          "output_type": "display_data",
          "data": {
            "text/html": [
              "<span style=\"color:cyan\"> |-Best step: 0</span>"
            ],
            "text/plain": [
              "<IPython.core.display.HTML object>"
            ]
          },
          "metadata": {
            "tags": []
          }
        },
        {
          "output_type": "display_data",
          "data": {
            "text/html": [
              "<span style=\"color:#7E57C2\"><h2 style=\"font-size:16px\">Hyperparameters:</h2></span>"
            ],
            "text/plain": [
              "<IPython.core.display.HTML object>"
            ]
          },
          "metadata": {
            "tags": []
          }
        },
        {
          "output_type": "display_data",
          "data": {
            "text/html": [
              "<span style=\"color:cyan\"> |-activation: selu</span>"
            ],
            "text/plain": [
              "<IPython.core.display.HTML object>"
            ]
          },
          "metadata": {
            "tags": []
          }
        },
        {
          "output_type": "display_data",
          "data": {
            "text/html": [
              "<span style=\"color:blue\"> |-optimizer: rmsprop</span>"
            ],
            "text/plain": [
              "<IPython.core.display.HTML object>"
            ]
          },
          "metadata": {
            "tags": []
          }
        },
        {
          "output_type": "display_data",
          "data": {
            "text/html": [
              "<span style=\"color:cyan\"> |-units_hidden: 480</span>"
            ],
            "text/plain": [
              "<IPython.core.display.HTML object>"
            ]
          },
          "metadata": {
            "tags": []
          }
        },
        {
          "output_type": "display_data",
          "data": {
            "text/html": [
              "<span style=\"color:blue\"> |-units_input: 960</span>"
            ],
            "text/plain": [
              "<IPython.core.display.HTML object>"
            ]
          },
          "metadata": {
            "tags": []
          }
        },
        {
          "output_type": "stream",
          "text": [
            "Epoch 1/20\n",
            "188/188 [==============================] - 1s 5ms/step - loss: 0.8092 - accuracy: 0.7304 - val_loss: 0.4649 - val_accuracy: 0.8341\n",
            "Epoch 2/20\n",
            "188/188 [==============================] - 1s 5ms/step - loss: 0.4807 - accuracy: 0.8192 - val_loss: 0.4507 - val_accuracy: 0.8253\n",
            "Epoch 3/20\n",
            "188/188 [==============================] - 1s 5ms/step - loss: 0.4131 - accuracy: 0.8438 - val_loss: 0.5135 - val_accuracy: 0.8091\n",
            "Epoch 4/20\n",
            "188/188 [==============================] - 1s 5ms/step - loss: 0.3728 - accuracy: 0.8608 - val_loss: 0.4033 - val_accuracy: 0.8569\n",
            "Epoch 5/20\n",
            "188/188 [==============================] - 1s 5ms/step - loss: 0.3451 - accuracy: 0.8690 - val_loss: 0.3837 - val_accuracy: 0.8677\n",
            "Epoch 6/20\n",
            "188/188 [==============================] - 1s 4ms/step - loss: 0.3205 - accuracy: 0.8771 - val_loss: 0.4387 - val_accuracy: 0.8478\n",
            "Epoch 7/20\n",
            "188/188 [==============================] - 1s 4ms/step - loss: 0.3020 - accuracy: 0.8867 - val_loss: 0.3971 - val_accuracy: 0.8635\n",
            "Epoch 8/20\n",
            "188/188 [==============================] - 1s 5ms/step - loss: 0.2898 - accuracy: 0.8911 - val_loss: 0.3501 - val_accuracy: 0.8739\n",
            "Epoch 9/20\n",
            "188/188 [==============================] - 1s 5ms/step - loss: 0.2740 - accuracy: 0.8964 - val_loss: 0.3889 - val_accuracy: 0.8728\n",
            "Epoch 10/20\n",
            "188/188 [==============================] - 1s 5ms/step - loss: 0.2636 - accuracy: 0.8984 - val_loss: 0.3463 - val_accuracy: 0.8809\n",
            "Epoch 11/20\n",
            "188/188 [==============================] - 1s 5ms/step - loss: 0.2513 - accuracy: 0.9043 - val_loss: 0.3882 - val_accuracy: 0.8706\n",
            "Epoch 12/20\n",
            "188/188 [==============================] - 1s 4ms/step - loss: 0.2409 - accuracy: 0.9084 - val_loss: 0.4280 - val_accuracy: 0.8584\n",
            "Epoch 13/20\n",
            "188/188 [==============================] - 1s 5ms/step - loss: 0.2324 - accuracy: 0.9111 - val_loss: 0.3758 - val_accuracy: 0.8687\n",
            "Epoch 14/20\n",
            "188/188 [==============================] - 1s 5ms/step - loss: 0.2249 - accuracy: 0.9139 - val_loss: 0.4847 - val_accuracy: 0.8522\n",
            "Epoch 15/20\n",
            "188/188 [==============================] - 1s 5ms/step - loss: 0.2128 - accuracy: 0.9176 - val_loss: 0.3430 - val_accuracy: 0.8852\n",
            "Epoch 16/20\n",
            "188/188 [==============================] - 1s 5ms/step - loss: 0.2083 - accuracy: 0.9191 - val_loss: 0.3501 - val_accuracy: 0.8793\n",
            "Epoch 17/20\n",
            "188/188 [==============================] - 1s 4ms/step - loss: 0.2022 - accuracy: 0.9231 - val_loss: 0.3731 - val_accuracy: 0.8745\n",
            "Epoch 18/20\n",
            "188/188 [==============================] - 1s 5ms/step - loss: 0.1924 - accuracy: 0.9265 - val_loss: 0.3449 - val_accuracy: 0.8905\n",
            "Epoch 19/20\n",
            "188/188 [==============================] - 1s 5ms/step - loss: 0.1897 - accuracy: 0.9284 - val_loss: 0.3676 - val_accuracy: 0.8814\n",
            "Epoch 20/20\n",
            "188/188 [==============================] - 1s 4ms/step - loss: 0.1802 - accuracy: 0.9315 - val_loss: 0.4415 - val_accuracy: 0.8705\n"
          ],
          "name": "stdout"
        },
        {
          "output_type": "display_data",
          "data": {
            "text/html": [
              "<span style=\"color:#4527A0\"><h1 style=\"font-size:18px\">Trial complete</h1></span>"
            ],
            "text/plain": [
              "<IPython.core.display.HTML object>"
            ]
          },
          "metadata": {
            "tags": []
          }
        },
        {
          "output_type": "display_data",
          "data": {
            "text/html": [
              "<span style=\"color:#4527A0\"><h1 style=\"font-size:18px\">Trial summary</h1></span>"
            ],
            "text/plain": [
              "<IPython.core.display.HTML object>"
            ]
          },
          "metadata": {
            "tags": []
          }
        },
        {
          "output_type": "display_data",
          "data": {
            "text/html": [
              "<span style=\"color:cyan\"> |-Trial ID: 2f7ec6c6676c82784786b2580b06c7b2</span>"
            ],
            "text/plain": [
              "<IPython.core.display.HTML object>"
            ]
          },
          "metadata": {
            "tags": []
          }
        },
        {
          "output_type": "display_data",
          "data": {
            "text/html": [
              "<span style=\"color:cyan\"> |-Score: 0.890500009059906</span>"
            ],
            "text/plain": [
              "<IPython.core.display.HTML object>"
            ]
          },
          "metadata": {
            "tags": []
          }
        },
        {
          "output_type": "display_data",
          "data": {
            "text/html": [
              "<span style=\"color:cyan\"> |-Best step: 0</span>"
            ],
            "text/plain": [
              "<IPython.core.display.HTML object>"
            ]
          },
          "metadata": {
            "tags": []
          }
        },
        {
          "output_type": "display_data",
          "data": {
            "text/html": [
              "<span style=\"color:#7E57C2\"><h2 style=\"font-size:16px\">Hyperparameters:</h2></span>"
            ],
            "text/plain": [
              "<IPython.core.display.HTML object>"
            ]
          },
          "metadata": {
            "tags": []
          }
        },
        {
          "output_type": "display_data",
          "data": {
            "text/html": [
              "<span style=\"color:cyan\"> |-activation: elu</span>"
            ],
            "text/plain": [
              "<IPython.core.display.HTML object>"
            ]
          },
          "metadata": {
            "tags": []
          }
        },
        {
          "output_type": "display_data",
          "data": {
            "text/html": [
              "<span style=\"color:blue\"> |-optimizer: rmsprop</span>"
            ],
            "text/plain": [
              "<IPython.core.display.HTML object>"
            ]
          },
          "metadata": {
            "tags": []
          }
        },
        {
          "output_type": "display_data",
          "data": {
            "text/html": [
              "<span style=\"color:cyan\"> |-units_hidden: 288</span>"
            ],
            "text/plain": [
              "<IPython.core.display.HTML object>"
            ]
          },
          "metadata": {
            "tags": []
          }
        },
        {
          "output_type": "display_data",
          "data": {
            "text/html": [
              "<span style=\"color:blue\"> |-units_input: 896</span>"
            ],
            "text/plain": [
              "<IPython.core.display.HTML object>"
            ]
          },
          "metadata": {
            "tags": []
          }
        },
        {
          "output_type": "stream",
          "text": [
            "Epoch 1/20\n",
            "188/188 [==============================] - 1s 5ms/step - loss: 0.8358 - accuracy: 0.6995 - val_loss: 0.5754 - val_accuracy: 0.7717\n",
            "Epoch 2/20\n",
            "188/188 [==============================] - 1s 5ms/step - loss: 0.5012 - accuracy: 0.8121 - val_loss: 0.4744 - val_accuracy: 0.8225\n",
            "Epoch 3/20\n",
            "188/188 [==============================] - 1s 5ms/step - loss: 0.4438 - accuracy: 0.8371 - val_loss: 0.4335 - val_accuracy: 0.8375\n",
            "Epoch 4/20\n",
            "188/188 [==============================] - 1s 5ms/step - loss: 0.4041 - accuracy: 0.8511 - val_loss: 0.4323 - val_accuracy: 0.8429\n",
            "Epoch 5/20\n",
            "188/188 [==============================] - 1s 5ms/step - loss: 0.3785 - accuracy: 0.8602 - val_loss: 0.4033 - val_accuracy: 0.8543\n",
            "Epoch 6/20\n",
            "188/188 [==============================] - 1s 5ms/step - loss: 0.3600 - accuracy: 0.8663 - val_loss: 0.4011 - val_accuracy: 0.8553\n",
            "Epoch 7/20\n",
            "188/188 [==============================] - 1s 5ms/step - loss: 0.3442 - accuracy: 0.8730 - val_loss: 0.3968 - val_accuracy: 0.8532\n",
            "Epoch 8/20\n",
            "188/188 [==============================] - 1s 5ms/step - loss: 0.3269 - accuracy: 0.8774 - val_loss: 0.3754 - val_accuracy: 0.8589\n",
            "Epoch 9/20\n",
            "188/188 [==============================] - 1s 5ms/step - loss: 0.3176 - accuracy: 0.8805 - val_loss: 0.3648 - val_accuracy: 0.8682\n",
            "Epoch 10/20\n",
            "188/188 [==============================] - 1s 5ms/step - loss: 0.3039 - accuracy: 0.8869 - val_loss: 0.4248 - val_accuracy: 0.8485\n",
            "Epoch 11/20\n",
            "188/188 [==============================] - 1s 5ms/step - loss: 0.2949 - accuracy: 0.8908 - val_loss: 0.3238 - val_accuracy: 0.8823\n",
            "Epoch 12/20\n",
            "188/188 [==============================] - 1s 5ms/step - loss: 0.2867 - accuracy: 0.8929 - val_loss: 0.3124 - val_accuracy: 0.8836\n",
            "Epoch 13/20\n",
            "188/188 [==============================] - 1s 6ms/step - loss: 0.2771 - accuracy: 0.8948 - val_loss: 0.3202 - val_accuracy: 0.8841\n",
            "Epoch 14/20\n",
            "188/188 [==============================] - 1s 5ms/step - loss: 0.2700 - accuracy: 0.8995 - val_loss: 0.3371 - val_accuracy: 0.8788\n",
            "Epoch 15/20\n",
            "188/188 [==============================] - 1s 5ms/step - loss: 0.2614 - accuracy: 0.9003 - val_loss: 0.3273 - val_accuracy: 0.8818\n",
            "Epoch 16/20\n",
            "188/188 [==============================] - 1s 5ms/step - loss: 0.2538 - accuracy: 0.9030 - val_loss: 0.3315 - val_accuracy: 0.8840\n",
            "Epoch 17/20\n",
            "188/188 [==============================] - 1s 5ms/step - loss: 0.2459 - accuracy: 0.9079 - val_loss: 0.3325 - val_accuracy: 0.8814\n",
            "Epoch 18/20\n",
            "188/188 [==============================] - 1s 5ms/step - loss: 0.2394 - accuracy: 0.9087 - val_loss: 0.3186 - val_accuracy: 0.8848\n",
            "Epoch 19/20\n",
            "188/188 [==============================] - 1s 5ms/step - loss: 0.2336 - accuracy: 0.9112 - val_loss: 0.3107 - val_accuracy: 0.8888\n",
            "Epoch 20/20\n",
            "188/188 [==============================] - 1s 5ms/step - loss: 0.2279 - accuracy: 0.9136 - val_loss: 0.3082 - val_accuracy: 0.8911\n"
          ],
          "name": "stdout"
        },
        {
          "output_type": "display_data",
          "data": {
            "text/html": [
              "<span style=\"color:#4527A0\"><h1 style=\"font-size:18px\">Trial complete</h1></span>"
            ],
            "text/plain": [
              "<IPython.core.display.HTML object>"
            ]
          },
          "metadata": {
            "tags": []
          }
        },
        {
          "output_type": "display_data",
          "data": {
            "text/html": [
              "<span style=\"color:#4527A0\"><h1 style=\"font-size:18px\">Trial summary</h1></span>"
            ],
            "text/plain": [
              "<IPython.core.display.HTML object>"
            ]
          },
          "metadata": {
            "tags": []
          }
        },
        {
          "output_type": "display_data",
          "data": {
            "text/html": [
              "<span style=\"color:cyan\"> |-Trial ID: cb3aa1bf2a868d317fb611acc231f939</span>"
            ],
            "text/plain": [
              "<IPython.core.display.HTML object>"
            ]
          },
          "metadata": {
            "tags": []
          }
        },
        {
          "output_type": "display_data",
          "data": {
            "text/html": [
              "<span style=\"color:cyan\"> |-Score: 0.8910833597183228</span>"
            ],
            "text/plain": [
              "<IPython.core.display.HTML object>"
            ]
          },
          "metadata": {
            "tags": []
          }
        },
        {
          "output_type": "display_data",
          "data": {
            "text/html": [
              "<span style=\"color:cyan\"> |-Best step: 0</span>"
            ],
            "text/plain": [
              "<IPython.core.display.HTML object>"
            ]
          },
          "metadata": {
            "tags": []
          }
        },
        {
          "output_type": "display_data",
          "data": {
            "text/html": [
              "<span style=\"color:#7E57C2\"><h2 style=\"font-size:16px\">Hyperparameters:</h2></span>"
            ],
            "text/plain": [
              "<IPython.core.display.HTML object>"
            ]
          },
          "metadata": {
            "tags": []
          }
        },
        {
          "output_type": "display_data",
          "data": {
            "text/html": [
              "<span style=\"color:cyan\"> |-activation: sigmoid</span>"
            ],
            "text/plain": [
              "<IPython.core.display.HTML object>"
            ]
          },
          "metadata": {
            "tags": []
          }
        },
        {
          "output_type": "display_data",
          "data": {
            "text/html": [
              "<span style=\"color:blue\"> |-optimizer: rmsprop</span>"
            ],
            "text/plain": [
              "<IPython.core.display.HTML object>"
            ]
          },
          "metadata": {
            "tags": []
          }
        },
        {
          "output_type": "display_data",
          "data": {
            "text/html": [
              "<span style=\"color:cyan\"> |-units_hidden: 544</span>"
            ],
            "text/plain": [
              "<IPython.core.display.HTML object>"
            ]
          },
          "metadata": {
            "tags": []
          }
        },
        {
          "output_type": "display_data",
          "data": {
            "text/html": [
              "<span style=\"color:blue\"> |-units_input: 832</span>"
            ],
            "text/plain": [
              "<IPython.core.display.HTML object>"
            ]
          },
          "metadata": {
            "tags": []
          }
        },
        {
          "output_type": "stream",
          "text": [
            "Epoch 1/20\n",
            "188/188 [==============================] - 1s 5ms/step - loss: 0.8550 - accuracy: 0.7235 - val_loss: 0.6222 - val_accuracy: 0.7467\n",
            "Epoch 2/20\n",
            "188/188 [==============================] - 1s 5ms/step - loss: 0.4971 - accuracy: 0.8128 - val_loss: 0.4521 - val_accuracy: 0.8385\n",
            "Epoch 3/20\n",
            "188/188 [==============================] - 1s 5ms/step - loss: 0.4250 - accuracy: 0.8417 - val_loss: 0.4188 - val_accuracy: 0.8468\n",
            "Epoch 4/20\n",
            "188/188 [==============================] - 1s 5ms/step - loss: 0.3807 - accuracy: 0.8554 - val_loss: 0.3959 - val_accuracy: 0.8538\n",
            "Epoch 5/20\n",
            "188/188 [==============================] - 1s 5ms/step - loss: 0.3489 - accuracy: 0.8663 - val_loss: 0.4016 - val_accuracy: 0.8510\n",
            "Epoch 6/20\n",
            "188/188 [==============================] - 1s 5ms/step - loss: 0.3270 - accuracy: 0.8783 - val_loss: 0.3902 - val_accuracy: 0.8613\n",
            "Epoch 7/20\n",
            "188/188 [==============================] - 1s 5ms/step - loss: 0.3082 - accuracy: 0.8829 - val_loss: 0.3580 - val_accuracy: 0.8708\n",
            "Epoch 8/20\n",
            "188/188 [==============================] - 1s 5ms/step - loss: 0.2899 - accuracy: 0.8898 - val_loss: 0.3432 - val_accuracy: 0.8753\n",
            "Epoch 9/20\n",
            "188/188 [==============================] - 1s 5ms/step - loss: 0.2782 - accuracy: 0.8925 - val_loss: 0.3565 - val_accuracy: 0.8727\n",
            "Epoch 10/20\n",
            "188/188 [==============================] - 1s 5ms/step - loss: 0.2668 - accuracy: 0.8982 - val_loss: 0.3863 - val_accuracy: 0.8594\n",
            "Epoch 11/20\n",
            "188/188 [==============================] - 1s 5ms/step - loss: 0.2550 - accuracy: 0.9028 - val_loss: 0.3761 - val_accuracy: 0.8708\n",
            "Epoch 12/20\n",
            "188/188 [==============================] - 1s 5ms/step - loss: 0.2454 - accuracy: 0.9061 - val_loss: 0.3766 - val_accuracy: 0.8725\n",
            "Epoch 13/20\n",
            "188/188 [==============================] - 1s 4ms/step - loss: 0.2348 - accuracy: 0.9090 - val_loss: 0.3546 - val_accuracy: 0.8719\n",
            "Epoch 14/20\n",
            "188/188 [==============================] - 1s 5ms/step - loss: 0.2250 - accuracy: 0.9133 - val_loss: 0.3799 - val_accuracy: 0.8724\n",
            "Epoch 15/20\n",
            "188/188 [==============================] - 1s 4ms/step - loss: 0.2190 - accuracy: 0.9171 - val_loss: 0.4143 - val_accuracy: 0.8676\n",
            "Epoch 16/20\n",
            "188/188 [==============================] - 1s 5ms/step - loss: 0.2101 - accuracy: 0.9189 - val_loss: 0.3644 - val_accuracy: 0.8768\n",
            "Epoch 17/20\n",
            "188/188 [==============================] - 1s 5ms/step - loss: 0.2029 - accuracy: 0.9224 - val_loss: 0.3642 - val_accuracy: 0.8883\n",
            "Epoch 18/20\n",
            "188/188 [==============================] - 1s 5ms/step - loss: 0.1976 - accuracy: 0.9236 - val_loss: 0.3910 - val_accuracy: 0.8739\n",
            "Epoch 19/20\n",
            "188/188 [==============================] - 1s 4ms/step - loss: 0.1889 - accuracy: 0.9277 - val_loss: 0.4134 - val_accuracy: 0.8772\n",
            "Epoch 20/20\n",
            "188/188 [==============================] - 1s 5ms/step - loss: 0.1847 - accuracy: 0.9284 - val_loss: 0.3744 - val_accuracy: 0.8883\n"
          ],
          "name": "stdout"
        },
        {
          "output_type": "display_data",
          "data": {
            "text/html": [
              "<span style=\"color:#4527A0\"><h1 style=\"font-size:18px\">Trial complete</h1></span>"
            ],
            "text/plain": [
              "<IPython.core.display.HTML object>"
            ]
          },
          "metadata": {
            "tags": []
          }
        },
        {
          "output_type": "display_data",
          "data": {
            "text/html": [
              "<span style=\"color:#4527A0\"><h1 style=\"font-size:18px\">Trial summary</h1></span>"
            ],
            "text/plain": [
              "<IPython.core.display.HTML object>"
            ]
          },
          "metadata": {
            "tags": []
          }
        },
        {
          "output_type": "display_data",
          "data": {
            "text/html": [
              "<span style=\"color:cyan\"> |-Trial ID: b3b8750d3714a560665c9d5e5a44e2a2</span>"
            ],
            "text/plain": [
              "<IPython.core.display.HTML object>"
            ]
          },
          "metadata": {
            "tags": []
          }
        },
        {
          "output_type": "display_data",
          "data": {
            "text/html": [
              "<span style=\"color:cyan\"> |-Score: 0.8883333206176758</span>"
            ],
            "text/plain": [
              "<IPython.core.display.HTML object>"
            ]
          },
          "metadata": {
            "tags": []
          }
        },
        {
          "output_type": "display_data",
          "data": {
            "text/html": [
              "<span style=\"color:cyan\"> |-Best step: 0</span>"
            ],
            "text/plain": [
              "<IPython.core.display.HTML object>"
            ]
          },
          "metadata": {
            "tags": []
          }
        },
        {
          "output_type": "display_data",
          "data": {
            "text/html": [
              "<span style=\"color:#7E57C2\"><h2 style=\"font-size:16px\">Hyperparameters:</h2></span>"
            ],
            "text/plain": [
              "<IPython.core.display.HTML object>"
            ]
          },
          "metadata": {
            "tags": []
          }
        },
        {
          "output_type": "display_data",
          "data": {
            "text/html": [
              "<span style=\"color:cyan\"> |-activation: elu</span>"
            ],
            "text/plain": [
              "<IPython.core.display.HTML object>"
            ]
          },
          "metadata": {
            "tags": []
          }
        },
        {
          "output_type": "display_data",
          "data": {
            "text/html": [
              "<span style=\"color:blue\"> |-optimizer: rmsprop</span>"
            ],
            "text/plain": [
              "<IPython.core.display.HTML object>"
            ]
          },
          "metadata": {
            "tags": []
          }
        },
        {
          "output_type": "display_data",
          "data": {
            "text/html": [
              "<span style=\"color:cyan\"> |-units_hidden: 416</span>"
            ],
            "text/plain": [
              "<IPython.core.display.HTML object>"
            ]
          },
          "metadata": {
            "tags": []
          }
        },
        {
          "output_type": "display_data",
          "data": {
            "text/html": [
              "<span style=\"color:blue\"> |-units_input: 800</span>"
            ],
            "text/plain": [
              "<IPython.core.display.HTML object>"
            ]
          },
          "metadata": {
            "tags": []
          }
        },
        {
          "output_type": "stream",
          "text": [
            "Epoch 1/20\n",
            "188/188 [==============================] - 1s 5ms/step - loss: 1.0456 - accuracy: 0.6749 - val_loss: 0.7411 - val_accuracy: 0.7632\n",
            "Epoch 2/20\n",
            "188/188 [==============================] - 1s 4ms/step - loss: 0.6816 - accuracy: 0.7785 - val_loss: 0.6274 - val_accuracy: 0.7943\n",
            "Epoch 3/20\n",
            "188/188 [==============================] - 1s 4ms/step - loss: 0.6025 - accuracy: 0.8014 - val_loss: 0.5752 - val_accuracy: 0.8078\n",
            "Epoch 4/20\n",
            "188/188 [==============================] - 1s 4ms/step - loss: 0.5601 - accuracy: 0.8142 - val_loss: 0.5463 - val_accuracy: 0.8157\n",
            "Epoch 5/20\n",
            "188/188 [==============================] - 1s 4ms/step - loss: 0.5329 - accuracy: 0.8221 - val_loss: 0.5236 - val_accuracy: 0.8181\n",
            "Epoch 6/20\n",
            "188/188 [==============================] - 1s 4ms/step - loss: 0.5129 - accuracy: 0.8267 - val_loss: 0.5097 - val_accuracy: 0.8213\n",
            "Epoch 7/20\n",
            "188/188 [==============================] - 1s 4ms/step - loss: 0.4974 - accuracy: 0.8310 - val_loss: 0.4960 - val_accuracy: 0.8267\n",
            "Epoch 8/20\n",
            "188/188 [==============================] - 1s 4ms/step - loss: 0.4855 - accuracy: 0.8342 - val_loss: 0.4852 - val_accuracy: 0.8292\n",
            "Epoch 9/20\n",
            "188/188 [==============================] - 1s 4ms/step - loss: 0.4762 - accuracy: 0.8373 - val_loss: 0.4806 - val_accuracy: 0.8301\n",
            "Epoch 10/20\n",
            "188/188 [==============================] - 1s 4ms/step - loss: 0.4674 - accuracy: 0.8399 - val_loss: 0.4683 - val_accuracy: 0.8348\n",
            "Epoch 11/20\n",
            "188/188 [==============================] - 1s 4ms/step - loss: 0.4602 - accuracy: 0.8418 - val_loss: 0.4628 - val_accuracy: 0.8362\n",
            "Epoch 12/20\n",
            "188/188 [==============================] - 1s 4ms/step - loss: 0.4545 - accuracy: 0.8432 - val_loss: 0.4591 - val_accuracy: 0.8372\n",
            "Epoch 13/20\n",
            "188/188 [==============================] - 1s 4ms/step - loss: 0.4487 - accuracy: 0.8457 - val_loss: 0.4580 - val_accuracy: 0.8390\n",
            "Epoch 14/20\n",
            "188/188 [==============================] - 1s 4ms/step - loss: 0.4433 - accuracy: 0.8473 - val_loss: 0.4516 - val_accuracy: 0.8418\n",
            "Epoch 15/20\n",
            "188/188 [==============================] - 1s 4ms/step - loss: 0.4397 - accuracy: 0.8478 - val_loss: 0.4520 - val_accuracy: 0.8391\n",
            "Epoch 16/20\n",
            "188/188 [==============================] - 1s 4ms/step - loss: 0.4342 - accuracy: 0.8503 - val_loss: 0.4479 - val_accuracy: 0.8395\n",
            "Epoch 17/20\n",
            "188/188 [==============================] - 1s 4ms/step - loss: 0.4316 - accuracy: 0.8491 - val_loss: 0.4468 - val_accuracy: 0.8412\n",
            "Epoch 18/20\n",
            "188/188 [==============================] - 1s 4ms/step - loss: 0.4271 - accuracy: 0.8518 - val_loss: 0.4452 - val_accuracy: 0.8421\n",
            "Epoch 19/20\n",
            "188/188 [==============================] - 1s 4ms/step - loss: 0.4239 - accuracy: 0.8527 - val_loss: 0.4433 - val_accuracy: 0.8454\n",
            "Epoch 20/20\n",
            "188/188 [==============================] - 1s 4ms/step - loss: 0.4210 - accuracy: 0.8551 - val_loss: 0.4324 - val_accuracy: 0.8471\n"
          ],
          "name": "stdout"
        },
        {
          "output_type": "display_data",
          "data": {
            "text/html": [
              "<span style=\"color:#4527A0\"><h1 style=\"font-size:18px\">Trial complete</h1></span>"
            ],
            "text/plain": [
              "<IPython.core.display.HTML object>"
            ]
          },
          "metadata": {
            "tags": []
          }
        },
        {
          "output_type": "display_data",
          "data": {
            "text/html": [
              "<span style=\"color:#4527A0\"><h1 style=\"font-size:18px\">Trial summary</h1></span>"
            ],
            "text/plain": [
              "<IPython.core.display.HTML object>"
            ]
          },
          "metadata": {
            "tags": []
          }
        },
        {
          "output_type": "display_data",
          "data": {
            "text/html": [
              "<span style=\"color:cyan\"> |-Trial ID: f453f7445b4caf42a468c97e8e14a9f1</span>"
            ],
            "text/plain": [
              "<IPython.core.display.HTML object>"
            ]
          },
          "metadata": {
            "tags": []
          }
        },
        {
          "output_type": "display_data",
          "data": {
            "text/html": [
              "<span style=\"color:cyan\"> |-Score: 0.847083330154419</span>"
            ],
            "text/plain": [
              "<IPython.core.display.HTML object>"
            ]
          },
          "metadata": {
            "tags": []
          }
        },
        {
          "output_type": "display_data",
          "data": {
            "text/html": [
              "<span style=\"color:cyan\"> |-Best step: 0</span>"
            ],
            "text/plain": [
              "<IPython.core.display.HTML object>"
            ]
          },
          "metadata": {
            "tags": []
          }
        },
        {
          "output_type": "display_data",
          "data": {
            "text/html": [
              "<span style=\"color:#7E57C2\"><h2 style=\"font-size:16px\">Hyperparameters:</h2></span>"
            ],
            "text/plain": [
              "<IPython.core.display.HTML object>"
            ]
          },
          "metadata": {
            "tags": []
          }
        },
        {
          "output_type": "display_data",
          "data": {
            "text/html": [
              "<span style=\"color:cyan\"> |-activation: elu</span>"
            ],
            "text/plain": [
              "<IPython.core.display.HTML object>"
            ]
          },
          "metadata": {
            "tags": []
          }
        },
        {
          "output_type": "display_data",
          "data": {
            "text/html": [
              "<span style=\"color:blue\"> |-optimizer: SGD</span>"
            ],
            "text/plain": [
              "<IPython.core.display.HTML object>"
            ]
          },
          "metadata": {
            "tags": []
          }
        },
        {
          "output_type": "display_data",
          "data": {
            "text/html": [
              "<span style=\"color:cyan\"> |-units_hidden: 288</span>"
            ],
            "text/plain": [
              "<IPython.core.display.HTML object>"
            ]
          },
          "metadata": {
            "tags": []
          }
        },
        {
          "output_type": "display_data",
          "data": {
            "text/html": [
              "<span style=\"color:blue\"> |-units_input: 832</span>"
            ],
            "text/plain": [
              "<IPython.core.display.HTML object>"
            ]
          },
          "metadata": {
            "tags": []
          }
        },
        {
          "output_type": "stream",
          "text": [
            "Epoch 1/20\n",
            "188/188 [==============================] - 1s 5ms/step - loss: 0.5178 - accuracy: 0.8159 - val_loss: 0.4192 - val_accuracy: 0.8464\n",
            "Epoch 2/20\n",
            "188/188 [==============================] - 1s 5ms/step - loss: 0.3645 - accuracy: 0.8678 - val_loss: 0.3513 - val_accuracy: 0.8763\n",
            "Epoch 3/20\n",
            "188/188 [==============================] - 1s 5ms/step - loss: 0.3253 - accuracy: 0.8785 - val_loss: 0.3650 - val_accuracy: 0.8655\n",
            "Epoch 4/20\n",
            "188/188 [==============================] - 1s 5ms/step - loss: 0.2963 - accuracy: 0.8894 - val_loss: 0.3544 - val_accuracy: 0.8683\n",
            "Epoch 5/20\n",
            "188/188 [==============================] - 1s 5ms/step - loss: 0.2771 - accuracy: 0.8974 - val_loss: 0.3214 - val_accuracy: 0.8851\n",
            "Epoch 6/20\n",
            "188/188 [==============================] - 1s 5ms/step - loss: 0.2593 - accuracy: 0.9033 - val_loss: 0.3114 - val_accuracy: 0.8885\n",
            "Epoch 7/20\n",
            "188/188 [==============================] - 1s 5ms/step - loss: 0.2469 - accuracy: 0.9085 - val_loss: 0.3300 - val_accuracy: 0.8844\n",
            "Epoch 8/20\n",
            "188/188 [==============================] - 1s 5ms/step - loss: 0.2389 - accuracy: 0.9104 - val_loss: 0.3182 - val_accuracy: 0.8907\n",
            "Epoch 9/20\n",
            "188/188 [==============================] - 1s 5ms/step - loss: 0.2208 - accuracy: 0.9157 - val_loss: 0.3294 - val_accuracy: 0.8824\n",
            "Epoch 10/20\n",
            "188/188 [==============================] - 1s 5ms/step - loss: 0.2183 - accuracy: 0.9171 - val_loss: 0.3208 - val_accuracy: 0.8875\n",
            "Epoch 11/20\n",
            "188/188 [==============================] - 1s 5ms/step - loss: 0.2051 - accuracy: 0.9224 - val_loss: 0.3366 - val_accuracy: 0.8847\n",
            "Epoch 12/20\n",
            "188/188 [==============================] - 1s 5ms/step - loss: 0.1990 - accuracy: 0.9250 - val_loss: 0.3191 - val_accuracy: 0.8923\n",
            "Epoch 13/20\n",
            "188/188 [==============================] - 1s 4ms/step - loss: 0.1900 - accuracy: 0.9281 - val_loss: 0.3588 - val_accuracy: 0.8801\n",
            "Epoch 14/20\n",
            "188/188 [==============================] - 1s 5ms/step - loss: 0.1789 - accuracy: 0.9331 - val_loss: 0.3188 - val_accuracy: 0.8938\n",
            "Epoch 15/20\n",
            "188/188 [==============================] - 1s 4ms/step - loss: 0.1726 - accuracy: 0.9354 - val_loss: 0.3264 - val_accuracy: 0.8935\n",
            "Epoch 16/20\n",
            "188/188 [==============================] - 1s 5ms/step - loss: 0.1692 - accuracy: 0.9354 - val_loss: 0.3131 - val_accuracy: 0.8953\n",
            "Epoch 17/20\n",
            "188/188 [==============================] - 1s 5ms/step - loss: 0.1585 - accuracy: 0.9406 - val_loss: 0.3428 - val_accuracy: 0.8919\n",
            "Epoch 18/20\n",
            "188/188 [==============================] - 1s 5ms/step - loss: 0.1493 - accuracy: 0.9425 - val_loss: 0.3599 - val_accuracy: 0.8890\n",
            "Epoch 19/20\n",
            "188/188 [==============================] - 1s 5ms/step - loss: 0.1524 - accuracy: 0.9418 - val_loss: 0.3414 - val_accuracy: 0.8959\n",
            "Epoch 20/20\n",
            "188/188 [==============================] - 1s 5ms/step - loss: 0.1386 - accuracy: 0.9473 - val_loss: 0.3454 - val_accuracy: 0.8944\n"
          ],
          "name": "stdout"
        },
        {
          "output_type": "display_data",
          "data": {
            "text/html": [
              "<span style=\"color:#4527A0\"><h1 style=\"font-size:18px\">Trial complete</h1></span>"
            ],
            "text/plain": [
              "<IPython.core.display.HTML object>"
            ]
          },
          "metadata": {
            "tags": []
          }
        },
        {
          "output_type": "display_data",
          "data": {
            "text/html": [
              "<span style=\"color:#4527A0\"><h1 style=\"font-size:18px\">Trial summary</h1></span>"
            ],
            "text/plain": [
              "<IPython.core.display.HTML object>"
            ]
          },
          "metadata": {
            "tags": []
          }
        },
        {
          "output_type": "display_data",
          "data": {
            "text/html": [
              "<span style=\"color:cyan\"> |-Trial ID: 1e0e85932cfd49b5cd3c6bda48ca5c9d</span>"
            ],
            "text/plain": [
              "<IPython.core.display.HTML object>"
            ]
          },
          "metadata": {
            "tags": []
          }
        },
        {
          "output_type": "display_data",
          "data": {
            "text/html": [
              "<span style=\"color:cyan\"> |-Score: 0.8959166407585144</span>"
            ],
            "text/plain": [
              "<IPython.core.display.HTML object>"
            ]
          },
          "metadata": {
            "tags": []
          }
        },
        {
          "output_type": "display_data",
          "data": {
            "text/html": [
              "<span style=\"color:cyan\"> |-Best step: 0</span>"
            ],
            "text/plain": [
              "<IPython.core.display.HTML object>"
            ]
          },
          "metadata": {
            "tags": []
          }
        },
        {
          "output_type": "display_data",
          "data": {
            "text/html": [
              "<span style=\"color:#7E57C2\"><h2 style=\"font-size:16px\">Hyperparameters:</h2></span>"
            ],
            "text/plain": [
              "<IPython.core.display.HTML object>"
            ]
          },
          "metadata": {
            "tags": []
          }
        },
        {
          "output_type": "display_data",
          "data": {
            "text/html": [
              "<span style=\"color:cyan\"> |-activation: relu</span>"
            ],
            "text/plain": [
              "<IPython.core.display.HTML object>"
            ]
          },
          "metadata": {
            "tags": []
          }
        },
        {
          "output_type": "display_data",
          "data": {
            "text/html": [
              "<span style=\"color:blue\"> |-optimizer: adam</span>"
            ],
            "text/plain": [
              "<IPython.core.display.HTML object>"
            ]
          },
          "metadata": {
            "tags": []
          }
        },
        {
          "output_type": "display_data",
          "data": {
            "text/html": [
              "<span style=\"color:cyan\"> |-units_hidden: 576</span>"
            ],
            "text/plain": [
              "<IPython.core.display.HTML object>"
            ]
          },
          "metadata": {
            "tags": []
          }
        },
        {
          "output_type": "display_data",
          "data": {
            "text/html": [
              "<span style=\"color:blue\"> |-units_input: 672</span>"
            ],
            "text/plain": [
              "<IPython.core.display.HTML object>"
            ]
          },
          "metadata": {
            "tags": []
          }
        },
        {
          "output_type": "stream",
          "text": [
            "Epoch 1/20\n",
            "188/188 [==============================] - 1s 5ms/step - loss: 0.8454 - accuracy: 0.7211 - val_loss: 0.6377 - val_accuracy: 0.7786\n",
            "Epoch 2/20\n",
            "188/188 [==============================] - 1s 4ms/step - loss: 0.5774 - accuracy: 0.8060 - val_loss: 0.5488 - val_accuracy: 0.8097\n",
            "Epoch 3/20\n",
            "188/188 [==============================] - 1s 4ms/step - loss: 0.5202 - accuracy: 0.8240 - val_loss: 0.5107 - val_accuracy: 0.8186\n",
            "Epoch 4/20\n",
            "188/188 [==============================] - 1s 4ms/step - loss: 0.4910 - accuracy: 0.8318 - val_loss: 0.4945 - val_accuracy: 0.8235\n",
            "Epoch 5/20\n",
            "188/188 [==============================] - 1s 4ms/step - loss: 0.4722 - accuracy: 0.8359 - val_loss: 0.4684 - val_accuracy: 0.8344\n",
            "Epoch 6/20\n",
            "188/188 [==============================] - 1s 4ms/step - loss: 0.4578 - accuracy: 0.8416 - val_loss: 0.4599 - val_accuracy: 0.8348\n",
            "Epoch 7/20\n",
            "188/188 [==============================] - 1s 4ms/step - loss: 0.4473 - accuracy: 0.8450 - val_loss: 0.4570 - val_accuracy: 0.8358\n",
            "Epoch 8/20\n",
            "188/188 [==============================] - 1s 4ms/step - loss: 0.4378 - accuracy: 0.8478 - val_loss: 0.4439 - val_accuracy: 0.8438\n",
            "Epoch 9/20\n",
            "188/188 [==============================] - 1s 4ms/step - loss: 0.4299 - accuracy: 0.8501 - val_loss: 0.4366 - val_accuracy: 0.8469\n",
            "Epoch 10/20\n",
            "188/188 [==============================] - 1s 4ms/step - loss: 0.4228 - accuracy: 0.8529 - val_loss: 0.4352 - val_accuracy: 0.8463\n",
            "Epoch 11/20\n",
            "188/188 [==============================] - 1s 4ms/step - loss: 0.4184 - accuracy: 0.8542 - val_loss: 0.4327 - val_accuracy: 0.8472\n",
            "Epoch 12/20\n",
            "188/188 [==============================] - 1s 4ms/step - loss: 0.4135 - accuracy: 0.8561 - val_loss: 0.4216 - val_accuracy: 0.8529\n",
            "Epoch 13/20\n",
            "188/188 [==============================] - 1s 4ms/step - loss: 0.4087 - accuracy: 0.8562 - val_loss: 0.4219 - val_accuracy: 0.8522\n",
            "Epoch 14/20\n",
            "188/188 [==============================] - 1s 4ms/step - loss: 0.4042 - accuracy: 0.8574 - val_loss: 0.4194 - val_accuracy: 0.8519\n",
            "Epoch 15/20\n",
            "188/188 [==============================] - 1s 4ms/step - loss: 0.4007 - accuracy: 0.8598 - val_loss: 0.4164 - val_accuracy: 0.8529\n",
            "Epoch 16/20\n",
            "188/188 [==============================] - 1s 4ms/step - loss: 0.3970 - accuracy: 0.8608 - val_loss: 0.4138 - val_accuracy: 0.8546\n",
            "Epoch 17/20\n",
            "188/188 [==============================] - 1s 4ms/step - loss: 0.3933 - accuracy: 0.8622 - val_loss: 0.4124 - val_accuracy: 0.8559\n",
            "Epoch 18/20\n",
            "188/188 [==============================] - 1s 4ms/step - loss: 0.3903 - accuracy: 0.8630 - val_loss: 0.4154 - val_accuracy: 0.8528\n",
            "Epoch 19/20\n",
            "188/188 [==============================] - 1s 4ms/step - loss: 0.3873 - accuracy: 0.8631 - val_loss: 0.4018 - val_accuracy: 0.8585\n",
            "Epoch 20/20\n",
            "188/188 [==============================] - 1s 4ms/step - loss: 0.3847 - accuracy: 0.8642 - val_loss: 0.4054 - val_accuracy: 0.8577\n"
          ],
          "name": "stdout"
        },
        {
          "output_type": "display_data",
          "data": {
            "text/html": [
              "<span style=\"color:#4527A0\"><h1 style=\"font-size:18px\">Trial complete</h1></span>"
            ],
            "text/plain": [
              "<IPython.core.display.HTML object>"
            ]
          },
          "metadata": {
            "tags": []
          }
        },
        {
          "output_type": "display_data",
          "data": {
            "text/html": [
              "<span style=\"color:#4527A0\"><h1 style=\"font-size:18px\">Trial summary</h1></span>"
            ],
            "text/plain": [
              "<IPython.core.display.HTML object>"
            ]
          },
          "metadata": {
            "tags": []
          }
        },
        {
          "output_type": "display_data",
          "data": {
            "text/html": [
              "<span style=\"color:cyan\"> |-Trial ID: 1f96091272670af4eded296666380e5a</span>"
            ],
            "text/plain": [
              "<IPython.core.display.HTML object>"
            ]
          },
          "metadata": {
            "tags": []
          }
        },
        {
          "output_type": "display_data",
          "data": {
            "text/html": [
              "<span style=\"color:cyan\"> |-Score: 0.8585000038146973</span>"
            ],
            "text/plain": [
              "<IPython.core.display.HTML object>"
            ]
          },
          "metadata": {
            "tags": []
          }
        },
        {
          "output_type": "display_data",
          "data": {
            "text/html": [
              "<span style=\"color:cyan\"> |-Best step: 0</span>"
            ],
            "text/plain": [
              "<IPython.core.display.HTML object>"
            ]
          },
          "metadata": {
            "tags": []
          }
        },
        {
          "output_type": "display_data",
          "data": {
            "text/html": [
              "<span style=\"color:#7E57C2\"><h2 style=\"font-size:16px\">Hyperparameters:</h2></span>"
            ],
            "text/plain": [
              "<IPython.core.display.HTML object>"
            ]
          },
          "metadata": {
            "tags": []
          }
        },
        {
          "output_type": "display_data",
          "data": {
            "text/html": [
              "<span style=\"color:cyan\"> |-activation: selu</span>"
            ],
            "text/plain": [
              "<IPython.core.display.HTML object>"
            ]
          },
          "metadata": {
            "tags": []
          }
        },
        {
          "output_type": "display_data",
          "data": {
            "text/html": [
              "<span style=\"color:blue\"> |-optimizer: SGD</span>"
            ],
            "text/plain": [
              "<IPython.core.display.HTML object>"
            ]
          },
          "metadata": {
            "tags": []
          }
        },
        {
          "output_type": "display_data",
          "data": {
            "text/html": [
              "<span style=\"color:cyan\"> |-units_hidden: 224</span>"
            ],
            "text/plain": [
              "<IPython.core.display.HTML object>"
            ]
          },
          "metadata": {
            "tags": []
          }
        },
        {
          "output_type": "display_data",
          "data": {
            "text/html": [
              "<span style=\"color:blue\"> |-units_input: 640</span>"
            ],
            "text/plain": [
              "<IPython.core.display.HTML object>"
            ]
          },
          "metadata": {
            "tags": []
          }
        },
        {
          "output_type": "stream",
          "text": [
            "Epoch 1/20\n",
            "188/188 [==============================] - 1s 5ms/step - loss: 0.5634 - accuracy: 0.8018 - val_loss: 0.4287 - val_accuracy: 0.8438\n",
            "Epoch 2/20\n",
            "188/188 [==============================] - 1s 4ms/step - loss: 0.3957 - accuracy: 0.8567 - val_loss: 0.3893 - val_accuracy: 0.8576\n",
            "Epoch 3/20\n",
            "188/188 [==============================] - 1s 4ms/step - loss: 0.3576 - accuracy: 0.8694 - val_loss: 0.3609 - val_accuracy: 0.8682\n",
            "Epoch 4/20\n",
            "188/188 [==============================] - 1s 5ms/step - loss: 0.3407 - accuracy: 0.8747 - val_loss: 0.3584 - val_accuracy: 0.8702\n",
            "Epoch 5/20\n",
            "188/188 [==============================] - 1s 4ms/step - loss: 0.3120 - accuracy: 0.8854 - val_loss: 0.3478 - val_accuracy: 0.8720\n",
            "Epoch 6/20\n",
            "188/188 [==============================] - 1s 4ms/step - loss: 0.2961 - accuracy: 0.8907 - val_loss: 0.3263 - val_accuracy: 0.8844\n",
            "Epoch 7/20\n",
            "188/188 [==============================] - 1s 4ms/step - loss: 0.2855 - accuracy: 0.8931 - val_loss: 0.3295 - val_accuracy: 0.8819\n",
            "Epoch 8/20\n",
            "188/188 [==============================] - 1s 4ms/step - loss: 0.2727 - accuracy: 0.8975 - val_loss: 0.3216 - val_accuracy: 0.8848\n",
            "Epoch 9/20\n",
            "188/188 [==============================] - 1s 5ms/step - loss: 0.2560 - accuracy: 0.9045 - val_loss: 0.3232 - val_accuracy: 0.8892\n",
            "Epoch 10/20\n",
            "188/188 [==============================] - 1s 4ms/step - loss: 0.2505 - accuracy: 0.9055 - val_loss: 0.3116 - val_accuracy: 0.8856\n",
            "Epoch 11/20\n",
            "188/188 [==============================] - 1s 4ms/step - loss: 0.2394 - accuracy: 0.9105 - val_loss: 0.3081 - val_accuracy: 0.8904\n",
            "Epoch 12/20\n",
            "188/188 [==============================] - 1s 5ms/step - loss: 0.2277 - accuracy: 0.9150 - val_loss: 0.3343 - val_accuracy: 0.8846\n",
            "Epoch 13/20\n",
            "188/188 [==============================] - 1s 4ms/step - loss: 0.2219 - accuracy: 0.9168 - val_loss: 0.3329 - val_accuracy: 0.8870\n",
            "Epoch 14/20\n",
            "188/188 [==============================] - 1s 4ms/step - loss: 0.2134 - accuracy: 0.9186 - val_loss: 0.3107 - val_accuracy: 0.8900\n",
            "Epoch 15/20\n",
            "188/188 [==============================] - 1s 4ms/step - loss: 0.2051 - accuracy: 0.9231 - val_loss: 0.3146 - val_accuracy: 0.8917\n",
            "Epoch 16/20\n",
            "188/188 [==============================] - 1s 4ms/step - loss: 0.1912 - accuracy: 0.9281 - val_loss: 0.3321 - val_accuracy: 0.8904\n",
            "Epoch 17/20\n",
            "188/188 [==============================] - 1s 4ms/step - loss: 0.1891 - accuracy: 0.9290 - val_loss: 0.3235 - val_accuracy: 0.8904\n",
            "Epoch 18/20\n",
            "188/188 [==============================] - 1s 4ms/step - loss: 0.1881 - accuracy: 0.9287 - val_loss: 0.3232 - val_accuracy: 0.8932\n",
            "Epoch 19/20\n",
            "188/188 [==============================] - 1s 4ms/step - loss: 0.1724 - accuracy: 0.9344 - val_loss: 0.3193 - val_accuracy: 0.8960\n",
            "Epoch 20/20\n",
            "188/188 [==============================] - 1s 4ms/step - loss: 0.1639 - accuracy: 0.9381 - val_loss: 0.3325 - val_accuracy: 0.8920\n"
          ],
          "name": "stdout"
        },
        {
          "output_type": "display_data",
          "data": {
            "text/html": [
              "<span style=\"color:#4527A0\"><h1 style=\"font-size:18px\">Trial complete</h1></span>"
            ],
            "text/plain": [
              "<IPython.core.display.HTML object>"
            ]
          },
          "metadata": {
            "tags": []
          }
        },
        {
          "output_type": "display_data",
          "data": {
            "text/html": [
              "<span style=\"color:#4527A0\"><h1 style=\"font-size:18px\">Trial summary</h1></span>"
            ],
            "text/plain": [
              "<IPython.core.display.HTML object>"
            ]
          },
          "metadata": {
            "tags": []
          }
        },
        {
          "output_type": "display_data",
          "data": {
            "text/html": [
              "<span style=\"color:cyan\"> |-Trial ID: 4fe13df61cea45f42d67f234bedb8fa8</span>"
            ],
            "text/plain": [
              "<IPython.core.display.HTML object>"
            ]
          },
          "metadata": {
            "tags": []
          }
        },
        {
          "output_type": "display_data",
          "data": {
            "text/html": [
              "<span style=\"color:cyan\"> |-Score: 0.8960000276565552</span>"
            ],
            "text/plain": [
              "<IPython.core.display.HTML object>"
            ]
          },
          "metadata": {
            "tags": []
          }
        },
        {
          "output_type": "display_data",
          "data": {
            "text/html": [
              "<span style=\"color:cyan\"> |-Best step: 0</span>"
            ],
            "text/plain": [
              "<IPython.core.display.HTML object>"
            ]
          },
          "metadata": {
            "tags": []
          }
        },
        {
          "output_type": "display_data",
          "data": {
            "text/html": [
              "<span style=\"color:#7E57C2\"><h2 style=\"font-size:16px\">Hyperparameters:</h2></span>"
            ],
            "text/plain": [
              "<IPython.core.display.HTML object>"
            ]
          },
          "metadata": {
            "tags": []
          }
        },
        {
          "output_type": "display_data",
          "data": {
            "text/html": [
              "<span style=\"color:cyan\"> |-activation: elu</span>"
            ],
            "text/plain": [
              "<IPython.core.display.HTML object>"
            ]
          },
          "metadata": {
            "tags": []
          }
        },
        {
          "output_type": "display_data",
          "data": {
            "text/html": [
              "<span style=\"color:blue\"> |-optimizer: adam</span>"
            ],
            "text/plain": [
              "<IPython.core.display.HTML object>"
            ]
          },
          "metadata": {
            "tags": []
          }
        },
        {
          "output_type": "display_data",
          "data": {
            "text/html": [
              "<span style=\"color:cyan\"> |-units_hidden: 224</span>"
            ],
            "text/plain": [
              "<IPython.core.display.HTML object>"
            ]
          },
          "metadata": {
            "tags": []
          }
        },
        {
          "output_type": "display_data",
          "data": {
            "text/html": [
              "<span style=\"color:blue\"> |-units_input: 832</span>"
            ],
            "text/plain": [
              "<IPython.core.display.HTML object>"
            ]
          },
          "metadata": {
            "tags": []
          }
        },
        {
          "output_type": "stream",
          "text": [
            "Epoch 1/20\n",
            "188/188 [==============================] - 1s 6ms/step - loss: 0.7755 - accuracy: 0.7322 - val_loss: 0.7965 - val_accuracy: 0.7150\n",
            "Epoch 2/20\n",
            "188/188 [==============================] - 1s 5ms/step - loss: 0.4737 - accuracy: 0.8230 - val_loss: 0.4510 - val_accuracy: 0.8313\n",
            "Epoch 3/20\n",
            "188/188 [==============================] - 1s 5ms/step - loss: 0.4053 - accuracy: 0.8471 - val_loss: 0.4492 - val_accuracy: 0.8317\n",
            "Epoch 4/20\n",
            "188/188 [==============================] - 1s 5ms/step - loss: 0.3641 - accuracy: 0.8626 - val_loss: 0.4716 - val_accuracy: 0.8231\n",
            "Epoch 5/20\n",
            "188/188 [==============================] - 1s 5ms/step - loss: 0.3372 - accuracy: 0.8732 - val_loss: 0.3761 - val_accuracy: 0.8656\n",
            "Epoch 6/20\n",
            "188/188 [==============================] - 1s 4ms/step - loss: 0.3155 - accuracy: 0.8825 - val_loss: 0.3875 - val_accuracy: 0.8558\n",
            "Epoch 7/20\n",
            "188/188 [==============================] - 1s 5ms/step - loss: 0.2989 - accuracy: 0.8869 - val_loss: 0.3705 - val_accuracy: 0.8662\n",
            "Epoch 8/20\n",
            "188/188 [==============================] - 1s 4ms/step - loss: 0.2846 - accuracy: 0.8929 - val_loss: 0.3780 - val_accuracy: 0.8604\n",
            "Epoch 9/20\n",
            "188/188 [==============================] - 1s 5ms/step - loss: 0.2692 - accuracy: 0.8997 - val_loss: 0.3467 - val_accuracy: 0.8757\n",
            "Epoch 10/20\n",
            "188/188 [==============================] - 1s 5ms/step - loss: 0.2575 - accuracy: 0.9016 - val_loss: 0.3249 - val_accuracy: 0.8838\n",
            "Epoch 11/20\n",
            "188/188 [==============================] - 1s 5ms/step - loss: 0.2489 - accuracy: 0.9062 - val_loss: 0.3982 - val_accuracy: 0.8511\n",
            "Epoch 12/20\n",
            "188/188 [==============================] - 1s 5ms/step - loss: 0.2355 - accuracy: 0.9104 - val_loss: 0.3182 - val_accuracy: 0.8826\n",
            "Epoch 13/20\n",
            "188/188 [==============================] - 1s 5ms/step - loss: 0.2277 - accuracy: 0.9121 - val_loss: 0.3727 - val_accuracy: 0.8735\n",
            "Epoch 14/20\n",
            "188/188 [==============================] - 1s 4ms/step - loss: 0.2184 - accuracy: 0.9162 - val_loss: 0.3492 - val_accuracy: 0.8733\n",
            "Epoch 15/20\n",
            "188/188 [==============================] - 1s 5ms/step - loss: 0.2117 - accuracy: 0.9200 - val_loss: 0.3235 - val_accuracy: 0.8849\n",
            "Epoch 16/20\n",
            "188/188 [==============================] - 1s 5ms/step - loss: 0.2045 - accuracy: 0.9224 - val_loss: 0.3264 - val_accuracy: 0.8818\n",
            "Epoch 17/20\n",
            "188/188 [==============================] - 1s 5ms/step - loss: 0.1940 - accuracy: 0.9261 - val_loss: 0.3356 - val_accuracy: 0.8844\n",
            "Epoch 18/20\n",
            "188/188 [==============================] - 1s 5ms/step - loss: 0.1903 - accuracy: 0.9275 - val_loss: 0.3517 - val_accuracy: 0.8786\n",
            "Epoch 19/20\n",
            "188/188 [==============================] - 1s 5ms/step - loss: 0.1804 - accuracy: 0.9315 - val_loss: 0.3137 - val_accuracy: 0.8911\n",
            "Epoch 20/20\n",
            "188/188 [==============================] - 1s 5ms/step - loss: 0.1737 - accuracy: 0.9338 - val_loss: 0.3115 - val_accuracy: 0.8943\n"
          ],
          "name": "stdout"
        },
        {
          "output_type": "display_data",
          "data": {
            "text/html": [
              "<span style=\"color:#4527A0\"><h1 style=\"font-size:18px\">Trial complete</h1></span>"
            ],
            "text/plain": [
              "<IPython.core.display.HTML object>"
            ]
          },
          "metadata": {
            "tags": []
          }
        },
        {
          "output_type": "display_data",
          "data": {
            "text/html": [
              "<span style=\"color:#4527A0\"><h1 style=\"font-size:18px\">Trial summary</h1></span>"
            ],
            "text/plain": [
              "<IPython.core.display.HTML object>"
            ]
          },
          "metadata": {
            "tags": []
          }
        },
        {
          "output_type": "display_data",
          "data": {
            "text/html": [
              "<span style=\"color:cyan\"> |-Trial ID: fc008341fd975913445f636e04cece16</span>"
            ],
            "text/plain": [
              "<IPython.core.display.HTML object>"
            ]
          },
          "metadata": {
            "tags": []
          }
        },
        {
          "output_type": "display_data",
          "data": {
            "text/html": [
              "<span style=\"color:cyan\"> |-Score: 0.8943333625793457</span>"
            ],
            "text/plain": [
              "<IPython.core.display.HTML object>"
            ]
          },
          "metadata": {
            "tags": []
          }
        },
        {
          "output_type": "display_data",
          "data": {
            "text/html": [
              "<span style=\"color:cyan\"> |-Best step: 0</span>"
            ],
            "text/plain": [
              "<IPython.core.display.HTML object>"
            ]
          },
          "metadata": {
            "tags": []
          }
        },
        {
          "output_type": "display_data",
          "data": {
            "text/html": [
              "<span style=\"color:#7E57C2\"><h2 style=\"font-size:16px\">Hyperparameters:</h2></span>"
            ],
            "text/plain": [
              "<IPython.core.display.HTML object>"
            ]
          },
          "metadata": {
            "tags": []
          }
        },
        {
          "output_type": "display_data",
          "data": {
            "text/html": [
              "<span style=\"color:cyan\"> |-activation: tanh</span>"
            ],
            "text/plain": [
              "<IPython.core.display.HTML object>"
            ]
          },
          "metadata": {
            "tags": []
          }
        },
        {
          "output_type": "display_data",
          "data": {
            "text/html": [
              "<span style=\"color:blue\"> |-optimizer: rmsprop</span>"
            ],
            "text/plain": [
              "<IPython.core.display.HTML object>"
            ]
          },
          "metadata": {
            "tags": []
          }
        },
        {
          "output_type": "display_data",
          "data": {
            "text/html": [
              "<span style=\"color:cyan\"> |-units_hidden: 416</span>"
            ],
            "text/plain": [
              "<IPython.core.display.HTML object>"
            ]
          },
          "metadata": {
            "tags": []
          }
        },
        {
          "output_type": "display_data",
          "data": {
            "text/html": [
              "<span style=\"color:blue\"> |-units_input: 896</span>"
            ],
            "text/plain": [
              "<IPython.core.display.HTML object>"
            ]
          },
          "metadata": {
            "tags": []
          }
        },
        {
          "output_type": "stream",
          "text": [
            "Epoch 1/20\n",
            "188/188 [==============================] - 1s 5ms/step - loss: 0.7670 - accuracy: 0.7498 - val_loss: 0.5019 - val_accuracy: 0.8194\n",
            "Epoch 2/20\n",
            "188/188 [==============================] - 1s 5ms/step - loss: 0.4558 - accuracy: 0.8377 - val_loss: 0.4226 - val_accuracy: 0.8494\n",
            "Epoch 3/20\n",
            "188/188 [==============================] - 1s 5ms/step - loss: 0.4053 - accuracy: 0.8569 - val_loss: 0.4036 - val_accuracy: 0.8546\n",
            "Epoch 4/20\n",
            "188/188 [==============================] - 1s 4ms/step - loss: 0.3805 - accuracy: 0.8630 - val_loss: 0.3915 - val_accuracy: 0.8568\n",
            "Epoch 5/20\n",
            "188/188 [==============================] - 1s 5ms/step - loss: 0.3622 - accuracy: 0.8694 - val_loss: 0.3626 - val_accuracy: 0.8693\n",
            "Epoch 6/20\n",
            "188/188 [==============================] - 1s 5ms/step - loss: 0.3464 - accuracy: 0.8740 - val_loss: 0.3527 - val_accuracy: 0.8719\n",
            "Epoch 7/20\n",
            "188/188 [==============================] - 1s 4ms/step - loss: 0.3337 - accuracy: 0.8795 - val_loss: 0.3509 - val_accuracy: 0.8698\n",
            "Epoch 8/20\n",
            "188/188 [==============================] - 1s 4ms/step - loss: 0.3190 - accuracy: 0.8841 - val_loss: 0.3529 - val_accuracy: 0.8714\n",
            "Epoch 9/20\n",
            "188/188 [==============================] - 1s 4ms/step - loss: 0.3114 - accuracy: 0.8869 - val_loss: 0.3368 - val_accuracy: 0.8756\n",
            "Epoch 10/20\n",
            "188/188 [==============================] - 1s 4ms/step - loss: 0.3002 - accuracy: 0.8911 - val_loss: 0.3303 - val_accuracy: 0.8778\n",
            "Epoch 11/20\n",
            "188/188 [==============================] - 1s 4ms/step - loss: 0.2925 - accuracy: 0.8938 - val_loss: 0.3271 - val_accuracy: 0.8792\n",
            "Epoch 12/20\n",
            "188/188 [==============================] - 1s 5ms/step - loss: 0.2835 - accuracy: 0.8957 - val_loss: 0.3245 - val_accuracy: 0.8801\n",
            "Epoch 13/20\n",
            "188/188 [==============================] - 1s 4ms/step - loss: 0.2749 - accuracy: 0.9001 - val_loss: 0.3116 - val_accuracy: 0.8857\n",
            "Epoch 14/20\n",
            "188/188 [==============================] - 1s 4ms/step - loss: 0.2689 - accuracy: 0.9021 - val_loss: 0.3190 - val_accuracy: 0.8827\n",
            "Epoch 15/20\n",
            "188/188 [==============================] - 1s 4ms/step - loss: 0.2620 - accuracy: 0.9034 - val_loss: 0.3341 - val_accuracy: 0.8777\n",
            "Epoch 16/20\n",
            "188/188 [==============================] - 1s 5ms/step - loss: 0.2515 - accuracy: 0.9079 - val_loss: 0.3015 - val_accuracy: 0.8887\n",
            "Epoch 17/20\n",
            "188/188 [==============================] - 1s 4ms/step - loss: 0.2445 - accuracy: 0.9107 - val_loss: 0.3086 - val_accuracy: 0.8878\n",
            "Epoch 18/20\n",
            "188/188 [==============================] - 1s 5ms/step - loss: 0.2403 - accuracy: 0.9117 - val_loss: 0.3028 - val_accuracy: 0.8888\n",
            "Epoch 19/20\n",
            "188/188 [==============================] - 1s 5ms/step - loss: 0.2332 - accuracy: 0.9148 - val_loss: 0.2963 - val_accuracy: 0.8914\n",
            "Epoch 20/20\n",
            "188/188 [==============================] - 1s 5ms/step - loss: 0.2246 - accuracy: 0.9174 - val_loss: 0.2952 - val_accuracy: 0.8928\n"
          ],
          "name": "stdout"
        },
        {
          "output_type": "display_data",
          "data": {
            "text/html": [
              "<span style=\"color:#4527A0\"><h1 style=\"font-size:18px\">Trial complete</h1></span>"
            ],
            "text/plain": [
              "<IPython.core.display.HTML object>"
            ]
          },
          "metadata": {
            "tags": []
          }
        },
        {
          "output_type": "display_data",
          "data": {
            "text/html": [
              "<span style=\"color:#4527A0\"><h1 style=\"font-size:18px\">Trial summary</h1></span>"
            ],
            "text/plain": [
              "<IPython.core.display.HTML object>"
            ]
          },
          "metadata": {
            "tags": []
          }
        },
        {
          "output_type": "display_data",
          "data": {
            "text/html": [
              "<span style=\"color:cyan\"> |-Trial ID: e33cef303ec9da6278c81d517f1df729</span>"
            ],
            "text/plain": [
              "<IPython.core.display.HTML object>"
            ]
          },
          "metadata": {
            "tags": []
          }
        },
        {
          "output_type": "display_data",
          "data": {
            "text/html": [
              "<span style=\"color:cyan\"> |-Score: 0.8927500247955322</span>"
            ],
            "text/plain": [
              "<IPython.core.display.HTML object>"
            ]
          },
          "metadata": {
            "tags": []
          }
        },
        {
          "output_type": "display_data",
          "data": {
            "text/html": [
              "<span style=\"color:cyan\"> |-Best step: 0</span>"
            ],
            "text/plain": [
              "<IPython.core.display.HTML object>"
            ]
          },
          "metadata": {
            "tags": []
          }
        },
        {
          "output_type": "display_data",
          "data": {
            "text/html": [
              "<span style=\"color:#7E57C2\"><h2 style=\"font-size:16px\">Hyperparameters:</h2></span>"
            ],
            "text/plain": [
              "<IPython.core.display.HTML object>"
            ]
          },
          "metadata": {
            "tags": []
          }
        },
        {
          "output_type": "display_data",
          "data": {
            "text/html": [
              "<span style=\"color:cyan\"> |-activation: sigmoid</span>"
            ],
            "text/plain": [
              "<IPython.core.display.HTML object>"
            ]
          },
          "metadata": {
            "tags": []
          }
        },
        {
          "output_type": "display_data",
          "data": {
            "text/html": [
              "<span style=\"color:blue\"> |-optimizer: adam</span>"
            ],
            "text/plain": [
              "<IPython.core.display.HTML object>"
            ]
          },
          "metadata": {
            "tags": []
          }
        },
        {
          "output_type": "display_data",
          "data": {
            "text/html": [
              "<span style=\"color:cyan\"> |-units_hidden: 128</span>"
            ],
            "text/plain": [
              "<IPython.core.display.HTML object>"
            ]
          },
          "metadata": {
            "tags": []
          }
        },
        {
          "output_type": "display_data",
          "data": {
            "text/html": [
              "<span style=\"color:blue\"> |-units_input: 1024</span>"
            ],
            "text/plain": [
              "<IPython.core.display.HTML object>"
            ]
          },
          "metadata": {
            "tags": []
          }
        },
        {
          "output_type": "stream",
          "text": [
            "Epoch 1/20\n",
            "188/188 [==============================] - 1s 6ms/step - loss: 0.7867 - accuracy: 0.7278 - val_loss: 0.5842 - val_accuracy: 0.7906\n",
            "Epoch 2/20\n",
            "188/188 [==============================] - 1s 5ms/step - loss: 0.4709 - accuracy: 0.8236 - val_loss: 0.4445 - val_accuracy: 0.8357\n",
            "Epoch 3/20\n",
            "188/188 [==============================] - 1s 5ms/step - loss: 0.4063 - accuracy: 0.8473 - val_loss: 0.3912 - val_accuracy: 0.8504\n",
            "Epoch 4/20\n",
            "188/188 [==============================] - 1s 5ms/step - loss: 0.3663 - accuracy: 0.8618 - val_loss: 0.3951 - val_accuracy: 0.8531\n",
            "Epoch 5/20\n",
            "188/188 [==============================] - 1s 4ms/step - loss: 0.3354 - accuracy: 0.8730 - val_loss: 0.4130 - val_accuracy: 0.8410\n",
            "Epoch 6/20\n",
            "188/188 [==============================] - 1s 5ms/step - loss: 0.3170 - accuracy: 0.8796 - val_loss: 0.3874 - val_accuracy: 0.8577\n",
            "Epoch 7/20\n",
            "188/188 [==============================] - 1s 5ms/step - loss: 0.2985 - accuracy: 0.8860 - val_loss: 0.3311 - val_accuracy: 0.8787\n",
            "Epoch 8/20\n",
            "188/188 [==============================] - 1s 5ms/step - loss: 0.2845 - accuracy: 0.8911 - val_loss: 0.3446 - val_accuracy: 0.8728\n",
            "Epoch 9/20\n",
            "188/188 [==============================] - 1s 5ms/step - loss: 0.2716 - accuracy: 0.8973 - val_loss: 0.3241 - val_accuracy: 0.8815\n",
            "Epoch 10/20\n",
            "188/188 [==============================] - 1s 5ms/step - loss: 0.2585 - accuracy: 0.9022 - val_loss: 0.3631 - val_accuracy: 0.8634\n",
            "Epoch 11/20\n",
            "188/188 [==============================] - 1s 5ms/step - loss: 0.2471 - accuracy: 0.9056 - val_loss: 0.3405 - val_accuracy: 0.8798\n",
            "Epoch 12/20\n",
            "188/188 [==============================] - 1s 5ms/step - loss: 0.2367 - accuracy: 0.9099 - val_loss: 0.3107 - val_accuracy: 0.8877\n",
            "Epoch 13/20\n",
            "188/188 [==============================] - 1s 5ms/step - loss: 0.2268 - accuracy: 0.9141 - val_loss: 0.3165 - val_accuracy: 0.8832\n",
            "Epoch 14/20\n",
            "188/188 [==============================] - 1s 5ms/step - loss: 0.2189 - accuracy: 0.9167 - val_loss: 0.3466 - val_accuracy: 0.8789\n",
            "Epoch 15/20\n",
            "188/188 [==============================] - 1s 5ms/step - loss: 0.2111 - accuracy: 0.9194 - val_loss: 0.3640 - val_accuracy: 0.8660\n",
            "Epoch 16/20\n",
            "188/188 [==============================] - 1s 5ms/step - loss: 0.2049 - accuracy: 0.9226 - val_loss: 0.3718 - val_accuracy: 0.8658\n",
            "Epoch 17/20\n",
            "188/188 [==============================] - 1s 5ms/step - loss: 0.1972 - accuracy: 0.9235 - val_loss: 0.3343 - val_accuracy: 0.8813\n",
            "Epoch 18/20\n",
            "188/188 [==============================] - 1s 4ms/step - loss: 0.1876 - accuracy: 0.9299 - val_loss: 0.3260 - val_accuracy: 0.8831\n",
            "Epoch 19/20\n",
            "188/188 [==============================] - 1s 4ms/step - loss: 0.1809 - accuracy: 0.9305 - val_loss: 0.3368 - val_accuracy: 0.8877\n",
            "Epoch 20/20\n",
            "188/188 [==============================] - 1s 5ms/step - loss: 0.1754 - accuracy: 0.9344 - val_loss: 0.3111 - val_accuracy: 0.8920\n"
          ],
          "name": "stdout"
        },
        {
          "output_type": "display_data",
          "data": {
            "text/html": [
              "<span style=\"color:#4527A0\"><h1 style=\"font-size:18px\">Trial complete</h1></span>"
            ],
            "text/plain": [
              "<IPython.core.display.HTML object>"
            ]
          },
          "metadata": {
            "tags": []
          }
        },
        {
          "output_type": "display_data",
          "data": {
            "text/html": [
              "<span style=\"color:#4527A0\"><h1 style=\"font-size:18px\">Trial summary</h1></span>"
            ],
            "text/plain": [
              "<IPython.core.display.HTML object>"
            ]
          },
          "metadata": {
            "tags": []
          }
        },
        {
          "output_type": "display_data",
          "data": {
            "text/html": [
              "<span style=\"color:cyan\"> |-Trial ID: 59df32964e97786f327a97cdac1c92ec</span>"
            ],
            "text/plain": [
              "<IPython.core.display.HTML object>"
            ]
          },
          "metadata": {
            "tags": []
          }
        },
        {
          "output_type": "display_data",
          "data": {
            "text/html": [
              "<span style=\"color:cyan\"> |-Score: 0.8920000195503235</span>"
            ],
            "text/plain": [
              "<IPython.core.display.HTML object>"
            ]
          },
          "metadata": {
            "tags": []
          }
        },
        {
          "output_type": "display_data",
          "data": {
            "text/html": [
              "<span style=\"color:cyan\"> |-Best step: 0</span>"
            ],
            "text/plain": [
              "<IPython.core.display.HTML object>"
            ]
          },
          "metadata": {
            "tags": []
          }
        },
        {
          "output_type": "display_data",
          "data": {
            "text/html": [
              "<span style=\"color:#7E57C2\"><h2 style=\"font-size:16px\">Hyperparameters:</h2></span>"
            ],
            "text/plain": [
              "<IPython.core.display.HTML object>"
            ]
          },
          "metadata": {
            "tags": []
          }
        },
        {
          "output_type": "display_data",
          "data": {
            "text/html": [
              "<span style=\"color:cyan\"> |-activation: tanh</span>"
            ],
            "text/plain": [
              "<IPython.core.display.HTML object>"
            ]
          },
          "metadata": {
            "tags": []
          }
        },
        {
          "output_type": "display_data",
          "data": {
            "text/html": [
              "<span style=\"color:blue\"> |-optimizer: rmsprop</span>"
            ],
            "text/plain": [
              "<IPython.core.display.HTML object>"
            ]
          },
          "metadata": {
            "tags": []
          }
        },
        {
          "output_type": "display_data",
          "data": {
            "text/html": [
              "<span style=\"color:cyan\"> |-units_hidden: 448</span>"
            ],
            "text/plain": [
              "<IPython.core.display.HTML object>"
            ]
          },
          "metadata": {
            "tags": []
          }
        },
        {
          "output_type": "display_data",
          "data": {
            "text/html": [
              "<span style=\"color:blue\"> |-units_input: 960</span>"
            ],
            "text/plain": [
              "<IPython.core.display.HTML object>"
            ]
          },
          "metadata": {
            "tags": []
          }
        },
        {
          "output_type": "stream",
          "text": [
            "Epoch 1/20\n",
            "188/188 [==============================] - 1s 4ms/step - loss: 1.0771 - accuracy: 0.6747 - val_loss: 0.7575 - val_accuracy: 0.7531\n",
            "Epoch 2/20\n",
            "188/188 [==============================] - 1s 4ms/step - loss: 0.6935 - accuracy: 0.7766 - val_loss: 0.6369 - val_accuracy: 0.7875\n",
            "Epoch 3/20\n",
            "188/188 [==============================] - 1s 4ms/step - loss: 0.6098 - accuracy: 0.7999 - val_loss: 0.5825 - val_accuracy: 0.8027\n",
            "Epoch 4/20\n",
            "188/188 [==============================] - 1s 4ms/step - loss: 0.5649 - accuracy: 0.8122 - val_loss: 0.5501 - val_accuracy: 0.8108\n",
            "Epoch 5/20\n",
            "188/188 [==============================] - 1s 4ms/step - loss: 0.5359 - accuracy: 0.8207 - val_loss: 0.5294 - val_accuracy: 0.8182\n",
            "Epoch 6/20\n",
            "188/188 [==============================] - 1s 4ms/step - loss: 0.5156 - accuracy: 0.8256 - val_loss: 0.5137 - val_accuracy: 0.8215\n",
            "Epoch 7/20\n",
            "188/188 [==============================] - 1s 4ms/step - loss: 0.4999 - accuracy: 0.8299 - val_loss: 0.5008 - val_accuracy: 0.8265\n",
            "Epoch 8/20\n",
            "188/188 [==============================] - 1s 4ms/step - loss: 0.4878 - accuracy: 0.8336 - val_loss: 0.4893 - val_accuracy: 0.8281\n",
            "Epoch 9/20\n",
            "188/188 [==============================] - 1s 4ms/step - loss: 0.4778 - accuracy: 0.8364 - val_loss: 0.4876 - val_accuracy: 0.8273\n",
            "Epoch 10/20\n",
            "188/188 [==============================] - 1s 4ms/step - loss: 0.4691 - accuracy: 0.8391 - val_loss: 0.4761 - val_accuracy: 0.8307\n",
            "Epoch 11/20\n",
            "188/188 [==============================] - 1s 4ms/step - loss: 0.4622 - accuracy: 0.8411 - val_loss: 0.4729 - val_accuracy: 0.8299\n",
            "Epoch 12/20\n",
            "188/188 [==============================] - 1s 4ms/step - loss: 0.4555 - accuracy: 0.8435 - val_loss: 0.4617 - val_accuracy: 0.8382\n",
            "Epoch 13/20\n",
            "188/188 [==============================] - 1s 4ms/step - loss: 0.4503 - accuracy: 0.8441 - val_loss: 0.4583 - val_accuracy: 0.8378\n",
            "Epoch 14/20\n",
            "188/188 [==============================] - 1s 4ms/step - loss: 0.4454 - accuracy: 0.8467 - val_loss: 0.4565 - val_accuracy: 0.8380\n",
            "Epoch 15/20\n",
            "188/188 [==============================] - 1s 4ms/step - loss: 0.4412 - accuracy: 0.8469 - val_loss: 0.4515 - val_accuracy: 0.8385\n",
            "Epoch 16/20\n",
            "188/188 [==============================] - 1s 4ms/step - loss: 0.4366 - accuracy: 0.8492 - val_loss: 0.4594 - val_accuracy: 0.8360\n",
            "Epoch 17/20\n",
            "188/188 [==============================] - 1s 4ms/step - loss: 0.4335 - accuracy: 0.8501 - val_loss: 0.4440 - val_accuracy: 0.8440\n",
            "Epoch 18/20\n",
            "188/188 [==============================] - 1s 4ms/step - loss: 0.4293 - accuracy: 0.8512 - val_loss: 0.4388 - val_accuracy: 0.8449\n",
            "Epoch 19/20\n",
            "188/188 [==============================] - 1s 4ms/step - loss: 0.4263 - accuracy: 0.8515 - val_loss: 0.4368 - val_accuracy: 0.8447\n",
            "Epoch 20/20\n",
            "188/188 [==============================] - 1s 4ms/step - loss: 0.4237 - accuracy: 0.8525 - val_loss: 0.4415 - val_accuracy: 0.8409\n"
          ],
          "name": "stdout"
        },
        {
          "output_type": "display_data",
          "data": {
            "text/html": [
              "<span style=\"color:#4527A0\"><h1 style=\"font-size:18px\">Trial complete</h1></span>"
            ],
            "text/plain": [
              "<IPython.core.display.HTML object>"
            ]
          },
          "metadata": {
            "tags": []
          }
        },
        {
          "output_type": "display_data",
          "data": {
            "text/html": [
              "<span style=\"color:#4527A0\"><h1 style=\"font-size:18px\">Trial summary</h1></span>"
            ],
            "text/plain": [
              "<IPython.core.display.HTML object>"
            ]
          },
          "metadata": {
            "tags": []
          }
        },
        {
          "output_type": "display_data",
          "data": {
            "text/html": [
              "<span style=\"color:cyan\"> |-Trial ID: 4bb571521e605d7941b8ec685fdacff4</span>"
            ],
            "text/plain": [
              "<IPython.core.display.HTML object>"
            ]
          },
          "metadata": {
            "tags": []
          }
        },
        {
          "output_type": "display_data",
          "data": {
            "text/html": [
              "<span style=\"color:cyan\"> |-Score: 0.8449166417121887</span>"
            ],
            "text/plain": [
              "<IPython.core.display.HTML object>"
            ]
          },
          "metadata": {
            "tags": []
          }
        },
        {
          "output_type": "display_data",
          "data": {
            "text/html": [
              "<span style=\"color:cyan\"> |-Best step: 0</span>"
            ],
            "text/plain": [
              "<IPython.core.display.HTML object>"
            ]
          },
          "metadata": {
            "tags": []
          }
        },
        {
          "output_type": "display_data",
          "data": {
            "text/html": [
              "<span style=\"color:#7E57C2\"><h2 style=\"font-size:16px\">Hyperparameters:</h2></span>"
            ],
            "text/plain": [
              "<IPython.core.display.HTML object>"
            ]
          },
          "metadata": {
            "tags": []
          }
        },
        {
          "output_type": "display_data",
          "data": {
            "text/html": [
              "<span style=\"color:cyan\"> |-activation: elu</span>"
            ],
            "text/plain": [
              "<IPython.core.display.HTML object>"
            ]
          },
          "metadata": {
            "tags": []
          }
        },
        {
          "output_type": "display_data",
          "data": {
            "text/html": [
              "<span style=\"color:blue\"> |-optimizer: SGD</span>"
            ],
            "text/plain": [
              "<IPython.core.display.HTML object>"
            ]
          },
          "metadata": {
            "tags": []
          }
        },
        {
          "output_type": "display_data",
          "data": {
            "text/html": [
              "<span style=\"color:cyan\"> |-units_hidden: 352</span>"
            ],
            "text/plain": [
              "<IPython.core.display.HTML object>"
            ]
          },
          "metadata": {
            "tags": []
          }
        },
        {
          "output_type": "display_data",
          "data": {
            "text/html": [
              "<span style=\"color:blue\"> |-units_input: 608</span>"
            ],
            "text/plain": [
              "<IPython.core.display.HTML object>"
            ]
          },
          "metadata": {
            "tags": []
          }
        },
        {
          "output_type": "stream",
          "text": [
            "Epoch 1/20\n",
            "188/188 [==============================] - 1s 5ms/step - loss: 0.8579 - accuracy: 0.7188 - val_loss: 0.6494 - val_accuracy: 0.7466\n",
            "Epoch 2/20\n",
            "188/188 [==============================] - 1s 5ms/step - loss: 0.5152 - accuracy: 0.8087 - val_loss: 0.4561 - val_accuracy: 0.8284\n",
            "Epoch 3/20\n",
            "188/188 [==============================] - 1s 4ms/step - loss: 0.4360 - accuracy: 0.8378 - val_loss: 0.5384 - val_accuracy: 0.8158\n",
            "Epoch 4/20\n",
            "188/188 [==============================] - 1s 5ms/step - loss: 0.3850 - accuracy: 0.8547 - val_loss: 0.4417 - val_accuracy: 0.8338\n",
            "Epoch 5/20\n",
            "188/188 [==============================] - 1s 5ms/step - loss: 0.3543 - accuracy: 0.8665 - val_loss: 0.4884 - val_accuracy: 0.8244\n",
            "Epoch 6/20\n",
            "188/188 [==============================] - 1s 5ms/step - loss: 0.3291 - accuracy: 0.8755 - val_loss: 0.3745 - val_accuracy: 0.8663\n",
            "Epoch 7/20\n",
            "188/188 [==============================] - 1s 5ms/step - loss: 0.3094 - accuracy: 0.8833 - val_loss: 0.3899 - val_accuracy: 0.8560\n",
            "Epoch 8/20\n",
            "188/188 [==============================] - 1s 4ms/step - loss: 0.2958 - accuracy: 0.8868 - val_loss: 0.3817 - val_accuracy: 0.8630\n",
            "Epoch 9/20\n",
            "188/188 [==============================] - 1s 5ms/step - loss: 0.2801 - accuracy: 0.8931 - val_loss: 0.3387 - val_accuracy: 0.8813\n",
            "Epoch 10/20\n",
            "188/188 [==============================] - 1s 5ms/step - loss: 0.2680 - accuracy: 0.8981 - val_loss: 0.4346 - val_accuracy: 0.8529\n",
            "Epoch 11/20\n",
            "188/188 [==============================] - 1s 4ms/step - loss: 0.2562 - accuracy: 0.9022 - val_loss: 0.3603 - val_accuracy: 0.8679\n",
            "Epoch 12/20\n",
            "188/188 [==============================] - 1s 4ms/step - loss: 0.2453 - accuracy: 0.9049 - val_loss: 0.3857 - val_accuracy: 0.8721\n",
            "Epoch 13/20\n",
            "188/188 [==============================] - 1s 5ms/step - loss: 0.2362 - accuracy: 0.9104 - val_loss: 0.3777 - val_accuracy: 0.8737\n",
            "Epoch 14/20\n",
            "188/188 [==============================] - 1s 5ms/step - loss: 0.2251 - accuracy: 0.9143 - val_loss: 0.4195 - val_accuracy: 0.8633\n",
            "Epoch 15/20\n",
            "188/188 [==============================] - 1s 5ms/step - loss: 0.2199 - accuracy: 0.9158 - val_loss: 0.3787 - val_accuracy: 0.8833\n",
            "Epoch 16/20\n",
            "188/188 [==============================] - 1s 5ms/step - loss: 0.2106 - accuracy: 0.9187 - val_loss: 0.3719 - val_accuracy: 0.8794\n",
            "Epoch 17/20\n",
            "188/188 [==============================] - 1s 5ms/step - loss: 0.2007 - accuracy: 0.9239 - val_loss: 0.4096 - val_accuracy: 0.8761\n",
            "Epoch 18/20\n",
            "188/188 [==============================] - 1s 5ms/step - loss: 0.1927 - accuracy: 0.9258 - val_loss: 0.3530 - val_accuracy: 0.8897\n",
            "Epoch 19/20\n",
            "188/188 [==============================] - 1s 5ms/step - loss: 0.1894 - accuracy: 0.9274 - val_loss: 0.3637 - val_accuracy: 0.8856\n",
            "Epoch 20/20\n",
            "188/188 [==============================] - 1s 4ms/step - loss: 0.1812 - accuracy: 0.9302 - val_loss: 0.4279 - val_accuracy: 0.8673\n"
          ],
          "name": "stdout"
        },
        {
          "output_type": "display_data",
          "data": {
            "text/html": [
              "<span style=\"color:#4527A0\"><h1 style=\"font-size:18px\">Trial complete</h1></span>"
            ],
            "text/plain": [
              "<IPython.core.display.HTML object>"
            ]
          },
          "metadata": {
            "tags": []
          }
        },
        {
          "output_type": "display_data",
          "data": {
            "text/html": [
              "<span style=\"color:#4527A0\"><h1 style=\"font-size:18px\">Trial summary</h1></span>"
            ],
            "text/plain": [
              "<IPython.core.display.HTML object>"
            ]
          },
          "metadata": {
            "tags": []
          }
        },
        {
          "output_type": "display_data",
          "data": {
            "text/html": [
              "<span style=\"color:cyan\"> |-Trial ID: 98c33a5efb0e27fe7a2731db42282431</span>"
            ],
            "text/plain": [
              "<IPython.core.display.HTML object>"
            ]
          },
          "metadata": {
            "tags": []
          }
        },
        {
          "output_type": "display_data",
          "data": {
            "text/html": [
              "<span style=\"color:cyan\"> |-Score: 0.8896666765213013</span>"
            ],
            "text/plain": [
              "<IPython.core.display.HTML object>"
            ]
          },
          "metadata": {
            "tags": []
          }
        },
        {
          "output_type": "display_data",
          "data": {
            "text/html": [
              "<span style=\"color:cyan\"> |-Best step: 0</span>"
            ],
            "text/plain": [
              "<IPython.core.display.HTML object>"
            ]
          },
          "metadata": {
            "tags": []
          }
        },
        {
          "output_type": "display_data",
          "data": {
            "text/html": [
              "<span style=\"color:#7E57C2\"><h2 style=\"font-size:16px\">Hyperparameters:</h2></span>"
            ],
            "text/plain": [
              "<IPython.core.display.HTML object>"
            ]
          },
          "metadata": {
            "tags": []
          }
        },
        {
          "output_type": "display_data",
          "data": {
            "text/html": [
              "<span style=\"color:cyan\"> |-activation: elu</span>"
            ],
            "text/plain": [
              "<IPython.core.display.HTML object>"
            ]
          },
          "metadata": {
            "tags": []
          }
        },
        {
          "output_type": "display_data",
          "data": {
            "text/html": [
              "<span style=\"color:blue\"> |-optimizer: rmsprop</span>"
            ],
            "text/plain": [
              "<IPython.core.display.HTML object>"
            ]
          },
          "metadata": {
            "tags": []
          }
        },
        {
          "output_type": "display_data",
          "data": {
            "text/html": [
              "<span style=\"color:cyan\"> |-units_hidden: 480</span>"
            ],
            "text/plain": [
              "<IPython.core.display.HTML object>"
            ]
          },
          "metadata": {
            "tags": []
          }
        },
        {
          "output_type": "display_data",
          "data": {
            "text/html": [
              "<span style=\"color:blue\"> |-units_input: 768</span>"
            ],
            "text/plain": [
              "<IPython.core.display.HTML object>"
            ]
          },
          "metadata": {
            "tags": []
          }
        },
        {
          "output_type": "stream",
          "text": [
            "Epoch 1/20\n",
            "188/188 [==============================] - 1s 5ms/step - loss: 0.7725 - accuracy: 0.7340 - val_loss: 0.4902 - val_accuracy: 0.8288\n",
            "Epoch 2/20\n",
            "188/188 [==============================] - 1s 5ms/step - loss: 0.4560 - accuracy: 0.8375 - val_loss: 0.4244 - val_accuracy: 0.8493\n",
            "Epoch 3/20\n",
            "188/188 [==============================] - 1s 4ms/step - loss: 0.4081 - accuracy: 0.8541 - val_loss: 0.4056 - val_accuracy: 0.8539\n",
            "Epoch 4/20\n",
            "188/188 [==============================] - 1s 4ms/step - loss: 0.3861 - accuracy: 0.8601 - val_loss: 0.3972 - val_accuracy: 0.8533\n",
            "Epoch 5/20\n",
            "188/188 [==============================] - 1s 4ms/step - loss: 0.3637 - accuracy: 0.8684 - val_loss: 0.3750 - val_accuracy: 0.8652\n",
            "Epoch 6/20\n",
            "188/188 [==============================] - 1s 5ms/step - loss: 0.3492 - accuracy: 0.8727 - val_loss: 0.3631 - val_accuracy: 0.8706\n",
            "Epoch 7/20\n",
            "188/188 [==============================] - 1s 5ms/step - loss: 0.3333 - accuracy: 0.8777 - val_loss: 0.3467 - val_accuracy: 0.8741\n",
            "Epoch 8/20\n",
            "188/188 [==============================] - 1s 4ms/step - loss: 0.3224 - accuracy: 0.8823 - val_loss: 0.3370 - val_accuracy: 0.8774\n",
            "Epoch 9/20\n",
            "188/188 [==============================] - 1s 5ms/step - loss: 0.3092 - accuracy: 0.8868 - val_loss: 0.3332 - val_accuracy: 0.8777\n",
            "Epoch 10/20\n",
            "188/188 [==============================] - 1s 4ms/step - loss: 0.2965 - accuracy: 0.8913 - val_loss: 0.3295 - val_accuracy: 0.8795\n",
            "Epoch 11/20\n",
            "188/188 [==============================] - 1s 4ms/step - loss: 0.2912 - accuracy: 0.8941 - val_loss: 0.3405 - val_accuracy: 0.8735\n",
            "Epoch 12/20\n",
            "188/188 [==============================] - 1s 5ms/step - loss: 0.2838 - accuracy: 0.8954 - val_loss: 0.3269 - val_accuracy: 0.8833\n",
            "Epoch 13/20\n",
            "188/188 [==============================] - 1s 4ms/step - loss: 0.2747 - accuracy: 0.8984 - val_loss: 0.3414 - val_accuracy: 0.8763\n",
            "Epoch 14/20\n",
            "188/188 [==============================] - 1s 5ms/step - loss: 0.2672 - accuracy: 0.9011 - val_loss: 0.3161 - val_accuracy: 0.8858\n",
            "Epoch 15/20\n",
            "188/188 [==============================] - 1s 5ms/step - loss: 0.2597 - accuracy: 0.9032 - val_loss: 0.3242 - val_accuracy: 0.8832\n",
            "Epoch 16/20\n",
            "188/188 [==============================] - 1s 4ms/step - loss: 0.2488 - accuracy: 0.9078 - val_loss: 0.3179 - val_accuracy: 0.8858\n",
            "Epoch 17/20\n",
            "188/188 [==============================] - 1s 5ms/step - loss: 0.2436 - accuracy: 0.9102 - val_loss: 0.3179 - val_accuracy: 0.8837\n",
            "Epoch 18/20\n",
            "188/188 [==============================] - 1s 5ms/step - loss: 0.2327 - accuracy: 0.9133 - val_loss: 0.3108 - val_accuracy: 0.8869\n",
            "Epoch 19/20\n",
            "188/188 [==============================] - 1s 5ms/step - loss: 0.2255 - accuracy: 0.9172 - val_loss: 0.3028 - val_accuracy: 0.8934\n",
            "Epoch 20/20\n",
            "188/188 [==============================] - 1s 4ms/step - loss: 0.2190 - accuracy: 0.9191 - val_loss: 0.3117 - val_accuracy: 0.8912\n"
          ],
          "name": "stdout"
        },
        {
          "output_type": "display_data",
          "data": {
            "text/html": [
              "<span style=\"color:#4527A0\"><h1 style=\"font-size:18px\">Trial complete</h1></span>"
            ],
            "text/plain": [
              "<IPython.core.display.HTML object>"
            ]
          },
          "metadata": {
            "tags": []
          }
        },
        {
          "output_type": "display_data",
          "data": {
            "text/html": [
              "<span style=\"color:#4527A0\"><h1 style=\"font-size:18px\">Trial summary</h1></span>"
            ],
            "text/plain": [
              "<IPython.core.display.HTML object>"
            ]
          },
          "metadata": {
            "tags": []
          }
        },
        {
          "output_type": "display_data",
          "data": {
            "text/html": [
              "<span style=\"color:cyan\"> |-Trial ID: 07b70c0938a6f026dbbe76a1c48745bc</span>"
            ],
            "text/plain": [
              "<IPython.core.display.HTML object>"
            ]
          },
          "metadata": {
            "tags": []
          }
        },
        {
          "output_type": "display_data",
          "data": {
            "text/html": [
              "<span style=\"color:cyan\"> |-Score: 0.8934166431427002</span>"
            ],
            "text/plain": [
              "<IPython.core.display.HTML object>"
            ]
          },
          "metadata": {
            "tags": []
          }
        },
        {
          "output_type": "display_data",
          "data": {
            "text/html": [
              "<span style=\"color:cyan\"> |-Best step: 0</span>"
            ],
            "text/plain": [
              "<IPython.core.display.HTML object>"
            ]
          },
          "metadata": {
            "tags": []
          }
        },
        {
          "output_type": "display_data",
          "data": {
            "text/html": [
              "<span style=\"color:#7E57C2\"><h2 style=\"font-size:16px\">Hyperparameters:</h2></span>"
            ],
            "text/plain": [
              "<IPython.core.display.HTML object>"
            ]
          },
          "metadata": {
            "tags": []
          }
        },
        {
          "output_type": "display_data",
          "data": {
            "text/html": [
              "<span style=\"color:cyan\"> |-activation: sigmoid</span>"
            ],
            "text/plain": [
              "<IPython.core.display.HTML object>"
            ]
          },
          "metadata": {
            "tags": []
          }
        },
        {
          "output_type": "display_data",
          "data": {
            "text/html": [
              "<span style=\"color:blue\"> |-optimizer: adam</span>"
            ],
            "text/plain": [
              "<IPython.core.display.HTML object>"
            ]
          },
          "metadata": {
            "tags": []
          }
        },
        {
          "output_type": "display_data",
          "data": {
            "text/html": [
              "<span style=\"color:cyan\"> |-units_hidden: 320</span>"
            ],
            "text/plain": [
              "<IPython.core.display.HTML object>"
            ]
          },
          "metadata": {
            "tags": []
          }
        },
        {
          "output_type": "display_data",
          "data": {
            "text/html": [
              "<span style=\"color:blue\"> |-units_input: 800</span>"
            ],
            "text/plain": [
              "<IPython.core.display.HTML object>"
            ]
          },
          "metadata": {
            "tags": []
          }
        },
        {
          "output_type": "stream",
          "text": [
            "Epoch 1/20\n",
            "188/188 [==============================] - 1s 5ms/step - loss: 0.7735 - accuracy: 0.7347 - val_loss: 0.5680 - val_accuracy: 0.7845\n",
            "Epoch 2/20\n",
            "188/188 [==============================] - 1s 5ms/step - loss: 0.4703 - accuracy: 0.8220 - val_loss: 0.4162 - val_accuracy: 0.8492\n",
            "Epoch 3/20\n",
            "188/188 [==============================] - 1s 5ms/step - loss: 0.4040 - accuracy: 0.8484 - val_loss: 0.3965 - val_accuracy: 0.8537\n",
            "Epoch 4/20\n",
            "188/188 [==============================] - 1s 4ms/step - loss: 0.3672 - accuracy: 0.8609 - val_loss: 0.4871 - val_accuracy: 0.8238\n",
            "Epoch 5/20\n",
            "188/188 [==============================] - 1s 5ms/step - loss: 0.3417 - accuracy: 0.8707 - val_loss: 0.4904 - val_accuracy: 0.8387\n",
            "Epoch 6/20\n",
            "188/188 [==============================] - 1s 5ms/step - loss: 0.3201 - accuracy: 0.8796 - val_loss: 0.3657 - val_accuracy: 0.8690\n",
            "Epoch 7/20\n",
            "188/188 [==============================] - 1s 5ms/step - loss: 0.2981 - accuracy: 0.8854 - val_loss: 0.3808 - val_accuracy: 0.8626\n",
            "Epoch 8/20\n",
            "188/188 [==============================] - 1s 4ms/step - loss: 0.2861 - accuracy: 0.8916 - val_loss: 0.3706 - val_accuracy: 0.8671\n",
            "Epoch 9/20\n",
            "188/188 [==============================] - 1s 5ms/step - loss: 0.2736 - accuracy: 0.8963 - val_loss: 0.3618 - val_accuracy: 0.8733\n",
            "Epoch 10/20\n",
            "188/188 [==============================] - 1s 5ms/step - loss: 0.2630 - accuracy: 0.8998 - val_loss: 0.3276 - val_accuracy: 0.8861\n",
            "Epoch 11/20\n",
            "188/188 [==============================] - 1s 4ms/step - loss: 0.2531 - accuracy: 0.9036 - val_loss: 0.3362 - val_accuracy: 0.8846\n",
            "Epoch 12/20\n",
            "188/188 [==============================] - 1s 4ms/step - loss: 0.2430 - accuracy: 0.9071 - val_loss: 0.4413 - val_accuracy: 0.8630\n",
            "Epoch 13/20\n",
            "188/188 [==============================] - 1s 4ms/step - loss: 0.2321 - accuracy: 0.9107 - val_loss: 0.3901 - val_accuracy: 0.8699\n",
            "Epoch 14/20\n",
            "188/188 [==============================] - 1s 4ms/step - loss: 0.2268 - accuracy: 0.9126 - val_loss: 0.3298 - val_accuracy: 0.8852\n",
            "Epoch 15/20\n",
            "188/188 [==============================] - 1s 4ms/step - loss: 0.2174 - accuracy: 0.9159 - val_loss: 0.3702 - val_accuracy: 0.8831\n",
            "Epoch 16/20\n",
            "188/188 [==============================] - 1s 4ms/step - loss: 0.2104 - accuracy: 0.9193 - val_loss: 0.3713 - val_accuracy: 0.8770\n",
            "Epoch 17/20\n",
            "188/188 [==============================] - 1s 4ms/step - loss: 0.2044 - accuracy: 0.9209 - val_loss: 0.4732 - val_accuracy: 0.8664\n",
            "Epoch 18/20\n",
            "188/188 [==============================] - 1s 5ms/step - loss: 0.1966 - accuracy: 0.9251 - val_loss: 0.3528 - val_accuracy: 0.8907\n",
            "Epoch 19/20\n",
            "188/188 [==============================] - 1s 4ms/step - loss: 0.1920 - accuracy: 0.9276 - val_loss: 0.4159 - val_accuracy: 0.8754\n",
            "Epoch 20/20\n",
            "188/188 [==============================] - 1s 5ms/step - loss: 0.1869 - accuracy: 0.9283 - val_loss: 0.3574 - val_accuracy: 0.8857\n"
          ],
          "name": "stdout"
        },
        {
          "output_type": "display_data",
          "data": {
            "text/html": [
              "<span style=\"color:#4527A0\"><h1 style=\"font-size:18px\">Trial complete</h1></span>"
            ],
            "text/plain": [
              "<IPython.core.display.HTML object>"
            ]
          },
          "metadata": {
            "tags": []
          }
        },
        {
          "output_type": "display_data",
          "data": {
            "text/html": [
              "<span style=\"color:#4527A0\"><h1 style=\"font-size:18px\">Trial summary</h1></span>"
            ],
            "text/plain": [
              "<IPython.core.display.HTML object>"
            ]
          },
          "metadata": {
            "tags": []
          }
        },
        {
          "output_type": "display_data",
          "data": {
            "text/html": [
              "<span style=\"color:cyan\"> |-Trial ID: 62e31b0d7b7d462d177f23a363b136c9</span>"
            ],
            "text/plain": [
              "<IPython.core.display.HTML object>"
            ]
          },
          "metadata": {
            "tags": []
          }
        },
        {
          "output_type": "display_data",
          "data": {
            "text/html": [
              "<span style=\"color:cyan\"> |-Score: 0.890749990940094</span>"
            ],
            "text/plain": [
              "<IPython.core.display.HTML object>"
            ]
          },
          "metadata": {
            "tags": []
          }
        },
        {
          "output_type": "display_data",
          "data": {
            "text/html": [
              "<span style=\"color:cyan\"> |-Best step: 0</span>"
            ],
            "text/plain": [
              "<IPython.core.display.HTML object>"
            ]
          },
          "metadata": {
            "tags": []
          }
        },
        {
          "output_type": "display_data",
          "data": {
            "text/html": [
              "<span style=\"color:#7E57C2\"><h2 style=\"font-size:16px\">Hyperparameters:</h2></span>"
            ],
            "text/plain": [
              "<IPython.core.display.HTML object>"
            ]
          },
          "metadata": {
            "tags": []
          }
        },
        {
          "output_type": "display_data",
          "data": {
            "text/html": [
              "<span style=\"color:cyan\"> |-activation: elu</span>"
            ],
            "text/plain": [
              "<IPython.core.display.HTML object>"
            ]
          },
          "metadata": {
            "tags": []
          }
        },
        {
          "output_type": "display_data",
          "data": {
            "text/html": [
              "<span style=\"color:blue\"> |-optimizer: rmsprop</span>"
            ],
            "text/plain": [
              "<IPython.core.display.HTML object>"
            ]
          },
          "metadata": {
            "tags": []
          }
        },
        {
          "output_type": "display_data",
          "data": {
            "text/html": [
              "<span style=\"color:cyan\"> |-units_hidden: 224</span>"
            ],
            "text/plain": [
              "<IPython.core.display.HTML object>"
            ]
          },
          "metadata": {
            "tags": []
          }
        },
        {
          "output_type": "display_data",
          "data": {
            "text/html": [
              "<span style=\"color:blue\"> |-units_input: 896</span>"
            ],
            "text/plain": [
              "<IPython.core.display.HTML object>"
            ]
          },
          "metadata": {
            "tags": []
          }
        },
        {
          "output_type": "stream",
          "text": [
            "Epoch 1/20\n",
            "188/188 [==============================] - 1s 5ms/step - loss: 1.2121 - accuracy: 0.6939 - val_loss: 0.7912 - val_accuracy: 0.7071\n",
            "Epoch 2/20\n",
            "188/188 [==============================] - 1s 5ms/step - loss: 0.5642 - accuracy: 0.7949 - val_loss: 0.7870 - val_accuracy: 0.7596\n",
            "Epoch 3/20\n",
            "188/188 [==============================] - 1s 5ms/step - loss: 0.4566 - accuracy: 0.8301 - val_loss: 0.4828 - val_accuracy: 0.8239\n",
            "Epoch 4/20\n",
            "188/188 [==============================] - 1s 4ms/step - loss: 0.4126 - accuracy: 0.8469 - val_loss: 0.4697 - val_accuracy: 0.8138\n",
            "Epoch 5/20\n",
            "188/188 [==============================] - 1s 5ms/step - loss: 0.3726 - accuracy: 0.8592 - val_loss: 0.5027 - val_accuracy: 0.8305\n",
            "Epoch 6/20\n",
            "188/188 [==============================] - 1s 5ms/step - loss: 0.3504 - accuracy: 0.8660 - val_loss: 0.3663 - val_accuracy: 0.8673\n",
            "Epoch 7/20\n",
            "188/188 [==============================] - 1s 5ms/step - loss: 0.3282 - accuracy: 0.8752 - val_loss: 0.4475 - val_accuracy: 0.8415\n",
            "Epoch 8/20\n",
            "188/188 [==============================] - 1s 5ms/step - loss: 0.3162 - accuracy: 0.8804 - val_loss: 0.3542 - val_accuracy: 0.8800\n",
            "Epoch 9/20\n",
            "188/188 [==============================] - 1s 5ms/step - loss: 0.3003 - accuracy: 0.8869 - val_loss: 0.4405 - val_accuracy: 0.8434\n",
            "Epoch 10/20\n",
            "188/188 [==============================] - 1s 5ms/step - loss: 0.2881 - accuracy: 0.8909 - val_loss: 0.4313 - val_accuracy: 0.8428\n",
            "Epoch 11/20\n",
            "188/188 [==============================] - 1s 4ms/step - loss: 0.2783 - accuracy: 0.8951 - val_loss: 0.3878 - val_accuracy: 0.8687\n",
            "Epoch 12/20\n",
            "188/188 [==============================] - 1s 4ms/step - loss: 0.2678 - accuracy: 0.8973 - val_loss: 0.3608 - val_accuracy: 0.8737\n",
            "Epoch 13/20\n",
            "188/188 [==============================] - 1s 5ms/step - loss: 0.2608 - accuracy: 0.9010 - val_loss: 0.4152 - val_accuracy: 0.8554\n",
            "Epoch 14/20\n",
            "188/188 [==============================] - 1s 4ms/step - loss: 0.2520 - accuracy: 0.9034 - val_loss: 0.3712 - val_accuracy: 0.8759\n",
            "Epoch 15/20\n",
            "188/188 [==============================] - 1s 4ms/step - loss: 0.2414 - accuracy: 0.9075 - val_loss: 0.4383 - val_accuracy: 0.8595\n",
            "Epoch 16/20\n",
            "188/188 [==============================] - 1s 4ms/step - loss: 0.2375 - accuracy: 0.9088 - val_loss: 0.3883 - val_accuracy: 0.8772\n",
            "Epoch 17/20\n",
            "188/188 [==============================] - 1s 4ms/step - loss: 0.2296 - accuracy: 0.9134 - val_loss: 0.4215 - val_accuracy: 0.8618\n",
            "Epoch 18/20\n",
            "188/188 [==============================] - 1s 4ms/step - loss: 0.2234 - accuracy: 0.9144 - val_loss: 0.5123 - val_accuracy: 0.8520\n",
            "Epoch 19/20\n",
            "188/188 [==============================] - 1s 4ms/step - loss: 0.2162 - accuracy: 0.9173 - val_loss: 0.3896 - val_accuracy: 0.8798\n",
            "Epoch 20/20\n",
            "188/188 [==============================] - 1s 4ms/step - loss: 0.2124 - accuracy: 0.9184 - val_loss: 0.5186 - val_accuracy: 0.8549\n"
          ],
          "name": "stdout"
        },
        {
          "output_type": "display_data",
          "data": {
            "text/html": [
              "<span style=\"color:#4527A0\"><h1 style=\"font-size:18px\">Trial complete</h1></span>"
            ],
            "text/plain": [
              "<IPython.core.display.HTML object>"
            ]
          },
          "metadata": {
            "tags": []
          }
        },
        {
          "output_type": "display_data",
          "data": {
            "text/html": [
              "<span style=\"color:#4527A0\"><h1 style=\"font-size:18px\">Trial summary</h1></span>"
            ],
            "text/plain": [
              "<IPython.core.display.HTML object>"
            ]
          },
          "metadata": {
            "tags": []
          }
        },
        {
          "output_type": "display_data",
          "data": {
            "text/html": [
              "<span style=\"color:cyan\"> |-Trial ID: 8e4d2219c87cd6c3e52f7d970c4fbdbf</span>"
            ],
            "text/plain": [
              "<IPython.core.display.HTML object>"
            ]
          },
          "metadata": {
            "tags": []
          }
        },
        {
          "output_type": "display_data",
          "data": {
            "text/html": [
              "<span style=\"color:cyan\"> |-Score: 0.8799999952316284</span>"
            ],
            "text/plain": [
              "<IPython.core.display.HTML object>"
            ]
          },
          "metadata": {
            "tags": []
          }
        },
        {
          "output_type": "display_data",
          "data": {
            "text/html": [
              "<span style=\"color:cyan\"> |-Best step: 0</span>"
            ],
            "text/plain": [
              "<IPython.core.display.HTML object>"
            ]
          },
          "metadata": {
            "tags": []
          }
        },
        {
          "output_type": "display_data",
          "data": {
            "text/html": [
              "<span style=\"color:#7E57C2\"><h2 style=\"font-size:16px\">Hyperparameters:</h2></span>"
            ],
            "text/plain": [
              "<IPython.core.display.HTML object>"
            ]
          },
          "metadata": {
            "tags": []
          }
        },
        {
          "output_type": "display_data",
          "data": {
            "text/html": [
              "<span style=\"color:cyan\"> |-activation: selu</span>"
            ],
            "text/plain": [
              "<IPython.core.display.HTML object>"
            ]
          },
          "metadata": {
            "tags": []
          }
        },
        {
          "output_type": "display_data",
          "data": {
            "text/html": [
              "<span style=\"color:blue\"> |-optimizer: rmsprop</span>"
            ],
            "text/plain": [
              "<IPython.core.display.HTML object>"
            ]
          },
          "metadata": {
            "tags": []
          }
        },
        {
          "output_type": "display_data",
          "data": {
            "text/html": [
              "<span style=\"color:cyan\"> |-units_hidden: 384</span>"
            ],
            "text/plain": [
              "<IPython.core.display.HTML object>"
            ]
          },
          "metadata": {
            "tags": []
          }
        },
        {
          "output_type": "display_data",
          "data": {
            "text/html": [
              "<span style=\"color:blue\"> |-units_input: 960</span>"
            ],
            "text/plain": [
              "<IPython.core.display.HTML object>"
            ]
          },
          "metadata": {
            "tags": []
          }
        },
        {
          "output_type": "stream",
          "text": [
            "Epoch 1/20\n",
            "188/188 [==============================] - 1s 5ms/step - loss: 0.9766 - accuracy: 0.7131 - val_loss: 0.5038 - val_accuracy: 0.8155\n",
            "Epoch 2/20\n",
            "188/188 [==============================] - 1s 5ms/step - loss: 0.5028 - accuracy: 0.8104 - val_loss: 0.5542 - val_accuracy: 0.8051\n",
            "Epoch 3/20\n",
            "188/188 [==============================] - 1s 5ms/step - loss: 0.4235 - accuracy: 0.8395 - val_loss: 0.4218 - val_accuracy: 0.8393\n",
            "Epoch 4/20\n",
            "188/188 [==============================] - 1s 4ms/step - loss: 0.3839 - accuracy: 0.8560 - val_loss: 0.7001 - val_accuracy: 0.7732\n",
            "Epoch 5/20\n",
            "188/188 [==============================] - 1s 4ms/step - loss: 0.3611 - accuracy: 0.8634 - val_loss: 0.4054 - val_accuracy: 0.8487\n",
            "Epoch 6/20\n",
            "188/188 [==============================] - 1s 4ms/step - loss: 0.3402 - accuracy: 0.8750 - val_loss: 0.4221 - val_accuracy: 0.8505\n",
            "Epoch 7/20\n",
            "188/188 [==============================] - 1s 5ms/step - loss: 0.3247 - accuracy: 0.8778 - val_loss: 0.4105 - val_accuracy: 0.8516\n",
            "Epoch 8/20\n",
            "188/188 [==============================] - 1s 5ms/step - loss: 0.3075 - accuracy: 0.8838 - val_loss: 0.3707 - val_accuracy: 0.8708\n",
            "Epoch 9/20\n",
            "188/188 [==============================] - 1s 5ms/step - loss: 0.2987 - accuracy: 0.8876 - val_loss: 0.4020 - val_accuracy: 0.8557\n",
            "Epoch 10/20\n",
            "188/188 [==============================] - 1s 5ms/step - loss: 0.2855 - accuracy: 0.8931 - val_loss: 0.3856 - val_accuracy: 0.8647\n",
            "Epoch 11/20\n",
            "188/188 [==============================] - 1s 4ms/step - loss: 0.2769 - accuracy: 0.8954 - val_loss: 0.4028 - val_accuracy: 0.8558\n",
            "Epoch 12/20\n",
            "188/188 [==============================] - 1s 5ms/step - loss: 0.2681 - accuracy: 0.8982 - val_loss: 0.3511 - val_accuracy: 0.8758\n",
            "Epoch 13/20\n",
            "188/188 [==============================] - 1s 4ms/step - loss: 0.2578 - accuracy: 0.9019 - val_loss: 0.3804 - val_accuracy: 0.8672\n",
            "Epoch 14/20\n",
            "188/188 [==============================] - 1s 4ms/step - loss: 0.2513 - accuracy: 0.9034 - val_loss: 0.3668 - val_accuracy: 0.8683\n",
            "Epoch 15/20\n",
            "188/188 [==============================] - 1s 4ms/step - loss: 0.2448 - accuracy: 0.9061 - val_loss: 0.4059 - val_accuracy: 0.8677\n",
            "Epoch 16/20\n",
            "188/188 [==============================] - 1s 4ms/step - loss: 0.2407 - accuracy: 0.9082 - val_loss: 0.3712 - val_accuracy: 0.8711\n",
            "Epoch 17/20\n",
            "188/188 [==============================] - 1s 4ms/step - loss: 0.2304 - accuracy: 0.9117 - val_loss: 0.3516 - val_accuracy: 0.8852\n",
            "Epoch 18/20\n",
            "188/188 [==============================] - 1s 4ms/step - loss: 0.2261 - accuracy: 0.9134 - val_loss: 0.4137 - val_accuracy: 0.8623\n",
            "Epoch 19/20\n",
            "188/188 [==============================] - 1s 4ms/step - loss: 0.2245 - accuracy: 0.9138 - val_loss: 0.3527 - val_accuracy: 0.8833\n",
            "Epoch 20/20\n",
            "188/188 [==============================] - 1s 4ms/step - loss: 0.2140 - accuracy: 0.9177 - val_loss: 0.3430 - val_accuracy: 0.8873\n"
          ],
          "name": "stdout"
        },
        {
          "output_type": "display_data",
          "data": {
            "text/html": [
              "<span style=\"color:#4527A0\"><h1 style=\"font-size:18px\">Trial complete</h1></span>"
            ],
            "text/plain": [
              "<IPython.core.display.HTML object>"
            ]
          },
          "metadata": {
            "tags": []
          }
        },
        {
          "output_type": "display_data",
          "data": {
            "text/html": [
              "<span style=\"color:#4527A0\"><h1 style=\"font-size:18px\">Trial summary</h1></span>"
            ],
            "text/plain": [
              "<IPython.core.display.HTML object>"
            ]
          },
          "metadata": {
            "tags": []
          }
        },
        {
          "output_type": "display_data",
          "data": {
            "text/html": [
              "<span style=\"color:cyan\"> |-Trial ID: 17e8bb07bfa3045c33714e87b2b50f89</span>"
            ],
            "text/plain": [
              "<IPython.core.display.HTML object>"
            ]
          },
          "metadata": {
            "tags": []
          }
        },
        {
          "output_type": "display_data",
          "data": {
            "text/html": [
              "<span style=\"color:cyan\"> |-Score: 0.887333333492279</span>"
            ],
            "text/plain": [
              "<IPython.core.display.HTML object>"
            ]
          },
          "metadata": {
            "tags": []
          }
        },
        {
          "output_type": "display_data",
          "data": {
            "text/html": [
              "<span style=\"color:cyan\"> |-Best step: 0</span>"
            ],
            "text/plain": [
              "<IPython.core.display.HTML object>"
            ]
          },
          "metadata": {
            "tags": []
          }
        },
        {
          "output_type": "display_data",
          "data": {
            "text/html": [
              "<span style=\"color:#7E57C2\"><h2 style=\"font-size:16px\">Hyperparameters:</h2></span>"
            ],
            "text/plain": [
              "<IPython.core.display.HTML object>"
            ]
          },
          "metadata": {
            "tags": []
          }
        },
        {
          "output_type": "display_data",
          "data": {
            "text/html": [
              "<span style=\"color:cyan\"> |-activation: selu</span>"
            ],
            "text/plain": [
              "<IPython.core.display.HTML object>"
            ]
          },
          "metadata": {
            "tags": []
          }
        },
        {
          "output_type": "display_data",
          "data": {
            "text/html": [
              "<span style=\"color:blue\"> |-optimizer: rmsprop</span>"
            ],
            "text/plain": [
              "<IPython.core.display.HTML object>"
            ]
          },
          "metadata": {
            "tags": []
          }
        },
        {
          "output_type": "display_data",
          "data": {
            "text/html": [
              "<span style=\"color:cyan\"> |-units_hidden: 128</span>"
            ],
            "text/plain": [
              "<IPython.core.display.HTML object>"
            ]
          },
          "metadata": {
            "tags": []
          }
        },
        {
          "output_type": "display_data",
          "data": {
            "text/html": [
              "<span style=\"color:blue\"> |-units_input: 960</span>"
            ],
            "text/plain": [
              "<IPython.core.display.HTML object>"
            ]
          },
          "metadata": {
            "tags": []
          }
        },
        {
          "output_type": "stream",
          "text": [
            "Epoch 1/20\n",
            "188/188 [==============================] - 1s 5ms/step - loss: 0.8887 - accuracy: 0.7139 - val_loss: 1.0801 - val_accuracy: 0.6714\n",
            "Epoch 2/20\n",
            "188/188 [==============================] - 1s 4ms/step - loss: 0.5275 - accuracy: 0.8054 - val_loss: 0.5616 - val_accuracy: 0.7984\n",
            "Epoch 3/20\n",
            "188/188 [==============================] - 1s 4ms/step - loss: 0.4416 - accuracy: 0.8366 - val_loss: 0.4988 - val_accuracy: 0.8059\n",
            "Epoch 4/20\n",
            "188/188 [==============================] - 1s 4ms/step - loss: 0.3926 - accuracy: 0.8526 - val_loss: 0.3990 - val_accuracy: 0.8521\n",
            "Epoch 5/20\n",
            "188/188 [==============================] - 1s 4ms/step - loss: 0.3589 - accuracy: 0.8646 - val_loss: 0.4264 - val_accuracy: 0.8397\n",
            "Epoch 6/20\n",
            "188/188 [==============================] - 1s 5ms/step - loss: 0.3369 - accuracy: 0.8733 - val_loss: 0.3714 - val_accuracy: 0.8673\n",
            "Epoch 7/20\n",
            "188/188 [==============================] - 1s 4ms/step - loss: 0.3123 - accuracy: 0.8828 - val_loss: 0.4169 - val_accuracy: 0.8568\n",
            "Epoch 8/20\n",
            "188/188 [==============================] - 1s 4ms/step - loss: 0.2981 - accuracy: 0.8876 - val_loss: 0.4753 - val_accuracy: 0.8410\n",
            "Epoch 9/20\n",
            "188/188 [==============================] - 1s 4ms/step - loss: 0.2825 - accuracy: 0.8917 - val_loss: 0.3496 - val_accuracy: 0.8800\n",
            "Epoch 10/20\n",
            "188/188 [==============================] - 1s 5ms/step - loss: 0.2703 - accuracy: 0.8961 - val_loss: 0.4124 - val_accuracy: 0.8620\n",
            "Epoch 11/20\n",
            "188/188 [==============================] - 1s 5ms/step - loss: 0.2613 - accuracy: 0.9009 - val_loss: 0.3554 - val_accuracy: 0.8740\n",
            "Epoch 12/20\n",
            "188/188 [==============================] - 1s 4ms/step - loss: 0.2479 - accuracy: 0.9050 - val_loss: 0.3583 - val_accuracy: 0.8775\n",
            "Epoch 13/20\n",
            "188/188 [==============================] - 1s 5ms/step - loss: 0.2388 - accuracy: 0.9080 - val_loss: 0.3408 - val_accuracy: 0.8829\n",
            "Epoch 14/20\n",
            "188/188 [==============================] - 1s 5ms/step - loss: 0.2278 - accuracy: 0.9131 - val_loss: 0.3447 - val_accuracy: 0.8873\n",
            "Epoch 15/20\n",
            "188/188 [==============================] - 1s 4ms/step - loss: 0.2200 - accuracy: 0.9149 - val_loss: 0.3838 - val_accuracy: 0.8720\n",
            "Epoch 16/20\n",
            "188/188 [==============================] - 1s 5ms/step - loss: 0.2127 - accuracy: 0.9177 - val_loss: 0.3366 - val_accuracy: 0.8882\n",
            "Epoch 17/20\n",
            "188/188 [==============================] - 1s 5ms/step - loss: 0.2022 - accuracy: 0.9227 - val_loss: 0.3583 - val_accuracy: 0.8827\n",
            "Epoch 18/20\n",
            "188/188 [==============================] - 1s 5ms/step - loss: 0.1970 - accuracy: 0.9240 - val_loss: 0.3946 - val_accuracy: 0.8733\n",
            "Epoch 19/20\n",
            "188/188 [==============================] - 1s 4ms/step - loss: 0.1918 - accuracy: 0.9271 - val_loss: 0.3882 - val_accuracy: 0.8684\n",
            "Epoch 20/20\n",
            "188/188 [==============================] - 1s 4ms/step - loss: 0.1793 - accuracy: 0.9309 - val_loss: 0.3922 - val_accuracy: 0.8783\n"
          ],
          "name": "stdout"
        },
        {
          "output_type": "display_data",
          "data": {
            "text/html": [
              "<span style=\"color:#4527A0\"><h1 style=\"font-size:18px\">Trial complete</h1></span>"
            ],
            "text/plain": [
              "<IPython.core.display.HTML object>"
            ]
          },
          "metadata": {
            "tags": []
          }
        },
        {
          "output_type": "display_data",
          "data": {
            "text/html": [
              "<span style=\"color:#4527A0\"><h1 style=\"font-size:18px\">Trial summary</h1></span>"
            ],
            "text/plain": [
              "<IPython.core.display.HTML object>"
            ]
          },
          "metadata": {
            "tags": []
          }
        },
        {
          "output_type": "display_data",
          "data": {
            "text/html": [
              "<span style=\"color:cyan\"> |-Trial ID: 700f353505a300b66d89a953c23926e5</span>"
            ],
            "text/plain": [
              "<IPython.core.display.HTML object>"
            ]
          },
          "metadata": {
            "tags": []
          }
        },
        {
          "output_type": "display_data",
          "data": {
            "text/html": [
              "<span style=\"color:cyan\"> |-Score: 0.8882499933242798</span>"
            ],
            "text/plain": [
              "<IPython.core.display.HTML object>"
            ]
          },
          "metadata": {
            "tags": []
          }
        },
        {
          "output_type": "display_data",
          "data": {
            "text/html": [
              "<span style=\"color:cyan\"> |-Best step: 0</span>"
            ],
            "text/plain": [
              "<IPython.core.display.HTML object>"
            ]
          },
          "metadata": {
            "tags": []
          }
        },
        {
          "output_type": "display_data",
          "data": {
            "text/html": [
              "<span style=\"color:#7E57C2\"><h2 style=\"font-size:16px\">Hyperparameters:</h2></span>"
            ],
            "text/plain": [
              "<IPython.core.display.HTML object>"
            ]
          },
          "metadata": {
            "tags": []
          }
        },
        {
          "output_type": "display_data",
          "data": {
            "text/html": [
              "<span style=\"color:cyan\"> |-activation: elu</span>"
            ],
            "text/plain": [
              "<IPython.core.display.HTML object>"
            ]
          },
          "metadata": {
            "tags": []
          }
        },
        {
          "output_type": "display_data",
          "data": {
            "text/html": [
              "<span style=\"color:blue\"> |-optimizer: rmsprop</span>"
            ],
            "text/plain": [
              "<IPython.core.display.HTML object>"
            ]
          },
          "metadata": {
            "tags": []
          }
        },
        {
          "output_type": "display_data",
          "data": {
            "text/html": [
              "<span style=\"color:cyan\"> |-units_hidden: 576</span>"
            ],
            "text/plain": [
              "<IPython.core.display.HTML object>"
            ]
          },
          "metadata": {
            "tags": []
          }
        },
        {
          "output_type": "display_data",
          "data": {
            "text/html": [
              "<span style=\"color:blue\"> |-units_input: 704</span>"
            ],
            "text/plain": [
              "<IPython.core.display.HTML object>"
            ]
          },
          "metadata": {
            "tags": []
          }
        },
        {
          "output_type": "stream",
          "text": [
            "Epoch 1/20\n",
            "188/188 [==============================] - 1s 5ms/step - loss: 1.0797 - accuracy: 0.7047 - val_loss: 0.7095 - val_accuracy: 0.7311\n",
            "Epoch 2/20\n",
            "188/188 [==============================] - 1s 4ms/step - loss: 0.5526 - accuracy: 0.7998 - val_loss: 0.5774 - val_accuracy: 0.8016\n",
            "Epoch 3/20\n",
            "188/188 [==============================] - 1s 5ms/step - loss: 0.4524 - accuracy: 0.8328 - val_loss: 0.4513 - val_accuracy: 0.8342\n",
            "Epoch 4/20\n",
            "188/188 [==============================] - 1s 5ms/step - loss: 0.4013 - accuracy: 0.8491 - val_loss: 0.5351 - val_accuracy: 0.8264\n",
            "Epoch 5/20\n",
            "188/188 [==============================] - 1s 4ms/step - loss: 0.3683 - accuracy: 0.8611 - val_loss: 0.5737 - val_accuracy: 0.7759\n",
            "Epoch 6/20\n",
            "188/188 [==============================] - 1s 4ms/step - loss: 0.3405 - accuracy: 0.8728 - val_loss: 0.3916 - val_accuracy: 0.8591\n",
            "Epoch 7/20\n",
            "188/188 [==============================] - 1s 5ms/step - loss: 0.3233 - accuracy: 0.8779 - val_loss: 0.4199 - val_accuracy: 0.8378\n",
            "Epoch 8/20\n",
            "188/188 [==============================] - 1s 5ms/step - loss: 0.3007 - accuracy: 0.8846 - val_loss: 0.3907 - val_accuracy: 0.8668\n",
            "Epoch 9/20\n",
            "188/188 [==============================] - 1s 5ms/step - loss: 0.2919 - accuracy: 0.8886 - val_loss: 0.4574 - val_accuracy: 0.8479\n",
            "Epoch 10/20\n",
            "188/188 [==============================] - 1s 4ms/step - loss: 0.2777 - accuracy: 0.8942 - val_loss: 0.4202 - val_accuracy: 0.8572\n",
            "Epoch 11/20\n",
            "188/188 [==============================] - 1s 5ms/step - loss: 0.2655 - accuracy: 0.8989 - val_loss: 0.3874 - val_accuracy: 0.8643\n",
            "Epoch 12/20\n",
            "188/188 [==============================] - 1s 5ms/step - loss: 0.2548 - accuracy: 0.9034 - val_loss: 0.3408 - val_accuracy: 0.8827\n",
            "Epoch 13/20\n",
            "188/188 [==============================] - 1s 5ms/step - loss: 0.2471 - accuracy: 0.9070 - val_loss: 0.3642 - val_accuracy: 0.8771\n",
            "Epoch 14/20\n",
            "188/188 [==============================] - 1s 4ms/step - loss: 0.2340 - accuracy: 0.9102 - val_loss: 0.4012 - val_accuracy: 0.8668\n",
            "Epoch 15/20\n",
            "188/188 [==============================] - 1s 4ms/step - loss: 0.2325 - accuracy: 0.9104 - val_loss: 0.3727 - val_accuracy: 0.8809\n",
            "Epoch 16/20\n",
            "188/188 [==============================] - 1s 4ms/step - loss: 0.2210 - accuracy: 0.9160 - val_loss: 0.4284 - val_accuracy: 0.8657\n",
            "Epoch 17/20\n",
            "188/188 [==============================] - 1s 5ms/step - loss: 0.2144 - accuracy: 0.9182 - val_loss: 0.3579 - val_accuracy: 0.8818\n",
            "Epoch 18/20\n",
            "188/188 [==============================] - 1s 4ms/step - loss: 0.2105 - accuracy: 0.9181 - val_loss: 0.4087 - val_accuracy: 0.8714\n",
            "Epoch 19/20\n",
            "188/188 [==============================] - 1s 5ms/step - loss: 0.2042 - accuracy: 0.9216 - val_loss: 0.3817 - val_accuracy: 0.8872\n",
            "Epoch 20/20\n",
            "188/188 [==============================] - 1s 5ms/step - loss: 0.1963 - accuracy: 0.9259 - val_loss: 0.3651 - val_accuracy: 0.8897\n"
          ],
          "name": "stdout"
        },
        {
          "output_type": "display_data",
          "data": {
            "text/html": [
              "<span style=\"color:#4527A0\"><h1 style=\"font-size:18px\">Trial complete</h1></span>"
            ],
            "text/plain": [
              "<IPython.core.display.HTML object>"
            ]
          },
          "metadata": {
            "tags": []
          }
        },
        {
          "output_type": "display_data",
          "data": {
            "text/html": [
              "<span style=\"color:#4527A0\"><h1 style=\"font-size:18px\">Trial summary</h1></span>"
            ],
            "text/plain": [
              "<IPython.core.display.HTML object>"
            ]
          },
          "metadata": {
            "tags": []
          }
        },
        {
          "output_type": "display_data",
          "data": {
            "text/html": [
              "<span style=\"color:cyan\"> |-Trial ID: 0e385c9f52274f2a358f7867fa6a9475</span>"
            ],
            "text/plain": [
              "<IPython.core.display.HTML object>"
            ]
          },
          "metadata": {
            "tags": []
          }
        },
        {
          "output_type": "display_data",
          "data": {
            "text/html": [
              "<span style=\"color:cyan\"> |-Score: 0.8896666765213013</span>"
            ],
            "text/plain": [
              "<IPython.core.display.HTML object>"
            ]
          },
          "metadata": {
            "tags": []
          }
        },
        {
          "output_type": "display_data",
          "data": {
            "text/html": [
              "<span style=\"color:cyan\"> |-Best step: 0</span>"
            ],
            "text/plain": [
              "<IPython.core.display.HTML object>"
            ]
          },
          "metadata": {
            "tags": []
          }
        },
        {
          "output_type": "display_data",
          "data": {
            "text/html": [
              "<span style=\"color:#7E57C2\"><h2 style=\"font-size:16px\">Hyperparameters:</h2></span>"
            ],
            "text/plain": [
              "<IPython.core.display.HTML object>"
            ]
          },
          "metadata": {
            "tags": []
          }
        },
        {
          "output_type": "display_data",
          "data": {
            "text/html": [
              "<span style=\"color:cyan\"> |-activation: selu</span>"
            ],
            "text/plain": [
              "<IPython.core.display.HTML object>"
            ]
          },
          "metadata": {
            "tags": []
          }
        },
        {
          "output_type": "display_data",
          "data": {
            "text/html": [
              "<span style=\"color:blue\"> |-optimizer: rmsprop</span>"
            ],
            "text/plain": [
              "<IPython.core.display.HTML object>"
            ]
          },
          "metadata": {
            "tags": []
          }
        },
        {
          "output_type": "display_data",
          "data": {
            "text/html": [
              "<span style=\"color:cyan\"> |-units_hidden: 320</span>"
            ],
            "text/plain": [
              "<IPython.core.display.HTML object>"
            ]
          },
          "metadata": {
            "tags": []
          }
        },
        {
          "output_type": "display_data",
          "data": {
            "text/html": [
              "<span style=\"color:blue\"> |-units_input: 736</span>"
            ],
            "text/plain": [
              "<IPython.core.display.HTML object>"
            ]
          },
          "metadata": {
            "tags": []
          }
        },
        {
          "output_type": "stream",
          "text": [
            "Epoch 1/20\n",
            "188/188 [==============================] - 1s 5ms/step - loss: 0.6547 - accuracy: 0.7928 - val_loss: 0.4479 - val_accuracy: 0.8335\n",
            "Epoch 2/20\n",
            "188/188 [==============================] - 1s 5ms/step - loss: 0.4087 - accuracy: 0.8538 - val_loss: 0.3930 - val_accuracy: 0.8555\n",
            "Epoch 3/20\n",
            "188/188 [==============================] - 1s 5ms/step - loss: 0.3722 - accuracy: 0.8643 - val_loss: 0.3858 - val_accuracy: 0.8584\n",
            "Epoch 4/20\n",
            "188/188 [==============================] - 1s 5ms/step - loss: 0.3460 - accuracy: 0.8735 - val_loss: 0.3541 - val_accuracy: 0.8716\n",
            "Epoch 5/20\n",
            "188/188 [==============================] - 1s 5ms/step - loss: 0.3270 - accuracy: 0.8788 - val_loss: 0.3504 - val_accuracy: 0.8737\n",
            "Epoch 6/20\n",
            "188/188 [==============================] - 1s 4ms/step - loss: 0.3120 - accuracy: 0.8864 - val_loss: 0.3706 - val_accuracy: 0.8646\n",
            "Epoch 7/20\n",
            "188/188 [==============================] - 1s 5ms/step - loss: 0.2993 - accuracy: 0.8896 - val_loss: 0.3896 - val_accuracy: 0.8690\n",
            "Epoch 8/20\n",
            "188/188 [==============================] - 1s 5ms/step - loss: 0.2826 - accuracy: 0.8948 - val_loss: 0.3317 - val_accuracy: 0.8821\n",
            "Epoch 9/20\n",
            "188/188 [==============================] - 1s 5ms/step - loss: 0.2682 - accuracy: 0.8990 - val_loss: 0.3403 - val_accuracy: 0.8795\n",
            "Epoch 10/20\n",
            "188/188 [==============================] - 1s 5ms/step - loss: 0.2573 - accuracy: 0.9035 - val_loss: 0.3235 - val_accuracy: 0.8827\n",
            "Epoch 11/20\n",
            "188/188 [==============================] - 1s 5ms/step - loss: 0.2501 - accuracy: 0.9067 - val_loss: 0.3447 - val_accuracy: 0.8807\n",
            "Epoch 12/20\n",
            "188/188 [==============================] - 1s 5ms/step - loss: 0.2411 - accuracy: 0.9112 - val_loss: 0.3400 - val_accuracy: 0.8815\n",
            "Epoch 13/20\n",
            "188/188 [==============================] - 1s 5ms/step - loss: 0.2301 - accuracy: 0.9147 - val_loss: 0.3381 - val_accuracy: 0.8824\n",
            "Epoch 14/20\n",
            "188/188 [==============================] - 1s 5ms/step - loss: 0.2260 - accuracy: 0.9142 - val_loss: 0.3699 - val_accuracy: 0.8759\n",
            "Epoch 15/20\n",
            "188/188 [==============================] - 1s 5ms/step - loss: 0.2203 - accuracy: 0.9165 - val_loss: 0.3534 - val_accuracy: 0.8817\n",
            "Epoch 16/20\n",
            "188/188 [==============================] - 1s 5ms/step - loss: 0.2073 - accuracy: 0.9219 - val_loss: 0.3355 - val_accuracy: 0.8863\n",
            "Epoch 17/20\n",
            "188/188 [==============================] - 1s 5ms/step - loss: 0.2049 - accuracy: 0.9237 - val_loss: 0.3631 - val_accuracy: 0.8812\n",
            "Epoch 18/20\n",
            "188/188 [==============================] - 1s 5ms/step - loss: 0.1987 - accuracy: 0.9252 - val_loss: 0.3585 - val_accuracy: 0.8846\n",
            "Epoch 19/20\n",
            "188/188 [==============================] - 1s 5ms/step - loss: 0.1932 - accuracy: 0.9276 - val_loss: 0.3198 - val_accuracy: 0.8923\n",
            "Epoch 20/20\n",
            "188/188 [==============================] - 1s 5ms/step - loss: 0.1888 - accuracy: 0.9274 - val_loss: 0.3313 - val_accuracy: 0.8918\n"
          ],
          "name": "stdout"
        },
        {
          "output_type": "display_data",
          "data": {
            "text/html": [
              "<span style=\"color:#4527A0\"><h1 style=\"font-size:18px\">Trial complete</h1></span>"
            ],
            "text/plain": [
              "<IPython.core.display.HTML object>"
            ]
          },
          "metadata": {
            "tags": []
          }
        },
        {
          "output_type": "display_data",
          "data": {
            "text/html": [
              "<span style=\"color:#4527A0\"><h1 style=\"font-size:18px\">Trial summary</h1></span>"
            ],
            "text/plain": [
              "<IPython.core.display.HTML object>"
            ]
          },
          "metadata": {
            "tags": []
          }
        },
        {
          "output_type": "display_data",
          "data": {
            "text/html": [
              "<span style=\"color:cyan\"> |-Trial ID: e5ed83aa34bb0f93116406b6de8321b3</span>"
            ],
            "text/plain": [
              "<IPython.core.display.HTML object>"
            ]
          },
          "metadata": {
            "tags": []
          }
        },
        {
          "output_type": "display_data",
          "data": {
            "text/html": [
              "<span style=\"color:cyan\"> |-Score: 0.8922500014305115</span>"
            ],
            "text/plain": [
              "<IPython.core.display.HTML object>"
            ]
          },
          "metadata": {
            "tags": []
          }
        },
        {
          "output_type": "display_data",
          "data": {
            "text/html": [
              "<span style=\"color:cyan\"> |-Best step: 0</span>"
            ],
            "text/plain": [
              "<IPython.core.display.HTML object>"
            ]
          },
          "metadata": {
            "tags": []
          }
        },
        {
          "output_type": "display_data",
          "data": {
            "text/html": [
              "<span style=\"color:#7E57C2\"><h2 style=\"font-size:16px\">Hyperparameters:</h2></span>"
            ],
            "text/plain": [
              "<IPython.core.display.HTML object>"
            ]
          },
          "metadata": {
            "tags": []
          }
        },
        {
          "output_type": "display_data",
          "data": {
            "text/html": [
              "<span style=\"color:cyan\"> |-activation: selu</span>"
            ],
            "text/plain": [
              "<IPython.core.display.HTML object>"
            ]
          },
          "metadata": {
            "tags": []
          }
        },
        {
          "output_type": "display_data",
          "data": {
            "text/html": [
              "<span style=\"color:blue\"> |-optimizer: adam</span>"
            ],
            "text/plain": [
              "<IPython.core.display.HTML object>"
            ]
          },
          "metadata": {
            "tags": []
          }
        },
        {
          "output_type": "display_data",
          "data": {
            "text/html": [
              "<span style=\"color:cyan\"> |-units_hidden: 448</span>"
            ],
            "text/plain": [
              "<IPython.core.display.HTML object>"
            ]
          },
          "metadata": {
            "tags": []
          }
        },
        {
          "output_type": "display_data",
          "data": {
            "text/html": [
              "<span style=\"color:blue\"> |-units_input: 864</span>"
            ],
            "text/plain": [
              "<IPython.core.display.HTML object>"
            ]
          },
          "metadata": {
            "tags": []
          }
        },
        {
          "output_type": "stream",
          "text": [
            "Epoch 1/20\n",
            "188/188 [==============================] - 1s 5ms/step - loss: 2.2730 - accuracy: 0.2216 - val_loss: 2.2250 - val_accuracy: 0.3423\n",
            "Epoch 2/20\n",
            "188/188 [==============================] - 1s 4ms/step - loss: 2.1786 - accuracy: 0.4288 - val_loss: 2.1287 - val_accuracy: 0.4700\n",
            "Epoch 3/20\n",
            "188/188 [==============================] - 1s 4ms/step - loss: 2.0764 - accuracy: 0.5462 - val_loss: 2.0165 - val_accuracy: 0.6207\n",
            "Epoch 4/20\n",
            "188/188 [==============================] - 1s 4ms/step - loss: 1.9550 - accuracy: 0.5849 - val_loss: 1.8847 - val_accuracy: 0.5456\n",
            "Epoch 5/20\n",
            "188/188 [==============================] - 1s 4ms/step - loss: 1.8165 - accuracy: 0.5999 - val_loss: 1.7404 - val_accuracy: 0.5757\n",
            "Epoch 6/20\n",
            "188/188 [==============================] - 1s 4ms/step - loss: 1.6740 - accuracy: 0.6101 - val_loss: 1.6006 - val_accuracy: 0.6131\n",
            "Epoch 7/20\n",
            "188/188 [==============================] - 1s 4ms/step - loss: 1.5424 - accuracy: 0.6264 - val_loss: 1.4760 - val_accuracy: 0.6420\n",
            "Epoch 8/20\n",
            "188/188 [==============================] - 1s 4ms/step - loss: 1.4297 - accuracy: 0.6368 - val_loss: 1.3745 - val_accuracy: 0.6748\n",
            "Epoch 9/20\n",
            "188/188 [==============================] - 1s 4ms/step - loss: 1.3362 - accuracy: 0.6520 - val_loss: 1.2882 - val_accuracy: 0.6727\n",
            "Epoch 10/20\n",
            "188/188 [==============================] - 1s 4ms/step - loss: 1.2592 - accuracy: 0.6643 - val_loss: 1.2183 - val_accuracy: 0.6595\n",
            "Epoch 11/20\n",
            "188/188 [==============================] - 1s 4ms/step - loss: 1.1949 - accuracy: 0.6699 - val_loss: 1.1580 - val_accuracy: 0.6852\n",
            "Epoch 12/20\n",
            "188/188 [==============================] - 1s 4ms/step - loss: 1.1408 - accuracy: 0.6762 - val_loss: 1.1079 - val_accuracy: 0.6811\n",
            "Epoch 13/20\n",
            "188/188 [==============================] - 1s 5ms/step - loss: 1.0947 - accuracy: 0.6844 - val_loss: 1.0645 - val_accuracy: 0.6853\n",
            "Epoch 14/20\n",
            "188/188 [==============================] - 1s 5ms/step - loss: 1.0544 - accuracy: 0.6914 - val_loss: 1.0276 - val_accuracy: 0.7064\n",
            "Epoch 15/20\n",
            "188/188 [==============================] - 1s 4ms/step - loss: 1.0191 - accuracy: 0.6982 - val_loss: 0.9932 - val_accuracy: 0.7053\n",
            "Epoch 16/20\n",
            "188/188 [==============================] - 1s 5ms/step - loss: 0.9876 - accuracy: 0.7038 - val_loss: 0.9641 - val_accuracy: 0.7107\n",
            "Epoch 17/20\n",
            "188/188 [==============================] - 1s 5ms/step - loss: 0.9591 - accuracy: 0.7084 - val_loss: 0.9363 - val_accuracy: 0.7111\n",
            "Epoch 18/20\n",
            "188/188 [==============================] - 1s 5ms/step - loss: 0.9332 - accuracy: 0.7124 - val_loss: 0.9105 - val_accuracy: 0.7168\n",
            "Epoch 19/20\n",
            "188/188 [==============================] - 1s 4ms/step - loss: 0.9097 - accuracy: 0.7169 - val_loss: 0.8899 - val_accuracy: 0.7231\n",
            "Epoch 20/20\n",
            "188/188 [==============================] - 1s 4ms/step - loss: 0.8885 - accuracy: 0.7191 - val_loss: 0.8679 - val_accuracy: 0.7280\n"
          ],
          "name": "stdout"
        },
        {
          "output_type": "display_data",
          "data": {
            "text/html": [
              "<span style=\"color:#4527A0\"><h1 style=\"font-size:18px\">Trial complete</h1></span>"
            ],
            "text/plain": [
              "<IPython.core.display.HTML object>"
            ]
          },
          "metadata": {
            "tags": []
          }
        },
        {
          "output_type": "display_data",
          "data": {
            "text/html": [
              "<span style=\"color:#4527A0\"><h1 style=\"font-size:18px\">Trial summary</h1></span>"
            ],
            "text/plain": [
              "<IPython.core.display.HTML object>"
            ]
          },
          "metadata": {
            "tags": []
          }
        },
        {
          "output_type": "display_data",
          "data": {
            "text/html": [
              "<span style=\"color:cyan\"> |-Trial ID: 9b53f86dd99067c74d61ec7cbac942da</span>"
            ],
            "text/plain": [
              "<IPython.core.display.HTML object>"
            ]
          },
          "metadata": {
            "tags": []
          }
        },
        {
          "output_type": "display_data",
          "data": {
            "text/html": [
              "<span style=\"color:cyan\"> |-Score: 0.7279999852180481</span>"
            ],
            "text/plain": [
              "<IPython.core.display.HTML object>"
            ]
          },
          "metadata": {
            "tags": []
          }
        },
        {
          "output_type": "display_data",
          "data": {
            "text/html": [
              "<span style=\"color:cyan\"> |-Best step: 0</span>"
            ],
            "text/plain": [
              "<IPython.core.display.HTML object>"
            ]
          },
          "metadata": {
            "tags": []
          }
        },
        {
          "output_type": "display_data",
          "data": {
            "text/html": [
              "<span style=\"color:#7E57C2\"><h2 style=\"font-size:16px\">Hyperparameters:</h2></span>"
            ],
            "text/plain": [
              "<IPython.core.display.HTML object>"
            ]
          },
          "metadata": {
            "tags": []
          }
        },
        {
          "output_type": "display_data",
          "data": {
            "text/html": [
              "<span style=\"color:cyan\"> |-activation: sigmoid</span>"
            ],
            "text/plain": [
              "<IPython.core.display.HTML object>"
            ]
          },
          "metadata": {
            "tags": []
          }
        },
        {
          "output_type": "display_data",
          "data": {
            "text/html": [
              "<span style=\"color:blue\"> |-optimizer: SGD</span>"
            ],
            "text/plain": [
              "<IPython.core.display.HTML object>"
            ]
          },
          "metadata": {
            "tags": []
          }
        },
        {
          "output_type": "display_data",
          "data": {
            "text/html": [
              "<span style=\"color:cyan\"> |-units_hidden: 384</span>"
            ],
            "text/plain": [
              "<IPython.core.display.HTML object>"
            ]
          },
          "metadata": {
            "tags": []
          }
        },
        {
          "output_type": "display_data",
          "data": {
            "text/html": [
              "<span style=\"color:blue\"> |-units_input: 1024</span>"
            ],
            "text/plain": [
              "<IPython.core.display.HTML object>"
            ]
          },
          "metadata": {
            "tags": []
          }
        },
        {
          "output_type": "stream",
          "text": [
            "Epoch 1/20\n",
            "188/188 [==============================] - 1s 5ms/step - loss: 0.7583 - accuracy: 0.7393 - val_loss: 0.5776 - val_accuracy: 0.7857\n",
            "Epoch 2/20\n",
            "188/188 [==============================] - 1s 4ms/step - loss: 0.4781 - accuracy: 0.8198 - val_loss: 0.4683 - val_accuracy: 0.8253\n",
            "Epoch 3/20\n",
            "188/188 [==============================] - 1s 4ms/step - loss: 0.4149 - accuracy: 0.8435 - val_loss: 0.4289 - val_accuracy: 0.8415\n",
            "Epoch 4/20\n",
            "188/188 [==============================] - 1s 4ms/step - loss: 0.3748 - accuracy: 0.8580 - val_loss: 0.3949 - val_accuracy: 0.8546\n",
            "Epoch 5/20\n",
            "188/188 [==============================] - 1s 4ms/step - loss: 0.3407 - accuracy: 0.8721 - val_loss: 0.3543 - val_accuracy: 0.8644\n",
            "Epoch 6/20\n",
            "188/188 [==============================] - 1s 4ms/step - loss: 0.3200 - accuracy: 0.8798 - val_loss: 0.4597 - val_accuracy: 0.8298\n",
            "Epoch 7/20\n",
            "188/188 [==============================] - 1s 5ms/step - loss: 0.3043 - accuracy: 0.8843 - val_loss: 0.3818 - val_accuracy: 0.8496\n",
            "Epoch 8/20\n",
            "188/188 [==============================] - 1s 4ms/step - loss: 0.2873 - accuracy: 0.8905 - val_loss: 0.3656 - val_accuracy: 0.8692\n",
            "Epoch 9/20\n",
            "188/188 [==============================] - 1s 5ms/step - loss: 0.2729 - accuracy: 0.8961 - val_loss: 0.3475 - val_accuracy: 0.8727\n",
            "Epoch 10/20\n",
            "188/188 [==============================] - 1s 4ms/step - loss: 0.2642 - accuracy: 0.8985 - val_loss: 0.3763 - val_accuracy: 0.8696\n",
            "Epoch 11/20\n",
            "188/188 [==============================] - 1s 4ms/step - loss: 0.2492 - accuracy: 0.9048 - val_loss: 0.3472 - val_accuracy: 0.8770\n",
            "Epoch 12/20\n",
            "188/188 [==============================] - 1s 4ms/step - loss: 0.2394 - accuracy: 0.9096 - val_loss: 0.3684 - val_accuracy: 0.8724\n",
            "Epoch 13/20\n",
            "188/188 [==============================] - 1s 5ms/step - loss: 0.2338 - accuracy: 0.9108 - val_loss: 0.3452 - val_accuracy: 0.8792\n",
            "Epoch 14/20\n",
            "188/188 [==============================] - 1s 4ms/step - loss: 0.2240 - accuracy: 0.9136 - val_loss: 0.3363 - val_accuracy: 0.8848\n",
            "Epoch 15/20\n",
            "188/188 [==============================] - 1s 5ms/step - loss: 0.2150 - accuracy: 0.9165 - val_loss: 0.3530 - val_accuracy: 0.8807\n",
            "Epoch 16/20\n",
            "188/188 [==============================] - 1s 4ms/step - loss: 0.2071 - accuracy: 0.9200 - val_loss: 0.3620 - val_accuracy: 0.8761\n",
            "Epoch 17/20\n",
            "188/188 [==============================] - 1s 4ms/step - loss: 0.1998 - accuracy: 0.9236 - val_loss: 0.5146 - val_accuracy: 0.8313\n",
            "Epoch 18/20\n",
            "188/188 [==============================] - 1s 4ms/step - loss: 0.1956 - accuracy: 0.9249 - val_loss: 0.3412 - val_accuracy: 0.8849\n",
            "Epoch 19/20\n",
            "188/188 [==============================] - 1s 5ms/step - loss: 0.1866 - accuracy: 0.9284 - val_loss: 0.3624 - val_accuracy: 0.8786\n",
            "Epoch 20/20\n",
            "188/188 [==============================] - 1s 5ms/step - loss: 0.1805 - accuracy: 0.9313 - val_loss: 0.3989 - val_accuracy: 0.8754\n"
          ],
          "name": "stdout"
        },
        {
          "output_type": "display_data",
          "data": {
            "text/html": [
              "<span style=\"color:#4527A0\"><h1 style=\"font-size:18px\">Trial complete</h1></span>"
            ],
            "text/plain": [
              "<IPython.core.display.HTML object>"
            ]
          },
          "metadata": {
            "tags": []
          }
        },
        {
          "output_type": "display_data",
          "data": {
            "text/html": [
              "<span style=\"color:#4527A0\"><h1 style=\"font-size:18px\">Trial summary</h1></span>"
            ],
            "text/plain": [
              "<IPython.core.display.HTML object>"
            ]
          },
          "metadata": {
            "tags": []
          }
        },
        {
          "output_type": "display_data",
          "data": {
            "text/html": [
              "<span style=\"color:cyan\"> |-Trial ID: 2277e41049550101a84cafc63c3fa512</span>"
            ],
            "text/plain": [
              "<IPython.core.display.HTML object>"
            ]
          },
          "metadata": {
            "tags": []
          }
        },
        {
          "output_type": "display_data",
          "data": {
            "text/html": [
              "<span style=\"color:cyan\"> |-Score: 0.8849166631698608</span>"
            ],
            "text/plain": [
              "<IPython.core.display.HTML object>"
            ]
          },
          "metadata": {
            "tags": []
          }
        },
        {
          "output_type": "display_data",
          "data": {
            "text/html": [
              "<span style=\"color:cyan\"> |-Best step: 0</span>"
            ],
            "text/plain": [
              "<IPython.core.display.HTML object>"
            ]
          },
          "metadata": {
            "tags": []
          }
        },
        {
          "output_type": "display_data",
          "data": {
            "text/html": [
              "<span style=\"color:#7E57C2\"><h2 style=\"font-size:16px\">Hyperparameters:</h2></span>"
            ],
            "text/plain": [
              "<IPython.core.display.HTML object>"
            ]
          },
          "metadata": {
            "tags": []
          }
        },
        {
          "output_type": "display_data",
          "data": {
            "text/html": [
              "<span style=\"color:cyan\"> |-activation: elu</span>"
            ],
            "text/plain": [
              "<IPython.core.display.HTML object>"
            ]
          },
          "metadata": {
            "tags": []
          }
        },
        {
          "output_type": "display_data",
          "data": {
            "text/html": [
              "<span style=\"color:blue\"> |-optimizer: rmsprop</span>"
            ],
            "text/plain": [
              "<IPython.core.display.HTML object>"
            ]
          },
          "metadata": {
            "tags": []
          }
        },
        {
          "output_type": "display_data",
          "data": {
            "text/html": [
              "<span style=\"color:cyan\"> |-units_hidden: 288</span>"
            ],
            "text/plain": [
              "<IPython.core.display.HTML object>"
            ]
          },
          "metadata": {
            "tags": []
          }
        },
        {
          "output_type": "display_data",
          "data": {
            "text/html": [
              "<span style=\"color:blue\"> |-units_input: 608</span>"
            ],
            "text/plain": [
              "<IPython.core.display.HTML object>"
            ]
          },
          "metadata": {
            "tags": []
          }
        },
        {
          "output_type": "stream",
          "text": [
            "Epoch 1/20\n",
            "188/188 [==============================] - 1s 5ms/step - loss: 1.0299 - accuracy: 0.6825 - val_loss: 0.7354 - val_accuracy: 0.7613\n",
            "Epoch 2/20\n",
            "188/188 [==============================] - 1s 4ms/step - loss: 0.6772 - accuracy: 0.7800 - val_loss: 0.6245 - val_accuracy: 0.7944\n",
            "Epoch 3/20\n",
            "188/188 [==============================] - 1s 4ms/step - loss: 0.5981 - accuracy: 0.8040 - val_loss: 0.5717 - val_accuracy: 0.8077\n",
            "Epoch 4/20\n",
            "188/188 [==============================] - 1s 4ms/step - loss: 0.5556 - accuracy: 0.8156 - val_loss: 0.5393 - val_accuracy: 0.8180\n",
            "Epoch 5/20\n",
            "188/188 [==============================] - 1s 4ms/step - loss: 0.5280 - accuracy: 0.8219 - val_loss: 0.5210 - val_accuracy: 0.8205\n",
            "Epoch 6/20\n",
            "188/188 [==============================] - 1s 4ms/step - loss: 0.5086 - accuracy: 0.8279 - val_loss: 0.5054 - val_accuracy: 0.8247\n",
            "Epoch 7/20\n",
            "188/188 [==============================] - 1s 4ms/step - loss: 0.4938 - accuracy: 0.8314 - val_loss: 0.4945 - val_accuracy: 0.8260\n",
            "Epoch 8/20\n",
            "188/188 [==============================] - 1s 4ms/step - loss: 0.4819 - accuracy: 0.8361 - val_loss: 0.4842 - val_accuracy: 0.8313\n",
            "Epoch 9/20\n",
            "188/188 [==============================] - 1s 4ms/step - loss: 0.4723 - accuracy: 0.8386 - val_loss: 0.4732 - val_accuracy: 0.8353\n",
            "Epoch 10/20\n",
            "188/188 [==============================] - 1s 4ms/step - loss: 0.4644 - accuracy: 0.8402 - val_loss: 0.4721 - val_accuracy: 0.8353\n",
            "Epoch 11/20\n",
            "188/188 [==============================] - 1s 4ms/step - loss: 0.4577 - accuracy: 0.8426 - val_loss: 0.4636 - val_accuracy: 0.8367\n",
            "Epoch 12/20\n",
            "188/188 [==============================] - 1s 4ms/step - loss: 0.4518 - accuracy: 0.8444 - val_loss: 0.4751 - val_accuracy: 0.8332\n",
            "Epoch 13/20\n",
            "188/188 [==============================] - 1s 4ms/step - loss: 0.4462 - accuracy: 0.8456 - val_loss: 0.4522 - val_accuracy: 0.8418\n",
            "Epoch 14/20\n",
            "188/188 [==============================] - 1s 4ms/step - loss: 0.4415 - accuracy: 0.8480 - val_loss: 0.4511 - val_accuracy: 0.8401\n",
            "Epoch 15/20\n",
            "188/188 [==============================] - 1s 4ms/step - loss: 0.4371 - accuracy: 0.8493 - val_loss: 0.4473 - val_accuracy: 0.8450\n",
            "Epoch 16/20\n",
            "188/188 [==============================] - 1s 4ms/step - loss: 0.4329 - accuracy: 0.8503 - val_loss: 0.4474 - val_accuracy: 0.8409\n",
            "Epoch 17/20\n",
            "188/188 [==============================] - 1s 5ms/step - loss: 0.4294 - accuracy: 0.8511 - val_loss: 0.4499 - val_accuracy: 0.8436\n",
            "Epoch 18/20\n",
            "188/188 [==============================] - 1s 5ms/step - loss: 0.4266 - accuracy: 0.8517 - val_loss: 0.4377 - val_accuracy: 0.8472\n",
            "Epoch 19/20\n",
            "188/188 [==============================] - 1s 4ms/step - loss: 0.4235 - accuracy: 0.8535 - val_loss: 0.4406 - val_accuracy: 0.8447\n",
            "Epoch 20/20\n",
            "188/188 [==============================] - 1s 4ms/step - loss: 0.4211 - accuracy: 0.8542 - val_loss: 0.4355 - val_accuracy: 0.8460\n"
          ],
          "name": "stdout"
        },
        {
          "output_type": "display_data",
          "data": {
            "text/html": [
              "<span style=\"color:#4527A0\"><h1 style=\"font-size:18px\">Trial complete</h1></span>"
            ],
            "text/plain": [
              "<IPython.core.display.HTML object>"
            ]
          },
          "metadata": {
            "tags": []
          }
        },
        {
          "output_type": "display_data",
          "data": {
            "text/html": [
              "<span style=\"color:#4527A0\"><h1 style=\"font-size:18px\">Trial summary</h1></span>"
            ],
            "text/plain": [
              "<IPython.core.display.HTML object>"
            ]
          },
          "metadata": {
            "tags": []
          }
        },
        {
          "output_type": "display_data",
          "data": {
            "text/html": [
              "<span style=\"color:cyan\"> |-Trial ID: 49a6bd061ff9a4832b8d707815191003</span>"
            ],
            "text/plain": [
              "<IPython.core.display.HTML object>"
            ]
          },
          "metadata": {
            "tags": []
          }
        },
        {
          "output_type": "display_data",
          "data": {
            "text/html": [
              "<span style=\"color:cyan\"> |-Score: 0.8472499847412109</span>"
            ],
            "text/plain": [
              "<IPython.core.display.HTML object>"
            ]
          },
          "metadata": {
            "tags": []
          }
        },
        {
          "output_type": "display_data",
          "data": {
            "text/html": [
              "<span style=\"color:cyan\"> |-Best step: 0</span>"
            ],
            "text/plain": [
              "<IPython.core.display.HTML object>"
            ]
          },
          "metadata": {
            "tags": []
          }
        },
        {
          "output_type": "display_data",
          "data": {
            "text/html": [
              "<span style=\"color:#7E57C2\"><h2 style=\"font-size:16px\">Hyperparameters:</h2></span>"
            ],
            "text/plain": [
              "<IPython.core.display.HTML object>"
            ]
          },
          "metadata": {
            "tags": []
          }
        },
        {
          "output_type": "display_data",
          "data": {
            "text/html": [
              "<span style=\"color:cyan\"> |-activation: elu</span>"
            ],
            "text/plain": [
              "<IPython.core.display.HTML object>"
            ]
          },
          "metadata": {
            "tags": []
          }
        },
        {
          "output_type": "display_data",
          "data": {
            "text/html": [
              "<span style=\"color:blue\"> |-optimizer: SGD</span>"
            ],
            "text/plain": [
              "<IPython.core.display.HTML object>"
            ]
          },
          "metadata": {
            "tags": []
          }
        },
        {
          "output_type": "display_data",
          "data": {
            "text/html": [
              "<span style=\"color:cyan\"> |-units_hidden: 480</span>"
            ],
            "text/plain": [
              "<IPython.core.display.HTML object>"
            ]
          },
          "metadata": {
            "tags": []
          }
        },
        {
          "output_type": "display_data",
          "data": {
            "text/html": [
              "<span style=\"color:blue\"> |-units_input: 928</span>"
            ],
            "text/plain": [
              "<IPython.core.display.HTML object>"
            ]
          },
          "metadata": {
            "tags": []
          }
        },
        {
          "output_type": "stream",
          "text": [
            "Epoch 1/20\n",
            "188/188 [==============================] - 1s 5ms/step - loss: 0.7278 - accuracy: 0.7516 - val_loss: 0.4889 - val_accuracy: 0.8214\n",
            "Epoch 2/20\n",
            "188/188 [==============================] - 1s 5ms/step - loss: 0.4526 - accuracy: 0.8366 - val_loss: 0.4598 - val_accuracy: 0.8295\n",
            "Epoch 3/20\n",
            "188/188 [==============================] - 1s 5ms/step - loss: 0.4058 - accuracy: 0.8531 - val_loss: 0.4044 - val_accuracy: 0.8506\n",
            "Epoch 4/20\n",
            "188/188 [==============================] - 1s 5ms/step - loss: 0.3777 - accuracy: 0.8634 - val_loss: 0.3791 - val_accuracy: 0.8641\n",
            "Epoch 5/20\n",
            "188/188 [==============================] - 1s 5ms/step - loss: 0.3631 - accuracy: 0.8669 - val_loss: 0.3840 - val_accuracy: 0.8583\n",
            "Epoch 6/20\n",
            "188/188 [==============================] - 1s 5ms/step - loss: 0.3434 - accuracy: 0.8753 - val_loss: 0.3648 - val_accuracy: 0.8668\n",
            "Epoch 7/20\n",
            "188/188 [==============================] - 1s 5ms/step - loss: 0.3305 - accuracy: 0.8798 - val_loss: 0.3632 - val_accuracy: 0.8677\n",
            "Epoch 8/20\n",
            "188/188 [==============================] - 1s 5ms/step - loss: 0.3175 - accuracy: 0.8832 - val_loss: 0.3383 - val_accuracy: 0.8785\n",
            "Epoch 9/20\n",
            "188/188 [==============================] - 1s 5ms/step - loss: 0.3088 - accuracy: 0.8874 - val_loss: 0.3295 - val_accuracy: 0.8808\n",
            "Epoch 10/20\n",
            "188/188 [==============================] - 1s 5ms/step - loss: 0.2978 - accuracy: 0.8913 - val_loss: 0.3395 - val_accuracy: 0.8733\n",
            "Epoch 11/20\n",
            "188/188 [==============================] - 1s 5ms/step - loss: 0.2880 - accuracy: 0.8939 - val_loss: 0.3216 - val_accuracy: 0.8818\n",
            "Epoch 12/20\n",
            "188/188 [==============================] - 1s 5ms/step - loss: 0.2799 - accuracy: 0.8978 - val_loss: 0.3183 - val_accuracy: 0.8871\n",
            "Epoch 13/20\n",
            "188/188 [==============================] - 1s 5ms/step - loss: 0.2711 - accuracy: 0.9004 - val_loss: 0.3283 - val_accuracy: 0.8812\n",
            "Epoch 14/20\n",
            "188/188 [==============================] - 1s 4ms/step - loss: 0.2591 - accuracy: 0.9044 - val_loss: 0.3338 - val_accuracy: 0.8788\n",
            "Epoch 15/20\n",
            "188/188 [==============================] - 1s 5ms/step - loss: 0.2590 - accuracy: 0.9048 - val_loss: 0.3094 - val_accuracy: 0.8904\n",
            "Epoch 16/20\n",
            "188/188 [==============================] - 1s 4ms/step - loss: 0.2432 - accuracy: 0.9084 - val_loss: 0.3057 - val_accuracy: 0.8889\n",
            "Epoch 17/20\n",
            "188/188 [==============================] - 1s 5ms/step - loss: 0.2356 - accuracy: 0.9127 - val_loss: 0.3111 - val_accuracy: 0.8883\n",
            "Epoch 18/20\n",
            "188/188 [==============================] - 1s 5ms/step - loss: 0.2378 - accuracy: 0.9126 - val_loss: 0.3038 - val_accuracy: 0.8917\n",
            "Epoch 19/20\n",
            "188/188 [==============================] - 1s 5ms/step - loss: 0.2228 - accuracy: 0.9168 - val_loss: 0.3068 - val_accuracy: 0.8902\n",
            "Epoch 20/20\n",
            "188/188 [==============================] - 1s 4ms/step - loss: 0.2170 - accuracy: 0.9195 - val_loss: 0.3283 - val_accuracy: 0.8823\n"
          ],
          "name": "stdout"
        },
        {
          "output_type": "display_data",
          "data": {
            "text/html": [
              "<span style=\"color:#4527A0\"><h1 style=\"font-size:18px\">Trial complete</h1></span>"
            ],
            "text/plain": [
              "<IPython.core.display.HTML object>"
            ]
          },
          "metadata": {
            "tags": []
          }
        },
        {
          "output_type": "display_data",
          "data": {
            "text/html": [
              "<span style=\"color:#4527A0\"><h1 style=\"font-size:18px\">Trial summary</h1></span>"
            ],
            "text/plain": [
              "<IPython.core.display.HTML object>"
            ]
          },
          "metadata": {
            "tags": []
          }
        },
        {
          "output_type": "display_data",
          "data": {
            "text/html": [
              "<span style=\"color:cyan\"> |-Trial ID: 9307cf4e6748ca633a899b98029f341c</span>"
            ],
            "text/plain": [
              "<IPython.core.display.HTML object>"
            ]
          },
          "metadata": {
            "tags": []
          }
        },
        {
          "output_type": "display_data",
          "data": {
            "text/html": [
              "<span style=\"color:cyan\"> |-Score: 0.8916666507720947</span>"
            ],
            "text/plain": [
              "<IPython.core.display.HTML object>"
            ]
          },
          "metadata": {
            "tags": []
          }
        },
        {
          "output_type": "display_data",
          "data": {
            "text/html": [
              "<span style=\"color:cyan\"> |-Best step: 0</span>"
            ],
            "text/plain": [
              "<IPython.core.display.HTML object>"
            ]
          },
          "metadata": {
            "tags": []
          }
        },
        {
          "output_type": "display_data",
          "data": {
            "text/html": [
              "<span style=\"color:#7E57C2\"><h2 style=\"font-size:16px\">Hyperparameters:</h2></span>"
            ],
            "text/plain": [
              "<IPython.core.display.HTML object>"
            ]
          },
          "metadata": {
            "tags": []
          }
        },
        {
          "output_type": "display_data",
          "data": {
            "text/html": [
              "<span style=\"color:cyan\"> |-activation: sigmoid</span>"
            ],
            "text/plain": [
              "<IPython.core.display.HTML object>"
            ]
          },
          "metadata": {
            "tags": []
          }
        },
        {
          "output_type": "display_data",
          "data": {
            "text/html": [
              "<span style=\"color:blue\"> |-optimizer: adam</span>"
            ],
            "text/plain": [
              "<IPython.core.display.HTML object>"
            ]
          },
          "metadata": {
            "tags": []
          }
        },
        {
          "output_type": "display_data",
          "data": {
            "text/html": [
              "<span style=\"color:cyan\"> |-units_hidden: 352</span>"
            ],
            "text/plain": [
              "<IPython.core.display.HTML object>"
            ]
          },
          "metadata": {
            "tags": []
          }
        },
        {
          "output_type": "display_data",
          "data": {
            "text/html": [
              "<span style=\"color:blue\"> |-units_input: 992</span>"
            ],
            "text/plain": [
              "<IPython.core.display.HTML object>"
            ]
          },
          "metadata": {
            "tags": []
          }
        },
        {
          "output_type": "stream",
          "text": [
            "Epoch 1/20\n",
            "188/188 [==============================] - 1s 6ms/step - loss: 0.8185 - accuracy: 0.7025 - val_loss: 0.5458 - val_accuracy: 0.7962\n",
            "Epoch 2/20\n",
            "188/188 [==============================] - 1s 5ms/step - loss: 0.4986 - accuracy: 0.8149 - val_loss: 0.5259 - val_accuracy: 0.8045\n",
            "Epoch 3/20\n",
            "188/188 [==============================] - 1s 5ms/step - loss: 0.4378 - accuracy: 0.8398 - val_loss: 0.4492 - val_accuracy: 0.8342\n",
            "Epoch 4/20\n",
            "188/188 [==============================] - 1s 5ms/step - loss: 0.4011 - accuracy: 0.8548 - val_loss: 0.3831 - val_accuracy: 0.8621\n",
            "Epoch 5/20\n",
            "188/188 [==============================] - 1s 4ms/step - loss: 0.3755 - accuracy: 0.8623 - val_loss: 0.4496 - val_accuracy: 0.8358\n",
            "Epoch 6/20\n",
            "188/188 [==============================] - 1s 5ms/step - loss: 0.3575 - accuracy: 0.8676 - val_loss: 0.3701 - val_accuracy: 0.8661\n",
            "Epoch 7/20\n",
            "188/188 [==============================] - 1s 5ms/step - loss: 0.3395 - accuracy: 0.8742 - val_loss: 0.4095 - val_accuracy: 0.8547\n",
            "Epoch 8/20\n",
            "188/188 [==============================] - 1s 5ms/step - loss: 0.3249 - accuracy: 0.8792 - val_loss: 0.3450 - val_accuracy: 0.8742\n",
            "Epoch 9/20\n",
            "188/188 [==============================] - 1s 5ms/step - loss: 0.3145 - accuracy: 0.8818 - val_loss: 0.3445 - val_accuracy: 0.8708\n",
            "Epoch 10/20\n",
            "188/188 [==============================] - 1s 5ms/step - loss: 0.3031 - accuracy: 0.8866 - val_loss: 0.3573 - val_accuracy: 0.8694\n",
            "Epoch 11/20\n",
            "188/188 [==============================] - 1s 5ms/step - loss: 0.2913 - accuracy: 0.8904 - val_loss: 0.3478 - val_accuracy: 0.8711\n",
            "Epoch 12/20\n",
            "188/188 [==============================] - 1s 5ms/step - loss: 0.2821 - accuracy: 0.8946 - val_loss: 0.3134 - val_accuracy: 0.8860\n",
            "Epoch 13/20\n",
            "188/188 [==============================] - 1s 5ms/step - loss: 0.2735 - accuracy: 0.8977 - val_loss: 0.3321 - val_accuracy: 0.8801\n",
            "Epoch 14/20\n",
            "188/188 [==============================] - 1s 4ms/step - loss: 0.2653 - accuracy: 0.8993 - val_loss: 0.3353 - val_accuracy: 0.8777\n",
            "Epoch 15/20\n",
            "188/188 [==============================] - 1s 4ms/step - loss: 0.2576 - accuracy: 0.9021 - val_loss: 0.3439 - val_accuracy: 0.8751\n",
            "Epoch 16/20\n",
            "188/188 [==============================] - 1s 5ms/step - loss: 0.2494 - accuracy: 0.9066 - val_loss: 0.3136 - val_accuracy: 0.8901\n",
            "Epoch 17/20\n",
            "188/188 [==============================] - 1s 4ms/step - loss: 0.2435 - accuracy: 0.9076 - val_loss: 0.3490 - val_accuracy: 0.8739\n",
            "Epoch 18/20\n",
            "188/188 [==============================] - 1s 4ms/step - loss: 0.2378 - accuracy: 0.9097 - val_loss: 0.3684 - val_accuracy: 0.8721\n",
            "Epoch 19/20\n",
            "188/188 [==============================] - 1s 5ms/step - loss: 0.2310 - accuracy: 0.9122 - val_loss: 0.2961 - val_accuracy: 0.8952\n",
            "Epoch 20/20\n",
            "188/188 [==============================] - 1s 5ms/step - loss: 0.2250 - accuracy: 0.9156 - val_loss: 0.3216 - val_accuracy: 0.8832\n"
          ],
          "name": "stdout"
        },
        {
          "output_type": "display_data",
          "data": {
            "text/html": [
              "<span style=\"color:#4527A0\"><h1 style=\"font-size:18px\">Trial complete</h1></span>"
            ],
            "text/plain": [
              "<IPython.core.display.HTML object>"
            ]
          },
          "metadata": {
            "tags": []
          }
        },
        {
          "output_type": "display_data",
          "data": {
            "text/html": [
              "<span style=\"color:#4527A0\"><h1 style=\"font-size:18px\">Trial summary</h1></span>"
            ],
            "text/plain": [
              "<IPython.core.display.HTML object>"
            ]
          },
          "metadata": {
            "tags": []
          }
        },
        {
          "output_type": "display_data",
          "data": {
            "text/html": [
              "<span style=\"color:cyan\"> |-Trial ID: 032bc19d7cbc8e96b97e0d595bdfd7f5</span>"
            ],
            "text/plain": [
              "<IPython.core.display.HTML object>"
            ]
          },
          "metadata": {
            "tags": []
          }
        },
        {
          "output_type": "display_data",
          "data": {
            "text/html": [
              "<span style=\"color:cyan\"> |-Score: 0.8951666951179504</span>"
            ],
            "text/plain": [
              "<IPython.core.display.HTML object>"
            ]
          },
          "metadata": {
            "tags": []
          }
        },
        {
          "output_type": "display_data",
          "data": {
            "text/html": [
              "<span style=\"color:cyan\"> |-Best step: 0</span>"
            ],
            "text/plain": [
              "<IPython.core.display.HTML object>"
            ]
          },
          "metadata": {
            "tags": []
          }
        },
        {
          "output_type": "display_data",
          "data": {
            "text/html": [
              "<span style=\"color:#7E57C2\"><h2 style=\"font-size:16px\">Hyperparameters:</h2></span>"
            ],
            "text/plain": [
              "<IPython.core.display.HTML object>"
            ]
          },
          "metadata": {
            "tags": []
          }
        },
        {
          "output_type": "display_data",
          "data": {
            "text/html": [
              "<span style=\"color:cyan\"> |-activation: sigmoid</span>"
            ],
            "text/plain": [
              "<IPython.core.display.HTML object>"
            ]
          },
          "metadata": {
            "tags": []
          }
        },
        {
          "output_type": "display_data",
          "data": {
            "text/html": [
              "<span style=\"color:blue\"> |-optimizer: rmsprop</span>"
            ],
            "text/plain": [
              "<IPython.core.display.HTML object>"
            ]
          },
          "metadata": {
            "tags": []
          }
        },
        {
          "output_type": "display_data",
          "data": {
            "text/html": [
              "<span style=\"color:cyan\"> |-units_hidden: 416</span>"
            ],
            "text/plain": [
              "<IPython.core.display.HTML object>"
            ]
          },
          "metadata": {
            "tags": []
          }
        },
        {
          "output_type": "display_data",
          "data": {
            "text/html": [
              "<span style=\"color:blue\"> |-units_input: 960</span>"
            ],
            "text/plain": [
              "<IPython.core.display.HTML object>"
            ]
          },
          "metadata": {
            "tags": []
          }
        },
        {
          "output_type": "stream",
          "text": [
            "Epoch 1/20\n",
            "188/188 [==============================] - 1s 5ms/step - loss: 1.1222 - accuracy: 0.7024 - val_loss: 0.6713 - val_accuracy: 0.7536\n",
            "Epoch 2/20\n",
            "188/188 [==============================] - 1s 5ms/step - loss: 0.5494 - accuracy: 0.8006 - val_loss: 0.5851 - val_accuracy: 0.7818\n",
            "Epoch 3/20\n",
            "188/188 [==============================] - 1s 5ms/step - loss: 0.4521 - accuracy: 0.8328 - val_loss: 0.4359 - val_accuracy: 0.8410\n",
            "Epoch 4/20\n",
            "188/188 [==============================] - 1s 4ms/step - loss: 0.4006 - accuracy: 0.8506 - val_loss: 0.5148 - val_accuracy: 0.8318\n",
            "Epoch 5/20\n",
            "188/188 [==============================] - 1s 5ms/step - loss: 0.3688 - accuracy: 0.8616 - val_loss: 0.4764 - val_accuracy: 0.8232\n",
            "Epoch 6/20\n",
            "188/188 [==============================] - 1s 5ms/step - loss: 0.3472 - accuracy: 0.8688 - val_loss: 0.5175 - val_accuracy: 0.8328\n",
            "Epoch 7/20\n",
            "188/188 [==============================] - 1s 4ms/step - loss: 0.3238 - accuracy: 0.8774 - val_loss: 0.4942 - val_accuracy: 0.8347\n",
            "Epoch 8/20\n",
            "188/188 [==============================] - 1s 4ms/step - loss: 0.3110 - accuracy: 0.8820 - val_loss: 0.4048 - val_accuracy: 0.8572\n",
            "Epoch 9/20\n",
            "188/188 [==============================] - 1s 4ms/step - loss: 0.2960 - accuracy: 0.8867 - val_loss: 0.4664 - val_accuracy: 0.8444\n",
            "Epoch 10/20\n",
            "188/188 [==============================] - 1s 4ms/step - loss: 0.2847 - accuracy: 0.8916 - val_loss: 0.3609 - val_accuracy: 0.8773\n",
            "Epoch 11/20\n",
            "188/188 [==============================] - 1s 5ms/step - loss: 0.2733 - accuracy: 0.8957 - val_loss: 0.3471 - val_accuracy: 0.8853\n",
            "Epoch 12/20\n",
            "188/188 [==============================] - 1s 4ms/step - loss: 0.2652 - accuracy: 0.8984 - val_loss: 0.3559 - val_accuracy: 0.8784\n",
            "Epoch 13/20\n",
            "188/188 [==============================] - 1s 4ms/step - loss: 0.2537 - accuracy: 0.9019 - val_loss: 0.4795 - val_accuracy: 0.8428\n",
            "Epoch 14/20\n",
            "188/188 [==============================] - 1s 4ms/step - loss: 0.2475 - accuracy: 0.9045 - val_loss: 0.5329 - val_accuracy: 0.8353\n",
            "Epoch 15/20\n",
            "188/188 [==============================] - 1s 5ms/step - loss: 0.2386 - accuracy: 0.9090 - val_loss: 0.3698 - val_accuracy: 0.8802\n",
            "Epoch 16/20\n",
            "188/188 [==============================] - 1s 5ms/step - loss: 0.2318 - accuracy: 0.9110 - val_loss: 0.3709 - val_accuracy: 0.8761\n",
            "Epoch 17/20\n",
            "188/188 [==============================] - 1s 5ms/step - loss: 0.2255 - accuracy: 0.9145 - val_loss: 0.3858 - val_accuracy: 0.8780\n",
            "Epoch 18/20\n",
            "188/188 [==============================] - 1s 5ms/step - loss: 0.2169 - accuracy: 0.9170 - val_loss: 0.3606 - val_accuracy: 0.8863\n",
            "Epoch 19/20\n",
            "188/188 [==============================] - 1s 4ms/step - loss: 0.2154 - accuracy: 0.9196 - val_loss: 0.4358 - val_accuracy: 0.8685\n",
            "Epoch 20/20\n",
            "188/188 [==============================] - 1s 4ms/step - loss: 0.2071 - accuracy: 0.9206 - val_loss: 0.3856 - val_accuracy: 0.8878\n"
          ],
          "name": "stdout"
        },
        {
          "output_type": "display_data",
          "data": {
            "text/html": [
              "<span style=\"color:#4527A0\"><h1 style=\"font-size:18px\">Trial complete</h1></span>"
            ],
            "text/plain": [
              "<IPython.core.display.HTML object>"
            ]
          },
          "metadata": {
            "tags": []
          }
        },
        {
          "output_type": "display_data",
          "data": {
            "text/html": [
              "<span style=\"color:#4527A0\"><h1 style=\"font-size:18px\">Trial summary</h1></span>"
            ],
            "text/plain": [
              "<IPython.core.display.HTML object>"
            ]
          },
          "metadata": {
            "tags": []
          }
        },
        {
          "output_type": "display_data",
          "data": {
            "text/html": [
              "<span style=\"color:cyan\"> |-Trial ID: 0151f345f93676b88569798c7deb94ca</span>"
            ],
            "text/plain": [
              "<IPython.core.display.HTML object>"
            ]
          },
          "metadata": {
            "tags": []
          }
        },
        {
          "output_type": "display_data",
          "data": {
            "text/html": [
              "<span style=\"color:cyan\"> |-Score: 0.8878333568572998</span>"
            ],
            "text/plain": [
              "<IPython.core.display.HTML object>"
            ]
          },
          "metadata": {
            "tags": []
          }
        },
        {
          "output_type": "display_data",
          "data": {
            "text/html": [
              "<span style=\"color:cyan\"> |-Best step: 0</span>"
            ],
            "text/plain": [
              "<IPython.core.display.HTML object>"
            ]
          },
          "metadata": {
            "tags": []
          }
        },
        {
          "output_type": "display_data",
          "data": {
            "text/html": [
              "<span style=\"color:#7E57C2\"><h2 style=\"font-size:16px\">Hyperparameters:</h2></span>"
            ],
            "text/plain": [
              "<IPython.core.display.HTML object>"
            ]
          },
          "metadata": {
            "tags": []
          }
        },
        {
          "output_type": "display_data",
          "data": {
            "text/html": [
              "<span style=\"color:cyan\"> |-activation: selu</span>"
            ],
            "text/plain": [
              "<IPython.core.display.HTML object>"
            ]
          },
          "metadata": {
            "tags": []
          }
        },
        {
          "output_type": "display_data",
          "data": {
            "text/html": [
              "<span style=\"color:blue\"> |-optimizer: rmsprop</span>"
            ],
            "text/plain": [
              "<IPython.core.display.HTML object>"
            ]
          },
          "metadata": {
            "tags": []
          }
        },
        {
          "output_type": "display_data",
          "data": {
            "text/html": [
              "<span style=\"color:cyan\"> |-units_hidden: 352</span>"
            ],
            "text/plain": [
              "<IPython.core.display.HTML object>"
            ]
          },
          "metadata": {
            "tags": []
          }
        },
        {
          "output_type": "display_data",
          "data": {
            "text/html": [
              "<span style=\"color:blue\"> |-units_input: 864</span>"
            ],
            "text/plain": [
              "<IPython.core.display.HTML object>"
            ]
          },
          "metadata": {
            "tags": []
          }
        },
        {
          "output_type": "stream",
          "text": [
            "Epoch 1/20\n",
            "188/188 [==============================] - 1s 5ms/step - loss: 0.5289 - accuracy: 0.8124 - val_loss: 0.4083 - val_accuracy: 0.8571\n",
            "Epoch 2/20\n",
            "188/188 [==============================] - 1s 4ms/step - loss: 0.3715 - accuracy: 0.8668 - val_loss: 0.3619 - val_accuracy: 0.8732\n",
            "Epoch 3/20\n",
            "188/188 [==============================] - 1s 4ms/step - loss: 0.3319 - accuracy: 0.8797 - val_loss: 0.3490 - val_accuracy: 0.8760\n",
            "Epoch 4/20\n",
            "188/188 [==============================] - 1s 4ms/step - loss: 0.3012 - accuracy: 0.8884 - val_loss: 0.3365 - val_accuracy: 0.8786\n",
            "Epoch 5/20\n",
            "188/188 [==============================] - 1s 4ms/step - loss: 0.2796 - accuracy: 0.8958 - val_loss: 0.3315 - val_accuracy: 0.8819\n",
            "Epoch 6/20\n",
            "188/188 [==============================] - 1s 4ms/step - loss: 0.2714 - accuracy: 0.8992 - val_loss: 0.3213 - val_accuracy: 0.8827\n",
            "Epoch 7/20\n",
            "188/188 [==============================] - 1s 5ms/step - loss: 0.2518 - accuracy: 0.9064 - val_loss: 0.3298 - val_accuracy: 0.8853\n",
            "Epoch 8/20\n",
            "188/188 [==============================] - 1s 5ms/step - loss: 0.2420 - accuracy: 0.9094 - val_loss: 0.3062 - val_accuracy: 0.8931\n",
            "Epoch 9/20\n",
            "188/188 [==============================] - 1s 4ms/step - loss: 0.2288 - accuracy: 0.9141 - val_loss: 0.3167 - val_accuracy: 0.8870\n",
            "Epoch 10/20\n",
            "188/188 [==============================] - 1s 4ms/step - loss: 0.2182 - accuracy: 0.9188 - val_loss: 0.2965 - val_accuracy: 0.8937\n",
            "Epoch 11/20\n",
            "188/188 [==============================] - 1s 4ms/step - loss: 0.2088 - accuracy: 0.9214 - val_loss: 0.3303 - val_accuracy: 0.8856\n",
            "Epoch 12/20\n",
            "188/188 [==============================] - 1s 4ms/step - loss: 0.2016 - accuracy: 0.9242 - val_loss: 0.3206 - val_accuracy: 0.8899\n",
            "Epoch 13/20\n",
            "188/188 [==============================] - 1s 4ms/step - loss: 0.1964 - accuracy: 0.9252 - val_loss: 0.3325 - val_accuracy: 0.8888\n",
            "Epoch 14/20\n",
            "188/188 [==============================] - 1s 4ms/step - loss: 0.1885 - accuracy: 0.9283 - val_loss: 0.3219 - val_accuracy: 0.8950\n",
            "Epoch 15/20\n",
            "188/188 [==============================] - 1s 4ms/step - loss: 0.1790 - accuracy: 0.9325 - val_loss: 0.3184 - val_accuracy: 0.8931\n",
            "Epoch 16/20\n",
            "188/188 [==============================] - 1s 5ms/step - loss: 0.1762 - accuracy: 0.9336 - val_loss: 0.3024 - val_accuracy: 0.8983\n",
            "Epoch 17/20\n",
            "188/188 [==============================] - 1s 4ms/step - loss: 0.1711 - accuracy: 0.9370 - val_loss: 0.3117 - val_accuracy: 0.8970\n",
            "Epoch 18/20\n",
            "188/188 [==============================] - 1s 4ms/step - loss: 0.1540 - accuracy: 0.9426 - val_loss: 0.3117 - val_accuracy: 0.8974\n",
            "Epoch 19/20\n",
            "188/188 [==============================] - 1s 4ms/step - loss: 0.1505 - accuracy: 0.9436 - val_loss: 0.3225 - val_accuracy: 0.8959\n",
            "Epoch 20/20\n",
            "188/188 [==============================] - 1s 4ms/step - loss: 0.1474 - accuracy: 0.9446 - val_loss: 0.3265 - val_accuracy: 0.8947\n"
          ],
          "name": "stdout"
        },
        {
          "output_type": "display_data",
          "data": {
            "text/html": [
              "<span style=\"color:#4527A0\"><h1 style=\"font-size:18px\">Trial complete</h1></span>"
            ],
            "text/plain": [
              "<IPython.core.display.HTML object>"
            ]
          },
          "metadata": {
            "tags": []
          }
        },
        {
          "output_type": "display_data",
          "data": {
            "text/html": [
              "<span style=\"color:#4527A0\"><h1 style=\"font-size:18px\">Trial summary</h1></span>"
            ],
            "text/plain": [
              "<IPython.core.display.HTML object>"
            ]
          },
          "metadata": {
            "tags": []
          }
        },
        {
          "output_type": "display_data",
          "data": {
            "text/html": [
              "<span style=\"color:cyan\"> |-Trial ID: 0b452671a1f236d15b97b0e75fcc4c8d</span>"
            ],
            "text/plain": [
              "<IPython.core.display.HTML object>"
            ]
          },
          "metadata": {
            "tags": []
          }
        },
        {
          "output_type": "display_data",
          "data": {
            "text/html": [
              "<span style=\"color:cyan\"> |-Score: 0.8983333110809326</span>"
            ],
            "text/plain": [
              "<IPython.core.display.HTML object>"
            ]
          },
          "metadata": {
            "tags": []
          }
        },
        {
          "output_type": "display_data",
          "data": {
            "text/html": [
              "<span style=\"color:cyan\"> |-Best step: 0</span>"
            ],
            "text/plain": [
              "<IPython.core.display.HTML object>"
            ]
          },
          "metadata": {
            "tags": []
          }
        },
        {
          "output_type": "display_data",
          "data": {
            "text/html": [
              "<span style=\"color:#7E57C2\"><h2 style=\"font-size:16px\">Hyperparameters:</h2></span>"
            ],
            "text/plain": [
              "<IPython.core.display.HTML object>"
            ]
          },
          "metadata": {
            "tags": []
          }
        },
        {
          "output_type": "display_data",
          "data": {
            "text/html": [
              "<span style=\"color:cyan\"> |-activation: relu</span>"
            ],
            "text/plain": [
              "<IPython.core.display.HTML object>"
            ]
          },
          "metadata": {
            "tags": []
          }
        },
        {
          "output_type": "display_data",
          "data": {
            "text/html": [
              "<span style=\"color:blue\"> |-optimizer: adam</span>"
            ],
            "text/plain": [
              "<IPython.core.display.HTML object>"
            ]
          },
          "metadata": {
            "tags": []
          }
        },
        {
          "output_type": "display_data",
          "data": {
            "text/html": [
              "<span style=\"color:cyan\"> |-units_hidden: 160</span>"
            ],
            "text/plain": [
              "<IPython.core.display.HTML object>"
            ]
          },
          "metadata": {
            "tags": []
          }
        },
        {
          "output_type": "display_data",
          "data": {
            "text/html": [
              "<span style=\"color:blue\"> |-units_input: 896</span>"
            ],
            "text/plain": [
              "<IPython.core.display.HTML object>"
            ]
          },
          "metadata": {
            "tags": []
          }
        },
        {
          "output_type": "stream",
          "text": [
            "Epoch 1/20\n",
            "188/188 [==============================] - 1s 5ms/step - loss: 0.5879 - accuracy: 0.7956 - val_loss: 0.4400 - val_accuracy: 0.8423\n",
            "Epoch 2/20\n",
            "188/188 [==============================] - 1s 5ms/step - loss: 0.4097 - accuracy: 0.8528 - val_loss: 0.3963 - val_accuracy: 0.8585\n",
            "Epoch 3/20\n",
            "188/188 [==============================] - 1s 5ms/step - loss: 0.3700 - accuracy: 0.8631 - val_loss: 0.3837 - val_accuracy: 0.8608\n",
            "Epoch 4/20\n",
            "188/188 [==============================] - 1s 5ms/step - loss: 0.3403 - accuracy: 0.8754 - val_loss: 0.3739 - val_accuracy: 0.8630\n",
            "Epoch 5/20\n",
            "188/188 [==============================] - 1s 5ms/step - loss: 0.3194 - accuracy: 0.8812 - val_loss: 0.3302 - val_accuracy: 0.8792\n",
            "Epoch 6/20\n",
            "188/188 [==============================] - 1s 4ms/step - loss: 0.3003 - accuracy: 0.8890 - val_loss: 0.3350 - val_accuracy: 0.8787\n",
            "Epoch 7/20\n",
            "188/188 [==============================] - 1s 4ms/step - loss: 0.2874 - accuracy: 0.8934 - val_loss: 0.3327 - val_accuracy: 0.8825\n",
            "Epoch 8/20\n",
            "188/188 [==============================] - 1s 5ms/step - loss: 0.2772 - accuracy: 0.8973 - val_loss: 0.3549 - val_accuracy: 0.8668\n",
            "Epoch 9/20\n",
            "188/188 [==============================] - 1s 5ms/step - loss: 0.2651 - accuracy: 0.9017 - val_loss: 0.3308 - val_accuracy: 0.8846\n",
            "Epoch 10/20\n",
            "188/188 [==============================] - 1s 5ms/step - loss: 0.2516 - accuracy: 0.9065 - val_loss: 0.3198 - val_accuracy: 0.8857\n",
            "Epoch 11/20\n",
            "188/188 [==============================] - 1s 5ms/step - loss: 0.2452 - accuracy: 0.9076 - val_loss: 0.3169 - val_accuracy: 0.8884\n",
            "Epoch 12/20\n",
            "188/188 [==============================] - 1s 5ms/step - loss: 0.2371 - accuracy: 0.9111 - val_loss: 0.3208 - val_accuracy: 0.8868\n",
            "Epoch 13/20\n",
            "188/188 [==============================] - 1s 4ms/step - loss: 0.2246 - accuracy: 0.9159 - val_loss: 0.3243 - val_accuracy: 0.8842\n",
            "Epoch 14/20\n",
            "188/188 [==============================] - 1s 5ms/step - loss: 0.2162 - accuracy: 0.9187 - val_loss: 0.3019 - val_accuracy: 0.8922\n",
            "Epoch 15/20\n",
            "188/188 [==============================] - 1s 4ms/step - loss: 0.2083 - accuracy: 0.9211 - val_loss: 0.3314 - val_accuracy: 0.8847\n",
            "Epoch 16/20\n",
            "188/188 [==============================] - 1s 4ms/step - loss: 0.2037 - accuracy: 0.9230 - val_loss: 0.3372 - val_accuracy: 0.8867\n",
            "Epoch 17/20\n",
            "188/188 [==============================] - 1s 5ms/step - loss: 0.1960 - accuracy: 0.9259 - val_loss: 0.3203 - val_accuracy: 0.8930\n",
            "Epoch 18/20\n",
            "188/188 [==============================] - 1s 4ms/step - loss: 0.1872 - accuracy: 0.9293 - val_loss: 0.3233 - val_accuracy: 0.8892\n",
            "Epoch 19/20\n",
            "188/188 [==============================] - 1s 5ms/step - loss: 0.1789 - accuracy: 0.9321 - val_loss: 0.3473 - val_accuracy: 0.8859\n",
            "Epoch 20/20\n",
            "188/188 [==============================] - 1s 4ms/step - loss: 0.1772 - accuracy: 0.9318 - val_loss: 0.3400 - val_accuracy: 0.8911\n"
          ],
          "name": "stdout"
        },
        {
          "output_type": "display_data",
          "data": {
            "text/html": [
              "<span style=\"color:#4527A0\"><h1 style=\"font-size:18px\">Trial complete</h1></span>"
            ],
            "text/plain": [
              "<IPython.core.display.HTML object>"
            ]
          },
          "metadata": {
            "tags": []
          }
        },
        {
          "output_type": "display_data",
          "data": {
            "text/html": [
              "<span style=\"color:#4527A0\"><h1 style=\"font-size:18px\">Trial summary</h1></span>"
            ],
            "text/plain": [
              "<IPython.core.display.HTML object>"
            ]
          },
          "metadata": {
            "tags": []
          }
        },
        {
          "output_type": "display_data",
          "data": {
            "text/html": [
              "<span style=\"color:cyan\"> |-Trial ID: e29c3ea0f2e1f16b2794e94fc183f36e</span>"
            ],
            "text/plain": [
              "<IPython.core.display.HTML object>"
            ]
          },
          "metadata": {
            "tags": []
          }
        },
        {
          "output_type": "display_data",
          "data": {
            "text/html": [
              "<span style=\"color:cyan\"> |-Score: 0.8930000066757202</span>"
            ],
            "text/plain": [
              "<IPython.core.display.HTML object>"
            ]
          },
          "metadata": {
            "tags": []
          }
        },
        {
          "output_type": "display_data",
          "data": {
            "text/html": [
              "<span style=\"color:cyan\"> |-Best step: 0</span>"
            ],
            "text/plain": [
              "<IPython.core.display.HTML object>"
            ]
          },
          "metadata": {
            "tags": []
          }
        },
        {
          "output_type": "display_data",
          "data": {
            "text/html": [
              "<span style=\"color:#7E57C2\"><h2 style=\"font-size:16px\">Hyperparameters:</h2></span>"
            ],
            "text/plain": [
              "<IPython.core.display.HTML object>"
            ]
          },
          "metadata": {
            "tags": []
          }
        },
        {
          "output_type": "display_data",
          "data": {
            "text/html": [
              "<span style=\"color:cyan\"> |-activation: elu</span>"
            ],
            "text/plain": [
              "<IPython.core.display.HTML object>"
            ]
          },
          "metadata": {
            "tags": []
          }
        },
        {
          "output_type": "display_data",
          "data": {
            "text/html": [
              "<span style=\"color:blue\"> |-optimizer: adam</span>"
            ],
            "text/plain": [
              "<IPython.core.display.HTML object>"
            ]
          },
          "metadata": {
            "tags": []
          }
        },
        {
          "output_type": "display_data",
          "data": {
            "text/html": [
              "<span style=\"color:cyan\"> |-units_hidden: 448</span>"
            ],
            "text/plain": [
              "<IPython.core.display.HTML object>"
            ]
          },
          "metadata": {
            "tags": []
          }
        },
        {
          "output_type": "display_data",
          "data": {
            "text/html": [
              "<span style=\"color:blue\"> |-units_input: 800</span>"
            ],
            "text/plain": [
              "<IPython.core.display.HTML object>"
            ]
          },
          "metadata": {
            "tags": []
          }
        },
        {
          "output_type": "stream",
          "text": [
            "Epoch 1/20\n",
            "188/188 [==============================] - 1s 6ms/step - loss: 0.7577 - accuracy: 0.7336 - val_loss: 0.5094 - val_accuracy: 0.8089\n",
            "Epoch 2/20\n",
            "188/188 [==============================] - 1s 5ms/step - loss: 0.4519 - accuracy: 0.8374 - val_loss: 0.4244 - val_accuracy: 0.8475\n",
            "Epoch 3/20\n",
            "188/188 [==============================] - 1s 5ms/step - loss: 0.4130 - accuracy: 0.8500 - val_loss: 0.4042 - val_accuracy: 0.8530\n",
            "Epoch 4/20\n",
            "188/188 [==============================] - 1s 5ms/step - loss: 0.3832 - accuracy: 0.8630 - val_loss: 0.3861 - val_accuracy: 0.8598\n",
            "Epoch 5/20\n",
            "188/188 [==============================] - 1s 5ms/step - loss: 0.3623 - accuracy: 0.8694 - val_loss: 0.3662 - val_accuracy: 0.8662\n",
            "Epoch 6/20\n",
            "188/188 [==============================] - 1s 5ms/step - loss: 0.3504 - accuracy: 0.8713 - val_loss: 0.3581 - val_accuracy: 0.8710\n",
            "Epoch 7/20\n",
            "188/188 [==============================] - 1s 5ms/step - loss: 0.3316 - accuracy: 0.8790 - val_loss: 0.3605 - val_accuracy: 0.8717\n",
            "Epoch 8/20\n",
            "188/188 [==============================] - 1s 5ms/step - loss: 0.3207 - accuracy: 0.8830 - val_loss: 0.3444 - val_accuracy: 0.8737\n",
            "Epoch 9/20\n",
            "188/188 [==============================] - 1s 5ms/step - loss: 0.3116 - accuracy: 0.8847 - val_loss: 0.3309 - val_accuracy: 0.8787\n",
            "Epoch 10/20\n",
            "188/188 [==============================] - 1s 5ms/step - loss: 0.2960 - accuracy: 0.8907 - val_loss: 0.3350 - val_accuracy: 0.8767\n",
            "Epoch 11/20\n",
            "188/188 [==============================] - 1s 5ms/step - loss: 0.2889 - accuracy: 0.8917 - val_loss: 0.3368 - val_accuracy: 0.8780\n",
            "Epoch 12/20\n",
            "188/188 [==============================] - 1s 5ms/step - loss: 0.2781 - accuracy: 0.8969 - val_loss: 0.3240 - val_accuracy: 0.8806\n",
            "Epoch 13/20\n",
            "188/188 [==============================] - 1s 5ms/step - loss: 0.2713 - accuracy: 0.9001 - val_loss: 0.3287 - val_accuracy: 0.8778\n",
            "Epoch 14/20\n",
            "188/188 [==============================] - 1s 5ms/step - loss: 0.2628 - accuracy: 0.9016 - val_loss: 0.3155 - val_accuracy: 0.8837\n",
            "Epoch 15/20\n",
            "188/188 [==============================] - 1s 5ms/step - loss: 0.2548 - accuracy: 0.9056 - val_loss: 0.3123 - val_accuracy: 0.8861\n",
            "Epoch 16/20\n",
            "188/188 [==============================] - 1s 5ms/step - loss: 0.2475 - accuracy: 0.9075 - val_loss: 0.3169 - val_accuracy: 0.8850\n",
            "Epoch 17/20\n",
            "188/188 [==============================] - 1s 5ms/step - loss: 0.2383 - accuracy: 0.9121 - val_loss: 0.3342 - val_accuracy: 0.8773\n",
            "Epoch 18/20\n",
            "188/188 [==============================] - 1s 5ms/step - loss: 0.2344 - accuracy: 0.9126 - val_loss: 0.3218 - val_accuracy: 0.8858\n",
            "Epoch 19/20\n",
            "188/188 [==============================] - 1s 5ms/step - loss: 0.2272 - accuracy: 0.9155 - val_loss: 0.3162 - val_accuracy: 0.8898\n",
            "Epoch 20/20\n",
            "188/188 [==============================] - 1s 5ms/step - loss: 0.2166 - accuracy: 0.9201 - val_loss: 0.3131 - val_accuracy: 0.8883\n"
          ],
          "name": "stdout"
        },
        {
          "output_type": "display_data",
          "data": {
            "text/html": [
              "<span style=\"color:#4527A0\"><h1 style=\"font-size:18px\">Trial complete</h1></span>"
            ],
            "text/plain": [
              "<IPython.core.display.HTML object>"
            ]
          },
          "metadata": {
            "tags": []
          }
        },
        {
          "output_type": "display_data",
          "data": {
            "text/html": [
              "<span style=\"color:#4527A0\"><h1 style=\"font-size:18px\">Trial summary</h1></span>"
            ],
            "text/plain": [
              "<IPython.core.display.HTML object>"
            ]
          },
          "metadata": {
            "tags": []
          }
        },
        {
          "output_type": "display_data",
          "data": {
            "text/html": [
              "<span style=\"color:cyan\"> |-Trial ID: d0c95293c7b57f19e72628da7bb83e85</span>"
            ],
            "text/plain": [
              "<IPython.core.display.HTML object>"
            ]
          },
          "metadata": {
            "tags": []
          }
        },
        {
          "output_type": "display_data",
          "data": {
            "text/html": [
              "<span style=\"color:cyan\"> |-Score: 0.8897500038146973</span>"
            ],
            "text/plain": [
              "<IPython.core.display.HTML object>"
            ]
          },
          "metadata": {
            "tags": []
          }
        },
        {
          "output_type": "display_data",
          "data": {
            "text/html": [
              "<span style=\"color:cyan\"> |-Best step: 0</span>"
            ],
            "text/plain": [
              "<IPython.core.display.HTML object>"
            ]
          },
          "metadata": {
            "tags": []
          }
        },
        {
          "output_type": "display_data",
          "data": {
            "text/html": [
              "<span style=\"color:#7E57C2\"><h2 style=\"font-size:16px\">Hyperparameters:</h2></span>"
            ],
            "text/plain": [
              "<IPython.core.display.HTML object>"
            ]
          },
          "metadata": {
            "tags": []
          }
        },
        {
          "output_type": "display_data",
          "data": {
            "text/html": [
              "<span style=\"color:cyan\"> |-activation: sigmoid</span>"
            ],
            "text/plain": [
              "<IPython.core.display.HTML object>"
            ]
          },
          "metadata": {
            "tags": []
          }
        },
        {
          "output_type": "display_data",
          "data": {
            "text/html": [
              "<span style=\"color:blue\"> |-optimizer: adam</span>"
            ],
            "text/plain": [
              "<IPython.core.display.HTML object>"
            ]
          },
          "metadata": {
            "tags": []
          }
        },
        {
          "output_type": "display_data",
          "data": {
            "text/html": [
              "<span style=\"color:cyan\"> |-units_hidden: 576</span>"
            ],
            "text/plain": [
              "<IPython.core.display.HTML object>"
            ]
          },
          "metadata": {
            "tags": []
          }
        },
        {
          "output_type": "display_data",
          "data": {
            "text/html": [
              "<span style=\"color:blue\"> |-units_input: 800</span>"
            ],
            "text/plain": [
              "<IPython.core.display.HTML object>"
            ]
          },
          "metadata": {
            "tags": []
          }
        },
        {
          "output_type": "stream",
          "text": [
            "Epoch 1/20\n",
            "188/188 [==============================] - 1s 5ms/step - loss: 0.6054 - accuracy: 0.8018 - val_loss: 0.4240 - val_accuracy: 0.8462\n",
            "Epoch 2/20\n",
            "188/188 [==============================] - 1s 4ms/step - loss: 0.4183 - accuracy: 0.8498 - val_loss: 0.4473 - val_accuracy: 0.8375\n",
            "Epoch 3/20\n",
            "188/188 [==============================] - 1s 4ms/step - loss: 0.3703 - accuracy: 0.8644 - val_loss: 0.3801 - val_accuracy: 0.8621\n",
            "Epoch 4/20\n",
            "188/188 [==============================] - 1s 4ms/step - loss: 0.3504 - accuracy: 0.8720 - val_loss: 0.3660 - val_accuracy: 0.8698\n",
            "Epoch 5/20\n",
            "188/188 [==============================] - 1s 4ms/step - loss: 0.3272 - accuracy: 0.8815 - val_loss: 0.3353 - val_accuracy: 0.8776\n",
            "Epoch 6/20\n",
            "188/188 [==============================] - 1s 5ms/step - loss: 0.3054 - accuracy: 0.8873 - val_loss: 0.3614 - val_accuracy: 0.8668\n",
            "Epoch 7/20\n",
            "188/188 [==============================] - 1s 4ms/step - loss: 0.2912 - accuracy: 0.8917 - val_loss: 0.3913 - val_accuracy: 0.8568\n",
            "Epoch 8/20\n",
            "188/188 [==============================] - 1s 5ms/step - loss: 0.2812 - accuracy: 0.8962 - val_loss: 0.3371 - val_accuracy: 0.8793\n",
            "Epoch 9/20\n",
            "188/188 [==============================] - 1s 4ms/step - loss: 0.2696 - accuracy: 0.9008 - val_loss: 0.3270 - val_accuracy: 0.8828\n",
            "Epoch 10/20\n",
            "188/188 [==============================] - 1s 4ms/step - loss: 0.2656 - accuracy: 0.9015 - val_loss: 0.3414 - val_accuracy: 0.8765\n",
            "Epoch 11/20\n",
            "188/188 [==============================] - 1s 5ms/step - loss: 0.2504 - accuracy: 0.9072 - val_loss: 0.3293 - val_accuracy: 0.8842\n",
            "Epoch 12/20\n",
            "188/188 [==============================] - 1s 4ms/step - loss: 0.2365 - accuracy: 0.9118 - val_loss: 0.3466 - val_accuracy: 0.8819\n",
            "Epoch 13/20\n",
            "188/188 [==============================] - 1s 4ms/step - loss: 0.2287 - accuracy: 0.9140 - val_loss: 0.3563 - val_accuracy: 0.8761\n",
            "Epoch 14/20\n",
            "188/188 [==============================] - 1s 5ms/step - loss: 0.2247 - accuracy: 0.9154 - val_loss: 0.3546 - val_accuracy: 0.8793\n",
            "Epoch 15/20\n",
            "188/188 [==============================] - 1s 5ms/step - loss: 0.2250 - accuracy: 0.9145 - val_loss: 0.3489 - val_accuracy: 0.8791\n",
            "Epoch 16/20\n",
            "188/188 [==============================] - 1s 4ms/step - loss: 0.2111 - accuracy: 0.9212 - val_loss: 0.3238 - val_accuracy: 0.8864\n",
            "Epoch 17/20\n",
            "188/188 [==============================] - 1s 4ms/step - loss: 0.2032 - accuracy: 0.9235 - val_loss: 0.3440 - val_accuracy: 0.8829\n",
            "Epoch 18/20\n",
            "188/188 [==============================] - 1s 4ms/step - loss: 0.1997 - accuracy: 0.9246 - val_loss: 0.3503 - val_accuracy: 0.8858\n",
            "Epoch 19/20\n",
            "188/188 [==============================] - 1s 4ms/step - loss: 0.1883 - accuracy: 0.9288 - val_loss: 0.3448 - val_accuracy: 0.8919\n",
            "Epoch 20/20\n",
            "188/188 [==============================] - 1s 4ms/step - loss: 0.1797 - accuracy: 0.9326 - val_loss: 0.3500 - val_accuracy: 0.8876\n"
          ],
          "name": "stdout"
        },
        {
          "output_type": "display_data",
          "data": {
            "text/html": [
              "<span style=\"color:#4527A0\"><h1 style=\"font-size:18px\">Trial complete</h1></span>"
            ],
            "text/plain": [
              "<IPython.core.display.HTML object>"
            ]
          },
          "metadata": {
            "tags": []
          }
        },
        {
          "output_type": "display_data",
          "data": {
            "text/html": [
              "<span style=\"color:#4527A0\"><h1 style=\"font-size:18px\">Trial summary</h1></span>"
            ],
            "text/plain": [
              "<IPython.core.display.HTML object>"
            ]
          },
          "metadata": {
            "tags": []
          }
        },
        {
          "output_type": "display_data",
          "data": {
            "text/html": [
              "<span style=\"color:cyan\"> |-Trial ID: 18f895d088d57997943cb72e4f9f69b9</span>"
            ],
            "text/plain": [
              "<IPython.core.display.HTML object>"
            ]
          },
          "metadata": {
            "tags": []
          }
        },
        {
          "output_type": "display_data",
          "data": {
            "text/html": [
              "<span style=\"color:cyan\"> |-Score: 0.8919166922569275</span>"
            ],
            "text/plain": [
              "<IPython.core.display.HTML object>"
            ]
          },
          "metadata": {
            "tags": []
          }
        },
        {
          "output_type": "display_data",
          "data": {
            "text/html": [
              "<span style=\"color:cyan\"> |-Best step: 0</span>"
            ],
            "text/plain": [
              "<IPython.core.display.HTML object>"
            ]
          },
          "metadata": {
            "tags": []
          }
        },
        {
          "output_type": "display_data",
          "data": {
            "text/html": [
              "<span style=\"color:#7E57C2\"><h2 style=\"font-size:16px\">Hyperparameters:</h2></span>"
            ],
            "text/plain": [
              "<IPython.core.display.HTML object>"
            ]
          },
          "metadata": {
            "tags": []
          }
        },
        {
          "output_type": "display_data",
          "data": {
            "text/html": [
              "<span style=\"color:cyan\"> |-activation: selu</span>"
            ],
            "text/plain": [
              "<IPython.core.display.HTML object>"
            ]
          },
          "metadata": {
            "tags": []
          }
        },
        {
          "output_type": "display_data",
          "data": {
            "text/html": [
              "<span style=\"color:blue\"> |-optimizer: adam</span>"
            ],
            "text/plain": [
              "<IPython.core.display.HTML object>"
            ]
          },
          "metadata": {
            "tags": []
          }
        },
        {
          "output_type": "display_data",
          "data": {
            "text/html": [
              "<span style=\"color:cyan\"> |-units_hidden: 448</span>"
            ],
            "text/plain": [
              "<IPython.core.display.HTML object>"
            ]
          },
          "metadata": {
            "tags": []
          }
        },
        {
          "output_type": "display_data",
          "data": {
            "text/html": [
              "<span style=\"color:blue\"> |-units_input: 672</span>"
            ],
            "text/plain": [
              "<IPython.core.display.HTML object>"
            ]
          },
          "metadata": {
            "tags": []
          }
        },
        {
          "output_type": "stream",
          "text": [
            "Epoch 1/20\n",
            "188/188 [==============================] - 1s 5ms/step - loss: 0.5509 - accuracy: 0.8064 - val_loss: 0.4597 - val_accuracy: 0.8376\n",
            "Epoch 2/20\n",
            "188/188 [==============================] - 1s 5ms/step - loss: 0.3909 - accuracy: 0.8582 - val_loss: 0.3784 - val_accuracy: 0.8643\n",
            "Epoch 3/20\n",
            "188/188 [==============================] - 1s 5ms/step - loss: 0.3473 - accuracy: 0.8733 - val_loss: 0.3626 - val_accuracy: 0.8694\n",
            "Epoch 4/20\n",
            "188/188 [==============================] - 1s 5ms/step - loss: 0.3233 - accuracy: 0.8821 - val_loss: 0.3641 - val_accuracy: 0.8683\n",
            "Epoch 5/20\n",
            "188/188 [==============================] - 1s 5ms/step - loss: 0.2989 - accuracy: 0.8899 - val_loss: 0.3275 - val_accuracy: 0.8798\n",
            "Epoch 6/20\n",
            "188/188 [==============================] - 1s 5ms/step - loss: 0.2827 - accuracy: 0.8958 - val_loss: 0.3266 - val_accuracy: 0.8815\n",
            "Epoch 7/20\n",
            "188/188 [==============================] - 1s 5ms/step - loss: 0.2651 - accuracy: 0.9010 - val_loss: 0.3260 - val_accuracy: 0.8796\n",
            "Epoch 8/20\n",
            "188/188 [==============================] - 1s 5ms/step - loss: 0.2493 - accuracy: 0.9069 - val_loss: 0.3116 - val_accuracy: 0.8887\n",
            "Epoch 9/20\n",
            "188/188 [==============================] - 1s 5ms/step - loss: 0.2383 - accuracy: 0.9102 - val_loss: 0.3034 - val_accuracy: 0.8900\n",
            "Epoch 10/20\n",
            "188/188 [==============================] - 1s 5ms/step - loss: 0.2305 - accuracy: 0.9136 - val_loss: 0.2965 - val_accuracy: 0.8940\n",
            "Epoch 11/20\n",
            "188/188 [==============================] - 1s 5ms/step - loss: 0.2176 - accuracy: 0.9184 - val_loss: 0.3036 - val_accuracy: 0.8909\n",
            "Epoch 12/20\n",
            "188/188 [==============================] - 1s 5ms/step - loss: 0.2097 - accuracy: 0.9215 - val_loss: 0.3007 - val_accuracy: 0.8927\n",
            "Epoch 13/20\n",
            "188/188 [==============================] - 1s 5ms/step - loss: 0.1969 - accuracy: 0.9265 - val_loss: 0.3185 - val_accuracy: 0.8887\n",
            "Epoch 14/20\n",
            "188/188 [==============================] - 1s 5ms/step - loss: 0.1928 - accuracy: 0.9289 - val_loss: 0.3213 - val_accuracy: 0.8895\n",
            "Epoch 15/20\n",
            "188/188 [==============================] - 1s 5ms/step - loss: 0.1886 - accuracy: 0.9282 - val_loss: 0.2929 - val_accuracy: 0.8937\n",
            "Epoch 16/20\n",
            "188/188 [==============================] - 1s 5ms/step - loss: 0.1729 - accuracy: 0.9372 - val_loss: 0.2999 - val_accuracy: 0.8943\n",
            "Epoch 17/20\n",
            "188/188 [==============================] - 1s 5ms/step - loss: 0.1689 - accuracy: 0.9363 - val_loss: 0.3044 - val_accuracy: 0.8953\n",
            "Epoch 18/20\n",
            "188/188 [==============================] - 1s 5ms/step - loss: 0.1621 - accuracy: 0.9399 - val_loss: 0.3044 - val_accuracy: 0.8944\n",
            "Epoch 19/20\n",
            "188/188 [==============================] - 1s 5ms/step - loss: 0.1511 - accuracy: 0.9445 - val_loss: 0.3108 - val_accuracy: 0.8938\n",
            "Epoch 20/20\n",
            "188/188 [==============================] - 1s 4ms/step - loss: 0.1456 - accuracy: 0.9469 - val_loss: 0.3086 - val_accuracy: 0.8939\n"
          ],
          "name": "stdout"
        },
        {
          "output_type": "display_data",
          "data": {
            "text/html": [
              "<span style=\"color:#4527A0\"><h1 style=\"font-size:18px\">Trial complete</h1></span>"
            ],
            "text/plain": [
              "<IPython.core.display.HTML object>"
            ]
          },
          "metadata": {
            "tags": []
          }
        },
        {
          "output_type": "display_data",
          "data": {
            "text/html": [
              "<span style=\"color:#4527A0\"><h1 style=\"font-size:18px\">Trial summary</h1></span>"
            ],
            "text/plain": [
              "<IPython.core.display.HTML object>"
            ]
          },
          "metadata": {
            "tags": []
          }
        },
        {
          "output_type": "display_data",
          "data": {
            "text/html": [
              "<span style=\"color:cyan\"> |-Trial ID: 48d026fdea49324ca7eff6fa317b69a0</span>"
            ],
            "text/plain": [
              "<IPython.core.display.HTML object>"
            ]
          },
          "metadata": {
            "tags": []
          }
        },
        {
          "output_type": "display_data",
          "data": {
            "text/html": [
              "<span style=\"color:cyan\"> |-Score: 0.8952500224113464</span>"
            ],
            "text/plain": [
              "<IPython.core.display.HTML object>"
            ]
          },
          "metadata": {
            "tags": []
          }
        },
        {
          "output_type": "display_data",
          "data": {
            "text/html": [
              "<span style=\"color:cyan\"> |-Best step: 0</span>"
            ],
            "text/plain": [
              "<IPython.core.display.HTML object>"
            ]
          },
          "metadata": {
            "tags": []
          }
        },
        {
          "output_type": "display_data",
          "data": {
            "text/html": [
              "<span style=\"color:#7E57C2\"><h2 style=\"font-size:16px\">Hyperparameters:</h2></span>"
            ],
            "text/plain": [
              "<IPython.core.display.HTML object>"
            ]
          },
          "metadata": {
            "tags": []
          }
        },
        {
          "output_type": "display_data",
          "data": {
            "text/html": [
              "<span style=\"color:cyan\"> |-activation: tanh</span>"
            ],
            "text/plain": [
              "<IPython.core.display.HTML object>"
            ]
          },
          "metadata": {
            "tags": []
          }
        },
        {
          "output_type": "display_data",
          "data": {
            "text/html": [
              "<span style=\"color:blue\"> |-optimizer: adam</span>"
            ],
            "text/plain": [
              "<IPython.core.display.HTML object>"
            ]
          },
          "metadata": {
            "tags": []
          }
        },
        {
          "output_type": "display_data",
          "data": {
            "text/html": [
              "<span style=\"color:cyan\"> |-units_hidden: 480</span>"
            ],
            "text/plain": [
              "<IPython.core.display.HTML object>"
            ]
          },
          "metadata": {
            "tags": []
          }
        },
        {
          "output_type": "display_data",
          "data": {
            "text/html": [
              "<span style=\"color:blue\"> |-units_input: 1024</span>"
            ],
            "text/plain": [
              "<IPython.core.display.HTML object>"
            ]
          },
          "metadata": {
            "tags": []
          }
        },
        {
          "output_type": "stream",
          "text": [
            "Epoch 1/20\n",
            "188/188 [==============================] - 1s 5ms/step - loss: 0.7871 - accuracy: 0.7332 - val_loss: 0.4937 - val_accuracy: 0.8217\n",
            "Epoch 2/20\n",
            "188/188 [==============================] - 1s 4ms/step - loss: 0.4544 - accuracy: 0.8372 - val_loss: 0.4449 - val_accuracy: 0.8372\n",
            "Epoch 3/20\n",
            "188/188 [==============================] - 1s 4ms/step - loss: 0.4103 - accuracy: 0.8517 - val_loss: 0.4104 - val_accuracy: 0.8515\n",
            "Epoch 4/20\n",
            "188/188 [==============================] - 1s 4ms/step - loss: 0.3786 - accuracy: 0.8641 - val_loss: 0.3764 - val_accuracy: 0.8643\n",
            "Epoch 5/20\n",
            "188/188 [==============================] - 1s 4ms/step - loss: 0.3611 - accuracy: 0.8694 - val_loss: 0.3657 - val_accuracy: 0.8668\n",
            "Epoch 6/20\n",
            "188/188 [==============================] - 1s 4ms/step - loss: 0.3439 - accuracy: 0.8755 - val_loss: 0.3627 - val_accuracy: 0.8673\n",
            "Epoch 7/20\n",
            "188/188 [==============================] - 1s 4ms/step - loss: 0.3350 - accuracy: 0.8786 - val_loss: 0.3461 - val_accuracy: 0.8724\n",
            "Epoch 8/20\n",
            "188/188 [==============================] - 1s 4ms/step - loss: 0.3203 - accuracy: 0.8838 - val_loss: 0.3457 - val_accuracy: 0.8759\n",
            "Epoch 9/20\n",
            "188/188 [==============================] - 1s 4ms/step - loss: 0.3067 - accuracy: 0.8887 - val_loss: 0.3409 - val_accuracy: 0.8763\n",
            "Epoch 10/20\n",
            "188/188 [==============================] - 1s 4ms/step - loss: 0.2995 - accuracy: 0.8900 - val_loss: 0.3418 - val_accuracy: 0.8747\n",
            "Epoch 11/20\n",
            "188/188 [==============================] - 1s 4ms/step - loss: 0.2911 - accuracy: 0.8933 - val_loss: 0.3311 - val_accuracy: 0.8773\n",
            "Epoch 12/20\n",
            "188/188 [==============================] - 1s 4ms/step - loss: 0.2811 - accuracy: 0.8974 - val_loss: 0.3163 - val_accuracy: 0.8852\n",
            "Epoch 13/20\n",
            "188/188 [==============================] - 1s 4ms/step - loss: 0.2740 - accuracy: 0.8987 - val_loss: 0.3241 - val_accuracy: 0.8785\n",
            "Epoch 14/20\n",
            "188/188 [==============================] - 1s 4ms/step - loss: 0.2681 - accuracy: 0.9004 - val_loss: 0.3469 - val_accuracy: 0.8710\n",
            "Epoch 15/20\n",
            "188/188 [==============================] - 1s 4ms/step - loss: 0.2593 - accuracy: 0.9044 - val_loss: 0.3098 - val_accuracy: 0.8868\n",
            "Epoch 16/20\n",
            "188/188 [==============================] - 1s 4ms/step - loss: 0.2512 - accuracy: 0.9058 - val_loss: 0.3157 - val_accuracy: 0.8866\n",
            "Epoch 17/20\n",
            "188/188 [==============================] - 1s 4ms/step - loss: 0.2439 - accuracy: 0.9094 - val_loss: 0.3172 - val_accuracy: 0.8828\n",
            "Epoch 18/20\n",
            "188/188 [==============================] - 1s 4ms/step - loss: 0.2383 - accuracy: 0.9123 - val_loss: 0.3210 - val_accuracy: 0.8868\n",
            "Epoch 19/20\n",
            "188/188 [==============================] - 1s 4ms/step - loss: 0.2298 - accuracy: 0.9150 - val_loss: 0.3070 - val_accuracy: 0.8890\n",
            "Epoch 20/20\n",
            "188/188 [==============================] - 1s 4ms/step - loss: 0.2234 - accuracy: 0.9162 - val_loss: 0.3096 - val_accuracy: 0.8899\n"
          ],
          "name": "stdout"
        },
        {
          "output_type": "display_data",
          "data": {
            "text/html": [
              "<span style=\"color:#4527A0\"><h1 style=\"font-size:18px\">Trial complete</h1></span>"
            ],
            "text/plain": [
              "<IPython.core.display.HTML object>"
            ]
          },
          "metadata": {
            "tags": []
          }
        },
        {
          "output_type": "display_data",
          "data": {
            "text/html": [
              "<span style=\"color:#4527A0\"><h1 style=\"font-size:18px\">Trial summary</h1></span>"
            ],
            "text/plain": [
              "<IPython.core.display.HTML object>"
            ]
          },
          "metadata": {
            "tags": []
          }
        },
        {
          "output_type": "display_data",
          "data": {
            "text/html": [
              "<span style=\"color:cyan\"> |-Trial ID: 639498f3656d3b65958c61ec6fd95859</span>"
            ],
            "text/plain": [
              "<IPython.core.display.HTML object>"
            ]
          },
          "metadata": {
            "tags": []
          }
        },
        {
          "output_type": "display_data",
          "data": {
            "text/html": [
              "<span style=\"color:cyan\"> |-Score: 0.8899166584014893</span>"
            ],
            "text/plain": [
              "<IPython.core.display.HTML object>"
            ]
          },
          "metadata": {
            "tags": []
          }
        },
        {
          "output_type": "display_data",
          "data": {
            "text/html": [
              "<span style=\"color:cyan\"> |-Best step: 0</span>"
            ],
            "text/plain": [
              "<IPython.core.display.HTML object>"
            ]
          },
          "metadata": {
            "tags": []
          }
        },
        {
          "output_type": "display_data",
          "data": {
            "text/html": [
              "<span style=\"color:#7E57C2\"><h2 style=\"font-size:16px\">Hyperparameters:</h2></span>"
            ],
            "text/plain": [
              "<IPython.core.display.HTML object>"
            ]
          },
          "metadata": {
            "tags": []
          }
        },
        {
          "output_type": "display_data",
          "data": {
            "text/html": [
              "<span style=\"color:cyan\"> |-activation: sigmoid</span>"
            ],
            "text/plain": [
              "<IPython.core.display.HTML object>"
            ]
          },
          "metadata": {
            "tags": []
          }
        },
        {
          "output_type": "display_data",
          "data": {
            "text/html": [
              "<span style=\"color:blue\"> |-optimizer: adam</span>"
            ],
            "text/plain": [
              "<IPython.core.display.HTML object>"
            ]
          },
          "metadata": {
            "tags": []
          }
        },
        {
          "output_type": "display_data",
          "data": {
            "text/html": [
              "<span style=\"color:cyan\"> |-units_hidden: 352</span>"
            ],
            "text/plain": [
              "<IPython.core.display.HTML object>"
            ]
          },
          "metadata": {
            "tags": []
          }
        },
        {
          "output_type": "display_data",
          "data": {
            "text/html": [
              "<span style=\"color:blue\"> |-units_input: 512</span>"
            ],
            "text/plain": [
              "<IPython.core.display.HTML object>"
            ]
          },
          "metadata": {
            "tags": []
          }
        },
        {
          "output_type": "stream",
          "text": [
            "Epoch 1/20\n",
            "188/188 [==============================] - 1s 5ms/step - loss: 0.5924 - accuracy: 0.8015 - val_loss: 0.4528 - val_accuracy: 0.8307\n",
            "Epoch 2/20\n",
            "188/188 [==============================] - 1s 5ms/step - loss: 0.4197 - accuracy: 0.8486 - val_loss: 0.4141 - val_accuracy: 0.8543\n",
            "Epoch 3/20\n",
            "188/188 [==============================] - 1s 4ms/step - loss: 0.3714 - accuracy: 0.8652 - val_loss: 0.4243 - val_accuracy: 0.8422\n",
            "Epoch 4/20\n",
            "188/188 [==============================] - 1s 4ms/step - loss: 0.3508 - accuracy: 0.8715 - val_loss: 0.3512 - val_accuracy: 0.8718\n",
            "Epoch 5/20\n",
            "188/188 [==============================] - 1s 4ms/step - loss: 0.3243 - accuracy: 0.8809 - val_loss: 0.3633 - val_accuracy: 0.8668\n",
            "Epoch 6/20\n",
            "188/188 [==============================] - 1s 4ms/step - loss: 0.3104 - accuracy: 0.8847 - val_loss: 0.3594 - val_accuracy: 0.8702\n",
            "Epoch 7/20\n",
            "188/188 [==============================] - 1s 4ms/step - loss: 0.2925 - accuracy: 0.8916 - val_loss: 0.3411 - val_accuracy: 0.8767\n",
            "Epoch 8/20\n",
            "188/188 [==============================] - 1s 4ms/step - loss: 0.2788 - accuracy: 0.8955 - val_loss: 0.3407 - val_accuracy: 0.8761\n",
            "Epoch 9/20\n",
            "188/188 [==============================] - 1s 4ms/step - loss: 0.2649 - accuracy: 0.9020 - val_loss: 0.3350 - val_accuracy: 0.8761\n",
            "Epoch 10/20\n",
            "188/188 [==============================] - 1s 4ms/step - loss: 0.2624 - accuracy: 0.9026 - val_loss: 0.3165 - val_accuracy: 0.8859\n",
            "Epoch 11/20\n",
            "188/188 [==============================] - 1s 4ms/step - loss: 0.2531 - accuracy: 0.9065 - val_loss: 0.3407 - val_accuracy: 0.8814\n",
            "Epoch 12/20\n",
            "188/188 [==============================] - 1s 4ms/step - loss: 0.2412 - accuracy: 0.9104 - val_loss: 0.3226 - val_accuracy: 0.8858\n",
            "Epoch 13/20\n",
            "188/188 [==============================] - 1s 4ms/step - loss: 0.2344 - accuracy: 0.9120 - val_loss: 0.3212 - val_accuracy: 0.8875\n",
            "Epoch 14/20\n",
            "188/188 [==============================] - 1s 4ms/step - loss: 0.2257 - accuracy: 0.9160 - val_loss: 0.3298 - val_accuracy: 0.8852\n",
            "Epoch 15/20\n",
            "188/188 [==============================] - 1s 4ms/step - loss: 0.2162 - accuracy: 0.9195 - val_loss: 0.3495 - val_accuracy: 0.8758\n",
            "Epoch 16/20\n",
            "188/188 [==============================] - 1s 4ms/step - loss: 0.2206 - accuracy: 0.9164 - val_loss: 0.3254 - val_accuracy: 0.8882\n",
            "Epoch 17/20\n",
            "188/188 [==============================] - 1s 4ms/step - loss: 0.2051 - accuracy: 0.9231 - val_loss: 0.3203 - val_accuracy: 0.8873\n",
            "Epoch 18/20\n",
            "188/188 [==============================] - 1s 5ms/step - loss: 0.1984 - accuracy: 0.9266 - val_loss: 0.3300 - val_accuracy: 0.8888\n",
            "Epoch 19/20\n",
            "188/188 [==============================] - 1s 4ms/step - loss: 0.1906 - accuracy: 0.9290 - val_loss: 0.3336 - val_accuracy: 0.8857\n",
            "Epoch 20/20\n",
            "188/188 [==============================] - 1s 4ms/step - loss: 0.1866 - accuracy: 0.9304 - val_loss: 0.3466 - val_accuracy: 0.8834\n"
          ],
          "name": "stdout"
        },
        {
          "output_type": "display_data",
          "data": {
            "text/html": [
              "<span style=\"color:#4527A0\"><h1 style=\"font-size:18px\">Trial complete</h1></span>"
            ],
            "text/plain": [
              "<IPython.core.display.HTML object>"
            ]
          },
          "metadata": {
            "tags": []
          }
        },
        {
          "output_type": "display_data",
          "data": {
            "text/html": [
              "<span style=\"color:#4527A0\"><h1 style=\"font-size:18px\">Trial summary</h1></span>"
            ],
            "text/plain": [
              "<IPython.core.display.HTML object>"
            ]
          },
          "metadata": {
            "tags": []
          }
        },
        {
          "output_type": "display_data",
          "data": {
            "text/html": [
              "<span style=\"color:cyan\"> |-Trial ID: 5fdaa509ebfc95ae1d53e85d5470726b</span>"
            ],
            "text/plain": [
              "<IPython.core.display.HTML object>"
            ]
          },
          "metadata": {
            "tags": []
          }
        },
        {
          "output_type": "display_data",
          "data": {
            "text/html": [
              "<span style=\"color:cyan\"> |-Score: 0.8887500166893005</span>"
            ],
            "text/plain": [
              "<IPython.core.display.HTML object>"
            ]
          },
          "metadata": {
            "tags": []
          }
        },
        {
          "output_type": "display_data",
          "data": {
            "text/html": [
              "<span style=\"color:cyan\"> |-Best step: 0</span>"
            ],
            "text/plain": [
              "<IPython.core.display.HTML object>"
            ]
          },
          "metadata": {
            "tags": []
          }
        },
        {
          "output_type": "display_data",
          "data": {
            "text/html": [
              "<span style=\"color:#7E57C2\"><h2 style=\"font-size:16px\">Hyperparameters:</h2></span>"
            ],
            "text/plain": [
              "<IPython.core.display.HTML object>"
            ]
          },
          "metadata": {
            "tags": []
          }
        },
        {
          "output_type": "display_data",
          "data": {
            "text/html": [
              "<span style=\"color:cyan\"> |-activation: selu</span>"
            ],
            "text/plain": [
              "<IPython.core.display.HTML object>"
            ]
          },
          "metadata": {
            "tags": []
          }
        },
        {
          "output_type": "display_data",
          "data": {
            "text/html": [
              "<span style=\"color:blue\"> |-optimizer: adam</span>"
            ],
            "text/plain": [
              "<IPython.core.display.HTML object>"
            ]
          },
          "metadata": {
            "tags": []
          }
        },
        {
          "output_type": "display_data",
          "data": {
            "text/html": [
              "<span style=\"color:cyan\"> |-units_hidden: 288</span>"
            ],
            "text/plain": [
              "<IPython.core.display.HTML object>"
            ]
          },
          "metadata": {
            "tags": []
          }
        },
        {
          "output_type": "display_data",
          "data": {
            "text/html": [
              "<span style=\"color:blue\"> |-units_input: 576</span>"
            ],
            "text/plain": [
              "<IPython.core.display.HTML object>"
            ]
          },
          "metadata": {
            "tags": []
          }
        },
        {
          "output_type": "stream",
          "text": [
            "Epoch 1/20\n",
            "188/188 [==============================] - 1s 5ms/step - loss: 1.3344 - accuracy: 0.6293 - val_loss: 0.8910 - val_accuracy: 0.7281\n",
            "Epoch 2/20\n",
            "188/188 [==============================] - 1s 4ms/step - loss: 0.7910 - accuracy: 0.7509 - val_loss: 0.7073 - val_accuracy: 0.7729\n",
            "Epoch 3/20\n",
            "188/188 [==============================] - 1s 4ms/step - loss: 0.6712 - accuracy: 0.7839 - val_loss: 0.6281 - val_accuracy: 0.7961\n",
            "Epoch 4/20\n",
            "188/188 [==============================] - 1s 5ms/step - loss: 0.6083 - accuracy: 0.8029 - val_loss: 0.5880 - val_accuracy: 0.7997\n",
            "Epoch 5/20\n",
            "188/188 [==============================] - 1s 4ms/step - loss: 0.5684 - accuracy: 0.8134 - val_loss: 0.5554 - val_accuracy: 0.8136\n",
            "Epoch 6/20\n",
            "188/188 [==============================] - 1s 4ms/step - loss: 0.5399 - accuracy: 0.8211 - val_loss: 0.5287 - val_accuracy: 0.8215\n",
            "Epoch 7/20\n",
            "188/188 [==============================] - 1s 4ms/step - loss: 0.5192 - accuracy: 0.8264 - val_loss: 0.5129 - val_accuracy: 0.8279\n",
            "Epoch 8/20\n",
            "188/188 [==============================] - 1s 4ms/step - loss: 0.5034 - accuracy: 0.8306 - val_loss: 0.4985 - val_accuracy: 0.8297\n",
            "Epoch 9/20\n",
            "188/188 [==============================] - 1s 4ms/step - loss: 0.4904 - accuracy: 0.8345 - val_loss: 0.4949 - val_accuracy: 0.8298\n",
            "Epoch 10/20\n",
            "188/188 [==============================] - 1s 4ms/step - loss: 0.4791 - accuracy: 0.8385 - val_loss: 0.4805 - val_accuracy: 0.8344\n",
            "Epoch 11/20\n",
            "188/188 [==============================] - 1s 4ms/step - loss: 0.4695 - accuracy: 0.8414 - val_loss: 0.4804 - val_accuracy: 0.8359\n",
            "Epoch 12/20\n",
            "188/188 [==============================] - 1s 4ms/step - loss: 0.4614 - accuracy: 0.8425 - val_loss: 0.4731 - val_accuracy: 0.8337\n",
            "Epoch 13/20\n",
            "188/188 [==============================] - 1s 4ms/step - loss: 0.4541 - accuracy: 0.8460 - val_loss: 0.4599 - val_accuracy: 0.8421\n",
            "Epoch 14/20\n",
            "188/188 [==============================] - 1s 4ms/step - loss: 0.4476 - accuracy: 0.8477 - val_loss: 0.4522 - val_accuracy: 0.8427\n",
            "Epoch 15/20\n",
            "188/188 [==============================] - 1s 4ms/step - loss: 0.4421 - accuracy: 0.8488 - val_loss: 0.4490 - val_accuracy: 0.8461\n",
            "Epoch 16/20\n",
            "188/188 [==============================] - 1s 4ms/step - loss: 0.4371 - accuracy: 0.8501 - val_loss: 0.4490 - val_accuracy: 0.8447\n",
            "Epoch 17/20\n",
            "188/188 [==============================] - 1s 4ms/step - loss: 0.4322 - accuracy: 0.8520 - val_loss: 0.4374 - val_accuracy: 0.8482\n",
            "Epoch 18/20\n",
            "188/188 [==============================] - 1s 4ms/step - loss: 0.4278 - accuracy: 0.8529 - val_loss: 0.4520 - val_accuracy: 0.8398\n",
            "Epoch 19/20\n",
            "188/188 [==============================] - 1s 4ms/step - loss: 0.4229 - accuracy: 0.8544 - val_loss: 0.4290 - val_accuracy: 0.8518\n",
            "Epoch 20/20\n",
            "188/188 [==============================] - 1s 4ms/step - loss: 0.4194 - accuracy: 0.8556 - val_loss: 0.4316 - val_accuracy: 0.8497\n"
          ],
          "name": "stdout"
        },
        {
          "output_type": "display_data",
          "data": {
            "text/html": [
              "<span style=\"color:#4527A0\"><h1 style=\"font-size:18px\">Trial complete</h1></span>"
            ],
            "text/plain": [
              "<IPython.core.display.HTML object>"
            ]
          },
          "metadata": {
            "tags": []
          }
        },
        {
          "output_type": "display_data",
          "data": {
            "text/html": [
              "<span style=\"color:#4527A0\"><h1 style=\"font-size:18px\">Trial summary</h1></span>"
            ],
            "text/plain": [
              "<IPython.core.display.HTML object>"
            ]
          },
          "metadata": {
            "tags": []
          }
        },
        {
          "output_type": "display_data",
          "data": {
            "text/html": [
              "<span style=\"color:cyan\"> |-Trial ID: de9116d59914bd589ba161ed2207e616</span>"
            ],
            "text/plain": [
              "<IPython.core.display.HTML object>"
            ]
          },
          "metadata": {
            "tags": []
          }
        },
        {
          "output_type": "display_data",
          "data": {
            "text/html": [
              "<span style=\"color:cyan\"> |-Score: 0.8517500162124634</span>"
            ],
            "text/plain": [
              "<IPython.core.display.HTML object>"
            ]
          },
          "metadata": {
            "tags": []
          }
        },
        {
          "output_type": "display_data",
          "data": {
            "text/html": [
              "<span style=\"color:cyan\"> |-Best step: 0</span>"
            ],
            "text/plain": [
              "<IPython.core.display.HTML object>"
            ]
          },
          "metadata": {
            "tags": []
          }
        },
        {
          "output_type": "display_data",
          "data": {
            "text/html": [
              "<span style=\"color:#7E57C2\"><h2 style=\"font-size:16px\">Hyperparameters:</h2></span>"
            ],
            "text/plain": [
              "<IPython.core.display.HTML object>"
            ]
          },
          "metadata": {
            "tags": []
          }
        },
        {
          "output_type": "display_data",
          "data": {
            "text/html": [
              "<span style=\"color:cyan\"> |-activation: relu</span>"
            ],
            "text/plain": [
              "<IPython.core.display.HTML object>"
            ]
          },
          "metadata": {
            "tags": []
          }
        },
        {
          "output_type": "display_data",
          "data": {
            "text/html": [
              "<span style=\"color:blue\"> |-optimizer: SGD</span>"
            ],
            "text/plain": [
              "<IPython.core.display.HTML object>"
            ]
          },
          "metadata": {
            "tags": []
          }
        },
        {
          "output_type": "display_data",
          "data": {
            "text/html": [
              "<span style=\"color:cyan\"> |-units_hidden: 256</span>"
            ],
            "text/plain": [
              "<IPython.core.display.HTML object>"
            ]
          },
          "metadata": {
            "tags": []
          }
        },
        {
          "output_type": "display_data",
          "data": {
            "text/html": [
              "<span style=\"color:blue\"> |-units_input: 640</span>"
            ],
            "text/plain": [
              "<IPython.core.display.HTML object>"
            ]
          },
          "metadata": {
            "tags": []
          }
        },
        {
          "output_type": "stream",
          "text": [
            "Epoch 1/20\n",
            "188/188 [==============================] - 1s 5ms/step - loss: 0.8277 - accuracy: 0.6975 - val_loss: 0.5689 - val_accuracy: 0.7836\n",
            "Epoch 2/20\n",
            "188/188 [==============================] - 1s 5ms/step - loss: 0.4986 - accuracy: 0.8146 - val_loss: 0.4742 - val_accuracy: 0.8225\n",
            "Epoch 3/20\n",
            "188/188 [==============================] - 1s 4ms/step - loss: 0.4401 - accuracy: 0.8372 - val_loss: 0.4278 - val_accuracy: 0.8419\n",
            "Epoch 4/20\n",
            "188/188 [==============================] - 1s 5ms/step - loss: 0.4079 - accuracy: 0.8488 - val_loss: 0.3957 - val_accuracy: 0.8517\n",
            "Epoch 5/20\n",
            "188/188 [==============================] - 1s 5ms/step - loss: 0.3802 - accuracy: 0.8599 - val_loss: 0.4429 - val_accuracy: 0.8392\n",
            "Epoch 6/20\n",
            "188/188 [==============================] - 1s 4ms/step - loss: 0.3603 - accuracy: 0.8679 - val_loss: 0.4294 - val_accuracy: 0.8425\n",
            "Epoch 7/20\n",
            "188/188 [==============================] - 1s 5ms/step - loss: 0.3465 - accuracy: 0.8711 - val_loss: 0.3634 - val_accuracy: 0.8688\n",
            "Epoch 8/20\n",
            "188/188 [==============================] - 1s 5ms/step - loss: 0.3307 - accuracy: 0.8772 - val_loss: 0.4093 - val_accuracy: 0.8544\n",
            "Epoch 9/20\n",
            "188/188 [==============================] - 1s 4ms/step - loss: 0.3181 - accuracy: 0.8820 - val_loss: 0.3994 - val_accuracy: 0.8577\n",
            "Epoch 10/20\n",
            "188/188 [==============================] - 1s 4ms/step - loss: 0.3062 - accuracy: 0.8861 - val_loss: 0.4236 - val_accuracy: 0.8481\n",
            "Epoch 11/20\n",
            "188/188 [==============================] - 1s 5ms/step - loss: 0.2980 - accuracy: 0.8893 - val_loss: 0.3592 - val_accuracy: 0.8707\n",
            "Epoch 12/20\n",
            "188/188 [==============================] - 1s 4ms/step - loss: 0.2880 - accuracy: 0.8929 - val_loss: 0.3346 - val_accuracy: 0.8792\n",
            "Epoch 13/20\n",
            "188/188 [==============================] - 1s 4ms/step - loss: 0.2787 - accuracy: 0.8941 - val_loss: 0.3531 - val_accuracy: 0.8705\n",
            "Epoch 14/20\n",
            "188/188 [==============================] - 1s 4ms/step - loss: 0.2720 - accuracy: 0.8963 - val_loss: 0.3242 - val_accuracy: 0.8806\n",
            "Epoch 15/20\n",
            "188/188 [==============================] - 1s 4ms/step - loss: 0.2627 - accuracy: 0.9014 - val_loss: 0.3616 - val_accuracy: 0.8676\n",
            "Epoch 16/20\n",
            "188/188 [==============================] - 1s 4ms/step - loss: 0.2543 - accuracy: 0.9041 - val_loss: 0.3173 - val_accuracy: 0.8872\n",
            "Epoch 17/20\n",
            "188/188 [==============================] - 1s 4ms/step - loss: 0.2470 - accuracy: 0.9064 - val_loss: 0.3252 - val_accuracy: 0.8826\n",
            "Epoch 18/20\n",
            "188/188 [==============================] - 1s 5ms/step - loss: 0.2423 - accuracy: 0.9082 - val_loss: 0.3079 - val_accuracy: 0.8882\n",
            "Epoch 19/20\n",
            "188/188 [==============================] - 1s 5ms/step - loss: 0.2335 - accuracy: 0.9121 - val_loss: 0.3470 - val_accuracy: 0.8799\n",
            "Epoch 20/20\n",
            "188/188 [==============================] - 1s 5ms/step - loss: 0.2292 - accuracy: 0.9133 - val_loss: 0.3042 - val_accuracy: 0.8952\n"
          ],
          "name": "stdout"
        },
        {
          "output_type": "display_data",
          "data": {
            "text/html": [
              "<span style=\"color:#4527A0\"><h1 style=\"font-size:18px\">Trial complete</h1></span>"
            ],
            "text/plain": [
              "<IPython.core.display.HTML object>"
            ]
          },
          "metadata": {
            "tags": []
          }
        },
        {
          "output_type": "display_data",
          "data": {
            "text/html": [
              "<span style=\"color:#4527A0\"><h1 style=\"font-size:18px\">Trial summary</h1></span>"
            ],
            "text/plain": [
              "<IPython.core.display.HTML object>"
            ]
          },
          "metadata": {
            "tags": []
          }
        },
        {
          "output_type": "display_data",
          "data": {
            "text/html": [
              "<span style=\"color:cyan\"> |-Trial ID: 2b2729b6b86bef94fd6333b61b1291cc</span>"
            ],
            "text/plain": [
              "<IPython.core.display.HTML object>"
            ]
          },
          "metadata": {
            "tags": []
          }
        },
        {
          "output_type": "display_data",
          "data": {
            "text/html": [
              "<span style=\"color:cyan\"> |-Score: 0.8951666951179504</span>"
            ],
            "text/plain": [
              "<IPython.core.display.HTML object>"
            ]
          },
          "metadata": {
            "tags": []
          }
        },
        {
          "output_type": "display_data",
          "data": {
            "text/html": [
              "<span style=\"color:cyan\"> |-Best step: 0</span>"
            ],
            "text/plain": [
              "<IPython.core.display.HTML object>"
            ]
          },
          "metadata": {
            "tags": []
          }
        },
        {
          "output_type": "display_data",
          "data": {
            "text/html": [
              "<span style=\"color:#7E57C2\"><h2 style=\"font-size:16px\">Hyperparameters:</h2></span>"
            ],
            "text/plain": [
              "<IPython.core.display.HTML object>"
            ]
          },
          "metadata": {
            "tags": []
          }
        },
        {
          "output_type": "display_data",
          "data": {
            "text/html": [
              "<span style=\"color:cyan\"> |-activation: sigmoid</span>"
            ],
            "text/plain": [
              "<IPython.core.display.HTML object>"
            ]
          },
          "metadata": {
            "tags": []
          }
        },
        {
          "output_type": "display_data",
          "data": {
            "text/html": [
              "<span style=\"color:blue\"> |-optimizer: rmsprop</span>"
            ],
            "text/plain": [
              "<IPython.core.display.HTML object>"
            ]
          },
          "metadata": {
            "tags": []
          }
        },
        {
          "output_type": "display_data",
          "data": {
            "text/html": [
              "<span style=\"color:cyan\"> |-units_hidden: 512</span>"
            ],
            "text/plain": [
              "<IPython.core.display.HTML object>"
            ]
          },
          "metadata": {
            "tags": []
          }
        },
        {
          "output_type": "display_data",
          "data": {
            "text/html": [
              "<span style=\"color:blue\"> |-units_input: 736</span>"
            ],
            "text/plain": [
              "<IPython.core.display.HTML object>"
            ]
          },
          "metadata": {
            "tags": []
          }
        },
        {
          "output_type": "stream",
          "text": [
            "Epoch 1/20\n",
            "188/188 [==============================] - 1s 5ms/step - loss: 0.8007 - accuracy: 0.7263 - val_loss: 0.5200 - val_accuracy: 0.8163\n",
            "Epoch 2/20\n",
            "188/188 [==============================] - 1s 4ms/step - loss: 0.4822 - accuracy: 0.8251 - val_loss: 0.4329 - val_accuracy: 0.8420\n",
            "Epoch 3/20\n",
            "188/188 [==============================] - 1s 4ms/step - loss: 0.4310 - accuracy: 0.8425 - val_loss: 0.4733 - val_accuracy: 0.8282\n",
            "Epoch 4/20\n",
            "188/188 [==============================] - 1s 5ms/step - loss: 0.4012 - accuracy: 0.8535 - val_loss: 0.4201 - val_accuracy: 0.8432\n",
            "Epoch 5/20\n",
            "188/188 [==============================] - 1s 5ms/step - loss: 0.3789 - accuracy: 0.8612 - val_loss: 0.4173 - val_accuracy: 0.8485\n",
            "Epoch 6/20\n",
            "188/188 [==============================] - 1s 5ms/step - loss: 0.3630 - accuracy: 0.8664 - val_loss: 0.4080 - val_accuracy: 0.8525\n",
            "Epoch 7/20\n",
            "188/188 [==============================] - 1s 4ms/step - loss: 0.3482 - accuracy: 0.8715 - val_loss: 0.3562 - val_accuracy: 0.8678\n",
            "Epoch 8/20\n",
            "188/188 [==============================] - 1s 4ms/step - loss: 0.3345 - accuracy: 0.8763 - val_loss: 0.3632 - val_accuracy: 0.8666\n",
            "Epoch 9/20\n",
            "188/188 [==============================] - 1s 4ms/step - loss: 0.3216 - accuracy: 0.8821 - val_loss: 0.3698 - val_accuracy: 0.8678\n",
            "Epoch 10/20\n",
            "188/188 [==============================] - 1s 4ms/step - loss: 0.3146 - accuracy: 0.8838 - val_loss: 0.3469 - val_accuracy: 0.8692\n",
            "Epoch 11/20\n",
            "188/188 [==============================] - 1s 4ms/step - loss: 0.3024 - accuracy: 0.8892 - val_loss: 0.3508 - val_accuracy: 0.8727\n",
            "Epoch 12/20\n",
            "188/188 [==============================] - 1s 4ms/step - loss: 0.2946 - accuracy: 0.8912 - val_loss: 0.3363 - val_accuracy: 0.8766\n",
            "Epoch 13/20\n",
            "188/188 [==============================] - 1s 4ms/step - loss: 0.2862 - accuracy: 0.8932 - val_loss: 0.3219 - val_accuracy: 0.8822\n",
            "Epoch 14/20\n",
            "188/188 [==============================] - 1s 4ms/step - loss: 0.2795 - accuracy: 0.8953 - val_loss: 0.3175 - val_accuracy: 0.8824\n",
            "Epoch 15/20\n",
            "188/188 [==============================] - 1s 5ms/step - loss: 0.2714 - accuracy: 0.8996 - val_loss: 0.3151 - val_accuracy: 0.8826\n",
            "Epoch 16/20\n",
            "188/188 [==============================] - 1s 5ms/step - loss: 0.2638 - accuracy: 0.9014 - val_loss: 0.3091 - val_accuracy: 0.8876\n",
            "Epoch 17/20\n",
            "188/188 [==============================] - 1s 4ms/step - loss: 0.2582 - accuracy: 0.9034 - val_loss: 0.3324 - val_accuracy: 0.8796\n",
            "Epoch 18/20\n",
            "188/188 [==============================] - 1s 4ms/step - loss: 0.2523 - accuracy: 0.9063 - val_loss: 0.3047 - val_accuracy: 0.8883\n",
            "Epoch 19/20\n",
            "188/188 [==============================] - 1s 5ms/step - loss: 0.2469 - accuracy: 0.9080 - val_loss: 0.3085 - val_accuracy: 0.8874\n",
            "Epoch 20/20\n",
            "188/188 [==============================] - 1s 5ms/step - loss: 0.2387 - accuracy: 0.9108 - val_loss: 0.3530 - val_accuracy: 0.8742\n"
          ],
          "name": "stdout"
        },
        {
          "output_type": "display_data",
          "data": {
            "text/html": [
              "<span style=\"color:#4527A0\"><h1 style=\"font-size:18px\">Trial complete</h1></span>"
            ],
            "text/plain": [
              "<IPython.core.display.HTML object>"
            ]
          },
          "metadata": {
            "tags": []
          }
        },
        {
          "output_type": "display_data",
          "data": {
            "text/html": [
              "<span style=\"color:#4527A0\"><h1 style=\"font-size:18px\">Trial summary</h1></span>"
            ],
            "text/plain": [
              "<IPython.core.display.HTML object>"
            ]
          },
          "metadata": {
            "tags": []
          }
        },
        {
          "output_type": "display_data",
          "data": {
            "text/html": [
              "<span style=\"color:cyan\"> |-Trial ID: 17bf347b082ab7968d9ff4983fe98e96</span>"
            ],
            "text/plain": [
              "<IPython.core.display.HTML object>"
            ]
          },
          "metadata": {
            "tags": []
          }
        },
        {
          "output_type": "display_data",
          "data": {
            "text/html": [
              "<span style=\"color:cyan\"> |-Score: 0.8883333206176758</span>"
            ],
            "text/plain": [
              "<IPython.core.display.HTML object>"
            ]
          },
          "metadata": {
            "tags": []
          }
        },
        {
          "output_type": "display_data",
          "data": {
            "text/html": [
              "<span style=\"color:cyan\"> |-Best step: 0</span>"
            ],
            "text/plain": [
              "<IPython.core.display.HTML object>"
            ]
          },
          "metadata": {
            "tags": []
          }
        },
        {
          "output_type": "display_data",
          "data": {
            "text/html": [
              "<span style=\"color:#7E57C2\"><h2 style=\"font-size:16px\">Hyperparameters:</h2></span>"
            ],
            "text/plain": [
              "<IPython.core.display.HTML object>"
            ]
          },
          "metadata": {
            "tags": []
          }
        },
        {
          "output_type": "display_data",
          "data": {
            "text/html": [
              "<span style=\"color:cyan\"> |-activation: sigmoid</span>"
            ],
            "text/plain": [
              "<IPython.core.display.HTML object>"
            ]
          },
          "metadata": {
            "tags": []
          }
        },
        {
          "output_type": "display_data",
          "data": {
            "text/html": [
              "<span style=\"color:blue\"> |-optimizer: rmsprop</span>"
            ],
            "text/plain": [
              "<IPython.core.display.HTML object>"
            ]
          },
          "metadata": {
            "tags": []
          }
        },
        {
          "output_type": "display_data",
          "data": {
            "text/html": [
              "<span style=\"color:cyan\"> |-units_hidden: 160</span>"
            ],
            "text/plain": [
              "<IPython.core.display.HTML object>"
            ]
          },
          "metadata": {
            "tags": []
          }
        },
        {
          "output_type": "display_data",
          "data": {
            "text/html": [
              "<span style=\"color:blue\"> |-units_input: 672</span>"
            ],
            "text/plain": [
              "<IPython.core.display.HTML object>"
            ]
          },
          "metadata": {
            "tags": []
          }
        },
        {
          "output_type": "stream",
          "text": [
            "Epoch 1/20\n",
            "188/188 [==============================] - 1s 5ms/step - loss: 0.5781 - accuracy: 0.7964 - val_loss: 0.4673 - val_accuracy: 0.8359\n",
            "Epoch 2/20\n",
            "188/188 [==============================] - 1s 5ms/step - loss: 0.4103 - accuracy: 0.8513 - val_loss: 0.3800 - val_accuracy: 0.8637\n",
            "Epoch 3/20\n",
            "188/188 [==============================] - 1s 4ms/step - loss: 0.3670 - accuracy: 0.8658 - val_loss: 0.3859 - val_accuracy: 0.8611\n",
            "Epoch 4/20\n",
            "188/188 [==============================] - 1s 5ms/step - loss: 0.3397 - accuracy: 0.8738 - val_loss: 0.3516 - val_accuracy: 0.8685\n",
            "Epoch 5/20\n",
            "188/188 [==============================] - 1s 5ms/step - loss: 0.3147 - accuracy: 0.8819 - val_loss: 0.3650 - val_accuracy: 0.8707\n",
            "Epoch 6/20\n",
            "188/188 [==============================] - 1s 5ms/step - loss: 0.3010 - accuracy: 0.8877 - val_loss: 0.3492 - val_accuracy: 0.8712\n",
            "Epoch 7/20\n",
            "188/188 [==============================] - 1s 5ms/step - loss: 0.2867 - accuracy: 0.8938 - val_loss: 0.3475 - val_accuracy: 0.8776\n",
            "Epoch 8/20\n",
            "188/188 [==============================] - 1s 5ms/step - loss: 0.2699 - accuracy: 0.8990 - val_loss: 0.3263 - val_accuracy: 0.8841\n",
            "Epoch 9/20\n",
            "188/188 [==============================] - 1s 5ms/step - loss: 0.2605 - accuracy: 0.9013 - val_loss: 0.3181 - val_accuracy: 0.8872\n",
            "Epoch 10/20\n",
            "188/188 [==============================] - 1s 5ms/step - loss: 0.2496 - accuracy: 0.9066 - val_loss: 0.3207 - val_accuracy: 0.8878\n",
            "Epoch 11/20\n",
            "188/188 [==============================] - 1s 5ms/step - loss: 0.2391 - accuracy: 0.9098 - val_loss: 0.3107 - val_accuracy: 0.8910\n",
            "Epoch 12/20\n",
            "188/188 [==============================] - 1s 5ms/step - loss: 0.2300 - accuracy: 0.9120 - val_loss: 0.3178 - val_accuracy: 0.8887\n",
            "Epoch 13/20\n",
            "188/188 [==============================] - 1s 5ms/step - loss: 0.2162 - accuracy: 0.9178 - val_loss: 0.3474 - val_accuracy: 0.8838\n",
            "Epoch 14/20\n",
            "188/188 [==============================] - 1s 5ms/step - loss: 0.2171 - accuracy: 0.9178 - val_loss: 0.3134 - val_accuracy: 0.8931\n",
            "Epoch 15/20\n",
            "188/188 [==============================] - 1s 5ms/step - loss: 0.2017 - accuracy: 0.9243 - val_loss: 0.3155 - val_accuracy: 0.8867\n",
            "Epoch 16/20\n",
            "188/188 [==============================] - 1s 5ms/step - loss: 0.1951 - accuracy: 0.9273 - val_loss: 0.3150 - val_accuracy: 0.8947\n",
            "Epoch 17/20\n",
            "188/188 [==============================] - 1s 5ms/step - loss: 0.1900 - accuracy: 0.9282 - val_loss: 0.3367 - val_accuracy: 0.8942\n",
            "Epoch 18/20\n",
            "188/188 [==============================] - 1s 5ms/step - loss: 0.1819 - accuracy: 0.9303 - val_loss: 0.3224 - val_accuracy: 0.8967\n",
            "Epoch 19/20\n",
            "188/188 [==============================] - 1s 5ms/step - loss: 0.1740 - accuracy: 0.9348 - val_loss: 0.3381 - val_accuracy: 0.8928\n",
            "Epoch 20/20\n",
            "188/188 [==============================] - 1s 5ms/step - loss: 0.1749 - accuracy: 0.9336 - val_loss: 0.3674 - val_accuracy: 0.8866\n"
          ],
          "name": "stdout"
        },
        {
          "output_type": "display_data",
          "data": {
            "text/html": [
              "<span style=\"color:#4527A0\"><h1 style=\"font-size:18px\">Trial complete</h1></span>"
            ],
            "text/plain": [
              "<IPython.core.display.HTML object>"
            ]
          },
          "metadata": {
            "tags": []
          }
        },
        {
          "output_type": "display_data",
          "data": {
            "text/html": [
              "<span style=\"color:#4527A0\"><h1 style=\"font-size:18px\">Trial summary</h1></span>"
            ],
            "text/plain": [
              "<IPython.core.display.HTML object>"
            ]
          },
          "metadata": {
            "tags": []
          }
        },
        {
          "output_type": "display_data",
          "data": {
            "text/html": [
              "<span style=\"color:cyan\"> |-Trial ID: 61d277caeed5af4e94ab8c8904f92e75</span>"
            ],
            "text/plain": [
              "<IPython.core.display.HTML object>"
            ]
          },
          "metadata": {
            "tags": []
          }
        },
        {
          "output_type": "display_data",
          "data": {
            "text/html": [
              "<span style=\"color:cyan\"> |-Score: 0.8967499732971191</span>"
            ],
            "text/plain": [
              "<IPython.core.display.HTML object>"
            ]
          },
          "metadata": {
            "tags": []
          }
        },
        {
          "output_type": "display_data",
          "data": {
            "text/html": [
              "<span style=\"color:cyan\"> |-Best step: 0</span>"
            ],
            "text/plain": [
              "<IPython.core.display.HTML object>"
            ]
          },
          "metadata": {
            "tags": []
          }
        },
        {
          "output_type": "display_data",
          "data": {
            "text/html": [
              "<span style=\"color:#7E57C2\"><h2 style=\"font-size:16px\">Hyperparameters:</h2></span>"
            ],
            "text/plain": [
              "<IPython.core.display.HTML object>"
            ]
          },
          "metadata": {
            "tags": []
          }
        },
        {
          "output_type": "display_data",
          "data": {
            "text/html": [
              "<span style=\"color:cyan\"> |-activation: elu</span>"
            ],
            "text/plain": [
              "<IPython.core.display.HTML object>"
            ]
          },
          "metadata": {
            "tags": []
          }
        },
        {
          "output_type": "display_data",
          "data": {
            "text/html": [
              "<span style=\"color:blue\"> |-optimizer: adam</span>"
            ],
            "text/plain": [
              "<IPython.core.display.HTML object>"
            ]
          },
          "metadata": {
            "tags": []
          }
        },
        {
          "output_type": "display_data",
          "data": {
            "text/html": [
              "<span style=\"color:cyan\"> |-units_hidden: 512</span>"
            ],
            "text/plain": [
              "<IPython.core.display.HTML object>"
            ]
          },
          "metadata": {
            "tags": []
          }
        },
        {
          "output_type": "display_data",
          "data": {
            "text/html": [
              "<span style=\"color:blue\"> |-units_input: 864</span>"
            ],
            "text/plain": [
              "<IPython.core.display.HTML object>"
            ]
          },
          "metadata": {
            "tags": []
          }
        },
        {
          "output_type": "stream",
          "text": [
            "Epoch 1/20\n",
            "188/188 [==============================] - 1s 5ms/step - loss: 1.0690 - accuracy: 0.6711 - val_loss: 0.7546 - val_accuracy: 0.7524\n",
            "Epoch 2/20\n",
            "188/188 [==============================] - 1s 4ms/step - loss: 0.6905 - accuracy: 0.7786 - val_loss: 0.6342 - val_accuracy: 0.7874\n",
            "Epoch 3/20\n",
            "188/188 [==============================] - 1s 5ms/step - loss: 0.6063 - accuracy: 0.8015 - val_loss: 0.5777 - val_accuracy: 0.8038\n",
            "Epoch 4/20\n",
            "188/188 [==============================] - 1s 5ms/step - loss: 0.5616 - accuracy: 0.8133 - val_loss: 0.5461 - val_accuracy: 0.8112\n",
            "Epoch 5/20\n",
            "188/188 [==============================] - 1s 5ms/step - loss: 0.5324 - accuracy: 0.8217 - val_loss: 0.5236 - val_accuracy: 0.8194\n",
            "Epoch 6/20\n",
            "188/188 [==============================] - 1s 5ms/step - loss: 0.5119 - accuracy: 0.8265 - val_loss: 0.5109 - val_accuracy: 0.8217\n",
            "Epoch 7/20\n",
            "188/188 [==============================] - 1s 5ms/step - loss: 0.4965 - accuracy: 0.8305 - val_loss: 0.4943 - val_accuracy: 0.8263\n",
            "Epoch 8/20\n",
            "188/188 [==============================] - 1s 5ms/step - loss: 0.4837 - accuracy: 0.8335 - val_loss: 0.4831 - val_accuracy: 0.8307\n",
            "Epoch 9/20\n",
            "188/188 [==============================] - 1s 4ms/step - loss: 0.4738 - accuracy: 0.8357 - val_loss: 0.4773 - val_accuracy: 0.8303\n",
            "Epoch 10/20\n",
            "188/188 [==============================] - 1s 5ms/step - loss: 0.4649 - accuracy: 0.8411 - val_loss: 0.4694 - val_accuracy: 0.8338\n",
            "Epoch 11/20\n",
            "188/188 [==============================] - 1s 4ms/step - loss: 0.4576 - accuracy: 0.8419 - val_loss: 0.4637 - val_accuracy: 0.8350\n",
            "Epoch 12/20\n",
            "188/188 [==============================] - 1s 4ms/step - loss: 0.4512 - accuracy: 0.8435 - val_loss: 0.4543 - val_accuracy: 0.8400\n",
            "Epoch 13/20\n",
            "188/188 [==============================] - 1s 4ms/step - loss: 0.4454 - accuracy: 0.8462 - val_loss: 0.4513 - val_accuracy: 0.8403\n",
            "Epoch 14/20\n",
            "188/188 [==============================] - 1s 4ms/step - loss: 0.4399 - accuracy: 0.8482 - val_loss: 0.4460 - val_accuracy: 0.8428\n",
            "Epoch 15/20\n",
            "188/188 [==============================] - 1s 4ms/step - loss: 0.4355 - accuracy: 0.8489 - val_loss: 0.4417 - val_accuracy: 0.8433\n",
            "Epoch 16/20\n",
            "188/188 [==============================] - 1s 4ms/step - loss: 0.4312 - accuracy: 0.8494 - val_loss: 0.4390 - val_accuracy: 0.8447\n",
            "Epoch 17/20\n",
            "188/188 [==============================] - 1s 4ms/step - loss: 0.4271 - accuracy: 0.8514 - val_loss: 0.4347 - val_accuracy: 0.8460\n",
            "Epoch 18/20\n",
            "188/188 [==============================] - 1s 4ms/step - loss: 0.4230 - accuracy: 0.8528 - val_loss: 0.4351 - val_accuracy: 0.8453\n",
            "Epoch 19/20\n",
            "188/188 [==============================] - 1s 4ms/step - loss: 0.4198 - accuracy: 0.8535 - val_loss: 0.4313 - val_accuracy: 0.8469\n",
            "Epoch 20/20\n",
            "188/188 [==============================] - 1s 4ms/step - loss: 0.4163 - accuracy: 0.8554 - val_loss: 0.4252 - val_accuracy: 0.8500\n"
          ],
          "name": "stdout"
        },
        {
          "output_type": "display_data",
          "data": {
            "text/html": [
              "<span style=\"color:#4527A0\"><h1 style=\"font-size:18px\">Trial complete</h1></span>"
            ],
            "text/plain": [
              "<IPython.core.display.HTML object>"
            ]
          },
          "metadata": {
            "tags": []
          }
        },
        {
          "output_type": "display_data",
          "data": {
            "text/html": [
              "<span style=\"color:#4527A0\"><h1 style=\"font-size:18px\">Trial summary</h1></span>"
            ],
            "text/plain": [
              "<IPython.core.display.HTML object>"
            ]
          },
          "metadata": {
            "tags": []
          }
        },
        {
          "output_type": "display_data",
          "data": {
            "text/html": [
              "<span style=\"color:cyan\"> |-Trial ID: 9bfd3aac6afb481e72bb24e2174ee34c</span>"
            ],
            "text/plain": [
              "<IPython.core.display.HTML object>"
            ]
          },
          "metadata": {
            "tags": []
          }
        },
        {
          "output_type": "display_data",
          "data": {
            "text/html": [
              "<span style=\"color:cyan\"> |-Score: 0.8500000238418579</span>"
            ],
            "text/plain": [
              "<IPython.core.display.HTML object>"
            ]
          },
          "metadata": {
            "tags": []
          }
        },
        {
          "output_type": "display_data",
          "data": {
            "text/html": [
              "<span style=\"color:cyan\"> |-Best step: 0</span>"
            ],
            "text/plain": [
              "<IPython.core.display.HTML object>"
            ]
          },
          "metadata": {
            "tags": []
          }
        },
        {
          "output_type": "display_data",
          "data": {
            "text/html": [
              "<span style=\"color:#7E57C2\"><h2 style=\"font-size:16px\">Hyperparameters:</h2></span>"
            ],
            "text/plain": [
              "<IPython.core.display.HTML object>"
            ]
          },
          "metadata": {
            "tags": []
          }
        },
        {
          "output_type": "display_data",
          "data": {
            "text/html": [
              "<span style=\"color:cyan\"> |-activation: tanh</span>"
            ],
            "text/plain": [
              "<IPython.core.display.HTML object>"
            ]
          },
          "metadata": {
            "tags": []
          }
        },
        {
          "output_type": "display_data",
          "data": {
            "text/html": [
              "<span style=\"color:blue\"> |-optimizer: SGD</span>"
            ],
            "text/plain": [
              "<IPython.core.display.HTML object>"
            ]
          },
          "metadata": {
            "tags": []
          }
        },
        {
          "output_type": "display_data",
          "data": {
            "text/html": [
              "<span style=\"color:cyan\"> |-units_hidden: 320</span>"
            ],
            "text/plain": [
              "<IPython.core.display.HTML object>"
            ]
          },
          "metadata": {
            "tags": []
          }
        },
        {
          "output_type": "display_data",
          "data": {
            "text/html": [
              "<span style=\"color:blue\"> |-units_input: 704</span>"
            ],
            "text/plain": [
              "<IPython.core.display.HTML object>"
            ]
          },
          "metadata": {
            "tags": []
          }
        },
        {
          "output_type": "stream",
          "text": [
            "Epoch 1/20\n",
            "188/188 [==============================] - 1s 5ms/step - loss: 1.0850 - accuracy: 0.6705 - val_loss: 0.7579 - val_accuracy: 0.7566\n",
            "Epoch 2/20\n",
            "188/188 [==============================] - 1s 4ms/step - loss: 0.6910 - accuracy: 0.7801 - val_loss: 0.6343 - val_accuracy: 0.7883\n",
            "Epoch 3/20\n",
            "188/188 [==============================] - 1s 4ms/step - loss: 0.6062 - accuracy: 0.8027 - val_loss: 0.5788 - val_accuracy: 0.8049\n",
            "Epoch 4/20\n",
            "188/188 [==============================] - 1s 4ms/step - loss: 0.5614 - accuracy: 0.8132 - val_loss: 0.5477 - val_accuracy: 0.8145\n",
            "Epoch 5/20\n",
            "188/188 [==============================] - 1s 4ms/step - loss: 0.5329 - accuracy: 0.8224 - val_loss: 0.5285 - val_accuracy: 0.8157\n",
            "Epoch 6/20\n",
            "188/188 [==============================] - 1s 4ms/step - loss: 0.5121 - accuracy: 0.8269 - val_loss: 0.5075 - val_accuracy: 0.8231\n",
            "Epoch 7/20\n",
            "188/188 [==============================] - 1s 4ms/step - loss: 0.4967 - accuracy: 0.8316 - val_loss: 0.4941 - val_accuracy: 0.8277\n",
            "Epoch 8/20\n",
            "188/188 [==============================] - 1s 4ms/step - loss: 0.4841 - accuracy: 0.8345 - val_loss: 0.4845 - val_accuracy: 0.8307\n",
            "Epoch 9/20\n",
            "188/188 [==============================] - 1s 4ms/step - loss: 0.4741 - accuracy: 0.8372 - val_loss: 0.4755 - val_accuracy: 0.8321\n",
            "Epoch 10/20\n",
            "188/188 [==============================] - 1s 4ms/step - loss: 0.4655 - accuracy: 0.8402 - val_loss: 0.4697 - val_accuracy: 0.8359\n",
            "Epoch 11/20\n",
            "188/188 [==============================] - 1s 4ms/step - loss: 0.4581 - accuracy: 0.8419 - val_loss: 0.4615 - val_accuracy: 0.8365\n",
            "Epoch 12/20\n",
            "188/188 [==============================] - 1s 4ms/step - loss: 0.4518 - accuracy: 0.8431 - val_loss: 0.4574 - val_accuracy: 0.8369\n",
            "Epoch 13/20\n",
            "188/188 [==============================] - 1s 4ms/step - loss: 0.4457 - accuracy: 0.8458 - val_loss: 0.4541 - val_accuracy: 0.8398\n",
            "Epoch 14/20\n",
            "188/188 [==============================] - 1s 4ms/step - loss: 0.4405 - accuracy: 0.8471 - val_loss: 0.4461 - val_accuracy: 0.8411\n",
            "Epoch 15/20\n",
            "188/188 [==============================] - 1s 4ms/step - loss: 0.4360 - accuracy: 0.8483 - val_loss: 0.4459 - val_accuracy: 0.8378\n",
            "Epoch 16/20\n",
            "188/188 [==============================] - 1s 4ms/step - loss: 0.4316 - accuracy: 0.8501 - val_loss: 0.4396 - val_accuracy: 0.8442\n",
            "Epoch 17/20\n",
            "188/188 [==============================] - 1s 4ms/step - loss: 0.4276 - accuracy: 0.8512 - val_loss: 0.4377 - val_accuracy: 0.8436\n",
            "Epoch 18/20\n",
            "188/188 [==============================] - 1s 4ms/step - loss: 0.4237 - accuracy: 0.8523 - val_loss: 0.4314 - val_accuracy: 0.8471\n",
            "Epoch 19/20\n",
            "188/188 [==============================] - 1s 4ms/step - loss: 0.4201 - accuracy: 0.8531 - val_loss: 0.4324 - val_accuracy: 0.8448\n",
            "Epoch 20/20\n",
            "188/188 [==============================] - 1s 4ms/step - loss: 0.4171 - accuracy: 0.8547 - val_loss: 0.4283 - val_accuracy: 0.8464\n"
          ],
          "name": "stdout"
        },
        {
          "output_type": "display_data",
          "data": {
            "text/html": [
              "<span style=\"color:#4527A0\"><h1 style=\"font-size:18px\">Trial complete</h1></span>"
            ],
            "text/plain": [
              "<IPython.core.display.HTML object>"
            ]
          },
          "metadata": {
            "tags": []
          }
        },
        {
          "output_type": "display_data",
          "data": {
            "text/html": [
              "<span style=\"color:#4527A0\"><h1 style=\"font-size:18px\">Trial summary</h1></span>"
            ],
            "text/plain": [
              "<IPython.core.display.HTML object>"
            ]
          },
          "metadata": {
            "tags": []
          }
        },
        {
          "output_type": "display_data",
          "data": {
            "text/html": [
              "<span style=\"color:cyan\"> |-Trial ID: 1f069ce07109e8f87753e18ddcb5f23f</span>"
            ],
            "text/plain": [
              "<IPython.core.display.HTML object>"
            ]
          },
          "metadata": {
            "tags": []
          }
        },
        {
          "output_type": "display_data",
          "data": {
            "text/html": [
              "<span style=\"color:cyan\"> |-Score: 0.847083330154419</span>"
            ],
            "text/plain": [
              "<IPython.core.display.HTML object>"
            ]
          },
          "metadata": {
            "tags": []
          }
        },
        {
          "output_type": "display_data",
          "data": {
            "text/html": [
              "<span style=\"color:cyan\"> |-Best step: 0</span>"
            ],
            "text/plain": [
              "<IPython.core.display.HTML object>"
            ]
          },
          "metadata": {
            "tags": []
          }
        },
        {
          "output_type": "display_data",
          "data": {
            "text/html": [
              "<span style=\"color:#7E57C2\"><h2 style=\"font-size:16px\">Hyperparameters:</h2></span>"
            ],
            "text/plain": [
              "<IPython.core.display.HTML object>"
            ]
          },
          "metadata": {
            "tags": []
          }
        },
        {
          "output_type": "display_data",
          "data": {
            "text/html": [
              "<span style=\"color:cyan\"> |-activation: tanh</span>"
            ],
            "text/plain": [
              "<IPython.core.display.HTML object>"
            ]
          },
          "metadata": {
            "tags": []
          }
        },
        {
          "output_type": "display_data",
          "data": {
            "text/html": [
              "<span style=\"color:blue\"> |-optimizer: SGD</span>"
            ],
            "text/plain": [
              "<IPython.core.display.HTML object>"
            ]
          },
          "metadata": {
            "tags": []
          }
        },
        {
          "output_type": "display_data",
          "data": {
            "text/html": [
              "<span style=\"color:cyan\"> |-units_hidden: 480</span>"
            ],
            "text/plain": [
              "<IPython.core.display.HTML object>"
            ]
          },
          "metadata": {
            "tags": []
          }
        },
        {
          "output_type": "display_data",
          "data": {
            "text/html": [
              "<span style=\"color:blue\"> |-units_input: 736</span>"
            ],
            "text/plain": [
              "<IPython.core.display.HTML object>"
            ]
          },
          "metadata": {
            "tags": []
          }
        },
        {
          "output_type": "stream",
          "text": [
            "Epoch 1/20\n",
            "188/188 [==============================] - 1s 5ms/step - loss: 1.0405 - accuracy: 0.6758 - val_loss: 0.7362 - val_accuracy: 0.7653\n",
            "Epoch 2/20\n",
            "188/188 [==============================] - 1s 4ms/step - loss: 0.6744 - accuracy: 0.7812 - val_loss: 0.6252 - val_accuracy: 0.7953\n",
            "Epoch 3/20\n",
            "188/188 [==============================] - 1s 4ms/step - loss: 0.5967 - accuracy: 0.8040 - val_loss: 0.5730 - val_accuracy: 0.8062\n",
            "Epoch 4/20\n",
            "188/188 [==============================] - 1s 4ms/step - loss: 0.5546 - accuracy: 0.8166 - val_loss: 0.5406 - val_accuracy: 0.8154\n",
            "Epoch 5/20\n",
            "188/188 [==============================] - 1s 4ms/step - loss: 0.5281 - accuracy: 0.8232 - val_loss: 0.5190 - val_accuracy: 0.8213\n",
            "Epoch 6/20\n",
            "188/188 [==============================] - 1s 4ms/step - loss: 0.5089 - accuracy: 0.8280 - val_loss: 0.5069 - val_accuracy: 0.8275\n",
            "Epoch 7/20\n",
            "188/188 [==============================] - 1s 4ms/step - loss: 0.4950 - accuracy: 0.8318 - val_loss: 0.4944 - val_accuracy: 0.8288\n",
            "Epoch 8/20\n",
            "188/188 [==============================] - 1s 4ms/step - loss: 0.4825 - accuracy: 0.8343 - val_loss: 0.4821 - val_accuracy: 0.8319\n",
            "Epoch 9/20\n",
            "188/188 [==============================] - 1s 4ms/step - loss: 0.4732 - accuracy: 0.8376 - val_loss: 0.4755 - val_accuracy: 0.8355\n",
            "Epoch 10/20\n",
            "188/188 [==============================] - 1s 4ms/step - loss: 0.4658 - accuracy: 0.8399 - val_loss: 0.4676 - val_accuracy: 0.8361\n",
            "Epoch 11/20\n",
            "188/188 [==============================] - 1s 5ms/step - loss: 0.4585 - accuracy: 0.8426 - val_loss: 0.4622 - val_accuracy: 0.8363\n",
            "Epoch 12/20\n",
            "188/188 [==============================] - 1s 5ms/step - loss: 0.4523 - accuracy: 0.8448 - val_loss: 0.4649 - val_accuracy: 0.8365\n",
            "Epoch 13/20\n",
            "188/188 [==============================] - 1s 4ms/step - loss: 0.4478 - accuracy: 0.8461 - val_loss: 0.4551 - val_accuracy: 0.8387\n",
            "Epoch 14/20\n",
            "188/188 [==============================] - 1s 4ms/step - loss: 0.4428 - accuracy: 0.8476 - val_loss: 0.4542 - val_accuracy: 0.8390\n",
            "Epoch 15/20\n",
            "188/188 [==============================] - 1s 4ms/step - loss: 0.4391 - accuracy: 0.8489 - val_loss: 0.4539 - val_accuracy: 0.8399\n",
            "Epoch 16/20\n",
            "188/188 [==============================] - 1s 4ms/step - loss: 0.4345 - accuracy: 0.8499 - val_loss: 0.4498 - val_accuracy: 0.8402\n",
            "Epoch 17/20\n",
            "188/188 [==============================] - 1s 4ms/step - loss: 0.4313 - accuracy: 0.8511 - val_loss: 0.4395 - val_accuracy: 0.8469\n",
            "Epoch 18/20\n",
            "188/188 [==============================] - 1s 4ms/step - loss: 0.4280 - accuracy: 0.8520 - val_loss: 0.4405 - val_accuracy: 0.8441\n",
            "Epoch 19/20\n",
            "188/188 [==============================] - 1s 4ms/step - loss: 0.4243 - accuracy: 0.8527 - val_loss: 0.4391 - val_accuracy: 0.8446\n",
            "Epoch 20/20\n",
            "188/188 [==============================] - 1s 5ms/step - loss: 0.4222 - accuracy: 0.8535 - val_loss: 0.4333 - val_accuracy: 0.8491\n"
          ],
          "name": "stdout"
        },
        {
          "output_type": "display_data",
          "data": {
            "text/html": [
              "<span style=\"color:#4527A0\"><h1 style=\"font-size:18px\">Trial complete</h1></span>"
            ],
            "text/plain": [
              "<IPython.core.display.HTML object>"
            ]
          },
          "metadata": {
            "tags": []
          }
        },
        {
          "output_type": "display_data",
          "data": {
            "text/html": [
              "<span style=\"color:#4527A0\"><h1 style=\"font-size:18px\">Trial summary</h1></span>"
            ],
            "text/plain": [
              "<IPython.core.display.HTML object>"
            ]
          },
          "metadata": {
            "tags": []
          }
        },
        {
          "output_type": "display_data",
          "data": {
            "text/html": [
              "<span style=\"color:cyan\"> |-Trial ID: 42fb3044c648ede09a72173076f9258d</span>"
            ],
            "text/plain": [
              "<IPython.core.display.HTML object>"
            ]
          },
          "metadata": {
            "tags": []
          }
        },
        {
          "output_type": "display_data",
          "data": {
            "text/html": [
              "<span style=\"color:cyan\"> |-Score: 0.8490833044052124</span>"
            ],
            "text/plain": [
              "<IPython.core.display.HTML object>"
            ]
          },
          "metadata": {
            "tags": []
          }
        },
        {
          "output_type": "display_data",
          "data": {
            "text/html": [
              "<span style=\"color:cyan\"> |-Best step: 0</span>"
            ],
            "text/plain": [
              "<IPython.core.display.HTML object>"
            ]
          },
          "metadata": {
            "tags": []
          }
        },
        {
          "output_type": "display_data",
          "data": {
            "text/html": [
              "<span style=\"color:#7E57C2\"><h2 style=\"font-size:16px\">Hyperparameters:</h2></span>"
            ],
            "text/plain": [
              "<IPython.core.display.HTML object>"
            ]
          },
          "metadata": {
            "tags": []
          }
        },
        {
          "output_type": "display_data",
          "data": {
            "text/html": [
              "<span style=\"color:cyan\"> |-activation: elu</span>"
            ],
            "text/plain": [
              "<IPython.core.display.HTML object>"
            ]
          },
          "metadata": {
            "tags": []
          }
        },
        {
          "output_type": "display_data",
          "data": {
            "text/html": [
              "<span style=\"color:blue\"> |-optimizer: SGD</span>"
            ],
            "text/plain": [
              "<IPython.core.display.HTML object>"
            ]
          },
          "metadata": {
            "tags": []
          }
        },
        {
          "output_type": "display_data",
          "data": {
            "text/html": [
              "<span style=\"color:cyan\"> |-units_hidden: 576</span>"
            ],
            "text/plain": [
              "<IPython.core.display.HTML object>"
            ]
          },
          "metadata": {
            "tags": []
          }
        },
        {
          "output_type": "display_data",
          "data": {
            "text/html": [
              "<span style=\"color:blue\"> |-units_input: 960</span>"
            ],
            "text/plain": [
              "<IPython.core.display.HTML object>"
            ]
          },
          "metadata": {
            "tags": []
          }
        },
        {
          "output_type": "stream",
          "text": [
            "Epoch 1/20\n",
            "188/188 [==============================] - 1s 5ms/step - loss: 2.2666 - accuracy: 0.2850 - val_loss: 2.2148 - val_accuracy: 0.4296\n",
            "Epoch 2/20\n",
            "188/188 [==============================] - 1s 4ms/step - loss: 2.1723 - accuracy: 0.4620 - val_loss: 2.1273 - val_accuracy: 0.4988\n",
            "Epoch 3/20\n",
            "188/188 [==============================] - 1s 4ms/step - loss: 2.0766 - accuracy: 0.5651 - val_loss: 2.0197 - val_accuracy: 0.5679\n",
            "Epoch 4/20\n",
            "188/188 [==============================] - 1s 4ms/step - loss: 1.9613 - accuracy: 0.5856 - val_loss: 1.8938 - val_accuracy: 0.5748\n",
            "Epoch 5/20\n",
            "188/188 [==============================] - 1s 4ms/step - loss: 1.8289 - accuracy: 0.6117 - val_loss: 1.7556 - val_accuracy: 0.6478\n",
            "Epoch 6/20\n",
            "188/188 [==============================] - 1s 4ms/step - loss: 1.6904 - accuracy: 0.6236 - val_loss: 1.6188 - val_accuracy: 0.6461\n",
            "Epoch 7/20\n",
            "188/188 [==============================] - 1s 4ms/step - loss: 1.5609 - accuracy: 0.6314 - val_loss: 1.4955 - val_accuracy: 0.6600\n",
            "Epoch 8/20\n",
            "188/188 [==============================] - 1s 4ms/step - loss: 1.4481 - accuracy: 0.6439 - val_loss: 1.3910 - val_accuracy: 0.6730\n",
            "Epoch 9/20\n",
            "188/188 [==============================] - 1s 4ms/step - loss: 1.3532 - accuracy: 0.6551 - val_loss: 1.3045 - val_accuracy: 0.6741\n",
            "Epoch 10/20\n",
            "188/188 [==============================] - 1s 4ms/step - loss: 1.2744 - accuracy: 0.6640 - val_loss: 1.2326 - val_accuracy: 0.6898\n",
            "Epoch 11/20\n",
            "188/188 [==============================] - 1s 4ms/step - loss: 1.2085 - accuracy: 0.6756 - val_loss: 1.1718 - val_accuracy: 0.6708\n",
            "Epoch 12/20\n",
            "188/188 [==============================] - 1s 4ms/step - loss: 1.1528 - accuracy: 0.6805 - val_loss: 1.1195 - val_accuracy: 0.6934\n",
            "Epoch 13/20\n",
            "188/188 [==============================] - 1s 4ms/step - loss: 1.1052 - accuracy: 0.6880 - val_loss: 1.0744 - val_accuracy: 0.6902\n",
            "Epoch 14/20\n",
            "188/188 [==============================] - 1s 4ms/step - loss: 1.0637 - accuracy: 0.6929 - val_loss: 1.0363 - val_accuracy: 0.7025\n",
            "Epoch 15/20\n",
            "188/188 [==============================] - 1s 4ms/step - loss: 1.0272 - accuracy: 0.6984 - val_loss: 1.0009 - val_accuracy: 0.7094\n",
            "Epoch 16/20\n",
            "188/188 [==============================] - 1s 4ms/step - loss: 0.9949 - accuracy: 0.7033 - val_loss: 0.9703 - val_accuracy: 0.7092\n",
            "Epoch 17/20\n",
            "188/188 [==============================] - 1s 4ms/step - loss: 0.9659 - accuracy: 0.7080 - val_loss: 0.9425 - val_accuracy: 0.7110\n",
            "Epoch 18/20\n",
            "188/188 [==============================] - 1s 4ms/step - loss: 0.9396 - accuracy: 0.7116 - val_loss: 0.9177 - val_accuracy: 0.7189\n",
            "Epoch 19/20\n",
            "188/188 [==============================] - 1s 4ms/step - loss: 0.9155 - accuracy: 0.7146 - val_loss: 0.8948 - val_accuracy: 0.7196\n",
            "Epoch 20/20\n",
            "188/188 [==============================] - 1s 4ms/step - loss: 0.8938 - accuracy: 0.7174 - val_loss: 0.8729 - val_accuracy: 0.7228\n"
          ],
          "name": "stdout"
        },
        {
          "output_type": "display_data",
          "data": {
            "text/html": [
              "<span style=\"color:#4527A0\"><h1 style=\"font-size:18px\">Trial complete</h1></span>"
            ],
            "text/plain": [
              "<IPython.core.display.HTML object>"
            ]
          },
          "metadata": {
            "tags": []
          }
        },
        {
          "output_type": "display_data",
          "data": {
            "text/html": [
              "<span style=\"color:#4527A0\"><h1 style=\"font-size:18px\">Trial summary</h1></span>"
            ],
            "text/plain": [
              "<IPython.core.display.HTML object>"
            ]
          },
          "metadata": {
            "tags": []
          }
        },
        {
          "output_type": "display_data",
          "data": {
            "text/html": [
              "<span style=\"color:cyan\"> |-Trial ID: 61752beaf01f5eb43ca13847318adcf7</span>"
            ],
            "text/plain": [
              "<IPython.core.display.HTML object>"
            ]
          },
          "metadata": {
            "tags": []
          }
        },
        {
          "output_type": "display_data",
          "data": {
            "text/html": [
              "<span style=\"color:cyan\"> |-Score: 0.7228333353996277</span>"
            ],
            "text/plain": [
              "<IPython.core.display.HTML object>"
            ]
          },
          "metadata": {
            "tags": []
          }
        },
        {
          "output_type": "display_data",
          "data": {
            "text/html": [
              "<span style=\"color:cyan\"> |-Best step: 0</span>"
            ],
            "text/plain": [
              "<IPython.core.display.HTML object>"
            ]
          },
          "metadata": {
            "tags": []
          }
        },
        {
          "output_type": "display_data",
          "data": {
            "text/html": [
              "<span style=\"color:#7E57C2\"><h2 style=\"font-size:16px\">Hyperparameters:</h2></span>"
            ],
            "text/plain": [
              "<IPython.core.display.HTML object>"
            ]
          },
          "metadata": {
            "tags": []
          }
        },
        {
          "output_type": "display_data",
          "data": {
            "text/html": [
              "<span style=\"color:cyan\"> |-activation: sigmoid</span>"
            ],
            "text/plain": [
              "<IPython.core.display.HTML object>"
            ]
          },
          "metadata": {
            "tags": []
          }
        },
        {
          "output_type": "display_data",
          "data": {
            "text/html": [
              "<span style=\"color:blue\"> |-optimizer: SGD</span>"
            ],
            "text/plain": [
              "<IPython.core.display.HTML object>"
            ]
          },
          "metadata": {
            "tags": []
          }
        },
        {
          "output_type": "display_data",
          "data": {
            "text/html": [
              "<span style=\"color:cyan\"> |-units_hidden: 256</span>"
            ],
            "text/plain": [
              "<IPython.core.display.HTML object>"
            ]
          },
          "metadata": {
            "tags": []
          }
        },
        {
          "output_type": "display_data",
          "data": {
            "text/html": [
              "<span style=\"color:blue\"> |-units_input: 896</span>"
            ],
            "text/plain": [
              "<IPython.core.display.HTML object>"
            ]
          },
          "metadata": {
            "tags": []
          }
        },
        {
          "output_type": "stream",
          "text": [
            "Epoch 1/20\n",
            "188/188 [==============================] - 1s 5ms/step - loss: 1.0852 - accuracy: 0.6672 - val_loss: 0.7625 - val_accuracy: 0.7468\n",
            "Epoch 2/20\n",
            "188/188 [==============================] - 1s 4ms/step - loss: 0.7002 - accuracy: 0.7715 - val_loss: 0.6396 - val_accuracy: 0.7878\n",
            "Epoch 3/20\n",
            "188/188 [==============================] - 1s 4ms/step - loss: 0.6139 - accuracy: 0.7979 - val_loss: 0.5851 - val_accuracy: 0.8053\n",
            "Epoch 4/20\n",
            "188/188 [==============================] - 1s 4ms/step - loss: 0.5672 - accuracy: 0.8129 - val_loss: 0.5507 - val_accuracy: 0.8139\n",
            "Epoch 5/20\n",
            "188/188 [==============================] - 1s 4ms/step - loss: 0.5378 - accuracy: 0.8202 - val_loss: 0.5270 - val_accuracy: 0.8213\n",
            "Epoch 6/20\n",
            "188/188 [==============================] - 1s 4ms/step - loss: 0.5171 - accuracy: 0.8244 - val_loss: 0.5249 - val_accuracy: 0.8140\n",
            "Epoch 7/20\n",
            "188/188 [==============================] - 1s 4ms/step - loss: 0.5013 - accuracy: 0.8290 - val_loss: 0.5010 - val_accuracy: 0.8235\n",
            "Epoch 8/20\n",
            "188/188 [==============================] - 1s 4ms/step - loss: 0.4889 - accuracy: 0.8326 - val_loss: 0.4900 - val_accuracy: 0.8300\n",
            "Epoch 9/20\n",
            "188/188 [==============================] - 1s 4ms/step - loss: 0.4791 - accuracy: 0.8352 - val_loss: 0.4821 - val_accuracy: 0.8313\n",
            "Epoch 10/20\n",
            "188/188 [==============================] - 1s 4ms/step - loss: 0.4709 - accuracy: 0.8380 - val_loss: 0.4770 - val_accuracy: 0.8344\n",
            "Epoch 11/20\n",
            "188/188 [==============================] - 1s 4ms/step - loss: 0.4635 - accuracy: 0.8405 - val_loss: 0.4675 - val_accuracy: 0.8374\n",
            "Epoch 12/20\n",
            "188/188 [==============================] - 1s 4ms/step - loss: 0.4572 - accuracy: 0.8427 - val_loss: 0.4618 - val_accuracy: 0.8367\n",
            "Epoch 13/20\n",
            "188/188 [==============================] - 1s 4ms/step - loss: 0.4515 - accuracy: 0.8449 - val_loss: 0.4602 - val_accuracy: 0.8360\n",
            "Epoch 14/20\n",
            "188/188 [==============================] - 1s 4ms/step - loss: 0.4467 - accuracy: 0.8457 - val_loss: 0.4529 - val_accuracy: 0.8420\n",
            "Epoch 15/20\n",
            "188/188 [==============================] - 1s 4ms/step - loss: 0.4417 - accuracy: 0.8473 - val_loss: 0.4546 - val_accuracy: 0.8403\n",
            "Epoch 16/20\n",
            "188/188 [==============================] - 1s 4ms/step - loss: 0.4377 - accuracy: 0.8486 - val_loss: 0.4465 - val_accuracy: 0.8419\n",
            "Epoch 17/20\n",
            "188/188 [==============================] - 1s 4ms/step - loss: 0.4344 - accuracy: 0.8496 - val_loss: 0.4452 - val_accuracy: 0.8428\n",
            "Epoch 18/20\n",
            "188/188 [==============================] - 1s 4ms/step - loss: 0.4314 - accuracy: 0.8500 - val_loss: 0.4406 - val_accuracy: 0.8458\n",
            "Epoch 19/20\n",
            "188/188 [==============================] - 1s 4ms/step - loss: 0.4276 - accuracy: 0.8518 - val_loss: 0.4444 - val_accuracy: 0.8438\n",
            "Epoch 20/20\n",
            "188/188 [==============================] - 1s 4ms/step - loss: 0.4248 - accuracy: 0.8523 - val_loss: 0.4384 - val_accuracy: 0.8451\n"
          ],
          "name": "stdout"
        },
        {
          "output_type": "display_data",
          "data": {
            "text/html": [
              "<span style=\"color:#4527A0\"><h1 style=\"font-size:18px\">Trial complete</h1></span>"
            ],
            "text/plain": [
              "<IPython.core.display.HTML object>"
            ]
          },
          "metadata": {
            "tags": []
          }
        },
        {
          "output_type": "display_data",
          "data": {
            "text/html": [
              "<span style=\"color:#4527A0\"><h1 style=\"font-size:18px\">Trial summary</h1></span>"
            ],
            "text/plain": [
              "<IPython.core.display.HTML object>"
            ]
          },
          "metadata": {
            "tags": []
          }
        },
        {
          "output_type": "display_data",
          "data": {
            "text/html": [
              "<span style=\"color:cyan\"> |-Trial ID: f663fa8120fe17c861e7b1e9ccc4f9f8</span>"
            ],
            "text/plain": [
              "<IPython.core.display.HTML object>"
            ]
          },
          "metadata": {
            "tags": []
          }
        },
        {
          "output_type": "display_data",
          "data": {
            "text/html": [
              "<span style=\"color:cyan\"> |-Score: 0.8458333611488342</span>"
            ],
            "text/plain": [
              "<IPython.core.display.HTML object>"
            ]
          },
          "metadata": {
            "tags": []
          }
        },
        {
          "output_type": "display_data",
          "data": {
            "text/html": [
              "<span style=\"color:cyan\"> |-Best step: 0</span>"
            ],
            "text/plain": [
              "<IPython.core.display.HTML object>"
            ]
          },
          "metadata": {
            "tags": []
          }
        },
        {
          "output_type": "display_data",
          "data": {
            "text/html": [
              "<span style=\"color:#7E57C2\"><h2 style=\"font-size:16px\">Hyperparameters:</h2></span>"
            ],
            "text/plain": [
              "<IPython.core.display.HTML object>"
            ]
          },
          "metadata": {
            "tags": []
          }
        },
        {
          "output_type": "display_data",
          "data": {
            "text/html": [
              "<span style=\"color:cyan\"> |-activation: elu</span>"
            ],
            "text/plain": [
              "<IPython.core.display.HTML object>"
            ]
          },
          "metadata": {
            "tags": []
          }
        },
        {
          "output_type": "display_data",
          "data": {
            "text/html": [
              "<span style=\"color:blue\"> |-optimizer: SGD</span>"
            ],
            "text/plain": [
              "<IPython.core.display.HTML object>"
            ]
          },
          "metadata": {
            "tags": []
          }
        },
        {
          "output_type": "display_data",
          "data": {
            "text/html": [
              "<span style=\"color:cyan\"> |-units_hidden: 512</span>"
            ],
            "text/plain": [
              "<IPython.core.display.HTML object>"
            ]
          },
          "metadata": {
            "tags": []
          }
        },
        {
          "output_type": "display_data",
          "data": {
            "text/html": [
              "<span style=\"color:blue\"> |-units_input: 576</span>"
            ],
            "text/plain": [
              "<IPython.core.display.HTML object>"
            ]
          },
          "metadata": {
            "tags": []
          }
        },
        {
          "output_type": "stream",
          "text": [
            "Epoch 1/20\n",
            "188/188 [==============================] - 1s 5ms/step - loss: 0.7718 - accuracy: 0.7404 - val_loss: 0.5320 - val_accuracy: 0.8060\n",
            "Epoch 2/20\n",
            "188/188 [==============================] - 1s 4ms/step - loss: 0.4860 - accuracy: 0.8173 - val_loss: 0.5936 - val_accuracy: 0.7811\n",
            "Epoch 3/20\n",
            "188/188 [==============================] - 1s 4ms/step - loss: 0.4145 - accuracy: 0.8457 - val_loss: 0.4393 - val_accuracy: 0.8428\n",
            "Epoch 4/20\n",
            "188/188 [==============================] - 1s 4ms/step - loss: 0.3722 - accuracy: 0.8599 - val_loss: 0.4112 - val_accuracy: 0.8485\n",
            "Epoch 5/20\n",
            "188/188 [==============================] - 1s 4ms/step - loss: 0.3431 - accuracy: 0.8711 - val_loss: 0.3704 - val_accuracy: 0.8662\n",
            "Epoch 6/20\n",
            "188/188 [==============================] - 1s 4ms/step - loss: 0.3204 - accuracy: 0.8788 - val_loss: 0.4322 - val_accuracy: 0.8593\n",
            "Epoch 7/20\n",
            "188/188 [==============================] - 1s 4ms/step - loss: 0.3034 - accuracy: 0.8842 - val_loss: 0.4085 - val_accuracy: 0.8592\n",
            "Epoch 8/20\n",
            "188/188 [==============================] - 1s 5ms/step - loss: 0.2854 - accuracy: 0.8913 - val_loss: 0.3466 - val_accuracy: 0.8773\n",
            "Epoch 9/20\n",
            "188/188 [==============================] - 1s 4ms/step - loss: 0.2750 - accuracy: 0.8946 - val_loss: 0.3621 - val_accuracy: 0.8627\n",
            "Epoch 10/20\n",
            "188/188 [==============================] - 1s 5ms/step - loss: 0.2607 - accuracy: 0.9020 - val_loss: 0.3309 - val_accuracy: 0.8861\n",
            "Epoch 11/20\n",
            "188/188 [==============================] - 1s 4ms/step - loss: 0.2511 - accuracy: 0.9050 - val_loss: 0.3878 - val_accuracy: 0.8595\n",
            "Epoch 12/20\n",
            "188/188 [==============================] - 1s 4ms/step - loss: 0.2399 - accuracy: 0.9078 - val_loss: 0.3475 - val_accuracy: 0.8801\n",
            "Epoch 13/20\n",
            "188/188 [==============================] - 1s 4ms/step - loss: 0.2323 - accuracy: 0.9116 - val_loss: 0.3832 - val_accuracy: 0.8669\n",
            "Epoch 14/20\n",
            "188/188 [==============================] - 1s 4ms/step - loss: 0.2216 - accuracy: 0.9149 - val_loss: 0.3610 - val_accuracy: 0.8778\n",
            "Epoch 15/20\n",
            "188/188 [==============================] - 1s 4ms/step - loss: 0.2145 - accuracy: 0.9174 - val_loss: 0.3651 - val_accuracy: 0.8748\n",
            "Epoch 16/20\n",
            "188/188 [==============================] - 1s 4ms/step - loss: 0.2049 - accuracy: 0.9202 - val_loss: 0.4053 - val_accuracy: 0.8712\n",
            "Epoch 17/20\n",
            "188/188 [==============================] - 1s 4ms/step - loss: 0.1992 - accuracy: 0.9242 - val_loss: 0.3660 - val_accuracy: 0.8842\n",
            "Epoch 18/20\n",
            "188/188 [==============================] - 1s 4ms/step - loss: 0.1930 - accuracy: 0.9256 - val_loss: 0.3517 - val_accuracy: 0.8873\n",
            "Epoch 19/20\n",
            "188/188 [==============================] - 1s 4ms/step - loss: 0.1843 - accuracy: 0.9298 - val_loss: 0.3695 - val_accuracy: 0.8837\n",
            "Epoch 20/20\n",
            "188/188 [==============================] - 1s 4ms/step - loss: 0.1798 - accuracy: 0.9306 - val_loss: 0.3847 - val_accuracy: 0.8747\n"
          ],
          "name": "stdout"
        },
        {
          "output_type": "display_data",
          "data": {
            "text/html": [
              "<span style=\"color:#4527A0\"><h1 style=\"font-size:18px\">Trial complete</h1></span>"
            ],
            "text/plain": [
              "<IPython.core.display.HTML object>"
            ]
          },
          "metadata": {
            "tags": []
          }
        },
        {
          "output_type": "display_data",
          "data": {
            "text/html": [
              "<span style=\"color:#4527A0\"><h1 style=\"font-size:18px\">Trial summary</h1></span>"
            ],
            "text/plain": [
              "<IPython.core.display.HTML object>"
            ]
          },
          "metadata": {
            "tags": []
          }
        },
        {
          "output_type": "display_data",
          "data": {
            "text/html": [
              "<span style=\"color:cyan\"> |-Trial ID: 7d01ad78ed9e46e1a88b006cd1cf40e4</span>"
            ],
            "text/plain": [
              "<IPython.core.display.HTML object>"
            ]
          },
          "metadata": {
            "tags": []
          }
        },
        {
          "output_type": "display_data",
          "data": {
            "text/html": [
              "<span style=\"color:cyan\"> |-Score: 0.887333333492279</span>"
            ],
            "text/plain": [
              "<IPython.core.display.HTML object>"
            ]
          },
          "metadata": {
            "tags": []
          }
        },
        {
          "output_type": "display_data",
          "data": {
            "text/html": [
              "<span style=\"color:cyan\"> |-Best step: 0</span>"
            ],
            "text/plain": [
              "<IPython.core.display.HTML object>"
            ]
          },
          "metadata": {
            "tags": []
          }
        },
        {
          "output_type": "display_data",
          "data": {
            "text/html": [
              "<span style=\"color:#7E57C2\"><h2 style=\"font-size:16px\">Hyperparameters:</h2></span>"
            ],
            "text/plain": [
              "<IPython.core.display.HTML object>"
            ]
          },
          "metadata": {
            "tags": []
          }
        },
        {
          "output_type": "display_data",
          "data": {
            "text/html": [
              "<span style=\"color:cyan\"> |-activation: elu</span>"
            ],
            "text/plain": [
              "<IPython.core.display.HTML object>"
            ]
          },
          "metadata": {
            "tags": []
          }
        },
        {
          "output_type": "display_data",
          "data": {
            "text/html": [
              "<span style=\"color:blue\"> |-optimizer: rmsprop</span>"
            ],
            "text/plain": [
              "<IPython.core.display.HTML object>"
            ]
          },
          "metadata": {
            "tags": []
          }
        },
        {
          "output_type": "display_data",
          "data": {
            "text/html": [
              "<span style=\"color:cyan\"> |-units_hidden: 288</span>"
            ],
            "text/plain": [
              "<IPython.core.display.HTML object>"
            ]
          },
          "metadata": {
            "tags": []
          }
        },
        {
          "output_type": "display_data",
          "data": {
            "text/html": [
              "<span style=\"color:blue\"> |-units_input: 576</span>"
            ],
            "text/plain": [
              "<IPython.core.display.HTML object>"
            ]
          },
          "metadata": {
            "tags": []
          }
        },
        {
          "output_type": "stream",
          "text": [
            "Epoch 1/20\n",
            "188/188 [==============================] - 1s 5ms/step - loss: 0.5686 - accuracy: 0.7976 - val_loss: 0.4618 - val_accuracy: 0.8307\n",
            "Epoch 2/20\n",
            "188/188 [==============================] - 1s 4ms/step - loss: 0.4054 - accuracy: 0.8546 - val_loss: 0.3982 - val_accuracy: 0.8497\n",
            "Epoch 3/20\n",
            "188/188 [==============================] - 1s 4ms/step - loss: 0.3673 - accuracy: 0.8649 - val_loss: 0.3874 - val_accuracy: 0.8571\n",
            "Epoch 4/20\n",
            "188/188 [==============================] - 1s 4ms/step - loss: 0.3400 - accuracy: 0.8744 - val_loss: 0.3617 - val_accuracy: 0.8682\n",
            "Epoch 5/20\n",
            "188/188 [==============================] - 1s 4ms/step - loss: 0.3202 - accuracy: 0.8809 - val_loss: 0.3340 - val_accuracy: 0.8773\n",
            "Epoch 6/20\n",
            "188/188 [==============================] - 1s 4ms/step - loss: 0.2979 - accuracy: 0.8889 - val_loss: 0.3495 - val_accuracy: 0.8719\n",
            "Epoch 7/20\n",
            "188/188 [==============================] - 1s 4ms/step - loss: 0.2884 - accuracy: 0.8935 - val_loss: 0.3319 - val_accuracy: 0.8786\n",
            "Epoch 8/20\n",
            "188/188 [==============================] - 1s 4ms/step - loss: 0.2766 - accuracy: 0.8963 - val_loss: 0.3456 - val_accuracy: 0.8766\n",
            "Epoch 9/20\n",
            "188/188 [==============================] - 1s 4ms/step - loss: 0.2630 - accuracy: 0.9019 - val_loss: 0.3318 - val_accuracy: 0.8822\n",
            "Epoch 10/20\n",
            "188/188 [==============================] - 1s 4ms/step - loss: 0.2461 - accuracy: 0.9080 - val_loss: 0.3045 - val_accuracy: 0.8905\n",
            "Epoch 11/20\n",
            "188/188 [==============================] - 1s 4ms/step - loss: 0.2404 - accuracy: 0.9091 - val_loss: 0.3171 - val_accuracy: 0.8857\n",
            "Epoch 12/20\n",
            "188/188 [==============================] - 1s 4ms/step - loss: 0.2347 - accuracy: 0.9107 - val_loss: 0.3428 - val_accuracy: 0.8835\n",
            "Epoch 13/20\n",
            "188/188 [==============================] - 1s 4ms/step - loss: 0.2251 - accuracy: 0.9153 - val_loss: 0.3281 - val_accuracy: 0.8882\n",
            "Epoch 14/20\n",
            "188/188 [==============================] - 1s 4ms/step - loss: 0.2135 - accuracy: 0.9185 - val_loss: 0.3147 - val_accuracy: 0.8923\n",
            "Epoch 15/20\n",
            "188/188 [==============================] - 1s 4ms/step - loss: 0.2122 - accuracy: 0.9198 - val_loss: 0.3123 - val_accuracy: 0.8938\n",
            "Epoch 16/20\n",
            "188/188 [==============================] - 1s 4ms/step - loss: 0.2009 - accuracy: 0.9234 - val_loss: 0.3138 - val_accuracy: 0.8917\n",
            "Epoch 17/20\n",
            "188/188 [==============================] - 1s 4ms/step - loss: 0.1901 - accuracy: 0.9280 - val_loss: 0.3472 - val_accuracy: 0.8808\n",
            "Epoch 18/20\n",
            "188/188 [==============================] - 1s 4ms/step - loss: 0.1866 - accuracy: 0.9284 - val_loss: 0.3158 - val_accuracy: 0.8954\n",
            "Epoch 19/20\n",
            "188/188 [==============================] - 1s 4ms/step - loss: 0.1771 - accuracy: 0.9334 - val_loss: 0.3381 - val_accuracy: 0.8834\n",
            "Epoch 20/20\n",
            "188/188 [==============================] - 1s 4ms/step - loss: 0.1722 - accuracy: 0.9346 - val_loss: 0.3320 - val_accuracy: 0.8941\n"
          ],
          "name": "stdout"
        },
        {
          "output_type": "display_data",
          "data": {
            "text/html": [
              "<span style=\"color:#4527A0\"><h1 style=\"font-size:18px\">Trial complete</h1></span>"
            ],
            "text/plain": [
              "<IPython.core.display.HTML object>"
            ]
          },
          "metadata": {
            "tags": []
          }
        },
        {
          "output_type": "display_data",
          "data": {
            "text/html": [
              "<span style=\"color:#4527A0\"><h1 style=\"font-size:18px\">Trial summary</h1></span>"
            ],
            "text/plain": [
              "<IPython.core.display.HTML object>"
            ]
          },
          "metadata": {
            "tags": []
          }
        },
        {
          "output_type": "display_data",
          "data": {
            "text/html": [
              "<span style=\"color:cyan\"> |-Trial ID: c408a1b4cd608e4a61d8b703ad62e66c</span>"
            ],
            "text/plain": [
              "<IPython.core.display.HTML object>"
            ]
          },
          "metadata": {
            "tags": []
          }
        },
        {
          "output_type": "display_data",
          "data": {
            "text/html": [
              "<span style=\"color:cyan\"> |-Score: 0.8954166769981384</span>"
            ],
            "text/plain": [
              "<IPython.core.display.HTML object>"
            ]
          },
          "metadata": {
            "tags": []
          }
        },
        {
          "output_type": "display_data",
          "data": {
            "text/html": [
              "<span style=\"color:cyan\"> |-Best step: 0</span>"
            ],
            "text/plain": [
              "<IPython.core.display.HTML object>"
            ]
          },
          "metadata": {
            "tags": []
          }
        },
        {
          "output_type": "display_data",
          "data": {
            "text/html": [
              "<span style=\"color:#7E57C2\"><h2 style=\"font-size:16px\">Hyperparameters:</h2></span>"
            ],
            "text/plain": [
              "<IPython.core.display.HTML object>"
            ]
          },
          "metadata": {
            "tags": []
          }
        },
        {
          "output_type": "display_data",
          "data": {
            "text/html": [
              "<span style=\"color:cyan\"> |-activation: elu</span>"
            ],
            "text/plain": [
              "<IPython.core.display.HTML object>"
            ]
          },
          "metadata": {
            "tags": []
          }
        },
        {
          "output_type": "display_data",
          "data": {
            "text/html": [
              "<span style=\"color:blue\"> |-optimizer: adam</span>"
            ],
            "text/plain": [
              "<IPython.core.display.HTML object>"
            ]
          },
          "metadata": {
            "tags": []
          }
        },
        {
          "output_type": "display_data",
          "data": {
            "text/html": [
              "<span style=\"color:cyan\"> |-units_hidden: 320</span>"
            ],
            "text/plain": [
              "<IPython.core.display.HTML object>"
            ]
          },
          "metadata": {
            "tags": []
          }
        },
        {
          "output_type": "display_data",
          "data": {
            "text/html": [
              "<span style=\"color:blue\"> |-units_input: 608</span>"
            ],
            "text/plain": [
              "<IPython.core.display.HTML object>"
            ]
          },
          "metadata": {
            "tags": []
          }
        },
        {
          "output_type": "stream",
          "text": [
            "Epoch 1/20\n",
            "188/188 [==============================] - 1s 5ms/step - loss: 0.9720 - accuracy: 0.7119 - val_loss: 0.4752 - val_accuracy: 0.8202\n",
            "Epoch 2/20\n",
            "188/188 [==============================] - 1s 4ms/step - loss: 0.5080 - accuracy: 0.8111 - val_loss: 0.6086 - val_accuracy: 0.7778\n",
            "Epoch 3/20\n",
            "188/188 [==============================] - 1s 4ms/step - loss: 0.4373 - accuracy: 0.8353 - val_loss: 0.4744 - val_accuracy: 0.8194\n",
            "Epoch 4/20\n",
            "188/188 [==============================] - 1s 4ms/step - loss: 0.3989 - accuracy: 0.8504 - val_loss: 0.4545 - val_accuracy: 0.8328\n",
            "Epoch 5/20\n",
            "188/188 [==============================] - 1s 4ms/step - loss: 0.3650 - accuracy: 0.8631 - val_loss: 0.4479 - val_accuracy: 0.8410\n",
            "Epoch 6/20\n",
            "188/188 [==============================] - 1s 4ms/step - loss: 0.3432 - accuracy: 0.8711 - val_loss: 0.3691 - val_accuracy: 0.8658\n",
            "Epoch 7/20\n",
            "188/188 [==============================] - 1s 4ms/step - loss: 0.3235 - accuracy: 0.8771 - val_loss: 0.3821 - val_accuracy: 0.8610\n",
            "Epoch 8/20\n",
            "188/188 [==============================] - 1s 4ms/step - loss: 0.3132 - accuracy: 0.8823 - val_loss: 0.3730 - val_accuracy: 0.8658\n",
            "Epoch 9/20\n",
            "188/188 [==============================] - 1s 4ms/step - loss: 0.2992 - accuracy: 0.8866 - val_loss: 0.4384 - val_accuracy: 0.8529\n",
            "Epoch 10/20\n",
            "188/188 [==============================] - 1s 5ms/step - loss: 0.2901 - accuracy: 0.8919 - val_loss: 0.3512 - val_accuracy: 0.8788\n",
            "Epoch 11/20\n",
            "188/188 [==============================] - 1s 4ms/step - loss: 0.2810 - accuracy: 0.8942 - val_loss: 0.4231 - val_accuracy: 0.8474\n",
            "Epoch 12/20\n",
            "188/188 [==============================] - 1s 4ms/step - loss: 0.2675 - accuracy: 0.8985 - val_loss: 0.3881 - val_accuracy: 0.8730\n",
            "Epoch 13/20\n",
            "188/188 [==============================] - 1s 4ms/step - loss: 0.2619 - accuracy: 0.9006 - val_loss: 0.3460 - val_accuracy: 0.8754\n",
            "Epoch 14/20\n",
            "188/188 [==============================] - 1s 5ms/step - loss: 0.2535 - accuracy: 0.9031 - val_loss: 0.3325 - val_accuracy: 0.8869\n",
            "Epoch 15/20\n",
            "188/188 [==============================] - 1s 4ms/step - loss: 0.2486 - accuracy: 0.9062 - val_loss: 0.4509 - val_accuracy: 0.8469\n",
            "Epoch 16/20\n",
            "188/188 [==============================] - 1s 4ms/step - loss: 0.2408 - accuracy: 0.9094 - val_loss: 0.4150 - val_accuracy: 0.8658\n",
            "Epoch 17/20\n",
            "188/188 [==============================] - 1s 5ms/step - loss: 0.2303 - accuracy: 0.9131 - val_loss: 0.5200 - val_accuracy: 0.8298\n",
            "Epoch 18/20\n",
            "188/188 [==============================] - 1s 4ms/step - loss: 0.2273 - accuracy: 0.9137 - val_loss: 0.4423 - val_accuracy: 0.8583\n",
            "Epoch 19/20\n",
            "188/188 [==============================] - 1s 4ms/step - loss: 0.2229 - accuracy: 0.9136 - val_loss: 0.3792 - val_accuracy: 0.8812\n",
            "Epoch 20/20\n",
            "188/188 [==============================] - 1s 4ms/step - loss: 0.2145 - accuracy: 0.9194 - val_loss: 0.3892 - val_accuracy: 0.8719\n"
          ],
          "name": "stdout"
        },
        {
          "output_type": "display_data",
          "data": {
            "text/html": [
              "<span style=\"color:#4527A0\"><h1 style=\"font-size:18px\">Trial complete</h1></span>"
            ],
            "text/plain": [
              "<IPython.core.display.HTML object>"
            ]
          },
          "metadata": {
            "tags": []
          }
        },
        {
          "output_type": "display_data",
          "data": {
            "text/html": [
              "<span style=\"color:#4527A0\"><h1 style=\"font-size:18px\">Trial summary</h1></span>"
            ],
            "text/plain": [
              "<IPython.core.display.HTML object>"
            ]
          },
          "metadata": {
            "tags": []
          }
        },
        {
          "output_type": "display_data",
          "data": {
            "text/html": [
              "<span style=\"color:cyan\"> |-Trial ID: 079c332b6e83d5228902eb7d70c91ad5</span>"
            ],
            "text/plain": [
              "<IPython.core.display.HTML object>"
            ]
          },
          "metadata": {
            "tags": []
          }
        },
        {
          "output_type": "display_data",
          "data": {
            "text/html": [
              "<span style=\"color:cyan\"> |-Score: 0.8869166374206543</span>"
            ],
            "text/plain": [
              "<IPython.core.display.HTML object>"
            ]
          },
          "metadata": {
            "tags": []
          }
        },
        {
          "output_type": "display_data",
          "data": {
            "text/html": [
              "<span style=\"color:cyan\"> |-Best step: 0</span>"
            ],
            "text/plain": [
              "<IPython.core.display.HTML object>"
            ]
          },
          "metadata": {
            "tags": []
          }
        },
        {
          "output_type": "display_data",
          "data": {
            "text/html": [
              "<span style=\"color:#7E57C2\"><h2 style=\"font-size:16px\">Hyperparameters:</h2></span>"
            ],
            "text/plain": [
              "<IPython.core.display.HTML object>"
            ]
          },
          "metadata": {
            "tags": []
          }
        },
        {
          "output_type": "display_data",
          "data": {
            "text/html": [
              "<span style=\"color:cyan\"> |-activation: selu</span>"
            ],
            "text/plain": [
              "<IPython.core.display.HTML object>"
            ]
          },
          "metadata": {
            "tags": []
          }
        },
        {
          "output_type": "display_data",
          "data": {
            "text/html": [
              "<span style=\"color:blue\"> |-optimizer: rmsprop</span>"
            ],
            "text/plain": [
              "<IPython.core.display.HTML object>"
            ]
          },
          "metadata": {
            "tags": []
          }
        },
        {
          "output_type": "display_data",
          "data": {
            "text/html": [
              "<span style=\"color:cyan\"> |-units_hidden: 128</span>"
            ],
            "text/plain": [
              "<IPython.core.display.HTML object>"
            ]
          },
          "metadata": {
            "tags": []
          }
        },
        {
          "output_type": "display_data",
          "data": {
            "text/html": [
              "<span style=\"color:blue\"> |-units_input: 1024</span>"
            ],
            "text/plain": [
              "<IPython.core.display.HTML object>"
            ]
          },
          "metadata": {
            "tags": []
          }
        },
        {
          "output_type": "stream",
          "text": [
            "Epoch 1/20\n",
            "188/188 [==============================] - 1s 4ms/step - loss: 0.8366 - accuracy: 0.7261 - val_loss: 0.6189 - val_accuracy: 0.7956\n",
            "Epoch 2/20\n",
            "188/188 [==============================] - 1s 4ms/step - loss: 0.5754 - accuracy: 0.8057 - val_loss: 0.5617 - val_accuracy: 0.8015\n",
            "Epoch 3/20\n",
            "188/188 [==============================] - 1s 4ms/step - loss: 0.5202 - accuracy: 0.8224 - val_loss: 0.5151 - val_accuracy: 0.8213\n",
            "Epoch 4/20\n",
            "188/188 [==============================] - 1s 4ms/step - loss: 0.4921 - accuracy: 0.8304 - val_loss: 0.4908 - val_accuracy: 0.8291\n",
            "Epoch 5/20\n",
            "188/188 [==============================] - 1s 4ms/step - loss: 0.4720 - accuracy: 0.8361 - val_loss: 0.4743 - val_accuracy: 0.8347\n",
            "Epoch 6/20\n",
            "188/188 [==============================] - 1s 4ms/step - loss: 0.4592 - accuracy: 0.8405 - val_loss: 0.4674 - val_accuracy: 0.8321\n",
            "Epoch 7/20\n",
            "188/188 [==============================] - 1s 4ms/step - loss: 0.4469 - accuracy: 0.8441 - val_loss: 0.4717 - val_accuracy: 0.8315\n",
            "Epoch 8/20\n",
            "188/188 [==============================] - 1s 4ms/step - loss: 0.4383 - accuracy: 0.8471 - val_loss: 0.4524 - val_accuracy: 0.8388\n",
            "Epoch 9/20\n",
            "188/188 [==============================] - 1s 4ms/step - loss: 0.4310 - accuracy: 0.8501 - val_loss: 0.4341 - val_accuracy: 0.8474\n",
            "Epoch 10/20\n",
            "188/188 [==============================] - 1s 4ms/step - loss: 0.4241 - accuracy: 0.8518 - val_loss: 0.4307 - val_accuracy: 0.8479\n",
            "Epoch 11/20\n",
            "188/188 [==============================] - 1s 4ms/step - loss: 0.4197 - accuracy: 0.8538 - val_loss: 0.4310 - val_accuracy: 0.8493\n",
            "Epoch 12/20\n",
            "188/188 [==============================] - 1s 4ms/step - loss: 0.4140 - accuracy: 0.8544 - val_loss: 0.4482 - val_accuracy: 0.8378\n",
            "Epoch 13/20\n",
            "188/188 [==============================] - 1s 4ms/step - loss: 0.4094 - accuracy: 0.8573 - val_loss: 0.4368 - val_accuracy: 0.8448\n",
            "Epoch 14/20\n",
            "188/188 [==============================] - 1s 4ms/step - loss: 0.4048 - accuracy: 0.8584 - val_loss: 0.4159 - val_accuracy: 0.8528\n",
            "Epoch 15/20\n",
            "188/188 [==============================] - 1s 4ms/step - loss: 0.4022 - accuracy: 0.8584 - val_loss: 0.4210 - val_accuracy: 0.8483\n",
            "Epoch 16/20\n",
            "188/188 [==============================] - 1s 4ms/step - loss: 0.3979 - accuracy: 0.8596 - val_loss: 0.4225 - val_accuracy: 0.8501\n",
            "Epoch 17/20\n",
            "188/188 [==============================] - 1s 4ms/step - loss: 0.3940 - accuracy: 0.8624 - val_loss: 0.4339 - val_accuracy: 0.8454\n",
            "Epoch 18/20\n",
            "188/188 [==============================] - 1s 4ms/step - loss: 0.3914 - accuracy: 0.8615 - val_loss: 0.4119 - val_accuracy: 0.8529\n",
            "Epoch 19/20\n",
            "188/188 [==============================] - 1s 4ms/step - loss: 0.3887 - accuracy: 0.8643 - val_loss: 0.4092 - val_accuracy: 0.8563\n",
            "Epoch 20/20\n",
            "188/188 [==============================] - 1s 4ms/step - loss: 0.3854 - accuracy: 0.8643 - val_loss: 0.4057 - val_accuracy: 0.8562\n"
          ],
          "name": "stdout"
        },
        {
          "output_type": "display_data",
          "data": {
            "text/html": [
              "<span style=\"color:#4527A0\"><h1 style=\"font-size:18px\">Trial complete</h1></span>"
            ],
            "text/plain": [
              "<IPython.core.display.HTML object>"
            ]
          },
          "metadata": {
            "tags": []
          }
        },
        {
          "output_type": "display_data",
          "data": {
            "text/html": [
              "<span style=\"color:#4527A0\"><h1 style=\"font-size:18px\">Trial summary</h1></span>"
            ],
            "text/plain": [
              "<IPython.core.display.HTML object>"
            ]
          },
          "metadata": {
            "tags": []
          }
        },
        {
          "output_type": "display_data",
          "data": {
            "text/html": [
              "<span style=\"color:cyan\"> |-Trial ID: 52f0d5242bc316de9f98bc882b6d56ab</span>"
            ],
            "text/plain": [
              "<IPython.core.display.HTML object>"
            ]
          },
          "metadata": {
            "tags": []
          }
        },
        {
          "output_type": "display_data",
          "data": {
            "text/html": [
              "<span style=\"color:cyan\"> |-Score: 0.856333315372467</span>"
            ],
            "text/plain": [
              "<IPython.core.display.HTML object>"
            ]
          },
          "metadata": {
            "tags": []
          }
        },
        {
          "output_type": "display_data",
          "data": {
            "text/html": [
              "<span style=\"color:cyan\"> |-Best step: 0</span>"
            ],
            "text/plain": [
              "<IPython.core.display.HTML object>"
            ]
          },
          "metadata": {
            "tags": []
          }
        },
        {
          "output_type": "display_data",
          "data": {
            "text/html": [
              "<span style=\"color:#7E57C2\"><h2 style=\"font-size:16px\">Hyperparameters:</h2></span>"
            ],
            "text/plain": [
              "<IPython.core.display.HTML object>"
            ]
          },
          "metadata": {
            "tags": []
          }
        },
        {
          "output_type": "display_data",
          "data": {
            "text/html": [
              "<span style=\"color:cyan\"> |-activation: selu</span>"
            ],
            "text/plain": [
              "<IPython.core.display.HTML object>"
            ]
          },
          "metadata": {
            "tags": []
          }
        },
        {
          "output_type": "display_data",
          "data": {
            "text/html": [
              "<span style=\"color:blue\"> |-optimizer: SGD</span>"
            ],
            "text/plain": [
              "<IPython.core.display.HTML object>"
            ]
          },
          "metadata": {
            "tags": []
          }
        },
        {
          "output_type": "display_data",
          "data": {
            "text/html": [
              "<span style=\"color:cyan\"> |-units_hidden: 320</span>"
            ],
            "text/plain": [
              "<IPython.core.display.HTML object>"
            ]
          },
          "metadata": {
            "tags": []
          }
        },
        {
          "output_type": "display_data",
          "data": {
            "text/html": [
              "<span style=\"color:blue\"> |-units_input: 576</span>"
            ],
            "text/plain": [
              "<IPython.core.display.HTML object>"
            ]
          },
          "metadata": {
            "tags": []
          }
        },
        {
          "output_type": "stream",
          "text": [
            "Epoch 1/20\n",
            "188/188 [==============================] - 1s 5ms/step - loss: 2.2683 - accuracy: 0.2072 - val_loss: 2.2271 - val_accuracy: 0.2353\n",
            "Epoch 2/20\n",
            "188/188 [==============================] - 1s 4ms/step - loss: 2.1820 - accuracy: 0.3937 - val_loss: 2.1355 - val_accuracy: 0.4851\n",
            "Epoch 3/20\n",
            "188/188 [==============================] - 1s 4ms/step - loss: 2.0859 - accuracy: 0.4920 - val_loss: 2.0300 - val_accuracy: 0.5122\n",
            "Epoch 4/20\n",
            "188/188 [==============================] - 1s 4ms/step - loss: 1.9719 - accuracy: 0.5521 - val_loss: 1.9065 - val_accuracy: 0.5868\n",
            "Epoch 5/20\n",
            "188/188 [==============================] - 1s 4ms/step - loss: 1.8420 - accuracy: 0.5895 - val_loss: 1.7711 - val_accuracy: 0.6472\n",
            "Epoch 6/20\n",
            "188/188 [==============================] - 1s 4ms/step - loss: 1.7076 - accuracy: 0.6074 - val_loss: 1.6377 - val_accuracy: 0.6302\n",
            "Epoch 7/20\n",
            "188/188 [==============================] - 1s 4ms/step - loss: 1.5821 - accuracy: 0.6241 - val_loss: 1.5223 - val_accuracy: 0.5639\n",
            "Epoch 8/20\n",
            "188/188 [==============================] - 1s 4ms/step - loss: 1.4722 - accuracy: 0.6350 - val_loss: 1.4182 - val_accuracy: 0.6837\n",
            "Epoch 9/20\n",
            "188/188 [==============================] - 1s 4ms/step - loss: 1.3786 - accuracy: 0.6511 - val_loss: 1.3305 - val_accuracy: 0.6602\n",
            "Epoch 10/20\n",
            "188/188 [==============================] - 1s 4ms/step - loss: 1.2994 - accuracy: 0.6604 - val_loss: 1.2590 - val_accuracy: 0.6683\n",
            "Epoch 11/20\n",
            "188/188 [==============================] - 1s 4ms/step - loss: 1.2328 - accuracy: 0.6692 - val_loss: 1.1962 - val_accuracy: 0.6808\n",
            "Epoch 12/20\n",
            "188/188 [==============================] - 1s 4ms/step - loss: 1.1759 - accuracy: 0.6776 - val_loss: 1.1431 - val_accuracy: 0.6727\n",
            "Epoch 13/20\n",
            "188/188 [==============================] - 1s 4ms/step - loss: 1.1269 - accuracy: 0.6818 - val_loss: 1.0979 - val_accuracy: 0.6850\n",
            "Epoch 14/20\n",
            "188/188 [==============================] - 1s 4ms/step - loss: 1.0844 - accuracy: 0.6881 - val_loss: 1.0566 - val_accuracy: 0.7012\n",
            "Epoch 15/20\n",
            "188/188 [==============================] - 1s 4ms/step - loss: 1.0471 - accuracy: 0.6952 - val_loss: 1.0204 - val_accuracy: 0.6966\n",
            "Epoch 16/20\n",
            "188/188 [==============================] - 1s 4ms/step - loss: 1.0135 - accuracy: 0.6996 - val_loss: 0.9904 - val_accuracy: 0.6953\n",
            "Epoch 17/20\n",
            "188/188 [==============================] - 1s 4ms/step - loss: 0.9835 - accuracy: 0.7035 - val_loss: 0.9605 - val_accuracy: 0.7131\n",
            "Epoch 18/20\n",
            "188/188 [==============================] - 1s 4ms/step - loss: 0.9564 - accuracy: 0.7087 - val_loss: 0.9353 - val_accuracy: 0.7105\n",
            "Epoch 19/20\n",
            "188/188 [==============================] - 1s 4ms/step - loss: 0.9316 - accuracy: 0.7127 - val_loss: 0.9098 - val_accuracy: 0.7213\n",
            "Epoch 20/20\n",
            "188/188 [==============================] - 1s 4ms/step - loss: 0.9087 - accuracy: 0.7169 - val_loss: 0.8880 - val_accuracy: 0.7196\n"
          ],
          "name": "stdout"
        },
        {
          "output_type": "display_data",
          "data": {
            "text/html": [
              "<span style=\"color:#4527A0\"><h1 style=\"font-size:18px\">Trial complete</h1></span>"
            ],
            "text/plain": [
              "<IPython.core.display.HTML object>"
            ]
          },
          "metadata": {
            "tags": []
          }
        },
        {
          "output_type": "display_data",
          "data": {
            "text/html": [
              "<span style=\"color:#4527A0\"><h1 style=\"font-size:18px\">Trial summary</h1></span>"
            ],
            "text/plain": [
              "<IPython.core.display.HTML object>"
            ]
          },
          "metadata": {
            "tags": []
          }
        },
        {
          "output_type": "display_data",
          "data": {
            "text/html": [
              "<span style=\"color:cyan\"> |-Trial ID: b74e0b18f6282bd8e605be61531cf075</span>"
            ],
            "text/plain": [
              "<IPython.core.display.HTML object>"
            ]
          },
          "metadata": {
            "tags": []
          }
        },
        {
          "output_type": "display_data",
          "data": {
            "text/html": [
              "<span style=\"color:cyan\"> |-Score: 0.7213333249092102</span>"
            ],
            "text/plain": [
              "<IPython.core.display.HTML object>"
            ]
          },
          "metadata": {
            "tags": []
          }
        },
        {
          "output_type": "display_data",
          "data": {
            "text/html": [
              "<span style=\"color:cyan\"> |-Best step: 0</span>"
            ],
            "text/plain": [
              "<IPython.core.display.HTML object>"
            ]
          },
          "metadata": {
            "tags": []
          }
        },
        {
          "output_type": "display_data",
          "data": {
            "text/html": [
              "<span style=\"color:#7E57C2\"><h2 style=\"font-size:16px\">Hyperparameters:</h2></span>"
            ],
            "text/plain": [
              "<IPython.core.display.HTML object>"
            ]
          },
          "metadata": {
            "tags": []
          }
        },
        {
          "output_type": "display_data",
          "data": {
            "text/html": [
              "<span style=\"color:cyan\"> |-activation: sigmoid</span>"
            ],
            "text/plain": [
              "<IPython.core.display.HTML object>"
            ]
          },
          "metadata": {
            "tags": []
          }
        },
        {
          "output_type": "display_data",
          "data": {
            "text/html": [
              "<span style=\"color:blue\"> |-optimizer: SGD</span>"
            ],
            "text/plain": [
              "<IPython.core.display.HTML object>"
            ]
          },
          "metadata": {
            "tags": []
          }
        },
        {
          "output_type": "display_data",
          "data": {
            "text/html": [
              "<span style=\"color:cyan\"> |-units_hidden: 480</span>"
            ],
            "text/plain": [
              "<IPython.core.display.HTML object>"
            ]
          },
          "metadata": {
            "tags": []
          }
        },
        {
          "output_type": "display_data",
          "data": {
            "text/html": [
              "<span style=\"color:blue\"> |-units_input: 768</span>"
            ],
            "text/plain": [
              "<IPython.core.display.HTML object>"
            ]
          },
          "metadata": {
            "tags": []
          }
        },
        {
          "output_type": "stream",
          "text": [
            "Epoch 1/20\n",
            "188/188 [==============================] - 1s 5ms/step - loss: 2.2681 - accuracy: 0.2379 - val_loss: 2.2247 - val_accuracy: 0.3638\n",
            "Epoch 2/20\n",
            "188/188 [==============================] - 1s 4ms/step - loss: 2.1861 - accuracy: 0.4390 - val_loss: 2.1426 - val_accuracy: 0.5180\n",
            "Epoch 3/20\n",
            "188/188 [==============================] - 1s 4ms/step - loss: 2.0971 - accuracy: 0.5265 - val_loss: 2.0457 - val_accuracy: 0.4933\n",
            "Epoch 4/20\n",
            "188/188 [==============================] - 1s 4ms/step - loss: 1.9901 - accuracy: 0.5572 - val_loss: 1.9257 - val_accuracy: 0.5808\n",
            "Epoch 5/20\n",
            "188/188 [==============================] - 1s 4ms/step - loss: 1.8627 - accuracy: 0.5754 - val_loss: 1.7897 - val_accuracy: 0.6071\n",
            "Epoch 6/20\n",
            "188/188 [==============================] - 1s 4ms/step - loss: 1.7250 - accuracy: 0.5963 - val_loss: 1.6516 - val_accuracy: 0.5920\n",
            "Epoch 7/20\n",
            "188/188 [==============================] - 1s 4ms/step - loss: 1.5919 - accuracy: 0.6098 - val_loss: 1.5253 - val_accuracy: 0.6718\n",
            "Epoch 8/20\n",
            "188/188 [==============================] - 1s 4ms/step - loss: 1.4745 - accuracy: 0.6291 - val_loss: 1.4157 - val_accuracy: 0.6508\n",
            "Epoch 9/20\n",
            "188/188 [==============================] - 1s 4ms/step - loss: 1.3759 - accuracy: 0.6426 - val_loss: 1.3247 - val_accuracy: 0.6649\n",
            "Epoch 10/20\n",
            "188/188 [==============================] - 1s 4ms/step - loss: 1.2938 - accuracy: 0.6572 - val_loss: 1.2501 - val_accuracy: 0.6662\n",
            "Epoch 11/20\n",
            "188/188 [==============================] - 1s 4ms/step - loss: 1.2260 - accuracy: 0.6657 - val_loss: 1.1888 - val_accuracy: 0.6797\n",
            "Epoch 12/20\n",
            "188/188 [==============================] - 1s 4ms/step - loss: 1.1685 - accuracy: 0.6758 - val_loss: 1.1344 - val_accuracy: 0.6809\n",
            "Epoch 13/20\n",
            "188/188 [==============================] - 1s 4ms/step - loss: 1.1195 - accuracy: 0.6812 - val_loss: 1.0885 - val_accuracy: 0.6857\n",
            "Epoch 14/20\n",
            "188/188 [==============================] - 1s 5ms/step - loss: 1.0770 - accuracy: 0.6896 - val_loss: 1.0493 - val_accuracy: 0.6921\n",
            "Epoch 15/20\n",
            "188/188 [==============================] - 1s 4ms/step - loss: 1.0398 - accuracy: 0.6942 - val_loss: 1.0123 - val_accuracy: 0.6987\n",
            "Epoch 16/20\n",
            "188/188 [==============================] - 1s 4ms/step - loss: 1.0063 - accuracy: 0.7003 - val_loss: 0.9812 - val_accuracy: 0.7028\n",
            "Epoch 17/20\n",
            "188/188 [==============================] - 1s 4ms/step - loss: 0.9765 - accuracy: 0.7053 - val_loss: 0.9517 - val_accuracy: 0.7161\n",
            "Epoch 18/20\n",
            "188/188 [==============================] - 1s 4ms/step - loss: 0.9494 - accuracy: 0.7086 - val_loss: 0.9262 - val_accuracy: 0.7168\n",
            "Epoch 19/20\n",
            "188/188 [==============================] - 1s 4ms/step - loss: 0.9248 - accuracy: 0.7132 - val_loss: 0.9032 - val_accuracy: 0.7197\n",
            "Epoch 20/20\n",
            "188/188 [==============================] - 1s 4ms/step - loss: 0.9021 - accuracy: 0.7179 - val_loss: 0.8816 - val_accuracy: 0.7203\n"
          ],
          "name": "stdout"
        },
        {
          "output_type": "display_data",
          "data": {
            "text/html": [
              "<span style=\"color:#4527A0\"><h1 style=\"font-size:18px\">Trial complete</h1></span>"
            ],
            "text/plain": [
              "<IPython.core.display.HTML object>"
            ]
          },
          "metadata": {
            "tags": []
          }
        },
        {
          "output_type": "display_data",
          "data": {
            "text/html": [
              "<span style=\"color:#4527A0\"><h1 style=\"font-size:18px\">Trial summary</h1></span>"
            ],
            "text/plain": [
              "<IPython.core.display.HTML object>"
            ]
          },
          "metadata": {
            "tags": []
          }
        },
        {
          "output_type": "display_data",
          "data": {
            "text/html": [
              "<span style=\"color:cyan\"> |-Trial ID: 043ba59e5be4cb9996b9d92ba02da64c</span>"
            ],
            "text/plain": [
              "<IPython.core.display.HTML object>"
            ]
          },
          "metadata": {
            "tags": []
          }
        },
        {
          "output_type": "display_data",
          "data": {
            "text/html": [
              "<span style=\"color:cyan\"> |-Score: 0.7202500104904175</span>"
            ],
            "text/plain": [
              "<IPython.core.display.HTML object>"
            ]
          },
          "metadata": {
            "tags": []
          }
        },
        {
          "output_type": "display_data",
          "data": {
            "text/html": [
              "<span style=\"color:cyan\"> |-Best step: 0</span>"
            ],
            "text/plain": [
              "<IPython.core.display.HTML object>"
            ]
          },
          "metadata": {
            "tags": []
          }
        },
        {
          "output_type": "display_data",
          "data": {
            "text/html": [
              "<span style=\"color:#7E57C2\"><h2 style=\"font-size:16px\">Hyperparameters:</h2></span>"
            ],
            "text/plain": [
              "<IPython.core.display.HTML object>"
            ]
          },
          "metadata": {
            "tags": []
          }
        },
        {
          "output_type": "display_data",
          "data": {
            "text/html": [
              "<span style=\"color:cyan\"> |-activation: sigmoid</span>"
            ],
            "text/plain": [
              "<IPython.core.display.HTML object>"
            ]
          },
          "metadata": {
            "tags": []
          }
        },
        {
          "output_type": "display_data",
          "data": {
            "text/html": [
              "<span style=\"color:blue\"> |-optimizer: SGD</span>"
            ],
            "text/plain": [
              "<IPython.core.display.HTML object>"
            ]
          },
          "metadata": {
            "tags": []
          }
        },
        {
          "output_type": "display_data",
          "data": {
            "text/html": [
              "<span style=\"color:cyan\"> |-units_hidden: 544</span>"
            ],
            "text/plain": [
              "<IPython.core.display.HTML object>"
            ]
          },
          "metadata": {
            "tags": []
          }
        },
        {
          "output_type": "display_data",
          "data": {
            "text/html": [
              "<span style=\"color:blue\"> |-units_input: 672</span>"
            ],
            "text/plain": [
              "<IPython.core.display.HTML object>"
            ]
          },
          "metadata": {
            "tags": []
          }
        },
        {
          "output_type": "stream",
          "text": [
            "Epoch 1/20\n",
            "188/188 [==============================] - 1s 5ms/step - loss: 1.1419 - accuracy: 0.6953 - val_loss: 0.7752 - val_accuracy: 0.7379\n",
            "Epoch 2/20\n",
            "188/188 [==============================] - 1s 5ms/step - loss: 0.5957 - accuracy: 0.7908 - val_loss: 0.5359 - val_accuracy: 0.8160\n",
            "Epoch 3/20\n",
            "188/188 [==============================] - 1s 5ms/step - loss: 0.4797 - accuracy: 0.8249 - val_loss: 0.4824 - val_accuracy: 0.8244\n",
            "Epoch 4/20\n",
            "188/188 [==============================] - 1s 4ms/step - loss: 0.4171 - accuracy: 0.8437 - val_loss: 0.5216 - val_accuracy: 0.8192\n",
            "Epoch 5/20\n",
            "188/188 [==============================] - 1s 4ms/step - loss: 0.3787 - accuracy: 0.8584 - val_loss: 0.4773 - val_accuracy: 0.8367\n",
            "Epoch 6/20\n",
            "188/188 [==============================] - 1s 4ms/step - loss: 0.3540 - accuracy: 0.8666 - val_loss: 0.4578 - val_accuracy: 0.8365\n",
            "Epoch 7/20\n",
            "188/188 [==============================] - 1s 5ms/step - loss: 0.3279 - accuracy: 0.8768 - val_loss: 0.5316 - val_accuracy: 0.8158\n",
            "Epoch 8/20\n",
            "188/188 [==============================] - 1s 5ms/step - loss: 0.3096 - accuracy: 0.8825 - val_loss: 0.3672 - val_accuracy: 0.8684\n",
            "Epoch 9/20\n",
            "188/188 [==============================] - 1s 5ms/step - loss: 0.2972 - accuracy: 0.8880 - val_loss: 0.4239 - val_accuracy: 0.8449\n",
            "Epoch 10/20\n",
            "188/188 [==============================] - 1s 5ms/step - loss: 0.2825 - accuracy: 0.8917 - val_loss: 0.3606 - val_accuracy: 0.8780\n",
            "Epoch 11/20\n",
            "188/188 [==============================] - 1s 5ms/step - loss: 0.2726 - accuracy: 0.8963 - val_loss: 0.3883 - val_accuracy: 0.8657\n",
            "Epoch 12/20\n",
            "188/188 [==============================] - 1s 5ms/step - loss: 0.2622 - accuracy: 0.9010 - val_loss: 0.3483 - val_accuracy: 0.8770\n",
            "Epoch 13/20\n",
            "188/188 [==============================] - 1s 5ms/step - loss: 0.2492 - accuracy: 0.9050 - val_loss: 0.3757 - val_accuracy: 0.8783\n",
            "Epoch 14/20\n",
            "188/188 [==============================] - 1s 4ms/step - loss: 0.2435 - accuracy: 0.9067 - val_loss: 0.4416 - val_accuracy: 0.8556\n",
            "Epoch 15/20\n",
            "188/188 [==============================] - 1s 4ms/step - loss: 0.2330 - accuracy: 0.9105 - val_loss: 0.4070 - val_accuracy: 0.8583\n",
            "Epoch 16/20\n",
            "188/188 [==============================] - 1s 4ms/step - loss: 0.2266 - accuracy: 0.9134 - val_loss: 0.4032 - val_accuracy: 0.8651\n",
            "Epoch 17/20\n",
            "188/188 [==============================] - 1s 4ms/step - loss: 0.2183 - accuracy: 0.9164 - val_loss: 0.3580 - val_accuracy: 0.8858\n",
            "Epoch 18/20\n",
            "188/188 [==============================] - 1s 4ms/step - loss: 0.2106 - accuracy: 0.9192 - val_loss: 0.3994 - val_accuracy: 0.8694\n",
            "Epoch 19/20\n",
            "188/188 [==============================] - 1s 4ms/step - loss: 0.2044 - accuracy: 0.9225 - val_loss: 0.3724 - val_accuracy: 0.8858\n",
            "Epoch 20/20\n",
            "188/188 [==============================] - 1s 4ms/step - loss: 0.1957 - accuracy: 0.9247 - val_loss: 0.3541 - val_accuracy: 0.8889\n"
          ],
          "name": "stdout"
        },
        {
          "output_type": "display_data",
          "data": {
            "text/html": [
              "<span style=\"color:#4527A0\"><h1 style=\"font-size:18px\">Trial complete</h1></span>"
            ],
            "text/plain": [
              "<IPython.core.display.HTML object>"
            ]
          },
          "metadata": {
            "tags": []
          }
        },
        {
          "output_type": "display_data",
          "data": {
            "text/html": [
              "<span style=\"color:#4527A0\"><h1 style=\"font-size:18px\">Trial summary</h1></span>"
            ],
            "text/plain": [
              "<IPython.core.display.HTML object>"
            ]
          },
          "metadata": {
            "tags": []
          }
        },
        {
          "output_type": "display_data",
          "data": {
            "text/html": [
              "<span style=\"color:cyan\"> |-Trial ID: 7f13c5d9797a5a8d97acb90a767915f0</span>"
            ],
            "text/plain": [
              "<IPython.core.display.HTML object>"
            ]
          },
          "metadata": {
            "tags": []
          }
        },
        {
          "output_type": "display_data",
          "data": {
            "text/html": [
              "<span style=\"color:cyan\"> |-Score: 0.8889166712760925</span>"
            ],
            "text/plain": [
              "<IPython.core.display.HTML object>"
            ]
          },
          "metadata": {
            "tags": []
          }
        },
        {
          "output_type": "display_data",
          "data": {
            "text/html": [
              "<span style=\"color:cyan\"> |-Best step: 0</span>"
            ],
            "text/plain": [
              "<IPython.core.display.HTML object>"
            ]
          },
          "metadata": {
            "tags": []
          }
        },
        {
          "output_type": "display_data",
          "data": {
            "text/html": [
              "<span style=\"color:#7E57C2\"><h2 style=\"font-size:16px\">Hyperparameters:</h2></span>"
            ],
            "text/plain": [
              "<IPython.core.display.HTML object>"
            ]
          },
          "metadata": {
            "tags": []
          }
        },
        {
          "output_type": "display_data",
          "data": {
            "text/html": [
              "<span style=\"color:cyan\"> |-activation: selu</span>"
            ],
            "text/plain": [
              "<IPython.core.display.HTML object>"
            ]
          },
          "metadata": {
            "tags": []
          }
        },
        {
          "output_type": "display_data",
          "data": {
            "text/html": [
              "<span style=\"color:blue\"> |-optimizer: rmsprop</span>"
            ],
            "text/plain": [
              "<IPython.core.display.HTML object>"
            ]
          },
          "metadata": {
            "tags": []
          }
        },
        {
          "output_type": "display_data",
          "data": {
            "text/html": [
              "<span style=\"color:cyan\"> |-units_hidden: 448</span>"
            ],
            "text/plain": [
              "<IPython.core.display.HTML object>"
            ]
          },
          "metadata": {
            "tags": []
          }
        },
        {
          "output_type": "display_data",
          "data": {
            "text/html": [
              "<span style=\"color:blue\"> |-units_input: 672</span>"
            ],
            "text/plain": [
              "<IPython.core.display.HTML object>"
            ]
          },
          "metadata": {
            "tags": []
          }
        },
        {
          "output_type": "stream",
          "text": [
            "Epoch 1/20\n",
            "188/188 [==============================] - 1s 5ms/step - loss: 1.0886 - accuracy: 0.6541 - val_loss: 0.7662 - val_accuracy: 0.7538\n",
            "Epoch 2/20\n",
            "188/188 [==============================] - 1s 4ms/step - loss: 0.7022 - accuracy: 0.7711 - val_loss: 0.6450 - val_accuracy: 0.7866\n",
            "Epoch 3/20\n",
            "188/188 [==============================] - 1s 4ms/step - loss: 0.6159 - accuracy: 0.7974 - val_loss: 0.5863 - val_accuracy: 0.8023\n",
            "Epoch 4/20\n",
            "188/188 [==============================] - 1s 4ms/step - loss: 0.5694 - accuracy: 0.8118 - val_loss: 0.5536 - val_accuracy: 0.8098\n",
            "Epoch 5/20\n",
            "188/188 [==============================] - 1s 4ms/step - loss: 0.5389 - accuracy: 0.8198 - val_loss: 0.5279 - val_accuracy: 0.8179\n",
            "Epoch 6/20\n",
            "188/188 [==============================] - 1s 4ms/step - loss: 0.5182 - accuracy: 0.8247 - val_loss: 0.5219 - val_accuracy: 0.8153\n",
            "Epoch 7/20\n",
            "188/188 [==============================] - 1s 4ms/step - loss: 0.5020 - accuracy: 0.8297 - val_loss: 0.4976 - val_accuracy: 0.8267\n",
            "Epoch 8/20\n",
            "188/188 [==============================] - 1s 4ms/step - loss: 0.4889 - accuracy: 0.8334 - val_loss: 0.4885 - val_accuracy: 0.8286\n",
            "Epoch 9/20\n",
            "188/188 [==============================] - 1s 4ms/step - loss: 0.4790 - accuracy: 0.8360 - val_loss: 0.4789 - val_accuracy: 0.8332\n",
            "Epoch 10/20\n",
            "188/188 [==============================] - 1s 4ms/step - loss: 0.4700 - accuracy: 0.8390 - val_loss: 0.4774 - val_accuracy: 0.8313\n",
            "Epoch 11/20\n",
            "188/188 [==============================] - 1s 4ms/step - loss: 0.4631 - accuracy: 0.8416 - val_loss: 0.4702 - val_accuracy: 0.8350\n",
            "Epoch 12/20\n",
            "188/188 [==============================] - 1s 4ms/step - loss: 0.4565 - accuracy: 0.8435 - val_loss: 0.4607 - val_accuracy: 0.8374\n",
            "Epoch 13/20\n",
            "188/188 [==============================] - 1s 4ms/step - loss: 0.4507 - accuracy: 0.8450 - val_loss: 0.4575 - val_accuracy: 0.8378\n",
            "Epoch 14/20\n",
            "188/188 [==============================] - 1s 4ms/step - loss: 0.4462 - accuracy: 0.8461 - val_loss: 0.4509 - val_accuracy: 0.8413\n",
            "Epoch 15/20\n",
            "188/188 [==============================] - 1s 4ms/step - loss: 0.4414 - accuracy: 0.8480 - val_loss: 0.4525 - val_accuracy: 0.8419\n",
            "Epoch 16/20\n",
            "188/188 [==============================] - 1s 4ms/step - loss: 0.4377 - accuracy: 0.8490 - val_loss: 0.4471 - val_accuracy: 0.8433\n",
            "Epoch 17/20\n",
            "188/188 [==============================] - 1s 4ms/step - loss: 0.4336 - accuracy: 0.8506 - val_loss: 0.4417 - val_accuracy: 0.8475\n",
            "Epoch 18/20\n",
            "188/188 [==============================] - 1s 4ms/step - loss: 0.4301 - accuracy: 0.8514 - val_loss: 0.4405 - val_accuracy: 0.8443\n",
            "Epoch 19/20\n",
            "188/188 [==============================] - 1s 4ms/step - loss: 0.4277 - accuracy: 0.8520 - val_loss: 0.4353 - val_accuracy: 0.8480\n",
            "Epoch 20/20\n",
            "188/188 [==============================] - 1s 4ms/step - loss: 0.4242 - accuracy: 0.8528 - val_loss: 0.4387 - val_accuracy: 0.8429\n"
          ],
          "name": "stdout"
        },
        {
          "output_type": "display_data",
          "data": {
            "text/html": [
              "<span style=\"color:#4527A0\"><h1 style=\"font-size:18px\">Trial complete</h1></span>"
            ],
            "text/plain": [
              "<IPython.core.display.HTML object>"
            ]
          },
          "metadata": {
            "tags": []
          }
        },
        {
          "output_type": "display_data",
          "data": {
            "text/html": [
              "<span style=\"color:#4527A0\"><h1 style=\"font-size:18px\">Trial summary</h1></span>"
            ],
            "text/plain": [
              "<IPython.core.display.HTML object>"
            ]
          },
          "metadata": {
            "tags": []
          }
        },
        {
          "output_type": "display_data",
          "data": {
            "text/html": [
              "<span style=\"color:cyan\"> |-Trial ID: 3f4e3be504a948a7bb016acdb856cb05</span>"
            ],
            "text/plain": [
              "<IPython.core.display.HTML object>"
            ]
          },
          "metadata": {
            "tags": []
          }
        },
        {
          "output_type": "display_data",
          "data": {
            "text/html": [
              "<span style=\"color:cyan\"> |-Score: 0.8479999899864197</span>"
            ],
            "text/plain": [
              "<IPython.core.display.HTML object>"
            ]
          },
          "metadata": {
            "tags": []
          }
        },
        {
          "output_type": "display_data",
          "data": {
            "text/html": [
              "<span style=\"color:cyan\"> |-Best step: 0</span>"
            ],
            "text/plain": [
              "<IPython.core.display.HTML object>"
            ]
          },
          "metadata": {
            "tags": []
          }
        },
        {
          "output_type": "display_data",
          "data": {
            "text/html": [
              "<span style=\"color:#7E57C2\"><h2 style=\"font-size:16px\">Hyperparameters:</h2></span>"
            ],
            "text/plain": [
              "<IPython.core.display.HTML object>"
            ]
          },
          "metadata": {
            "tags": []
          }
        },
        {
          "output_type": "display_data",
          "data": {
            "text/html": [
              "<span style=\"color:cyan\"> |-activation: elu</span>"
            ],
            "text/plain": [
              "<IPython.core.display.HTML object>"
            ]
          },
          "metadata": {
            "tags": []
          }
        },
        {
          "output_type": "display_data",
          "data": {
            "text/html": [
              "<span style=\"color:blue\"> |-optimizer: SGD</span>"
            ],
            "text/plain": [
              "<IPython.core.display.HTML object>"
            ]
          },
          "metadata": {
            "tags": []
          }
        },
        {
          "output_type": "display_data",
          "data": {
            "text/html": [
              "<span style=\"color:cyan\"> |-units_hidden: 576</span>"
            ],
            "text/plain": [
              "<IPython.core.display.HTML object>"
            ]
          },
          "metadata": {
            "tags": []
          }
        },
        {
          "output_type": "display_data",
          "data": {
            "text/html": [
              "<span style=\"color:blue\"> |-units_input: 736</span>"
            ],
            "text/plain": [
              "<IPython.core.display.HTML object>"
            ]
          },
          "metadata": {
            "tags": []
          }
        },
        {
          "output_type": "stream",
          "text": [
            "Epoch 1/20\n",
            "188/188 [==============================] - 1s 5ms/step - loss: 1.0156 - accuracy: 0.6945 - val_loss: 0.7362 - val_accuracy: 0.7500\n",
            "Epoch 2/20\n",
            "188/188 [==============================] - 1s 4ms/step - loss: 0.6722 - accuracy: 0.7824 - val_loss: 0.6195 - val_accuracy: 0.7917\n",
            "Epoch 3/20\n",
            "188/188 [==============================] - 1s 4ms/step - loss: 0.5943 - accuracy: 0.8045 - val_loss: 0.5805 - val_accuracy: 0.8008\n",
            "Epoch 4/20\n",
            "188/188 [==============================] - 1s 4ms/step - loss: 0.5527 - accuracy: 0.8167 - val_loss: 0.5367 - val_accuracy: 0.8176\n",
            "Epoch 5/20\n",
            "188/188 [==============================] - 1s 4ms/step - loss: 0.5253 - accuracy: 0.8231 - val_loss: 0.5178 - val_accuracy: 0.8233\n",
            "Epoch 6/20\n",
            "188/188 [==============================] - 1s 5ms/step - loss: 0.5063 - accuracy: 0.8288 - val_loss: 0.5018 - val_accuracy: 0.8278\n",
            "Epoch 7/20\n",
            "188/188 [==============================] - 1s 5ms/step - loss: 0.4918 - accuracy: 0.8330 - val_loss: 0.4891 - val_accuracy: 0.8316\n",
            "Epoch 8/20\n",
            "188/188 [==============================] - 1s 5ms/step - loss: 0.4803 - accuracy: 0.8367 - val_loss: 0.4803 - val_accuracy: 0.8352\n",
            "Epoch 9/20\n",
            "188/188 [==============================] - 1s 4ms/step - loss: 0.4706 - accuracy: 0.8389 - val_loss: 0.4754 - val_accuracy: 0.8330\n",
            "Epoch 10/20\n",
            "188/188 [==============================] - 1s 4ms/step - loss: 0.4628 - accuracy: 0.8407 - val_loss: 0.4674 - val_accuracy: 0.8365\n",
            "Epoch 11/20\n",
            "188/188 [==============================] - 1s 5ms/step - loss: 0.4560 - accuracy: 0.8430 - val_loss: 0.4590 - val_accuracy: 0.8393\n",
            "Epoch 12/20\n",
            "188/188 [==============================] - 1s 5ms/step - loss: 0.4502 - accuracy: 0.8449 - val_loss: 0.4550 - val_accuracy: 0.8411\n",
            "Epoch 13/20\n",
            "188/188 [==============================] - 1s 4ms/step - loss: 0.4449 - accuracy: 0.8464 - val_loss: 0.4521 - val_accuracy: 0.8417\n",
            "Epoch 14/20\n",
            "188/188 [==============================] - 1s 4ms/step - loss: 0.4403 - accuracy: 0.8476 - val_loss: 0.4490 - val_accuracy: 0.8422\n",
            "Epoch 15/20\n",
            "188/188 [==============================] - 1s 4ms/step - loss: 0.4360 - accuracy: 0.8495 - val_loss: 0.4467 - val_accuracy: 0.8419\n",
            "Epoch 16/20\n",
            "188/188 [==============================] - 1s 4ms/step - loss: 0.4324 - accuracy: 0.8498 - val_loss: 0.4408 - val_accuracy: 0.8457\n",
            "Epoch 17/20\n",
            "188/188 [==============================] - 1s 5ms/step - loss: 0.4288 - accuracy: 0.8505 - val_loss: 0.4378 - val_accuracy: 0.8451\n",
            "Epoch 18/20\n",
            "188/188 [==============================] - 1s 5ms/step - loss: 0.4252 - accuracy: 0.8525 - val_loss: 0.4350 - val_accuracy: 0.8453\n",
            "Epoch 19/20\n",
            "188/188 [==============================] - 1s 4ms/step - loss: 0.4226 - accuracy: 0.8524 - val_loss: 0.4377 - val_accuracy: 0.8462\n",
            "Epoch 20/20\n",
            "188/188 [==============================] - 1s 4ms/step - loss: 0.4195 - accuracy: 0.8547 - val_loss: 0.4319 - val_accuracy: 0.8493\n"
          ],
          "name": "stdout"
        },
        {
          "output_type": "display_data",
          "data": {
            "text/html": [
              "<span style=\"color:#4527A0\"><h1 style=\"font-size:18px\">Trial complete</h1></span>"
            ],
            "text/plain": [
              "<IPython.core.display.HTML object>"
            ]
          },
          "metadata": {
            "tags": []
          }
        },
        {
          "output_type": "display_data",
          "data": {
            "text/html": [
              "<span style=\"color:#4527A0\"><h1 style=\"font-size:18px\">Trial summary</h1></span>"
            ],
            "text/plain": [
              "<IPython.core.display.HTML object>"
            ]
          },
          "metadata": {
            "tags": []
          }
        },
        {
          "output_type": "display_data",
          "data": {
            "text/html": [
              "<span style=\"color:cyan\"> |-Trial ID: ab1b123e964cc7efe1af409b6b4dff4e</span>"
            ],
            "text/plain": [
              "<IPython.core.display.HTML object>"
            ]
          },
          "metadata": {
            "tags": []
          }
        },
        {
          "output_type": "display_data",
          "data": {
            "text/html": [
              "<span style=\"color:cyan\"> |-Score: 0.8492500185966492</span>"
            ],
            "text/plain": [
              "<IPython.core.display.HTML object>"
            ]
          },
          "metadata": {
            "tags": []
          }
        },
        {
          "output_type": "display_data",
          "data": {
            "text/html": [
              "<span style=\"color:cyan\"> |-Best step: 0</span>"
            ],
            "text/plain": [
              "<IPython.core.display.HTML object>"
            ]
          },
          "metadata": {
            "tags": []
          }
        },
        {
          "output_type": "display_data",
          "data": {
            "text/html": [
              "<span style=\"color:#7E57C2\"><h2 style=\"font-size:16px\">Hyperparameters:</h2></span>"
            ],
            "text/plain": [
              "<IPython.core.display.HTML object>"
            ]
          },
          "metadata": {
            "tags": []
          }
        },
        {
          "output_type": "display_data",
          "data": {
            "text/html": [
              "<span style=\"color:cyan\"> |-activation: elu</span>"
            ],
            "text/plain": [
              "<IPython.core.display.HTML object>"
            ]
          },
          "metadata": {
            "tags": []
          }
        },
        {
          "output_type": "display_data",
          "data": {
            "text/html": [
              "<span style=\"color:blue\"> |-optimizer: SGD</span>"
            ],
            "text/plain": [
              "<IPython.core.display.HTML object>"
            ]
          },
          "metadata": {
            "tags": []
          }
        },
        {
          "output_type": "display_data",
          "data": {
            "text/html": [
              "<span style=\"color:cyan\"> |-units_hidden: 512</span>"
            ],
            "text/plain": [
              "<IPython.core.display.HTML object>"
            ]
          },
          "metadata": {
            "tags": []
          }
        },
        {
          "output_type": "display_data",
          "data": {
            "text/html": [
              "<span style=\"color:blue\"> |-units_input: 992</span>"
            ],
            "text/plain": [
              "<IPython.core.display.HTML object>"
            ]
          },
          "metadata": {
            "tags": []
          }
        },
        {
          "output_type": "stream",
          "text": [
            "Epoch 1/20\n",
            "188/188 [==============================] - 1s 5ms/step - loss: 0.5245 - accuracy: 0.8132 - val_loss: 0.4188 - val_accuracy: 0.8473\n",
            "Epoch 2/20\n",
            "188/188 [==============================] - 1s 4ms/step - loss: 0.3683 - accuracy: 0.8662 - val_loss: 0.3534 - val_accuracy: 0.8692\n",
            "Epoch 3/20\n",
            "188/188 [==============================] - 1s 5ms/step - loss: 0.3245 - accuracy: 0.8805 - val_loss: 0.3531 - val_accuracy: 0.8686\n",
            "Epoch 4/20\n",
            "188/188 [==============================] - 1s 5ms/step - loss: 0.2982 - accuracy: 0.8904 - val_loss: 0.3279 - val_accuracy: 0.8798\n",
            "Epoch 5/20\n",
            "188/188 [==============================] - 1s 5ms/step - loss: 0.2756 - accuracy: 0.8974 - val_loss: 0.3189 - val_accuracy: 0.8858\n",
            "Epoch 6/20\n",
            "188/188 [==============================] - 1s 4ms/step - loss: 0.2607 - accuracy: 0.9032 - val_loss: 0.3347 - val_accuracy: 0.8787\n",
            "Epoch 7/20\n",
            "188/188 [==============================] - 1s 4ms/step - loss: 0.2467 - accuracy: 0.9076 - val_loss: 0.3311 - val_accuracy: 0.8808\n",
            "Epoch 8/20\n",
            "188/188 [==============================] - 1s 5ms/step - loss: 0.2354 - accuracy: 0.9125 - val_loss: 0.3051 - val_accuracy: 0.8887\n",
            "Epoch 9/20\n",
            "188/188 [==============================] - 1s 4ms/step - loss: 0.2257 - accuracy: 0.9148 - val_loss: 0.3329 - val_accuracy: 0.8804\n",
            "Epoch 10/20\n",
            "188/188 [==============================] - 1s 4ms/step - loss: 0.2164 - accuracy: 0.9187 - val_loss: 0.3131 - val_accuracy: 0.8889\n",
            "Epoch 11/20\n",
            "188/188 [==============================] - 1s 4ms/step - loss: 0.2056 - accuracy: 0.9224 - val_loss: 0.3259 - val_accuracy: 0.8839\n",
            "Epoch 12/20\n",
            "188/188 [==============================] - 1s 4ms/step - loss: 0.1999 - accuracy: 0.9251 - val_loss: 0.3033 - val_accuracy: 0.8972\n",
            "Epoch 13/20\n",
            "188/188 [==============================] - 1s 4ms/step - loss: 0.1939 - accuracy: 0.9258 - val_loss: 0.3037 - val_accuracy: 0.8954\n",
            "Epoch 14/20\n",
            "188/188 [==============================] - 1s 4ms/step - loss: 0.1799 - accuracy: 0.9321 - val_loss: 0.3285 - val_accuracy: 0.8862\n",
            "Epoch 15/20\n",
            "188/188 [==============================] - 1s 4ms/step - loss: 0.1759 - accuracy: 0.9336 - val_loss: 0.3184 - val_accuracy: 0.8929\n",
            "Epoch 16/20\n",
            "188/188 [==============================] - 1s 5ms/step - loss: 0.1709 - accuracy: 0.9354 - val_loss: 0.3217 - val_accuracy: 0.8907\n",
            "Epoch 17/20\n",
            "188/188 [==============================] - 1s 5ms/step - loss: 0.1619 - accuracy: 0.9386 - val_loss: 0.3315 - val_accuracy: 0.8916\n",
            "Epoch 18/20\n",
            "188/188 [==============================] - 1s 4ms/step - loss: 0.1510 - accuracy: 0.9418 - val_loss: 0.3317 - val_accuracy: 0.8957\n",
            "Epoch 19/20\n",
            "188/188 [==============================] - 1s 4ms/step - loss: 0.1519 - accuracy: 0.9418 - val_loss: 0.3260 - val_accuracy: 0.8950\n",
            "Epoch 20/20\n",
            "188/188 [==============================] - 1s 4ms/step - loss: 0.1462 - accuracy: 0.9440 - val_loss: 0.3370 - val_accuracy: 0.8956\n"
          ],
          "name": "stdout"
        },
        {
          "output_type": "display_data",
          "data": {
            "text/html": [
              "<span style=\"color:#4527A0\"><h1 style=\"font-size:18px\">Trial complete</h1></span>"
            ],
            "text/plain": [
              "<IPython.core.display.HTML object>"
            ]
          },
          "metadata": {
            "tags": []
          }
        },
        {
          "output_type": "display_data",
          "data": {
            "text/html": [
              "<span style=\"color:#4527A0\"><h1 style=\"font-size:18px\">Trial summary</h1></span>"
            ],
            "text/plain": [
              "<IPython.core.display.HTML object>"
            ]
          },
          "metadata": {
            "tags": []
          }
        },
        {
          "output_type": "display_data",
          "data": {
            "text/html": [
              "<span style=\"color:cyan\"> |-Trial ID: abdc563045a02106d6db4b1926be9a19</span>"
            ],
            "text/plain": [
              "<IPython.core.display.HTML object>"
            ]
          },
          "metadata": {
            "tags": []
          }
        },
        {
          "output_type": "display_data",
          "data": {
            "text/html": [
              "<span style=\"color:cyan\"> |-Score: 0.8971666693687439</span>"
            ],
            "text/plain": [
              "<IPython.core.display.HTML object>"
            ]
          },
          "metadata": {
            "tags": []
          }
        },
        {
          "output_type": "display_data",
          "data": {
            "text/html": [
              "<span style=\"color:cyan\"> |-Best step: 0</span>"
            ],
            "text/plain": [
              "<IPython.core.display.HTML object>"
            ]
          },
          "metadata": {
            "tags": []
          }
        },
        {
          "output_type": "display_data",
          "data": {
            "text/html": [
              "<span style=\"color:#7E57C2\"><h2 style=\"font-size:16px\">Hyperparameters:</h2></span>"
            ],
            "text/plain": [
              "<IPython.core.display.HTML object>"
            ]
          },
          "metadata": {
            "tags": []
          }
        },
        {
          "output_type": "display_data",
          "data": {
            "text/html": [
              "<span style=\"color:cyan\"> |-activation: relu</span>"
            ],
            "text/plain": [
              "<IPython.core.display.HTML object>"
            ]
          },
          "metadata": {
            "tags": []
          }
        },
        {
          "output_type": "display_data",
          "data": {
            "text/html": [
              "<span style=\"color:blue\"> |-optimizer: adam</span>"
            ],
            "text/plain": [
              "<IPython.core.display.HTML object>"
            ]
          },
          "metadata": {
            "tags": []
          }
        },
        {
          "output_type": "display_data",
          "data": {
            "text/html": [
              "<span style=\"color:cyan\"> |-units_hidden: 480</span>"
            ],
            "text/plain": [
              "<IPython.core.display.HTML object>"
            ]
          },
          "metadata": {
            "tags": []
          }
        },
        {
          "output_type": "display_data",
          "data": {
            "text/html": [
              "<span style=\"color:blue\"> |-units_input: 704</span>"
            ],
            "text/plain": [
              "<IPython.core.display.HTML object>"
            ]
          },
          "metadata": {
            "tags": []
          }
        },
        {
          "output_type": "stream",
          "text": [
            "Epoch 1/20\n",
            "188/188 [==============================] - 1s 5ms/step - loss: 1.2790 - accuracy: 0.6271 - val_loss: 0.8626 - val_accuracy: 0.7380\n",
            "Epoch 2/20\n",
            "188/188 [==============================] - 1s 4ms/step - loss: 0.7691 - accuracy: 0.7577 - val_loss: 0.6905 - val_accuracy: 0.7741\n",
            "Epoch 3/20\n",
            "188/188 [==============================] - 1s 4ms/step - loss: 0.6542 - accuracy: 0.7920 - val_loss: 0.6134 - val_accuracy: 0.8012\n",
            "Epoch 4/20\n",
            "188/188 [==============================] - 1s 4ms/step - loss: 0.5950 - accuracy: 0.8065 - val_loss: 0.5711 - val_accuracy: 0.8116\n",
            "Epoch 5/20\n",
            "188/188 [==============================] - 1s 4ms/step - loss: 0.5573 - accuracy: 0.8169 - val_loss: 0.5436 - val_accuracy: 0.8185\n",
            "Epoch 6/20\n",
            "188/188 [==============================] - 1s 4ms/step - loss: 0.5323 - accuracy: 0.8220 - val_loss: 0.5220 - val_accuracy: 0.8218\n",
            "Epoch 7/20\n",
            "188/188 [==============================] - 1s 4ms/step - loss: 0.5113 - accuracy: 0.8279 - val_loss: 0.5141 - val_accuracy: 0.8242\n",
            "Epoch 8/20\n",
            "188/188 [==============================] - 1s 4ms/step - loss: 0.4973 - accuracy: 0.8317 - val_loss: 0.5023 - val_accuracy: 0.8263\n",
            "Epoch 9/20\n",
            "188/188 [==============================] - 1s 4ms/step - loss: 0.4838 - accuracy: 0.8367 - val_loss: 0.4839 - val_accuracy: 0.8329\n",
            "Epoch 10/20\n",
            "188/188 [==============================] - 1s 4ms/step - loss: 0.4735 - accuracy: 0.8390 - val_loss: 0.4738 - val_accuracy: 0.8332\n",
            "Epoch 11/20\n",
            "188/188 [==============================] - 1s 4ms/step - loss: 0.4639 - accuracy: 0.8411 - val_loss: 0.4688 - val_accuracy: 0.8370\n",
            "Epoch 12/20\n",
            "188/188 [==============================] - 1s 4ms/step - loss: 0.4560 - accuracy: 0.8442 - val_loss: 0.4657 - val_accuracy: 0.8370\n",
            "Epoch 13/20\n",
            "188/188 [==============================] - 1s 4ms/step - loss: 0.4503 - accuracy: 0.8457 - val_loss: 0.4619 - val_accuracy: 0.8366\n",
            "Epoch 14/20\n",
            "188/188 [==============================] - 1s 4ms/step - loss: 0.4437 - accuracy: 0.8479 - val_loss: 0.4490 - val_accuracy: 0.8438\n",
            "Epoch 15/20\n",
            "188/188 [==============================] - 1s 4ms/step - loss: 0.4375 - accuracy: 0.8501 - val_loss: 0.4680 - val_accuracy: 0.8351\n",
            "Epoch 16/20\n",
            "188/188 [==============================] - 1s 4ms/step - loss: 0.4326 - accuracy: 0.8507 - val_loss: 0.4396 - val_accuracy: 0.8452\n",
            "Epoch 17/20\n",
            "188/188 [==============================] - 1s 4ms/step - loss: 0.4267 - accuracy: 0.8525 - val_loss: 0.4331 - val_accuracy: 0.8494\n",
            "Epoch 18/20\n",
            "188/188 [==============================] - 1s 4ms/step - loss: 0.4222 - accuracy: 0.8550 - val_loss: 0.4425 - val_accuracy: 0.8437\n",
            "Epoch 19/20\n",
            "188/188 [==============================] - 1s 4ms/step - loss: 0.4188 - accuracy: 0.8552 - val_loss: 0.4327 - val_accuracy: 0.8477\n",
            "Epoch 20/20\n",
            "188/188 [==============================] - 1s 4ms/step - loss: 0.4143 - accuracy: 0.8571 - val_loss: 0.4259 - val_accuracy: 0.8512\n"
          ],
          "name": "stdout"
        },
        {
          "output_type": "display_data",
          "data": {
            "text/html": [
              "<span style=\"color:#4527A0\"><h1 style=\"font-size:18px\">Trial complete</h1></span>"
            ],
            "text/plain": [
              "<IPython.core.display.HTML object>"
            ]
          },
          "metadata": {
            "tags": []
          }
        },
        {
          "output_type": "display_data",
          "data": {
            "text/html": [
              "<span style=\"color:#4527A0\"><h1 style=\"font-size:18px\">Trial summary</h1></span>"
            ],
            "text/plain": [
              "<IPython.core.display.HTML object>"
            ]
          },
          "metadata": {
            "tags": []
          }
        },
        {
          "output_type": "display_data",
          "data": {
            "text/html": [
              "<span style=\"color:cyan\"> |-Trial ID: b508f75497ca8b6e9d839bad90d9e962</span>"
            ],
            "text/plain": [
              "<IPython.core.display.HTML object>"
            ]
          },
          "metadata": {
            "tags": []
          }
        },
        {
          "output_type": "display_data",
          "data": {
            "text/html": [
              "<span style=\"color:cyan\"> |-Score: 0.8512499928474426</span>"
            ],
            "text/plain": [
              "<IPython.core.display.HTML object>"
            ]
          },
          "metadata": {
            "tags": []
          }
        },
        {
          "output_type": "display_data",
          "data": {
            "text/html": [
              "<span style=\"color:cyan\"> |-Best step: 0</span>"
            ],
            "text/plain": [
              "<IPython.core.display.HTML object>"
            ]
          },
          "metadata": {
            "tags": []
          }
        },
        {
          "output_type": "display_data",
          "data": {
            "text/html": [
              "<span style=\"color:#7E57C2\"><h2 style=\"font-size:16px\">Hyperparameters:</h2></span>"
            ],
            "text/plain": [
              "<IPython.core.display.HTML object>"
            ]
          },
          "metadata": {
            "tags": []
          }
        },
        {
          "output_type": "display_data",
          "data": {
            "text/html": [
              "<span style=\"color:cyan\"> |-activation: relu</span>"
            ],
            "text/plain": [
              "<IPython.core.display.HTML object>"
            ]
          },
          "metadata": {
            "tags": []
          }
        },
        {
          "output_type": "display_data",
          "data": {
            "text/html": [
              "<span style=\"color:blue\"> |-optimizer: SGD</span>"
            ],
            "text/plain": [
              "<IPython.core.display.HTML object>"
            ]
          },
          "metadata": {
            "tags": []
          }
        },
        {
          "output_type": "display_data",
          "data": {
            "text/html": [
              "<span style=\"color:cyan\"> |-units_hidden: 224</span>"
            ],
            "text/plain": [
              "<IPython.core.display.HTML object>"
            ]
          },
          "metadata": {
            "tags": []
          }
        },
        {
          "output_type": "display_data",
          "data": {
            "text/html": [
              "<span style=\"color:blue\"> |-units_input: 960</span>"
            ],
            "text/plain": [
              "<IPython.core.display.HTML object>"
            ]
          },
          "metadata": {
            "tags": []
          }
        },
        {
          "output_type": "stream",
          "text": [
            "Epoch 1/20\n",
            "188/188 [==============================] - 1s 5ms/step - loss: 0.7988 - accuracy: 0.7387 - val_loss: 0.6018 - val_accuracy: 0.7938\n",
            "Epoch 2/20\n",
            "188/188 [==============================] - 1s 5ms/step - loss: 0.5580 - accuracy: 0.8128 - val_loss: 0.5247 - val_accuracy: 0.8178\n",
            "Epoch 3/20\n",
            "188/188 [==============================] - 1s 4ms/step - loss: 0.5072 - accuracy: 0.8281 - val_loss: 0.5128 - val_accuracy: 0.8156\n",
            "Epoch 4/20\n",
            "188/188 [==============================] - 1s 4ms/step - loss: 0.4809 - accuracy: 0.8350 - val_loss: 0.4782 - val_accuracy: 0.8323\n",
            "Epoch 5/20\n",
            "188/188 [==============================] - 1s 4ms/step - loss: 0.4622 - accuracy: 0.8410 - val_loss: 0.4693 - val_accuracy: 0.8333\n",
            "Epoch 6/20\n",
            "188/188 [==============================] - 1s 4ms/step - loss: 0.4498 - accuracy: 0.8446 - val_loss: 0.4498 - val_accuracy: 0.8413\n",
            "Epoch 7/20\n",
            "188/188 [==============================] - 1s 4ms/step - loss: 0.4393 - accuracy: 0.8481 - val_loss: 0.4520 - val_accuracy: 0.8416\n",
            "Epoch 8/20\n",
            "188/188 [==============================] - 1s 5ms/step - loss: 0.4310 - accuracy: 0.8508 - val_loss: 0.4364 - val_accuracy: 0.8467\n",
            "Epoch 9/20\n",
            "188/188 [==============================] - 1s 4ms/step - loss: 0.4229 - accuracy: 0.8537 - val_loss: 0.4339 - val_accuracy: 0.8480\n",
            "Epoch 10/20\n",
            "188/188 [==============================] - 1s 4ms/step - loss: 0.4178 - accuracy: 0.8548 - val_loss: 0.4242 - val_accuracy: 0.8519\n",
            "Epoch 11/20\n",
            "188/188 [==============================] - 1s 4ms/step - loss: 0.4126 - accuracy: 0.8565 - val_loss: 0.4272 - val_accuracy: 0.8484\n",
            "Epoch 12/20\n",
            "188/188 [==============================] - 1s 4ms/step - loss: 0.4070 - accuracy: 0.8578 - val_loss: 0.4210 - val_accuracy: 0.8503\n",
            "Epoch 13/20\n",
            "188/188 [==============================] - 1s 5ms/step - loss: 0.4045 - accuracy: 0.8589 - val_loss: 0.4173 - val_accuracy: 0.8523\n",
            "Epoch 14/20\n",
            "188/188 [==============================] - 1s 4ms/step - loss: 0.3980 - accuracy: 0.8608 - val_loss: 0.4153 - val_accuracy: 0.8532\n",
            "Epoch 15/20\n",
            "188/188 [==============================] - 1s 4ms/step - loss: 0.3962 - accuracy: 0.8615 - val_loss: 0.4297 - val_accuracy: 0.8467\n",
            "Epoch 16/20\n",
            "188/188 [==============================] - 1s 4ms/step - loss: 0.3927 - accuracy: 0.8630 - val_loss: 0.4068 - val_accuracy: 0.8572\n",
            "Epoch 17/20\n",
            "188/188 [==============================] - 1s 4ms/step - loss: 0.3889 - accuracy: 0.8641 - val_loss: 0.4101 - val_accuracy: 0.8556\n",
            "Epoch 18/20\n",
            "188/188 [==============================] - 1s 5ms/step - loss: 0.3853 - accuracy: 0.8655 - val_loss: 0.4018 - val_accuracy: 0.8587\n",
            "Epoch 19/20\n",
            "188/188 [==============================] - 1s 4ms/step - loss: 0.3833 - accuracy: 0.8659 - val_loss: 0.4059 - val_accuracy: 0.8553\n",
            "Epoch 20/20\n",
            "188/188 [==============================] - 1s 5ms/step - loss: 0.3803 - accuracy: 0.8666 - val_loss: 0.4360 - val_accuracy: 0.8406\n"
          ],
          "name": "stdout"
        },
        {
          "output_type": "display_data",
          "data": {
            "text/html": [
              "<span style=\"color:#4527A0\"><h1 style=\"font-size:18px\">Trial complete</h1></span>"
            ],
            "text/plain": [
              "<IPython.core.display.HTML object>"
            ]
          },
          "metadata": {
            "tags": []
          }
        },
        {
          "output_type": "display_data",
          "data": {
            "text/html": [
              "<span style=\"color:#4527A0\"><h1 style=\"font-size:18px\">Trial summary</h1></span>"
            ],
            "text/plain": [
              "<IPython.core.display.HTML object>"
            ]
          },
          "metadata": {
            "tags": []
          }
        },
        {
          "output_type": "display_data",
          "data": {
            "text/html": [
              "<span style=\"color:cyan\"> |-Trial ID: 205877c757bd67328e5d10314e7cb6c1</span>"
            ],
            "text/plain": [
              "<IPython.core.display.HTML object>"
            ]
          },
          "metadata": {
            "tags": []
          }
        },
        {
          "output_type": "display_data",
          "data": {
            "text/html": [
              "<span style=\"color:cyan\"> |-Score: 0.8586666584014893</span>"
            ],
            "text/plain": [
              "<IPython.core.display.HTML object>"
            ]
          },
          "metadata": {
            "tags": []
          }
        },
        {
          "output_type": "display_data",
          "data": {
            "text/html": [
              "<span style=\"color:cyan\"> |-Best step: 0</span>"
            ],
            "text/plain": [
              "<IPython.core.display.HTML object>"
            ]
          },
          "metadata": {
            "tags": []
          }
        },
        {
          "output_type": "display_data",
          "data": {
            "text/html": [
              "<span style=\"color:#7E57C2\"><h2 style=\"font-size:16px\">Hyperparameters:</h2></span>"
            ],
            "text/plain": [
              "<IPython.core.display.HTML object>"
            ]
          },
          "metadata": {
            "tags": []
          }
        },
        {
          "output_type": "display_data",
          "data": {
            "text/html": [
              "<span style=\"color:cyan\"> |-activation: selu</span>"
            ],
            "text/plain": [
              "<IPython.core.display.HTML object>"
            ]
          },
          "metadata": {
            "tags": []
          }
        },
        {
          "output_type": "display_data",
          "data": {
            "text/html": [
              "<span style=\"color:blue\"> |-optimizer: SGD</span>"
            ],
            "text/plain": [
              "<IPython.core.display.HTML object>"
            ]
          },
          "metadata": {
            "tags": []
          }
        },
        {
          "output_type": "display_data",
          "data": {
            "text/html": [
              "<span style=\"color:cyan\"> |-units_hidden: 448</span>"
            ],
            "text/plain": [
              "<IPython.core.display.HTML object>"
            ]
          },
          "metadata": {
            "tags": []
          }
        },
        {
          "output_type": "display_data",
          "data": {
            "text/html": [
              "<span style=\"color:blue\"> |-units_input: 992</span>"
            ],
            "text/plain": [
              "<IPython.core.display.HTML object>"
            ]
          },
          "metadata": {
            "tags": []
          }
        },
        {
          "output_type": "stream",
          "text": [
            "Epoch 1/20\n",
            "188/188 [==============================] - 1s 4ms/step - loss: 0.8734 - accuracy: 0.7145 - val_loss: 0.6356 - val_accuracy: 0.7832\n",
            "Epoch 2/20\n",
            "188/188 [==============================] - 1s 4ms/step - loss: 0.5822 - accuracy: 0.8062 - val_loss: 0.5501 - val_accuracy: 0.8096\n",
            "Epoch 3/20\n",
            "188/188 [==============================] - 1s 4ms/step - loss: 0.5230 - accuracy: 0.8217 - val_loss: 0.5228 - val_accuracy: 0.8145\n",
            "Epoch 4/20\n",
            "188/188 [==============================] - 1s 4ms/step - loss: 0.4933 - accuracy: 0.8311 - val_loss: 0.4907 - val_accuracy: 0.8280\n",
            "Epoch 5/20\n",
            "188/188 [==============================] - 1s 4ms/step - loss: 0.4731 - accuracy: 0.8367 - val_loss: 0.4787 - val_accuracy: 0.8291\n",
            "Epoch 6/20\n",
            "188/188 [==============================] - 1s 4ms/step - loss: 0.4583 - accuracy: 0.8419 - val_loss: 0.4613 - val_accuracy: 0.8349\n",
            "Epoch 7/20\n",
            "188/188 [==============================] - 1s 4ms/step - loss: 0.4475 - accuracy: 0.8437 - val_loss: 0.4625 - val_accuracy: 0.8341\n",
            "Epoch 8/20\n",
            "188/188 [==============================] - 1s 4ms/step - loss: 0.4382 - accuracy: 0.8478 - val_loss: 0.4499 - val_accuracy: 0.8411\n",
            "Epoch 9/20\n",
            "188/188 [==============================] - 1s 4ms/step - loss: 0.4323 - accuracy: 0.8487 - val_loss: 0.4515 - val_accuracy: 0.8389\n",
            "Epoch 10/20\n",
            "188/188 [==============================] - 1s 4ms/step - loss: 0.4247 - accuracy: 0.8524 - val_loss: 0.4349 - val_accuracy: 0.8469\n",
            "Epoch 11/20\n",
            "188/188 [==============================] - 1s 4ms/step - loss: 0.4188 - accuracy: 0.8538 - val_loss: 0.4558 - val_accuracy: 0.8395\n",
            "Epoch 12/20\n",
            "188/188 [==============================] - 1s 4ms/step - loss: 0.4143 - accuracy: 0.8558 - val_loss: 0.4312 - val_accuracy: 0.8474\n",
            "Epoch 13/20\n",
            "188/188 [==============================] - 1s 4ms/step - loss: 0.4094 - accuracy: 0.8571 - val_loss: 0.4264 - val_accuracy: 0.8478\n",
            "Epoch 14/20\n",
            "188/188 [==============================] - 1s 4ms/step - loss: 0.4057 - accuracy: 0.8588 - val_loss: 0.4277 - val_accuracy: 0.8490\n",
            "Epoch 15/20\n",
            "188/188 [==============================] - 1s 4ms/step - loss: 0.4021 - accuracy: 0.8603 - val_loss: 0.4236 - val_accuracy: 0.8503\n",
            "Epoch 16/20\n",
            "188/188 [==============================] - 1s 4ms/step - loss: 0.3989 - accuracy: 0.8603 - val_loss: 0.4157 - val_accuracy: 0.8518\n",
            "Epoch 17/20\n",
            "188/188 [==============================] - 1s 4ms/step - loss: 0.3957 - accuracy: 0.8612 - val_loss: 0.4454 - val_accuracy: 0.8385\n",
            "Epoch 18/20\n",
            "188/188 [==============================] - 1s 4ms/step - loss: 0.3927 - accuracy: 0.8625 - val_loss: 0.4068 - val_accuracy: 0.8543\n",
            "Epoch 19/20\n",
            "188/188 [==============================] - 1s 4ms/step - loss: 0.3894 - accuracy: 0.8639 - val_loss: 0.4163 - val_accuracy: 0.8517\n",
            "Epoch 20/20\n",
            "188/188 [==============================] - 1s 4ms/step - loss: 0.3862 - accuracy: 0.8654 - val_loss: 0.4068 - val_accuracy: 0.8537\n"
          ],
          "name": "stdout"
        },
        {
          "output_type": "display_data",
          "data": {
            "text/html": [
              "<span style=\"color:#4527A0\"><h1 style=\"font-size:18px\">Trial complete</h1></span>"
            ],
            "text/plain": [
              "<IPython.core.display.HTML object>"
            ]
          },
          "metadata": {
            "tags": []
          }
        },
        {
          "output_type": "display_data",
          "data": {
            "text/html": [
              "<span style=\"color:#4527A0\"><h1 style=\"font-size:18px\">Trial summary</h1></span>"
            ],
            "text/plain": [
              "<IPython.core.display.HTML object>"
            ]
          },
          "metadata": {
            "tags": []
          }
        },
        {
          "output_type": "display_data",
          "data": {
            "text/html": [
              "<span style=\"color:cyan\"> |-Trial ID: 025073b51ba8125a50ed75f9a450635b</span>"
            ],
            "text/plain": [
              "<IPython.core.display.HTML object>"
            ]
          },
          "metadata": {
            "tags": []
          }
        },
        {
          "output_type": "display_data",
          "data": {
            "text/html": [
              "<span style=\"color:cyan\"> |-Score: 0.8542500138282776</span>"
            ],
            "text/plain": [
              "<IPython.core.display.HTML object>"
            ]
          },
          "metadata": {
            "tags": []
          }
        },
        {
          "output_type": "display_data",
          "data": {
            "text/html": [
              "<span style=\"color:cyan\"> |-Best step: 0</span>"
            ],
            "text/plain": [
              "<IPython.core.display.HTML object>"
            ]
          },
          "metadata": {
            "tags": []
          }
        },
        {
          "output_type": "display_data",
          "data": {
            "text/html": [
              "<span style=\"color:#7E57C2\"><h2 style=\"font-size:16px\">Hyperparameters:</h2></span>"
            ],
            "text/plain": [
              "<IPython.core.display.HTML object>"
            ]
          },
          "metadata": {
            "tags": []
          }
        },
        {
          "output_type": "display_data",
          "data": {
            "text/html": [
              "<span style=\"color:cyan\"> |-activation: selu</span>"
            ],
            "text/plain": [
              "<IPython.core.display.HTML object>"
            ]
          },
          "metadata": {
            "tags": []
          }
        },
        {
          "output_type": "display_data",
          "data": {
            "text/html": [
              "<span style=\"color:blue\"> |-optimizer: SGD</span>"
            ],
            "text/plain": [
              "<IPython.core.display.HTML object>"
            ]
          },
          "metadata": {
            "tags": []
          }
        },
        {
          "output_type": "display_data",
          "data": {
            "text/html": [
              "<span style=\"color:cyan\"> |-units_hidden: 352</span>"
            ],
            "text/plain": [
              "<IPython.core.display.HTML object>"
            ]
          },
          "metadata": {
            "tags": []
          }
        },
        {
          "output_type": "display_data",
          "data": {
            "text/html": [
              "<span style=\"color:blue\"> |-units_input: 512</span>"
            ],
            "text/plain": [
              "<IPython.core.display.HTML object>"
            ]
          },
          "metadata": {
            "tags": []
          }
        },
        {
          "output_type": "stream",
          "text": [
            "Epoch 1/20\n",
            "188/188 [==============================] - 1s 5ms/step - loss: 0.7603 - accuracy: 0.7438 - val_loss: 0.5899 - val_accuracy: 0.7958\n",
            "Epoch 2/20\n",
            "188/188 [==============================] - 1s 4ms/step - loss: 0.4853 - accuracy: 0.8191 - val_loss: 0.4925 - val_accuracy: 0.8198\n",
            "Epoch 3/20\n",
            "188/188 [==============================] - 1s 4ms/step - loss: 0.4192 - accuracy: 0.8432 - val_loss: 0.4526 - val_accuracy: 0.8342\n",
            "Epoch 4/20\n",
            "188/188 [==============================] - 1s 4ms/step - loss: 0.3740 - accuracy: 0.8603 - val_loss: 0.5353 - val_accuracy: 0.8021\n",
            "Epoch 5/20\n",
            "188/188 [==============================] - 1s 4ms/step - loss: 0.3442 - accuracy: 0.8716 - val_loss: 0.4314 - val_accuracy: 0.8418\n",
            "Epoch 6/20\n",
            "188/188 [==============================] - 1s 5ms/step - loss: 0.3231 - accuracy: 0.8780 - val_loss: 0.3566 - val_accuracy: 0.8687\n",
            "Epoch 7/20\n",
            "188/188 [==============================] - 1s 5ms/step - loss: 0.3035 - accuracy: 0.8856 - val_loss: 0.3992 - val_accuracy: 0.8660\n",
            "Epoch 8/20\n",
            "188/188 [==============================] - 1s 5ms/step - loss: 0.2901 - accuracy: 0.8899 - val_loss: 0.3825 - val_accuracy: 0.8618\n",
            "Epoch 9/20\n",
            "188/188 [==============================] - 1s 5ms/step - loss: 0.2763 - accuracy: 0.8944 - val_loss: 0.3657 - val_accuracy: 0.8712\n",
            "Epoch 10/20\n",
            "188/188 [==============================] - 1s 5ms/step - loss: 0.2634 - accuracy: 0.8998 - val_loss: 0.3429 - val_accuracy: 0.8700\n",
            "Epoch 11/20\n",
            "188/188 [==============================] - 1s 5ms/step - loss: 0.2507 - accuracy: 0.9042 - val_loss: 0.3444 - val_accuracy: 0.8822\n",
            "Epoch 12/20\n",
            "188/188 [==============================] - 1s 5ms/step - loss: 0.2404 - accuracy: 0.9073 - val_loss: 0.4016 - val_accuracy: 0.8591\n",
            "Epoch 13/20\n",
            "188/188 [==============================] - 1s 5ms/step - loss: 0.2326 - accuracy: 0.9119 - val_loss: 0.3429 - val_accuracy: 0.8814\n",
            "Epoch 14/20\n",
            "188/188 [==============================] - 1s 5ms/step - loss: 0.2206 - accuracy: 0.9151 - val_loss: 0.4198 - val_accuracy: 0.8633\n",
            "Epoch 15/20\n",
            "188/188 [==============================] - 1s 5ms/step - loss: 0.2139 - accuracy: 0.9180 - val_loss: 0.4584 - val_accuracy: 0.8421\n",
            "Epoch 16/20\n",
            "188/188 [==============================] - 1s 5ms/step - loss: 0.2076 - accuracy: 0.9207 - val_loss: 0.3851 - val_accuracy: 0.8758\n",
            "Epoch 17/20\n",
            "188/188 [==============================] - 1s 5ms/step - loss: 0.1993 - accuracy: 0.9234 - val_loss: 0.3953 - val_accuracy: 0.8723\n",
            "Epoch 18/20\n",
            "188/188 [==============================] - 1s 4ms/step - loss: 0.1926 - accuracy: 0.9263 - val_loss: 0.3850 - val_accuracy: 0.8807\n",
            "Epoch 19/20\n",
            "188/188 [==============================] - 1s 4ms/step - loss: 0.1859 - accuracy: 0.9280 - val_loss: 0.4063 - val_accuracy: 0.8681\n",
            "Epoch 20/20\n",
            "188/188 [==============================] - 1s 4ms/step - loss: 0.1789 - accuracy: 0.9322 - val_loss: 0.4145 - val_accuracy: 0.8722\n"
          ],
          "name": "stdout"
        },
        {
          "output_type": "display_data",
          "data": {
            "text/html": [
              "<span style=\"color:#4527A0\"><h1 style=\"font-size:18px\">Trial complete</h1></span>"
            ],
            "text/plain": [
              "<IPython.core.display.HTML object>"
            ]
          },
          "metadata": {
            "tags": []
          }
        },
        {
          "output_type": "display_data",
          "data": {
            "text/html": [
              "<span style=\"color:#4527A0\"><h1 style=\"font-size:18px\">Trial summary</h1></span>"
            ],
            "text/plain": [
              "<IPython.core.display.HTML object>"
            ]
          },
          "metadata": {
            "tags": []
          }
        },
        {
          "output_type": "display_data",
          "data": {
            "text/html": [
              "<span style=\"color:cyan\"> |-Trial ID: 1c1971cfa503646fcedea2730d860d65</span>"
            ],
            "text/plain": [
              "<IPython.core.display.HTML object>"
            ]
          },
          "metadata": {
            "tags": []
          }
        },
        {
          "output_type": "display_data",
          "data": {
            "text/html": [
              "<span style=\"color:cyan\"> |-Score: 0.8821666836738586</span>"
            ],
            "text/plain": [
              "<IPython.core.display.HTML object>"
            ]
          },
          "metadata": {
            "tags": []
          }
        },
        {
          "output_type": "display_data",
          "data": {
            "text/html": [
              "<span style=\"color:cyan\"> |-Best step: 0</span>"
            ],
            "text/plain": [
              "<IPython.core.display.HTML object>"
            ]
          },
          "metadata": {
            "tags": []
          }
        },
        {
          "output_type": "display_data",
          "data": {
            "text/html": [
              "<span style=\"color:#7E57C2\"><h2 style=\"font-size:16px\">Hyperparameters:</h2></span>"
            ],
            "text/plain": [
              "<IPython.core.display.HTML object>"
            ]
          },
          "metadata": {
            "tags": []
          }
        },
        {
          "output_type": "display_data",
          "data": {
            "text/html": [
              "<span style=\"color:cyan\"> |-activation: elu</span>"
            ],
            "text/plain": [
              "<IPython.core.display.HTML object>"
            ]
          },
          "metadata": {
            "tags": []
          }
        },
        {
          "output_type": "display_data",
          "data": {
            "text/html": [
              "<span style=\"color:blue\"> |-optimizer: rmsprop</span>"
            ],
            "text/plain": [
              "<IPython.core.display.HTML object>"
            ]
          },
          "metadata": {
            "tags": []
          }
        },
        {
          "output_type": "display_data",
          "data": {
            "text/html": [
              "<span style=\"color:cyan\"> |-units_hidden: 320</span>"
            ],
            "text/plain": [
              "<IPython.core.display.HTML object>"
            ]
          },
          "metadata": {
            "tags": []
          }
        },
        {
          "output_type": "display_data",
          "data": {
            "text/html": [
              "<span style=\"color:blue\"> |-units_input: 576</span>"
            ],
            "text/plain": [
              "<IPython.core.display.HTML object>"
            ]
          },
          "metadata": {
            "tags": []
          }
        },
        {
          "output_type": "stream",
          "text": [
            "Epoch 1/20\n",
            "188/188 [==============================] - 1s 5ms/step - loss: 0.7947 - accuracy: 0.7350 - val_loss: 0.5524 - val_accuracy: 0.8057\n",
            "Epoch 2/20\n",
            "188/188 [==============================] - 1s 5ms/step - loss: 0.4944 - accuracy: 0.8154 - val_loss: 0.4836 - val_accuracy: 0.8125\n",
            "Epoch 3/20\n",
            "188/188 [==============================] - 1s 4ms/step - loss: 0.4193 - accuracy: 0.8428 - val_loss: 0.4121 - val_accuracy: 0.8547\n",
            "Epoch 4/20\n",
            "188/188 [==============================] - 1s 4ms/step - loss: 0.3737 - accuracy: 0.8600 - val_loss: 0.4164 - val_accuracy: 0.8457\n",
            "Epoch 5/20\n",
            "188/188 [==============================] - 1s 4ms/step - loss: 0.3441 - accuracy: 0.8699 - val_loss: 0.3445 - val_accuracy: 0.8795\n",
            "Epoch 6/20\n",
            "188/188 [==============================] - 1s 4ms/step - loss: 0.3240 - accuracy: 0.8765 - val_loss: 0.4325 - val_accuracy: 0.8459\n",
            "Epoch 7/20\n",
            "188/188 [==============================] - 1s 4ms/step - loss: 0.3023 - accuracy: 0.8848 - val_loss: 0.4592 - val_accuracy: 0.8287\n",
            "Epoch 8/20\n",
            "188/188 [==============================] - 1s 5ms/step - loss: 0.2893 - accuracy: 0.8898 - val_loss: 0.3842 - val_accuracy: 0.8668\n",
            "Epoch 9/20\n",
            "188/188 [==============================] - 1s 4ms/step - loss: 0.2738 - accuracy: 0.8941 - val_loss: 0.4077 - val_accuracy: 0.8513\n",
            "Epoch 10/20\n",
            "188/188 [==============================] - 1s 4ms/step - loss: 0.2615 - accuracy: 0.8998 - val_loss: 0.3368 - val_accuracy: 0.8798\n",
            "Epoch 11/20\n",
            "188/188 [==============================] - 1s 5ms/step - loss: 0.2511 - accuracy: 0.9037 - val_loss: 0.3794 - val_accuracy: 0.8744\n",
            "Epoch 12/20\n",
            "188/188 [==============================] - 1s 4ms/step - loss: 0.2407 - accuracy: 0.9058 - val_loss: 0.3815 - val_accuracy: 0.8730\n",
            "Epoch 13/20\n",
            "188/188 [==============================] - 1s 4ms/step - loss: 0.2311 - accuracy: 0.9127 - val_loss: 0.3542 - val_accuracy: 0.8763\n",
            "Epoch 14/20\n",
            "188/188 [==============================] - 1s 5ms/step - loss: 0.2201 - accuracy: 0.9158 - val_loss: 0.3759 - val_accuracy: 0.8765\n",
            "Epoch 15/20\n",
            "188/188 [==============================] - 1s 4ms/step - loss: 0.2150 - accuracy: 0.9172 - val_loss: 0.3558 - val_accuracy: 0.8816\n",
            "Epoch 16/20\n",
            "188/188 [==============================] - 1s 4ms/step - loss: 0.2054 - accuracy: 0.9206 - val_loss: 0.3379 - val_accuracy: 0.8902\n",
            "Epoch 17/20\n",
            "188/188 [==============================] - 1s 4ms/step - loss: 0.1998 - accuracy: 0.9231 - val_loss: 0.3610 - val_accuracy: 0.8827\n",
            "Epoch 18/20\n",
            "188/188 [==============================] - 1s 4ms/step - loss: 0.1919 - accuracy: 0.9265 - val_loss: 0.3823 - val_accuracy: 0.8819\n",
            "Epoch 19/20\n",
            "188/188 [==============================] - 1s 5ms/step - loss: 0.1874 - accuracy: 0.9285 - val_loss: 0.3902 - val_accuracy: 0.8830\n",
            "Epoch 20/20\n",
            "188/188 [==============================] - 1s 5ms/step - loss: 0.1778 - accuracy: 0.9312 - val_loss: 0.4204 - val_accuracy: 0.8583\n"
          ],
          "name": "stdout"
        },
        {
          "output_type": "display_data",
          "data": {
            "text/html": [
              "<span style=\"color:#4527A0\"><h1 style=\"font-size:18px\">Trial complete</h1></span>"
            ],
            "text/plain": [
              "<IPython.core.display.HTML object>"
            ]
          },
          "metadata": {
            "tags": []
          }
        },
        {
          "output_type": "display_data",
          "data": {
            "text/html": [
              "<span style=\"color:#4527A0\"><h1 style=\"font-size:18px\">Trial summary</h1></span>"
            ],
            "text/plain": [
              "<IPython.core.display.HTML object>"
            ]
          },
          "metadata": {
            "tags": []
          }
        },
        {
          "output_type": "display_data",
          "data": {
            "text/html": [
              "<span style=\"color:cyan\"> |-Trial ID: 219badb8f3cf71c03ada244c90edce64</span>"
            ],
            "text/plain": [
              "<IPython.core.display.HTML object>"
            ]
          },
          "metadata": {
            "tags": []
          }
        },
        {
          "output_type": "display_data",
          "data": {
            "text/html": [
              "<span style=\"color:cyan\"> |-Score: 0.8901666402816772</span>"
            ],
            "text/plain": [
              "<IPython.core.display.HTML object>"
            ]
          },
          "metadata": {
            "tags": []
          }
        },
        {
          "output_type": "display_data",
          "data": {
            "text/html": [
              "<span style=\"color:cyan\"> |-Best step: 0</span>"
            ],
            "text/plain": [
              "<IPython.core.display.HTML object>"
            ]
          },
          "metadata": {
            "tags": []
          }
        },
        {
          "output_type": "display_data",
          "data": {
            "text/html": [
              "<span style=\"color:#7E57C2\"><h2 style=\"font-size:16px\">Hyperparameters:</h2></span>"
            ],
            "text/plain": [
              "<IPython.core.display.HTML object>"
            ]
          },
          "metadata": {
            "tags": []
          }
        },
        {
          "output_type": "display_data",
          "data": {
            "text/html": [
              "<span style=\"color:cyan\"> |-activation: elu</span>"
            ],
            "text/plain": [
              "<IPython.core.display.HTML object>"
            ]
          },
          "metadata": {
            "tags": []
          }
        },
        {
          "output_type": "display_data",
          "data": {
            "text/html": [
              "<span style=\"color:blue\"> |-optimizer: rmsprop</span>"
            ],
            "text/plain": [
              "<IPython.core.display.HTML object>"
            ]
          },
          "metadata": {
            "tags": []
          }
        },
        {
          "output_type": "display_data",
          "data": {
            "text/html": [
              "<span style=\"color:cyan\"> |-units_hidden: 320</span>"
            ],
            "text/plain": [
              "<IPython.core.display.HTML object>"
            ]
          },
          "metadata": {
            "tags": []
          }
        },
        {
          "output_type": "display_data",
          "data": {
            "text/html": [
              "<span style=\"color:blue\"> |-units_input: 672</span>"
            ],
            "text/plain": [
              "<IPython.core.display.HTML object>"
            ]
          },
          "metadata": {
            "tags": []
          }
        },
        {
          "output_type": "stream",
          "text": [
            "Epoch 1/20\n",
            "188/188 [==============================] - 1s 5ms/step - loss: 0.5319 - accuracy: 0.8125 - val_loss: 0.4179 - val_accuracy: 0.8508\n",
            "Epoch 2/20\n",
            "188/188 [==============================] - 1s 4ms/step - loss: 0.3718 - accuracy: 0.8663 - val_loss: 0.4049 - val_accuracy: 0.8497\n",
            "Epoch 3/20\n",
            "188/188 [==============================] - 1s 4ms/step - loss: 0.3311 - accuracy: 0.8783 - val_loss: 0.3510 - val_accuracy: 0.8737\n",
            "Epoch 4/20\n",
            "188/188 [==============================] - 1s 4ms/step - loss: 0.3049 - accuracy: 0.8869 - val_loss: 0.3222 - val_accuracy: 0.8840\n",
            "Epoch 5/20\n",
            "188/188 [==============================] - 1s 4ms/step - loss: 0.2781 - accuracy: 0.8971 - val_loss: 0.3212 - val_accuracy: 0.8827\n",
            "Epoch 6/20\n",
            "188/188 [==============================] - 1s 4ms/step - loss: 0.2660 - accuracy: 0.9018 - val_loss: 0.3133 - val_accuracy: 0.8884\n",
            "Epoch 7/20\n",
            "188/188 [==============================] - 1s 4ms/step - loss: 0.2527 - accuracy: 0.9062 - val_loss: 0.3095 - val_accuracy: 0.8879\n",
            "Epoch 8/20\n",
            "188/188 [==============================] - 1s 4ms/step - loss: 0.2378 - accuracy: 0.9107 - val_loss: 0.3028 - val_accuracy: 0.8917\n",
            "Epoch 9/20\n",
            "188/188 [==============================] - 1s 4ms/step - loss: 0.2321 - accuracy: 0.9121 - val_loss: 0.3148 - val_accuracy: 0.8887\n",
            "Epoch 10/20\n",
            "188/188 [==============================] - 1s 4ms/step - loss: 0.2152 - accuracy: 0.9195 - val_loss: 0.2979 - val_accuracy: 0.8920\n",
            "Epoch 11/20\n",
            "188/188 [==============================] - 1s 4ms/step - loss: 0.2043 - accuracy: 0.9234 - val_loss: 0.3119 - val_accuracy: 0.8885\n",
            "Epoch 12/20\n",
            "188/188 [==============================] - 1s 4ms/step - loss: 0.2017 - accuracy: 0.9236 - val_loss: 0.3395 - val_accuracy: 0.8866\n",
            "Epoch 13/20\n",
            "188/188 [==============================] - 1s 5ms/step - loss: 0.1904 - accuracy: 0.9284 - val_loss: 0.3270 - val_accuracy: 0.8951\n",
            "Epoch 14/20\n",
            "188/188 [==============================] - 1s 4ms/step - loss: 0.1833 - accuracy: 0.9306 - val_loss: 0.3601 - val_accuracy: 0.8835\n",
            "Epoch 15/20\n",
            "188/188 [==============================] - 1s 4ms/step - loss: 0.1789 - accuracy: 0.9337 - val_loss: 0.3351 - val_accuracy: 0.8878\n",
            "Epoch 16/20\n",
            "188/188 [==============================] - 1s 4ms/step - loss: 0.1735 - accuracy: 0.9340 - val_loss: 0.3144 - val_accuracy: 0.8978\n",
            "Epoch 17/20\n",
            "188/188 [==============================] - 1s 4ms/step - loss: 0.1604 - accuracy: 0.9392 - val_loss: 0.3283 - val_accuracy: 0.8964\n",
            "Epoch 18/20\n",
            "188/188 [==============================] - 1s 4ms/step - loss: 0.1576 - accuracy: 0.9406 - val_loss: 0.3417 - val_accuracy: 0.8923\n",
            "Epoch 19/20\n",
            "188/188 [==============================] - 1s 5ms/step - loss: 0.1538 - accuracy: 0.9425 - val_loss: 0.3234 - val_accuracy: 0.8990\n",
            "Epoch 20/20\n",
            "188/188 [==============================] - 1s 5ms/step - loss: 0.1460 - accuracy: 0.9443 - val_loss: 0.3399 - val_accuracy: 0.8944\n"
          ],
          "name": "stdout"
        },
        {
          "output_type": "display_data",
          "data": {
            "text/html": [
              "<span style=\"color:#4527A0\"><h1 style=\"font-size:18px\">Trial complete</h1></span>"
            ],
            "text/plain": [
              "<IPython.core.display.HTML object>"
            ]
          },
          "metadata": {
            "tags": []
          }
        },
        {
          "output_type": "display_data",
          "data": {
            "text/html": [
              "<span style=\"color:#4527A0\"><h1 style=\"font-size:18px\">Trial summary</h1></span>"
            ],
            "text/plain": [
              "<IPython.core.display.HTML object>"
            ]
          },
          "metadata": {
            "tags": []
          }
        },
        {
          "output_type": "display_data",
          "data": {
            "text/html": [
              "<span style=\"color:cyan\"> |-Trial ID: d764e159ff511ee3a06c2e5d17aeb9c6</span>"
            ],
            "text/plain": [
              "<IPython.core.display.HTML object>"
            ]
          },
          "metadata": {
            "tags": []
          }
        },
        {
          "output_type": "display_data",
          "data": {
            "text/html": [
              "<span style=\"color:cyan\"> |-Score: 0.8989999890327454</span>"
            ],
            "text/plain": [
              "<IPython.core.display.HTML object>"
            ]
          },
          "metadata": {
            "tags": []
          }
        },
        {
          "output_type": "display_data",
          "data": {
            "text/html": [
              "<span style=\"color:cyan\"> |-Best step: 0</span>"
            ],
            "text/plain": [
              "<IPython.core.display.HTML object>"
            ]
          },
          "metadata": {
            "tags": []
          }
        },
        {
          "output_type": "display_data",
          "data": {
            "text/html": [
              "<span style=\"color:#7E57C2\"><h2 style=\"font-size:16px\">Hyperparameters:</h2></span>"
            ],
            "text/plain": [
              "<IPython.core.display.HTML object>"
            ]
          },
          "metadata": {
            "tags": []
          }
        },
        {
          "output_type": "display_data",
          "data": {
            "text/html": [
              "<span style=\"color:cyan\"> |-activation: relu</span>"
            ],
            "text/plain": [
              "<IPython.core.display.HTML object>"
            ]
          },
          "metadata": {
            "tags": []
          }
        },
        {
          "output_type": "display_data",
          "data": {
            "text/html": [
              "<span style=\"color:blue\"> |-optimizer: adam</span>"
            ],
            "text/plain": [
              "<IPython.core.display.HTML object>"
            ]
          },
          "metadata": {
            "tags": []
          }
        },
        {
          "output_type": "display_data",
          "data": {
            "text/html": [
              "<span style=\"color:cyan\"> |-units_hidden: 320</span>"
            ],
            "text/plain": [
              "<IPython.core.display.HTML object>"
            ]
          },
          "metadata": {
            "tags": []
          }
        },
        {
          "output_type": "display_data",
          "data": {
            "text/html": [
              "<span style=\"color:blue\"> |-units_input: 704</span>"
            ],
            "text/plain": [
              "<IPython.core.display.HTML object>"
            ]
          },
          "metadata": {
            "tags": []
          }
        },
        {
          "output_type": "stream",
          "text": [
            "Epoch 1/20\n",
            "188/188 [==============================] - 1s 5ms/step - loss: 0.6915 - accuracy: 0.7486 - val_loss: 0.5601 - val_accuracy: 0.7883\n",
            "Epoch 2/20\n",
            "188/188 [==============================] - 1s 4ms/step - loss: 0.4483 - accuracy: 0.8312 - val_loss: 0.4292 - val_accuracy: 0.8404\n",
            "Epoch 3/20\n",
            "188/188 [==============================] - 1s 4ms/step - loss: 0.3909 - accuracy: 0.8553 - val_loss: 0.4187 - val_accuracy: 0.8418\n",
            "Epoch 4/20\n",
            "188/188 [==============================] - 1s 5ms/step - loss: 0.3572 - accuracy: 0.8651 - val_loss: 0.4079 - val_accuracy: 0.8508\n",
            "Epoch 5/20\n",
            "188/188 [==============================] - 1s 4ms/step - loss: 0.3325 - accuracy: 0.8750 - val_loss: 0.3531 - val_accuracy: 0.8709\n",
            "Epoch 6/20\n",
            "188/188 [==============================] - 1s 4ms/step - loss: 0.3137 - accuracy: 0.8820 - val_loss: 0.3649 - val_accuracy: 0.8662\n",
            "Epoch 7/20\n",
            "188/188 [==============================] - 1s 4ms/step - loss: 0.2973 - accuracy: 0.8881 - val_loss: 0.3531 - val_accuracy: 0.8717\n",
            "Epoch 8/20\n",
            "188/188 [==============================] - 1s 4ms/step - loss: 0.2833 - accuracy: 0.8938 - val_loss: 0.3645 - val_accuracy: 0.8610\n",
            "Epoch 9/20\n",
            "188/188 [==============================] - 1s 5ms/step - loss: 0.2728 - accuracy: 0.8987 - val_loss: 0.3454 - val_accuracy: 0.8761\n",
            "Epoch 10/20\n",
            "188/188 [==============================] - 1s 5ms/step - loss: 0.2601 - accuracy: 0.9014 - val_loss: 0.3640 - val_accuracy: 0.8703\n",
            "Epoch 11/20\n",
            "188/188 [==============================] - 1s 4ms/step - loss: 0.2526 - accuracy: 0.9050 - val_loss: 0.3640 - val_accuracy: 0.8677\n",
            "Epoch 12/20\n",
            "188/188 [==============================] - 1s 4ms/step - loss: 0.2437 - accuracy: 0.9069 - val_loss: 0.3157 - val_accuracy: 0.8819\n",
            "Epoch 13/20\n",
            "188/188 [==============================] - 1s 4ms/step - loss: 0.2360 - accuracy: 0.9112 - val_loss: 0.3361 - val_accuracy: 0.8784\n",
            "Epoch 14/20\n",
            "188/188 [==============================] - 1s 4ms/step - loss: 0.2263 - accuracy: 0.9144 - val_loss: 0.3332 - val_accuracy: 0.8786\n",
            "Epoch 15/20\n",
            "188/188 [==============================] - 1s 4ms/step - loss: 0.2189 - accuracy: 0.9175 - val_loss: 0.3233 - val_accuracy: 0.8802\n",
            "Epoch 16/20\n",
            "188/188 [==============================] - 1s 4ms/step - loss: 0.2133 - accuracy: 0.9198 - val_loss: 0.3355 - val_accuracy: 0.8774\n",
            "Epoch 17/20\n",
            "188/188 [==============================] - 1s 4ms/step - loss: 0.2057 - accuracy: 0.9228 - val_loss: 0.2975 - val_accuracy: 0.8905\n",
            "Epoch 18/20\n",
            "188/188 [==============================] - 1s 4ms/step - loss: 0.1986 - accuracy: 0.9243 - val_loss: 0.3159 - val_accuracy: 0.8874\n",
            "Epoch 19/20\n",
            "188/188 [==============================] - 1s 5ms/step - loss: 0.1926 - accuracy: 0.9273 - val_loss: 0.3377 - val_accuracy: 0.8809\n",
            "Epoch 20/20\n",
            "188/188 [==============================] - 1s 5ms/step - loss: 0.1871 - accuracy: 0.9298 - val_loss: 0.3117 - val_accuracy: 0.8926\n"
          ],
          "name": "stdout"
        },
        {
          "output_type": "display_data",
          "data": {
            "text/html": [
              "<span style=\"color:#4527A0\"><h1 style=\"font-size:18px\">Trial complete</h1></span>"
            ],
            "text/plain": [
              "<IPython.core.display.HTML object>"
            ]
          },
          "metadata": {
            "tags": []
          }
        },
        {
          "output_type": "display_data",
          "data": {
            "text/html": [
              "<span style=\"color:#4527A0\"><h1 style=\"font-size:18px\">Trial summary</h1></span>"
            ],
            "text/plain": [
              "<IPython.core.display.HTML object>"
            ]
          },
          "metadata": {
            "tags": []
          }
        },
        {
          "output_type": "display_data",
          "data": {
            "text/html": [
              "<span style=\"color:cyan\"> |-Trial ID: 72da9075349df491d49ef6f0e5be9c06</span>"
            ],
            "text/plain": [
              "<IPython.core.display.HTML object>"
            ]
          },
          "metadata": {
            "tags": []
          }
        },
        {
          "output_type": "display_data",
          "data": {
            "text/html": [
              "<span style=\"color:cyan\"> |-Score: 0.8925833106040955</span>"
            ],
            "text/plain": [
              "<IPython.core.display.HTML object>"
            ]
          },
          "metadata": {
            "tags": []
          }
        },
        {
          "output_type": "display_data",
          "data": {
            "text/html": [
              "<span style=\"color:cyan\"> |-Best step: 0</span>"
            ],
            "text/plain": [
              "<IPython.core.display.HTML object>"
            ]
          },
          "metadata": {
            "tags": []
          }
        },
        {
          "output_type": "display_data",
          "data": {
            "text/html": [
              "<span style=\"color:#7E57C2\"><h2 style=\"font-size:16px\">Hyperparameters:</h2></span>"
            ],
            "text/plain": [
              "<IPython.core.display.HTML object>"
            ]
          },
          "metadata": {
            "tags": []
          }
        },
        {
          "output_type": "display_data",
          "data": {
            "text/html": [
              "<span style=\"color:cyan\"> |-activation: tanh</span>"
            ],
            "text/plain": [
              "<IPython.core.display.HTML object>"
            ]
          },
          "metadata": {
            "tags": []
          }
        },
        {
          "output_type": "display_data",
          "data": {
            "text/html": [
              "<span style=\"color:blue\"> |-optimizer: rmsprop</span>"
            ],
            "text/plain": [
              "<IPython.core.display.HTML object>"
            ]
          },
          "metadata": {
            "tags": []
          }
        },
        {
          "output_type": "display_data",
          "data": {
            "text/html": [
              "<span style=\"color:cyan\"> |-units_hidden: 192</span>"
            ],
            "text/plain": [
              "<IPython.core.display.HTML object>"
            ]
          },
          "metadata": {
            "tags": []
          }
        },
        {
          "output_type": "display_data",
          "data": {
            "text/html": [
              "<span style=\"color:blue\"> |-units_input: 864</span>"
            ],
            "text/plain": [
              "<IPython.core.display.HTML object>"
            ]
          },
          "metadata": {
            "tags": []
          }
        },
        {
          "output_type": "stream",
          "text": [
            "Epoch 1/20\n",
            "188/188 [==============================] - 1s 5ms/step - loss: 0.5668 - accuracy: 0.7985 - val_loss: 0.4521 - val_accuracy: 0.8424\n",
            "Epoch 2/20\n",
            "188/188 [==============================] - 1s 4ms/step - loss: 0.4041 - accuracy: 0.8541 - val_loss: 0.4140 - val_accuracy: 0.8479\n",
            "Epoch 3/20\n",
            "188/188 [==============================] - 1s 4ms/step - loss: 0.3640 - accuracy: 0.8664 - val_loss: 0.3658 - val_accuracy: 0.8677\n",
            "Epoch 4/20\n",
            "188/188 [==============================] - 1s 4ms/step - loss: 0.3292 - accuracy: 0.8789 - val_loss: 0.3566 - val_accuracy: 0.8709\n",
            "Epoch 5/20\n",
            "188/188 [==============================] - 1s 4ms/step - loss: 0.3157 - accuracy: 0.8840 - val_loss: 0.3606 - val_accuracy: 0.8709\n",
            "Epoch 6/20\n",
            "188/188 [==============================] - 1s 4ms/step - loss: 0.2983 - accuracy: 0.8889 - val_loss: 0.3779 - val_accuracy: 0.8580\n",
            "Epoch 7/20\n",
            "188/188 [==============================] - 1s 4ms/step - loss: 0.2803 - accuracy: 0.8955 - val_loss: 0.3132 - val_accuracy: 0.8903\n",
            "Epoch 8/20\n",
            "188/188 [==============================] - 1s 4ms/step - loss: 0.2700 - accuracy: 0.8997 - val_loss: 0.3374 - val_accuracy: 0.8798\n",
            "Epoch 9/20\n",
            "188/188 [==============================] - 1s 4ms/step - loss: 0.2567 - accuracy: 0.9047 - val_loss: 0.3195 - val_accuracy: 0.8878\n",
            "Epoch 10/20\n",
            "188/188 [==============================] - 1s 4ms/step - loss: 0.2424 - accuracy: 0.9104 - val_loss: 0.3253 - val_accuracy: 0.8844\n",
            "Epoch 11/20\n",
            "188/188 [==============================] - 1s 4ms/step - loss: 0.2414 - accuracy: 0.9090 - val_loss: 0.3098 - val_accuracy: 0.8881\n",
            "Epoch 12/20\n",
            "188/188 [==============================] - 1s 4ms/step - loss: 0.2266 - accuracy: 0.9138 - val_loss: 0.3028 - val_accuracy: 0.8935\n",
            "Epoch 13/20\n",
            "188/188 [==============================] - 1s 4ms/step - loss: 0.2182 - accuracy: 0.9184 - val_loss: 0.3180 - val_accuracy: 0.8883\n",
            "Epoch 14/20\n",
            "188/188 [==============================] - 1s 4ms/step - loss: 0.2154 - accuracy: 0.9187 - val_loss: 0.3282 - val_accuracy: 0.8881\n",
            "Epoch 15/20\n",
            "188/188 [==============================] - 1s 4ms/step - loss: 0.2074 - accuracy: 0.9219 - val_loss: 0.3128 - val_accuracy: 0.8923\n",
            "Epoch 16/20\n",
            "188/188 [==============================] - 1s 4ms/step - loss: 0.1997 - accuracy: 0.9251 - val_loss: 0.3394 - val_accuracy: 0.8885\n",
            "Epoch 17/20\n",
            "188/188 [==============================] - 1s 4ms/step - loss: 0.1941 - accuracy: 0.9263 - val_loss: 0.3345 - val_accuracy: 0.8889\n",
            "Epoch 18/20\n",
            "188/188 [==============================] - 1s 4ms/step - loss: 0.1879 - accuracy: 0.9296 - val_loss: 0.3393 - val_accuracy: 0.8863\n",
            "Epoch 19/20\n",
            "188/188 [==============================] - 1s 4ms/step - loss: 0.1790 - accuracy: 0.9309 - val_loss: 0.3103 - val_accuracy: 0.8933\n",
            "Epoch 20/20\n",
            "188/188 [==============================] - 1s 4ms/step - loss: 0.1692 - accuracy: 0.9355 - val_loss: 0.3147 - val_accuracy: 0.8965\n"
          ],
          "name": "stdout"
        },
        {
          "output_type": "display_data",
          "data": {
            "text/html": [
              "<span style=\"color:#4527A0\"><h1 style=\"font-size:18px\">Trial complete</h1></span>"
            ],
            "text/plain": [
              "<IPython.core.display.HTML object>"
            ]
          },
          "metadata": {
            "tags": []
          }
        },
        {
          "output_type": "display_data",
          "data": {
            "text/html": [
              "<span style=\"color:#4527A0\"><h1 style=\"font-size:18px\">Trial summary</h1></span>"
            ],
            "text/plain": [
              "<IPython.core.display.HTML object>"
            ]
          },
          "metadata": {
            "tags": []
          }
        },
        {
          "output_type": "display_data",
          "data": {
            "text/html": [
              "<span style=\"color:cyan\"> |-Trial ID: 30667a429432db2c538455aaab10f853</span>"
            ],
            "text/plain": [
              "<IPython.core.display.HTML object>"
            ]
          },
          "metadata": {
            "tags": []
          }
        },
        {
          "output_type": "display_data",
          "data": {
            "text/html": [
              "<span style=\"color:cyan\"> |-Score: 0.8964999914169312</span>"
            ],
            "text/plain": [
              "<IPython.core.display.HTML object>"
            ]
          },
          "metadata": {
            "tags": []
          }
        },
        {
          "output_type": "display_data",
          "data": {
            "text/html": [
              "<span style=\"color:cyan\"> |-Best step: 0</span>"
            ],
            "text/plain": [
              "<IPython.core.display.HTML object>"
            ]
          },
          "metadata": {
            "tags": []
          }
        },
        {
          "output_type": "display_data",
          "data": {
            "text/html": [
              "<span style=\"color:#7E57C2\"><h2 style=\"font-size:16px\">Hyperparameters:</h2></span>"
            ],
            "text/plain": [
              "<IPython.core.display.HTML object>"
            ]
          },
          "metadata": {
            "tags": []
          }
        },
        {
          "output_type": "display_data",
          "data": {
            "text/html": [
              "<span style=\"color:cyan\"> |-activation: elu</span>"
            ],
            "text/plain": [
              "<IPython.core.display.HTML object>"
            ]
          },
          "metadata": {
            "tags": []
          }
        },
        {
          "output_type": "display_data",
          "data": {
            "text/html": [
              "<span style=\"color:blue\"> |-optimizer: adam</span>"
            ],
            "text/plain": [
              "<IPython.core.display.HTML object>"
            ]
          },
          "metadata": {
            "tags": []
          }
        },
        {
          "output_type": "display_data",
          "data": {
            "text/html": [
              "<span style=\"color:cyan\"> |-units_hidden: 192</span>"
            ],
            "text/plain": [
              "<IPython.core.display.HTML object>"
            ]
          },
          "metadata": {
            "tags": []
          }
        },
        {
          "output_type": "display_data",
          "data": {
            "text/html": [
              "<span style=\"color:blue\"> |-units_input: 832</span>"
            ],
            "text/plain": [
              "<IPython.core.display.HTML object>"
            ]
          },
          "metadata": {
            "tags": []
          }
        },
        {
          "output_type": "stream",
          "text": [
            "Epoch 1/20\n",
            "188/188 [==============================] - 1s 5ms/step - loss: 0.9433 - accuracy: 0.7218 - val_loss: 0.6730 - val_accuracy: 0.7675\n",
            "Epoch 2/20\n",
            "188/188 [==============================] - 1s 5ms/step - loss: 0.5085 - accuracy: 0.8102 - val_loss: 0.6217 - val_accuracy: 0.7788\n",
            "Epoch 3/20\n",
            "188/188 [==============================] - 1s 5ms/step - loss: 0.4304 - accuracy: 0.8398 - val_loss: 0.4104 - val_accuracy: 0.8496\n",
            "Epoch 4/20\n",
            "188/188 [==============================] - 1s 4ms/step - loss: 0.3846 - accuracy: 0.8567 - val_loss: 0.4681 - val_accuracy: 0.8190\n",
            "Epoch 5/20\n",
            "188/188 [==============================] - 1s 5ms/step - loss: 0.3573 - accuracy: 0.8646 - val_loss: 0.4064 - val_accuracy: 0.8512\n",
            "Epoch 6/20\n",
            "188/188 [==============================] - 1s 5ms/step - loss: 0.3331 - accuracy: 0.8731 - val_loss: 0.3376 - val_accuracy: 0.8773\n",
            "Epoch 7/20\n",
            "188/188 [==============================] - 1s 4ms/step - loss: 0.3165 - accuracy: 0.8803 - val_loss: 0.3601 - val_accuracy: 0.8708\n",
            "Epoch 8/20\n",
            "188/188 [==============================] - 1s 5ms/step - loss: 0.3000 - accuracy: 0.8848 - val_loss: 0.3404 - val_accuracy: 0.8775\n",
            "Epoch 9/20\n",
            "188/188 [==============================] - 1s 4ms/step - loss: 0.2871 - accuracy: 0.8912 - val_loss: 0.3599 - val_accuracy: 0.8714\n",
            "Epoch 10/20\n",
            "188/188 [==============================] - 1s 4ms/step - loss: 0.2760 - accuracy: 0.8938 - val_loss: 0.4244 - val_accuracy: 0.8459\n",
            "Epoch 11/20\n",
            "188/188 [==============================] - 1s 4ms/step - loss: 0.2663 - accuracy: 0.8979 - val_loss: 0.3394 - val_accuracy: 0.8824\n",
            "Epoch 12/20\n",
            "188/188 [==============================] - 1s 4ms/step - loss: 0.2584 - accuracy: 0.9009 - val_loss: 0.3943 - val_accuracy: 0.8633\n",
            "Epoch 13/20\n",
            "188/188 [==============================] - 1s 4ms/step - loss: 0.2492 - accuracy: 0.9044 - val_loss: 0.4631 - val_accuracy: 0.8393\n",
            "Epoch 14/20\n",
            "188/188 [==============================] - 1s 4ms/step - loss: 0.2383 - accuracy: 0.9077 - val_loss: 0.3839 - val_accuracy: 0.8781\n",
            "Epoch 15/20\n",
            "188/188 [==============================] - 1s 4ms/step - loss: 0.2338 - accuracy: 0.9107 - val_loss: 0.3984 - val_accuracy: 0.8708\n",
            "Epoch 16/20\n",
            "188/188 [==============================] - 1s 4ms/step - loss: 0.2273 - accuracy: 0.9111 - val_loss: 0.3689 - val_accuracy: 0.8777\n",
            "Epoch 17/20\n",
            "188/188 [==============================] - 1s 4ms/step - loss: 0.2203 - accuracy: 0.9164 - val_loss: 0.3952 - val_accuracy: 0.8735\n",
            "Epoch 18/20\n",
            "188/188 [==============================] - 1s 4ms/step - loss: 0.2153 - accuracy: 0.9169 - val_loss: 0.4408 - val_accuracy: 0.8569\n",
            "Epoch 19/20\n",
            "188/188 [==============================] - 1s 4ms/step - loss: 0.2087 - accuracy: 0.9202 - val_loss: 0.4221 - val_accuracy: 0.8677\n",
            "Epoch 20/20\n",
            "188/188 [==============================] - 1s 4ms/step - loss: 0.2032 - accuracy: 0.9215 - val_loss: 0.4346 - val_accuracy: 0.8620\n"
          ],
          "name": "stdout"
        },
        {
          "output_type": "display_data",
          "data": {
            "text/html": [
              "<span style=\"color:#4527A0\"><h1 style=\"font-size:18px\">Trial complete</h1></span>"
            ],
            "text/plain": [
              "<IPython.core.display.HTML object>"
            ]
          },
          "metadata": {
            "tags": []
          }
        },
        {
          "output_type": "display_data",
          "data": {
            "text/html": [
              "<span style=\"color:#4527A0\"><h1 style=\"font-size:18px\">Trial summary</h1></span>"
            ],
            "text/plain": [
              "<IPython.core.display.HTML object>"
            ]
          },
          "metadata": {
            "tags": []
          }
        },
        {
          "output_type": "display_data",
          "data": {
            "text/html": [
              "<span style=\"color:cyan\"> |-Trial ID: fc1bc85c13658966085f7c3536abf008</span>"
            ],
            "text/plain": [
              "<IPython.core.display.HTML object>"
            ]
          },
          "metadata": {
            "tags": []
          }
        },
        {
          "output_type": "display_data",
          "data": {
            "text/html": [
              "<span style=\"color:cyan\"> |-Score: 0.8824166655540466</span>"
            ],
            "text/plain": [
              "<IPython.core.display.HTML object>"
            ]
          },
          "metadata": {
            "tags": []
          }
        },
        {
          "output_type": "display_data",
          "data": {
            "text/html": [
              "<span style=\"color:cyan\"> |-Best step: 0</span>"
            ],
            "text/plain": [
              "<IPython.core.display.HTML object>"
            ]
          },
          "metadata": {
            "tags": []
          }
        },
        {
          "output_type": "display_data",
          "data": {
            "text/html": [
              "<span style=\"color:#7E57C2\"><h2 style=\"font-size:16px\">Hyperparameters:</h2></span>"
            ],
            "text/plain": [
              "<IPython.core.display.HTML object>"
            ]
          },
          "metadata": {
            "tags": []
          }
        },
        {
          "output_type": "display_data",
          "data": {
            "text/html": [
              "<span style=\"color:cyan\"> |-activation: selu</span>"
            ],
            "text/plain": [
              "<IPython.core.display.HTML object>"
            ]
          },
          "metadata": {
            "tags": []
          }
        },
        {
          "output_type": "display_data",
          "data": {
            "text/html": [
              "<span style=\"color:blue\"> |-optimizer: rmsprop</span>"
            ],
            "text/plain": [
              "<IPython.core.display.HTML object>"
            ]
          },
          "metadata": {
            "tags": []
          }
        },
        {
          "output_type": "display_data",
          "data": {
            "text/html": [
              "<span style=\"color:cyan\"> |-units_hidden: 192</span>"
            ],
            "text/plain": [
              "<IPython.core.display.HTML object>"
            ]
          },
          "metadata": {
            "tags": []
          }
        },
        {
          "output_type": "display_data",
          "data": {
            "text/html": [
              "<span style=\"color:blue\"> |-units_input: 768</span>"
            ],
            "text/plain": [
              "<IPython.core.display.HTML object>"
            ]
          },
          "metadata": {
            "tags": []
          }
        },
        {
          "output_type": "stream",
          "text": [
            "Epoch 1/20\n",
            "188/188 [==============================] - 1s 5ms/step - loss: 0.5414 - accuracy: 0.8072 - val_loss: 0.4453 - val_accuracy: 0.8336\n",
            "Epoch 2/20\n",
            "188/188 [==============================] - 1s 4ms/step - loss: 0.3984 - accuracy: 0.8548 - val_loss: 0.3761 - val_accuracy: 0.8648\n",
            "Epoch 3/20\n",
            "188/188 [==============================] - 1s 5ms/step - loss: 0.3549 - accuracy: 0.8694 - val_loss: 0.3731 - val_accuracy: 0.8637\n",
            "Epoch 4/20\n",
            "188/188 [==============================] - 1s 4ms/step - loss: 0.3266 - accuracy: 0.8799 - val_loss: 0.3628 - val_accuracy: 0.8685\n",
            "Epoch 5/20\n",
            "188/188 [==============================] - 1s 5ms/step - loss: 0.3074 - accuracy: 0.8867 - val_loss: 0.3457 - val_accuracy: 0.8757\n",
            "Epoch 6/20\n",
            "188/188 [==============================] - 1s 4ms/step - loss: 0.2860 - accuracy: 0.8935 - val_loss: 0.3284 - val_accuracy: 0.8824\n",
            "Epoch 7/20\n",
            "188/188 [==============================] - 1s 4ms/step - loss: 0.2728 - accuracy: 0.8984 - val_loss: 0.3186 - val_accuracy: 0.8821\n",
            "Epoch 8/20\n",
            "188/188 [==============================] - 1s 4ms/step - loss: 0.2585 - accuracy: 0.9035 - val_loss: 0.3132 - val_accuracy: 0.8860\n",
            "Epoch 9/20\n",
            "188/188 [==============================] - 1s 5ms/step - loss: 0.2407 - accuracy: 0.9094 - val_loss: 0.3150 - val_accuracy: 0.8865\n",
            "Epoch 10/20\n",
            "188/188 [==============================] - 1s 5ms/step - loss: 0.2333 - accuracy: 0.9125 - val_loss: 0.3084 - val_accuracy: 0.8873\n",
            "Epoch 11/20\n",
            "188/188 [==============================] - 1s 5ms/step - loss: 0.2199 - accuracy: 0.9186 - val_loss: 0.3052 - val_accuracy: 0.8910\n",
            "Epoch 12/20\n",
            "188/188 [==============================] - 1s 5ms/step - loss: 0.2096 - accuracy: 0.9215 - val_loss: 0.3149 - val_accuracy: 0.8900\n",
            "Epoch 13/20\n",
            "188/188 [==============================] - 1s 4ms/step - loss: 0.2076 - accuracy: 0.9218 - val_loss: 0.3275 - val_accuracy: 0.8819\n",
            "Epoch 14/20\n",
            "188/188 [==============================] - 1s 4ms/step - loss: 0.1985 - accuracy: 0.9255 - val_loss: 0.3033 - val_accuracy: 0.8942\n",
            "Epoch 15/20\n",
            "188/188 [==============================] - 1s 4ms/step - loss: 0.1846 - accuracy: 0.9304 - val_loss: 0.3142 - val_accuracy: 0.8920\n",
            "Epoch 16/20\n",
            "188/188 [==============================] - 1s 5ms/step - loss: 0.1789 - accuracy: 0.9343 - val_loss: 0.3073 - val_accuracy: 0.8946\n",
            "Epoch 17/20\n",
            "188/188 [==============================] - 1s 5ms/step - loss: 0.1770 - accuracy: 0.9327 - val_loss: 0.3124 - val_accuracy: 0.8922\n",
            "Epoch 18/20\n",
            "188/188 [==============================] - 1s 4ms/step - loss: 0.1593 - accuracy: 0.9412 - val_loss: 0.3127 - val_accuracy: 0.8949\n",
            "Epoch 19/20\n",
            "188/188 [==============================] - 1s 4ms/step - loss: 0.1496 - accuracy: 0.9458 - val_loss: 0.3061 - val_accuracy: 0.8921\n",
            "Epoch 20/20\n",
            "188/188 [==============================] - 1s 4ms/step - loss: 0.1445 - accuracy: 0.9469 - val_loss: 0.3115 - val_accuracy: 0.8960\n"
          ],
          "name": "stdout"
        },
        {
          "output_type": "display_data",
          "data": {
            "text/html": [
              "<span style=\"color:#4527A0\"><h1 style=\"font-size:18px\">Trial complete</h1></span>"
            ],
            "text/plain": [
              "<IPython.core.display.HTML object>"
            ]
          },
          "metadata": {
            "tags": []
          }
        },
        {
          "output_type": "display_data",
          "data": {
            "text/html": [
              "<span style=\"color:#4527A0\"><h1 style=\"font-size:18px\">Trial summary</h1></span>"
            ],
            "text/plain": [
              "<IPython.core.display.HTML object>"
            ]
          },
          "metadata": {
            "tags": []
          }
        },
        {
          "output_type": "display_data",
          "data": {
            "text/html": [
              "<span style=\"color:cyan\"> |-Trial ID: f3bd0c879bbfc72b514f25fecae7efda</span>"
            ],
            "text/plain": [
              "<IPython.core.display.HTML object>"
            ]
          },
          "metadata": {
            "tags": []
          }
        },
        {
          "output_type": "display_data",
          "data": {
            "text/html": [
              "<span style=\"color:cyan\"> |-Score: 0.8960000276565552</span>"
            ],
            "text/plain": [
              "<IPython.core.display.HTML object>"
            ]
          },
          "metadata": {
            "tags": []
          }
        },
        {
          "output_type": "display_data",
          "data": {
            "text/html": [
              "<span style=\"color:cyan\"> |-Best step: 0</span>"
            ],
            "text/plain": [
              "<IPython.core.display.HTML object>"
            ]
          },
          "metadata": {
            "tags": []
          }
        },
        {
          "output_type": "display_data",
          "data": {
            "text/html": [
              "<span style=\"color:#7E57C2\"><h2 style=\"font-size:16px\">Hyperparameters:</h2></span>"
            ],
            "text/plain": [
              "<IPython.core.display.HTML object>"
            ]
          },
          "metadata": {
            "tags": []
          }
        },
        {
          "output_type": "display_data",
          "data": {
            "text/html": [
              "<span style=\"color:cyan\"> |-activation: tanh</span>"
            ],
            "text/plain": [
              "<IPython.core.display.HTML object>"
            ]
          },
          "metadata": {
            "tags": []
          }
        },
        {
          "output_type": "display_data",
          "data": {
            "text/html": [
              "<span style=\"color:blue\"> |-optimizer: adam</span>"
            ],
            "text/plain": [
              "<IPython.core.display.HTML object>"
            ]
          },
          "metadata": {
            "tags": []
          }
        },
        {
          "output_type": "display_data",
          "data": {
            "text/html": [
              "<span style=\"color:cyan\"> |-units_hidden: 512</span>"
            ],
            "text/plain": [
              "<IPython.core.display.HTML object>"
            ]
          },
          "metadata": {
            "tags": []
          }
        },
        {
          "output_type": "display_data",
          "data": {
            "text/html": [
              "<span style=\"color:blue\"> |-units_input: 704</span>"
            ],
            "text/plain": [
              "<IPython.core.display.HTML object>"
            ]
          },
          "metadata": {
            "tags": []
          }
        },
        {
          "output_type": "stream",
          "text": [
            "Epoch 1/20\n",
            "188/188 [==============================] - 1s 5ms/step - loss: 1.3085 - accuracy: 0.6228 - val_loss: 0.8893 - val_accuracy: 0.7200\n",
            "Epoch 2/20\n",
            "188/188 [==============================] - 1s 4ms/step - loss: 0.7932 - accuracy: 0.7471 - val_loss: 0.7105 - val_accuracy: 0.7772\n",
            "Epoch 3/20\n",
            "188/188 [==============================] - 1s 4ms/step - loss: 0.6762 - accuracy: 0.7845 - val_loss: 0.6370 - val_accuracy: 0.7934\n",
            "Epoch 4/20\n",
            "188/188 [==============================] - 1s 4ms/step - loss: 0.6146 - accuracy: 0.8023 - val_loss: 0.5875 - val_accuracy: 0.8065\n",
            "Epoch 5/20\n",
            "188/188 [==============================] - 1s 4ms/step - loss: 0.5740 - accuracy: 0.8133 - val_loss: 0.5570 - val_accuracy: 0.8175\n",
            "Epoch 6/20\n",
            "188/188 [==============================] - 1s 4ms/step - loss: 0.5449 - accuracy: 0.8203 - val_loss: 0.5344 - val_accuracy: 0.8233\n",
            "Epoch 7/20\n",
            "188/188 [==============================] - 1s 4ms/step - loss: 0.5237 - accuracy: 0.8261 - val_loss: 0.5176 - val_accuracy: 0.8266\n",
            "Epoch 8/20\n",
            "188/188 [==============================] - 1s 4ms/step - loss: 0.5053 - accuracy: 0.8311 - val_loss: 0.5019 - val_accuracy: 0.8273\n",
            "Epoch 9/20\n",
            "188/188 [==============================] - 1s 4ms/step - loss: 0.4918 - accuracy: 0.8345 - val_loss: 0.4909 - val_accuracy: 0.8328\n",
            "Epoch 10/20\n",
            "188/188 [==============================] - 1s 4ms/step - loss: 0.4806 - accuracy: 0.8376 - val_loss: 0.4801 - val_accuracy: 0.8367\n",
            "Epoch 11/20\n",
            "188/188 [==============================] - 1s 4ms/step - loss: 0.4701 - accuracy: 0.8405 - val_loss: 0.4780 - val_accuracy: 0.8345\n",
            "Epoch 12/20\n",
            "188/188 [==============================] - 1s 4ms/step - loss: 0.4623 - accuracy: 0.8430 - val_loss: 0.4737 - val_accuracy: 0.8357\n",
            "Epoch 13/20\n",
            "188/188 [==============================] - 1s 4ms/step - loss: 0.4547 - accuracy: 0.8452 - val_loss: 0.4774 - val_accuracy: 0.8313\n",
            "Epoch 14/20\n",
            "188/188 [==============================] - 1s 4ms/step - loss: 0.4476 - accuracy: 0.8466 - val_loss: 0.4506 - val_accuracy: 0.8432\n",
            "Epoch 15/20\n",
            "188/188 [==============================] - 1s 4ms/step - loss: 0.4419 - accuracy: 0.8489 - val_loss: 0.4513 - val_accuracy: 0.8437\n",
            "Epoch 16/20\n",
            "188/188 [==============================] - 1s 4ms/step - loss: 0.4367 - accuracy: 0.8509 - val_loss: 0.4468 - val_accuracy: 0.8442\n",
            "Epoch 17/20\n",
            "188/188 [==============================] - 1s 4ms/step - loss: 0.4314 - accuracy: 0.8521 - val_loss: 0.4423 - val_accuracy: 0.8457\n",
            "Epoch 18/20\n",
            "188/188 [==============================] - 1s 4ms/step - loss: 0.4270 - accuracy: 0.8533 - val_loss: 0.4388 - val_accuracy: 0.8478\n",
            "Epoch 19/20\n",
            "188/188 [==============================] - 1s 4ms/step - loss: 0.4225 - accuracy: 0.8551 - val_loss: 0.4343 - val_accuracy: 0.8472\n",
            "Epoch 20/20\n",
            "188/188 [==============================] - 1s 4ms/step - loss: 0.4182 - accuracy: 0.8562 - val_loss: 0.4322 - val_accuracy: 0.8478\n"
          ],
          "name": "stdout"
        },
        {
          "output_type": "display_data",
          "data": {
            "text/html": [
              "<span style=\"color:#4527A0\"><h1 style=\"font-size:18px\">Trial complete</h1></span>"
            ],
            "text/plain": [
              "<IPython.core.display.HTML object>"
            ]
          },
          "metadata": {
            "tags": []
          }
        },
        {
          "output_type": "display_data",
          "data": {
            "text/html": [
              "<span style=\"color:#4527A0\"><h1 style=\"font-size:18px\">Trial summary</h1></span>"
            ],
            "text/plain": [
              "<IPython.core.display.HTML object>"
            ]
          },
          "metadata": {
            "tags": []
          }
        },
        {
          "output_type": "display_data",
          "data": {
            "text/html": [
              "<span style=\"color:cyan\"> |-Trial ID: e9c7561e50a3d3d1a2010fe0bd8f1469</span>"
            ],
            "text/plain": [
              "<IPython.core.display.HTML object>"
            ]
          },
          "metadata": {
            "tags": []
          }
        },
        {
          "output_type": "display_data",
          "data": {
            "text/html": [
              "<span style=\"color:cyan\"> |-Score: 0.8478333353996277</span>"
            ],
            "text/plain": [
              "<IPython.core.display.HTML object>"
            ]
          },
          "metadata": {
            "tags": []
          }
        },
        {
          "output_type": "display_data",
          "data": {
            "text/html": [
              "<span style=\"color:cyan\"> |-Best step: 0</span>"
            ],
            "text/plain": [
              "<IPython.core.display.HTML object>"
            ]
          },
          "metadata": {
            "tags": []
          }
        },
        {
          "output_type": "display_data",
          "data": {
            "text/html": [
              "<span style=\"color:#7E57C2\"><h2 style=\"font-size:16px\">Hyperparameters:</h2></span>"
            ],
            "text/plain": [
              "<IPython.core.display.HTML object>"
            ]
          },
          "metadata": {
            "tags": []
          }
        },
        {
          "output_type": "display_data",
          "data": {
            "text/html": [
              "<span style=\"color:cyan\"> |-activation: relu</span>"
            ],
            "text/plain": [
              "<IPython.core.display.HTML object>"
            ]
          },
          "metadata": {
            "tags": []
          }
        },
        {
          "output_type": "display_data",
          "data": {
            "text/html": [
              "<span style=\"color:blue\"> |-optimizer: SGD</span>"
            ],
            "text/plain": [
              "<IPython.core.display.HTML object>"
            ]
          },
          "metadata": {
            "tags": []
          }
        },
        {
          "output_type": "display_data",
          "data": {
            "text/html": [
              "<span style=\"color:cyan\"> |-units_hidden: 256</span>"
            ],
            "text/plain": [
              "<IPython.core.display.HTML object>"
            ]
          },
          "metadata": {
            "tags": []
          }
        },
        {
          "output_type": "display_data",
          "data": {
            "text/html": [
              "<span style=\"color:blue\"> |-units_input: 544</span>"
            ],
            "text/plain": [
              "<IPython.core.display.HTML object>"
            ]
          },
          "metadata": {
            "tags": []
          }
        },
        {
          "output_type": "stream",
          "text": [
            "Epoch 1/20\n",
            "188/188 [==============================] - 1s 4ms/step - loss: 0.8691 - accuracy: 0.7185 - val_loss: 0.6415 - val_accuracy: 0.7763\n",
            "Epoch 2/20\n",
            "188/188 [==============================] - 1s 4ms/step - loss: 0.5872 - accuracy: 0.8025 - val_loss: 0.5500 - val_accuracy: 0.8112\n",
            "Epoch 3/20\n",
            "188/188 [==============================] - 1s 4ms/step - loss: 0.5288 - accuracy: 0.8205 - val_loss: 0.5194 - val_accuracy: 0.8134\n",
            "Epoch 4/20\n",
            "188/188 [==============================] - 1s 4ms/step - loss: 0.4987 - accuracy: 0.8289 - val_loss: 0.4939 - val_accuracy: 0.8251\n",
            "Epoch 5/20\n",
            "188/188 [==============================] - 1s 4ms/step - loss: 0.4789 - accuracy: 0.8356 - val_loss: 0.4829 - val_accuracy: 0.8289\n",
            "Epoch 6/20\n",
            "188/188 [==============================] - 1s 4ms/step - loss: 0.4643 - accuracy: 0.8413 - val_loss: 0.4823 - val_accuracy: 0.8257\n",
            "Epoch 7/20\n",
            "188/188 [==============================] - 1s 4ms/step - loss: 0.4530 - accuracy: 0.8430 - val_loss: 0.4603 - val_accuracy: 0.8358\n",
            "Epoch 8/20\n",
            "188/188 [==============================] - 1s 4ms/step - loss: 0.4437 - accuracy: 0.8464 - val_loss: 0.4471 - val_accuracy: 0.8409\n",
            "Epoch 9/20\n",
            "188/188 [==============================] - 1s 4ms/step - loss: 0.4364 - accuracy: 0.8483 - val_loss: 0.4417 - val_accuracy: 0.8426\n",
            "Epoch 10/20\n",
            "188/188 [==============================] - 1s 4ms/step - loss: 0.4298 - accuracy: 0.8512 - val_loss: 0.4366 - val_accuracy: 0.8412\n",
            "Epoch 11/20\n",
            "188/188 [==============================] - 1s 4ms/step - loss: 0.4236 - accuracy: 0.8526 - val_loss: 0.4309 - val_accuracy: 0.8475\n",
            "Epoch 12/20\n",
            "188/188 [==============================] - 1s 4ms/step - loss: 0.4189 - accuracy: 0.8547 - val_loss: 0.4277 - val_accuracy: 0.8481\n",
            "Epoch 13/20\n",
            "188/188 [==============================] - 1s 4ms/step - loss: 0.4150 - accuracy: 0.8556 - val_loss: 0.4301 - val_accuracy: 0.8468\n",
            "Epoch 14/20\n",
            "188/188 [==============================] - 1s 4ms/step - loss: 0.4097 - accuracy: 0.8579 - val_loss: 0.4179 - val_accuracy: 0.8514\n",
            "Epoch 15/20\n",
            "188/188 [==============================] - 1s 4ms/step - loss: 0.4066 - accuracy: 0.8575 - val_loss: 0.4177 - val_accuracy: 0.8490\n",
            "Epoch 16/20\n",
            "188/188 [==============================] - 1s 4ms/step - loss: 0.4018 - accuracy: 0.8595 - val_loss: 0.4225 - val_accuracy: 0.8485\n",
            "Epoch 17/20\n",
            "188/188 [==============================] - 1s 4ms/step - loss: 0.3982 - accuracy: 0.8618 - val_loss: 0.4093 - val_accuracy: 0.8546\n",
            "Epoch 18/20\n",
            "188/188 [==============================] - 1s 4ms/step - loss: 0.3956 - accuracy: 0.8622 - val_loss: 0.4147 - val_accuracy: 0.8508\n",
            "Epoch 19/20\n",
            "188/188 [==============================] - 1s 4ms/step - loss: 0.3932 - accuracy: 0.8621 - val_loss: 0.4151 - val_accuracy: 0.8522\n",
            "Epoch 20/20\n",
            "188/188 [==============================] - 1s 4ms/step - loss: 0.3904 - accuracy: 0.8639 - val_loss: 0.4069 - val_accuracy: 0.8537\n"
          ],
          "name": "stdout"
        },
        {
          "output_type": "display_data",
          "data": {
            "text/html": [
              "<span style=\"color:#4527A0\"><h1 style=\"font-size:18px\">Trial complete</h1></span>"
            ],
            "text/plain": [
              "<IPython.core.display.HTML object>"
            ]
          },
          "metadata": {
            "tags": []
          }
        },
        {
          "output_type": "display_data",
          "data": {
            "text/html": [
              "<span style=\"color:#4527A0\"><h1 style=\"font-size:18px\">Trial summary</h1></span>"
            ],
            "text/plain": [
              "<IPython.core.display.HTML object>"
            ]
          },
          "metadata": {
            "tags": []
          }
        },
        {
          "output_type": "display_data",
          "data": {
            "text/html": [
              "<span style=\"color:cyan\"> |-Trial ID: 199f829bcbf37fd816c3c5562d18ee89</span>"
            ],
            "text/plain": [
              "<IPython.core.display.HTML object>"
            ]
          },
          "metadata": {
            "tags": []
          }
        },
        {
          "output_type": "display_data",
          "data": {
            "text/html": [
              "<span style=\"color:cyan\"> |-Score: 0.8545833230018616</span>"
            ],
            "text/plain": [
              "<IPython.core.display.HTML object>"
            ]
          },
          "metadata": {
            "tags": []
          }
        },
        {
          "output_type": "display_data",
          "data": {
            "text/html": [
              "<span style=\"color:cyan\"> |-Best step: 0</span>"
            ],
            "text/plain": [
              "<IPython.core.display.HTML object>"
            ]
          },
          "metadata": {
            "tags": []
          }
        },
        {
          "output_type": "display_data",
          "data": {
            "text/html": [
              "<span style=\"color:#7E57C2\"><h2 style=\"font-size:16px\">Hyperparameters:</h2></span>"
            ],
            "text/plain": [
              "<IPython.core.display.HTML object>"
            ]
          },
          "metadata": {
            "tags": []
          }
        },
        {
          "output_type": "display_data",
          "data": {
            "text/html": [
              "<span style=\"color:cyan\"> |-activation: selu</span>"
            ],
            "text/plain": [
              "<IPython.core.display.HTML object>"
            ]
          },
          "metadata": {
            "tags": []
          }
        },
        {
          "output_type": "display_data",
          "data": {
            "text/html": [
              "<span style=\"color:blue\"> |-optimizer: SGD</span>"
            ],
            "text/plain": [
              "<IPython.core.display.HTML object>"
            ]
          },
          "metadata": {
            "tags": []
          }
        },
        {
          "output_type": "display_data",
          "data": {
            "text/html": [
              "<span style=\"color:cyan\"> |-units_hidden: 160</span>"
            ],
            "text/plain": [
              "<IPython.core.display.HTML object>"
            ]
          },
          "metadata": {
            "tags": []
          }
        },
        {
          "output_type": "display_data",
          "data": {
            "text/html": [
              "<span style=\"color:blue\"> |-units_input: 512</span>"
            ],
            "text/plain": [
              "<IPython.core.display.HTML object>"
            ]
          },
          "metadata": {
            "tags": []
          }
        },
        {
          "output_type": "stream",
          "text": [
            "Epoch 1/20\n",
            "188/188 [==============================] - 1s 5ms/step - loss: 0.6177 - accuracy: 0.8009 - val_loss: 0.4633 - val_accuracy: 0.8332\n",
            "Epoch 2/20\n",
            "188/188 [==============================] - 1s 5ms/step - loss: 0.4104 - accuracy: 0.8524 - val_loss: 0.4105 - val_accuracy: 0.8556\n",
            "Epoch 3/20\n",
            "188/188 [==============================] - 1s 4ms/step - loss: 0.3728 - accuracy: 0.8643 - val_loss: 0.4477 - val_accuracy: 0.8353\n",
            "Epoch 4/20\n",
            "188/188 [==============================] - 1s 4ms/step - loss: 0.3481 - accuracy: 0.8712 - val_loss: 0.3678 - val_accuracy: 0.8687\n",
            "Epoch 5/20\n",
            "188/188 [==============================] - 1s 5ms/step - loss: 0.3203 - accuracy: 0.8816 - val_loss: 0.3526 - val_accuracy: 0.8720\n",
            "Epoch 6/20\n",
            "188/188 [==============================] - 1s 4ms/step - loss: 0.3099 - accuracy: 0.8852 - val_loss: 0.3795 - val_accuracy: 0.8602\n",
            "Epoch 7/20\n",
            "188/188 [==============================] - 1s 4ms/step - loss: 0.2917 - accuracy: 0.8916 - val_loss: 0.3450 - val_accuracy: 0.8769\n",
            "Epoch 8/20\n",
            "188/188 [==============================] - 1s 5ms/step - loss: 0.2868 - accuracy: 0.8948 - val_loss: 0.3422 - val_accuracy: 0.8754\n",
            "Epoch 9/20\n",
            "188/188 [==============================] - 1s 4ms/step - loss: 0.2661 - accuracy: 0.9021 - val_loss: 0.3575 - val_accuracy: 0.8692\n",
            "Epoch 10/20\n",
            "188/188 [==============================] - 1s 4ms/step - loss: 0.2625 - accuracy: 0.9021 - val_loss: 0.3577 - val_accuracy: 0.8774\n",
            "Epoch 11/20\n",
            "188/188 [==============================] - 1s 4ms/step - loss: 0.2452 - accuracy: 0.9093 - val_loss: 0.3331 - val_accuracy: 0.8794\n",
            "Epoch 12/20\n",
            "188/188 [==============================] - 1s 4ms/step - loss: 0.2379 - accuracy: 0.9112 - val_loss: 0.3495 - val_accuracy: 0.8776\n",
            "Epoch 13/20\n",
            "188/188 [==============================] - 1s 5ms/step - loss: 0.2348 - accuracy: 0.9129 - val_loss: 0.3458 - val_accuracy: 0.8843\n",
            "Epoch 14/20\n",
            "188/188 [==============================] - 1s 5ms/step - loss: 0.2243 - accuracy: 0.9163 - val_loss: 0.3216 - val_accuracy: 0.8868\n",
            "Epoch 15/20\n",
            "188/188 [==============================] - 1s 5ms/step - loss: 0.2183 - accuracy: 0.9199 - val_loss: 0.3230 - val_accuracy: 0.8899\n",
            "Epoch 16/20\n",
            "188/188 [==============================] - 1s 4ms/step - loss: 0.2075 - accuracy: 0.9217 - val_loss: 0.3419 - val_accuracy: 0.8836\n",
            "Epoch 17/20\n",
            "188/188 [==============================] - 1s 4ms/step - loss: 0.1976 - accuracy: 0.9251 - val_loss: 0.3517 - val_accuracy: 0.8847\n",
            "Epoch 18/20\n",
            "188/188 [==============================] - 1s 4ms/step - loss: 0.1978 - accuracy: 0.9247 - val_loss: 0.3441 - val_accuracy: 0.8882\n",
            "Epoch 19/20\n",
            "188/188 [==============================] - 1s 4ms/step - loss: 0.1845 - accuracy: 0.9305 - val_loss: 0.3395 - val_accuracy: 0.8863\n",
            "Epoch 20/20\n",
            "188/188 [==============================] - 1s 4ms/step - loss: 0.1759 - accuracy: 0.9334 - val_loss: 0.3395 - val_accuracy: 0.8883\n"
          ],
          "name": "stdout"
        },
        {
          "output_type": "display_data",
          "data": {
            "text/html": [
              "<span style=\"color:#4527A0\"><h1 style=\"font-size:18px\">Trial complete</h1></span>"
            ],
            "text/plain": [
              "<IPython.core.display.HTML object>"
            ]
          },
          "metadata": {
            "tags": []
          }
        },
        {
          "output_type": "display_data",
          "data": {
            "text/html": [
              "<span style=\"color:#4527A0\"><h1 style=\"font-size:18px\">Trial summary</h1></span>"
            ],
            "text/plain": [
              "<IPython.core.display.HTML object>"
            ]
          },
          "metadata": {
            "tags": []
          }
        },
        {
          "output_type": "display_data",
          "data": {
            "text/html": [
              "<span style=\"color:cyan\"> |-Trial ID: 81c9f7a77c7243b6fcc9f0f7a7b837f9</span>"
            ],
            "text/plain": [
              "<IPython.core.display.HTML object>"
            ]
          },
          "metadata": {
            "tags": []
          }
        },
        {
          "output_type": "display_data",
          "data": {
            "text/html": [
              "<span style=\"color:cyan\"> |-Score: 0.8899166584014893</span>"
            ],
            "text/plain": [
              "<IPython.core.display.HTML object>"
            ]
          },
          "metadata": {
            "tags": []
          }
        },
        {
          "output_type": "display_data",
          "data": {
            "text/html": [
              "<span style=\"color:cyan\"> |-Best step: 0</span>"
            ],
            "text/plain": [
              "<IPython.core.display.HTML object>"
            ]
          },
          "metadata": {
            "tags": []
          }
        },
        {
          "output_type": "display_data",
          "data": {
            "text/html": [
              "<span style=\"color:#7E57C2\"><h2 style=\"font-size:16px\">Hyperparameters:</h2></span>"
            ],
            "text/plain": [
              "<IPython.core.display.HTML object>"
            ]
          },
          "metadata": {
            "tags": []
          }
        },
        {
          "output_type": "display_data",
          "data": {
            "text/html": [
              "<span style=\"color:cyan\"> |-activation: selu</span>"
            ],
            "text/plain": [
              "<IPython.core.display.HTML object>"
            ]
          },
          "metadata": {
            "tags": []
          }
        },
        {
          "output_type": "display_data",
          "data": {
            "text/html": [
              "<span style=\"color:blue\"> |-optimizer: adam</span>"
            ],
            "text/plain": [
              "<IPython.core.display.HTML object>"
            ]
          },
          "metadata": {
            "tags": []
          }
        },
        {
          "output_type": "display_data",
          "data": {
            "text/html": [
              "<span style=\"color:cyan\"> |-units_hidden: 448</span>"
            ],
            "text/plain": [
              "<IPython.core.display.HTML object>"
            ]
          },
          "metadata": {
            "tags": []
          }
        },
        {
          "output_type": "display_data",
          "data": {
            "text/html": [
              "<span style=\"color:blue\"> |-units_input: 768</span>"
            ],
            "text/plain": [
              "<IPython.core.display.HTML object>"
            ]
          },
          "metadata": {
            "tags": []
          }
        },
        {
          "output_type": "stream",
          "text": [
            "Epoch 1/20\n",
            "188/188 [==============================] - 1s 5ms/step - loss: 0.7519 - accuracy: 0.7341 - val_loss: 0.6347 - val_accuracy: 0.7593\n",
            "Epoch 2/20\n",
            "188/188 [==============================] - 1s 4ms/step - loss: 0.4719 - accuracy: 0.8234 - val_loss: 0.4232 - val_accuracy: 0.8416\n",
            "Epoch 3/20\n",
            "188/188 [==============================] - 1s 5ms/step - loss: 0.4048 - accuracy: 0.8479 - val_loss: 0.4529 - val_accuracy: 0.8444\n",
            "Epoch 4/20\n",
            "188/188 [==============================] - 1s 5ms/step - loss: 0.3585 - accuracy: 0.8647 - val_loss: 0.3890 - val_accuracy: 0.8528\n",
            "Epoch 5/20\n",
            "188/188 [==============================] - 1s 5ms/step - loss: 0.3322 - accuracy: 0.8751 - val_loss: 0.3795 - val_accuracy: 0.8622\n",
            "Epoch 6/20\n",
            "188/188 [==============================] - 1s 5ms/step - loss: 0.3107 - accuracy: 0.8821 - val_loss: 0.3834 - val_accuracy: 0.8589\n",
            "Epoch 7/20\n",
            "188/188 [==============================] - 1s 5ms/step - loss: 0.2905 - accuracy: 0.8895 - val_loss: 0.3440 - val_accuracy: 0.8723\n",
            "Epoch 8/20\n",
            "188/188 [==============================] - 1s 5ms/step - loss: 0.2772 - accuracy: 0.8943 - val_loss: 0.3443 - val_accuracy: 0.8712\n",
            "Epoch 9/20\n",
            "188/188 [==============================] - 1s 4ms/step - loss: 0.2605 - accuracy: 0.9020 - val_loss: 0.3429 - val_accuracy: 0.8694\n",
            "Epoch 10/20\n",
            "188/188 [==============================] - 1s 4ms/step - loss: 0.2509 - accuracy: 0.9058 - val_loss: 0.3651 - val_accuracy: 0.8658\n",
            "Epoch 11/20\n",
            "188/188 [==============================] - 1s 4ms/step - loss: 0.2401 - accuracy: 0.9078 - val_loss: 0.3000 - val_accuracy: 0.8898\n",
            "Epoch 12/20\n",
            "188/188 [==============================] - 1s 4ms/step - loss: 0.2272 - accuracy: 0.9132 - val_loss: 0.3211 - val_accuracy: 0.8850\n",
            "Epoch 13/20\n",
            "188/188 [==============================] - 1s 4ms/step - loss: 0.2187 - accuracy: 0.9170 - val_loss: 0.3121 - val_accuracy: 0.8899\n",
            "Epoch 14/20\n",
            "188/188 [==============================] - 1s 5ms/step - loss: 0.2078 - accuracy: 0.9212 - val_loss: 0.3348 - val_accuracy: 0.8838\n",
            "Epoch 15/20\n",
            "188/188 [==============================] - 1s 5ms/step - loss: 0.1995 - accuracy: 0.9239 - val_loss: 0.2984 - val_accuracy: 0.8942\n",
            "Epoch 16/20\n",
            "188/188 [==============================] - 1s 4ms/step - loss: 0.1908 - accuracy: 0.9274 - val_loss: 0.3344 - val_accuracy: 0.8784\n",
            "Epoch 17/20\n",
            "188/188 [==============================] - 1s 4ms/step - loss: 0.1831 - accuracy: 0.9308 - val_loss: 0.3470 - val_accuracy: 0.8797\n",
            "Epoch 18/20\n",
            "188/188 [==============================] - 1s 4ms/step - loss: 0.1732 - accuracy: 0.9346 - val_loss: 0.3376 - val_accuracy: 0.8845\n",
            "Epoch 19/20\n",
            "188/188 [==============================] - 1s 4ms/step - loss: 0.1655 - accuracy: 0.9380 - val_loss: 0.3090 - val_accuracy: 0.8917\n",
            "Epoch 20/20\n",
            "188/188 [==============================] - 1s 5ms/step - loss: 0.1592 - accuracy: 0.9401 - val_loss: 0.3656 - val_accuracy: 0.8816\n"
          ],
          "name": "stdout"
        },
        {
          "output_type": "display_data",
          "data": {
            "text/html": [
              "<span style=\"color:#4527A0\"><h1 style=\"font-size:18px\">Trial complete</h1></span>"
            ],
            "text/plain": [
              "<IPython.core.display.HTML object>"
            ]
          },
          "metadata": {
            "tags": []
          }
        },
        {
          "output_type": "display_data",
          "data": {
            "text/html": [
              "<span style=\"color:#4527A0\"><h1 style=\"font-size:18px\">Trial summary</h1></span>"
            ],
            "text/plain": [
              "<IPython.core.display.HTML object>"
            ]
          },
          "metadata": {
            "tags": []
          }
        },
        {
          "output_type": "display_data",
          "data": {
            "text/html": [
              "<span style=\"color:cyan\"> |-Trial ID: 517019d2bb76e55255071a33044b6ee7</span>"
            ],
            "text/plain": [
              "<IPython.core.display.HTML object>"
            ]
          },
          "metadata": {
            "tags": []
          }
        },
        {
          "output_type": "display_data",
          "data": {
            "text/html": [
              "<span style=\"color:cyan\"> |-Score: 0.8942499756813049</span>"
            ],
            "text/plain": [
              "<IPython.core.display.HTML object>"
            ]
          },
          "metadata": {
            "tags": []
          }
        },
        {
          "output_type": "display_data",
          "data": {
            "text/html": [
              "<span style=\"color:cyan\"> |-Best step: 0</span>"
            ],
            "text/plain": [
              "<IPython.core.display.HTML object>"
            ]
          },
          "metadata": {
            "tags": []
          }
        },
        {
          "output_type": "display_data",
          "data": {
            "text/html": [
              "<span style=\"color:#7E57C2\"><h2 style=\"font-size:16px\">Hyperparameters:</h2></span>"
            ],
            "text/plain": [
              "<IPython.core.display.HTML object>"
            ]
          },
          "metadata": {
            "tags": []
          }
        },
        {
          "output_type": "display_data",
          "data": {
            "text/html": [
              "<span style=\"color:cyan\"> |-activation: tanh</span>"
            ],
            "text/plain": [
              "<IPython.core.display.HTML object>"
            ]
          },
          "metadata": {
            "tags": []
          }
        },
        {
          "output_type": "display_data",
          "data": {
            "text/html": [
              "<span style=\"color:blue\"> |-optimizer: rmsprop</span>"
            ],
            "text/plain": [
              "<IPython.core.display.HTML object>"
            ]
          },
          "metadata": {
            "tags": []
          }
        },
        {
          "output_type": "display_data",
          "data": {
            "text/html": [
              "<span style=\"color:cyan\"> |-units_hidden: 416</span>"
            ],
            "text/plain": [
              "<IPython.core.display.HTML object>"
            ]
          },
          "metadata": {
            "tags": []
          }
        },
        {
          "output_type": "display_data",
          "data": {
            "text/html": [
              "<span style=\"color:blue\"> |-units_input: 576</span>"
            ],
            "text/plain": [
              "<IPython.core.display.HTML object>"
            ]
          },
          "metadata": {
            "tags": []
          }
        },
        {
          "output_type": "stream",
          "text": [
            "Epoch 1/20\n",
            "188/188 [==============================] - 1s 5ms/step - loss: 0.5200 - accuracy: 0.8150 - val_loss: 0.3897 - val_accuracy: 0.8569\n",
            "Epoch 2/20\n",
            "188/188 [==============================] - 1s 5ms/step - loss: 0.3611 - accuracy: 0.8684 - val_loss: 0.3638 - val_accuracy: 0.8706\n",
            "Epoch 3/20\n",
            "188/188 [==============================] - 1s 5ms/step - loss: 0.3196 - accuracy: 0.8825 - val_loss: 0.3439 - val_accuracy: 0.8733\n",
            "Epoch 4/20\n",
            "188/188 [==============================] - 1s 5ms/step - loss: 0.2980 - accuracy: 0.8902 - val_loss: 0.3256 - val_accuracy: 0.8797\n",
            "Epoch 5/20\n",
            "188/188 [==============================] - 1s 5ms/step - loss: 0.2744 - accuracy: 0.8975 - val_loss: 0.3193 - val_accuracy: 0.8858\n",
            "Epoch 6/20\n",
            "188/188 [==============================] - 1s 5ms/step - loss: 0.2619 - accuracy: 0.9022 - val_loss: 0.3220 - val_accuracy: 0.8829\n",
            "Epoch 7/20\n",
            "188/188 [==============================] - 1s 5ms/step - loss: 0.2495 - accuracy: 0.9066 - val_loss: 0.3077 - val_accuracy: 0.8898\n",
            "Epoch 8/20\n",
            "188/188 [==============================] - 1s 5ms/step - loss: 0.2345 - accuracy: 0.9129 - val_loss: 0.3184 - val_accuracy: 0.8867\n",
            "Epoch 9/20\n",
            "188/188 [==============================] - 1s 5ms/step - loss: 0.2256 - accuracy: 0.9136 - val_loss: 0.3065 - val_accuracy: 0.8928\n",
            "Epoch 10/20\n",
            "188/188 [==============================] - 1s 5ms/step - loss: 0.2148 - accuracy: 0.9187 - val_loss: 0.3145 - val_accuracy: 0.8899\n",
            "Epoch 11/20\n",
            "188/188 [==============================] - 1s 5ms/step - loss: 0.2046 - accuracy: 0.9238 - val_loss: 0.3088 - val_accuracy: 0.8968\n",
            "Epoch 12/20\n",
            "188/188 [==============================] - 1s 5ms/step - loss: 0.1941 - accuracy: 0.9268 - val_loss: 0.3318 - val_accuracy: 0.8898\n",
            "Epoch 13/20\n",
            "188/188 [==============================] - 1s 4ms/step - loss: 0.1869 - accuracy: 0.9299 - val_loss: 0.3126 - val_accuracy: 0.8950\n",
            "Epoch 14/20\n",
            "188/188 [==============================] - 1s 5ms/step - loss: 0.1813 - accuracy: 0.9314 - val_loss: 0.3279 - val_accuracy: 0.8941\n",
            "Epoch 15/20\n",
            "188/188 [==============================] - 1s 5ms/step - loss: 0.1748 - accuracy: 0.9331 - val_loss: 0.3267 - val_accuracy: 0.8916\n",
            "Epoch 16/20\n",
            "188/188 [==============================] - 1s 5ms/step - loss: 0.1662 - accuracy: 0.9367 - val_loss: 0.3363 - val_accuracy: 0.8932\n",
            "Epoch 17/20\n",
            "188/188 [==============================] - 1s 5ms/step - loss: 0.1685 - accuracy: 0.9366 - val_loss: 0.3144 - val_accuracy: 0.8958\n",
            "Epoch 18/20\n",
            "188/188 [==============================] - 1s 5ms/step - loss: 0.1553 - accuracy: 0.9402 - val_loss: 0.3420 - val_accuracy: 0.8932\n",
            "Epoch 19/20\n",
            "188/188 [==============================] - 1s 5ms/step - loss: 0.1452 - accuracy: 0.9456 - val_loss: 0.3302 - val_accuracy: 0.8959\n",
            "Epoch 20/20\n",
            "188/188 [==============================] - 1s 5ms/step - loss: 0.1384 - accuracy: 0.9477 - val_loss: 0.3459 - val_accuracy: 0.8915\n"
          ],
          "name": "stdout"
        },
        {
          "output_type": "display_data",
          "data": {
            "text/html": [
              "<span style=\"color:#4527A0\"><h1 style=\"font-size:18px\">Trial complete</h1></span>"
            ],
            "text/plain": [
              "<IPython.core.display.HTML object>"
            ]
          },
          "metadata": {
            "tags": []
          }
        },
        {
          "output_type": "display_data",
          "data": {
            "text/html": [
              "<span style=\"color:#4527A0\"><h1 style=\"font-size:18px\">Trial summary</h1></span>"
            ],
            "text/plain": [
              "<IPython.core.display.HTML object>"
            ]
          },
          "metadata": {
            "tags": []
          }
        },
        {
          "output_type": "display_data",
          "data": {
            "text/html": [
              "<span style=\"color:cyan\"> |-Trial ID: 6764925aa5740d2f9cb35c55164ca42f</span>"
            ],
            "text/plain": [
              "<IPython.core.display.HTML object>"
            ]
          },
          "metadata": {
            "tags": []
          }
        },
        {
          "output_type": "display_data",
          "data": {
            "text/html": [
              "<span style=\"color:cyan\"> |-Score: 0.8968333601951599</span>"
            ],
            "text/plain": [
              "<IPython.core.display.HTML object>"
            ]
          },
          "metadata": {
            "tags": []
          }
        },
        {
          "output_type": "display_data",
          "data": {
            "text/html": [
              "<span style=\"color:cyan\"> |-Best step: 0</span>"
            ],
            "text/plain": [
              "<IPython.core.display.HTML object>"
            ]
          },
          "metadata": {
            "tags": []
          }
        },
        {
          "output_type": "display_data",
          "data": {
            "text/html": [
              "<span style=\"color:#7E57C2\"><h2 style=\"font-size:16px\">Hyperparameters:</h2></span>"
            ],
            "text/plain": [
              "<IPython.core.display.HTML object>"
            ]
          },
          "metadata": {
            "tags": []
          }
        },
        {
          "output_type": "display_data",
          "data": {
            "text/html": [
              "<span style=\"color:cyan\"> |-activation: relu</span>"
            ],
            "text/plain": [
              "<IPython.core.display.HTML object>"
            ]
          },
          "metadata": {
            "tags": []
          }
        },
        {
          "output_type": "display_data",
          "data": {
            "text/html": [
              "<span style=\"color:blue\"> |-optimizer: adam</span>"
            ],
            "text/plain": [
              "<IPython.core.display.HTML object>"
            ]
          },
          "metadata": {
            "tags": []
          }
        },
        {
          "output_type": "display_data",
          "data": {
            "text/html": [
              "<span style=\"color:cyan\"> |-units_hidden: 544</span>"
            ],
            "text/plain": [
              "<IPython.core.display.HTML object>"
            ]
          },
          "metadata": {
            "tags": []
          }
        },
        {
          "output_type": "display_data",
          "data": {
            "text/html": [
              "<span style=\"color:blue\"> |-units_input: 960</span>"
            ],
            "text/plain": [
              "<IPython.core.display.HTML object>"
            ]
          },
          "metadata": {
            "tags": []
          }
        },
        {
          "output_type": "stream",
          "text": [
            "INFO:tensorflow:Oracle triggered exit\n"
          ],
          "name": "stdout"
        }
      ]
    },
    {
      "cell_type": "markdown",
      "metadata": {
        "id": "KlPTC0r3pLyB"
      },
      "source": [
        "## Выбираем лучшую модель"
      ]
    },
    {
      "cell_type": "code",
      "metadata": {
        "id": "i1TDBMF6ORNW",
        "outputId": "48da8373-1e6c-49b5-8e63-9819a84c75b8",
        "colab": {
          "base_uri": "https://localhost:8080/",
          "height": 1000
        }
      },
      "source": [
        "tuner.results_summary()"
      ],
      "execution_count": 9,
      "outputs": [
        {
          "output_type": "display_data",
          "data": {
            "text/html": [
              "<span style=\"color:#4527A0\"><h1 style=\"font-size:18px\">Results summary</h1></span>"
            ],
            "text/plain": [
              "<IPython.core.display.HTML object>"
            ]
          },
          "metadata": {
            "tags": []
          }
        },
        {
          "output_type": "display_data",
          "data": {
            "text/html": [
              "<span style=\"color:cyan\"> |-Results in test_directory/untitled_project</span>"
            ],
            "text/plain": [
              "<IPython.core.display.HTML object>"
            ]
          },
          "metadata": {
            "tags": []
          }
        },
        {
          "output_type": "display_data",
          "data": {
            "text/html": [
              "<span style=\"color:cyan\"> |-Showing 10 best trials</span>"
            ],
            "text/plain": [
              "<IPython.core.display.HTML object>"
            ]
          },
          "metadata": {
            "tags": []
          }
        },
        {
          "output_type": "display_data",
          "data": {
            "text/html": [
              "<span style=\"color:cyan\"> |-Objective(name='val_accuracy', direction='max')</span>"
            ],
            "text/plain": [
              "<IPython.core.display.HTML object>"
            ]
          },
          "metadata": {
            "tags": []
          }
        },
        {
          "output_type": "display_data",
          "data": {
            "text/html": [
              "<span style=\"color:#4527A0\"><h1 style=\"font-size:18px\">Trial summary</h1></span>"
            ],
            "text/plain": [
              "<IPython.core.display.HTML object>"
            ]
          },
          "metadata": {
            "tags": []
          }
        },
        {
          "output_type": "display_data",
          "data": {
            "text/html": [
              "<span style=\"color:cyan\"> |-Trial ID: d764e159ff511ee3a06c2e5d17aeb9c6</span>"
            ],
            "text/plain": [
              "<IPython.core.display.HTML object>"
            ]
          },
          "metadata": {
            "tags": []
          }
        },
        {
          "output_type": "display_data",
          "data": {
            "text/html": [
              "<span style=\"color:cyan\"> |-Score: 0.8989999890327454</span>"
            ],
            "text/plain": [
              "<IPython.core.display.HTML object>"
            ]
          },
          "metadata": {
            "tags": []
          }
        },
        {
          "output_type": "display_data",
          "data": {
            "text/html": [
              "<span style=\"color:cyan\"> |-Best step: 0</span>"
            ],
            "text/plain": [
              "<IPython.core.display.HTML object>"
            ]
          },
          "metadata": {
            "tags": []
          }
        },
        {
          "output_type": "display_data",
          "data": {
            "text/html": [
              "<span style=\"color:#7E57C2\"><h2 style=\"font-size:16px\">Hyperparameters:</h2></span>"
            ],
            "text/plain": [
              "<IPython.core.display.HTML object>"
            ]
          },
          "metadata": {
            "tags": []
          }
        },
        {
          "output_type": "display_data",
          "data": {
            "text/html": [
              "<span style=\"color:cyan\"> |-activation: relu</span>"
            ],
            "text/plain": [
              "<IPython.core.display.HTML object>"
            ]
          },
          "metadata": {
            "tags": []
          }
        },
        {
          "output_type": "display_data",
          "data": {
            "text/html": [
              "<span style=\"color:blue\"> |-optimizer: adam</span>"
            ],
            "text/plain": [
              "<IPython.core.display.HTML object>"
            ]
          },
          "metadata": {
            "tags": []
          }
        },
        {
          "output_type": "display_data",
          "data": {
            "text/html": [
              "<span style=\"color:cyan\"> |-units_hidden: 320</span>"
            ],
            "text/plain": [
              "<IPython.core.display.HTML object>"
            ]
          },
          "metadata": {
            "tags": []
          }
        },
        {
          "output_type": "display_data",
          "data": {
            "text/html": [
              "<span style=\"color:blue\"> |-units_input: 704</span>"
            ],
            "text/plain": [
              "<IPython.core.display.HTML object>"
            ]
          },
          "metadata": {
            "tags": []
          }
        },
        {
          "output_type": "display_data",
          "data": {
            "text/html": [
              "<span style=\"color:#4527A0\"><h1 style=\"font-size:18px\">Trial summary</h1></span>"
            ],
            "text/plain": [
              "<IPython.core.display.HTML object>"
            ]
          },
          "metadata": {
            "tags": []
          }
        },
        {
          "output_type": "display_data",
          "data": {
            "text/html": [
              "<span style=\"color:cyan\"> |-Trial ID: 9e635a8b83587597479b75b188a9a71c</span>"
            ],
            "text/plain": [
              "<IPython.core.display.HTML object>"
            ]
          },
          "metadata": {
            "tags": []
          }
        },
        {
          "output_type": "display_data",
          "data": {
            "text/html": [
              "<span style=\"color:cyan\"> |-Score: 0.8988333344459534</span>"
            ],
            "text/plain": [
              "<IPython.core.display.HTML object>"
            ]
          },
          "metadata": {
            "tags": []
          }
        },
        {
          "output_type": "display_data",
          "data": {
            "text/html": [
              "<span style=\"color:cyan\"> |-Best step: 0</span>"
            ],
            "text/plain": [
              "<IPython.core.display.HTML object>"
            ]
          },
          "metadata": {
            "tags": []
          }
        },
        {
          "output_type": "display_data",
          "data": {
            "text/html": [
              "<span style=\"color:#7E57C2\"><h2 style=\"font-size:16px\">Hyperparameters:</h2></span>"
            ],
            "text/plain": [
              "<IPython.core.display.HTML object>"
            ]
          },
          "metadata": {
            "tags": []
          }
        },
        {
          "output_type": "display_data",
          "data": {
            "text/html": [
              "<span style=\"color:cyan\"> |-activation: relu</span>"
            ],
            "text/plain": [
              "<IPython.core.display.HTML object>"
            ]
          },
          "metadata": {
            "tags": []
          }
        },
        {
          "output_type": "display_data",
          "data": {
            "text/html": [
              "<span style=\"color:blue\"> |-optimizer: adam</span>"
            ],
            "text/plain": [
              "<IPython.core.display.HTML object>"
            ]
          },
          "metadata": {
            "tags": []
          }
        },
        {
          "output_type": "display_data",
          "data": {
            "text/html": [
              "<span style=\"color:cyan\"> |-units_hidden: 576</span>"
            ],
            "text/plain": [
              "<IPython.core.display.HTML object>"
            ]
          },
          "metadata": {
            "tags": []
          }
        },
        {
          "output_type": "display_data",
          "data": {
            "text/html": [
              "<span style=\"color:blue\"> |-units_input: 832</span>"
            ],
            "text/plain": [
              "<IPython.core.display.HTML object>"
            ]
          },
          "metadata": {
            "tags": []
          }
        },
        {
          "output_type": "display_data",
          "data": {
            "text/html": [
              "<span style=\"color:#4527A0\"><h1 style=\"font-size:18px\">Trial summary</h1></span>"
            ],
            "text/plain": [
              "<IPython.core.display.HTML object>"
            ]
          },
          "metadata": {
            "tags": []
          }
        },
        {
          "output_type": "display_data",
          "data": {
            "text/html": [
              "<span style=\"color:cyan\"> |-Trial ID: 0b452671a1f236d15b97b0e75fcc4c8d</span>"
            ],
            "text/plain": [
              "<IPython.core.display.HTML object>"
            ]
          },
          "metadata": {
            "tags": []
          }
        },
        {
          "output_type": "display_data",
          "data": {
            "text/html": [
              "<span style=\"color:cyan\"> |-Score: 0.8983333110809326</span>"
            ],
            "text/plain": [
              "<IPython.core.display.HTML object>"
            ]
          },
          "metadata": {
            "tags": []
          }
        },
        {
          "output_type": "display_data",
          "data": {
            "text/html": [
              "<span style=\"color:cyan\"> |-Best step: 0</span>"
            ],
            "text/plain": [
              "<IPython.core.display.HTML object>"
            ]
          },
          "metadata": {
            "tags": []
          }
        },
        {
          "output_type": "display_data",
          "data": {
            "text/html": [
              "<span style=\"color:#7E57C2\"><h2 style=\"font-size:16px\">Hyperparameters:</h2></span>"
            ],
            "text/plain": [
              "<IPython.core.display.HTML object>"
            ]
          },
          "metadata": {
            "tags": []
          }
        },
        {
          "output_type": "display_data",
          "data": {
            "text/html": [
              "<span style=\"color:cyan\"> |-activation: relu</span>"
            ],
            "text/plain": [
              "<IPython.core.display.HTML object>"
            ]
          },
          "metadata": {
            "tags": []
          }
        },
        {
          "output_type": "display_data",
          "data": {
            "text/html": [
              "<span style=\"color:blue\"> |-optimizer: adam</span>"
            ],
            "text/plain": [
              "<IPython.core.display.HTML object>"
            ]
          },
          "metadata": {
            "tags": []
          }
        },
        {
          "output_type": "display_data",
          "data": {
            "text/html": [
              "<span style=\"color:cyan\"> |-units_hidden: 160</span>"
            ],
            "text/plain": [
              "<IPython.core.display.HTML object>"
            ]
          },
          "metadata": {
            "tags": []
          }
        },
        {
          "output_type": "display_data",
          "data": {
            "text/html": [
              "<span style=\"color:blue\"> |-units_input: 896</span>"
            ],
            "text/plain": [
              "<IPython.core.display.HTML object>"
            ]
          },
          "metadata": {
            "tags": []
          }
        },
        {
          "output_type": "display_data",
          "data": {
            "text/html": [
              "<span style=\"color:#4527A0\"><h1 style=\"font-size:18px\">Trial summary</h1></span>"
            ],
            "text/plain": [
              "<IPython.core.display.HTML object>"
            ]
          },
          "metadata": {
            "tags": []
          }
        },
        {
          "output_type": "display_data",
          "data": {
            "text/html": [
              "<span style=\"color:cyan\"> |-Trial ID: abdc563045a02106d6db4b1926be9a19</span>"
            ],
            "text/plain": [
              "<IPython.core.display.HTML object>"
            ]
          },
          "metadata": {
            "tags": []
          }
        },
        {
          "output_type": "display_data",
          "data": {
            "text/html": [
              "<span style=\"color:cyan\"> |-Score: 0.8971666693687439</span>"
            ],
            "text/plain": [
              "<IPython.core.display.HTML object>"
            ]
          },
          "metadata": {
            "tags": []
          }
        },
        {
          "output_type": "display_data",
          "data": {
            "text/html": [
              "<span style=\"color:cyan\"> |-Best step: 0</span>"
            ],
            "text/plain": [
              "<IPython.core.display.HTML object>"
            ]
          },
          "metadata": {
            "tags": []
          }
        },
        {
          "output_type": "display_data",
          "data": {
            "text/html": [
              "<span style=\"color:#7E57C2\"><h2 style=\"font-size:16px\">Hyperparameters:</h2></span>"
            ],
            "text/plain": [
              "<IPython.core.display.HTML object>"
            ]
          },
          "metadata": {
            "tags": []
          }
        },
        {
          "output_type": "display_data",
          "data": {
            "text/html": [
              "<span style=\"color:cyan\"> |-activation: relu</span>"
            ],
            "text/plain": [
              "<IPython.core.display.HTML object>"
            ]
          },
          "metadata": {
            "tags": []
          }
        },
        {
          "output_type": "display_data",
          "data": {
            "text/html": [
              "<span style=\"color:blue\"> |-optimizer: adam</span>"
            ],
            "text/plain": [
              "<IPython.core.display.HTML object>"
            ]
          },
          "metadata": {
            "tags": []
          }
        },
        {
          "output_type": "display_data",
          "data": {
            "text/html": [
              "<span style=\"color:cyan\"> |-units_hidden: 480</span>"
            ],
            "text/plain": [
              "<IPython.core.display.HTML object>"
            ]
          },
          "metadata": {
            "tags": []
          }
        },
        {
          "output_type": "display_data",
          "data": {
            "text/html": [
              "<span style=\"color:blue\"> |-units_input: 704</span>"
            ],
            "text/plain": [
              "<IPython.core.display.HTML object>"
            ]
          },
          "metadata": {
            "tags": []
          }
        },
        {
          "output_type": "display_data",
          "data": {
            "text/html": [
              "<span style=\"color:#4527A0\"><h1 style=\"font-size:18px\">Trial summary</h1></span>"
            ],
            "text/plain": [
              "<IPython.core.display.HTML object>"
            ]
          },
          "metadata": {
            "tags": []
          }
        },
        {
          "output_type": "display_data",
          "data": {
            "text/html": [
              "<span style=\"color:cyan\"> |-Trial ID: 6764925aa5740d2f9cb35c55164ca42f</span>"
            ],
            "text/plain": [
              "<IPython.core.display.HTML object>"
            ]
          },
          "metadata": {
            "tags": []
          }
        },
        {
          "output_type": "display_data",
          "data": {
            "text/html": [
              "<span style=\"color:cyan\"> |-Score: 0.8968333601951599</span>"
            ],
            "text/plain": [
              "<IPython.core.display.HTML object>"
            ]
          },
          "metadata": {
            "tags": []
          }
        },
        {
          "output_type": "display_data",
          "data": {
            "text/html": [
              "<span style=\"color:cyan\"> |-Best step: 0</span>"
            ],
            "text/plain": [
              "<IPython.core.display.HTML object>"
            ]
          },
          "metadata": {
            "tags": []
          }
        },
        {
          "output_type": "display_data",
          "data": {
            "text/html": [
              "<span style=\"color:#7E57C2\"><h2 style=\"font-size:16px\">Hyperparameters:</h2></span>"
            ],
            "text/plain": [
              "<IPython.core.display.HTML object>"
            ]
          },
          "metadata": {
            "tags": []
          }
        },
        {
          "output_type": "display_data",
          "data": {
            "text/html": [
              "<span style=\"color:cyan\"> |-activation: relu</span>"
            ],
            "text/plain": [
              "<IPython.core.display.HTML object>"
            ]
          },
          "metadata": {
            "tags": []
          }
        },
        {
          "output_type": "display_data",
          "data": {
            "text/html": [
              "<span style=\"color:blue\"> |-optimizer: adam</span>"
            ],
            "text/plain": [
              "<IPython.core.display.HTML object>"
            ]
          },
          "metadata": {
            "tags": []
          }
        },
        {
          "output_type": "display_data",
          "data": {
            "text/html": [
              "<span style=\"color:cyan\"> |-units_hidden: 544</span>"
            ],
            "text/plain": [
              "<IPython.core.display.HTML object>"
            ]
          },
          "metadata": {
            "tags": []
          }
        },
        {
          "output_type": "display_data",
          "data": {
            "text/html": [
              "<span style=\"color:blue\"> |-units_input: 960</span>"
            ],
            "text/plain": [
              "<IPython.core.display.HTML object>"
            ]
          },
          "metadata": {
            "tags": []
          }
        },
        {
          "output_type": "display_data",
          "data": {
            "text/html": [
              "<span style=\"color:#4527A0\"><h1 style=\"font-size:18px\">Trial summary</h1></span>"
            ],
            "text/plain": [
              "<IPython.core.display.HTML object>"
            ]
          },
          "metadata": {
            "tags": []
          }
        },
        {
          "output_type": "display_data",
          "data": {
            "text/html": [
              "<span style=\"color:cyan\"> |-Trial ID: 61d277caeed5af4e94ab8c8904f92e75</span>"
            ],
            "text/plain": [
              "<IPython.core.display.HTML object>"
            ]
          },
          "metadata": {
            "tags": []
          }
        },
        {
          "output_type": "display_data",
          "data": {
            "text/html": [
              "<span style=\"color:cyan\"> |-Score: 0.8967499732971191</span>"
            ],
            "text/plain": [
              "<IPython.core.display.HTML object>"
            ]
          },
          "metadata": {
            "tags": []
          }
        },
        {
          "output_type": "display_data",
          "data": {
            "text/html": [
              "<span style=\"color:cyan\"> |-Best step: 0</span>"
            ],
            "text/plain": [
              "<IPython.core.display.HTML object>"
            ]
          },
          "metadata": {
            "tags": []
          }
        },
        {
          "output_type": "display_data",
          "data": {
            "text/html": [
              "<span style=\"color:#7E57C2\"><h2 style=\"font-size:16px\">Hyperparameters:</h2></span>"
            ],
            "text/plain": [
              "<IPython.core.display.HTML object>"
            ]
          },
          "metadata": {
            "tags": []
          }
        },
        {
          "output_type": "display_data",
          "data": {
            "text/html": [
              "<span style=\"color:cyan\"> |-activation: elu</span>"
            ],
            "text/plain": [
              "<IPython.core.display.HTML object>"
            ]
          },
          "metadata": {
            "tags": []
          }
        },
        {
          "output_type": "display_data",
          "data": {
            "text/html": [
              "<span style=\"color:blue\"> |-optimizer: adam</span>"
            ],
            "text/plain": [
              "<IPython.core.display.HTML object>"
            ]
          },
          "metadata": {
            "tags": []
          }
        },
        {
          "output_type": "display_data",
          "data": {
            "text/html": [
              "<span style=\"color:cyan\"> |-units_hidden: 512</span>"
            ],
            "text/plain": [
              "<IPython.core.display.HTML object>"
            ]
          },
          "metadata": {
            "tags": []
          }
        },
        {
          "output_type": "display_data",
          "data": {
            "text/html": [
              "<span style=\"color:blue\"> |-units_input: 864</span>"
            ],
            "text/plain": [
              "<IPython.core.display.HTML object>"
            ]
          },
          "metadata": {
            "tags": []
          }
        },
        {
          "output_type": "display_data",
          "data": {
            "text/html": [
              "<span style=\"color:#4527A0\"><h1 style=\"font-size:18px\">Trial summary</h1></span>"
            ],
            "text/plain": [
              "<IPython.core.display.HTML object>"
            ]
          },
          "metadata": {
            "tags": []
          }
        },
        {
          "output_type": "display_data",
          "data": {
            "text/html": [
              "<span style=\"color:cyan\"> |-Trial ID: 30667a429432db2c538455aaab10f853</span>"
            ],
            "text/plain": [
              "<IPython.core.display.HTML object>"
            ]
          },
          "metadata": {
            "tags": []
          }
        },
        {
          "output_type": "display_data",
          "data": {
            "text/html": [
              "<span style=\"color:cyan\"> |-Score: 0.8964999914169312</span>"
            ],
            "text/plain": [
              "<IPython.core.display.HTML object>"
            ]
          },
          "metadata": {
            "tags": []
          }
        },
        {
          "output_type": "display_data",
          "data": {
            "text/html": [
              "<span style=\"color:cyan\"> |-Best step: 0</span>"
            ],
            "text/plain": [
              "<IPython.core.display.HTML object>"
            ]
          },
          "metadata": {
            "tags": []
          }
        },
        {
          "output_type": "display_data",
          "data": {
            "text/html": [
              "<span style=\"color:#7E57C2\"><h2 style=\"font-size:16px\">Hyperparameters:</h2></span>"
            ],
            "text/plain": [
              "<IPython.core.display.HTML object>"
            ]
          },
          "metadata": {
            "tags": []
          }
        },
        {
          "output_type": "display_data",
          "data": {
            "text/html": [
              "<span style=\"color:cyan\"> |-activation: elu</span>"
            ],
            "text/plain": [
              "<IPython.core.display.HTML object>"
            ]
          },
          "metadata": {
            "tags": []
          }
        },
        {
          "output_type": "display_data",
          "data": {
            "text/html": [
              "<span style=\"color:blue\"> |-optimizer: adam</span>"
            ],
            "text/plain": [
              "<IPython.core.display.HTML object>"
            ]
          },
          "metadata": {
            "tags": []
          }
        },
        {
          "output_type": "display_data",
          "data": {
            "text/html": [
              "<span style=\"color:cyan\"> |-units_hidden: 192</span>"
            ],
            "text/plain": [
              "<IPython.core.display.HTML object>"
            ]
          },
          "metadata": {
            "tags": []
          }
        },
        {
          "output_type": "display_data",
          "data": {
            "text/html": [
              "<span style=\"color:blue\"> |-units_input: 832</span>"
            ],
            "text/plain": [
              "<IPython.core.display.HTML object>"
            ]
          },
          "metadata": {
            "tags": []
          }
        },
        {
          "output_type": "display_data",
          "data": {
            "text/html": [
              "<span style=\"color:#4527A0\"><h1 style=\"font-size:18px\">Trial summary</h1></span>"
            ],
            "text/plain": [
              "<IPython.core.display.HTML object>"
            ]
          },
          "metadata": {
            "tags": []
          }
        },
        {
          "output_type": "display_data",
          "data": {
            "text/html": [
              "<span style=\"color:cyan\"> |-Trial ID: 48bfc5d42a08c5e61a7236687b37f3eb</span>"
            ],
            "text/plain": [
              "<IPython.core.display.HTML object>"
            ]
          },
          "metadata": {
            "tags": []
          }
        },
        {
          "output_type": "display_data",
          "data": {
            "text/html": [
              "<span style=\"color:cyan\"> |-Score: 0.8960000276565552</span>"
            ],
            "text/plain": [
              "<IPython.core.display.HTML object>"
            ]
          },
          "metadata": {
            "tags": []
          }
        },
        {
          "output_type": "display_data",
          "data": {
            "text/html": [
              "<span style=\"color:cyan\"> |-Best step: 0</span>"
            ],
            "text/plain": [
              "<IPython.core.display.HTML object>"
            ]
          },
          "metadata": {
            "tags": []
          }
        },
        {
          "output_type": "display_data",
          "data": {
            "text/html": [
              "<span style=\"color:#7E57C2\"><h2 style=\"font-size:16px\">Hyperparameters:</h2></span>"
            ],
            "text/plain": [
              "<IPython.core.display.HTML object>"
            ]
          },
          "metadata": {
            "tags": []
          }
        },
        {
          "output_type": "display_data",
          "data": {
            "text/html": [
              "<span style=\"color:cyan\"> |-activation: tanh</span>"
            ],
            "text/plain": [
              "<IPython.core.display.HTML object>"
            ]
          },
          "metadata": {
            "tags": []
          }
        },
        {
          "output_type": "display_data",
          "data": {
            "text/html": [
              "<span style=\"color:blue\"> |-optimizer: adam</span>"
            ],
            "text/plain": [
              "<IPython.core.display.HTML object>"
            ]
          },
          "metadata": {
            "tags": []
          }
        },
        {
          "output_type": "display_data",
          "data": {
            "text/html": [
              "<span style=\"color:cyan\"> |-units_hidden: 512</span>"
            ],
            "text/plain": [
              "<IPython.core.display.HTML object>"
            ]
          },
          "metadata": {
            "tags": []
          }
        },
        {
          "output_type": "display_data",
          "data": {
            "text/html": [
              "<span style=\"color:blue\"> |-units_input: 608</span>"
            ],
            "text/plain": [
              "<IPython.core.display.HTML object>"
            ]
          },
          "metadata": {
            "tags": []
          }
        },
        {
          "output_type": "display_data",
          "data": {
            "text/html": [
              "<span style=\"color:#4527A0\"><h1 style=\"font-size:18px\">Trial summary</h1></span>"
            ],
            "text/plain": [
              "<IPython.core.display.HTML object>"
            ]
          },
          "metadata": {
            "tags": []
          }
        },
        {
          "output_type": "display_data",
          "data": {
            "text/html": [
              "<span style=\"color:cyan\"> |-Trial ID: 4fe13df61cea45f42d67f234bedb8fa8</span>"
            ],
            "text/plain": [
              "<IPython.core.display.HTML object>"
            ]
          },
          "metadata": {
            "tags": []
          }
        },
        {
          "output_type": "display_data",
          "data": {
            "text/html": [
              "<span style=\"color:cyan\"> |-Score: 0.8960000276565552</span>"
            ],
            "text/plain": [
              "<IPython.core.display.HTML object>"
            ]
          },
          "metadata": {
            "tags": []
          }
        },
        {
          "output_type": "display_data",
          "data": {
            "text/html": [
              "<span style=\"color:cyan\"> |-Best step: 0</span>"
            ],
            "text/plain": [
              "<IPython.core.display.HTML object>"
            ]
          },
          "metadata": {
            "tags": []
          }
        },
        {
          "output_type": "display_data",
          "data": {
            "text/html": [
              "<span style=\"color:#7E57C2\"><h2 style=\"font-size:16px\">Hyperparameters:</h2></span>"
            ],
            "text/plain": [
              "<IPython.core.display.HTML object>"
            ]
          },
          "metadata": {
            "tags": []
          }
        },
        {
          "output_type": "display_data",
          "data": {
            "text/html": [
              "<span style=\"color:cyan\"> |-activation: elu</span>"
            ],
            "text/plain": [
              "<IPython.core.display.HTML object>"
            ]
          },
          "metadata": {
            "tags": []
          }
        },
        {
          "output_type": "display_data",
          "data": {
            "text/html": [
              "<span style=\"color:blue\"> |-optimizer: adam</span>"
            ],
            "text/plain": [
              "<IPython.core.display.HTML object>"
            ]
          },
          "metadata": {
            "tags": []
          }
        },
        {
          "output_type": "display_data",
          "data": {
            "text/html": [
              "<span style=\"color:cyan\"> |-units_hidden: 224</span>"
            ],
            "text/plain": [
              "<IPython.core.display.HTML object>"
            ]
          },
          "metadata": {
            "tags": []
          }
        },
        {
          "output_type": "display_data",
          "data": {
            "text/html": [
              "<span style=\"color:blue\"> |-units_input: 832</span>"
            ],
            "text/plain": [
              "<IPython.core.display.HTML object>"
            ]
          },
          "metadata": {
            "tags": []
          }
        },
        {
          "output_type": "display_data",
          "data": {
            "text/html": [
              "<span style=\"color:#4527A0\"><h1 style=\"font-size:18px\">Trial summary</h1></span>"
            ],
            "text/plain": [
              "<IPython.core.display.HTML object>"
            ]
          },
          "metadata": {
            "tags": []
          }
        },
        {
          "output_type": "display_data",
          "data": {
            "text/html": [
              "<span style=\"color:cyan\"> |-Trial ID: f3bd0c879bbfc72b514f25fecae7efda</span>"
            ],
            "text/plain": [
              "<IPython.core.display.HTML object>"
            ]
          },
          "metadata": {
            "tags": []
          }
        },
        {
          "output_type": "display_data",
          "data": {
            "text/html": [
              "<span style=\"color:cyan\"> |-Score: 0.8960000276565552</span>"
            ],
            "text/plain": [
              "<IPython.core.display.HTML object>"
            ]
          },
          "metadata": {
            "tags": []
          }
        },
        {
          "output_type": "display_data",
          "data": {
            "text/html": [
              "<span style=\"color:cyan\"> |-Best step: 0</span>"
            ],
            "text/plain": [
              "<IPython.core.display.HTML object>"
            ]
          },
          "metadata": {
            "tags": []
          }
        },
        {
          "output_type": "display_data",
          "data": {
            "text/html": [
              "<span style=\"color:#7E57C2\"><h2 style=\"font-size:16px\">Hyperparameters:</h2></span>"
            ],
            "text/plain": [
              "<IPython.core.display.HTML object>"
            ]
          },
          "metadata": {
            "tags": []
          }
        },
        {
          "output_type": "display_data",
          "data": {
            "text/html": [
              "<span style=\"color:cyan\"> |-activation: tanh</span>"
            ],
            "text/plain": [
              "<IPython.core.display.HTML object>"
            ]
          },
          "metadata": {
            "tags": []
          }
        },
        {
          "output_type": "display_data",
          "data": {
            "text/html": [
              "<span style=\"color:blue\"> |-optimizer: adam</span>"
            ],
            "text/plain": [
              "<IPython.core.display.HTML object>"
            ]
          },
          "metadata": {
            "tags": []
          }
        },
        {
          "output_type": "display_data",
          "data": {
            "text/html": [
              "<span style=\"color:cyan\"> |-units_hidden: 512</span>"
            ],
            "text/plain": [
              "<IPython.core.display.HTML object>"
            ]
          },
          "metadata": {
            "tags": []
          }
        },
        {
          "output_type": "display_data",
          "data": {
            "text/html": [
              "<span style=\"color:blue\"> |-units_input: 704</span>"
            ],
            "text/plain": [
              "<IPython.core.display.HTML object>"
            ]
          },
          "metadata": {
            "tags": []
          }
        }
      ]
    },
    {
      "cell_type": "markdown",
      "metadata": {
        "id": "_it8FZ8epSue"
      },
      "source": [
        "Получаем три лучших модели"
      ]
    },
    {
      "cell_type": "code",
      "metadata": {
        "id": "31_zCfjqQVL6"
      },
      "source": [
        "models = tuner.get_best_models(num_models=3)"
      ],
      "execution_count": 10,
      "outputs": []
    },
    {
      "cell_type": "markdown",
      "metadata": {
        "id": "Oje7bSQppVkF"
      },
      "source": [
        "Оцениваем качество модели на тестовых данных"
      ]
    },
    {
      "cell_type": "code",
      "metadata": {
        "id": "CUoo7iM-bBht",
        "outputId": "6bf67bdc-11e7-4b67-e849-6307ce1df27e",
        "colab": {
          "base_uri": "https://localhost:8080/"
        }
      },
      "source": [
        "for model in models:\n",
        "  model.summary()\n",
        "  model.evaluate(x_test, y_test)\n",
        "  print() "
      ],
      "execution_count": 11,
      "outputs": [
        {
          "output_type": "stream",
          "text": [
            "Model: \"sequential\"\n",
            "_________________________________________________________________\n",
            "Layer (type)                 Output Shape              Param #   \n",
            "=================================================================\n",
            "dense (Dense)                (None, 704)               552640    \n",
            "_________________________________________________________________\n",
            "dense_1 (Dense)              (None, 320)               225600    \n",
            "_________________________________________________________________\n",
            "dense_2 (Dense)              (None, 10)                3210      \n",
            "=================================================================\n",
            "Total params: 781,450\n",
            "Trainable params: 781,450\n",
            "Non-trainable params: 0\n",
            "_________________________________________________________________\n",
            "313/313 [==============================] - 1s 2ms/step - loss: 0.3491 - accuracy: 0.8911\n",
            "\n",
            "Model: \"sequential\"\n",
            "_________________________________________________________________\n",
            "Layer (type)                 Output Shape              Param #   \n",
            "=================================================================\n",
            "dense (Dense)                (None, 832)               653120    \n",
            "_________________________________________________________________\n",
            "dense_1 (Dense)              (None, 576)               479808    \n",
            "_________________________________________________________________\n",
            "dense_2 (Dense)              (None, 10)                5770      \n",
            "=================================================================\n",
            "Total params: 1,138,698\n",
            "Trainable params: 1,138,698\n",
            "Non-trainable params: 0\n",
            "_________________________________________________________________\n",
            "313/313 [==============================] - 1s 2ms/step - loss: 0.3635 - accuracy: 0.8922\n",
            "\n",
            "Model: \"sequential\"\n",
            "_________________________________________________________________\n",
            "Layer (type)                 Output Shape              Param #   \n",
            "=================================================================\n",
            "dense (Dense)                (None, 896)               703360    \n",
            "_________________________________________________________________\n",
            "dense_1 (Dense)              (None, 160)               143520    \n",
            "_________________________________________________________________\n",
            "dense_2 (Dense)              (None, 10)                1610      \n",
            "=================================================================\n",
            "Total params: 848,490\n",
            "Trainable params: 848,490\n",
            "Non-trainable params: 0\n",
            "_________________________________________________________________\n",
            "313/313 [==============================] - 1s 2ms/step - loss: 0.3329 - accuracy: 0.8892\n",
            "\n"
          ],
          "name": "stdout"
        }
      ]
    }
  ]
}